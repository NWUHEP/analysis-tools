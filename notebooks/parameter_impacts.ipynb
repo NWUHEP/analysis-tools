{
 "cells": [
  {
   "cell_type": "markdown",
   "metadata": {},
   "source": [
    "## Estimating individual systematic contributions\n",
    "\n",
    "The effect of any individual systematic uncertainty is somewhat complicated by it's mutual covariance with the POI (i.e., the W branching fractions) and any other systematic uncertainty.  To get a rough idea of the percent-wise contribution to the total uncertainty from each individual systematic, I use the following scheme:\n",
    "\n",
    "   * the fit is carried out as in the nominal case and $\\sigma_{0}$ is estimated\n",
    "   * the fit is carried out for for each of the $n$ nuisance parameters $\\sigma_{theta}$\n",
    "   * the difference between the nominal case and the $n-1$ case is calculated,\n",
    "   * this quantity is normalized to $\\sum_{\\theta} \\sigma_{\\theta}^{2}$"
   ]
  },
  {
   "cell_type": "code",
   "execution_count": 1,
   "metadata": {
    "ExecuteTime": {
     "end_time": "2020-01-30T05:32:41.528935Z",
     "start_time": "2020-01-30T05:32:41.282245Z"
    },
    "code_folding": [
     0
    ]
   },
   "outputs": [
    {
     "name": "stdout",
     "output_type": "stream",
     "text": [
      "/home/naodell/work/wbr/analysis\n",
      "{\n",
      "  \"shell_port\": 57879,\n",
      "  \"iopub_port\": 60185,\n",
      "  \"stdin_port\": 51935,\n",
      "  \"control_port\": 43631,\n",
      "  \"hb_port\": 51459,\n",
      "  \"ip\": \"127.0.0.1\",\n",
      "  \"key\": \"2fb65ad7-8ca0f5995cba786b925b5141\",\n",
      "  \"transport\": \"tcp\",\n",
      "  \"signature_scheme\": \"hmac-sha256\",\n",
      "  \"kernel_name\": \"\"\n",
      "}\n",
      "\n",
      "Paste the above JSON into a file, and connect with:\n",
      "    $> jupyter <app> --existing <file>\n",
      "or, if you are local, you can connect with just:\n",
      "    $> jupyter <app> --existing kernel-f44b9ef1-8fa9-4eaa-9cef-7163d7efbc74.json\n",
      "or even just:\n",
      "    $> jupyter <app> --existing\n",
      "if this is the most recent Jupyter kernel you have started.\n"
     ]
    }
   ],
   "source": [
    "## imports and configuration\n",
    "%cd '/home/naodell/work/wbr/analysis'\n",
    "#%load_ext autoreload\n",
    "\n",
    "from multiprocessing import Pool\n",
    "from functools import partial\n",
    "import numpy as np\n",
    "import pandas as pd\n",
    "import matplotlib.pyplot as plt\n",
    "import matplotlib\n",
    "from scipy.optimize import minimize\n",
    "from tqdm import tqdm_notebook, trange\n",
    "\n",
    "import scripts.plot_tools as pt\n",
    "import scripts.fit_helpers as fh\n",
    "\n",
    "np.set_printoptions(precision=3)\n",
    "rc_params = {\n",
    "             'figure.figsize': (10, 10),\n",
    "             'axes.labelsize': 20,\n",
    "             'axes.facecolor': 'white',\n",
    "             'axes.titlesize':'x-large',\n",
    "             'legend.fontsize': 20,\n",
    "             'xtick.labelsize':18,\n",
    "             'ytick.labelsize':18,\n",
    "             'font.size':18,\n",
    "             'font.sans-serif':['Arial', 'sans-serif'],\n",
    "             'mathtext.sf':'Arial',\n",
    "             'lines.markersize':8.,\n",
    "             'lines.linewidth':2.5,\n",
    "            }\n",
    "matplotlib.rcParams.update(rc_params)\n",
    "\n",
    "%connect_info"
   ]
  },
  {
   "cell_type": "code",
   "execution_count": 2,
   "metadata": {
    "ExecuteTime": {
     "end_time": "2020-01-30T05:32:41.890952Z",
     "start_time": "2020-01-30T05:32:41.530206Z"
    },
    "code_folding": [],
    "scrolled": false
   },
   "outputs": [],
   "source": [
    "# configure, get the input data, and do any additional processing that is needed\n",
    "processes = ['ttbar', 't', 'ww', 'wjets', 'zjets_alt', 'diboson', 'fakes'] \n",
    "selections = [\n",
    "              'ee',  'mumu',  \n",
    "              'emu', \n",
    "              'mutau', 'etau', \n",
    "              'mu4j', 'e4j'\n",
    "             ]\n",
    "plot_labels = fh.fancy_labels\n",
    "\n",
    "# initialize fit data\n",
    "infile = open('local_data/fit_data_postfit.pkl', 'rb')\n",
    "fit_data = pickle.load(infile)\n",
    "infile.close()\n",
    "\n",
    "# get fit parameters\n",
    "parameters = pd.read_csv('data/model_parameters_asimov.csv', index_col='name')"
   ]
  },
  {
   "cell_type": "code",
   "execution_count": 3,
   "metadata": {
    "ExecuteTime": {
     "end_time": "2020-01-30T05:32:41.904227Z",
     "start_time": "2020-01-30T05:32:41.892179Z"
    },
    "code_folding": [],
    "scrolled": true
   },
   "outputs": [],
   "source": [
    "# prepare Asimov dataset\n",
    "asimov_data = {cat:fit_data.mixture_model(parameters.val_init.values, cat) for cat in fit_data._model_data.keys()}"
   ]
  },
  {
   "cell_type": "code",
   "execution_count": 4,
   "metadata": {
    "ExecuteTime": {
     "end_time": "2020-01-30T05:32:41.912280Z",
     "start_time": "2020-01-30T05:32:41.906251Z"
    },
    "code_folding": [
     0
    ]
   },
   "outputs": [],
   "source": [
    "# initialize veto list\n",
    "fit_data.veto_list = [\n",
    "    # baseline\n",
    "    #'ee_cat_gt2_eq1_b', 'ee_cat_gt2_gt2_b', \n",
    "    #'mumu_cat_gt2_eq1_b', 'mumu_cat_gt2_gt2_b', \n",
    "    #'emu_cat_gt2_eq1_a', 'emu_cat_gt2_gt2_a', \n",
    "    #'etau_cat_eq2_eq1', 'etau_cat_gt3_eq1', 'etau_cat_eq2_gt2', 'etau_cat_gt3_gt2', \n",
    "    #'mutau_cat_eq2_eq1', 'mutau_cat_gt3_eq1', 'mutau_cat_eq2_gt2', 'mutau_cat_gt3_gt2', \n",
    "    #'e4j_cat_gt4_eq1', 'e4j_cat_gt4_gt2',\n",
    "    #'mu4j_cat_gt4_eq1', 'mu4j_cat_gt4_gt2', \n",
    "    'e4j_cat_eq3_gt2', 'mu4j_cat_eq3_gt2',\n",
    "    \n",
    "    # e/mu DY CR\n",
    "    'ee_cat_gt2_eq0',  'mumu_cat_gt2_eq0', \n",
    "    \n",
    "    # e+mu additional ttbar\n",
    "    #'emu_cat_gt2_eq0', 'emu_cat_eq1_eq0_a', 'emu_cat_eq1_eq1_a', \n",
    "    \n",
    "    # e+mu WW\n",
    "    #'emu_cat_eq0_eq0_a', \n",
    "    \n",
    "    # e/mu+tau additional CR\n",
    "    #'mutau_cat_eq0_eq0', 'mutau_cat_eq1_eq0', \n",
    "    #'mutau_cat_gt2_eq0', 'mutau_cat_eq1_eq1', \n",
    "    #'etau_cat_eq0_eq0', 'etau_cat_eq1_eq0', \n",
    "    #'etau_cat_gt2_eq0', 'etau_cat_eq1_eq1', \n",
    "]"
   ]
  },
  {
   "cell_type": "code",
   "execution_count": 5,
   "metadata": {
    "ExecuteTime": {
     "end_time": "2020-01-30T05:32:41.923967Z",
     "start_time": "2020-01-30T05:32:41.914289Z"
    },
    "code_folding": []
   },
   "outputs": [],
   "source": [
    "# fit configuration #\n",
    "\n",
    "# minimizer options\n",
    "#steps = 4*[1e-4, ] \n",
    "#steps += list(0.05*fit_data._perr_init[4: fit_data._nnorm + 7])\n",
    "#steps += list(0.05*fit_data._perr_init[fit_data._npoi + fit_data._nnorm:])\n",
    "#steps = np.array(steps)\n",
    "min_options = dict(\n",
    "                   #finite_diff_rel_step=steps,\n",
    "                   #verbose=3,\n",
    "                   #eps=1e-9, \n",
    "                   gtol = 1e-3,\n",
    "                   disp = True\n",
    "                  )\n",
    "\n",
    "# configure the objective\n",
    "sample = asimov_data\n",
    "fobj = partial(fit_data.objective,\n",
    "               data = sample,\n",
    "               do_bb_lite = True,\n",
    "               lu_test = None\n",
    "              )\n",
    "\n",
    "fobj_jac = partial(fit_data.objective_jacobian,\n",
    "                   data = sample,\n",
    "                   do_bb_lite = True,\n",
    "                   lu_test = None\n",
    "                  )\n"
   ]
  },
  {
   "cell_type": "code",
   "execution_count": 6,
   "metadata": {
    "ExecuteTime": {
     "end_time": "2020-01-30T11:51:52.951963Z",
     "start_time": "2020-01-30T05:32:41.925680Z"
    },
    "code_folding": [],
    "scrolled": true
   },
   "outputs": [
    {
     "data": {
      "application/vnd.jupyter.widget-view+json": {
       "model_id": "799aa7d99633455dad8d7487d1fc032d",
       "version_major": 2,
       "version_minor": 0
      },
      "text/plain": [
       "HBox(children=(IntProgress(value=0, max=112), HTML(value='')))"
      ]
     },
     "metadata": {},
     "output_type": "display_data"
    },
    {
     "name": "stdout",
     "output_type": "stream",
     "text": [
      "4 br_tau_e 0.1774 0.0004 0.1774 0.00039995186158182927 8.464340339742221e-12\n"
     ]
    },
    {
     "name": "stderr",
     "output_type": "stream",
     "text": [
      "/home/naodell/opt/anaconda3/lib/python3.7/site-packages/numdifftools/limits.py:182: FutureWarning: arrays to stack must be passed as a \"sequence\" type such as list or tuple. Support for non-sequence iterables such as generators is deprecated as of NumPy 1.16 and will raise an error in the future.\n",
      "  f_del = np.vstack(list(np.ravel(r)) for r in sequence)\n",
      "/home/naodell/opt/anaconda3/lib/python3.7/site-packages/numdifftools/limits.py:184: FutureWarning: arrays to stack must be passed as a \"sequence\" type such as list or tuple. Support for non-sequence iterables such as generators is deprecated as of NumPy 1.16 and will raise an error in the future.\n",
      "  for step in steps)\n"
     ]
    },
    {
     "name": "stdout",
     "output_type": "stream",
     "text": [
      "0.17779995186158182 0.5082910003703465\n",
      "Warning: Desired error not necessarily achieved due to precision loss.\n",
      "         Current function value: 0.500001\n",
      "         Iterations: 44\n",
      "         Function evaluations: 87\n",
      "         Gradient evaluations: 77\n",
      "[-0.013  0.002  0.002  0.001] 0.5000007263488931\n",
      "0.1770000481384182 0.5082920912217235\n",
      "Optimization terminated successfully.\n",
      "         Current function value: 0.500001\n",
      "         Iterations: 43\n",
      "         Function evaluations: 62\n",
      "         Gradient evaluations: 62\n",
      "[ 0.013 -0.002 -0.002 -0.001] 0.5000010626149465\n",
      "5 br_tau_mu 0.173 0.0004 0.173 0.00039937223234409177 8.464340339742221e-12\n"
     ]
    },
    {
     "name": "stderr",
     "output_type": "stream",
     "text": [
      "/home/naodell/opt/anaconda3/lib/python3.7/site-packages/numdifftools/limits.py:182: FutureWarning: arrays to stack must be passed as a \"sequence\" type such as list or tuple. Support for non-sequence iterables such as generators is deprecated as of NumPy 1.16 and will raise an error in the future.\n",
      "  f_del = np.vstack(list(np.ravel(r)) for r in sequence)\n",
      "/home/naodell/opt/anaconda3/lib/python3.7/site-packages/numdifftools/limits.py:184: FutureWarning: arrays to stack must be passed as a \"sequence\" type such as list or tuple. Support for non-sequence iterables such as generators is deprecated as of NumPy 1.16 and will raise an error in the future.\n",
      "  for step in steps)\n"
     ]
    },
    {
     "name": "stdout",
     "output_type": "stream",
     "text": [
      "0.17339937223234408 0.5179855282360913\n",
      "Warning: Desired error not necessarily achieved due to precision loss.\n",
      "         Current function value: 0.500000\n",
      "         Iterations: 43\n",
      "         Function evaluations: 144\n",
      "         Gradient evaluations: 133\n",
      "[-0.001 -0.01  -0.039  0.008] 0.49999972172346646\n",
      "0.1726006277676559 0.5179905746634015\n",
      "Warning: Desired error not necessarily achieved due to precision loss.\n",
      "         Current function value: 0.500002\n",
      "         Iterations: 43\n",
      "         Function evaluations: 172\n",
      "         Gradient evaluations: 155\n",
      "[ 0.001  0.01   0.039 -0.008] 0.5000019199893838\n",
      "6 br_tau_h 0.6496 0.001 0.6496 0.000999276807314767 -4.974332057372519e-11\n"
     ]
    },
    {
     "name": "stderr",
     "output_type": "stream",
     "text": [
      "/home/naodell/opt/anaconda3/lib/python3.7/site-packages/numdifftools/limits.py:182: FutureWarning: arrays to stack must be passed as a \"sequence\" type such as list or tuple. Support for non-sequence iterables such as generators is deprecated as of NumPy 1.16 and will raise an error in the future.\n",
      "  f_del = np.vstack(list(np.ravel(r)) for r in sequence)\n",
      "/home/naodell/opt/anaconda3/lib/python3.7/site-packages/numdifftools/limits.py:184: FutureWarning: arrays to stack must be passed as a \"sequence\" type such as list or tuple. Support for non-sequence iterables such as generators is deprecated as of NumPy 1.16 and will raise an error in the future.\n",
      "  for step in steps)\n"
     ]
    },
    {
     "name": "stdout",
     "output_type": "stream",
     "text": [
      "0.6505992768073148 0.5214075993783589\n",
      "Warning: Desired error not necessarily achieved due to precision loss.\n",
      "         Current function value: 0.500014\n",
      "         Iterations: 43\n",
      "         Function evaluations: 154\n",
      "         Gradient evaluations: 142\n",
      "[ 0.026  0.022 -0.113  0.01 ] 0.500014029220318\n",
      "0.6486007231926851 0.5214310777314121\n",
      "Optimization terminated successfully.\n",
      "         Current function value: 0.500018\n",
      "         Iterations: 45\n",
      "         Function evaluations: 65\n",
      "         Gradient evaluations: 65\n",
      "[-0.026 -0.022  0.113 -0.01 ] 0.5000183391263986\n",
      "7 lumi 1.0 0.025 1.0 0.01761016606689616 -4.974332057372519e-11\n"
     ]
    },
    {
     "name": "stderr",
     "output_type": "stream",
     "text": [
      "/home/naodell/opt/anaconda3/lib/python3.7/site-packages/numdifftools/limits.py:182: FutureWarning: arrays to stack must be passed as a \"sequence\" type such as list or tuple. Support for non-sequence iterables such as generators is deprecated as of NumPy 1.16 and will raise an error in the future.\n",
      "  f_del = np.vstack(list(np.ravel(r)) for r in sequence)\n",
      "/home/naodell/opt/anaconda3/lib/python3.7/site-packages/numdifftools/limits.py:184: FutureWarning: arrays to stack must be passed as a \"sequence\" type such as list or tuple. Support for non-sequence iterables such as generators is deprecated as of NumPy 1.16 and will raise an error in the future.\n",
      "  for step in steps)\n"
     ]
    },
    {
     "name": "stdout",
     "output_type": "stream",
     "text": [
      "1.0176101660668961 262.6899996359464\n",
      "Warning: Desired error not necessarily achieved due to precision loss.\n",
      "         Current function value: 0.487769\n",
      "         Iterations: 61\n",
      "         Function evaluations: 165\n",
      "         Gradient evaluations: 154\n",
      "[ 0.007 -0.061 -0.009  0.01 ] 0.4877694607873981\n",
      "0.9823898339331039 267.6536592759114\n",
      "Warning: Desired error not necessarily achieved due to precision loss.\n",
      "         Current function value: 0.516079\n",
      "         Iterations: 64\n",
      "         Function evaluations: 130\n",
      "         Gradient evaluations: 119\n",
      "[-0.008  0.068  0.002 -0.01 ] 0.5160785928085683\n",
      "8 xs_diboson 1.0 0.1 1.0 0.09924479851998226 -4.974332057372519e-11\n"
     ]
    },
    {
     "name": "stderr",
     "output_type": "stream",
     "text": [
      "/home/naodell/opt/anaconda3/lib/python3.7/site-packages/numdifftools/limits.py:182: FutureWarning: arrays to stack must be passed as a \"sequence\" type such as list or tuple. Support for non-sequence iterables such as generators is deprecated as of NumPy 1.16 and will raise an error in the future.\n",
      "  f_del = np.vstack(list(np.ravel(r)) for r in sequence)\n",
      "/home/naodell/opt/anaconda3/lib/python3.7/site-packages/numdifftools/limits.py:184: FutureWarning: arrays to stack must be passed as a \"sequence\" type such as list or tuple. Support for non-sequence iterables such as generators is deprecated as of NumPy 1.16 and will raise an error in the future.\n",
      "  for step in steps)\n"
     ]
    },
    {
     "name": "stdout",
     "output_type": "stream",
     "text": [
      "1.0992447985199822 0.5762548098628505\n",
      "Warning: Desired error not necessarily achieved due to precision loss.\n",
      "         Current function value: 0.500025\n",
      "         Iterations: 43\n",
      "         Function evaluations: 83\n",
      "         Gradient evaluations: 73\n",
      "[ 0.007  0.006 -0.003 -0.002] 0.5000247795724148\n",
      "0.9007552014800178 0.576387566752967\n",
      "Optimization terminated successfully.\n",
      "         Current function value: 0.499989\n",
      "         Iterations: 46\n",
      "         Function evaluations: 101\n",
      "         Gradient evaluations: 99\n",
      "[-0.007 -0.006  0.003  0.001] 0.49998891681089513\n",
      "9 xs_ww 1.0 0.1 1.0 0.03954420774207862 -4.974332057372519e-11\n"
     ]
    },
    {
     "name": "stderr",
     "output_type": "stream",
     "text": [
      "/home/naodell/opt/anaconda3/lib/python3.7/site-packages/numdifftools/limits.py:182: FutureWarning: arrays to stack must be passed as a \"sequence\" type such as list or tuple. Support for non-sequence iterables such as generators is deprecated as of NumPy 1.16 and will raise an error in the future.\n",
      "  f_del = np.vstack(list(np.ravel(r)) for r in sequence)\n",
      "/home/naodell/opt/anaconda3/lib/python3.7/site-packages/numdifftools/limits.py:184: FutureWarning: arrays to stack must be passed as a \"sequence\" type such as list or tuple. Support for non-sequence iterables such as generators is deprecated as of NumPy 1.16 and will raise an error in the future.\n",
      "  for step in steps)\n"
     ]
    },
    {
     "name": "stdout",
     "output_type": "stream",
     "text": [
      "1.0395442077420787 2.77951971741066\n",
      "Optimization terminated successfully.\n",
      "         Current function value: 0.375668\n",
      "         Iterations: 51\n",
      "         Function evaluations: 71\n",
      "         Gradient evaluations: 71\n",
      "[-0.024 -0.029 -0.079  0.021] 0.375667843738343\n",
      "0.9604557922579213 2.822654866090122\n",
      "Warning: Desired error not necessarily achieved due to precision loss.\n",
      "         Current function value: 0.642389\n",
      "         Iterations: 46\n",
      "         Function evaluations: 129\n",
      "         Gradient evaluations: 118\n",
      "[ 0.066  0.076  0.17  -0.05 ] 0.6423893439838299\n",
      "10 xs_t 1.0 0.1 1.0 0.07283464426107536 -4.974332057372519e-11\n"
     ]
    },
    {
     "name": "stderr",
     "output_type": "stream",
     "text": [
      "/home/naodell/opt/anaconda3/lib/python3.7/site-packages/numdifftools/limits.py:182: FutureWarning: arrays to stack must be passed as a \"sequence\" type such as list or tuple. Support for non-sequence iterables such as generators is deprecated as of NumPy 1.16 and will raise an error in the future.\n",
      "  f_del = np.vstack(list(np.ravel(r)) for r in sequence)\n",
      "/home/naodell/opt/anaconda3/lib/python3.7/site-packages/numdifftools/limits.py:184: FutureWarning: arrays to stack must be passed as a \"sequence\" type such as list or tuple. Support for non-sequence iterables such as generators is deprecated as of NumPy 1.16 and will raise an error in the future.\n",
      "  for step in steps)\n"
     ]
    },
    {
     "name": "stdout",
     "output_type": "stream",
     "text": [
      "1.0728346442610754 9.595080302180468\n",
      "Warning: Desired error not necessarily achieved due to precision loss.\n",
      "         Current function value: 0.502130\n",
      "         Iterations: 49\n",
      "         Function evaluations: 143\n",
      "         Gradient evaluations: 132\n",
      "[ 0.189  0.2    0.331 -0.115] 0.5021297552429059\n",
      "0.9271653557389247 9.655132167711773\n",
      "Warning: Desired error not necessarily achieved due to precision loss.\n",
      "         Current function value: 0.500898\n",
      "         Iterations: 46\n",
      "         Function evaluations: 157\n",
      "         Gradient evaluations: 147\n",
      "[-0.196 -0.205 -0.356  0.121] 0.5008982534511695\n",
      "11 xs_wjets 1.0 0.1 1.0 0.04146895206339601 -4.974332057372519e-11\n"
     ]
    },
    {
     "name": "stderr",
     "output_type": "stream",
     "text": [
      "/home/naodell/opt/anaconda3/lib/python3.7/site-packages/numdifftools/limits.py:182: FutureWarning: arrays to stack must be passed as a \"sequence\" type such as list or tuple. Support for non-sequence iterables such as generators is deprecated as of NumPy 1.16 and will raise an error in the future.\n",
      "  f_del = np.vstack(list(np.ravel(r)) for r in sequence)\n",
      "/home/naodell/opt/anaconda3/lib/python3.7/site-packages/numdifftools/limits.py:184: FutureWarning: arrays to stack must be passed as a \"sequence\" type such as list or tuple. Support for non-sequence iterables such as generators is deprecated as of NumPy 1.16 and will raise an error in the future.\n",
      "  for step in steps)\n"
     ]
    },
    {
     "name": "stdout",
     "output_type": "stream",
     "text": [
      "1.041468952063396 9.830224490297763\n",
      "Warning: Desired error not necessarily achieved due to precision loss.\n",
      "         Current function value: 0.494957\n",
      "         Iterations: 48\n",
      "         Function evaluations: 127\n",
      "         Gradient evaluations: 118\n",
      "[-0.156 -0.132 -0.057  0.055] 0.49495661300574345\n",
      "0.958531047936604 9.928486285023098\n",
      "Warning: Desired error not necessarily achieved due to precision loss.\n",
      "         Current function value: 0.507170\n",
      "         Iterations: 45\n",
      "         Function evaluations: 166\n",
      "         Gradient evaluations: 155\n",
      "[ 0.174  0.147  0.058 -0.061] 0.5071704893228812\n",
      "12 e_fakes 1.0 0.1 1.0 0.08070235808025586 -4.974332057372519e-11\n"
     ]
    },
    {
     "name": "stderr",
     "output_type": "stream",
     "text": [
      "/home/naodell/opt/anaconda3/lib/python3.7/site-packages/numdifftools/limits.py:182: FutureWarning: arrays to stack must be passed as a \"sequence\" type such as list or tuple. Support for non-sequence iterables such as generators is deprecated as of NumPy 1.16 and will raise an error in the future.\n",
      "  f_del = np.vstack(list(np.ravel(r)) for r in sequence)\n",
      "/home/naodell/opt/anaconda3/lib/python3.7/site-packages/numdifftools/limits.py:184: FutureWarning: arrays to stack must be passed as a \"sequence\" type such as list or tuple. Support for non-sequence iterables such as generators is deprecated as of NumPy 1.16 and will raise an error in the future.\n",
      "  for step in steps)\n"
     ]
    },
    {
     "name": "stdout",
     "output_type": "stream",
     "text": [
      "1.080702358080256 2.286703405244057\n",
      "Warning: Desired error not necessarily achieved due to precision loss.\n",
      "         Current function value: 0.500759\n",
      "         Iterations: 46\n",
      "         Function evaluations: 158\n",
      "         Gradient evaluations: 148\n",
      "[-0.023  0.138 -0.08  -0.006] 0.5007590432615316\n",
      "0.9192976419197442 2.2941381362859374\n",
      "Warning: Desired error not necessarily achieved due to precision loss.\n",
      "         Current function value: 0.500001\n",
      "         Iterations: 48\n",
      "         Function evaluations: 199\n",
      "         Gradient evaluations: 186\n",
      "[ 0.025 -0.137  0.079  0.005] 0.5000011508730123\n",
      "13 mu_fakes 1.0 0.1 1.0 0.030615535557433286 -4.974332057372519e-11\n"
     ]
    },
    {
     "name": "stderr",
     "output_type": "stream",
     "text": [
      "/home/naodell/opt/anaconda3/lib/python3.7/site-packages/numdifftools/limits.py:182: FutureWarning: arrays to stack must be passed as a \"sequence\" type such as list or tuple. Support for non-sequence iterables such as generators is deprecated as of NumPy 1.16 and will raise an error in the future.\n",
      "  f_del = np.vstack(list(np.ravel(r)) for r in sequence)\n",
      "/home/naodell/opt/anaconda3/lib/python3.7/site-packages/numdifftools/limits.py:184: FutureWarning: arrays to stack must be passed as a \"sequence\" type such as list or tuple. Support for non-sequence iterables such as generators is deprecated as of NumPy 1.16 and will raise an error in the future.\n",
      "  for step in steps)\n"
     ]
    },
    {
     "name": "stdout",
     "output_type": "stream",
     "text": [
      "1.0306155355574333 2.1650540790209587\n",
      "Warning: Desired error not necessarily achieved due to precision loss.\n",
      "         Current function value: 0.498462\n",
      "         Iterations: 45\n",
      "         Function evaluations: 147\n",
      "         Gradient evaluations: 135\n",
      "[ 0.335  0.246 -0.009 -0.091] 0.49846166758484955\n",
      "0.9693844644425668 2.173203720698063\n",
      "Optimization terminated successfully.\n",
      "         Current function value: 0.504679\n",
      "         Iterations: 48\n",
      "         Function evaluations: 72\n",
      "         Gradient evaluations: 72\n",
      "[-0.303 -0.216  0.041  0.076] 0.5046790115134989\n",
      "14 e_fakes_ss 1.0 0.1 1.0 0.03909752272704006 -4.974332057372519e-11\n"
     ]
    },
    {
     "name": "stderr",
     "output_type": "stream",
     "text": [
      "/home/naodell/opt/anaconda3/lib/python3.7/site-packages/numdifftools/limits.py:182: FutureWarning: arrays to stack must be passed as a \"sequence\" type such as list or tuple. Support for non-sequence iterables such as generators is deprecated as of NumPy 1.16 and will raise an error in the future.\n",
      "  f_del = np.vstack(list(np.ravel(r)) for r in sequence)\n",
      "/home/naodell/opt/anaconda3/lib/python3.7/site-packages/numdifftools/limits.py:184: FutureWarning: arrays to stack must be passed as a \"sequence\" type such as list or tuple. Support for non-sequence iterables such as generators is deprecated as of NumPy 1.16 and will raise an error in the future.\n",
      "  for step in steps)\n"
     ]
    },
    {
     "name": "stdout",
     "output_type": "stream",
     "text": [
      "1.03909752272704 1.303008308724353\n",
      "Warning: Desired error not necessarily achieved due to precision loss.\n",
      "         Current function value: 0.503235\n",
      "         Iterations: 42\n",
      "         Function evaluations: 137\n",
      "         Gradient evaluations: 125\n",
      "[ 0.176 -0.029  0.25  -0.064] 0.503234967561851\n",
      "0.96090247727296 1.3325297402329288\n",
      "Warning: Desired error not necessarily achieved due to precision loss.\n",
      "         Current function value: 0.497398\n",
      "         Iterations: 43\n",
      "         Function evaluations: 152\n",
      "         Gradient evaluations: 141\n",
      "[-0.172  0.028 -0.258  0.064] 0.49739823470342787\n",
      "15 mu_fakes_ss 1.0 0.1 1.0 0.052068593494527374 -4.974332057372519e-11\n"
     ]
    },
    {
     "name": "stderr",
     "output_type": "stream",
     "text": [
      "/home/naodell/opt/anaconda3/lib/python3.7/site-packages/numdifftools/limits.py:182: FutureWarning: arrays to stack must be passed as a \"sequence\" type such as list or tuple. Support for non-sequence iterables such as generators is deprecated as of NumPy 1.16 and will raise an error in the future.\n",
      "  f_del = np.vstack(list(np.ravel(r)) for r in sequence)\n",
      "/home/naodell/opt/anaconda3/lib/python3.7/site-packages/numdifftools/limits.py:184: FutureWarning: arrays to stack must be passed as a \"sequence\" type such as list or tuple. Support for non-sequence iterables such as generators is deprecated as of NumPy 1.16 and will raise an error in the future.\n",
      "  for step in steps)\n"
     ]
    },
    {
     "name": "stdout",
     "output_type": "stream",
     "text": [
      "1.0520685934945273 1.9125862458112675\n",
      "Warning: Desired error not necessarily achieved due to precision loss.\n",
      "         Current function value: 0.503638\n",
      "         Iterations: 41\n",
      "         Function evaluations: 98\n",
      "         Gradient evaluations: 87\n",
      "[-0.092  0.02  -0.009  0.013] 0.5036383232303753\n",
      "0.9479314065054726 1.9484852032283437\n",
      "Warning: Desired error not necessarily achieved due to precision loss.\n",
      "         Current function value: 0.496478\n",
      "         Iterations: 40\n",
      "         Function evaluations: 82\n",
      "         Gradient evaluations: 71\n",
      "[ 0.089 -0.017 -0.004 -0.011] 0.4964780036721088\n",
      "16 trigger_mu 1.0 0.005 1.0 0.004266088148219401 -4.974332057372519e-11\n"
     ]
    },
    {
     "name": "stderr",
     "output_type": "stream",
     "text": [
      "/home/naodell/opt/anaconda3/lib/python3.7/site-packages/numdifftools/limits.py:182: FutureWarning: arrays to stack must be passed as a \"sequence\" type such as list or tuple. Support for non-sequence iterables such as generators is deprecated as of NumPy 1.16 and will raise an error in the future.\n",
      "  f_del = np.vstack(list(np.ravel(r)) for r in sequence)\n",
      "/home/naodell/opt/anaconda3/lib/python3.7/site-packages/numdifftools/limits.py:184: FutureWarning: arrays to stack must be passed as a \"sequence\" type such as list or tuple. Support for non-sequence iterables such as generators is deprecated as of NumPy 1.16 and will raise an error in the future.\n",
      "  for step in steps)\n"
     ]
    },
    {
     "name": "stdout",
     "output_type": "stream",
     "text": [
      "1.0042660881482195 10.780792539033557\n",
      "Warning: Desired error not necessarily achieved due to precision loss.\n",
      "         Current function value: 0.499968\n",
      "         Iterations: 46\n",
      "         Function evaluations: 154\n",
      "         Gradient evaluations: 143\n",
      "[ 0.128 -0.182  0.11  -0.009] 0.4999683298886078\n",
      "0.9957339118517806 10.828683709817195\n",
      "Warning: Desired error not necessarily achieved due to precision loss.\n",
      "         Current function value: 0.501572\n",
      "         Iterations: 47\n",
      "         Function evaluations: 86\n",
      "         Gradient evaluations: 75\n",
      "[-0.128  0.183 -0.112  0.009] 0.5015718094774793\n",
      "17 xs_zjets_alt_pdf 0.0 1.0 0.0 0.9642291728058716 -4.974332057372519e-11\n"
     ]
    },
    {
     "name": "stderr",
     "output_type": "stream",
     "text": [
      "/home/naodell/opt/anaconda3/lib/python3.7/site-packages/numdifftools/limits.py:182: FutureWarning: arrays to stack must be passed as a \"sequence\" type such as list or tuple. Support for non-sequence iterables such as generators is deprecated as of NumPy 1.16 and will raise an error in the future.\n",
      "  f_del = np.vstack(list(np.ravel(r)) for r in sequence)\n",
      "/home/naodell/opt/anaconda3/lib/python3.7/site-packages/numdifftools/limits.py:184: FutureWarning: arrays to stack must be passed as a \"sequence\" type such as list or tuple. Support for non-sequence iterables such as generators is deprecated as of NumPy 1.16 and will raise an error in the future.\n",
      "  for step in steps)\n"
     ]
    },
    {
     "name": "stdout",
     "output_type": "stream",
     "text": [
      "0.9642291728058716 2.76024013960213\n",
      "Warning: Desired error not necessarily achieved due to precision loss.\n",
      "         Current function value: 0.497889\n",
      "         Iterations: 47\n",
      "         Function evaluations: 89\n",
      "         Gradient evaluations: 77\n",
      "[ 1.495e-02 -1.041e-02 -4.570e-03  5.822e-06] 0.49788909368428813\n",
      "-0.9642291728058716 2.789544114688604\n",
      "Warning: Desired error not necessarily achieved due to precision loss.\n",
      "         Current function value: 0.498873\n",
      "         Iterations: 47\n",
      "         Function evaluations: 161\n",
      "         Gradient evaluations: 150\n",
      "[-0.017  0.01   0.002  0.001] 0.4988728249125901\n",
      "18 xs_zjets_alt_alpha_s 0.0 1.0 0.0 0.904412995821815 -4.974332057372519e-11\n"
     ]
    },
    {
     "name": "stderr",
     "output_type": "stream",
     "text": [
      "/home/naodell/opt/anaconda3/lib/python3.7/site-packages/numdifftools/limits.py:182: FutureWarning: arrays to stack must be passed as a \"sequence\" type such as list or tuple. Support for non-sequence iterables such as generators is deprecated as of NumPy 1.16 and will raise an error in the future.\n",
      "  f_del = np.vstack(list(np.ravel(r)) for r in sequence)\n",
      "/home/naodell/opt/anaconda3/lib/python3.7/site-packages/numdifftools/limits.py:184: FutureWarning: arrays to stack must be passed as a \"sequence\" type such as list or tuple. Support for non-sequence iterables such as generators is deprecated as of NumPy 1.16 and will raise an error in the future.\n",
      "  for step in steps)\n"
     ]
    },
    {
     "name": "stdout",
     "output_type": "stream",
     "text": [
      "0.904412995821815 4.347896262202811\n",
      "Warning: Desired error not necessarily achieved due to precision loss.\n",
      "         Current function value: 0.499588\n",
      "         Iterations: 46\n",
      "         Function evaluations: 104\n",
      "         Gradient evaluations: 94\n",
      "[-0.011  0.042  0.086 -0.019] 0.4995875159641762\n",
      "-0.904412995821815 4.289734159009807\n",
      "Warning: Desired error not necessarily achieved due to precision loss.\n",
      "         Current function value: 0.497021\n",
      "         Iterations: 47\n",
      "         Function evaluations: 114\n",
      "         Gradient evaluations: 104\n",
      "[ 0.009 -0.041 -0.086  0.019] 0.4970210824233989\n",
      "19 xs_zjets_alt_qcd_scale_0 0.0 1.0 0.0 0.5710358392055574 -4.974332057372519e-11\n"
     ]
    },
    {
     "name": "stderr",
     "output_type": "stream",
     "text": [
      "/home/naodell/opt/anaconda3/lib/python3.7/site-packages/numdifftools/limits.py:182: FutureWarning: arrays to stack must be passed as a \"sequence\" type such as list or tuple. Support for non-sequence iterables such as generators is deprecated as of NumPy 1.16 and will raise an error in the future.\n",
      "  f_del = np.vstack(list(np.ravel(r)) for r in sequence)\n",
      "/home/naodell/opt/anaconda3/lib/python3.7/site-packages/numdifftools/limits.py:184: FutureWarning: arrays to stack must be passed as a \"sequence\" type such as list or tuple. Support for non-sequence iterables such as generators is deprecated as of NumPy 1.16 and will raise an error in the future.\n",
      "  for step in steps)\n"
     ]
    },
    {
     "name": "stdout",
     "output_type": "stream",
     "text": [
      "0.5710358392055574 6.91027381932764\n",
      "Warning: Desired error not necessarily achieved due to precision loss.\n",
      "         Current function value: 0.437620\n",
      "         Iterations: 47\n",
      "         Function evaluations: 105\n",
      "         Gradient evaluations: 94\n",
      "[ 0.165  0.102  0.479 -0.119] 0.4376196671324494\n",
      "-0.5710358392055574 10.615842137999632\n",
      "Warning: Desired error not necessarily achieved due to precision loss.\n",
      "         Current function value: 0.575750\n",
      "         Iterations: 46\n",
      "         Function evaluations: 152\n",
      "         Gradient evaluations: 137\n",
      "[-0.214 -0.132 -0.54   0.141] 0.5757496744762854\n",
      "20 xs_zjets_alt_qcd_scale_1 0.0 1.0 0.0 0.5231778170235664 -4.974332057372519e-11\n"
     ]
    },
    {
     "name": "stderr",
     "output_type": "stream",
     "text": [
      "/home/naodell/opt/anaconda3/lib/python3.7/site-packages/numdifftools/limits.py:182: FutureWarning: arrays to stack must be passed as a \"sequence\" type such as list or tuple. Support for non-sequence iterables such as generators is deprecated as of NumPy 1.16 and will raise an error in the future.\n",
      "  f_del = np.vstack(list(np.ravel(r)) for r in sequence)\n",
      "/home/naodell/opt/anaconda3/lib/python3.7/site-packages/numdifftools/limits.py:184: FutureWarning: arrays to stack must be passed as a \"sequence\" type such as list or tuple. Support for non-sequence iterables such as generators is deprecated as of NumPy 1.16 and will raise an error in the future.\n",
      "  for step in steps)\n"
     ]
    },
    {
     "name": "stdout",
     "output_type": "stream",
     "text": [
      "0.5231778170235664 1.437462001778539\n",
      "Warning: Desired error not necessarily achieved due to precision loss.\n",
      "         Current function value: 0.497280\n",
      "         Iterations: 42\n",
      "         Function evaluations: 89\n",
      "         Gradient evaluations: 80\n",
      "[-0.008 -0.03  -0.171  0.033] 0.4972795510817117\n",
      "-0.5231778170235664 1.5568475769428625\n",
      "Warning: Desired error not necessarily achieved due to precision loss.\n",
      "         Current function value: 0.505905\n",
      "         Iterations: 44\n",
      "         Function evaluations: 85\n",
      "         Gradient evaluations: 75\n",
      "[-0.005  0.027  0.165 -0.03 ] 0.505904986645931\n",
      "21 xs_zjets_alt_qcd_scale_2 0.0 1.0 0.0 0.36479835283301937 -4.974332057372519e-11\n"
     ]
    },
    {
     "name": "stderr",
     "output_type": "stream",
     "text": [
      "/home/naodell/opt/anaconda3/lib/python3.7/site-packages/numdifftools/limits.py:182: FutureWarning: arrays to stack must be passed as a \"sequence\" type such as list or tuple. Support for non-sequence iterables such as generators is deprecated as of NumPy 1.16 and will raise an error in the future.\n",
      "  f_del = np.vstack(list(np.ravel(r)) for r in sequence)\n",
      "/home/naodell/opt/anaconda3/lib/python3.7/site-packages/numdifftools/limits.py:184: FutureWarning: arrays to stack must be passed as a \"sequence\" type such as list or tuple. Support for non-sequence iterables such as generators is deprecated as of NumPy 1.16 and will raise an error in the future.\n",
      "  for step in steps)\n"
     ]
    },
    {
     "name": "stdout",
     "output_type": "stream",
     "text": [
      "0.36479835283301937 1.4277787151798484\n",
      "Warning: Desired error not necessarily achieved due to precision loss.\n",
      "         Current function value: 0.497529\n",
      "         Iterations: 43\n",
      "         Function evaluations: 86\n",
      "         Gradient evaluations: 77\n",
      "[-0.176 -0.205 -0.204  0.093] 0.4975287949314652\n",
      "-0.36479835283301937 1.572028884932457\n",
      "Warning: Desired error not necessarily achieved due to precision loss.\n",
      "         Current function value: 0.510593\n",
      "         Iterations: 44\n",
      "         Function evaluations: 157\n",
      "         Gradient evaluations: 146\n",
      "[ 0.18   0.217  0.21  -0.097] 0.5105933612135566\n",
      "22 xs_ttbar_pdf 0.0 1.0 0.0 0.9827393584660076 -4.974332057372519e-11\n"
     ]
    },
    {
     "name": "stderr",
     "output_type": "stream",
     "text": [
      "/home/naodell/opt/anaconda3/lib/python3.7/site-packages/numdifftools/limits.py:182: FutureWarning: arrays to stack must be passed as a \"sequence\" type such as list or tuple. Support for non-sequence iterables such as generators is deprecated as of NumPy 1.16 and will raise an error in the future.\n",
      "  f_del = np.vstack(list(np.ravel(r)) for r in sequence)\n",
      "/home/naodell/opt/anaconda3/lib/python3.7/site-packages/numdifftools/limits.py:184: FutureWarning: arrays to stack must be passed as a \"sequence\" type such as list or tuple. Support for non-sequence iterables such as generators is deprecated as of NumPy 1.16 and will raise an error in the future.\n",
      "  for step in steps)\n"
     ]
    },
    {
     "name": "stdout",
     "output_type": "stream",
     "text": [
      "0.9827393584660076 60.79641939386122\n",
      "Warning: Desired error not necessarily achieved due to precision loss.\n",
      "         Current function value: 0.499176\n",
      "         Iterations: 58\n",
      "         Function evaluations: 137\n",
      "         Gradient evaluations: 125\n",
      "[-0.019 -0.015 -0.014  0.008] 0.49917623292512375\n",
      "-0.9827393584660076 61.33524677129303\n",
      "Warning: Desired error not necessarily achieved due to precision loss.\n",
      "         Current function value: 0.500093\n",
      "         Iterations: 58\n",
      "         Function evaluations: 151\n",
      "         Gradient evaluations: 142\n",
      "[ 0.021  0.018  0.016 -0.009] 0.5000929947240581\n",
      "23 xs_ttbar_alpha_s 0.0 1.0 0.0 0.9826192835546508 -4.974332057372519e-11\n"
     ]
    },
    {
     "name": "stderr",
     "output_type": "stream",
     "text": [
      "/home/naodell/opt/anaconda3/lib/python3.7/site-packages/numdifftools/limits.py:182: FutureWarning: arrays to stack must be passed as a \"sequence\" type such as list or tuple. Support for non-sequence iterables such as generators is deprecated as of NumPy 1.16 and will raise an error in the future.\n",
      "  f_del = np.vstack(list(np.ravel(r)) for r in sequence)\n",
      "/home/naodell/opt/anaconda3/lib/python3.7/site-packages/numdifftools/limits.py:184: FutureWarning: arrays to stack must be passed as a \"sequence\" type such as list or tuple. Support for non-sequence iterables such as generators is deprecated as of NumPy 1.16 and will raise an error in the future.\n",
      "  for step in steps)\n"
     ]
    },
    {
     "name": "stdout",
     "output_type": "stream",
     "text": [
      "0.9826192835546508 106.7329908396793\n",
      "Warning: Desired error not necessarily achieved due to precision loss.\n",
      "         Current function value: 0.500220\n",
      "         Iterations: 63\n",
      "         Function evaluations: 206\n",
      "         Gradient evaluations: 193\n",
      "[ 0.013  0.012  0.    -0.004] 0.5002204278652779\n",
      "-0.9826192835546508 105.496646469933\n",
      "Optimization terminated successfully.\n",
      "         Current function value: 0.498765\n",
      "         Iterations: 64\n",
      "         Function evaluations: 78\n",
      "         Gradient evaluations: 78\n",
      "[-0.01  -0.009  0.002  0.003] 0.4987646545520408\n",
      "24 xs_ttbar_qcd_scale 0.0 1.0 0.0 0.2278753830792402 -4.974332057372519e-11\n"
     ]
    },
    {
     "name": "stderr",
     "output_type": "stream",
     "text": [
      "/home/naodell/opt/anaconda3/lib/python3.7/site-packages/numdifftools/limits.py:182: FutureWarning: arrays to stack must be passed as a \"sequence\" type such as list or tuple. Support for non-sequence iterables such as generators is deprecated as of NumPy 1.16 and will raise an error in the future.\n",
      "  f_del = np.vstack(list(np.ravel(r)) for r in sequence)\n",
      "/home/naodell/opt/anaconda3/lib/python3.7/site-packages/numdifftools/limits.py:184: FutureWarning: arrays to stack must be passed as a \"sequence\" type such as list or tuple. Support for non-sequence iterables such as generators is deprecated as of NumPy 1.16 and will raise an error in the future.\n",
      "  for step in steps)\n"
     ]
    },
    {
     "name": "stdout",
     "output_type": "stream",
     "text": [
      "0.2278753830792402 598.6067562470677\n",
      "Warning: Desired error not necessarily achieved due to precision loss.\n",
      "         Current function value: 0.521572\n",
      "         Iterations: 70\n",
      "         Function evaluations: 119\n",
      "         Gradient evaluations: 109\n",
      "[-0.353 -0.325 -0.439  0.178] 0.5215723760919698\n",
      "-0.2278753830792402 588.2328540683401\n",
      "Warning: Desired error not necessarily achieved due to precision loss.\n",
      "         Current function value: 0.490458\n",
      "         Iterations: 63\n",
      "         Function evaluations: 168\n",
      "         Gradient evaluations: 158\n",
      "[ 0.356  0.332  0.428 -0.178] 0.4904582012273776\n",
      "25 eff_tau_0 0.0 1.0 0.0 0.4777674455037314 -4.974332057372519e-11\n"
     ]
    },
    {
     "name": "stderr",
     "output_type": "stream",
     "text": [
      "/home/naodell/opt/anaconda3/lib/python3.7/site-packages/numdifftools/limits.py:182: FutureWarning: arrays to stack must be passed as a \"sequence\" type such as list or tuple. Support for non-sequence iterables such as generators is deprecated as of NumPy 1.16 and will raise an error in the future.\n",
      "  f_del = np.vstack(list(np.ravel(r)) for r in sequence)\n",
      "/home/naodell/opt/anaconda3/lib/python3.7/site-packages/numdifftools/limits.py:184: FutureWarning: arrays to stack must be passed as a \"sequence\" type such as list or tuple. Support for non-sequence iterables such as generators is deprecated as of NumPy 1.16 and will raise an error in the future.\n",
      "  for step in steps)\n"
     ]
    },
    {
     "name": "stdout",
     "output_type": "stream",
     "text": [
      "0.4777674455037314 1.9927129150271865\n",
      "Warning: Desired error not necessarily achieved due to precision loss.\n",
      "         Current function value: 0.500292\n",
      "         Iterations: 43\n",
      "         Function evaluations: 80\n",
      "         Gradient evaluations: 69\n",
      "[ 0.016  0.036 -0.27   0.035] 0.5002921379675566\n",
      "-0.4777674455037314 2.0425472138119645\n",
      "Warning: Desired error not necessarily achieved due to precision loss.\n",
      "         Current function value: 0.499513\n",
      "         Iterations: 46\n",
      "         Function evaluations: 125\n",
      "         Gradient evaluations: 113\n",
      "[-0.024 -0.039  0.261 -0.032] 0.499512938347558\n",
      "26 eff_tau_1 0.0 1.0 0.0 0.3876622230696049 -4.974332057372519e-11\n"
     ]
    },
    {
     "name": "stderr",
     "output_type": "stream",
     "text": [
      "/home/naodell/opt/anaconda3/lib/python3.7/site-packages/numdifftools/limits.py:182: FutureWarning: arrays to stack must be passed as a \"sequence\" type such as list or tuple. Support for non-sequence iterables such as generators is deprecated as of NumPy 1.16 and will raise an error in the future.\n",
      "  f_del = np.vstack(list(np.ravel(r)) for r in sequence)\n",
      "/home/naodell/opt/anaconda3/lib/python3.7/site-packages/numdifftools/limits.py:184: FutureWarning: arrays to stack must be passed as a \"sequence\" type such as list or tuple. Support for non-sequence iterables such as generators is deprecated as of NumPy 1.16 and will raise an error in the future.\n",
      "  for step in steps)\n"
     ]
    },
    {
     "name": "stdout",
     "output_type": "stream",
     "text": [
      "0.3876622230696049 1.4199854575086173\n",
      "Warning: Desired error not necessarily achieved due to precision loss.\n",
      "         Current function value: 0.498695\n",
      "         Iterations: 46\n",
      "         Function evaluations: 137\n",
      "         Gradient evaluations: 126\n",
      "[-0.041  0.043 -0.29   0.046] 0.49869532099046976\n",
      "-0.3876622230696049 1.4525174538595376\n",
      "Warning: Desired error not necessarily achieved due to precision loss.\n",
      "         Current function value: 0.501162\n",
      "         Iterations: 48\n",
      "         Function evaluations: 142\n",
      "         Gradient evaluations: 131\n",
      "[ 0.037 -0.044  0.295 -0.046] 0.5011617785117409\n",
      "27 eff_tau_2 0.0 1.0 0.0 0.2950744311554436 -4.974332057372519e-11\n"
     ]
    },
    {
     "name": "stderr",
     "output_type": "stream",
     "text": [
      "/home/naodell/opt/anaconda3/lib/python3.7/site-packages/numdifftools/limits.py:182: FutureWarning: arrays to stack must be passed as a \"sequence\" type such as list or tuple. Support for non-sequence iterables such as generators is deprecated as of NumPy 1.16 and will raise an error in the future.\n",
      "  f_del = np.vstack(list(np.ravel(r)) for r in sequence)\n",
      "/home/naodell/opt/anaconda3/lib/python3.7/site-packages/numdifftools/limits.py:184: FutureWarning: arrays to stack must be passed as a \"sequence\" type such as list or tuple. Support for non-sequence iterables such as generators is deprecated as of NumPy 1.16 and will raise an error in the future.\n",
      "  for step in steps)\n"
     ]
    },
    {
     "name": "stdout",
     "output_type": "stream",
     "text": [
      "0.2950744311554436 1.8018002114624707\n",
      "Warning: Desired error not necessarily achieved due to precision loss.\n",
      "         Current function value: 0.497404\n",
      "         Iterations: 43\n",
      "         Function evaluations: 162\n",
      "         Gradient evaluations: 151\n",
      "[-0.075  0.047 -0.555  0.093] 0.4974041840868186\n",
      "-0.2950744311554436 1.8372569501092455\n",
      "Warning: Desired error not necessarily achieved due to precision loss.\n",
      "         Current function value: 0.500502\n",
      "         Iterations: 47\n",
      "         Function evaluations: 165\n",
      "         Gradient evaluations: 152\n",
      "[ 0.074 -0.048  0.578 -0.097] 0.5005020736287613\n",
      "28 eff_tau_3 0.0 1.0 0.0 0.38520647483313397 -4.974332057372519e-11\n"
     ]
    },
    {
     "name": "stderr",
     "output_type": "stream",
     "text": [
      "/home/naodell/opt/anaconda3/lib/python3.7/site-packages/numdifftools/limits.py:182: FutureWarning: arrays to stack must be passed as a \"sequence\" type such as list or tuple. Support for non-sequence iterables such as generators is deprecated as of NumPy 1.16 and will raise an error in the future.\n",
      "  f_del = np.vstack(list(np.ravel(r)) for r in sequence)\n",
      "/home/naodell/opt/anaconda3/lib/python3.7/site-packages/numdifftools/limits.py:184: FutureWarning: arrays to stack must be passed as a \"sequence\" type such as list or tuple. Support for non-sequence iterables such as generators is deprecated as of NumPy 1.16 and will raise an error in the future.\n",
      "  for step in steps)\n"
     ]
    },
    {
     "name": "stdout",
     "output_type": "stream",
     "text": [
      "0.38520647483313397 1.4089805864278606\n",
      "Warning: Desired error not necessarily achieved due to precision loss.\n",
      "         Current function value: 0.486330\n",
      "         Iterations: 44\n",
      "         Function evaluations: 115\n",
      "         Gradient evaluations: 103\n",
      "[ 0.006  0.073 -0.535  0.073] 0.48633043272168724\n",
      "-0.38520647483313397 1.4419064100251768\n",
      "Warning: Desired error not necessarily achieved due to precision loss.\n",
      "         Current function value: 0.511873\n",
      "         Iterations: 44\n",
      "         Function evaluations: 95\n",
      "         Gradient evaluations: 85\n",
      "[-0.008 -0.079  0.551 -0.074] 0.5118731389199171\n",
      "29 eff_tau_4 0.0 1.0 0.0 0.483350601449769 -4.974332057372519e-11\n"
     ]
    },
    {
     "name": "stderr",
     "output_type": "stream",
     "text": [
      "/home/naodell/opt/anaconda3/lib/python3.7/site-packages/numdifftools/limits.py:182: FutureWarning: arrays to stack must be passed as a \"sequence\" type such as list or tuple. Support for non-sequence iterables such as generators is deprecated as of NumPy 1.16 and will raise an error in the future.\n",
      "  f_del = np.vstack(list(np.ravel(r)) for r in sequence)\n",
      "/home/naodell/opt/anaconda3/lib/python3.7/site-packages/numdifftools/limits.py:184: FutureWarning: arrays to stack must be passed as a \"sequence\" type such as list or tuple. Support for non-sequence iterables such as generators is deprecated as of NumPy 1.16 and will raise an error in the future.\n",
      "  for step in steps)\n"
     ]
    },
    {
     "name": "stdout",
     "output_type": "stream",
     "text": [
      "0.483350601449769 0.9730108602365466\n",
      "Warning: Desired error not necessarily achieved due to precision loss.\n",
      "         Current function value: 0.496001\n",
      "         Iterations: 45\n",
      "         Function evaluations: 91\n",
      "         Gradient evaluations: 82\n",
      "[ 0.039  0.072 -0.654  0.087] 0.4960014230413369\n",
      "-0.483350601449769 0.9902378147638156\n",
      "Warning: Desired error not necessarily achieved due to precision loss.\n",
      "         Current function value: 0.504363\n",
      "         Iterations: 48\n",
      "         Function evaluations: 142\n",
      "         Gradient evaluations: 127\n",
      "[-0.052 -0.081  0.634 -0.08 ] 0.5043625254658963\n",
      "30 eff_tau_5 0.0 1.0 0.0 0.4376884733188588 -4.974332057372519e-11\n"
     ]
    },
    {
     "name": "stderr",
     "output_type": "stream",
     "text": [
      "/home/naodell/opt/anaconda3/lib/python3.7/site-packages/numdifftools/limits.py:182: FutureWarning: arrays to stack must be passed as a \"sequence\" type such as list or tuple. Support for non-sequence iterables such as generators is deprecated as of NumPy 1.16 and will raise an error in the future.\n",
      "  f_del = np.vstack(list(np.ravel(r)) for r in sequence)\n",
      "/home/naodell/opt/anaconda3/lib/python3.7/site-packages/numdifftools/limits.py:184: FutureWarning: arrays to stack must be passed as a \"sequence\" type such as list or tuple. Support for non-sequence iterables such as generators is deprecated as of NumPy 1.16 and will raise an error in the future.\n",
      "  for step in steps)\n"
     ]
    },
    {
     "name": "stdout",
     "output_type": "stream",
     "text": [
      "0.4376884733188588 1.1520932965516042\n",
      "Warning: Desired error not necessarily achieved due to precision loss.\n",
      "         Current function value: 0.494442\n",
      "         Iterations: 44\n",
      "         Function evaluations: 177\n",
      "         Gradient evaluations: 163\n",
      "[ 0.043  0.09  -0.798  0.106] 0.49444249509542076\n",
      "-0.4376884733188588 1.1733061424701252\n",
      "Warning: Desired error not necessarily achieved due to precision loss.\n",
      "         Current function value: 0.506034\n",
      "         Iterations: 43\n",
      "         Function evaluations: 103\n",
      "         Gradient evaluations: 91\n",
      "[-0.057 -0.099  0.783 -0.1  ] 0.5060339717477821\n",
      "31 misid_tau_e 0.0 1.0 0.0 0.9965320038975464 -4.974332057372519e-11\n"
     ]
    },
    {
     "name": "stderr",
     "output_type": "stream",
     "text": [
      "/home/naodell/opt/anaconda3/lib/python3.7/site-packages/numdifftools/limits.py:182: FutureWarning: arrays to stack must be passed as a \"sequence\" type such as list or tuple. Support for non-sequence iterables such as generators is deprecated as of NumPy 1.16 and will raise an error in the future.\n",
      "  f_del = np.vstack(list(np.ravel(r)) for r in sequence)\n",
      "/home/naodell/opt/anaconda3/lib/python3.7/site-packages/numdifftools/limits.py:184: FutureWarning: arrays to stack must be passed as a \"sequence\" type such as list or tuple. Support for non-sequence iterables such as generators is deprecated as of NumPy 1.16 and will raise an error in the future.\n",
      "  for step in steps)\n"
     ]
    },
    {
     "name": "stdout",
     "output_type": "stream",
     "text": [
      "0.9965320038975464 0.5163134441834155\n",
      "Optimization terminated successfully.\n",
      "         Current function value: 0.500045\n",
      "         Iterations: 42\n",
      "         Function evaluations: 59\n",
      "         Gradient evaluations: 59\n",
      "[ 0.022  0.02  -0.062  0.003] 0.500045454516261\n",
      "-0.9965320038975464 0.5163430525060614\n",
      "Optimization terminated successfully.\n",
      "         Current function value: 0.500043\n",
      "         Iterations: 43\n",
      "         Function evaluations: 60\n",
      "         Gradient evaluations: 60\n",
      "[-0.022 -0.02   0.062 -0.003] 0.500043129507761\n",
      "32 misid_tau_h 0.0 1.0 0.0 0.5847944707540281 -4.974332057372519e-11\n",
      "0.5847944707540281 3.7359806795665604\n",
      "Warning: Desired error not necessarily achieved due to precision loss.\n",
      "         Current function value: 0.499283\n",
      "         Iterations: 47\n",
      "         Function evaluations: 184\n",
      "         Gradient evaluations: 171\n",
      "[ 0.133  0.108 -0.363  0.02 ] 0.4992828729650211\n",
      "-0.5847944707540281 3.8031947170683185\n",
      "Warning: Desired error not necessarily achieved due to precision loss.\n",
      "         Current function value: 0.501535\n",
      "         Iterations: 45\n",
      "         Function evaluations: 201\n",
      "         Gradient evaluations: 189\n",
      "[-0.126 -0.101  0.366 -0.022] 0.5015347138433298\n",
      "33 misid_tau_0 0.0 1.0 0.0 0.6039744195674928 -4.974332057372519e-11\n"
     ]
    },
    {
     "name": "stderr",
     "output_type": "stream",
     "text": [
      "/home/naodell/opt/anaconda3/lib/python3.7/site-packages/numdifftools/limits.py:182: FutureWarning: arrays to stack must be passed as a \"sequence\" type such as list or tuple. Support for non-sequence iterables such as generators is deprecated as of NumPy 1.16 and will raise an error in the future.\n",
      "  f_del = np.vstack(list(np.ravel(r)) for r in sequence)\n",
      "/home/naodell/opt/anaconda3/lib/python3.7/site-packages/numdifftools/limits.py:184: FutureWarning: arrays to stack must be passed as a \"sequence\" type such as list or tuple. Support for non-sequence iterables such as generators is deprecated as of NumPy 1.16 and will raise an error in the future.\n",
      "  for step in steps)\n"
     ]
    },
    {
     "name": "stdout",
     "output_type": "stream",
     "text": [
      "0.6039744195674928 2.019991322743924\n",
      "Warning: Desired error not necessarily achieved due to precision loss.\n",
      "         Current function value: 0.499345\n",
      "         Iterations: 43\n",
      "         Function evaluations: 133\n",
      "         Gradient evaluations: 123\n",
      "[-0.032 -0.008  0.044 -0.001] 0.49934464075313933\n",
      "-0.6039744195674928 2.0665039336230673\n",
      "Warning: Desired error not necessarily achieved due to precision loss.\n",
      "         Current function value: 0.500733\n",
      "         Iterations: 47\n",
      "         Function evaluations: 138\n",
      "         Gradient evaluations: 128\n",
      "[ 0.031  0.009 -0.039 -0.   ] 0.5007334887970444\n",
      "34 misid_tau_1 0.0 1.0 0.0 0.7337693261359838 -4.974332057372519e-11\n"
     ]
    },
    {
     "name": "stderr",
     "output_type": "stream",
     "text": [
      "/home/naodell/opt/anaconda3/lib/python3.7/site-packages/numdifftools/limits.py:182: FutureWarning: arrays to stack must be passed as a \"sequence\" type such as list or tuple. Support for non-sequence iterables such as generators is deprecated as of NumPy 1.16 and will raise an error in the future.\n",
      "  f_del = np.vstack(list(np.ravel(r)) for r in sequence)\n",
      "/home/naodell/opt/anaconda3/lib/python3.7/site-packages/numdifftools/limits.py:184: FutureWarning: arrays to stack must be passed as a \"sequence\" type such as list or tuple. Support for non-sequence iterables such as generators is deprecated as of NumPy 1.16 and will raise an error in the future.\n",
      "  for step in steps)\n"
     ]
    },
    {
     "name": "stdout",
     "output_type": "stream",
     "text": [
      "0.7337693261359838 1.1587201911388685\n",
      "Warning: Desired error not necessarily achieved due to precision loss.\n",
      "         Current function value: 0.499328\n",
      "         Iterations: 46\n",
      "         Function evaluations: 105\n",
      "         Gradient evaluations: 94\n",
      "[ 0.017  0.013 -0.035  0.001] 0.4993279858409022\n",
      "-0.7337693261359838 1.1774566828434052\n",
      "Warning: Desired error not necessarily achieved due to precision loss.\n",
      "         Current function value: 0.500722\n",
      "         Iterations: 46\n",
      "         Function evaluations: 105\n",
      "         Gradient evaluations: 94\n",
      "[-0.017 -0.012  0.04  -0.002] 0.5007219217825961\n",
      "35 misid_tau_2 0.0 1.0 0.0 0.7560725031787637 -4.974332057372519e-11\n"
     ]
    },
    {
     "name": "stderr",
     "output_type": "stream",
     "text": [
      "/home/naodell/opt/anaconda3/lib/python3.7/site-packages/numdifftools/limits.py:182: FutureWarning: arrays to stack must be passed as a \"sequence\" type such as list or tuple. Support for non-sequence iterables such as generators is deprecated as of NumPy 1.16 and will raise an error in the future.\n",
      "  f_del = np.vstack(list(np.ravel(r)) for r in sequence)\n",
      "/home/naodell/opt/anaconda3/lib/python3.7/site-packages/numdifftools/limits.py:184: FutureWarning: arrays to stack must be passed as a \"sequence\" type such as list or tuple. Support for non-sequence iterables such as generators is deprecated as of NumPy 1.16 and will raise an error in the future.\n",
      "  for step in steps)\n"
     ]
    },
    {
     "name": "stdout",
     "output_type": "stream",
     "text": [
      "0.7560725031787637 1.0195610544528053\n",
      "Warning: Desired error not necessarily achieved due to precision loss.\n",
      "         Current function value: 0.499636\n",
      "         Iterations: 45\n",
      "         Function evaluations: 109\n",
      "         Gradient evaluations: 99\n",
      "[ 0.056  0.032 -0.083 -0.001] 0.4996364097238157\n",
      "-0.7560725031787637 1.031489198253095\n",
      "Warning: Desired error not necessarily achieved due to precision loss.\n",
      "         Current function value: 0.500573\n",
      "         Iterations: 44\n",
      "         Function evaluations: 151\n",
      "         Gradient evaluations: 139\n",
      "[-5.668e-02 -3.088e-02  8.742e-02  2.310e-05] 0.5005732962789013\n",
      "36 misid_tau_3 0.0 1.0 0.0 0.89054175952593 -4.974332057372519e-11\n"
     ]
    },
    {
     "name": "stderr",
     "output_type": "stream",
     "text": [
      "/home/naodell/opt/anaconda3/lib/python3.7/site-packages/numdifftools/limits.py:182: FutureWarning: arrays to stack must be passed as a \"sequence\" type such as list or tuple. Support for non-sequence iterables such as generators is deprecated as of NumPy 1.16 and will raise an error in the future.\n",
      "  f_del = np.vstack(list(np.ravel(r)) for r in sequence)\n",
      "/home/naodell/opt/anaconda3/lib/python3.7/site-packages/numdifftools/limits.py:184: FutureWarning: arrays to stack must be passed as a \"sequence\" type such as list or tuple. Support for non-sequence iterables such as generators is deprecated as of NumPy 1.16 and will raise an error in the future.\n",
      "  for step in steps)\n"
     ]
    },
    {
     "name": "stdout",
     "output_type": "stream",
     "text": [
      "0.89054175952593 0.6728296070761217\n",
      "Warning: Desired error not necessarily achieved due to precision loss.\n",
      "         Current function value: 0.499804\n",
      "         Iterations: 43\n",
      "         Function evaluations: 100\n",
      "         Gradient evaluations: 89\n",
      "[ 0.019  0.012 -0.099  0.011] 0.4998041682363653\n",
      "-0.89054175952593 0.6768927128166558\n",
      "Optimization terminated successfully.\n",
      "         Current function value: 0.500240\n",
      "         Iterations: 44\n",
      "         Function evaluations: 67\n",
      "         Gradient evaluations: 67\n",
      "[-0.019 -0.012  0.101 -0.011] 0.5002398934851906\n",
      "37 misid_tau_4 0.0 1.0 0.0 0.9425785100167416 -4.974332057372519e-11\n"
     ]
    },
    {
     "name": "stderr",
     "output_type": "stream",
     "text": [
      "/home/naodell/opt/anaconda3/lib/python3.7/site-packages/numdifftools/limits.py:182: FutureWarning: arrays to stack must be passed as a \"sequence\" type such as list or tuple. Support for non-sequence iterables such as generators is deprecated as of NumPy 1.16 and will raise an error in the future.\n",
      "  f_del = np.vstack(list(np.ravel(r)) for r in sequence)\n",
      "/home/naodell/opt/anaconda3/lib/python3.7/site-packages/numdifftools/limits.py:184: FutureWarning: arrays to stack must be passed as a \"sequence\" type such as list or tuple. Support for non-sequence iterables such as generators is deprecated as of NumPy 1.16 and will raise an error in the future.\n",
      "  for step in steps)\n"
     ]
    },
    {
     "name": "stdout",
     "output_type": "stream",
     "text": [
      "0.9425785100167416 0.6538949335803648\n",
      "Warning: Desired error not necessarily achieved due to precision loss.\n",
      "         Current function value: 0.499856\n",
      "         Iterations: 47\n",
      "         Function evaluations: 104\n",
      "         Gradient evaluations: 94\n",
      "[-0.004  0.003 -0.032  0.005] 0.49985644240573984\n",
      "-0.9425785100167416 0.6568687636247065\n",
      "Warning: Desired error not necessarily achieved due to precision loss.\n",
      "         Current function value: 0.500170\n",
      "         Iterations: 44\n",
      "         Function evaluations: 141\n",
      "         Gradient evaluations: 130\n",
      "[ 0.004 -0.003  0.033 -0.005] 0.5001704232562324\n",
      "38 misid_tau_5 0.0 1.0 0.0 0.9528663773775192 -4.974332057372519e-11\n"
     ]
    },
    {
     "name": "stderr",
     "output_type": "stream",
     "text": [
      "/home/naodell/opt/anaconda3/lib/python3.7/site-packages/numdifftools/limits.py:182: FutureWarning: arrays to stack must be passed as a \"sequence\" type such as list or tuple. Support for non-sequence iterables such as generators is deprecated as of NumPy 1.16 and will raise an error in the future.\n",
      "  f_del = np.vstack(list(np.ravel(r)) for r in sequence)\n",
      "/home/naodell/opt/anaconda3/lib/python3.7/site-packages/numdifftools/limits.py:184: FutureWarning: arrays to stack must be passed as a \"sequence\" type such as list or tuple. Support for non-sequence iterables such as generators is deprecated as of NumPy 1.16 and will raise an error in the future.\n",
      "  for step in steps)\n"
     ]
    },
    {
     "name": "stdout",
     "output_type": "stream",
     "text": [
      "0.9528663773775192 0.6523896235774289\n",
      "Optimization terminated successfully.\n",
      "         Current function value: 0.499918\n",
      "         Iterations: 46\n",
      "         Function evaluations: 67\n",
      "         Gradient evaluations: 67\n",
      "[ 0.011  0.011  0.009 -0.005] 0.4999181713378848\n",
      "-0.9528663773775192 0.65513780475451\n",
      "Optimization terminated successfully.\n",
      "         Current function value: 0.500132\n",
      "         Iterations: 43\n",
      "         Function evaluations: 66\n",
      "         Gradient evaluations: 66\n",
      "[-0.012 -0.011 -0.01   0.005] 0.5001317774624616\n",
      "39 escale_tau_0 0.0 1.0 0.0 0.9452296483361609 -4.974332057372519e-11\n",
      "0.9452296483361609 1.1894653139333884\n",
      "Warning: Desired error not necessarily achieved due to precision loss.\n",
      "         Current function value: 0.604302\n",
      "         Iterations: 42\n",
      "         Function evaluations: 172\n",
      "         Gradient evaluations: 161\n",
      "[-0.008  0.001  0.041 -0.005] 0.6043018285751258\n",
      "-0.9452296483361609 0.7745451255062273\n",
      "Warning: Desired error not necessarily achieved due to precision loss.\n",
      "         Current function value: 0.488619\n",
      "         Iterations: 46\n",
      "         Function evaluations: 188\n",
      "         Gradient evaluations: 175\n",
      "[ 0.014  0.    -0.041  0.004] 0.488618788334813\n",
      "40 escale_tau_1 0.0 1.0 0.0 0.6941728875645738 -4.974332057372519e-11\n"
     ]
    },
    {
     "name": "stderr",
     "output_type": "stream",
     "text": [
      "/home/naodell/opt/anaconda3/lib/python3.7/site-packages/numdifftools/limits.py:182: FutureWarning: arrays to stack must be passed as a \"sequence\" type such as list or tuple. Support for non-sequence iterables such as generators is deprecated as of NumPy 1.16 and will raise an error in the future.\n",
      "  f_del = np.vstack(list(np.ravel(r)) for r in sequence)\n",
      "/home/naodell/opt/anaconda3/lib/python3.7/site-packages/numdifftools/limits.py:184: FutureWarning: arrays to stack must be passed as a \"sequence\" type such as list or tuple. Support for non-sequence iterables such as generators is deprecated as of NumPy 1.16 and will raise an error in the future.\n",
      "  for step in steps)\n"
     ]
    },
    {
     "name": "stdout",
     "output_type": "stream",
     "text": [
      "0.6941728875645738 2.8356922561798035\n",
      "Warning: Desired error not necessarily achieved due to precision loss.\n",
      "         Current function value: 0.835101\n",
      "         Iterations: 42\n",
      "         Function evaluations: 128\n",
      "         Gradient evaluations: 116\n",
      "[-0.019 -0.008  0.119 -0.015] 0.8351011432048098\n",
      "-0.6941728875645738 1.6946681173200155\n",
      "Warning: Desired error not necessarily achieved due to precision loss.\n",
      "         Current function value: 0.403386\n",
      "         Iterations: 46\n",
      "         Function evaluations: 89\n",
      "         Gradient evaluations: 79\n",
      "[ 0.015  0.006 -0.053  0.005] 0.4033855360199548\n",
      "41 escale_tau_10 0.0 1.0 0.0 0.8467366723991034 -4.974332057372519e-11\n"
     ]
    },
    {
     "name": "stderr",
     "output_type": "stream",
     "text": [
      "/home/naodell/opt/anaconda3/lib/python3.7/site-packages/numdifftools/limits.py:182: FutureWarning: arrays to stack must be passed as a \"sequence\" type such as list or tuple. Support for non-sequence iterables such as generators is deprecated as of NumPy 1.16 and will raise an error in the future.\n",
      "  f_del = np.vstack(list(np.ravel(r)) for r in sequence)\n",
      "/home/naodell/opt/anaconda3/lib/python3.7/site-packages/numdifftools/limits.py:184: FutureWarning: arrays to stack must be passed as a \"sequence\" type such as list or tuple. Support for non-sequence iterables such as generators is deprecated as of NumPy 1.16 and will raise an error in the future.\n",
      "  for step in steps)\n"
     ]
    },
    {
     "name": "stdout",
     "output_type": "stream",
     "text": [
      "0.8467366723991034 2.321325609532612\n",
      "Warning: Desired error not necessarily achieved due to precision loss.\n",
      "         Current function value: 0.745035\n",
      "         Iterations: 44\n",
      "         Function evaluations: 86\n",
      "         Gradient evaluations: 76\n",
      "[-0.024 -0.02   0.177 -0.021] 0.7450354150540992\n",
      "-0.8467366723991034 1.2789528021221261\n",
      "Warning: Desired error not necessarily achieved due to precision loss.\n",
      "         Current function value: 0.454767\n",
      "         Iterations: 44\n",
      "         Function evaluations: 89\n",
      "         Gradient evaluations: 78\n",
      "[ 0.027  0.016 -0.096  0.009] 0.4547669323218113\n",
      "42 eff_reco_e 0.0 1.0 0.0 0.9446280543123202 -4.974332057372519e-11\n"
     ]
    },
    {
     "name": "stderr",
     "output_type": "stream",
     "text": [
      "/home/naodell/opt/anaconda3/lib/python3.7/site-packages/numdifftools/limits.py:182: FutureWarning: arrays to stack must be passed as a \"sequence\" type such as list or tuple. Support for non-sequence iterables such as generators is deprecated as of NumPy 1.16 and will raise an error in the future.\n",
      "  f_del = np.vstack(list(np.ravel(r)) for r in sequence)\n",
      "/home/naodell/opt/anaconda3/lib/python3.7/site-packages/numdifftools/limits.py:184: FutureWarning: arrays to stack must be passed as a \"sequence\" type such as list or tuple. Support for non-sequence iterables such as generators is deprecated as of NumPy 1.16 and will raise an error in the future.\n",
      "  for step in steps)\n"
     ]
    },
    {
     "name": "stdout",
     "output_type": "stream",
     "text": [
      "0.9446280543123202 12.728162709732212\n",
      "Warning: Desired error not necessarily achieved due to precision loss.\n",
      "         Current function value: 0.501283\n",
      "         Iterations: 50\n",
      "         Function evaluations: 168\n",
      "         Gradient evaluations: 154\n",
      "[-0.411  0.091 -0.094  0.066] 0.501282801950193\n",
      "-0.9446280543123202 12.792186783157154\n",
      "Warning: Desired error not necessarily achieved due to precision loss.\n",
      "         Current function value: 0.501336\n",
      "         Iterations: 49\n",
      "         Function evaluations: 101\n",
      "         Gradient evaluations: 91\n",
      "[ 0.413 -0.092  0.094 -0.066] 0.5013361818129677\n",
      "43 eff_id_e 0.0 1.0 0.0 0.596207677436038 -4.974332057372519e-11\n"
     ]
    },
    {
     "name": "stderr",
     "output_type": "stream",
     "text": [
      "/home/naodell/opt/anaconda3/lib/python3.7/site-packages/numdifftools/limits.py:182: FutureWarning: arrays to stack must be passed as a \"sequence\" type such as list or tuple. Support for non-sequence iterables such as generators is deprecated as of NumPy 1.16 and will raise an error in the future.\n",
      "  f_del = np.vstack(list(np.ravel(r)) for r in sequence)\n",
      "/home/naodell/opt/anaconda3/lib/python3.7/site-packages/numdifftools/limits.py:184: FutureWarning: arrays to stack must be passed as a \"sequence\" type such as list or tuple. Support for non-sequence iterables such as generators is deprecated as of NumPy 1.16 and will raise an error in the future.\n",
      "  for step in steps)\n"
     ]
    },
    {
     "name": "stdout",
     "output_type": "stream",
     "text": [
      "0.596207677436038 4.722013835070986\n",
      "Warning: Desired error not necessarily achieved due to precision loss.\n",
      "         Current function value: 0.499092\n",
      "         Iterations: 48\n",
      "         Function evaluations: 98\n",
      "         Gradient evaluations: 85\n",
      "[-0.325 -0.024 -0.323  0.107] 0.4990915277672697\n",
      "-0.596207677436038 4.756513591810879\n",
      "Warning: Desired error not necessarily achieved due to precision loss.\n",
      "         Current function value: 0.503074\n",
      "         Iterations: 48\n",
      "         Function evaluations: 159\n",
      "         Gradient evaluations: 147\n",
      "[ 0.321  0.023  0.316 -0.105] 0.5030738754321602\n",
      "44 eff_e_0 0.0 1.0 0.0 0.7342195745539752 -4.974332057372519e-11\n"
     ]
    },
    {
     "name": "stderr",
     "output_type": "stream",
     "text": [
      "/home/naodell/opt/anaconda3/lib/python3.7/site-packages/numdifftools/limits.py:182: FutureWarning: arrays to stack must be passed as a \"sequence\" type such as list or tuple. Support for non-sequence iterables such as generators is deprecated as of NumPy 1.16 and will raise an error in the future.\n",
      "  f_del = np.vstack(list(np.ravel(r)) for r in sequence)\n",
      "/home/naodell/opt/anaconda3/lib/python3.7/site-packages/numdifftools/limits.py:184: FutureWarning: arrays to stack must be passed as a \"sequence\" type such as list or tuple. Support for non-sequence iterables such as generators is deprecated as of NumPy 1.16 and will raise an error in the future.\n",
      "  for step in steps)\n"
     ]
    },
    {
     "name": "stdout",
     "output_type": "stream",
     "text": [
      "0.7342195745539752 1.2317582375915106\n",
      "Warning: Desired error not necessarily achieved due to precision loss.\n",
      "         Current function value: 0.499198\n",
      "         Iterations: 44\n",
      "         Function evaluations: 89\n",
      "         Gradient evaluations: 79\n",
      "[-0.138  0.041 -0.016  0.018] 0.49919808360526835\n",
      "-0.7342195745539752 1.236692663802003\n",
      "Warning: Desired error not necessarily achieved due to precision loss.\n",
      "         Current function value: 0.502030\n",
      "         Iterations: 45\n",
      "         Function evaluations: 136\n",
      "         Gradient evaluations: 125\n",
      "[ 0.129 -0.044  0.007 -0.015] 0.5020301918344316\n",
      "45 eff_e_1 0.0 1.0 0.0 0.9048713446251488 -4.974332057372519e-11\n"
     ]
    },
    {
     "name": "stderr",
     "output_type": "stream",
     "text": [
      "/home/naodell/opt/anaconda3/lib/python3.7/site-packages/numdifftools/limits.py:182: FutureWarning: arrays to stack must be passed as a \"sequence\" type such as list or tuple. Support for non-sequence iterables such as generators is deprecated as of NumPy 1.16 and will raise an error in the future.\n",
      "  f_del = np.vstack(list(np.ravel(r)) for r in sequence)\n",
      "/home/naodell/opt/anaconda3/lib/python3.7/site-packages/numdifftools/limits.py:184: FutureWarning: arrays to stack must be passed as a \"sequence\" type such as list or tuple. Support for non-sequence iterables such as generators is deprecated as of NumPy 1.16 and will raise an error in the future.\n",
      "  for step in steps)\n"
     ]
    },
    {
     "name": "stdout",
     "output_type": "stream",
     "text": [
      "0.9048713446251488 0.7313715444573807\n",
      "Warning: Desired error not necessarily achieved due to precision loss.\n",
      "         Current function value: 0.499101\n",
      "         Iterations: 46\n",
      "         Function evaluations: 113\n",
      "         Gradient evaluations: 102\n",
      "[-0.104  0.001 -0.003  0.017] 0.4991005163821523\n",
      "-0.9048713446251488 0.7325492684529082\n",
      "Optimization terminated successfully.\n",
      "         Current function value: 0.499634\n",
      "         Iterations: 46\n",
      "         Function evaluations: 70\n",
      "         Gradient evaluations: 70\n",
      "[ 0.1   -0.002 -0.    -0.016] 0.49963440864577535\n",
      "46 eff_e_2 0.0 1.0 0.0 0.8680557258219516 -4.974332057372519e-11\n"
     ]
    },
    {
     "name": "stderr",
     "output_type": "stream",
     "text": [
      "/home/naodell/opt/anaconda3/lib/python3.7/site-packages/numdifftools/limits.py:182: FutureWarning: arrays to stack must be passed as a \"sequence\" type such as list or tuple. Support for non-sequence iterables such as generators is deprecated as of NumPy 1.16 and will raise an error in the future.\n",
      "  f_del = np.vstack(list(np.ravel(r)) for r in sequence)\n",
      "/home/naodell/opt/anaconda3/lib/python3.7/site-packages/numdifftools/limits.py:184: FutureWarning: arrays to stack must be passed as a \"sequence\" type such as list or tuple. Support for non-sequence iterables such as generators is deprecated as of NumPy 1.16 and will raise an error in the future.\n",
      "  for step in steps)\n"
     ]
    },
    {
     "name": "stdout",
     "output_type": "stream",
     "text": [
      "0.8680557258219516 0.7535982583191132\n",
      "Warning: Desired error not necessarily achieved due to precision loss.\n",
      "         Current function value: 0.499292\n",
      "         Iterations: 46\n",
      "         Function evaluations: 152\n",
      "         Gradient evaluations: 141\n",
      "[-0.126 -0.004  0.008  0.019] 0.49929179199556123\n",
      "-0.8680557258219516 0.7555562431404084\n",
      "Warning: Desired error not necessarily achieved due to precision loss.\n",
      "         Current function value: 0.500380\n",
      "         Iterations: 46\n",
      "         Function evaluations: 151\n",
      "         Gradient evaluations: 139\n",
      "[ 0.121  0.002 -0.012 -0.018] 0.5003801962177606\n",
      "47 eff_e_3 0.0 1.0 0.0 0.9198244568312236 -4.974332057372519e-11\n"
     ]
    },
    {
     "name": "stderr",
     "output_type": "stream",
     "text": [
      "/home/naodell/opt/anaconda3/lib/python3.7/site-packages/numdifftools/limits.py:182: FutureWarning: arrays to stack must be passed as a \"sequence\" type such as list or tuple. Support for non-sequence iterables such as generators is deprecated as of NumPy 1.16 and will raise an error in the future.\n",
      "  f_del = np.vstack(list(np.ravel(r)) for r in sequence)\n",
      "/home/naodell/opt/anaconda3/lib/python3.7/site-packages/numdifftools/limits.py:184: FutureWarning: arrays to stack must be passed as a \"sequence\" type such as list or tuple. Support for non-sequence iterables such as generators is deprecated as of NumPy 1.16 and will raise an error in the future.\n",
      "  for step in steps)\n"
     ]
    },
    {
     "name": "stdout",
     "output_type": "stream",
     "text": [
      "0.9198244568312236 0.6734152135992578\n",
      "Warning: Desired error not necessarily achieved due to precision loss.\n",
      "         Current function value: 0.499058\n",
      "         Iterations: 44\n",
      "         Function evaluations: 130\n",
      "         Gradient evaluations: 119\n",
      "[-0.091  0.016  0.052  0.004] 0.4990575899701483\n",
      "-0.9198244568312236 0.6740638412760881\n",
      "Warning: Desired error not necessarily achieved due to precision loss.\n",
      "         Current function value: 0.499500\n",
      "         Iterations: 45\n",
      "         Function evaluations: 234\n",
      "         Gradient evaluations: 222\n",
      "[ 0.087 -0.018 -0.055 -0.002] 0.4995001978869522\n",
      "48 eff_e_4 0.0 1.0 0.0 0.4637665071248783 -4.974332057372519e-11\n"
     ]
    },
    {
     "name": "stderr",
     "output_type": "stream",
     "text": [
      "/home/naodell/opt/anaconda3/lib/python3.7/site-packages/numdifftools/limits.py:182: FutureWarning: arrays to stack must be passed as a \"sequence\" type such as list or tuple. Support for non-sequence iterables such as generators is deprecated as of NumPy 1.16 and will raise an error in the future.\n",
      "  f_del = np.vstack(list(np.ravel(r)) for r in sequence)\n",
      "/home/naodell/opt/anaconda3/lib/python3.7/site-packages/numdifftools/limits.py:184: FutureWarning: arrays to stack must be passed as a \"sequence\" type such as list or tuple. Support for non-sequence iterables such as generators is deprecated as of NumPy 1.16 and will raise an error in the future.\n",
      "  for step in steps)\n"
     ]
    },
    {
     "name": "stdout",
     "output_type": "stream",
     "text": [
      "0.4637665071248783 1.4295087447942882\n",
      "Warning: Desired error not necessarily achieved due to precision loss.\n",
      "         Current function value: 0.499047\n",
      "         Iterations: 46\n",
      "         Function evaluations: 242\n",
      "         Gradient evaluations: 222\n",
      "[-0.181  0.06   0.085  0.006] 0.4990467100848958\n",
      "-0.4637665071248783 1.4364540091329805\n",
      "Warning: Desired error not necessarily achieved due to precision loss.\n",
      "         Current function value: 0.501297\n",
      "         Iterations: 46\n",
      "         Function evaluations: 110\n",
      "         Gradient evaluations: 99\n",
      "[ 0.176 -0.062 -0.088 -0.004] 0.5012973409862129\n",
      "49 eff_e_5 0.0 1.0 0.0 0.4429480348482411 -4.974332057372519e-11\n"
     ]
    },
    {
     "name": "stderr",
     "output_type": "stream",
     "text": [
      "/home/naodell/opt/anaconda3/lib/python3.7/site-packages/numdifftools/limits.py:182: FutureWarning: arrays to stack must be passed as a \"sequence\" type such as list or tuple. Support for non-sequence iterables such as generators is deprecated as of NumPy 1.16 and will raise an error in the future.\n",
      "  f_del = np.vstack(list(np.ravel(r)) for r in sequence)\n",
      "/home/naodell/opt/anaconda3/lib/python3.7/site-packages/numdifftools/limits.py:184: FutureWarning: arrays to stack must be passed as a \"sequence\" type such as list or tuple. Support for non-sequence iterables such as generators is deprecated as of NumPy 1.16 and will raise an error in the future.\n",
      "  for step in steps)\n"
     ]
    },
    {
     "name": "stdout",
     "output_type": "stream",
     "text": [
      "0.4429480348482411 6.2039590875451545\n",
      "Optimization terminated successfully.\n",
      "         Current function value: 0.498382\n",
      "         Iterations: 50\n",
      "         Function evaluations: 83\n",
      "         Gradient evaluations: 81\n",
      "[-0.164  0.083  0.234 -0.024] 0.49838168543546185\n",
      "-0.4429480348482411 6.244316823696549\n",
      "Warning: Desired error not necessarily achieved due to precision loss.\n",
      "         Current function value: 0.501846\n",
      "         Iterations: 48\n",
      "         Function evaluations: 139\n",
      "         Gradient evaluations: 128\n",
      "[ 0.153 -0.088 -0.242  0.028] 0.5018461898030779\n",
      "50 trigger_e_0 0.0 1.0 0.0 0.9473067000932586 -4.974332057372519e-11\n"
     ]
    },
    {
     "name": "stderr",
     "output_type": "stream",
     "text": [
      "/home/naodell/opt/anaconda3/lib/python3.7/site-packages/numdifftools/limits.py:182: FutureWarning: arrays to stack must be passed as a \"sequence\" type such as list or tuple. Support for non-sequence iterables such as generators is deprecated as of NumPy 1.16 and will raise an error in the future.\n",
      "  f_del = np.vstack(list(np.ravel(r)) for r in sequence)\n",
      "/home/naodell/opt/anaconda3/lib/python3.7/site-packages/numdifftools/limits.py:184: FutureWarning: arrays to stack must be passed as a \"sequence\" type such as list or tuple. Support for non-sequence iterables such as generators is deprecated as of NumPy 1.16 and will raise an error in the future.\n",
      "  for step in steps)\n"
     ]
    },
    {
     "name": "stdout",
     "output_type": "stream",
     "text": [
      "0.9473067000932586 0.991262404071721\n",
      "Optimization terminated successfully.\n",
      "         Current function value: 0.500077\n",
      "         Iterations: 48\n",
      "         Function evaluations: 68\n",
      "         Gradient evaluations: 68\n",
      "[-0.048  0.066  0.023 -0.006] 0.5000772709681792\n",
      "-0.9473067000932586 0.9925931801509167\n",
      "Warning: Desired error not necessarily achieved due to precision loss.\n",
      "         Current function value: 0.500165\n",
      "         Iterations: 46\n",
      "         Function evaluations: 90\n",
      "         Gradient evaluations: 81\n",
      "[ 0.047 -0.066 -0.024  0.007] 0.5001647315608245\n",
      "51 trigger_e_1 0.0 1.0 0.0 0.9861960734959032 -4.974332057372519e-11\n"
     ]
    },
    {
     "name": "stderr",
     "output_type": "stream",
     "text": [
      "/home/naodell/opt/anaconda3/lib/python3.7/site-packages/numdifftools/limits.py:182: FutureWarning: arrays to stack must be passed as a \"sequence\" type such as list or tuple. Support for non-sequence iterables such as generators is deprecated as of NumPy 1.16 and will raise an error in the future.\n",
      "  f_del = np.vstack(list(np.ravel(r)) for r in sequence)\n",
      "/home/naodell/opt/anaconda3/lib/python3.7/site-packages/numdifftools/limits.py:184: FutureWarning: arrays to stack must be passed as a \"sequence\" type such as list or tuple. Support for non-sequence iterables such as generators is deprecated as of NumPy 1.16 and will raise an error in the future.\n",
      "  for step in steps)\n"
     ]
    },
    {
     "name": "stdout",
     "output_type": "stream",
     "text": [
      "0.9861960734959032 0.6469963559075438\n",
      "Warning: Desired error not necessarily achieved due to precision loss.\n",
      "         Current function value: 0.500274\n",
      "         Iterations: 45\n",
      "         Function evaluations: 182\n",
      "         Gradient evaluations: 169\n",
      "[-0.024  0.033  0.012 -0.003] 0.5002742438766979\n",
      "-0.9861960734959032 0.6472109085719111\n",
      "Warning: Desired error not necessarily achieved due to precision loss.\n",
      "         Current function value: 0.500286\n",
      "         Iterations: 46\n",
      "         Function evaluations: 116\n",
      "         Gradient evaluations: 105\n",
      "[ 0.023 -0.033 -0.012  0.003] 0.5002856394234171\n",
      "52 trigger_e_2 0.0 1.0 0.0 0.9923470007092542 -4.974332057372519e-11\n"
     ]
    },
    {
     "name": "stderr",
     "output_type": "stream",
     "text": [
      "/home/naodell/opt/anaconda3/lib/python3.7/site-packages/numdifftools/limits.py:182: FutureWarning: arrays to stack must be passed as a \"sequence\" type such as list or tuple. Support for non-sequence iterables such as generators is deprecated as of NumPy 1.16 and will raise an error in the future.\n",
      "  f_del = np.vstack(list(np.ravel(r)) for r in sequence)\n",
      "/home/naodell/opt/anaconda3/lib/python3.7/site-packages/numdifftools/limits.py:184: FutureWarning: arrays to stack must be passed as a \"sequence\" type such as list or tuple. Support for non-sequence iterables such as generators is deprecated as of NumPy 1.16 and will raise an error in the future.\n",
      "  for step in steps)\n"
     ]
    },
    {
     "name": "stdout",
     "output_type": "stream",
     "text": [
      "0.9923470007092542 0.5786252251825839\n",
      "Warning: Desired error not necessarily achieved due to precision loss.\n",
      "         Current function value: 0.499732\n",
      "         Iterations: 46\n",
      "         Function evaluations: 141\n",
      "         Gradient evaluations: 128\n",
      "[-0.017  0.024  0.008 -0.002] 0.499732028748655\n",
      "-0.9923470007092542 0.5787097276238053\n",
      "Optimization terminated successfully.\n",
      "         Current function value: 0.499736\n",
      "         Iterations: 45\n",
      "         Function evaluations: 64\n",
      "         Gradient evaluations: 64\n",
      "[ 0.017 -0.024 -0.008  0.003] 0.4997363488129594\n",
      "53 trigger_e_3 0.0 1.0 0.0 0.990777862904014 -4.974332057372519e-11\n"
     ]
    },
    {
     "name": "stderr",
     "output_type": "stream",
     "text": [
      "/home/naodell/opt/anaconda3/lib/python3.7/site-packages/numdifftools/limits.py:182: FutureWarning: arrays to stack must be passed as a \"sequence\" type such as list or tuple. Support for non-sequence iterables such as generators is deprecated as of NumPy 1.16 and will raise an error in the future.\n",
      "  f_del = np.vstack(list(np.ravel(r)) for r in sequence)\n",
      "/home/naodell/opt/anaconda3/lib/python3.7/site-packages/numdifftools/limits.py:184: FutureWarning: arrays to stack must be passed as a \"sequence\" type such as list or tuple. Support for non-sequence iterables such as generators is deprecated as of NumPy 1.16 and will raise an error in the future.\n",
      "  for step in steps)\n"
     ]
    },
    {
     "name": "stdout",
     "output_type": "stream",
     "text": [
      "0.990777862904014 0.5952347934962994\n",
      "Warning: Desired error not necessarily achieved due to precision loss.\n",
      "         Current function value: 0.499764\n",
      "         Iterations: 46\n",
      "         Function evaluations: 156\n",
      "         Gradient evaluations: 144\n",
      "[-0.019  0.026  0.009 -0.003] 0.4997642288735446\n",
      "-0.990777862904014 0.595347352633967\n",
      "Warning: Desired error not necessarily achieved due to precision loss.\n",
      "         Current function value: 0.499770\n",
      "         Iterations: 44\n",
      "         Function evaluations: 111\n",
      "         Gradient evaluations: 99\n",
      "[ 0.018 -0.026 -0.009  0.003] 0.4997702158561329\n",
      "54 trigger_e_4 0.0 1.0 0.0 0.9064068073567249 -4.974332057372519e-11\n"
     ]
    },
    {
     "name": "stderr",
     "output_type": "stream",
     "text": [
      "/home/naodell/opt/anaconda3/lib/python3.7/site-packages/numdifftools/limits.py:182: FutureWarning: arrays to stack must be passed as a \"sequence\" type such as list or tuple. Support for non-sequence iterables such as generators is deprecated as of NumPy 1.16 and will raise an error in the future.\n",
      "  f_del = np.vstack(list(np.ravel(r)) for r in sequence)\n",
      "/home/naodell/opt/anaconda3/lib/python3.7/site-packages/numdifftools/limits.py:184: FutureWarning: arrays to stack must be passed as a \"sequence\" type such as list or tuple. Support for non-sequence iterables such as generators is deprecated as of NumPy 1.16 and will raise an error in the future.\n",
      "  for step in steps)\n"
     ]
    },
    {
     "name": "stdout",
     "output_type": "stream",
     "text": [
      "0.9064068073567249 0.9379348155127806\n",
      "Warning: Desired error not necessarily achieved due to precision loss.\n",
      "         Current function value: 0.500592\n",
      "         Iterations: 47\n",
      "         Function evaluations: 103\n",
      "         Gradient evaluations: 91\n",
      "[-0.022  0.023 -0.042  0.007] 0.5005923287447787\n",
      "-0.9064068073567249 0.9399245959038617\n",
      "Warning: Desired error not necessarily achieved due to precision loss.\n",
      "         Current function value: 0.500679\n",
      "         Iterations: 49\n",
      "         Function evaluations: 111\n",
      "         Gradient evaluations: 99\n",
      "[ 0.02  -0.024  0.041 -0.006] 0.5006791197437234\n",
      "55 trigger_e_5 0.0 1.0 0.0 0.5300386015087941 -4.974332057372519e-11\n"
     ]
    },
    {
     "name": "stderr",
     "output_type": "stream",
     "text": [
      "/home/naodell/opt/anaconda3/lib/python3.7/site-packages/numdifftools/limits.py:182: FutureWarning: arrays to stack must be passed as a \"sequence\" type such as list or tuple. Support for non-sequence iterables such as generators is deprecated as of NumPy 1.16 and will raise an error in the future.\n",
      "  f_del = np.vstack(list(np.ravel(r)) for r in sequence)\n",
      "/home/naodell/opt/anaconda3/lib/python3.7/site-packages/numdifftools/limits.py:184: FutureWarning: arrays to stack must be passed as a \"sequence\" type such as list or tuple. Support for non-sequence iterables such as generators is deprecated as of NumPy 1.16 and will raise an error in the future.\n",
      "  for step in steps)\n"
     ]
    },
    {
     "name": "stdout",
     "output_type": "stream",
     "text": [
      "0.5300386015087941 5.4061195137835565\n",
      "Warning: Desired error not necessarily achieved due to precision loss.\n",
      "         Current function value: 0.499820\n",
      "         Iterations: 46\n",
      "         Function evaluations: 129\n",
      "         Gradient evaluations: 118\n",
      "[-0.144 -0.003 -0.308  0.073] 0.49981994746926545\n",
      "-0.5300386015087941 5.441487911647494\n",
      "Warning: Desired error not necessarily achieved due to precision loss.\n",
      "         Current function value: 0.500916\n",
      "         Iterations: 47\n",
      "         Function evaluations: 126\n",
      "         Gradient evaluations: 114\n",
      "[ 0.13  -0.004  0.303 -0.068] 0.5009162943646632\n",
      "56 escale_e 0.0 1.0 0.0 0.4595239175733978 -4.974332057372519e-11\n"
     ]
    },
    {
     "name": "stderr",
     "output_type": "stream",
     "text": [
      "/home/naodell/opt/anaconda3/lib/python3.7/site-packages/numdifftools/limits.py:182: FutureWarning: arrays to stack must be passed as a \"sequence\" type such as list or tuple. Support for non-sequence iterables such as generators is deprecated as of NumPy 1.16 and will raise an error in the future.\n",
      "  f_del = np.vstack(list(np.ravel(r)) for r in sequence)\n",
      "/home/naodell/opt/anaconda3/lib/python3.7/site-packages/numdifftools/limits.py:184: FutureWarning: arrays to stack must be passed as a \"sequence\" type such as list or tuple. Support for non-sequence iterables such as generators is deprecated as of NumPy 1.16 and will raise an error in the future.\n",
      "  for step in steps)\n"
     ]
    },
    {
     "name": "stdout",
     "output_type": "stream",
     "text": [
      "0.4595239175733978 1.9649265756415701\n",
      "Warning: Desired error not necessarily achieved due to precision loss.\n",
      "         Current function value: 0.584843\n",
      "         Iterations: 45\n",
      "         Function evaluations: 124\n",
      "         Gradient evaluations: 112\n",
      "[-0.156 -0.102  0.283 -0.004] 0.584842805761161\n",
      "-0.4595239175733978 1.5233693764587544\n",
      "Warning: Desired error not necessarily achieved due to precision loss.\n",
      "         Current function value: 0.467565\n",
      "         Iterations: 46\n",
      "         Function evaluations: 166\n",
      "         Gradient evaluations: 153\n",
      "[ 0.147  0.087 -0.238  0.001] 0.46756547309038615\n",
      "57 trigger_e_tag 0.0 1.0 0.0 0.8599818424196572 -4.974332057372519e-11\n"
     ]
    },
    {
     "name": "stderr",
     "output_type": "stream",
     "text": [
      "/home/naodell/opt/anaconda3/lib/python3.7/site-packages/numdifftools/limits.py:182: FutureWarning: arrays to stack must be passed as a \"sequence\" type such as list or tuple. Support for non-sequence iterables such as generators is deprecated as of NumPy 1.16 and will raise an error in the future.\n",
      "  f_del = np.vstack(list(np.ravel(r)) for r in sequence)\n",
      "/home/naodell/opt/anaconda3/lib/python3.7/site-packages/numdifftools/limits.py:184: FutureWarning: arrays to stack must be passed as a \"sequence\" type such as list or tuple. Support for non-sequence iterables such as generators is deprecated as of NumPy 1.16 and will raise an error in the future.\n",
      "  for step in steps)\n"
     ]
    },
    {
     "name": "stdout",
     "output_type": "stream",
     "text": [
      "0.8599818424196572 3.3382988706908154\n",
      "Optimization terminated successfully.\n",
      "         Current function value: 0.499768\n",
      "         Iterations: 50\n",
      "         Function evaluations: 118\n",
      "         Gradient evaluations: 117\n",
      "[-0.158 -0.037  0.092  0.016] 0.49976767189430105\n",
      "-0.8599818424196572 3.3538311306043402\n",
      "Optimization terminated successfully.\n",
      "         Current function value: 0.500514\n",
      "         Iterations: 49\n",
      "         Function evaluations: 85\n",
      "         Gradient evaluations: 84\n",
      "[ 0.154  0.034 -0.097 -0.015] 0.5005135421023803\n",
      "58 trigger_e_probe 0.0 1.0 0.0 0.7247435589724944 -4.974332057372519e-11\n"
     ]
    },
    {
     "name": "stderr",
     "output_type": "stream",
     "text": [
      "/home/naodell/opt/anaconda3/lib/python3.7/site-packages/numdifftools/limits.py:182: FutureWarning: arrays to stack must be passed as a \"sequence\" type such as list or tuple. Support for non-sequence iterables such as generators is deprecated as of NumPy 1.16 and will raise an error in the future.\n",
      "  f_del = np.vstack(list(np.ravel(r)) for r in sequence)\n",
      "/home/naodell/opt/anaconda3/lib/python3.7/site-packages/numdifftools/limits.py:184: FutureWarning: arrays to stack must be passed as a \"sequence\" type such as list or tuple. Support for non-sequence iterables such as generators is deprecated as of NumPy 1.16 and will raise an error in the future.\n",
      "  for step in steps)\n"
     ]
    },
    {
     "name": "stdout",
     "output_type": "stream",
     "text": [
      "0.7247435589724944 1.6164173139842979\n",
      "Optimization terminated successfully.\n",
      "         Current function value: 0.499460\n",
      "         Iterations: 48\n",
      "         Function evaluations: 195\n",
      "         Gradient evaluations: 193\n",
      "[ 0.008 -0.007 -0.184  0.029] 0.49945953216676414\n",
      "-0.7247435589724944 1.6246655030284654\n",
      "Warning: Desired error not necessarily achieved due to precision loss.\n",
      "         Current function value: 0.500537\n",
      "         Iterations: 45\n",
      "         Function evaluations: 127\n",
      "         Gradient evaluations: 117\n",
      "[-0.016  0.003  0.182 -0.027] 0.5005368102326289\n",
      "59 eff_iso_mu 0.0 1.0 0.0 0.9803298061826184 -4.974332057372519e-11\n"
     ]
    },
    {
     "name": "stderr",
     "output_type": "stream",
     "text": [
      "/home/naodell/opt/anaconda3/lib/python3.7/site-packages/numdifftools/limits.py:182: FutureWarning: arrays to stack must be passed as a \"sequence\" type such as list or tuple. Support for non-sequence iterables such as generators is deprecated as of NumPy 1.16 and will raise an error in the future.\n",
      "  f_del = np.vstack(list(np.ravel(r)) for r in sequence)\n",
      "/home/naodell/opt/anaconda3/lib/python3.7/site-packages/numdifftools/limits.py:184: FutureWarning: arrays to stack must be passed as a \"sequence\" type such as list or tuple. Support for non-sequence iterables such as generators is deprecated as of NumPy 1.16 and will raise an error in the future.\n",
      "  for step in steps)\n"
     ]
    },
    {
     "name": "stdout",
     "output_type": "stream",
     "text": [
      "0.9803298061826184 0.6594264380692125\n",
      "Optimization terminated successfully.\n",
      "         Current function value: 0.501039\n",
      "         Iterations: 46\n",
      "         Function evaluations: 67\n",
      "         Gradient evaluations: 67\n",
      "[ 0.007 -0.046 -0.052  0.015] 0.5010385958051936\n",
      "-0.9803298061826184 0.6595760233672823\n",
      "Warning: Desired error not necessarily achieved due to precision loss.\n",
      "         Current function value: 0.501081\n",
      "         Iterations: 45\n",
      "         Function evaluations: 179\n",
      "         Gradient evaluations: 167\n",
      "[-0.007  0.046  0.051 -0.014] 0.5010807204403883\n",
      "60 eff_id_mu 0.0 1.0 0.0 0.9641768748537648 -4.974332057372519e-11\n"
     ]
    },
    {
     "name": "stderr",
     "output_type": "stream",
     "text": [
      "/home/naodell/opt/anaconda3/lib/python3.7/site-packages/numdifftools/limits.py:182: FutureWarning: arrays to stack must be passed as a \"sequence\" type such as list or tuple. Support for non-sequence iterables such as generators is deprecated as of NumPy 1.16 and will raise an error in the future.\n",
      "  f_del = np.vstack(list(np.ravel(r)) for r in sequence)\n",
      "/home/naodell/opt/anaconda3/lib/python3.7/site-packages/numdifftools/limits.py:184: FutureWarning: arrays to stack must be passed as a \"sequence\" type such as list or tuple. Support for non-sequence iterables such as generators is deprecated as of NumPy 1.16 and will raise an error in the future.\n",
      "  for step in steps)\n"
     ]
    },
    {
     "name": "stdout",
     "output_type": "stream",
     "text": [
      "0.9641768748537648 1.2103732144272903\n",
      "Warning: Desired error not necessarily achieved due to precision loss.\n",
      "         Current function value: 0.500673\n",
      "         Iterations: 47\n",
      "         Function evaluations: 106\n",
      "         Gradient evaluations: 96\n",
      "[-0.166 -0.142 -0.108  0.067] 0.5006728299896233\n",
      "-0.9641768748537648 1.2150548610859913\n",
      "Optimization terminated successfully.\n",
      "         Current function value: 0.500881\n",
      "         Iterations: 47\n",
      "         Function evaluations: 78\n",
      "         Gradient evaluations: 77\n",
      "[ 0.167  0.142  0.108 -0.067] 0.5008814840262312\n",
      "61 eff_mu_0 0.0 1.0 0.0 0.9796600598902386 -4.974332057372519e-11\n"
     ]
    },
    {
     "name": "stderr",
     "output_type": "stream",
     "text": [
      "/home/naodell/opt/anaconda3/lib/python3.7/site-packages/numdifftools/limits.py:182: FutureWarning: arrays to stack must be passed as a \"sequence\" type such as list or tuple. Support for non-sequence iterables such as generators is deprecated as of NumPy 1.16 and will raise an error in the future.\n",
      "  f_del = np.vstack(list(np.ravel(r)) for r in sequence)\n",
      "/home/naodell/opt/anaconda3/lib/python3.7/site-packages/numdifftools/limits.py:184: FutureWarning: arrays to stack must be passed as a \"sequence\" type such as list or tuple. Support for non-sequence iterables such as generators is deprecated as of NumPy 1.16 and will raise an error in the future.\n",
      "  for step in steps)\n"
     ]
    },
    {
     "name": "stdout",
     "output_type": "stream",
     "text": [
      "0.9796600598902386 0.5127259287736168\n",
      "Optimization terminated successfully.\n",
      "         Current function value: 0.499553\n",
      "         Iterations: 45\n",
      "         Function evaluations: 68\n",
      "         Gradient evaluations: 67\n",
      "[ 0.013  0.02  -0.112  0.012] 0.49955259191142\n",
      "-0.9796600598902386 0.5128225688020202\n",
      "Warning: Desired error not necessarily achieved due to precision loss.\n",
      "         Current function value: 0.499586\n",
      "         Iterations: 45\n",
      "         Function evaluations: 193\n",
      "         Gradient evaluations: 180\n",
      "[-0.014 -0.021  0.111 -0.012] 0.4995857420984459\n",
      "62 eff_mu_1 0.0 1.0 0.0 0.9770052577821766 -4.974332057372519e-11\n"
     ]
    },
    {
     "name": "stderr",
     "output_type": "stream",
     "text": [
      "/home/naodell/opt/anaconda3/lib/python3.7/site-packages/numdifftools/limits.py:182: FutureWarning: arrays to stack must be passed as a \"sequence\" type such as list or tuple. Support for non-sequence iterables such as generators is deprecated as of NumPy 1.16 and will raise an error in the future.\n",
      "  f_del = np.vstack(list(np.ravel(r)) for r in sequence)\n",
      "/home/naodell/opt/anaconda3/lib/python3.7/site-packages/numdifftools/limits.py:184: FutureWarning: arrays to stack must be passed as a \"sequence\" type such as list or tuple. Support for non-sequence iterables such as generators is deprecated as of NumPy 1.16 and will raise an error in the future.\n",
      "  for step in steps)\n"
     ]
    },
    {
     "name": "stdout",
     "output_type": "stream",
     "text": [
      "0.9770052577821766 0.5117455234834695\n",
      "Warning: Desired error not necessarily achieved due to precision loss.\n",
      "         Current function value: 0.499917\n",
      "         Iterations: 45\n",
      "         Function evaluations: 128\n",
      "         Gradient evaluations: 118\n",
      "[ 0.002 -0.003 -0.065  0.011] 0.4999171489466058\n",
      "-0.9770052577821766 0.5118186156443895\n",
      "Warning: Desired error not necessarily achieved due to precision loss.\n",
      "         Current function value: 0.499760\n",
      "         Iterations: 44\n",
      "         Function evaluations: 148\n",
      "         Gradient evaluations: 133\n",
      "[-0.001  0.003  0.062 -0.01 ] 0.4997596056850851\n",
      "63 eff_mu_2 0.0 1.0 0.0 0.9793511737000042 -4.974332057372519e-11\n"
     ]
    },
    {
     "name": "stderr",
     "output_type": "stream",
     "text": [
      "/home/naodell/opt/anaconda3/lib/python3.7/site-packages/numdifftools/limits.py:182: FutureWarning: arrays to stack must be passed as a \"sequence\" type such as list or tuple. Support for non-sequence iterables such as generators is deprecated as of NumPy 1.16 and will raise an error in the future.\n",
      "  f_del = np.vstack(list(np.ravel(r)) for r in sequence)\n",
      "/home/naodell/opt/anaconda3/lib/python3.7/site-packages/numdifftools/limits.py:184: FutureWarning: arrays to stack must be passed as a \"sequence\" type such as list or tuple. Support for non-sequence iterables such as generators is deprecated as of NumPy 1.16 and will raise an error in the future.\n",
      "  for step in steps)\n"
     ]
    },
    {
     "name": "stdout",
     "output_type": "stream",
     "text": [
      "0.9793511737000042 0.512211232105468\n",
      "Optimization terminated successfully.\n",
      "         Current function value: 0.499959\n",
      "         Iterations: 46\n",
      "         Function evaluations: 124\n",
      "         Gradient evaluations: 123\n",
      "[-0.017 -0.015 -0.07   0.016] 0.49995926365112975\n",
      "-0.9793511737000042 0.5122649533217629\n",
      "Optimization terminated successfully.\n",
      "         Current function value: 0.500124\n",
      "         Iterations: 47\n",
      "         Function evaluations: 75\n",
      "         Gradient evaluations: 74\n",
      "[ 0.015  0.014  0.07  -0.016] 0.5001242688530997\n",
      "64 eff_mu_3 0.0 1.0 0.0 0.8623036875530772 -4.974332057372519e-11\n"
     ]
    },
    {
     "name": "stderr",
     "output_type": "stream",
     "text": [
      "/home/naodell/opt/anaconda3/lib/python3.7/site-packages/numdifftools/limits.py:182: FutureWarning: arrays to stack must be passed as a \"sequence\" type such as list or tuple. Support for non-sequence iterables such as generators is deprecated as of NumPy 1.16 and will raise an error in the future.\n",
      "  f_del = np.vstack(list(np.ravel(r)) for r in sequence)\n",
      "/home/naodell/opt/anaconda3/lib/python3.7/site-packages/numdifftools/limits.py:184: FutureWarning: arrays to stack must be passed as a \"sequence\" type such as list or tuple. Support for non-sequence iterables such as generators is deprecated as of NumPy 1.16 and will raise an error in the future.\n",
      "  for step in steps)\n"
     ]
    },
    {
     "name": "stdout",
     "output_type": "stream",
     "text": [
      "0.8623036875530772 0.6527024344758914\n",
      "Warning: Desired error not necessarily achieved due to precision loss.\n",
      "         Current function value: 0.499684\n",
      "         Iterations: 44\n",
      "         Function evaluations: 151\n",
      "         Gradient evaluations: 142\n",
      "[-0.048 -0.073 -0.11   0.037] 0.4996843909977234\n",
      "-0.8623036875530772 0.6537667896717678\n",
      "Warning: Desired error not necessarily achieved due to precision loss.\n",
      "         Current function value: 0.500608\n",
      "         Iterations: 45\n",
      "         Function evaluations: 128\n",
      "         Gradient evaluations: 117\n",
      "[ 0.045  0.07   0.107 -0.035] 0.5006078832618642\n",
      "65 eff_mu_4 0.0 1.0 0.0 0.9577389012346168 -4.974332057372519e-11\n"
     ]
    },
    {
     "name": "stderr",
     "output_type": "stream",
     "text": [
      "/home/naodell/opt/anaconda3/lib/python3.7/site-packages/numdifftools/limits.py:182: FutureWarning: arrays to stack must be passed as a \"sequence\" type such as list or tuple. Support for non-sequence iterables such as generators is deprecated as of NumPy 1.16 and will raise an error in the future.\n",
      "  f_del = np.vstack(list(np.ravel(r)) for r in sequence)\n",
      "/home/naodell/opt/anaconda3/lib/python3.7/site-packages/numdifftools/limits.py:184: FutureWarning: arrays to stack must be passed as a \"sequence\" type such as list or tuple. Support for non-sequence iterables such as generators is deprecated as of NumPy 1.16 and will raise an error in the future.\n",
      "  for step in steps)\n"
     ]
    },
    {
     "name": "stdout",
     "output_type": "stream",
     "text": [
      "0.9577389012346168 0.5295518947240336\n",
      "Warning: Desired error not necessarily achieved due to precision loss.\n",
      "         Current function value: 0.499960\n",
      "         Iterations: 46\n",
      "         Function evaluations: 140\n",
      "         Gradient evaluations: 130\n",
      "[-0.043 -0.052 -0.03   0.02 ] 0.49996044378880705\n",
      "-0.9577389012346168 0.5297229218306669\n",
      "Warning: Desired error not necessarily achieved due to precision loss.\n",
      "         Current function value: 0.500109\n",
      "         Iterations: 44\n",
      "         Function evaluations: 204\n",
      "         Gradient evaluations: 191\n",
      "[ 0.042  0.051  0.029 -0.019] 0.5001089473688712\n",
      "66 eff_mu_5 0.0 1.0 0.0 0.9983582765497389 -4.974332057372519e-11\n"
     ]
    },
    {
     "name": "stderr",
     "output_type": "stream",
     "text": [
      "/home/naodell/opt/anaconda3/lib/python3.7/site-packages/numdifftools/limits.py:182: FutureWarning: arrays to stack must be passed as a \"sequence\" type such as list or tuple. Support for non-sequence iterables such as generators is deprecated as of NumPy 1.16 and will raise an error in the future.\n",
      "  f_del = np.vstack(list(np.ravel(r)) for r in sequence)\n",
      "/home/naodell/opt/anaconda3/lib/python3.7/site-packages/numdifftools/limits.py:184: FutureWarning: arrays to stack must be passed as a \"sequence\" type such as list or tuple. Support for non-sequence iterables such as generators is deprecated as of NumPy 1.16 and will raise an error in the future.\n",
      "  for step in steps)\n"
     ]
    },
    {
     "name": "stdout",
     "output_type": "stream",
     "text": [
      "0.9983582765497389 0.5008144822724375\n",
      "Optimization terminated successfully.\n",
      "         Current function value: 0.499885\n",
      "         Iterations: 48\n",
      "         Function evaluations: 78\n",
      "         Gradient evaluations: 76\n",
      "[-0.01  -0.009  0.004  0.002] 0.49988490533669555\n",
      "-0.9983582765497389 0.5008150368516499\n",
      "Warning: Desired error not necessarily achieved due to precision loss.\n",
      "         Current function value: 0.499886\n",
      "         Iterations: 44\n",
      "         Function evaluations: 75\n",
      "         Gradient evaluations: 64\n",
      "[ 0.01   0.009 -0.004 -0.002] 0.49988557824932495\n",
      "67 eff_mu_6 0.0 1.0 0.0 0.9898604243181574 -4.974332057372519e-11\n"
     ]
    },
    {
     "name": "stderr",
     "output_type": "stream",
     "text": [
      "/home/naodell/opt/anaconda3/lib/python3.7/site-packages/numdifftools/limits.py:182: FutureWarning: arrays to stack must be passed as a \"sequence\" type such as list or tuple. Support for non-sequence iterables such as generators is deprecated as of NumPy 1.16 and will raise an error in the future.\n",
      "  f_del = np.vstack(list(np.ravel(r)) for r in sequence)\n",
      "/home/naodell/opt/anaconda3/lib/python3.7/site-packages/numdifftools/limits.py:184: FutureWarning: arrays to stack must be passed as a \"sequence\" type such as list or tuple. Support for non-sequence iterables such as generators is deprecated as of NumPy 1.16 and will raise an error in the future.\n",
      "  for step in steps)\n"
     ]
    },
    {
     "name": "stdout",
     "output_type": "stream",
     "text": [
      "0.9898604243181574 0.5042139677100234\n",
      "Warning: Desired error not necessarily achieved due to precision loss.\n",
      "         Current function value: 0.499891\n",
      "         Iterations: 43\n",
      "         Function evaluations: 94\n",
      "         Gradient evaluations: 83\n",
      "[-1.681e-03 -1.846e-02  1.986e-02  4.626e-05] 0.49989073330917044\n",
      "-0.9898604243181574 0.5042306642482328\n",
      "Warning: Desired error not necessarily achieved due to precision loss.\n",
      "         Current function value: 0.499902\n",
      "         Iterations: 43\n",
      "         Function evaluations: 112\n",
      "         Gradient evaluations: 101\n",
      "[ 0.001  0.018 -0.02   0.   ] 0.4999021063331568\n",
      "68 eff_mu_7 0.0 1.0 0.0 0.9803827892236114 -4.974332057372519e-11\n"
     ]
    },
    {
     "name": "stderr",
     "output_type": "stream",
     "text": [
      "/home/naodell/opt/anaconda3/lib/python3.7/site-packages/numdifftools/limits.py:182: FutureWarning: arrays to stack must be passed as a \"sequence\" type such as list or tuple. Support for non-sequence iterables such as generators is deprecated as of NumPy 1.16 and will raise an error in the future.\n",
      "  f_del = np.vstack(list(np.ravel(r)) for r in sequence)\n",
      "/home/naodell/opt/anaconda3/lib/python3.7/site-packages/numdifftools/limits.py:184: FutureWarning: arrays to stack must be passed as a \"sequence\" type such as list or tuple. Support for non-sequence iterables such as generators is deprecated as of NumPy 1.16 and will raise an error in the future.\n",
      "  for step in steps)\n"
     ]
    },
    {
     "name": "stdout",
     "output_type": "stream",
     "text": [
      "0.9803827892236114 0.5156142526730463\n",
      "Warning: Desired error not necessarily achieved due to precision loss.\n",
      "         Current function value: 0.499889\n",
      "         Iterations: 45\n",
      "         Function evaluations: 127\n",
      "         Gradient evaluations: 115\n",
      "[ 8.047e-05 -2.065e-02  5.761e-02 -5.918e-03] 0.4998888551407034\n",
      "-0.9803827892236114 0.5156752542133691\n",
      "Warning: Desired error not necessarily achieved due to precision loss.\n",
      "         Current function value: 0.499937\n",
      "         Iterations: 44\n",
      "         Function evaluations: 148\n",
      "         Gradient evaluations: 136\n",
      "[-0.001  0.02  -0.058  0.006] 0.4999370246173011\n",
      "69 escale_mu 0.0 1.0 0.0 0.7602512172423108 -4.974332057372519e-11\n"
     ]
    },
    {
     "name": "stderr",
     "output_type": "stream",
     "text": [
      "/home/naodell/opt/anaconda3/lib/python3.7/site-packages/numdifftools/limits.py:182: FutureWarning: arrays to stack must be passed as a \"sequence\" type such as list or tuple. Support for non-sequence iterables such as generators is deprecated as of NumPy 1.16 and will raise an error in the future.\n",
      "  f_del = np.vstack(list(np.ravel(r)) for r in sequence)\n",
      "/home/naodell/opt/anaconda3/lib/python3.7/site-packages/numdifftools/limits.py:184: FutureWarning: arrays to stack must be passed as a \"sequence\" type such as list or tuple. Support for non-sequence iterables such as generators is deprecated as of NumPy 1.16 and will raise an error in the future.\n",
      "  for step in steps)\n"
     ]
    },
    {
     "name": "stdout",
     "output_type": "stream",
     "text": [
      "0.7602512172423108 1.5522473172006663\n",
      "Warning: Desired error not necessarily achieved due to precision loss.\n",
      "         Current function value: 0.588940\n",
      "         Iterations: 50\n",
      "         Function evaluations: 283\n",
      "         Gradient evaluations: 265\n",
      "[ 0.014 -0.09   0.396 -0.051] 0.5889404755474407\n",
      "-0.7602512172423108 1.0532563507349637\n",
      "Warning: Desired error not necessarily achieved due to precision loss.\n",
      "         Current function value: 0.459308\n",
      "         Iterations: 46\n",
      "         Function evaluations: 106\n",
      "         Gradient evaluations: 95\n",
      "[-0.022  0.086 -0.343  0.045] 0.4593080951899811\n",
      "70 pileup 0.0 1.0 0.0 0.4873360106017946 -4.974332057372519e-11\n"
     ]
    },
    {
     "name": "stderr",
     "output_type": "stream",
     "text": [
      "/home/naodell/opt/anaconda3/lib/python3.7/site-packages/numdifftools/limits.py:182: FutureWarning: arrays to stack must be passed as a \"sequence\" type such as list or tuple. Support for non-sequence iterables such as generators is deprecated as of NumPy 1.16 and will raise an error in the future.\n",
      "  f_del = np.vstack(list(np.ravel(r)) for r in sequence)\n",
      "/home/naodell/opt/anaconda3/lib/python3.7/site-packages/numdifftools/limits.py:184: FutureWarning: arrays to stack must be passed as a \"sequence\" type such as list or tuple. Support for non-sequence iterables such as generators is deprecated as of NumPy 1.16 and will raise an error in the future.\n",
      "  for step in steps)\n"
     ]
    },
    {
     "name": "stdout",
     "output_type": "stream",
     "text": [
      "0.4873360106017946 8.905591016153158\n",
      "Warning: Desired error not necessarily achieved due to precision loss.\n",
      "         Current function value: 0.490687\n",
      "         Iterations: 47\n",
      "         Function evaluations: 89\n",
      "         Gradient evaluations: 78\n",
      "[ 0.138 -0.033  0.053 -0.025] 0.49068652720859096\n",
      "-0.4873360106017946 8.803681499074353\n",
      "Warning: Desired error not necessarily achieved due to precision loss.\n",
      "         Current function value: 0.510346\n",
      "         Iterations: 48\n",
      "         Function evaluations: 144\n",
      "         Gradient evaluations: 132\n",
      "[-0.151  0.024 -0.067  0.031] 0.5103456030222404\n",
      "71 isr 0.0 1.0 0.0 0.5097365813276856 -4.974332057372519e-11\n"
     ]
    },
    {
     "name": "stderr",
     "output_type": "stream",
     "text": [
      "/home/naodell/opt/anaconda3/lib/python3.7/site-packages/numdifftools/limits.py:182: FutureWarning: arrays to stack must be passed as a \"sequence\" type such as list or tuple. Support for non-sequence iterables such as generators is deprecated as of NumPy 1.16 and will raise an error in the future.\n",
      "  f_del = np.vstack(list(np.ravel(r)) for r in sequence)\n",
      "/home/naodell/opt/anaconda3/lib/python3.7/site-packages/numdifftools/limits.py:184: FutureWarning: arrays to stack must be passed as a \"sequence\" type such as list or tuple. Support for non-sequence iterables such as generators is deprecated as of NumPy 1.16 and will raise an error in the future.\n",
      "  for step in steps)\n"
     ]
    },
    {
     "name": "stdout",
     "output_type": "stream",
     "text": [
      "0.5097365813276856 12.959200816022538\n",
      "Warning: Desired error not necessarily achieved due to precision loss.\n",
      "         Current function value: 0.617557\n",
      "         Iterations: 50\n",
      "         Function evaluations: 131\n",
      "         Gradient evaluations: 121\n",
      "[ 0.403  0.35   0.401 -0.184] 0.6175573216248101\n",
      "-0.5097365813276856 13.519106217823854\n",
      "Warning: Desired error not necessarily achieved due to precision loss.\n",
      "         Current function value: 0.826480\n",
      "         Iterations: 49\n",
      "         Function evaluations: 97\n",
      "         Gradient evaluations: 89\n",
      "[-0.387 -0.372 -0.486  0.199] 0.8264795136418207\n",
      "72 fsr 0.0 1.0 0.0 0.13694290596861847 -4.974332057372519e-11\n"
     ]
    },
    {
     "name": "stderr",
     "output_type": "stream",
     "text": [
      "/home/naodell/opt/anaconda3/lib/python3.7/site-packages/numdifftools/limits.py:182: FutureWarning: arrays to stack must be passed as a \"sequence\" type such as list or tuple. Support for non-sequence iterables such as generators is deprecated as of NumPy 1.16 and will raise an error in the future.\n",
      "  f_del = np.vstack(list(np.ravel(r)) for r in sequence)\n",
      "/home/naodell/opt/anaconda3/lib/python3.7/site-packages/numdifftools/limits.py:184: FutureWarning: arrays to stack must be passed as a \"sequence\" type such as list or tuple. Support for non-sequence iterables such as generators is deprecated as of NumPy 1.16 and will raise an error in the future.\n",
      "  for step in steps)\n"
     ]
    },
    {
     "name": "stdout",
     "output_type": "stream",
     "text": [
      "0.13694290596861847 71.96842676507887\n",
      "Warning: Desired error not necessarily achieved due to precision loss.\n",
      "         Current function value: 0.540874\n",
      "         Iterations: 53\n",
      "         Function evaluations: 96\n",
      "         Gradient evaluations: 88\n",
      "[ 0.015  0.011  0.216 -0.039] 0.5408742042952825\n",
      "-0.13694290596861847 63.4542159611242\n",
      "Warning: Desired error not necessarily achieved due to precision loss.\n",
      "         Current function value: 0.469278\n",
      "         Iterations: 61\n",
      "         Function evaluations: 188\n",
      "         Gradient evaluations: 178\n",
      "[-0.033 -0.008 -0.287  0.052] 0.46927768155874605\n",
      "73 hdamp 0.0 1.0 0.0 0.09903833799162774 -4.974332057372519e-11\n"
     ]
    },
    {
     "name": "stderr",
     "output_type": "stream",
     "text": [
      "/home/naodell/opt/anaconda3/lib/python3.7/site-packages/numdifftools/limits.py:182: FutureWarning: arrays to stack must be passed as a \"sequence\" type such as list or tuple. Support for non-sequence iterables such as generators is deprecated as of NumPy 1.16 and will raise an error in the future.\n",
      "  f_del = np.vstack(list(np.ravel(r)) for r in sequence)\n",
      "/home/naodell/opt/anaconda3/lib/python3.7/site-packages/numdifftools/limits.py:184: FutureWarning: arrays to stack must be passed as a \"sequence\" type such as list or tuple. Support for non-sequence iterables such as generators is deprecated as of NumPy 1.16 and will raise an error in the future.\n",
      "  for step in steps)\n"
     ]
    },
    {
     "name": "stdout",
     "output_type": "stream",
     "text": [
      "0.09903833799162774 2.042814788189628\n",
      "Warning: Desired error not necessarily achieved due to precision loss.\n",
      "         Current function value: 0.496085\n",
      "         Iterations: 44\n",
      "         Function evaluations: 144\n",
      "         Gradient evaluations: 132\n",
      "[ 0.143  0.121  0.096 -0.057] 0.4960851332936357\n",
      "-0.09903833799162774 2.2419983630436047\n",
      "Optimization terminated successfully.\n",
      "         Current function value: 0.513154\n",
      "         Iterations: 45\n",
      "         Function evaluations: 68\n",
      "         Gradient evaluations: 68\n",
      "[-0.145 -0.116 -0.09   0.056] 0.5131535215168121\n",
      "74 tune 0.0 1.0 0.0 1.0000000000000284 -4.974332057372519e-11\n"
     ]
    },
    {
     "name": "stderr",
     "output_type": "stream",
     "text": [
      "/home/naodell/opt/anaconda3/lib/python3.7/site-packages/numdifftools/limits.py:182: FutureWarning: arrays to stack must be passed as a \"sequence\" type such as list or tuple. Support for non-sequence iterables such as generators is deprecated as of NumPy 1.16 and will raise an error in the future.\n",
      "  f_del = np.vstack(list(np.ravel(r)) for r in sequence)\n",
      "/home/naodell/opt/anaconda3/lib/python3.7/site-packages/numdifftools/limits.py:184: FutureWarning: arrays to stack must be passed as a \"sequence\" type such as list or tuple. Support for non-sequence iterables such as generators is deprecated as of NumPy 1.16 and will raise an error in the future.\n",
      "  for step in steps)\n"
     ]
    },
    {
     "name": "stdout",
     "output_type": "stream",
     "text": [
      "1.0000000000000284 0.4999999999502851\n",
      "Optimization terminated successfully.\n",
      "         Current function value: 0.500000\n",
      "         Iterations: 0\n",
      "         Function evaluations: 1\n",
      "         Gradient evaluations: 1\n",
      "[0. 0. 0. 0.] 0.5000000000280487\n",
      "-1.0000000000000284 0.4999999999502851\n",
      "Optimization terminated successfully.\n",
      "         Current function value: 0.500000\n",
      "         Iterations: 0\n",
      "         Function evaluations: 1\n",
      "         Gradient evaluations: 1\n",
      "[0. 0. 0. 0.] 0.5000000000280487\n",
      "75 ww_scale 0.0 1.0 0.0 0.6322973324391864 -4.974332057372519e-11\n",
      "0.6322973324391864 0.6687439399618104\n",
      "Warning: Desired error not necessarily achieved due to precision loss.\n",
      "         Current function value: 0.458543\n",
      "         Iterations: 51\n",
      "         Function evaluations: 191\n",
      "         Gradient evaluations: 177\n",
      "[-0.001 -0.018 -0.21   0.037] 0.45854256705951085\n",
      "-0.6322973324391864 0.8064140877354604\n",
      "Optimization terminated successfully.\n",
      "         Current function value: 0.545235\n",
      "         Iterations: 45\n",
      "         Function evaluations: 74\n",
      "         Gradient evaluations: 74\n",
      "[-0.017  0.013  0.242 -0.038] 0.5452352117820933\n",
      "76 ww_resum 0.0 1.0 0.0 0.9110682133353674 -4.974332057372519e-11\n"
     ]
    },
    {
     "name": "stderr",
     "output_type": "stream",
     "text": [
      "/home/naodell/opt/anaconda3/lib/python3.7/site-packages/numdifftools/limits.py:182: FutureWarning: arrays to stack must be passed as a \"sequence\" type such as list or tuple. Support for non-sequence iterables such as generators is deprecated as of NumPy 1.16 and will raise an error in the future.\n",
      "  f_del = np.vstack(list(np.ravel(r)) for r in sequence)\n",
      "/home/naodell/opt/anaconda3/lib/python3.7/site-packages/numdifftools/limits.py:184: FutureWarning: arrays to stack must be passed as a \"sequence\" type such as list or tuple. Support for non-sequence iterables such as generators is deprecated as of NumPy 1.16 and will raise an error in the future.\n",
      "  for step in steps)\n"
     ]
    },
    {
     "name": "stdout",
     "output_type": "stream",
     "text": [
      "0.9110682133353674 0.8352571554220654\n",
      "Optimization terminated successfully.\n",
      "         Current function value: 0.457731\n",
      "         Iterations: 47\n",
      "         Function evaluations: 63\n",
      "         Gradient evaluations: 63\n",
      "[-0.004 -0.003  0.038 -0.005] 0.45773110279608303\n",
      "-0.9110682133353674 3.802769120549011\n",
      "Optimization terminated successfully.\n",
      "         Current function value: 0.582655\n",
      "         Iterations: 46\n",
      "         Function evaluations: 73\n",
      "         Gradient evaluations: 73\n",
      "[ 0.006  0.014 -0.014 -0.001] 0.5826548895386998\n",
      "78 top_pt 0.0 1.0 0.0 0.1480805579046976 -4.974332057372519e-11\n",
      "0.1480805579046976 2.348593929743061\n",
      "Warning: Desired error not necessarily achieved due to precision loss.\n",
      "         Current function value: 0.550324\n",
      "         Iterations: 48\n",
      "         Function evaluations: 119\n",
      "         Gradient evaluations: 106\n",
      "[ 0.187  0.168  0.51  -0.138] 0.5503236054137703\n",
      "-0.1480805579046976 1.7419743064232593\n",
      "Warning: Desired error not necessarily achieved due to precision loss.\n",
      "         Current function value: 0.449655\n",
      "         Iterations: 47\n",
      "         Function evaluations: 164\n",
      "         Gradient evaluations: 153\n",
      "[-0.19  -0.178 -0.437  0.129] 0.44965474383658083\n",
      "79 btag_bfragmentation 0.0 1.0 0.0 0.9893688818806816 -4.974332057372519e-11\n"
     ]
    },
    {
     "name": "stderr",
     "output_type": "stream",
     "text": [
      "/home/naodell/opt/anaconda3/lib/python3.7/site-packages/numdifftools/limits.py:182: FutureWarning: arrays to stack must be passed as a \"sequence\" type such as list or tuple. Support for non-sequence iterables such as generators is deprecated as of NumPy 1.16 and will raise an error in the future.\n",
      "  f_del = np.vstack(list(np.ravel(r)) for r in sequence)\n",
      "/home/naodell/opt/anaconda3/lib/python3.7/site-packages/numdifftools/limits.py:184: FutureWarning: arrays to stack must be passed as a \"sequence\" type such as list or tuple. Support for non-sequence iterables such as generators is deprecated as of NumPy 1.16 and will raise an error in the future.\n",
      "  for step in steps)\n"
     ]
    },
    {
     "name": "stdout",
     "output_type": "stream",
     "text": [
      "0.9893688818806816 6.250343852033736\n",
      "Warning: Desired error not necessarily achieved due to precision loss.\n",
      "         Current function value: 0.504420\n",
      "         Iterations: 48\n",
      "         Function evaluations: 172\n",
      "         Gradient evaluations: 161\n",
      "[-0.008  0.002  0.046 -0.006] 0.5044199452558217\n",
      "-0.9893688818806816 6.551444388163562\n",
      "Optimization terminated successfully.\n",
      "         Current function value: 0.503349\n",
      "         Iterations: 50\n",
      "         Function evaluations: 68\n",
      "         Gradient evaluations: 68\n",
      "[-6.334e-05  3.753e-03 -3.146e-02  4.437e-03] 0.5033490776996148\n",
      "80 btag_btempcorr 0.0 1.0 0.0 0.9902865840695706 -4.974332057372519e-11\n"
     ]
    },
    {
     "name": "stderr",
     "output_type": "stream",
     "text": [
      "/home/naodell/opt/anaconda3/lib/python3.7/site-packages/numdifftools/limits.py:182: FutureWarning: arrays to stack must be passed as a \"sequence\" type such as list or tuple. Support for non-sequence iterables such as generators is deprecated as of NumPy 1.16 and will raise an error in the future.\n",
      "  f_del = np.vstack(list(np.ravel(r)) for r in sequence)\n",
      "/home/naodell/opt/anaconda3/lib/python3.7/site-packages/numdifftools/limits.py:184: FutureWarning: arrays to stack must be passed as a \"sequence\" type such as list or tuple. Support for non-sequence iterables such as generators is deprecated as of NumPy 1.16 and will raise an error in the future.\n",
      "  for step in steps)\n"
     ]
    },
    {
     "name": "stdout",
     "output_type": "stream",
     "text": [
      "0.9902865840695706 5.295115827382474\n",
      "Warning: Desired error not necessarily achieved due to precision loss.\n",
      "         Current function value: 0.506467\n",
      "         Iterations: 50\n",
      "         Function evaluations: 116\n",
      "         Gradient evaluations: 104\n",
      "[ 0.004  0.008  0.005 -0.003] 0.5064669921704216\n",
      "-0.9902865840695706 5.232047377295054\n",
      "Warning: Desired error not necessarily achieved due to precision loss.\n",
      "         Current function value: 0.501019\n",
      "         Iterations: 51\n",
      "         Function evaluations: 94\n",
      "         Gradient evaluations: 83\n",
      "[-0.001  0.011  0.007 -0.003] 0.50101852364718\n",
      "81 btag_cb 0.0 1.0 0.0 0.9941475128339624 -4.974332057372519e-11\n"
     ]
    },
    {
     "name": "stderr",
     "output_type": "stream",
     "text": [
      "/home/naodell/opt/anaconda3/lib/python3.7/site-packages/numdifftools/limits.py:182: FutureWarning: arrays to stack must be passed as a \"sequence\" type such as list or tuple. Support for non-sequence iterables such as generators is deprecated as of NumPy 1.16 and will raise an error in the future.\n",
      "  f_del = np.vstack(list(np.ravel(r)) for r in sequence)\n",
      "/home/naodell/opt/anaconda3/lib/python3.7/site-packages/numdifftools/limits.py:184: FutureWarning: arrays to stack must be passed as a \"sequence\" type such as list or tuple. Support for non-sequence iterables such as generators is deprecated as of NumPy 1.16 and will raise an error in the future.\n",
      "  for step in steps)\n"
     ]
    },
    {
     "name": "stdout",
     "output_type": "stream",
     "text": [
      "0.9941475128339624 2.6538129598532194\n",
      "Optimization terminated successfully.\n",
      "         Current function value: 0.500069\n",
      "         Iterations: 50\n",
      "         Function evaluations: 72\n",
      "         Gradient evaluations: 72\n",
      "[-0.005  0.     0.015 -0.002] 0.500068583679563\n",
      "-0.9941475128339624 2.6207561686846015\n",
      "Optimization terminated successfully.\n",
      "         Current function value: 0.501038\n",
      "         Iterations: 50\n",
      "         Function evaluations: 70\n",
      "         Gradient evaluations: 70\n",
      "[-0.003  0.007 -0.016  0.002] 0.5010379864696937\n",
      "82 btag_cfragmentation 0.0 1.0 0.0 0.9987333987447587 -4.974332057372519e-11\n",
      "0.9987333987447587 0.49897663711414786\n",
      "Optimization terminated successfully.\n",
      "         Current function value: 0.498738\n",
      "         Iterations: 40\n",
      "         Function evaluations: 61\n",
      "         Gradient evaluations: 61\n",
      "[ 0.     0.     0.002 -0.   ] 0.49873786844062296\n",
      "-0.9987333987447587 0.4989113738789622\n",
      "Warning: Desired error not necessarily achieved due to precision loss.\n",
      "         Current function value: 0.498740\n",
      "         Iterations: 44\n",
      "         Function evaluations: 103\n",
      "         Gradient evaluations: 92\n",
      "[-5.219e-04  4.972e-05 -2.661e-04  1.179e-04] 0.4987403750458732\n",
      "83 btag_dmux 0.0 1.0 0.0 0.9983556925518572 -4.974332057372519e-11\n"
     ]
    },
    {
     "name": "stderr",
     "output_type": "stream",
     "text": [
      "/home/naodell/opt/anaconda3/lib/python3.7/site-packages/numdifftools/limits.py:182: FutureWarning: arrays to stack must be passed as a \"sequence\" type such as list or tuple. Support for non-sequence iterables such as generators is deprecated as of NumPy 1.16 and will raise an error in the future.\n",
      "  f_del = np.vstack(list(np.ravel(r)) for r in sequence)\n",
      "/home/naodell/opt/anaconda3/lib/python3.7/site-packages/numdifftools/limits.py:184: FutureWarning: arrays to stack must be passed as a \"sequence\" type such as list or tuple. Support for non-sequence iterables such as generators is deprecated as of NumPy 1.16 and will raise an error in the future.\n",
      "  for step in steps)\n"
     ]
    },
    {
     "name": "stdout",
     "output_type": "stream",
     "text": [
      "0.9983556925518572 1.141796771314746\n",
      "Warning: Desired error not necessarily achieved due to precision loss.\n",
      "         Current function value: 0.500195\n",
      "         Iterations: 46\n",
      "         Function evaluations: 90\n",
      "         Gradient evaluations: 80\n",
      "[ 0.002  0.004  0.017 -0.004] 0.5001947053863709\n",
      "-0.9983556925518572 1.1233791785957619\n",
      "Optimization terminated successfully.\n",
      "         Current function value: 0.500406\n",
      "         Iterations: 45\n",
      "         Function evaluations: 70\n",
      "         Gradient evaluations: 70\n",
      "[ 0.     0.005 -0.003 -0.001] 0.5004060849232508\n",
      "84 btag_gluonsplitting 0.0 1.0 0.0 0.9579562933161736 -4.974332057372519e-11\n"
     ]
    },
    {
     "name": "stderr",
     "output_type": "stream",
     "text": [
      "/home/naodell/opt/anaconda3/lib/python3.7/site-packages/numdifftools/limits.py:182: FutureWarning: arrays to stack must be passed as a \"sequence\" type such as list or tuple. Support for non-sequence iterables such as generators is deprecated as of NumPy 1.16 and will raise an error in the future.\n",
      "  f_del = np.vstack(list(np.ravel(r)) for r in sequence)\n",
      "/home/naodell/opt/anaconda3/lib/python3.7/site-packages/numdifftools/limits.py:184: FutureWarning: arrays to stack must be passed as a \"sequence\" type such as list or tuple. Support for non-sequence iterables such as generators is deprecated as of NumPy 1.16 and will raise an error in the future.\n",
      "  for step in steps)\n"
     ]
    },
    {
     "name": "stdout",
     "output_type": "stream",
     "text": [
      "0.9579562933161736 20.49568840138702\n",
      "Warning: Desired error not necessarily achieved due to precision loss.\n",
      "         Current function value: 0.505376\n",
      "         Iterations: 56\n",
      "         Function evaluations: 208\n",
      "         Gradient evaluations: 194\n",
      "[-0.011 -0.002 -0.014  0.004] 0.5053760486188706\n",
      "-0.9579562933161736 20.858776831159524\n",
      "Optimization terminated successfully.\n",
      "         Current function value: 0.504064\n",
      "         Iterations: 58\n",
      "         Function evaluations: 136\n",
      "         Gradient evaluations: 134\n",
      "[ 0.001  0.015  0.038 -0.008] 0.5040640000414207\n",
      "85 btag_jes 0.0 1.0 0.0 0.9935248965716896 -4.974332057372519e-11\n"
     ]
    },
    {
     "name": "stderr",
     "output_type": "stream",
     "text": [
      "/home/naodell/opt/anaconda3/lib/python3.7/site-packages/numdifftools/limits.py:182: FutureWarning: arrays to stack must be passed as a \"sequence\" type such as list or tuple. Support for non-sequence iterables such as generators is deprecated as of NumPy 1.16 and will raise an error in the future.\n",
      "  f_del = np.vstack(list(np.ravel(r)) for r in sequence)\n",
      "/home/naodell/opt/anaconda3/lib/python3.7/site-packages/numdifftools/limits.py:184: FutureWarning: arrays to stack must be passed as a \"sequence\" type such as list or tuple. Support for non-sequence iterables such as generators is deprecated as of NumPy 1.16 and will raise an error in the future.\n",
      "  for step in steps)\n"
     ]
    },
    {
     "name": "stdout",
     "output_type": "stream",
     "text": [
      "0.9935248965716896 4.835742405370945\n",
      "Warning: Desired error not necessarily achieved due to precision loss.\n",
      "         Current function value: 0.505052\n",
      "         Iterations: 48\n",
      "         Function evaluations: 164\n",
      "         Gradient evaluations: 152\n",
      "[-0.006  0.004  0.035 -0.005] 0.5050517597361892\n",
      "-0.9935248965716896 4.872697277151295\n",
      "Optimization terminated successfully.\n",
      "         Current function value: 0.503957\n",
      "         Iterations: 51\n",
      "         Function evaluations: 81\n",
      "         Gradient evaluations: 81\n",
      "[-0.005  0.009 -0.003 -0.   ] 0.5039570085120876\n",
      "86 btag_jetaway 0.0 1.0 0.0 0.964572094552224 -4.974332057372519e-11\n"
     ]
    },
    {
     "name": "stderr",
     "output_type": "stream",
     "text": [
      "/home/naodell/opt/anaconda3/lib/python3.7/site-packages/numdifftools/limits.py:182: FutureWarning: arrays to stack must be passed as a \"sequence\" type such as list or tuple. Support for non-sequence iterables such as generators is deprecated as of NumPy 1.16 and will raise an error in the future.\n",
      "  f_del = np.vstack(list(np.ravel(r)) for r in sequence)\n",
      "/home/naodell/opt/anaconda3/lib/python3.7/site-packages/numdifftools/limits.py:184: FutureWarning: arrays to stack must be passed as a \"sequence\" type such as list or tuple. Support for non-sequence iterables such as generators is deprecated as of NumPy 1.16 and will raise an error in the future.\n",
      "  for step in steps)\n"
     ]
    },
    {
     "name": "stdout",
     "output_type": "stream",
     "text": [
      "0.964572094552224 18.544439248624094\n",
      "Warning: Desired error not necessarily achieved due to precision loss.\n",
      "         Current function value: 0.503058\n",
      "         Iterations: 53\n",
      "         Function evaluations: 149\n",
      "         Gradient evaluations: 138\n",
      "[-0.01  -0.004  0.027 -0.002] 0.5030579939437161\n",
      "-0.964572094552224 18.811476428645967\n",
      "Optimization terminated successfully.\n",
      "         Current function value: 0.504495\n",
      "         Iterations: 55\n",
      "         Function evaluations: 74\n",
      "         Gradient evaluations: 74\n",
      "[ 0.001  0.015  0.024 -0.006] 0.5044945528935301\n",
      "87 btag_ksl 0.0 1.0 0.0 0.9990463736323044 -4.974332057372519e-11\n"
     ]
    },
    {
     "name": "stderr",
     "output_type": "stream",
     "text": [
      "/home/naodell/opt/anaconda3/lib/python3.7/site-packages/numdifftools/limits.py:182: FutureWarning: arrays to stack must be passed as a \"sequence\" type such as list or tuple. Support for non-sequence iterables such as generators is deprecated as of NumPy 1.16 and will raise an error in the future.\n",
      "  f_del = np.vstack(list(np.ravel(r)) for r in sequence)\n",
      "/home/naodell/opt/anaconda3/lib/python3.7/site-packages/numdifftools/limits.py:184: FutureWarning: arrays to stack must be passed as a \"sequence\" type such as list or tuple. Support for non-sequence iterables such as generators is deprecated as of NumPy 1.16 and will raise an error in the future.\n",
      "  for step in steps)\n"
     ]
    },
    {
     "name": "stdout",
     "output_type": "stream",
     "text": [
      "0.9990463736323044 0.5003943395095798\n",
      "Optimization terminated successfully.\n",
      "         Current function value: 0.499097\n",
      "         Iterations: 44\n",
      "         Function evaluations: 60\n",
      "         Gradient evaluations: 60\n",
      "[ 0.001  0.001  0.004 -0.001] 0.4990966181473794\n",
      "-0.9990463736323044 0.5001696267330189\n",
      "Warning: Desired error not necessarily achieved due to precision loss.\n",
      "         Current function value: 0.499059\n",
      "         Iterations: 43\n",
      "         Function evaluations: 117\n",
      "         Gradient evaluations: 107\n",
      "[-0.001 -0.001 -0.001  0.001] 0.49905891780496153\n",
      "88 btag_l2c 0.0 1.0 0.0 0.9983333041822412 -4.974332057372519e-11\n"
     ]
    },
    {
     "name": "stderr",
     "output_type": "stream",
     "text": [
      "/home/naodell/opt/anaconda3/lib/python3.7/site-packages/numdifftools/limits.py:182: FutureWarning: arrays to stack must be passed as a \"sequence\" type such as list or tuple. Support for non-sequence iterables such as generators is deprecated as of NumPy 1.16 and will raise an error in the future.\n",
      "  f_del = np.vstack(list(np.ravel(r)) for r in sequence)\n",
      "/home/naodell/opt/anaconda3/lib/python3.7/site-packages/numdifftools/limits.py:184: FutureWarning: arrays to stack must be passed as a \"sequence\" type such as list or tuple. Support for non-sequence iterables such as generators is deprecated as of NumPy 1.16 and will raise an error in the future.\n",
      "  for step in steps)\n"
     ]
    },
    {
     "name": "stdout",
     "output_type": "stream",
     "text": [
      "0.9983333041822412 1.5033143006957403\n",
      "Optimization terminated successfully.\n",
      "         Current function value: 0.501107\n",
      "         Iterations: 47\n",
      "         Function evaluations: 68\n",
      "         Gradient evaluations: 68\n",
      "[ 0.004  0.007  0.023 -0.006] 0.501106812806475\n",
      "-0.9983333041822412 1.5000453954410857\n",
      "Warning: Desired error not necessarily achieved due to precision loss.\n",
      "         Current function value: 0.501851\n",
      "         Iterations: 46\n",
      "         Function evaluations: 138\n",
      "         Gradient evaluations: 127\n",
      "[ 0.002  0.007 -0.007 -0.   ] 0.5018514056444019\n",
      "89 btag_ltothers 0.0 1.0 0.0 0.8795899647775562 -4.974332057372519e-11\n"
     ]
    },
    {
     "name": "stderr",
     "output_type": "stream",
     "text": [
      "/home/naodell/opt/anaconda3/lib/python3.7/site-packages/numdifftools/limits.py:182: FutureWarning: arrays to stack must be passed as a \"sequence\" type such as list or tuple. Support for non-sequence iterables such as generators is deprecated as of NumPy 1.16 and will raise an error in the future.\n",
      "  f_del = np.vstack(list(np.ravel(r)) for r in sequence)\n",
      "/home/naodell/opt/anaconda3/lib/python3.7/site-packages/numdifftools/limits.py:184: FutureWarning: arrays to stack must be passed as a \"sequence\" type such as list or tuple. Support for non-sequence iterables such as generators is deprecated as of NumPy 1.16 and will raise an error in the future.\n",
      "  for step in steps)\n"
     ]
    },
    {
     "name": "stdout",
     "output_type": "stream",
     "text": [
      "0.8795899647775562 49.80137995360811\n",
      "Warning: Desired error not necessarily achieved due to precision loss.\n",
      "         Current function value: 0.503737\n",
      "         Iterations: 56\n",
      "         Function evaluations: 135\n",
      "         Gradient evaluations: 124\n",
      "[ 0.003  0.017  0.091 -0.018] 0.5037370663999703\n",
      "-0.8795899647775562 54.265952362917346\n",
      "Optimization terminated successfully.\n",
      "         Current function value: 0.507716\n",
      "         Iterations: 59\n",
      "         Function evaluations: 75\n",
      "         Gradient evaluations: 75\n",
      "[-0.017 -0.001 -0.094  0.018] 0.5077159118245586\n",
      "90 btag_mudr 0.0 1.0 0.0 0.9972326179975568 -4.974332057372519e-11\n"
     ]
    },
    {
     "name": "stderr",
     "output_type": "stream",
     "text": [
      "/home/naodell/opt/anaconda3/lib/python3.7/site-packages/numdifftools/limits.py:182: FutureWarning: arrays to stack must be passed as a \"sequence\" type such as list or tuple. Support for non-sequence iterables such as generators is deprecated as of NumPy 1.16 and will raise an error in the future.\n",
      "  f_del = np.vstack(list(np.ravel(r)) for r in sequence)\n",
      "/home/naodell/opt/anaconda3/lib/python3.7/site-packages/numdifftools/limits.py:184: FutureWarning: arrays to stack must be passed as a \"sequence\" type such as list or tuple. Support for non-sequence iterables such as generators is deprecated as of NumPy 1.16 and will raise an error in the future.\n",
      "  for step in steps)\n"
     ]
    },
    {
     "name": "stdout",
     "output_type": "stream",
     "text": [
      "0.9972326179975568 1.8823640413383447\n",
      "Optimization terminated successfully.\n",
      "         Current function value: 0.501719\n",
      "         Iterations: 51\n",
      "         Function evaluations: 106\n",
      "         Gradient evaluations: 104\n",
      "[-0.002 -0.001  0.007 -0.001] 0.5017191121432576\n",
      "-0.9972326179975568 1.85977290461072\n",
      "Optimization terminated successfully.\n",
      "         Current function value: 0.502469\n",
      "         Iterations: 46\n",
      "         Function evaluations: 67\n",
      "         Gradient evaluations: 67\n",
      "[-0.002  0.008  0.002 -0.001] 0.5024690764914547\n",
      "91 btag_mupt 0.0 1.0 0.0 0.9944877197805028 -4.974332057372519e-11\n"
     ]
    },
    {
     "name": "stderr",
     "output_type": "stream",
     "text": [
      "/home/naodell/opt/anaconda3/lib/python3.7/site-packages/numdifftools/limits.py:182: FutureWarning: arrays to stack must be passed as a \"sequence\" type such as list or tuple. Support for non-sequence iterables such as generators is deprecated as of NumPy 1.16 and will raise an error in the future.\n",
      "  f_del = np.vstack(list(np.ravel(r)) for r in sequence)\n",
      "/home/naodell/opt/anaconda3/lib/python3.7/site-packages/numdifftools/limits.py:184: FutureWarning: arrays to stack must be passed as a \"sequence\" type such as list or tuple. Support for non-sequence iterables such as generators is deprecated as of NumPy 1.16 and will raise an error in the future.\n",
      "  for step in steps)\n"
     ]
    },
    {
     "name": "stdout",
     "output_type": "stream",
     "text": [
      "0.9944877197805028 2.776696360751202\n",
      "Warning: Desired error not necessarily achieved due to precision loss.\n",
      "         Current function value: 0.500954\n",
      "         Iterations: 45\n",
      "         Function evaluations: 119\n",
      "         Gradient evaluations: 108\n",
      "[-0.     0.003  0.024 -0.004] 0.5009539658879943\n",
      "-0.9944877197805028 2.752202693638257\n",
      "Optimization terminated successfully.\n",
      "         Current function value: 0.500221\n",
      "         Iterations: 51\n",
      "         Function evaluations: 70\n",
      "         Gradient evaluations: 70\n",
      "[ 0.     0.006  0.008 -0.002] 0.5002205370207128\n",
      "92 btag_ptrel 0.0 1.0 0.0 0.9968169569095652 -4.974332057372519e-11\n"
     ]
    },
    {
     "name": "stderr",
     "output_type": "stream",
     "text": [
      "/home/naodell/opt/anaconda3/lib/python3.7/site-packages/numdifftools/limits.py:182: FutureWarning: arrays to stack must be passed as a \"sequence\" type such as list or tuple. Support for non-sequence iterables such as generators is deprecated as of NumPy 1.16 and will raise an error in the future.\n",
      "  f_del = np.vstack(list(np.ravel(r)) for r in sequence)\n",
      "/home/naodell/opt/anaconda3/lib/python3.7/site-packages/numdifftools/limits.py:184: FutureWarning: arrays to stack must be passed as a \"sequence\" type such as list or tuple. Support for non-sequence iterables such as generators is deprecated as of NumPy 1.16 and will raise an error in the future.\n",
      "  for step in steps)\n"
     ]
    },
    {
     "name": "stdout",
     "output_type": "stream",
     "text": [
      "0.9968169569095652 1.221708975197645\n",
      "Optimization terminated successfully.\n",
      "         Current function value: 0.500169\n",
      "         Iterations: 49\n",
      "         Function evaluations: 80\n",
      "         Gradient evaluations: 79\n",
      "[ 0.002  0.001  0.012 -0.002] 0.5001691553080673\n",
      "-0.9968169569095652 1.2064083307972397\n",
      "Optimization terminated successfully.\n",
      "         Current function value: 0.499113\n",
      "         Iterations: 47\n",
      "         Function evaluations: 66\n",
      "         Gradient evaluations: 66\n",
      "[-0.002  0.003 -0.018  0.003] 0.4991133692997073\n",
      "93 btag_sampledependence 0.0 1.0 0.0 0.7913025897676847 -4.974332057372519e-11\n"
     ]
    },
    {
     "name": "stderr",
     "output_type": "stream",
     "text": [
      "/home/naodell/opt/anaconda3/lib/python3.7/site-packages/numdifftools/limits.py:182: FutureWarning: arrays to stack must be passed as a \"sequence\" type such as list or tuple. Support for non-sequence iterables such as generators is deprecated as of NumPy 1.16 and will raise an error in the future.\n",
      "  f_del = np.vstack(list(np.ravel(r)) for r in sequence)\n",
      "/home/naodell/opt/anaconda3/lib/python3.7/site-packages/numdifftools/limits.py:184: FutureWarning: arrays to stack must be passed as a \"sequence\" type such as list or tuple. Support for non-sequence iterables such as generators is deprecated as of NumPy 1.16 and will raise an error in the future.\n",
      "  for step in steps)\n"
     ]
    },
    {
     "name": "stdout",
     "output_type": "stream",
     "text": [
      "0.7913025897676847 66.04251831121375\n",
      "Warning: Desired error not necessarily achieved due to precision loss.\n",
      "         Current function value: 0.504293\n",
      "         Iterations: 60\n",
      "         Function evaluations: 243\n",
      "         Gradient evaluations: 228\n",
      "[ 0.012  0.017  0.104 -0.021] 0.5042929216341654\n",
      "-0.7913025897676847 70.43287020062886\n",
      "Optimization terminated successfully.\n",
      "         Current function value: 0.510261\n",
      "         Iterations: 60\n",
      "         Function evaluations: 76\n",
      "         Gradient evaluations: 76\n",
      "[-0.021 -0.    -0.109  0.021] 0.5102610757562972\n",
      "94 btag_pileup 0.0 1.0 0.0 0.9948110893728036 -4.974332057372519e-11\n"
     ]
    },
    {
     "name": "stderr",
     "output_type": "stream",
     "text": [
      "/home/naodell/opt/anaconda3/lib/python3.7/site-packages/numdifftools/limits.py:182: FutureWarning: arrays to stack must be passed as a \"sequence\" type such as list or tuple. Support for non-sequence iterables such as generators is deprecated as of NumPy 1.16 and will raise an error in the future.\n",
      "  f_del = np.vstack(list(np.ravel(r)) for r in sequence)\n",
      "/home/naodell/opt/anaconda3/lib/python3.7/site-packages/numdifftools/limits.py:184: FutureWarning: arrays to stack must be passed as a \"sequence\" type such as list or tuple. Support for non-sequence iterables such as generators is deprecated as of NumPy 1.16 and will raise an error in the future.\n",
      "  for step in steps)\n"
     ]
    },
    {
     "name": "stdout",
     "output_type": "stream",
     "text": [
      "0.9948110893728036 2.6978053492970675\n",
      "Optimization terminated successfully.\n",
      "         Current function value: 0.500850\n",
      "         Iterations: 48\n",
      "         Function evaluations: 82\n",
      "         Gradient evaluations: 79\n",
      "[-0.003  0.002  0.014 -0.002] 0.5008495312280103\n",
      "-0.9948110893728036 2.6806624117172917\n",
      "Optimization terminated successfully.\n",
      "         Current function value: 0.500983\n",
      "         Iterations: 52\n",
      "         Function evaluations: 143\n",
      "         Gradient evaluations: 141\n",
      "[-0.003  0.009 -0.004 -0.   ] 0.5009831203100072\n",
      "95 btag_statistic 0.0 1.0 0.0 0.9449584320162636 -4.974332057372519e-11\n"
     ]
    },
    {
     "name": "stderr",
     "output_type": "stream",
     "text": [
      "/home/naodell/opt/anaconda3/lib/python3.7/site-packages/numdifftools/limits.py:182: FutureWarning: arrays to stack must be passed as a \"sequence\" type such as list or tuple. Support for non-sequence iterables such as generators is deprecated as of NumPy 1.16 and will raise an error in the future.\n",
      "  f_del = np.vstack(list(np.ravel(r)) for r in sequence)\n",
      "/home/naodell/opt/anaconda3/lib/python3.7/site-packages/numdifftools/limits.py:184: FutureWarning: arrays to stack must be passed as a \"sequence\" type such as list or tuple. Support for non-sequence iterables such as generators is deprecated as of NumPy 1.16 and will raise an error in the future.\n",
      "  for step in steps)\n"
     ]
    },
    {
     "name": "stdout",
     "output_type": "stream",
     "text": [
      "0.9449584320162636 26.741782657118666\n",
      "Warning: Desired error not necessarily achieved due to precision loss.\n",
      "         Current function value: 0.506307\n",
      "         Iterations: 60\n",
      "         Function evaluations: 258\n",
      "         Gradient evaluations: 243\n",
      "[-0.016  0.001  0.028 -0.002] 0.5063068487808855\n",
      "-0.9449584320162636 27.136730630870563\n",
      "Optimization terminated successfully.\n",
      "         Current function value: 0.504556\n",
      "         Iterations: 55\n",
      "         Function evaluations: 79\n",
      "         Gradient evaluations: 78\n",
      "[ 0.005  0.016  0.013 -0.005] 0.504556445438728\n",
      "96 ctag 0.0 1.0 0.0 0.7926037718752325 -4.974332057372519e-11\n"
     ]
    },
    {
     "name": "stderr",
     "output_type": "stream",
     "text": [
      "/home/naodell/opt/anaconda3/lib/python3.7/site-packages/numdifftools/limits.py:182: FutureWarning: arrays to stack must be passed as a \"sequence\" type such as list or tuple. Support for non-sequence iterables such as generators is deprecated as of NumPy 1.16 and will raise an error in the future.\n",
      "  f_del = np.vstack(list(np.ravel(r)) for r in sequence)\n",
      "/home/naodell/opt/anaconda3/lib/python3.7/site-packages/numdifftools/limits.py:184: FutureWarning: arrays to stack must be passed as a \"sequence\" type such as list or tuple. Support for non-sequence iterables such as generators is deprecated as of NumPy 1.16 and will raise an error in the future.\n",
      "  for step in steps)\n"
     ]
    },
    {
     "name": "stdout",
     "output_type": "stream",
     "text": [
      "0.7926037718752325 3.709053704656171\n",
      "Warning: Desired error not necessarily achieved due to precision loss.\n",
      "         Current function value: 0.483296\n",
      "         Iterations: 47\n",
      "         Function evaluations: 159\n",
      "         Gradient evaluations: 148\n",
      "[ 0.248  0.243  0.289 -0.125] 0.48329627010096887\n",
      "-0.7926037718752325 4.688622300704599\n",
      "Optimization terminated successfully.\n",
      "         Current function value: 0.534251\n",
      "         Iterations: 48\n",
      "         Function evaluations: 75\n",
      "         Gradient evaluations: 75\n",
      "[-0.263 -0.283 -0.325  0.139] 0.534250887310606\n",
      "97 mistag 0.0 1.0 0.0 0.942925050124695 -4.974332057372519e-11\n"
     ]
    },
    {
     "name": "stderr",
     "output_type": "stream",
     "text": [
      "/home/naodell/opt/anaconda3/lib/python3.7/site-packages/numdifftools/limits.py:182: FutureWarning: arrays to stack must be passed as a \"sequence\" type such as list or tuple. Support for non-sequence iterables such as generators is deprecated as of NumPy 1.16 and will raise an error in the future.\n",
      "  f_del = np.vstack(list(np.ravel(r)) for r in sequence)\n",
      "/home/naodell/opt/anaconda3/lib/python3.7/site-packages/numdifftools/limits.py:184: FutureWarning: arrays to stack must be passed as a \"sequence\" type such as list or tuple. Support for non-sequence iterables such as generators is deprecated as of NumPy 1.16 and will raise an error in the future.\n",
      "  for step in steps)\n"
     ]
    },
    {
     "name": "stdout",
     "output_type": "stream",
     "text": [
      "0.942925050124695 2.5322048484136017\n",
      "Optimization terminated successfully.\n",
      "         Current function value: 0.512233\n",
      "         Iterations: 45\n",
      "         Function evaluations: 68\n",
      "         Gradient evaluations: 68\n",
      "[ 8.194e-02  6.346e-02 -1.454e-01  4.548e-07] 0.5122330282965654\n",
      "-0.942925050124695 1.7888241850541673\n",
      "Optimization terminated successfully.\n",
      "         Current function value: 0.510515\n",
      "         Iterations: 48\n",
      "         Function evaluations: 69\n",
      "         Gradient evaluations: 69\n",
      "[-0.067 -0.05   0.102  0.002] 0.5105147489956096\n",
      "98 jer 0.0 1.0 0.0 0.7138132894032417 -4.974332057372519e-11\n",
      "0.7138132894032417 5.167319919092836\n",
      "Warning: Desired error not necessarily achieved due to precision loss.\n",
      "         Current function value: 0.559324\n",
      "         Iterations: 45\n",
      "         Function evaluations: 84\n",
      "         Gradient evaluations: 74\n",
      "[-0.171 -0.082  0.029  0.036] 0.5593242909643368\n",
      "-0.7138132894032417 4.801508903253172\n",
      "Warning: Desired error not necessarily achieved due to precision loss.\n",
      "         Current function value: 0.504636\n",
      "         Iterations: 42\n",
      "         Function evaluations: 106\n",
      "         Gradient evaluations: 97\n",
      "[ 0.102  0.075 -0.112 -0.01 ] 0.5046362146896777\n",
      "99 jes_abs_scale 0.0 1.0 0.0 0.9899158887518076 -4.974332057372519e-11\n"
     ]
    },
    {
     "name": "stderr",
     "output_type": "stream",
     "text": [
      "/home/naodell/opt/anaconda3/lib/python3.7/site-packages/numdifftools/limits.py:182: FutureWarning: arrays to stack must be passed as a \"sequence\" type such as list or tuple. Support for non-sequence iterables such as generators is deprecated as of NumPy 1.16 and will raise an error in the future.\n",
      "  f_del = np.vstack(list(np.ravel(r)) for r in sequence)\n",
      "/home/naodell/opt/anaconda3/lib/python3.7/site-packages/numdifftools/limits.py:184: FutureWarning: arrays to stack must be passed as a \"sequence\" type such as list or tuple. Support for non-sequence iterables such as generators is deprecated as of NumPy 1.16 and will raise an error in the future.\n",
      "  for step in steps)\n"
     ]
    },
    {
     "name": "stdout",
     "output_type": "stream",
     "text": [
      "0.9899158887518076 9.437518575602422\n",
      "Warning: Desired error not necessarily achieved due to precision loss.\n",
      "         Current function value: 0.503326\n",
      "         Iterations: 50\n",
      "         Function evaluations: 102\n",
      "         Gradient evaluations: 92\n",
      "[ 0.01   0.004  0.03  -0.007] 0.5033262994754548\n",
      "-0.9899158887518076 9.67970369166509\n",
      "Optimization terminated successfully.\n",
      "         Current function value: 0.508977\n",
      "         Iterations: 53\n",
      "         Function evaluations: 78\n",
      "         Gradient evaluations: 78\n",
      "[-0.011 -0.006 -0.     0.003] 0.5089767231828203\n",
      "100 jes_abs_stat 0.0 1.0 0.0 0.9907752363941128 -4.974332057372519e-11\n"
     ]
    },
    {
     "name": "stderr",
     "output_type": "stream",
     "text": [
      "/home/naodell/opt/anaconda3/lib/python3.7/site-packages/numdifftools/limits.py:182: FutureWarning: arrays to stack must be passed as a \"sequence\" type such as list or tuple. Support for non-sequence iterables such as generators is deprecated as of NumPy 1.16 and will raise an error in the future.\n",
      "  f_del = np.vstack(list(np.ravel(r)) for r in sequence)\n",
      "/home/naodell/opt/anaconda3/lib/python3.7/site-packages/numdifftools/limits.py:184: FutureWarning: arrays to stack must be passed as a \"sequence\" type such as list or tuple. Support for non-sequence iterables such as generators is deprecated as of NumPy 1.16 and will raise an error in the future.\n",
      "  for step in steps)\n"
     ]
    },
    {
     "name": "stdout",
     "output_type": "stream",
     "text": [
      "0.9907752363941128 7.720361022928943\n",
      "Warning: Desired error not necessarily achieved due to precision loss.\n",
      "         Current function value: 0.503252\n",
      "         Iterations: 49\n",
      "         Function evaluations: 233\n",
      "         Gradient evaluations: 221\n",
      "[ 0.002 -0.001  0.021 -0.003] 0.5032522442083673\n",
      "-0.9907752363941128 7.915543788434733\n",
      "Warning: Desired error not necessarily achieved due to precision loss.\n",
      "         Current function value: 0.508545\n",
      "         Iterations: 49\n",
      "         Function evaluations: 156\n",
      "         Gradient evaluations: 144\n",
      "[-0.009 -0.007 -0.003  0.003] 0.50854506789594\n",
      "101 jes_fragmentation 0.0 1.0 0.0 0.986860199359284 -4.974332057372519e-11\n"
     ]
    },
    {
     "name": "stderr",
     "output_type": "stream",
     "text": [
      "/home/naodell/opt/anaconda3/lib/python3.7/site-packages/numdifftools/limits.py:182: FutureWarning: arrays to stack must be passed as a \"sequence\" type such as list or tuple. Support for non-sequence iterables such as generators is deprecated as of NumPy 1.16 and will raise an error in the future.\n",
      "  f_del = np.vstack(list(np.ravel(r)) for r in sequence)\n",
      "/home/naodell/opt/anaconda3/lib/python3.7/site-packages/numdifftools/limits.py:184: FutureWarning: arrays to stack must be passed as a \"sequence\" type such as list or tuple. Support for non-sequence iterables such as generators is deprecated as of NumPy 1.16 and will raise an error in the future.\n",
      "  for step in steps)\n"
     ]
    },
    {
     "name": "stdout",
     "output_type": "stream",
     "text": [
      "0.986860199359284 16.118904547485375\n",
      "Warning: Desired error not necessarily achieved due to precision loss.\n",
      "         Current function value: 0.507351\n",
      "         Iterations: 54\n",
      "         Function evaluations: 96\n",
      "         Gradient evaluations: 87\n",
      "[ 0.01   0.01   0.043 -0.01 ] 0.5073511412961901\n",
      "-0.986860199359284 16.454402929002036\n",
      "Warning: Desired error not necessarily achieved due to precision loss.\n",
      "         Current function value: 0.520202\n",
      "         Iterations: 55\n",
      "         Function evaluations: 95\n",
      "         Gradient evaluations: 83\n",
      "[-0.012 -0.016 -0.037  0.01 ] 0.5202015856741468\n",
      "102 jes_abs_mpf_bias 0.0 1.0 0.0 0.9851912432407 -4.974332057372519e-11\n"
     ]
    },
    {
     "name": "stderr",
     "output_type": "stream",
     "text": [
      "/home/naodell/opt/anaconda3/lib/python3.7/site-packages/numdifftools/limits.py:182: FutureWarning: arrays to stack must be passed as a \"sequence\" type such as list or tuple. Support for non-sequence iterables such as generators is deprecated as of NumPy 1.16 and will raise an error in the future.\n",
      "  f_del = np.vstack(list(np.ravel(r)) for r in sequence)\n",
      "/home/naodell/opt/anaconda3/lib/python3.7/site-packages/numdifftools/limits.py:184: FutureWarning: arrays to stack must be passed as a \"sequence\" type such as list or tuple. Support for non-sequence iterables such as generators is deprecated as of NumPy 1.16 and will raise an error in the future.\n",
      "  for step in steps)\n"
     ]
    },
    {
     "name": "stdout",
     "output_type": "stream",
     "text": [
      "0.9851912432407 16.30738047961488\n",
      "Optimization terminated successfully.\n",
      "         Current function value: 0.506353\n",
      "         Iterations: 57\n",
      "         Function evaluations: 78\n",
      "         Gradient evaluations: 78\n",
      "[ 0.018  0.015  0.039 -0.011] 0.5063525755488331\n",
      "-0.9851912432407 16.708849058191998\n",
      "Warning: Desired error not necessarily achieved due to precision loss.\n",
      "         Current function value: 0.522413\n",
      "         Iterations: 52\n",
      "         Function evaluations: 105\n",
      "         Gradient evaluations: 94\n",
      "[-0.013 -0.017 -0.042  0.011] 0.5224129635271367\n",
      "103 jes_pileup_data_mc 0.0 1.0 0.0 0.9772313200468722 -4.974332057372519e-11\n"
     ]
    },
    {
     "name": "stderr",
     "output_type": "stream",
     "text": [
      "/home/naodell/opt/anaconda3/lib/python3.7/site-packages/numdifftools/limits.py:182: FutureWarning: arrays to stack must be passed as a \"sequence\" type such as list or tuple. Support for non-sequence iterables such as generators is deprecated as of NumPy 1.16 and will raise an error in the future.\n",
      "  f_del = np.vstack(list(np.ravel(r)) for r in sequence)\n",
      "/home/naodell/opt/anaconda3/lib/python3.7/site-packages/numdifftools/limits.py:184: FutureWarning: arrays to stack must be passed as a \"sequence\" type such as list or tuple. Support for non-sequence iterables such as generators is deprecated as of NumPy 1.16 and will raise an error in the future.\n",
      "  for step in steps)\n"
     ]
    },
    {
     "name": "stdout",
     "output_type": "stream",
     "text": [
      "0.9772313200468722 33.48157031065052\n",
      "Warning: Desired error not necessarily achieved due to precision loss.\n",
      "         Current function value: 0.520555\n",
      "         Iterations: 62\n",
      "         Function evaluations: 206\n",
      "         Gradient evaluations: 194\n",
      "[ 0.034  0.039  0.086 -0.025] 0.5205549776698855\n",
      "-0.9772313200468722 33.73772967355676\n",
      "Warning: Desired error not necessarily achieved due to precision loss.\n",
      "         Current function value: 0.528036\n",
      "         Iterations: 52\n",
      "         Function evaluations: 101\n",
      "         Gradient evaluations: 91\n",
      "[-0.037 -0.037 -0.122  0.031] 0.5280359623010578\n",
      "104 jes_pileup_pt_bb 0.0 1.0 0.0 0.9859474315375342 -4.974332057372519e-11\n"
     ]
    },
    {
     "name": "stderr",
     "output_type": "stream",
     "text": [
      "/home/naodell/opt/anaconda3/lib/python3.7/site-packages/numdifftools/limits.py:182: FutureWarning: arrays to stack must be passed as a \"sequence\" type such as list or tuple. Support for non-sequence iterables such as generators is deprecated as of NumPy 1.16 and will raise an error in the future.\n",
      "  f_del = np.vstack(list(np.ravel(r)) for r in sequence)\n",
      "/home/naodell/opt/anaconda3/lib/python3.7/site-packages/numdifftools/limits.py:184: FutureWarning: arrays to stack must be passed as a \"sequence\" type such as list or tuple. Support for non-sequence iterables such as generators is deprecated as of NumPy 1.16 and will raise an error in the future.\n",
      "  for step in steps)\n"
     ]
    },
    {
     "name": "stdout",
     "output_type": "stream",
     "text": [
      "0.9859474315375342 17.242063031482484\n",
      "Warning: Desired error not necessarily achieved due to precision loss.\n",
      "         Current function value: 0.510816\n",
      "         Iterations: 54\n",
      "         Function evaluations: 148\n",
      "         Gradient evaluations: 136\n",
      "[ 0.042  0.054  0.069 -0.026] 0.5108155837622073\n",
      "-0.9859474315375342 17.50928786587895\n",
      "Optimization terminated successfully.\n",
      "         Current function value: 0.520916\n",
      "         Iterations: 53\n",
      "         Function evaluations: 75\n",
      "         Gradient evaluations: 75\n",
      "[-0.033 -0.027 -0.075  0.021] 0.5209164755165996\n",
      "105 jes_pileup_pt_ec1 0.0 1.0 0.0 0.9267164189652548 -4.974332057372519e-11\n"
     ]
    },
    {
     "name": "stderr",
     "output_type": "stream",
     "text": [
      "/home/naodell/opt/anaconda3/lib/python3.7/site-packages/numdifftools/limits.py:182: FutureWarning: arrays to stack must be passed as a \"sequence\" type such as list or tuple. Support for non-sequence iterables such as generators is deprecated as of NumPy 1.16 and will raise an error in the future.\n",
      "  f_del = np.vstack(list(np.ravel(r)) for r in sequence)\n",
      "/home/naodell/opt/anaconda3/lib/python3.7/site-packages/numdifftools/limits.py:184: FutureWarning: arrays to stack must be passed as a \"sequence\" type such as list or tuple. Support for non-sequence iterables such as generators is deprecated as of NumPy 1.16 and will raise an error in the future.\n",
      "  for step in steps)\n"
     ]
    },
    {
     "name": "stdout",
     "output_type": "stream",
     "text": [
      "0.9267164189652548 54.037457770577\n",
      "Warning: Desired error not necessarily achieved due to precision loss.\n",
      "         Current function value: 0.553001\n",
      "         Iterations: 64\n",
      "         Function evaluations: 166\n",
      "         Gradient evaluations: 155\n",
      "[-0.048 -0.055 -0.039  0.023] 0.5530013640774503\n",
      "-0.9267164189652548 53.50671995227553\n",
      "Warning: Desired error not necessarily achieved due to precision loss.\n",
      "         Current function value: 0.488330\n",
      "         Iterations: 58\n",
      "         Function evaluations: 144\n",
      "         Gradient evaluations: 134\n",
      "[ 0.02   0.027  0.052 -0.016] 0.4883304318628928\n",
      "106 jes_pileup_pt_ref 0.0 1.0 0.0 0.9736597037845168 -4.974332057372519e-11\n"
     ]
    },
    {
     "name": "stderr",
     "output_type": "stream",
     "text": [
      "/home/naodell/opt/anaconda3/lib/python3.7/site-packages/numdifftools/limits.py:182: FutureWarning: arrays to stack must be passed as a \"sequence\" type such as list or tuple. Support for non-sequence iterables such as generators is deprecated as of NumPy 1.16 and will raise an error in the future.\n",
      "  f_del = np.vstack(list(np.ravel(r)) for r in sequence)\n",
      "/home/naodell/opt/anaconda3/lib/python3.7/site-packages/numdifftools/limits.py:184: FutureWarning: arrays to stack must be passed as a \"sequence\" type such as list or tuple. Support for non-sequence iterables such as generators is deprecated as of NumPy 1.16 and will raise an error in the future.\n",
      "  for step in steps)\n"
     ]
    },
    {
     "name": "stdout",
     "output_type": "stream",
     "text": [
      "0.9736597037845168 40.63979325105441\n",
      "Warning: Desired error not necessarily achieved due to precision loss.\n",
      "         Current function value: 0.522760\n",
      "         Iterations: 63\n",
      "         Function evaluations: 228\n",
      "         Gradient evaluations: 213\n",
      "[ 0.03   0.026  0.069 -0.02 ] 0.5227604112636065\n",
      "-0.9736597037845168 40.6767229521085\n",
      "Warning: Desired error not necessarily achieved due to precision loss.\n",
      "         Current function value: 0.523672\n",
      "         Iterations: 54\n",
      "         Function evaluations: 124\n",
      "         Gradient evaluations: 115\n",
      "[-0.02  -0.027 -0.089  0.022] 0.5236719246740845\n",
      "107 jes_relative_bal 0.0 1.0 0.0 0.9087041090392688 -4.974332057372519e-11\n"
     ]
    },
    {
     "name": "stderr",
     "output_type": "stream",
     "text": [
      "/home/naodell/opt/anaconda3/lib/python3.7/site-packages/numdifftools/limits.py:182: FutureWarning: arrays to stack must be passed as a \"sequence\" type such as list or tuple. Support for non-sequence iterables such as generators is deprecated as of NumPy 1.16 and will raise an error in the future.\n",
      "  f_del = np.vstack(list(np.ravel(r)) for r in sequence)\n",
      "/home/naodell/opt/anaconda3/lib/python3.7/site-packages/numdifftools/limits.py:184: FutureWarning: arrays to stack must be passed as a \"sequence\" type such as list or tuple. Support for non-sequence iterables such as generators is deprecated as of NumPy 1.16 and will raise an error in the future.\n",
      "  for step in steps)\n"
     ]
    },
    {
     "name": "stdout",
     "output_type": "stream",
     "text": [
      "0.9087041090392688 132.34488758969823\n",
      "Warning: Desired error not necessarily achieved due to precision loss.\n",
      "         Current function value: 0.526200\n",
      "         Iterations: 66\n",
      "         Function evaluations: 116\n",
      "         Gradient evaluations: 105\n",
      "[ 0.037  0.044  0.101 -0.029] 0.5261999035223915\n",
      "-0.9087041090392688 136.55478075048265\n",
      "Optimization terminated successfully.\n",
      "         Current function value: 0.539837\n",
      "         Iterations: 64\n",
      "         Function evaluations: 81\n",
      "         Gradient evaluations: 81\n",
      "[-0.057 -0.052 -0.144  0.04 ] 0.5398370499636335\n",
      "108 jes_relative_jer_ec1 0.0 1.0 0.0 0.9985917979064859 -4.974332057372519e-11\n"
     ]
    },
    {
     "name": "stderr",
     "output_type": "stream",
     "text": [
      "/home/naodell/opt/anaconda3/lib/python3.7/site-packages/numdifftools/limits.py:182: FutureWarning: arrays to stack must be passed as a \"sequence\" type such as list or tuple. Support for non-sequence iterables such as generators is deprecated as of NumPy 1.16 and will raise an error in the future.\n",
      "  f_del = np.vstack(list(np.ravel(r)) for r in sequence)\n",
      "/home/naodell/opt/anaconda3/lib/python3.7/site-packages/numdifftools/limits.py:184: FutureWarning: arrays to stack must be passed as a \"sequence\" type such as list or tuple. Support for non-sequence iterables such as generators is deprecated as of NumPy 1.16 and will raise an error in the future.\n",
      "  for step in steps)\n"
     ]
    },
    {
     "name": "stdout",
     "output_type": "stream",
     "text": [
      "0.9985917979064859 0.5356378904258121\n",
      "Optimization terminated successfully.\n",
      "         Current function value: 0.500335\n",
      "         Iterations: 47\n",
      "         Function evaluations: 146\n",
      "         Gradient evaluations: 143\n",
      "[-0.005 -0.012 -0.012  0.005] 0.5003345196531119\n",
      "-0.9985917979064859 0.5362651662323892\n",
      "Optimization terminated successfully.\n",
      "         Current function value: 0.501474\n",
      "         Iterations: 44\n",
      "         Function evaluations: 66\n",
      "         Gradient evaluations: 66\n",
      "[ 3.973e-03  1.166e-04 -3.855e-03 -3.757e-05] 0.5014743529662042\n",
      "109 jes_relative_pt_bb 0.0 1.0 0.0 0.9972139802516191 -4.974332057372519e-11\n"
     ]
    },
    {
     "name": "stderr",
     "output_type": "stream",
     "text": [
      "/home/naodell/opt/anaconda3/lib/python3.7/site-packages/numdifftools/limits.py:182: FutureWarning: arrays to stack must be passed as a \"sequence\" type such as list or tuple. Support for non-sequence iterables such as generators is deprecated as of NumPy 1.16 and will raise an error in the future.\n",
      "  f_del = np.vstack(list(np.ravel(r)) for r in sequence)\n",
      "/home/naodell/opt/anaconda3/lib/python3.7/site-packages/numdifftools/limits.py:184: FutureWarning: arrays to stack must be passed as a \"sequence\" type such as list or tuple. Support for non-sequence iterables such as generators is deprecated as of NumPy 1.16 and will raise an error in the future.\n",
      "  for step in steps)\n"
     ]
    },
    {
     "name": "stdout",
     "output_type": "stream",
     "text": [
      "0.9972139802516191 1.8267932960536362\n",
      "Optimization terminated successfully.\n",
      "         Current function value: 0.507330\n",
      "         Iterations: 47\n",
      "         Function evaluations: 72\n",
      "         Gradient evaluations: 72\n",
      "[ 0.004  0.019  0.016 -0.006] 0.5073298403408475\n",
      "-0.9972139802516191 1.9418286665553266\n",
      "Warning: Desired error not necessarily achieved due to precision loss.\n",
      "         Current function value: 0.511551\n",
      "         Iterations: 49\n",
      "         Function evaluations: 236\n",
      "         Gradient evaluations: 222\n",
      "[-0.009 -0.012 -0.036  0.009] 0.51155142848767\n",
      "110 jes_relative_pt_ec1 0.0 1.0 0.0 0.9789133982975152 -4.974332057372519e-11\n"
     ]
    },
    {
     "name": "stderr",
     "output_type": "stream",
     "text": [
      "/home/naodell/opt/anaconda3/lib/python3.7/site-packages/numdifftools/limits.py:182: FutureWarning: arrays to stack must be passed as a \"sequence\" type such as list or tuple. Support for non-sequence iterables such as generators is deprecated as of NumPy 1.16 and will raise an error in the future.\n",
      "  f_del = np.vstack(list(np.ravel(r)) for r in sequence)\n",
      "/home/naodell/opt/anaconda3/lib/python3.7/site-packages/numdifftools/limits.py:184: FutureWarning: arrays to stack must be passed as a \"sequence\" type such as list or tuple. Support for non-sequence iterables such as generators is deprecated as of NumPy 1.16 and will raise an error in the future.\n",
      "  for step in steps)\n"
     ]
    },
    {
     "name": "stdout",
     "output_type": "stream",
     "text": [
      "0.9789133982975152 22.428054598188595\n",
      "Warning: Desired error not necessarily achieved due to precision loss.\n",
      "         Current function value: 0.508233\n",
      "         Iterations: 61\n",
      "         Function evaluations: 194\n",
      "         Gradient evaluations: 181\n",
      "[-0.017 -0.03  -0.     0.007] 0.5082334653003485\n",
      "-0.9789133982975152 22.57621546725155\n",
      "Optimization terminated successfully.\n",
      "         Current function value: 0.506786\n",
      "         Iterations: 56\n",
      "         Function evaluations: 148\n",
      "         Gradient evaluations: 146\n",
      "[-1.152e-05 -4.791e-03 -6.512e-03  1.808e-03] 0.5067859274126104\n",
      "111 jes_relative_stat_fsr 0.0 1.0 0.0 0.9985531725399448 -4.974332057372519e-11\n"
     ]
    },
    {
     "name": "stderr",
     "output_type": "stream",
     "text": [
      "/home/naodell/opt/anaconda3/lib/python3.7/site-packages/numdifftools/limits.py:182: FutureWarning: arrays to stack must be passed as a \"sequence\" type such as list or tuple. Support for non-sequence iterables such as generators is deprecated as of NumPy 1.16 and will raise an error in the future.\n",
      "  f_del = np.vstack(list(np.ravel(r)) for r in sequence)\n",
      "/home/naodell/opt/anaconda3/lib/python3.7/site-packages/numdifftools/limits.py:184: FutureWarning: arrays to stack must be passed as a \"sequence\" type such as list or tuple. Support for non-sequence iterables such as generators is deprecated as of NumPy 1.16 and will raise an error in the future.\n",
      "  for step in steps)\n"
     ]
    },
    {
     "name": "stdout",
     "output_type": "stream",
     "text": [
      "0.9985531725399448 0.6439971381463027\n",
      "Warning: Desired error not necessarily achieved due to precision loss.\n",
      "         Current function value: 0.500396\n",
      "         Iterations: 47\n",
      "         Function evaluations: 193\n",
      "         Gradient evaluations: 179\n",
      "[-0.004 -0.009 -0.014  0.004] 0.5003963388562565\n",
      "-0.9985531725399448 0.6527844829537317\n",
      "Warning: Desired error not necessarily achieved due to precision loss.\n",
      "         Current function value: 0.503040\n",
      "         Iterations: 46\n",
      "         Function evaluations: 118\n",
      "         Gradient evaluations: 108\n",
      "[ 0.003  0.001  0.005 -0.001] 0.503039729487373\n",
      "112 jes_relative_stat_ec 0.0 1.0 0.0 0.9958525441280618 -4.974332057372519e-11\n"
     ]
    },
    {
     "name": "stderr",
     "output_type": "stream",
     "text": [
      "/home/naodell/opt/anaconda3/lib/python3.7/site-packages/numdifftools/limits.py:182: FutureWarning: arrays to stack must be passed as a \"sequence\" type such as list or tuple. Support for non-sequence iterables such as generators is deprecated as of NumPy 1.16 and will raise an error in the future.\n",
      "  f_del = np.vstack(list(np.ravel(r)) for r in sequence)\n",
      "/home/naodell/opt/anaconda3/lib/python3.7/site-packages/numdifftools/limits.py:184: FutureWarning: arrays to stack must be passed as a \"sequence\" type such as list or tuple. Support for non-sequence iterables such as generators is deprecated as of NumPy 1.16 and will raise an error in the future.\n",
      "  for step in steps)\n"
     ]
    },
    {
     "name": "stdout",
     "output_type": "stream",
     "text": [
      "0.9958525441280618 2.58980843870339\n",
      "Optimization terminated successfully.\n",
      "         Current function value: 0.502810\n",
      "         Iterations: 47\n",
      "         Function evaluations: 71\n",
      "         Gradient evaluations: 71\n",
      "[-0.011 -0.017 -0.023  0.008] 0.5028095227601984\n",
      "-0.9958525441280618 2.555899207174055\n",
      "Warning: Desired error not necessarily achieved due to precision loss.\n",
      "         Current function value: 0.504640\n",
      "         Iterations: 45\n",
      "         Function evaluations: 147\n",
      "         Gradient evaluations: 135\n",
      "[ 0.011  0.007 -0.001 -0.003] 0.5046402133369762\n",
      "113 jes_single_pion_ecal 0.0 1.0 0.0 0.9795478434659004 -4.974332057372519e-11\n"
     ]
    },
    {
     "name": "stderr",
     "output_type": "stream",
     "text": [
      "/home/naodell/opt/anaconda3/lib/python3.7/site-packages/numdifftools/limits.py:182: FutureWarning: arrays to stack must be passed as a \"sequence\" type such as list or tuple. Support for non-sequence iterables such as generators is deprecated as of NumPy 1.16 and will raise an error in the future.\n",
      "  f_del = np.vstack(list(np.ravel(r)) for r in sequence)\n",
      "/home/naodell/opt/anaconda3/lib/python3.7/site-packages/numdifftools/limits.py:184: FutureWarning: arrays to stack must be passed as a \"sequence\" type such as list or tuple. Support for non-sequence iterables such as generators is deprecated as of NumPy 1.16 and will raise an error in the future.\n",
      "  for step in steps)\n"
     ]
    },
    {
     "name": "stdout",
     "output_type": "stream",
     "text": [
      "0.9795478434659004 22.688382593614236\n",
      "Warning: Desired error not necessarily achieved due to precision loss.\n",
      "         Current function value: 0.517507\n",
      "         Iterations: 51\n",
      "         Function evaluations: 167\n",
      "         Gradient evaluations: 156\n",
      "[-0.01  -0.024 -0.061  0.015] 0.5175068725254637\n",
      "-0.9795478434659004 22.356602156064817\n",
      "Optimization terminated successfully.\n",
      "         Current function value: 0.507165\n",
      "         Iterations: 59\n",
      "         Function evaluations: 80\n",
      "         Gradient evaluations: 80\n",
      "[ 0.011  0.017  0.057 -0.014] 0.5071654451754669\n",
      "114 jes_single_pion_hcal 0.0 1.0 0.0 0.9844037087677752 -4.974332057372519e-11\n"
     ]
    },
    {
     "name": "stderr",
     "output_type": "stream",
     "text": [
      "/home/naodell/opt/anaconda3/lib/python3.7/site-packages/numdifftools/limits.py:182: FutureWarning: arrays to stack must be passed as a \"sequence\" type such as list or tuple. Support for non-sequence iterables such as generators is deprecated as of NumPy 1.16 and will raise an error in the future.\n",
      "  f_del = np.vstack(list(np.ravel(r)) for r in sequence)\n",
      "/home/naodell/opt/anaconda3/lib/python3.7/site-packages/numdifftools/limits.py:184: FutureWarning: arrays to stack must be passed as a \"sequence\" type such as list or tuple. Support for non-sequence iterables such as generators is deprecated as of NumPy 1.16 and will raise an error in the future.\n",
      "  for step in steps)\n"
     ]
    },
    {
     "name": "stdout",
     "output_type": "stream",
     "text": [
      "0.9844037087677752 17.483460898859427\n",
      "Warning: Desired error not necessarily achieved due to precision loss.\n",
      "         Current function value: 0.518359\n",
      "         Iterations: 53\n",
      "         Function evaluations: 168\n",
      "         Gradient evaluations: 158\n",
      "[-0.009 -0.015 -0.042  0.01 ] 0.5183592723096637\n",
      "-0.9844037087677752 17.283477289602885\n",
      "Optimization terminated successfully.\n",
      "         Current function value: 0.507894\n",
      "         Iterations: 57\n",
      "         Function evaluations: 82\n",
      "         Gradient evaluations: 82\n",
      "[ 0.006  0.009  0.031 -0.007] 0.5078942454247141\n",
      "115 jes_time_pt_eta 0.0 1.0 0.0 0.9941233706379774 -4.974332057372519e-11\n"
     ]
    },
    {
     "name": "stderr",
     "output_type": "stream",
     "text": [
      "/home/naodell/opt/anaconda3/lib/python3.7/site-packages/numdifftools/limits.py:182: FutureWarning: arrays to stack must be passed as a \"sequence\" type such as list or tuple. Support for non-sequence iterables such as generators is deprecated as of NumPy 1.16 and will raise an error in the future.\n",
      "  f_del = np.vstack(list(np.ravel(r)) for r in sequence)\n",
      "/home/naodell/opt/anaconda3/lib/python3.7/site-packages/numdifftools/limits.py:184: FutureWarning: arrays to stack must be passed as a \"sequence\" type such as list or tuple. Support for non-sequence iterables such as generators is deprecated as of NumPy 1.16 and will raise an error in the future.\n",
      "  for step in steps)\n"
     ]
    },
    {
     "name": "stdout",
     "output_type": "stream",
     "text": [
      "0.9941233706379774 1.0819803139411428\n",
      "Warning: Desired error not necessarily achieved due to precision loss.\n",
      "         Current function value: 0.511992\n",
      "         Iterations: 46\n",
      "         Function evaluations: 119\n",
      "         Gradient evaluations: 107\n",
      "[ 0.027  0.026  0.019 -0.012] 0.5119915192698515\n",
      "-0.9941233706379774 1.054599594933651\n",
      "Warning: Desired error not necessarily achieved due to precision loss.\n",
      "         Current function value: 0.502235\n",
      "         Iterations: 47\n",
      "         Function evaluations: 122\n",
      "         Gradient evaluations: 111\n",
      "[-0.005 -0.007  0.02  -0.001] 0.502235084195781\n",
      "116 jes_flavor_qcd 0.0 1.0 0.0 0.7323472544969002 -4.974332057372519e-11\n"
     ]
    },
    {
     "name": "stderr",
     "output_type": "stream",
     "text": [
      "/home/naodell/opt/anaconda3/lib/python3.7/site-packages/numdifftools/limits.py:182: FutureWarning: arrays to stack must be passed as a \"sequence\" type such as list or tuple. Support for non-sequence iterables such as generators is deprecated as of NumPy 1.16 and will raise an error in the future.\n",
      "  f_del = np.vstack(list(np.ravel(r)) for r in sequence)\n",
      "/home/naodell/opt/anaconda3/lib/python3.7/site-packages/numdifftools/limits.py:184: FutureWarning: arrays to stack must be passed as a \"sequence\" type such as list or tuple. Support for non-sequence iterables such as generators is deprecated as of NumPy 1.16 and will raise an error in the future.\n",
      "  for step in steps)\n"
     ]
    },
    {
     "name": "stdout",
     "output_type": "stream",
     "text": [
      "0.7323472544969002 264.86910676995353\n",
      "Warning: Desired error not necessarily achieved due to precision loss.\n",
      "         Current function value: 0.518660\n",
      "         Iterations: 69\n",
      "         Function evaluations: 151\n",
      "         Gradient evaluations: 139\n",
      "[ 0.177  0.172  0.243 -0.095] 0.5186597924489188\n",
      "-0.7323472544969002 273.17067931894763\n",
      "Warning: Desired error not necessarily achieved due to precision loss.\n",
      "         Current function value: 0.531129\n",
      "         Iterations: 68\n",
      "         Function evaluations: 177\n",
      "         Gradient evaluations: 166\n",
      "[-0.195 -0.172 -0.301  0.107] 0.5311291889358123\n",
      "\n"
     ]
    }
   ],
   "source": [
    "# n-1 systematics\n",
    "\n",
    "# initialize parameter data\n",
    "fit_data._pmask = parameters['active'].values.astype(bool)\n",
    "fit_data._pval_init = parameters['val_init'].values.copy()\n",
    "\n",
    "errs = []\n",
    "impacts = []\n",
    "iparam = 4\n",
    "mask = fit_data._pmask\n",
    "#mask[17:] = False\n",
    "p_init = fit_data._pval_fit\n",
    "p_fit = parameters.val_fit.values\n",
    "for pname, pdata in tqdm_notebook(parameters.iloc[4:].iterrows(), total=parameters.active.sum() - 4):\n",
    "    if not pdata.active:\n",
    "        iparam += 1\n",
    "        continue\n",
    "        \n",
    "    print(iparam, pname, pdata.val_init, pdata.err_init, pdata.val_fit, pdata.err_fit, fobj(p_init[mask]))\n",
    "\n",
    "    # fix parameter in fit and covariance calculation\n",
    "    mask[iparam] = False\n",
    "    #min_options['finite_diff_rel_step'] = steps[mask]\n",
    "    err, _ = fh.calculate_covariance(fobj, p_init[mask])\n",
    "    errs.append(err)\n",
    "    \n",
    "    # calculate impacts from up/down variations of n.p. on p.o.i.\n",
    "    p_init[iparam] = pdata.val_fit + pdata.err_fit\n",
    "    print(p_init[iparam], fobj(p_init[mask]))\n",
    "    res = minimize(fobj, p_fit[mask],\n",
    "                   jac     = fobj_jac,\n",
    "                   #hess    = 'cs',\n",
    "                   #method  = 'trust-constr', \n",
    "                   method  = 'BFGS', \n",
    "                   options = min_options,\n",
    "                  )\n",
    "    impact_up = res.x\n",
    "    print((res.x[:4]-p_fit[:4])*100/p_fit[:4], res.fun)\n",
    "                    \n",
    "    p_init[iparam] = pdata.val_fit - pdata.err_fit\n",
    "    print(p_init[iparam], fobj(p_init[mask]))\n",
    "    res = minimize(fobj, p_fit[mask],\n",
    "                   jac     = fobj_jac,\n",
    "                   #hess    = 'cs',\n",
    "                   #method  = 'trust-constr', \n",
    "                   method  = 'BFGS', \n",
    "                   options = min_options,\n",
    "                  )\n",
    "    impact_down = res.x\n",
    "    print((res.x[:4]-p_fit[:4])*100/p_fit[:4], res.fun)\n",
    "    impacts.append(np.array([impact_up, impact_down]))\n",
    "    \n",
    "    p_init[iparam] = pdata.val_fit\n",
    "    mask[iparam] = True\n",
    "    \n",
    "    iparam += 1\n",
    "    \n",
    "errs = np.array(errs)\n",
    "impacts = np.array(impacts)"
   ]
  },
  {
   "cell_type": "code",
   "execution_count": 7,
   "metadata": {
    "ExecuteTime": {
     "end_time": "2020-01-30T11:51:53.004774Z",
     "start_time": "2020-01-30T11:51:52.953863Z"
    },
    "code_folding": [],
    "scrolled": false
   },
   "outputs": [
    {
     "data": {
      "text/html": [
       "<div>\n",
       "<style scoped>\n",
       "    .dataframe tbody tr th:only-of-type {\n",
       "        vertical-align: middle;\n",
       "    }\n",
       "\n",
       "    .dataframe tbody tr th {\n",
       "        vertical-align: top;\n",
       "    }\n",
       "\n",
       "    .dataframe thead th {\n",
       "        text-align: right;\n",
       "    }\n",
       "</style>\n",
       "<table border=\"1\" class=\"dataframe\">\n",
       "  <thead>\n",
       "    <tr style=\"text-align: right;\">\n",
       "      <th></th>\n",
       "      <th>beta_tau_up</th>\n",
       "      <th>beta_tau_down</th>\n",
       "    </tr>\n",
       "  </thead>\n",
       "  <tbody>\n",
       "    <tr>\n",
       "      <th>eff_tau_5</th>\n",
       "      <td>-0.7982</td>\n",
       "      <td>0.7831</td>\n",
       "    </tr>\n",
       "    <tr>\n",
       "      <th>eff_tau_4</th>\n",
       "      <td>-0.6541</td>\n",
       "      <td>0.6337</td>\n",
       "    </tr>\n",
       "    <tr>\n",
       "      <th>eff_tau_2</th>\n",
       "      <td>-0.5545</td>\n",
       "      <td>0.5776</td>\n",
       "    </tr>\n",
       "    <tr>\n",
       "      <th>eff_tau_3</th>\n",
       "      <td>-0.5347</td>\n",
       "      <td>0.5512</td>\n",
       "    </tr>\n",
       "    <tr>\n",
       "      <th>xs_zjets_alt_qcd_scale_0</th>\n",
       "      <td>0.4791</td>\n",
       "      <td>-0.5398</td>\n",
       "    </tr>\n",
       "    <tr>\n",
       "      <th>isr</th>\n",
       "      <td>0.4014</td>\n",
       "      <td>-0.4859</td>\n",
       "    </tr>\n",
       "    <tr>\n",
       "      <th>top_pt</th>\n",
       "      <td>0.5104</td>\n",
       "      <td>-0.4374</td>\n",
       "    </tr>\n",
       "    <tr>\n",
       "      <th>xs_ttbar_qcd_scale</th>\n",
       "      <td>-0.4385</td>\n",
       "      <td>0.4279</td>\n",
       "    </tr>\n",
       "    <tr>\n",
       "      <th>misid_tau_h</th>\n",
       "      <td>-0.3634</td>\n",
       "      <td>0.3664</td>\n",
       "    </tr>\n",
       "    <tr>\n",
       "      <th>xs_t</th>\n",
       "      <td>0.3315</td>\n",
       "      <td>-0.3562</td>\n",
       "    </tr>\n",
       "    <tr>\n",
       "      <th>escale_mu</th>\n",
       "      <td>0.3961</td>\n",
       "      <td>-0.3434</td>\n",
       "    </tr>\n",
       "    <tr>\n",
       "      <th>ctag</th>\n",
       "      <td>0.2887</td>\n",
       "      <td>-0.3247</td>\n",
       "    </tr>\n",
       "    <tr>\n",
       "      <th>eff_id_e</th>\n",
       "      <td>-0.3230</td>\n",
       "      <td>0.3155</td>\n",
       "    </tr>\n",
       "    <tr>\n",
       "      <th>trigger_e_5</th>\n",
       "      <td>-0.3082</td>\n",
       "      <td>0.3028</td>\n",
       "    </tr>\n",
       "    <tr>\n",
       "      <th>jes_flavor_qcd</th>\n",
       "      <td>0.2431</td>\n",
       "      <td>-0.3009</td>\n",
       "    </tr>\n",
       "    <tr>\n",
       "      <th>eff_tau_1</th>\n",
       "      <td>-0.2900</td>\n",
       "      <td>0.2946</td>\n",
       "    </tr>\n",
       "    <tr>\n",
       "      <th>fsr</th>\n",
       "      <td>0.2165</td>\n",
       "      <td>-0.2870</td>\n",
       "    </tr>\n",
       "    <tr>\n",
       "      <th>eff_tau_0</th>\n",
       "      <td>-0.2702</td>\n",
       "      <td>0.2614</td>\n",
       "    </tr>\n",
       "    <tr>\n",
       "      <th>e_fakes_ss</th>\n",
       "      <td>0.2504</td>\n",
       "      <td>-0.2581</td>\n",
       "    </tr>\n",
       "    <tr>\n",
       "      <th>ww_scale</th>\n",
       "      <td>-0.2105</td>\n",
       "      <td>0.2422</td>\n",
       "    </tr>\n",
       "    <tr>\n",
       "      <th>eff_e_5</th>\n",
       "      <td>0.2336</td>\n",
       "      <td>-0.2418</td>\n",
       "    </tr>\n",
       "    <tr>\n",
       "      <th>escale_e</th>\n",
       "      <td>0.2827</td>\n",
       "      <td>-0.2380</td>\n",
       "    </tr>\n",
       "    <tr>\n",
       "      <th>xs_zjets_alt_qcd_scale_2</th>\n",
       "      <td>-0.2040</td>\n",
       "      <td>0.2103</td>\n",
       "    </tr>\n",
       "    <tr>\n",
       "      <th>trigger_e_probe</th>\n",
       "      <td>-0.1842</td>\n",
       "      <td>0.1815</td>\n",
       "    </tr>\n",
       "    <tr>\n",
       "      <th>xs_ww</th>\n",
       "      <td>-0.0792</td>\n",
       "      <td>0.1698</td>\n",
       "    </tr>\n",
       "    <tr>\n",
       "      <th>xs_zjets_alt_qcd_scale_1</th>\n",
       "      <td>-0.1714</td>\n",
       "      <td>0.1647</td>\n",
       "    </tr>\n",
       "    <tr>\n",
       "      <th>jes_relative_bal</th>\n",
       "      <td>0.1013</td>\n",
       "      <td>-0.1435</td>\n",
       "    </tr>\n",
       "    <tr>\n",
       "      <th>jes_pileup_data_mc</th>\n",
       "      <td>0.0856</td>\n",
       "      <td>-0.1218</td>\n",
       "    </tr>\n",
       "    <tr>\n",
       "      <th>br_tau_h</th>\n",
       "      <td>-0.1131</td>\n",
       "      <td>0.1133</td>\n",
       "    </tr>\n",
       "    <tr>\n",
       "      <th>trigger_mu</th>\n",
       "      <td>0.1105</td>\n",
       "      <td>-0.1116</td>\n",
       "    </tr>\n",
       "    <tr>\n",
       "      <th>jer</th>\n",
       "      <td>0.0294</td>\n",
       "      <td>-0.1115</td>\n",
       "    </tr>\n",
       "    <tr>\n",
       "      <th>eff_mu_0</th>\n",
       "      <td>-0.1116</td>\n",
       "      <td>0.1109</td>\n",
       "    </tr>\n",
       "    <tr>\n",
       "      <th>btag_sampledependence</th>\n",
       "      <td>0.1042</td>\n",
       "      <td>-0.1087</td>\n",
       "    </tr>\n",
       "    <tr>\n",
       "      <th>eff_id_mu</th>\n",
       "      <td>-0.1084</td>\n",
       "      <td>0.1082</td>\n",
       "    </tr>\n",
       "    <tr>\n",
       "      <th>eff_mu_3</th>\n",
       "      <td>-0.1096</td>\n",
       "      <td>0.1071</td>\n",
       "    </tr>\n",
       "    <tr>\n",
       "      <th>mistag</th>\n",
       "      <td>-0.1454</td>\n",
       "      <td>0.1018</td>\n",
       "    </tr>\n",
       "    <tr>\n",
       "      <th>misid_tau_3</th>\n",
       "      <td>-0.0993</td>\n",
       "      <td>0.1010</td>\n",
       "    </tr>\n",
       "    <tr>\n",
       "      <th>trigger_e_tag</th>\n",
       "      <td>0.0918</td>\n",
       "      <td>-0.0967</td>\n",
       "    </tr>\n",
       "    <tr>\n",
       "      <th>escale_tau_10</th>\n",
       "      <td>0.1768</td>\n",
       "      <td>-0.0964</td>\n",
       "    </tr>\n",
       "    <tr>\n",
       "      <th>eff_reco_e</th>\n",
       "      <td>-0.0944</td>\n",
       "      <td>0.0940</td>\n",
       "    </tr>\n",
       "    <tr>\n",
       "      <th>btag_ltothers</th>\n",
       "      <td>0.0911</td>\n",
       "      <td>-0.0939</td>\n",
       "    </tr>\n",
       "    <tr>\n",
       "      <th>hdamp</th>\n",
       "      <td>0.0956</td>\n",
       "      <td>-0.0900</td>\n",
       "    </tr>\n",
       "    <tr>\n",
       "      <th>jes_pileup_pt_ref</th>\n",
       "      <td>0.0693</td>\n",
       "      <td>-0.0893</td>\n",
       "    </tr>\n",
       "    <tr>\n",
       "      <th>eff_e_4</th>\n",
       "      <td>0.0852</td>\n",
       "      <td>-0.0880</td>\n",
       "    </tr>\n",
       "    <tr>\n",
       "      <th>misid_tau_2</th>\n",
       "      <td>-0.0827</td>\n",
       "      <td>0.0874</td>\n",
       "    </tr>\n",
       "    <tr>\n",
       "      <th>xs_zjets_alt_alpha_s</th>\n",
       "      <td>0.0857</td>\n",
       "      <td>-0.0859</td>\n",
       "    </tr>\n",
       "    <tr>\n",
       "      <th>e_fakes</th>\n",
       "      <td>-0.0795</td>\n",
       "      <td>0.0789</td>\n",
       "    </tr>\n",
       "    <tr>\n",
       "      <th>jes_pileup_pt_bb</th>\n",
       "      <td>0.0689</td>\n",
       "      <td>-0.0746</td>\n",
       "    </tr>\n",
       "    <tr>\n",
       "      <th>eff_mu_2</th>\n",
       "      <td>-0.0700</td>\n",
       "      <td>0.0703</td>\n",
       "    </tr>\n",
       "    <tr>\n",
       "      <th>pileup</th>\n",
       "      <td>0.0526</td>\n",
       "      <td>-0.0668</td>\n",
       "    </tr>\n",
       "    <tr>\n",
       "      <th>eff_mu_1</th>\n",
       "      <td>-0.0652</td>\n",
       "      <td>0.0623</td>\n",
       "    </tr>\n",
       "    <tr>\n",
       "      <th>misid_tau_e</th>\n",
       "      <td>-0.0621</td>\n",
       "      <td>0.0618</td>\n",
       "    </tr>\n",
       "    <tr>\n",
       "      <th>eff_mu_7</th>\n",
       "      <td>0.0576</td>\n",
       "      <td>-0.0584</td>\n",
       "    </tr>\n",
       "    <tr>\n",
       "      <th>xs_wjets</th>\n",
       "      <td>-0.0573</td>\n",
       "      <td>0.0577</td>\n",
       "    </tr>\n",
       "    <tr>\n",
       "      <th>jes_single_pion_ecal</th>\n",
       "      <td>-0.0611</td>\n",
       "      <td>0.0567</td>\n",
       "    </tr>\n",
       "    <tr>\n",
       "      <th>eff_e_3</th>\n",
       "      <td>0.0523</td>\n",
       "      <td>-0.0551</td>\n",
       "    </tr>\n",
       "    <tr>\n",
       "      <th>escale_tau_1</th>\n",
       "      <td>0.1194</td>\n",
       "      <td>-0.0533</td>\n",
       "    </tr>\n",
       "    <tr>\n",
       "      <th>jes_pileup_pt_ec1</th>\n",
       "      <td>-0.0394</td>\n",
       "      <td>0.0521</td>\n",
       "    </tr>\n",
       "    <tr>\n",
       "      <th>eff_iso_mu</th>\n",
       "      <td>-0.0517</td>\n",
       "      <td>0.0509</td>\n",
       "    </tr>\n",
       "    <tr>\n",
       "      <th>jes_abs_mpf_bias</th>\n",
       "      <td>0.0391</td>\n",
       "      <td>-0.0415</td>\n",
       "    </tr>\n",
       "    <tr>\n",
       "      <th>mu_fakes</th>\n",
       "      <td>-0.0091</td>\n",
       "      <td>0.0413</td>\n",
       "    </tr>\n",
       "    <tr>\n",
       "      <th>trigger_e_4</th>\n",
       "      <td>-0.0419</td>\n",
       "      <td>0.0409</td>\n",
       "    </tr>\n",
       "    <tr>\n",
       "      <th>escale_tau_0</th>\n",
       "      <td>0.0409</td>\n",
       "      <td>-0.0406</td>\n",
       "    </tr>\n",
       "    <tr>\n",
       "      <th>misid_tau_1</th>\n",
       "      <td>-0.0352</td>\n",
       "      <td>0.0402</td>\n",
       "    </tr>\n",
       "    <tr>\n",
       "      <th>misid_tau_0</th>\n",
       "      <td>0.0445</td>\n",
       "      <td>-0.0395</td>\n",
       "    </tr>\n",
       "    <tr>\n",
       "      <th>br_tau_mu</th>\n",
       "      <td>-0.0387</td>\n",
       "      <td>0.0386</td>\n",
       "    </tr>\n",
       "    <tr>\n",
       "      <th>btag_gluonsplitting</th>\n",
       "      <td>-0.0145</td>\n",
       "      <td>0.0379</td>\n",
       "    </tr>\n",
       "    <tr>\n",
       "      <th>jes_fragmentation</th>\n",
       "      <td>0.0431</td>\n",
       "      <td>-0.0366</td>\n",
       "    </tr>\n",
       "    <tr>\n",
       "      <th>jes_relative_pt_bb</th>\n",
       "      <td>0.0163</td>\n",
       "      <td>-0.0361</td>\n",
       "    </tr>\n",
       "    <tr>\n",
       "      <th>misid_tau_4</th>\n",
       "      <td>-0.0322</td>\n",
       "      <td>0.0332</td>\n",
       "    </tr>\n",
       "    <tr>\n",
       "      <th>btag_bfragmentation</th>\n",
       "      <td>0.0465</td>\n",
       "      <td>-0.0315</td>\n",
       "    </tr>\n",
       "    <tr>\n",
       "      <th>jes_single_pion_hcal</th>\n",
       "      <td>-0.0416</td>\n",
       "      <td>0.0308</td>\n",
       "    </tr>\n",
       "    <tr>\n",
       "      <th>eff_mu_4</th>\n",
       "      <td>-0.0300</td>\n",
       "      <td>0.0287</td>\n",
       "    </tr>\n",
       "    <tr>\n",
       "      <th>trigger_e_0</th>\n",
       "      <td>0.0227</td>\n",
       "      <td>-0.0238</td>\n",
       "    </tr>\n",
       "    <tr>\n",
       "      <th>btag_jetaway</th>\n",
       "      <td>0.0266</td>\n",
       "      <td>0.0235</td>\n",
       "    </tr>\n",
       "    <tr>\n",
       "      <th>eff_mu_6</th>\n",
       "      <td>0.0199</td>\n",
       "      <td>-0.0202</td>\n",
       "    </tr>\n",
       "    <tr>\n",
       "      <th>jes_time_pt_eta</th>\n",
       "      <td>0.0186</td>\n",
       "      <td>0.0198</td>\n",
       "    </tr>\n",
       "    <tr>\n",
       "      <th>btag_ptrel</th>\n",
       "      <td>0.0119</td>\n",
       "      <td>-0.0180</td>\n",
       "    </tr>\n",
       "    <tr>\n",
       "      <th>xs_ttbar_pdf</th>\n",
       "      <td>-0.0142</td>\n",
       "      <td>0.0162</td>\n",
       "    </tr>\n",
       "    <tr>\n",
       "      <th>btag_cb</th>\n",
       "      <td>0.0152</td>\n",
       "      <td>-0.0161</td>\n",
       "    </tr>\n",
       "    <tr>\n",
       "      <th>ww_resum</th>\n",
       "      <td>0.0378</td>\n",
       "      <td>-0.0140</td>\n",
       "    </tr>\n",
       "    <tr>\n",
       "      <th>btag_statistic</th>\n",
       "      <td>0.0277</td>\n",
       "      <td>0.0128</td>\n",
       "    </tr>\n",
       "    <tr>\n",
       "      <th>eff_e_2</th>\n",
       "      <td>0.0081</td>\n",
       "      <td>-0.0124</td>\n",
       "    </tr>\n",
       "    <tr>\n",
       "      <th>trigger_e_1</th>\n",
       "      <td>0.0115</td>\n",
       "      <td>-0.0118</td>\n",
       "    </tr>\n",
       "    <tr>\n",
       "      <th>misid_tau_5</th>\n",
       "      <td>0.0094</td>\n",
       "      <td>-0.0100</td>\n",
       "    </tr>\n",
       "    <tr>\n",
       "      <th>trigger_e_3</th>\n",
       "      <td>0.0092</td>\n",
       "      <td>-0.0094</td>\n",
       "    </tr>\n",
       "    <tr>\n",
       "      <th>trigger_e_2</th>\n",
       "      <td>0.0083</td>\n",
       "      <td>-0.0085</td>\n",
       "    </tr>\n",
       "    <tr>\n",
       "      <th>btag_mupt</th>\n",
       "      <td>0.0244</td>\n",
       "      <td>0.0082</td>\n",
       "    </tr>\n",
       "    <tr>\n",
       "      <th>eff_e_0</th>\n",
       "      <td>-0.0160</td>\n",
       "      <td>0.0072</td>\n",
       "    </tr>\n",
       "    <tr>\n",
       "      <th>btag_btempcorr</th>\n",
       "      <td>0.0047</td>\n",
       "      <td>0.0071</td>\n",
       "    </tr>\n",
       "    <tr>\n",
       "      <th>btag_l2c</th>\n",
       "      <td>0.0233</td>\n",
       "      <td>-0.0070</td>\n",
       "    </tr>\n",
       "    <tr>\n",
       "      <th>jes_relative_pt_ec1</th>\n",
       "      <td>-0.0003</td>\n",
       "      <td>-0.0065</td>\n",
       "    </tr>\n",
       "    <tr>\n",
       "      <th>jes_relative_stat_fsr</th>\n",
       "      <td>-0.0142</td>\n",
       "      <td>0.0052</td>\n",
       "    </tr>\n",
       "    <tr>\n",
       "      <th>btag_pileup</th>\n",
       "      <td>0.0140</td>\n",
       "      <td>-0.0044</td>\n",
       "    </tr>\n",
       "    <tr>\n",
       "      <th>mu_fakes_ss</th>\n",
       "      <td>-0.0091</td>\n",
       "      <td>-0.0044</td>\n",
       "    </tr>\n",
       "    <tr>\n",
       "      <th>eff_mu_5</th>\n",
       "      <td>0.0039</td>\n",
       "      <td>-0.0040</td>\n",
       "    </tr>\n",
       "    <tr>\n",
       "      <th>jes_relative_jer_ec1</th>\n",
       "      <td>-0.0118</td>\n",
       "      <td>-0.0039</td>\n",
       "    </tr>\n",
       "    <tr>\n",
       "      <th>xs_diboson</th>\n",
       "      <td>-0.0028</td>\n",
       "      <td>0.0034</td>\n",
       "    </tr>\n",
       "    <tr>\n",
       "      <th>btag_jes</th>\n",
       "      <td>0.0349</td>\n",
       "      <td>-0.0032</td>\n",
       "    </tr>\n",
       "    <tr>\n",
       "      <th>jes_abs_stat</th>\n",
       "      <td>0.0210</td>\n",
       "      <td>-0.0032</td>\n",
       "    </tr>\n",
       "    <tr>\n",
       "      <th>btag_dmux</th>\n",
       "      <td>0.0171</td>\n",
       "      <td>-0.0026</td>\n",
       "    </tr>\n",
       "    <tr>\n",
       "      <th>lumi</th>\n",
       "      <td>-0.0094</td>\n",
       "      <td>0.0024</td>\n",
       "    </tr>\n",
       "    <tr>\n",
       "      <th>br_tau_e</th>\n",
       "      <td>0.0024</td>\n",
       "      <td>-0.0024</td>\n",
       "    </tr>\n",
       "    <tr>\n",
       "      <th>xs_zjets_alt_pdf</th>\n",
       "      <td>-0.0046</td>\n",
       "      <td>0.0020</td>\n",
       "    </tr>\n",
       "    <tr>\n",
       "      <th>btag_mudr</th>\n",
       "      <td>0.0071</td>\n",
       "      <td>0.0019</td>\n",
       "    </tr>\n",
       "    <tr>\n",
       "      <th>xs_ttbar_alpha_s</th>\n",
       "      <td>0.0005</td>\n",
       "      <td>0.0016</td>\n",
       "    </tr>\n",
       "    <tr>\n",
       "      <th>btag_ksl</th>\n",
       "      <td>0.0043</td>\n",
       "      <td>-0.0014</td>\n",
       "    </tr>\n",
       "    <tr>\n",
       "      <th>jes_relative_stat_ec</th>\n",
       "      <td>-0.0235</td>\n",
       "      <td>-0.0012</td>\n",
       "    </tr>\n",
       "    <tr>\n",
       "      <th>eff_e_1</th>\n",
       "      <td>-0.0025</td>\n",
       "      <td>-0.0005</td>\n",
       "    </tr>\n",
       "    <tr>\n",
       "      <th>btag_cfragmentation</th>\n",
       "      <td>0.0018</td>\n",
       "      <td>-0.0003</td>\n",
       "    </tr>\n",
       "    <tr>\n",
       "      <th>jes_abs_scale</th>\n",
       "      <td>0.0298</td>\n",
       "      <td>-0.0001</td>\n",
       "    </tr>\n",
       "    <tr>\n",
       "      <th>tune</th>\n",
       "      <td>0.0000</td>\n",
       "      <td>0.0000</td>\n",
       "    </tr>\n",
       "  </tbody>\n",
       "</table>\n",
       "</div>"
      ],
      "text/plain": [
       "                          beta_tau_up  beta_tau_down\n",
       "eff_tau_5                     -0.7982         0.7831\n",
       "eff_tau_4                     -0.6541         0.6337\n",
       "eff_tau_2                     -0.5545         0.5776\n",
       "eff_tau_3                     -0.5347         0.5512\n",
       "xs_zjets_alt_qcd_scale_0       0.4791        -0.5398\n",
       "isr                            0.4014        -0.4859\n",
       "top_pt                         0.5104        -0.4374\n",
       "xs_ttbar_qcd_scale            -0.4385         0.4279\n",
       "misid_tau_h                   -0.3634         0.3664\n",
       "xs_t                           0.3315        -0.3562\n",
       "escale_mu                      0.3961        -0.3434\n",
       "ctag                           0.2887        -0.3247\n",
       "eff_id_e                      -0.3230         0.3155\n",
       "trigger_e_5                   -0.3082         0.3028\n",
       "jes_flavor_qcd                 0.2431        -0.3009\n",
       "eff_tau_1                     -0.2900         0.2946\n",
       "fsr                            0.2165        -0.2870\n",
       "eff_tau_0                     -0.2702         0.2614\n",
       "e_fakes_ss                     0.2504        -0.2581\n",
       "ww_scale                      -0.2105         0.2422\n",
       "eff_e_5                        0.2336        -0.2418\n",
       "escale_e                       0.2827        -0.2380\n",
       "xs_zjets_alt_qcd_scale_2      -0.2040         0.2103\n",
       "trigger_e_probe               -0.1842         0.1815\n",
       "xs_ww                         -0.0792         0.1698\n",
       "xs_zjets_alt_qcd_scale_1      -0.1714         0.1647\n",
       "jes_relative_bal               0.1013        -0.1435\n",
       "jes_pileup_data_mc             0.0856        -0.1218\n",
       "br_tau_h                      -0.1131         0.1133\n",
       "trigger_mu                     0.1105        -0.1116\n",
       "jer                            0.0294        -0.1115\n",
       "eff_mu_0                      -0.1116         0.1109\n",
       "btag_sampledependence          0.1042        -0.1087\n",
       "eff_id_mu                     -0.1084         0.1082\n",
       "eff_mu_3                      -0.1096         0.1071\n",
       "mistag                        -0.1454         0.1018\n",
       "misid_tau_3                   -0.0993         0.1010\n",
       "trigger_e_tag                  0.0918        -0.0967\n",
       "escale_tau_10                  0.1768        -0.0964\n",
       "eff_reco_e                    -0.0944         0.0940\n",
       "btag_ltothers                  0.0911        -0.0939\n",
       "hdamp                          0.0956        -0.0900\n",
       "jes_pileup_pt_ref              0.0693        -0.0893\n",
       "eff_e_4                        0.0852        -0.0880\n",
       "misid_tau_2                   -0.0827         0.0874\n",
       "xs_zjets_alt_alpha_s           0.0857        -0.0859\n",
       "e_fakes                       -0.0795         0.0789\n",
       "jes_pileup_pt_bb               0.0689        -0.0746\n",
       "eff_mu_2                      -0.0700         0.0703\n",
       "pileup                         0.0526        -0.0668\n",
       "eff_mu_1                      -0.0652         0.0623\n",
       "misid_tau_e                   -0.0621         0.0618\n",
       "eff_mu_7                       0.0576        -0.0584\n",
       "xs_wjets                      -0.0573         0.0577\n",
       "jes_single_pion_ecal          -0.0611         0.0567\n",
       "eff_e_3                        0.0523        -0.0551\n",
       "escale_tau_1                   0.1194        -0.0533\n",
       "jes_pileup_pt_ec1             -0.0394         0.0521\n",
       "eff_iso_mu                    -0.0517         0.0509\n",
       "jes_abs_mpf_bias               0.0391        -0.0415\n",
       "mu_fakes                      -0.0091         0.0413\n",
       "trigger_e_4                   -0.0419         0.0409\n",
       "escale_tau_0                   0.0409        -0.0406\n",
       "misid_tau_1                   -0.0352         0.0402\n",
       "misid_tau_0                    0.0445        -0.0395\n",
       "br_tau_mu                     -0.0387         0.0386\n",
       "btag_gluonsplitting           -0.0145         0.0379\n",
       "jes_fragmentation              0.0431        -0.0366\n",
       "jes_relative_pt_bb             0.0163        -0.0361\n",
       "misid_tau_4                   -0.0322         0.0332\n",
       "btag_bfragmentation            0.0465        -0.0315\n",
       "jes_single_pion_hcal          -0.0416         0.0308\n",
       "eff_mu_4                      -0.0300         0.0287\n",
       "trigger_e_0                    0.0227        -0.0238\n",
       "btag_jetaway                   0.0266         0.0235\n",
       "eff_mu_6                       0.0199        -0.0202\n",
       "jes_time_pt_eta                0.0186         0.0198\n",
       "btag_ptrel                     0.0119        -0.0180\n",
       "xs_ttbar_pdf                  -0.0142         0.0162\n",
       "btag_cb                        0.0152        -0.0161\n",
       "ww_resum                       0.0378        -0.0140\n",
       "btag_statistic                 0.0277         0.0128\n",
       "eff_e_2                        0.0081        -0.0124\n",
       "trigger_e_1                    0.0115        -0.0118\n",
       "misid_tau_5                    0.0094        -0.0100\n",
       "trigger_e_3                    0.0092        -0.0094\n",
       "trigger_e_2                    0.0083        -0.0085\n",
       "btag_mupt                      0.0244         0.0082\n",
       "eff_e_0                       -0.0160         0.0072\n",
       "btag_btempcorr                 0.0047         0.0071\n",
       "btag_l2c                       0.0233        -0.0070\n",
       "jes_relative_pt_ec1           -0.0003        -0.0065\n",
       "jes_relative_stat_fsr         -0.0142         0.0052\n",
       "btag_pileup                    0.0140        -0.0044\n",
       "mu_fakes_ss                   -0.0091        -0.0044\n",
       "eff_mu_5                       0.0039        -0.0040\n",
       "jes_relative_jer_ec1          -0.0118        -0.0039\n",
       "xs_diboson                    -0.0028         0.0034\n",
       "btag_jes                       0.0349        -0.0032\n",
       "jes_abs_stat                   0.0210        -0.0032\n",
       "btag_dmux                      0.0171        -0.0026\n",
       "lumi                          -0.0094         0.0024\n",
       "br_tau_e                       0.0024        -0.0024\n",
       "xs_zjets_alt_pdf              -0.0046         0.0020\n",
       "btag_mudr                      0.0071         0.0019\n",
       "xs_ttbar_alpha_s               0.0005         0.0016\n",
       "btag_ksl                       0.0043        -0.0014\n",
       "jes_relative_stat_ec          -0.0235        -0.0012\n",
       "eff_e_1                       -0.0025        -0.0005\n",
       "btag_cfragmentation            0.0018        -0.0003\n",
       "jes_abs_scale                  0.0298        -0.0001\n",
       "tune                           0.0000         0.0000"
      ]
     },
     "execution_count": 7,
     "metadata": {},
     "output_type": "execute_result"
    }
   ],
   "source": [
    "# convert impacts to dataframes \n",
    "impacts_np = np.hstack([100*(impacts[:,0,:4] - p_fit[:4])/p_fit[:4], 100*(impacts[:,1,:4] - p_fit[:4])/p_fit[:4]])\n",
    "\n",
    "#impacts_up = pd.DataFrame(impacts_np, columns=['beta_e_up', 'beta_mu_up', 'beta_tau_up', 'beta_h_up'], index=list(p_labels_fancy[4:]))\n",
    "p_labels = parameters.query('active == 1').index.values[4:]\n",
    "impacts_np = pd.DataFrame(impacts_np, columns=['beta_e_up', 'beta_mu_up', 'beta_tau_up', 'beta_h_up', 'beta_e_down', 'beta_mu_down', 'beta_tau_down', 'beta_h_down'], index=list(p_labels))\n",
    "impacts_np.to_csv('local_data/impacts_asimov.csv')\n",
    "\n",
    "pd.set_option('display.float_format', lambda x: '%.4f' % x)\n",
    "pd.set_option('display.max_columns', parameters.shape[0])\n",
    "pd.set_option('display.max_rows', parameters.shape[0])\n",
    "\n",
    "var = 'beta_tau'\n",
    "sorted_ind = impacts_np.abs().sort_values(by=f'{var}_down', ascending=False).index\n",
    "impacts_np.reindex(sorted_ind)[['beta_tau_up', 'beta_tau_down']]"
   ]
  },
  {
   "cell_type": "code",
   "execution_count": 8,
   "metadata": {
    "ExecuteTime": {
     "end_time": "2020-01-30T11:51:53.030142Z",
     "start_time": "2020-01-30T11:51:53.006575Z"
    },
    "code_folding": [],
    "scrolled": true
   },
   "outputs": [
    {
     "data": {
      "text/html": [
       "<div>\n",
       "<style scoped>\n",
       "    .dataframe tbody tr th:only-of-type {\n",
       "        vertical-align: middle;\n",
       "    }\n",
       "\n",
       "    .dataframe tbody tr th {\n",
       "        vertical-align: top;\n",
       "    }\n",
       "\n",
       "    .dataframe thead th {\n",
       "        text-align: right;\n",
       "    }\n",
       "</style>\n",
       "<table border=\"1\" class=\"dataframe\">\n",
       "  <thead>\n",
       "    <tr style=\"text-align: right;\">\n",
       "      <th></th>\n",
       "      <th>beta_e</th>\n",
       "      <th>beta_mu</th>\n",
       "      <th>beta_tau</th>\n",
       "      <th>beta_h</th>\n",
       "    </tr>\n",
       "  </thead>\n",
       "  <tbody>\n",
       "    <tr>\n",
       "      <th>br_tau_e</th>\n",
       "      <td>-0.0000</td>\n",
       "      <td>-0.0000</td>\n",
       "      <td>-0.0001</td>\n",
       "      <td>-0.0002</td>\n",
       "    </tr>\n",
       "    <tr>\n",
       "      <th>br_tau_mu</th>\n",
       "      <td>-0.0000</td>\n",
       "      <td>-0.0000</td>\n",
       "      <td>-0.0001</td>\n",
       "      <td>-0.0002</td>\n",
       "    </tr>\n",
       "    <tr>\n",
       "      <th>br_tau_h</th>\n",
       "      <td>-0.0000</td>\n",
       "      <td>-0.0000</td>\n",
       "      <td>-0.0001</td>\n",
       "      <td>-0.0002</td>\n",
       "    </tr>\n",
       "    <tr>\n",
       "      <th>lumi</th>\n",
       "      <td>-0.0000</td>\n",
       "      <td>-0.0000</td>\n",
       "      <td>-0.0001</td>\n",
       "      <td>-0.0002</td>\n",
       "    </tr>\n",
       "    <tr>\n",
       "      <th>xs_diboson</th>\n",
       "      <td>-0.0000</td>\n",
       "      <td>-0.0000</td>\n",
       "      <td>-0.0001</td>\n",
       "      <td>-0.0002</td>\n",
       "    </tr>\n",
       "    <tr>\n",
       "      <th>xs_ww</th>\n",
       "      <td>-0.0000</td>\n",
       "      <td>-0.0000</td>\n",
       "      <td>-0.0001</td>\n",
       "      <td>-0.0002</td>\n",
       "    </tr>\n",
       "    <tr>\n",
       "      <th>xs_t</th>\n",
       "      <td>-0.0000</td>\n",
       "      <td>-0.0000</td>\n",
       "      <td>-0.0001</td>\n",
       "      <td>-0.0001</td>\n",
       "    </tr>\n",
       "    <tr>\n",
       "      <th>xs_wjets</th>\n",
       "      <td>-0.0000</td>\n",
       "      <td>-0.0000</td>\n",
       "      <td>-0.0001</td>\n",
       "      <td>-0.0002</td>\n",
       "    </tr>\n",
       "    <tr>\n",
       "      <th>e_fakes</th>\n",
       "      <td>-0.0000</td>\n",
       "      <td>-0.0000</td>\n",
       "      <td>-0.0001</td>\n",
       "      <td>-0.0002</td>\n",
       "    </tr>\n",
       "    <tr>\n",
       "      <th>mu_fakes</th>\n",
       "      <td>-0.0000</td>\n",
       "      <td>-0.0000</td>\n",
       "      <td>-0.0001</td>\n",
       "      <td>-0.0002</td>\n",
       "    </tr>\n",
       "    <tr>\n",
       "      <th>e_fakes_ss</th>\n",
       "      <td>-0.0000</td>\n",
       "      <td>-0.0000</td>\n",
       "      <td>-0.0001</td>\n",
       "      <td>-0.0002</td>\n",
       "    </tr>\n",
       "    <tr>\n",
       "      <th>mu_fakes_ss</th>\n",
       "      <td>-0.0000</td>\n",
       "      <td>-0.0000</td>\n",
       "      <td>-0.0001</td>\n",
       "      <td>-0.0002</td>\n",
       "    </tr>\n",
       "    <tr>\n",
       "      <th>trigger_mu</th>\n",
       "      <td>-0.0000</td>\n",
       "      <td>-0.0000</td>\n",
       "      <td>-0.0001</td>\n",
       "      <td>-0.0002</td>\n",
       "    </tr>\n",
       "    <tr>\n",
       "      <th>xs_zjets_alt_pdf</th>\n",
       "      <td>-0.0000</td>\n",
       "      <td>-0.0000</td>\n",
       "      <td>-0.0001</td>\n",
       "      <td>-0.0002</td>\n",
       "    </tr>\n",
       "    <tr>\n",
       "      <th>xs_zjets_alt_alpha_s</th>\n",
       "      <td>-0.0000</td>\n",
       "      <td>-0.0000</td>\n",
       "      <td>-0.0001</td>\n",
       "      <td>-0.0002</td>\n",
       "    </tr>\n",
       "    <tr>\n",
       "      <th>xs_zjets_alt_qcd_scale_0</th>\n",
       "      <td>-0.0000</td>\n",
       "      <td>-0.0000</td>\n",
       "      <td>-0.0001</td>\n",
       "      <td>-0.0001</td>\n",
       "    </tr>\n",
       "    <tr>\n",
       "      <th>xs_zjets_alt_qcd_scale_1</th>\n",
       "      <td>-0.0000</td>\n",
       "      <td>-0.0000</td>\n",
       "      <td>-0.0001</td>\n",
       "      <td>-0.0002</td>\n",
       "    </tr>\n",
       "    <tr>\n",
       "      <th>xs_zjets_alt_qcd_scale_2</th>\n",
       "      <td>-0.0000</td>\n",
       "      <td>-0.0000</td>\n",
       "      <td>-0.0001</td>\n",
       "      <td>-0.0002</td>\n",
       "    </tr>\n",
       "    <tr>\n",
       "      <th>xs_ttbar_pdf</th>\n",
       "      <td>-0.0000</td>\n",
       "      <td>-0.0000</td>\n",
       "      <td>-0.0001</td>\n",
       "      <td>-0.0002</td>\n",
       "    </tr>\n",
       "    <tr>\n",
       "      <th>xs_ttbar_alpha_s</th>\n",
       "      <td>-0.0000</td>\n",
       "      <td>-0.0000</td>\n",
       "      <td>-0.0001</td>\n",
       "      <td>-0.0002</td>\n",
       "    </tr>\n",
       "    <tr>\n",
       "      <th>xs_ttbar_qcd_scale</th>\n",
       "      <td>-0.0000</td>\n",
       "      <td>-0.0000</td>\n",
       "      <td>-0.0001</td>\n",
       "      <td>-0.0000</td>\n",
       "    </tr>\n",
       "    <tr>\n",
       "      <th>eff_tau_0</th>\n",
       "      <td>-0.0000</td>\n",
       "      <td>-0.0000</td>\n",
       "      <td>-0.0001</td>\n",
       "      <td>-0.0002</td>\n",
       "    </tr>\n",
       "    <tr>\n",
       "      <th>eff_tau_1</th>\n",
       "      <td>-0.0000</td>\n",
       "      <td>-0.0000</td>\n",
       "      <td>-0.0001</td>\n",
       "      <td>-0.0002</td>\n",
       "    </tr>\n",
       "    <tr>\n",
       "      <th>eff_tau_2</th>\n",
       "      <td>-0.0000</td>\n",
       "      <td>-0.0000</td>\n",
       "      <td>-0.0001</td>\n",
       "      <td>-0.0002</td>\n",
       "    </tr>\n",
       "    <tr>\n",
       "      <th>eff_tau_3</th>\n",
       "      <td>-0.0000</td>\n",
       "      <td>-0.0000</td>\n",
       "      <td>-0.0001</td>\n",
       "      <td>-0.0002</td>\n",
       "    </tr>\n",
       "    <tr>\n",
       "      <th>eff_tau_4</th>\n",
       "      <td>-0.0000</td>\n",
       "      <td>-0.0000</td>\n",
       "      <td>-0.0001</td>\n",
       "      <td>-0.0002</td>\n",
       "    </tr>\n",
       "    <tr>\n",
       "      <th>eff_tau_5</th>\n",
       "      <td>-0.0000</td>\n",
       "      <td>-0.0000</td>\n",
       "      <td>-0.0000</td>\n",
       "      <td>-0.0002</td>\n",
       "    </tr>\n",
       "    <tr>\n",
       "      <th>misid_tau_e</th>\n",
       "      <td>-0.0000</td>\n",
       "      <td>-0.0000</td>\n",
       "      <td>-0.0001</td>\n",
       "      <td>-0.0002</td>\n",
       "    </tr>\n",
       "    <tr>\n",
       "      <th>misid_tau_h</th>\n",
       "      <td>-0.0000</td>\n",
       "      <td>-0.0000</td>\n",
       "      <td>-0.0001</td>\n",
       "      <td>-0.0002</td>\n",
       "    </tr>\n",
       "    <tr>\n",
       "      <th>misid_tau_0</th>\n",
       "      <td>-0.0000</td>\n",
       "      <td>-0.0000</td>\n",
       "      <td>-0.0001</td>\n",
       "      <td>-0.0002</td>\n",
       "    </tr>\n",
       "    <tr>\n",
       "      <th>misid_tau_1</th>\n",
       "      <td>-0.0000</td>\n",
       "      <td>-0.0000</td>\n",
       "      <td>-0.0001</td>\n",
       "      <td>-0.0002</td>\n",
       "    </tr>\n",
       "    <tr>\n",
       "      <th>misid_tau_2</th>\n",
       "      <td>-0.0000</td>\n",
       "      <td>-0.0000</td>\n",
       "      <td>-0.0001</td>\n",
       "      <td>-0.0002</td>\n",
       "    </tr>\n",
       "    <tr>\n",
       "      <th>misid_tau_3</th>\n",
       "      <td>-0.0000</td>\n",
       "      <td>-0.0000</td>\n",
       "      <td>-0.0001</td>\n",
       "      <td>-0.0002</td>\n",
       "    </tr>\n",
       "    <tr>\n",
       "      <th>misid_tau_4</th>\n",
       "      <td>-0.0000</td>\n",
       "      <td>-0.0000</td>\n",
       "      <td>-0.0001</td>\n",
       "      <td>-0.0002</td>\n",
       "    </tr>\n",
       "    <tr>\n",
       "      <th>misid_tau_5</th>\n",
       "      <td>-0.0000</td>\n",
       "      <td>-0.0000</td>\n",
       "      <td>-0.0001</td>\n",
       "      <td>-0.0002</td>\n",
       "    </tr>\n",
       "    <tr>\n",
       "      <th>escale_tau_0</th>\n",
       "      <td>-0.0000</td>\n",
       "      <td>-0.0000</td>\n",
       "      <td>-0.0001</td>\n",
       "      <td>-0.0002</td>\n",
       "    </tr>\n",
       "    <tr>\n",
       "      <th>escale_tau_1</th>\n",
       "      <td>-0.0000</td>\n",
       "      <td>-0.0000</td>\n",
       "      <td>-0.0001</td>\n",
       "      <td>-0.0002</td>\n",
       "    </tr>\n",
       "    <tr>\n",
       "      <th>escale_tau_10</th>\n",
       "      <td>-0.0000</td>\n",
       "      <td>-0.0000</td>\n",
       "      <td>-0.0001</td>\n",
       "      <td>-0.0002</td>\n",
       "    </tr>\n",
       "    <tr>\n",
       "      <th>eff_reco_e</th>\n",
       "      <td>-0.0000</td>\n",
       "      <td>-0.0000</td>\n",
       "      <td>-0.0001</td>\n",
       "      <td>-0.0002</td>\n",
       "    </tr>\n",
       "    <tr>\n",
       "      <th>eff_id_e</th>\n",
       "      <td>-0.0000</td>\n",
       "      <td>-0.0000</td>\n",
       "      <td>-0.0001</td>\n",
       "      <td>-0.0001</td>\n",
       "    </tr>\n",
       "    <tr>\n",
       "      <th>eff_e_0</th>\n",
       "      <td>-0.0000</td>\n",
       "      <td>-0.0000</td>\n",
       "      <td>-0.0001</td>\n",
       "      <td>-0.0002</td>\n",
       "    </tr>\n",
       "    <tr>\n",
       "      <th>eff_e_1</th>\n",
       "      <td>-0.0000</td>\n",
       "      <td>-0.0000</td>\n",
       "      <td>-0.0001</td>\n",
       "      <td>-0.0002</td>\n",
       "    </tr>\n",
       "    <tr>\n",
       "      <th>eff_e_2</th>\n",
       "      <td>-0.0000</td>\n",
       "      <td>-0.0000</td>\n",
       "      <td>-0.0001</td>\n",
       "      <td>-0.0002</td>\n",
       "    </tr>\n",
       "    <tr>\n",
       "      <th>eff_e_3</th>\n",
       "      <td>-0.0000</td>\n",
       "      <td>-0.0000</td>\n",
       "      <td>-0.0001</td>\n",
       "      <td>-0.0002</td>\n",
       "    </tr>\n",
       "    <tr>\n",
       "      <th>eff_e_4</th>\n",
       "      <td>-0.0000</td>\n",
       "      <td>-0.0000</td>\n",
       "      <td>-0.0001</td>\n",
       "      <td>-0.0002</td>\n",
       "    </tr>\n",
       "    <tr>\n",
       "      <th>eff_e_5</th>\n",
       "      <td>-0.0000</td>\n",
       "      <td>-0.0000</td>\n",
       "      <td>-0.0001</td>\n",
       "      <td>-0.0002</td>\n",
       "    </tr>\n",
       "    <tr>\n",
       "      <th>trigger_e_0</th>\n",
       "      <td>-0.0000</td>\n",
       "      <td>-0.0000</td>\n",
       "      <td>-0.0001</td>\n",
       "      <td>-0.0002</td>\n",
       "    </tr>\n",
       "    <tr>\n",
       "      <th>trigger_e_1</th>\n",
       "      <td>-0.0000</td>\n",
       "      <td>-0.0000</td>\n",
       "      <td>-0.0001</td>\n",
       "      <td>-0.0002</td>\n",
       "    </tr>\n",
       "    <tr>\n",
       "      <th>trigger_e_2</th>\n",
       "      <td>-0.0000</td>\n",
       "      <td>-0.0000</td>\n",
       "      <td>-0.0001</td>\n",
       "      <td>-0.0002</td>\n",
       "    </tr>\n",
       "    <tr>\n",
       "      <th>trigger_e_3</th>\n",
       "      <td>-0.0000</td>\n",
       "      <td>-0.0000</td>\n",
       "      <td>-0.0001</td>\n",
       "      <td>-0.0002</td>\n",
       "    </tr>\n",
       "    <tr>\n",
       "      <th>trigger_e_4</th>\n",
       "      <td>-0.0000</td>\n",
       "      <td>-0.0000</td>\n",
       "      <td>-0.0001</td>\n",
       "      <td>-0.0002</td>\n",
       "    </tr>\n",
       "    <tr>\n",
       "      <th>trigger_e_5</th>\n",
       "      <td>-0.0000</td>\n",
       "      <td>-0.0000</td>\n",
       "      <td>-0.0001</td>\n",
       "      <td>-0.0002</td>\n",
       "    </tr>\n",
       "    <tr>\n",
       "      <th>escale_e</th>\n",
       "      <td>-0.0000</td>\n",
       "      <td>-0.0000</td>\n",
       "      <td>-0.0001</td>\n",
       "      <td>-0.0002</td>\n",
       "    </tr>\n",
       "    <tr>\n",
       "      <th>trigger_e_tag</th>\n",
       "      <td>-0.0000</td>\n",
       "      <td>-0.0000</td>\n",
       "      <td>-0.0001</td>\n",
       "      <td>-0.0002</td>\n",
       "    </tr>\n",
       "    <tr>\n",
       "      <th>trigger_e_probe</th>\n",
       "      <td>-0.0000</td>\n",
       "      <td>-0.0000</td>\n",
       "      <td>-0.0001</td>\n",
       "      <td>-0.0002</td>\n",
       "    </tr>\n",
       "    <tr>\n",
       "      <th>eff_iso_mu</th>\n",
       "      <td>-0.0000</td>\n",
       "      <td>-0.0000</td>\n",
       "      <td>-0.0001</td>\n",
       "      <td>-0.0002</td>\n",
       "    </tr>\n",
       "    <tr>\n",
       "      <th>eff_id_mu</th>\n",
       "      <td>-0.0000</td>\n",
       "      <td>-0.0000</td>\n",
       "      <td>-0.0001</td>\n",
       "      <td>-0.0002</td>\n",
       "    </tr>\n",
       "    <tr>\n",
       "      <th>eff_mu_0</th>\n",
       "      <td>-0.0000</td>\n",
       "      <td>-0.0000</td>\n",
       "      <td>-0.0001</td>\n",
       "      <td>-0.0002</td>\n",
       "    </tr>\n",
       "    <tr>\n",
       "      <th>eff_mu_1</th>\n",
       "      <td>-0.0000</td>\n",
       "      <td>-0.0000</td>\n",
       "      <td>-0.0001</td>\n",
       "      <td>-0.0002</td>\n",
       "    </tr>\n",
       "    <tr>\n",
       "      <th>eff_mu_2</th>\n",
       "      <td>-0.0000</td>\n",
       "      <td>-0.0000</td>\n",
       "      <td>-0.0001</td>\n",
       "      <td>-0.0002</td>\n",
       "    </tr>\n",
       "    <tr>\n",
       "      <th>eff_mu_3</th>\n",
       "      <td>-0.0000</td>\n",
       "      <td>-0.0000</td>\n",
       "      <td>-0.0001</td>\n",
       "      <td>-0.0002</td>\n",
       "    </tr>\n",
       "    <tr>\n",
       "      <th>eff_mu_4</th>\n",
       "      <td>-0.0000</td>\n",
       "      <td>-0.0000</td>\n",
       "      <td>-0.0001</td>\n",
       "      <td>-0.0002</td>\n",
       "    </tr>\n",
       "    <tr>\n",
       "      <th>eff_mu_5</th>\n",
       "      <td>-0.0000</td>\n",
       "      <td>-0.0000</td>\n",
       "      <td>-0.0001</td>\n",
       "      <td>-0.0002</td>\n",
       "    </tr>\n",
       "    <tr>\n",
       "      <th>eff_mu_6</th>\n",
       "      <td>-0.0000</td>\n",
       "      <td>-0.0000</td>\n",
       "      <td>-0.0001</td>\n",
       "      <td>-0.0002</td>\n",
       "    </tr>\n",
       "    <tr>\n",
       "      <th>eff_mu_7</th>\n",
       "      <td>-0.0000</td>\n",
       "      <td>-0.0000</td>\n",
       "      <td>-0.0001</td>\n",
       "      <td>-0.0002</td>\n",
       "    </tr>\n",
       "    <tr>\n",
       "      <th>escale_mu</th>\n",
       "      <td>-0.0000</td>\n",
       "      <td>-0.0000</td>\n",
       "      <td>-0.0001</td>\n",
       "      <td>-0.0002</td>\n",
       "    </tr>\n",
       "    <tr>\n",
       "      <th>pileup</th>\n",
       "      <td>-0.0000</td>\n",
       "      <td>-0.0000</td>\n",
       "      <td>-0.0001</td>\n",
       "      <td>-0.0002</td>\n",
       "    </tr>\n",
       "    <tr>\n",
       "      <th>isr</th>\n",
       "      <td>-0.0000</td>\n",
       "      <td>-0.0000</td>\n",
       "      <td>-0.0001</td>\n",
       "      <td>-0.0000</td>\n",
       "    </tr>\n",
       "    <tr>\n",
       "      <th>fsr</th>\n",
       "      <td>-0.0000</td>\n",
       "      <td>-0.0000</td>\n",
       "      <td>-0.0001</td>\n",
       "      <td>-0.0002</td>\n",
       "    </tr>\n",
       "    <tr>\n",
       "      <th>hdamp</th>\n",
       "      <td>-0.0000</td>\n",
       "      <td>-0.0000</td>\n",
       "      <td>-0.0001</td>\n",
       "      <td>-0.0002</td>\n",
       "    </tr>\n",
       "    <tr>\n",
       "      <th>tune</th>\n",
       "      <td>-0.0000</td>\n",
       "      <td>-0.0000</td>\n",
       "      <td>-0.0001</td>\n",
       "      <td>-0.0002</td>\n",
       "    </tr>\n",
       "    <tr>\n",
       "      <th>ww_scale</th>\n",
       "      <td>-0.0000</td>\n",
       "      <td>-0.0000</td>\n",
       "      <td>-0.0001</td>\n",
       "      <td>-0.0002</td>\n",
       "    </tr>\n",
       "    <tr>\n",
       "      <th>ww_resum</th>\n",
       "      <td>-0.0000</td>\n",
       "      <td>-0.0000</td>\n",
       "      <td>-0.0001</td>\n",
       "      <td>-0.0002</td>\n",
       "    </tr>\n",
       "    <tr>\n",
       "      <th>top_pt</th>\n",
       "      <td>-0.0000</td>\n",
       "      <td>-0.0000</td>\n",
       "      <td>-0.0001</td>\n",
       "      <td>-0.0001</td>\n",
       "    </tr>\n",
       "    <tr>\n",
       "      <th>btag_bfragmentation</th>\n",
       "      <td>-0.0000</td>\n",
       "      <td>-0.0000</td>\n",
       "      <td>-0.0001</td>\n",
       "      <td>-0.0002</td>\n",
       "    </tr>\n",
       "    <tr>\n",
       "      <th>btag_btempcorr</th>\n",
       "      <td>-0.0000</td>\n",
       "      <td>-0.0000</td>\n",
       "      <td>-0.0001</td>\n",
       "      <td>-0.0002</td>\n",
       "    </tr>\n",
       "    <tr>\n",
       "      <th>btag_cb</th>\n",
       "      <td>-0.0000</td>\n",
       "      <td>-0.0000</td>\n",
       "      <td>-0.0001</td>\n",
       "      <td>-0.0002</td>\n",
       "    </tr>\n",
       "    <tr>\n",
       "      <th>btag_cfragmentation</th>\n",
       "      <td>-0.0000</td>\n",
       "      <td>-0.0000</td>\n",
       "      <td>-0.0001</td>\n",
       "      <td>-0.0002</td>\n",
       "    </tr>\n",
       "    <tr>\n",
       "      <th>btag_dmux</th>\n",
       "      <td>-0.0000</td>\n",
       "      <td>-0.0000</td>\n",
       "      <td>-0.0001</td>\n",
       "      <td>-0.0002</td>\n",
       "    </tr>\n",
       "    <tr>\n",
       "      <th>btag_gluonsplitting</th>\n",
       "      <td>-0.0000</td>\n",
       "      <td>-0.0000</td>\n",
       "      <td>-0.0001</td>\n",
       "      <td>-0.0002</td>\n",
       "    </tr>\n",
       "    <tr>\n",
       "      <th>btag_jes</th>\n",
       "      <td>-0.0000</td>\n",
       "      <td>-0.0000</td>\n",
       "      <td>-0.0001</td>\n",
       "      <td>-0.0002</td>\n",
       "    </tr>\n",
       "    <tr>\n",
       "      <th>btag_jetaway</th>\n",
       "      <td>-0.0000</td>\n",
       "      <td>-0.0000</td>\n",
       "      <td>-0.0001</td>\n",
       "      <td>-0.0002</td>\n",
       "    </tr>\n",
       "    <tr>\n",
       "      <th>btag_ksl</th>\n",
       "      <td>-0.0000</td>\n",
       "      <td>-0.0000</td>\n",
       "      <td>-0.0001</td>\n",
       "      <td>-0.0002</td>\n",
       "    </tr>\n",
       "    <tr>\n",
       "      <th>btag_l2c</th>\n",
       "      <td>-0.0000</td>\n",
       "      <td>-0.0000</td>\n",
       "      <td>-0.0001</td>\n",
       "      <td>-0.0002</td>\n",
       "    </tr>\n",
       "    <tr>\n",
       "      <th>btag_ltothers</th>\n",
       "      <td>-0.0000</td>\n",
       "      <td>-0.0000</td>\n",
       "      <td>-0.0001</td>\n",
       "      <td>-0.0002</td>\n",
       "    </tr>\n",
       "    <tr>\n",
       "      <th>btag_mudr</th>\n",
       "      <td>-0.0000</td>\n",
       "      <td>-0.0000</td>\n",
       "      <td>-0.0001</td>\n",
       "      <td>-0.0002</td>\n",
       "    </tr>\n",
       "    <tr>\n",
       "      <th>btag_mupt</th>\n",
       "      <td>-0.0000</td>\n",
       "      <td>-0.0000</td>\n",
       "      <td>-0.0001</td>\n",
       "      <td>-0.0002</td>\n",
       "    </tr>\n",
       "    <tr>\n",
       "      <th>btag_ptrel</th>\n",
       "      <td>-0.0000</td>\n",
       "      <td>-0.0000</td>\n",
       "      <td>-0.0001</td>\n",
       "      <td>-0.0002</td>\n",
       "    </tr>\n",
       "    <tr>\n",
       "      <th>btag_sampledependence</th>\n",
       "      <td>-0.0000</td>\n",
       "      <td>-0.0000</td>\n",
       "      <td>-0.0001</td>\n",
       "      <td>-0.0002</td>\n",
       "    </tr>\n",
       "    <tr>\n",
       "      <th>btag_pileup</th>\n",
       "      <td>-0.0000</td>\n",
       "      <td>-0.0000</td>\n",
       "      <td>-0.0001</td>\n",
       "      <td>-0.0002</td>\n",
       "    </tr>\n",
       "    <tr>\n",
       "      <th>btag_statistic</th>\n",
       "      <td>-0.0000</td>\n",
       "      <td>-0.0000</td>\n",
       "      <td>-0.0001</td>\n",
       "      <td>-0.0002</td>\n",
       "    </tr>\n",
       "    <tr>\n",
       "      <th>ctag</th>\n",
       "      <td>-0.0000</td>\n",
       "      <td>-0.0000</td>\n",
       "      <td>-0.0001</td>\n",
       "      <td>-0.0001</td>\n",
       "    </tr>\n",
       "    <tr>\n",
       "      <th>mistag</th>\n",
       "      <td>-0.0000</td>\n",
       "      <td>-0.0000</td>\n",
       "      <td>-0.0001</td>\n",
       "      <td>-0.0002</td>\n",
       "    </tr>\n",
       "    <tr>\n",
       "      <th>jer</th>\n",
       "      <td>-0.0000</td>\n",
       "      <td>-0.0000</td>\n",
       "      <td>-0.0001</td>\n",
       "      <td>-0.0002</td>\n",
       "    </tr>\n",
       "    <tr>\n",
       "      <th>jes_abs_scale</th>\n",
       "      <td>-0.0000</td>\n",
       "      <td>-0.0000</td>\n",
       "      <td>-0.0001</td>\n",
       "      <td>-0.0002</td>\n",
       "    </tr>\n",
       "    <tr>\n",
       "      <th>jes_abs_stat</th>\n",
       "      <td>-0.0000</td>\n",
       "      <td>-0.0000</td>\n",
       "      <td>-0.0001</td>\n",
       "      <td>-0.0002</td>\n",
       "    </tr>\n",
       "    <tr>\n",
       "      <th>jes_fragmentation</th>\n",
       "      <td>-0.0000</td>\n",
       "      <td>-0.0000</td>\n",
       "      <td>-0.0001</td>\n",
       "      <td>-0.0002</td>\n",
       "    </tr>\n",
       "    <tr>\n",
       "      <th>jes_abs_mpf_bias</th>\n",
       "      <td>-0.0000</td>\n",
       "      <td>-0.0000</td>\n",
       "      <td>-0.0001</td>\n",
       "      <td>-0.0002</td>\n",
       "    </tr>\n",
       "    <tr>\n",
       "      <th>jes_pileup_data_mc</th>\n",
       "      <td>-0.0000</td>\n",
       "      <td>-0.0000</td>\n",
       "      <td>-0.0001</td>\n",
       "      <td>-0.0002</td>\n",
       "    </tr>\n",
       "    <tr>\n",
       "      <th>jes_pileup_pt_bb</th>\n",
       "      <td>-0.0000</td>\n",
       "      <td>-0.0000</td>\n",
       "      <td>-0.0001</td>\n",
       "      <td>-0.0002</td>\n",
       "    </tr>\n",
       "    <tr>\n",
       "      <th>jes_pileup_pt_ec1</th>\n",
       "      <td>-0.0000</td>\n",
       "      <td>-0.0000</td>\n",
       "      <td>-0.0001</td>\n",
       "      <td>-0.0002</td>\n",
       "    </tr>\n",
       "    <tr>\n",
       "      <th>jes_pileup_pt_ref</th>\n",
       "      <td>-0.0000</td>\n",
       "      <td>-0.0000</td>\n",
       "      <td>-0.0001</td>\n",
       "      <td>-0.0002</td>\n",
       "    </tr>\n",
       "    <tr>\n",
       "      <th>jes_relative_bal</th>\n",
       "      <td>-0.0000</td>\n",
       "      <td>-0.0000</td>\n",
       "      <td>-0.0001</td>\n",
       "      <td>-0.0002</td>\n",
       "    </tr>\n",
       "    <tr>\n",
       "      <th>jes_relative_jer_ec1</th>\n",
       "      <td>-0.0000</td>\n",
       "      <td>-0.0000</td>\n",
       "      <td>-0.0001</td>\n",
       "      <td>-0.0002</td>\n",
       "    </tr>\n",
       "    <tr>\n",
       "      <th>jes_relative_pt_bb</th>\n",
       "      <td>-0.0000</td>\n",
       "      <td>-0.0000</td>\n",
       "      <td>-0.0001</td>\n",
       "      <td>-0.0002</td>\n",
       "    </tr>\n",
       "    <tr>\n",
       "      <th>jes_relative_pt_ec1</th>\n",
       "      <td>-0.0000</td>\n",
       "      <td>-0.0000</td>\n",
       "      <td>-0.0001</td>\n",
       "      <td>-0.0002</td>\n",
       "    </tr>\n",
       "    <tr>\n",
       "      <th>jes_relative_stat_fsr</th>\n",
       "      <td>-0.0000</td>\n",
       "      <td>-0.0000</td>\n",
       "      <td>-0.0001</td>\n",
       "      <td>-0.0002</td>\n",
       "    </tr>\n",
       "    <tr>\n",
       "      <th>jes_relative_stat_ec</th>\n",
       "      <td>-0.0000</td>\n",
       "      <td>-0.0000</td>\n",
       "      <td>-0.0001</td>\n",
       "      <td>-0.0002</td>\n",
       "    </tr>\n",
       "    <tr>\n",
       "      <th>jes_single_pion_ecal</th>\n",
       "      <td>-0.0000</td>\n",
       "      <td>-0.0000</td>\n",
       "      <td>-0.0001</td>\n",
       "      <td>-0.0002</td>\n",
       "    </tr>\n",
       "    <tr>\n",
       "      <th>jes_single_pion_hcal</th>\n",
       "      <td>-0.0000</td>\n",
       "      <td>-0.0000</td>\n",
       "      <td>-0.0001</td>\n",
       "      <td>-0.0002</td>\n",
       "    </tr>\n",
       "    <tr>\n",
       "      <th>jes_time_pt_eta</th>\n",
       "      <td>-0.0000</td>\n",
       "      <td>-0.0000</td>\n",
       "      <td>-0.0001</td>\n",
       "      <td>-0.0002</td>\n",
       "    </tr>\n",
       "    <tr>\n",
       "      <th>jes_flavor_qcd</th>\n",
       "      <td>-0.0000</td>\n",
       "      <td>-0.0000</td>\n",
       "      <td>-0.0001</td>\n",
       "      <td>-0.0002</td>\n",
       "    </tr>\n",
       "  </tbody>\n",
       "</table>\n",
       "</div>"
      ],
      "text/plain": [
       "                          beta_e  beta_mu  beta_tau  beta_h\n",
       "br_tau_e                 -0.0000  -0.0000   -0.0001 -0.0002\n",
       "br_tau_mu                -0.0000  -0.0000   -0.0001 -0.0002\n",
       "br_tau_h                 -0.0000  -0.0000   -0.0001 -0.0002\n",
       "lumi                     -0.0000  -0.0000   -0.0001 -0.0002\n",
       "xs_diboson               -0.0000  -0.0000   -0.0001 -0.0002\n",
       "xs_ww                    -0.0000  -0.0000   -0.0001 -0.0002\n",
       "xs_t                     -0.0000  -0.0000   -0.0001 -0.0001\n",
       "xs_wjets                 -0.0000  -0.0000   -0.0001 -0.0002\n",
       "e_fakes                  -0.0000  -0.0000   -0.0001 -0.0002\n",
       "mu_fakes                 -0.0000  -0.0000   -0.0001 -0.0002\n",
       "e_fakes_ss               -0.0000  -0.0000   -0.0001 -0.0002\n",
       "mu_fakes_ss              -0.0000  -0.0000   -0.0001 -0.0002\n",
       "trigger_mu               -0.0000  -0.0000   -0.0001 -0.0002\n",
       "xs_zjets_alt_pdf         -0.0000  -0.0000   -0.0001 -0.0002\n",
       "xs_zjets_alt_alpha_s     -0.0000  -0.0000   -0.0001 -0.0002\n",
       "xs_zjets_alt_qcd_scale_0 -0.0000  -0.0000   -0.0001 -0.0001\n",
       "xs_zjets_alt_qcd_scale_1 -0.0000  -0.0000   -0.0001 -0.0002\n",
       "xs_zjets_alt_qcd_scale_2 -0.0000  -0.0000   -0.0001 -0.0002\n",
       "xs_ttbar_pdf             -0.0000  -0.0000   -0.0001 -0.0002\n",
       "xs_ttbar_alpha_s         -0.0000  -0.0000   -0.0001 -0.0002\n",
       "xs_ttbar_qcd_scale       -0.0000  -0.0000   -0.0001 -0.0000\n",
       "eff_tau_0                -0.0000  -0.0000   -0.0001 -0.0002\n",
       "eff_tau_1                -0.0000  -0.0000   -0.0001 -0.0002\n",
       "eff_tau_2                -0.0000  -0.0000   -0.0001 -0.0002\n",
       "eff_tau_3                -0.0000  -0.0000   -0.0001 -0.0002\n",
       "eff_tau_4                -0.0000  -0.0000   -0.0001 -0.0002\n",
       "eff_tau_5                -0.0000  -0.0000   -0.0000 -0.0002\n",
       "misid_tau_e              -0.0000  -0.0000   -0.0001 -0.0002\n",
       "misid_tau_h              -0.0000  -0.0000   -0.0001 -0.0002\n",
       "misid_tau_0              -0.0000  -0.0000   -0.0001 -0.0002\n",
       "misid_tau_1              -0.0000  -0.0000   -0.0001 -0.0002\n",
       "misid_tau_2              -0.0000  -0.0000   -0.0001 -0.0002\n",
       "misid_tau_3              -0.0000  -0.0000   -0.0001 -0.0002\n",
       "misid_tau_4              -0.0000  -0.0000   -0.0001 -0.0002\n",
       "misid_tau_5              -0.0000  -0.0000   -0.0001 -0.0002\n",
       "escale_tau_0             -0.0000  -0.0000   -0.0001 -0.0002\n",
       "escale_tau_1             -0.0000  -0.0000   -0.0001 -0.0002\n",
       "escale_tau_10            -0.0000  -0.0000   -0.0001 -0.0002\n",
       "eff_reco_e               -0.0000  -0.0000   -0.0001 -0.0002\n",
       "eff_id_e                 -0.0000  -0.0000   -0.0001 -0.0001\n",
       "eff_e_0                  -0.0000  -0.0000   -0.0001 -0.0002\n",
       "eff_e_1                  -0.0000  -0.0000   -0.0001 -0.0002\n",
       "eff_e_2                  -0.0000  -0.0000   -0.0001 -0.0002\n",
       "eff_e_3                  -0.0000  -0.0000   -0.0001 -0.0002\n",
       "eff_e_4                  -0.0000  -0.0000   -0.0001 -0.0002\n",
       "eff_e_5                  -0.0000  -0.0000   -0.0001 -0.0002\n",
       "trigger_e_0              -0.0000  -0.0000   -0.0001 -0.0002\n",
       "trigger_e_1              -0.0000  -0.0000   -0.0001 -0.0002\n",
       "trigger_e_2              -0.0000  -0.0000   -0.0001 -0.0002\n",
       "trigger_e_3              -0.0000  -0.0000   -0.0001 -0.0002\n",
       "trigger_e_4              -0.0000  -0.0000   -0.0001 -0.0002\n",
       "trigger_e_5              -0.0000  -0.0000   -0.0001 -0.0002\n",
       "escale_e                 -0.0000  -0.0000   -0.0001 -0.0002\n",
       "trigger_e_tag            -0.0000  -0.0000   -0.0001 -0.0002\n",
       "trigger_e_probe          -0.0000  -0.0000   -0.0001 -0.0002\n",
       "eff_iso_mu               -0.0000  -0.0000   -0.0001 -0.0002\n",
       "eff_id_mu                -0.0000  -0.0000   -0.0001 -0.0002\n",
       "eff_mu_0                 -0.0000  -0.0000   -0.0001 -0.0002\n",
       "eff_mu_1                 -0.0000  -0.0000   -0.0001 -0.0002\n",
       "eff_mu_2                 -0.0000  -0.0000   -0.0001 -0.0002\n",
       "eff_mu_3                 -0.0000  -0.0000   -0.0001 -0.0002\n",
       "eff_mu_4                 -0.0000  -0.0000   -0.0001 -0.0002\n",
       "eff_mu_5                 -0.0000  -0.0000   -0.0001 -0.0002\n",
       "eff_mu_6                 -0.0000  -0.0000   -0.0001 -0.0002\n",
       "eff_mu_7                 -0.0000  -0.0000   -0.0001 -0.0002\n",
       "escale_mu                -0.0000  -0.0000   -0.0001 -0.0002\n",
       "pileup                   -0.0000  -0.0000   -0.0001 -0.0002\n",
       "isr                      -0.0000  -0.0000   -0.0001 -0.0000\n",
       "fsr                      -0.0000  -0.0000   -0.0001 -0.0002\n",
       "hdamp                    -0.0000  -0.0000   -0.0001 -0.0002\n",
       "tune                     -0.0000  -0.0000   -0.0001 -0.0002\n",
       "ww_scale                 -0.0000  -0.0000   -0.0001 -0.0002\n",
       "ww_resum                 -0.0000  -0.0000   -0.0001 -0.0002\n",
       "top_pt                   -0.0000  -0.0000   -0.0001 -0.0001\n",
       "btag_bfragmentation      -0.0000  -0.0000   -0.0001 -0.0002\n",
       "btag_btempcorr           -0.0000  -0.0000   -0.0001 -0.0002\n",
       "btag_cb                  -0.0000  -0.0000   -0.0001 -0.0002\n",
       "btag_cfragmentation      -0.0000  -0.0000   -0.0001 -0.0002\n",
       "btag_dmux                -0.0000  -0.0000   -0.0001 -0.0002\n",
       "btag_gluonsplitting      -0.0000  -0.0000   -0.0001 -0.0002\n",
       "btag_jes                 -0.0000  -0.0000   -0.0001 -0.0002\n",
       "btag_jetaway             -0.0000  -0.0000   -0.0001 -0.0002\n",
       "btag_ksl                 -0.0000  -0.0000   -0.0001 -0.0002\n",
       "btag_l2c                 -0.0000  -0.0000   -0.0001 -0.0002\n",
       "btag_ltothers            -0.0000  -0.0000   -0.0001 -0.0002\n",
       "btag_mudr                -0.0000  -0.0000   -0.0001 -0.0002\n",
       "btag_mupt                -0.0000  -0.0000   -0.0001 -0.0002\n",
       "btag_ptrel               -0.0000  -0.0000   -0.0001 -0.0002\n",
       "btag_sampledependence    -0.0000  -0.0000   -0.0001 -0.0002\n",
       "btag_pileup              -0.0000  -0.0000   -0.0001 -0.0002\n",
       "btag_statistic           -0.0000  -0.0000   -0.0001 -0.0002\n",
       "ctag                     -0.0000  -0.0000   -0.0001 -0.0001\n",
       "mistag                   -0.0000  -0.0000   -0.0001 -0.0002\n",
       "jer                      -0.0000  -0.0000   -0.0001 -0.0002\n",
       "jes_abs_scale            -0.0000  -0.0000   -0.0001 -0.0002\n",
       "jes_abs_stat             -0.0000  -0.0000   -0.0001 -0.0002\n",
       "jes_fragmentation        -0.0000  -0.0000   -0.0001 -0.0002\n",
       "jes_abs_mpf_bias         -0.0000  -0.0000   -0.0001 -0.0002\n",
       "jes_pileup_data_mc       -0.0000  -0.0000   -0.0001 -0.0002\n",
       "jes_pileup_pt_bb         -0.0000  -0.0000   -0.0001 -0.0002\n",
       "jes_pileup_pt_ec1        -0.0000  -0.0000   -0.0001 -0.0002\n",
       "jes_pileup_pt_ref        -0.0000  -0.0000   -0.0001 -0.0002\n",
       "jes_relative_bal         -0.0000  -0.0000   -0.0001 -0.0002\n",
       "jes_relative_jer_ec1     -0.0000  -0.0000   -0.0001 -0.0002\n",
       "jes_relative_pt_bb       -0.0000  -0.0000   -0.0001 -0.0002\n",
       "jes_relative_pt_ec1      -0.0000  -0.0000   -0.0001 -0.0002\n",
       "jes_relative_stat_fsr    -0.0000  -0.0000   -0.0001 -0.0002\n",
       "jes_relative_stat_ec     -0.0000  -0.0000   -0.0001 -0.0002\n",
       "jes_single_pion_ecal     -0.0000  -0.0000   -0.0001 -0.0002\n",
       "jes_single_pion_hcal     -0.0000  -0.0000   -0.0001 -0.0002\n",
       "jes_time_pt_eta          -0.0000  -0.0000   -0.0001 -0.0002\n",
       "jes_flavor_qcd           -0.0000  -0.0000   -0.0001 -0.0002"
      ]
     },
     "execution_count": 8,
     "metadata": {},
     "output_type": "execute_result"
    }
   ],
   "source": [
    "# convert to errors\n",
    "err_no_bb = parameters['err_no_bb'].values[mask]\n",
    "errs_np = np.array([np.concatenate([e[:i+4], [0], e[i+4:]]) for i, e in enumerate(errs)])\n",
    "errs_np = err_no_bb**2 - errs_np**2\n",
    "#errs_np[errs_np < 0] = 0\n",
    "#errs_np = np.sqrt(errs_np)\n",
    "##errs_np = np.vstack([errs_np, err_stat, err_mc_stat, err_syst, stderr])\n",
    "#\n",
    "errs_np = pd.DataFrame(errs_np[:,:4], columns=['beta_e', 'beta_mu', 'beta_tau', 'beta_h'], index=list(p_labels))\n",
    "##errs_np = pd.DataFrame(errs_np[:,:4], columns=['beta_e', 'beta_mu', 'beta_tau', 'beta_h'], index=list(p_labels_fancy[4:]) + ['stat.', 'MC stat.', 'syst. total', 'total'])\n",
    "##beta_stderr = stderr.iloc[:,:4].multiply(100)/params_init[:4]\n",
    "100*errs_np"
   ]
  },
  {
   "cell_type": "code",
   "execution_count": 9,
   "metadata": {
    "ExecuteTime": {
     "end_time": "2020-01-30T11:51:53.111567Z",
     "start_time": "2020-01-30T11:51:53.031153Z"
    },
    "code_folding": [],
    "scrolled": false
   },
   "outputs": [
    {
     "ename": "NameError",
     "evalue": "name 'beta_errs' is not defined",
     "output_type": "error",
     "traceback": [
      "\u001b[0;31m---------------------------------------------------------------------------\u001b[0m",
      "\u001b[0;31mNameError\u001b[0m                                 Traceback (most recent call last)",
      "\u001b[0;32m<ipython-input-9-a74d0a91de26>\u001b[0m in \u001b[0;36m<module>\u001b[0;34m()\u001b[0m\n\u001b[1;32m      4\u001b[0m \u001b[0;31m#beta_errs.divide(params_init[:4]/100, axis=1).to_csv('local_data/errors.csv')\u001b[0m\u001b[0;34m\u001b[0m\u001b[0;34m\u001b[0m\u001b[0;34m\u001b[0m\u001b[0m\n\u001b[1;32m      5\u001b[0m \u001b[0;31m#beta_errs.divide(params_init[:4]/100, axis=1)\u001b[0m\u001b[0;34m\u001b[0m\u001b[0;34m\u001b[0m\u001b[0;34m\u001b[0m\u001b[0m\n\u001b[0;32m----> 6\u001b[0;31m \u001b[0mbeta_errs\u001b[0m\u001b[0;34m.\u001b[0m\u001b[0mto_latex\u001b[0m\u001b[0;34m(\u001b[0m\u001b[0;34m'local_data/summary_errors.tex'\u001b[0m\u001b[0;34m,\u001b[0m \u001b[0mescape\u001b[0m\u001b[0;34m=\u001b[0m\u001b[0;32mFalse\u001b[0m\u001b[0;34m)\u001b[0m\u001b[0;34m\u001b[0m\u001b[0;34m\u001b[0m\u001b[0m\n\u001b[0m\u001b[1;32m      7\u001b[0m \u001b[0mbeta_errs\u001b[0m\u001b[0;34m\u001b[0m\u001b[0;34m\u001b[0m\u001b[0m\n",
      "\u001b[0;31mNameError\u001b[0m: name 'beta_errs' is not defined"
     ]
    }
   ],
   "source": [
    "# print table\n",
    "\n",
    "#beta_errs.divide(params_init[:4]/100, axis=1).to_latex('local_data/errors.tex')\n",
    "#beta_errs.divide(params_init[:4]/100, axis=1).to_csv('local_data/errors.csv')\n",
    "#beta_errs.divide(params_init[:4]/100, axis=1)\n",
    "beta_errs.to_latex('local_data/summary_errors.tex', escape=False)\n",
    "beta_errs"
   ]
  },
  {
   "cell_type": "code",
   "execution_count": null,
   "metadata": {
    "ExecuteTime": {
     "end_time": "2020-01-30T11:51:53.112031Z",
     "start_time": "2020-01-30T05:32:41.336Z"
    }
   },
   "outputs": [],
   "source": [
    "jes_mask = np.array([True if ('jes' in pname and 'btag' not in pname) else False for pname in beta_errs.index])\n",
    "btag_mask = np.array([True if 'btag' in pname else False for pname in beta_errs.index])\n",
    "tau_misid_mask = np.array([True if ('misid_tau' in pname and pname not in ['misid_tau_e', 'misid_tau_h']) else False for pname in beta_errs.index])\n",
    "\n",
    "btag_errs = beta_errs[btag_mask]\n",
    "jes_errs = beta_errs[jes_mask]\n",
    "tau_misid_errs = beta_errs[tau_misid_mask]\n",
    "\n",
    "summary_errs = beta_errs[~btag_mask&~jes_mask&~tau_misid_mask].copy()\n",
    "summary_errs.index = [fit_data._parameters.loc[p].label if p in fit_data._parameters.index else p for p in summary_errs.index]\n",
    "summary_errs.loc['b-tag',:] = np.sqrt(np.sum(btag_errs**2))\n",
    "summary_errs.loc['JES',:]  = np.sqrt(np.sum(jes_errs**2))\n",
    "summary_errs.loc[r'$\\sf jet\\rightarrow\\tau$',:]  = np.sqrt(np.sum(tau_misid_errs**2))\n",
    "\n",
    "summary_errs = summary_errs.divide(params_init[:4]/100, axis=1)\n",
    "summary_errs.to_latex('local_data/summary_errors.tex', escape=False)\n",
    "summary_errs.to_csv('local_data/summary_errors.csv')\n",
    "summary_errs"
   ]
  },
  {
   "cell_type": "code",
   "execution_count": null,
   "metadata": {},
   "outputs": [],
   "source": []
  }
 ],
 "metadata": {
  "hide_input": false,
  "kernelspec": {
   "display_name": "Python 3",
   "language": "python",
   "name": "python3"
  },
  "language_info": {
   "codemirror_mode": {
    "name": "ipython",
    "version": 3
   },
   "file_extension": ".py",
   "mimetype": "text/x-python",
   "name": "python",
   "nbconvert_exporter": "python",
   "pygments_lexer": "ipython3",
   "version": "3.7.2"
  },
  "latex_envs": {
   "LaTeX_envs_menu_present": true,
   "autoclose": false,
   "autocomplete": true,
   "bibliofile": "biblio.bib",
   "cite_by": "apalike",
   "current_citInitial": 1,
   "eqLabelWithNumbers": true,
   "eqNumInitial": 0,
   "hotkeys": {
    "equation": "Ctrl-E",
    "itemize": "Ctrl-I"
   },
   "labels_anchors": false,
   "latex_user_defs": false,
   "report_style_numbering": false,
   "user_envs_cfg": false
  },
  "toc": {
   "nav_menu": {
    "height": "29px",
    "width": "251px"
   },
   "number_sections": true,
   "sideBar": true,
   "skip_h1_title": false,
   "title_cell": "Table of Contents",
   "title_sidebar": "Contents",
   "toc_cell": false,
   "toc_position": {
    "height": "49px",
    "left": "0px",
    "right": "1493.87px",
    "top": "90.9965px",
    "width": "242px"
   },
   "toc_section_display": false,
   "toc_window_display": false
  },
  "varInspector": {
   "cols": {
    "lenName": 16,
    "lenType": 16,
    "lenVar": 40
   },
   "kernels_config": {
    "python": {
     "delete_cmd_postfix": "",
     "delete_cmd_prefix": "del ",
     "library": "var_list.py",
     "varRefreshCmd": "print(var_dic_list())"
    },
    "r": {
     "delete_cmd_postfix": ") ",
     "delete_cmd_prefix": "rm(",
     "library": "var_list.r",
     "varRefreshCmd": "cat(var_dic_list()) "
    }
   },
   "oldHeight": 744.85,
   "position": {
    "height": "40px",
    "left": "919px",
    "right": "20px",
    "top": "59px",
    "width": "678px"
   },
   "types_to_exclude": [
    "module",
    "function",
    "builtin_function_or_method",
    "instance",
    "_Feature"
   ],
   "varInspector_section_display": "none",
   "window_display": false
  },
  "widgets": {
   "state": {
    "012f8bbe2fdb410dae6e2cde9d7fe5cb": {
     "views": []
    },
    "080556076f174648bddf64f17a54c523": {
     "views": []
    },
    "0ad83b5f67484ae5b8fd8dd43ccc39bd": {
     "views": []
    },
    "15acd81a9adc493683d9b63813f000bf": {
     "views": []
    },
    "1840cb6fded848b4ae95ec8d3db15ab2": {
     "views": []
    },
    "1dd83f822e074642ae4255b15ee661cf": {
     "views": []
    },
    "1e71a878e6474912a0efc497ecc5d65b": {
     "views": []
    },
    "2022ed83777b4963b630b5c46239e218": {
     "views": []
    },
    "21c4c57bfc48495194663e6a4fbac488": {
     "views": []
    },
    "22c45c75435348c0b9501d493d69fdca": {
     "views": []
    },
    "2635f668a1af4a9db2642e705d7c73ff": {
     "views": []
    },
    "2ad5ddd9347e451b9290e5b4179ab9a2": {
     "views": []
    },
    "2c062b5778024117984822b63b0593d7": {
     "views": []
    },
    "2f5eab2f6fb24192b76a5ffe99195d44": {
     "views": []
    },
    "31632517325046e8b0cb62e4f4ed2480": {
     "views": []
    },
    "3562b97192ed4d42bbab17f77c290f6b": {
     "views": []
    },
    "38a7cc053723492b921cf9f084ed243c": {
     "views": []
    },
    "3b5750b20e1745879ca0f965aad7b614": {
     "views": []
    },
    "3f1cbabbe2694a9dabe3f1c2e09d0ee2": {
     "views": []
    },
    "3fab6a26a70c4238a668a46d4dc88bf6": {
     "views": []
    },
    "3fb3c7a25e954a4888996976fa107737": {
     "views": []
    },
    "415db64fbc574daea8457ab600392f09": {
     "views": []
    },
    "4463de406b4645a4b562fe7917380ff9": {
     "views": []
    },
    "487e5450b5a24507932709f1fa8f59c1": {
     "views": []
    },
    "48aba73013e74e71927f71d42fb44d14": {
     "views": []
    },
    "4a19ad30f77e4fe6a2c84c8b62378a47": {
     "views": []
    },
    "4bc83ff5270d41679d76d26cdded8313": {
     "views": []
    },
    "4bdd9dd5c5c64646a27fa9096851458b": {
     "views": []
    },
    "5014cd42705f45178d5e6eeffd70f119": {
     "views": []
    },
    "5259b340b68e4fdb97fb4eaf9d98d954": {
     "views": []
    },
    "5986ef5b605a42aca10bc5834529ee06": {
     "views": []
    },
    "5c1aa44589a140eb9709734c843abde6": {
     "views": []
    },
    "600cd9ca4f4c46d4ad6fe57df107675a": {
     "views": [
      {
       "cell_index": 7
      }
     ]
    },
    "61fe369ebdd14eaa89de110f6186e6b7": {
     "views": []
    },
    "62ac836017ae47a38f8fde806c5ec9b7": {
     "views": []
    },
    "632ccbfabe91405aa1c5a77c9ea754db": {
     "views": []
    },
    "66175f618ea5472baac618f998d2c06c": {
     "views": []
    },
    "6647a620af034d26abcd327ae02364d4": {
     "views": []
    },
    "6752222d2cba43e18f344a8db7f99d24": {
     "views": []
    },
    "6b684ba1a7c24a35ba2df77016212904": {
     "views": []
    },
    "6cea898f4aca4f1e84601f843e337238": {
     "views": []
    },
    "6f8d1e87fd60462a89d693b2f3b5f007": {
     "views": []
    },
    "74078646a5eb4047b40370a0ab8b6b30": {
     "views": []
    },
    "745b0c79ff3040788ea952fce9c7d607": {
     "views": []
    },
    "757c9b805eb7445bac9a7f141f87e45f": {
     "views": []
    },
    "76ced68e19a742e8976dbfd4e8594a1a": {
     "views": []
    },
    "783bb5e7538d4d9d8315e2698024b353": {
     "views": []
    },
    "794993d66efe4ab29a8d35aad8cfe079": {
     "views": []
    },
    "8375e24bae7541528d7cdc0f379d1d4c": {
     "views": []
    },
    "8554945ec15041a7bf8004dbc3fc5f11": {
     "views": []
    },
    "878a34e26cce4f18bb8232a682ebe964": {
     "views": []
    },
    "8921a75116a549198eb7b7f4a24ab672": {
     "views": []
    },
    "909f4504f0b049bda8b641defa177062": {
     "views": []
    },
    "910b9d32a3fb45ec99da1f9df1add816": {
     "views": []
    },
    "9d15ce601cd34f0699b7a7a0ce1d17dc": {
     "views": []
    },
    "a26638c9fee247b3891aac027a0918cc": {
     "views": []
    },
    "a9d2bf44a3ad447bb3eecde71363c198": {
     "views": []
    },
    "ad366bf4c95f4cdba62d47ba9501efc9": {
     "views": []
    },
    "ad8e1842ec314a94b6ed4b62c4c0a450": {
     "views": []
    },
    "af525094db304d2a812ae1312b00889b": {
     "views": []
    },
    "b0697c4343da491f9a35bf02681dad8f": {
     "views": []
    },
    "b07ff307919e4268bc8bec8379c47a5d": {
     "views": []
    },
    "b0e85c726ca141079333afb27edc63d4": {
     "views": []
    },
    "bdcc1e5df7a8432b9f40d8249a46f90a": {
     "views": []
    },
    "be1065f37fa24e818d31c3bb075947a3": {
     "views": []
    },
    "c296c8df2f734e268c6c1204536e7142": {
     "views": []
    },
    "c4bfd3e447f0426da144b76abc202129": {
     "views": []
    },
    "cced93184d4445218a2b14567579333d": {
     "views": []
    },
    "d5bd2e4d5f85482e9345f3a7a69380d0": {
     "views": []
    },
    "d798fa64e8be4a7d9ec1cbeece3b1be9": {
     "views": []
    },
    "d7aec0d6d05f442b991ab40af944811d": {
     "views": []
    },
    "db469cea2c8e4180bf6890de80329c1d": {
     "views": []
    },
    "e671857510c54634b6f0fa55bf1fa228": {
     "views": []
    },
    "ebf52deafaf64b0c826533dafdf993c0": {
     "views": []
    },
    "ed1e5439da9c41199a7bbbda21b556f8": {
     "views": []
    },
    "f585cf5db5024280af5b567f0e4fd771": {
     "views": []
    },
    "f6ba8f8800af47adabed847063bda8db": {
     "views": []
    },
    "f9bae72f14e44705b5c38a3ddc69fee8": {
     "views": []
    }
   },
   "version": "1.1.2"
  }
 },
 "nbformat": 4,
 "nbformat_minor": 2
}
