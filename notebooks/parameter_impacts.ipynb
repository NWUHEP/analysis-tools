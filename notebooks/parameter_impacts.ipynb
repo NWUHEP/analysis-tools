{
 "cells": [
  {
   "cell_type": "markdown",
   "metadata": {},
   "source": [
    "## Estimating individual systematic contributions\n",
    "\n",
    "The effect of any individual systematic uncertainty is somewhat complicated by it's mutual covariance with the POI (i.e., the W branching fractions) and any other systematic uncertainty.  To get a rough idea of the percent-wise contribution to the total uncertainty from each individual systematic, I use the following scheme:\n",
    "\n",
    "   * the fit is carried out as in the nominal case and $\\sigma_{0}$ is estimated\n",
    "   * the fit is carried out for for each of the $n$ nuisance parameters $\\sigma_{theta}$\n",
    "   * the difference between the nominal case and the $n-1$ case is calculated,\n",
    "   * this quantity is normalized to $\\sum_{\\theta} \\sigma_{\\theta}^{2}$"
   ]
  },
  {
   "cell_type": "code",
   "execution_count": 1,
   "metadata": {
    "ExecuteTime": {
     "end_time": "2020-01-09T21:55:45.946151Z",
     "start_time": "2020-01-09T21:55:45.703335Z"
    },
    "code_folding": [
     0
    ]
   },
   "outputs": [
    {
     "name": "stdout",
     "output_type": "stream",
     "text": [
      "/home/naodell/work/wbr/analysis\n",
      "{\n",
      "  \"shell_port\": 40111,\n",
      "  \"iopub_port\": 49323,\n",
      "  \"stdin_port\": 34903,\n",
      "  \"control_port\": 33023,\n",
      "  \"hb_port\": 52823,\n",
      "  \"ip\": \"127.0.0.1\",\n",
      "  \"key\": \"f5b30996-3372abef82c6089eff515cf1\",\n",
      "  \"transport\": \"tcp\",\n",
      "  \"signature_scheme\": \"hmac-sha256\",\n",
      "  \"kernel_name\": \"\"\n",
      "}\n",
      "\n",
      "Paste the above JSON into a file, and connect with:\n",
      "    $> jupyter <app> --existing <file>\n",
      "or, if you are local, you can connect with just:\n",
      "    $> jupyter <app> --existing kernel-d0227585-deb5-4cf8-b0dc-72b49c561a46.json\n",
      "or even just:\n",
      "    $> jupyter <app> --existing\n",
      "if this is the most recent Jupyter kernel you have started.\n"
     ]
    }
   ],
   "source": [
    "## imports and configuration\n",
    "%cd '/home/naodell/work/wbr/analysis'\n",
    "#%load_ext autoreload\n",
    "\n",
    "from multiprocessing import Pool\n",
    "from functools import partial\n",
    "import numpy as np\n",
    "import pandas as pd\n",
    "import matplotlib.pyplot as plt\n",
    "import matplotlib\n",
    "from scipy.optimize import minimize\n",
    "from tqdm import tqdm_notebook, trange\n",
    "\n",
    "import scripts.plot_tools as pt\n",
    "import scripts.fit_helpers as fh\n",
    "\n",
    "np.set_printoptions(precision=3)\n",
    "rc_params = {\n",
    "             'figure.figsize': (10, 10),\n",
    "             'axes.labelsize': 20,\n",
    "             'axes.facecolor': 'white',\n",
    "             'axes.titlesize':'x-large',\n",
    "             'legend.fontsize': 20,\n",
    "             'xtick.labelsize':18,\n",
    "             'ytick.labelsize':18,\n",
    "             'font.size':18,\n",
    "             'font.sans-serif':['Arial', 'sans-serif'],\n",
    "             'mathtext.sf':'Arial',\n",
    "             'lines.markersize':8.,\n",
    "             'lines.linewidth':2.5,\n",
    "            }\n",
    "matplotlib.rcParams.update(rc_params)\n",
    "\n",
    "%connect_info"
   ]
  },
  {
   "cell_type": "code",
   "execution_count": 2,
   "metadata": {
    "ExecuteTime": {
     "end_time": "2020-01-09T21:55:46.356530Z",
     "start_time": "2020-01-09T21:55:45.947548Z"
    },
    "code_folding": [],
    "scrolled": false
   },
   "outputs": [],
   "source": [
    "# configure, get the input data, and do any additional processing that is needed\n",
    "processes = ['ttbar', 't', 'ww', 'wjets', 'zjets_alt', 'diboson', 'fakes'] \n",
    "selections = [\n",
    "              'ee',  'mumu',  \n",
    "              'emu', \n",
    "              'mutau', 'etau', \n",
    "              'mu4j', 'e4j'\n",
    "             ]\n",
    "plot_labels = fh.fancy_labels\n",
    "\n",
    "# initialize fit data\n",
    "infile = open('local_data/fit_data_postfit.pkl', 'rb')\n",
    "fit_data = pickle.load(infile)\n",
    "infile.close()\n",
    "\n",
    "# get fit parameters\n",
    "parameters = pd.read_csv('data/model_parameters_asimov.csv', index_col='name')"
   ]
  },
  {
   "cell_type": "code",
   "execution_count": 3,
   "metadata": {
    "ExecuteTime": {
     "end_time": "2020-01-09T21:55:46.373350Z",
     "start_time": "2020-01-09T21:55:46.357800Z"
    },
    "code_folding": [],
    "scrolled": true
   },
   "outputs": [],
   "source": [
    "# prepare Asimov dataset\n",
    "asimov_data = {cat:fit_data.mixture_model(parameters.val_init.values, cat) for cat in fit_data._model_data.keys()}"
   ]
  },
  {
   "cell_type": "code",
   "execution_count": 4,
   "metadata": {
    "ExecuteTime": {
     "end_time": "2020-01-09T21:55:46.381797Z",
     "start_time": "2020-01-09T21:55:46.375615Z"
    },
    "code_folding": [
     0
    ]
   },
   "outputs": [],
   "source": [
    "# initialize veto list\n",
    "fit_data.veto_list = [\n",
    "    # baseline\n",
    "    #'ee_cat_gt2_eq1_b', 'ee_cat_gt2_gt2_b', \n",
    "    #'mumu_cat_gt2_eq1_b', 'mumu_cat_gt2_gt2_b', \n",
    "    #'emu_cat_gt2_eq1_a', 'emu_cat_gt2_gt2_a', \n",
    "    #'etau_cat_eq2_eq1', 'etau_cat_gt3_eq1', 'etau_cat_eq2_gt2', 'etau_cat_gt3_gt2', \n",
    "    #'mutau_cat_eq2_eq1', 'mutau_cat_gt3_eq1', 'mutau_cat_eq2_gt2', 'mutau_cat_gt3_gt2', \n",
    "    #'e4j_cat_gt4_eq1', 'e4j_cat_gt4_gt2',\n",
    "    #'mu4j_cat_gt4_eq1', 'mu4j_cat_gt4_gt2', \n",
    "    'e4j_cat_eq3_gt2', 'mu4j_cat_eq3_gt2',\n",
    "    \n",
    "    # e/mu DY CR\n",
    "    'ee_cat_gt2_eq0',  'mumu_cat_gt2_eq0', \n",
    "    \n",
    "    # e+mu additional ttbar\n",
    "    #'emu_cat_gt2_eq0', 'emu_cat_eq1_eq0_a', 'emu_cat_eq1_eq1_a', \n",
    "    \n",
    "    # e+mu WW\n",
    "    #'emu_cat_eq0_eq0_a', \n",
    "    \n",
    "    # e/mu+tau additional CR\n",
    "    #'mutau_cat_eq0_eq0', 'mutau_cat_eq1_eq0', \n",
    "    #'mutau_cat_gt2_eq0', 'mutau_cat_eq1_eq1', \n",
    "    #'etau_cat_eq0_eq0', 'etau_cat_eq1_eq0', \n",
    "    #'etau_cat_gt2_eq0', 'etau_cat_eq1_eq1', \n",
    "]"
   ]
  },
  {
   "cell_type": "code",
   "execution_count": 7,
   "metadata": {
    "ExecuteTime": {
     "end_time": "2020-01-09T21:58:31.653119Z",
     "start_time": "2020-01-09T21:58:31.644527Z"
    },
    "code_folding": []
   },
   "outputs": [],
   "source": [
    "# fit configuration #\n",
    "\n",
    "# minimizer options\n",
    "steps = 4*[1e-4, ] \n",
    "steps += list(0.05*fit_data._perr_init[4: fit_data._nnorm + 7])\n",
    "steps += list(0.05*fit_data._perr_init[fit_data._npoi + fit_data._nnorm:])\n",
    "steps = np.array(steps)\n",
    "min_options = dict(\n",
    "                   #finite_diff_rel_step=steps,\n",
    "                   #verbose=3,\n",
    "                   #eps=1e-9, \n",
    "                   gtol = 1e-3,\n",
    "                   disp = True\n",
    "                  )\n",
    "\n",
    "# configure the objective\n",
    "mask = fit_data._pmask.copy()\n",
    "sample = asimov_data\n",
    "fobj = partial(fit_data.objective,\n",
    "               data = sample,\n",
    "               do_bb_lite = False,\n",
    "               lu_test = None\n",
    "              )\n",
    "\n",
    "fobj_jac = partial(fit_data.objective_jacobian,\n",
    "                   data = sample,\n",
    "                   do_bb_lite = False,\n",
    "                   lu_test = None\n",
    "                  )\n"
   ]
  },
  {
   "cell_type": "code",
   "execution_count": 8,
   "metadata": {
    "ExecuteTime": {
     "end_time": "2020-01-09T22:08:54.582625Z",
     "start_time": "2020-01-09T21:58:33.656996Z"
    },
    "code_folding": [],
    "scrolled": true
   },
   "outputs": [
    {
     "data": {
      "application/vnd.jupyter.widget-view+json": {
       "model_id": "1945285e9b0e469c93beadc36e3735e1",
       "version_major": 2,
       "version_minor": 0
      },
      "text/plain": [
       "HBox(children=(IntProgress(value=0, max=110), HTML(value='')))"
      ]
     },
     "metadata": {},
     "output_type": "display_data"
    },
    {
     "name": "stdout",
     "output_type": "stream",
     "text": [
      "7 lumi 1.0 0.025 1.0 0.017869069202598134 0.6713937333665879\n",
      "1.025 792.8866632899529\n",
      "Warning: Desired error not necessarily achieved due to precision loss.\n",
      "         Current function value: 493.970085\n",
      "         Iterations: 3\n",
      "         Function evaluations: 102\n",
      "         Gradient evaluations: 90\n",
      "[-0.452 -0.721  0.544  0.099] 493.97008522232466\n",
      "0.975 795.8751098355305\n",
      "Warning: Desired error not necessarily achieved due to precision loss.\n",
      "         Current function value: 806.298150\n",
      "         Iterations: 0\n",
      "         Function evaluations: 17\n",
      "         Gradient evaluations: 5\n",
      "[0. 0. 0. 0.] 806.2981501699172\n",
      "8 xs_diboson 1.0 0.1 1.0 0.09925309215887036 0.6713937333665879\n",
      "1.1 0.6713937333665879\n",
      "Optimization terminated successfully.\n",
      "         Current function value: 0.511672\n",
      "         Iterations: 52\n",
      "         Function evaluations: 248\n",
      "         Gradient evaluations: 242\n",
      "[-0.003  0.002 -0.003  0.001] 0.5116719870846609\n",
      "0.9 0.6716690837940661\n",
      "Warning: Desired error not necessarily achieved due to precision loss.\n",
      "         Current function value: 0.671669\n",
      "         Iterations: 0\n",
      "         Function evaluations: 17\n",
      "         Gradient evaluations: 5\n",
      "[0. 0. 0. 0.] 0.6716690840120961\n",
      "9 xs_ww 1.0 0.1 1.0 0.04100193784910485 5.577476258622482e-10\n",
      "1.1 31.76739134295363\n",
      "Warning: Desired error not necessarily achieved due to precision loss.\n",
      "         Current function value: 27.046179\n",
      "         Iterations: 10\n",
      "         Function evaluations: 79\n",
      "         Gradient evaluations: 71\n",
      "[-0.182  0.029  0.257 -0.017] 27.046178660571393\n",
      "0.9 33.161818400512736\n",
      "Warning: Desired error not necessarily achieved due to precision loss.\n",
      "         Current function value: 33.161818\n",
      "         Iterations: 0\n",
      "         Function evaluations: 17\n",
      "         Gradient evaluations: 5\n",
      "[0. 0. 0. 0.] 33.16181840031355\n",
      "10 xs_t 1.0 0.1 1.0 0.07594967497562195 5.577476258622482e-10\n",
      "1.1 26.887675407242337\n",
      "Optimization terminated successfully.\n",
      "         Current function value: 1.042632\n",
      "         Iterations: 61\n",
      "         Function evaluations: 82\n",
      "         Gradient evaluations: 82\n",
      "[ 0.104  0.168  0.379 -0.104] 1.0426315386009155\n",
      "0.9 27.17873800519906\n",
      "Warning: Desired error not necessarily achieved due to precision loss.\n",
      "         Current function value: 27.178738\n",
      "         Iterations: 0\n",
      "         Function evaluations: 17\n",
      "         Gradient evaluations: 5\n",
      "[0. 0. 0. 0.] 27.178738006036582\n",
      "11 xs_wjets 1.0 0.1 1.0 0.04496968441894556 5.577476258622482e-10\n",
      "1.1 127.45364104219675\n",
      "Warning: Desired error not necessarily achieved due to precision loss.\n",
      "         Current function value: 3.313076\n",
      "         Iterations: 69\n",
      "         Function evaluations: 185\n",
      "         Gradient evaluations: 170\n",
      "[-0.439 -0.326 -0.299  0.17 ] 3.3130756815042286\n",
      "0.9 130.56872829534603\n",
      "Warning: Desired error not necessarily achieved due to precision loss.\n",
      "         Current function value: 130.568728\n",
      "         Iterations: 0\n",
      "         Function evaluations: 17\n",
      "         Gradient evaluations: 5\n",
      "[0. 0. 0. 0.] 130.56872829552222\n",
      "12 e_fakes 1.0 0.1 1.0 0.07943535409993398 5.577476258622482e-10\n",
      "1.1 4.9111198707894355\n",
      "Warning: Desired error not necessarily achieved due to precision loss.\n",
      "         Current function value: 4.911120\n",
      "         Iterations: 0\n",
      "         Function evaluations: 17\n",
      "         Gradient evaluations: 5\n",
      "[0. 0. 0. 0.] 4.911119870311761\n",
      "0.9 4.938029922156602\n",
      "Optimization terminated successfully.\n",
      "         Current function value: 0.914748\n",
      "         Iterations: 51\n",
      "         Function evaluations: 72\n",
      "         Gradient evaluations: 72\n",
      "[ 0.126 -0.054  0.285 -0.057] 0.9147484260085288\n",
      "13 mu_fakes 1.0 0.1 1.0 0.028474879052687595 5.577476258622482e-10\n",
      "1.1 33.02388688724136\n",
      "Warning: Desired error not necessarily achieved due to precision loss.\n",
      "         Current function value: 33.023887\n",
      "         Iterations: 0\n",
      "         Function evaluations: 17\n",
      "         Gradient evaluations: 5\n",
      "[0. 0. 0. 0.] 33.02388688682212\n",
      "0.9 33.565912369554326\n",
      "Warning: Desired error not necessarily achieved due to precision loss.\n",
      "         Current function value: 8.352567\n",
      "         Iterations: 54\n",
      "         Function evaluations: 160\n",
      "         Gradient evaluations: 148\n",
      "[-0.653 -0.396  0.575  0.076] 8.352566927618703\n",
      "14 e_fakes_ss 1.0 0.1 1.0 0.03945437374715164 5.577476258622482e-10\n",
      "1.1 31.836866205886995\n",
      "Warning: Desired error not necessarily achieved due to precision loss.\n",
      "         Current function value: 31.836866\n",
      "         Iterations: 0\n",
      "         Function evaluations: 17\n",
      "         Gradient evaluations: 5\n",
      "[0. 0. 0. 0.] 31.836866205420463\n",
      "0.9 32.985315542872165\n",
      "Warning: Desired error not necessarily achieved due to precision loss.\n",
      "         Current function value: 31.538657\n",
      "         Iterations: 5\n",
      "         Function evaluations: 162\n",
      "         Gradient evaluations: 150\n",
      "[-0.035 -0.045  0.32  -0.038] 31.538656798277437\n",
      "15 mu_fakes_ss 1.0 0.1 1.0 0.053001352931595344 5.577476258622482e-10\n",
      "1.1 25.68194846598957\n",
      "Warning: Desired error not necessarily achieved due to precision loss.\n",
      "         Current function value: 25.681948\n",
      "         Iterations: 0\n",
      "         Function evaluations: 17\n",
      "         Gradient evaluations: 5\n",
      "[0. 0. 0. 0.] 25.681948465525153\n",
      "0.9 26.26360894847906\n",
      "Warning: Desired error not necessarily achieved due to precision loss.\n",
      "         Current function value: 21.748015\n",
      "         Iterations: 5\n",
      "         Function evaluations: 74\n",
      "         Gradient evaluations: 64\n",
      "[-0.085 -0.198  0.58  -0.048] 21.74801497994907\n",
      "\n"
     ]
    }
   ],
   "source": [
    "# n-1 systematics\n",
    "\n",
    "# initialize parameter data\n",
    "fit_data._pmask = parameters['active'].values.astype(bool)\n",
    "fit_data._pval_init = parameters['val_init'].values.copy()\n",
    "\n",
    "errs = []\n",
    "impacts = []\n",
    "iparam = 7\n",
    "mask  = fit_data._pmask\n",
    "#mask[17:] = False\n",
    "p_init = fit_data._pval_fit\n",
    "p_fit = parameters.val_fit.values\n",
    "for pname, pdata in tqdm_notebook(parameters.iloc[iparam:].iterrows(), total=parameters.shape[0] - iparam):\n",
    "    if not pdata.active:\n",
    "        continue\n",
    "        \n",
    "    print(iparam, pname, pdata.val_init, pdata.err_init, pdata.val_fit, pdata.err_fit, fobj(p_init[mask]))\n",
    "\n",
    "    # fix parameter in fit and covariance calculation\n",
    "    mask[iparam] = False\n",
    "    #min_options['finite_diff_rel_step'] = steps[mask]\n",
    "   # err, _ = fh.calculate_covariance(fobj, pval_init[mask])\n",
    "   # errs.append(err)\n",
    "    \n",
    "    # calculate impacts from up/down variations of n.p. on p.o.i.\n",
    "    p_init[iparam] = pdata.val_fit + pdata.err_init\n",
    "    print(p_init[iparam], fobj(p_init[mask]))\n",
    "    res = minimize(fobj, p_fit[mask],\n",
    "                   jac     = fobj_jac,\n",
    "                   #hess    = 'cs',\n",
    "                   #method  = 'trust-constr', \n",
    "                   method  = 'BFGS', \n",
    "                   options = min_options,\n",
    "                  )\n",
    "    impact_up = res.x\n",
    "    print((res.x[:4]-p_fit[:4])*100/p_fit[:4], res.fun)\n",
    "                    \n",
    "    p_init[iparam] = pdata.val_fit - pdata.err_init\n",
    "    print(p_init[iparam], fobj(p_init[mask]))\n",
    "    res = minimize(fobj, p_fit[mask],\n",
    "                   jac     = fobj_jac,\n",
    "                   #hess    = 'cs',\n",
    "                   #method  = 'trust-constr', \n",
    "                   method  = 'BFGS', \n",
    "                   options = min_options,\n",
    "                  )\n",
    "    impact_down = res.x\n",
    "    print((res.x[:4]-p_fit[:4])*100/p_fit[:4], res.fun)\n",
    "    impacts.append(np.array([impact_up, impact_down]))\n",
    "    \n",
    "    p_init[iparam] = pdata.val_fit\n",
    "    mask[iparam] = True\n",
    "    \n",
    "    iparam += 1\n",
    "    if iparam > 15:\n",
    "        break\n",
    "    \n",
    "errs = np.array(errs)\n",
    "impacts = np.array(impacts)"
   ]
  },
  {
   "cell_type": "code",
   "execution_count": null,
   "metadata": {
    "ExecuteTime": {
     "end_time": "2020-01-09T21:58:27.068991Z",
     "start_time": "2020-01-09T21:55:45.772Z"
    },
    "code_folding": [],
    "scrolled": false
   },
   "outputs": [],
   "source": [
    "# convert impacts to dataframes \n",
    "impacts_np = np.hstack([100*(impacts[:,0,:4] - p_fit[:4])/p_fit[:4], 100*(impacts[:,1,:4] - p_fit[:4])/p_fit[:4]])\n",
    "\n",
    "#impacts_up = pd.DataFrame(impacts_np, columns=['beta_e_up', 'beta_mu_up', 'beta_tau_up', 'beta_h_up'], index=list(p_labels_fancy[4:]))\n",
    "p_labels = parameters.index[7:impacts_np.shape[0] + 7]\n",
    "impacts_np = pd.DataFrame(impacts_np, columns=['beta_e_up', 'beta_mu_up', 'beta_tau_up', 'beta_h_up', 'beta_e_down', 'beta_mu_down', 'beta_tau_down', 'beta_h_down'], index=list(p_labels))\n",
    "pd.DataFrame(impacts_np)"
   ]
  },
  {
   "cell_type": "code",
   "execution_count": null,
   "metadata": {
    "ExecuteTime": {
     "end_time": "2020-01-09T21:58:27.069695Z",
     "start_time": "2020-01-09T21:55:45.777Z"
    },
    "code_folding": [],
    "scrolled": true
   },
   "outputs": [],
   "source": [
    "# convert to errors\n",
    "errs_np = np.array([np.concatenate([e[:i+4], [0], e[i+4:]]) for i, e in enumerate(errs)])\n",
    "errs_np = err_no_bb**2 - errs_np**2\n",
    "errs_np[errs_np < 0] = 0\n",
    "errs_np = np.sqrt(errs_np)\n",
    "errs_np = np.vstack([errs_np, err_stat, err_mc_stat, err_syst, stderr])\n",
    "\n",
    "errs_np = pd.DataFrame(errs_np[:,:4], columns=['beta_e', 'beta_mu', 'beta_tau', 'beta_h'], index=list(p_labels_fancy[4:]) + ['stat.', 'MC stat.', 'syst. total', 'total'])\n",
    "#beta_stderr = stderr.iloc[:,:4].multiply(100)/params_init[:4]\n",
    "100*errs_np/p_mle[:4]"
   ]
  },
  {
   "cell_type": "code",
   "execution_count": null,
   "metadata": {
    "ExecuteTime": {
     "end_time": "2020-01-09T21:58:27.070267Z",
     "start_time": "2020-01-09T21:55:45.782Z"
    },
    "code_folding": [],
    "scrolled": false
   },
   "outputs": [],
   "source": [
    "# print table\n",
    "\n",
    "#beta_errs.divide(params_init[:4]/100, axis=1).to_latex('local_data/errors.tex')\n",
    "#beta_errs.divide(params_init[:4]/100, axis=1).to_csv('local_data/errors.csv')\n",
    "#beta_errs.divide(params_init[:4]/100, axis=1)\n",
    "beta_errs.to_latex('local_data/summary_errors.tex', escape=False)\n",
    "beta_errs"
   ]
  },
  {
   "cell_type": "code",
   "execution_count": null,
   "metadata": {
    "ExecuteTime": {
     "end_time": "2020-01-09T21:58:27.070823Z",
     "start_time": "2020-01-09T21:55:45.789Z"
    }
   },
   "outputs": [],
   "source": [
    "jes_mask = np.array([True if ('jes' in pname and 'btag' not in pname) else False for pname in beta_errs.index])\n",
    "btag_mask = np.array([True if 'btag' in pname else False for pname in beta_errs.index])\n",
    "tau_misid_mask = np.array([True if ('misid_tau' in pname and pname not in ['misid_tau_e', 'misid_tau_h']) else False for pname in beta_errs.index])\n",
    "\n",
    "btag_errs = beta_errs[btag_mask]\n",
    "jes_errs = beta_errs[jes_mask]\n",
    "tau_misid_errs = beta_errs[tau_misid_mask]\n",
    "\n",
    "summary_errs = beta_errs[~btag_mask&~jes_mask&~tau_misid_mask].copy()\n",
    "summary_errs.index = [fit_data._parameters.loc[p].label if p in fit_data._parameters.index else p for p in summary_errs.index]\n",
    "summary_errs.loc['b-tag',:] = np.sqrt(np.sum(btag_errs**2))\n",
    "summary_errs.loc['JES',:]  = np.sqrt(np.sum(jes_errs**2))\n",
    "summary_errs.loc[r'$\\sf jet\\rightarrow\\tau$',:]  = np.sqrt(np.sum(tau_misid_errs**2))\n",
    "\n",
    "summary_errs = summary_errs.divide(params_init[:4]/100, axis=1)\n",
    "summary_errs.to_latex('local_data/summary_errors.tex', escape=False)\n",
    "summary_errs.to_csv('local_data/summary_errors.csv')\n",
    "summary_errs"
   ]
  },
  {
   "cell_type": "code",
   "execution_count": null,
   "metadata": {},
   "outputs": [],
   "source": []
  }
 ],
 "metadata": {
  "hide_input": false,
  "kernelspec": {
   "display_name": "Python 3",
   "language": "python",
   "name": "python3"
  },
  "language_info": {
   "codemirror_mode": {
    "name": "ipython",
    "version": 3
   },
   "file_extension": ".py",
   "mimetype": "text/x-python",
   "name": "python",
   "nbconvert_exporter": "python",
   "pygments_lexer": "ipython3",
   "version": "3.7.2"
  },
  "latex_envs": {
   "LaTeX_envs_menu_present": true,
   "autoclose": false,
   "autocomplete": true,
   "bibliofile": "biblio.bib",
   "cite_by": "apalike",
   "current_citInitial": 1,
   "eqLabelWithNumbers": true,
   "eqNumInitial": 0,
   "hotkeys": {
    "equation": "Ctrl-E",
    "itemize": "Ctrl-I"
   },
   "labels_anchors": false,
   "latex_user_defs": false,
   "report_style_numbering": false,
   "user_envs_cfg": false
  },
  "toc": {
   "nav_menu": {
    "height": "29px",
    "width": "251px"
   },
   "number_sections": true,
   "sideBar": true,
   "skip_h1_title": false,
   "title_cell": "Table of Contents",
   "title_sidebar": "Contents",
   "toc_cell": false,
   "toc_position": {
    "height": "49px",
    "left": "0px",
    "right": "1493.87px",
    "top": "90.9965px",
    "width": "242px"
   },
   "toc_section_display": false,
   "toc_window_display": false
  },
  "varInspector": {
   "cols": {
    "lenName": 16,
    "lenType": 16,
    "lenVar": 40
   },
   "kernels_config": {
    "python": {
     "delete_cmd_postfix": "",
     "delete_cmd_prefix": "del ",
     "library": "var_list.py",
     "varRefreshCmd": "print(var_dic_list())"
    },
    "r": {
     "delete_cmd_postfix": ") ",
     "delete_cmd_prefix": "rm(",
     "library": "var_list.r",
     "varRefreshCmd": "cat(var_dic_list()) "
    }
   },
   "oldHeight": 744.85,
   "position": {
    "height": "40px",
    "left": "919px",
    "right": "20px",
    "top": "59px",
    "width": "678px"
   },
   "types_to_exclude": [
    "module",
    "function",
    "builtin_function_or_method",
    "instance",
    "_Feature"
   ],
   "varInspector_section_display": "none",
   "window_display": false
  },
  "widgets": {
   "state": {
    "012f8bbe2fdb410dae6e2cde9d7fe5cb": {
     "views": []
    },
    "080556076f174648bddf64f17a54c523": {
     "views": []
    },
    "0ad83b5f67484ae5b8fd8dd43ccc39bd": {
     "views": []
    },
    "15acd81a9adc493683d9b63813f000bf": {
     "views": []
    },
    "1840cb6fded848b4ae95ec8d3db15ab2": {
     "views": []
    },
    "1dd83f822e074642ae4255b15ee661cf": {
     "views": []
    },
    "1e71a878e6474912a0efc497ecc5d65b": {
     "views": []
    },
    "2022ed83777b4963b630b5c46239e218": {
     "views": []
    },
    "21c4c57bfc48495194663e6a4fbac488": {
     "views": []
    },
    "22c45c75435348c0b9501d493d69fdca": {
     "views": []
    },
    "2635f668a1af4a9db2642e705d7c73ff": {
     "views": []
    },
    "2ad5ddd9347e451b9290e5b4179ab9a2": {
     "views": []
    },
    "2c062b5778024117984822b63b0593d7": {
     "views": []
    },
    "2f5eab2f6fb24192b76a5ffe99195d44": {
     "views": []
    },
    "31632517325046e8b0cb62e4f4ed2480": {
     "views": []
    },
    "3562b97192ed4d42bbab17f77c290f6b": {
     "views": []
    },
    "38a7cc053723492b921cf9f084ed243c": {
     "views": []
    },
    "3b5750b20e1745879ca0f965aad7b614": {
     "views": []
    },
    "3f1cbabbe2694a9dabe3f1c2e09d0ee2": {
     "views": []
    },
    "3fab6a26a70c4238a668a46d4dc88bf6": {
     "views": []
    },
    "3fb3c7a25e954a4888996976fa107737": {
     "views": []
    },
    "415db64fbc574daea8457ab600392f09": {
     "views": []
    },
    "4463de406b4645a4b562fe7917380ff9": {
     "views": []
    },
    "487e5450b5a24507932709f1fa8f59c1": {
     "views": []
    },
    "48aba73013e74e71927f71d42fb44d14": {
     "views": []
    },
    "4a19ad30f77e4fe6a2c84c8b62378a47": {
     "views": []
    },
    "4bc83ff5270d41679d76d26cdded8313": {
     "views": []
    },
    "4bdd9dd5c5c64646a27fa9096851458b": {
     "views": []
    },
    "5014cd42705f45178d5e6eeffd70f119": {
     "views": []
    },
    "5259b340b68e4fdb97fb4eaf9d98d954": {
     "views": []
    },
    "5986ef5b605a42aca10bc5834529ee06": {
     "views": []
    },
    "5c1aa44589a140eb9709734c843abde6": {
     "views": []
    },
    "600cd9ca4f4c46d4ad6fe57df107675a": {
     "views": [
      {
       "cell_index": 7
      }
     ]
    },
    "61fe369ebdd14eaa89de110f6186e6b7": {
     "views": []
    },
    "62ac836017ae47a38f8fde806c5ec9b7": {
     "views": []
    },
    "632ccbfabe91405aa1c5a77c9ea754db": {
     "views": []
    },
    "66175f618ea5472baac618f998d2c06c": {
     "views": []
    },
    "6647a620af034d26abcd327ae02364d4": {
     "views": []
    },
    "6752222d2cba43e18f344a8db7f99d24": {
     "views": []
    },
    "6b684ba1a7c24a35ba2df77016212904": {
     "views": []
    },
    "6cea898f4aca4f1e84601f843e337238": {
     "views": []
    },
    "6f8d1e87fd60462a89d693b2f3b5f007": {
     "views": []
    },
    "74078646a5eb4047b40370a0ab8b6b30": {
     "views": []
    },
    "745b0c79ff3040788ea952fce9c7d607": {
     "views": []
    },
    "757c9b805eb7445bac9a7f141f87e45f": {
     "views": []
    },
    "76ced68e19a742e8976dbfd4e8594a1a": {
     "views": []
    },
    "783bb5e7538d4d9d8315e2698024b353": {
     "views": []
    },
    "794993d66efe4ab29a8d35aad8cfe079": {
     "views": []
    },
    "8375e24bae7541528d7cdc0f379d1d4c": {
     "views": []
    },
    "8554945ec15041a7bf8004dbc3fc5f11": {
     "views": []
    },
    "878a34e26cce4f18bb8232a682ebe964": {
     "views": []
    },
    "8921a75116a549198eb7b7f4a24ab672": {
     "views": []
    },
    "909f4504f0b049bda8b641defa177062": {
     "views": []
    },
    "910b9d32a3fb45ec99da1f9df1add816": {
     "views": []
    },
    "9d15ce601cd34f0699b7a7a0ce1d17dc": {
     "views": []
    },
    "a26638c9fee247b3891aac027a0918cc": {
     "views": []
    },
    "a9d2bf44a3ad447bb3eecde71363c198": {
     "views": []
    },
    "ad366bf4c95f4cdba62d47ba9501efc9": {
     "views": []
    },
    "ad8e1842ec314a94b6ed4b62c4c0a450": {
     "views": []
    },
    "af525094db304d2a812ae1312b00889b": {
     "views": []
    },
    "b0697c4343da491f9a35bf02681dad8f": {
     "views": []
    },
    "b07ff307919e4268bc8bec8379c47a5d": {
     "views": []
    },
    "b0e85c726ca141079333afb27edc63d4": {
     "views": []
    },
    "bdcc1e5df7a8432b9f40d8249a46f90a": {
     "views": []
    },
    "be1065f37fa24e818d31c3bb075947a3": {
     "views": []
    },
    "c296c8df2f734e268c6c1204536e7142": {
     "views": []
    },
    "c4bfd3e447f0426da144b76abc202129": {
     "views": []
    },
    "cced93184d4445218a2b14567579333d": {
     "views": []
    },
    "d5bd2e4d5f85482e9345f3a7a69380d0": {
     "views": []
    },
    "d798fa64e8be4a7d9ec1cbeece3b1be9": {
     "views": []
    },
    "d7aec0d6d05f442b991ab40af944811d": {
     "views": []
    },
    "db469cea2c8e4180bf6890de80329c1d": {
     "views": []
    },
    "e671857510c54634b6f0fa55bf1fa228": {
     "views": []
    },
    "ebf52deafaf64b0c826533dafdf993c0": {
     "views": []
    },
    "ed1e5439da9c41199a7bbbda21b556f8": {
     "views": []
    },
    "f585cf5db5024280af5b567f0e4fd771": {
     "views": []
    },
    "f6ba8f8800af47adabed847063bda8db": {
     "views": []
    },
    "f9bae72f14e44705b5c38a3ddc69fee8": {
     "views": []
    }
   },
   "version": "1.1.2"
  }
 },
 "nbformat": 4,
 "nbformat_minor": 2
}
