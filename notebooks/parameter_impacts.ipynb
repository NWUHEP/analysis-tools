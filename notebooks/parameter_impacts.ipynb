{
 "cells": [
  {
   "cell_type": "markdown",
   "metadata": {},
   "source": [
    "## Estimating individual systematic contributions\n",
    "\n",
    "The effect of any individual systematic uncertainty is somewhat complicated by it's mutual covariance with the POI (i.e., the W branching fractions) and any other systematic uncertainty.  To get a rough idea of the percent-wise contribution to the total uncertainty from each individual systematic, I use the following scheme:\n",
    "\n",
    "   * the fit is carried out as in the nominal case and $\\sigma_{0}$ is estimated\n",
    "   * the fit is carried out for for each of the $n$ nuisance parameters $\\sigma_{theta}$\n",
    "   * the difference between the nominal case and the $n-1$ case is calculated,\n",
    "   * this quantity is normalized to $\\sum_{\\theta} \\sigma_{\\theta}^{2}$"
   ]
  },
  {
   "cell_type": "code",
   "execution_count": 1,
   "metadata": {
    "ExecuteTime": {
     "end_time": "2020-01-14T19:56:24.519833Z",
     "start_time": "2020-01-14T19:56:24.276290Z"
    },
    "code_folding": [
     0
    ]
   },
   "outputs": [
    {
     "name": "stdout",
     "output_type": "stream",
     "text": [
      "/home/naodell/work/wbr/analysis\n",
      "{\n",
      "  \"shell_port\": 40111,\n",
      "  \"iopub_port\": 49323,\n",
      "  \"stdin_port\": 34903,\n",
      "  \"control_port\": 33023,\n",
      "  \"hb_port\": 52823,\n",
      "  \"ip\": \"127.0.0.1\",\n",
      "  \"key\": \"f5b30996-3372abef82c6089eff515cf1\",\n",
      "  \"transport\": \"tcp\",\n",
      "  \"signature_scheme\": \"hmac-sha256\",\n",
      "  \"kernel_name\": \"\"\n",
      "}\n",
      "\n",
      "Paste the above JSON into a file, and connect with:\n",
      "    $> jupyter <app> --existing <file>\n",
      "or, if you are local, you can connect with just:\n",
      "    $> jupyter <app> --existing kernel-d0227585-deb5-4cf8-b0dc-72b49c561a46.json\n",
      "or even just:\n",
      "    $> jupyter <app> --existing\n",
      "if this is the most recent Jupyter kernel you have started.\n"
     ]
    }
   ],
   "source": [
    "## imports and configuration\n",
    "%cd '/home/naodell/work/wbr/analysis'\n",
    "#%load_ext autoreload\n",
    "\n",
    "from multiprocessing import Pool\n",
    "from functools import partial\n",
    "import numpy as np\n",
    "import pandas as pd\n",
    "import matplotlib.pyplot as plt\n",
    "import matplotlib\n",
    "from scipy.optimize import minimize\n",
    "from tqdm import tqdm_notebook, trange\n",
    "\n",
    "import scripts.plot_tools as pt\n",
    "import scripts.fit_helpers as fh\n",
    "\n",
    "np.set_printoptions(precision=3)\n",
    "rc_params = {\n",
    "             'figure.figsize': (10, 10),\n",
    "             'axes.labelsize': 20,\n",
    "             'axes.facecolor': 'white',\n",
    "             'axes.titlesize':'x-large',\n",
    "             'legend.fontsize': 20,\n",
    "             'xtick.labelsize':18,\n",
    "             'ytick.labelsize':18,\n",
    "             'font.size':18,\n",
    "             'font.sans-serif':['Arial', 'sans-serif'],\n",
    "             'mathtext.sf':'Arial',\n",
    "             'lines.markersize':8.,\n",
    "             'lines.linewidth':2.5,\n",
    "            }\n",
    "matplotlib.rcParams.update(rc_params)\n",
    "\n",
    "%connect_info"
   ]
  },
  {
   "cell_type": "code",
   "execution_count": 2,
   "metadata": {
    "ExecuteTime": {
     "end_time": "2020-01-14T19:56:24.932783Z",
     "start_time": "2020-01-14T19:56:24.521223Z"
    },
    "code_folding": [
     0
    ],
    "scrolled": false
   },
   "outputs": [],
   "source": [
    "# configure, get the input data, and do any additional processing that is needed\n",
    "processes = ['ttbar', 't', 'ww', 'wjets', 'zjets_alt', 'diboson', 'fakes'] \n",
    "selections = [\n",
    "              'ee',  'mumu',  \n",
    "              'emu', \n",
    "              'mutau', 'etau', \n",
    "              'mu4j', 'e4j'\n",
    "             ]\n",
    "plot_labels = fh.fancy_labels\n",
    "\n",
    "# initialize fit data\n",
    "infile = open('local_data/fit_data_postfit.pkl', 'rb')\n",
    "fit_data = pickle.load(infile)\n",
    "infile.close()\n",
    "\n",
    "# get fit parameters\n",
    "parameters = pd.read_csv('data/model_parameters_asimov.csv', index_col='name')"
   ]
  },
  {
   "cell_type": "code",
   "execution_count": 3,
   "metadata": {
    "ExecuteTime": {
     "end_time": "2020-01-14T19:56:24.958974Z",
     "start_time": "2020-01-14T19:56:24.933985Z"
    },
    "code_folding": [],
    "scrolled": true
   },
   "outputs": [],
   "source": [
    "# prepare Asimov dataset\n",
    "asimov_data = {cat:fit_data.mixture_model(parameters.val_init.values, cat) for cat in fit_data._model_data.keys()}"
   ]
  },
  {
   "cell_type": "code",
   "execution_count": 4,
   "metadata": {
    "ExecuteTime": {
     "end_time": "2020-01-14T19:56:24.972920Z",
     "start_time": "2020-01-14T19:56:24.964297Z"
    },
    "code_folding": [
     0
    ]
   },
   "outputs": [],
   "source": [
    "# initialize veto list\n",
    "fit_data.veto_list = [\n",
    "    # baseline\n",
    "    #'ee_cat_gt2_eq1_b', 'ee_cat_gt2_gt2_b', \n",
    "    #'mumu_cat_gt2_eq1_b', 'mumu_cat_gt2_gt2_b', \n",
    "    #'emu_cat_gt2_eq1_a', 'emu_cat_gt2_gt2_a', \n",
    "    #'etau_cat_eq2_eq1', 'etau_cat_gt3_eq1', 'etau_cat_eq2_gt2', 'etau_cat_gt3_gt2', \n",
    "    #'mutau_cat_eq2_eq1', 'mutau_cat_gt3_eq1', 'mutau_cat_eq2_gt2', 'mutau_cat_gt3_gt2', \n",
    "    #'e4j_cat_gt4_eq1', 'e4j_cat_gt4_gt2',\n",
    "    #'mu4j_cat_gt4_eq1', 'mu4j_cat_gt4_gt2', \n",
    "    'e4j_cat_eq3_gt2', 'mu4j_cat_eq3_gt2',\n",
    "    \n",
    "    # e/mu DY CR\n",
    "    'ee_cat_gt2_eq0',  'mumu_cat_gt2_eq0', \n",
    "    \n",
    "    # e+mu additional ttbar\n",
    "    #'emu_cat_gt2_eq0', 'emu_cat_eq1_eq0_a', 'emu_cat_eq1_eq1_a', \n",
    "    \n",
    "    # e+mu WW\n",
    "    #'emu_cat_eq0_eq0_a', \n",
    "    \n",
    "    # e/mu+tau additional CR\n",
    "    #'mutau_cat_eq0_eq0', 'mutau_cat_eq1_eq0', \n",
    "    #'mutau_cat_gt2_eq0', 'mutau_cat_eq1_eq1', \n",
    "    #'etau_cat_eq0_eq0', 'etau_cat_eq1_eq0', \n",
    "    #'etau_cat_gt2_eq0', 'etau_cat_eq1_eq1', \n",
    "]"
   ]
  },
  {
   "cell_type": "code",
   "execution_count": 5,
   "metadata": {
    "ExecuteTime": {
     "end_time": "2020-01-14T19:56:24.984270Z",
     "start_time": "2020-01-14T19:56:24.976732Z"
    },
    "code_folding": [
     0
    ]
   },
   "outputs": [],
   "source": [
    "# fit configuration #\n",
    "\n",
    "# minimizer options\n",
    "steps = 4*[1e-4, ] \n",
    "steps += list(0.05*fit_data._perr_init[4: fit_data._nnorm + 7])\n",
    "steps += list(0.05*fit_data._perr_init[fit_data._npoi + fit_data._nnorm:])\n",
    "steps = np.array(steps)\n",
    "min_options = dict(\n",
    "                   #finite_diff_rel_step=steps,\n",
    "                   #verbose=3,\n",
    "                   #eps=1e-9, \n",
    "                   gtol = 1e-3,\n",
    "                   disp = True\n",
    "                  )\n",
    "\n",
    "# configure the objective\n",
    "sample = asimov_data\n",
    "fobj = partial(fit_data.objective,\n",
    "               data = sample,\n",
    "               do_bb_lite = True,\n",
    "               lu_test = None\n",
    "              )\n",
    "\n",
    "fobj_jac = partial(fit_data.objective_jacobian,\n",
    "                   data = sample,\n",
    "                   do_bb_lite = True,\n",
    "                   lu_test = None\n",
    "                  )\n"
   ]
  },
  {
   "cell_type": "code",
   "execution_count": 6,
   "metadata": {
    "ExecuteTime": {
     "end_time": "2020-01-15T02:27:31.690381Z",
     "start_time": "2020-01-14T19:56:24.989180Z"
    },
    "code_folding": [],
    "scrolled": true
   },
   "outputs": [
    {
     "data": {
      "application/vnd.jupyter.widget-view+json": {
       "model_id": "88ff401f0a6f42ba91a7f72f9d0603eb",
       "version_major": 2,
       "version_minor": 0
      },
      "text/plain": [
       "HBox(children=(IntProgress(value=0, max=107), HTML(value='')))"
      ]
     },
     "metadata": {},
     "output_type": "display_data"
    },
    {
     "name": "stdout",
     "output_type": "stream",
     "text": [
      "4 br_tau_e 0.1774 0.0004 0.1774 0.0003999512734901713 5.463594021648532e-10\n"
     ]
    },
    {
     "name": "stderr",
     "output_type": "stream",
     "text": [
      "/home/naodell/opt/anaconda3/lib/python3.7/site-packages/numdifftools/limits.py:182: FutureWarning: arrays to stack must be passed as a \"sequence\" type such as list or tuple. Support for non-sequence iterables such as generators is deprecated as of NumPy 1.16 and will raise an error in the future.\n",
      "  f_del = np.vstack(list(np.ravel(r)) for r in sequence)\n",
      "/home/naodell/opt/anaconda3/lib/python3.7/site-packages/numdifftools/limits.py:184: FutureWarning: arrays to stack must be passed as a \"sequence\" type such as list or tuple. Support for non-sequence iterables such as generators is deprecated as of NumPy 1.16 and will raise an error in the future.\n",
      "  for step in steps)\n"
     ]
    },
    {
     "name": "stdout",
     "output_type": "stream",
     "text": [
      "0.1777999512734902 0.5081957400672589\n",
      "Optimization terminated successfully.\n",
      "         Current function value: 0.500001\n",
      "         Iterations: 40\n",
      "         Function evaluations: 80\n",
      "         Gradient evaluations: 79\n",
      "[-0.013  0.002  0.003  0.001] 0.5000006694110887\n",
      "0.17700004872650982 0.5081968055919831\n",
      "Warning: Desired error not necessarily achieved due to precision loss.\n",
      "         Current function value: 0.500001\n",
      "         Iterations: 40\n",
      "         Function evaluations: 125\n",
      "         Gradient evaluations: 113\n",
      "[ 0.013 -0.002 -0.003 -0.001] 0.5000010476933358\n",
      "5 br_tau_mu 0.173 0.0004 0.173 0.00039933807887907634 5.463594021648532e-10\n"
     ]
    },
    {
     "name": "stderr",
     "output_type": "stream",
     "text": [
      "/home/naodell/opt/anaconda3/lib/python3.7/site-packages/numdifftools/limits.py:182: FutureWarning: arrays to stack must be passed as a \"sequence\" type such as list or tuple. Support for non-sequence iterables such as generators is deprecated as of NumPy 1.16 and will raise an error in the future.\n",
      "  f_del = np.vstack(list(np.ravel(r)) for r in sequence)\n",
      "/home/naodell/opt/anaconda3/lib/python3.7/site-packages/numdifftools/limits.py:184: FutureWarning: arrays to stack must be passed as a \"sequence\" type such as list or tuple. Support for non-sequence iterables such as generators is deprecated as of NumPy 1.16 and will raise an error in the future.\n",
      "  for step in steps)\n"
     ]
    },
    {
     "name": "stdout",
     "output_type": "stream",
     "text": [
      "0.17339933807887906 0.5175974850005058\n",
      "Warning: Desired error not necessarily achieved due to precision loss.\n",
      "         Current function value: 0.500001\n",
      "         Iterations: 44\n",
      "         Function evaluations: 101\n",
      "         Gradient evaluations: 91\n",
      "[-0.003 -0.012 -0.042  0.009] 0.5000006216220048\n",
      "0.17260066192112092 0.5176024107490416\n",
      "Optimization terminated successfully.\n",
      "         Current function value: 0.500003\n",
      "         Iterations: 43\n",
      "         Function evaluations: 61\n",
      "         Gradient evaluations: 61\n",
      "[ 0.003  0.012  0.041 -0.009] 0.5000029346402786\n",
      "6 br_tau_h 0.6496 0.001 0.6496 0.000999238121665807 5.463594021648532e-10\n"
     ]
    },
    {
     "name": "stderr",
     "output_type": "stream",
     "text": [
      "/home/naodell/opt/anaconda3/lib/python3.7/site-packages/numdifftools/limits.py:182: FutureWarning: arrays to stack must be passed as a \"sequence\" type such as list or tuple. Support for non-sequence iterables such as generators is deprecated as of NumPy 1.16 and will raise an error in the future.\n",
      "  f_del = np.vstack(list(np.ravel(r)) for r in sequence)\n",
      "/home/naodell/opt/anaconda3/lib/python3.7/site-packages/numdifftools/limits.py:184: FutureWarning: arrays to stack must be passed as a \"sequence\" type such as list or tuple. Support for non-sequence iterables such as generators is deprecated as of NumPy 1.16 and will raise an error in the future.\n",
      "  for step in steps)\n"
     ]
    },
    {
     "name": "stdout",
     "output_type": "stream",
     "text": [
      "0.6505992381216658 0.5205635626052936\n",
      "Optimization terminated successfully.\n",
      "         Current function value: 0.500016\n",
      "         Iterations: 41\n",
      "         Function evaluations: 56\n",
      "         Gradient evaluations: 56\n",
      "[ 0.028  0.024 -0.111  0.009] 0.5000159491530453\n",
      "0.6486007618783342 0.5205862409141275\n",
      "Optimization terminated successfully.\n",
      "         Current function value: 0.500021\n",
      "         Iterations: 37\n",
      "         Function evaluations: 53\n",
      "         Gradient evaluations: 53\n",
      "[-0.028 -0.024  0.111 -0.009] 0.5000206845052467\n",
      "7 lumi 1.0 0.025 1.0 0.017400371411546836 5.463594021648532e-10\n",
      "1.017400371411547 253.99221925367652\n",
      "Warning: Desired error not necessarily achieved due to precision loss.\n",
      "         Current function value: 0.487691\n",
      "         Iterations: 50\n",
      "         Function evaluations: 111\n",
      "         Gradient evaluations: 100\n",
      "[ 0.055 -0.013  0.059 -0.016] 0.4876912728639035\n",
      "0.9825996285884532 258.7395073024186\n",
      "Warning: Desired error not necessarily achieved due to precision loss.\n",
      "         Current function value: 0.515969\n",
      "         Iterations: 58\n",
      "         Function evaluations: 106\n",
      "         Gradient evaluations: 94\n",
      "[-0.058  0.017 -0.067  0.017] 0.5159691959393963\n",
      "8 xs_diboson 1.0 0.1 1.0 0.0992206341337002 5.463594021648532e-10\n"
     ]
    },
    {
     "name": "stderr",
     "output_type": "stream",
     "text": [
      "/home/naodell/opt/anaconda3/lib/python3.7/site-packages/numdifftools/limits.py:182: FutureWarning: arrays to stack must be passed as a \"sequence\" type such as list or tuple. Support for non-sequence iterables such as generators is deprecated as of NumPy 1.16 and will raise an error in the future.\n",
      "  f_del = np.vstack(list(np.ravel(r)) for r in sequence)\n",
      "/home/naodell/opt/anaconda3/lib/python3.7/site-packages/numdifftools/limits.py:184: FutureWarning: arrays to stack must be passed as a \"sequence\" type such as list or tuple. Support for non-sequence iterables such as generators is deprecated as of NumPy 1.16 and will raise an error in the future.\n",
      "  for step in steps)\n"
     ]
    },
    {
     "name": "stdout",
     "output_type": "stream",
     "text": [
      "1.0992206341337003 0.5753741483909912\n",
      "Warning: Desired error not necessarily achieved due to precision loss.\n",
      "         Current function value: 0.500012\n",
      "         Iterations: 41\n",
      "         Function evaluations: 85\n",
      "         Gradient evaluations: 73\n",
      "[-0.002 -0.001 -0.018  0.003] 0.5000120859871964\n",
      "0.9007793658662998 0.5755081329880156\n",
      "Warning: Desired error not necessarily achieved due to precision loss.\n",
      "         Current function value: 0.499968\n",
      "         Iterations: 42\n",
      "         Function evaluations: 121\n",
      "         Gradient evaluations: 109\n",
      "[ 0.002  0.001  0.019 -0.003] 0.4999677233190269\n",
      "9 xs_ww 1.0 0.1 1.0 0.039308628648991484 5.463594021648532e-10\n"
     ]
    },
    {
     "name": "stderr",
     "output_type": "stream",
     "text": [
      "/home/naodell/opt/anaconda3/lib/python3.7/site-packages/numdifftools/limits.py:182: FutureWarning: arrays to stack must be passed as a \"sequence\" type such as list or tuple. Support for non-sequence iterables such as generators is deprecated as of NumPy 1.16 and will raise an error in the future.\n",
      "  f_del = np.vstack(list(np.ravel(r)) for r in sequence)\n",
      "/home/naodell/opt/anaconda3/lib/python3.7/site-packages/numdifftools/limits.py:184: FutureWarning: arrays to stack must be passed as a \"sequence\" type such as list or tuple. Support for non-sequence iterables such as generators is deprecated as of NumPy 1.16 and will raise an error in the future.\n",
      "  for step in steps)\n"
     ]
    },
    {
     "name": "stdout",
     "output_type": "stream",
     "text": [
      "1.0393086286489914 2.7235171775317535\n",
      "Warning: Desired error not necessarily achieved due to precision loss.\n",
      "         Current function value: 0.373136\n",
      "         Iterations: 44\n",
      "         Function evaluations: 181\n",
      "         Gradient evaluations: 169\n",
      "[-0.004 -0.012 -0.046  0.01 ] 0.37313577556189775\n",
      "0.9606913713510086 2.7662525891494036\n",
      "Warning: Desired error not necessarily achieved due to precision loss.\n",
      "         Current function value: 0.650334\n",
      "         Iterations: 46\n",
      "         Function evaluations: 116\n",
      "         Gradient evaluations: 107\n",
      "[-0.004  0.016  0.066 -0.013] 0.6503336289822369\n",
      "10 xs_t 1.0 0.1 1.0 0.06531799366035453 5.463594021648532e-10\n"
     ]
    },
    {
     "name": "stderr",
     "output_type": "stream",
     "text": [
      "/home/naodell/opt/anaconda3/lib/python3.7/site-packages/numdifftools/limits.py:182: FutureWarning: arrays to stack must be passed as a \"sequence\" type such as list or tuple. Support for non-sequence iterables such as generators is deprecated as of NumPy 1.16 and will raise an error in the future.\n",
      "  f_del = np.vstack(list(np.ravel(r)) for r in sequence)\n",
      "/home/naodell/opt/anaconda3/lib/python3.7/site-packages/numdifftools/limits.py:184: FutureWarning: arrays to stack must be passed as a \"sequence\" type such as list or tuple. Support for non-sequence iterables such as generators is deprecated as of NumPy 1.16 and will raise an error in the future.\n",
      "  for step in steps)\n"
     ]
    },
    {
     "name": "stdout",
     "output_type": "stream",
     "text": [
      "1.0653179936603545 7.792196412439546\n",
      "Warning: Desired error not necessarily achieved due to precision loss.\n",
      "         Current function value: 0.505550\n",
      "         Iterations: 47\n",
      "         Function evaluations: 153\n",
      "         Gradient evaluations: 142\n",
      "[ 0.14   0.148  0.245 -0.085] 0.5055502206969968\n",
      "0.9346820063396455 7.8367140637671415\n",
      "Warning: Desired error not necessarily achieved due to precision loss.\n",
      "         Current function value: 0.495989\n",
      "         Iterations: 46\n",
      "         Function evaluations: 119\n",
      "         Gradient evaluations: 108\n",
      "[-0.15  -0.16  -0.253  0.09 ] 0.4959887068306205\n",
      "11 xs_wjets 1.0 0.1 1.0 0.038985751087031485 5.463594021648532e-10\n"
     ]
    },
    {
     "name": "stderr",
     "output_type": "stream",
     "text": [
      "/home/naodell/opt/anaconda3/lib/python3.7/site-packages/numdifftools/limits.py:182: FutureWarning: arrays to stack must be passed as a \"sequence\" type such as list or tuple. Support for non-sequence iterables such as generators is deprecated as of NumPy 1.16 and will raise an error in the future.\n",
      "  f_del = np.vstack(list(np.ravel(r)) for r in sequence)\n",
      "/home/naodell/opt/anaconda3/lib/python3.7/site-packages/numdifftools/limits.py:184: FutureWarning: arrays to stack must be passed as a \"sequence\" type such as list or tuple. Support for non-sequence iterables such as generators is deprecated as of NumPy 1.16 and will raise an error in the future.\n",
      "  for step in steps)\n"
     ]
    },
    {
     "name": "stdout",
     "output_type": "stream",
     "text": [
      "1.0389857510870315 8.648676402789173\n",
      "Optimization terminated successfully.\n",
      "         Current function value: 0.492275\n",
      "         Iterations: 49\n",
      "         Function evaluations: 72\n",
      "         Gradient evaluations: 72\n",
      "[-0.059 -0.053  0.092  0.003] 0.492275290674856\n",
      "0.9610142489129685 8.730211177822975\n",
      "Warning: Desired error not necessarily achieved due to precision loss.\n",
      "         Current function value: 0.508337\n",
      "         Iterations: 48\n",
      "         Function evaluations: 84\n",
      "         Gradient evaluations: 75\n",
      "[ 0.047  0.04  -0.112  0.004] 0.5083370813425748\n",
      "12 e_fakes 1.0 0.1 1.0 0.07906586573123893 5.463594021648532e-10\n"
     ]
    },
    {
     "name": "stderr",
     "output_type": "stream",
     "text": [
      "/home/naodell/opt/anaconda3/lib/python3.7/site-packages/numdifftools/limits.py:182: FutureWarning: arrays to stack must be passed as a \"sequence\" type such as list or tuple. Support for non-sequence iterables such as generators is deprecated as of NumPy 1.16 and will raise an error in the future.\n",
      "  f_del = np.vstack(list(np.ravel(r)) for r in sequence)\n",
      "/home/naodell/opt/anaconda3/lib/python3.7/site-packages/numdifftools/limits.py:184: FutureWarning: arrays to stack must be passed as a \"sequence\" type such as list or tuple. Support for non-sequence iterables such as generators is deprecated as of NumPy 1.16 and will raise an error in the future.\n",
      "  for step in steps)\n"
     ]
    },
    {
     "name": "stdout",
     "output_type": "stream",
     "text": [
      "1.0790658657312389 2.2009285035462907\n",
      "Warning: Desired error not necessarily achieved due to precision loss.\n",
      "         Current function value: 0.500362\n",
      "         Iterations: 46\n",
      "         Function evaluations: 172\n",
      "         Gradient evaluations: 159\n",
      "[-0.098  0.073 -0.163  0.03 ] 0.5003623230710985\n",
      "0.920934134268761 2.2079724112112666\n",
      "Warning: Desired error not necessarily achieved due to precision loss.\n",
      "         Current function value: 0.499783\n",
      "         Iterations: 49\n",
      "         Function evaluations: 219\n",
      "         Gradient evaluations: 206\n",
      "[ 0.1   -0.072  0.164 -0.031] 0.49978253379984117\n",
      "13 mu_fakes 1.0 0.1 1.0 0.02809627391722733 5.463594021648532e-10\n"
     ]
    },
    {
     "name": "stderr",
     "output_type": "stream",
     "text": [
      "/home/naodell/opt/anaconda3/lib/python3.7/site-packages/numdifftools/limits.py:182: FutureWarning: arrays to stack must be passed as a \"sequence\" type such as list or tuple. Support for non-sequence iterables such as generators is deprecated as of NumPy 1.16 and will raise an error in the future.\n",
      "  f_del = np.vstack(list(np.ravel(r)) for r in sequence)\n",
      "/home/naodell/opt/anaconda3/lib/python3.7/site-packages/numdifftools/limits.py:184: FutureWarning: arrays to stack must be passed as a \"sequence\" type such as list or tuple. Support for non-sequence iterables such as generators is deprecated as of NumPy 1.16 and will raise an error in the future.\n",
      "  for step in steps)\n"
     ]
    },
    {
     "name": "stdout",
     "output_type": "stream",
     "text": [
      "1.0280962739172272 1.8292481588811793\n",
      "Optimization terminated successfully.\n",
      "         Current function value: 0.503443\n",
      "         Iterations: 44\n",
      "         Function evaluations: 65\n",
      "         Gradient evaluations: 65\n",
      "[ 0.217  0.141 -0.128 -0.037] 0.5034432374656072\n",
      "0.9719037260827726 1.835592400252398\n",
      "Warning: Desired error not necessarily achieved due to precision loss.\n",
      "         Current function value: 0.499004\n",
      "         Iterations: 48\n",
      "         Function evaluations: 199\n",
      "         Gradient evaluations: 184\n",
      "[-0.22  -0.141  0.109  0.04 ] 0.49900449288619264\n",
      "14 e_fakes_ss 1.0 0.1 1.0 0.03889897135106945 5.463594021648532e-10\n"
     ]
    },
    {
     "name": "stderr",
     "output_type": "stream",
     "text": [
      "/home/naodell/opt/anaconda3/lib/python3.7/site-packages/numdifftools/limits.py:182: FutureWarning: arrays to stack must be passed as a \"sequence\" type such as list or tuple. Support for non-sequence iterables such as generators is deprecated as of NumPy 1.16 and will raise an error in the future.\n",
      "  f_del = np.vstack(list(np.ravel(r)) for r in sequence)\n",
      "/home/naodell/opt/anaconda3/lib/python3.7/site-packages/numdifftools/limits.py:184: FutureWarning: arrays to stack must be passed as a \"sequence\" type such as list or tuple. Support for non-sequence iterables such as generators is deprecated as of NumPy 1.16 and will raise an error in the future.\n",
      "  for step in steps)\n"
     ]
    },
    {
     "name": "stdout",
     "output_type": "stream",
     "text": [
      "1.0388989713510695 1.2340741908825341\n",
      "Warning: Desired error not necessarily achieved due to precision loss.\n",
      "         Current function value: 0.502353\n",
      "         Iterations: 41\n",
      "         Function evaluations: 142\n",
      "         Gradient evaluations: 132\n",
      "[ 0.141 -0.063  0.16  -0.038] 0.5023527479074252\n",
      "0.9611010286489305 1.2621405716163911\n",
      "Warning: Desired error not necessarily achieved due to precision loss.\n",
      "         Current function value: 0.498042\n",
      "         Iterations: 44\n",
      "         Function evaluations: 88\n",
      "         Gradient evaluations: 77\n",
      "[-0.141  0.059 -0.169  0.04 ] 0.49804171094715066\n",
      "15 mu_fakes_ss 1.0 0.1 1.0 0.051944699357116986 5.463594021648532e-10\n"
     ]
    },
    {
     "name": "stderr",
     "output_type": "stream",
     "text": [
      "/home/naodell/opt/anaconda3/lib/python3.7/site-packages/numdifftools/limits.py:182: FutureWarning: arrays to stack must be passed as a \"sequence\" type such as list or tuple. Support for non-sequence iterables such as generators is deprecated as of NumPy 1.16 and will raise an error in the future.\n",
      "  f_del = np.vstack(list(np.ravel(r)) for r in sequence)\n",
      "/home/naodell/opt/anaconda3/lib/python3.7/site-packages/numdifftools/limits.py:184: FutureWarning: arrays to stack must be passed as a \"sequence\" type such as list or tuple. Support for non-sequence iterables such as generators is deprecated as of NumPy 1.16 and will raise an error in the future.\n",
      "  for step in steps)\n"
     ]
    },
    {
     "name": "stdout",
     "output_type": "stream",
     "text": [
      "1.0519446993571169 1.8444041892312144\n",
      "Warning: Desired error not necessarily achieved due to precision loss.\n",
      "         Current function value: 0.503206\n",
      "         Iterations: 38\n",
      "         Function evaluations: 105\n",
      "         Gradient evaluations: 94\n",
      "[-0.127 -0.012 -0.072  0.034] 0.5032059935177388\n",
      "0.948055300642883 1.8786938163239597\n",
      "Warning: Desired error not necessarily achieved due to precision loss.\n",
      "         Current function value: 0.496979\n",
      "         Iterations: 41\n",
      "         Function evaluations: 100\n",
      "         Gradient evaluations: 89\n",
      "[ 0.122  0.012  0.058 -0.031] 0.49697925253550773\n",
      "16 trigger_mu 1.0 0.005 1.0 0.0042781964638046 5.463594021648532e-10\n"
     ]
    },
    {
     "name": "stderr",
     "output_type": "stream",
     "text": [
      "/home/naodell/opt/anaconda3/lib/python3.7/site-packages/numdifftools/limits.py:182: FutureWarning: arrays to stack must be passed as a \"sequence\" type such as list or tuple. Support for non-sequence iterables such as generators is deprecated as of NumPy 1.16 and will raise an error in the future.\n",
      "  f_del = np.vstack(list(np.ravel(r)) for r in sequence)\n",
      "/home/naodell/opt/anaconda3/lib/python3.7/site-packages/numdifftools/limits.py:184: FutureWarning: arrays to stack must be passed as a \"sequence\" type such as list or tuple. Support for non-sequence iterables such as generators is deprecated as of NumPy 1.16 and will raise an error in the future.\n",
      "  for step in steps)\n"
     ]
    },
    {
     "name": "stdout",
     "output_type": "stream",
     "text": [
      "1.0042781964638046 10.728233624228213\n",
      "Optimization terminated successfully.\n",
      "         Current function value: 0.500011\n",
      "         Iterations: 46\n",
      "         Function evaluations: 66\n",
      "         Gradient evaluations: 66\n",
      "[ 0.12  -0.196  0.099 -0.004] 0.5000111393520874\n",
      "0.9957218035361954 10.77607220938703\n",
      "Warning: Desired error not necessarily achieved due to precision loss.\n",
      "         Current function value: 0.501611\n",
      "         Iterations: 46\n",
      "         Function evaluations: 138\n",
      "         Gradient evaluations: 128\n",
      "[-0.121  0.197 -0.101  0.004] 0.5016112309385966\n",
      "17 xs_zjets_alt_pdf 0.0 1.0 0.0 0.9650248092720101 5.463594021648532e-10\n"
     ]
    },
    {
     "name": "stderr",
     "output_type": "stream",
     "text": [
      "/home/naodell/opt/anaconda3/lib/python3.7/site-packages/numdifftools/limits.py:182: FutureWarning: arrays to stack must be passed as a \"sequence\" type such as list or tuple. Support for non-sequence iterables such as generators is deprecated as of NumPy 1.16 and will raise an error in the future.\n",
      "  f_del = np.vstack(list(np.ravel(r)) for r in sequence)\n",
      "/home/naodell/opt/anaconda3/lib/python3.7/site-packages/numdifftools/limits.py:184: FutureWarning: arrays to stack must be passed as a \"sequence\" type such as list or tuple. Support for non-sequence iterables such as generators is deprecated as of NumPy 1.16 and will raise an error in the future.\n",
      "  for step in steps)\n"
     ]
    },
    {
     "name": "stdout",
     "output_type": "stream",
     "text": [
      "0.9650248092720101 2.733621424006111\n",
      "Warning: Desired error not necessarily achieved due to precision loss.\n",
      "         Current function value: 0.498784\n",
      "         Iterations: 44\n",
      "         Function evaluations: 120\n",
      "         Gradient evaluations: 109\n",
      "[ 0.009 -0.017 -0.01   0.003] 0.4987844268490087\n",
      "-0.9650248092720101 2.762901757359196\n",
      "Warning: Desired error not necessarily achieved due to precision loss.\n",
      "         Current function value: 0.499766\n",
      "         Iterations: 47\n",
      "         Function evaluations: 198\n",
      "         Gradient evaluations: 186\n",
      "[-0.01   0.016  0.008 -0.002] 0.49976564782779026\n",
      "18 xs_zjets_alt_alpha_s 0.0 1.0 0.0 0.9083045319166696 5.463594021648532e-10\n"
     ]
    },
    {
     "name": "stderr",
     "output_type": "stream",
     "text": [
      "/home/naodell/opt/anaconda3/lib/python3.7/site-packages/numdifftools/limits.py:182: FutureWarning: arrays to stack must be passed as a \"sequence\" type such as list or tuple. Support for non-sequence iterables such as generators is deprecated as of NumPy 1.16 and will raise an error in the future.\n",
      "  f_del = np.vstack(list(np.ravel(r)) for r in sequence)\n",
      "/home/naodell/opt/anaconda3/lib/python3.7/site-packages/numdifftools/limits.py:184: FutureWarning: arrays to stack must be passed as a \"sequence\" type such as list or tuple. Support for non-sequence iterables such as generators is deprecated as of NumPy 1.16 and will raise an error in the future.\n",
      "  for step in steps)\n"
     ]
    },
    {
     "name": "stdout",
     "output_type": "stream",
     "text": [
      "0.9083045319166696 4.3313005876724\n",
      "Warning: Desired error not necessarily achieved due to precision loss.\n",
      "         Current function value: 0.503388\n",
      "         Iterations: 47\n",
      "         Function evaluations: 156\n",
      "         Gradient evaluations: 144\n",
      "[-0.007  0.045  0.084 -0.02 ] 0.5033878389099995\n",
      "-0.9083045319166696 4.272532782919406\n",
      "Warning: Desired error not necessarily achieved due to precision loss.\n",
      "         Current function value: 0.500785\n",
      "         Iterations: 45\n",
      "         Function evaluations: 123\n",
      "         Gradient evaluations: 111\n",
      "[ 0.006 -0.044 -0.084  0.02 ] 0.5007851388671706\n",
      "19 xs_zjets_alt_qcd_scale_0 0.0 1.0 0.0 0.5593719931298089 5.463594021648532e-10\n"
     ]
    },
    {
     "name": "stderr",
     "output_type": "stream",
     "text": [
      "/home/naodell/opt/anaconda3/lib/python3.7/site-packages/numdifftools/limits.py:182: FutureWarning: arrays to stack must be passed as a \"sequence\" type such as list or tuple. Support for non-sequence iterables such as generators is deprecated as of NumPy 1.16 and will raise an error in the future.\n",
      "  f_del = np.vstack(list(np.ravel(r)) for r in sequence)\n",
      "/home/naodell/opt/anaconda3/lib/python3.7/site-packages/numdifftools/limits.py:184: FutureWarning: arrays to stack must be passed as a \"sequence\" type such as list or tuple. Support for non-sequence iterables such as generators is deprecated as of NumPy 1.16 and will raise an error in the future.\n",
      "  for step in steps)\n"
     ]
    },
    {
     "name": "stdout",
     "output_type": "stream",
     "text": [
      "0.5593719931298089 6.587974383245717\n",
      "Warning: Desired error not necessarily achieved due to precision loss.\n",
      "         Current function value: 0.436982\n",
      "         Iterations: 41\n",
      "         Function evaluations: 105\n",
      "         Gradient evaluations: 95\n",
      "[ 0.122  0.061  0.376 -0.089] 0.4369817573648188\n",
      "-0.5593719931298089 10.029113488064958\n",
      "Warning: Desired error not necessarily achieved due to precision loss.\n",
      "         Current function value: 0.575717\n",
      "         Iterations: 42\n",
      "         Function evaluations: 95\n",
      "         Gradient evaluations: 85\n",
      "[-0.161 -0.079 -0.418  0.105] 0.5757170775654868\n",
      "20 xs_zjets_alt_qcd_scale_1 0.0 1.0 0.0 0.5222296730103326 5.463594021648532e-10\n"
     ]
    },
    {
     "name": "stderr",
     "output_type": "stream",
     "text": [
      "/home/naodell/opt/anaconda3/lib/python3.7/site-packages/numdifftools/limits.py:182: FutureWarning: arrays to stack must be passed as a \"sequence\" type such as list or tuple. Support for non-sequence iterables such as generators is deprecated as of NumPy 1.16 and will raise an error in the future.\n",
      "  f_del = np.vstack(list(np.ravel(r)) for r in sequence)\n",
      "/home/naodell/opt/anaconda3/lib/python3.7/site-packages/numdifftools/limits.py:184: FutureWarning: arrays to stack must be passed as a \"sequence\" type such as list or tuple. Support for non-sequence iterables such as generators is deprecated as of NumPy 1.16 and will raise an error in the future.\n",
      "  for step in steps)\n"
     ]
    },
    {
     "name": "stdout",
     "output_type": "stream",
     "text": [
      "0.5222296730103326 1.4036606011931572\n",
      "Warning: Desired error not necessarily achieved due to precision loss.\n",
      "         Current function value: 0.496668\n",
      "         Iterations: 39\n",
      "         Function evaluations: 133\n",
      "         Gradient evaluations: 123\n",
      "[ 0.003 -0.022 -0.108  0.02 ] 0.4966681860028973\n",
      "-0.5222296730103326 1.5195273178730535\n",
      "Warning: Desired error not necessarily achieved due to precision loss.\n",
      "         Current function value: 0.505868\n",
      "         Iterations: 44\n",
      "         Function evaluations: 139\n",
      "         Gradient evaluations: 131\n",
      "[-0.015  0.021  0.103 -0.017] 0.5058681696895961\n",
      "21 xs_zjets_alt_qcd_scale_2 0.0 1.0 0.0 0.3681275798083865 5.463594021648532e-10\n"
     ]
    },
    {
     "name": "stderr",
     "output_type": "stream",
     "text": [
      "/home/naodell/opt/anaconda3/lib/python3.7/site-packages/numdifftools/limits.py:182: FutureWarning: arrays to stack must be passed as a \"sequence\" type such as list or tuple. Support for non-sequence iterables such as generators is deprecated as of NumPy 1.16 and will raise an error in the future.\n",
      "  f_del = np.vstack(list(np.ravel(r)) for r in sequence)\n",
      "/home/naodell/opt/anaconda3/lib/python3.7/site-packages/numdifftools/limits.py:184: FutureWarning: arrays to stack must be passed as a \"sequence\" type such as list or tuple. Support for non-sequence iterables such as generators is deprecated as of NumPy 1.16 and will raise an error in the future.\n",
      "  for step in steps)\n"
     ]
    },
    {
     "name": "stdout",
     "output_type": "stream",
     "text": [
      "0.3681275798083865 1.4182709243195102\n",
      "Warning: Desired error not necessarily achieved due to precision loss.\n",
      "         Current function value: 0.497786\n",
      "         Iterations: 40\n",
      "         Function evaluations: 84\n",
      "         Gradient evaluations: 74\n",
      "[-0.174 -0.219 -0.121  0.082] 0.49778643780644066\n",
      "-0.3681275798083865 1.563623563320745\n",
      "Warning: Desired error not necessarily achieved due to precision loss.\n",
      "         Current function value: 0.509652\n",
      "         Iterations: 40\n",
      "         Function evaluations: 94\n",
      "         Gradient evaluations: 83\n",
      "[ 0.175  0.228  0.125 -0.084] 0.5096524851952291\n",
      "22 xs_ttbar_pdf 0.0 1.0 0.0 0.9793468908181197 5.463594021648532e-10\n"
     ]
    },
    {
     "name": "stderr",
     "output_type": "stream",
     "text": [
      "/home/naodell/opt/anaconda3/lib/python3.7/site-packages/numdifftools/limits.py:182: FutureWarning: arrays to stack must be passed as a \"sequence\" type such as list or tuple. Support for non-sequence iterables such as generators is deprecated as of NumPy 1.16 and will raise an error in the future.\n",
      "  f_del = np.vstack(list(np.ravel(r)) for r in sequence)\n",
      "/home/naodell/opt/anaconda3/lib/python3.7/site-packages/numdifftools/limits.py:184: FutureWarning: arrays to stack must be passed as a \"sequence\" type such as list or tuple. Support for non-sequence iterables such as generators is deprecated as of NumPy 1.16 and will raise an error in the future.\n",
      "  for step in steps)\n"
     ]
    },
    {
     "name": "stdout",
     "output_type": "stream",
     "text": [
      "0.9793468908181197 59.71740872114743\n",
      "Warning: Desired error not necessarily achieved due to precision loss.\n",
      "         Current function value: 0.498576\n",
      "         Iterations: 56\n",
      "         Function evaluations: 146\n",
      "         Gradient evaluations: 135\n",
      "[ 0.003  0.004  0.022 -0.005] 0.49857633984034144\n",
      "-0.9793468908181197 60.2442611686362\n",
      "Warning: Desired error not necessarily achieved due to precision loss.\n",
      "         Current function value: 0.499692\n",
      "         Iterations: 51\n",
      "         Function evaluations: 160\n",
      "         Gradient evaluations: 148\n",
      "[-0.002 -0.003 -0.021  0.004] 0.499692113813402\n",
      "23 xs_ttbar_alpha_s 0.0 1.0 0.0 0.9807176436881369 5.463594021648532e-10\n"
     ]
    },
    {
     "name": "stderr",
     "output_type": "stream",
     "text": [
      "/home/naodell/opt/anaconda3/lib/python3.7/site-packages/numdifftools/limits.py:182: FutureWarning: arrays to stack must be passed as a \"sequence\" type such as list or tuple. Support for non-sequence iterables such as generators is deprecated as of NumPy 1.16 and will raise an error in the future.\n",
      "  f_del = np.vstack(list(np.ravel(r)) for r in sequence)\n",
      "/home/naodell/opt/anaconda3/lib/python3.7/site-packages/numdifftools/limits.py:184: FutureWarning: arrays to stack must be passed as a \"sequence\" type such as list or tuple. Support for non-sequence iterables such as generators is deprecated as of NumPy 1.16 and will raise an error in the future.\n",
      "  for step in steps)\n"
     ]
    },
    {
     "name": "stdout",
     "output_type": "stream",
     "text": [
      "0.9807176436881369 105.14234899675648\n",
      "Warning: Desired error not necessarily achieved due to precision loss.\n",
      "         Current function value: 0.500742\n",
      "         Iterations: 54\n",
      "         Function evaluations: 151\n",
      "         Gradient evaluations: 140\n",
      "[-0.01  -0.007 -0.039  0.009] 0.5007420849722027\n",
      "-0.9807176436881369 103.92805644158099\n",
      "Warning: Desired error not necessarily achieved due to precision loss.\n",
      "         Current function value: 0.499069\n",
      "         Iterations: 56\n",
      "         Function evaluations: 143\n",
      "         Gradient evaluations: 132\n",
      "[ 0.011  0.008  0.039 -0.009] 0.4990693281229185\n",
      "24 xs_ttbar_qcd_scale 0.0 1.0 0.0 0.2186935525346024 5.463594021648532e-10\n"
     ]
    },
    {
     "name": "stderr",
     "output_type": "stream",
     "text": [
      "/home/naodell/opt/anaconda3/lib/python3.7/site-packages/numdifftools/limits.py:182: FutureWarning: arrays to stack must be passed as a \"sequence\" type such as list or tuple. Support for non-sequence iterables such as generators is deprecated as of NumPy 1.16 and will raise an error in the future.\n",
      "  f_del = np.vstack(list(np.ravel(r)) for r in sequence)\n",
      "/home/naodell/opt/anaconda3/lib/python3.7/site-packages/numdifftools/limits.py:184: FutureWarning: arrays to stack must be passed as a \"sequence\" type such as list or tuple. Support for non-sequence iterables such as generators is deprecated as of NumPy 1.16 and will raise an error in the future.\n",
      "  for step in steps)\n"
     ]
    },
    {
     "name": "stdout",
     "output_type": "stream",
     "text": [
      "0.2186935525346024 545.1410742207158\n",
      "Warning: Desired error not necessarily achieved due to precision loss.\n",
      "         Current function value: 0.515654\n",
      "         Iterations: 58\n",
      "         Function evaluations: 149\n",
      "         Gradient evaluations: 137\n",
      "[-0.25  -0.233 -0.304  0.126] 0.5156540894035768\n",
      "-0.2186935525346024 536.0520110434613\n",
      "Optimization terminated successfully.\n",
      "         Current function value: 0.490831\n",
      "         Iterations: 57\n",
      "         Function evaluations: 105\n",
      "         Gradient evaluations: 104\n",
      "[ 0.24   0.231  0.284 -0.12 ] 0.49083096311330654\n",
      "25 eff_tau_0 0.0 1.0 0.0 0.4795643965278637 5.463594021648532e-10\n"
     ]
    },
    {
     "name": "stderr",
     "output_type": "stream",
     "text": [
      "/home/naodell/opt/anaconda3/lib/python3.7/site-packages/numdifftools/limits.py:182: FutureWarning: arrays to stack must be passed as a \"sequence\" type such as list or tuple. Support for non-sequence iterables such as generators is deprecated as of NumPy 1.16 and will raise an error in the future.\n",
      "  f_del = np.vstack(list(np.ravel(r)) for r in sequence)\n",
      "/home/naodell/opt/anaconda3/lib/python3.7/site-packages/numdifftools/limits.py:184: FutureWarning: arrays to stack must be passed as a \"sequence\" type such as list or tuple. Support for non-sequence iterables such as generators is deprecated as of NumPy 1.16 and will raise an error in the future.\n",
      "  for step in steps)\n"
     ]
    },
    {
     "name": "stdout",
     "output_type": "stream",
     "text": [
      "0.4795643965278637 1.9277027684211514\n",
      "Warning: Desired error not necessarily achieved due to precision loss.\n",
      "         Current function value: 0.500265\n",
      "         Iterations: 42\n",
      "         Function evaluations: 118\n",
      "         Gradient evaluations: 106\n",
      "[ 0.02   0.039 -0.23   0.027] 0.5002647630704282\n",
      "-0.4795643965278637 1.9771063009957144\n",
      "Warning: Desired error not necessarily achieved due to precision loss.\n",
      "         Current function value: 0.499606\n",
      "         Iterations: 47\n",
      "         Function evaluations: 92\n",
      "         Gradient evaluations: 81\n",
      "[-0.026 -0.04   0.221 -0.025] 0.4996061759321274\n",
      "26 eff_tau_1 0.0 1.0 0.0 0.3866349590981934 5.463594021648532e-10\n"
     ]
    },
    {
     "name": "stderr",
     "output_type": "stream",
     "text": [
      "/home/naodell/opt/anaconda3/lib/python3.7/site-packages/numdifftools/limits.py:182: FutureWarning: arrays to stack must be passed as a \"sequence\" type such as list or tuple. Support for non-sequence iterables such as generators is deprecated as of NumPy 1.16 and will raise an error in the future.\n",
      "  f_del = np.vstack(list(np.ravel(r)) for r in sequence)\n",
      "/home/naodell/opt/anaconda3/lib/python3.7/site-packages/numdifftools/limits.py:184: FutureWarning: arrays to stack must be passed as a \"sequence\" type such as list or tuple. Support for non-sequence iterables such as generators is deprecated as of NumPy 1.16 and will raise an error in the future.\n",
      "  for step in steps)\n"
     ]
    },
    {
     "name": "stdout",
     "output_type": "stream",
     "text": [
      "0.3866349590981934 1.371973681902931\n",
      "Optimization terminated successfully.\n",
      "         Current function value: 0.498591\n",
      "         Iterations: 47\n",
      "         Function evaluations: 64\n",
      "         Gradient evaluations: 64\n",
      "[-0.033  0.047 -0.247  0.037] 0.49859068408840895\n",
      "-0.3866349590981934 1.403847991865257\n",
      "Warning: Desired error not necessarily achieved due to precision loss.\n",
      "         Current function value: 0.501236\n",
      "         Iterations: 47\n",
      "         Function evaluations: 168\n",
      "         Gradient evaluations: 154\n",
      "[ 0.029 -0.047  0.25  -0.037] 0.5012358479037003\n",
      "27 eff_tau_2 0.0 1.0 0.0 0.2929192270853551 5.463594021648532e-10\n"
     ]
    },
    {
     "name": "stderr",
     "output_type": "stream",
     "text": [
      "/home/naodell/opt/anaconda3/lib/python3.7/site-packages/numdifftools/limits.py:182: FutureWarning: arrays to stack must be passed as a \"sequence\" type such as list or tuple. Support for non-sequence iterables such as generators is deprecated as of NumPy 1.16 and will raise an error in the future.\n",
      "  f_del = np.vstack(list(np.ravel(r)) for r in sequence)\n",
      "/home/naodell/opt/anaconda3/lib/python3.7/site-packages/numdifftools/limits.py:184: FutureWarning: arrays to stack must be passed as a \"sequence\" type such as list or tuple. Support for non-sequence iterables such as generators is deprecated as of NumPy 1.16 and will raise an error in the future.\n",
      "  for step in steps)\n"
     ]
    },
    {
     "name": "stdout",
     "output_type": "stream",
     "text": [
      "0.2929192270853551 1.733263065059996\n",
      "Warning: Desired error not necessarily achieved due to precision loss.\n",
      "         Current function value: 0.496714\n",
      "         Iterations: 40\n",
      "         Function evaluations: 110\n",
      "         Gradient evaluations: 99\n",
      "[-0.054  0.061 -0.481  0.076] 0.49671418743245516\n",
      "-0.2929192270853551 1.7675550516702656\n",
      "Warning: Desired error not necessarily achieved due to precision loss.\n",
      "         Current function value: 0.501099\n",
      "         Iterations: 44\n",
      "         Function evaluations: 149\n",
      "         Gradient evaluations: 137\n",
      "[ 0.052 -0.063  0.497 -0.078] 0.5010991074702228\n",
      "28 eff_tau_3 0.0 1.0 0.0 0.3867955377134654 5.463594021648532e-10\n"
     ]
    },
    {
     "name": "stderr",
     "output_type": "stream",
     "text": [
      "/home/naodell/opt/anaconda3/lib/python3.7/site-packages/numdifftools/limits.py:182: FutureWarning: arrays to stack must be passed as a \"sequence\" type such as list or tuple. Support for non-sequence iterables such as generators is deprecated as of NumPy 1.16 and will raise an error in the future.\n",
      "  f_del = np.vstack(list(np.ravel(r)) for r in sequence)\n",
      "/home/naodell/opt/anaconda3/lib/python3.7/site-packages/numdifftools/limits.py:184: FutureWarning: arrays to stack must be passed as a \"sequence\" type such as list or tuple. Support for non-sequence iterables such as generators is deprecated as of NumPy 1.16 and will raise an error in the future.\n",
      "  for step in steps)\n"
     ]
    },
    {
     "name": "stdout",
     "output_type": "stream",
     "text": [
      "0.3867955377134654 1.3808112554611178\n",
      "Warning: Desired error not necessarily achieved due to precision loss.\n",
      "         Current function value: 0.485837\n",
      "         Iterations: 40\n",
      "         Function evaluations: 93\n",
      "         Gradient evaluations: 83\n",
      "[ 0.015  0.077 -0.492  0.064] 0.4858372439947049\n",
      "-0.3867955377134654 1.413628928905186\n",
      "Warning: Desired error not necessarily achieved due to precision loss.\n",
      "         Current function value: 0.512319\n",
      "         Iterations: 45\n",
      "         Function evaluations: 85\n",
      "         Gradient evaluations: 75\n",
      "[-0.017 -0.083  0.505 -0.065] 0.5123185951825563\n",
      "29 eff_tau_4 0.0 1.0 0.0 0.492769526713481 5.463594021648532e-10\n"
     ]
    },
    {
     "name": "stderr",
     "output_type": "stream",
     "text": [
      "/home/naodell/opt/anaconda3/lib/python3.7/site-packages/numdifftools/limits.py:182: FutureWarning: arrays to stack must be passed as a \"sequence\" type such as list or tuple. Support for non-sequence iterables such as generators is deprecated as of NumPy 1.16 and will raise an error in the future.\n",
      "  f_del = np.vstack(list(np.ravel(r)) for r in sequence)\n",
      "/home/naodell/opt/anaconda3/lib/python3.7/site-packages/numdifftools/limits.py:184: FutureWarning: arrays to stack must be passed as a \"sequence\" type such as list or tuple. Support for non-sequence iterables such as generators is deprecated as of NumPy 1.16 and will raise an error in the future.\n",
      "  for step in steps)\n"
     ]
    },
    {
     "name": "stdout",
     "output_type": "stream",
     "text": [
      "0.492769526713481 0.9476938736782772\n",
      "Warning: Desired error not necessarily achieved due to precision loss.\n",
      "         Current function value: 0.496320\n",
      "         Iterations: 45\n",
      "         Function evaluations: 90\n",
      "         Gradient evaluations: 80\n",
      "[ 0.05   0.078 -0.614  0.078] 0.4963202790058738\n",
      "-0.492769526713481 0.9645894877629781\n",
      "Warning: Desired error not necessarily achieved due to precision loss.\n",
      "         Current function value: 0.504064\n",
      "         Iterations: 40\n",
      "         Function evaluations: 177\n",
      "         Gradient evaluations: 165\n",
      "[-0.059 -0.083  0.599 -0.073] 0.5040641991840992\n",
      "30 eff_tau_5 0.0 1.0 0.0 0.4435296805869083 5.463594021648532e-10\n"
     ]
    },
    {
     "name": "stderr",
     "output_type": "stream",
     "text": [
      "/home/naodell/opt/anaconda3/lib/python3.7/site-packages/numdifftools/limits.py:182: FutureWarning: arrays to stack must be passed as a \"sequence\" type such as list or tuple. Support for non-sequence iterables such as generators is deprecated as of NumPy 1.16 and will raise an error in the future.\n",
      "  f_del = np.vstack(list(np.ravel(r)) for r in sequence)\n",
      "/home/naodell/opt/anaconda3/lib/python3.7/site-packages/numdifftools/limits.py:184: FutureWarning: arrays to stack must be passed as a \"sequence\" type such as list or tuple. Support for non-sequence iterables such as generators is deprecated as of NumPy 1.16 and will raise an error in the future.\n",
      "  for step in steps)\n"
     ]
    },
    {
     "name": "stdout",
     "output_type": "stream",
     "text": [
      "0.4435296805869083 1.095809019209111\n",
      "Warning: Desired error not necessarily achieved due to precision loss.\n",
      "         Current function value: 0.494621\n",
      "         Iterations: 41\n",
      "         Function evaluations: 84\n",
      "         Gradient evaluations: 73\n",
      "[ 0.048  0.096 -0.8    0.105] 0.49462133538651304\n",
      "-0.4435296805869083 1.1159448818449234\n",
      "Warning: Desired error not necessarily achieved due to precision loss.\n",
      "         Current function value: 0.505929\n",
      "         Iterations: 46\n",
      "         Function evaluations: 124\n",
      "         Gradient evaluations: 112\n",
      "[-0.058 -0.102  0.794 -0.101] 0.5059293975132876\n",
      "31 misid_tau_e 0.0 1.0 0.0 0.9964199211327356 5.463594021648532e-10\n"
     ]
    },
    {
     "name": "stderr",
     "output_type": "stream",
     "text": [
      "/home/naodell/opt/anaconda3/lib/python3.7/site-packages/numdifftools/limits.py:182: FutureWarning: arrays to stack must be passed as a \"sequence\" type such as list or tuple. Support for non-sequence iterables such as generators is deprecated as of NumPy 1.16 and will raise an error in the future.\n",
      "  f_del = np.vstack(list(np.ravel(r)) for r in sequence)\n",
      "/home/naodell/opt/anaconda3/lib/python3.7/site-packages/numdifftools/limits.py:184: FutureWarning: arrays to stack must be passed as a \"sequence\" type such as list or tuple. Support for non-sequence iterables such as generators is deprecated as of NumPy 1.16 and will raise an error in the future.\n",
      "  for step in steps)\n"
     ]
    },
    {
     "name": "stdout",
     "output_type": "stream",
     "text": [
      "0.9964199211327356 0.5184768655103007\n",
      "Optimization terminated successfully.\n",
      "         Current function value: 0.500020\n",
      "         Iterations: 42\n",
      "         Function evaluations: 63\n",
      "         Gradient evaluations: 63\n",
      "[ 0.023  0.021 -0.066  0.003] 0.500019781705017\n",
      "-0.9964199211327356 0.5185117247011825\n",
      "Optimization terminated successfully.\n",
      "         Current function value: 0.500017\n",
      "         Iterations: 41\n",
      "         Function evaluations: 60\n",
      "         Gradient evaluations: 60\n",
      "[-0.023 -0.022  0.065 -0.003] 0.5000173019863389\n",
      "32 misid_tau_h 0.0 1.0 0.0 0.5725721740075336 5.463594021648532e-10\n",
      "0.5725721740075336 3.354299042981094\n",
      "Warning: Desired error not necessarily achieved due to precision loss.\n",
      "         Current function value: 0.500050\n",
      "         Iterations: 45\n",
      "         Function evaluations: 137\n",
      "         Gradient evaluations: 125\n",
      "[ 0.08   0.073 -0.423  0.043] 0.5000496508566755\n",
      "-0.5725721740075336 3.4142629661041672\n",
      "Warning: Desired error not necessarily achieved due to precision loss.\n",
      "         Current function value: 0.500424\n",
      "         Iterations: 43\n",
      "         Function evaluations: 152\n",
      "         Gradient evaluations: 140\n",
      "[-0.081 -0.072  0.421 -0.043] 0.5004240453819631\n",
      "33 misid_tau_0 0.0 1.0 0.0 0.6040474239455881 5.463594021648532e-10\n"
     ]
    },
    {
     "name": "stderr",
     "output_type": "stream",
     "text": [
      "/home/naodell/opt/anaconda3/lib/python3.7/site-packages/numdifftools/limits.py:182: FutureWarning: arrays to stack must be passed as a \"sequence\" type such as list or tuple. Support for non-sequence iterables such as generators is deprecated as of NumPy 1.16 and will raise an error in the future.\n",
      "  f_del = np.vstack(list(np.ravel(r)) for r in sequence)\n",
      "/home/naodell/opt/anaconda3/lib/python3.7/site-packages/numdifftools/limits.py:184: FutureWarning: arrays to stack must be passed as a \"sequence\" type such as list or tuple. Support for non-sequence iterables such as generators is deprecated as of NumPy 1.16 and will raise an error in the future.\n",
      "  for step in steps)\n"
     ]
    },
    {
     "name": "stdout",
     "output_type": "stream",
     "text": [
      "0.6040474239455881 1.8940400541350557\n",
      "Warning: Desired error not necessarily achieved due to precision loss.\n",
      "         Current function value: 0.499167\n",
      "         Iterations: 40\n",
      "         Function evaluations: 94\n",
      "         Gradient evaluations: 84\n",
      "[-0.036 -0.016  0.065 -0.002] 0.49916728607080946\n",
      "-0.6040474239455881 1.9381461725664497\n",
      "Warning: Desired error not necessarily achieved due to precision loss.\n",
      "         Current function value: 0.500844\n",
      "         Iterations: 41\n",
      "         Function evaluations: 90\n",
      "         Gradient evaluations: 79\n",
      "[ 0.034  0.016 -0.061  0.002] 0.5008443204935838\n",
      "34 misid_tau_1 0.0 1.0 0.0 0.7367594170330056 5.463594021648532e-10\n"
     ]
    },
    {
     "name": "stderr",
     "output_type": "stream",
     "text": [
      "/home/naodell/opt/anaconda3/lib/python3.7/site-packages/numdifftools/limits.py:182: FutureWarning: arrays to stack must be passed as a \"sequence\" type such as list or tuple. Support for non-sequence iterables such as generators is deprecated as of NumPy 1.16 and will raise an error in the future.\n",
      "  f_del = np.vstack(list(np.ravel(r)) for r in sequence)\n",
      "/home/naodell/opt/anaconda3/lib/python3.7/site-packages/numdifftools/limits.py:184: FutureWarning: arrays to stack must be passed as a \"sequence\" type such as list or tuple. Support for non-sequence iterables such as generators is deprecated as of NumPy 1.16 and will raise an error in the future.\n",
      "  for step in steps)\n"
     ]
    },
    {
     "name": "stdout",
     "output_type": "stream",
     "text": [
      "0.7367594170330056 1.1115091421716157\n",
      "Warning: Desired error not necessarily achieved due to precision loss.\n",
      "         Current function value: 0.499274\n",
      "         Iterations: 40\n",
      "         Function evaluations: 140\n",
      "         Gradient evaluations: 128\n",
      "[ 0.01   0.004 -0.031  0.003] 0.49927430843629944\n",
      "-0.7367594170330056 1.1298414228311224\n",
      "Warning: Desired error not necessarily achieved due to precision loss.\n",
      "         Current function value: 0.500773\n",
      "         Iterations: 43\n",
      "         Function evaluations: 87\n",
      "         Gradient evaluations: 77\n",
      "[-0.012 -0.005  0.034 -0.003] 0.5007732161895325\n",
      "35 misid_tau_2 0.0 1.0 0.0 0.757709283344861 5.463594021648532e-10\n"
     ]
    },
    {
     "name": "stderr",
     "output_type": "stream",
     "text": [
      "/home/naodell/opt/anaconda3/lib/python3.7/site-packages/numdifftools/limits.py:182: FutureWarning: arrays to stack must be passed as a \"sequence\" type such as list or tuple. Support for non-sequence iterables such as generators is deprecated as of NumPy 1.16 and will raise an error in the future.\n",
      "  f_del = np.vstack(list(np.ravel(r)) for r in sequence)\n",
      "/home/naodell/opt/anaconda3/lib/python3.7/site-packages/numdifftools/limits.py:184: FutureWarning: arrays to stack must be passed as a \"sequence\" type such as list or tuple. Support for non-sequence iterables such as generators is deprecated as of NumPy 1.16 and will raise an error in the future.\n",
      "  for step in steps)\n"
     ]
    },
    {
     "name": "stdout",
     "output_type": "stream",
     "text": [
      "0.757709283344861 0.9788414719085936\n",
      "Optimization terminated successfully.\n",
      "         Current function value: 0.499731\n",
      "         Iterations: 43\n",
      "         Function evaluations: 62\n",
      "         Gradient evaluations: 62\n",
      "[ 0.046  0.024 -0.105  0.006] 0.4997307417841099\n",
      "-0.757709283344861 0.990381068382507\n",
      "Optimization terminated successfully.\n",
      "         Current function value: 0.500475\n",
      "         Iterations: 45\n",
      "         Function evaluations: 65\n",
      "         Gradient evaluations: 65\n",
      "[-0.047 -0.025  0.108 -0.006] 0.5004745459394024\n",
      "36 misid_tau_3 0.0 1.0 0.0 0.8920009108393412 5.463594021648532e-10\n",
      "0.8920009108393412 0.6560179163927161\n",
      "Warning: Desired error not necessarily achieved due to precision loss.\n",
      "         Current function value: 0.499806\n",
      "         Iterations: 39\n",
      "         Function evaluations: 81\n",
      "         Gradient evaluations: 70\n",
      "[ 0.012  0.011 -0.11   0.014] 0.4998061723905693\n",
      "-0.8920009108393412 0.6599498376993521\n",
      "Warning: Desired error not necessarily achieved due to precision loss.\n",
      "         Current function value: 0.500212\n",
      "         Iterations: 41\n",
      "         Function evaluations: 192\n",
      "         Gradient evaluations: 179\n",
      "[-0.012 -0.012  0.111 -0.014] 0.5002121965155344\n",
      "37 misid_tau_4 0.0 1.0 0.0 0.9414644880812436 5.463594021648532e-10\n"
     ]
    },
    {
     "name": "stderr",
     "output_type": "stream",
     "text": [
      "/home/naodell/opt/anaconda3/lib/python3.7/site-packages/numdifftools/limits.py:182: FutureWarning: arrays to stack must be passed as a \"sequence\" type such as list or tuple. Support for non-sequence iterables such as generators is deprecated as of NumPy 1.16 and will raise an error in the future.\n",
      "  f_del = np.vstack(list(np.ravel(r)) for r in sequence)\n",
      "/home/naodell/opt/anaconda3/lib/python3.7/site-packages/numdifftools/limits.py:184: FutureWarning: arrays to stack must be passed as a \"sequence\" type such as list or tuple. Support for non-sequence iterables such as generators is deprecated as of NumPy 1.16 and will raise an error in the future.\n",
      "  for step in steps)\n"
     ]
    },
    {
     "name": "stdout",
     "output_type": "stream",
     "text": [
      "0.9414644880812436 0.6427707333947712\n",
      "Optimization terminated successfully.\n",
      "         Current function value: 0.499914\n",
      "         Iterations: 46\n",
      "         Function evaluations: 65\n",
      "         Gradient evaluations: 65\n",
      "[-0.006  0.002 -0.039  0.007] 0.4999143492417437\n",
      "-0.9414644880812436 0.6456498763215119\n",
      "Optimization terminated successfully.\n",
      "         Current function value: 0.500190\n",
      "         Iterations: 41\n",
      "         Function evaluations: 62\n",
      "         Gradient evaluations: 62\n",
      "[ 0.006 -0.002  0.039 -0.007] 0.5001899378829016\n",
      "38 misid_tau_5 0.0 1.0 0.0 0.9524442551130816 5.463594021648532e-10\n",
      "0.9524442551130816 0.6408723139371046\n",
      "Warning: Desired error not necessarily achieved due to precision loss.\n",
      "         Current function value: 0.499960\n",
      "         Iterations: 40\n",
      "         Function evaluations: 111\n",
      "         Gradient evaluations: 101\n",
      "[ 0.008  0.009  0.003 -0.003] 0.49995975837744555\n",
      "-0.9524442551130816 0.6435725828276941\n",
      "Optimization terminated successfully.\n",
      "         Current function value: 0.500149\n",
      "         Iterations: 45\n",
      "         Function evaluations: 109\n",
      "         Gradient evaluations: 108\n",
      "[-0.008 -0.009 -0.004  0.003] 0.50014877072704\n",
      "39 escale_tau_0 0.0 1.0 0.0 0.9456900929082228 5.463594021648532e-10\n"
     ]
    },
    {
     "name": "stderr",
     "output_type": "stream",
     "text": [
      "/home/naodell/opt/anaconda3/lib/python3.7/site-packages/numdifftools/limits.py:182: FutureWarning: arrays to stack must be passed as a \"sequence\" type such as list or tuple. Support for non-sequence iterables such as generators is deprecated as of NumPy 1.16 and will raise an error in the future.\n",
      "  f_del = np.vstack(list(np.ravel(r)) for r in sequence)\n",
      "/home/naodell/opt/anaconda3/lib/python3.7/site-packages/numdifftools/limits.py:184: FutureWarning: arrays to stack must be passed as a \"sequence\" type such as list or tuple. Support for non-sequence iterables such as generators is deprecated as of NumPy 1.16 and will raise an error in the future.\n",
      "  for step in steps)\n"
     ]
    },
    {
     "name": "stdout",
     "output_type": "stream",
     "text": [
      "0.9456900929082228 1.177164171334649\n",
      "Optimization terminated successfully.\n",
      "         Current function value: 0.602156\n",
      "         Iterations: 46\n",
      "         Function evaluations: 66\n",
      "         Gradient evaluations: 66\n",
      "[-0.009 -0.001  0.045 -0.006] 0.6021559611505192\n",
      "-0.9456900929082228 0.769864699705535\n",
      "Warning: Desired error not necessarily achieved due to precision loss.\n",
      "         Current function value: 0.487831\n",
      "         Iterations: 42\n",
      "         Function evaluations: 138\n",
      "         Gradient evaluations: 127\n",
      "[ 0.013 -0.001 -0.044  0.005] 0.4878311111554885\n",
      "40 escale_tau_1 0.0 1.0 0.0 0.6964634178102616 5.463594021648532e-10\n"
     ]
    },
    {
     "name": "stderr",
     "output_type": "stream",
     "text": [
      "/home/naodell/opt/anaconda3/lib/python3.7/site-packages/numdifftools/limits.py:182: FutureWarning: arrays to stack must be passed as a \"sequence\" type such as list or tuple. Support for non-sequence iterables such as generators is deprecated as of NumPy 1.16 and will raise an error in the future.\n",
      "  f_del = np.vstack(list(np.ravel(r)) for r in sequence)\n",
      "/home/naodell/opt/anaconda3/lib/python3.7/site-packages/numdifftools/limits.py:184: FutureWarning: arrays to stack must be passed as a \"sequence\" type such as list or tuple. Support for non-sequence iterables such as generators is deprecated as of NumPy 1.16 and will raise an error in the future.\n",
      "  for step in steps)\n"
     ]
    },
    {
     "name": "stdout",
     "output_type": "stream",
     "text": [
      "0.6964634178102616 2.8091440249150215\n",
      "Warning: Desired error not necessarily achieved due to precision loss.\n",
      "         Current function value: 0.832319\n",
      "         Iterations: 42\n",
      "         Function evaluations: 83\n",
      "         Gradient evaluations: 73\n",
      "[-0.023 -0.011  0.108 -0.012] 0.8323186741379376\n",
      "-0.6964634178102616 1.6806621013314134\n",
      "Warning: Desired error not necessarily achieved due to precision loss.\n",
      "         Current function value: 0.402902\n",
      "         Iterations: 44\n",
      "         Function evaluations: 86\n",
      "         Gradient evaluations: 76\n",
      "[ 0.014  0.004 -0.056  0.006] 0.40290177331440086\n",
      "41 escale_tau_10 0.0 1.0 0.0 0.8482725573492711 5.463594021648532e-10\n"
     ]
    },
    {
     "name": "stderr",
     "output_type": "stream",
     "text": [
      "/home/naodell/opt/anaconda3/lib/python3.7/site-packages/numdifftools/limits.py:182: FutureWarning: arrays to stack must be passed as a \"sequence\" type such as list or tuple. Support for non-sequence iterables such as generators is deprecated as of NumPy 1.16 and will raise an error in the future.\n",
      "  f_del = np.vstack(list(np.ravel(r)) for r in sequence)\n",
      "/home/naodell/opt/anaconda3/lib/python3.7/site-packages/numdifftools/limits.py:184: FutureWarning: arrays to stack must be passed as a \"sequence\" type such as list or tuple. Support for non-sequence iterables such as generators is deprecated as of NumPy 1.16 and will raise an error in the future.\n",
      "  for step in steps)\n"
     ]
    },
    {
     "name": "stdout",
     "output_type": "stream",
     "text": [
      "0.8482725573492711 2.2971620621917666\n",
      "Warning: Desired error not necessarily achieved due to precision loss.\n",
      "         Current function value: 0.740859\n",
      "         Iterations: 46\n",
      "         Function evaluations: 169\n",
      "         Gradient evaluations: 157\n",
      "[-0.029 -0.024  0.16  -0.017] 0.7408588812793127\n",
      "-0.8482725573492711 1.2691852455134944\n",
      "Warning: Desired error not necessarily achieved due to precision loss.\n",
      "         Current function value: 0.454097\n",
      "         Iterations: 40\n",
      "         Function evaluations: 119\n",
      "         Gradient evaluations: 108\n",
      "[ 0.025  0.014 -0.096  0.009] 0.4540972069765946\n",
      "42 eff_reco_e 0.0 1.0 0.0 0.9435846860144425 5.463594021648532e-10\n"
     ]
    },
    {
     "name": "stderr",
     "output_type": "stream",
     "text": [
      "/home/naodell/opt/anaconda3/lib/python3.7/site-packages/numdifftools/limits.py:182: FutureWarning: arrays to stack must be passed as a \"sequence\" type such as list or tuple. Support for non-sequence iterables such as generators is deprecated as of NumPy 1.16 and will raise an error in the future.\n",
      "  f_del = np.vstack(list(np.ravel(r)) for r in sequence)\n",
      "/home/naodell/opt/anaconda3/lib/python3.7/site-packages/numdifftools/limits.py:184: FutureWarning: arrays to stack must be passed as a \"sequence\" type such as list or tuple. Support for non-sequence iterables such as generators is deprecated as of NumPy 1.16 and will raise an error in the future.\n",
      "  for step in steps)\n"
     ]
    },
    {
     "name": "stdout",
     "output_type": "stream",
     "text": [
      "0.9435846860144425 12.45190874700222\n",
      "Optimization terminated successfully.\n",
      "         Current function value: 0.501907\n",
      "         Iterations: 46\n",
      "         Function evaluations: 69\n",
      "         Gradient evaluations: 69\n",
      "[-0.41   0.09  -0.078  0.064] 0.5019070311720119\n",
      "-0.9435846860144425 12.514462881836907\n",
      "Warning: Desired error not necessarily achieved due to precision loss.\n",
      "         Current function value: 0.501971\n",
      "         Iterations: 44\n",
      "         Function evaluations: 114\n",
      "         Gradient evaluations: 103\n",
      "[ 0.412 -0.091  0.078 -0.064] 0.5019710242048759\n",
      "43 eff_id_e 0.0 1.0 0.0 0.6015008840632187 5.463594021648532e-10\n"
     ]
    },
    {
     "name": "stderr",
     "output_type": "stream",
     "text": [
      "/home/naodell/opt/anaconda3/lib/python3.7/site-packages/numdifftools/limits.py:182: FutureWarning: arrays to stack must be passed as a \"sequence\" type such as list or tuple. Support for non-sequence iterables such as generators is deprecated as of NumPy 1.16 and will raise an error in the future.\n",
      "  f_del = np.vstack(list(np.ravel(r)) for r in sequence)\n",
      "/home/naodell/opt/anaconda3/lib/python3.7/site-packages/numdifftools/limits.py:184: FutureWarning: arrays to stack must be passed as a \"sequence\" type such as list or tuple. Support for non-sequence iterables such as generators is deprecated as of NumPy 1.16 and will raise an error in the future.\n",
      "  for step in steps)\n"
     ]
    },
    {
     "name": "stdout",
     "output_type": "stream",
     "text": [
      "0.6015008840632187 4.605069025939177\n",
      "Warning: Desired error not necessarily achieved due to precision loss.\n",
      "         Current function value: 0.499156\n",
      "         Iterations: 47\n",
      "         Function evaluations: 98\n",
      "         Gradient evaluations: 87\n",
      "[-0.314 -0.009 -0.304  0.1  ] 0.4991561441226924\n",
      "-0.6015008840632187 4.638701770617085\n",
      "Warning: Desired error not necessarily achieved due to precision loss.\n",
      "         Current function value: 0.503396\n",
      "         Iterations: 42\n",
      "         Function evaluations: 90\n",
      "         Gradient evaluations: 81\n",
      "[ 0.308  0.006  0.299 -0.098] 0.5033963925707639\n",
      "44 eff_e_0 0.0 1.0 0.0 0.741091363299118 5.463594021648532e-10\n"
     ]
    },
    {
     "name": "stderr",
     "output_type": "stream",
     "text": [
      "/home/naodell/opt/anaconda3/lib/python3.7/site-packages/numdifftools/limits.py:182: FutureWarning: arrays to stack must be passed as a \"sequence\" type such as list or tuple. Support for non-sequence iterables such as generators is deprecated as of NumPy 1.16 and will raise an error in the future.\n",
      "  f_del = np.vstack(list(np.ravel(r)) for r in sequence)\n",
      "/home/naodell/opt/anaconda3/lib/python3.7/site-packages/numdifftools/limits.py:184: FutureWarning: arrays to stack must be passed as a \"sequence\" type such as list or tuple. Support for non-sequence iterables such as generators is deprecated as of NumPy 1.16 and will raise an error in the future.\n",
      "  for step in steps)\n"
     ]
    },
    {
     "name": "stdout",
     "output_type": "stream",
     "text": [
      "0.741091363299118 1.233667224806199\n",
      "Warning: Desired error not necessarily achieved due to precision loss.\n",
      "         Current function value: 0.499355\n",
      "         Iterations: 48\n",
      "         Function evaluations: 134\n",
      "         Gradient evaluations: 124\n",
      "[-0.136  0.041  0.002  0.015] 0.4993554554855663\n",
      "-0.741091363299118 1.2385051264416456\n",
      "Warning: Desired error not necessarily achieved due to precision loss.\n",
      "         Current function value: 0.502075\n",
      "         Iterations: 44\n",
      "         Function evaluations: 133\n",
      "         Gradient evaluations: 123\n",
      "[ 0.13  -0.043 -0.008 -0.013] 0.5020750205051546\n",
      "45 eff_e_1 0.0 1.0 0.0 0.9079555103357616 5.463594021648532e-10\n"
     ]
    },
    {
     "name": "stderr",
     "output_type": "stream",
     "text": [
      "/home/naodell/opt/anaconda3/lib/python3.7/site-packages/numdifftools/limits.py:182: FutureWarning: arrays to stack must be passed as a \"sequence\" type such as list or tuple. Support for non-sequence iterables such as generators is deprecated as of NumPy 1.16 and will raise an error in the future.\n",
      "  f_del = np.vstack(list(np.ravel(r)) for r in sequence)\n",
      "/home/naodell/opt/anaconda3/lib/python3.7/site-packages/numdifftools/limits.py:184: FutureWarning: arrays to stack must be passed as a \"sequence\" type such as list or tuple. Support for non-sequence iterables such as generators is deprecated as of NumPy 1.16 and will raise an error in the future.\n",
      "  for step in steps)\n"
     ]
    },
    {
     "name": "stdout",
     "output_type": "stream",
     "text": [
      "0.9079555103357616 0.7242193231263112\n",
      "Optimization terminated successfully.\n",
      "         Current function value: 0.499053\n",
      "         Iterations: 45\n",
      "         Function evaluations: 64\n",
      "         Gradient evaluations: 64\n",
      "[-0.095  0.007  0.02   0.011] 0.4990530352900326\n",
      "-0.9079555103357616 0.7253268758949678\n",
      "Warning: Desired error not necessarily achieved due to precision loss.\n",
      "         Current function value: 0.499557\n",
      "         Iterations: 45\n",
      "         Function evaluations: 148\n",
      "         Gradient evaluations: 138\n",
      "[ 0.093 -0.008 -0.022 -0.01 ] 0.49955746641329435\n",
      "46 eff_e_2 0.0 1.0 0.0 0.8705369046913319 5.463594021648532e-10\n"
     ]
    },
    {
     "name": "stderr",
     "output_type": "stream",
     "text": [
      "/home/naodell/opt/anaconda3/lib/python3.7/site-packages/numdifftools/limits.py:182: FutureWarning: arrays to stack must be passed as a \"sequence\" type such as list or tuple. Support for non-sequence iterables such as generators is deprecated as of NumPy 1.16 and will raise an error in the future.\n",
      "  f_del = np.vstack(list(np.ravel(r)) for r in sequence)\n",
      "/home/naodell/opt/anaconda3/lib/python3.7/site-packages/numdifftools/limits.py:184: FutureWarning: arrays to stack must be passed as a \"sequence\" type such as list or tuple. Support for non-sequence iterables such as generators is deprecated as of NumPy 1.16 and will raise an error in the future.\n",
      "  for step in steps)\n"
     ]
    },
    {
     "name": "stdout",
     "output_type": "stream",
     "text": [
      "0.8705369046913319 0.74493744539215\n",
      "Warning: Desired error not necessarily achieved due to precision loss.\n",
      "         Current function value: 0.499526\n",
      "         Iterations: 42\n",
      "         Function evaluations: 95\n",
      "         Gradient evaluations: 85\n",
      "[-0.117  0.005  0.038  0.012] 0.49952569937831454\n",
      "-0.8705369046913319 0.7468053011685112\n",
      "Warning: Desired error not necessarily achieved due to precision loss.\n",
      "         Current function value: 0.500623\n",
      "         Iterations: 46\n",
      "         Function evaluations: 121\n",
      "         Gradient evaluations: 108\n",
      "[ 0.112 -0.007 -0.041 -0.01 ] 0.5006232196831291\n",
      "47 eff_e_3 0.0 1.0 0.0 0.9212591826073844 5.463594021648532e-10\n"
     ]
    },
    {
     "name": "stderr",
     "output_type": "stream",
     "text": [
      "/home/naodell/opt/anaconda3/lib/python3.7/site-packages/numdifftools/limits.py:182: FutureWarning: arrays to stack must be passed as a \"sequence\" type such as list or tuple. Support for non-sequence iterables such as generators is deprecated as of NumPy 1.16 and will raise an error in the future.\n",
      "  f_del = np.vstack(list(np.ravel(r)) for r in sequence)\n",
      "/home/naodell/opt/anaconda3/lib/python3.7/site-packages/numdifftools/limits.py:184: FutureWarning: arrays to stack must be passed as a \"sequence\" type such as list or tuple. Support for non-sequence iterables such as generators is deprecated as of NumPy 1.16 and will raise an error in the future.\n",
      "  for step in steps)\n"
     ]
    },
    {
     "name": "stdout",
     "output_type": "stream",
     "text": [
      "0.9212591826073844 0.670619150913556\n",
      "Optimization terminated successfully.\n",
      "         Current function value: 0.499819\n",
      "         Iterations: 45\n",
      "         Function evaluations: 66\n",
      "         Gradient evaluations: 66\n",
      "[-8.669e-02  1.866e-02  6.777e-02  4.124e-05] 0.4998186187173065\n",
      "-0.9212591826073844 0.671249547313282\n",
      "Warning: Desired error not necessarily achieved due to precision loss.\n",
      "         Current function value: 0.500251\n",
      "         Iterations: 44\n",
      "         Function evaluations: 145\n",
      "         Gradient evaluations: 133\n",
      "[ 0.084 -0.02  -0.07   0.001] 0.5002513987465156\n",
      "48 eff_e_4 0.0 1.0 0.0 0.4598724356775405 5.463594021648532e-10\n"
     ]
    },
    {
     "name": "stderr",
     "output_type": "stream",
     "text": [
      "/home/naodell/opt/anaconda3/lib/python3.7/site-packages/numdifftools/limits.py:182: FutureWarning: arrays to stack must be passed as a \"sequence\" type such as list or tuple. Support for non-sequence iterables such as generators is deprecated as of NumPy 1.16 and will raise an error in the future.\n",
      "  f_del = np.vstack(list(np.ravel(r)) for r in sequence)\n",
      "/home/naodell/opt/anaconda3/lib/python3.7/site-packages/numdifftools/limits.py:184: FutureWarning: arrays to stack must be passed as a \"sequence\" type such as list or tuple. Support for non-sequence iterables such as generators is deprecated as of NumPy 1.16 and will raise an error in the future.\n",
      "  for step in steps)\n"
     ]
    },
    {
     "name": "stdout",
     "output_type": "stream",
     "text": [
      "0.4598724356775405 1.3917425403566794\n",
      "Warning: Desired error not necessarily achieved due to precision loss.\n",
      "         Current function value: 0.499491\n",
      "         Iterations: 46\n",
      "         Function evaluations: 125\n",
      "         Gradient evaluations: 114\n",
      "[-1.773e-01  6.312e-02  1.143e-01 -2.462e-05] 0.4994912154357708\n",
      "-0.4598724356775405 1.3984302105374908\n",
      "Optimization terminated successfully.\n",
      "         Current function value: 0.501573\n",
      "         Iterations: 47\n",
      "         Function evaluations: 202\n",
      "         Gradient evaluations: 200\n",
      "[ 0.17  -0.066 -0.118  0.002] 0.5015730979716734\n",
      "49 eff_e_5 0.0 1.0 0.0 0.4406066748562034 5.463594021648532e-10\n"
     ]
    },
    {
     "name": "stderr",
     "output_type": "stream",
     "text": [
      "/home/naodell/opt/anaconda3/lib/python3.7/site-packages/numdifftools/limits.py:182: FutureWarning: arrays to stack must be passed as a \"sequence\" type such as list or tuple. Support for non-sequence iterables such as generators is deprecated as of NumPy 1.16 and will raise an error in the future.\n",
      "  f_del = np.vstack(list(np.ravel(r)) for r in sequence)\n",
      "/home/naodell/opt/anaconda3/lib/python3.7/site-packages/numdifftools/limits.py:184: FutureWarning: arrays to stack must be passed as a \"sequence\" type such as list or tuple. Support for non-sequence iterables such as generators is deprecated as of NumPy 1.16 and will raise an error in the future.\n",
      "  for step in steps)\n"
     ]
    },
    {
     "name": "stdout",
     "output_type": "stream",
     "text": [
      "0.4406066748562034 6.09266062740007\n",
      "Warning: Desired error not necessarily achieved due to precision loss.\n",
      "         Current function value: 0.499049\n",
      "         Iterations: 44\n",
      "         Function evaluations: 139\n",
      "         Gradient evaluations: 127\n",
      "[-0.173  0.074  0.19  -0.015] 0.4990494744910089\n",
      "-0.4406066748562034 6.132073437877065\n",
      "Warning: Desired error not necessarily achieved due to precision loss.\n",
      "         Current function value: 0.502017\n",
      "         Iterations: 52\n",
      "         Function evaluations: 127\n",
      "         Gradient evaluations: 116\n",
      "[ 0.164 -0.079 -0.195  0.018] 0.5020167124186417\n",
      "50 trigger_e_0 0.0 1.0 0.0 0.9449677882098829 5.463594021648532e-10\n"
     ]
    },
    {
     "name": "stderr",
     "output_type": "stream",
     "text": [
      "/home/naodell/opt/anaconda3/lib/python3.7/site-packages/numdifftools/limits.py:182: FutureWarning: arrays to stack must be passed as a \"sequence\" type such as list or tuple. Support for non-sequence iterables such as generators is deprecated as of NumPy 1.16 and will raise an error in the future.\n",
      "  f_del = np.vstack(list(np.ravel(r)) for r in sequence)\n",
      "/home/naodell/opt/anaconda3/lib/python3.7/site-packages/numdifftools/limits.py:184: FutureWarning: arrays to stack must be passed as a \"sequence\" type such as list or tuple. Support for non-sequence iterables such as generators is deprecated as of NumPy 1.16 and will raise an error in the future.\n",
      "  for step in steps)\n"
     ]
    },
    {
     "name": "stdout",
     "output_type": "stream",
     "text": [
      "0.9449677882098829 0.9831969716342033\n",
      "Warning: Desired error not necessarily achieved due to precision loss.\n",
      "         Current function value: 0.499682\n",
      "         Iterations: 46\n",
      "         Function evaluations: 203\n",
      "         Gradient evaluations: 187\n",
      "[-0.065  0.049 -0.011  0.004] 0.4996823705358103\n",
      "-0.9449677882098829 0.9845100056265967\n",
      "Warning: Desired error not necessarily achieved due to precision loss.\n",
      "         Current function value: 0.499752\n",
      "         Iterations: 43\n",
      "         Function evaluations: 105\n",
      "         Gradient evaluations: 97\n",
      "[ 0.065 -0.049  0.01  -0.004] 0.4997518220749081\n",
      "51 trigger_e_1 0.0 1.0 0.0 0.9858257077310488 5.463594021648532e-10\n"
     ]
    },
    {
     "name": "stderr",
     "output_type": "stream",
     "text": [
      "/home/naodell/opt/anaconda3/lib/python3.7/site-packages/numdifftools/limits.py:182: FutureWarning: arrays to stack must be passed as a \"sequence\" type such as list or tuple. Support for non-sequence iterables such as generators is deprecated as of NumPy 1.16 and will raise an error in the future.\n",
      "  f_del = np.vstack(list(np.ravel(r)) for r in sequence)\n",
      "/home/naodell/opt/anaconda3/lib/python3.7/site-packages/numdifftools/limits.py:184: FutureWarning: arrays to stack must be passed as a \"sequence\" type such as list or tuple. Support for non-sequence iterables such as generators is deprecated as of NumPy 1.16 and will raise an error in the future.\n",
      "  for step in steps)\n"
     ]
    },
    {
     "name": "stdout",
     "output_type": "stream",
     "text": [
      "0.9858257077310488 0.6455802590198304\n",
      "Optimization terminated successfully.\n",
      "         Current function value: 0.500418\n",
      "         Iterations: 45\n",
      "         Function evaluations: 104\n",
      "         Gradient evaluations: 103\n",
      "[-0.032  0.025 -0.005  0.002] 0.5004178155929998\n",
      "-0.9858257077310488 0.6457933184055338\n",
      "Optimization terminated successfully.\n",
      "         Current function value: 0.500427\n",
      "         Iterations: 43\n",
      "         Function evaluations: 61\n",
      "         Gradient evaluations: 61\n",
      "[ 0.032 -0.025  0.005 -0.002] 0.5004269141109184\n",
      "52 trigger_e_2 0.0 1.0 0.0 0.9919111833480452 5.463594021648532e-10\n"
     ]
    },
    {
     "name": "stderr",
     "output_type": "stream",
     "text": [
      "/home/naodell/opt/anaconda3/lib/python3.7/site-packages/numdifftools/limits.py:182: FutureWarning: arrays to stack must be passed as a \"sequence\" type such as list or tuple. Support for non-sequence iterables such as generators is deprecated as of NumPy 1.16 and will raise an error in the future.\n",
      "  f_del = np.vstack(list(np.ravel(r)) for r in sequence)\n",
      "/home/naodell/opt/anaconda3/lib/python3.7/site-packages/numdifftools/limits.py:184: FutureWarning: arrays to stack must be passed as a \"sequence\" type such as list or tuple. Support for non-sequence iterables such as generators is deprecated as of NumPy 1.16 and will raise an error in the future.\n",
      "  for step in steps)\n"
     ]
    },
    {
     "name": "stdout",
     "output_type": "stream",
     "text": [
      "0.9919111833480452 0.5776165503867015\n",
      "Optimization terminated successfully.\n",
      "         Current function value: 0.499561\n",
      "         Iterations: 43\n",
      "         Function evaluations: 80\n",
      "         Gradient evaluations: 79\n",
      "[-0.023  0.018 -0.004  0.001] 0.49956118977645514\n",
      "-0.9919111833480452 0.5777004487610332\n",
      "Optimization terminated successfully.\n",
      "         Current function value: 0.499565\n",
      "         Iterations: 41\n",
      "         Function evaluations: 57\n",
      "         Gradient evaluations: 57\n",
      "[ 0.023 -0.018  0.004 -0.001] 0.4995646880105564\n",
      "53 trigger_e_3 0.0 1.0 0.0 0.9910858320295948 5.463594021648532e-10\n"
     ]
    },
    {
     "name": "stderr",
     "output_type": "stream",
     "text": [
      "/home/naodell/opt/anaconda3/lib/python3.7/site-packages/numdifftools/limits.py:182: FutureWarning: arrays to stack must be passed as a \"sequence\" type such as list or tuple. Support for non-sequence iterables such as generators is deprecated as of NumPy 1.16 and will raise an error in the future.\n",
      "  f_del = np.vstack(list(np.ravel(r)) for r in sequence)\n",
      "/home/naodell/opt/anaconda3/lib/python3.7/site-packages/numdifftools/limits.py:184: FutureWarning: arrays to stack must be passed as a \"sequence\" type such as list or tuple. Support for non-sequence iterables such as generators is deprecated as of NumPy 1.16 and will raise an error in the future.\n",
      "  for step in steps)\n"
     ]
    },
    {
     "name": "stdout",
     "output_type": "stream",
     "text": [
      "0.9910858320295948 0.59498640944756\n",
      "Optimization terminated successfully.\n",
      "         Current function value: 0.500401\n",
      "         Iterations: 46\n",
      "         Function evaluations: 63\n",
      "         Gradient evaluations: 63\n",
      "[-0.026  0.02  -0.004  0.002] 0.500401432257397\n",
      "-0.9910858320295948 0.5950983965191856\n",
      "Optimization terminated successfully.\n",
      "         Current function value: 0.500406\n",
      "         Iterations: 43\n",
      "         Function evaluations: 60\n",
      "         Gradient evaluations: 60\n",
      "[ 0.025 -0.02   0.004 -0.002] 0.5004062155278995\n",
      "54 trigger_e_4 0.0 1.0 0.0 0.906784792504759 5.463594021648532e-10\n",
      "0.906784792504759 0.9357932582336914\n",
      "Warning: Desired error not necessarily achieved due to precision loss.\n",
      "         Current function value: 0.500518\n",
      "         Iterations: 41\n",
      "         Function evaluations: 90\n",
      "         Gradient evaluations: 80\n",
      "[-0.021  0.023 -0.047  0.007] 0.5005175269594186\n",
      "-0.906784792504759 0.9377749629505137\n",
      "Warning: Desired error not necessarily achieved due to precision loss.\n",
      "         Current function value: 0.500573\n",
      "         Iterations: 41\n",
      "         Function evaluations: 83\n",
      "         Gradient evaluations: 74\n",
      "[ 0.019 -0.024  0.046 -0.007] 0.5005725676474291\n",
      "55 trigger_e_5 0.0 1.0 0.0 0.5238057407170615 5.463594021648532e-10\n"
     ]
    },
    {
     "name": "stderr",
     "output_type": "stream",
     "text": [
      "/home/naodell/opt/anaconda3/lib/python3.7/site-packages/numdifftools/limits.py:182: FutureWarning: arrays to stack must be passed as a \"sequence\" type such as list or tuple. Support for non-sequence iterables such as generators is deprecated as of NumPy 1.16 and will raise an error in the future.\n",
      "  f_del = np.vstack(list(np.ravel(r)) for r in sequence)\n",
      "/home/naodell/opt/anaconda3/lib/python3.7/site-packages/numdifftools/limits.py:184: FutureWarning: arrays to stack must be passed as a \"sequence\" type such as list or tuple. Support for non-sequence iterables such as generators is deprecated as of NumPy 1.16 and will raise an error in the future.\n",
      "  for step in steps)\n"
     ]
    },
    {
     "name": "stdout",
     "output_type": "stream",
     "text": [
      "0.5238057407170615 5.249759662885158\n",
      "Warning: Desired error not necessarily achieved due to precision loss.\n",
      "         Current function value: 0.499585\n",
      "         Iterations: 43\n",
      "         Function evaluations: 128\n",
      "         Gradient evaluations: 116\n",
      "[-0.089  0.049 -0.205  0.039] 0.49958503172967234\n",
      "-0.5238057407170615 5.283695230729541\n",
      "Optimization terminated successfully.\n",
      "         Current function value: 0.500914\n",
      "         Iterations: 43\n",
      "         Function evaluations: 68\n",
      "         Gradient evaluations: 68\n",
      "[ 0.077 -0.055  0.201 -0.036] 0.5009135062527481\n",
      "56 escale_e 0.0 1.0 0.0 0.422154752787068 5.463594021648532e-10\n"
     ]
    },
    {
     "name": "stderr",
     "output_type": "stream",
     "text": [
      "/home/naodell/opt/anaconda3/lib/python3.7/site-packages/numdifftools/limits.py:182: FutureWarning: arrays to stack must be passed as a \"sequence\" type such as list or tuple. Support for non-sequence iterables such as generators is deprecated as of NumPy 1.16 and will raise an error in the future.\n",
      "  f_del = np.vstack(list(np.ravel(r)) for r in sequence)\n",
      "/home/naodell/opt/anaconda3/lib/python3.7/site-packages/numdifftools/limits.py:184: FutureWarning: arrays to stack must be passed as a \"sequence\" type such as list or tuple. Support for non-sequence iterables such as generators is deprecated as of NumPy 1.16 and will raise an error in the future.\n",
      "  for step in steps)\n"
     ]
    },
    {
     "name": "stdout",
     "output_type": "stream",
     "text": [
      "0.422154752787068 1.616164697324742\n",
      "Warning: Desired error not necessarily achieved due to precision loss.\n",
      "         Current function value: 0.587427\n",
      "         Iterations: 44\n",
      "         Function evaluations: 92\n",
      "         Gradient evaluations: 81\n",
      "[-0.244 -0.178  0.101  0.051] 0.587426890072647\n",
      "-0.422154752787068 1.2790545912513223\n",
      "Warning: Desired error not necessarily achieved due to precision loss.\n",
      "         Current function value: 0.455220\n",
      "         Iterations: 45\n",
      "         Function evaluations: 85\n",
      "         Gradient evaluations: 75\n",
      "[ 0.199  0.137 -0.129 -0.033] 0.45522006369865187\n",
      "57 trigger_e_tag 0.0 1.0 0.0 0.8585558341470445 5.463594021648532e-10\n"
     ]
    },
    {
     "name": "stderr",
     "output_type": "stream",
     "text": [
      "/home/naodell/opt/anaconda3/lib/python3.7/site-packages/numdifftools/limits.py:182: FutureWarning: arrays to stack must be passed as a \"sequence\" type such as list or tuple. Support for non-sequence iterables such as generators is deprecated as of NumPy 1.16 and will raise an error in the future.\n",
      "  f_del = np.vstack(list(np.ravel(r)) for r in sequence)\n",
      "/home/naodell/opt/anaconda3/lib/python3.7/site-packages/numdifftools/limits.py:184: FutureWarning: arrays to stack must be passed as a \"sequence\" type such as list or tuple. Support for non-sequence iterables such as generators is deprecated as of NumPy 1.16 and will raise an error in the future.\n",
      "  for step in steps)\n"
     ]
    },
    {
     "name": "stdout",
     "output_type": "stream",
     "text": [
      "0.8585558341470445 3.2278787530446458\n",
      "Warning: Desired error not necessarily achieved due to precision loss.\n",
      "         Current function value: 0.499781\n",
      "         Iterations: 46\n",
      "         Function evaluations: 134\n",
      "         Gradient evaluations: 123\n",
      "[-0.178 -0.058  0.047  0.03 ] 0.4997814964747029\n",
      "-0.8585558341470445 3.2428151048739577\n",
      "Optimization terminated successfully.\n",
      "         Current function value: 0.500636\n",
      "         Iterations: 44\n",
      "         Function evaluations: 114\n",
      "         Gradient evaluations: 113\n",
      "[ 0.175  0.057 -0.05  -0.029] 0.500635876945769\n",
      "58 trigger_e_probe 0.0 1.0 0.0 0.7281227218625642 5.463594021648532e-10\n"
     ]
    },
    {
     "name": "stderr",
     "output_type": "stream",
     "text": [
      "/home/naodell/opt/anaconda3/lib/python3.7/site-packages/numdifftools/limits.py:182: FutureWarning: arrays to stack must be passed as a \"sequence\" type such as list or tuple. Support for non-sequence iterables such as generators is deprecated as of NumPy 1.16 and will raise an error in the future.\n",
      "  f_del = np.vstack(list(np.ravel(r)) for r in sequence)\n",
      "/home/naodell/opt/anaconda3/lib/python3.7/site-packages/numdifftools/limits.py:184: FutureWarning: arrays to stack must be passed as a \"sequence\" type such as list or tuple. Support for non-sequence iterables such as generators is deprecated as of NumPy 1.16 and will raise an error in the future.\n",
      "  for step in steps)\n"
     ]
    },
    {
     "name": "stdout",
     "output_type": "stream",
     "text": [
      "0.7281227218625642 1.5838947083059218\n",
      "Optimization terminated successfully.\n",
      "         Current function value: 0.499281\n",
      "         Iterations: 47\n",
      "         Function evaluations: 67\n",
      "         Gradient evaluations: 67\n",
      "[ 0.013 -0.005 -0.159  0.024] 0.49928122777923856\n",
      "-0.7281227218625642 1.5919892756703182\n",
      "Warning: Desired error not necessarily achieved due to precision loss.\n",
      "         Current function value: 0.500267\n",
      "         Iterations: 48\n",
      "         Function evaluations: 136\n",
      "         Gradient evaluations: 126\n",
      "[-0.021  0.002  0.157 -0.022] 0.5002667006376951\n",
      "59 eff_iso_mu 0.0 1.0 0.0 0.9793575190918922 5.463594021648532e-10\n"
     ]
    },
    {
     "name": "stderr",
     "output_type": "stream",
     "text": [
      "/home/naodell/opt/anaconda3/lib/python3.7/site-packages/numdifftools/limits.py:182: FutureWarning: arrays to stack must be passed as a \"sequence\" type such as list or tuple. Support for non-sequence iterables such as generators is deprecated as of NumPy 1.16 and will raise an error in the future.\n",
      "  f_del = np.vstack(list(np.ravel(r)) for r in sequence)\n",
      "/home/naodell/opt/anaconda3/lib/python3.7/site-packages/numdifftools/limits.py:184: FutureWarning: arrays to stack must be passed as a \"sequence\" type such as list or tuple. Support for non-sequence iterables such as generators is deprecated as of NumPy 1.16 and will raise an error in the future.\n",
      "  for step in steps)\n"
     ]
    },
    {
     "name": "stdout",
     "output_type": "stream",
     "text": [
      "0.9793575190918922 0.6557467403960894\n",
      "Optimization terminated successfully.\n",
      "         Current function value: 0.500254\n",
      "         Iterations: 43\n",
      "         Function evaluations: 62\n",
      "         Gradient evaluations: 62\n",
      "[-0.005 -0.055 -0.067  0.02 ] 0.5002536882022531\n",
      "-0.9793575190918922 0.655894011643908\n",
      "Optimization terminated successfully.\n",
      "         Current function value: 0.500310\n",
      "         Iterations: 44\n",
      "         Function evaluations: 71\n",
      "         Gradient evaluations: 71\n",
      "[ 0.005  0.055  0.067 -0.02 ] 0.5003104204898681\n",
      "60 eff_id_mu 0.0 1.0 0.0 0.9643631111362231 5.463594021648532e-10\n"
     ]
    },
    {
     "name": "stderr",
     "output_type": "stream",
     "text": [
      "/home/naodell/opt/anaconda3/lib/python3.7/site-packages/numdifftools/limits.py:182: FutureWarning: arrays to stack must be passed as a \"sequence\" type such as list or tuple. Support for non-sequence iterables such as generators is deprecated as of NumPy 1.16 and will raise an error in the future.\n",
      "  f_del = np.vstack(list(np.ravel(r)) for r in sequence)\n",
      "/home/naodell/opt/anaconda3/lib/python3.7/site-packages/numdifftools/limits.py:184: FutureWarning: arrays to stack must be passed as a \"sequence\" type such as list or tuple. Support for non-sequence iterables such as generators is deprecated as of NumPy 1.16 and will raise an error in the future.\n",
      "  for step in steps)\n"
     ]
    },
    {
     "name": "stdout",
     "output_type": "stream",
     "text": [
      "0.9643631111362231 1.1947987482061961\n",
      "Optimization terminated successfully.\n",
      "         Current function value: 0.500937\n",
      "         Iterations: 44\n",
      "         Function evaluations: 65\n",
      "         Gradient evaluations: 65\n",
      "[-0.173 -0.149 -0.12   0.071] 0.500937101722805\n",
      "-0.9643631111362231 1.199442290637625\n",
      "Warning: Desired error not necessarily achieved due to precision loss.\n",
      "         Current function value: 0.501156\n",
      "         Iterations: 43\n",
      "         Function evaluations: 255\n",
      "         Gradient evaluations: 241\n",
      "[ 0.174  0.15   0.12  -0.071] 0.5011564042123093\n",
      "61 eff_mu_0 0.0 1.0 0.0 0.9804154886047286 5.463594021648532e-10\n"
     ]
    },
    {
     "name": "stderr",
     "output_type": "stream",
     "text": [
      "/home/naodell/opt/anaconda3/lib/python3.7/site-packages/numdifftools/limits.py:182: FutureWarning: arrays to stack must be passed as a \"sequence\" type such as list or tuple. Support for non-sequence iterables such as generators is deprecated as of NumPy 1.16 and will raise an error in the future.\n",
      "  f_del = np.vstack(list(np.ravel(r)) for r in sequence)\n",
      "/home/naodell/opt/anaconda3/lib/python3.7/site-packages/numdifftools/limits.py:184: FutureWarning: arrays to stack must be passed as a \"sequence\" type such as list or tuple. Support for non-sequence iterables such as generators is deprecated as of NumPy 1.16 and will raise an error in the future.\n",
      "  for step in steps)\n"
     ]
    },
    {
     "name": "stdout",
     "output_type": "stream",
     "text": [
      "0.9804154886047286 0.5119258216233136\n",
      "Optimization terminated successfully.\n",
      "         Current function value: 0.500195\n",
      "         Iterations: 41\n",
      "         Function evaluations: 57\n",
      "         Gradient evaluations: 57\n",
      "[ 0.014  0.022 -0.114  0.012] 0.5001948691632624\n",
      "-0.9804154886047286 0.512017933337914\n",
      "Warning: Desired error not necessarily achieved due to precision loss.\n",
      "         Current function value: 0.500228\n",
      "         Iterations: 43\n",
      "         Function evaluations: 103\n",
      "         Gradient evaluations: 91\n",
      "[-0.014 -0.022  0.113 -0.012] 0.5002280794709191\n",
      "62 eff_mu_1 0.0 1.0 0.0 0.9774061552083754 5.463594021648532e-10\n"
     ]
    },
    {
     "name": "stderr",
     "output_type": "stream",
     "text": [
      "/home/naodell/opt/anaconda3/lib/python3.7/site-packages/numdifftools/limits.py:182: FutureWarning: arrays to stack must be passed as a \"sequence\" type such as list or tuple. Support for non-sequence iterables such as generators is deprecated as of NumPy 1.16 and will raise an error in the future.\n",
      "  f_del = np.vstack(list(np.ravel(r)) for r in sequence)\n",
      "/home/naodell/opt/anaconda3/lib/python3.7/site-packages/numdifftools/limits.py:184: FutureWarning: arrays to stack must be passed as a \"sequence\" type such as list or tuple. Support for non-sequence iterables such as generators is deprecated as of NumPy 1.16 and will raise an error in the future.\n",
      "  for step in steps)\n"
     ]
    },
    {
     "name": "stdout",
     "output_type": "stream",
     "text": [
      "0.9774061552083754 0.5109539325250949\n",
      "Warning: Desired error not necessarily achieved due to precision loss.\n",
      "         Current function value: 0.500113\n",
      "         Iterations: 40\n",
      "         Function evaluations: 152\n",
      "         Gradient evaluations: 141\n",
      "[-0.    -0.005 -0.075  0.013] 0.5001125226434391\n",
      "-0.9774061552083754 0.5110241772331404\n",
      "Warning: Desired error not necessarily achieved due to precision loss.\n",
      "         Current function value: 0.500027\n",
      "         Iterations: 42\n",
      "         Function evaluations: 125\n",
      "         Gradient evaluations: 116\n",
      "[ 0.001  0.006  0.074 -0.013] 0.5000273919370193\n",
      "63 eff_mu_2 0.0 1.0 0.0 0.9795118309406659 5.463594021648532e-10\n"
     ]
    },
    {
     "name": "stderr",
     "output_type": "stream",
     "text": [
      "/home/naodell/opt/anaconda3/lib/python3.7/site-packages/numdifftools/limits.py:182: FutureWarning: arrays to stack must be passed as a \"sequence\" type such as list or tuple. Support for non-sequence iterables such as generators is deprecated as of NumPy 1.16 and will raise an error in the future.\n",
      "  f_del = np.vstack(list(np.ravel(r)) for r in sequence)\n",
      "/home/naodell/opt/anaconda3/lib/python3.7/site-packages/numdifftools/limits.py:184: FutureWarning: arrays to stack must be passed as a \"sequence\" type such as list or tuple. Support for non-sequence iterables such as generators is deprecated as of NumPy 1.16 and will raise an error in the future.\n",
      "  for step in steps)\n"
     ]
    },
    {
     "name": "stdout",
     "output_type": "stream",
     "text": [
      "0.9795118309406659 0.5113811188248913\n",
      "Optimization terminated successfully.\n",
      "         Current function value: 0.500005\n",
      "         Iterations: 40\n",
      "         Function evaluations: 61\n",
      "         Gradient evaluations: 61\n",
      "[-0.015 -0.013 -0.072  0.016] 0.5000050100495992\n",
      "-0.9795118309406659 0.511433151945199\n",
      "Warning: Desired error not necessarily achieved due to precision loss.\n",
      "         Current function value: 0.500124\n",
      "         Iterations: 42\n",
      "         Function evaluations: 81\n",
      "         Gradient evaluations: 70\n",
      "[ 0.014  0.012  0.072 -0.016] 0.5001244109773595\n",
      "64 eff_mu_3 0.0 1.0 0.0 0.8636877659031261 5.463594021648532e-10\n"
     ]
    },
    {
     "name": "stderr",
     "output_type": "stream",
     "text": [
      "/home/naodell/opt/anaconda3/lib/python3.7/site-packages/numdifftools/limits.py:182: FutureWarning: arrays to stack must be passed as a \"sequence\" type such as list or tuple. Support for non-sequence iterables such as generators is deprecated as of NumPy 1.16 and will raise an error in the future.\n",
      "  f_del = np.vstack(list(np.ravel(r)) for r in sequence)\n",
      "/home/naodell/opt/anaconda3/lib/python3.7/site-packages/numdifftools/limits.py:184: FutureWarning: arrays to stack must be passed as a \"sequence\" type such as list or tuple. Support for non-sequence iterables such as generators is deprecated as of NumPy 1.16 and will raise an error in the future.\n",
      "  for step in steps)\n"
     ]
    },
    {
     "name": "stdout",
     "output_type": "stream",
     "text": [
      "0.8636877659031261 0.64693137785936\n",
      "Warning: Desired error not necessarily achieved due to precision loss.\n",
      "         Current function value: 0.499279\n",
      "         Iterations: 41\n",
      "         Function evaluations: 87\n",
      "         Gradient evaluations: 75\n",
      "[-0.032 -0.058 -0.083  0.028] 0.4992794788262869\n",
      "-0.8636877659031261 0.6479759492970004\n",
      "Warning: Desired error not necessarily achieved due to precision loss.\n",
      "         Current function value: 0.500172\n",
      "         Iterations: 47\n",
      "         Function evaluations: 209\n",
      "         Gradient evaluations: 193\n",
      "[ 0.029  0.056  0.081 -0.027] 0.5001724488939323\n",
      "65 eff_mu_4 0.0 1.0 0.0 0.9569262765458292 5.463594021648532e-10\n"
     ]
    },
    {
     "name": "stderr",
     "output_type": "stream",
     "text": [
      "/home/naodell/opt/anaconda3/lib/python3.7/site-packages/numdifftools/limits.py:182: FutureWarning: arrays to stack must be passed as a \"sequence\" type such as list or tuple. Support for non-sequence iterables such as generators is deprecated as of NumPy 1.16 and will raise an error in the future.\n",
      "  f_del = np.vstack(list(np.ravel(r)) for r in sequence)\n",
      "/home/naodell/opt/anaconda3/lib/python3.7/site-packages/numdifftools/limits.py:184: FutureWarning: arrays to stack must be passed as a \"sequence\" type such as list or tuple. Support for non-sequence iterables such as generators is deprecated as of NumPy 1.16 and will raise an error in the future.\n",
      "  for step in steps)\n"
     ]
    },
    {
     "name": "stdout",
     "output_type": "stream",
     "text": [
      "0.9569262765458292 0.526925823860592\n",
      "Optimization terminated successfully.\n",
      "         Current function value: 0.499977\n",
      "         Iterations: 49\n",
      "         Function evaluations: 127\n",
      "         Gradient evaluations: 125\n",
      "[-0.033 -0.044 -0.001  0.012] 0.4999769760589185\n",
      "-0.9569262765458292 0.5270934770423867\n",
      "Optimization terminated successfully.\n",
      "         Current function value: 0.500123\n",
      "         Iterations: 43\n",
      "         Function evaluations: 104\n",
      "         Gradient evaluations: 102\n",
      "[ 3.222e-02  4.280e-02 -2.281e-05 -1.198e-02] 0.5001227891800969\n",
      "66 eff_mu_5 0.0 1.0 0.0 0.9982234654850228 5.463594021648532e-10\n"
     ]
    },
    {
     "name": "stderr",
     "output_type": "stream",
     "text": [
      "/home/naodell/opt/anaconda3/lib/python3.7/site-packages/numdifftools/limits.py:182: FutureWarning: arrays to stack must be passed as a \"sequence\" type such as list or tuple. Support for non-sequence iterables such as generators is deprecated as of NumPy 1.16 and will raise an error in the future.\n",
      "  f_del = np.vstack(list(np.ravel(r)) for r in sequence)\n",
      "/home/naodell/opt/anaconda3/lib/python3.7/site-packages/numdifftools/limits.py:184: FutureWarning: arrays to stack must be passed as a \"sequence\" type such as list or tuple. Support for non-sequence iterables such as generators is deprecated as of NumPy 1.16 and will raise an error in the future.\n",
      "  for step in steps)\n"
     ]
    },
    {
     "name": "stdout",
     "output_type": "stream",
     "text": [
      "0.9982234654850228 0.5006164294214657\n",
      "Warning: Desired error not necessarily achieved due to precision loss.\n",
      "         Current function value: 0.499800\n",
      "         Iterations: 41\n",
      "         Function evaluations: 185\n",
      "         Gradient evaluations: 172\n",
      "[-0.009 -0.009  0.008  0.002] 0.49979979478801634\n",
      "-0.9982234654850228 0.5006169674999961\n",
      "Warning: Desired error not necessarily achieved due to precision loss.\n",
      "         Current function value: 0.499800\n",
      "         Iterations: 40\n",
      "         Function evaluations: 106\n",
      "         Gradient evaluations: 98\n",
      "[ 0.009  0.009 -0.008 -0.002] 0.4998003866750242\n",
      "67 eff_mu_6 0.0 1.0 0.0 0.9898311775661034 5.463594021648532e-10\n"
     ]
    },
    {
     "name": "stderr",
     "output_type": "stream",
     "text": [
      "/home/naodell/opt/anaconda3/lib/python3.7/site-packages/numdifftools/limits.py:182: FutureWarning: arrays to stack must be passed as a \"sequence\" type such as list or tuple. Support for non-sequence iterables such as generators is deprecated as of NumPy 1.16 and will raise an error in the future.\n",
      "  f_del = np.vstack(list(np.ravel(r)) for r in sequence)\n",
      "/home/naodell/opt/anaconda3/lib/python3.7/site-packages/numdifftools/limits.py:184: FutureWarning: arrays to stack must be passed as a \"sequence\" type such as list or tuple. Support for non-sequence iterables such as generators is deprecated as of NumPy 1.16 and will raise an error in the future.\n",
      "  for step in steps)\n"
     ]
    },
    {
     "name": "stdout",
     "output_type": "stream",
     "text": [
      "0.9898311775661034 0.5038354232878353\n",
      "Warning: Desired error not necessarily achieved due to precision loss.\n",
      "         Current function value: 0.499734\n",
      "         Iterations: 38\n",
      "         Function evaluations: 117\n",
      "         Gradient evaluations: 108\n",
      "[-0.004 -0.02   0.017  0.001] 0.4997344390899243\n",
      "-0.9898311775661034 0.5038516873576279\n",
      "Optimization terminated successfully.\n",
      "         Current function value: 0.499746\n",
      "         Iterations: 41\n",
      "         Function evaluations: 59\n",
      "         Gradient evaluations: 59\n",
      "[ 0.004  0.02  -0.018 -0.001] 0.49974638888641465\n",
      "68 eff_mu_7 0.0 1.0 0.0 0.9778098997930326 5.463594021648532e-10\n"
     ]
    },
    {
     "name": "stderr",
     "output_type": "stream",
     "text": [
      "/home/naodell/opt/anaconda3/lib/python3.7/site-packages/numdifftools/limits.py:182: FutureWarning: arrays to stack must be passed as a \"sequence\" type such as list or tuple. Support for non-sequence iterables such as generators is deprecated as of NumPy 1.16 and will raise an error in the future.\n",
      "  f_del = np.vstack(list(np.ravel(r)) for r in sequence)\n",
      "/home/naodell/opt/anaconda3/lib/python3.7/site-packages/numdifftools/limits.py:184: FutureWarning: arrays to stack must be passed as a \"sequence\" type such as list or tuple. Support for non-sequence iterables such as generators is deprecated as of NumPy 1.16 and will raise an error in the future.\n",
      "  for step in steps)\n"
     ]
    },
    {
     "name": "stdout",
     "output_type": "stream",
     "text": [
      "0.9778098997930326 0.5121281634966146\n",
      "Warning: Desired error not necessarily achieved due to precision loss.\n",
      "         Current function value: 0.499702\n",
      "         Iterations: 40\n",
      "         Function evaluations: 80\n",
      "         Gradient evaluations: 70\n",
      "[-0.018 -0.037  0.013  0.007] 0.4997019449418792\n",
      "-0.9778098997930326 0.5121874640875786\n",
      "Warning: Desired error not necessarily achieved due to precision loss.\n",
      "         Current function value: 0.499765\n",
      "         Iterations: 40\n",
      "         Function evaluations: 130\n",
      "         Gradient evaluations: 119\n",
      "[ 0.018  0.036 -0.013 -0.006] 0.49976459042293236\n",
      "69 escale_mu 0.0 1.0 0.0 0.6598908723707637 5.463594021648532e-10\n"
     ]
    },
    {
     "name": "stderr",
     "output_type": "stream",
     "text": [
      "/home/naodell/opt/anaconda3/lib/python3.7/site-packages/numdifftools/limits.py:182: FutureWarning: arrays to stack must be passed as a \"sequence\" type such as list or tuple. Support for non-sequence iterables such as generators is deprecated as of NumPy 1.16 and will raise an error in the future.\n",
      "  f_del = np.vstack(list(np.ravel(r)) for r in sequence)\n",
      "/home/naodell/opt/anaconda3/lib/python3.7/site-packages/numdifftools/limits.py:184: FutureWarning: arrays to stack must be passed as a \"sequence\" type such as list or tuple. Support for non-sequence iterables such as generators is deprecated as of NumPy 1.16 and will raise an error in the future.\n",
      "  for step in steps)\n"
     ]
    },
    {
     "name": "stdout",
     "output_type": "stream",
     "text": [
      "0.6598908723707637 1.126856497107499\n",
      "Optimization terminated successfully.\n",
      "         Current function value: 0.601552\n",
      "         Iterations: 43\n",
      "         Function evaluations: 69\n",
      "         Gradient evaluations: 69\n",
      "[-0.033 -0.157  0.254 -0.01 ] 0.6015521378705306\n",
      "-0.6598908723707637 0.8042170279792415\n",
      "Warning: Desired error not necessarily achieved due to precision loss.\n",
      "         Current function value: 0.434883\n",
      "         Iterations: 43\n",
      "         Function evaluations: 121\n",
      "         Gradient evaluations: 109\n",
      "[-0.012  0.107 -0.283  0.03 ] 0.4348825345071698\n",
      "70 pileup 0.0 1.0 0.0 0.4918860507247053 5.463594021648532e-10\n"
     ]
    },
    {
     "name": "stderr",
     "output_type": "stream",
     "text": [
      "/home/naodell/opt/anaconda3/lib/python3.7/site-packages/numdifftools/limits.py:182: FutureWarning: arrays to stack must be passed as a \"sequence\" type such as list or tuple. Support for non-sequence iterables such as generators is deprecated as of NumPy 1.16 and will raise an error in the future.\n",
      "  f_del = np.vstack(list(np.ravel(r)) for r in sequence)\n",
      "/home/naodell/opt/anaconda3/lib/python3.7/site-packages/numdifftools/limits.py:184: FutureWarning: arrays to stack must be passed as a \"sequence\" type such as list or tuple. Support for non-sequence iterables such as generators is deprecated as of NumPy 1.16 and will raise an error in the future.\n",
      "  for step in steps)\n"
     ]
    },
    {
     "name": "stdout",
     "output_type": "stream",
     "text": [
      "0.4918860507247053 8.932910207899752\n",
      "Warning: Desired error not necessarily achieved due to precision loss.\n",
      "         Current function value: 0.490819\n",
      "         Iterations: 46\n",
      "         Function evaluations: 110\n",
      "         Gradient evaluations: 100\n",
      "[ 0.142 -0.032  0.059 -0.027] 0.4908186331047795\n",
      "-0.4918860507247053 8.83021019204433\n",
      "Warning: Desired error not necessarily achieved due to precision loss.\n",
      "         Current function value: 0.511223\n",
      "         Iterations: 44\n",
      "         Function evaluations: 103\n",
      "         Gradient evaluations: 92\n",
      "[-0.151  0.026 -0.075  0.032] 0.5112226764474571\n",
      "75 ww_scale 0.0 1.0 0.0 0.6294779753181302 5.463594021648532e-10\n"
     ]
    },
    {
     "name": "stderr",
     "output_type": "stream",
     "text": [
      "/home/naodell/opt/anaconda3/lib/python3.7/site-packages/numdifftools/limits.py:182: FutureWarning: arrays to stack must be passed as a \"sequence\" type such as list or tuple. Support for non-sequence iterables such as generators is deprecated as of NumPy 1.16 and will raise an error in the future.\n",
      "  f_del = np.vstack(list(np.ravel(r)) for r in sequence)\n",
      "/home/naodell/opt/anaconda3/lib/python3.7/site-packages/numdifftools/limits.py:184: FutureWarning: arrays to stack must be passed as a \"sequence\" type such as list or tuple. Support for non-sequence iterables such as generators is deprecated as of NumPy 1.16 and will raise an error in the future.\n",
      "  for step in steps)\n"
     ]
    },
    {
     "name": "stdout",
     "output_type": "stream",
     "text": [
      "0.6294779753181302 0.6642071601554114\n",
      "Warning: Desired error not necessarily achieved due to precision loss.\n",
      "         Current function value: 0.458231\n",
      "         Iterations: 42\n",
      "         Function evaluations: 183\n",
      "         Gradient evaluations: 171\n",
      "[ 0.028  0.009 -0.171  0.021] 0.4582308087546832\n",
      "-0.6294779753181302 0.7998192356235954\n",
      "Optimization terminated successfully.\n",
      "         Current function value: 0.545053\n",
      "         Iterations: 45\n",
      "         Function evaluations: 120\n",
      "         Gradient evaluations: 119\n",
      "[-0.051 -0.019  0.196 -0.02 ] 0.5450529414039974\n",
      "76 ww_resum 0.0 1.0 0.0 0.9106061325315304 5.463594021648532e-10\n"
     ]
    },
    {
     "name": "stderr",
     "output_type": "stream",
     "text": [
      "/home/naodell/opt/anaconda3/lib/python3.7/site-packages/numdifftools/limits.py:182: FutureWarning: arrays to stack must be passed as a \"sequence\" type such as list or tuple. Support for non-sequence iterables such as generators is deprecated as of NumPy 1.16 and will raise an error in the future.\n",
      "  f_del = np.vstack(list(np.ravel(r)) for r in sequence)\n",
      "/home/naodell/opt/anaconda3/lib/python3.7/site-packages/numdifftools/limits.py:184: FutureWarning: arrays to stack must be passed as a \"sequence\" type such as list or tuple. Support for non-sequence iterables such as generators is deprecated as of NumPy 1.16 and will raise an error in the future.\n",
      "  for step in steps)\n"
     ]
    },
    {
     "name": "stdout",
     "output_type": "stream",
     "text": [
      "0.9106061325315304 0.8331038258031904\n",
      "Warning: Desired error not necessarily achieved due to precision loss.\n",
      "         Current function value: 0.457263\n",
      "         Iterations: 45\n",
      "         Function evaluations: 130\n",
      "         Gradient evaluations: 118\n",
      "[ 0.004  0.003  0.044 -0.008] 0.45726252475206974\n",
      "-0.9106061325315304 3.7720461849693234\n",
      "Warning: Desired error not necessarily achieved due to precision loss.\n",
      "         Current function value: 0.583899\n",
      "         Iterations: 45\n",
      "         Function evaluations: 130\n",
      "         Gradient evaluations: 121\n",
      "[-0.018 -0.007 -0.041  0.011] 0.5838987176234861\n",
      "79 btag_bfragmentation 0.0 1.0 0.0 0.9887684079731308 5.463594021648532e-10\n"
     ]
    },
    {
     "name": "stderr",
     "output_type": "stream",
     "text": [
      "/home/naodell/opt/anaconda3/lib/python3.7/site-packages/numdifftools/limits.py:182: FutureWarning: arrays to stack must be passed as a \"sequence\" type such as list or tuple. Support for non-sequence iterables such as generators is deprecated as of NumPy 1.16 and will raise an error in the future.\n",
      "  f_del = np.vstack(list(np.ravel(r)) for r in sequence)\n",
      "/home/naodell/opt/anaconda3/lib/python3.7/site-packages/numdifftools/limits.py:184: FutureWarning: arrays to stack must be passed as a \"sequence\" type such as list or tuple. Support for non-sequence iterables such as generators is deprecated as of NumPy 1.16 and will raise an error in the future.\n",
      "  for step in steps)\n"
     ]
    },
    {
     "name": "stdout",
     "output_type": "stream",
     "text": [
      "0.9887684079731308 6.1552667967684584\n",
      "Warning: Desired error not necessarily achieved due to precision loss.\n",
      "         Current function value: 0.502668\n",
      "         Iterations: 43\n",
      "         Function evaluations: 148\n",
      "         Gradient evaluations: 135\n",
      "[-0.009  0.001  0.036 -0.004] 0.5026681477445387\n",
      "-0.9887684079731308 6.463570274457078\n",
      "Optimization terminated successfully.\n",
      "         Current function value: 0.503289\n",
      "         Iterations: 47\n",
      "         Function evaluations: 77\n",
      "         Gradient evaluations: 76\n",
      "[ 0.006  0.006 -0.002 -0.002] 0.50328907437113\n",
      "80 btag_btempcorr 0.0 1.0 0.0 0.9903959347832684 5.463594021648532e-10\n"
     ]
    },
    {
     "name": "stderr",
     "output_type": "stream",
     "text": [
      "/home/naodell/opt/anaconda3/lib/python3.7/site-packages/numdifftools/limits.py:182: FutureWarning: arrays to stack must be passed as a \"sequence\" type such as list or tuple. Support for non-sequence iterables such as generators is deprecated as of NumPy 1.16 and will raise an error in the future.\n",
      "  f_del = np.vstack(list(np.ravel(r)) for r in sequence)\n",
      "/home/naodell/opt/anaconda3/lib/python3.7/site-packages/numdifftools/limits.py:184: FutureWarning: arrays to stack must be passed as a \"sequence\" type such as list or tuple. Support for non-sequence iterables such as generators is deprecated as of NumPy 1.16 and will raise an error in the future.\n",
      "  for step in steps)\n"
     ]
    },
    {
     "name": "stdout",
     "output_type": "stream",
     "text": [
      "0.9903959347832684 5.199170570194751\n",
      "Warning: Desired error not necessarily achieved due to precision loss.\n",
      "         Current function value: 0.502912\n",
      "         Iterations: 44\n",
      "         Function evaluations: 120\n",
      "         Gradient evaluations: 108\n",
      "[-0.001  0.002  0.036 -0.006] 0.5029121137331392\n",
      "-0.9903959347832684 5.171234988890868\n",
      "Warning: Desired error not necessarily achieved due to precision loss.\n",
      "         Current function value: 0.501588\n",
      "         Iterations: 46\n",
      "         Function evaluations: 152\n",
      "         Gradient evaluations: 140\n",
      "[-0.     0.009  0.021 -0.005] 0.5015882008361501\n",
      "81 btag_cb 0.0 1.0 0.0 0.9948072337763649 5.463594021648532e-10\n"
     ]
    },
    {
     "name": "stderr",
     "output_type": "stream",
     "text": [
      "/home/naodell/opt/anaconda3/lib/python3.7/site-packages/numdifftools/limits.py:182: FutureWarning: arrays to stack must be passed as a \"sequence\" type such as list or tuple. Support for non-sequence iterables such as generators is deprecated as of NumPy 1.16 and will raise an error in the future.\n",
      "  f_del = np.vstack(list(np.ravel(r)) for r in sequence)\n",
      "/home/naodell/opt/anaconda3/lib/python3.7/site-packages/numdifftools/limits.py:184: FutureWarning: arrays to stack must be passed as a \"sequence\" type such as list or tuple. Support for non-sequence iterables such as generators is deprecated as of NumPy 1.16 and will raise an error in the future.\n",
      "  for step in steps)\n"
     ]
    },
    {
     "name": "stdout",
     "output_type": "stream",
     "text": [
      "0.9948072337763649 2.624890076207212\n",
      "Warning: Desired error not necessarily achieved due to precision loss.\n",
      "         Current function value: 0.500629\n",
      "         Iterations: 47\n",
      "         Function evaluations: 164\n",
      "         Gradient evaluations: 152\n",
      "[-0.004  0.001  0.015 -0.002] 0.5006291502766157\n",
      "-0.9948072337763649 2.6001442208785646\n"
     ]
    },
    {
     "name": "stderr",
     "output_type": "stream",
     "text": [
      "/home/naodell/opt/anaconda3/lib/python3.7/site-packages/numdifftools/limits.py:182: FutureWarning: arrays to stack must be passed as a \"sequence\" type such as list or tuple. Support for non-sequence iterables such as generators is deprecated as of NumPy 1.16 and will raise an error in the future.\n",
      "  f_del = np.vstack(list(np.ravel(r)) for r in sequence)\n",
      "/home/naodell/opt/anaconda3/lib/python3.7/site-packages/numdifftools/limits.py:184: FutureWarning: arrays to stack must be passed as a \"sequence\" type such as list or tuple. Support for non-sequence iterables such as generators is deprecated as of NumPy 1.16 and will raise an error in the future.\n",
      "  for step in steps)\n"
     ]
    },
    {
     "name": "stdout",
     "output_type": "stream",
     "text": [
      "0.9986314629797706 0.4988732030429638\n",
      "Optimization terminated successfully.\n",
      "         Current function value: 0.498637\n",
      "         Iterations: 39\n",
      "         Function evaluations: 52\n",
      "         Gradient evaluations: 52\n",
      "[-1.334e-05  1.094e-04  1.323e-03 -2.268e-04] 0.4986365383208297\n",
      "-0.9986314629797706 0.49880719797211004\n",
      "Warning: Desired error not necessarily achieved due to precision loss.\n",
      "         Current function value: 0.498639\n",
      "         Iterations: 39\n",
      "         Function evaluations: 96\n",
      "         Gradient evaluations: 85\n",
      "[-4.475e-04  9.442e-05  4.998e-05  4.842e-05] 0.49863853050177287\n",
      "83 btag_dmux 0.0 1.0 0.0 0.9991470615676452 5.463594021648532e-10\n"
     ]
    },
    {
     "name": "stderr",
     "output_type": "stream",
     "text": [
      "/home/naodell/opt/anaconda3/lib/python3.7/site-packages/numdifftools/limits.py:182: FutureWarning: arrays to stack must be passed as a \"sequence\" type such as list or tuple. Support for non-sequence iterables such as generators is deprecated as of NumPy 1.16 and will raise an error in the future.\n",
      "  f_del = np.vstack(list(np.ravel(r)) for r in sequence)\n",
      "/home/naodell/opt/anaconda3/lib/python3.7/site-packages/numdifftools/limits.py:184: FutureWarning: arrays to stack must be passed as a \"sequence\" type such as list or tuple. Support for non-sequence iterables such as generators is deprecated as of NumPy 1.16 and will raise an error in the future.\n",
      "  for step in steps)\n"
     ]
    },
    {
     "name": "stdout",
     "output_type": "stream",
     "text": [
      "0.9991470615676452 1.1316853937361513\n",
      "Warning: Desired error not necessarily achieved due to precision loss.\n",
      "         Current function value: 0.500760\n",
      "         Iterations: 44\n",
      "         Function evaluations: 93\n",
      "         Gradient evaluations: 82\n",
      "[ 0.001  0.002  0.014 -0.003] 0.5007600599139787\n",
      "-0.9991470615676452 1.1141143994035358\n",
      "Optimization terminated successfully.\n",
      "         Current function value: 0.501124\n",
      "         Iterations: 46\n",
      "         Function evaluations: 68\n",
      "         Gradient evaluations: 68\n",
      "[-0.     0.005  0.    -0.001] 0.5011241244547443\n",
      "84 btag_gluonsplitting 0.0 1.0 0.0 0.9581378041348672 5.463594021648532e-10\n"
     ]
    },
    {
     "name": "stderr",
     "output_type": "stream",
     "text": [
      "/home/naodell/opt/anaconda3/lib/python3.7/site-packages/numdifftools/limits.py:182: FutureWarning: arrays to stack must be passed as a \"sequence\" type such as list or tuple. Support for non-sequence iterables such as generators is deprecated as of NumPy 1.16 and will raise an error in the future.\n",
      "  f_del = np.vstack(list(np.ravel(r)) for r in sequence)\n",
      "/home/naodell/opt/anaconda3/lib/python3.7/site-packages/numdifftools/limits.py:184: FutureWarning: arrays to stack must be passed as a \"sequence\" type such as list or tuple. Support for non-sequence iterables such as generators is deprecated as of NumPy 1.16 and will raise an error in the future.\n",
      "  for step in steps)\n"
     ]
    },
    {
     "name": "stdout",
     "output_type": "stream",
     "text": [
      "0.9581378041348672 20.153589855097117\n",
      "Warning: Desired error not necessarily achieved due to precision loss.\n",
      "         Current function value: 0.503084\n",
      "         Iterations: 46\n",
      "         Function evaluations: 115\n",
      "         Gradient evaluations: 104\n",
      "[-0.012 -0.004  0.013  0.   ] 0.5030844952349778\n",
      "-0.9581378041348672 20.54322333086307\n",
      "Warning: Desired error not necessarily achieved due to precision loss.\n",
      "         Current function value: 0.506367\n",
      "         Iterations: 49\n",
      "         Function evaluations: 114\n",
      "         Gradient evaluations: 103\n",
      "[-0.001  0.012  0.044 -0.009] 0.5063674500477633\n",
      "85 btag_jes 0.0 1.0 0.0 0.9900366443823184 5.463594021648532e-10\n"
     ]
    },
    {
     "name": "stderr",
     "output_type": "stream",
     "text": [
      "/home/naodell/opt/anaconda3/lib/python3.7/site-packages/numdifftools/limits.py:182: FutureWarning: arrays to stack must be passed as a \"sequence\" type such as list or tuple. Support for non-sequence iterables such as generators is deprecated as of NumPy 1.16 and will raise an error in the future.\n",
      "  f_del = np.vstack(list(np.ravel(r)) for r in sequence)\n",
      "/home/naodell/opt/anaconda3/lib/python3.7/site-packages/numdifftools/limits.py:184: FutureWarning: arrays to stack must be passed as a \"sequence\" type such as list or tuple. Support for non-sequence iterables such as generators is deprecated as of NumPy 1.16 and will raise an error in the future.\n",
      "  for step in steps)\n"
     ]
    },
    {
     "name": "stdout",
     "output_type": "stream",
     "text": [
      "0.9900366443823184 4.733805586042271\n",
      "Optimization terminated successfully.\n",
      "         Current function value: 0.501115\n",
      "         Iterations: 45\n",
      "         Function evaluations: 93\n",
      "         Gradient evaluations: 92\n",
      "[-0.005  0.003  0.026 -0.004] 0.5011151914212051\n",
      "-0.9900366443823184 4.782684887975429\n",
      "Warning: Desired error not necessarily achieved due to precision loss.\n",
      "         Current function value: 0.500408\n",
      "         Iterations: 47\n",
      "         Function evaluations: 120\n",
      "         Gradient evaluations: 109\n",
      "[-0.003  0.008  0.014 -0.003] 0.5004077367758935\n",
      "86 btag_jetaway 0.0 1.0 0.0 0.9622907864083486 5.463594021648532e-10\n"
     ]
    },
    {
     "name": "stderr",
     "output_type": "stream",
     "text": [
      "/home/naodell/opt/anaconda3/lib/python3.7/site-packages/numdifftools/limits.py:182: FutureWarning: arrays to stack must be passed as a \"sequence\" type such as list or tuple. Support for non-sequence iterables such as generators is deprecated as of NumPy 1.16 and will raise an error in the future.\n",
      "  f_del = np.vstack(list(np.ravel(r)) for r in sequence)\n",
      "/home/naodell/opt/anaconda3/lib/python3.7/site-packages/numdifftools/limits.py:184: FutureWarning: arrays to stack must be passed as a \"sequence\" type such as list or tuple. Support for non-sequence iterables such as generators is deprecated as of NumPy 1.16 and will raise an error in the future.\n",
      "  for step in steps)\n"
     ]
    },
    {
     "name": "stdout",
     "output_type": "stream",
     "text": [
      "0.9622907864083486 18.168171169535707\n",
      "Optimization terminated successfully.\n",
      "         Current function value: 0.501180\n",
      "         Iterations: 48\n",
      "         Function evaluations: 71\n",
      "         Gradient evaluations: 71\n",
      "[-0.009 -0.005  0.016 -0.   ] 0.50117994035469\n",
      "-0.9622907864083486 18.450644492610362\n",
      "Warning: Desired error not necessarily achieved due to precision loss.\n",
      "         Current function value: 0.503721\n",
      "         Iterations: 46\n",
      "         Function evaluations: 130\n",
      "         Gradient evaluations: 120\n",
      "[-0.     0.011  0.048 -0.009] 0.5037210227953959\n",
      "87 btag_ksl 0.0 1.0 0.0 1.0011533054022022 5.463594021648532e-10\n"
     ]
    },
    {
     "name": "stderr",
     "output_type": "stream",
     "text": [
      "/home/naodell/opt/anaconda3/lib/python3.7/site-packages/numdifftools/limits.py:182: FutureWarning: arrays to stack must be passed as a \"sequence\" type such as list or tuple. Support for non-sequence iterables such as generators is deprecated as of NumPy 1.16 and will raise an error in the future.\n",
      "  f_del = np.vstack(list(np.ravel(r)) for r in sequence)\n",
      "/home/naodell/opt/anaconda3/lib/python3.7/site-packages/numdifftools/limits.py:184: FutureWarning: arrays to stack must be passed as a \"sequence\" type such as list or tuple. Support for non-sequence iterables such as generators is deprecated as of NumPy 1.16 and will raise an error in the future.\n",
      "  for step in steps)\n"
     ]
    },
    {
     "name": "stdout",
     "output_type": "stream",
     "text": [
      "1.0011533054022022 0.5024720829561625\n",
      "Optimization terminated successfully.\n",
      "         Current function value: 0.501201\n",
      "         Iterations: 34\n",
      "         Function evaluations: 50\n",
      "         Gradient evaluations: 50\n",
      "[ 0.     0.001  0.003 -0.001] 0.5012005328629747\n",
      "-1.0011533054022022 0.5022692045378506\n",
      "Optimization terminated successfully.\n",
      "         Current function value: 0.501167\n",
      "         Iterations: 35\n",
      "         Function evaluations: 51\n",
      "         Gradient evaluations: 51\n",
      "[-0.001 -0.    -0.     0.   ] 0.5011665306761907\n",
      "88 btag_l2c 0.0 1.0 0.0 0.9963097315358209 5.463594021648532e-10\n",
      "0.9963097315358209 1.4838394299989357\n",
      "Warning: Desired error not necessarily achieved due to precision loss.\n",
      "         Current function value: 0.498814\n",
      "         Iterations: 45\n",
      "         Function evaluations: 94\n",
      "         Gradient evaluations: 84\n",
      "[ 0.001  0.005  0.02  -0.004] 0.49881437019069796\n",
      "-0.9963097315358209 1.4811014283717783\n",
      "Warning: Desired error not necessarily achieved due to precision loss.\n",
      "         Current function value: 0.499876\n",
      "         Iterations: 42\n",
      "         Function evaluations: 80\n",
      "         Gradient evaluations: 68\n",
      "[ 0.003  0.007  0.005 -0.002] 0.4998763409955821\n",
      "89 btag_ltothers 0.0 1.0 0.0 0.8720274233633462 5.463594021648532e-10\n"
     ]
    },
    {
     "name": "stderr",
     "output_type": "stream",
     "text": [
      "/home/naodell/opt/anaconda3/lib/python3.7/site-packages/numdifftools/limits.py:182: FutureWarning: arrays to stack must be passed as a \"sequence\" type such as list or tuple. Support for non-sequence iterables such as generators is deprecated as of NumPy 1.16 and will raise an error in the future.\n",
      "  f_del = np.vstack(list(np.ravel(r)) for r in sequence)\n",
      "/home/naodell/opt/anaconda3/lib/python3.7/site-packages/numdifftools/limits.py:184: FutureWarning: arrays to stack must be passed as a \"sequence\" type such as list or tuple. Support for non-sequence iterables such as generators is deprecated as of NumPy 1.16 and will raise an error in the future.\n",
      "  for step in steps)\n"
     ]
    },
    {
     "name": "stdout",
     "output_type": "stream",
     "text": [
      "0.8720274233633462 48.22731809421678\n",
      "Warning: Desired error not necessarily achieved due to precision loss.\n",
      "         Current function value: 0.499276\n",
      "         Iterations: 52\n",
      "         Function evaluations: 155\n",
      "         Gradient evaluations: 143\n",
      "[-0.007  0.008  0.062 -0.01 ] 0.49927612909309715\n",
      "-0.8720274233633462 52.537926543348924\n",
      "Warning: Desired error not necessarily achieved due to precision loss.\n",
      "         Current function value: 0.508439\n",
      "         Iterations: 51\n",
      "         Function evaluations: 94\n",
      "         Gradient evaluations: 84\n",
      "[-0.005  0.006 -0.021  0.003] 0.5084388045747977\n",
      "90 btag_mudr 0.0 1.0 0.0 0.9968074816521246 5.463594021648532e-10\n"
     ]
    },
    {
     "name": "stderr",
     "output_type": "stream",
     "text": [
      "/home/naodell/opt/anaconda3/lib/python3.7/site-packages/numdifftools/limits.py:182: FutureWarning: arrays to stack must be passed as a \"sequence\" type such as list or tuple. Support for non-sequence iterables such as generators is deprecated as of NumPy 1.16 and will raise an error in the future.\n",
      "  f_del = np.vstack(list(np.ravel(r)) for r in sequence)\n",
      "/home/naodell/opt/anaconda3/lib/python3.7/site-packages/numdifftools/limits.py:184: FutureWarning: arrays to stack must be passed as a \"sequence\" type such as list or tuple. Support for non-sequence iterables such as generators is deprecated as of NumPy 1.16 and will raise an error in the future.\n",
      "  for step in steps)\n"
     ]
    },
    {
     "name": "stdout",
     "output_type": "stream",
     "text": [
      "0.9968074816521246 1.859689885636021\n",
      "Warning: Desired error not necessarily achieved due to precision loss.\n",
      "         Current function value: 0.500975\n",
      "         Iterations: 45\n",
      "         Function evaluations: 177\n",
      "         Gradient evaluations: 165\n",
      "[-0.001 -0.     0.007 -0.001] 0.5009748032586944\n",
      "-0.9968074816521246 1.8448054312018316\n",
      "Optimization terminated successfully.\n",
      "         Current function value: 0.501596\n",
      "         Iterations: 49\n",
      "         Function evaluations: 65\n",
      "         Gradient evaluations: 65\n",
      "[-0.001  0.007  0.015 -0.003] 0.5015960398594006\n",
      "91 btag_mupt 0.0 1.0 0.0 0.9960057721796728 5.463594021648532e-10\n"
     ]
    },
    {
     "name": "stderr",
     "output_type": "stream",
     "text": [
      "/home/naodell/opt/anaconda3/lib/python3.7/site-packages/numdifftools/limits.py:182: FutureWarning: arrays to stack must be passed as a \"sequence\" type such as list or tuple. Support for non-sequence iterables such as generators is deprecated as of NumPy 1.16 and will raise an error in the future.\n",
      "  f_del = np.vstack(list(np.ravel(r)) for r in sequence)\n",
      "/home/naodell/opt/anaconda3/lib/python3.7/site-packages/numdifftools/limits.py:184: FutureWarning: arrays to stack must be passed as a \"sequence\" type such as list or tuple. Support for non-sequence iterables such as generators is deprecated as of NumPy 1.16 and will raise an error in the future.\n",
      "  for step in steps)\n"
     ]
    },
    {
     "name": "stdout",
     "output_type": "stream",
     "text": [
      "0.9960057721796728 2.7448886622308497\n",
      "Warning: Desired error not necessarily achieved due to precision loss.\n",
      "         Current function value: 0.501614\n",
      "         Iterations: 46\n",
      "         Function evaluations: 88\n",
      "         Gradient evaluations: 78\n",
      "[-0.001  0.001  0.025 -0.004] 0.5016139061828846\n",
      "-0.9960057721796728 2.7248610910031603\n",
      "Optimization terminated successfully.\n",
      "         Current function value: 0.501543\n",
      "         Iterations: 46\n",
      "         Function evaluations: 68\n",
      "         Gradient evaluations: 68\n",
      "[-0.     0.004  0.012 -0.002] 0.5015428030136329\n",
      "92 btag_ptrel 0.0 1.0 0.0 0.9980817148069322 5.463594021648532e-10\n"
     ]
    },
    {
     "name": "stderr",
     "output_type": "stream",
     "text": [
      "/home/naodell/opt/anaconda3/lib/python3.7/site-packages/numdifftools/limits.py:182: FutureWarning: arrays to stack must be passed as a \"sequence\" type such as list or tuple. Support for non-sequence iterables such as generators is deprecated as of NumPy 1.16 and will raise an error in the future.\n",
      "  f_del = np.vstack(list(np.ravel(r)) for r in sequence)\n",
      "/home/naodell/opt/anaconda3/lib/python3.7/site-packages/numdifftools/limits.py:184: FutureWarning: arrays to stack must be passed as a \"sequence\" type such as list or tuple. Support for non-sequence iterables such as generators is deprecated as of NumPy 1.16 and will raise an error in the future.\n",
      "  for step in steps)\n"
     ]
    },
    {
     "name": "stdout",
     "output_type": "stream",
     "text": [
      "0.9980817148069322 1.2135148708457362\n",
      "Optimization terminated successfully.\n",
      "         Current function value: 0.500460\n",
      "         Iterations: 48\n",
      "         Function evaluations: 67\n",
      "         Gradient evaluations: 67\n",
      "[ 0.002  0.001  0.014 -0.003] 0.5004595468145343\n",
      "-0.9980817148069322 1.2018287376836012\n",
      "Optimization terminated successfully.\n",
      "         Current function value: 0.500356\n",
      "         Iterations: 43\n",
      "         Function evaluations: 64\n",
      "         Gradient evaluations: 64\n",
      "[ 0.     0.004 -0.005  0.   ] 0.500356193141152\n",
      "93 btag_sampledependence 0.0 1.0 0.0 0.7791962446715166 5.463594021648532e-10\n",
      "0.7791962446715166 63.06392295219558\n",
      "Warning: Desired error not necessarily achieved due to precision loss.\n",
      "         Current function value: 0.498698\n",
      "         Iterations: 51\n",
      "         Function evaluations: 249\n",
      "         Gradient evaluations: 234\n",
      "[ 0.003  0.009  0.059 -0.011] 0.4986977758364766\n",
      "-0.7791962446715166 67.23719551631889\n",
      "Warning: Desired error not necessarily achieved due to precision loss.\n",
      "         Current function value: 0.509657\n",
      "         Iterations: 53\n",
      "         Function evaluations: 145\n",
      "         Gradient evaluations: 130\n",
      "[-0.016  0.004 -0.011  0.004] 0.5096568090700784\n",
      "94 btag_pileup 0.0 1.0 0.0 0.9953575666636634 5.463594021648532e-10\n"
     ]
    },
    {
     "name": "stderr",
     "output_type": "stream",
     "text": [
      "/home/naodell/opt/anaconda3/lib/python3.7/site-packages/numdifftools/limits.py:182: FutureWarning: arrays to stack must be passed as a \"sequence\" type such as list or tuple. Support for non-sequence iterables such as generators is deprecated as of NumPy 1.16 and will raise an error in the future.\n",
      "  f_del = np.vstack(list(np.ravel(r)) for r in sequence)\n",
      "/home/naodell/opt/anaconda3/lib/python3.7/site-packages/numdifftools/limits.py:184: FutureWarning: arrays to stack must be passed as a \"sequence\" type such as list or tuple. Support for non-sequence iterables such as generators is deprecated as of NumPy 1.16 and will raise an error in the future.\n",
      "  for step in steps)\n"
     ]
    },
    {
     "name": "stdout",
     "output_type": "stream",
     "text": [
      "0.9953575666636634 2.6614653067665555\n",
      "Warning: Desired error not necessarily achieved due to precision loss.\n",
      "         Current function value: 0.501184\n",
      "         Iterations: 44\n",
      "         Function evaluations: 119\n",
      "         Gradient evaluations: 107\n",
      "[-0.002  0.002  0.016 -0.003] 0.5011835663661284\n",
      "-0.9953575666636634 2.655281311943896\n",
      "Optimization terminated successfully.\n",
      "         Current function value: 0.501481\n",
      "         Iterations: 50\n",
      "         Function evaluations: 63\n",
      "         Gradient evaluations: 63\n",
      "[-0.     0.01   0.01  -0.003] 0.5014811553412729\n",
      "95 btag_statistic 0.0 1.0 0.0 0.9421845613621116 5.463594021648532e-10\n"
     ]
    },
    {
     "name": "stderr",
     "output_type": "stream",
     "text": [
      "/home/naodell/opt/anaconda3/lib/python3.7/site-packages/numdifftools/limits.py:182: FutureWarning: arrays to stack must be passed as a \"sequence\" type such as list or tuple. Support for non-sequence iterables such as generators is deprecated as of NumPy 1.16 and will raise an error in the future.\n",
      "  f_del = np.vstack(list(np.ravel(r)) for r in sequence)\n",
      "/home/naodell/opt/anaconda3/lib/python3.7/site-packages/numdifftools/limits.py:184: FutureWarning: arrays to stack must be passed as a \"sequence\" type such as list or tuple. Support for non-sequence iterables such as generators is deprecated as of NumPy 1.16 and will raise an error in the future.\n",
      "  for step in steps)\n"
     ]
    },
    {
     "name": "stdout",
     "output_type": "stream",
     "text": [
      "0.9421845613621116 26.154472172458004\n",
      "Optimization terminated successfully.\n",
      "         Current function value: 0.501919\n",
      "         Iterations: 48\n",
      "         Function evaluations: 66\n",
      "         Gradient evaluations: 66\n",
      "[-0.019 -0.002  0.041 -0.003] 0.5019193426201243\n",
      "-0.9421845613621116 26.56525204331716\n",
      "Optimization terminated successfully.\n",
      "         Current function value: 0.504608\n",
      "         Iterations: 46\n",
      "         Function evaluations: 69\n",
      "         Gradient evaluations: 69\n",
      "[ 0.005  0.014  0.031 -0.008] 0.5046082876729281\n",
      "96 ctag 0.0 1.0 0.0 0.7760833476441955 5.463594021648532e-10\n",
      "0.7760833476441955 3.5518160072934406\n",
      "Warning: Desired error not necessarily achieved due to precision loss.\n",
      "         Current function value: 0.475405\n",
      "         Iterations: 44\n",
      "         Function evaluations: 87\n",
      "         Gradient evaluations: 77\n",
      "[ 0.163  0.17   0.146 -0.077] 0.4754049769375913\n",
      "-0.7760833476441955 4.464670749762191\n",
      "Warning: Desired error not necessarily achieved due to precision loss.\n",
      "         Current function value: 0.536246\n",
      "         Iterations: 44\n",
      "         Function evaluations: 117\n",
      "         Gradient evaluations: 106\n",
      "[-0.177 -0.204 -0.151  0.085] 0.5362463827600218\n",
      "97 mistag 0.0 1.0 0.0 0.9424425328209954 5.463594021648532e-10\n"
     ]
    },
    {
     "name": "stderr",
     "output_type": "stream",
     "text": [
      "/home/naodell/opt/anaconda3/lib/python3.7/site-packages/numdifftools/limits.py:182: FutureWarning: arrays to stack must be passed as a \"sequence\" type such as list or tuple. Support for non-sequence iterables such as generators is deprecated as of NumPy 1.16 and will raise an error in the future.\n",
      "  f_del = np.vstack(list(np.ravel(r)) for r in sequence)\n",
      "/home/naodell/opt/anaconda3/lib/python3.7/site-packages/numdifftools/limits.py:184: FutureWarning: arrays to stack must be passed as a \"sequence\" type such as list or tuple. Support for non-sequence iterables such as generators is deprecated as of NumPy 1.16 and will raise an error in the future.\n",
      "  for step in steps)\n"
     ]
    },
    {
     "name": "stdout",
     "output_type": "stream",
     "text": [
      "0.9424425328209954 2.5142478704372153\n",
      "Warning: Desired error not necessarily achieved due to precision loss.\n",
      "         Current function value: 0.512070\n",
      "         Iterations: 42\n",
      "         Function evaluations: 95\n",
      "         Gradient evaluations: 84\n",
      "[ 0.067  0.052 -0.136  0.003] 0.5120700069275314\n",
      "-0.9424425328209954 1.7778841233035436\n",
      "Warning: Desired error not necessarily achieved due to precision loss.\n",
      "         Current function value: 0.506757\n",
      "         Iterations: 45\n",
      "         Function evaluations: 273\n",
      "         Gradient evaluations: 255\n",
      "[-0.047 -0.035  0.125 -0.007] 0.5067569964320074\n",
      "98 jer 0.0 1.0 0.0 0.7219542461574466 5.463594021648532e-10\n"
     ]
    },
    {
     "name": "stderr",
     "output_type": "stream",
     "text": [
      "/home/naodell/opt/anaconda3/lib/python3.7/site-packages/numdifftools/limits.py:182: FutureWarning: arrays to stack must be passed as a \"sequence\" type such as list or tuple. Support for non-sequence iterables such as generators is deprecated as of NumPy 1.16 and will raise an error in the future.\n",
      "  f_del = np.vstack(list(np.ravel(r)) for r in sequence)\n",
      "/home/naodell/opt/anaconda3/lib/python3.7/site-packages/numdifftools/limits.py:184: FutureWarning: arrays to stack must be passed as a \"sequence\" type such as list or tuple. Support for non-sequence iterables such as generators is deprecated as of NumPy 1.16 and will raise an error in the future.\n",
      "  for step in steps)\n"
     ]
    },
    {
     "name": "stdout",
     "output_type": "stream",
     "text": [
      "0.7219542461574466 5.126548652702496\n",
      "Warning: Desired error not necessarily achieved due to precision loss.\n",
      "         Current function value: 0.559671\n",
      "         Iterations: 40\n",
      "         Function evaluations: 121\n",
      "         Gradient evaluations: 110\n",
      "[-0.141 -0.053  0.068  0.02 ] 0.5596708556465498\n",
      "-0.7219542461574466 4.719419549627444\n",
      "Warning: Desired error not necessarily achieved due to precision loss.\n",
      "         Current function value: 0.490905\n",
      "         Iterations: 41\n",
      "         Function evaluations: 107\n",
      "         Gradient evaluations: 98\n",
      "[ 0.074  0.053 -0.148  0.003] 0.49090500414854976\n",
      "99 jes_abs_scale 0.0 1.0 0.0 0.9911358219274948 5.463594021648532e-10\n"
     ]
    },
    {
     "name": "stderr",
     "output_type": "stream",
     "text": [
      "/home/naodell/opt/anaconda3/lib/python3.7/site-packages/numdifftools/limits.py:182: FutureWarning: arrays to stack must be passed as a \"sequence\" type such as list or tuple. Support for non-sequence iterables such as generators is deprecated as of NumPy 1.16 and will raise an error in the future.\n",
      "  f_del = np.vstack(list(np.ravel(r)) for r in sequence)\n",
      "/home/naodell/opt/anaconda3/lib/python3.7/site-packages/numdifftools/limits.py:184: FutureWarning: arrays to stack must be passed as a \"sequence\" type such as list or tuple. Support for non-sequence iterables such as generators is deprecated as of NumPy 1.16 and will raise an error in the future.\n",
      "  for step in steps)\n"
     ]
    },
    {
     "name": "stdout",
     "output_type": "stream",
     "text": [
      "0.9911358219274948 9.369950967846204\n",
      "Warning: Desired error not necessarily achieved due to precision loss.\n",
      "         Current function value: 0.503675\n",
      "         Iterations: 48\n",
      "         Function evaluations: 177\n",
      "         Gradient evaluations: 165\n",
      "[ 0.003 -0.002  0.016 -0.003] 0.5036748027571976\n",
      "-0.9911358219274948 9.604702376651513\n",
      "Warning: Desired error not necessarily achieved due to precision loss.\n",
      "         Current function value: 0.508546\n",
      "         Iterations: 48\n",
      "         Function evaluations: 160\n",
      "         Gradient evaluations: 150\n",
      "[-0.015 -0.007  0.001  0.003] 0.5085461803655187\n",
      "100 jes_abs_stat 0.0 1.0 0.0 0.9921123187205716 5.463594021648532e-10\n"
     ]
    },
    {
     "name": "stderr",
     "output_type": "stream",
     "text": [
      "/home/naodell/opt/anaconda3/lib/python3.7/site-packages/numdifftools/limits.py:182: FutureWarning: arrays to stack must be passed as a \"sequence\" type such as list or tuple. Support for non-sequence iterables such as generators is deprecated as of NumPy 1.16 and will raise an error in the future.\n",
      "  f_del = np.vstack(list(np.ravel(r)) for r in sequence)\n",
      "/home/naodell/opt/anaconda3/lib/python3.7/site-packages/numdifftools/limits.py:184: FutureWarning: arrays to stack must be passed as a \"sequence\" type such as list or tuple. Support for non-sequence iterables such as generators is deprecated as of NumPy 1.16 and will raise an error in the future.\n",
      "  for step in steps)\n"
     ]
    },
    {
     "name": "stdout",
     "output_type": "stream",
     "text": [
      "0.9921123187205716 7.663848662453719\n",
      "Optimization terminated successfully.\n",
      "         Current function value: 0.503486\n",
      "         Iterations: 48\n",
      "         Function evaluations: 70\n",
      "         Gradient evaluations: 70\n",
      "[-3.468e-03 -5.722e-03  9.522e-03 -5.301e-05] 0.5034857978238683\n",
      "-0.9921123187205716 7.853871040830704\n",
      "Warning: Desired error not necessarily achieved due to precision loss.\n",
      "         Current function value: 0.508830\n",
      "         Iterations: 46\n",
      "         Function evaluations: 172\n",
      "         Gradient evaluations: 159\n",
      "[-0.016 -0.01   0.003  0.004] 0.5088297314814813\n",
      "101 jes_fragmentation 0.0 1.0 0.0 0.9862733862194948 5.463594021648532e-10\n"
     ]
    },
    {
     "name": "stderr",
     "output_type": "stream",
     "text": [
      "/home/naodell/opt/anaconda3/lib/python3.7/site-packages/numdifftools/limits.py:182: FutureWarning: arrays to stack must be passed as a \"sequence\" type such as list or tuple. Support for non-sequence iterables such as generators is deprecated as of NumPy 1.16 and will raise an error in the future.\n",
      "  f_del = np.vstack(list(np.ravel(r)) for r in sequence)\n",
      "/home/naodell/opt/anaconda3/lib/python3.7/site-packages/numdifftools/limits.py:184: FutureWarning: arrays to stack must be passed as a \"sequence\" type such as list or tuple. Support for non-sequence iterables such as generators is deprecated as of NumPy 1.16 and will raise an error in the future.\n",
      "  for step in steps)\n"
     ]
    },
    {
     "name": "stdout",
     "output_type": "stream",
     "text": [
      "0.9862733862194948 15.942046070199517\n",
      "Warning: Desired error not necessarily achieved due to precision loss.\n",
      "         Current function value: 0.505405\n",
      "         Iterations: 50\n",
      "         Function evaluations: 185\n",
      "         Gradient evaluations: 174\n",
      "[ 2.969e-05  6.924e-04  2.107e-02 -3.481e-03] 0.505404747258463\n",
      "-0.9862733862194948 16.27015522335122\n",
      "Optimization terminated successfully.\n",
      "         Current function value: 0.516189\n",
      "         Iterations: 50\n",
      "         Function evaluations: 73\n",
      "         Gradient evaluations: 73\n",
      "[-0.015 -0.015 -0.03   0.009] 0.5161891385252274\n",
      "102 jes_abs_mpf_bias 0.0 1.0 0.0 0.9866923806843768 5.463594021648532e-10\n"
     ]
    },
    {
     "name": "stderr",
     "output_type": "stream",
     "text": [
      "/home/naodell/opt/anaconda3/lib/python3.7/site-packages/numdifftools/limits.py:182: FutureWarning: arrays to stack must be passed as a \"sequence\" type such as list or tuple. Support for non-sequence iterables such as generators is deprecated as of NumPy 1.16 and will raise an error in the future.\n",
      "  f_del = np.vstack(list(np.ravel(r)) for r in sequence)\n",
      "/home/naodell/opt/anaconda3/lib/python3.7/site-packages/numdifftools/limits.py:184: FutureWarning: arrays to stack must be passed as a \"sequence\" type such as list or tuple. Support for non-sequence iterables such as generators is deprecated as of NumPy 1.16 and will raise an error in the future.\n",
      "  for step in steps)\n"
     ]
    },
    {
     "name": "stdout",
     "output_type": "stream",
     "text": [
      "0.9866923806843768 16.19842180501698\n",
      "Optimization terminated successfully.\n",
      "         Current function value: 0.506679\n",
      "         Iterations: 51\n",
      "         Function evaluations: 137\n",
      "         Gradient evaluations: 135\n",
      "[ 0.005  0.004  0.013 -0.003] 0.506678952928201\n",
      "-0.9866923806843768 16.595942942815608\n",
      "Warning: Desired error not necessarily achieved due to precision loss.\n",
      "         Current function value: 0.519241\n",
      "         Iterations: 48\n",
      "         Function evaluations: 203\n",
      "         Gradient evaluations: 191\n",
      "[-0.016 -0.015 -0.035  0.011] 0.5192409938882243\n",
      "103 jes_pileup_data_mc 0.0 1.0 0.0 0.975959315617553 5.463594021648532e-10\n"
     ]
    },
    {
     "name": "stderr",
     "output_type": "stream",
     "text": [
      "/home/naodell/opt/anaconda3/lib/python3.7/site-packages/numdifftools/limits.py:182: FutureWarning: arrays to stack must be passed as a \"sequence\" type such as list or tuple. Support for non-sequence iterables such as generators is deprecated as of NumPy 1.16 and will raise an error in the future.\n",
      "  f_del = np.vstack(list(np.ravel(r)) for r in sequence)\n",
      "/home/naodell/opt/anaconda3/lib/python3.7/site-packages/numdifftools/limits.py:184: FutureWarning: arrays to stack must be passed as a \"sequence\" type such as list or tuple. Support for non-sequence iterables such as generators is deprecated as of NumPy 1.16 and will raise an error in the future.\n",
      "  for step in steps)\n"
     ]
    },
    {
     "name": "stdout",
     "output_type": "stream",
     "text": [
      "0.975959315617553 33.079510438370946\n",
      "Warning: Desired error not necessarily achieved due to precision loss.\n",
      "         Current function value: 0.518860\n",
      "         Iterations: 51\n",
      "         Function evaluations: 120\n",
      "         Gradient evaluations: 109\n",
      "[ 0.021  0.027  0.039 -0.014] 0.5188595999439299\n",
      "-0.975959315617553 33.3162488142803\n",
      "Warning: Desired error not necessarily achieved due to precision loss.\n",
      "         Current function value: 0.519483\n",
      "         Iterations: 52\n",
      "         Function evaluations: 130\n",
      "         Gradient evaluations: 120\n",
      "[-0.03  -0.03  -0.084  0.023] 0.5194828381786795\n",
      "104 jes_pileup_pt_bb 0.0 1.0 0.0 0.9867974548796848 5.463594021648532e-10\n"
     ]
    },
    {
     "name": "stderr",
     "output_type": "stream",
     "text": [
      "/home/naodell/opt/anaconda3/lib/python3.7/site-packages/numdifftools/limits.py:182: FutureWarning: arrays to stack must be passed as a \"sequence\" type such as list or tuple. Support for non-sequence iterables such as generators is deprecated as of NumPy 1.16 and will raise an error in the future.\n",
      "  f_del = np.vstack(list(np.ravel(r)) for r in sequence)\n",
      "/home/naodell/opt/anaconda3/lib/python3.7/site-packages/numdifftools/limits.py:184: FutureWarning: arrays to stack must be passed as a \"sequence\" type such as list or tuple. Support for non-sequence iterables such as generators is deprecated as of NumPy 1.16 and will raise an error in the future.\n",
      "  for step in steps)\n"
     ]
    },
    {
     "name": "stdout",
     "output_type": "stream",
     "text": [
      "0.9867974548796848 17.125638312405634\n",
      "Warning: Desired error not necessarily achieved due to precision loss.\n",
      "         Current function value: 0.508561\n",
      "         Iterations: 50\n",
      "         Function evaluations: 178\n",
      "         Gradient evaluations: 165\n",
      "[ 0.034  0.045  0.055 -0.021] 0.5085614018852345\n",
      "-0.9867974548796848 17.384011956560848\n",
      "Warning: Desired error not necessarily achieved due to precision loss.\n",
      "         Current function value: 0.514337\n",
      "         Iterations: 49\n",
      "         Function evaluations: 122\n",
      "         Gradient evaluations: 111\n",
      "[-0.023 -0.019 -0.072  0.018] 0.5143366592000623\n",
      "105 jes_pileup_pt_ec1 0.0 1.0 0.0 0.9409175641789624 5.463594021648532e-10\n"
     ]
    },
    {
     "name": "stderr",
     "output_type": "stream",
     "text": [
      "/home/naodell/opt/anaconda3/lib/python3.7/site-packages/numdifftools/limits.py:182: FutureWarning: arrays to stack must be passed as a \"sequence\" type such as list or tuple. Support for non-sequence iterables such as generators is deprecated as of NumPy 1.16 and will raise an error in the future.\n",
      "  f_del = np.vstack(list(np.ravel(r)) for r in sequence)\n",
      "/home/naodell/opt/anaconda3/lib/python3.7/site-packages/numdifftools/limits.py:184: FutureWarning: arrays to stack must be passed as a \"sequence\" type such as list or tuple. Support for non-sequence iterables such as generators is deprecated as of NumPy 1.16 and will raise an error in the future.\n",
      "  for step in steps)\n"
     ]
    },
    {
     "name": "stdout",
     "output_type": "stream",
     "text": [
      "0.9409175641789624 55.028804410087055\n",
      "Warning: Desired error not necessarily achieved due to precision loss.\n",
      "         Current function value: 0.520779\n",
      "         Iterations: 52\n",
      "         Function evaluations: 126\n",
      "         Gradient evaluations: 114\n",
      "[-0.037 -0.048 -0.09   0.028] 0.5207786007006207\n",
      "-0.9409175641789624 54.57600204358095\n",
      "Optimization terminated successfully.\n",
      "         Current function value: 0.498332\n",
      "         Iterations: 53\n",
      "         Function evaluations: 78\n",
      "         Gradient evaluations: 78\n",
      "[ 0.027  0.03   0.067 -0.02 ] 0.49833235169126966\n",
      "106 jes_pileup_pt_ref 0.0 1.0 0.0 0.9728322667890144 5.463594021648532e-10\n"
     ]
    },
    {
     "name": "stderr",
     "output_type": "stream",
     "text": [
      "/home/naodell/opt/anaconda3/lib/python3.7/site-packages/numdifftools/limits.py:182: FutureWarning: arrays to stack must be passed as a \"sequence\" type such as list or tuple. Support for non-sequence iterables such as generators is deprecated as of NumPy 1.16 and will raise an error in the future.\n",
      "  f_del = np.vstack(list(np.ravel(r)) for r in sequence)\n",
      "/home/naodell/opt/anaconda3/lib/python3.7/site-packages/numdifftools/limits.py:184: FutureWarning: arrays to stack must be passed as a \"sequence\" type such as list or tuple. Support for non-sequence iterables such as generators is deprecated as of NumPy 1.16 and will raise an error in the future.\n",
      "  for step in steps)\n"
     ]
    },
    {
     "name": "stdout",
     "output_type": "stream",
     "text": [
      "0.9728322667890144 40.15801130159188\n",
      "Warning: Desired error not necessarily achieved due to precision loss.\n",
      "         Current function value: 0.515144\n",
      "         Iterations: 53\n",
      "         Function evaluations: 158\n",
      "         Gradient evaluations: 147\n",
      "[ 0.025  0.017  0.034 -0.012] 0.5151442681268441\n",
      "-0.9728322667890144 40.22195000580731\n",
      "Warning: Desired error not necessarily achieved due to precision loss.\n",
      "         Current function value: 0.516564\n",
      "         Iterations: 51\n",
      "         Function evaluations: 212\n",
      "         Gradient evaluations: 199\n",
      "[-0.018 -0.02  -0.064  0.016] 0.5165642748825114\n",
      "107 jes_relative_bal 0.0 1.0 0.0 0.9081694248608336 5.463594021648532e-10\n"
     ]
    },
    {
     "name": "stderr",
     "output_type": "stream",
     "text": [
      "/home/naodell/opt/anaconda3/lib/python3.7/site-packages/numdifftools/limits.py:182: FutureWarning: arrays to stack must be passed as a \"sequence\" type such as list or tuple. Support for non-sequence iterables such as generators is deprecated as of NumPy 1.16 and will raise an error in the future.\n",
      "  f_del = np.vstack(list(np.ravel(r)) for r in sequence)\n",
      "/home/naodell/opt/anaconda3/lib/python3.7/site-packages/numdifftools/limits.py:184: FutureWarning: arrays to stack must be passed as a \"sequence\" type such as list or tuple. Support for non-sequence iterables such as generators is deprecated as of NumPy 1.16 and will raise an error in the future.\n",
      "  for step in steps)\n"
     ]
    },
    {
     "name": "stdout",
     "output_type": "stream",
     "text": [
      "0.9081694248608336 130.97033072601585\n",
      "Warning: Desired error not necessarily achieved due to precision loss.\n",
      "         Current function value: 0.517474\n",
      "         Iterations: 58\n",
      "         Function evaluations: 94\n",
      "         Gradient evaluations: 83\n",
      "[ 0.028  0.033  0.06  -0.019] 0.5174736368873346\n",
      "-0.9081694248608336 135.12788417434854\n",
      "Optimization terminated successfully.\n",
      "         Current function value: 0.528941\n",
      "         Iterations: 61\n",
      "         Function evaluations: 76\n",
      "         Gradient evaluations: 76\n",
      "[-0.035 -0.033 -0.119  0.03 ] 0.5289407423508086\n",
      "108 jes_relative_jer_ec1 0.0 1.0 0.0 0.9992374756393012 5.463594021648532e-10\n"
     ]
    },
    {
     "name": "stderr",
     "output_type": "stream",
     "text": [
      "/home/naodell/opt/anaconda3/lib/python3.7/site-packages/numdifftools/limits.py:182: FutureWarning: arrays to stack must be passed as a \"sequence\" type such as list or tuple. Support for non-sequence iterables such as generators is deprecated as of NumPy 1.16 and will raise an error in the future.\n",
      "  f_del = np.vstack(list(np.ravel(r)) for r in sequence)\n",
      "/home/naodell/opt/anaconda3/lib/python3.7/site-packages/numdifftools/limits.py:184: FutureWarning: arrays to stack must be passed as a \"sequence\" type such as list or tuple. Support for non-sequence iterables such as generators is deprecated as of NumPy 1.16 and will raise an error in the future.\n",
      "  for step in steps)\n"
     ]
    },
    {
     "name": "stdout",
     "output_type": "stream",
     "text": [
      "0.9992374756393012 0.5351353708318413\n",
      "Optimization terminated successfully.\n",
      "         Current function value: 0.500411\n",
      "         Iterations: 41\n",
      "         Function evaluations: 63\n",
      "         Gradient evaluations: 63\n",
      "[-0.006 -0.013 -0.007  0.004] 0.5004105960264462\n",
      "-0.9992374756393012 0.5343697524106561\n",
      "Warning: Desired error not necessarily achieved due to precision loss.\n",
      "         Current function value: 0.500677\n",
      "         Iterations: 42\n",
      "         Function evaluations: 158\n",
      "         Gradient evaluations: 144\n",
      "[-0.001 -0.001 -0.002  0.001] 0.5006768805448214\n",
      "109 jes_relative_pt_bb 0.0 1.0 0.0 0.9969327812236786 5.463594021648532e-10\n"
     ]
    },
    {
     "name": "stderr",
     "output_type": "stream",
     "text": [
      "/home/naodell/opt/anaconda3/lib/python3.7/site-packages/numdifftools/limits.py:182: FutureWarning: arrays to stack must be passed as a \"sequence\" type such as list or tuple. Support for non-sequence iterables such as generators is deprecated as of NumPy 1.16 and will raise an error in the future.\n",
      "  f_del = np.vstack(list(np.ravel(r)) for r in sequence)\n",
      "/home/naodell/opt/anaconda3/lib/python3.7/site-packages/numdifftools/limits.py:184: FutureWarning: arrays to stack must be passed as a \"sequence\" type such as list or tuple. Support for non-sequence iterables such as generators is deprecated as of NumPy 1.16 and will raise an error in the future.\n",
      "  for step in steps)\n"
     ]
    },
    {
     "name": "stdout",
     "output_type": "stream",
     "text": [
      "0.9969327812236786 1.8109349641202783\n",
      "Optimization terminated successfully.\n",
      "         Current function value: 0.506205\n",
      "         Iterations: 43\n",
      "         Function evaluations: 76\n",
      "         Gradient evaluations: 76\n",
      "[-0.004  0.011 -0.001 -0.001] 0.5062047191831391\n",
      "-0.9969327812236786 1.928399661355219\n",
      "Warning: Desired error not necessarily achieved due to precision loss.\n",
      "         Current function value: 0.508560\n",
      "         Iterations: 44\n",
      "         Function evaluations: 95\n",
      "         Gradient evaluations: 85\n",
      "[-0.006 -0.01  -0.034  0.008] 0.508559873337924\n",
      "110 jes_relative_pt_ec1 0.0 1.0 0.0 0.9801047411681204 5.463594021648532e-10\n",
      "Warning: Desired error not necessarily achieved due to precision loss.\n",
      "         Current function value: 0.508354\n",
      "         Iterations: 51\n",
      "         Function evaluations: 93\n",
      "         Gradient evaluations: 81\n",
      "[-0.016 -0.031 -0.005  0.008] 0.5083539121694374\n",
      "-0.9801047411681204 22.39697693645779\n",
      "Warning: Desired error not necessarily achieved due to precision loss.\n",
      "         Current function value: 0.504626\n",
      "         Iterations: 52\n",
      "         Function evaluations: 140\n",
      "         Gradient evaluations: 129\n",
      "[ 0.006  0.003 -0.008 -0.   ] 0.5046262472373572\n",
      "111 jes_relative_stat_fsr 0.0 1.0 0.0 1.0004345159936403 5.463594021648532e-10\n"
     ]
    },
    {
     "name": "stderr",
     "output_type": "stream",
     "text": [
      "/home/naodell/opt/anaconda3/lib/python3.7/site-packages/numdifftools/limits.py:182: FutureWarning: arrays to stack must be passed as a \"sequence\" type such as list or tuple. Support for non-sequence iterables such as generators is deprecated as of NumPy 1.16 and will raise an error in the future.\n",
      "  f_del = np.vstack(list(np.ravel(r)) for r in sequence)\n",
      "/home/naodell/opt/anaconda3/lib/python3.7/site-packages/numdifftools/limits.py:184: FutureWarning: arrays to stack must be passed as a \"sequence\" type such as list or tuple. Support for non-sequence iterables such as generators is deprecated as of NumPy 1.16 and will raise an error in the future.\n",
      "  for step in steps)\n"
     ]
    },
    {
     "name": "stdout",
     "output_type": "stream",
     "text": [
      "1.0004345159936403 0.6441953392183302\n",
      "Warning: Desired error not necessarily achieved due to precision loss.\n",
      "         Current function value: 0.501777\n",
      "         Iterations: 41\n",
      "         Function evaluations: 152\n",
      "         Gradient evaluations: 140\n",
      "[-0.004 -0.008 -0.008  0.003] 0.5017770545224898\n",
      "-1.0004345159936403 0.6503617694435913\n",
      "Optimization terminated successfully.\n",
      "         Current function value: 0.502777\n",
      "         Iterations: 43\n",
      "         Function evaluations: 63\n",
      "         Gradient evaluations: 63\n",
      "[-0.002 -0.     0.004 -0.   ] 0.5027767414370555\n",
      "112 jes_relative_stat_ec 0.0 1.0 0.0 0.9980093661065648 5.463594021648532e-10\n"
     ]
    },
    {
     "name": "stderr",
     "output_type": "stream",
     "text": [
      "/home/naodell/opt/anaconda3/lib/python3.7/site-packages/numdifftools/limits.py:182: FutureWarning: arrays to stack must be passed as a \"sequence\" type such as list or tuple. Support for non-sequence iterables such as generators is deprecated as of NumPy 1.16 and will raise an error in the future.\n",
      "  f_del = np.vstack(list(np.ravel(r)) for r in sequence)\n",
      "/home/naodell/opt/anaconda3/lib/python3.7/site-packages/numdifftools/limits.py:184: FutureWarning: arrays to stack must be passed as a \"sequence\" type such as list or tuple. Support for non-sequence iterables such as generators is deprecated as of NumPy 1.16 and will raise an error in the future.\n",
      "  for step in steps)\n"
     ]
    },
    {
     "name": "stdout",
     "output_type": "stream",
     "text": [
      "0.9980093661065648 2.5748927732047684\n",
      "Warning: Desired error not necessarily achieved due to precision loss.\n",
      "         Current function value: 0.503077\n",
      "         Iterations: 43\n",
      "         Function evaluations: 123\n",
      "         Gradient evaluations: 113\n",
      "[-0.006 -0.015 -0.018  0.006] 0.5030773295268421\n",
      "-0.9980093661065648 2.533877135073302\n",
      "Warning: Desired error not necessarily achieved due to precision loss.\n",
      "         Current function value: 0.504319\n",
      "         Iterations: 45\n",
      "         Function evaluations: 163\n",
      "         Gradient evaluations: 152\n",
      "[ 0.008  0.007  0.014 -0.005] 0.5043191934755781\n",
      "113 jes_single_pion_ecal 0.0 1.0 0.0 0.9803146448229632 5.463594021648532e-10\n"
     ]
    },
    {
     "name": "stderr",
     "output_type": "stream",
     "text": [
      "/home/naodell/opt/anaconda3/lib/python3.7/site-packages/numdifftools/limits.py:182: FutureWarning: arrays to stack must be passed as a \"sequence\" type such as list or tuple. Support for non-sequence iterables such as generators is deprecated as of NumPy 1.16 and will raise an error in the future.\n",
      "  f_del = np.vstack(list(np.ravel(r)) for r in sequence)\n",
      "/home/naodell/opt/anaconda3/lib/python3.7/site-packages/numdifftools/limits.py:184: FutureWarning: arrays to stack must be passed as a \"sequence\" type such as list or tuple. Support for non-sequence iterables such as generators is deprecated as of NumPy 1.16 and will raise an error in the future.\n",
      "  for step in steps)\n"
     ]
    },
    {
     "name": "stdout",
     "output_type": "stream",
     "text": [
      "0.9803146448229632 22.512838993018512\n",
      "Warning: Desired error not necessarily achieved due to precision loss.\n",
      "         Current function value: 0.514552\n",
      "         Iterations: 48\n",
      "         Function evaluations: 127\n",
      "         Gradient evaluations: 116\n",
      "[-0.01  -0.02  -0.048  0.012] 0.5145519354293177\n",
      "-0.9803146448229632 22.15725981851212\n",
      "Warning: Desired error not necessarily achieved due to precision loss.\n",
      "         Current function value: 0.503469\n",
      "         Iterations: 51\n",
      "         Function evaluations: 132\n",
      "         Gradient evaluations: 120\n",
      "[ 0.006  0.01   0.033 -0.008] 0.5034686473232144\n",
      "114 jes_single_pion_hcal 0.0 1.0 0.0 0.98625619240705 5.463594021648532e-10\n"
     ]
    },
    {
     "name": "stderr",
     "output_type": "stream",
     "text": [
      "/home/naodell/opt/anaconda3/lib/python3.7/site-packages/numdifftools/limits.py:182: FutureWarning: arrays to stack must be passed as a \"sequence\" type such as list or tuple. Support for non-sequence iterables such as generators is deprecated as of NumPy 1.16 and will raise an error in the future.\n",
      "  f_del = np.vstack(list(np.ravel(r)) for r in sequence)\n",
      "/home/naodell/opt/anaconda3/lib/python3.7/site-packages/numdifftools/limits.py:184: FutureWarning: arrays to stack must be passed as a \"sequence\" type such as list or tuple. Support for non-sequence iterables such as generators is deprecated as of NumPy 1.16 and will raise an error in the future.\n",
      "  for step in steps)\n"
     ]
    },
    {
     "name": "stdout",
     "output_type": "stream",
     "text": [
      "0.98625619240705 17.380604435519256\n",
      "Optimization terminated successfully.\n",
      "         Current function value: 0.515949\n",
      "         Iterations: 50\n",
      "         Function evaluations: 71\n",
      "         Gradient evaluations: 71\n",
      "[-0.01  -0.012 -0.035  0.009] 0.5159489955534079\n",
      "-0.98625619240705 17.16807487591817\n",
      "Warning: Desired error not necessarily achieved due to precision loss.\n",
      "         Current function value: 0.506046\n",
      "         Iterations: 51\n",
      "         Function evaluations: 270\n",
      "         Gradient evaluations: 256\n",
      "[ 0.001  0.002  0.012 -0.002] 0.5060459412688509\n",
      "115 jes_time_pt_eta 0.0 1.0 0.0 0.9942703400123796 5.463594021648532e-10\n"
     ]
    },
    {
     "name": "stderr",
     "output_type": "stream",
     "text": [
      "/home/naodell/opt/anaconda3/lib/python3.7/site-packages/numdifftools/limits.py:182: FutureWarning: arrays to stack must be passed as a \"sequence\" type such as list or tuple. Support for non-sequence iterables such as generators is deprecated as of NumPy 1.16 and will raise an error in the future.\n",
      "  f_del = np.vstack(list(np.ravel(r)) for r in sequence)\n",
      "/home/naodell/opt/anaconda3/lib/python3.7/site-packages/numdifftools/limits.py:184: FutureWarning: arrays to stack must be passed as a \"sequence\" type such as list or tuple. Support for non-sequence iterables such as generators is deprecated as of NumPy 1.16 and will raise an error in the future.\n",
      "  for step in steps)\n"
     ]
    },
    {
     "name": "stdout",
     "output_type": "stream",
     "text": [
      "0.9942703400123796 1.0648741509525106\n",
      "Optimization terminated successfully.\n",
      "         Current function value: 0.508336\n",
      "         Iterations: 46\n",
      "         Function evaluations: 63\n",
      "         Gradient evaluations: 63\n",
      "[ 0.017  0.021  0.021 -0.009] 0.5083361387864881\n",
      "-0.9942703400123796 1.0466973913910724\n",
      "Optimization terminated successfully.\n",
      "         Current function value: 0.500655\n",
      "         Iterations: 43\n",
      "         Function evaluations: 63\n",
      "         Gradient evaluations: 63\n",
      "[-0.008 -0.009  0.01   0.001] 0.500655088884262\n",
      "116 jes_flavor_qcd 0.0 1.0 0.0 0.7202563265634524 5.463594021648532e-10\n",
      "0.7202563265634524 253.99582789641678\n",
      "Warning: Desired error not necessarily achieved due to precision loss.\n",
      "         Current function value: 0.506225\n",
      "         Iterations: 61\n",
      "         Function evaluations: 134\n",
      "         Gradient evaluations: 123\n",
      "[ 0.133  0.14   0.133 -0.065] 0.5062246267567221\n",
      "-0.7202563265634524 261.89139722364337\n",
      "Warning: Desired error not necessarily achieved due to precision loss.\n",
      "         Current function value: 0.524265\n",
      "         Iterations: 57\n",
      "         Function evaluations: 169\n",
      "         Gradient evaluations: 159\n",
      "[-0.139 -0.135 -0.187  0.074] 0.5242645228850042\n",
      "\n"
     ]
    }
   ],
   "source": [
    "# n-1 systematics\n",
    "\n",
    "# initialize parameter data\n",
    "fit_data._pmask = parameters['active'].values.astype(bool)\n",
    "fit_data._pval_init = parameters['val_init'].values.copy()\n",
    "\n",
    "errs = []\n",
    "impacts = []\n",
    "iparam = 4\n",
    "mask = fit_data._pmask\n",
    "#mask[17:] = False\n",
    "p_init = fit_data._pval_fit\n",
    "p_fit = parameters.val_fit.values\n",
    "for pname, pdata in tqdm_notebook(parameters.iloc[4:].iterrows(), total=parameters.active.sum() - 4):\n",
    "    if not pdata.active:\n",
    "        iparam += 1\n",
    "        continue\n",
    "        \n",
    "    print(iparam, pname, pdata.val_init, pdata.err_init, pdata.val_fit, pdata.err_fit, fobj(p_init[mask]))\n",
    "\n",
    "    # fix parameter in fit and covariance calculation\n",
    "    mask[iparam] = False\n",
    "    #min_options['finite_diff_rel_step'] = steps[mask]\n",
    "    err, _ = fh.calculate_covariance(fobj, p_init[mask])\n",
    "    errs.append(err)\n",
    "    \n",
    "    # calculate impacts from up/down variations of n.p. on p.o.i.\n",
    "    p_init[iparam] = pdata.val_fit + pdata.err_fit\n",
    "    print(p_init[iparam], fobj(p_init[mask]))\n",
    "    res = minimize(fobj, p_fit[mask],\n",
    "                   jac     = fobj_jac,\n",
    "                   #hess    = 'cs',\n",
    "                   #method  = 'trust-constr', \n",
    "                   method  = 'BFGS', \n",
    "                   options = min_options,\n",
    "                  )\n",
    "    impact_up = res.x\n",
    "    print((res.x[:4]-p_fit[:4])*100/p_fit[:4], res.fun)\n",
    "                    \n",
    "    p_init[iparam] = pdata.val_fit - pdata.err_fit\n",
    "    print(p_init[iparam], fobj(p_init[mask]))\n",
    "    res = minimize(fobj, p_fit[mask],\n",
    "                   jac     = fobj_jac,\n",
    "                   #hess    = 'cs',\n",
    "                   #method  = 'trust-constr', \n",
    "                   method  = 'BFGS', \n",
    "                   options = min_options,\n",
    "                  )\n",
    "    impact_down = res.x\n",
    "    print((res.x[:4]-p_fit[:4])*100/p_fit[:4], res.fun)\n",
    "    impacts.append(np.array([impact_up, impact_down]))\n",
    "    \n",
    "    p_init[iparam] = pdata.val_fit\n",
    "    mask[iparam] = True\n",
    "    \n",
    "    iparam += 1\n",
    "    #if iparam > 15:\n",
    "    #    break\n",
    "    \n",
    "errs = np.array(errs)\n",
    "impacts = np.array(impacts)"
   ]
  },
  {
   "cell_type": "code",
   "execution_count": 8,
   "metadata": {
    "ExecuteTime": {
     "end_time": "2020-01-15T04:46:36.330702Z",
     "start_time": "2020-01-15T04:46:36.294040Z"
    },
    "code_folding": [],
    "scrolled": false
   },
   "outputs": [
    {
     "data": {
      "text/html": [
       "<div>\n",
       "<style scoped>\n",
       "    .dataframe tbody tr th:only-of-type {\n",
       "        vertical-align: middle;\n",
       "    }\n",
       "\n",
       "    .dataframe tbody tr th {\n",
       "        vertical-align: top;\n",
       "    }\n",
       "\n",
       "    .dataframe thead th {\n",
       "        text-align: right;\n",
       "    }\n",
       "</style>\n",
       "<table border=\"1\" class=\"dataframe\">\n",
       "  <thead>\n",
       "    <tr style=\"text-align: right;\">\n",
       "      <th></th>\n",
       "      <th>beta_e_up</th>\n",
       "      <th>beta_mu_up</th>\n",
       "      <th>beta_tau_up</th>\n",
       "      <th>beta_h_up</th>\n",
       "      <th>beta_e_down</th>\n",
       "      <th>beta_mu_down</th>\n",
       "      <th>beta_tau_down</th>\n",
       "      <th>beta_h_down</th>\n",
       "    </tr>\n",
       "  </thead>\n",
       "  <tbody>\n",
       "    <tr>\n",
       "      <th>br_tau_e</th>\n",
       "      <td>-0.012725</td>\n",
       "      <td>0.002115</td>\n",
       "      <td>0.002977</td>\n",
       "      <td>0.001220</td>\n",
       "      <td>0.012720</td>\n",
       "      <td>-0.002123</td>\n",
       "      <td>-0.002982</td>\n",
       "      <td>-0.001217</td>\n",
       "    </tr>\n",
       "    <tr>\n",
       "      <th>br_tau_mu</th>\n",
       "      <td>-0.003195</td>\n",
       "      <td>-0.012014</td>\n",
       "      <td>-0.041577</td>\n",
       "      <td>0.009072</td>\n",
       "      <td>0.003206</td>\n",
       "      <td>0.012042</td>\n",
       "      <td>0.041439</td>\n",
       "      <td>-0.009057</td>\n",
       "    </tr>\n",
       "    <tr>\n",
       "      <th>br_tau_h</th>\n",
       "      <td>0.027804</td>\n",
       "      <td>0.023572</td>\n",
       "      <td>-0.110573</td>\n",
       "      <td>0.009457</td>\n",
       "      <td>-0.027870</td>\n",
       "      <td>-0.023613</td>\n",
       "      <td>0.110719</td>\n",
       "      <td>-0.009464</td>\n",
       "    </tr>\n",
       "    <tr>\n",
       "      <th>lumi</th>\n",
       "      <td>0.054880</td>\n",
       "      <td>-0.012637</td>\n",
       "      <td>0.059235</td>\n",
       "      <td>-0.016213</td>\n",
       "      <td>-0.058490</td>\n",
       "      <td>0.017161</td>\n",
       "      <td>-0.066687</td>\n",
       "      <td>0.017257</td>\n",
       "    </tr>\n",
       "    <tr>\n",
       "      <th>xs_diboson</th>\n",
       "      <td>-0.001507</td>\n",
       "      <td>-0.001005</td>\n",
       "      <td>-0.018107</td>\n",
       "      <td>0.003294</td>\n",
       "      <td>0.001553</td>\n",
       "      <td>0.001143</td>\n",
       "      <td>0.018564</td>\n",
       "      <td>-0.003397</td>\n",
       "    </tr>\n",
       "    <tr>\n",
       "      <th>xs_ww</th>\n",
       "      <td>-0.004323</td>\n",
       "      <td>-0.011831</td>\n",
       "      <td>-0.045521</td>\n",
       "      <td>0.009853</td>\n",
       "      <td>-0.003825</td>\n",
       "      <td>0.016334</td>\n",
       "      <td>0.065999</td>\n",
       "      <td>-0.012542</td>\n",
       "    </tr>\n",
       "    <tr>\n",
       "      <th>xs_t</th>\n",
       "      <td>0.140440</td>\n",
       "      <td>0.148294</td>\n",
       "      <td>0.245025</td>\n",
       "      <td>-0.085275</td>\n",
       "      <td>-0.150129</td>\n",
       "      <td>-0.160458</td>\n",
       "      <td>-0.253317</td>\n",
       "      <td>0.090091</td>\n",
       "    </tr>\n",
       "    <tr>\n",
       "      <th>xs_wjets</th>\n",
       "      <td>-0.058974</td>\n",
       "      <td>-0.053157</td>\n",
       "      <td>0.092028</td>\n",
       "      <td>0.003211</td>\n",
       "      <td>0.046699</td>\n",
       "      <td>0.039980</td>\n",
       "      <td>-0.112074</td>\n",
       "      <td>0.004058</td>\n",
       "    </tr>\n",
       "    <tr>\n",
       "      <th>e_fakes</th>\n",
       "      <td>-0.097671</td>\n",
       "      <td>0.072674</td>\n",
       "      <td>-0.163455</td>\n",
       "      <td>0.030108</td>\n",
       "      <td>0.099534</td>\n",
       "      <td>-0.071985</td>\n",
       "      <td>0.164166</td>\n",
       "      <td>-0.030629</td>\n",
       "    </tr>\n",
       "    <tr>\n",
       "      <th>mu_fakes</th>\n",
       "      <td>0.217152</td>\n",
       "      <td>0.140709</td>\n",
       "      <td>-0.128162</td>\n",
       "      <td>-0.036698</td>\n",
       "      <td>-0.219895</td>\n",
       "      <td>-0.140623</td>\n",
       "      <td>0.109069</td>\n",
       "      <td>0.040172</td>\n",
       "    </tr>\n",
       "    <tr>\n",
       "      <th>e_fakes_ss</th>\n",
       "      <td>0.141149</td>\n",
       "      <td>-0.062904</td>\n",
       "      <td>0.160209</td>\n",
       "      <td>-0.038096</td>\n",
       "      <td>-0.140678</td>\n",
       "      <td>0.058731</td>\n",
       "      <td>-0.169010</td>\n",
       "      <td>0.040094</td>\n",
       "    </tr>\n",
       "    <tr>\n",
       "      <th>mu_fakes_ss</th>\n",
       "      <td>-0.127470</td>\n",
       "      <td>-0.011650</td>\n",
       "      <td>-0.071567</td>\n",
       "      <td>0.033660</td>\n",
       "      <td>0.121518</td>\n",
       "      <td>0.011962</td>\n",
       "      <td>0.058108</td>\n",
       "      <td>-0.030609</td>\n",
       "    </tr>\n",
       "    <tr>\n",
       "      <th>trigger_mu</th>\n",
       "      <td>0.120469</td>\n",
       "      <td>-0.195632</td>\n",
       "      <td>0.099314</td>\n",
       "      <td>-0.003858</td>\n",
       "      <td>-0.120643</td>\n",
       "      <td>0.196850</td>\n",
       "      <td>-0.100793</td>\n",
       "      <td>0.003928</td>\n",
       "    </tr>\n",
       "    <tr>\n",
       "      <th>xs_zjets_alt_pdf</th>\n",
       "      <td>0.008601</td>\n",
       "      <td>-0.016548</td>\n",
       "      <td>-0.009853</td>\n",
       "      <td>0.002844</td>\n",
       "      <td>-0.010446</td>\n",
       "      <td>0.015937</td>\n",
       "      <td>0.007983</td>\n",
       "      <td>-0.002153</td>\n",
       "    </tr>\n",
       "    <tr>\n",
       "      <th>xs_zjets_alt_alpha_s</th>\n",
       "      <td>-0.007357</td>\n",
       "      <td>0.045480</td>\n",
       "      <td>0.084311</td>\n",
       "      <td>-0.019561</td>\n",
       "      <td>0.005633</td>\n",
       "      <td>-0.044219</td>\n",
       "      <td>-0.083937</td>\n",
       "      <td>0.019575</td>\n",
       "    </tr>\n",
       "    <tr>\n",
       "      <th>xs_zjets_alt_qcd_scale_0</th>\n",
       "      <td>0.121893</td>\n",
       "      <td>0.060805</td>\n",
       "      <td>0.376129</td>\n",
       "      <td>-0.089280</td>\n",
       "      <td>-0.160840</td>\n",
       "      <td>-0.078566</td>\n",
       "      <td>-0.417895</td>\n",
       "      <td>0.105013</td>\n",
       "    </tr>\n",
       "    <tr>\n",
       "      <th>xs_zjets_alt_qcd_scale_1</th>\n",
       "      <td>0.003286</td>\n",
       "      <td>-0.022386</td>\n",
       "      <td>-0.108448</td>\n",
       "      <td>0.020378</td>\n",
       "      <td>-0.015084</td>\n",
       "      <td>0.020907</td>\n",
       "      <td>0.102848</td>\n",
       "      <td>-0.017362</td>\n",
       "    </tr>\n",
       "    <tr>\n",
       "      <th>xs_zjets_alt_qcd_scale_2</th>\n",
       "      <td>-0.174060</td>\n",
       "      <td>-0.219430</td>\n",
       "      <td>-0.120898</td>\n",
       "      <td>0.082180</td>\n",
       "      <td>0.174562</td>\n",
       "      <td>0.228447</td>\n",
       "      <td>0.125364</td>\n",
       "      <td>-0.084415</td>\n",
       "    </tr>\n",
       "    <tr>\n",
       "      <th>xs_ttbar_pdf</th>\n",
       "      <td>0.003036</td>\n",
       "      <td>0.003776</td>\n",
       "      <td>0.021751</td>\n",
       "      <td>-0.004563</td>\n",
       "      <td>-0.002165</td>\n",
       "      <td>-0.002862</td>\n",
       "      <td>-0.021009</td>\n",
       "      <td>0.004160</td>\n",
       "    </tr>\n",
       "    <tr>\n",
       "      <th>xs_ttbar_alpha_s</th>\n",
       "      <td>-0.009998</td>\n",
       "      <td>-0.007113</td>\n",
       "      <td>-0.038706</td>\n",
       "      <td>0.008918</td>\n",
       "      <td>0.010898</td>\n",
       "      <td>0.008024</td>\n",
       "      <td>0.038795</td>\n",
       "      <td>-0.009221</td>\n",
       "    </tr>\n",
       "    <tr>\n",
       "      <th>xs_ttbar_qcd_scale</th>\n",
       "      <td>-0.249749</td>\n",
       "      <td>-0.232971</td>\n",
       "      <td>-0.303657</td>\n",
       "      <td>0.125634</td>\n",
       "      <td>0.239502</td>\n",
       "      <td>0.230586</td>\n",
       "      <td>0.283802</td>\n",
       "      <td>-0.120443</td>\n",
       "    </tr>\n",
       "    <tr>\n",
       "      <th>eff_tau_0</th>\n",
       "      <td>0.019568</td>\n",
       "      <td>0.038810</td>\n",
       "      <td>-0.229604</td>\n",
       "      <td>0.027356</td>\n",
       "      <td>-0.025821</td>\n",
       "      <td>-0.040240</td>\n",
       "      <td>0.221296</td>\n",
       "      <td>-0.024801</td>\n",
       "    </tr>\n",
       "    <tr>\n",
       "      <th>eff_tau_1</th>\n",
       "      <td>-0.032970</td>\n",
       "      <td>0.046540</td>\n",
       "      <td>-0.247420</td>\n",
       "      <td>0.037360</td>\n",
       "      <td>0.029323</td>\n",
       "      <td>-0.047461</td>\n",
       "      <td>0.249750</td>\n",
       "      <td>-0.037003</td>\n",
       "    </tr>\n",
       "    <tr>\n",
       "      <th>eff_tau_2</th>\n",
       "      <td>-0.053944</td>\n",
       "      <td>0.060686</td>\n",
       "      <td>-0.481465</td>\n",
       "      <td>0.075843</td>\n",
       "      <td>0.052473</td>\n",
       "      <td>-0.062585</td>\n",
       "      <td>0.497040</td>\n",
       "      <td>-0.077793</td>\n",
       "    </tr>\n",
       "    <tr>\n",
       "      <th>eff_tau_3</th>\n",
       "      <td>0.014920</td>\n",
       "      <td>0.077416</td>\n",
       "      <td>-0.491998</td>\n",
       "      <td>0.063851</td>\n",
       "      <td>-0.017120</td>\n",
       "      <td>-0.083335</td>\n",
       "      <td>0.505481</td>\n",
       "      <td>-0.064708</td>\n",
       "    </tr>\n",
       "    <tr>\n",
       "      <th>eff_tau_4</th>\n",
       "      <td>0.050306</td>\n",
       "      <td>0.078234</td>\n",
       "      <td>-0.614425</td>\n",
       "      <td>0.077627</td>\n",
       "      <td>-0.059170</td>\n",
       "      <td>-0.083278</td>\n",
       "      <td>0.598685</td>\n",
       "      <td>-0.072890</td>\n",
       "    </tr>\n",
       "    <tr>\n",
       "      <th>eff_tau_5</th>\n",
       "      <td>0.048316</td>\n",
       "      <td>0.096265</td>\n",
       "      <td>-0.800464</td>\n",
       "      <td>0.104786</td>\n",
       "      <td>-0.057836</td>\n",
       "      <td>-0.102372</td>\n",
       "      <td>0.794229</td>\n",
       "      <td>-0.101293</td>\n",
       "    </tr>\n",
       "    <tr>\n",
       "      <th>misid_tau_e</th>\n",
       "      <td>0.023313</td>\n",
       "      <td>0.021488</td>\n",
       "      <td>-0.065606</td>\n",
       "      <td>0.003324</td>\n",
       "      <td>-0.023472</td>\n",
       "      <td>-0.021531</td>\n",
       "      <td>0.065396</td>\n",
       "      <td>-0.003258</td>\n",
       "    </tr>\n",
       "    <tr>\n",
       "      <th>misid_tau_h</th>\n",
       "      <td>0.080482</td>\n",
       "      <td>0.073142</td>\n",
       "      <td>-0.423339</td>\n",
       "      <td>0.043091</td>\n",
       "      <td>-0.080991</td>\n",
       "      <td>-0.072273</td>\n",
       "      <td>0.421084</td>\n",
       "      <td>-0.042788</td>\n",
       "    </tr>\n",
       "    <tr>\n",
       "      <th>misid_tau_0</th>\n",
       "      <td>-0.035549</td>\n",
       "      <td>-0.016353</td>\n",
       "      <td>0.064630</td>\n",
       "      <td>-0.002033</td>\n",
       "      <td>0.033614</td>\n",
       "      <td>0.015766</td>\n",
       "      <td>-0.060651</td>\n",
       "      <td>0.001801</td>\n",
       "    </tr>\n",
       "    <tr>\n",
       "      <th>...</th>\n",
       "      <td>...</td>\n",
       "      <td>...</td>\n",
       "      <td>...</td>\n",
       "      <td>...</td>\n",
       "      <td>...</td>\n",
       "      <td>...</td>\n",
       "      <td>...</td>\n",
       "      <td>...</td>\n",
       "    </tr>\n",
       "    <tr>\n",
       "      <th>btag_ksl</th>\n",
       "      <td>0.000217</td>\n",
       "      <td>0.000694</td>\n",
       "      <td>0.003148</td>\n",
       "      <td>-0.000649</td>\n",
       "      <td>-0.001008</td>\n",
       "      <td>-0.000361</td>\n",
       "      <td>-0.000420</td>\n",
       "      <td>0.000286</td>\n",
       "    </tr>\n",
       "    <tr>\n",
       "      <th>btag_l2c</th>\n",
       "      <td>0.001304</td>\n",
       "      <td>0.004751</td>\n",
       "      <td>0.019651</td>\n",
       "      <td>-0.004107</td>\n",
       "      <td>0.002884</td>\n",
       "      <td>0.007384</td>\n",
       "      <td>0.004645</td>\n",
       "      <td>-0.002383</td>\n",
       "    </tr>\n",
       "    <tr>\n",
       "      <th>btag_ltothers</th>\n",
       "      <td>-0.007451</td>\n",
       "      <td>0.007992</td>\n",
       "      <td>0.061734</td>\n",
       "      <td>-0.009949</td>\n",
       "      <td>-0.005184</td>\n",
       "      <td>0.006136</td>\n",
       "      <td>-0.020871</td>\n",
       "      <td>0.003182</td>\n",
       "    </tr>\n",
       "    <tr>\n",
       "      <th>btag_mudr</th>\n",
       "      <td>-0.000532</td>\n",
       "      <td>-0.000141</td>\n",
       "      <td>0.006632</td>\n",
       "      <td>-0.000952</td>\n",
       "      <td>-0.001223</td>\n",
       "      <td>0.006574</td>\n",
       "      <td>0.015012</td>\n",
       "      <td>-0.003253</td>\n",
       "    </tr>\n",
       "    <tr>\n",
       "      <th>btag_mupt</th>\n",
       "      <td>-0.001188</td>\n",
       "      <td>0.000749</td>\n",
       "      <td>0.025429</td>\n",
       "      <td>-0.003993</td>\n",
       "      <td>-0.000427</td>\n",
       "      <td>0.004008</td>\n",
       "      <td>0.011737</td>\n",
       "      <td>-0.002447</td>\n",
       "    </tr>\n",
       "    <tr>\n",
       "      <th>btag_ptrel</th>\n",
       "      <td>0.002057</td>\n",
       "      <td>0.001082</td>\n",
       "      <td>0.013998</td>\n",
       "      <td>-0.002738</td>\n",
       "      <td>0.000392</td>\n",
       "      <td>0.004013</td>\n",
       "      <td>-0.005218</td>\n",
       "      <td>0.000130</td>\n",
       "    </tr>\n",
       "    <tr>\n",
       "      <th>btag_sampledependence</th>\n",
       "      <td>0.003094</td>\n",
       "      <td>0.008607</td>\n",
       "      <td>0.059089</td>\n",
       "      <td>-0.011310</td>\n",
       "      <td>-0.015659</td>\n",
       "      <td>0.003590</td>\n",
       "      <td>-0.010880</td>\n",
       "      <td>0.003666</td>\n",
       "    </tr>\n",
       "    <tr>\n",
       "      <th>btag_pileup</th>\n",
       "      <td>-0.001950</td>\n",
       "      <td>0.002073</td>\n",
       "      <td>0.015914</td>\n",
       "      <td>-0.002562</td>\n",
       "      <td>-0.000128</td>\n",
       "      <td>0.009906</td>\n",
       "      <td>0.009924</td>\n",
       "      <td>-0.003148</td>\n",
       "    </tr>\n",
       "    <tr>\n",
       "      <th>btag_statistic</th>\n",
       "      <td>-0.019345</td>\n",
       "      <td>-0.001870</td>\n",
       "      <td>0.040549</td>\n",
       "      <td>-0.003089</td>\n",
       "      <td>0.004660</td>\n",
       "      <td>0.013702</td>\n",
       "      <td>0.030602</td>\n",
       "      <td>-0.007823</td>\n",
       "    </tr>\n",
       "    <tr>\n",
       "      <th>ctag</th>\n",
       "      <td>0.163059</td>\n",
       "      <td>0.169932</td>\n",
       "      <td>0.146112</td>\n",
       "      <td>-0.076543</td>\n",
       "      <td>-0.177264</td>\n",
       "      <td>-0.203825</td>\n",
       "      <td>-0.150644</td>\n",
       "      <td>0.084951</td>\n",
       "    </tr>\n",
       "    <tr>\n",
       "      <th>mistag</th>\n",
       "      <td>0.067175</td>\n",
       "      <td>0.051678</td>\n",
       "      <td>-0.136228</td>\n",
       "      <td>0.002776</td>\n",
       "      <td>-0.047317</td>\n",
       "      <td>-0.035010</td>\n",
       "      <td>0.124561</td>\n",
       "      <td>-0.006747</td>\n",
       "    </tr>\n",
       "    <tr>\n",
       "      <th>jer</th>\n",
       "      <td>-0.140886</td>\n",
       "      <td>-0.053156</td>\n",
       "      <td>0.068042</td>\n",
       "      <td>0.020130</td>\n",
       "      <td>0.073856</td>\n",
       "      <td>0.052801</td>\n",
       "      <td>-0.148235</td>\n",
       "      <td>0.003447</td>\n",
       "    </tr>\n",
       "    <tr>\n",
       "      <th>jes_abs_scale</th>\n",
       "      <td>0.003148</td>\n",
       "      <td>-0.002447</td>\n",
       "      <td>0.015933</td>\n",
       "      <td>-0.002658</td>\n",
       "      <td>-0.015412</td>\n",
       "      <td>-0.007048</td>\n",
       "      <td>0.001403</td>\n",
       "      <td>0.003364</td>\n",
       "    </tr>\n",
       "    <tr>\n",
       "      <th>jes_abs_stat</th>\n",
       "      <td>-0.003468</td>\n",
       "      <td>-0.005722</td>\n",
       "      <td>0.009522</td>\n",
       "      <td>-0.000053</td>\n",
       "      <td>-0.016443</td>\n",
       "      <td>-0.010079</td>\n",
       "      <td>0.002735</td>\n",
       "      <td>0.003800</td>\n",
       "    </tr>\n",
       "    <tr>\n",
       "      <th>jes_fragmentation</th>\n",
       "      <td>0.000030</td>\n",
       "      <td>0.000692</td>\n",
       "      <td>0.021069</td>\n",
       "      <td>-0.003481</td>\n",
       "      <td>-0.014510</td>\n",
       "      <td>-0.014539</td>\n",
       "      <td>-0.029542</td>\n",
       "      <td>0.009361</td>\n",
       "    </tr>\n",
       "    <tr>\n",
       "      <th>jes_abs_mpf_bias</th>\n",
       "      <td>0.004986</td>\n",
       "      <td>0.003896</td>\n",
       "      <td>0.012669</td>\n",
       "      <td>-0.003443</td>\n",
       "      <td>-0.016030</td>\n",
       "      <td>-0.015457</td>\n",
       "      <td>-0.035234</td>\n",
       "      <td>0.010660</td>\n",
       "    </tr>\n",
       "    <tr>\n",
       "      <th>jes_pileup_data_mc</th>\n",
       "      <td>0.020666</td>\n",
       "      <td>0.027238</td>\n",
       "      <td>0.039156</td>\n",
       "      <td>-0.013909</td>\n",
       "      <td>-0.030193</td>\n",
       "      <td>-0.029840</td>\n",
       "      <td>-0.084374</td>\n",
       "      <td>0.023071</td>\n",
       "    </tr>\n",
       "    <tr>\n",
       "      <th>jes_pileup_pt_bb</th>\n",
       "      <td>0.033964</td>\n",
       "      <td>0.044583</td>\n",
       "      <td>0.054875</td>\n",
       "      <td>-0.021316</td>\n",
       "      <td>-0.023247</td>\n",
       "      <td>-0.018957</td>\n",
       "      <td>-0.071958</td>\n",
       "      <td>0.018239</td>\n",
       "    </tr>\n",
       "    <tr>\n",
       "      <th>jes_pileup_pt_ec1</th>\n",
       "      <td>-0.037125</td>\n",
       "      <td>-0.047659</td>\n",
       "      <td>-0.089978</td>\n",
       "      <td>0.027921</td>\n",
       "      <td>0.026723</td>\n",
       "      <td>0.030434</td>\n",
       "      <td>0.067124</td>\n",
       "      <td>-0.019856</td>\n",
       "    </tr>\n",
       "    <tr>\n",
       "      <th>jes_pileup_pt_ref</th>\n",
       "      <td>0.025021</td>\n",
       "      <td>0.017284</td>\n",
       "      <td>0.033991</td>\n",
       "      <td>-0.012189</td>\n",
       "      <td>-0.017779</td>\n",
       "      <td>-0.019928</td>\n",
       "      <td>-0.063883</td>\n",
       "      <td>0.016230</td>\n",
       "    </tr>\n",
       "    <tr>\n",
       "      <th>jes_relative_bal</th>\n",
       "      <td>0.027604</td>\n",
       "      <td>0.033033</td>\n",
       "      <td>0.060476</td>\n",
       "      <td>-0.019349</td>\n",
       "      <td>-0.034850</td>\n",
       "      <td>-0.032615</td>\n",
       "      <td>-0.118882</td>\n",
       "      <td>0.029771</td>\n",
       "    </tr>\n",
       "    <tr>\n",
       "      <th>jes_relative_jer_ec1</th>\n",
       "      <td>-0.005916</td>\n",
       "      <td>-0.012622</td>\n",
       "      <td>-0.007337</td>\n",
       "      <td>0.004134</td>\n",
       "      <td>-0.000536</td>\n",
       "      <td>-0.001187</td>\n",
       "      <td>-0.001872</td>\n",
       "      <td>0.000574</td>\n",
       "    </tr>\n",
       "    <tr>\n",
       "      <th>jes_relative_pt_bb</th>\n",
       "      <td>-0.004132</td>\n",
       "      <td>0.011421</td>\n",
       "      <td>-0.000856</td>\n",
       "      <td>-0.001028</td>\n",
       "      <td>-0.006355</td>\n",
       "      <td>-0.009523</td>\n",
       "      <td>-0.034147</td>\n",
       "      <td>0.007992</td>\n",
       "    </tr>\n",
       "    <tr>\n",
       "      <th>jes_relative_pt_ec1</th>\n",
       "      <td>-0.016068</td>\n",
       "      <td>-0.031111</td>\n",
       "      <td>-0.005471</td>\n",
       "      <td>0.008411</td>\n",
       "      <td>0.006449</td>\n",
       "      <td>0.002511</td>\n",
       "      <td>-0.008308</td>\n",
       "      <td>-0.000104</td>\n",
       "    </tr>\n",
       "    <tr>\n",
       "      <th>jes_relative_stat_fsr</th>\n",
       "      <td>-0.004358</td>\n",
       "      <td>-0.008358</td>\n",
       "      <td>-0.008432</td>\n",
       "      <td>0.003379</td>\n",
       "      <td>-0.001730</td>\n",
       "      <td>-0.000358</td>\n",
       "      <td>0.003957</td>\n",
       "      <td>-0.000298</td>\n",
       "    </tr>\n",
       "    <tr>\n",
       "      <th>jes_relative_stat_ec</th>\n",
       "      <td>-0.005831</td>\n",
       "      <td>-0.015187</td>\n",
       "      <td>-0.018085</td>\n",
       "      <td>0.006247</td>\n",
       "      <td>0.008293</td>\n",
       "      <td>0.006850</td>\n",
       "      <td>0.013875</td>\n",
       "      <td>-0.004636</td>\n",
       "    </tr>\n",
       "    <tr>\n",
       "      <th>jes_single_pion_ecal</th>\n",
       "      <td>-0.009718</td>\n",
       "      <td>-0.019525</td>\n",
       "      <td>-0.048225</td>\n",
       "      <td>0.012377</td>\n",
       "      <td>0.005530</td>\n",
       "      <td>0.009543</td>\n",
       "      <td>0.032913</td>\n",
       "      <td>-0.007666</td>\n",
       "    </tr>\n",
       "    <tr>\n",
       "      <th>jes_single_pion_hcal</th>\n",
       "      <td>-0.009523</td>\n",
       "      <td>-0.011715</td>\n",
       "      <td>-0.034517</td>\n",
       "      <td>0.008908</td>\n",
       "      <td>0.000709</td>\n",
       "      <td>0.002198</td>\n",
       "      <td>0.012333</td>\n",
       "      <td>-0.002435</td>\n",
       "    </tr>\n",
       "    <tr>\n",
       "      <th>jes_time_pt_eta</th>\n",
       "      <td>0.016609</td>\n",
       "      <td>0.020751</td>\n",
       "      <td>0.021259</td>\n",
       "      <td>-0.009365</td>\n",
       "      <td>-0.007646</td>\n",
       "      <td>-0.009064</td>\n",
       "      <td>0.009510</td>\n",
       "      <td>0.001150</td>\n",
       "    </tr>\n",
       "    <tr>\n",
       "      <th>jes_flavor_qcd</th>\n",
       "      <td>0.132695</td>\n",
       "      <td>0.139545</td>\n",
       "      <td>0.132579</td>\n",
       "      <td>-0.064675</td>\n",
       "      <td>-0.139054</td>\n",
       "      <td>-0.134616</td>\n",
       "      <td>-0.187082</td>\n",
       "      <td>0.073611</td>\n",
       "    </tr>\n",
       "  </tbody>\n",
       "</table>\n",
       "<p>107 rows × 8 columns</p>\n",
       "</div>"
      ],
      "text/plain": [
       "                          beta_e_up  beta_mu_up  beta_tau_up  beta_h_up  \\\n",
       "br_tau_e                  -0.012725    0.002115     0.002977   0.001220   \n",
       "br_tau_mu                 -0.003195   -0.012014    -0.041577   0.009072   \n",
       "br_tau_h                   0.027804    0.023572    -0.110573   0.009457   \n",
       "lumi                       0.054880   -0.012637     0.059235  -0.016213   \n",
       "xs_diboson                -0.001507   -0.001005    -0.018107   0.003294   \n",
       "xs_ww                     -0.004323   -0.011831    -0.045521   0.009853   \n",
       "xs_t                       0.140440    0.148294     0.245025  -0.085275   \n",
       "xs_wjets                  -0.058974   -0.053157     0.092028   0.003211   \n",
       "e_fakes                   -0.097671    0.072674    -0.163455   0.030108   \n",
       "mu_fakes                   0.217152    0.140709    -0.128162  -0.036698   \n",
       "e_fakes_ss                 0.141149   -0.062904     0.160209  -0.038096   \n",
       "mu_fakes_ss               -0.127470   -0.011650    -0.071567   0.033660   \n",
       "trigger_mu                 0.120469   -0.195632     0.099314  -0.003858   \n",
       "xs_zjets_alt_pdf           0.008601   -0.016548    -0.009853   0.002844   \n",
       "xs_zjets_alt_alpha_s      -0.007357    0.045480     0.084311  -0.019561   \n",
       "xs_zjets_alt_qcd_scale_0   0.121893    0.060805     0.376129  -0.089280   \n",
       "xs_zjets_alt_qcd_scale_1   0.003286   -0.022386    -0.108448   0.020378   \n",
       "xs_zjets_alt_qcd_scale_2  -0.174060   -0.219430    -0.120898   0.082180   \n",
       "xs_ttbar_pdf               0.003036    0.003776     0.021751  -0.004563   \n",
       "xs_ttbar_alpha_s          -0.009998   -0.007113    -0.038706   0.008918   \n",
       "xs_ttbar_qcd_scale        -0.249749   -0.232971    -0.303657   0.125634   \n",
       "eff_tau_0                  0.019568    0.038810    -0.229604   0.027356   \n",
       "eff_tau_1                 -0.032970    0.046540    -0.247420   0.037360   \n",
       "eff_tau_2                 -0.053944    0.060686    -0.481465   0.075843   \n",
       "eff_tau_3                  0.014920    0.077416    -0.491998   0.063851   \n",
       "eff_tau_4                  0.050306    0.078234    -0.614425   0.077627   \n",
       "eff_tau_5                  0.048316    0.096265    -0.800464   0.104786   \n",
       "misid_tau_e                0.023313    0.021488    -0.065606   0.003324   \n",
       "misid_tau_h                0.080482    0.073142    -0.423339   0.043091   \n",
       "misid_tau_0               -0.035549   -0.016353     0.064630  -0.002033   \n",
       "...                             ...         ...          ...        ...   \n",
       "btag_ksl                   0.000217    0.000694     0.003148  -0.000649   \n",
       "btag_l2c                   0.001304    0.004751     0.019651  -0.004107   \n",
       "btag_ltothers             -0.007451    0.007992     0.061734  -0.009949   \n",
       "btag_mudr                 -0.000532   -0.000141     0.006632  -0.000952   \n",
       "btag_mupt                 -0.001188    0.000749     0.025429  -0.003993   \n",
       "btag_ptrel                 0.002057    0.001082     0.013998  -0.002738   \n",
       "btag_sampledependence      0.003094    0.008607     0.059089  -0.011310   \n",
       "btag_pileup               -0.001950    0.002073     0.015914  -0.002562   \n",
       "btag_statistic            -0.019345   -0.001870     0.040549  -0.003089   \n",
       "ctag                       0.163059    0.169932     0.146112  -0.076543   \n",
       "mistag                     0.067175    0.051678    -0.136228   0.002776   \n",
       "jer                       -0.140886   -0.053156     0.068042   0.020130   \n",
       "jes_abs_scale              0.003148   -0.002447     0.015933  -0.002658   \n",
       "jes_abs_stat              -0.003468   -0.005722     0.009522  -0.000053   \n",
       "jes_fragmentation          0.000030    0.000692     0.021069  -0.003481   \n",
       "jes_abs_mpf_bias           0.004986    0.003896     0.012669  -0.003443   \n",
       "jes_pileup_data_mc         0.020666    0.027238     0.039156  -0.013909   \n",
       "jes_pileup_pt_bb           0.033964    0.044583     0.054875  -0.021316   \n",
       "jes_pileup_pt_ec1         -0.037125   -0.047659    -0.089978   0.027921   \n",
       "jes_pileup_pt_ref          0.025021    0.017284     0.033991  -0.012189   \n",
       "jes_relative_bal           0.027604    0.033033     0.060476  -0.019349   \n",
       "jes_relative_jer_ec1      -0.005916   -0.012622    -0.007337   0.004134   \n",
       "jes_relative_pt_bb        -0.004132    0.011421    -0.000856  -0.001028   \n",
       "jes_relative_pt_ec1       -0.016068   -0.031111    -0.005471   0.008411   \n",
       "jes_relative_stat_fsr     -0.004358   -0.008358    -0.008432   0.003379   \n",
       "jes_relative_stat_ec      -0.005831   -0.015187    -0.018085   0.006247   \n",
       "jes_single_pion_ecal      -0.009718   -0.019525    -0.048225   0.012377   \n",
       "jes_single_pion_hcal      -0.009523   -0.011715    -0.034517   0.008908   \n",
       "jes_time_pt_eta            0.016609    0.020751     0.021259  -0.009365   \n",
       "jes_flavor_qcd             0.132695    0.139545     0.132579  -0.064675   \n",
       "\n",
       "                          beta_e_down  beta_mu_down  beta_tau_down  \\\n",
       "br_tau_e                     0.012720     -0.002123      -0.002982   \n",
       "br_tau_mu                    0.003206      0.012042       0.041439   \n",
       "br_tau_h                    -0.027870     -0.023613       0.110719   \n",
       "lumi                        -0.058490      0.017161      -0.066687   \n",
       "xs_diboson                   0.001553      0.001143       0.018564   \n",
       "xs_ww                       -0.003825      0.016334       0.065999   \n",
       "xs_t                        -0.150129     -0.160458      -0.253317   \n",
       "xs_wjets                     0.046699      0.039980      -0.112074   \n",
       "e_fakes                      0.099534     -0.071985       0.164166   \n",
       "mu_fakes                    -0.219895     -0.140623       0.109069   \n",
       "e_fakes_ss                  -0.140678      0.058731      -0.169010   \n",
       "mu_fakes_ss                  0.121518      0.011962       0.058108   \n",
       "trigger_mu                  -0.120643      0.196850      -0.100793   \n",
       "xs_zjets_alt_pdf            -0.010446      0.015937       0.007983   \n",
       "xs_zjets_alt_alpha_s         0.005633     -0.044219      -0.083937   \n",
       "xs_zjets_alt_qcd_scale_0    -0.160840     -0.078566      -0.417895   \n",
       "xs_zjets_alt_qcd_scale_1    -0.015084      0.020907       0.102848   \n",
       "xs_zjets_alt_qcd_scale_2     0.174562      0.228447       0.125364   \n",
       "xs_ttbar_pdf                -0.002165     -0.002862      -0.021009   \n",
       "xs_ttbar_alpha_s             0.010898      0.008024       0.038795   \n",
       "xs_ttbar_qcd_scale           0.239502      0.230586       0.283802   \n",
       "eff_tau_0                   -0.025821     -0.040240       0.221296   \n",
       "eff_tau_1                    0.029323     -0.047461       0.249750   \n",
       "eff_tau_2                    0.052473     -0.062585       0.497040   \n",
       "eff_tau_3                   -0.017120     -0.083335       0.505481   \n",
       "eff_tau_4                   -0.059170     -0.083278       0.598685   \n",
       "eff_tau_5                   -0.057836     -0.102372       0.794229   \n",
       "misid_tau_e                 -0.023472     -0.021531       0.065396   \n",
       "misid_tau_h                 -0.080991     -0.072273       0.421084   \n",
       "misid_tau_0                  0.033614      0.015766      -0.060651   \n",
       "...                               ...           ...            ...   \n",
       "btag_ksl                    -0.001008     -0.000361      -0.000420   \n",
       "btag_l2c                     0.002884      0.007384       0.004645   \n",
       "btag_ltothers               -0.005184      0.006136      -0.020871   \n",
       "btag_mudr                   -0.001223      0.006574       0.015012   \n",
       "btag_mupt                   -0.000427      0.004008       0.011737   \n",
       "btag_ptrel                   0.000392      0.004013      -0.005218   \n",
       "btag_sampledependence       -0.015659      0.003590      -0.010880   \n",
       "btag_pileup                 -0.000128      0.009906       0.009924   \n",
       "btag_statistic               0.004660      0.013702       0.030602   \n",
       "ctag                        -0.177264     -0.203825      -0.150644   \n",
       "mistag                      -0.047317     -0.035010       0.124561   \n",
       "jer                          0.073856      0.052801      -0.148235   \n",
       "jes_abs_scale               -0.015412     -0.007048       0.001403   \n",
       "jes_abs_stat                -0.016443     -0.010079       0.002735   \n",
       "jes_fragmentation           -0.014510     -0.014539      -0.029542   \n",
       "jes_abs_mpf_bias            -0.016030     -0.015457      -0.035234   \n",
       "jes_pileup_data_mc          -0.030193     -0.029840      -0.084374   \n",
       "jes_pileup_pt_bb            -0.023247     -0.018957      -0.071958   \n",
       "jes_pileup_pt_ec1            0.026723      0.030434       0.067124   \n",
       "jes_pileup_pt_ref           -0.017779     -0.019928      -0.063883   \n",
       "jes_relative_bal            -0.034850     -0.032615      -0.118882   \n",
       "jes_relative_jer_ec1        -0.000536     -0.001187      -0.001872   \n",
       "jes_relative_pt_bb          -0.006355     -0.009523      -0.034147   \n",
       "jes_relative_pt_ec1          0.006449      0.002511      -0.008308   \n",
       "jes_relative_stat_fsr       -0.001730     -0.000358       0.003957   \n",
       "jes_relative_stat_ec         0.008293      0.006850       0.013875   \n",
       "jes_single_pion_ecal         0.005530      0.009543       0.032913   \n",
       "jes_single_pion_hcal         0.000709      0.002198       0.012333   \n",
       "jes_time_pt_eta             -0.007646     -0.009064       0.009510   \n",
       "jes_flavor_qcd              -0.139054     -0.134616      -0.187082   \n",
       "\n",
       "                          beta_h_down  \n",
       "br_tau_e                    -0.001217  \n",
       "br_tau_mu                   -0.009057  \n",
       "br_tau_h                    -0.009464  \n",
       "lumi                         0.017257  \n",
       "xs_diboson                  -0.003397  \n",
       "xs_ww                       -0.012542  \n",
       "xs_t                         0.090091  \n",
       "xs_wjets                     0.004058  \n",
       "e_fakes                     -0.030629  \n",
       "mu_fakes                     0.040172  \n",
       "e_fakes_ss                   0.040094  \n",
       "mu_fakes_ss                 -0.030609  \n",
       "trigger_mu                   0.003928  \n",
       "xs_zjets_alt_pdf            -0.002153  \n",
       "xs_zjets_alt_alpha_s         0.019575  \n",
       "xs_zjets_alt_qcd_scale_0     0.105013  \n",
       "xs_zjets_alt_qcd_scale_1    -0.017362  \n",
       "xs_zjets_alt_qcd_scale_2    -0.084415  \n",
       "xs_ttbar_pdf                 0.004160  \n",
       "xs_ttbar_alpha_s            -0.009221  \n",
       "xs_ttbar_qcd_scale          -0.120443  \n",
       "eff_tau_0                   -0.024801  \n",
       "eff_tau_1                   -0.037003  \n",
       "eff_tau_2                   -0.077793  \n",
       "eff_tau_3                   -0.064708  \n",
       "eff_tau_4                   -0.072890  \n",
       "eff_tau_5                   -0.101293  \n",
       "misid_tau_e                 -0.003258  \n",
       "misid_tau_h                 -0.042788  \n",
       "misid_tau_0                  0.001801  \n",
       "...                               ...  \n",
       "btag_ksl                     0.000286  \n",
       "btag_l2c                    -0.002383  \n",
       "btag_ltothers                0.003182  \n",
       "btag_mudr                   -0.003253  \n",
       "btag_mupt                   -0.002447  \n",
       "btag_ptrel                   0.000130  \n",
       "btag_sampledependence        0.003666  \n",
       "btag_pileup                 -0.003148  \n",
       "btag_statistic              -0.007823  \n",
       "ctag                         0.084951  \n",
       "mistag                      -0.006747  \n",
       "jer                          0.003447  \n",
       "jes_abs_scale                0.003364  \n",
       "jes_abs_stat                 0.003800  \n",
       "jes_fragmentation            0.009361  \n",
       "jes_abs_mpf_bias             0.010660  \n",
       "jes_pileup_data_mc           0.023071  \n",
       "jes_pileup_pt_bb             0.018239  \n",
       "jes_pileup_pt_ec1           -0.019856  \n",
       "jes_pileup_pt_ref            0.016230  \n",
       "jes_relative_bal             0.029771  \n",
       "jes_relative_jer_ec1         0.000574  \n",
       "jes_relative_pt_bb           0.007992  \n",
       "jes_relative_pt_ec1         -0.000104  \n",
       "jes_relative_stat_fsr       -0.000298  \n",
       "jes_relative_stat_ec        -0.004636  \n",
       "jes_single_pion_ecal        -0.007666  \n",
       "jes_single_pion_hcal        -0.002435  \n",
       "jes_time_pt_eta              0.001150  \n",
       "jes_flavor_qcd               0.073611  \n",
       "\n",
       "[107 rows x 8 columns]"
      ]
     },
     "execution_count": 8,
     "metadata": {},
     "output_type": "execute_result"
    }
   ],
   "source": [
    "# convert impacts to dataframes \n",
    "impacts_np = np.hstack([100*(impacts[:,0,:4] - p_fit[:4])/p_fit[:4], 100*(impacts[:,1,:4] - p_fit[:4])/p_fit[:4]])\n",
    "\n",
    "#impacts_up = pd.DataFrame(impacts_np, columns=['beta_e_up', 'beta_mu_up', 'beta_tau_up', 'beta_h_up'], index=list(p_labels_fancy[4:]))\n",
    "p_labels = parameters.query('active == 1').index.values[4:]\n",
    "impacts_np = pd.DataFrame(impacts_np, columns=['beta_e_up', 'beta_mu_up', 'beta_tau_up', 'beta_h_up', 'beta_e_down', 'beta_mu_down', 'beta_tau_down', 'beta_h_down'], index=list(p_labels))\n",
    "pd.DataFrame(impacts_np)"
   ]
  },
  {
   "cell_type": "code",
   "execution_count": 14,
   "metadata": {
    "ExecuteTime": {
     "end_time": "2020-01-15T04:48:29.403703Z",
     "start_time": "2020-01-15T04:48:29.375376Z"
    },
    "code_folding": [],
    "scrolled": true
   },
   "outputs": [
    {
     "data": {
      "text/html": [
       "<div>\n",
       "<style scoped>\n",
       "    .dataframe tbody tr th:only-of-type {\n",
       "        vertical-align: middle;\n",
       "    }\n",
       "\n",
       "    .dataframe tbody tr th {\n",
       "        vertical-align: top;\n",
       "    }\n",
       "\n",
       "    .dataframe thead th {\n",
       "        text-align: right;\n",
       "    }\n",
       "</style>\n",
       "<table border=\"1\" class=\"dataframe\">\n",
       "  <thead>\n",
       "    <tr style=\"text-align: right;\">\n",
       "      <th></th>\n",
       "      <th>beta_e</th>\n",
       "      <th>beta_mu</th>\n",
       "      <th>beta_tau</th>\n",
       "      <th>beta_h</th>\n",
       "    </tr>\n",
       "  </thead>\n",
       "  <tbody>\n",
       "    <tr>\n",
       "      <th>br_tau_e</th>\n",
       "      <td>3.081983</td>\n",
       "      <td>2.650105</td>\n",
       "      <td>4.168588</td>\n",
       "      <td>4.781581</td>\n",
       "    </tr>\n",
       "    <tr>\n",
       "      <th>br_tau_mu</th>\n",
       "      <td>3.082137</td>\n",
       "      <td>2.649879</td>\n",
       "      <td>4.167895</td>\n",
       "      <td>4.780726</td>\n",
       "    </tr>\n",
       "    <tr>\n",
       "      <th>br_tau_h</th>\n",
       "      <td>3.081321</td>\n",
       "      <td>2.649196</td>\n",
       "      <td>4.163629</td>\n",
       "      <td>4.780630</td>\n",
       "    </tr>\n",
       "    <tr>\n",
       "      <th>lumi</th>\n",
       "      <td>3.078836</td>\n",
       "      <td>2.649772</td>\n",
       "      <td>4.167010</td>\n",
       "      <td>4.778588</td>\n",
       "    </tr>\n",
       "    <tr>\n",
       "      <th>xs_diboson</th>\n",
       "      <td>3.082125</td>\n",
       "      <td>2.650099</td>\n",
       "      <td>4.168428</td>\n",
       "      <td>4.781417</td>\n",
       "    </tr>\n",
       "    <tr>\n",
       "      <th>xs_ww</th>\n",
       "      <td>3.082126</td>\n",
       "      <td>2.649750</td>\n",
       "      <td>4.167200</td>\n",
       "      <td>4.780033</td>\n",
       "    </tr>\n",
       "    <tr>\n",
       "      <th>xs_t</th>\n",
       "      <td>3.059565</td>\n",
       "      <td>2.610399</td>\n",
       "      <td>4.143245</td>\n",
       "      <td>4.696620</td>\n",
       "    </tr>\n",
       "    <tr>\n",
       "      <th>xs_wjets</th>\n",
       "      <td>3.079104</td>\n",
       "      <td>2.646468</td>\n",
       "      <td>4.164403</td>\n",
       "      <td>4.781534</td>\n",
       "    </tr>\n",
       "    <tr>\n",
       "      <th>e_fakes</th>\n",
       "      <td>3.072253</td>\n",
       "      <td>2.641705</td>\n",
       "      <td>4.157663</td>\n",
       "      <td>4.771821</td>\n",
       "    </tr>\n",
       "    <tr>\n",
       "      <th>mu_fakes</th>\n",
       "      <td>3.031548</td>\n",
       "      <td>2.617427</td>\n",
       "      <td>4.162999</td>\n",
       "      <td>4.765015</td>\n",
       "    </tr>\n",
       "    <tr>\n",
       "      <th>e_fakes_ss</th>\n",
       "      <td>3.061593</td>\n",
       "      <td>2.644280</td>\n",
       "      <td>4.157562</td>\n",
       "      <td>4.765176</td>\n",
       "    </tr>\n",
       "    <tr>\n",
       "      <th>mu_fakes_ss</th>\n",
       "      <td>3.066064</td>\n",
       "      <td>2.649850</td>\n",
       "      <td>4.166824</td>\n",
       "      <td>4.770299</td>\n",
       "    </tr>\n",
       "    <tr>\n",
       "      <th>trigger_mu</th>\n",
       "      <td>3.067378</td>\n",
       "      <td>2.586477</td>\n",
       "      <td>4.164519</td>\n",
       "      <td>4.781389</td>\n",
       "    </tr>\n",
       "    <tr>\n",
       "      <th>xs_zjets_alt_pdf</th>\n",
       "      <td>3.082045</td>\n",
       "      <td>2.649693</td>\n",
       "      <td>4.168533</td>\n",
       "      <td>4.781471</td>\n",
       "    </tr>\n",
       "    <tr>\n",
       "      <th>xs_zjets_alt_alpha_s</th>\n",
       "      <td>3.082090</td>\n",
       "      <td>2.646875</td>\n",
       "      <td>4.165684</td>\n",
       "      <td>4.777461</td>\n",
       "    </tr>\n",
       "    <tr>\n",
       "      <th>xs_zjets_alt_qcd_scale_0</th>\n",
       "      <td>3.061389</td>\n",
       "      <td>2.642042</td>\n",
       "      <td>4.103141</td>\n",
       "      <td>4.677797</td>\n",
       "    </tr>\n",
       "    <tr>\n",
       "      <th>xs_zjets_alt_qcd_scale_1</th>\n",
       "      <td>3.082057</td>\n",
       "      <td>2.649321</td>\n",
       "      <td>4.164125</td>\n",
       "      <td>4.777776</td>\n",
       "    </tr>\n",
       "    <tr>\n",
       "      <th>xs_zjets_alt_qcd_scale_2</th>\n",
       "      <td>3.049855</td>\n",
       "      <td>2.564968</td>\n",
       "      <td>4.162376</td>\n",
       "      <td>4.704783</td>\n",
       "    </tr>\n",
       "    <tr>\n",
       "      <th>xs_ttbar_pdf</th>\n",
       "      <td>3.082112</td>\n",
       "      <td>2.650084</td>\n",
       "      <td>4.168362</td>\n",
       "      <td>4.781296</td>\n",
       "    </tr>\n",
       "    <tr>\n",
       "      <th>xs_ttbar_alpha_s</th>\n",
       "      <td>3.082039</td>\n",
       "      <td>2.650006</td>\n",
       "      <td>4.167970</td>\n",
       "      <td>4.780707</td>\n",
       "    </tr>\n",
       "    <tr>\n",
       "      <th>xs_ttbar_qcd_scale</th>\n",
       "      <td>3.017891</td>\n",
       "      <td>2.558497</td>\n",
       "      <td>4.133284</td>\n",
       "      <td>4.610369</td>\n",
       "    </tr>\n",
       "    <tr>\n",
       "      <th>eff_tau_0</th>\n",
       "      <td>3.081574</td>\n",
       "      <td>2.647577</td>\n",
       "      <td>4.147910</td>\n",
       "      <td>4.774527</td>\n",
       "    </tr>\n",
       "    <tr>\n",
       "      <th>eff_tau_1</th>\n",
       "      <td>3.081166</td>\n",
       "      <td>2.646573</td>\n",
       "      <td>4.143392</td>\n",
       "      <td>4.767037</td>\n",
       "    </tr>\n",
       "    <tr>\n",
       "      <th>eff_tau_2</th>\n",
       "      <td>3.079250</td>\n",
       "      <td>2.643968</td>\n",
       "      <td>4.067705</td>\n",
       "      <td>4.718111</td>\n",
       "    </tr>\n",
       "    <tr>\n",
       "      <th>eff_tau_3</th>\n",
       "      <td>3.081851</td>\n",
       "      <td>2.639597</td>\n",
       "      <td>4.063896</td>\n",
       "      <td>4.737837</td>\n",
       "    </tr>\n",
       "    <tr>\n",
       "      <th>eff_tau_4</th>\n",
       "      <td>3.078987</td>\n",
       "      <td>2.639529</td>\n",
       "      <td>4.011576</td>\n",
       "      <td>4.721750</td>\n",
       "    </tr>\n",
       "    <tr>\n",
       "      <th>eff_tau_5</th>\n",
       "      <td>3.079175</td>\n",
       "      <td>2.634096</td>\n",
       "      <td>3.884694</td>\n",
       "      <td>4.667340</td>\n",
       "    </tr>\n",
       "    <tr>\n",
       "      <th>misid_tau_e</th>\n",
       "      <td>3.081559</td>\n",
       "      <td>2.649351</td>\n",
       "      <td>4.166840</td>\n",
       "      <td>4.781432</td>\n",
       "    </tr>\n",
       "    <tr>\n",
       "      <th>misid_tau_h</th>\n",
       "      <td>3.075360</td>\n",
       "      <td>2.641492</td>\n",
       "      <td>4.094998</td>\n",
       "      <td>4.762608</td>\n",
       "    </tr>\n",
       "    <tr>\n",
       "      <th>misid_tau_0</th>\n",
       "      <td>3.080893</td>\n",
       "      <td>2.649678</td>\n",
       "      <td>4.166987</td>\n",
       "      <td>4.781504</td>\n",
       "    </tr>\n",
       "    <tr>\n",
       "      <th>...</th>\n",
       "      <td>...</td>\n",
       "      <td>...</td>\n",
       "      <td>...</td>\n",
       "      <td>...</td>\n",
       "    </tr>\n",
       "    <tr>\n",
       "      <th>btag_ksl</th>\n",
       "      <td>3.082130</td>\n",
       "      <td>2.650100</td>\n",
       "      <td>4.168562</td>\n",
       "      <td>4.781533</td>\n",
       "    </tr>\n",
       "    <tr>\n",
       "      <th>btag_l2c</th>\n",
       "      <td>3.082129</td>\n",
       "      <td>2.650100</td>\n",
       "      <td>4.168542</td>\n",
       "      <td>4.781526</td>\n",
       "    </tr>\n",
       "    <tr>\n",
       "      <th>btag_ltothers</th>\n",
       "      <td>3.082130</td>\n",
       "      <td>2.650101</td>\n",
       "      <td>4.167858</td>\n",
       "      <td>4.781066</td>\n",
       "    </tr>\n",
       "    <tr>\n",
       "      <th>btag_mudr</th>\n",
       "      <td>3.082130</td>\n",
       "      <td>2.650084</td>\n",
       "      <td>4.168556</td>\n",
       "      <td>4.781522</td>\n",
       "    </tr>\n",
       "    <tr>\n",
       "      <th>btag_mupt</th>\n",
       "      <td>3.082130</td>\n",
       "      <td>2.650099</td>\n",
       "      <td>4.168540</td>\n",
       "      <td>4.781524</td>\n",
       "    </tr>\n",
       "    <tr>\n",
       "      <th>btag_ptrel</th>\n",
       "      <td>3.082125</td>\n",
       "      <td>2.650098</td>\n",
       "      <td>4.168522</td>\n",
       "      <td>4.781510</td>\n",
       "    </tr>\n",
       "    <tr>\n",
       "      <th>btag_sampledependence</th>\n",
       "      <td>3.082056</td>\n",
       "      <td>2.650093</td>\n",
       "      <td>4.168088</td>\n",
       "      <td>4.780988</td>\n",
       "    </tr>\n",
       "    <tr>\n",
       "      <th>btag_pileup</th>\n",
       "      <td>3.082130</td>\n",
       "      <td>2.650081</td>\n",
       "      <td>4.168555</td>\n",
       "      <td>4.781536</td>\n",
       "    </tr>\n",
       "    <tr>\n",
       "      <th>btag_statistic</th>\n",
       "      <td>3.081981</td>\n",
       "      <td>2.650016</td>\n",
       "      <td>4.168555</td>\n",
       "      <td>4.781476</td>\n",
       "    </tr>\n",
       "    <tr>\n",
       "      <th>ctag</th>\n",
       "      <td>3.051621</td>\n",
       "      <td>2.591231</td>\n",
       "      <td>4.159545</td>\n",
       "      <td>4.709513</td>\n",
       "    </tr>\n",
       "    <tr>\n",
       "      <th>mistag</th>\n",
       "      <td>3.078664</td>\n",
       "      <td>2.646933</td>\n",
       "      <td>4.161772</td>\n",
       "      <td>4.781358</td>\n",
       "    </tr>\n",
       "    <tr>\n",
       "      <th>jer</th>\n",
       "      <td>3.070080</td>\n",
       "      <td>2.645499</td>\n",
       "      <td>4.163809</td>\n",
       "      <td>4.780723</td>\n",
       "    </tr>\n",
       "    <tr>\n",
       "      <th>jes_abs_scale</th>\n",
       "      <td>3.082045</td>\n",
       "      <td>2.650093</td>\n",
       "      <td>4.168543</td>\n",
       "      <td>4.781443</td>\n",
       "    </tr>\n",
       "    <tr>\n",
       "      <th>jes_abs_stat</th>\n",
       "      <td>3.082092</td>\n",
       "      <td>2.650094</td>\n",
       "      <td>4.168558</td>\n",
       "      <td>4.781497</td>\n",
       "    </tr>\n",
       "    <tr>\n",
       "      <th>jes_fragmentation</th>\n",
       "      <td>3.082077</td>\n",
       "      <td>2.650020</td>\n",
       "      <td>4.168311</td>\n",
       "      <td>4.781119</td>\n",
       "    </tr>\n",
       "    <tr>\n",
       "      <th>jes_abs_mpf_bias</th>\n",
       "      <td>3.082010</td>\n",
       "      <td>2.649945</td>\n",
       "      <td>4.168321</td>\n",
       "      <td>4.780984</td>\n",
       "    </tr>\n",
       "    <tr>\n",
       "      <th>jes_pileup_data_mc</th>\n",
       "      <td>3.081483</td>\n",
       "      <td>2.648788</td>\n",
       "      <td>4.167001</td>\n",
       "      <td>4.777899</td>\n",
       "    </tr>\n",
       "    <tr>\n",
       "      <th>jes_pileup_pt_bb</th>\n",
       "      <td>3.081322</td>\n",
       "      <td>2.648493</td>\n",
       "      <td>4.166957</td>\n",
       "      <td>4.777455</td>\n",
       "    </tr>\n",
       "    <tr>\n",
       "      <th>jes_pileup_pt_ec1</th>\n",
       "      <td>3.081152</td>\n",
       "      <td>2.647479</td>\n",
       "      <td>4.166066</td>\n",
       "      <td>4.775448</td>\n",
       "    </tr>\n",
       "    <tr>\n",
       "      <th>jes_pileup_pt_ref</th>\n",
       "      <td>3.081590</td>\n",
       "      <td>2.649625</td>\n",
       "      <td>4.167639</td>\n",
       "      <td>4.779440</td>\n",
       "    </tr>\n",
       "    <tr>\n",
       "      <th>jes_relative_bal</th>\n",
       "      <td>3.081275</td>\n",
       "      <td>2.648637</td>\n",
       "      <td>4.165616</td>\n",
       "      <td>4.775889</td>\n",
       "    </tr>\n",
       "    <tr>\n",
       "      <th>jes_relative_jer_ec1</th>\n",
       "      <td>3.082127</td>\n",
       "      <td>2.650042</td>\n",
       "      <td>4.168562</td>\n",
       "      <td>4.781512</td>\n",
       "    </tr>\n",
       "    <tr>\n",
       "      <th>jes_relative_pt_bb</th>\n",
       "      <td>3.082129</td>\n",
       "      <td>2.649935</td>\n",
       "      <td>4.168449</td>\n",
       "      <td>4.781325</td>\n",
       "    </tr>\n",
       "    <tr>\n",
       "      <th>jes_relative_pt_ec1</th>\n",
       "      <td>3.081971</td>\n",
       "      <td>2.649654</td>\n",
       "      <td>4.168563</td>\n",
       "      <td>4.781319</td>\n",
       "    </tr>\n",
       "    <tr>\n",
       "      <th>jes_relative_stat_fsr</th>\n",
       "      <td>3.082128</td>\n",
       "      <td>2.650080</td>\n",
       "      <td>4.168554</td>\n",
       "      <td>4.781509</td>\n",
       "    </tr>\n",
       "    <tr>\n",
       "      <th>jes_relative_stat_ec</th>\n",
       "      <td>3.082074</td>\n",
       "      <td>2.649924</td>\n",
       "      <td>4.168478</td>\n",
       "      <td>4.781252</td>\n",
       "    </tr>\n",
       "    <tr>\n",
       "      <th>jes_single_pion_ecal</th>\n",
       "      <td>3.082075</td>\n",
       "      <td>2.649772</td>\n",
       "      <td>4.167942</td>\n",
       "      <td>4.780541</td>\n",
       "    </tr>\n",
       "    <tr>\n",
       "      <th>jes_single_pion_hcal</th>\n",
       "      <td>3.082114</td>\n",
       "      <td>2.650029</td>\n",
       "      <td>4.168376</td>\n",
       "      <td>4.781256</td>\n",
       "    </tr>\n",
       "    <tr>\n",
       "      <th>jes_time_pt_eta</th>\n",
       "      <td>3.081939</td>\n",
       "      <td>2.649728</td>\n",
       "      <td>4.168545</td>\n",
       "      <td>4.781191</td>\n",
       "    </tr>\n",
       "    <tr>\n",
       "      <th>jes_flavor_qcd</th>\n",
       "      <td>3.063455</td>\n",
       "      <td>2.620389</td>\n",
       "      <td>4.158964</td>\n",
       "      <td>4.732136</td>\n",
       "    </tr>\n",
       "  </tbody>\n",
       "</table>\n",
       "<p>107 rows × 4 columns</p>\n",
       "</div>"
      ],
      "text/plain": [
       "                            beta_e   beta_mu  beta_tau    beta_h\n",
       "br_tau_e                  3.081983  2.650105  4.168588  4.781581\n",
       "br_tau_mu                 3.082137  2.649879  4.167895  4.780726\n",
       "br_tau_h                  3.081321  2.649196  4.163629  4.780630\n",
       "lumi                      3.078836  2.649772  4.167010  4.778588\n",
       "xs_diboson                3.082125  2.650099  4.168428  4.781417\n",
       "xs_ww                     3.082126  2.649750  4.167200  4.780033\n",
       "xs_t                      3.059565  2.610399  4.143245  4.696620\n",
       "xs_wjets                  3.079104  2.646468  4.164403  4.781534\n",
       "e_fakes                   3.072253  2.641705  4.157663  4.771821\n",
       "mu_fakes                  3.031548  2.617427  4.162999  4.765015\n",
       "e_fakes_ss                3.061593  2.644280  4.157562  4.765176\n",
       "mu_fakes_ss               3.066064  2.649850  4.166824  4.770299\n",
       "trigger_mu                3.067378  2.586477  4.164519  4.781389\n",
       "xs_zjets_alt_pdf          3.082045  2.649693  4.168533  4.781471\n",
       "xs_zjets_alt_alpha_s      3.082090  2.646875  4.165684  4.777461\n",
       "xs_zjets_alt_qcd_scale_0  3.061389  2.642042  4.103141  4.677797\n",
       "xs_zjets_alt_qcd_scale_1  3.082057  2.649321  4.164125  4.777776\n",
       "xs_zjets_alt_qcd_scale_2  3.049855  2.564968  4.162376  4.704783\n",
       "xs_ttbar_pdf              3.082112  2.650084  4.168362  4.781296\n",
       "xs_ttbar_alpha_s          3.082039  2.650006  4.167970  4.780707\n",
       "xs_ttbar_qcd_scale        3.017891  2.558497  4.133284  4.610369\n",
       "eff_tau_0                 3.081574  2.647577  4.147910  4.774527\n",
       "eff_tau_1                 3.081166  2.646573  4.143392  4.767037\n",
       "eff_tau_2                 3.079250  2.643968  4.067705  4.718111\n",
       "eff_tau_3                 3.081851  2.639597  4.063896  4.737837\n",
       "eff_tau_4                 3.078987  2.639529  4.011576  4.721750\n",
       "eff_tau_5                 3.079175  2.634096  3.884694  4.667340\n",
       "misid_tau_e               3.081559  2.649351  4.166840  4.781432\n",
       "misid_tau_h               3.075360  2.641492  4.094998  4.762608\n",
       "misid_tau_0               3.080893  2.649678  4.166987  4.781504\n",
       "...                            ...       ...       ...       ...\n",
       "btag_ksl                  3.082130  2.650100  4.168562  4.781533\n",
       "btag_l2c                  3.082129  2.650100  4.168542  4.781526\n",
       "btag_ltothers             3.082130  2.650101  4.167858  4.781066\n",
       "btag_mudr                 3.082130  2.650084  4.168556  4.781522\n",
       "btag_mupt                 3.082130  2.650099  4.168540  4.781524\n",
       "btag_ptrel                3.082125  2.650098  4.168522  4.781510\n",
       "btag_sampledependence     3.082056  2.650093  4.168088  4.780988\n",
       "btag_pileup               3.082130  2.650081  4.168555  4.781536\n",
       "btag_statistic            3.081981  2.650016  4.168555  4.781476\n",
       "ctag                      3.051621  2.591231  4.159545  4.709513\n",
       "mistag                    3.078664  2.646933  4.161772  4.781358\n",
       "jer                       3.070080  2.645499  4.163809  4.780723\n",
       "jes_abs_scale             3.082045  2.650093  4.168543  4.781443\n",
       "jes_abs_stat              3.082092  2.650094  4.168558  4.781497\n",
       "jes_fragmentation         3.082077  2.650020  4.168311  4.781119\n",
       "jes_abs_mpf_bias          3.082010  2.649945  4.168321  4.780984\n",
       "jes_pileup_data_mc        3.081483  2.648788  4.167001  4.777899\n",
       "jes_pileup_pt_bb          3.081322  2.648493  4.166957  4.777455\n",
       "jes_pileup_pt_ec1         3.081152  2.647479  4.166066  4.775448\n",
       "jes_pileup_pt_ref         3.081590  2.649625  4.167639  4.779440\n",
       "jes_relative_bal          3.081275  2.648637  4.165616  4.775889\n",
       "jes_relative_jer_ec1      3.082127  2.650042  4.168562  4.781512\n",
       "jes_relative_pt_bb        3.082129  2.649935  4.168449  4.781325\n",
       "jes_relative_pt_ec1       3.081971  2.649654  4.168563  4.781319\n",
       "jes_relative_stat_fsr     3.082128  2.650080  4.168554  4.781509\n",
       "jes_relative_stat_ec      3.082074  2.649924  4.168478  4.781252\n",
       "jes_single_pion_ecal      3.082075  2.649772  4.167942  4.780541\n",
       "jes_single_pion_hcal      3.082114  2.650029  4.168376  4.781256\n",
       "jes_time_pt_eta           3.081939  2.649728  4.168545  4.781191\n",
       "jes_flavor_qcd            3.063455  2.620389  4.158964  4.732136\n",
       "\n",
       "[107 rows x 4 columns]"
      ]
     },
     "execution_count": 14,
     "metadata": {},
     "output_type": "execute_result"
    }
   ],
   "source": [
    "# convert to errors\n",
    "errs_np = np.array([np.concatenate([e[:i+4], [0], e[i+4:]]) for i, e in enumerate(errs)])\n",
    "#errs_np = err_no_bb**2 - errs_np**2\n",
    "errs_np[errs_np < 0] = 0\n",
    "errs_np = np.sqrt(errs_np)\n",
    "#errs_np = np.vstack([errs_np, err_stat, err_mc_stat, err_syst, stderr])\n",
    "\n",
    "errs_np = pd.DataFrame(errs_np[:,:4], columns=['beta_e', 'beta_mu', 'beta_tau', 'beta_h'], index=list(p_labels))\n",
    "#errs_np = pd.DataFrame(errs_np[:,:4], columns=['beta_e', 'beta_mu', 'beta_tau', 'beta_h'], index=list(p_labels_fancy[4:]) + ['stat.', 'MC stat.', 'syst. total', 'total'])\n",
    "#beta_stderr = stderr.iloc[:,:4].multiply(100)/params_init[:4]\n",
    "100*errs_np/parameters"
   ]
  },
  {
   "cell_type": "code",
   "execution_count": null,
   "metadata": {
    "ExecuteTime": {
     "end_time": "2020-01-15T02:27:31.844866Z",
     "start_time": "2020-01-14T19:56:23.697Z"
    },
    "code_folding": [],
    "scrolled": false
   },
   "outputs": [],
   "source": [
    "# print table\n",
    "\n",
    "#beta_errs.divide(params_init[:4]/100, axis=1).to_latex('local_data/errors.tex')\n",
    "#beta_errs.divide(params_init[:4]/100, axis=1).to_csv('local_data/errors.csv')\n",
    "#beta_errs.divide(params_init[:4]/100, axis=1)\n",
    "beta_errs.to_latex('local_data/summary_errors.tex', escape=False)\n",
    "beta_errs"
   ]
  },
  {
   "cell_type": "code",
   "execution_count": null,
   "metadata": {
    "ExecuteTime": {
     "end_time": "2020-01-15T02:27:31.845444Z",
     "start_time": "2020-01-14T19:56:23.703Z"
    }
   },
   "outputs": [],
   "source": [
    "jes_mask = np.array([True if ('jes' in pname and 'btag' not in pname) else False for pname in beta_errs.index])\n",
    "btag_mask = np.array([True if 'btag' in pname else False for pname in beta_errs.index])\n",
    "tau_misid_mask = np.array([True if ('misid_tau' in pname and pname not in ['misid_tau_e', 'misid_tau_h']) else False for pname in beta_errs.index])\n",
    "\n",
    "btag_errs = beta_errs[btag_mask]\n",
    "jes_errs = beta_errs[jes_mask]\n",
    "tau_misid_errs = beta_errs[tau_misid_mask]\n",
    "\n",
    "summary_errs = beta_errs[~btag_mask&~jes_mask&~tau_misid_mask].copy()\n",
    "summary_errs.index = [fit_data._parameters.loc[p].label if p in fit_data._parameters.index else p for p in summary_errs.index]\n",
    "summary_errs.loc['b-tag',:] = np.sqrt(np.sum(btag_errs**2))\n",
    "summary_errs.loc['JES',:]  = np.sqrt(np.sum(jes_errs**2))\n",
    "summary_errs.loc[r'$\\sf jet\\rightarrow\\tau$',:]  = np.sqrt(np.sum(tau_misid_errs**2))\n",
    "\n",
    "summary_errs = summary_errs.divide(params_init[:4]/100, axis=1)\n",
    "summary_errs.to_latex('local_data/summary_errors.tex', escape=False)\n",
    "summary_errs.to_csv('local_data/summary_errors.csv')\n",
    "summary_errs"
   ]
  },
  {
   "cell_type": "code",
   "execution_count": null,
   "metadata": {},
   "outputs": [],
   "source": []
  }
 ],
 "metadata": {
  "hide_input": false,
  "kernelspec": {
   "display_name": "Python 3",
   "language": "python",
   "name": "python3"
  },
  "language_info": {
   "codemirror_mode": {
    "name": "ipython",
    "version": 3
   },
   "file_extension": ".py",
   "mimetype": "text/x-python",
   "name": "python",
   "nbconvert_exporter": "python",
   "pygments_lexer": "ipython3",
   "version": "3.7.2"
  },
  "latex_envs": {
   "LaTeX_envs_menu_present": true,
   "autoclose": false,
   "autocomplete": true,
   "bibliofile": "biblio.bib",
   "cite_by": "apalike",
   "current_citInitial": 1,
   "eqLabelWithNumbers": true,
   "eqNumInitial": 0,
   "hotkeys": {
    "equation": "Ctrl-E",
    "itemize": "Ctrl-I"
   },
   "labels_anchors": false,
   "latex_user_defs": false,
   "report_style_numbering": false,
   "user_envs_cfg": false
  },
  "toc": {
   "nav_menu": {
    "height": "29px",
    "width": "251px"
   },
   "number_sections": true,
   "sideBar": true,
   "skip_h1_title": false,
   "title_cell": "Table of Contents",
   "title_sidebar": "Contents",
   "toc_cell": false,
   "toc_position": {
    "height": "49px",
    "left": "0px",
    "right": "1493.87px",
    "top": "90.9965px",
    "width": "242px"
   },
   "toc_section_display": false,
   "toc_window_display": false
  },
  "varInspector": {
   "cols": {
    "lenName": 16,
    "lenType": 16,
    "lenVar": 40
   },
   "kernels_config": {
    "python": {
     "delete_cmd_postfix": "",
     "delete_cmd_prefix": "del ",
     "library": "var_list.py",
     "varRefreshCmd": "print(var_dic_list())"
    },
    "r": {
     "delete_cmd_postfix": ") ",
     "delete_cmd_prefix": "rm(",
     "library": "var_list.r",
     "varRefreshCmd": "cat(var_dic_list()) "
    }
   },
   "oldHeight": 744.85,
   "position": {
    "height": "40px",
    "left": "919px",
    "right": "20px",
    "top": "59px",
    "width": "678px"
   },
   "types_to_exclude": [
    "module",
    "function",
    "builtin_function_or_method",
    "instance",
    "_Feature"
   ],
   "varInspector_section_display": "none",
   "window_display": false
  },
  "widgets": {
   "state": {
    "012f8bbe2fdb410dae6e2cde9d7fe5cb": {
     "views": []
    },
    "080556076f174648bddf64f17a54c523": {
     "views": []
    },
    "0ad83b5f67484ae5b8fd8dd43ccc39bd": {
     "views": []
    },
    "15acd81a9adc493683d9b63813f000bf": {
     "views": []
    },
    "1840cb6fded848b4ae95ec8d3db15ab2": {
     "views": []
    },
    "1dd83f822e074642ae4255b15ee661cf": {
     "views": []
    },
    "1e71a878e6474912a0efc497ecc5d65b": {
     "views": []
    },
    "2022ed83777b4963b630b5c46239e218": {
     "views": []
    },
    "21c4c57bfc48495194663e6a4fbac488": {
     "views": []
    },
    "22c45c75435348c0b9501d493d69fdca": {
     "views": []
    },
    "2635f668a1af4a9db2642e705d7c73ff": {
     "views": []
    },
    "2ad5ddd9347e451b9290e5b4179ab9a2": {
     "views": []
    },
    "2c062b5778024117984822b63b0593d7": {
     "views": []
    },
    "2f5eab2f6fb24192b76a5ffe99195d44": {
     "views": []
    },
    "31632517325046e8b0cb62e4f4ed2480": {
     "views": []
    },
    "3562b97192ed4d42bbab17f77c290f6b": {
     "views": []
    },
    "38a7cc053723492b921cf9f084ed243c": {
     "views": []
    },
    "3b5750b20e1745879ca0f965aad7b614": {
     "views": []
    },
    "3f1cbabbe2694a9dabe3f1c2e09d0ee2": {
     "views": []
    },
    "3fab6a26a70c4238a668a46d4dc88bf6": {
     "views": []
    },
    "3fb3c7a25e954a4888996976fa107737": {
     "views": []
    },
    "415db64fbc574daea8457ab600392f09": {
     "views": []
    },
    "4463de406b4645a4b562fe7917380ff9": {
     "views": []
    },
    "487e5450b5a24507932709f1fa8f59c1": {
     "views": []
    },
    "48aba73013e74e71927f71d42fb44d14": {
     "views": []
    },
    "4a19ad30f77e4fe6a2c84c8b62378a47": {
     "views": []
    },
    "4bc83ff5270d41679d76d26cdded8313": {
     "views": []
    },
    "4bdd9dd5c5c64646a27fa9096851458b": {
     "views": []
    },
    "5014cd42705f45178d5e6eeffd70f119": {
     "views": []
    },
    "5259b340b68e4fdb97fb4eaf9d98d954": {
     "views": []
    },
    "5986ef5b605a42aca10bc5834529ee06": {
     "views": []
    },
    "5c1aa44589a140eb9709734c843abde6": {
     "views": []
    },
    "600cd9ca4f4c46d4ad6fe57df107675a": {
     "views": [
      {
       "cell_index": 7
      }
     ]
    },
    "61fe369ebdd14eaa89de110f6186e6b7": {
     "views": []
    },
    "62ac836017ae47a38f8fde806c5ec9b7": {
     "views": []
    },
    "632ccbfabe91405aa1c5a77c9ea754db": {
     "views": []
    },
    "66175f618ea5472baac618f998d2c06c": {
     "views": []
    },
    "6647a620af034d26abcd327ae02364d4": {
     "views": []
    },
    "6752222d2cba43e18f344a8db7f99d24": {
     "views": []
    },
    "6b684ba1a7c24a35ba2df77016212904": {
     "views": []
    },
    "6cea898f4aca4f1e84601f843e337238": {
     "views": []
    },
    "6f8d1e87fd60462a89d693b2f3b5f007": {
     "views": []
    },
    "74078646a5eb4047b40370a0ab8b6b30": {
     "views": []
    },
    "745b0c79ff3040788ea952fce9c7d607": {
     "views": []
    },
    "757c9b805eb7445bac9a7f141f87e45f": {
     "views": []
    },
    "76ced68e19a742e8976dbfd4e8594a1a": {
     "views": []
    },
    "783bb5e7538d4d9d8315e2698024b353": {
     "views": []
    },
    "794993d66efe4ab29a8d35aad8cfe079": {
     "views": []
    },
    "8375e24bae7541528d7cdc0f379d1d4c": {
     "views": []
    },
    "8554945ec15041a7bf8004dbc3fc5f11": {
     "views": []
    },
    "878a34e26cce4f18bb8232a682ebe964": {
     "views": []
    },
    "8921a75116a549198eb7b7f4a24ab672": {
     "views": []
    },
    "909f4504f0b049bda8b641defa177062": {
     "views": []
    },
    "910b9d32a3fb45ec99da1f9df1add816": {
     "views": []
    },
    "9d15ce601cd34f0699b7a7a0ce1d17dc": {
     "views": []
    },
    "a26638c9fee247b3891aac027a0918cc": {
     "views": []
    },
    "a9d2bf44a3ad447bb3eecde71363c198": {
     "views": []
    },
    "ad366bf4c95f4cdba62d47ba9501efc9": {
     "views": []
    },
    "ad8e1842ec314a94b6ed4b62c4c0a450": {
     "views": []
    },
    "af525094db304d2a812ae1312b00889b": {
     "views": []
    },
    "b0697c4343da491f9a35bf02681dad8f": {
     "views": []
    },
    "b07ff307919e4268bc8bec8379c47a5d": {
     "views": []
    },
    "b0e85c726ca141079333afb27edc63d4": {
     "views": []
    },
    "bdcc1e5df7a8432b9f40d8249a46f90a": {
     "views": []
    },
    "be1065f37fa24e818d31c3bb075947a3": {
     "views": []
    },
    "c296c8df2f734e268c6c1204536e7142": {
     "views": []
    },
    "c4bfd3e447f0426da144b76abc202129": {
     "views": []
    },
    "cced93184d4445218a2b14567579333d": {
     "views": []
    },
    "d5bd2e4d5f85482e9345f3a7a69380d0": {
     "views": []
    },
    "d798fa64e8be4a7d9ec1cbeece3b1be9": {
     "views": []
    },
    "d7aec0d6d05f442b991ab40af944811d": {
     "views": []
    },
    "db469cea2c8e4180bf6890de80329c1d": {
     "views": []
    },
    "e671857510c54634b6f0fa55bf1fa228": {
     "views": []
    },
    "ebf52deafaf64b0c826533dafdf993c0": {
     "views": []
    },
    "ed1e5439da9c41199a7bbbda21b556f8": {
     "views": []
    },
    "f585cf5db5024280af5b567f0e4fd771": {
     "views": []
    },
    "f6ba8f8800af47adabed847063bda8db": {
     "views": []
    },
    "f9bae72f14e44705b5c38a3ddc69fee8": {
     "views": []
    }
   },
   "version": "1.1.2"
  }
 },
 "nbformat": 4,
 "nbformat_minor": 2
}
