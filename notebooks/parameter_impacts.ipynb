{
 "cells": [
  {
   "cell_type": "markdown",
   "metadata": {},
   "source": [
    "## Estimating individual systematic contributions\n",
    "\n",
    "The effect of any individual systematic uncertainty is somewhat complicated by it's mutual covariance with the POI (i.e., the W branching fractions) and any other systematic uncertainty.  To get a rough idea of the percent-wise contribution to the total uncertainty from each individual systematic, I use the following scheme:\n",
    "\n",
    "   * the fit is carried out as in the nominal case and $\\sigma_{0}$ is estimated\n",
    "   * the fit is carried out for for each of the $n$ nuisance parameters $\\sigma_{theta}$\n",
    "   * the difference between the nominal case and the $n-1$ case is calculated,\n",
    "   * this quantity is normalized to $\\sum_{\\theta} \\sigma_{\\theta}^{2}$"
   ]
  },
  {
   "cell_type": "code",
   "execution_count": 1,
   "metadata": {
    "ExecuteTime": {
     "end_time": "2020-03-01T05:16:09.564123Z",
     "start_time": "2020-03-01T05:16:09.425480Z"
    },
    "code_folding": [
     0
    ]
   },
   "outputs": [
    {
     "name": "stdout",
     "output_type": "stream",
     "text": [
      "/home/naodell/work/wbr/analysis\n",
      "{\n",
      "  \"shell_port\": 33475,\n",
      "  \"iopub_port\": 48967,\n",
      "  \"stdin_port\": 45769,\n",
      "  \"control_port\": 48079,\n",
      "  \"hb_port\": 35355,\n",
      "  \"ip\": \"127.0.0.1\",\n",
      "  \"key\": \"749639d1-99671e47414144eca9b7ff48\",\n",
      "  \"transport\": \"tcp\",\n",
      "  \"signature_scheme\": \"hmac-sha256\",\n",
      "  \"kernel_name\": \"\"\n",
      "}\n",
      "\n",
      "Paste the above JSON into a file, and connect with:\n",
      "    $> jupyter <app> --existing <file>\n",
      "or, if you are local, you can connect with just:\n",
      "    $> jupyter <app> --existing kernel-73825196-b8b5-4c7a-a6b6-01f99c10ead2.json\n",
      "or even just:\n",
      "    $> jupyter <app> --existing\n",
      "if this is the most recent Jupyter kernel you have started.\n"
     ]
    }
   ],
   "source": [
    "## imports and configuration\n",
    "%cd '/home/naodell/work/wbr/analysis'\n",
    "#%load_ext autoreload\n",
    "\n",
    "from multiprocessing import Pool\n",
    "from functools import partial\n",
    "import numpy as np\n",
    "import pandas as pd\n",
    "import matplotlib.pyplot as plt\n",
    "import matplotlib\n",
    "from scipy.optimize import minimize\n",
    "from tqdm import tqdm_notebook, trange\n",
    "\n",
    "import scripts.plot_tools as pt\n",
    "import scripts.fit_helpers as fh\n",
    "\n",
    "np.set_printoptions(precision=3)\n",
    "rc_params = {\n",
    "             'figure.figsize': (10, 10),\n",
    "             'axes.labelsize': 20,\n",
    "             'axes.facecolor': 'white',\n",
    "             'axes.titlesize':'x-large',\n",
    "             'legend.fontsize': 20,\n",
    "             'xtick.labelsize':18,\n",
    "             'ytick.labelsize':18,\n",
    "             'font.size':18,\n",
    "             'font.sans-serif':['Arial', 'sans-serif'],\n",
    "             'mathtext.sf':'Arial',\n",
    "             'lines.markersize':8.,\n",
    "             'lines.linewidth':2.5,\n",
    "            }\n",
    "matplotlib.rcParams.update(rc_params)\n",
    "\n",
    "%connect_info"
   ]
  },
  {
   "cell_type": "code",
   "execution_count": 2,
   "metadata": {
    "ExecuteTime": {
     "end_time": "2020-03-01T05:16:09.922145Z",
     "start_time": "2020-03-01T05:16:09.565266Z"
    },
    "code_folding": [],
    "scrolled": false
   },
   "outputs": [],
   "source": [
    "# configure, get the input data, and do any additional processing that is needed\n",
    "processes = ['ttbar', 't', 'ww', 'wjets', 'zjets_alt', 'diboson', 'fakes'] \n",
    "selections = [\n",
    "              'ee',  'mumu',  \n",
    "              'emu', \n",
    "              'mutau', 'etau', \n",
    "              'mu4j', 'e4j'\n",
    "             ]\n",
    "plot_labels = fh.fancy_labels\n",
    "\n",
    "# initialize fit data\n",
    "infile = open('local_data/fit_data_postfit.pkl', 'rb')\n",
    "fit_data = pickle.load(infile)\n",
    "infile.close()\n",
    "\n",
    "# get fit parameters\n",
    "parameters = pd.read_csv('data/model_parameters_asimov.csv', index_col='name')"
   ]
  },
  {
   "cell_type": "code",
   "execution_count": 3,
   "metadata": {
    "ExecuteTime": {
     "end_time": "2020-03-01T05:16:09.935394Z",
     "start_time": "2020-03-01T05:16:09.923477Z"
    },
    "code_folding": [],
    "scrolled": true
   },
   "outputs": [],
   "source": [
    "# prepare Asimov dataset\n",
    "asimov_data = {cat:fit_data.mixture_model(parameters.val_init.values, cat) for cat in fit_data._model_data.keys()}"
   ]
  },
  {
   "cell_type": "code",
   "execution_count": 4,
   "metadata": {
    "ExecuteTime": {
     "end_time": "2020-03-01T05:16:09.945562Z",
     "start_time": "2020-03-01T05:16:09.937839Z"
    },
    "code_folding": [
     0
    ]
   },
   "outputs": [],
   "source": [
    "# initialize veto list\n",
    "fit_data.veto_list = [\n",
    "    # baseline\n",
    "    #'ee_cat_gt2_eq1_b', 'ee_cat_gt2_gt2_b', \n",
    "    #'mumu_cat_gt2_eq1_b', 'mumu_cat_gt2_gt2_b', \n",
    "    #'emu_cat_gt2_eq1_a', 'emu_cat_gt2_gt2_a', \n",
    "    #'etau_cat_eq2_eq1', 'etau_cat_gt3_eq1', 'etau_cat_eq2_gt2', 'etau_cat_gt3_gt2', \n",
    "    #'mutau_cat_eq2_eq1', 'mutau_cat_gt3_eq1', 'mutau_cat_eq2_gt2', 'mutau_cat_gt3_gt2', \n",
    "    #'e4j_cat_gt4_eq1', 'e4j_cat_gt4_gt2',\n",
    "    #'mu4j_cat_gt4_eq1', 'mu4j_cat_gt4_gt2', \n",
    "    'e4j_cat_eq3_gt2', 'mu4j_cat_eq3_gt2',\n",
    "    \n",
    "    # e/mu DY CR\n",
    "    'ee_cat_gt2_eq0',  'mumu_cat_gt2_eq0', \n",
    "    \n",
    "    # e+mu additional ttbar\n",
    "    #'emu_cat_gt2_eq0', 'emu_cat_eq1_eq0_a', 'emu_cat_eq1_eq1_a', \n",
    "    \n",
    "    # e+mu WW\n",
    "    #'emu_cat_eq0_eq0_a', \n",
    "    \n",
    "    # e/mu+tau additional CR\n",
    "    #'mutau_cat_eq0_eq0', 'mutau_cat_eq1_eq0', \n",
    "    #'mutau_cat_gt2_eq0', 'mutau_cat_eq1_eq1', \n",
    "    #'etau_cat_eq0_eq0', 'etau_cat_eq1_eq0', \n",
    "    #'etau_cat_gt2_eq0', 'etau_cat_eq1_eq1', \n",
    "]"
   ]
  },
  {
   "cell_type": "code",
   "execution_count": 5,
   "metadata": {
    "ExecuteTime": {
     "end_time": "2020-03-01T05:16:09.956178Z",
     "start_time": "2020-03-01T05:16:09.947376Z"
    },
    "code_folding": []
   },
   "outputs": [],
   "source": [
    "# fit configuration #\n",
    "\n",
    "# minimizer options\n",
    "#steps = 4*[1e-4, ] \n",
    "#steps += list(0.05*fit_data._perr_init[4: fit_data._nnorm + 7])\n",
    "#steps += list(0.05*fit_data._perr_init[fit_data._npoi + fit_data._nnorm:])\n",
    "#steps = np.array(steps)\n",
    "min_options = dict(\n",
    "                   #finite_diff_rel_step=steps,\n",
    "                   #verbose=3,\n",
    "                   #eps=1e-9, \n",
    "                   gtol = 1e-3,\n",
    "                   disp = True\n",
    "                  )\n",
    "\n",
    "# configure the objective\n",
    "sample = asimov_data\n",
    "fobj = partial(fit_data.objective,\n",
    "               data = sample,\n",
    "               do_bb_lite = True,\n",
    "               lu_test = None\n",
    "              )\n",
    "\n",
    "fobj_jac = partial(fit_data.objective_jacobian,\n",
    "                   data = sample,\n",
    "                   do_bb_lite = True,\n",
    "                   lu_test = None\n",
    "                  )\n"
   ]
  },
  {
   "cell_type": "code",
   "execution_count": 6,
   "metadata": {
    "ExecuteTime": {
     "end_time": "2020-03-01T11:53:23.955278Z",
     "start_time": "2020-03-01T05:16:09.958028Z"
    },
    "code_folding": [],
    "scrolled": true
   },
   "outputs": [
    {
     "name": "stderr",
     "output_type": "stream",
     "text": [
      "/home/naodell/opt/anaconda3/lib/python3.7/site-packages/ipykernel_launcher.py:14: TqdmDeprecationWarning: This function will be removed in tqdm==5.0.0\n",
      "Please use `tqdm.notebook.tqdm` instead of `tqdm.tqdm_notebook`\n",
      "  \n"
     ]
    },
    {
     "data": {
      "application/vnd.jupyter.widget-view+json": {
       "model_id": "0fb03d422a0c4e5eb0bfedfa99257f53",
       "version_major": 2,
       "version_minor": 0
      },
      "text/plain": [
       "HBox(children=(FloatProgress(value=0.0, max=112.0), HTML(value='')))"
      ]
     },
     "metadata": {},
     "output_type": "display_data"
    },
    {
     "name": "stderr",
     "output_type": "stream",
     "text": [
      "/home/naodell/opt/anaconda3/lib/python3.7/site-packages/numdifftools/core.py:1020: UserWarning: Can not change order to 2! The only valid order is 1 for method=forward.\n",
      "  warnings.warn(msg.format(order, valid_order, self.method))\n"
     ]
    },
    {
     "name": "stdout",
     "output_type": "stream",
     "text": [
      "4 br_tau_e 0.1774 0.0004 0.17742062362297453 0.0003999502751151465 -1.6750867359860422e-10\n",
      "0.17782057389808967 0.5623927334275178\n",
      "Warning: Desired error not necessarily achieved due to precision loss.\n",
      "         Current function value: 13.013830\n",
      "         Iterations: 44\n",
      "         Function evaluations: 139\n",
      "         Gradient evaluations: 131\n",
      "[-0.031 -2.352 -7.165  1.614] 13.01382975368187\n",
      "0.1770206733478594 0.45749117368670905\n",
      "Warning: Desired error not necessarily achieved due to precision loss.\n",
      "         Current function value: 13.338202\n",
      "         Iterations: 43\n",
      "         Function evaluations: 150\n",
      "         Gradient evaluations: 139\n",
      "[-0.056 -2.42  -7.141  1.625] 13.338201882789416\n",
      "5 br_tau_mu 0.173 0.0004 0.17301512362972568 0.000399316996253506 0.001352339350015588\n"
     ]
    },
    {
     "name": "stderr",
     "output_type": "stream",
     "text": [
      "/home/naodell/opt/anaconda3/lib/python3.7/site-packages/numdifftools/core.py:1020: UserWarning: Can not change order to 2! The only valid order is 1 for method=forward.\n",
      "  warnings.warn(msg.format(order, valid_order, self.method))\n"
     ]
    },
    {
     "name": "stdout",
     "output_type": "stream",
     "text": [
      "0.1734144406259792 0.5602720185058538\n",
      "Warning: Desired error not necessarily achieved due to precision loss.\n",
      "         Current function value: 12.239587\n",
      "         Iterations: 45\n",
      "         Function evaluations: 133\n",
      "         Gradient evaluations: 125\n",
      "[ 0.199 -2.37  -6.948  1.544] 12.239587013931072\n",
      "0.17261580663347217 0.48088380760283406\n",
      "Warning: Desired error not necessarily achieved due to precision loss.\n",
      "         Current function value: 12.866113\n",
      "         Iterations: 44\n",
      "         Function evaluations: 123\n",
      "         Gradient evaluations: 113\n",
      "[-0.031 -2.316 -7.45   1.657] 12.86611273513882\n",
      "6 br_tau_h 0.6496 0.001 0.6495179202989035 0.0009993487098569754 0.0021121004508207093\n"
     ]
    },
    {
     "name": "stderr",
     "output_type": "stream",
     "text": [
      "/home/naodell/opt/anaconda3/lib/python3.7/site-packages/numdifftools/core.py:1020: UserWarning: Can not change order to 2! The only valid order is 1 for method=forward.\n",
      "  warnings.warn(msg.format(order, valid_order, self.method))\n"
     ]
    },
    {
     "name": "stdout",
     "output_type": "stream",
     "text": [
      "0.6505172690087605 0.4430063979842288\n",
      "Warning: Desired error not necessarily achieved due to precision loss.\n",
      "         Current function value: 13.692234\n",
      "         Iterations: 44\n",
      "         Function evaluations: 113\n",
      "         Gradient evaluations: 103\n",
      "[ 0.125 -2.377 -7.375  1.63 ] 13.692233866008582\n",
      "0.6485185715890466 0.6133267726125637\n",
      "Warning: Desired error not necessarily achieved due to precision loss.\n",
      "         Current function value: 14.295528\n",
      "         Iterations: 43\n",
      "         Function evaluations: 118\n",
      "         Gradient evaluations: 109\n",
      "[ 0.096 -2.549 -7.023  1.602] 14.29552755418362\n",
      "7 lumi 1.0 0.025 0.9956647013672032 0.017288202316909126 0.005580303967287674\n"
     ]
    },
    {
     "name": "stderr",
     "output_type": "stream",
     "text": [
      "/home/naodell/opt/anaconda3/lib/python3.7/site-packages/numdifftools/core.py:1020: UserWarning: Can not change order to 2! The only valid order is 1 for method=forward.\n",
      "  warnings.warn(msg.format(order, valid_order, self.method))\n"
     ]
    },
    {
     "name": "stdout",
     "output_type": "stream",
     "text": [
      "1.0129529036841123 147.20962526105447\n",
      "Warning: Desired error not necessarily achieved due to precision loss.\n",
      "         Current function value: 0.269717\n",
      "         Iterations: 50\n",
      "         Function evaluations: 135\n",
      "         Gradient evaluations: 127\n",
      "[ 1.066 -1.38  -5.479  0.992] 0.26971693781965234\n",
      "0.9783764990502941 417.5623061428456\n",
      "Warning: Desired error not necessarily achieved due to precision loss.\n",
      "         Current function value: 13.361847\n",
      "         Iterations: 48\n",
      "         Function evaluations: 147\n",
      "         Gradient evaluations: 139\n",
      "[ 0.085 -2.495 -6.707  1.541] 13.361846763316088\n",
      "8 xs_diboson 1.0 0.1 1.0176384913071932 0.09899165866730074 16.62053433047167\n"
     ]
    },
    {
     "name": "stderr",
     "output_type": "stream",
     "text": [
      "/home/naodell/opt/anaconda3/lib/python3.7/site-packages/numdifftools/core.py:1020: UserWarning: Can not change order to 2! The only valid order is 1 for method=forward.\n",
      "  warnings.warn(msg.format(order, valid_order, self.method))\n",
      "/home/naodell/work/wbr/analysis/scripts/fit_helpers.py:146: RuntimeWarning: invalid value encountered in sqrt\n",
      "  sig         = np.sqrt(hinv.diagonal())\n"
     ]
    },
    {
     "name": "stdout",
     "output_type": "stream",
     "text": [
      "1.116630149974494 16.13210088515713\n",
      "Warning: Desired error not necessarily achieved due to precision loss.\n",
      "         Current function value: 15.247573\n",
      "         Iterations: 44\n",
      "         Function evaluations: 83\n",
      "         Gradient evaluations: 76\n",
      "[-0.026 -2.499 -7.021  1.613] 15.247573419647054\n",
      "0.9186468326398924 17.915762614783368\n",
      "Warning: Desired error not necessarily achieved due to precision loss.\n",
      "         Current function value: 10.341148\n",
      "         Iterations: 45\n",
      "         Function evaluations: 132\n",
      "         Gradient evaluations: 124\n",
      "[ 0.186 -2.075 -7.084  1.521] 10.341148101539268\n",
      "9 xs_ww 1.0 0.1 0.9607813777629178 0.0287306904376485 16.443200545418435\n"
     ]
    },
    {
     "name": "stderr",
     "output_type": "stream",
     "text": [
      "/home/naodell/opt/anaconda3/lib/python3.7/site-packages/numdifftools/core.py:1020: UserWarning: Can not change order to 2! The only valid order is 1 for method=forward.\n",
      "  warnings.warn(msg.format(order, valid_order, self.method))\n",
      "/home/naodell/work/wbr/analysis/scripts/fit_helpers.py:146: RuntimeWarning: invalid value encountered in sqrt\n",
      "  sig         = np.sqrt(hinv.diagonal())\n"
     ]
    },
    {
     "name": "stdout",
     "output_type": "stream",
     "text": [
      "0.9895120682005664 17.319884929965045\n",
      "Warning: Desired error not necessarily achieved due to precision loss.\n",
      "         Current function value: 14.127086\n",
      "         Iterations: 47\n",
      "         Function evaluations: 153\n",
      "         Gradient evaluations: 141\n",
      "[-0.009 -2.339 -7.291  1.63 ] 14.127085742164073\n",
      "0.9320506873252693 29.39069193542498\n",
      "Warning: Desired error not necessarily achieved due to precision loss.\n",
      "         Current function value: 12.745411\n",
      "         Iterations: 46\n",
      "         Function evaluations: 96\n",
      "         Gradient evaluations: 87\n",
      "[-0.062 -2.452 -6.701  1.557] 12.745411173216654\n",
      "10 xs_t 1.0 0.1 0.9211677459511431 0.07254817676864765 21.806635224053004\n"
     ]
    },
    {
     "name": "stderr",
     "output_type": "stream",
     "text": [
      "/home/naodell/opt/anaconda3/lib/python3.7/site-packages/numdifftools/core.py:1020: UserWarning: Can not change order to 2! The only valid order is 1 for method=forward.\n",
      "  warnings.warn(msg.format(order, valid_order, self.method))\n",
      "/home/naodell/work/wbr/analysis/scripts/fit_helpers.py:146: RuntimeWarning: invalid value encountered in sqrt\n",
      "  sig         = np.sqrt(hinv.diagonal())\n"
     ]
    },
    {
     "name": "stdout",
     "output_type": "stream",
     "text": [
      "0.9937159227197908 23.99744189712251\n",
      "Warning: Desired error not necessarily achieved due to precision loss.\n",
      "         Current function value: 4.320263\n",
      "         Iterations: 44\n",
      "         Function evaluations: 114\n",
      "         Gradient evaluations: 105\n",
      "[ 0.598 -1.43  -6.57   1.261] 4.320262754897975\n",
      "0.8486195691824955 115.93008345857176\n",
      "Warning: Desired error not necessarily achieved due to precision loss.\n",
      "         Current function value: 15.103588\n",
      "         Iterations: 46\n",
      "         Function evaluations: 122\n",
      "         Gradient evaluations: 115\n",
      "[ 0.334 -2.186 -6.519  1.419] 15.103588088314476\n",
      "11 xs_wjets 1.0 0.1 1.12375459352921 0.04140244378749014 60.021995669332156\n"
     ]
    },
    {
     "name": "stderr",
     "output_type": "stream",
     "text": [
      "/home/naodell/opt/anaconda3/lib/python3.7/site-packages/numdifftools/core.py:1020: UserWarning: Can not change order to 2! The only valid order is 1 for method=forward.\n",
      "  warnings.warn(msg.format(order, valid_order, self.method))\n",
      "/home/naodell/work/wbr/analysis/scripts/fit_helpers.py:146: RuntimeWarning: invalid value encountered in sqrt\n",
      "  sig         = np.sqrt(hinv.diagonal())\n"
     ]
    },
    {
     "name": "stdout",
     "output_type": "stream",
     "text": [
      "1.1651570373167002 93.60422224890458\n",
      "Warning: Desired error not necessarily achieved due to precision loss.\n",
      "         Current function value: 17.043147\n",
      "         Iterations: 49\n",
      "         Function evaluations: 95\n",
      "         Gradient evaluations: 88\n",
      "[-0.064 -2.342 -6.953  1.582] 17.043147398669504\n",
      "1.0823521497417197 36.80560456597896\n",
      "Warning: Desired error not necessarily achieved due to precision loss.\n",
      "         Current function value: 9.559954\n",
      "         Iterations: 48\n",
      "         Function evaluations: 172\n",
      "         Gradient evaluations: 159\n",
      "[ 0.204 -2.207 -6.567  1.451] 9.55995358517401\n",
      "12 e_fakes 1.0 0.1 1.4323218138647658 0.08018251490491847 55.29444704365278\n"
     ]
    },
    {
     "name": "stderr",
     "output_type": "stream",
     "text": [
      "/home/naodell/opt/anaconda3/lib/python3.7/site-packages/numdifftools/core.py:1020: UserWarning: Can not change order to 2! The only valid order is 1 for method=forward.\n",
      "  warnings.warn(msg.format(order, valid_order, self.method))\n",
      "/home/naodell/work/wbr/analysis/scripts/fit_helpers.py:146: RuntimeWarning: invalid value encountered in sqrt\n",
      "  sig         = np.sqrt(hinv.diagonal())\n"
     ]
    },
    {
     "name": "stdout",
     "output_type": "stream",
     "text": [
      "1.5125043287696842 169.96761558591396\n",
      "Warning: Desired error not necessarily achieved due to precision loss.\n",
      "         Current function value: 36.639307\n",
      "         Iterations: 45\n",
      "         Function evaluations: 145\n",
      "         Gradient evaluations: 134\n",
      "[-0.687 -2.141 -8.261  1.872] 36.639307424430946\n",
      "1.3521392989598473 114.03326804091924\n",
      "Warning: Desired error not necessarily achieved due to precision loss.\n",
      "         Current function value: 26.601755\n",
      "         Iterations: 47\n",
      "         Function evaluations: 89\n",
      "         Gradient evaluations: 81\n",
      "[-0.368 -2.188 -8.114  1.804] 26.601755324440383\n",
      "13 mu_fakes 1.0 0.1 0.9058640660654748 0.02807886249864886 139.73571247025455\n"
     ]
    },
    {
     "name": "stderr",
     "output_type": "stream",
     "text": [
      "/home/naodell/opt/anaconda3/lib/python3.7/site-packages/numdifftools/core.py:1020: UserWarning: Can not change order to 2! The only valid order is 1 for method=forward.\n",
      "  warnings.warn(msg.format(order, valid_order, self.method))\n",
      "/home/naodell/work/wbr/analysis/scripts/fit_helpers.py:146: RuntimeWarning: invalid value encountered in sqrt\n",
      "  sig         = np.sqrt(hinv.diagonal())\n"
     ]
    },
    {
     "name": "stdout",
     "output_type": "stream",
     "text": [
      "0.9339429285641236 141.49010020556847\n",
      "Warning: Desired error not necessarily achieved due to precision loss.\n",
      "         Current function value: 10.475056\n",
      "         Iterations: 46\n",
      "         Function evaluations: 148\n",
      "         Gradient evaluations: 139\n",
      "[-0.171 -2.399 -6.255  1.489] 10.475055813603943\n",
      "0.8777852035668259 159.23018258530084\n",
      "Warning: Desired error not necessarily achieved due to precision loss.\n",
      "         Current function value: 21.329076\n",
      "         Iterations: 47\n",
      "         Function evaluations: 122\n",
      "         Gradient evaluations: 115\n",
      "[-0.73  -2.811 -6.904  1.757] 21.329076463694523\n",
      "14 e_fakes_ss 1.0 0.1 0.9442900417971992 0.03949531406050237 148.48269336210703\n"
     ]
    },
    {
     "name": "stderr",
     "output_type": "stream",
     "text": [
      "/home/naodell/opt/anaconda3/lib/python3.7/site-packages/numdifftools/core.py:1020: UserWarning: Can not change order to 2! The only valid order is 1 for method=forward.\n",
      "  warnings.warn(msg.format(order, valid_order, self.method))\n",
      "/home/naodell/work/wbr/analysis/scripts/fit_helpers.py:146: RuntimeWarning: invalid value encountered in sqrt\n",
      "  sig         = np.sqrt(hinv.diagonal())\n"
     ]
    },
    {
     "name": "stdout",
     "output_type": "stream",
     "text": [
      "0.9837853558577015 147.23839387158176\n",
      "Warning: Desired error not necessarily achieved due to precision loss.\n",
      "         Current function value: 13.876086\n",
      "         Iterations: 45\n",
      "         Function evaluations: 156\n",
      "         Gradient evaluations: 147\n",
      "[-0.071 -2.309 -7.454  1.663] 13.876085803222557\n",
      "0.9047947277366969 147.61814783270228\n",
      "Warning: Desired error not necessarily achieved due to precision loss.\n",
      "         Current function value: 12.059747\n",
      "         Iterations: 47\n",
      "         Function evaluations: 125\n",
      "         Gradient evaluations: 116\n",
      "[-0.075 -2.004 -7.509  1.623] 12.059747378997466\n",
      "15 mu_fakes_ss 1.0 0.1 0.9911784116699268 0.05252194459134032 146.07206925550324\n"
     ]
    },
    {
     "name": "stderr",
     "output_type": "stream",
     "text": [
      "/home/naodell/opt/anaconda3/lib/python3.7/site-packages/numdifftools/core.py:1020: UserWarning: Can not change order to 2! The only valid order is 1 for method=forward.\n",
      "  warnings.warn(msg.format(order, valid_order, self.method))\n",
      "/home/naodell/work/wbr/analysis/scripts/fit_helpers.py:146: RuntimeWarning: invalid value encountered in sqrt\n",
      "  sig         = np.sqrt(hinv.diagonal())\n"
     ]
    },
    {
     "name": "stdout",
     "output_type": "stream",
     "text": [
      "1.0437003562612672 151.53621633549105\n",
      "Warning: Desired error not necessarily achieved due to precision loss.\n",
      "         Current function value: 11.648492\n",
      "         Iterations: 45\n",
      "         Function evaluations: 148\n",
      "         Gradient evaluations: 141\n",
      "[ 0.164 -2.395 -7.181  1.593] 11.648491868467184\n",
      "0.9386564670785865 142.82898922697228\n",
      "Warning: Desired error not necessarily achieved due to precision loss.\n",
      "         Current function value: 13.325203\n",
      "         Iterations: 45\n",
      "         Function evaluations: 176\n",
      "         Gradient evaluations: 167\n",
      "[ 0.196 -2.407 -6.566  1.485] 13.325202861267005\n",
      "16 trigger_mu 1.0 0.005 1.000804441467935 0.004240324629959364 145.2846428327022\n"
     ]
    },
    {
     "name": "stderr",
     "output_type": "stream",
     "text": [
      "/home/naodell/opt/anaconda3/lib/python3.7/site-packages/numdifftools/core.py:1020: UserWarning: Can not change order to 2! The only valid order is 1 for method=forward.\n",
      "  warnings.warn(msg.format(order, valid_order, self.method))\n",
      "/home/naodell/work/wbr/analysis/scripts/fit_helpers.py:146: RuntimeWarning: invalid value encountered in sqrt\n",
      "  sig         = np.sqrt(hinv.diagonal())\n"
     ]
    },
    {
     "name": "stdout",
     "output_type": "stream",
     "text": [
      "1.0050447660978943 130.3327937778417\n",
      "Warning: Desired error not necessarily achieved due to precision loss.\n",
      "         Current function value: 13.935868\n",
      "         Iterations: 45\n",
      "         Function evaluations: 142\n",
      "         Gradient evaluations: 133\n",
      "[ 0.144 -2.637 -7.274  1.652] 13.935868209317512\n",
      "0.9965641168379755 173.31208172876865\n",
      "Warning: Desired error not necessarily achieved due to precision loss.\n",
      "         Current function value: 11.044931\n",
      "         Iterations: 45\n",
      "         Function evaluations: 187\n",
      "         Gradient evaluations: 175\n",
      "[ 0.099 -2.167 -7.475  1.616] 11.04493132086887\n",
      "17 xs_zjets_alt_pdf 0.0 1.0 0.3640447554727825 0.9633630958309404 140.81608284714017\n"
     ]
    },
    {
     "name": "stderr",
     "output_type": "stream",
     "text": [
      "/home/naodell/opt/anaconda3/lib/python3.7/site-packages/numdifftools/core.py:1020: UserWarning: Can not change order to 2! The only valid order is 1 for method=forward.\n",
      "  warnings.warn(msg.format(order, valid_order, self.method))\n",
      "/home/naodell/work/wbr/analysis/scripts/fit_helpers.py:146: RuntimeWarning: invalid value encountered in sqrt\n",
      "  sig         = np.sqrt(hinv.diagonal())\n"
     ]
    },
    {
     "name": "stdout",
     "output_type": "stream",
     "text": [
      "1.3274078513037229 150.18441570873708\n",
      "Warning: Desired error not necessarily achieved due to precision loss.\n",
      "         Current function value: 13.554443\n",
      "         Iterations: 46\n",
      "         Function evaluations: 122\n",
      "         Gradient evaluations: 112\n",
      "[ 0.075 -2.43  -7.59   1.683] 13.5544434890457\n",
      "-0.5993183403581579 140.0718571280233\n",
      "Warning: Desired error not necessarily achieved due to precision loss.\n",
      "         Current function value: 9.245870\n",
      "         Iterations: 46\n",
      "         Function evaluations: 151\n",
      "         Gradient evaluations: 145\n",
      "[ 0.177 -2.093 -7.471  1.591] 9.245870367766965\n",
      "18 xs_zjets_alt_alpha_s 0.0 1.0 -0.53007536951043 0.9011134518796488 142.33197946779381\n"
     ]
    },
    {
     "name": "stderr",
     "output_type": "stream",
     "text": [
      "/home/naodell/opt/anaconda3/lib/python3.7/site-packages/numdifftools/core.py:1020: UserWarning: Can not change order to 2! The only valid order is 1 for method=forward.\n",
      "  warnings.warn(msg.format(order, valid_order, self.method))\n",
      "/home/naodell/work/wbr/analysis/scripts/fit_helpers.py:146: RuntimeWarning: invalid value encountered in sqrt\n",
      "  sig         = np.sqrt(hinv.diagonal())\n"
     ]
    },
    {
     "name": "stdout",
     "output_type": "stream",
     "text": [
      "0.37103808236921876 140.15105429100703\n",
      "Warning: Desired error not necessarily achieved due to precision loss.\n",
      "         Current function value: 12.527357\n",
      "         Iterations: 46\n",
      "         Function evaluations: 95\n",
      "         Gradient evaluations: 88\n",
      "[ 5.470e-03 -2.332e+00 -6.780e+00  1.540e+00] 12.527356768841793\n",
      "-1.4311888213900787 165.12198934053703\n",
      "Warning: Desired error not necessarily achieved due to precision loss.\n",
      "         Current function value: 7.697787\n",
      "         Iterations: 46\n",
      "         Function evaluations: 140\n",
      "         Gradient evaluations: 132\n",
      "[ 0.4   -1.994 -6.642  1.398] 7.6977872154205835\n",
      "19 xs_zjets_alt_qcd_scale_0 0.0 1.0 0.8933676868757342 0.6733452203823335 148.12666725530894\n"
     ]
    },
    {
     "name": "stderr",
     "output_type": "stream",
     "text": [
      "/home/naodell/opt/anaconda3/lib/python3.7/site-packages/numdifftools/core.py:1020: UserWarning: Can not change order to 2! The only valid order is 1 for method=forward.\n",
      "  warnings.warn(msg.format(order, valid_order, self.method))\n",
      "/home/naodell/work/wbr/analysis/scripts/fit_helpers.py:146: RuntimeWarning: invalid value encountered in sqrt\n",
      "  sig         = np.sqrt(hinv.diagonal())\n"
     ]
    },
    {
     "name": "stdout",
     "output_type": "stream",
     "text": [
      "1.5667129072580677 212.3773009889735\n",
      "Warning: Desired error not necessarily achieved due to precision loss.\n",
      "         Current function value: 17.065008\n",
      "         Iterations: 48\n",
      "         Function evaluations: 121\n",
      "         Gradient evaluations: 117\n",
      "[ 0.453 -2.209 -6.103  1.332] 17.065007722758402\n",
      "0.22002246649340074 153.70415362461694\n",
      "Warning: Desired error not necessarily achieved due to precision loss.\n",
      "         Current function value: 10.822350\n",
      "         Iterations: 46\n",
      "         Function evaluations: 168\n",
      "         Gradient evaluations: 155\n",
      "[ 0.326 -2.232 -6.806  1.476] 10.822349657522302\n",
      "20 xs_zjets_alt_qcd_scale_1 0.0 1.0 -0.7070268182638395 0.3912145380295163 179.1411003695967\n"
     ]
    },
    {
     "name": "stderr",
     "output_type": "stream",
     "text": [
      "/home/naodell/opt/anaconda3/lib/python3.7/site-packages/numdifftools/core.py:1020: UserWarning: Can not change order to 2! The only valid order is 1 for method=forward.\n",
      "  warnings.warn(msg.format(order, valid_order, self.method))\n"
     ]
    },
    {
     "name": "stdout",
     "output_type": "stream",
     "text": [
      "Warning: Desired error not necessarily achieved due to precision loss.\n",
      "         Current function value: 13.765764\n",
      "         Iterations: 46\n",
      "         Function evaluations: 185\n",
      "         Gradient evaluations: 173\n",
      "[-0.076 -2.349 -7.019  1.596] 13.76576411905835\n",
      "21 xs_zjets_alt_qcd_scale_2 0.0 1.0 -0.555987097201561 0.290813855934318 183.55774487407916\n"
     ]
    },
    {
     "name": "stderr",
     "output_type": "stream",
     "text": [
      "/home/naodell/opt/anaconda3/lib/python3.7/site-packages/numdifftools/core.py:1020: UserWarning: Can not change order to 2! The only valid order is 1 for method=forward.\n",
      "  warnings.warn(msg.format(order, valid_order, self.method))\n",
      "/home/naodell/work/wbr/analysis/scripts/fit_helpers.py:146: RuntimeWarning: invalid value encountered in sqrt\n",
      "  sig         = np.sqrt(hinv.diagonal())\n"
     ]
    },
    {
     "name": "stdout",
     "output_type": "stream",
     "text": [
      "-0.265173241267243 183.21595472273773\n",
      "Warning: Desired error not necessarily achieved due to precision loss.\n",
      "         Current function value: 14.316528\n",
      "         Iterations: 44\n",
      "         Function evaluations: 145\n",
      "         Gradient evaluations: 140\n",
      "[ 0.109 -2.024 -7.115  1.53 ] 14.316528267739082\n",
      "-0.8468009531358791 192.38584953694394\n",
      "Warning: Desired error not necessarily achieved due to precision loss.\n",
      "         Current function value: 17.680253\n",
      "         Iterations: 45\n",
      "         Function evaluations: 217\n",
      "         Gradient evaluations: 206\n",
      "[ 0.263 -1.902 -7.186  1.497] 17.680253358037593\n",
      "22 xs_ttbar_pdf 0.0 1.0 -0.6798214677390765 1.0091048329566927 186.03191975891764\n"
     ]
    },
    {
     "name": "stderr",
     "output_type": "stream",
     "text": [
      "/home/naodell/opt/anaconda3/lib/python3.7/site-packages/numdifftools/core.py:1020: UserWarning: Can not change order to 2! The only valid order is 1 for method=forward.\n",
      "  warnings.warn(msg.format(order, valid_order, self.method))\n",
      "/home/naodell/work/wbr/analysis/scripts/fit_helpers.py:146: RuntimeWarning: invalid value encountered in sqrt\n",
      "  sig         = np.sqrt(hinv.diagonal())\n"
     ]
    },
    {
     "name": "stdout",
     "output_type": "stream",
     "text": [
      "0.32928336521761625 196.54088118393372\n",
      "Warning: Desired error not necessarily achieved due to precision loss.\n",
      "         Current function value: 5.467133\n",
      "         Iterations: 44\n",
      "         Function evaluations: 129\n",
      "         Gradient evaluations: 122\n",
      "[ 0.348 -2.326 -7.021  1.525] 5.467133157501902\n",
      "-1.688926300695769 352.52607718234185\n",
      "Warning: Desired error not necessarily achieved due to precision loss.\n",
      "         Current function value: 9.947993\n",
      "         Iterations: 48\n",
      "         Function evaluations: 190\n",
      "         Gradient evaluations: 179\n",
      "[ 0.336 -2.198 -6.618  1.437] 9.947992776205805\n",
      "23 xs_ttbar_alpha_s 0.0 1.0 0.6174339863625741 1.0297416326600228 208.4921830831885\n"
     ]
    },
    {
     "name": "stderr",
     "output_type": "stream",
     "text": [
      "/home/naodell/opt/anaconda3/lib/python3.7/site-packages/numdifftools/core.py:1020: UserWarning: Can not change order to 2! The only valid order is 1 for method=forward.\n",
      "  warnings.warn(msg.format(order, valid_order, self.method))\n",
      "/home/naodell/work/wbr/analysis/scripts/fit_helpers.py:146: RuntimeWarning: invalid value encountered in sqrt\n",
      "  sig         = np.sqrt(hinv.diagonal())\n"
     ]
    },
    {
     "name": "stdout",
     "output_type": "stream",
     "text": [
      "1.647175619022597 682.5020555950852\n",
      "Warning: Desired error not necessarily achieved due to precision loss.\n",
      "         Current function value: 12.108314\n",
      "         Iterations: 44\n",
      "         Function evaluations: 128\n",
      "         Gradient evaluations: 119\n",
      "[ 0.569 -2.237 -7.228  1.51 ] 12.108313917122718\n",
      "-0.41230764629744876 186.28661637440376\n",
      "Warning: Desired error not necessarily achieved due to precision loss.\n",
      "         Current function value: 6.252340\n",
      "         Iterations: 44\n",
      "         Function evaluations: 95\n",
      "         Gradient evaluations: 87\n",
      "[ 0.22  -2.208 -6.754  1.481] 6.252339861832495\n",
      "24 xs_ttbar_qcd_scale 0.0 1.0 -0.3182704007384385 0.2613303968295965 313.5143394882876\n"
     ]
    },
    {
     "name": "stderr",
     "output_type": "stream",
     "text": [
      "/home/naodell/opt/anaconda3/lib/python3.7/site-packages/numdifftools/core.py:1020: UserWarning: Can not change order to 2! The only valid order is 1 for method=forward.\n",
      "  warnings.warn(msg.format(order, valid_order, self.method))\n",
      "/home/naodell/work/wbr/analysis/scripts/fit_helpers.py:146: RuntimeWarning: invalid value encountered in sqrt\n",
      "  sig         = np.sqrt(hinv.diagonal())\n"
     ]
    },
    {
     "name": "stdout",
     "output_type": "stream",
     "text": [
      "-0.05694000390884196 488.4226764782102\n",
      "Warning: Desired error not necessarily achieved due to precision loss.\n",
      "         Current function value: 0.569628\n",
      "         Iterations: 46\n",
      "         Function evaluations: 215\n",
      "         Gradient evaluations: 201\n",
      "[ 0.844 -1.465 -5.39   1.026] 0.5696275671260227\n",
      "-0.5796007975680351 5564.023085614106\n",
      "Warning: Desired error not necessarily achieved due to precision loss.\n",
      "         Current function value: 3.159177\n",
      "         Iterations: 77\n",
      "         Function evaluations: 141\n",
      "         Gradient evaluations: 131\n",
      "[ 1.716 -0.707 -4.678  0.641] 3.1591774090913507\n",
      "25 eff_tau_0 0.0 1.0 -0.9072423501501462 0.488143142203038 2253.6450933478363\n"
     ]
    },
    {
     "name": "stderr",
     "output_type": "stream",
     "text": [
      "/home/naodell/opt/anaconda3/lib/python3.7/site-packages/numdifftools/core.py:1020: UserWarning: Can not change order to 2! The only valid order is 1 for method=forward.\n",
      "  warnings.warn(msg.format(order, valid_order, self.method))\n",
      "/home/naodell/work/wbr/analysis/scripts/fit_helpers.py:146: RuntimeWarning: invalid value encountered in sqrt\n",
      "  sig         = np.sqrt(hinv.diagonal())\n"
     ]
    },
    {
     "name": "stdout",
     "output_type": "stream",
     "text": [
      "-0.4190992079471082 2253.424648913868\n",
      "Warning: Desired error not necessarily achieved due to precision loss.\n",
      "         Current function value: 15.682638\n",
      "         Iterations: 45\n",
      "         Function evaluations: 206\n",
      "         Gradient evaluations: 196\n",
      "[-0.185 -2.605 -7.207  1.688] 15.682637704489197\n",
      "-1.395385492353184 2264.933638714077\n",
      "Warning: Desired error not necessarily achieved due to precision loss.\n",
      "         Current function value: 15.932814\n",
      "         Iterations: 43\n",
      "         Function evaluations: 119\n",
      "         Gradient evaluations: 113\n",
      "[-0.139 -2.357 -6.399  1.502] 15.932813722411069\n",
      "26 eff_tau_1 0.0 1.0 -0.454790809776471 0.3995466782791196 2257.0297130769704\n"
     ]
    },
    {
     "name": "stderr",
     "output_type": "stream",
     "text": [
      "/home/naodell/opt/anaconda3/lib/python3.7/site-packages/numdifftools/core.py:1020: UserWarning: Can not change order to 2! The only valid order is 1 for method=forward.\n",
      "  warnings.warn(msg.format(order, valid_order, self.method))\n",
      "/home/naodell/work/wbr/analysis/scripts/fit_helpers.py:146: RuntimeWarning: invalid value encountered in sqrt\n",
      "  sig         = np.sqrt(hinv.diagonal())\n"
     ]
    },
    {
     "name": "stdout",
     "output_type": "stream",
     "text": [
      "-0.05524413149735141 2256.8538238718434\n",
      "Warning: Desired error not necessarily achieved due to precision loss.\n",
      "         Current function value: 14.811843\n",
      "         Iterations: 45\n",
      "         Function evaluations: 194\n",
      "         Gradient evaluations: 180\n",
      "[ 0.034 -2.539 -7.584  1.706] 14.811843027640984\n",
      "-0.8543374880555906 2260.692263023367\n",
      "Warning: Desired error not necessarily achieved due to precision loss.\n",
      "         Current function value: 12.477432\n",
      "         Iterations: 50\n",
      "         Function evaluations: 180\n",
      "         Gradient evaluations: 167\n",
      "[ 0.103 -2.347 -6.565  1.49 ] 12.477431777359731\n",
      "27 eff_tau_2 0.0 1.0 -0.5906712779169878 0.3276844590167633 2257.2626156699907\n"
     ]
    },
    {
     "name": "stderr",
     "output_type": "stream",
     "text": [
      "/home/naodell/opt/anaconda3/lib/python3.7/site-packages/numdifftools/core.py:1020: UserWarning: Can not change order to 2! The only valid order is 1 for method=forward.\n",
      "  warnings.warn(msg.format(order, valid_order, self.method))\n",
      "/home/naodell/work/wbr/analysis/scripts/fit_helpers.py:146: RuntimeWarning: invalid value encountered in sqrt\n",
      "  sig         = np.sqrt(hinv.diagonal())\n"
     ]
    },
    {
     "name": "stdout",
     "output_type": "stream",
     "text": [
      "-0.2629868189002245 2256.440374699811\n",
      "Warning: Desired error not necessarily achieved due to precision loss.\n",
      "         Current function value: 13.190510\n",
      "         Iterations: 45\n",
      "         Function evaluations: 153\n",
      "         Gradient evaluations: 144\n",
      "[-0.037 -2.361 -6.639  1.527] 13.190510392262292\n",
      "-0.9183557369337512 2267.0341752533745\n",
      "Warning: Desired error not necessarily achieved due to precision loss.\n",
      "         Current function value: 14.600776\n",
      "         Iterations: 47\n",
      "         Function evaluations: 90\n",
      "         Gradient evaluations: 84\n",
      "[ 0.373 -2.424 -5.08   1.205] 14.600776275572064\n",
      "28 eff_tau_3 0.0 1.0 -1.021957890523831 0.42150593838029865 2259.4406651619447\n"
     ]
    },
    {
     "name": "stderr",
     "output_type": "stream",
     "text": [
      "/home/naodell/opt/anaconda3/lib/python3.7/site-packages/numdifftools/core.py:1020: UserWarning: Can not change order to 2! The only valid order is 1 for method=forward.\n",
      "  warnings.warn(msg.format(order, valid_order, self.method))\n",
      "/home/naodell/work/wbr/analysis/scripts/fit_helpers.py:146: RuntimeWarning: invalid value encountered in sqrt\n",
      "  sig         = np.sqrt(hinv.diagonal())\n"
     ]
    },
    {
     "name": "stdout",
     "output_type": "stream",
     "text": [
      "-0.6004519521435323 2265.929177729566\n",
      "Warning: Desired error not necessarily achieved due to precision loss.\n",
      "         Current function value: 14.805213\n",
      "         Iterations: 47\n",
      "         Function evaluations: 106\n",
      "         Gradient evaluations: 96\n",
      "[ 0.096 -2.422 -6.286  1.455] 14.805213057332796\n",
      "-1.4434638289041295 2287.6092213656034\n",
      "Warning: Desired error not necessarily achieved due to precision loss.\n",
      "         Current function value: 19.793928\n",
      "         Iterations: 42\n",
      "         Function evaluations: 121\n",
      "         Gradient evaluations: 112\n",
      "[-0.126 -2.557 -5.286  1.342] 19.793927860998807\n",
      "29 eff_tau_4 0.0 1.0 -1.1753650771008382 0.4579790515891934 2274.877568978623\n"
     ]
    },
    {
     "name": "stderr",
     "output_type": "stream",
     "text": [
      "/home/naodell/opt/anaconda3/lib/python3.7/site-packages/numdifftools/core.py:1020: UserWarning: Can not change order to 2! The only valid order is 1 for method=forward.\n",
      "  warnings.warn(msg.format(order, valid_order, self.method))\n",
      "/home/naodell/work/wbr/analysis/scripts/fit_helpers.py:146: RuntimeWarning: invalid value encountered in sqrt\n",
      "  sig         = np.sqrt(hinv.diagonal())\n"
     ]
    },
    {
     "name": "stdout",
     "output_type": "stream",
     "text": [
      "-0.7173860255116448 2286.972825829075\n",
      "Warning: Desired error not necessarily achieved due to precision loss.\n",
      "         Current function value: 14.643015\n",
      "         Iterations: 45\n",
      "         Function evaluations: 102\n",
      "         Gradient evaluations: 95\n",
      "[-0.043 -2.589 -6.185  1.488] 14.643015475409639\n",
      "-1.6333441286900316 2309.898461938174\n",
      "Warning: Desired error not necessarily achieved due to precision loss.\n",
      "         Current function value: 19.800911\n",
      "         Iterations: 44\n",
      "         Function evaluations: 112\n",
      "         Gradient evaluations: 103\n",
      "[-0.346 -2.909 -5.757  1.515] 19.800911402698365\n",
      "30 eff_tau_5 0.0 1.0 -1.5172633136417797 0.4085210087104928 2297.360556938807\n"
     ]
    },
    {
     "name": "stderr",
     "output_type": "stream",
     "text": [
      "/home/naodell/opt/anaconda3/lib/python3.7/site-packages/numdifftools/core.py:1020: UserWarning: Can not change order to 2! The only valid order is 1 for method=forward.\n",
      "  warnings.warn(msg.format(order, valid_order, self.method))\n",
      "/home/naodell/work/wbr/analysis/scripts/fit_helpers.py:146: RuntimeWarning: invalid value encountered in sqrt\n",
      "  sig         = np.sqrt(hinv.diagonal())\n"
     ]
    },
    {
     "name": "stdout",
     "output_type": "stream",
     "text": [
      "-1.1087423049312868 2326.2906511916785\n",
      "Warning: Desired error not necessarily achieved due to precision loss.\n",
      "         Current function value: 17.336890\n",
      "         Iterations: 46\n",
      "         Function evaluations: 135\n",
      "         Gradient evaluations: 126\n",
      "[-0.153 -2.581 -4.824  1.271] 17.336889544343258\n",
      "-1.9257843223522726 2359.5557610097785\n",
      "Warning: Desired error not necessarily achieved due to precision loss.\n",
      "         Current function value: 25.596980\n",
      "         Iterations: 45\n",
      "         Function evaluations: 144\n",
      "         Gradient evaluations: 136\n",
      "[-0.291 -2.977 -3.445  1.122] 25.596979720070852\n",
      "31 misid_tau_e 0.0 1.0 0.2142898896524318 0.9961974874220052 2341.6063881582495\n"
     ]
    },
    {
     "name": "stderr",
     "output_type": "stream",
     "text": [
      "/home/naodell/opt/anaconda3/lib/python3.7/site-packages/numdifftools/core.py:1020: UserWarning: Can not change order to 2! The only valid order is 1 for method=forward.\n",
      "  warnings.warn(msg.format(order, valid_order, self.method))\n",
      "/home/naodell/work/wbr/analysis/scripts/fit_helpers.py:146: RuntimeWarning: invalid value encountered in sqrt\n",
      "  sig         = np.sqrt(hinv.diagonal())\n"
     ]
    },
    {
     "name": "stdout",
     "output_type": "stream",
     "text": [
      "1.210487377074437 2338.2873427062664\n",
      "Warning: Desired error not necessarily achieved due to precision loss.\n",
      "         Current function value: 14.681682\n",
      "         Iterations: 45\n",
      "         Function evaluations: 122\n",
      "         Gradient evaluations: 113\n",
      "[-0.022 -2.408 -8.122  1.786] 14.681681813071979\n",
      "-0.7819075977695734 2344.5669077252123\n",
      "Warning: Desired error not necessarily achieved due to precision loss.\n",
      "         Current function value: 12.348260\n",
      "         Iterations: 48\n",
      "         Function evaluations: 113\n",
      "         Gradient evaluations: 106\n",
      "[ 0.012 -2.307 -7.258  1.616] 12.34826017141103\n",
      "32 misid_tau_h 0.0 1.0 -1.0218609331972182 0.5653606706331162 2340.9069306458778\n"
     ]
    },
    {
     "name": "stderr",
     "output_type": "stream",
     "text": [
      "/home/naodell/opt/anaconda3/lib/python3.7/site-packages/numdifftools/core.py:1020: UserWarning: Can not change order to 2! The only valid order is 1 for method=forward.\n",
      "  warnings.warn(msg.format(order, valid_order, self.method))\n",
      "/home/naodell/work/wbr/analysis/scripts/fit_helpers.py:146: RuntimeWarning: invalid value encountered in sqrt\n",
      "  sig         = np.sqrt(hinv.diagonal())\n"
     ]
    },
    {
     "name": "stdout",
     "output_type": "stream",
     "text": [
      "-0.4565002625641019 2368.481249372565\n",
      "Warning: Desired error not necessarily achieved due to precision loss.\n",
      "         Current function value: 17.640397\n",
      "         Iterations: 46\n",
      "         Function evaluations: 131\n",
      "         Gradient evaluations: 122\n",
      "[-0.278 -2.605 -7.751  1.796] 17.640396843904377\n",
      "-1.5872216038303344 2462.614414843431\n",
      "Warning: Desired error not necessarily achieved due to precision loss.\n",
      "         Current function value: 14.017672\n",
      "         Iterations: 45\n",
      "         Function evaluations: 112\n",
      "         Gradient evaluations: 103\n",
      "[-0.058 -2.401 -5.81   1.395] 14.017672468338313\n",
      "33 misid_tau_0 0.0 1.0 -0.016339870194483526 0.5991416055432092 2410.862085650955\n"
     ]
    },
    {
     "name": "stderr",
     "output_type": "stream",
     "text": [
      "/home/naodell/opt/anaconda3/lib/python3.7/site-packages/numdifftools/core.py:1020: UserWarning: Can not change order to 2! The only valid order is 1 for method=forward.\n",
      "  warnings.warn(msg.format(order, valid_order, self.method))\n",
      "/home/naodell/work/wbr/analysis/scripts/fit_helpers.py:146: RuntimeWarning: invalid value encountered in sqrt\n",
      "  sig         = np.sqrt(hinv.diagonal())\n"
     ]
    },
    {
     "name": "stdout",
     "output_type": "stream",
     "text": [
      "0.5828017353487256 2398.6959069605487\n",
      "Warning: Desired error not necessarily achieved due to precision loss.\n",
      "         Current function value: 16.474476\n",
      "         Iterations: 46\n",
      "         Function evaluations: 90\n",
      "         Gradient evaluations: 82\n",
      "[-0.145 -2.581 -7.157  1.669] 16.47447639711882\n",
      "-0.6154814757376927 2429.042988957307\n",
      "Warning: Desired error not necessarily achieved due to precision loss.\n",
      "         Current function value: 17.777246\n",
      "         Iterations: 47\n",
      "         Function evaluations: 137\n",
      "         Gradient evaluations: 129\n",
      "[-0.113 -2.463 -7.994  1.787] 17.777245969687705\n",
      "34 misid_tau_1 0.0 1.0 0.13660140382943273 0.7243858905897622 2411.272993016721\n"
     ]
    },
    {
     "name": "stderr",
     "output_type": "stream",
     "text": [
      "/home/naodell/opt/anaconda3/lib/python3.7/site-packages/numdifftools/core.py:1020: UserWarning: Can not change order to 2! The only valid order is 1 for method=forward.\n",
      "  warnings.warn(msg.format(order, valid_order, self.method))\n",
      "/home/naodell/work/wbr/analysis/scripts/fit_helpers.py:146: RuntimeWarning: invalid value encountered in sqrt\n",
      "  sig         = np.sqrt(hinv.diagonal())\n"
     ]
    },
    {
     "name": "stdout",
     "output_type": "stream",
     "text": [
      "0.860987294419195 2402.3336911609813\n",
      "Warning: Desired error not necessarily achieved due to precision loss.\n",
      "         Current function value: 15.625263\n",
      "         Iterations: 44\n",
      "         Function evaluations: 101\n",
      "         Gradient evaluations: 93\n",
      "[-0.064 -2.49  -8.6    1.888] 15.62526311438076\n",
      "-0.5877844867603295 2419.67364003855\n",
      "Warning: Desired error not necessarily achieved due to precision loss.\n",
      "         Current function value: 12.762894\n",
      "         Iterations: 43\n",
      "         Function evaluations: 162\n",
      "         Gradient evaluations: 147\n",
      "[-0.068 -2.29  -7.016  1.585] 12.762894454684805\n",
      "35 misid_tau_2 0.0 1.0 -0.0485577423523022 0.7375581462729248 2409.590254393182\n"
     ]
    },
    {
     "name": "stderr",
     "output_type": "stream",
     "text": [
      "/home/naodell/opt/anaconda3/lib/python3.7/site-packages/numdifftools/core.py:1020: UserWarning: Can not change order to 2! The only valid order is 1 for method=forward.\n",
      "  warnings.warn(msg.format(order, valid_order, self.method))\n",
      "/home/naodell/work/wbr/analysis/scripts/fit_helpers.py:146: RuntimeWarning: invalid value encountered in sqrt\n",
      "  sig         = np.sqrt(hinv.diagonal())\n"
     ]
    },
    {
     "name": "stdout",
     "output_type": "stream",
     "text": [
      "0.6890004039206226 2400.1936119041343\n",
      "Warning: Desired error not necessarily achieved due to precision loss.\n",
      "         Current function value: 14.109030\n",
      "         Iterations: 47\n",
      "         Function evaluations: 142\n",
      "         Gradient evaluations: 136\n",
      "[ 0.185 -2.389 -7.292  1.608] 14.109030413991583\n",
      "-0.7861158886252271 2422.9323358056045\n",
      "Warning: Desired error not necessarily achieved due to precision loss.\n",
      "         Current function value: 12.179188\n",
      "         Iterations: 43\n",
      "         Function evaluations: 129\n",
      "         Gradient evaluations: 122\n",
      "[-0.023 -2.337 -6.626  1.518] 12.17918774216734\n",
      "36 misid_tau_3 0.0 1.0 -0.5100004908454415 0.8817044849302212 2410.3328477439136\n"
     ]
    },
    {
     "name": "stderr",
     "output_type": "stream",
     "text": [
      "/home/naodell/opt/anaconda3/lib/python3.7/site-packages/numdifftools/core.py:1020: UserWarning: Can not change order to 2! The only valid order is 1 for method=forward.\n",
      "  warnings.warn(msg.format(order, valid_order, self.method))\n",
      "/home/naodell/work/wbr/analysis/scripts/fit_helpers.py:146: RuntimeWarning: invalid value encountered in sqrt\n",
      "  sig         = np.sqrt(hinv.diagonal())\n"
     ]
    },
    {
     "name": "stdout",
     "output_type": "stream",
     "text": [
      "0.3717039940847797 2407.290825445519\n",
      "Warning: Desired error not necessarily achieved due to precision loss.\n",
      "         Current function value: 13.067268\n",
      "         Iterations: 47\n",
      "         Function evaluations: 161\n",
      "         Gradient evaluations: 148\n",
      "[ 0.054 -2.406 -7.72   1.705] 13.067268350986975\n",
      "-1.3917049757756628 2424.2082636400937\n",
      "Warning: Desired error not necessarily achieved due to precision loss.\n",
      "         Current function value: 14.994452\n",
      "         Iterations: 47\n",
      "         Function evaluations: 146\n",
      "         Gradient evaluations: 138\n",
      "[-0.034 -2.446 -8.138  1.797] 14.994451957606366\n",
      "37 misid_tau_4 0.0 1.0 -0.061018694187505086 0.9325451047750756 2414.960081217488\n"
     ]
    },
    {
     "name": "stderr",
     "output_type": "stream",
     "text": [
      "/home/naodell/opt/anaconda3/lib/python3.7/site-packages/numdifftools/core.py:1020: UserWarning: Can not change order to 2! The only valid order is 1 for method=forward.\n",
      "  warnings.warn(msg.format(order, valid_order, self.method))\n",
      "/home/naodell/work/wbr/analysis/scripts/fit_helpers.py:146: RuntimeWarning: invalid value encountered in sqrt\n",
      "  sig         = np.sqrt(hinv.diagonal())\n"
     ]
    },
    {
     "name": "stdout",
     "output_type": "stream",
     "text": [
      "0.8715264105875705 2409.3196748345717\n",
      "Warning: Desired error not necessarily achieved due to precision loss.\n",
      "         Current function value: 13.437478\n",
      "         Iterations: 46\n",
      "         Function evaluations: 99\n",
      "         Gradient evaluations: 93\n",
      "[ 0.061 -2.394 -6.954  1.57 ] 13.437477863107537\n",
      "-0.9935637989625806 2422.975384793672\n",
      "Warning: Desired error not necessarily achieved due to precision loss.\n",
      "         Current function value: 14.012356\n",
      "         Iterations: 46\n",
      "         Function evaluations: 165\n",
      "         Gradient evaluations: 152\n",
      "[-0.054 -2.551 -7.65   1.734] 14.012355908080314\n",
      "38 misid_tau_5 0.0 1.0 -0.34223505662101095 0.9358148738428108 2415.4034867732544\n"
     ]
    },
    {
     "name": "stderr",
     "output_type": "stream",
     "text": [
      "/home/naodell/opt/anaconda3/lib/python3.7/site-packages/numdifftools/core.py:1020: UserWarning: Can not change order to 2! The only valid order is 1 for method=forward.\n",
      "  warnings.warn(msg.format(order, valid_order, self.method))\n",
      "/home/naodell/work/wbr/analysis/scripts/fit_helpers.py:146: RuntimeWarning: invalid value encountered in sqrt\n",
      "  sig         = np.sqrt(hinv.diagonal())\n"
     ]
    },
    {
     "name": "stdout",
     "output_type": "stream",
     "text": [
      "0.5935798172217999 2410.917128811027\n",
      "Warning: Desired error not necessarily achieved due to precision loss.\n",
      "         Current function value: 13.373559\n",
      "         Iterations: 46\n",
      "         Function evaluations: 119\n",
      "         Gradient evaluations: 113\n",
      "[ 0.03  -2.33  -7.341  1.631] 13.37355924263656\n",
      "-1.2780499304638218 2427.1114597335873\n",
      "Warning: Desired error not necessarily achieved due to precision loss.\n",
      "         Current function value: 15.489389\n",
      "         Iterations: 44\n",
      "         Function evaluations: 108\n",
      "         Gradient evaluations: 101\n",
      "[-0.081 -2.623 -7.275  1.686] 15.489389325422147\n",
      "39 escale_tau_0 0.0 1.0 -0.11535616640017182 0.9266719082673176 2418.2633820632386\n"
     ]
    },
    {
     "name": "stderr",
     "output_type": "stream",
     "text": [
      "/home/naodell/opt/anaconda3/lib/python3.7/site-packages/numdifftools/core.py:1020: UserWarning: Can not change order to 2! The only valid order is 1 for method=forward.\n",
      "  warnings.warn(msg.format(order, valid_order, self.method))\n",
      "/home/naodell/work/wbr/analysis/scripts/fit_helpers.py:146: RuntimeWarning: invalid value encountered in sqrt\n",
      "  sig         = np.sqrt(hinv.diagonal())\n"
     ]
    },
    {
     "name": "stdout",
     "output_type": "stream",
     "text": [
      "0.8113157418671457 2410.926569750541\n",
      "Warning: Desired error not necessarily achieved due to precision loss.\n",
      "         Current function value: 14.662856\n",
      "         Iterations: 45\n",
      "         Function evaluations: 126\n",
      "         Gradient evaluations: 119\n",
      "[ 0.029 -2.415 -6.862  1.563] 14.662856126952937\n",
      "-1.0420280746674895 2426.517397187091\n",
      "Warning: Desired error not necessarily achieved due to precision loss.\n",
      "         Current function value: 13.783848\n",
      "         Iterations: 45\n",
      "         Function evaluations: 111\n",
      "         Gradient evaluations: 105\n",
      "[ 0.308 -2.359 -6.536  1.454] 13.7838482355472\n",
      "40 escale_tau_1 0.0 1.0 -0.5547270504089241 1.049613215903463 2419.2660075648373\n"
     ]
    },
    {
     "name": "stderr",
     "output_type": "stream",
     "text": [
      "/home/naodell/opt/anaconda3/lib/python3.7/site-packages/numdifftools/core.py:1020: UserWarning: Can not change order to 2! The only valid order is 1 for method=forward.\n",
      "  warnings.warn(msg.format(order, valid_order, self.method))\n",
      "/home/naodell/work/wbr/analysis/scripts/fit_helpers.py:146: RuntimeWarning: invalid value encountered in sqrt\n",
      "  sig         = np.sqrt(hinv.diagonal())\n"
     ]
    },
    {
     "name": "stdout",
     "output_type": "stream",
     "text": [
      "0.4948861654945389 2407.8817195601514\n",
      "Warning: Desired error not necessarily achieved due to precision loss.\n",
      "         Current function value: 13.648508\n",
      "         Iterations: 46\n",
      "         Function evaluations: 124\n",
      "         Gradient evaluations: 115\n",
      "[ 0.075 -2.373 -6.924  1.56 ] 13.64850810778659\n",
      "-1.6043402663123871 2456.3634976033145\n",
      "Warning: Desired error not necessarily achieved due to precision loss.\n",
      "         Current function value: 13.997213\n",
      "         Iterations: 45\n",
      "         Function evaluations: 168\n",
      "         Gradient evaluations: 160\n",
      "[ 0.152 -2.328 -7.02   1.557] 13.997213083509209\n",
      "41 escale_tau_10 0.0 1.0 0.2792225725209259 0.6730030477059306 2432.4340092447005\n"
     ]
    },
    {
     "name": "stderr",
     "output_type": "stream",
     "text": [
      "/home/naodell/opt/anaconda3/lib/python3.7/site-packages/numdifftools/core.py:1020: UserWarning: Can not change order to 2! The only valid order is 1 for method=forward.\n",
      "  warnings.warn(msg.format(order, valid_order, self.method))\n",
      "/home/naodell/work/wbr/analysis/scripts/fit_helpers.py:146: RuntimeWarning: invalid value encountered in sqrt\n",
      "  sig         = np.sqrt(hinv.diagonal())\n"
     ]
    },
    {
     "name": "stdout",
     "output_type": "stream",
     "text": [
      "0.9522256202268564 2420.12793018105\n",
      "Warning: Desired error not necessarily achieved due to precision loss.\n",
      "         Current function value: 13.741143\n",
      "         Iterations: 47\n",
      "         Function evaluations: 114\n",
      "         Gradient evaluations: 105\n",
      "[ 0.144 -2.484 -6.104  1.427] 13.741142626436096\n",
      "-0.39378047518500464 2438.099054498854\n",
      "Warning: Desired error not necessarily achieved due to precision loss.\n",
      "         Current function value: 12.328793\n",
      "         Iterations: 45\n",
      "         Function evaluations: 184\n",
      "         Gradient evaluations: 173\n",
      "[ 0.081 -2.382 -7.197  1.607] 12.328792803312643\n",
      "42 eff_reco_e 0.0 1.0 0.5216834291384512 0.939306826358876 2428.471400379962\n"
     ]
    },
    {
     "name": "stderr",
     "output_type": "stream",
     "text": [
      "/home/naodell/opt/anaconda3/lib/python3.7/site-packages/numdifftools/core.py:1020: UserWarning: Can not change order to 2! The only valid order is 1 for method=forward.\n",
      "  warnings.warn(msg.format(order, valid_order, self.method))\n",
      "/home/naodell/work/wbr/analysis/scripts/fit_helpers.py:146: RuntimeWarning: invalid value encountered in sqrt\n",
      "  sig         = np.sqrt(hinv.diagonal())\n"
     ]
    },
    {
     "name": "stdout",
     "output_type": "stream",
     "text": [
      "1.460990255497327 2146.666442622576\n",
      "Warning: Desired error not necessarily achieved due to precision loss.\n",
      "         Current function value: 12.385734\n",
      "         Iterations: 44\n",
      "         Function evaluations: 94\n",
      "         Gradient evaluations: 87\n",
      "[-0.609 -2.248 -6.883  1.642] 12.385733931210645\n",
      "-0.41762339722042474 2521.4859640961176\n",
      "Warning: Desired error not necessarily achieved due to precision loss.\n",
      "         Current function value: 14.324474\n",
      "         Iterations: 47\n",
      "         Function evaluations: 105\n",
      "         Gradient evaluations: 99\n",
      "[ 0.327 -2.301 -6.882  1.501] 14.324474275822382\n",
      "43 eff_id_e 0.0 1.0 0.3093098321931497 0.59238321619514 2320.0825783184237\n"
     ]
    },
    {
     "name": "stderr",
     "output_type": "stream",
     "text": [
      "/home/naodell/opt/anaconda3/lib/python3.7/site-packages/numdifftools/core.py:1020: UserWarning: Can not change order to 2! The only valid order is 1 for method=forward.\n",
      "  warnings.warn(msg.format(order, valid_order, self.method))\n",
      "/home/naodell/work/wbr/analysis/scripts/fit_helpers.py:146: RuntimeWarning: invalid value encountered in sqrt\n",
      "  sig         = np.sqrt(hinv.diagonal())\n"
     ]
    },
    {
     "name": "stdout",
     "output_type": "stream",
     "text": [
      "0.9016930483882897 2193.9866165233943\n",
      "Warning: Desired error not necessarily achieved due to precision loss.\n",
      "         Current function value: 13.533849\n",
      "         Iterations: 44\n",
      "         Function evaluations: 116\n",
      "         Gradient evaluations: 109\n",
      "[-0.545 -2.419 -7.397  1.747] 13.533848504900783\n",
      "-0.2830733840019903 2364.7842910232393\n",
      "Warning: Desired error not necessarily achieved due to precision loss.\n",
      "         Current function value: 11.157171\n",
      "         Iterations: 47\n",
      "         Function evaluations: 128\n",
      "         Gradient evaluations: 121\n",
      "[ 0.33  -2.287 -6.677  1.463] 11.15717114384169\n",
      "44 eff_e_0 0.0 1.0 -0.699742326040985 0.7324503435755024 2274.0437824722726\n"
     ]
    },
    {
     "name": "stderr",
     "output_type": "stream",
     "text": [
      "/home/naodell/opt/anaconda3/lib/python3.7/site-packages/numdifftools/core.py:1020: UserWarning: Can not change order to 2! The only valid order is 1 for method=forward.\n",
      "  warnings.warn(msg.format(order, valid_order, self.method))\n",
      "/home/naodell/work/wbr/analysis/scripts/fit_helpers.py:146: RuntimeWarning: invalid value encountered in sqrt\n",
      "  sig         = np.sqrt(hinv.diagonal())\n"
     ]
    },
    {
     "name": "stdout",
     "output_type": "stream",
     "text": [
      "0.032708017534517464 2273.0129227690322\n",
      "Warning: Desired error not necessarily achieved due to precision loss.\n",
      "         Current function value: 14.105006\n",
      "         Iterations: 45\n",
      "         Function evaluations: 184\n",
      "         Gradient evaluations: 172\n",
      "[-0.12  -2.674 -7.311  1.706] 14.105006231359237\n",
      "-1.4321926696164873 2324.393542638903\n",
      "Warning: Desired error not necessarily achieved due to precision loss.\n",
      "         Current function value: 14.075514\n",
      "         Iterations: 43\n",
      "         Function evaluations: 134\n",
      "         Gradient evaluations: 127\n",
      "[ 0.165 -2.5   -6.949  1.571] 14.075513779897733\n",
      "45 eff_e_1 0.0 1.0 1.0195098352170546 0.9020936549327028 2297.3676592587763\n"
     ]
    },
    {
     "name": "stderr",
     "output_type": "stream",
     "text": [
      "/home/naodell/opt/anaconda3/lib/python3.7/site-packages/numdifftools/core.py:1020: UserWarning: Can not change order to 2! The only valid order is 1 for method=forward.\n",
      "  warnings.warn(msg.format(order, valid_order, self.method))\n",
      "/home/naodell/work/wbr/analysis/scripts/fit_helpers.py:146: RuntimeWarning: invalid value encountered in sqrt\n",
      "  sig         = np.sqrt(hinv.diagonal())\n"
     ]
    },
    {
     "name": "stdout",
     "output_type": "stream",
     "text": [
      "1.9216034901497574 2272.424939638766\n",
      "Warning: Desired error not necessarily achieved due to precision loss.\n",
      "         Current function value: 13.943181\n",
      "         Iterations: 45\n",
      "         Function evaluations: 148\n",
      "         Gradient evaluations: 138\n",
      "[ 0.012 -2.217 -6.723  1.51 ] 13.943181422357869\n",
      "0.11741618028435186 2295.644106488454\n",
      "Warning: Desired error not necessarily achieved due to precision loss.\n",
      "         Current function value: 13.911346\n",
      "         Iterations: 45\n",
      "         Function evaluations: 125\n",
      "         Gradient evaluations: 116\n",
      "[-0.174 -2.577 -8.132  1.839] 13.911345913680046\n",
      "46 eff_e_2 0.0 1.0 1.1766293414238878 0.8627263804415912 2283.2690718589474\n"
     ]
    },
    {
     "name": "stderr",
     "output_type": "stream",
     "text": [
      "/home/naodell/opt/anaconda3/lib/python3.7/site-packages/numdifftools/core.py:1020: UserWarning: Can not change order to 2! The only valid order is 1 for method=forward.\n",
      "  warnings.warn(msg.format(order, valid_order, self.method))\n",
      "/home/naodell/work/wbr/analysis/scripts/fit_helpers.py:146: RuntimeWarning: invalid value encountered in sqrt\n",
      "  sig         = np.sqrt(hinv.diagonal())\n"
     ]
    },
    {
     "name": "stdout",
     "output_type": "stream",
     "text": [
      "2.039355721865479 2258.466337505665\n",
      "Warning: Desired error not necessarily achieved due to precision loss.\n",
      "         Current function value: 13.514983\n",
      "         Iterations: 44\n",
      "         Function evaluations: 114\n",
      "         Gradient evaluations: 107\n",
      "[-0.153 -2.222 -7.404  1.653] 13.514983274113016\n",
      "0.31390296098229653 2278.872289480141\n",
      "Warning: Desired error not necessarily achieved due to precision loss.\n",
      "         Current function value: 13.440488\n",
      "         Iterations: 45\n",
      "         Function evaluations: 102\n",
      "         Gradient evaluations: 93\n",
      "[-0.167 -2.486 -7.743  1.757] 13.44048811917622\n",
      "47 eff_e_3 0.0 1.0 -0.8582836569636183 0.9168763550176608 2267.8751431442856\n"
     ]
    },
    {
     "name": "stderr",
     "output_type": "stream",
     "text": [
      "/home/naodell/opt/anaconda3/lib/python3.7/site-packages/numdifftools/core.py:1020: UserWarning: Can not change order to 2! The only valid order is 1 for method=forward.\n",
      "  warnings.warn(msg.format(order, valid_order, self.method))\n",
      "/home/naodell/work/wbr/analysis/scripts/fit_helpers.py:146: RuntimeWarning: invalid value encountered in sqrt\n",
      "  sig         = np.sqrt(hinv.diagonal())\n"
     ]
    },
    {
     "name": "stdout",
     "output_type": "stream",
     "text": [
      "0.05859269805404255 2267.2125925704386\n",
      "Warning: Desired error not necessarily achieved due to precision loss.\n",
      "         Current function value: 10.593104\n",
      "         Iterations: 45\n",
      "         Function evaluations: 139\n",
      "         Gradient evaluations: 130\n",
      "[-0.03  -2.087 -6.947  1.534] 10.593104464256083\n",
      "-1.7751600119812792 2290.6576496168213\n",
      "Warning: Desired error not necessarily achieved due to precision loss.\n",
      "         Current function value: 15.300115\n",
      "         Iterations: 46\n",
      "         Function evaluations: 128\n",
      "         Gradient evaluations: 121\n",
      "[ 0.17  -2.206 -7.398  1.598] 15.300114709842882\n",
      "48 eff_e_4 0.0 1.0 0.4173047956133782 0.4582989218979517 2278.2350271047626\n"
     ]
    },
    {
     "name": "stderr",
     "output_type": "stream",
     "text": [
      "/home/naodell/opt/anaconda3/lib/python3.7/site-packages/numdifftools/core.py:1020: UserWarning: Can not change order to 2! The only valid order is 1 for method=forward.\n",
      "  warnings.warn(msg.format(order, valid_order, self.method))\n",
      "/home/naodell/work/wbr/analysis/scripts/fit_helpers.py:146: RuntimeWarning: invalid value encountered in sqrt\n",
      "  sig         = np.sqrt(hinv.diagonal())\n"
     ]
    },
    {
     "name": "stdout",
     "output_type": "stream",
     "text": [
      "0.8756037175113298 2235.7790952906603\n",
      "Warning: Desired error not necessarily achieved due to precision loss.\n",
      "         Current function value: 13.954414\n",
      "         Iterations: 44\n",
      "         Function evaluations: 141\n",
      "         Gradient evaluations: 132\n",
      "[-0.307 -2.237 -6.915  1.597] 13.95441408208954\n",
      "-0.040994126284573496 2280.4948780419127\n",
      "Warning: Desired error not necessarily achieved due to precision loss.\n",
      "         Current function value: 14.218396\n",
      "         Iterations: 47\n",
      "         Function evaluations: 170\n",
      "         Gradient evaluations: 158\n",
      "[ 0.052 -2.431 -6.878  1.565] 14.218395966255411\n",
      "49 eff_e_5 0.0 1.0 -0.1694058075533919 0.4374145783601228 2256.6192609713244\n"
     ]
    },
    {
     "name": "stderr",
     "output_type": "stream",
     "text": [
      "/home/naodell/opt/anaconda3/lib/python3.7/site-packages/numdifftools/core.py:1020: UserWarning: Can not change order to 2! The only valid order is 1 for method=forward.\n",
      "  warnings.warn(msg.format(order, valid_order, self.method))\n",
      "/home/naodell/work/wbr/analysis/scripts/fit_helpers.py:146: RuntimeWarning: invalid value encountered in sqrt\n",
      "  sig         = np.sqrt(hinv.diagonal())\n"
     ]
    },
    {
     "name": "stdout",
     "output_type": "stream",
     "text": [
      "0.2680087708067309 2210.383453151014\n",
      "Warning: Desired error not necessarily achieved due to precision loss.\n",
      "         Current function value: 12.003885\n",
      "         Iterations: 45\n",
      "         Function evaluations: 113\n",
      "         Gradient evaluations: 107\n",
      "[-0.103 -2.449 -7.06   1.624] 12.003885156447385\n",
      "-0.6068203859135147 2379.92282961264\n",
      "Warning: Desired error not necessarily achieved due to precision loss.\n",
      "         Current function value: 16.941108\n",
      "         Iterations: 49\n",
      "         Function evaluations: 127\n",
      "         Gradient evaluations: 119\n",
      "[ 0.239 -2.502 -7.981  1.735] 16.94110812578515\n",
      "50 trigger_e_0 0.0 1.0 -0.4280785983357897 0.946014903947934 2288.434216796852\n"
     ]
    },
    {
     "name": "stderr",
     "output_type": "stream",
     "text": [
      "/home/naodell/opt/anaconda3/lib/python3.7/site-packages/numdifftools/core.py:1020: UserWarning: Can not change order to 2! The only valid order is 1 for method=forward.\n",
      "  warnings.warn(msg.format(order, valid_order, self.method))\n",
      "/home/naodell/work/wbr/analysis/scripts/fit_helpers.py:146: RuntimeWarning: invalid value encountered in sqrt\n",
      "  sig         = np.sqrt(hinv.diagonal())\n"
     ]
    },
    {
     "name": "stdout",
     "output_type": "stream",
     "text": [
      "0.5179363056121442 2282.217222136245\n",
      "Warning: Desired error not necessarily achieved due to precision loss.\n",
      "         Current function value: 12.276422\n",
      "         Iterations: 44\n",
      "         Function evaluations: 146\n",
      "         Gradient evaluations: 140\n",
      "[-0.095 -2.37  -7.298  1.65 ] 12.276422046615716\n",
      "-1.3740935022837237 2307.924241719773\n",
      "Warning: Desired error not necessarily achieved due to precision loss.\n",
      "         Current function value: 14.760893\n",
      "         Iterations: 45\n",
      "         Function evaluations: 141\n",
      "         Gradient evaluations: 134\n",
      "[ 0.14  -2.503 -6.848  1.558] 14.760892643103288\n",
      "51 trigger_e_1 0.0 1.0 -0.2109256944521465 0.9853282505685772 2294.0389944952667\n"
     ]
    },
    {
     "name": "stderr",
     "output_type": "stream",
     "text": [
      "/home/naodell/opt/anaconda3/lib/python3.7/site-packages/numdifftools/core.py:1020: UserWarning: Can not change order to 2! The only valid order is 1 for method=forward.\n",
      "  warnings.warn(msg.format(order, valid_order, self.method))\n",
      "/home/naodell/work/wbr/analysis/scripts/fit_helpers.py:146: RuntimeWarning: invalid value encountered in sqrt\n",
      "  sig         = np.sqrt(hinv.diagonal())\n"
     ]
    },
    {
     "name": "stdout",
     "output_type": "stream",
     "text": [
      "0.7744025561164307 2289.129968936928\n",
      "Warning: Desired error not necessarily achieved due to precision loss.\n",
      "         Current function value: 12.546698\n",
      "         Iterations: 44\n",
      "         Function evaluations: 139\n",
      "         Gradient evaluations: 133\n",
      "[-0.014 -2.484 -7.186  1.637] 12.546697601941121\n",
      "-1.1962539450207237 2303.2231857217307\n",
      "Warning: Desired error not necessarily achieved due to precision loss.\n",
      "         Current function value: 14.175266\n",
      "         Iterations: 45\n",
      "         Function evaluations: 95\n",
      "         Gradient evaluations: 86\n",
      "[ 0.09  -2.495 -6.99   1.589] 14.175266018546177\n",
      "52 trigger_e_2 0.0 1.0 -0.14175317621437653 0.992343327806167 2295.517196309981\n"
     ]
    },
    {
     "name": "stderr",
     "output_type": "stream",
     "text": [
      "/home/naodell/opt/anaconda3/lib/python3.7/site-packages/numdifftools/core.py:1020: UserWarning: Can not change order to 2! The only valid order is 1 for method=forward.\n",
      "  warnings.warn(msg.format(order, valid_order, self.method))\n",
      "/home/naodell/work/wbr/analysis/scripts/fit_helpers.py:146: RuntimeWarning: invalid value encountered in sqrt\n",
      "  sig         = np.sqrt(hinv.diagonal())\n"
     ]
    },
    {
     "name": "stdout",
     "output_type": "stream",
     "text": [
      "0.8505901515917904 2291.672078435462\n",
      "Warning: Desired error not necessarily achieved due to precision loss.\n",
      "         Current function value: 9.504483\n",
      "         Iterations: 46\n",
      "         Function evaluations: 130\n",
      "         Gradient evaluations: 122\n",
      "[ 0.442 -2.141 -6.683  1.422] 9.504482802380124\n",
      "-1.1340965040205435 2301.9829249880822\n",
      "Warning: Desired error not necessarily achieved due to precision loss.\n",
      "         Current function value: 13.276205\n",
      "         Iterations: 46\n",
      "         Function evaluations: 136\n",
      "         Gradient evaluations: 126\n",
      "[ 0.063 -2.55  -7.173  1.633] 13.276205138056861\n",
      "53 trigger_e_3 0.0 1.0 -0.15764559304859893 0.9916417775657952 2296.24167191806\n"
     ]
    },
    {
     "name": "stderr",
     "output_type": "stream",
     "text": [
      "/home/naodell/opt/anaconda3/lib/python3.7/site-packages/numdifftools/core.py:1020: UserWarning: Can not change order to 2! The only valid order is 1 for method=forward.\n",
      "  warnings.warn(msg.format(order, valid_order, self.method))\n",
      "/home/naodell/work/wbr/analysis/scripts/fit_helpers.py:146: RuntimeWarning: invalid value encountered in sqrt\n",
      "  sig         = np.sqrt(hinv.diagonal())\n"
     ]
    },
    {
     "name": "stdout",
     "output_type": "stream",
     "text": [
      "0.8339961845171963 2292.016697434497\n",
      "Warning: Desired error not necessarily achieved due to precision loss.\n",
      "         Current function value: 11.128458\n",
      "         Iterations: 44\n",
      "         Function evaluations: 137\n",
      "         Gradient evaluations: 128\n",
      "[ 0.117 -2.118 -6.675  1.469] 11.128458356577994\n",
      "-1.149287370614394 2303.467043056924\n",
      "Warning: Desired error not necessarily achieved due to precision loss.\n",
      "         Current function value: 13.603876\n",
      "         Iterations: 46\n",
      "         Function evaluations: 122\n",
      "         Gradient evaluations: 113\n",
      "[ 0.016 -2.515 -6.861  1.582] 13.603875924148072\n",
      "54 trigger_e_4 0.0 1.0 0.6654909632341799 0.9022755753760459 2297.1365185986588\n"
     ]
    },
    {
     "name": "stderr",
     "output_type": "stream",
     "text": [
      "/home/naodell/opt/anaconda3/lib/python3.7/site-packages/numdifftools/core.py:1020: UserWarning: Can not change order to 2! The only valid order is 1 for method=forward.\n",
      "  warnings.warn(msg.format(order, valid_order, self.method))\n",
      "/home/naodell/work/wbr/analysis/scripts/fit_helpers.py:146: RuntimeWarning: invalid value encountered in sqrt\n",
      "  sig         = np.sqrt(hinv.diagonal())\n"
     ]
    },
    {
     "name": "stdout",
     "output_type": "stream",
     "text": [
      "1.5677665386102257 2280.9771596054097\n",
      "Warning: Desired error not necessarily achieved due to precision loss.\n",
      "         Current function value: 12.367865\n",
      "         Iterations: 46\n",
      "         Function evaluations: 148\n",
      "         Gradient evaluations: 138\n",
      "[ 0.101 -2.286 -7.265  1.6  ] 12.367865094689634\n",
      "-0.23678461214186597 2300.0901122829346\n",
      "Warning: Desired error not necessarily achieved due to precision loss.\n",
      "         Current function value: 12.535204\n",
      "         Iterations: 48\n",
      "         Function evaluations: 134\n",
      "         Gradient evaluations: 125\n",
      "[ 0.293 -2.184 -7.236  1.547] 12.535203991989398\n",
      "55 trigger_e_5 0.0 1.0 1.649918494565186 0.5161286675607071 2289.557065566787\n"
     ]
    },
    {
     "name": "stderr",
     "output_type": "stream",
     "text": [
      "/home/naodell/opt/anaconda3/lib/python3.7/site-packages/numdifftools/core.py:1020: UserWarning: Can not change order to 2! The only valid order is 1 for method=forward.\n",
      "  warnings.warn(msg.format(order, valid_order, self.method))\n",
      "/home/naodell/work/wbr/analysis/scripts/fit_helpers.py:146: RuntimeWarning: invalid value encountered in sqrt\n",
      "  sig         = np.sqrt(hinv.diagonal())\n"
     ]
    },
    {
     "name": "stdout",
     "output_type": "stream",
     "text": [
      "2.166047162125893 2104.8358769271535\n",
      "Warning: Desired error not necessarily achieved due to precision loss.\n",
      "         Current function value: 22.025982\n",
      "         Iterations: 45\n",
      "         Function evaluations: 136\n",
      "         Gradient evaluations: 127\n",
      "[-0.582 -2.227 -7.625  1.761] 22.025981616125293\n",
      "1.1337898270044788 2168.350547986188\n",
      "Warning: Desired error not necessarily achieved due to precision loss.\n",
      "         Current function value: 22.366072\n",
      "         Iterations: 47\n",
      "         Function evaluations: 118\n",
      "         Gradient evaluations: 110\n",
      "[-0.052 -2.449 -7.227  1.644] 22.366071915360727\n",
      "56 escale_e 0.0 1.0 1.9135599098106169 0.2719223554930905 2131.071163452837\n"
     ]
    },
    {
     "name": "stderr",
     "output_type": "stream",
     "text": [
      "/home/naodell/opt/anaconda3/lib/python3.7/site-packages/numdifftools/core.py:1020: UserWarning: Can not change order to 2! The only valid order is 1 for method=forward.\n",
      "  warnings.warn(msg.format(order, valid_order, self.method))\n",
      "/home/naodell/work/wbr/analysis/scripts/fit_helpers.py:146: RuntimeWarning: invalid value encountered in sqrt\n",
      "  sig         = np.sqrt(hinv.diagonal())\n"
     ]
    },
    {
     "name": "stdout",
     "output_type": "stream",
     "text": [
      "2.1854822653037074 2154.9015005016972\n",
      "Warning: Desired error not necessarily achieved due to precision loss.\n",
      "         Current function value: 22.997831\n",
      "         Iterations: 67\n",
      "         Function evaluations: 115\n",
      "         Gradient evaluations: 106\n",
      "[-0.227 -2.255 -4.833  1.231] 22.99783149004971\n",
      "1.6416375543175263 2133.8935201621093\n",
      "Warning: Desired error not necessarily achieved due to precision loss.\n",
      "         Current function value: 12.091651\n",
      "         Iterations: 74\n",
      "         Function evaluations: 132\n",
      "         Gradient evaluations: 121\n",
      "[ 0.131 -2.02  -4.96   1.157] 12.091650821470784\n",
      "57 trigger_e_tag 0.0 1.0 -0.2624315328121964 0.8548870814588252 2143.135968164542\n"
     ]
    },
    {
     "name": "stderr",
     "output_type": "stream",
     "text": [
      "/home/naodell/opt/anaconda3/lib/python3.7/site-packages/numdifftools/core.py:1020: UserWarning: Can not change order to 2! The only valid order is 1 for method=forward.\n",
      "  warnings.warn(msg.format(order, valid_order, self.method))\n",
      "/home/naodell/work/wbr/analysis/scripts/fit_helpers.py:146: RuntimeWarning: invalid value encountered in sqrt\n",
      "  sig         = np.sqrt(hinv.diagonal())\n"
     ]
    },
    {
     "name": "stdout",
     "output_type": "stream",
     "text": [
      "0.5924555486466287 2097.281186922823\n",
      "Warning: Desired error not necessarily achieved due to precision loss.\n",
      "         Current function value: 13.549993\n",
      "         Iterations: 44\n",
      "         Function evaluations: 126\n",
      "         Gradient evaluations: 118\n",
      "[-0.354 -2.44  -6.902  1.636] 13.54999330370441\n",
      "-1.1173186142710216 2239.1678062449764\n",
      "Warning: Desired error not necessarily achieved due to precision loss.\n",
      "         Current function value: 16.590409\n",
      "         Iterations: 44\n",
      "         Function evaluations: 108\n",
      "         Gradient evaluations: 101\n",
      "[ 0.096 -2.5   -6.851  1.565] 16.59040866910787\n",
      "58 trigger_e_probe 0.0 1.0 1.7032692298853036 0.7226595561711764 2164.5667932956076\n"
     ]
    },
    {
     "name": "stderr",
     "output_type": "stream",
     "text": [
      "/home/naodell/opt/anaconda3/lib/python3.7/site-packages/numdifftools/core.py:1020: UserWarning: Can not change order to 2! The only valid order is 1 for method=forward.\n",
      "  warnings.warn(msg.format(order, valid_order, self.method))\n",
      "/home/naodell/work/wbr/analysis/scripts/fit_helpers.py:146: RuntimeWarning: invalid value encountered in sqrt\n",
      "  sig         = np.sqrt(hinv.diagonal())\n"
     ]
    },
    {
     "name": "stdout",
     "output_type": "stream",
     "text": [
      "2.42592878605648 2062.425024264668\n",
      "Warning: Desired error not necessarily achieved due to precision loss.\n",
      "         Current function value: 18.656461\n",
      "         Iterations: 46\n",
      "         Function evaluations: 103\n",
      "         Gradient evaluations: 97\n",
      "[-0.179 -2.511 -9.071  1.99 ] 18.656460668078953\n",
      "0.9806096737141272 2118.613926535422\n",
      "Warning: Desired error not necessarily achieved due to precision loss.\n",
      "         Current function value: 14.908263\n",
      "         Iterations: 44\n",
      "         Function evaluations: 141\n",
      "         Gradient evaluations: 132\n",
      "[-0.257 -2.59  -7.682  1.778] 14.908263222755151\n",
      "59 eff_iso_mu 0.0 1.0 0.2586901022063937 0.9804537864163222 2088.810424023577\n"
     ]
    },
    {
     "name": "stderr",
     "output_type": "stream",
     "text": [
      "/home/naodell/opt/anaconda3/lib/python3.7/site-packages/numdifftools/core.py:1020: UserWarning: Can not change order to 2! The only valid order is 1 for method=forward.\n",
      "  warnings.warn(msg.format(order, valid_order, self.method))\n",
      "/home/naodell/work/wbr/analysis/scripts/fit_helpers.py:146: RuntimeWarning: invalid value encountered in sqrt\n",
      "  sig         = np.sqrt(hinv.diagonal())\n"
     ]
    },
    {
     "name": "stdout",
     "output_type": "stream",
     "text": [
      "1.239143888622716 2053.2248625077523\n",
      "Warning: Desired error not necessarily achieved due to precision loss.\n",
      "         Current function value: 13.553382\n",
      "         Iterations: 46\n",
      "         Function evaluations: 91\n",
      "         Gradient evaluations: 86\n",
      "[ 0.018 -2.622 -7.452  1.7  ] 13.553382252095926\n",
      "-0.7217636842099284 2110.546636224177\n",
      "Warning: Desired error not necessarily achieved due to precision loss.\n",
      "         Current function value: 12.607111\n",
      "         Iterations: 43\n",
      "         Function evaluations: 118\n",
      "         Gradient evaluations: 110\n",
      "[-0.052 -2.341 -7.105  1.606] 12.607111175349045\n",
      "60 eff_id_mu 0.0 1.0 -0.4405876649195612 0.9630423434009912 2081.200649302774\n"
     ]
    },
    {
     "name": "stderr",
     "output_type": "stream",
     "text": [
      "/home/naodell/opt/anaconda3/lib/python3.7/site-packages/numdifftools/core.py:1020: UserWarning: Can not change order to 2! The only valid order is 1 for method=forward.\n",
      "  warnings.warn(msg.format(order, valid_order, self.method))\n",
      "/home/naodell/work/wbr/analysis/scripts/fit_helpers.py:146: RuntimeWarning: invalid value encountered in sqrt\n",
      "  sig         = np.sqrt(hinv.diagonal())\n"
     ]
    },
    {
     "name": "stdout",
     "output_type": "stream",
     "text": [
      "0.5224546784814299 2068.110923113198\n",
      "Warning: Desired error not necessarily achieved due to precision loss.\n",
      "         Current function value: 12.851213\n",
      "         Iterations: 45\n",
      "         Function evaluations: 109\n",
      "         Gradient evaluations: 100\n",
      "[-0.045 -2.534 -7.206  1.653] 12.851213405666108\n",
      "-1.4036300083205524 2120.128236725568\n",
      "Warning: Desired error not necessarily achieved due to precision loss.\n",
      "         Current function value: 12.446327\n",
      "         Iterations: 48\n",
      "         Function evaluations: 144\n",
      "         Gradient evaluations: 136\n",
      "[ 0.372 -2.114 -6.845  1.456] 12.446327367526344\n",
      "61 eff_mu_0 0.0 1.0 0.4140093367068824 0.9783439419593628 2092.8283045386506\n"
     ]
    },
    {
     "name": "stderr",
     "output_type": "stream",
     "text": [
      "/home/naodell/opt/anaconda3/lib/python3.7/site-packages/numdifftools/core.py:1020: UserWarning: Can not change order to 2! The only valid order is 1 for method=forward.\n",
      "  warnings.warn(msg.format(order, valid_order, self.method))\n",
      "/home/naodell/work/wbr/analysis/scripts/fit_helpers.py:146: RuntimeWarning: invalid value encountered in sqrt\n",
      "  sig         = np.sqrt(hinv.diagonal())\n"
     ]
    },
    {
     "name": "stdout",
     "output_type": "stream",
     "text": [
      "1.3923532786662451 2092.013396095031\n",
      "Warning: Desired error not necessarily achieved due to precision loss.\n",
      "         Current function value: 14.599338\n",
      "         Iterations: 45\n",
      "         Function evaluations: 122\n",
      "         Gradient evaluations: 117\n",
      "[-0.097 -2.449 -8.141  1.808] 14.599338319309659\n",
      "-0.5643346052524805 2093.754159839808\n",
      "Warning: Desired error not necessarily achieved due to precision loss.\n",
      "         Current function value: 13.584953\n",
      "         Iterations: 45\n",
      "         Function evaluations: 130\n",
      "         Gradient evaluations: 122\n",
      "[ 0.262 -2.361 -6.733  1.495] 13.584952864139016\n",
      "62 eff_mu_1 0.0 1.0 -0.04034901973337023 0.9744953257589746 2092.3675602143335\n"
     ]
    },
    {
     "name": "stderr",
     "output_type": "stream",
     "text": [
      "/home/naodell/opt/anaconda3/lib/python3.7/site-packages/numdifftools/core.py:1020: UserWarning: Can not change order to 2! The only valid order is 1 for method=forward.\n",
      "  warnings.warn(msg.format(order, valid_order, self.method))\n",
      "/home/naodell/work/wbr/analysis/scripts/fit_helpers.py:146: RuntimeWarning: invalid value encountered in sqrt\n",
      "  sig         = np.sqrt(hinv.diagonal())\n"
     ]
    },
    {
     "name": "stdout",
     "output_type": "stream",
     "text": [
      "0.9341463060256043 2091.132899109858\n",
      "Warning: Desired error not necessarily achieved due to precision loss.\n",
      "         Current function value: 12.775920\n",
      "         Iterations: 48\n",
      "         Function evaluations: 154\n",
      "         Gradient evaluations: 142\n",
      "[-0.025 -2.343 -7.571  1.681] 12.775919568356162\n",
      "-1.0148443454923448 2094.7782427917564\n",
      "Warning: Desired error not necessarily achieved due to precision loss.\n",
      "         Current function value: 13.699084\n",
      "         Iterations: 45\n",
      "         Function evaluations: 111\n",
      "         Gradient evaluations: 103\n",
      "[-0.095 -2.358 -6.95   1.589] 13.699083617336559\n",
      "63 eff_mu_2 0.0 1.0 0.3304909425631557 0.9795097516727578 2092.4421460601957\n"
     ]
    },
    {
     "name": "stderr",
     "output_type": "stream",
     "text": [
      "/home/naodell/opt/anaconda3/lib/python3.7/site-packages/numdifftools/core.py:1020: UserWarning: Can not change order to 2! The only valid order is 1 for method=forward.\n",
      "  warnings.warn(msg.format(order, valid_order, self.method))\n",
      "/home/naodell/work/wbr/analysis/scripts/fit_helpers.py:146: RuntimeWarning: invalid value encountered in sqrt\n",
      "  sig         = np.sqrt(hinv.diagonal())\n"
     ]
    },
    {
     "name": "stdout",
     "output_type": "stream",
     "text": [
      "1.3100006942359135 2088.832692747318\n",
      "Warning: Desired error not necessarily achieved due to precision loss.\n",
      "         Current function value: 14.062482\n",
      "         Iterations: 46\n",
      "         Function evaluations: 140\n",
      "         Gradient evaluations: 131\n",
      "[-0.042 -2.56  -7.495  1.707] 14.062482494034695\n",
      "-0.6490188091096021 2094.9175778480017\n",
      "Warning: Desired error not necessarily achieved due to precision loss.\n",
      "         Current function value: 15.673735\n",
      "         Iterations: 44\n",
      "         Function evaluations: 188\n",
      "         Gradient evaluations: 178\n",
      "[-0.122 -2.573 -7.549  1.731] 15.673735257176537\n",
      "64 eff_mu_3 0.0 1.0 1.1925932682857443 0.8516471863249533 2091.3565911445958\n"
     ]
    },
    {
     "name": "stderr",
     "output_type": "stream",
     "text": [
      "/home/naodell/opt/anaconda3/lib/python3.7/site-packages/numdifftools/core.py:1020: UserWarning: Can not change order to 2! The only valid order is 1 for method=forward.\n",
      "  warnings.warn(msg.format(order, valid_order, self.method))\n",
      "/home/naodell/work/wbr/analysis/scripts/fit_helpers.py:146: RuntimeWarning: invalid value encountered in sqrt\n",
      "  sig         = np.sqrt(hinv.diagonal())\n"
     ]
    },
    {
     "name": "stdout",
     "output_type": "stream",
     "text": [
      "2.044240454610698 2072.11693357533\n",
      "Warning: Desired error not necessarily achieved due to precision loss.\n",
      "         Current function value: 14.851974\n",
      "         Iterations: 47\n",
      "         Function evaluations: 159\n",
      "         Gradient evaluations: 143\n",
      "[-0.037 -2.504 -7.386  1.678] 14.851973770212739\n",
      "0.340946081960791 2087.6087175252173\n",
      "Warning: Desired error not necessarily achieved due to precision loss.\n",
      "         Current function value: 13.938299\n",
      "         Iterations: 45\n",
      "         Function evaluations: 109\n",
      "         Gradient evaluations: 101\n",
      "[-0.134 -2.54  -7.293  1.684] 13.93829894898768\n",
      "65 eff_mu_4 0.0 1.0 -0.2435868341885769 0.953849812672684 2079.1905003560823\n"
     ]
    },
    {
     "name": "stderr",
     "output_type": "stream",
     "text": [
      "/home/naodell/opt/anaconda3/lib/python3.7/site-packages/numdifftools/core.py:1020: UserWarning: Can not change order to 2! The only valid order is 1 for method=forward.\n",
      "  warnings.warn(msg.format(order, valid_order, self.method))\n",
      "/home/naodell/work/wbr/analysis/scripts/fit_helpers.py:146: RuntimeWarning: invalid value encountered in sqrt\n",
      "  sig         = np.sqrt(hinv.diagonal())\n"
     ]
    },
    {
     "name": "stdout",
     "output_type": "stream",
     "text": [
      "0.710262978484107 2075.352484984812\n",
      "Warning: Desired error not necessarily achieved due to precision loss.\n",
      "         Current function value: 13.215345\n",
      "         Iterations: 43\n",
      "         Function evaluations: 114\n",
      "         Gradient evaluations: 106\n",
      "[-0.21  -2.466 -7.411  1.704] 13.215345110318347\n",
      "-1.197436646861261 2087.0121516679906\n",
      "Warning: Desired error not necessarily achieved due to precision loss.\n",
      "         Current function value: 15.284195\n",
      "         Iterations: 44\n",
      "         Function evaluations: 138\n",
      "         Gradient evaluations: 130\n",
      "[-2.220e-03 -2.458e+00 -7.906e+00  1.754e+00] 15.284195113044888\n",
      "66 eff_mu_5 0.0 1.0 0.012877943651314592 0.9979720187782763 2080.644155337754\n"
     ]
    },
    {
     "name": "stderr",
     "output_type": "stream",
     "text": [
      "/home/naodell/opt/anaconda3/lib/python3.7/site-packages/numdifftools/core.py:1020: UserWarning: Can not change order to 2! The only valid order is 1 for method=forward.\n",
      "  warnings.warn(msg.format(order, valid_order, self.method))\n",
      "/home/naodell/work/wbr/analysis/scripts/fit_helpers.py:146: RuntimeWarning: invalid value encountered in sqrt\n",
      "  sig         = np.sqrt(hinv.diagonal())\n"
     ]
    },
    {
     "name": "stdout",
     "output_type": "stream",
     "text": [
      "1.010849962429591 2080.2138179105073\n",
      "Warning: Desired error not necessarily achieved due to precision loss.\n",
      "         Current function value: 13.605539\n",
      "         Iterations: 45\n",
      "         Function evaluations: 121\n",
      "         Gradient evaluations: 113\n",
      "[ 0.182 -2.341 -6.551  1.474] 13.605539320069095\n",
      "-0.9850940751269618 2082.052196498602\n",
      "Warning: Desired error not necessarily achieved due to precision loss.\n",
      "         Current function value: 14.669268\n",
      "         Iterations: 45\n",
      "         Function evaluations: 125\n",
      "         Gradient evaluations: 115\n",
      "[-0.19  -2.545 -7.937  1.803] 14.669267658691659\n",
      "67 eff_mu_6 0.0 1.0 0.20176840467286924 0.9887843924292516 2080.632210629848\n"
     ]
    },
    {
     "name": "stderr",
     "output_type": "stream",
     "text": [
      "/home/naodell/opt/anaconda3/lib/python3.7/site-packages/numdifftools/core.py:1020: UserWarning: Can not change order to 2! The only valid order is 1 for method=forward.\n",
      "  warnings.warn(msg.format(order, valid_order, self.method))\n",
      "/home/naodell/work/wbr/analysis/scripts/fit_helpers.py:146: RuntimeWarning: invalid value encountered in sqrt\n",
      "  sig         = np.sqrt(hinv.diagonal())\n"
     ]
    },
    {
     "name": "stdout",
     "output_type": "stream",
     "text": [
      "1.1905527971021208 2079.0354263863123\n",
      "Warning: Desired error not necessarily achieved due to precision loss.\n",
      "         Current function value: 13.543757\n",
      "         Iterations: 46\n",
      "         Function evaluations: 148\n",
      "         Gradient evaluations: 140\n",
      "[ 0.025 -2.411 -6.993  1.586] 13.543756536117133\n",
      "-0.7870159877563824 2082.4919650353745\n",
      "Warning: Desired error not necessarily achieved due to precision loss.\n",
      "         Current function value: 14.920721\n",
      "         Iterations: 44\n",
      "         Function evaluations: 93\n",
      "         Gradient evaluations: 83\n",
      "[-0.233 -2.502 -8.088  1.829] 14.920721267284925\n",
      "68 eff_mu_7 0.0 1.0 -0.6003248854221694 0.9773504768051906 2080.258511756584\n"
     ]
    },
    {
     "name": "stderr",
     "output_type": "stream",
     "text": [
      "/home/naodell/opt/anaconda3/lib/python3.7/site-packages/numdifftools/core.py:1020: UserWarning: Can not change order to 2! The only valid order is 1 for method=forward.\n",
      "  warnings.warn(msg.format(order, valid_order, self.method))\n",
      "/home/naodell/work/wbr/analysis/scripts/fit_helpers.py:146: RuntimeWarning: invalid value encountered in sqrt\n",
      "  sig         = np.sqrt(hinv.diagonal())\n"
     ]
    },
    {
     "name": "stdout",
     "output_type": "stream",
     "text": [
      "0.37702559138302116 2079.2643641042773\n",
      "Warning: Desired error not necessarily achieved due to precision loss.\n",
      "         Current function value: 12.322459\n",
      "         Iterations: 45\n",
      "         Function evaluations: 141\n",
      "         Gradient evaluations: 133\n",
      "[ 0.162 -2.423 -6.871  1.545] 12.322459372238411\n",
      "-1.57767536222736 2086.0887844725275\n",
      "Warning: Desired error not necessarily achieved due to precision loss.\n",
      "         Current function value: 15.323878\n",
      "         Iterations: 45\n",
      "         Function evaluations: 120\n",
      "         Gradient evaluations: 112\n",
      "[-0.095 -2.497 -7.922  1.778] 15.323878145098076\n",
      "69 escale_mu 0.0 1.0 -0.3973485311479077 0.5522880275890624 2082.15921312729\n"
     ]
    },
    {
     "name": "stderr",
     "output_type": "stream",
     "text": [
      "/home/naodell/opt/anaconda3/lib/python3.7/site-packages/numdifftools/core.py:1020: UserWarning: Can not change order to 2! The only valid order is 1 for method=forward.\n",
      "  warnings.warn(msg.format(order, valid_order, self.method))\n",
      "/home/naodell/work/wbr/analysis/scripts/fit_helpers.py:146: RuntimeWarning: invalid value encountered in sqrt\n",
      "  sig         = np.sqrt(hinv.diagonal())\n"
     ]
    },
    {
     "name": "stdout",
     "output_type": "stream",
     "text": [
      "0.15493949644115468 2077.7443620850463\n",
      "Warning: Desired error not necessarily achieved due to precision loss.\n",
      "         Current function value: 12.915676\n",
      "         Iterations: 44\n",
      "         Function evaluations: 107\n",
      "         Gradient evaluations: 96\n",
      "[ 0.088 -2.374 -7.235  1.611] 12.91567560229086\n",
      "-0.9496365587369701 2111.2071013044715\n",
      "Warning: Desired error not necessarily achieved due to precision loss.\n",
      "         Current function value: 20.940657\n",
      "         Iterations: 43\n",
      "         Function evaluations: 134\n",
      "         Gradient evaluations: 122\n",
      "[-0.035 -2.295 -7.276  1.625] 20.940656589438987\n",
      "70 pileup 0.0 1.0 -0.3976716199949757 0.5287546705234825 2093.952989180991\n"
     ]
    },
    {
     "name": "stderr",
     "output_type": "stream",
     "text": [
      "/home/naodell/opt/anaconda3/lib/python3.7/site-packages/numdifftools/core.py:1020: UserWarning: Can not change order to 2! The only valid order is 1 for method=forward.\n",
      "  warnings.warn(msg.format(order, valid_order, self.method))\n",
      "/home/naodell/work/wbr/analysis/scripts/fit_helpers.py:146: RuntimeWarning: invalid value encountered in sqrt\n",
      "  sig         = np.sqrt(hinv.diagonal())\n"
     ]
    },
    {
     "name": "stdout",
     "output_type": "stream",
     "text": [
      "0.13108305052850677 2140.0596664409445\n",
      "Warning: Desired error not necessarily achieved due to precision loss.\n",
      "         Current function value: 12.324622\n",
      "         Iterations: 47\n",
      "         Function evaluations: 156\n",
      "         Gradient evaluations: 147\n",
      "[ 0.207 -2.312 -6.838  1.514] 12.324621912855172\n",
      "-0.9264262905184582 1809.2361440437262\n",
      "Warning: Desired error not necessarily achieved due to precision loss.\n",
      "         Current function value: 12.534267\n",
      "         Iterations: 44\n",
      "         Function evaluations: 159\n",
      "         Gradient evaluations: 148\n",
      "[-0.338 -2.428 -7.126  1.669] 12.534267385117115\n",
      "71 isr 0.0 1.0 0.3682328027529052 0.2300983021906072 1962.9572890610614\n"
     ]
    },
    {
     "name": "stderr",
     "output_type": "stream",
     "text": [
      "/home/naodell/opt/anaconda3/lib/python3.7/site-packages/numdifftools/core.py:1020: UserWarning: Can not change order to 2! The only valid order is 1 for method=forward.\n",
      "  warnings.warn(msg.format(order, valid_order, self.method))\n",
      "/home/naodell/work/wbr/analysis/scripts/fit_helpers.py:146: RuntimeWarning: invalid value encountered in sqrt\n",
      "  sig         = np.sqrt(hinv.diagonal())\n"
     ]
    },
    {
     "name": "stdout",
     "output_type": "stream",
     "text": [
      "0.5983311049435124 1782.7838889924742\n",
      "Warning: Desired error not necessarily achieved due to precision loss.\n",
      "         Current function value: 16.501569\n",
      "         Iterations: 46\n",
      "         Function evaluations: 108\n",
      "         Gradient evaluations: 98\n",
      "[ 0.371 -1.821 -6.373  1.328] 16.501569245829554\n",
      "0.138134500562298 1921.6569989841353\n",
      "Warning: Desired error not necessarily achieved due to precision loss.\n",
      "         Current function value: 13.279067\n",
      "         Iterations: 47\n",
      "         Function evaluations: 131\n",
      "         Gradient evaluations: 123\n",
      "[ 0.072 -2.383 -6.666  1.518] 13.27906706571179\n",
      "72 fsr 0.0 1.0 0.21822146972673376 0.10933671391275956 1852.2817855805067\n"
     ]
    },
    {
     "name": "stderr",
     "output_type": "stream",
     "text": [
      "/home/naodell/opt/anaconda3/lib/python3.7/site-packages/numdifftools/core.py:1020: UserWarning: Can not change order to 2! The only valid order is 1 for method=forward.\n",
      "  warnings.warn(msg.format(order, valid_order, self.method))\n",
      "/home/naodell/work/wbr/analysis/scripts/fit_helpers.py:146: RuntimeWarning: invalid value encountered in sqrt\n",
      "  sig         = np.sqrt(hinv.diagonal())\n"
     ]
    },
    {
     "name": "stdout",
     "output_type": "stream",
     "text": [
      "0.3275581836394933 3714.539782955145\n",
      "Warning: Desired error not necessarily achieved due to precision loss.\n",
      "         Current function value: 14.520896\n",
      "         Iterations: 47\n",
      "         Function evaluations: 134\n",
      "         Gradient evaluations: 124\n",
      "[ 0.354 -2.153 -7.288  1.541] 14.520895802895803\n",
      "0.1088847558139742 2341.8707080605873\n",
      "Warning: Desired error not necessarily achieved due to precision loss.\n",
      "         Current function value: 2.005681\n",
      "         Iterations: 47\n",
      "         Function evaluations: 206\n",
      "         Gradient evaluations: 196\n",
      "[ 0.98  -1.464 -5.613  1.042] 2.0056811489764326\n",
      "73 hdamp 0.0 1.0 -0.10085927430637907 0.13153682993399315 2958.016198968294\n"
     ]
    },
    {
     "name": "stderr",
     "output_type": "stream",
     "text": [
      "/home/naodell/opt/anaconda3/lib/python3.7/site-packages/numdifftools/core.py:1020: UserWarning: Can not change order to 2! The only valid order is 1 for method=forward.\n",
      "  warnings.warn(msg.format(order, valid_order, self.method))\n",
      "/home/naodell/work/wbr/analysis/scripts/fit_helpers.py:146: RuntimeWarning: invalid value encountered in sqrt\n",
      "  sig         = np.sqrt(hinv.diagonal())\n"
     ]
    },
    {
     "name": "stdout",
     "output_type": "stream",
     "text": [
      "0.03067755562761408 2925.382056924096\n",
      "Warning: Desired error not necessarily achieved due to precision loss.\n",
      "         Current function value: 10.918174\n",
      "         Iterations: 47\n",
      "         Function evaluations: 152\n",
      "         Gradient evaluations: 141\n",
      "[ 0.085 -2.419 -7.142  1.603] 10.918173944980186\n",
      "-0.23239610424037221 3239.5783082788603\n",
      "Warning: Desired error not necessarily achieved due to precision loss.\n",
      "         Current function value: 19.456253\n",
      "         Iterations: 45\n",
      "         Function evaluations: 131\n",
      "         Gradient evaluations: 123\n",
      "[-0.35  -2.648 -8.22   1.894] 19.456252535681042\n",
      "74 tune 0.0 1.0 -0.07441802808170768 0.13807352100477935 3072.4709017674404\n"
     ]
    },
    {
     "name": "stderr",
     "output_type": "stream",
     "text": [
      "/home/naodell/opt/anaconda3/lib/python3.7/site-packages/numdifftools/core.py:1020: UserWarning: Can not change order to 2! The only valid order is 1 for method=forward.\n",
      "  warnings.warn(msg.format(order, valid_order, self.method))\n",
      "/home/naodell/work/wbr/analysis/scripts/fit_helpers.py:146: RuntimeWarning: invalid value encountered in sqrt\n",
      "  sig         = np.sqrt(hinv.diagonal())\n"
     ]
    },
    {
     "name": "stdout",
     "output_type": "stream",
     "text": [
      "0.06365549292307167 3077.2248969639636\n",
      "Warning: Desired error not necessarily achieved due to precision loss.\n",
      "         Current function value: 13.096197\n",
      "         Iterations: 45\n",
      "         Function evaluations: 123\n",
      "         Gradient evaluations: 115\n",
      "[ 0.121 -2.272 -7.472  1.63 ] 13.096197474043546\n",
      "-0.21249154908648704 3054.053214201082\n",
      "Warning: Desired error not necessarily achieved due to precision loss.\n",
      "         Current function value: 11.460597\n",
      "         Iterations: 44\n",
      "         Function evaluations: 189\n",
      "         Gradient evaluations: 179\n",
      "[ 0.066 -2.207 -7.604  1.65 ] 11.460596567513313\n",
      "75 ww_scale 0.0 1.0 0.7627416230345252 0.6554374784834658 3066.434894694466\n"
     ]
    },
    {
     "name": "stderr",
     "output_type": "stream",
     "text": [
      "/home/naodell/opt/anaconda3/lib/python3.7/site-packages/numdifftools/core.py:1020: UserWarning: Can not change order to 2! The only valid order is 1 for method=forward.\n",
      "  warnings.warn(msg.format(order, valid_order, self.method))\n",
      "/home/naodell/work/wbr/analysis/scripts/fit_helpers.py:146: RuntimeWarning: invalid value encountered in sqrt\n",
      "  sig         = np.sqrt(hinv.diagonal())\n"
     ]
    },
    {
     "name": "stdout",
     "output_type": "stream",
     "text": [
      "1.418179101517991 3085.422507922647\n",
      "Warning: Desired error not necessarily achieved due to precision loss.\n",
      "         Current function value: 15.732201\n",
      "         Iterations: 46\n",
      "         Function evaluations: 105\n",
      "         Gradient evaluations: 97\n",
      "[ 0.057 -2.396 -7.822  1.72 ] 15.73220084975791\n",
      "0.10730414455105941 3067.8850661101246\n",
      "Warning: Desired error not necessarily achieved due to precision loss.\n",
      "         Current function value: 14.142330\n",
      "         Iterations: 45\n",
      "         Function evaluations: 128\n",
      "         Gradient evaluations: 123\n",
      "[-0.031 -2.568 -7.736  1.747] 14.142329883344654\n",
      "76 ww_resum 0.0 1.0 -0.008943445770023388 0.8649890676344661 3076.6676466253557\n"
     ]
    },
    {
     "name": "stderr",
     "output_type": "stream",
     "text": [
      "/home/naodell/opt/anaconda3/lib/python3.7/site-packages/numdifftools/core.py:1020: UserWarning: Can not change order to 2! The only valid order is 1 for method=forward.\n",
      "  warnings.warn(msg.format(order, valid_order, self.method))\n",
      "/home/naodell/work/wbr/analysis/scripts/fit_helpers.py:146: RuntimeWarning: invalid value encountered in sqrt\n",
      "  sig         = np.sqrt(hinv.diagonal())\n"
     ]
    },
    {
     "name": "stdout",
     "output_type": "stream",
     "text": [
      "0.8560456218644428 3074.892755439696\n",
      "Warning: Desired error not necessarily achieved due to precision loss.\n",
      "         Current function value: 13.172347\n",
      "         Iterations: 47\n",
      "         Function evaluations: 145\n",
      "         Gradient evaluations: 140\n",
      "[ 0.065 -2.304 -7.053  1.572] 13.172346624619433\n",
      "-0.8739325134044895 3076.757869672032\n",
      "Warning: Desired error not necessarily achieved due to precision loss.\n",
      "         Current function value: 13.612955\n",
      "         Iterations: 46\n",
      "         Function evaluations: 137\n",
      "         Gradient evaluations: 128\n",
      "[-0.017 -2.467 -7.445  1.679] 13.61295501247674\n",
      "78 top_pt 0.0 1.0 1.6261602629685157 0.06928202052935897 3076.6772643047643\n"
     ]
    },
    {
     "name": "stderr",
     "output_type": "stream",
     "text": [
      "/home/naodell/opt/anaconda3/lib/python3.7/site-packages/numdifftools/core.py:1020: UserWarning: Can not change order to 2! The only valid order is 1 for method=forward.\n",
      "  warnings.warn(msg.format(order, valid_order, self.method))\n",
      "/home/naodell/work/wbr/analysis/scripts/fit_helpers.py:146: RuntimeWarning: invalid value encountered in sqrt\n",
      "  sig         = np.sqrt(hinv.diagonal())\n"
     ]
    },
    {
     "name": "stdout",
     "output_type": "stream",
     "text": [
      "1.6954422834978746 3599.7175925487145\n",
      "Warning: Desired error not necessarily achieved due to precision loss.\n",
      "         Current function value: 163.223504\n",
      "         Iterations: 72\n",
      "         Function evaluations: 127\n",
      "         Gradient evaluations: 117\n",
      "[ 2.309  0.557 -0.688 -0.343] 163.2235042141098\n",
      "1.5568782424391567 3469.6315381000427\n",
      "Warning: Desired error not necessarily achieved due to precision loss.\n",
      "         Current function value: 134.517212\n",
      "         Iterations: 70\n",
      "         Function evaluations: 138\n",
      "         Gradient evaluations: 127\n",
      "[ 2.322  0.427 -0.938 -0.281] 134.51721227603673\n",
      "79 btag_bfragmentation 0.0 1.0 0.1772018816939685 0.8526345950117966 3532.441093083302\n"
     ]
    },
    {
     "name": "stderr",
     "output_type": "stream",
     "text": [
      "/home/naodell/opt/anaconda3/lib/python3.7/site-packages/numdifftools/core.py:1020: UserWarning: Can not change order to 2! The only valid order is 1 for method=forward.\n",
      "  warnings.warn(msg.format(order, valid_order, self.method))\n",
      "/home/naodell/work/wbr/analysis/scripts/fit_helpers.py:146: RuntimeWarning: invalid value encountered in sqrt\n",
      "  sig         = np.sqrt(hinv.diagonal())\n"
     ]
    },
    {
     "name": "stdout",
     "output_type": "stream",
     "text": [
      "1.029836476705765 3356.602197099096\n",
      "Warning: Desired error not necessarily achieved due to precision loss.\n",
      "         Current function value: 15.731881\n",
      "         Iterations: 46\n",
      "         Function evaluations: 125\n",
      "         Gradient evaluations: 117\n",
      "[-0.081 -2.582 -7.153  1.658] 15.731881405813025\n",
      "-0.6754327133178282 3659.36075179447\n",
      "Warning: Desired error not necessarily achieved due to precision loss.\n",
      "         Current function value: 18.132745\n",
      "         Iterations: 47\n",
      "         Function evaluations: 132\n",
      "         Gradient evaluations: 122\n",
      "[-0.214 -2.648 -7.456  1.742] 18.132745284293815\n",
      "80 btag_btempcorr 0.0 1.0 0.2290815443681691 0.9668188221933156 3500.6872627303487\n"
     ]
    },
    {
     "name": "stderr",
     "output_type": "stream",
     "text": [
      "/home/naodell/opt/anaconda3/lib/python3.7/site-packages/numdifftools/core.py:1020: UserWarning: Can not change order to 2! The only valid order is 1 for method=forward.\n",
      "  warnings.warn(msg.format(order, valid_order, self.method))\n",
      "/home/naodell/work/wbr/analysis/scripts/fit_helpers.py:146: RuntimeWarning: invalid value encountered in sqrt\n",
      "  sig         = np.sqrt(hinv.diagonal())\n"
     ]
    },
    {
     "name": "stdout",
     "output_type": "stream",
     "text": [
      "1.1959003665614847 3317.958083471868\n",
      "Warning: Desired error not necessarily achieved due to precision loss.\n",
      "         Current function value: 15.833323\n",
      "         Iterations: 47\n",
      "         Function evaluations: 132\n",
      "         Gradient evaluations: 121\n",
      "[-0.159 -2.519 -7.397  1.702] 15.833322768538908\n",
      "-0.7377372778251465 3622.673981497857\n",
      "Warning: Desired error not necessarily achieved due to precision loss.\n",
      "         Current function value: 17.801270\n",
      "         Iterations: 48\n",
      "         Function evaluations: 122\n",
      "         Gradient evaluations: 112\n",
      "[-0.185 -2.502 -7.236  1.676] 17.80127025285842\n",
      "81 btag_cb 0.0 1.0 0.09845501598433797 0.8746187418249434 3464.242137076309\n"
     ]
    },
    {
     "name": "stderr",
     "output_type": "stream",
     "text": [
      "/home/naodell/opt/anaconda3/lib/python3.7/site-packages/numdifftools/core.py:1020: UserWarning: Can not change order to 2! The only valid order is 1 for method=forward.\n",
      "  warnings.warn(msg.format(order, valid_order, self.method))\n",
      "/home/naodell/work/wbr/analysis/scripts/fit_helpers.py:146: RuntimeWarning: invalid value encountered in sqrt\n",
      "  sig         = np.sqrt(hinv.diagonal())\n"
     ]
    },
    {
     "name": "stdout",
     "output_type": "stream",
     "text": [
      "0.9730737578092813 3364.3328739386798\n",
      "Warning: Desired error not necessarily achieved due to precision loss.\n",
      "         Current function value: 19.421326\n",
      "         Iterations: 46\n",
      "         Function evaluations: 140\n",
      "         Gradient evaluations: 129\n",
      "[-0.284 -2.772 -7.546  1.789] 19.421326073292096\n",
      "-0.7761637258406054 3547.6908294550058\n",
      "Warning: Desired error not necessarily achieved due to precision loss.\n",
      "         Current function value: 8.788213\n",
      "         Iterations: 46\n",
      "         Function evaluations: 96\n",
      "         Gradient evaluations: 90\n",
      "[ 0.245 -2.202 -7.184  1.549] 8.788213206209063\n",
      "82 btag_cfragmentation 0.0 1.0 0.00791453795413839 0.999960929546908 3453.8936892452966\n"
     ]
    },
    {
     "name": "stderr",
     "output_type": "stream",
     "text": [
      "/home/naodell/opt/anaconda3/lib/python3.7/site-packages/numdifftools/core.py:1020: UserWarning: Can not change order to 2! The only valid order is 1 for method=forward.\n",
      "  warnings.warn(msg.format(order, valid_order, self.method))\n",
      "/home/naodell/work/wbr/analysis/scripts/fit_helpers.py:146: RuntimeWarning: invalid value encountered in sqrt\n",
      "  sig         = np.sqrt(hinv.diagonal())\n"
     ]
    },
    {
     "name": "stdout",
     "output_type": "stream",
     "text": [
      "1.0078754675010464 3453.3521447372095\n",
      "Warning: Desired error not necessarily achieved due to precision loss.\n",
      "         Current function value: 13.699549\n",
      "         Iterations: 46\n",
      "         Function evaluations: 106\n",
      "         Gradient evaluations: 100\n",
      "[-0.048 -2.443 -7.592  1.705] 13.699548956774775\n",
      "-0.9920463915927695 3455.4038923545695\n",
      "Warning: Desired error not necessarily achieved due to precision loss.\n",
      "         Current function value: 15.301554\n",
      "         Iterations: 45\n",
      "         Function evaluations: 142\n",
      "         Gradient evaluations: 134\n",
      "[-0.242 -2.518 -7.663  1.761] 15.301554443838716\n",
      "83 btag_dmux 0.0 1.0 0.09514337502029596 0.9213403591297168 3453.88553847165\n"
     ]
    },
    {
     "name": "stderr",
     "output_type": "stream",
     "text": [
      "/home/naodell/opt/anaconda3/lib/python3.7/site-packages/numdifftools/core.py:1020: UserWarning: Can not change order to 2! The only valid order is 1 for method=forward.\n",
      "  warnings.warn(msg.format(order, valid_order, self.method))\n",
      "/home/naodell/work/wbr/analysis/scripts/fit_helpers.py:146: RuntimeWarning: invalid value encountered in sqrt\n",
      "  sig         = np.sqrt(hinv.diagonal())\n"
     ]
    },
    {
     "name": "stdout",
     "output_type": "stream",
     "text": [
      "1.0164837341500128 3397.284277162224\n",
      "Warning: Desired error not necessarily achieved due to precision loss.\n",
      "         Current function value: 13.789888\n",
      "         Iterations: 47\n",
      "         Function evaluations: 124\n",
      "         Gradient evaluations: 116\n",
      "[ 0.015 -2.511 -7.027  1.609] 13.7898877770639\n",
      "-0.8261969841094208 3501.149038709831\n",
      "Warning: Desired error not necessarily achieved due to precision loss.\n",
      "         Current function value: 14.001858\n",
      "         Iterations: 46\n",
      "         Function evaluations: 141\n",
      "         Gradient evaluations: 133\n",
      "[ 0.085 -2.482 -6.948  1.58 ] 14.001857928473799\n",
      "84 btag_gluonsplitting 0.0 1.0 0.3151887851445866 0.8831978974939075 3448.5145636159027\n"
     ]
    },
    {
     "name": "stderr",
     "output_type": "stream",
     "text": [
      "/home/naodell/opt/anaconda3/lib/python3.7/site-packages/numdifftools/core.py:1020: UserWarning: Can not change order to 2! The only valid order is 1 for method=forward.\n",
      "  warnings.warn(msg.format(order, valid_order, self.method))\n",
      "/home/naodell/work/wbr/analysis/scripts/fit_helpers.py:146: RuntimeWarning: invalid value encountered in sqrt\n",
      "  sig         = np.sqrt(hinv.diagonal())\n"
     ]
    },
    {
     "name": "stdout",
     "output_type": "stream",
     "text": [
      "1.1983866826384941 3091.001273019236\n",
      "Warning: Desired error not necessarily achieved due to precision loss.\n",
      "         Current function value: 13.652646\n",
      "         Iterations: 44\n",
      "         Function evaluations: 128\n",
      "         Gradient evaluations: 121\n",
      "[ 0.093 -2.402 -7.594  1.676] 13.652645840257534\n",
      "-0.5680091123493209 3646.5458392620935\n",
      "Warning: Desired error not necessarily achieved due to precision loss.\n",
      "         Current function value: 9.602524\n",
      "         Iterations: 46\n",
      "         Function evaluations: 187\n",
      "         Gradient evaluations: 173\n",
      "[ 0.424 -2.164 -6.868  1.46 ] 9.60252408686108\n",
      "85 btag_jes 0.0 1.0 0.20678823673912866 0.9322690732170706 3346.6431752463727\n"
     ]
    },
    {
     "name": "stderr",
     "output_type": "stream",
     "text": [
      "/home/naodell/opt/anaconda3/lib/python3.7/site-packages/numdifftools/core.py:1020: UserWarning: Can not change order to 2! The only valid order is 1 for method=forward.\n",
      "  warnings.warn(msg.format(order, valid_order, self.method))\n",
      "/home/naodell/work/wbr/analysis/scripts/fit_helpers.py:146: RuntimeWarning: invalid value encountered in sqrt\n",
      "  sig         = np.sqrt(hinv.diagonal())\n"
     ]
    },
    {
     "name": "stdout",
     "output_type": "stream",
     "text": [
      "1.1390573099561994 3193.172639113083\n",
      "Warning: Desired error not necessarily achieved due to precision loss.\n",
      "         Current function value: 16.412884\n",
      "         Iterations: 46\n",
      "         Function evaluations: 141\n",
      "         Gradient evaluations: 133\n",
      "[-0.053 -2.548 -7.151  1.648] 16.412884063346947\n",
      "-0.7254808364779419 3453.6453876815094\n",
      "Warning: Desired error not necessarily achieved due to precision loss.\n",
      "         Current function value: 18.063775\n",
      "         Iterations: 48\n",
      "         Function evaluations: 145\n",
      "         Gradient evaluations: 138\n",
      "[-0.187 -2.51  -7.302  1.689] 18.063774563285754\n",
      "86 btag_jetaway 0.0 1.0 0.4773996263781206 0.9380099960069616 3317.4694214942883\n"
     ]
    },
    {
     "name": "stderr",
     "output_type": "stream",
     "text": [
      "/home/naodell/opt/anaconda3/lib/python3.7/site-packages/numdifftools/core.py:1020: UserWarning: Can not change order to 2! The only valid order is 1 for method=forward.\n",
      "  warnings.warn(msg.format(order, valid_order, self.method))\n",
      "/home/naodell/work/wbr/analysis/scripts/fit_helpers.py:146: RuntimeWarning: invalid value encountered in sqrt\n",
      "  sig         = np.sqrt(hinv.diagonal())\n"
     ]
    },
    {
     "name": "stdout",
     "output_type": "stream",
     "text": [
      "1.415409622385082 2950.07181481632\n",
      "Warning: Desired error not necessarily achieved due to precision loss.\n",
      "         Current function value: 13.285009\n",
      "         Iterations: 46\n",
      "         Function evaluations: 140\n",
      "         Gradient evaluations: 134\n",
      "[ 0.199 -2.339 -7.387  1.613] 13.285009356971058\n",
      "-0.46061036962884094 3458.885919194975\n",
      "Warning: Desired error not necessarily achieved due to precision loss.\n",
      "         Current function value: 10.038133\n",
      "         Iterations: 45\n",
      "         Function evaluations: 121\n",
      "         Gradient evaluations: 114\n",
      "[ 0.57  -2.167 -6.494  1.374] 10.038133445876161\n",
      "87 btag_ksl 0.0 1.0 0.02726542508150943 1.0068052384484694 3182.401407906342\n"
     ]
    },
    {
     "name": "stderr",
     "output_type": "stream",
     "text": [
      "/home/naodell/opt/anaconda3/lib/python3.7/site-packages/numdifftools/core.py:1020: UserWarning: Can not change order to 2! The only valid order is 1 for method=forward.\n",
      "  warnings.warn(msg.format(order, valid_order, self.method))\n",
      "/home/naodell/work/wbr/analysis/scripts/fit_helpers.py:146: RuntimeWarning: invalid value encountered in sqrt\n",
      "  sig         = np.sqrt(hinv.diagonal())\n"
     ]
    },
    {
     "name": "stdout",
     "output_type": "stream",
     "text": [
      "1.0340706635299788 3180.851882803848\n",
      "Warning: Desired error not necessarily achieved due to precision loss.\n",
      "         Current function value: 13.842083\n",
      "         Iterations: 46\n",
      "         Function evaluations: 113\n",
      "         Gradient evaluations: 101\n",
      "[-0.012 -2.468 -7.596  1.704] 13.842082960880148\n",
      "-0.9795398133669599 3184.9334551085863\n",
      "Warning: Desired error not necessarily achieved due to precision loss.\n",
      "         Current function value: 12.970742\n",
      "         Iterations: 48\n",
      "         Function evaluations: 181\n",
      "         Gradient evaluations: 166\n",
      "[-0.05  -2.39  -7.173  1.625] 12.970741655454795\n",
      "88 btag_l2c 0.0 1.0 0.10756626765114473 0.8912756667677256 3182.3457367692245\n"
     ]
    },
    {
     "name": "stderr",
     "output_type": "stream",
     "text": [
      "/home/naodell/opt/anaconda3/lib/python3.7/site-packages/numdifftools/core.py:1020: UserWarning: Can not change order to 2! The only valid order is 1 for method=forward.\n",
      "  warnings.warn(msg.format(order, valid_order, self.method))\n",
      "/home/naodell/work/wbr/analysis/scripts/fit_helpers.py:146: RuntimeWarning: invalid value encountered in sqrt\n",
      "  sig         = np.sqrt(hinv.diagonal())\n"
     ]
    },
    {
     "name": "stdout",
     "output_type": "stream",
     "text": [
      "0.9988419344188704 3121.8931628391306\n",
      "Warning: Desired error not necessarily achieved due to precision loss.\n",
      "         Current function value: 18.608914\n",
      "         Iterations: 48\n",
      "         Function evaluations: 185\n",
      "         Gradient evaluations: 174\n",
      "[-0.494 -2.751 -7.819  1.866] 18.60891390229618\n",
      "-0.7837093991165809 3232.0809851065737\n",
      "Warning: Desired error not necessarily achieved due to precision loss.\n",
      "         Current function value: 14.960028\n",
      "         Iterations: 47\n",
      "         Function evaluations: 198\n",
      "         Gradient evaluations: 184\n",
      "[-0.195 -2.454 -7.535  1.721] 14.960027910994246\n",
      "89 btag_ltothers 0.0 1.0 0.5224626226163588 0.6776895167466432 3175.677427538123\n"
     ]
    },
    {
     "name": "stderr",
     "output_type": "stream",
     "text": [
      "/home/naodell/opt/anaconda3/lib/python3.7/site-packages/numdifftools/core.py:1020: UserWarning: Can not change order to 2! The only valid order is 1 for method=forward.\n",
      "  warnings.warn(msg.format(order, valid_order, self.method))\n",
      "/home/naodell/work/wbr/analysis/scripts/fit_helpers.py:146: RuntimeWarning: invalid value encountered in sqrt\n",
      "  sig         = np.sqrt(hinv.diagonal())\n"
     ]
    },
    {
     "name": "stdout",
     "output_type": "stream",
     "text": [
      "1.2001521393630021 2694.7562483158163\n",
      "Warning: Desired error not necessarily achieved due to precision loss.\n",
      "         Current function value: 9.878982\n",
      "         Iterations: 45\n",
      "         Function evaluations: 119\n",
      "         Gradient evaluations: 109\n",
      "[ 0.129 -2.261 -7.216  1.583] 9.878982458681335\n",
      "-0.15522689413028445 3255.7200475583204\n",
      "Warning: Desired error not necessarily achieved due to precision loss.\n",
      "         Current function value: 11.513633\n",
      "         Iterations: 46\n",
      "         Function evaluations: 136\n",
      "         Gradient evaluations: 130\n",
      "[-3.931e-03 -2.308e+00 -7.149e+00  1.600e+00] 11.513633375296395\n",
      "90 btag_mudr 0.0 1.0 0.15640213745879689 1.0164336108385308 2937.275612014971\n"
     ]
    },
    {
     "name": "stderr",
     "output_type": "stream",
     "text": [
      "/home/naodell/opt/anaconda3/lib/python3.7/site-packages/numdifftools/core.py:1020: UserWarning: Can not change order to 2! The only valid order is 1 for method=forward.\n",
      "  warnings.warn(msg.format(order, valid_order, self.method))\n",
      "/home/naodell/work/wbr/analysis/scripts/fit_helpers.py:146: RuntimeWarning: invalid value encountered in sqrt\n",
      "  sig         = np.sqrt(hinv.diagonal())\n"
     ]
    },
    {
     "name": "stdout",
     "output_type": "stream",
     "text": [
      "1.1728357482973277 2868.0688168006645\n",
      "Warning: Desired error not necessarily achieved due to precision loss.\n",
      "         Current function value: 19.964294\n",
      "         Iterations: 46\n",
      "         Function evaluations: 120\n",
      "         Gradient evaluations: 112\n",
      "[-0.505 -2.702 -7.77   1.851] 19.96429409056375\n",
      "-0.8600314733797338 2991.391160728136\n",
      "Warning: Desired error not necessarily achieved due to precision loss.\n",
      "         Current function value: 5.523188\n",
      "         Iterations: 48\n",
      "         Function evaluations: 126\n",
      "         Gradient evaluations: 120\n",
      "[ 0.474 -1.96  -7.051  1.45 ] 5.523187632955282\n",
      "91 btag_mupt 0.0 1.0 0.17855689428134078 0.9330482715045324 2927.738278933132\n"
     ]
    },
    {
     "name": "stderr",
     "output_type": "stream",
     "text": [
      "/home/naodell/opt/anaconda3/lib/python3.7/site-packages/numdifftools/core.py:1020: UserWarning: Can not change order to 2! The only valid order is 1 for method=forward.\n",
      "  warnings.warn(msg.format(order, valid_order, self.method))\n",
      "/home/naodell/work/wbr/analysis/scripts/fit_helpers.py:146: RuntimeWarning: invalid value encountered in sqrt\n",
      "  sig         = np.sqrt(hinv.diagonal())\n"
     ]
    },
    {
     "name": "stdout",
     "output_type": "stream",
     "text": [
      "1.1116051657858732 2844.170757292736\n",
      "Warning: Desired error not necessarily achieved due to precision loss.\n",
      "         Current function value: 18.670268\n",
      "         Iterations: 47\n",
      "         Function evaluations: 155\n",
      "         Gradient evaluations: 146\n",
      "[-0.263 -2.644 -7.813  1.81 ] 18.67026789652141\n",
      "-0.7544913772231916 2988.7909694248756\n",
      "Warning: Desired error not necessarily achieved due to precision loss.\n",
      "         Current function value: 17.671012\n",
      "         Iterations: 48\n",
      "         Function evaluations: 99\n",
      "         Gradient evaluations: 93\n",
      "[-0.252 -2.579 -7.569  1.756] 17.6710122472721\n",
      "92 btag_ptrel 0.0 1.0 0.1163039862888082 0.9349906751815932 2913.8007582630726\n"
     ]
    },
    {
     "name": "stderr",
     "output_type": "stream",
     "text": [
      "/home/naodell/opt/anaconda3/lib/python3.7/site-packages/numdifftools/core.py:1020: UserWarning: Can not change order to 2! The only valid order is 1 for method=forward.\n",
      "  warnings.warn(msg.format(order, valid_order, self.method))\n",
      "/home/naodell/work/wbr/analysis/scripts/fit_helpers.py:146: RuntimeWarning: invalid value encountered in sqrt\n",
      "  sig         = np.sqrt(hinv.diagonal())\n"
     ]
    },
    {
     "name": "stdout",
     "output_type": "stream",
     "text": [
      "1.0512946614704013 2869.58455193456\n",
      "Warning: Desired error not necessarily achieved due to precision loss.\n",
      "         Current function value: 15.557642\n",
      "         Iterations: 45\n",
      "         Function evaluations: 184\n",
      "         Gradient evaluations: 176\n",
      "[-0.077 -2.561 -7.743  1.755] 15.557642456677348\n",
      "-0.818686688892785 2949.9258332294708\n",
      "Warning: Desired error not necessarily achieved due to precision loss.\n",
      "         Current function value: 13.841094\n",
      "         Iterations: 46\n",
      "         Function evaluations: 109\n",
      "         Gradient evaluations: 103\n",
      "[ 0.083 -2.487 -7.059  1.6  ] 13.84109447282248\n",
      "93 btag_sampledependence 0.0 1.0 0.5811791610840544 0.6066573086816904 2908.7881404547397\n"
     ]
    },
    {
     "name": "stderr",
     "output_type": "stream",
     "text": [
      "/home/naodell/opt/anaconda3/lib/python3.7/site-packages/numdifftools/core.py:1020: UserWarning: Can not change order to 2! The only valid order is 1 for method=forward.\n",
      "  warnings.warn(msg.format(order, valid_order, self.method))\n",
      "/home/naodell/work/wbr/analysis/scripts/fit_helpers.py:146: RuntimeWarning: invalid value encountered in sqrt\n",
      "  sig         = np.sqrt(hinv.diagonal())\n"
     ]
    },
    {
     "name": "stdout",
     "output_type": "stream",
     "text": [
      "1.1878364697657449 2459.2283908777813\n",
      "Warning: Desired error not necessarily achieved due to precision loss.\n",
      "         Current function value: 6.297488\n",
      "         Iterations: 44\n",
      "         Function evaluations: 94\n",
      "         Gradient evaluations: 86\n",
      "[ 0.681 -1.934 -6.175  1.263] 6.297487959599368\n",
      "-0.025478147597636003 2922.3365287018614\n",
      "Warning: Desired error not necessarily achieved due to precision loss.\n",
      "         Current function value: 15.343553\n",
      "         Iterations: 45\n",
      "         Function evaluations: 188\n",
      "         Gradient evaluations: 179\n",
      "[-0.104 -2.296 -7.341  1.647] 15.343553474977995\n",
      "94 btag_pileup 0.0 1.0 0.17982048975411885 0.9135816557784228 2645.400823874526\n"
     ]
    },
    {
     "name": "stderr",
     "output_type": "stream",
     "text": [
      "/home/naodell/opt/anaconda3/lib/python3.7/site-packages/numdifftools/core.py:1020: UserWarning: Can not change order to 2! The only valid order is 1 for method=forward.\n",
      "  warnings.warn(msg.format(order, valid_order, self.method))\n",
      "/home/naodell/work/wbr/analysis/scripts/fit_helpers.py:146: RuntimeWarning: invalid value encountered in sqrt\n",
      "  sig         = np.sqrt(hinv.diagonal())\n"
     ]
    },
    {
     "name": "stdout",
     "output_type": "stream",
     "text": [
      "1.0934021455325416 2587.663175401866\n",
      "Warning: Desired error not necessarily achieved due to precision loss.\n",
      "         Current function value: 19.667880\n",
      "         Iterations: 46\n",
      "         Function evaluations: 101\n",
      "         Gradient evaluations: 93\n",
      "[-0.273 -2.816 -7.448  1.777] 19.667879851295524\n",
      "-0.733761166024304 2688.6224941881837\n",
      "Warning: Desired error not necessarily achieved due to precision loss.\n",
      "         Current function value: 17.496212\n",
      "         Iterations: 49\n",
      "         Function evaluations: 174\n",
      "         Gradient evaluations: 164\n",
      "[-0.297 -2.519 -7.871  1.805] 17.496212130873012\n",
      "95 btag_statistic 0.0 1.0 0.3777712531789262 0.7927475787672961 2635.3556925973608\n"
     ]
    },
    {
     "name": "stderr",
     "output_type": "stream",
     "text": [
      "/home/naodell/opt/anaconda3/lib/python3.7/site-packages/numdifftools/core.py:1020: UserWarning: Can not change order to 2! The only valid order is 1 for method=forward.\n",
      "  warnings.warn(msg.format(order, valid_order, self.method))\n",
      "/home/naodell/work/wbr/analysis/scripts/fit_helpers.py:146: RuntimeWarning: invalid value encountered in sqrt\n",
      "  sig         = np.sqrt(hinv.diagonal())\n"
     ]
    },
    {
     "name": "stdout",
     "output_type": "stream",
     "text": [
      "1.1705188319462223 2445.9207171258863\n",
      "Warning: Desired error not necessarily achieved due to precision loss.\n",
      "         Current function value: 12.501662\n",
      "         Iterations: 45\n",
      "         Function evaluations: 209\n",
      "         Gradient evaluations: 199\n",
      "[ 0.078 -2.428 -6.898  1.564] 12.501662188234416\n",
      "-0.4149763255883699 2725.4274835411425\n",
      "Warning: Desired error not necessarily achieved due to precision loss.\n",
      "         Current function value: 10.727978\n",
      "         Iterations: 44\n",
      "         Function evaluations: 101\n",
      "         Gradient evaluations: 91\n",
      "[ 0.374 -2.191 -6.558  1.42 ] 10.727978211060385\n",
      "96 ctag 0.0 1.0 -0.036687808686095454 0.6681814389512313 2563.868723145675\n"
     ]
    },
    {
     "name": "stderr",
     "output_type": "stream",
     "text": [
      "/home/naodell/opt/anaconda3/lib/python3.7/site-packages/numdifftools/core.py:1020: UserWarning: Can not change order to 2! The only valid order is 1 for method=forward.\n",
      "  warnings.warn(msg.format(order, valid_order, self.method))\n",
      "/home/naodell/work/wbr/analysis/scripts/fit_helpers.py:146: RuntimeWarning: invalid value encountered in sqrt\n",
      "  sig         = np.sqrt(hinv.diagonal())\n"
     ]
    },
    {
     "name": "stdout",
     "output_type": "stream",
     "text": [
      "0.6314936302651358 2485.593036560911\n",
      "Warning: Desired error not necessarily achieved due to precision loss.\n",
      "         Current function value: 14.195504\n",
      "         Iterations: 46\n",
      "         Function evaluations: 146\n",
      "         Gradient evaluations: 137\n",
      "[ 0.275 -2.095 -7.231  1.535] 14.195503815567003\n",
      "-0.7048692476373267 2668.508671371719\n",
      "Warning: Desired error not necessarily achieved due to precision loss.\n",
      "         Current function value: 17.178683\n",
      "         Iterations: 49\n",
      "         Function evaluations: 145\n",
      "         Gradient evaluations: 137\n",
      "[-0.243 -2.644 -7.446  1.744] 17.178683311791584\n",
      "97 mistag 0.0 1.0 0.5741695769231476 0.7248121800762841 2568.8474093458813\n"
     ]
    },
    {
     "name": "stderr",
     "output_type": "stream",
     "text": [
      "/home/naodell/opt/anaconda3/lib/python3.7/site-packages/numdifftools/core.py:1020: UserWarning: Can not change order to 2! The only valid order is 1 for method=forward.\n",
      "  warnings.warn(msg.format(order, valid_order, self.method))\n",
      "/home/naodell/work/wbr/analysis/scripts/fit_helpers.py:146: RuntimeWarning: invalid value encountered in sqrt\n",
      "  sig         = np.sqrt(hinv.diagonal())\n"
     ]
    },
    {
     "name": "stdout",
     "output_type": "stream",
     "text": [
      "1.2989817569994317 2429.441225049999\n",
      "Warning: Desired error not necessarily achieved due to precision loss.\n",
      "         Current function value: 15.067876\n",
      "         Iterations: 47\n",
      "         Function evaluations: 147\n",
      "         Gradient evaluations: 138\n",
      "[ 0.072 -2.395 -7.924  1.735] 15.067875500945911\n",
      "-0.1506426031531365 2583.3299033430817\n",
      "Warning: Desired error not necessarily achieved due to precision loss.\n",
      "         Current function value: 17.909649\n",
      "         Iterations: 49\n",
      "         Function evaluations: 125\n",
      "         Gradient evaluations: 117\n",
      "[-0.01  -2.534 -7.488  1.696] 17.90964853578931\n",
      "98 jer 0.0 1.0 -0.7396151389934446 0.6577430561314822 2510.0328801009937\n"
     ]
    },
    {
     "name": "stderr",
     "output_type": "stream",
     "text": [
      "/home/naodell/opt/anaconda3/lib/python3.7/site-packages/numdifftools/core.py:1020: UserWarning: Can not change order to 2! The only valid order is 1 for method=forward.\n",
      "  warnings.warn(msg.format(order, valid_order, self.method))\n",
      "/home/naodell/work/wbr/analysis/scripts/fit_helpers.py:146: RuntimeWarning: invalid value encountered in sqrt\n",
      "  sig         = np.sqrt(hinv.diagonal())\n"
     ]
    },
    {
     "name": "stdout",
     "output_type": "stream",
     "text": [
      "-0.08187208286196235 2521.011928806028\n",
      "Warning: Desired error not necessarily achieved due to precision loss.\n",
      "         Current function value: 10.613246\n",
      "         Iterations: 46\n",
      "         Function evaluations: 180\n",
      "         Gradient evaluations: 170\n",
      "[ 0.25  -2.295 -6.818  1.501] 10.613245884518882\n",
      "-1.3973581951249268 2700.9465950167073\n",
      "Warning: Desired error not necessarily achieved due to precision loss.\n",
      "         Current function value: 7.619109\n",
      "         Iterations: 43\n",
      "         Function evaluations: 151\n",
      "         Gradient evaluations: 143\n",
      "[ 0.674 -1.545 -6.325  1.226] 7.619109281761348\n",
      "99 jes_abs_scale 0.0 1.0 -0.4043332216636443 2.046805722757422 2609.7303047566743\n"
     ]
    },
    {
     "name": "stderr",
     "output_type": "stream",
     "text": [
      "/home/naodell/opt/anaconda3/lib/python3.7/site-packages/numdifftools/core.py:1020: UserWarning: Can not change order to 2! The only valid order is 1 for method=forward.\n",
      "  warnings.warn(msg.format(order, valid_order, self.method))\n",
      "/home/naodell/work/wbr/analysis/scripts/fit_helpers.py:146: RuntimeWarning: invalid value encountered in sqrt\n",
      "  sig         = np.sqrt(hinv.diagonal())\n"
     ]
    },
    {
     "name": "stdout",
     "output_type": "stream",
     "text": [
      "1.6424725010937775 2259.384669334804\n",
      "Warning: Desired error not necessarily achieved due to precision loss.\n",
      "         Current function value: 13.595452\n",
      "         Iterations: 46\n",
      "         Function evaluations: 121\n",
      "         Gradient evaluations: 112\n",
      "[ 0.114 -2.398 -7.224  1.609] 13.595451608129983\n",
      "-2.451138944421066 3257.294604607917\n",
      "Warning: Desired error not necessarily achieved due to precision loss.\n",
      "         Current function value: 16.901412\n",
      "         Iterations: 45\n",
      "         Function evaluations: 95\n",
      "         Gradient evaluations: 87\n",
      "[ 0.367 -2.229 -6.518  1.42 ] 16.901411899173077\n",
      "100 jes_abs_stat 0.0 1.0 -0.9896570038746464 1.9851062020478147 2706.3364923878908\n"
     ]
    },
    {
     "name": "stderr",
     "output_type": "stream",
     "text": [
      "/home/naodell/opt/anaconda3/lib/python3.7/site-packages/numdifftools/core.py:1020: UserWarning: Can not change order to 2! The only valid order is 1 for method=forward.\n",
      "  warnings.warn(msg.format(order, valid_order, self.method))\n",
      "/home/naodell/work/wbr/analysis/scripts/fit_helpers.py:146: RuntimeWarning: invalid value encountered in sqrt\n",
      "  sig         = np.sqrt(hinv.diagonal())\n"
     ]
    },
    {
     "name": "stdout",
     "output_type": "stream",
     "text": [
      "0.9954491981731683 2499.1707807233474\n",
      "Warning: Desired error not necessarily achieved due to precision loss.\n",
      "         Current function value: 9.736961\n",
      "         Iterations: 45\n",
      "         Function evaluations: 111\n",
      "         Gradient evaluations: 101\n",
      "[ 0.328 -2.224 -6.782  1.471] 9.73696101383299\n",
      "-2.974763205922461 3445.4062354771804\n",
      "Warning: Desired error not necessarily achieved due to precision loss.\n",
      "         Current function value: 15.799403\n",
      "         Iterations: 46\n",
      "         Function evaluations: 98\n",
      "         Gradient evaluations: 91\n",
      "[ 0.274 -2.155 -6.669  1.449] 15.799402660062963\n",
      "101 jes_fragmentation 0.0 1.0 -1.0353804884302027 0.9670323671612504 2933.1312081219708\n"
     ]
    },
    {
     "name": "stderr",
     "output_type": "stream",
     "text": [
      "/home/naodell/opt/anaconda3/lib/python3.7/site-packages/numdifftools/core.py:1020: UserWarning: Can not change order to 2! The only valid order is 1 for method=forward.\n",
      "  warnings.warn(msg.format(order, valid_order, self.method))\n",
      "/home/naodell/work/wbr/analysis/scripts/fit_helpers.py:146: RuntimeWarning: invalid value encountered in sqrt\n",
      "  sig         = np.sqrt(hinv.diagonal())\n"
     ]
    },
    {
     "name": "stdout",
     "output_type": "stream",
     "text": [
      "-0.06834812126895229 2956.9461300542903\n",
      "Warning: Desired error not necessarily achieved due to precision loss.\n",
      "         Current function value: 13.168815\n",
      "         Iterations: 46\n",
      "         Function evaluations: 180\n",
      "         Gradient evaluations: 170\n",
      "[ 0.179 -2.376 -7.294  1.607] 13.168815288043646\n",
      "-2.0024128555914533 3710.280512751149\n",
      "Warning: Desired error not necessarily achieved due to precision loss.\n",
      "         Current function value: 12.410749\n",
      "         Iterations: 47\n",
      "         Function evaluations: 113\n",
      "         Gradient evaluations: 103\n",
      "[ 0.489 -2.234 -6.629  1.42 ] 12.410748695782948\n",
      "102 jes_abs_mpf_bias 0.0 1.0 -1.1730630780164792 0.9610516569476686 3314.7951622941605\n"
     ]
    },
    {
     "name": "stderr",
     "output_type": "stream",
     "text": [
      "/home/naodell/opt/anaconda3/lib/python3.7/site-packages/numdifftools/core.py:1020: UserWarning: Can not change order to 2! The only valid order is 1 for method=forward.\n",
      "  warnings.warn(msg.format(order, valid_order, self.method))\n",
      "/home/naodell/work/wbr/analysis/scripts/fit_helpers.py:146: RuntimeWarning: invalid value encountered in sqrt\n",
      "  sig         = np.sqrt(hinv.diagonal())\n"
     ]
    },
    {
     "name": "stdout",
     "output_type": "stream",
     "text": [
      "-0.21201142106881066 3397.9559554799225\n",
      "Warning: Desired error not necessarily achieved due to precision loss.\n",
      "         Current function value: 14.267429\n",
      "         Iterations: 44\n",
      "         Function evaluations: 122\n",
      "         Gradient evaluations: 114\n",
      "[-0.308 -2.486 -7.589  1.753] 14.267428971153707\n",
      "-2.1341147349641476 4239.4502537492335\n",
      "Warning: Desired error not necessarily achieved due to precision loss.\n",
      "         Current function value: 13.748192\n",
      "         Iterations: 46\n",
      "         Function evaluations: 122\n",
      "         Gradient evaluations: 114\n",
      "[ 0.399 -2.244 -6.629  1.436] 13.748192459565383\n",
      "103 jes_pileup_data_mc 0.0 1.0 0.5136671972127689 1.3755527899665492 3799.627421619304\n"
     ]
    },
    {
     "name": "stderr",
     "output_type": "stream",
     "text": [
      "/home/naodell/opt/anaconda3/lib/python3.7/site-packages/numdifftools/core.py:1020: UserWarning: Can not change order to 2! The only valid order is 1 for method=forward.\n",
      "  warnings.warn(msg.format(order, valid_order, self.method))\n",
      "/home/naodell/work/wbr/analysis/scripts/fit_helpers.py:146: RuntimeWarning: invalid value encountered in sqrt\n",
      "  sig         = np.sqrt(hinv.diagonal())\n"
     ]
    },
    {
     "name": "stdout",
     "output_type": "stream",
     "text": [
      "1.889219987179318 2774.511103681925\n",
      "Warning: Desired error not necessarily achieved due to precision loss.\n",
      "         Current function value: 13.336185\n",
      "         Iterations: 46\n",
      "         Function evaluations: 135\n",
      "         Gradient evaluations: 127\n",
      "[ 0.171 -2.37  -6.835  1.529] 13.336184619645259\n",
      "-0.8618855927537803 4368.470389181983\n",
      "Warning: Desired error not necessarily achieved due to precision loss.\n",
      "         Current function value: 12.520429\n",
      "         Iterations: 47\n",
      "         Function evaluations: 133\n",
      "         Gradient evaluations: 128\n",
      "[ 0.013 -2.245 -7.045  1.57 ] 12.520428959161594\n",
      "104 jes_pileup_pt_bb 0.0 1.0 -0.09971124347109436 1.5220435301235282 3491.292847849096\n"
     ]
    },
    {
     "name": "stderr",
     "output_type": "stream",
     "text": [
      "/home/naodell/opt/anaconda3/lib/python3.7/site-packages/numdifftools/core.py:1020: UserWarning: Can not change order to 2! The only valid order is 1 for method=forward.\n",
      "  warnings.warn(msg.format(order, valid_order, self.method))\n",
      "/home/naodell/work/wbr/analysis/scripts/fit_helpers.py:146: RuntimeWarning: invalid value encountered in sqrt\n",
      "  sig         = np.sqrt(hinv.diagonal())\n"
     ]
    },
    {
     "name": "stdout",
     "output_type": "stream",
     "text": [
      "1.422332286652434 2950.070700812647\n",
      "Warning: Desired error not necessarily achieved due to precision loss.\n",
      "         Current function value: 11.137141\n",
      "         Iterations: 45\n",
      "         Function evaluations: 133\n",
      "         Gradient evaluations: 126\n",
      "[ 0.129 -2.282 -7.024  1.553] 11.137141307657606\n",
      "-1.6217547735946225 4218.802856383162\n",
      "Warning: Desired error not necessarily achieved due to precision loss.\n",
      "         Current function value: 16.322663\n",
      "         Iterations: 45\n",
      "         Function evaluations: 113\n",
      "         Gradient evaluations: 105\n",
      "[ 0.366 -2.213 -7.313  1.554] 16.322662699986406\n",
      "105 jes_pileup_pt_ec1 0.0 1.0 0.2719148752809345 0.814971625215131 3532.599401121768\n"
     ]
    },
    {
     "name": "stderr",
     "output_type": "stream",
     "text": [
      "/home/naodell/opt/anaconda3/lib/python3.7/site-packages/numdifftools/core.py:1020: UserWarning: Can not change order to 2! The only valid order is 1 for method=forward.\n",
      "  warnings.warn(msg.format(order, valid_order, self.method))\n",
      "/home/naodell/work/wbr/analysis/scripts/fit_helpers.py:146: RuntimeWarning: invalid value encountered in sqrt\n",
      "  sig         = np.sqrt(hinv.diagonal())\n"
     ]
    },
    {
     "name": "stdout",
     "output_type": "stream",
     "text": [
      "1.0868865004960655 2741.0688004945073\n",
      "Warning: Desired error not necessarily achieved due to precision loss.\n",
      "         Current function value: 9.996329\n",
      "         Iterations: 46\n",
      "         Function evaluations: 132\n",
      "         Gradient evaluations: 125\n",
      "[ 0.154 -2.239 -7.08   1.552] 9.996329121665614\n",
      "-0.5430567499341965 3987.212866368981\n",
      "Warning: Desired error not necessarily achieved due to precision loss.\n",
      "         Current function value: 15.961001\n",
      "         Iterations: 45\n",
      "         Function evaluations: 111\n",
      "         Gradient evaluations: 102\n",
      "[ 0.182 -2.276 -7.288  1.589] 15.96100060554981\n",
      "106 jes_pileup_pt_ref 0.0 1.0 -0.07354150305066784 1.1661131650561454 3319.6735942400724\n"
     ]
    },
    {
     "name": "stderr",
     "output_type": "stream",
     "text": [
      "/home/naodell/opt/anaconda3/lib/python3.7/site-packages/numdifftools/core.py:1020: UserWarning: Can not change order to 2! The only valid order is 1 for method=forward.\n",
      "  warnings.warn(msg.format(order, valid_order, self.method))\n",
      "/home/naodell/work/wbr/analysis/scripts/fit_helpers.py:146: RuntimeWarning: invalid value encountered in sqrt\n",
      "  sig         = np.sqrt(hinv.diagonal())\n"
     ]
    },
    {
     "name": "stdout",
     "output_type": "stream",
     "text": [
      "1.0925716620054775 2695.764544981468\n",
      "Warning: Desired error not necessarily achieved due to precision loss.\n",
      "         Current function value: 10.597071\n",
      "         Iterations: 47\n",
      "         Function evaluations: 187\n",
      "         Gradient evaluations: 175\n",
      "[ 0.257 -2.221 -6.21   1.384] 10.597071403647382\n",
      "-1.2396546681068132 4166.644496304095\n",
      "Warning: Desired error not necessarily achieved due to precision loss.\n",
      "         Current function value: 14.309782\n",
      "         Iterations: 46\n",
      "         Function evaluations: 105\n",
      "         Gradient evaluations: 94\n",
      "[ 0.232 -2.307 -6.99   1.535] 14.30978179571609\n",
      "107 jes_relative_bal 0.0 1.0 0.4123318698788728 0.973159231353214 3365.783212062016\n"
     ]
    },
    {
     "name": "stderr",
     "output_type": "stream",
     "text": [
      "/home/naodell/opt/anaconda3/lib/python3.7/site-packages/numdifftools/core.py:1020: UserWarning: Can not change order to 2! The only valid order is 1 for method=forward.\n",
      "  warnings.warn(msg.format(order, valid_order, self.method))\n",
      "/home/naodell/work/wbr/analysis/scripts/fit_helpers.py:146: RuntimeWarning: invalid value encountered in sqrt\n",
      "  sig         = np.sqrt(hinv.diagonal())\n"
     ]
    },
    {
     "name": "stdout",
     "output_type": "stream",
     "text": [
      "1.3854911012320867 2014.074086588811\n",
      "Warning: Desired error not necessarily achieved due to precision loss.\n",
      "         Current function value: 6.682416\n",
      "         Iterations: 45\n",
      "         Function evaluations: 106\n",
      "         Gradient evaluations: 95\n",
      "[ 0.429 -1.98  -6.478  1.363] 6.682416158011563\n",
      "-0.5608273614743412 4117.770617720386\n",
      "Warning: Desired error not necessarily achieved due to precision loss.\n",
      "         Current function value: 13.282169\n",
      "         Iterations: 46\n",
      "         Function evaluations: 132\n",
      "         Gradient evaluations: 125\n",
      "[ 0.382 -2.159 -7.36   1.55 ] 13.282168532029088\n",
      "108 jes_relative_jer_ec1 0.0 1.0 -0.01484071294370491 1.0725098000973392 2889.4587707993924\n"
     ]
    },
    {
     "name": "stderr",
     "output_type": "stream",
     "text": [
      "/home/naodell/opt/anaconda3/lib/python3.7/site-packages/numdifftools/core.py:1020: UserWarning: Can not change order to 2! The only valid order is 1 for method=forward.\n",
      "  warnings.warn(msg.format(order, valid_order, self.method))\n",
      "/home/naodell/work/wbr/analysis/scripts/fit_helpers.py:146: RuntimeWarning: invalid value encountered in sqrt\n",
      "  sig         = np.sqrt(hinv.diagonal())\n"
     ]
    },
    {
     "name": "stdout",
     "output_type": "stream",
     "text": [
      "1.0576690871536343 2873.2734363047925\n",
      "Warning: Desired error not necessarily achieved due to precision loss.\n",
      "         Current function value: 13.242937\n",
      "         Iterations: 46\n",
      "         Function evaluations: 128\n",
      "         Gradient evaluations: 120\n",
      "[ 5.080e-04 -2.475e+00 -7.728e+00  1.726e+00] 13.242936747461322\n",
      "-1.0873505130410441 2908.103648855001\n",
      "Warning: Desired error not necessarily achieved due to precision loss.\n",
      "         Current function value: 13.389311\n",
      "         Iterations: 44\n",
      "         Function evaluations: 152\n",
      "         Gradient evaluations: 138\n",
      "[-0.072 -2.303 -6.733  1.539] 13.389310789125133\n",
      "109 jes_relative_pt_bb 0.0 1.0 -0.5968194681235046 1.677044340400376 2889.699565622926\n"
     ]
    },
    {
     "name": "stderr",
     "output_type": "stream",
     "text": [
      "/home/naodell/opt/anaconda3/lib/python3.7/site-packages/numdifftools/core.py:1020: UserWarning: Can not change order to 2! The only valid order is 1 for method=forward.\n",
      "  warnings.warn(msg.format(order, valid_order, self.method))\n",
      "/home/naodell/work/wbr/analysis/scripts/fit_helpers.py:146: RuntimeWarning: invalid value encountered in sqrt\n",
      "  sig         = np.sqrt(hinv.diagonal())\n"
     ]
    },
    {
     "name": "stdout",
     "output_type": "stream",
     "text": [
      "1.0802248722768715 2790.838908115323\n",
      "Warning: Desired error not necessarily achieved due to precision loss.\n",
      "         Current function value: 12.123974\n",
      "         Iterations: 46\n",
      "         Function evaluations: 91\n",
      "         Gradient evaluations: 85\n",
      "[ 0.069 -2.473 -6.9    1.573] 12.123974348675803\n",
      "-2.2738638085238807 3133.942411171546\n",
      "Warning: Desired error not necessarily achieved due to precision loss.\n",
      "         Current function value: 9.795478\n",
      "         Iterations: 44\n",
      "         Function evaluations: 141\n",
      "         Gradient evaluations: 134\n",
      "[ 0.32  -2.062 -7.172  1.512] 9.795477725224865\n",
      "110 jes_relative_pt_ec1 0.0 1.0 -0.006419729997560504 0.8279981267895441 2949.665922978894\n"
     ]
    },
    {
     "name": "stderr",
     "output_type": "stream",
     "text": [
      "/home/naodell/opt/anaconda3/lib/python3.7/site-packages/numdifftools/core.py:1020: UserWarning: Can not change order to 2! The only valid order is 1 for method=forward.\n",
      "  warnings.warn(msg.format(order, valid_order, self.method))\n",
      "/home/naodell/work/wbr/analysis/scripts/fit_helpers.py:146: RuntimeWarning: invalid value encountered in sqrt\n",
      "  sig         = np.sqrt(hinv.diagonal())\n"
     ]
    },
    {
     "name": "stdout",
     "output_type": "stream",
     "text": [
      "0.8215783967919836 2622.9126316515194\n",
      "Warning: Desired error not necessarily achieved due to precision loss.\n",
      "         Current function value: 11.458445\n",
      "         Iterations: 46\n",
      "         Function evaluations: 99\n",
      "         Gradient evaluations: 92\n",
      "[ 0.12  -2.264 -7.302  1.599] 11.458444798154895\n",
      "-0.8344178567871046 3316.618620778675\n",
      "Warning: Desired error not necessarily achieved due to precision loss.\n",
      "         Current function value: 12.721260\n",
      "         Iterations: 48\n",
      "         Function evaluations: 96\n",
      "         Gradient evaluations: 86\n",
      "[ 0.043 -2.253 -6.969  1.553] 12.721260424640015\n",
      "111 jes_relative_stat_fsr 0.0 1.0 -0.07949739679114294 1.1285820509698643 2952.353734034278\n"
     ]
    },
    {
     "name": "stderr",
     "output_type": "stream",
     "text": [
      "/home/naodell/opt/anaconda3/lib/python3.7/site-packages/numdifftools/core.py:1020: UserWarning: Can not change order to 2! The only valid order is 1 for method=forward.\n",
      "  warnings.warn(msg.format(order, valid_order, self.method))\n",
      "/home/naodell/work/wbr/analysis/scripts/fit_helpers.py:146: RuntimeWarning: invalid value encountered in sqrt\n",
      "  sig         = np.sqrt(hinv.diagonal())\n"
     ]
    },
    {
     "name": "stdout",
     "output_type": "stream",
     "text": [
      "1.0490846541787213 2918.540244302886\n",
      "Warning: Desired error not necessarily achieved due to precision loss.\n",
      "         Current function value: 13.520635\n",
      "         Iterations: 46\n",
      "         Function evaluations: 118\n",
      "         Gradient evaluations: 108\n",
      "[-0.116 -2.625 -7.472  1.725] 13.520634851009511\n",
      "-1.2080794477610073 2994.942444970307\n",
      "Warning: Desired error not necessarily achieved due to precision loss.\n",
      "         Current function value: 12.097983\n",
      "         Iterations: 44\n",
      "         Function evaluations: 159\n",
      "         Gradient evaluations: 147\n",
      "[ 0.079 -2.319 -7.061  1.574] 12.097983401668857\n",
      "112 jes_relative_stat_ec 0.0 1.0 -0.12290385209569868 0.8879428773165658 2955.0366777865997\n"
     ]
    },
    {
     "name": "stderr",
     "output_type": "stream",
     "text": [
      "/home/naodell/opt/anaconda3/lib/python3.7/site-packages/numdifftools/core.py:1020: UserWarning: Can not change order to 2! The only valid order is 1 for method=forward.\n",
      "  warnings.warn(msg.format(order, valid_order, self.method))\n",
      "/home/naodell/work/wbr/analysis/scripts/fit_helpers.py:146: RuntimeWarning: invalid value encountered in sqrt\n",
      "  sig         = np.sqrt(hinv.diagonal())\n"
     ]
    },
    {
     "name": "stdout",
     "output_type": "stream",
     "text": [
      "0.7650390252208672 2859.0401473125225\n",
      "Warning: Desired error not necessarily achieved due to precision loss.\n",
      "         Current function value: 14.378055\n",
      "         Iterations: 45\n",
      "         Function evaluations: 124\n",
      "         Gradient evaluations: 116\n",
      "[-0.104 -2.454 -7.573  1.712] 14.378054674457797\n",
      "-1.0108467294122645 3084.84444098854\n",
      "Warning: Desired error not necessarily achieved due to precision loss.\n",
      "         Current function value: 7.140087\n",
      "         Iterations: 46\n",
      "         Function evaluations: 92\n",
      "         Gradient evaluations: 84\n",
      "[ 0.737 -2.024 -6.292  1.289] 7.140086995514073\n",
      "113 jes_single_pion_ecal 0.0 1.0 0.6103047030482655 1.5900901315408933 2970.641238146452\n"
     ]
    },
    {
     "name": "stderr",
     "output_type": "stream",
     "text": [
      "/home/naodell/opt/anaconda3/lib/python3.7/site-packages/numdifftools/core.py:1020: UserWarning: Can not change order to 2! The only valid order is 1 for method=forward.\n",
      "  warnings.warn(msg.format(order, valid_order, self.method))\n",
      "/home/naodell/work/wbr/analysis/scripts/fit_helpers.py:146: RuntimeWarning: invalid value encountered in sqrt\n",
      "  sig         = np.sqrt(hinv.diagonal())\n"
     ]
    },
    {
     "name": "stdout",
     "output_type": "stream",
     "text": [
      "2.200394834589159 4024.2035429813272\n",
      "Warning: Desired error not necessarily achieved due to precision loss.\n",
      "         Current function value: 15.027192\n",
      "         Iterations: 47\n",
      "         Function evaluations: 179\n",
      "         Gradient evaluations: 169\n",
      "[ 0.065 -2.283 -7.092  1.575] 15.027192136404619\n",
      "-0.9797854284926278 2589.131380361797\n",
      "Warning: Desired error not necessarily achieved due to precision loss.\n",
      "         Current function value: 9.944005\n",
      "         Iterations: 48\n",
      "         Function evaluations: 122\n",
      "         Gradient evaluations: 116\n",
      "[ 0.205 -2.213 -6.404  1.424] 9.944005192462376\n",
      "114 jes_single_pion_hcal 0.0 1.0 0.8500624296549162 1.62210365368498 3235.632705247693\n"
     ]
    },
    {
     "name": "stderr",
     "output_type": "stream",
     "text": [
      "/home/naodell/opt/anaconda3/lib/python3.7/site-packages/numdifftools/core.py:1020: UserWarning: Can not change order to 2! The only valid order is 1 for method=forward.\n",
      "  warnings.warn(msg.format(order, valid_order, self.method))\n",
      "/home/naodell/work/wbr/analysis/scripts/fit_helpers.py:146: RuntimeWarning: invalid value encountered in sqrt\n",
      "  sig         = np.sqrt(hinv.diagonal())\n"
     ]
    },
    {
     "name": "stdout",
     "output_type": "stream",
     "text": [
      "2.4721660833398964 4332.688694122433\n",
      "Warning: Desired error not necessarily achieved due to precision loss.\n",
      "         Current function value: 15.916862\n",
      "         Iterations: 46\n",
      "         Function evaluations: 155\n",
      "         Gradient evaluations: 148\n",
      "[ 0.387 -2.219 -7.177  1.528] 15.91686165036504\n",
      "-0.7720412240300638 2946.353263240467\n",
      "Warning: Desired error not necessarily achieved due to precision loss.\n",
      "         Current function value: 6.531017\n",
      "         Iterations: 43\n",
      "         Function evaluations: 192\n",
      "         Gradient evaluations: 179\n",
      "[ 0.347 -2.14  -6.089  1.335] 6.53101709717839\n",
      "115 jes_time_pt_eta 0.0 1.0 0.3689149076296235 1.1870962635910631 3583.701071470001\n"
     ]
    },
    {
     "name": "stderr",
     "output_type": "stream",
     "text": [
      "/home/naodell/opt/anaconda3/lib/python3.7/site-packages/numdifftools/core.py:1020: UserWarning: Can not change order to 2! The only valid order is 1 for method=forward.\n",
      "  warnings.warn(msg.format(order, valid_order, self.method))\n",
      "/home/naodell/work/wbr/analysis/scripts/fit_helpers.py:146: RuntimeWarning: invalid value encountered in sqrt\n",
      "  sig         = np.sqrt(hinv.diagonal())\n"
     ]
    },
    {
     "name": "stdout",
     "output_type": "stream",
     "text": [
      "1.5560111712206866 3708.398869060984\n",
      "Warning: Desired error not necessarily achieved due to precision loss.\n",
      "         Current function value: 10.875621\n",
      "         Iterations: 45\n",
      "         Function evaluations: 95\n",
      "         Gradient evaluations: 87\n",
      "[ 0.464 -2.246 -6.123  1.34 ] 10.875621314977781\n",
      "-0.8181813559614397 3521.055952665808\n",
      "Warning: Desired error not necessarily achieved due to precision loss.\n",
      "         Current function value: 18.351865\n",
      "         Iterations: 46\n",
      "         Function evaluations: 111\n",
      "         Gradient evaluations: 104\n",
      "[-0.322 -2.7   -8.056  1.87 ] 18.351864696929447\n",
      "116 jes_flavor_qcd 0.0 1.0 1.092590065348952 0.7018840092303079 3612.6095315104444\n"
     ]
    },
    {
     "name": "stderr",
     "output_type": "stream",
     "text": [
      "/home/naodell/opt/anaconda3/lib/python3.7/site-packages/numdifftools/core.py:1020: UserWarning: Can not change order to 2! The only valid order is 1 for method=forward.\n",
      "  warnings.warn(msg.format(order, valid_order, self.method))\n",
      "/home/naodell/work/wbr/analysis/scripts/fit_helpers.py:146: RuntimeWarning: invalid value encountered in sqrt\n",
      "  sig         = np.sqrt(hinv.diagonal())\n"
     ]
    },
    {
     "name": "stdout",
     "output_type": "stream",
     "text": [
      "1.7944740745792598 1313.2633545405586\n",
      "Warning: Desired error not necessarily achieved due to precision loss.\n",
      "         Current function value: 3.301361\n",
      "         Iterations: 68\n",
      "         Function evaluations: 120\n",
      "         Gradient evaluations: 110\n",
      "[ 1.475 -0.895 -5.086  0.78 ] 3.301360658530736\n",
      "0.39070605611864406 2808.2000316158824\n",
      "Warning: Desired error not necessarily achieved due to precision loss.\n",
      "         Current function value: 13.598439\n",
      "         Iterations: 48\n",
      "         Function evaluations: 136\n",
      "         Gradient evaluations: 125\n",
      "[ 0.501 -2.172 -6.857  1.447] 13.59843930658822\n",
      "\n"
     ]
    }
   ],
   "source": [
    "# n-1 systematics\n",
    "\n",
    "# initialize parameter data\n",
    "fit_data._pmask = parameters['active'].values.astype(bool)\n",
    "fit_data._pval_init = parameters['val_init'].values.copy()\n",
    "\n",
    "errs = []\n",
    "impacts = []\n",
    "iparam = 4\n",
    "mask = fit_data._pmask\n",
    "#mask[17:] = False\n",
    "p_init = fit_data._pval_fit\n",
    "p_fit = parameters.val_fit.values\n",
    "for pname, pdata in tqdm_notebook(parameters.iloc[4:].iterrows(), total=parameters.active.sum() - 4):\n",
    "    if not pdata.active:\n",
    "        iparam += 1\n",
    "        continue\n",
    "        \n",
    "    print(iparam, pname, pdata.val_init, pdata.err_init, pdata.val_fit, pdata.err_fit, fobj(p_init[mask]))\n",
    "\n",
    "    # fix parameter in fit and covariance calculation\n",
    "    mask[iparam] = False\n",
    "    #min_options['finite_diff_rel_step'] = steps[mask]\n",
    "    err, _ = fh.calculate_covariance(fobj, p_init[mask])\n",
    "    errs.append(err)\n",
    "    \n",
    "    # calculate impacts from up/down variations of n.p. on p.o.i.\n",
    "    p_init[iparam] = pdata.val_fit + pdata.err_fit\n",
    "    print(p_init[iparam], fobj(p_init[mask]))\n",
    "    res = minimize(fobj, p_fit[mask],\n",
    "                   jac     = fobj_jac,\n",
    "                   #hess    = 'cs',\n",
    "                   #method  = 'trust-constr', \n",
    "                   method  = 'BFGS', \n",
    "                   options = min_options,\n",
    "                  )\n",
    "    impact_up = res.x\n",
    "    print((res.x[:4]-p_fit[:4])*100/p_fit[:4], res.fun)\n",
    "                    \n",
    "    p_init[iparam] = pdata.val_fit - pdata.err_fit\n",
    "    print(p_init[iparam], fobj(p_init[mask]))\n",
    "    res = minimize(fobj, p_fit[mask],\n",
    "                   jac     = fobj_jac,\n",
    "                   #hess    = 'cs',\n",
    "                   #method  = 'trust-constr', \n",
    "                   method  = 'BFGS', \n",
    "                   options = min_options,\n",
    "                  )\n",
    "    impact_down = res.x\n",
    "    print((res.x[:4]-p_fit[:4])*100/p_fit[:4], res.fun)\n",
    "    impacts.append(np.array([impact_up, impact_down]))\n",
    "    \n",
    "    p_init[iparam] = pdata.val_fit\n",
    "    mask[iparam] = True\n",
    "    \n",
    "    iparam += 1\n",
    "    \n",
    "errs = np.array(errs)\n",
    "impacts = np.array(impacts)"
   ]
  },
  {
   "cell_type": "code",
   "execution_count": 10,
   "metadata": {
    "ExecuteTime": {
     "end_time": "2020-03-01T19:50:01.565563Z",
     "start_time": "2020-03-01T19:50:01.533720Z"
    },
    "code_folding": [],
    "scrolled": false
   },
   "outputs": [
    {
     "data": {
      "text/html": [
       "<div>\n",
       "<style scoped>\n",
       "    .dataframe tbody tr th:only-of-type {\n",
       "        vertical-align: middle;\n",
       "    }\n",
       "\n",
       "    .dataframe tbody tr th {\n",
       "        vertical-align: top;\n",
       "    }\n",
       "\n",
       "    .dataframe thead th {\n",
       "        text-align: right;\n",
       "    }\n",
       "</style>\n",
       "<table border=\"1\" class=\"dataframe\">\n",
       "  <thead>\n",
       "    <tr style=\"text-align: right;\">\n",
       "      <th></th>\n",
       "      <th>beta_tau_up</th>\n",
       "      <th>beta_tau_down</th>\n",
       "    </tr>\n",
       "  </thead>\n",
       "  <tbody>\n",
       "    <tr>\n",
       "      <th>hdamp</th>\n",
       "      <td>-7.1417</td>\n",
       "      <td>-8.2200</td>\n",
       "    </tr>\n",
       "    <tr>\n",
       "      <th>misid_tau_3</th>\n",
       "      <td>-7.7205</td>\n",
       "      <td>-8.1382</td>\n",
       "    </tr>\n",
       "    <tr>\n",
       "      <th>eff_e_1</th>\n",
       "      <td>-6.7235</td>\n",
       "      <td>-8.1318</td>\n",
       "    </tr>\n",
       "    <tr>\n",
       "      <th>e_fakes</th>\n",
       "      <td>-8.2613</td>\n",
       "      <td>-8.1139</td>\n",
       "    </tr>\n",
       "    <tr>\n",
       "      <th>eff_mu_6</th>\n",
       "      <td>-6.9934</td>\n",
       "      <td>-8.0877</td>\n",
       "    </tr>\n",
       "    <tr>\n",
       "      <th>jes_time_pt_eta</th>\n",
       "      <td>-6.1225</td>\n",
       "      <td>-8.0560</td>\n",
       "    </tr>\n",
       "    <tr>\n",
       "      <th>misid_tau_0</th>\n",
       "      <td>-7.1566</td>\n",
       "      <td>-7.9935</td>\n",
       "    </tr>\n",
       "    <tr>\n",
       "      <th>eff_e_5</th>\n",
       "      <td>-7.0605</td>\n",
       "      <td>-7.9807</td>\n",
       "    </tr>\n",
       "    <tr>\n",
       "      <th>eff_mu_5</th>\n",
       "      <td>-6.5515</td>\n",
       "      <td>-7.9374</td>\n",
       "    </tr>\n",
       "    <tr>\n",
       "      <th>eff_mu_7</th>\n",
       "      <td>-6.8706</td>\n",
       "      <td>-7.9220</td>\n",
       "    </tr>\n",
       "    <tr>\n",
       "      <th>eff_mu_4</th>\n",
       "      <td>-7.4106</td>\n",
       "      <td>-7.9062</td>\n",
       "    </tr>\n",
       "    <tr>\n",
       "      <th>btag_pileup</th>\n",
       "      <td>-7.4482</td>\n",
       "      <td>-7.8715</td>\n",
       "    </tr>\n",
       "    <tr>\n",
       "      <th>eff_e_2</th>\n",
       "      <td>-7.4036</td>\n",
       "      <td>-7.7431</td>\n",
       "    </tr>\n",
       "    <tr>\n",
       "      <th>ww_scale</th>\n",
       "      <td>-7.8217</td>\n",
       "      <td>-7.7360</td>\n",
       "    </tr>\n",
       "    <tr>\n",
       "      <th>trigger_e_probe</th>\n",
       "      <td>-9.0715</td>\n",
       "      <td>-7.6820</td>\n",
       "    </tr>\n",
       "    <tr>\n",
       "      <th>btag_cfragmentation</th>\n",
       "      <td>-7.5925</td>\n",
       "      <td>-7.6633</td>\n",
       "    </tr>\n",
       "    <tr>\n",
       "      <th>misid_tau_4</th>\n",
       "      <td>-6.9537</td>\n",
       "      <td>-7.6504</td>\n",
       "    </tr>\n",
       "    <tr>\n",
       "      <th>tune</th>\n",
       "      <td>-7.4724</td>\n",
       "      <td>-7.6039</td>\n",
       "    </tr>\n",
       "    <tr>\n",
       "      <th>btag_mupt</th>\n",
       "      <td>-7.8131</td>\n",
       "      <td>-7.5691</td>\n",
       "    </tr>\n",
       "    <tr>\n",
       "      <th>eff_mu_2</th>\n",
       "      <td>-7.4953</td>\n",
       "      <td>-7.5493</td>\n",
       "    </tr>\n",
       "    <tr>\n",
       "      <th>btag_l2c</th>\n",
       "      <td>-7.8192</td>\n",
       "      <td>-7.5352</td>\n",
       "    </tr>\n",
       "    <tr>\n",
       "      <th>e_fakes_ss</th>\n",
       "      <td>-7.4543</td>\n",
       "      <td>-7.5089</td>\n",
       "    </tr>\n",
       "    <tr>\n",
       "      <th>mistag</th>\n",
       "      <td>-7.9245</td>\n",
       "      <td>-7.4883</td>\n",
       "    </tr>\n",
       "    <tr>\n",
       "      <th>trigger_mu</th>\n",
       "      <td>-7.2736</td>\n",
       "      <td>-7.4749</td>\n",
       "    </tr>\n",
       "    <tr>\n",
       "      <th>xs_zjets_alt_pdf</th>\n",
       "      <td>-7.5902</td>\n",
       "      <td>-7.4709</td>\n",
       "    </tr>\n",
       "    <tr>\n",
       "      <th>btag_bfragmentation</th>\n",
       "      <td>-7.1531</td>\n",
       "      <td>-7.4565</td>\n",
       "    </tr>\n",
       "    <tr>\n",
       "      <th>br_tau_mu</th>\n",
       "      <td>-6.9483</td>\n",
       "      <td>-7.4501</td>\n",
       "    </tr>\n",
       "    <tr>\n",
       "      <th>ctag</th>\n",
       "      <td>-7.2311</td>\n",
       "      <td>-7.4465</td>\n",
       "    </tr>\n",
       "    <tr>\n",
       "      <th>ww_resum</th>\n",
       "      <td>-7.0533</td>\n",
       "      <td>-7.4449</td>\n",
       "    </tr>\n",
       "    <tr>\n",
       "      <th>eff_e_3</th>\n",
       "      <td>-6.9470</td>\n",
       "      <td>-7.3981</td>\n",
       "    </tr>\n",
       "    <tr>\n",
       "      <th>jes_relative_bal</th>\n",
       "      <td>-6.4781</td>\n",
       "      <td>-7.3600</td>\n",
       "    </tr>\n",
       "    <tr>\n",
       "      <th>btag_sampledependence</th>\n",
       "      <td>-6.1754</td>\n",
       "      <td>-7.3407</td>\n",
       "    </tr>\n",
       "    <tr>\n",
       "      <th>jes_pileup_pt_bb</th>\n",
       "      <td>-7.0235</td>\n",
       "      <td>-7.3129</td>\n",
       "    </tr>\n",
       "    <tr>\n",
       "      <th>btag_jes</th>\n",
       "      <td>-7.1509</td>\n",
       "      <td>-7.3019</td>\n",
       "    </tr>\n",
       "    <tr>\n",
       "      <th>eff_mu_3</th>\n",
       "      <td>-7.3856</td>\n",
       "      <td>-7.2930</td>\n",
       "    </tr>\n",
       "    <tr>\n",
       "      <th>jes_pileup_pt_ec1</th>\n",
       "      <td>-7.0801</td>\n",
       "      <td>-7.2875</td>\n",
       "    </tr>\n",
       "    <tr>\n",
       "      <th>escale_mu</th>\n",
       "      <td>-7.2354</td>\n",
       "      <td>-7.2761</td>\n",
       "    </tr>\n",
       "    <tr>\n",
       "      <th>misid_tau_5</th>\n",
       "      <td>-7.3411</td>\n",
       "      <td>-7.2746</td>\n",
       "    </tr>\n",
       "    <tr>\n",
       "      <th>misid_tau_e</th>\n",
       "      <td>-8.1221</td>\n",
       "      <td>-7.2583</td>\n",
       "    </tr>\n",
       "    <tr>\n",
       "      <th>trigger_e_4</th>\n",
       "      <td>-7.2652</td>\n",
       "      <td>-7.2363</td>\n",
       "    </tr>\n",
       "    <tr>\n",
       "      <th>btag_btempcorr</th>\n",
       "      <td>-7.3969</td>\n",
       "      <td>-7.2355</td>\n",
       "    </tr>\n",
       "    <tr>\n",
       "      <th>trigger_e_5</th>\n",
       "      <td>-7.6250</td>\n",
       "      <td>-7.2268</td>\n",
       "    </tr>\n",
       "    <tr>\n",
       "      <th>escale_tau_10</th>\n",
       "      <td>-6.1038</td>\n",
       "      <td>-7.1966</td>\n",
       "    </tr>\n",
       "    <tr>\n",
       "      <th>xs_zjets_alt_qcd_scale_2</th>\n",
       "      <td>-7.1149</td>\n",
       "      <td>-7.1862</td>\n",
       "    </tr>\n",
       "    <tr>\n",
       "      <th>btag_cb</th>\n",
       "      <td>-7.5461</td>\n",
       "      <td>-7.1835</td>\n",
       "    </tr>\n",
       "    <tr>\n",
       "      <th>trigger_e_2</th>\n",
       "      <td>-6.6829</td>\n",
       "      <td>-7.1730</td>\n",
       "    </tr>\n",
       "    <tr>\n",
       "      <th>btag_ksl</th>\n",
       "      <td>-7.5964</td>\n",
       "      <td>-7.1728</td>\n",
       "    </tr>\n",
       "    <tr>\n",
       "      <th>jes_relative_pt_bb</th>\n",
       "      <td>-6.8995</td>\n",
       "      <td>-7.1719</td>\n",
       "    </tr>\n",
       "    <tr>\n",
       "      <th>btag_ltothers</th>\n",
       "      <td>-7.2159</td>\n",
       "      <td>-7.1492</td>\n",
       "    </tr>\n",
       "    <tr>\n",
       "      <th>br_tau_e</th>\n",
       "      <td>-7.1652</td>\n",
       "      <td>-7.1408</td>\n",
       "    </tr>\n",
       "    <tr>\n",
       "      <th>pileup</th>\n",
       "      <td>-6.8376</td>\n",
       "      <td>-7.1258</td>\n",
       "    </tr>\n",
       "    <tr>\n",
       "      <th>eff_iso_mu</th>\n",
       "      <td>-7.4522</td>\n",
       "      <td>-7.1049</td>\n",
       "    </tr>\n",
       "    <tr>\n",
       "      <th>xs_diboson</th>\n",
       "      <td>-7.0213</td>\n",
       "      <td>-7.0840</td>\n",
       "    </tr>\n",
       "    <tr>\n",
       "      <th>jes_relative_stat_fsr</th>\n",
       "      <td>-7.4717</td>\n",
       "      <td>-7.0609</td>\n",
       "    </tr>\n",
       "    <tr>\n",
       "      <th>btag_ptrel</th>\n",
       "      <td>-7.7432</td>\n",
       "      <td>-7.0586</td>\n",
       "    </tr>\n",
       "    <tr>\n",
       "      <th>btag_mudr</th>\n",
       "      <td>-7.7696</td>\n",
       "      <td>-7.0508</td>\n",
       "    </tr>\n",
       "    <tr>\n",
       "      <th>jes_pileup_data_mc</th>\n",
       "      <td>-6.8354</td>\n",
       "      <td>-7.0450</td>\n",
       "    </tr>\n",
       "    <tr>\n",
       "      <th>br_tau_h</th>\n",
       "      <td>-7.3747</td>\n",
       "      <td>-7.0235</td>\n",
       "    </tr>\n",
       "    <tr>\n",
       "      <th>escale_tau_1</th>\n",
       "      <td>-6.9236</td>\n",
       "      <td>-7.0200</td>\n",
       "    </tr>\n",
       "    <tr>\n",
       "      <th>xs_zjets_alt_qcd_scale_1</th>\n",
       "      <td>-6.8222</td>\n",
       "      <td>-7.0187</td>\n",
       "    </tr>\n",
       "    <tr>\n",
       "      <th>misid_tau_1</th>\n",
       "      <td>-8.5996</td>\n",
       "      <td>-7.0156</td>\n",
       "    </tr>\n",
       "    <tr>\n",
       "      <th>jes_pileup_pt_ref</th>\n",
       "      <td>-6.2101</td>\n",
       "      <td>-6.9901</td>\n",
       "    </tr>\n",
       "    <tr>\n",
       "      <th>trigger_e_1</th>\n",
       "      <td>-7.1863</td>\n",
       "      <td>-6.9899</td>\n",
       "    </tr>\n",
       "    <tr>\n",
       "      <th>jes_relative_pt_ec1</th>\n",
       "      <td>-7.3023</td>\n",
       "      <td>-6.9688</td>\n",
       "    </tr>\n",
       "    <tr>\n",
       "      <th>eff_mu_1</th>\n",
       "      <td>-7.5714</td>\n",
       "      <td>-6.9501</td>\n",
       "    </tr>\n",
       "    <tr>\n",
       "      <th>eff_e_0</th>\n",
       "      <td>-7.3113</td>\n",
       "      <td>-6.9492</td>\n",
       "    </tr>\n",
       "    <tr>\n",
       "      <th>btag_dmux</th>\n",
       "      <td>-7.0267</td>\n",
       "      <td>-6.9479</td>\n",
       "    </tr>\n",
       "    <tr>\n",
       "      <th>mu_fakes</th>\n",
       "      <td>-6.2554</td>\n",
       "      <td>-6.9045</td>\n",
       "    </tr>\n",
       "    <tr>\n",
       "      <th>eff_reco_e</th>\n",
       "      <td>-6.8832</td>\n",
       "      <td>-6.8824</td>\n",
       "    </tr>\n",
       "    <tr>\n",
       "      <th>eff_e_4</th>\n",
       "      <td>-6.9147</td>\n",
       "      <td>-6.8776</td>\n",
       "    </tr>\n",
       "    <tr>\n",
       "      <th>btag_gluonsplitting</th>\n",
       "      <td>-7.5940</td>\n",
       "      <td>-6.8681</td>\n",
       "    </tr>\n",
       "    <tr>\n",
       "      <th>trigger_e_3</th>\n",
       "      <td>-6.6748</td>\n",
       "      <td>-6.8607</td>\n",
       "    </tr>\n",
       "    <tr>\n",
       "      <th>jes_flavor_qcd</th>\n",
       "      <td>-5.0858</td>\n",
       "      <td>-6.8566</td>\n",
       "    </tr>\n",
       "    <tr>\n",
       "      <th>trigger_e_tag</th>\n",
       "      <td>-6.9023</td>\n",
       "      <td>-6.8513</td>\n",
       "    </tr>\n",
       "    <tr>\n",
       "      <th>trigger_e_0</th>\n",
       "      <td>-7.2975</td>\n",
       "      <td>-6.8484</td>\n",
       "    </tr>\n",
       "    <tr>\n",
       "      <th>eff_id_mu</th>\n",
       "      <td>-7.2057</td>\n",
       "      <td>-6.8453</td>\n",
       "    </tr>\n",
       "    <tr>\n",
       "      <th>xs_zjets_alt_qcd_scale_0</th>\n",
       "      <td>-6.1030</td>\n",
       "      <td>-6.8065</td>\n",
       "    </tr>\n",
       "    <tr>\n",
       "      <th>xs_ttbar_alpha_s</th>\n",
       "      <td>-7.2280</td>\n",
       "      <td>-6.7539</td>\n",
       "    </tr>\n",
       "    <tr>\n",
       "      <th>eff_mu_0</th>\n",
       "      <td>-8.1412</td>\n",
       "      <td>-6.7332</td>\n",
       "    </tr>\n",
       "    <tr>\n",
       "      <th>jes_relative_jer_ec1</th>\n",
       "      <td>-7.7278</td>\n",
       "      <td>-6.7331</td>\n",
       "    </tr>\n",
       "    <tr>\n",
       "      <th>lumi</th>\n",
       "      <td>-5.4794</td>\n",
       "      <td>-6.7071</td>\n",
       "    </tr>\n",
       "    <tr>\n",
       "      <th>xs_ww</th>\n",
       "      <td>-7.2913</td>\n",
       "      <td>-6.7011</td>\n",
       "    </tr>\n",
       "    <tr>\n",
       "      <th>eff_id_e</th>\n",
       "      <td>-7.3974</td>\n",
       "      <td>-6.6773</td>\n",
       "    </tr>\n",
       "    <tr>\n",
       "      <th>jes_abs_stat</th>\n",
       "      <td>-6.7822</td>\n",
       "      <td>-6.6692</td>\n",
       "    </tr>\n",
       "    <tr>\n",
       "      <th>isr</th>\n",
       "      <td>-6.3727</td>\n",
       "      <td>-6.6658</td>\n",
       "    </tr>\n",
       "    <tr>\n",
       "      <th>xs_zjets_alt_alpha_s</th>\n",
       "      <td>-6.7796</td>\n",
       "      <td>-6.6417</td>\n",
       "    </tr>\n",
       "    <tr>\n",
       "      <th>jes_fragmentation</th>\n",
       "      <td>-7.2938</td>\n",
       "      <td>-6.6291</td>\n",
       "    </tr>\n",
       "    <tr>\n",
       "      <th>jes_abs_mpf_bias</th>\n",
       "      <td>-7.5889</td>\n",
       "      <td>-6.6287</td>\n",
       "    </tr>\n",
       "    <tr>\n",
       "      <th>misid_tau_2</th>\n",
       "      <td>-7.2925</td>\n",
       "      <td>-6.6256</td>\n",
       "    </tr>\n",
       "    <tr>\n",
       "      <th>xs_ttbar_pdf</th>\n",
       "      <td>-7.0208</td>\n",
       "      <td>-6.6180</td>\n",
       "    </tr>\n",
       "    <tr>\n",
       "      <th>xs_wjets</th>\n",
       "      <td>-6.9530</td>\n",
       "      <td>-6.5667</td>\n",
       "    </tr>\n",
       "    <tr>\n",
       "      <th>mu_fakes_ss</th>\n",
       "      <td>-7.1810</td>\n",
       "      <td>-6.5664</td>\n",
       "    </tr>\n",
       "    <tr>\n",
       "      <th>eff_tau_1</th>\n",
       "      <td>-7.5843</td>\n",
       "      <td>-6.5654</td>\n",
       "    </tr>\n",
       "    <tr>\n",
       "      <th>btag_statistic</th>\n",
       "      <td>-6.8980</td>\n",
       "      <td>-6.5581</td>\n",
       "    </tr>\n",
       "    <tr>\n",
       "      <th>escale_tau_0</th>\n",
       "      <td>-6.8617</td>\n",
       "      <td>-6.5362</td>\n",
       "    </tr>\n",
       "    <tr>\n",
       "      <th>xs_t</th>\n",
       "      <td>-6.5702</td>\n",
       "      <td>-6.5194</td>\n",
       "    </tr>\n",
       "    <tr>\n",
       "      <th>jes_abs_scale</th>\n",
       "      <td>-7.2243</td>\n",
       "      <td>-6.5184</td>\n",
       "    </tr>\n",
       "    <tr>\n",
       "      <th>btag_jetaway</th>\n",
       "      <td>-7.3869</td>\n",
       "      <td>-6.4940</td>\n",
       "    </tr>\n",
       "    <tr>\n",
       "      <th>jes_single_pion_ecal</th>\n",
       "      <td>-7.0919</td>\n",
       "      <td>-6.4035</td>\n",
       "    </tr>\n",
       "    <tr>\n",
       "      <th>eff_tau_0</th>\n",
       "      <td>-7.2073</td>\n",
       "      <td>-6.3995</td>\n",
       "    </tr>\n",
       "    <tr>\n",
       "      <th>jer</th>\n",
       "      <td>-6.8180</td>\n",
       "      <td>-6.3251</td>\n",
       "    </tr>\n",
       "    <tr>\n",
       "      <th>jes_relative_stat_ec</th>\n",
       "      <td>-7.5727</td>\n",
       "      <td>-6.2918</td>\n",
       "    </tr>\n",
       "    <tr>\n",
       "      <th>jes_single_pion_hcal</th>\n",
       "      <td>-7.1774</td>\n",
       "      <td>-6.0894</td>\n",
       "    </tr>\n",
       "    <tr>\n",
       "      <th>misid_tau_h</th>\n",
       "      <td>-7.7510</td>\n",
       "      <td>-5.8101</td>\n",
       "    </tr>\n",
       "    <tr>\n",
       "      <th>eff_tau_4</th>\n",
       "      <td>-6.1847</td>\n",
       "      <td>-5.7574</td>\n",
       "    </tr>\n",
       "    <tr>\n",
       "      <th>fsr</th>\n",
       "      <td>-7.2883</td>\n",
       "      <td>-5.6131</td>\n",
       "    </tr>\n",
       "    <tr>\n",
       "      <th>eff_tau_3</th>\n",
       "      <td>-6.2861</td>\n",
       "      <td>-5.2856</td>\n",
       "    </tr>\n",
       "    <tr>\n",
       "      <th>eff_tau_2</th>\n",
       "      <td>-6.6393</td>\n",
       "      <td>-5.0803</td>\n",
       "    </tr>\n",
       "    <tr>\n",
       "      <th>escale_e</th>\n",
       "      <td>-4.8326</td>\n",
       "      <td>-4.9601</td>\n",
       "    </tr>\n",
       "    <tr>\n",
       "      <th>xs_ttbar_qcd_scale</th>\n",
       "      <td>-5.3903</td>\n",
       "      <td>-4.6784</td>\n",
       "    </tr>\n",
       "    <tr>\n",
       "      <th>eff_tau_5</th>\n",
       "      <td>-4.8242</td>\n",
       "      <td>-3.4449</td>\n",
       "    </tr>\n",
       "    <tr>\n",
       "      <th>top_pt</th>\n",
       "      <td>-0.6879</td>\n",
       "      <td>-0.9384</td>\n",
       "    </tr>\n",
       "  </tbody>\n",
       "</table>\n",
       "</div>"
      ],
      "text/plain": [
       "                          beta_tau_up  beta_tau_down\n",
       "hdamp                         -7.1417        -8.2200\n",
       "misid_tau_3                   -7.7205        -8.1382\n",
       "eff_e_1                       -6.7235        -8.1318\n",
       "e_fakes                       -8.2613        -8.1139\n",
       "eff_mu_6                      -6.9934        -8.0877\n",
       "jes_time_pt_eta               -6.1225        -8.0560\n",
       "misid_tau_0                   -7.1566        -7.9935\n",
       "eff_e_5                       -7.0605        -7.9807\n",
       "eff_mu_5                      -6.5515        -7.9374\n",
       "eff_mu_7                      -6.8706        -7.9220\n",
       "eff_mu_4                      -7.4106        -7.9062\n",
       "btag_pileup                   -7.4482        -7.8715\n",
       "eff_e_2                       -7.4036        -7.7431\n",
       "ww_scale                      -7.8217        -7.7360\n",
       "trigger_e_probe               -9.0715        -7.6820\n",
       "btag_cfragmentation           -7.5925        -7.6633\n",
       "misid_tau_4                   -6.9537        -7.6504\n",
       "tune                          -7.4724        -7.6039\n",
       "btag_mupt                     -7.8131        -7.5691\n",
       "eff_mu_2                      -7.4953        -7.5493\n",
       "btag_l2c                      -7.8192        -7.5352\n",
       "e_fakes_ss                    -7.4543        -7.5089\n",
       "mistag                        -7.9245        -7.4883\n",
       "trigger_mu                    -7.2736        -7.4749\n",
       "xs_zjets_alt_pdf              -7.5902        -7.4709\n",
       "btag_bfragmentation           -7.1531        -7.4565\n",
       "br_tau_mu                     -6.9483        -7.4501\n",
       "ctag                          -7.2311        -7.4465\n",
       "ww_resum                      -7.0533        -7.4449\n",
       "eff_e_3                       -6.9470        -7.3981\n",
       "jes_relative_bal              -6.4781        -7.3600\n",
       "btag_sampledependence         -6.1754        -7.3407\n",
       "jes_pileup_pt_bb              -7.0235        -7.3129\n",
       "btag_jes                      -7.1509        -7.3019\n",
       "eff_mu_3                      -7.3856        -7.2930\n",
       "jes_pileup_pt_ec1             -7.0801        -7.2875\n",
       "escale_mu                     -7.2354        -7.2761\n",
       "misid_tau_5                   -7.3411        -7.2746\n",
       "misid_tau_e                   -8.1221        -7.2583\n",
       "trigger_e_4                   -7.2652        -7.2363\n",
       "btag_btempcorr                -7.3969        -7.2355\n",
       "trigger_e_5                   -7.6250        -7.2268\n",
       "escale_tau_10                 -6.1038        -7.1966\n",
       "xs_zjets_alt_qcd_scale_2      -7.1149        -7.1862\n",
       "btag_cb                       -7.5461        -7.1835\n",
       "trigger_e_2                   -6.6829        -7.1730\n",
       "btag_ksl                      -7.5964        -7.1728\n",
       "jes_relative_pt_bb            -6.8995        -7.1719\n",
       "btag_ltothers                 -7.2159        -7.1492\n",
       "br_tau_e                      -7.1652        -7.1408\n",
       "pileup                        -6.8376        -7.1258\n",
       "eff_iso_mu                    -7.4522        -7.1049\n",
       "xs_diboson                    -7.0213        -7.0840\n",
       "jes_relative_stat_fsr         -7.4717        -7.0609\n",
       "btag_ptrel                    -7.7432        -7.0586\n",
       "btag_mudr                     -7.7696        -7.0508\n",
       "jes_pileup_data_mc            -6.8354        -7.0450\n",
       "br_tau_h                      -7.3747        -7.0235\n",
       "escale_tau_1                  -6.9236        -7.0200\n",
       "xs_zjets_alt_qcd_scale_1      -6.8222        -7.0187\n",
       "misid_tau_1                   -8.5996        -7.0156\n",
       "jes_pileup_pt_ref             -6.2101        -6.9901\n",
       "trigger_e_1                   -7.1863        -6.9899\n",
       "jes_relative_pt_ec1           -7.3023        -6.9688\n",
       "eff_mu_1                      -7.5714        -6.9501\n",
       "eff_e_0                       -7.3113        -6.9492\n",
       "btag_dmux                     -7.0267        -6.9479\n",
       "mu_fakes                      -6.2554        -6.9045\n",
       "eff_reco_e                    -6.8832        -6.8824\n",
       "eff_e_4                       -6.9147        -6.8776\n",
       "btag_gluonsplitting           -7.5940        -6.8681\n",
       "trigger_e_3                   -6.6748        -6.8607\n",
       "jes_flavor_qcd                -5.0858        -6.8566\n",
       "trigger_e_tag                 -6.9023        -6.8513\n",
       "trigger_e_0                   -7.2975        -6.8484\n",
       "eff_id_mu                     -7.2057        -6.8453\n",
       "xs_zjets_alt_qcd_scale_0      -6.1030        -6.8065\n",
       "xs_ttbar_alpha_s              -7.2280        -6.7539\n",
       "eff_mu_0                      -8.1412        -6.7332\n",
       "jes_relative_jer_ec1          -7.7278        -6.7331\n",
       "lumi                          -5.4794        -6.7071\n",
       "xs_ww                         -7.2913        -6.7011\n",
       "eff_id_e                      -7.3974        -6.6773\n",
       "jes_abs_stat                  -6.7822        -6.6692\n",
       "isr                           -6.3727        -6.6658\n",
       "xs_zjets_alt_alpha_s          -6.7796        -6.6417\n",
       "jes_fragmentation             -7.2938        -6.6291\n",
       "jes_abs_mpf_bias              -7.5889        -6.6287\n",
       "misid_tau_2                   -7.2925        -6.6256\n",
       "xs_ttbar_pdf                  -7.0208        -6.6180\n",
       "xs_wjets                      -6.9530        -6.5667\n",
       "mu_fakes_ss                   -7.1810        -6.5664\n",
       "eff_tau_1                     -7.5843        -6.5654\n",
       "btag_statistic                -6.8980        -6.5581\n",
       "escale_tau_0                  -6.8617        -6.5362\n",
       "xs_t                          -6.5702        -6.5194\n",
       "jes_abs_scale                 -7.2243        -6.5184\n",
       "btag_jetaway                  -7.3869        -6.4940\n",
       "jes_single_pion_ecal          -7.0919        -6.4035\n",
       "eff_tau_0                     -7.2073        -6.3995\n",
       "jer                           -6.8180        -6.3251\n",
       "jes_relative_stat_ec          -7.5727        -6.2918\n",
       "jes_single_pion_hcal          -7.1774        -6.0894\n",
       "misid_tau_h                   -7.7510        -5.8101\n",
       "eff_tau_4                     -6.1847        -5.7574\n",
       "fsr                           -7.2883        -5.6131\n",
       "eff_tau_3                     -6.2861        -5.2856\n",
       "eff_tau_2                     -6.6393        -5.0803\n",
       "escale_e                      -4.8326        -4.9601\n",
       "xs_ttbar_qcd_scale            -5.3903        -4.6784\n",
       "eff_tau_5                     -4.8242        -3.4449\n",
       "top_pt                        -0.6879        -0.9384"
      ]
     },
     "execution_count": 10,
     "metadata": {},
     "output_type": "execute_result"
    }
   ],
   "source": [
    "# convert impacts to dataframes \n",
    "impacts_np = np.hstack([100*(impacts[:,0,:4] - p_fit[:4])/p_fit[:4], 100*(impacts[:,1,:4] - p_fit[:4])/p_fit[:4]])\n",
    "\n",
    "#impacts_up = pd.DataFrame(impacts_np, columns=['beta_e_up', 'beta_mu_up', 'beta_tau_up', 'beta_h_up'], index=list(p_labels_fancy[4:]))\n",
    "p_labels = parameters.query('active == 1').index.values[4:]\n",
    "impacts_np = pd.DataFrame(impacts_np, columns=['beta_e_up', 'beta_mu_up', 'beta_tau_up', 'beta_h_up', 'beta_e_down', 'beta_mu_down', 'beta_tau_down', 'beta_h_down'], index=list(p_labels))\n",
    "impacts_np.to_csv('local_data/impacts_asimov.csv')\n",
    "\n",
    "pd.set_option('display.float_format', lambda x: '%.4f' % x)\n",
    "pd.set_option('display.max_columns', parameters.shape[0])\n",
    "pd.set_option('display.max_rows', parameters.shape[0])\n",
    "\n",
    "var = 'beta_tau'\n",
    "sorted_ind = impacts_np.abs().sort_values(by=f'{var}_down', ascending=False).index\n",
    "impacts_np.reindex(sorted_ind)[['beta_tau_up', 'beta_tau_down']]"
   ]
  },
  {
   "cell_type": "code",
   "execution_count": 8,
   "metadata": {
    "ExecuteTime": {
     "end_time": "2020-03-01T11:53:24.020928Z",
     "start_time": "2020-03-01T11:53:23.995642Z"
    },
    "code_folding": [],
    "scrolled": true
   },
   "outputs": [
    {
     "data": {
      "text/html": [
       "<div>\n",
       "<style scoped>\n",
       "    .dataframe tbody tr th:only-of-type {\n",
       "        vertical-align: middle;\n",
       "    }\n",
       "\n",
       "    .dataframe tbody tr th {\n",
       "        vertical-align: top;\n",
       "    }\n",
       "\n",
       "    .dataframe thead th {\n",
       "        text-align: right;\n",
       "    }\n",
       "</style>\n",
       "<table border=\"1\" class=\"dataframe\">\n",
       "  <thead>\n",
       "    <tr style=\"text-align: right;\">\n",
       "      <th></th>\n",
       "      <th>beta_e</th>\n",
       "      <th>beta_mu</th>\n",
       "      <th>beta_tau</th>\n",
       "      <th>beta_h</th>\n",
       "    </tr>\n",
       "  </thead>\n",
       "  <tbody>\n",
       "    <tr>\n",
       "      <th>br_tau_e</th>\n",
       "      <td>-0.0000</td>\n",
       "      <td>-0.0000</td>\n",
       "      <td>0.0002</td>\n",
       "      <td>0.0001</td>\n",
       "    </tr>\n",
       "    <tr>\n",
       "      <th>br_tau_mu</th>\n",
       "      <td>-0.0000</td>\n",
       "      <td>-0.0000</td>\n",
       "      <td>0.0002</td>\n",
       "      <td>0.0001</td>\n",
       "    </tr>\n",
       "    <tr>\n",
       "      <th>br_tau_h</th>\n",
       "      <td>-0.0000</td>\n",
       "      <td>-0.0000</td>\n",
       "      <td>0.0002</td>\n",
       "      <td>0.0001</td>\n",
       "    </tr>\n",
       "    <tr>\n",
       "      <th>lumi</th>\n",
       "      <td>-0.0000</td>\n",
       "      <td>-0.0000</td>\n",
       "      <td>0.0002</td>\n",
       "      <td>0.0001</td>\n",
       "    </tr>\n",
       "    <tr>\n",
       "      <th>xs_diboson</th>\n",
       "      <td>0.0000</td>\n",
       "      <td>0.0000</td>\n",
       "      <td>0.0005</td>\n",
       "      <td>0.0006</td>\n",
       "    </tr>\n",
       "    <tr>\n",
       "      <th>xs_ww</th>\n",
       "      <td>0.0000</td>\n",
       "      <td>0.0000</td>\n",
       "      <td>nan</td>\n",
       "      <td>nan</td>\n",
       "    </tr>\n",
       "    <tr>\n",
       "      <th>xs_t</th>\n",
       "      <td>0.0000</td>\n",
       "      <td>0.0000</td>\n",
       "      <td>0.0004</td>\n",
       "      <td>0.0006</td>\n",
       "    </tr>\n",
       "    <tr>\n",
       "      <th>xs_wjets</th>\n",
       "      <td>0.0000</td>\n",
       "      <td>0.0000</td>\n",
       "      <td>0.0001</td>\n",
       "      <td>0.0002</td>\n",
       "    </tr>\n",
       "    <tr>\n",
       "      <th>e_fakes</th>\n",
       "      <td>0.0000</td>\n",
       "      <td>-0.0000</td>\n",
       "      <td>0.0002</td>\n",
       "      <td>0.0006</td>\n",
       "    </tr>\n",
       "    <tr>\n",
       "      <th>mu_fakes</th>\n",
       "      <td>-0.0001</td>\n",
       "      <td>0.0000</td>\n",
       "      <td>0.0000</td>\n",
       "      <td>-0.0003</td>\n",
       "    </tr>\n",
       "    <tr>\n",
       "      <th>e_fakes_ss</th>\n",
       "      <td>-0.0001</td>\n",
       "      <td>0.0000</td>\n",
       "      <td>0.0002</td>\n",
       "      <td>0.0002</td>\n",
       "    </tr>\n",
       "    <tr>\n",
       "      <th>mu_fakes_ss</th>\n",
       "      <td>-0.0000</td>\n",
       "      <td>0.0000</td>\n",
       "      <td>0.0002</td>\n",
       "      <td>0.0002</td>\n",
       "    </tr>\n",
       "    <tr>\n",
       "      <th>trigger_mu</th>\n",
       "      <td>-0.0000</td>\n",
       "      <td>0.0000</td>\n",
       "      <td>0.0002</td>\n",
       "      <td>0.0002</td>\n",
       "    </tr>\n",
       "    <tr>\n",
       "      <th>xs_zjets_alt_pdf</th>\n",
       "      <td>0.0000</td>\n",
       "      <td>0.0000</td>\n",
       "      <td>nan</td>\n",
       "      <td>nan</td>\n",
       "    </tr>\n",
       "    <tr>\n",
       "      <th>xs_zjets_alt_alpha_s</th>\n",
       "      <td>-0.0001</td>\n",
       "      <td>0.0000</td>\n",
       "      <td>nan</td>\n",
       "      <td>0.0006</td>\n",
       "    </tr>\n",
       "    <tr>\n",
       "      <th>xs_zjets_alt_qcd_scale_0</th>\n",
       "      <td>nan</td>\n",
       "      <td>0.0000</td>\n",
       "      <td>nan</td>\n",
       "      <td>nan</td>\n",
       "    </tr>\n",
       "    <tr>\n",
       "      <th>xs_zjets_alt_qcd_scale_1</th>\n",
       "      <td>0.0000</td>\n",
       "      <td>0.0000</td>\n",
       "      <td>nan</td>\n",
       "      <td>nan</td>\n",
       "    </tr>\n",
       "    <tr>\n",
       "      <th>xs_zjets_alt_qcd_scale_2</th>\n",
       "      <td>0.0000</td>\n",
       "      <td>0.0000</td>\n",
       "      <td>0.0004</td>\n",
       "      <td>0.0008</td>\n",
       "    </tr>\n",
       "    <tr>\n",
       "      <th>xs_ttbar_pdf</th>\n",
       "      <td>0.0000</td>\n",
       "      <td>0.0000</td>\n",
       "      <td>0.0003</td>\n",
       "      <td>0.0005</td>\n",
       "    </tr>\n",
       "    <tr>\n",
       "      <th>xs_ttbar_alpha_s</th>\n",
       "      <td>0.0000</td>\n",
       "      <td>0.0000</td>\n",
       "      <td>0.0004</td>\n",
       "      <td>0.0007</td>\n",
       "    </tr>\n",
       "    <tr>\n",
       "      <th>xs_ttbar_qcd_scale</th>\n",
       "      <td>0.0000</td>\n",
       "      <td>0.0000</td>\n",
       "      <td>nan</td>\n",
       "      <td>nan</td>\n",
       "    </tr>\n",
       "    <tr>\n",
       "      <th>eff_tau_0</th>\n",
       "      <td>nan</td>\n",
       "      <td>nan</td>\n",
       "      <td>nan</td>\n",
       "      <td>nan</td>\n",
       "    </tr>\n",
       "    <tr>\n",
       "      <th>eff_tau_1</th>\n",
       "      <td>0.0001</td>\n",
       "      <td>nan</td>\n",
       "      <td>nan</td>\n",
       "      <td>0.0008</td>\n",
       "    </tr>\n",
       "    <tr>\n",
       "      <th>eff_tau_2</th>\n",
       "      <td>0.0001</td>\n",
       "      <td>0.0000</td>\n",
       "      <td>0.0003</td>\n",
       "      <td>0.0007</td>\n",
       "    </tr>\n",
       "    <tr>\n",
       "      <th>eff_tau_3</th>\n",
       "      <td>0.0001</td>\n",
       "      <td>nan</td>\n",
       "      <td>nan</td>\n",
       "      <td>0.0008</td>\n",
       "    </tr>\n",
       "    <tr>\n",
       "      <th>eff_tau_4</th>\n",
       "      <td>0.0001</td>\n",
       "      <td>nan</td>\n",
       "      <td>0.0005</td>\n",
       "      <td>0.0008</td>\n",
       "    </tr>\n",
       "    <tr>\n",
       "      <th>eff_tau_5</th>\n",
       "      <td>0.0001</td>\n",
       "      <td>nan</td>\n",
       "      <td>nan</td>\n",
       "      <td>0.0008</td>\n",
       "    </tr>\n",
       "    <tr>\n",
       "      <th>misid_tau_e</th>\n",
       "      <td>-0.0000</td>\n",
       "      <td>-0.0002</td>\n",
       "      <td>-0.0031</td>\n",
       "      <td>-0.0004</td>\n",
       "    </tr>\n",
       "    <tr>\n",
       "      <th>misid_tau_h</th>\n",
       "      <td>-0.0000</td>\n",
       "      <td>-0.0001</td>\n",
       "      <td>-0.0020</td>\n",
       "      <td>-0.0000</td>\n",
       "    </tr>\n",
       "    <tr>\n",
       "      <th>misid_tau_0</th>\n",
       "      <td>nan</td>\n",
       "      <td>nan</td>\n",
       "      <td>nan</td>\n",
       "      <td>nan</td>\n",
       "    </tr>\n",
       "    <tr>\n",
       "      <th>misid_tau_1</th>\n",
       "      <td>nan</td>\n",
       "      <td>nan</td>\n",
       "      <td>nan</td>\n",
       "      <td>nan</td>\n",
       "    </tr>\n",
       "    <tr>\n",
       "      <th>misid_tau_2</th>\n",
       "      <td>nan</td>\n",
       "      <td>nan</td>\n",
       "      <td>nan</td>\n",
       "      <td>nan</td>\n",
       "    </tr>\n",
       "    <tr>\n",
       "      <th>misid_tau_3</th>\n",
       "      <td>nan</td>\n",
       "      <td>nan</td>\n",
       "      <td>nan</td>\n",
       "      <td>nan</td>\n",
       "    </tr>\n",
       "    <tr>\n",
       "      <th>misid_tau_4</th>\n",
       "      <td>nan</td>\n",
       "      <td>nan</td>\n",
       "      <td>nan</td>\n",
       "      <td>nan</td>\n",
       "    </tr>\n",
       "    <tr>\n",
       "      <th>misid_tau_5</th>\n",
       "      <td>nan</td>\n",
       "      <td>nan</td>\n",
       "      <td>nan</td>\n",
       "      <td>nan</td>\n",
       "    </tr>\n",
       "    <tr>\n",
       "      <th>escale_tau_0</th>\n",
       "      <td>nan</td>\n",
       "      <td>nan</td>\n",
       "      <td>nan</td>\n",
       "      <td>nan</td>\n",
       "    </tr>\n",
       "    <tr>\n",
       "      <th>escale_tau_1</th>\n",
       "      <td>nan</td>\n",
       "      <td>nan</td>\n",
       "      <td>nan</td>\n",
       "      <td>nan</td>\n",
       "    </tr>\n",
       "    <tr>\n",
       "      <th>escale_tau_10</th>\n",
       "      <td>-0.0001</td>\n",
       "      <td>-0.0003</td>\n",
       "      <td>-0.0035</td>\n",
       "      <td>-0.0003</td>\n",
       "    </tr>\n",
       "    <tr>\n",
       "      <th>eff_reco_e</th>\n",
       "      <td>-0.0001</td>\n",
       "      <td>-0.0002</td>\n",
       "      <td>-0.0030</td>\n",
       "      <td>-0.0002</td>\n",
       "    </tr>\n",
       "    <tr>\n",
       "      <th>eff_id_e</th>\n",
       "      <td>0.0001</td>\n",
       "      <td>0.0000</td>\n",
       "      <td>0.0003</td>\n",
       "      <td>0.0007</td>\n",
       "    </tr>\n",
       "    <tr>\n",
       "      <th>eff_e_0</th>\n",
       "      <td>0.0001</td>\n",
       "      <td>0.0000</td>\n",
       "      <td>0.0004</td>\n",
       "      <td>0.0007</td>\n",
       "    </tr>\n",
       "    <tr>\n",
       "      <th>eff_e_1</th>\n",
       "      <td>0.0001</td>\n",
       "      <td>0.0000</td>\n",
       "      <td>0.0004</td>\n",
       "      <td>0.0007</td>\n",
       "    </tr>\n",
       "    <tr>\n",
       "      <th>eff_e_2</th>\n",
       "      <td>0.0001</td>\n",
       "      <td>0.0000</td>\n",
       "      <td>0.0004</td>\n",
       "      <td>0.0007</td>\n",
       "    </tr>\n",
       "    <tr>\n",
       "      <th>eff_e_3</th>\n",
       "      <td>0.0001</td>\n",
       "      <td>0.0000</td>\n",
       "      <td>0.0003</td>\n",
       "      <td>0.0007</td>\n",
       "    </tr>\n",
       "    <tr>\n",
       "      <th>eff_e_4</th>\n",
       "      <td>0.0001</td>\n",
       "      <td>0.0000</td>\n",
       "      <td>0.0003</td>\n",
       "      <td>0.0007</td>\n",
       "    </tr>\n",
       "    <tr>\n",
       "      <th>eff_e_5</th>\n",
       "      <td>0.0000</td>\n",
       "      <td>0.0000</td>\n",
       "      <td>0.0003</td>\n",
       "      <td>0.0007</td>\n",
       "    </tr>\n",
       "    <tr>\n",
       "      <th>trigger_e_0</th>\n",
       "      <td>0.0001</td>\n",
       "      <td>0.0000</td>\n",
       "      <td>0.0004</td>\n",
       "      <td>0.0007</td>\n",
       "    </tr>\n",
       "    <tr>\n",
       "      <th>trigger_e_1</th>\n",
       "      <td>0.0001</td>\n",
       "      <td>0.0000</td>\n",
       "      <td>0.0004</td>\n",
       "      <td>0.0007</td>\n",
       "    </tr>\n",
       "    <tr>\n",
       "      <th>trigger_e_2</th>\n",
       "      <td>0.0001</td>\n",
       "      <td>0.0000</td>\n",
       "      <td>0.0004</td>\n",
       "      <td>0.0007</td>\n",
       "    </tr>\n",
       "    <tr>\n",
       "      <th>trigger_e_3</th>\n",
       "      <td>0.0001</td>\n",
       "      <td>0.0000</td>\n",
       "      <td>0.0004</td>\n",
       "      <td>0.0007</td>\n",
       "    </tr>\n",
       "    <tr>\n",
       "      <th>trigger_e_4</th>\n",
       "      <td>0.0001</td>\n",
       "      <td>0.0000</td>\n",
       "      <td>0.0004</td>\n",
       "      <td>0.0007</td>\n",
       "    </tr>\n",
       "    <tr>\n",
       "      <th>trigger_e_5</th>\n",
       "      <td>0.0001</td>\n",
       "      <td>0.0000</td>\n",
       "      <td>0.0004</td>\n",
       "      <td>0.0007</td>\n",
       "    </tr>\n",
       "    <tr>\n",
       "      <th>escale_e</th>\n",
       "      <td>0.0001</td>\n",
       "      <td>0.0000</td>\n",
       "      <td>0.0004</td>\n",
       "      <td>0.0007</td>\n",
       "    </tr>\n",
       "    <tr>\n",
       "      <th>trigger_e_tag</th>\n",
       "      <td>0.0000</td>\n",
       "      <td>0.0000</td>\n",
       "      <td>0.0003</td>\n",
       "      <td>0.0006</td>\n",
       "    </tr>\n",
       "    <tr>\n",
       "      <th>trigger_e_probe</th>\n",
       "      <td>0.0000</td>\n",
       "      <td>0.0000</td>\n",
       "      <td>0.0003</td>\n",
       "      <td>0.0006</td>\n",
       "    </tr>\n",
       "    <tr>\n",
       "      <th>eff_iso_mu</th>\n",
       "      <td>0.0000</td>\n",
       "      <td>0.0000</td>\n",
       "      <td>0.0003</td>\n",
       "      <td>0.0006</td>\n",
       "    </tr>\n",
       "    <tr>\n",
       "      <th>eff_id_mu</th>\n",
       "      <td>0.0000</td>\n",
       "      <td>0.0000</td>\n",
       "      <td>0.0003</td>\n",
       "      <td>0.0006</td>\n",
       "    </tr>\n",
       "    <tr>\n",
       "      <th>eff_mu_0</th>\n",
       "      <td>0.0000</td>\n",
       "      <td>0.0000</td>\n",
       "      <td>0.0003</td>\n",
       "      <td>0.0006</td>\n",
       "    </tr>\n",
       "    <tr>\n",
       "      <th>eff_mu_1</th>\n",
       "      <td>0.0000</td>\n",
       "      <td>0.0000</td>\n",
       "      <td>0.0003</td>\n",
       "      <td>0.0006</td>\n",
       "    </tr>\n",
       "    <tr>\n",
       "      <th>eff_mu_2</th>\n",
       "      <td>0.0000</td>\n",
       "      <td>0.0000</td>\n",
       "      <td>0.0003</td>\n",
       "      <td>0.0006</td>\n",
       "    </tr>\n",
       "    <tr>\n",
       "      <th>eff_mu_3</th>\n",
       "      <td>0.0000</td>\n",
       "      <td>0.0000</td>\n",
       "      <td>0.0003</td>\n",
       "      <td>0.0006</td>\n",
       "    </tr>\n",
       "    <tr>\n",
       "      <th>eff_mu_4</th>\n",
       "      <td>0.0000</td>\n",
       "      <td>0.0000</td>\n",
       "      <td>0.0003</td>\n",
       "      <td>0.0006</td>\n",
       "    </tr>\n",
       "    <tr>\n",
       "      <th>eff_mu_5</th>\n",
       "      <td>0.0000</td>\n",
       "      <td>0.0000</td>\n",
       "      <td>0.0003</td>\n",
       "      <td>0.0006</td>\n",
       "    </tr>\n",
       "    <tr>\n",
       "      <th>eff_mu_6</th>\n",
       "      <td>0.0000</td>\n",
       "      <td>0.0000</td>\n",
       "      <td>0.0003</td>\n",
       "      <td>0.0006</td>\n",
       "    </tr>\n",
       "    <tr>\n",
       "      <th>eff_mu_7</th>\n",
       "      <td>0.0000</td>\n",
       "      <td>0.0000</td>\n",
       "      <td>0.0003</td>\n",
       "      <td>0.0006</td>\n",
       "    </tr>\n",
       "    <tr>\n",
       "      <th>escale_mu</th>\n",
       "      <td>0.0000</td>\n",
       "      <td>0.0000</td>\n",
       "      <td>0.0003</td>\n",
       "      <td>0.0007</td>\n",
       "    </tr>\n",
       "    <tr>\n",
       "      <th>pileup</th>\n",
       "      <td>0.0000</td>\n",
       "      <td>0.0000</td>\n",
       "      <td>0.0003</td>\n",
       "      <td>0.0007</td>\n",
       "    </tr>\n",
       "    <tr>\n",
       "      <th>isr</th>\n",
       "      <td>0.0000</td>\n",
       "      <td>0.0000</td>\n",
       "      <td>0.0003</td>\n",
       "      <td>0.0007</td>\n",
       "    </tr>\n",
       "    <tr>\n",
       "      <th>fsr</th>\n",
       "      <td>0.0000</td>\n",
       "      <td>0.0000</td>\n",
       "      <td>0.0003</td>\n",
       "      <td>0.0007</td>\n",
       "    </tr>\n",
       "    <tr>\n",
       "      <th>hdamp</th>\n",
       "      <td>0.0000</td>\n",
       "      <td>0.0000</td>\n",
       "      <td>0.0003</td>\n",
       "      <td>0.0006</td>\n",
       "    </tr>\n",
       "    <tr>\n",
       "      <th>tune</th>\n",
       "      <td>0.0000</td>\n",
       "      <td>0.0000</td>\n",
       "      <td>0.0002</td>\n",
       "      <td>0.0006</td>\n",
       "    </tr>\n",
       "    <tr>\n",
       "      <th>ww_scale</th>\n",
       "      <td>0.0000</td>\n",
       "      <td>0.0000</td>\n",
       "      <td>0.0001</td>\n",
       "      <td>0.0004</td>\n",
       "    </tr>\n",
       "    <tr>\n",
       "      <th>ww_resum</th>\n",
       "      <td>0.0000</td>\n",
       "      <td>0.0000</td>\n",
       "      <td>0.0002</td>\n",
       "      <td>0.0005</td>\n",
       "    </tr>\n",
       "    <tr>\n",
       "      <th>top_pt</th>\n",
       "      <td>0.0001</td>\n",
       "      <td>0.0000</td>\n",
       "      <td>0.0004</td>\n",
       "      <td>0.0007</td>\n",
       "    </tr>\n",
       "    <tr>\n",
       "      <th>btag_bfragmentation</th>\n",
       "      <td>0.0001</td>\n",
       "      <td>0.0000</td>\n",
       "      <td>0.0004</td>\n",
       "      <td>0.0007</td>\n",
       "    </tr>\n",
       "    <tr>\n",
       "      <th>btag_btempcorr</th>\n",
       "      <td>0.0001</td>\n",
       "      <td>0.0000</td>\n",
       "      <td>0.0004</td>\n",
       "      <td>0.0007</td>\n",
       "    </tr>\n",
       "    <tr>\n",
       "      <th>btag_cb</th>\n",
       "      <td>0.0001</td>\n",
       "      <td>0.0000</td>\n",
       "      <td>0.0004</td>\n",
       "      <td>0.0007</td>\n",
       "    </tr>\n",
       "    <tr>\n",
       "      <th>btag_cfragmentation</th>\n",
       "      <td>0.0001</td>\n",
       "      <td>0.0000</td>\n",
       "      <td>0.0004</td>\n",
       "      <td>0.0007</td>\n",
       "    </tr>\n",
       "    <tr>\n",
       "      <th>btag_dmux</th>\n",
       "      <td>0.0001</td>\n",
       "      <td>0.0000</td>\n",
       "      <td>0.0004</td>\n",
       "      <td>0.0007</td>\n",
       "    </tr>\n",
       "    <tr>\n",
       "      <th>btag_gluonsplitting</th>\n",
       "      <td>0.0001</td>\n",
       "      <td>0.0000</td>\n",
       "      <td>0.0004</td>\n",
       "      <td>0.0007</td>\n",
       "    </tr>\n",
       "    <tr>\n",
       "      <th>btag_jes</th>\n",
       "      <td>0.0001</td>\n",
       "      <td>0.0000</td>\n",
       "      <td>0.0004</td>\n",
       "      <td>0.0007</td>\n",
       "    </tr>\n",
       "    <tr>\n",
       "      <th>btag_jetaway</th>\n",
       "      <td>0.0001</td>\n",
       "      <td>0.0000</td>\n",
       "      <td>0.0004</td>\n",
       "      <td>0.0007</td>\n",
       "    </tr>\n",
       "    <tr>\n",
       "      <th>btag_ksl</th>\n",
       "      <td>0.0001</td>\n",
       "      <td>0.0000</td>\n",
       "      <td>0.0004</td>\n",
       "      <td>0.0007</td>\n",
       "    </tr>\n",
       "    <tr>\n",
       "      <th>btag_l2c</th>\n",
       "      <td>0.0001</td>\n",
       "      <td>0.0000</td>\n",
       "      <td>0.0004</td>\n",
       "      <td>0.0007</td>\n",
       "    </tr>\n",
       "    <tr>\n",
       "      <th>btag_ltothers</th>\n",
       "      <td>0.0001</td>\n",
       "      <td>0.0000</td>\n",
       "      <td>0.0004</td>\n",
       "      <td>0.0007</td>\n",
       "    </tr>\n",
       "    <tr>\n",
       "      <th>btag_mudr</th>\n",
       "      <td>0.0001</td>\n",
       "      <td>0.0000</td>\n",
       "      <td>0.0004</td>\n",
       "      <td>0.0007</td>\n",
       "    </tr>\n",
       "    <tr>\n",
       "      <th>btag_mupt</th>\n",
       "      <td>0.0001</td>\n",
       "      <td>0.0000</td>\n",
       "      <td>0.0004</td>\n",
       "      <td>0.0007</td>\n",
       "    </tr>\n",
       "    <tr>\n",
       "      <th>btag_ptrel</th>\n",
       "      <td>0.0001</td>\n",
       "      <td>0.0000</td>\n",
       "      <td>0.0004</td>\n",
       "      <td>0.0007</td>\n",
       "    </tr>\n",
       "    <tr>\n",
       "      <th>btag_sampledependence</th>\n",
       "      <td>0.0001</td>\n",
       "      <td>0.0000</td>\n",
       "      <td>0.0004</td>\n",
       "      <td>0.0007</td>\n",
       "    </tr>\n",
       "    <tr>\n",
       "      <th>btag_pileup</th>\n",
       "      <td>0.0001</td>\n",
       "      <td>0.0000</td>\n",
       "      <td>0.0004</td>\n",
       "      <td>0.0007</td>\n",
       "    </tr>\n",
       "    <tr>\n",
       "      <th>btag_statistic</th>\n",
       "      <td>0.0001</td>\n",
       "      <td>0.0000</td>\n",
       "      <td>0.0004</td>\n",
       "      <td>0.0007</td>\n",
       "    </tr>\n",
       "    <tr>\n",
       "      <th>ctag</th>\n",
       "      <td>0.0001</td>\n",
       "      <td>0.0000</td>\n",
       "      <td>0.0004</td>\n",
       "      <td>0.0008</td>\n",
       "    </tr>\n",
       "    <tr>\n",
       "      <th>mistag</th>\n",
       "      <td>0.0001</td>\n",
       "      <td>0.0000</td>\n",
       "      <td>0.0004</td>\n",
       "      <td>0.0007</td>\n",
       "    </tr>\n",
       "    <tr>\n",
       "      <th>jer</th>\n",
       "      <td>0.0001</td>\n",
       "      <td>0.0000</td>\n",
       "      <td>0.0005</td>\n",
       "      <td>0.0008</td>\n",
       "    </tr>\n",
       "    <tr>\n",
       "      <th>jes_abs_scale</th>\n",
       "      <td>0.0001</td>\n",
       "      <td>0.0000</td>\n",
       "      <td>nan</td>\n",
       "      <td>nan</td>\n",
       "    </tr>\n",
       "    <tr>\n",
       "      <th>jes_abs_stat</th>\n",
       "      <td>0.0001</td>\n",
       "      <td>0.0000</td>\n",
       "      <td>0.0005</td>\n",
       "      <td>0.0008</td>\n",
       "    </tr>\n",
       "    <tr>\n",
       "      <th>jes_fragmentation</th>\n",
       "      <td>nan</td>\n",
       "      <td>nan</td>\n",
       "      <td>nan</td>\n",
       "      <td>nan</td>\n",
       "    </tr>\n",
       "    <tr>\n",
       "      <th>jes_abs_mpf_bias</th>\n",
       "      <td>0.0001</td>\n",
       "      <td>0.0000</td>\n",
       "      <td>0.0004</td>\n",
       "      <td>0.0007</td>\n",
       "    </tr>\n",
       "    <tr>\n",
       "      <th>jes_pileup_data_mc</th>\n",
       "      <td>0.0001</td>\n",
       "      <td>0.0000</td>\n",
       "      <td>0.0004</td>\n",
       "      <td>0.0007</td>\n",
       "    </tr>\n",
       "    <tr>\n",
       "      <th>jes_pileup_pt_bb</th>\n",
       "      <td>0.0001</td>\n",
       "      <td>0.0000</td>\n",
       "      <td>0.0004</td>\n",
       "      <td>0.0007</td>\n",
       "    </tr>\n",
       "    <tr>\n",
       "      <th>jes_pileup_pt_ec1</th>\n",
       "      <td>0.0001</td>\n",
       "      <td>0.0000</td>\n",
       "      <td>0.0004</td>\n",
       "      <td>0.0007</td>\n",
       "    </tr>\n",
       "    <tr>\n",
       "      <th>jes_pileup_pt_ref</th>\n",
       "      <td>0.0001</td>\n",
       "      <td>0.0000</td>\n",
       "      <td>0.0004</td>\n",
       "      <td>0.0007</td>\n",
       "    </tr>\n",
       "    <tr>\n",
       "      <th>jes_relative_bal</th>\n",
       "      <td>0.0001</td>\n",
       "      <td>0.0000</td>\n",
       "      <td>0.0004</td>\n",
       "      <td>0.0007</td>\n",
       "    </tr>\n",
       "    <tr>\n",
       "      <th>jes_relative_jer_ec1</th>\n",
       "      <td>0.0000</td>\n",
       "      <td>0.0000</td>\n",
       "      <td>0.0004</td>\n",
       "      <td>0.0007</td>\n",
       "    </tr>\n",
       "    <tr>\n",
       "      <th>jes_relative_pt_bb</th>\n",
       "      <td>0.0000</td>\n",
       "      <td>0.0000</td>\n",
       "      <td>0.0004</td>\n",
       "      <td>0.0007</td>\n",
       "    </tr>\n",
       "    <tr>\n",
       "      <th>jes_relative_pt_ec1</th>\n",
       "      <td>0.0001</td>\n",
       "      <td>0.0000</td>\n",
       "      <td>0.0004</td>\n",
       "      <td>0.0007</td>\n",
       "    </tr>\n",
       "    <tr>\n",
       "      <th>jes_relative_stat_fsr</th>\n",
       "      <td>0.0000</td>\n",
       "      <td>0.0000</td>\n",
       "      <td>0.0004</td>\n",
       "      <td>0.0007</td>\n",
       "    </tr>\n",
       "    <tr>\n",
       "      <th>jes_relative_stat_ec</th>\n",
       "      <td>0.0000</td>\n",
       "      <td>0.0000</td>\n",
       "      <td>0.0004</td>\n",
       "      <td>0.0007</td>\n",
       "    </tr>\n",
       "    <tr>\n",
       "      <th>jes_single_pion_ecal</th>\n",
       "      <td>0.0001</td>\n",
       "      <td>0.0000</td>\n",
       "      <td>0.0004</td>\n",
       "      <td>0.0007</td>\n",
       "    </tr>\n",
       "    <tr>\n",
       "      <th>jes_single_pion_hcal</th>\n",
       "      <td>0.0001</td>\n",
       "      <td>0.0000</td>\n",
       "      <td>0.0004</td>\n",
       "      <td>0.0007</td>\n",
       "    </tr>\n",
       "    <tr>\n",
       "      <th>jes_time_pt_eta</th>\n",
       "      <td>nan</td>\n",
       "      <td>nan</td>\n",
       "      <td>nan</td>\n",
       "      <td>nan</td>\n",
       "    </tr>\n",
       "    <tr>\n",
       "      <th>jes_flavor_qcd</th>\n",
       "      <td>0.0001</td>\n",
       "      <td>0.0000</td>\n",
       "      <td>0.0004</td>\n",
       "      <td>0.0007</td>\n",
       "    </tr>\n",
       "  </tbody>\n",
       "</table>\n",
       "</div>"
      ],
      "text/plain": [
       "                          beta_e  beta_mu  beta_tau  beta_h\n",
       "br_tau_e                 -0.0000  -0.0000    0.0002  0.0001\n",
       "br_tau_mu                -0.0000  -0.0000    0.0002  0.0001\n",
       "br_tau_h                 -0.0000  -0.0000    0.0002  0.0001\n",
       "lumi                     -0.0000  -0.0000    0.0002  0.0001\n",
       "xs_diboson                0.0000   0.0000    0.0005  0.0006\n",
       "xs_ww                     0.0000   0.0000       nan     nan\n",
       "xs_t                      0.0000   0.0000    0.0004  0.0006\n",
       "xs_wjets                  0.0000   0.0000    0.0001  0.0002\n",
       "e_fakes                   0.0000  -0.0000    0.0002  0.0006\n",
       "mu_fakes                 -0.0001   0.0000    0.0000 -0.0003\n",
       "e_fakes_ss               -0.0001   0.0000    0.0002  0.0002\n",
       "mu_fakes_ss              -0.0000   0.0000    0.0002  0.0002\n",
       "trigger_mu               -0.0000   0.0000    0.0002  0.0002\n",
       "xs_zjets_alt_pdf          0.0000   0.0000       nan     nan\n",
       "xs_zjets_alt_alpha_s     -0.0001   0.0000       nan  0.0006\n",
       "xs_zjets_alt_qcd_scale_0     nan   0.0000       nan     nan\n",
       "xs_zjets_alt_qcd_scale_1  0.0000   0.0000       nan     nan\n",
       "xs_zjets_alt_qcd_scale_2  0.0000   0.0000    0.0004  0.0008\n",
       "xs_ttbar_pdf              0.0000   0.0000    0.0003  0.0005\n",
       "xs_ttbar_alpha_s          0.0000   0.0000    0.0004  0.0007\n",
       "xs_ttbar_qcd_scale        0.0000   0.0000       nan     nan\n",
       "eff_tau_0                    nan      nan       nan     nan\n",
       "eff_tau_1                 0.0001      nan       nan  0.0008\n",
       "eff_tau_2                 0.0001   0.0000    0.0003  0.0007\n",
       "eff_tau_3                 0.0001      nan       nan  0.0008\n",
       "eff_tau_4                 0.0001      nan    0.0005  0.0008\n",
       "eff_tau_5                 0.0001      nan       nan  0.0008\n",
       "misid_tau_e              -0.0000  -0.0002   -0.0031 -0.0004\n",
       "misid_tau_h              -0.0000  -0.0001   -0.0020 -0.0000\n",
       "misid_tau_0                  nan      nan       nan     nan\n",
       "misid_tau_1                  nan      nan       nan     nan\n",
       "misid_tau_2                  nan      nan       nan     nan\n",
       "misid_tau_3                  nan      nan       nan     nan\n",
       "misid_tau_4                  nan      nan       nan     nan\n",
       "misid_tau_5                  nan      nan       nan     nan\n",
       "escale_tau_0                 nan      nan       nan     nan\n",
       "escale_tau_1                 nan      nan       nan     nan\n",
       "escale_tau_10            -0.0001  -0.0003   -0.0035 -0.0003\n",
       "eff_reco_e               -0.0001  -0.0002   -0.0030 -0.0002\n",
       "eff_id_e                  0.0001   0.0000    0.0003  0.0007\n",
       "eff_e_0                   0.0001   0.0000    0.0004  0.0007\n",
       "eff_e_1                   0.0001   0.0000    0.0004  0.0007\n",
       "eff_e_2                   0.0001   0.0000    0.0004  0.0007\n",
       "eff_e_3                   0.0001   0.0000    0.0003  0.0007\n",
       "eff_e_4                   0.0001   0.0000    0.0003  0.0007\n",
       "eff_e_5                   0.0000   0.0000    0.0003  0.0007\n",
       "trigger_e_0               0.0001   0.0000    0.0004  0.0007\n",
       "trigger_e_1               0.0001   0.0000    0.0004  0.0007\n",
       "trigger_e_2               0.0001   0.0000    0.0004  0.0007\n",
       "trigger_e_3               0.0001   0.0000    0.0004  0.0007\n",
       "trigger_e_4               0.0001   0.0000    0.0004  0.0007\n",
       "trigger_e_5               0.0001   0.0000    0.0004  0.0007\n",
       "escale_e                  0.0001   0.0000    0.0004  0.0007\n",
       "trigger_e_tag             0.0000   0.0000    0.0003  0.0006\n",
       "trigger_e_probe           0.0000   0.0000    0.0003  0.0006\n",
       "eff_iso_mu                0.0000   0.0000    0.0003  0.0006\n",
       "eff_id_mu                 0.0000   0.0000    0.0003  0.0006\n",
       "eff_mu_0                  0.0000   0.0000    0.0003  0.0006\n",
       "eff_mu_1                  0.0000   0.0000    0.0003  0.0006\n",
       "eff_mu_2                  0.0000   0.0000    0.0003  0.0006\n",
       "eff_mu_3                  0.0000   0.0000    0.0003  0.0006\n",
       "eff_mu_4                  0.0000   0.0000    0.0003  0.0006\n",
       "eff_mu_5                  0.0000   0.0000    0.0003  0.0006\n",
       "eff_mu_6                  0.0000   0.0000    0.0003  0.0006\n",
       "eff_mu_7                  0.0000   0.0000    0.0003  0.0006\n",
       "escale_mu                 0.0000   0.0000    0.0003  0.0007\n",
       "pileup                    0.0000   0.0000    0.0003  0.0007\n",
       "isr                       0.0000   0.0000    0.0003  0.0007\n",
       "fsr                       0.0000   0.0000    0.0003  0.0007\n",
       "hdamp                     0.0000   0.0000    0.0003  0.0006\n",
       "tune                      0.0000   0.0000    0.0002  0.0006\n",
       "ww_scale                  0.0000   0.0000    0.0001  0.0004\n",
       "ww_resum                  0.0000   0.0000    0.0002  0.0005\n",
       "top_pt                    0.0001   0.0000    0.0004  0.0007\n",
       "btag_bfragmentation       0.0001   0.0000    0.0004  0.0007\n",
       "btag_btempcorr            0.0001   0.0000    0.0004  0.0007\n",
       "btag_cb                   0.0001   0.0000    0.0004  0.0007\n",
       "btag_cfragmentation       0.0001   0.0000    0.0004  0.0007\n",
       "btag_dmux                 0.0001   0.0000    0.0004  0.0007\n",
       "btag_gluonsplitting       0.0001   0.0000    0.0004  0.0007\n",
       "btag_jes                  0.0001   0.0000    0.0004  0.0007\n",
       "btag_jetaway              0.0001   0.0000    0.0004  0.0007\n",
       "btag_ksl                  0.0001   0.0000    0.0004  0.0007\n",
       "btag_l2c                  0.0001   0.0000    0.0004  0.0007\n",
       "btag_ltothers             0.0001   0.0000    0.0004  0.0007\n",
       "btag_mudr                 0.0001   0.0000    0.0004  0.0007\n",
       "btag_mupt                 0.0001   0.0000    0.0004  0.0007\n",
       "btag_ptrel                0.0001   0.0000    0.0004  0.0007\n",
       "btag_sampledependence     0.0001   0.0000    0.0004  0.0007\n",
       "btag_pileup               0.0001   0.0000    0.0004  0.0007\n",
       "btag_statistic            0.0001   0.0000    0.0004  0.0007\n",
       "ctag                      0.0001   0.0000    0.0004  0.0008\n",
       "mistag                    0.0001   0.0000    0.0004  0.0007\n",
       "jer                       0.0001   0.0000    0.0005  0.0008\n",
       "jes_abs_scale             0.0001   0.0000       nan     nan\n",
       "jes_abs_stat              0.0001   0.0000    0.0005  0.0008\n",
       "jes_fragmentation            nan      nan       nan     nan\n",
       "jes_abs_mpf_bias          0.0001   0.0000    0.0004  0.0007\n",
       "jes_pileup_data_mc        0.0001   0.0000    0.0004  0.0007\n",
       "jes_pileup_pt_bb          0.0001   0.0000    0.0004  0.0007\n",
       "jes_pileup_pt_ec1         0.0001   0.0000    0.0004  0.0007\n",
       "jes_pileup_pt_ref         0.0001   0.0000    0.0004  0.0007\n",
       "jes_relative_bal          0.0001   0.0000    0.0004  0.0007\n",
       "jes_relative_jer_ec1      0.0000   0.0000    0.0004  0.0007\n",
       "jes_relative_pt_bb        0.0000   0.0000    0.0004  0.0007\n",
       "jes_relative_pt_ec1       0.0001   0.0000    0.0004  0.0007\n",
       "jes_relative_stat_fsr     0.0000   0.0000    0.0004  0.0007\n",
       "jes_relative_stat_ec      0.0000   0.0000    0.0004  0.0007\n",
       "jes_single_pion_ecal      0.0001   0.0000    0.0004  0.0007\n",
       "jes_single_pion_hcal      0.0001   0.0000    0.0004  0.0007\n",
       "jes_time_pt_eta              nan      nan       nan     nan\n",
       "jes_flavor_qcd            0.0001   0.0000    0.0004  0.0007"
      ]
     },
     "execution_count": 8,
     "metadata": {},
     "output_type": "execute_result"
    }
   ],
   "source": [
    "# convert to errors\n",
    "err_no_bb = parameters['err_no_bb'].values[mask]\n",
    "errs_np = np.array([np.concatenate([e[:i+4], [0], e[i+4:]]) for i, e in enumerate(errs)])\n",
    "errs_np = err_no_bb**2 - errs_np**2\n",
    "#errs_np[errs_np < 0] = 0\n",
    "#errs_np = np.sqrt(errs_np)\n",
    "##errs_np = np.vstack([errs_np, err_stat, err_mc_stat, err_syst, stderr])\n",
    "#\n",
    "errs_np = pd.DataFrame(errs_np[:,:4], columns=['beta_e', 'beta_mu', 'beta_tau', 'beta_h'], index=list(p_labels))\n",
    "##errs_np = pd.DataFrame(errs_np[:,:4], columns=['beta_e', 'beta_mu', 'beta_tau', 'beta_h'], index=list(p_labels_fancy[4:]) + ['stat.', 'MC stat.', 'syst. total', 'total'])\n",
    "##beta_stderr = stderr.iloc[:,:4].multiply(100)/params_init[:4]\n",
    "100*errs_np"
   ]
  },
  {
   "cell_type": "code",
   "execution_count": 9,
   "metadata": {
    "ExecuteTime": {
     "end_time": "2020-03-01T11:53:24.105522Z",
     "start_time": "2020-03-01T11:53:24.022582Z"
    },
    "code_folding": [],
    "scrolled": false
   },
   "outputs": [
    {
     "ename": "NameError",
     "evalue": "name 'beta_errs' is not defined",
     "output_type": "error",
     "traceback": [
      "\u001b[0;31m---------------------------------------------------------------------------\u001b[0m",
      "\u001b[0;31mNameError\u001b[0m                                 Traceback (most recent call last)",
      "\u001b[0;32m<ipython-input-9-a74d0a91de26>\u001b[0m in \u001b[0;36m<module>\u001b[0;34m()\u001b[0m\n\u001b[1;32m      4\u001b[0m \u001b[0;31m#beta_errs.divide(params_init[:4]/100, axis=1).to_csv('local_data/errors.csv')\u001b[0m\u001b[0;34m\u001b[0m\u001b[0;34m\u001b[0m\u001b[0;34m\u001b[0m\u001b[0m\n\u001b[1;32m      5\u001b[0m \u001b[0;31m#beta_errs.divide(params_init[:4]/100, axis=1)\u001b[0m\u001b[0;34m\u001b[0m\u001b[0;34m\u001b[0m\u001b[0;34m\u001b[0m\u001b[0m\n\u001b[0;32m----> 6\u001b[0;31m \u001b[0mbeta_errs\u001b[0m\u001b[0;34m.\u001b[0m\u001b[0mto_latex\u001b[0m\u001b[0;34m(\u001b[0m\u001b[0;34m'local_data/summary_errors.tex'\u001b[0m\u001b[0;34m,\u001b[0m \u001b[0mescape\u001b[0m\u001b[0;34m=\u001b[0m\u001b[0;32mFalse\u001b[0m\u001b[0;34m)\u001b[0m\u001b[0;34m\u001b[0m\u001b[0;34m\u001b[0m\u001b[0m\n\u001b[0m\u001b[1;32m      7\u001b[0m \u001b[0mbeta_errs\u001b[0m\u001b[0;34m\u001b[0m\u001b[0;34m\u001b[0m\u001b[0m\n",
      "\u001b[0;31mNameError\u001b[0m: name 'beta_errs' is not defined"
     ]
    }
   ],
   "source": [
    "# print table\n",
    "\n",
    "#beta_errs.divide(params_init[:4]/100, axis=1).to_latex('local_data/errors.tex')\n",
    "#beta_errs.divide(params_init[:4]/100, axis=1).to_csv('local_data/errors.csv')\n",
    "#beta_errs.divide(params_init[:4]/100, axis=1)\n",
    "beta_errs.to_latex('local_data/summary_errors.tex', escape=False)\n",
    "beta_errs"
   ]
  },
  {
   "cell_type": "code",
   "execution_count": null,
   "metadata": {
    "ExecuteTime": {
     "end_time": "2020-03-01T11:53:24.106070Z",
     "start_time": "2020-03-01T05:16:09.461Z"
    }
   },
   "outputs": [],
   "source": [
    "jes_mask = np.array([True if ('jes' in pname and 'btag' not in pname) else False for pname in beta_errs.index])\n",
    "btag_mask = np.array([True if 'btag' in pname else False for pname in beta_errs.index])\n",
    "tau_misid_mask = np.array([True if ('misid_tau' in pname and pname not in ['misid_tau_e', 'misid_tau_h']) else False for pname in beta_errs.index])\n",
    "\n",
    "btag_errs = beta_errs[btag_mask]\n",
    "jes_errs = beta_errs[jes_mask]\n",
    "tau_misid_errs = beta_errs[tau_misid_mask]\n",
    "\n",
    "summary_errs = beta_errs[~btag_mask&~jes_mask&~tau_misid_mask].copy()\n",
    "summary_errs.index = [fit_data._parameters.loc[p].label if p in fit_data._parameters.index else p for p in summary_errs.index]\n",
    "summary_errs.loc['b-tag',:] = np.sqrt(np.sum(btag_errs**2))\n",
    "summary_errs.loc['JES',:]  = np.sqrt(np.sum(jes_errs**2))\n",
    "summary_errs.loc[r'$\\sf jet\\rightarrow\\tau$',:]  = np.sqrt(np.sum(tau_misid_errs**2))\n",
    "\n",
    "summary_errs = summary_errs.divide(params_init[:4]/100, axis=1)\n",
    "summary_errs.to_latex('local_data/summary_errors.tex', escape=False)\n",
    "summary_errs.to_csv('local_data/summary_errors.csv')\n",
    "summary_errs"
   ]
  },
  {
   "cell_type": "code",
   "execution_count": null,
   "metadata": {},
   "outputs": [],
   "source": []
  }
 ],
 "metadata": {
  "hide_input": false,
  "kernelspec": {
   "display_name": "Python 3",
   "language": "python",
   "name": "python3"
  },
  "language_info": {
   "codemirror_mode": {
    "name": "ipython",
    "version": 3
   },
   "file_extension": ".py",
   "mimetype": "text/x-python",
   "name": "python",
   "nbconvert_exporter": "python",
   "pygments_lexer": "ipython3",
   "version": "3.7.2"
  },
  "latex_envs": {
   "LaTeX_envs_menu_present": true,
   "autoclose": false,
   "autocomplete": true,
   "bibliofile": "biblio.bib",
   "cite_by": "apalike",
   "current_citInitial": 1,
   "eqLabelWithNumbers": true,
   "eqNumInitial": 0,
   "hotkeys": {
    "equation": "Ctrl-E",
    "itemize": "Ctrl-I"
   },
   "labels_anchors": false,
   "latex_user_defs": false,
   "report_style_numbering": false,
   "user_envs_cfg": false
  },
  "toc": {
   "nav_menu": {
    "height": "29px",
    "width": "251px"
   },
   "number_sections": true,
   "sideBar": true,
   "skip_h1_title": false,
   "title_cell": "Table of Contents",
   "title_sidebar": "Contents",
   "toc_cell": false,
   "toc_position": {
    "height": "49px",
    "left": "0px",
    "right": "1493.87px",
    "top": "90.9965px",
    "width": "242px"
   },
   "toc_section_display": false,
   "toc_window_display": false
  },
  "varInspector": {
   "cols": {
    "lenName": 16,
    "lenType": 16,
    "lenVar": 40
   },
   "kernels_config": {
    "python": {
     "delete_cmd_postfix": "",
     "delete_cmd_prefix": "del ",
     "library": "var_list.py",
     "varRefreshCmd": "print(var_dic_list())"
    },
    "r": {
     "delete_cmd_postfix": ") ",
     "delete_cmd_prefix": "rm(",
     "library": "var_list.r",
     "varRefreshCmd": "cat(var_dic_list()) "
    }
   },
   "oldHeight": 744.85,
   "position": {
    "height": "40px",
    "left": "919px",
    "right": "20px",
    "top": "59px",
    "width": "678px"
   },
   "types_to_exclude": [
    "module",
    "function",
    "builtin_function_or_method",
    "instance",
    "_Feature"
   ],
   "varInspector_section_display": "none",
   "window_display": false
  },
  "widgets": {
   "state": {
    "012f8bbe2fdb410dae6e2cde9d7fe5cb": {
     "views": []
    },
    "080556076f174648bddf64f17a54c523": {
     "views": []
    },
    "0ad83b5f67484ae5b8fd8dd43ccc39bd": {
     "views": []
    },
    "15acd81a9adc493683d9b63813f000bf": {
     "views": []
    },
    "1840cb6fded848b4ae95ec8d3db15ab2": {
     "views": []
    },
    "1dd83f822e074642ae4255b15ee661cf": {
     "views": []
    },
    "1e71a878e6474912a0efc497ecc5d65b": {
     "views": []
    },
    "2022ed83777b4963b630b5c46239e218": {
     "views": []
    },
    "21c4c57bfc48495194663e6a4fbac488": {
     "views": []
    },
    "22c45c75435348c0b9501d493d69fdca": {
     "views": []
    },
    "2635f668a1af4a9db2642e705d7c73ff": {
     "views": []
    },
    "2ad5ddd9347e451b9290e5b4179ab9a2": {
     "views": []
    },
    "2c062b5778024117984822b63b0593d7": {
     "views": []
    },
    "2f5eab2f6fb24192b76a5ffe99195d44": {
     "views": []
    },
    "31632517325046e8b0cb62e4f4ed2480": {
     "views": []
    },
    "3562b97192ed4d42bbab17f77c290f6b": {
     "views": []
    },
    "38a7cc053723492b921cf9f084ed243c": {
     "views": []
    },
    "3b5750b20e1745879ca0f965aad7b614": {
     "views": []
    },
    "3f1cbabbe2694a9dabe3f1c2e09d0ee2": {
     "views": []
    },
    "3fab6a26a70c4238a668a46d4dc88bf6": {
     "views": []
    },
    "3fb3c7a25e954a4888996976fa107737": {
     "views": []
    },
    "415db64fbc574daea8457ab600392f09": {
     "views": []
    },
    "4463de406b4645a4b562fe7917380ff9": {
     "views": []
    },
    "487e5450b5a24507932709f1fa8f59c1": {
     "views": []
    },
    "48aba73013e74e71927f71d42fb44d14": {
     "views": []
    },
    "4a19ad30f77e4fe6a2c84c8b62378a47": {
     "views": []
    },
    "4bc83ff5270d41679d76d26cdded8313": {
     "views": []
    },
    "4bdd9dd5c5c64646a27fa9096851458b": {
     "views": []
    },
    "5014cd42705f45178d5e6eeffd70f119": {
     "views": []
    },
    "5259b340b68e4fdb97fb4eaf9d98d954": {
     "views": []
    },
    "5986ef5b605a42aca10bc5834529ee06": {
     "views": []
    },
    "5c1aa44589a140eb9709734c843abde6": {
     "views": []
    },
    "600cd9ca4f4c46d4ad6fe57df107675a": {
     "views": [
      {
       "cell_index": 7
      }
     ]
    },
    "61fe369ebdd14eaa89de110f6186e6b7": {
     "views": []
    },
    "62ac836017ae47a38f8fde806c5ec9b7": {
     "views": []
    },
    "632ccbfabe91405aa1c5a77c9ea754db": {
     "views": []
    },
    "66175f618ea5472baac618f998d2c06c": {
     "views": []
    },
    "6647a620af034d26abcd327ae02364d4": {
     "views": []
    },
    "6752222d2cba43e18f344a8db7f99d24": {
     "views": []
    },
    "6b684ba1a7c24a35ba2df77016212904": {
     "views": []
    },
    "6cea898f4aca4f1e84601f843e337238": {
     "views": []
    },
    "6f8d1e87fd60462a89d693b2f3b5f007": {
     "views": []
    },
    "74078646a5eb4047b40370a0ab8b6b30": {
     "views": []
    },
    "745b0c79ff3040788ea952fce9c7d607": {
     "views": []
    },
    "757c9b805eb7445bac9a7f141f87e45f": {
     "views": []
    },
    "76ced68e19a742e8976dbfd4e8594a1a": {
     "views": []
    },
    "783bb5e7538d4d9d8315e2698024b353": {
     "views": []
    },
    "794993d66efe4ab29a8d35aad8cfe079": {
     "views": []
    },
    "8375e24bae7541528d7cdc0f379d1d4c": {
     "views": []
    },
    "8554945ec15041a7bf8004dbc3fc5f11": {
     "views": []
    },
    "878a34e26cce4f18bb8232a682ebe964": {
     "views": []
    },
    "8921a75116a549198eb7b7f4a24ab672": {
     "views": []
    },
    "909f4504f0b049bda8b641defa177062": {
     "views": []
    },
    "910b9d32a3fb45ec99da1f9df1add816": {
     "views": []
    },
    "9d15ce601cd34f0699b7a7a0ce1d17dc": {
     "views": []
    },
    "a26638c9fee247b3891aac027a0918cc": {
     "views": []
    },
    "a9d2bf44a3ad447bb3eecde71363c198": {
     "views": []
    },
    "ad366bf4c95f4cdba62d47ba9501efc9": {
     "views": []
    },
    "ad8e1842ec314a94b6ed4b62c4c0a450": {
     "views": []
    },
    "af525094db304d2a812ae1312b00889b": {
     "views": []
    },
    "b0697c4343da491f9a35bf02681dad8f": {
     "views": []
    },
    "b07ff307919e4268bc8bec8379c47a5d": {
     "views": []
    },
    "b0e85c726ca141079333afb27edc63d4": {
     "views": []
    },
    "bdcc1e5df7a8432b9f40d8249a46f90a": {
     "views": []
    },
    "be1065f37fa24e818d31c3bb075947a3": {
     "views": []
    },
    "c296c8df2f734e268c6c1204536e7142": {
     "views": []
    },
    "c4bfd3e447f0426da144b76abc202129": {
     "views": []
    },
    "cced93184d4445218a2b14567579333d": {
     "views": []
    },
    "d5bd2e4d5f85482e9345f3a7a69380d0": {
     "views": []
    },
    "d798fa64e8be4a7d9ec1cbeece3b1be9": {
     "views": []
    },
    "d7aec0d6d05f442b991ab40af944811d": {
     "views": []
    },
    "db469cea2c8e4180bf6890de80329c1d": {
     "views": []
    },
    "e671857510c54634b6f0fa55bf1fa228": {
     "views": []
    },
    "ebf52deafaf64b0c826533dafdf993c0": {
     "views": []
    },
    "ed1e5439da9c41199a7bbbda21b556f8": {
     "views": []
    },
    "f585cf5db5024280af5b567f0e4fd771": {
     "views": []
    },
    "f6ba8f8800af47adabed847063bda8db": {
     "views": []
    },
    "f9bae72f14e44705b5c38a3ddc69fee8": {
     "views": []
    }
   },
   "version": "1.1.2"
  }
 },
 "nbformat": 4,
 "nbformat_minor": 2
}
