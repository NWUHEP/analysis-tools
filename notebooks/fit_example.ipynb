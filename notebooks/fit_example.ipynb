{
 "cells": [
  {
   "cell_type": "markdown",
   "metadata": {},
   "source": [
    "# Unbinned log likelihood fitting with nllfitter\n"
   ]
  },
  {
   "cell_type": "code",
   "execution_count": 2,
   "metadata": {
    "collapsed": false
   },
   "outputs": [
    {
     "name": "stdout",
     "output_type": "stream",
     "text": [
      "Getting data and scaling to lie in range [-1, 1].\n",
      "Analyzing 190 events...\n",
      "Performing background only fit with second order Legendre polynomial normalized to unity.\n",
      "\n",
      "\n",
      "RESULTS\n",
      "-------\n",
      "a1       = 0.174 +/- 0.062\n",
      "a2       = 0.031 +/- 0.080\n",
      "\n",
      "\n",
      "correlation matrix:\n",
      "[[ 1.     0.076]\n",
      " [ 0.076  1.   ]]\n",
      "\n",
      "\n",
      "Performing background plus signal fit with second order normalized Legendre polynomial plus a Gaussian kernel.\n",
      "\n",
      "\n",
      "RESULTS\n",
      "-------\n",
      "A        = 0.105 +/- 0.034\n",
      "mu       = 28.713 +/- 1.309\n",
      "width    = 1.387 +/- 0.422\n",
      "a1       = 0.272 +/- 0.072\n",
      "a2       = 0.124 +/- 0.089\n",
      "\n",
      "\n",
      "Correlation matrix:\n",
      "[[ 1.    -0.29  -0.427 -0.286 -0.257]\n",
      " [-0.29   1.     0.52   0.122  0.173]\n",
      " [-0.427  0.52   1.     0.205  0.214]\n",
      " [-0.286  0.122  0.205  1.     0.343]\n",
      " [-0.257  0.173  0.214  0.343  1.   ]]\n",
      "\n",
      "\n",
      "N_b = 11.61 +\\- 0.89\n",
      "N_s = 20.01 +\\- 6.39\n",
      "q = 4.280\n",
      "\n",
      "Calculating local p-value and significance based on 1000000.0...\n",
      "local p-value = 3e-06\n",
      "local significance = 4.53\n",
      "\n",
      "Runtime = 964.06 ms\n"
     ]
    }
   ],
   "source": [
    "run nllfitter/fitter.py"
   ]
  }
 ],
 "metadata": {
  "kernelspec": {
   "display_name": "Python 2",
   "language": "python",
   "name": "python2"
  },
  "language_info": {
   "codemirror_mode": {
    "name": "ipython",
    "version": 2
   },
   "file_extension": ".py",
   "mimetype": "text/x-python",
   "name": "python",
   "nbconvert_exporter": "python",
   "pygments_lexer": "ipython2",
   "version": "2.7.11"
  }
 },
 "nbformat": 4,
 "nbformat_minor": 0
}
