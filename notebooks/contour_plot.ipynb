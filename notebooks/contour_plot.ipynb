{
 "cells": [
  {
   "cell_type": "markdown",
   "metadata": {},
   "source": [
    "# Drawing the likelihood contours\n",
    "\n",
    "Amongst the material to be presented in the final results is the contours in branching fraction space.  Here I will draw the contours based on the assumption that the pdf for the branching fractions can be approximated by a three (or four if we include the hadronic fraction) dimensional Gaussian.  "
   ]
  },
  {
   "cell_type": "code",
   "execution_count": 1,
   "metadata": {
    "ExecuteTime": {
     "end_time": "2020-03-04T22:56:37.835015Z",
     "start_time": "2020-03-04T22:56:37.688522Z"
    },
    "code_folding": [
     0
    ],
    "scrolled": false
   },
   "outputs": [
    {
     "name": "stdout",
     "output_type": "stream",
     "text": [
      "/home/naodell/work/wbr/analysis\n",
      "{\n",
      "  \"shell_port\": 53007,\n",
      "  \"iopub_port\": 35505,\n",
      "  \"stdin_port\": 56221,\n",
      "  \"control_port\": 50231,\n",
      "  \"hb_port\": 45875,\n",
      "  \"ip\": \"127.0.0.1\",\n",
      "  \"key\": \"ecd730fb-68b2e40691badaf71c3685fc\",\n",
      "  \"transport\": \"tcp\",\n",
      "  \"signature_scheme\": \"hmac-sha256\",\n",
      "  \"kernel_name\": \"\"\n",
      "}\n",
      "\n",
      "Paste the above JSON into a file, and connect with:\n",
      "    $> jupyter <app> --existing <file>\n",
      "or, if you are local, you can connect with just:\n",
      "    $> jupyter <app> --existing kernel-c9d7b1d7-1cbe-4e5a-9d54-2400f67da8eb.json\n",
      "or even just:\n",
      "    $> jupyter <app> --existing\n",
      "if this is the most recent Jupyter kernel you have started.\n"
     ]
    }
   ],
   "source": [
    "## imports and configuration\n",
    "%cd '/home/naodell/work/wbr/analysis'\n",
    "#%load_ext autoreload\n",
    "\n",
    "from functools import partial\n",
    "import numpy as np\n",
    "import pandas as pd\n",
    "import matplotlib.pyplot as plt\n",
    "import matplotlib\n",
    "from scipy.stats import multivariate_normal\n",
    "from tqdm import tqdm_notebook\n",
    "\n",
    "import scripts.plot_tools as pt\n",
    "import scripts.fit_helpers as fh\n",
    "from nllfit.nllfitter import ScanParameters\n",
    "\n",
    "np.set_printoptions(precision=4)\n",
    "rc_params = {\n",
    "             'figure.figsize': (10, 10),\n",
    "             'axes.labelsize': 20,\n",
    "             'axes.facecolor': 'white',\n",
    "             'axes.titlesize':'x-large',\n",
    "             'legend.fontsize': 20,\n",
    "             'xtick.labelsize':20,\n",
    "             'ytick.labelsize':20,\n",
    "             'font.size':18,\n",
    "             'font.sans-serif':['Arial', 'sans-serif'],\n",
    "             'mathtext.sf':'Arial',\n",
    "             'lines.markersize':8.,\n",
    "             'lines.linewidth':2.5,\n",
    "            }\n",
    "matplotlib.rcParams.update(rc_params)\n",
    "\n",
    "%connect_info"
   ]
  },
  {
   "cell_type": "code",
   "execution_count": 2,
   "metadata": {
    "ExecuteTime": {
     "end_time": "2020-03-04T22:56:37.858518Z",
     "start_time": "2020-03-04T22:56:37.836257Z"
    },
    "code_folding": [],
    "scrolled": false
   },
   "outputs": [],
   "source": [
    "# configure, get the input data, and do any additional processing that is needed\n",
    "parameters_asimov = pd.read_csv('data/model_parameters_asimov.csv', index_col='name')\n",
    "corr_matrix_asimov = pd.read_csv('local_data/corr_table_full_asimov.csv', index_col='label')\n",
    "\n",
    "parameters_unblinded = pd.read_csv('data/model_parameters_unblinded.csv', index_col='name')\n",
    "corr_matrix_unblinded = pd.read_csv('local_data/corr_table_full_unblinded.csv', index_col='label')"
   ]
  },
  {
   "cell_type": "code",
   "execution_count": 3,
   "metadata": {
    "ExecuteTime": {
     "end_time": "2020-03-04T22:56:37.898837Z",
     "start_time": "2020-03-04T22:56:37.859636Z"
    },
    "code_folding": []
   },
   "outputs": [],
   "source": [
    "# define multivariate normal distributions\n",
    "val_fit_asimov = parameters_asimov.loc[['beta_e', 'beta_mu', 'beta_tau'], 'val_fit'].values\n",
    "err_fit_asimov = parameters_asimov.loc[['beta_e', 'beta_mu', 'beta_tau'], 'err_fit'].values\n",
    "cov_matrix_asimov = corr_matrix_asimov.iloc[:3, :3].values*np.outer(val_fit_asimov, val_fit_asimov)\n",
    "f_asimov = multivariate_normal(mean=val_fit_asimov, cov=cov_matrix_asimov)\n",
    "\n",
    "val_fit_unblinded = parameters_unblinded.loc[['beta_e', 'beta_mu', 'beta_tau'], 'val_fit'].values\n",
    "err_fit_unblinded = parameters_unblinded.loc[['beta_e', 'beta_mu', 'beta_tau'], 'err_fit'].values\n",
    "cov_matrix_unblinded = corr_matrix_unblinded.iloc[:3, :3].values*np.outer(val_fit_unblinded, val_fit_unblinded)\n",
    "f_unblinded = multivariate_normal(mean=val_fit_unblinded, cov=cov_matrix_unblinded)"
   ]
  },
  {
   "cell_type": "code",
   "execution_count": 4,
   "metadata": {
    "ExecuteTime": {
     "end_time": "2020-03-04T22:56:38.049030Z",
     "start_time": "2020-03-04T22:56:37.901730Z"
    },
    "code_folding": [
     0
    ]
   },
   "outputs": [
    {
     "ename": "ValueError",
     "evalue": "could not broadcast input array from shape (100,100,100) into shape (100,100,3)",
     "output_type": "error",
     "traceback": [
      "\u001b[0;31m---------------------------------------------------------------------------\u001b[0m",
      "\u001b[0;31mValueError\u001b[0m                                Traceback (most recent call last)",
      "\u001b[0;32m<ipython-input-4-47139f5ee154>\u001b[0m in \u001b[0;36m<module>\u001b[0;34m()\u001b[0m\n\u001b[1;32m     21\u001b[0m \u001b[0mX\u001b[0m\u001b[0;34m,\u001b[0m \u001b[0mY\u001b[0m\u001b[0;34m,\u001b[0m \u001b[0mZ\u001b[0m \u001b[0;34m=\u001b[0m \u001b[0mnp\u001b[0m\u001b[0;34m.\u001b[0m\u001b[0mmeshgrid\u001b[0m\u001b[0;34m(\u001b[0m\u001b[0mscan_vals\u001b[0m\u001b[0;34m,\u001b[0m \u001b[0mscan_vals\u001b[0m\u001b[0;34m,\u001b[0m \u001b[0mscan_vals\u001b[0m\u001b[0;34m)\u001b[0m\u001b[0;34m\u001b[0m\u001b[0;34m\u001b[0m\u001b[0m\n\u001b[1;32m     22\u001b[0m \u001b[0mpos\u001b[0m \u001b[0;34m=\u001b[0m \u001b[0mnp\u001b[0m\u001b[0;34m.\u001b[0m\u001b[0mempty\u001b[0m\u001b[0;34m(\u001b[0m\u001b[0mX\u001b[0m\u001b[0;34m.\u001b[0m\u001b[0mshape\u001b[0m \u001b[0;34m+\u001b[0m \u001b[0;34m(\u001b[0m\u001b[0;36m3\u001b[0m\u001b[0;34m,\u001b[0m\u001b[0;34m)\u001b[0m\u001b[0;34m)\u001b[0m\u001b[0;34m\u001b[0m\u001b[0;34m\u001b[0m\u001b[0m\n\u001b[0;32m---> 23\u001b[0;31m \u001b[0mpos\u001b[0m\u001b[0;34m[\u001b[0m\u001b[0;34m:\u001b[0m\u001b[0;34m,\u001b[0m\u001b[0;34m:\u001b[0m\u001b[0;34m,\u001b[0m\u001b[0;36m0\u001b[0m\u001b[0;34m]\u001b[0m \u001b[0;34m=\u001b[0m \u001b[0mX\u001b[0m\u001b[0;34m\u001b[0m\u001b[0;34m\u001b[0m\u001b[0m\n\u001b[0m\u001b[1;32m     24\u001b[0m \u001b[0mpos\u001b[0m\u001b[0;34m[\u001b[0m\u001b[0;34m:\u001b[0m\u001b[0;34m,\u001b[0m\u001b[0;34m:\u001b[0m\u001b[0;34m,\u001b[0m\u001b[0;36m1\u001b[0m\u001b[0;34m]\u001b[0m \u001b[0;34m=\u001b[0m \u001b[0mY\u001b[0m\u001b[0;34m\u001b[0m\u001b[0;34m\u001b[0m\u001b[0m\n\u001b[1;32m     25\u001b[0m \u001b[0mpos\u001b[0m\u001b[0;34m[\u001b[0m\u001b[0;34m:\u001b[0m\u001b[0;34m,\u001b[0m\u001b[0;34m:\u001b[0m\u001b[0;34m,\u001b[0m\u001b[0;36m2\u001b[0m\u001b[0;34m]\u001b[0m \u001b[0;34m=\u001b[0m \u001b[0mZ\u001b[0m\u001b[0;34m\u001b[0m\u001b[0;34m\u001b[0m\u001b[0m\n",
      "\u001b[0;31mValueError\u001b[0m: could not broadcast input array from shape (100,100,100) into shape (100,100,3)"
     ]
    }
   ],
   "source": [
    "# plot the cost\n",
    "fig, axes = plt.subplots(1, 3, figsize=(24, 10), facecolor='white', sharex = True, sharey=True)\n",
    "\n",
    "# plot options\n",
    "scan_range = (0.104, 0.114)\n",
    "clvls = [0.5, 2]\n",
    "    \n",
    "# PDG average\n",
    "from scipy.stats import multivariate_normal\n",
    "mu = 0.1080\n",
    "sigma = 0.0009\n",
    "f_pdg = multivariate_normal(mean=[mu, mu], cov=[[sigma**2, 0.], [0., sigma**2]])\n",
    "\n",
    "# PDG exclusive BR\n",
    "pdg_e = (0.1071, 0.0016)\n",
    "pdg_mu = (0.1063, 0.0015)\n",
    "pdg_tau = (0.1138, 0.0021)\n",
    "\n",
    "# electron vs. muon\n",
    "scan_vals = np.linspace(scan_range[0], scan_range[1], 100)\n",
    "X, Y, Z = np.meshgrid(scan_vals, scan_vals, scan_vals)\n",
    "pos = np.empty(X.shape + (3,))\n",
    "pos[:,:,0] = X\n",
    "pos[:,:,1] = Y\n",
    "pos[:,:,2] = Z\n",
    "\n",
    "nll_pdg = f_pdg.pdf(pos[:,:,:1])\n",
    "\n",
    "ax = axes[0]\n",
    "ax.scatter([val_fit_unblinded[0]], [val_fit_unblinded[1]], marker='+', c='r')\n",
    "ax.scatter([mu], [mu], marker='+', c='k')\n",
    "ax.contourf(X, Y, nll_pdg, levels=clvls, linestyles='solid', colors=['y', 'g'])\n",
    "#ax.contour(X, Y, cost_emu, levels=clvls, linestyles='solid', colors = 'k')\n",
    "\n",
    "ax.fill_between(scan_range, 2*[pdg_mu[0] - pdg_mu[1], ], 2*[pdg_mu[0] + pdg_mu[1], ], facecolor='none', edgecolor='C1', hatch='/', alpha=0.5)\n",
    "ax.plot(scan_range, 2*[pdg_mu[0],], color='C1', alpha=0.5)\n",
    "ax.fill_betweenx(scan_range, 2*[pdg_e[0] - pdg_e[1], ], 2*[pdg_e[0] + pdg_e[1], ], facecolor='none', edgecolor='C0', hatch='\\\\', alpha=0.5)\n",
    "ax.plot(2*[pdg_e[0],], scan_range, color='C0', alpha=0.5)\n",
    "\n",
    "ax.set_xlabel(r'$\\beta_{e}$')\n",
    "ax.set_ylabel(r'$\\beta_{\\mu}$')\n",
    "ax.set_xlim(scan_range)\n",
    "ax.set_ylim(scan_range)\n",
    "\n",
    "# muon vs. tau\n",
    "#X, Y = sv_accept[:,[1, 2]].T\n",
    "#X, Y = X[mask], Y[mask]\n",
    "#X, Y = zoom(X.reshape(grid_size), ninter), zoom(Y.reshape(grid_size), ninter)\n",
    "#\n",
    "#pos[:,:,0] = X\n",
    "#pos[:,:,1] = Y\n",
    "#nll_pdg = f_pdg.pdf(pos)\n",
    "#nll_pdg = -2*np.log(nll_pdg/nll_pdg.max())\n",
    "#\n",
    "#cost_mutau = zoom(cost[mask].reshape(grid_size), ninter) \n",
    "#cost_mutau -= cost_mutau.min()\n",
    "#imin = cost_mutau.argmin()\n",
    "#xmin = X[imin//(ninter*grid_size[0]), imin%(ninter*grid_size[0])]\n",
    "#ymin = Y[imin//(ninter*grid_size[0]), imin%(ninter*grid_size[0])]\n",
    "#\n",
    "#ax = axes[1]\n",
    "#ax.scatter([mu], [mu], marker='+', c='r')\n",
    "#ax.contour(X, Y, nll_pdg, levels=clvls, linestyles='dotted', colors='r')\n",
    "#ax.fill_between(scan_range, 2*[pdg_tau[0] - pdg_tau[1], ], 2*[pdg_tau[0] + pdg_tau[1], ], color='C2', hatch='/', alpha=0.1)\n",
    "#ax.plot(scan_range, 2*[pdg_tau[0],], color='C2', alpha=0.5)\n",
    "#ax.fill_betweenx(scan_range, 2*[pdg_mu[0] - pdg_mu[1], ], 2*[pdg_mu[0] + pdg_mu[1], ], color='C1', hatch='\\\\', alpha=0.1)\n",
    "#ax.plot(2*[pdg_mu[0],], scan_range, color='C1', alpha=0.5)\n",
    "#ax.test(0.85, 0.9, r'$\\beta_{tau} = 0.108$', transform=ax.T)\n",
    "#\n",
    "#ax.scatter([xmin], [ymin], marker='+', c='k')\n",
    "#ax.contour(X, Y, cost_mutau, levels=clvls, linestyles='solid', colors = 'k')\n",
    "#ax.set_xlabel(r'$\\beta_{\\mu}$')\n",
    "#ax.set_ylabel(r'$\\beta_{\\tau}$')\n",
    "#\n",
    "## muon vs. tau\n",
    "#mask = (sv_accept[:,1] == beta_min[1])\n",
    "#X, Y = sv_accept[:,[2, 0]].T\n",
    "#X, Y = X[mask], Y[mask]\n",
    "#X, Y = zoom(X.reshape(grid_size), ninter), zoom(Y.reshape(grid_size), ninter)\n",
    "#\n",
    "#pos[:,:,0] = X\n",
    "#pos[:,:,1] = Y\n",
    "#nll_pdg = f_pdg.pdf(pos)\n",
    "#nll_pdg = -2*np.log(nll_pdg/nll_pdg.max())\n",
    "#\n",
    "#cost_etau = zoom(cost[mask].reshape(grid_size), ninter) \n",
    "#cost_etau -= cost_etau.min()\n",
    "#imin = cost_etau.argmin()\n",
    "#xmin = X[imin//(ninter*grid_size[0]), imin%(ninter*grid_size[0])]\n",
    "#ymin = Y[imin//(ninter*grid_size[0]), imin%(ninter*grid_size[0])]\n",
    "\n",
    "ax = axes[2]\n",
    "#ax.scatter([mu], [mu], marker='+', c='r', label='PDG average')\n",
    "#ax.contour(X, Y, nll_pdg, levels=clvls, linestyles='dotted', colors='r')\n",
    "#\n",
    "#ax.scatter([xmin], [ymin], marker='+', c='k', label='Asimov data')\n",
    "#ax.contour(X, Y, cost_etau, levels=clvls, linestyles='solid', colors = 'k', label='2016 data')\n",
    "#\n",
    "#ax.plot(scan_range, 2*[pdg_e[0],], color='C0', alpha=0.5, label='_nolegend_')\n",
    "#ax.fill_between(scan_range, 2*[pdg_e[0] - pdg_e[1], ], 2*[pdg_e[0] + pdg_e[1], ], edgecolor='C0', facecolor='none', hatch='/', alpha=0.5, label=r'$e$ PDG')\n",
    "#\n",
    "## dummy plot to add mu to legend\n",
    "#ax.fill_betweenx([0., 0.], 2*[pdg_mu[0] - pdg_mu[1], ], 2*[pdg_mu[0] + pdg_mu[1], ], edgecolor='C1', facecolor='none', hatch='\\\\', alpha=0.5, label=r'$\\mu$ PDG')\n",
    "#\n",
    "#ax.plot(2*[pdg_tau[0],], scan_range, color='C2', alpha=0.5, label='_nolegend_')\n",
    "#ax.fill_betweenx(scan_range, 2*[pdg_tau[0] - pdg_tau[1], ], 2*[pdg_tau[0] + pdg_tau[1], ], edgecolor='C2', facecolor='none', hatch='|', alpha=0.5, label=r'$\\tau$ PDG')\n",
    "\n",
    "#ax.set_xlabel(r'$\\beta_{\\tau}$')\n",
    "#ax.set_ylabel(r'$\\beta_{e}$')\n",
    "ax.legend(loc=1, framealpha=1.)\n",
    "\n",
    "plt.tight_layout()\n",
    "plt.savefig('plots/result_contours_test.pdf')\n",
    "plt.savefig('plots/result_contours_test.png')\n",
    "plt.show()"
   ]
  },
  {
   "cell_type": "code",
   "execution_count": null,
   "metadata": {
    "ExecuteTime": {
     "end_time": "2020-03-04T22:56:38.049623Z",
     "start_time": "2020-03-04T22:56:37.714Z"
    }
   },
   "outputs": [],
   "source": [
    "fig, ax = plt.subplots(1, 1, facecolor='white')\n",
    "\n",
    "fnorm = multivariate_normal(0, 1)\n",
    "x = np.linspace(-5, 5, 1e3)\n",
    "ax.plot(x, -2*np.log(fnorm.pdf(x)/fnorm.pdf(0)), 'k--')\n",
    "ax.set_xlim(-5, 5)\n",
    "ax.set_ylim(0, None)\n",
    "ax.grid()\n",
    "\n",
    "plt.show()"
   ]
  },
  {
   "cell_type": "code",
   "execution_count": null,
   "metadata": {},
   "outputs": [],
   "source": []
  }
 ],
 "metadata": {
  "hide_input": false,
  "kernelspec": {
   "display_name": "Python 3",
   "language": "python",
   "name": "python3"
  },
  "language_info": {
   "codemirror_mode": {
    "name": "ipython",
    "version": 3
   },
   "file_extension": ".py",
   "mimetype": "text/x-python",
   "name": "python",
   "nbconvert_exporter": "python",
   "pygments_lexer": "ipython3",
   "version": "3.7.2"
  },
  "latex_envs": {
   "LaTeX_envs_menu_present": true,
   "autoclose": false,
   "autocomplete": true,
   "bibliofile": "biblio.bib",
   "cite_by": "apalike",
   "current_citInitial": 1,
   "eqLabelWithNumbers": true,
   "eqNumInitial": 0,
   "hotkeys": {
    "equation": "Ctrl-E",
    "itemize": "Ctrl-I"
   },
   "labels_anchors": false,
   "latex_user_defs": false,
   "report_style_numbering": false,
   "user_envs_cfg": false
  },
  "toc": {
   "nav_menu": {
    "height": "29px",
    "width": "251px"
   },
   "number_sections": true,
   "sideBar": true,
   "skip_h1_title": false,
   "title_cell": "Table of Contents",
   "title_sidebar": "Contents",
   "toc_cell": false,
   "toc_position": {
    "height": "49px",
    "left": "0px",
    "right": "1493.87px",
    "top": "90.9965px",
    "width": "242px"
   },
   "toc_section_display": false,
   "toc_window_display": false
  },
  "varInspector": {
   "cols": {
    "lenName": 16,
    "lenType": 16,
    "lenVar": 40
   },
   "kernels_config": {
    "python": {
     "delete_cmd_postfix": "",
     "delete_cmd_prefix": "del ",
     "library": "var_list.py",
     "varRefreshCmd": "print(var_dic_list())"
    },
    "r": {
     "delete_cmd_postfix": ") ",
     "delete_cmd_prefix": "rm(",
     "library": "var_list.r",
     "varRefreshCmd": "cat(var_dic_list()) "
    }
   },
   "position": {
    "height": "677.85px",
    "left": "1071px",
    "right": "20px",
    "top": "170px",
    "width": "659px"
   },
   "types_to_exclude": [
    "module",
    "function",
    "builtin_function_or_method",
    "instance",
    "_Feature"
   ],
   "window_display": false
  },
  "widgets": {
   "state": {
    "012f8bbe2fdb410dae6e2cde9d7fe5cb": {
     "views": []
    },
    "080556076f174648bddf64f17a54c523": {
     "views": []
    },
    "0ad83b5f67484ae5b8fd8dd43ccc39bd": {
     "views": []
    },
    "15acd81a9adc493683d9b63813f000bf": {
     "views": []
    },
    "1840cb6fded848b4ae95ec8d3db15ab2": {
     "views": []
    },
    "1dd83f822e074642ae4255b15ee661cf": {
     "views": []
    },
    "1e71a878e6474912a0efc497ecc5d65b": {
     "views": []
    },
    "2022ed83777b4963b630b5c46239e218": {
     "views": []
    },
    "21c4c57bfc48495194663e6a4fbac488": {
     "views": []
    },
    "22c45c75435348c0b9501d493d69fdca": {
     "views": []
    },
    "2635f668a1af4a9db2642e705d7c73ff": {
     "views": []
    },
    "2ad5ddd9347e451b9290e5b4179ab9a2": {
     "views": []
    },
    "2c062b5778024117984822b63b0593d7": {
     "views": []
    },
    "2f5eab2f6fb24192b76a5ffe99195d44": {
     "views": []
    },
    "31632517325046e8b0cb62e4f4ed2480": {
     "views": []
    },
    "3562b97192ed4d42bbab17f77c290f6b": {
     "views": []
    },
    "38a7cc053723492b921cf9f084ed243c": {
     "views": []
    },
    "3b5750b20e1745879ca0f965aad7b614": {
     "views": []
    },
    "3f1cbabbe2694a9dabe3f1c2e09d0ee2": {
     "views": []
    },
    "3fab6a26a70c4238a668a46d4dc88bf6": {
     "views": []
    },
    "3fb3c7a25e954a4888996976fa107737": {
     "views": []
    },
    "415db64fbc574daea8457ab600392f09": {
     "views": []
    },
    "4463de406b4645a4b562fe7917380ff9": {
     "views": []
    },
    "487e5450b5a24507932709f1fa8f59c1": {
     "views": []
    },
    "48aba73013e74e71927f71d42fb44d14": {
     "views": []
    },
    "4a19ad30f77e4fe6a2c84c8b62378a47": {
     "views": []
    },
    "4bc83ff5270d41679d76d26cdded8313": {
     "views": []
    },
    "4bdd9dd5c5c64646a27fa9096851458b": {
     "views": []
    },
    "5014cd42705f45178d5e6eeffd70f119": {
     "views": []
    },
    "5259b340b68e4fdb97fb4eaf9d98d954": {
     "views": []
    },
    "5986ef5b605a42aca10bc5834529ee06": {
     "views": []
    },
    "5c1aa44589a140eb9709734c843abde6": {
     "views": []
    },
    "600cd9ca4f4c46d4ad6fe57df107675a": {
     "views": [
      {
       "cell_index": 7
      }
     ]
    },
    "61fe369ebdd14eaa89de110f6186e6b7": {
     "views": []
    },
    "62ac836017ae47a38f8fde806c5ec9b7": {
     "views": []
    },
    "632ccbfabe91405aa1c5a77c9ea754db": {
     "views": []
    },
    "66175f618ea5472baac618f998d2c06c": {
     "views": []
    },
    "6647a620af034d26abcd327ae02364d4": {
     "views": []
    },
    "6752222d2cba43e18f344a8db7f99d24": {
     "views": []
    },
    "6b684ba1a7c24a35ba2df77016212904": {
     "views": []
    },
    "6cea898f4aca4f1e84601f843e337238": {
     "views": []
    },
    "6f8d1e87fd60462a89d693b2f3b5f007": {
     "views": []
    },
    "74078646a5eb4047b40370a0ab8b6b30": {
     "views": []
    },
    "745b0c79ff3040788ea952fce9c7d607": {
     "views": []
    },
    "757c9b805eb7445bac9a7f141f87e45f": {
     "views": []
    },
    "76ced68e19a742e8976dbfd4e8594a1a": {
     "views": []
    },
    "783bb5e7538d4d9d8315e2698024b353": {
     "views": []
    },
    "794993d66efe4ab29a8d35aad8cfe079": {
     "views": []
    },
    "8375e24bae7541528d7cdc0f379d1d4c": {
     "views": []
    },
    "8554945ec15041a7bf8004dbc3fc5f11": {
     "views": []
    },
    "878a34e26cce4f18bb8232a682ebe964": {
     "views": []
    },
    "8921a75116a549198eb7b7f4a24ab672": {
     "views": []
    },
    "909f4504f0b049bda8b641defa177062": {
     "views": []
    },
    "910b9d32a3fb45ec99da1f9df1add816": {
     "views": []
    },
    "9d15ce601cd34f0699b7a7a0ce1d17dc": {
     "views": []
    },
    "a26638c9fee247b3891aac027a0918cc": {
     "views": []
    },
    "a9d2bf44a3ad447bb3eecde71363c198": {
     "views": []
    },
    "ad366bf4c95f4cdba62d47ba9501efc9": {
     "views": []
    },
    "ad8e1842ec314a94b6ed4b62c4c0a450": {
     "views": []
    },
    "af525094db304d2a812ae1312b00889b": {
     "views": []
    },
    "b0697c4343da491f9a35bf02681dad8f": {
     "views": []
    },
    "b07ff307919e4268bc8bec8379c47a5d": {
     "views": []
    },
    "b0e85c726ca141079333afb27edc63d4": {
     "views": []
    },
    "bdcc1e5df7a8432b9f40d8249a46f90a": {
     "views": []
    },
    "be1065f37fa24e818d31c3bb075947a3": {
     "views": []
    },
    "c296c8df2f734e268c6c1204536e7142": {
     "views": []
    },
    "c4bfd3e447f0426da144b76abc202129": {
     "views": []
    },
    "cced93184d4445218a2b14567579333d": {
     "views": []
    },
    "d5bd2e4d5f85482e9345f3a7a69380d0": {
     "views": []
    },
    "d798fa64e8be4a7d9ec1cbeece3b1be9": {
     "views": []
    },
    "d7aec0d6d05f442b991ab40af944811d": {
     "views": []
    },
    "db469cea2c8e4180bf6890de80329c1d": {
     "views": []
    },
    "e671857510c54634b6f0fa55bf1fa228": {
     "views": []
    },
    "ebf52deafaf64b0c826533dafdf993c0": {
     "views": []
    },
    "ed1e5439da9c41199a7bbbda21b556f8": {
     "views": []
    },
    "f585cf5db5024280af5b567f0e4fd771": {
     "views": []
    },
    "f6ba8f8800af47adabed847063bda8db": {
     "views": []
    },
    "f9bae72f14e44705b5c38a3ddc69fee8": {
     "views": []
    }
   },
   "version": "1.1.2"
  }
 },
 "nbformat": 4,
 "nbformat_minor": 2
}
