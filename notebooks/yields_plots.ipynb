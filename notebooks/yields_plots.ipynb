{
 "cells": [
  {
   "cell_type": "markdown",
   "metadata": {},
   "source": [
    "# plotting fit results\n",
    "\n",
    "This notebook runs the function that produces publication ready fit plots"
   ]
  },
  {
   "cell_type": "code",
   "execution_count": 1,
   "metadata": {
    "ExecuteTime": {
     "end_time": "2020-05-14T20:30:10.495761Z",
     "start_time": "2020-05-14T20:30:10.339843Z"
    },
    "code_folding": [
     0
    ]
   },
   "outputs": [
    {
     "name": "stdout",
     "output_type": "stream",
     "text": [
      "/home/naodell/work/wbr/analysis\n",
      "{\n",
      "  \"shell_port\": 35451,\n",
      "  \"iopub_port\": 37503,\n",
      "  \"stdin_port\": 42173,\n",
      "  \"control_port\": 48831,\n",
      "  \"hb_port\": 44793,\n",
      "  \"ip\": \"127.0.0.1\",\n",
      "  \"key\": \"16aa5c54-620ad998568cd1740e389128\",\n",
      "  \"transport\": \"tcp\",\n",
      "  \"signature_scheme\": \"hmac-sha256\",\n",
      "  \"kernel_name\": \"\"\n",
      "}\n",
      "\n",
      "Paste the above JSON into a file, and connect with:\n",
      "    $> jupyter <app> --existing <file>\n",
      "or, if you are local, you can connect with just:\n",
      "    $> jupyter <app> --existing kernel-5fe819d9-87f0-4a12-8e42-bf57ab79a44b.json\n",
      "or even just:\n",
      "    $> jupyter <app> --existing\n",
      "if this is the most recent Jupyter kernel you have started.\n"
     ]
    }
   ],
   "source": [
    "## imports and configuration\n",
    "%cd '/home/naodell/work/wbr/analysis'\n",
    "#%load_ext autoreload\n",
    "\n",
    "from functools import partial\n",
    "import numpy as np\n",
    "import pandas as pd\n",
    "import matplotlib.pyplot as plt\n",
    "import matplotlib\n",
    "from scipy.optimize import minimize\n",
    "from tqdm.notebook import tqdm\n",
    "\n",
    "import scripts.plot_tools as pt\n",
    "import scripts.fit_helpers as fh\n",
    "\n",
    "np.set_printoptions(precision=3)\n",
    "rc_params = {\n",
    "             'figure.figsize': (10, 10),\n",
    "             'axes.labelsize': 20,\n",
    "             'axes.facecolor': 'white',\n",
    "             'axes.titlesize':'x-large',\n",
    "             'legend.fontsize': 20,\n",
    "             'xtick.labelsize':20,\n",
    "             'ytick.labelsize':20,\n",
    "             'font.size':18,\n",
    "             'font.sans-serif':['Arial', 'sans-serif'],\n",
    "             'mathtext.sf':'Arial',\n",
    "             'lines.markersize':8.,\n",
    "             'lines.linewidth':2.5,\n",
    "            }\n",
    "matplotlib.rcParams.update(rc_params)\n",
    "\n",
    "%connect_info"
   ]
  },
  {
   "cell_type": "code",
   "execution_count": 2,
   "metadata": {
    "ExecuteTime": {
     "end_time": "2020-05-14T20:30:10.927547Z",
     "start_time": "2020-05-14T20:30:10.497000Z"
    },
    "code_folding": []
   },
   "outputs": [],
   "source": [
    "# configure, get the input data, and do any additional processing that is needed\n",
    "processes = ['ttbar', 't', 'ww', 'wjets', 'zjets_alt', 'diboson', 'fakes'] \n",
    "selections = [\n",
    "              'ee', 'mumu',  \n",
    "              'emu', \n",
    "              'mutau', 'etau', \n",
    "              'mujet', 'ejet'\n",
    "             ]\n",
    "plot_labels   = fh.fancy_labels\n",
    "bg_labels =  ['Z', 'VV (non-WW)', 'QCD']\n",
    "\n",
    "# initialize fit data\n",
    "infile = open('local_data/fit_data_asimov.pkl', 'rb')\n",
    "fit_data = pickle.load(infile)\n",
    "decay_map = fit_data._decay_map\n",
    "ww_labels = decay_map.alt_label.values \n",
    "\n",
    "# get parameter data\n",
    "parameters = fit_data._parameters"
   ]
  },
  {
   "cell_type": "code",
   "execution_count": 3,
   "metadata": {
    "ExecuteTime": {
     "end_time": "2020-05-14T20:33:50.172965Z",
     "start_time": "2020-05-14T20:30:10.928960Z"
    },
    "code_folding": [
     0
    ]
   },
   "outputs": [
    {
     "data": {
      "application/vnd.jupyter.widget-view+json": {
       "model_id": "35443af0f89c408dabd66fb0b5e163fa",
       "version_major": 2,
       "version_minor": 0
      },
      "text/plain": [
       "HBox(children=(FloatProgress(value=0.0, max=32.0), HTML(value='')))"
      ]
     },
     "metadata": {},
     "output_type": "display_data"
    },
    {
     "name": "stderr",
     "output_type": "stream",
     "text": [
      "findfont: Font family ['cursive'] not found. Falling back to DejaVu Sans.\n"
     ]
    },
    {
     "name": "stdout",
     "output_type": "stream",
     "text": [
      "\n"
     ]
    }
   ],
   "source": [
    "# make some control plots \n",
    "params_pre = parameters['val_init'].values\n",
    "params_post = parameters['val_fit'].values\n",
    "yields = dict()\n",
    "binning_dict = dict()\n",
    "for category, model_data in tqdm(fit_data._model_data.items()):\n",
    "    # parse lepton selection and jet category\n",
    "    cat_split = category.split('_')\n",
    "    sel = cat_split[0]\n",
    "    jet_cat = '_'.join(cat_split[1:])\n",
    "     \n",
    "    # build prefit expectation from model_tensor\n",
    "    expected_pre, expected_var = fit_data.mixture_model(params_pre, category)\n",
    "    \n",
    "    # build postfit expectation from model_tensor\n",
    "    expected_post, _ = fit_data._bb_np[category]*fit_data.mixture_model(params_post, category)\n",
    "\n",
    "    # get the data and binning\n",
    "    template_data = fit_data.get_selection_data(sel)[jet_cat]\n",
    "    data_val, data_var = template_data['templates']['data']['val'], template_data['templates']['data']['var']\n",
    "    bins = template_data['bins'][:-1]\n",
    "    binning_dict[category] = bins\n",
    "    \n",
    "    # get template components (so ugly)\n",
    "    expected_test, _ = fit_data.mixture_model(params_post, category, no_sum=True) # for testing template removal\n",
    "    pmask = model_data['process_mask']\n",
    "    labels = []\n",
    "    signal_mixture = {dm_row['alt_label'] : np.zeros(expected_test.shape[1]) for irow, dm_row in decay_map.iterrows() if dm_row[sel] == 1}\n",
    "    signal_mixture['other'] = np.zeros(expected_test.shape[1])\n",
    "    #signal_mixture[r'$t\\bar{t}/tW/WW\\rightarrow other$'] = np.zeros(expected_test.shape[1])\n",
    "    count = 0\n",
    "    for i, pstate in enumerate(pmask):\n",
    "        if pstate:\n",
    "            if i < 63:\n",
    "                label = ww_labels[i%21]\n",
    "                if decay_map.loc[i%21 + 1, sel] == 1:\n",
    "                    signal_mixture[label] += expected_test[count]\n",
    "                else:\n",
    "                    signal_mixture['other'] += expected_test[count]\n",
    "                    #signal_mixture[r'$t\\bar{t}/tW/WW\\rightarrow other$'] += expected_test[count]\n",
    "                count += 1\n",
    "            if 63 <= i < 69:\n",
    "                signal_mixture['W'] += expected_test[count]\n",
    "                count += 1\n",
    "            if i == 69:\n",
    "                signal_mixture['Z'] = expected_test[count]\n",
    "                labels.append('Z')\n",
    "                count += 1\n",
    "            if i == 70:\n",
    "                signal_mixture['VV (non-WW)'] = expected_test[count]\n",
    "                labels.append('VV (non-WW)')\n",
    "                count += 1\n",
    "            if i == 71:\n",
    "                signal_mixture['QCD'] = expected_test[count]\n",
    "                labels.append('QCD')\n",
    "                count += 1\n",
    "                \n",
    "        if i == 62: # sort signal templates by size\n",
    "            labels.extend([l[0] for l in sorted(signal_mixture.items(), key=lambda x: x[1].sum(), reverse=True)])\n",
    "            signal_mixture['W'] = np.zeros(expected_test.shape[1])\n",
    "            labels.append('W')\n",
    "    \n",
    "    # test systematic uncertainties\n",
    "    ntoys = 10000\n",
    "    pval, perr = params_pre[4:], parameters['err_init'].values[4:]\n",
    "    prand = pval + np.random.randn(pval.size, ntoys).T*perr \n",
    "    toy_data = np.array([fit_data.mixture_model(np.concatenate([fit_data._beta_init, p]), category)[0] for p in prand]) \n",
    "    #toy_data = np.array([td*expected_pre.sum()/td.sum() for td in toy_data])\n",
    "    toy_data.sort(axis=0)\n",
    "    median = toy_data[ntoys//2]\n",
    "    syst_err_pre = (toy_data[int(0.16*ntoys),:]-median, toy_data[-int(0.16*ntoys),:]-median)\n",
    "    \n",
    "    pval, perr = params_post[4:], parameters['err_fit'].values[4:]\n",
    "    prand = pval + np.random.randn(pval.size, ntoys).T*perr \n",
    "    toy_data = np.array([fit_data.mixture_model(np.concatenate([fit_data._beta_init, p]), category)[0] for p in prand]) \n",
    "    toy_data.sort(axis=0)\n",
    "    median = toy_data[ntoys//2]\n",
    "    syst_err_post = (toy_data[int(0.16*ntoys),:]-median, toy_data[-int(0.16*ntoys),:]-median)\n",
    "    \n",
    "    #print(category)\n",
    "    #print(expected_pre)\n",
    "    #print(syst_err_pre[0])\n",
    "    #print(syst_err_pre[1])\n",
    "    #print(syst_err_post[0])\n",
    "    #print(syst_err_post[1])\n",
    "\n",
    "    pt.fit_plot(bins, model_data['data'][0], expected_pre, expected_post, \n",
    "                signal_mixture, labels,\n",
    "                np.sqrt(expected_var), syst_err_pre, syst_err_post,\n",
    "                xlabel=(plot_labels[sel][0]),\n",
    "                title=f'{plot_labels[sel][1]}: {pt.categories[jet_cat].label}',\n",
    "                output_path=f'plots/fits/{sel}_{jet_cat}.png',\n",
    "                show=False\n",
    "               )\n",
    "\n",
    "f = open('local_data/binning.pkl', 'wb')\n",
    "pickle.dump(binning_dict, f)\n",
    "f.close()"
   ]
  },
  {
   "cell_type": "code",
   "execution_count": null,
   "metadata": {},
   "outputs": [],
   "source": []
  }
 ],
 "metadata": {
  "hide_input": false,
  "kernelspec": {
   "display_name": "Python 3",
   "language": "python",
   "name": "python3"
  },
  "language_info": {
   "codemirror_mode": {
    "name": "ipython",
    "version": 3
   },
   "file_extension": ".py",
   "mimetype": "text/x-python",
   "name": "python",
   "nbconvert_exporter": "python",
   "pygments_lexer": "ipython3",
   "version": "3.7.6"
  },
  "latex_envs": {
   "LaTeX_envs_menu_present": true,
   "autoclose": false,
   "autocomplete": true,
   "bibliofile": "biblio.bib",
   "cite_by": "apalike",
   "current_citInitial": 1,
   "eqLabelWithNumbers": true,
   "eqNumInitial": 0,
   "hotkeys": {
    "equation": "Ctrl-E",
    "itemize": "Ctrl-I"
   },
   "labels_anchors": false,
   "latex_user_defs": false,
   "report_style_numbering": false,
   "user_envs_cfg": false
  },
  "toc": {
   "nav_menu": {
    "height": "29px",
    "width": "251px"
   },
   "number_sections": true,
   "sideBar": true,
   "skip_h1_title": false,
   "title_cell": "Table of Contents",
   "title_sidebar": "Contents",
   "toc_cell": false,
   "toc_position": {
    "height": "49px",
    "left": "0px",
    "right": "1493.87px",
    "top": "90.9965px",
    "width": "242px"
   },
   "toc_section_display": false,
   "toc_window_display": false
  },
  "varInspector": {
   "cols": {
    "lenName": 16,
    "lenType": 16,
    "lenVar": 40
   },
   "kernels_config": {
    "python": {
     "delete_cmd_postfix": "",
     "delete_cmd_prefix": "del ",
     "library": "var_list.py",
     "varRefreshCmd": "print(var_dic_list())"
    },
    "r": {
     "delete_cmd_postfix": ") ",
     "delete_cmd_prefix": "rm(",
     "library": "var_list.r",
     "varRefreshCmd": "cat(var_dic_list()) "
    }
   },
   "types_to_exclude": [
    "module",
    "function",
    "builtin_function_or_method",
    "instance",
    "_Feature"
   ],
   "window_display": false
  },
  "widgets": {
   "state": {
    "012f8bbe2fdb410dae6e2cde9d7fe5cb": {
     "views": []
    },
    "080556076f174648bddf64f17a54c523": {
     "views": []
    },
    "0ad83b5f67484ae5b8fd8dd43ccc39bd": {
     "views": []
    },
    "15acd81a9adc493683d9b63813f000bf": {
     "views": []
    },
    "1840cb6fded848b4ae95ec8d3db15ab2": {
     "views": []
    },
    "1dd83f822e074642ae4255b15ee661cf": {
     "views": []
    },
    "1e71a878e6474912a0efc497ecc5d65b": {
     "views": []
    },
    "2022ed83777b4963b630b5c46239e218": {
     "views": []
    },
    "21c4c57bfc48495194663e6a4fbac488": {
     "views": []
    },
    "22c45c75435348c0b9501d493d69fdca": {
     "views": []
    },
    "2635f668a1af4a9db2642e705d7c73ff": {
     "views": []
    },
    "2ad5ddd9347e451b9290e5b4179ab9a2": {
     "views": []
    },
    "2c062b5778024117984822b63b0593d7": {
     "views": []
    },
    "2f5eab2f6fb24192b76a5ffe99195d44": {
     "views": []
    },
    "31632517325046e8b0cb62e4f4ed2480": {
     "views": []
    },
    "3562b97192ed4d42bbab17f77c290f6b": {
     "views": []
    },
    "38a7cc053723492b921cf9f084ed243c": {
     "views": []
    },
    "3b5750b20e1745879ca0f965aad7b614": {
     "views": []
    },
    "3f1cbabbe2694a9dabe3f1c2e09d0ee2": {
     "views": []
    },
    "3fab6a26a70c4238a668a46d4dc88bf6": {
     "views": []
    },
    "3fb3c7a25e954a4888996976fa107737": {
     "views": []
    },
    "415db64fbc574daea8457ab600392f09": {
     "views": []
    },
    "4463de406b4645a4b562fe7917380ff9": {
     "views": []
    },
    "487e5450b5a24507932709f1fa8f59c1": {
     "views": []
    },
    "48aba73013e74e71927f71d42fb44d14": {
     "views": []
    },
    "4a19ad30f77e4fe6a2c84c8b62378a47": {
     "views": []
    },
    "4bc83ff5270d41679d76d26cdded8313": {
     "views": []
    },
    "4bdd9dd5c5c64646a27fa9096851458b": {
     "views": []
    },
    "5014cd42705f45178d5e6eeffd70f119": {
     "views": []
    },
    "5259b340b68e4fdb97fb4eaf9d98d954": {
     "views": []
    },
    "5986ef5b605a42aca10bc5834529ee06": {
     "views": []
    },
    "5c1aa44589a140eb9709734c843abde6": {
     "views": []
    },
    "600cd9ca4f4c46d4ad6fe57df107675a": {
     "views": [
      {
       "cell_index": 7
      }
     ]
    },
    "61fe369ebdd14eaa89de110f6186e6b7": {
     "views": []
    },
    "62ac836017ae47a38f8fde806c5ec9b7": {
     "views": []
    },
    "632ccbfabe91405aa1c5a77c9ea754db": {
     "views": []
    },
    "66175f618ea5472baac618f998d2c06c": {
     "views": []
    },
    "6647a620af034d26abcd327ae02364d4": {
     "views": []
    },
    "6752222d2cba43e18f344a8db7f99d24": {
     "views": []
    },
    "6b684ba1a7c24a35ba2df77016212904": {
     "views": []
    },
    "6cea898f4aca4f1e84601f843e337238": {
     "views": []
    },
    "6f8d1e87fd60462a89d693b2f3b5f007": {
     "views": []
    },
    "74078646a5eb4047b40370a0ab8b6b30": {
     "views": []
    },
    "745b0c79ff3040788ea952fce9c7d607": {
     "views": []
    },
    "757c9b805eb7445bac9a7f141f87e45f": {
     "views": []
    },
    "76ced68e19a742e8976dbfd4e8594a1a": {
     "views": []
    },
    "783bb5e7538d4d9d8315e2698024b353": {
     "views": []
    },
    "794993d66efe4ab29a8d35aad8cfe079": {
     "views": []
    },
    "8375e24bae7541528d7cdc0f379d1d4c": {
     "views": []
    },
    "8554945ec15041a7bf8004dbc3fc5f11": {
     "views": []
    },
    "878a34e26cce4f18bb8232a682ebe964": {
     "views": []
    },
    "8921a75116a549198eb7b7f4a24ab672": {
     "views": []
    },
    "909f4504f0b049bda8b641defa177062": {
     "views": []
    },
    "910b9d32a3fb45ec99da1f9df1add816": {
     "views": []
    },
    "9d15ce601cd34f0699b7a7a0ce1d17dc": {
     "views": []
    },
    "a26638c9fee247b3891aac027a0918cc": {
     "views": []
    },
    "a9d2bf44a3ad447bb3eecde71363c198": {
     "views": []
    },
    "ad366bf4c95f4cdba62d47ba9501efc9": {
     "views": []
    },
    "ad8e1842ec314a94b6ed4b62c4c0a450": {
     "views": []
    },
    "af525094db304d2a812ae1312b00889b": {
     "views": []
    },
    "b0697c4343da491f9a35bf02681dad8f": {
     "views": []
    },
    "b07ff307919e4268bc8bec8379c47a5d": {
     "views": []
    },
    "b0e85c726ca141079333afb27edc63d4": {
     "views": []
    },
    "bdcc1e5df7a8432b9f40d8249a46f90a": {
     "views": []
    },
    "be1065f37fa24e818d31c3bb075947a3": {
     "views": []
    },
    "c296c8df2f734e268c6c1204536e7142": {
     "views": []
    },
    "c4bfd3e447f0426da144b76abc202129": {
     "views": []
    },
    "cced93184d4445218a2b14567579333d": {
     "views": []
    },
    "d5bd2e4d5f85482e9345f3a7a69380d0": {
     "views": []
    },
    "d798fa64e8be4a7d9ec1cbeece3b1be9": {
     "views": []
    },
    "d7aec0d6d05f442b991ab40af944811d": {
     "views": []
    },
    "db469cea2c8e4180bf6890de80329c1d": {
     "views": []
    },
    "e671857510c54634b6f0fa55bf1fa228": {
     "views": []
    },
    "ebf52deafaf64b0c826533dafdf993c0": {
     "views": []
    },
    "ed1e5439da9c41199a7bbbda21b556f8": {
     "views": []
    },
    "f585cf5db5024280af5b567f0e4fd771": {
     "views": []
    },
    "f6ba8f8800af47adabed847063bda8db": {
     "views": []
    },
    "f9bae72f14e44705b5c38a3ddc69fee8": {
     "views": []
    }
   },
   "version": "1.1.2"
  }
 },
 "nbformat": 4,
 "nbformat_minor": 4
}
