{
 "cells": [
  {
   "cell_type": "markdown",
   "metadata": {},
   "source": [
    "# shape systematics\n",
    "\n",
    "In order to assess the effect of various shape systematics, I will take the approach of identifying the sources of such uncertainties and then characterize how much the various distributions that are fitted are affected.  This approach will be based on the prescriptions put forth by Conway (arXiv:1103.0354).  The basic idea is to vary parameter $\\theta$ within its prior uncertainty, $\\sigma_{\\theta}$, and derive modifications to the efficiency in bin $i$.  That is, given some nominal efficiency, $\\epsilon^{0}_{ij}$, for process $j$, we find $\\epsilon^{\\pm}_{ij}$ and then parameterize the bin content as,\n",
    "\n",
    "$$\n",
    "\\epsilon_{ij} = \\epsilon^{0}_{ij} + f\\frac{\\epsilon^{+}_{ij} + \\epsilon^{-}_{ij}}{2}.\n",
    "$$\n",
    "\n",
    "We will first consider the effect of uncertainty on weighting of events due to pileup."
   ]
  },
  {
   "cell_type": "code",
   "execution_count": 1,
   "metadata": {
    "code_folding": [
     0
    ]
   },
   "outputs": [
    {
     "name": "stdout",
     "output_type": "stream",
     "text": [
      "/home/naodell/work/CMS/z_plus_jpsi\n"
     ]
    }
   ],
   "source": [
    "# imports and configuration\n",
    "%cd /home/naodell/work/CMS/z_plus_jpsi\n",
    "\n",
    "import numpy as np\n",
    "import pandas as pd\n",
    "import matplotlib.pyplot as plt\n",
    "import matplotlib\n",
    "matplotlib.style.use('default')\n",
    "\n",
    "import scripts.plot_tools as pt"
   ]
  },
  {
   "cell_type": "code",
   "execution_count": 6,
   "metadata": {
    "code_folding": [
     0
    ]
   },
   "outputs": [
    {
     "name": "stderr",
     "output_type": "stream",
     "text": [
      "Loading dataframes: 100%|███████████████| 17.0/17.0 [00:14<00:00, 2.18it/s]\n"
     ]
    }
   ],
   "source": [
    "# Get the data (unbinned)\n",
    "### get the data and prepare labels\n",
    "features = ['n_jets', 'n_fwdjets', 'n_bjets', 'n_pu', 'n_pv'\n",
    "            'lepton1_pt', 'lepton1_eta', 'lepton1_phi', 'lepton1_iso',              \n",
    "            'lepton2_pt', 'lepton2_eta', 'lepton2_phi', 'lepton2_iso',              \n",
    "            'dilepton1_mass', 'dilepton1_pt', 'dilepton1_eta', 'dilepton1_phi',\n",
    "            'dilepton1_pt_asym',\n",
    "            'met_mag', 'met_phi', 'ht_mag', 'ht_phi',\n",
    "            'jet1_pt', 'jet1_eta', 'jet1_phi', 'jet1_tag',                                     \n",
    "            'jet2_pt', 'jet2_eta', 'jet2_phi', 'jet2_tag',                                     \n",
    "            ]\n",
    "\n",
    "cuts = 'lepton1_pt > 10 and abs(lepton1_eta) < 2.4 \\\n",
    "        and lepton2_pt > 15 and abs(lepton2_eta) < 2.5 \\\n",
    "        and lepton1_reliso < 0.15 \\\n",
    "        and lepton1_q != lepton2_q \\\n",
    "        and 12 < dilepton1_mass \\\n",
    "        and n_jets + n_bjets >= 2 \\\n",
    "        and weight >= 0' # need to figure out why I have negative weights (no I don't use generator weights)\n",
    "\n",
    "datasets    = [\n",
    "               'muon_2016B', 'muon_2016C', 'muon_2016D',\n",
    "               'muon_2016E', 'muon_2016F', 'muon_2016G', 'muon_2016H',\n",
    "               'electron_2016B', 'electron_2016C', 'electron_2016D',\n",
    "               'electron_2016E', 'electron_2016F', 'electron_2016G', 'electron_2016H',\n",
    "\n",
    "               'ttbar_inclusive', 't_tw', 'tbar_tw',             \n",
    "               #'zjets_m-50',  'zjets_m-10to50',  \n",
    "               #'data_ss'\n",
    "               ] \n",
    "\n",
    "dm = pt.DataManager(input_dir     = 'data/flatuples/mumu_2016',\n",
    "                    dataset_names = datasets,\n",
    "                    selection     = 'mumu',\n",
    "                    period        = 2016,\n",
    "                    scale         = 35.9e3,\n",
    "                    cuts          = cuts\n",
    "                   )"
   ]
  },
  {
   "cell_type": "markdown",
   "metadata": {},
   "source": [
    "## pileup\n",
    "\n",
    "Pileup should not be expected to make too significant of an impact on the distributions used in the parameter extractions (mostly lepton kinematic quantities) or the overall yield.  It serves as a good test ground for this technique since the variation of the weights has a [well prescribed procedure](https://twiki.cern.ch/twiki/bin/view/CMS/PileupJSONFileforData#Pileup JSON Files For Run II)"
   ]
  }
 ],
 "metadata": {
  "hide_input": false,
  "kernelspec": {
   "display_name": "Python 3",
   "language": "python",
   "name": "python3"
  },
  "language_info": {
   "codemirror_mode": {
    "name": "ipython",
    "version": 3
   },
   "file_extension": ".py",
   "mimetype": "text/x-python",
   "name": "python",
   "nbconvert_exporter": "python",
   "pygments_lexer": "ipython3",
   "version": "3.6.1"
  },
  "latex_envs": {
   "LaTeX_envs_menu_present": true,
   "autoclose": false,
   "autocomplete": true,
   "bibliofile": "biblio.bib",
   "cite_by": "apalike",
   "current_citInitial": 1,
   "eqLabelWithNumbers": true,
   "eqNumInitial": 1,
   "hotkeys": {
    "equation": "Ctrl-E",
    "itemize": "Ctrl-I"
   },
   "labels_anchors": false,
   "latex_user_defs": false,
   "report_style_numbering": false,
   "user_envs_cfg": false
  },
  "toc": {
   "nav_menu": {},
   "number_sections": true,
   "sideBar": true,
   "skip_h1_title": false,
   "title_cell": "Table of Contents",
   "title_sidebar": "Contents",
   "toc_cell": false,
   "toc_position": {},
   "toc_section_display": true,
   "toc_window_display": false
  }
 },
 "nbformat": 4,
 "nbformat_minor": 2
}
