{
 "cells": [
  {
   "cell_type": "markdown",
   "metadata": {},
   "source": [
    "# fake rates\n",
    "\n",
    "To account for contamination from QCD processes in the muon plus jet and muon plus hadronic tau selections, it is necessary to resort to data-driven estimates of this background process.  The standard method to do this is to invert the isolation requirement on the muon in these events and scale it based on fake rates measured in a fake enriched control region.  In this case we rely on events originating from Drell-Yan where a jet fakes a muon.  The selection requires the following:\n",
    "\n",
    "   * single muon trigger with loose track isolation and pt > 25 GeV\n",
    "   * 2 muons passing tight ID/ISO requirements and consistent with the decay of a Z boson ($75 < M_{\\ell\\ell} < 115$)\n",
    "   * one additional muon passing the tight ID, but with no isolation requirement\n",
    "   * MET < 50 (reduces WZ contamination)\n",
    "\n",
    "The fake rate is determined as a function of pt and accounts for contamination from processes that give rise to a third prompt muon such as $WZ\\rightarrow 3\\mu\\nu$ and $ZZ\\rightarrow 4\\mu$.  The fake rate is just the ratio of isolated muons to nonisolations muons:\n",
    "\n",
    "$$\n",
    "f = \\frac{N_{\\mu}(Iso < 0.15)}{N_{\\mu}}\n",
    "$$\n"
   ]
  },
  {
   "cell_type": "code",
   "execution_count": 3,
   "metadata": {
    "code_folding": [
     0
    ]
   },
   "outputs": [
    {
     "name": "stdout",
     "output_type": "stream",
     "text": [
      "/home/naodell/work/wbr/analysis\n"
     ]
    }
   ],
   "source": [
    "# imports and configuration\n",
    "%cd /home/naodell/work/wbr/analysis\n",
    "\n",
    "import pickle\n",
    "import numpy as np\n",
    "import pandas as pd\n",
    "import matplotlib.pyplot as plt\n",
    "import matplotlib\n",
    "matplotlib.style.use('default')\n",
    "\n",
    "import scripts.plot_tools as pt"
   ]
  },
  {
   "cell_type": "code",
   "execution_count": 4,
   "metadata": {
    "code_folding": [
     0
    ]
   },
   "outputs": [
    {
     "name": "stderr",
     "output_type": "stream",
     "text": [
      "Loading dataframes:  58%|████████▊      | 7.00/12.0 [00:00<00:00, 9.47it/s]\n"
     ]
    },
    {
     "ename": "AttributeError",
     "evalue": "'DataFrame' object has no attribute 'gen_weight'",
     "output_type": "error",
     "traceback": [
      "\u001b[0;31m---------------------------------------------------------------------------\u001b[0m",
      "\u001b[0;31mAttributeError\u001b[0m                            Traceback (most recent call last)",
      "\u001b[0;32m<ipython-input-4-44be5d883cf6>\u001b[0m in \u001b[0;36m<module>\u001b[0;34m()\u001b[0m\n\u001b[1;32m     24\u001b[0m                     \u001b[0mperiod\u001b[0m        \u001b[0;34m=\u001b[0m \u001b[0;36m2016\u001b[0m\u001b[0;34m,\u001b[0m\u001b[0;34m\u001b[0m\u001b[0m\n\u001b[1;32m     25\u001b[0m                     \u001b[0mscale\u001b[0m         \u001b[0;34m=\u001b[0m \u001b[0;36m35.9e3\u001b[0m\u001b[0;34m,\u001b[0m\u001b[0;34m\u001b[0m\u001b[0m\n\u001b[0;32m---> 26\u001b[0;31m                     \u001b[0mcuts\u001b[0m          \u001b[0;34m=\u001b[0m \u001b[0mcuts\u001b[0m\u001b[0;34m\u001b[0m\u001b[0m\n\u001b[0m\u001b[1;32m     27\u001b[0m                    )\n",
      "\u001b[0;32m~/work/wbr/analysis/scripts/plot_tools.py\u001b[0m in \u001b[0;36m__init__\u001b[0;34m(self, input_dir, dataset_names, selection, period, scale, cuts, combine, features)\u001b[0m\n\u001b[1;32m    174\u001b[0m         \u001b[0mself\u001b[0m\u001b[0;34m.\u001b[0m\u001b[0m_combine\u001b[0m       \u001b[0;34m=\u001b[0m \u001b[0mcombine\u001b[0m\u001b[0;34m\u001b[0m\u001b[0m\n\u001b[1;32m    175\u001b[0m         \u001b[0mself\u001b[0m\u001b[0;34m.\u001b[0m\u001b[0m_features\u001b[0m      \u001b[0;34m=\u001b[0m \u001b[0mfeatures\u001b[0m\u001b[0;34m\u001b[0m\u001b[0m\n\u001b[0;32m--> 176\u001b[0;31m         \u001b[0mself\u001b[0m\u001b[0;34m.\u001b[0m\u001b[0m_load_luts\u001b[0m\u001b[0;34m(\u001b[0m\u001b[0;34m)\u001b[0m\u001b[0;34m\u001b[0m\u001b[0m\n\u001b[0m\u001b[1;32m    177\u001b[0m         \u001b[0mself\u001b[0m\u001b[0;34m.\u001b[0m\u001b[0m_load_dataframes\u001b[0m\u001b[0;34m(\u001b[0m\u001b[0;34m)\u001b[0m\u001b[0;34m\u001b[0m\u001b[0m\n\u001b[1;32m    178\u001b[0m \u001b[0;34m\u001b[0m\u001b[0m\n",
      "\u001b[0;32m~/work/wbr/analysis/scripts/plot_tools.py\u001b[0m in \u001b[0;36m_load_dataframes\u001b[0;34m(self)\u001b[0m\n\u001b[1;32m    236\u001b[0m                 \u001b[0mscale\u001b[0m \u001b[0;34m*=\u001b[0m \u001b[0mlut_entry\u001b[0m\u001b[0;34m.\u001b[0m\u001b[0mbranching_fraction\u001b[0m\u001b[0;34m\u001b[0m\u001b[0m\n\u001b[1;32m    237\u001b[0m \u001b[0;34m\u001b[0m\u001b[0m\n\u001b[0;32m--> 238\u001b[0;31m                 \u001b[0;32mif\u001b[0m \u001b[0mdataset\u001b[0m\u001b[0;34m.\u001b[0m\u001b[0msplit\u001b[0m\u001b[0;34m(\u001b[0m\u001b[0;34m'_'\u001b[0m\u001b[0;34m)\u001b[0m\u001b[0;34m[\u001b[0m\u001b[0;36m0\u001b[0m\u001b[0;34m]\u001b[0m \u001b[0;34m==\u001b[0m \u001b[0;34m'zjets'\u001b[0m\u001b[0;34m:\u001b[0m\u001b[0;34m\u001b[0m\u001b[0m\n\u001b[0m\u001b[1;32m    239\u001b[0m                     \u001b[0mscale\u001b[0m \u001b[0;34m*=\u001b[0m \u001b[0mdf\u001b[0m\u001b[0;34m.\u001b[0m\u001b[0mgen_weight\u001b[0m\u001b[0;34m\u001b[0m\u001b[0m\n\u001b[1;32m    240\u001b[0m                     \u001b[0mneg_count\u001b[0m \u001b[0;34m=\u001b[0m \u001b[0mself\u001b[0m\u001b[0;34m.\u001b[0m\u001b[0m_event_counts\u001b[0m\u001b[0;34m[\u001b[0m\u001b[0mdataset\u001b[0m\u001b[0;34m]\u001b[0m\u001b[0;34m[\u001b[0m\u001b[0;36m9\u001b[0m\u001b[0;34m]\u001b[0m\u001b[0;34m\u001b[0m\u001b[0m\n",
      "\u001b[0;32m~/opt/anaconda3/lib/python3.6/site-packages/pandas/core/generic.py\u001b[0m in \u001b[0;36m__getattr__\u001b[0;34m(self, name)\u001b[0m\n\u001b[1;32m   3612\u001b[0m             \u001b[0;32mif\u001b[0m \u001b[0mname\u001b[0m \u001b[0;32min\u001b[0m \u001b[0mself\u001b[0m\u001b[0;34m.\u001b[0m\u001b[0m_info_axis\u001b[0m\u001b[0;34m:\u001b[0m\u001b[0;34m\u001b[0m\u001b[0m\n\u001b[1;32m   3613\u001b[0m                 \u001b[0;32mreturn\u001b[0m \u001b[0mself\u001b[0m\u001b[0;34m[\u001b[0m\u001b[0mname\u001b[0m\u001b[0;34m]\u001b[0m\u001b[0;34m\u001b[0m\u001b[0m\n\u001b[0;32m-> 3614\u001b[0;31m             \u001b[0;32mreturn\u001b[0m \u001b[0mobject\u001b[0m\u001b[0;34m.\u001b[0m\u001b[0m__getattribute__\u001b[0m\u001b[0;34m(\u001b[0m\u001b[0mself\u001b[0m\u001b[0;34m,\u001b[0m \u001b[0mname\u001b[0m\u001b[0;34m)\u001b[0m\u001b[0;34m\u001b[0m\u001b[0m\n\u001b[0m\u001b[1;32m   3615\u001b[0m \u001b[0;34m\u001b[0m\u001b[0m\n\u001b[1;32m   3616\u001b[0m     \u001b[0;32mdef\u001b[0m \u001b[0m__setattr__\u001b[0m\u001b[0;34m(\u001b[0m\u001b[0mself\u001b[0m\u001b[0;34m,\u001b[0m \u001b[0mname\u001b[0m\u001b[0;34m,\u001b[0m \u001b[0mvalue\u001b[0m\u001b[0;34m)\u001b[0m\u001b[0;34m:\u001b[0m\u001b[0;34m\u001b[0m\u001b[0m\n",
      "\u001b[0;31mAttributeError\u001b[0m: 'DataFrame' object has no attribute 'gen_weight'"
     ]
    }
   ],
   "source": [
    "# Get the data (unbinned)\n",
    "### get the data and prepare labels\n",
    "features = ['n_jets', 'n_fwdjets', 'n_bjets', 'n_pu', 'n_pv'\n",
    "            'lepton1_pt', 'lepton1_eta', 'lepton1_phi', 'lepton1_reliso',              \n",
    "            'lepton2_pt', 'lepton2_eta', 'lepton2_phi', 'lepton2_reliso',              \n",
    "            'lepton3_pt', 'lepton3_eta', 'lepton3_phi', 'lepton3_reliso',              \n",
    "            'dilepton1_mass', 'dilepton1_pt', 'dilepton1_eta', 'dilepton1_phi',\n",
    "            'dilepton1_pt_asym',\n",
    "            'met_mag', 'met_phi', 'ht_mag', 'ht_phi',\n",
    "            ]\n",
    "\n",
    "\n",
    "cuts = 'n_muons == 3 \\\n",
    "        and lepton1_q != lepton2_q \\\n",
    "        and abs(dilepton1_mass - 91) < 15'\n",
    "\n",
    "datasets    = [\n",
    "               'muon_2016B', 'muon_2016C', 'muon_2016D',\n",
    "               'muon_2016E', 'muon_2016F', 'muon_2016G', 'muon_2016H',\n",
    "               'zjets_m-50', 'ttbar_lep', 'ttbar_semilep', 'wz_3lnu', 'zz_4l'\n",
    "               ] \n",
    "\n",
    "dm = pt.DataManager(input_dir     = 'data/flatuples/fakes_2016',\n",
    "                    dataset_names = datasets,\n",
    "                    selection     = 'fakes',\n",
    "                    period        = 2016,\n",
    "                    scale         = 35.9e3,\n",
    "                    cuts          = cuts\n",
    "                   )"
   ]
  },
  {
   "cell_type": "markdown",
   "metadata": {},
   "source": [
    "### WZ control region\n",
    "\n",
    "The assumed cross-section for the $WZ\\rightarrow 3\\ell\\nu$ is assumed to be 4.4 pb.  To verify this normalization we construct a WZ enriched control region with the following requirements:\n",
    "\n",
    "   * third muon $p_{T} > 20$\n",
    "   * third muon $Iso/p_{T} < 0.15$\n",
    "   * $M_{\\mu\\mu\\mu} > 175$\n",
    "   * $N_{b tag} = 0$\n",
    "   \n",
    "From this region, we derive a correction factor for the WZ MC sample to be used for the background subtraction in the fake enriched region."
   ]
  },
  {
   "cell_type": "code",
   "execution_count": null,
   "metadata": {
    "code_folding": []
   },
   "outputs": [],
   "source": [
    "# wz control region\n",
    "wz_cuts = 'lepton3_pt > 20 \\\n",
    "           and lepton3_reliso < 0.15 \\\n",
    "           and dilepton_probe_mass > 200 \\\n",
    "           and n_bjets == 0'\n",
    "table = dm.print_yields(['ttbar', 'zjets', 'zz_4l', 'wz_3lnu', 'data'], conditions=[wz_cuts])\n",
    "yields = table['condition_1']\n",
    "wz_corr = (yields['data'] - yields[['ttbar', 'zjets', 'zz_4l']].sum())/yields['wz_3lnu']\n",
    "\n",
    "pd.set_option('precision', 1)\n",
    "print(f'k_wz = {wz_corr}')\n",
    "table"
   ]
  },
  {
   "cell_type": "code",
   "execution_count": null,
   "metadata": {
    "scrolled": false
   },
   "outputs": [],
   "source": [
    "df_data = dm.get_dataframe('data').query('dilepton_probe_mass < 200')\n",
    "df_bg   = dm.get_dataframes(['wz_3lnu', 'zz_4l'], concat=True).query('dilepton_probe_mass < 200')\n",
    "df_data_tight = df_data.query('lepton3_reliso < 0.15')\n",
    "df_bg_tight = df_bg.query('lepton3_reliso < 0.15')\n",
    "\n",
    "bins = np.array([10., 12.5, 15., 17.5, 20., 25., 35., 50., 100.])\n",
    "dx = (bins[1:] - bins[:-1])/2\n",
    "x = bins[:-1] + dx\n",
    "\n",
    "denom_data, _ = np.histogram(df_data.lepton3_pt, bins) \n",
    "denom_bg, _   = np.histogram(df_bg.lepton3_pt, bins, weights=df_bg.weight*wz_corr)\n",
    "numer_data, _ = np.histogram(df_data_tight.lepton3_pt, bins) \n",
    "numer_bg, _   = np.histogram(df_bg_tight.lepton3_pt, bins, weights=df_bg_tight.weight*wz_corr)\n",
    "f = (numer_data - numer_bg)/(denom_data - denom_bg)\n",
    "\n",
    "denom_bg_var, _   = np.histogram(df_bg.lepton3_pt, bins, weights=(df_bg.weight*wz_corr)**2)\n",
    "numer_bg_var, _   = np.histogram(df_bg_tight.lepton3_pt, bins, weights=(df_bg_tight.weight*wz_corr)**2)\n",
    "denom_err = np.sqrt(denom_data + denom_bg_var)\n",
    "numer_err = np.sqrt(numer_data + numer_bg_var)\n",
    "err = pt.ratio_errors(numer_data - numer_bg, numer_err, denom_data - denom_bg, denom_err)\n",
    "\n",
    "df_zjets = dm.get_dataframe('zjets')\n",
    "denom, _ = np.histogram(df_zjets.lepton3_pt, bins, weights=df_zjets.weight)\n",
    "numer, _ = np.histogram(df_zjets.query('lepton3_reliso < 0.15').lepton3_pt, bins, weights=df_zjets.query('lepton3_reliso < 0.15').weight)\n",
    "f_true = numer/denom \n",
    "err_true = np.sqrt(f_true*(1-f_true)/denom)\n",
    "\n",
    "fig, axes = plt.subplots(2, 1, figsize=(6, 6), facecolor='white', sharex=False, gridspec_kw={'height_ratios':[1,1]})\n",
    "fig.subplots_adjust(hspace=0)\n",
    "\n",
    "denom_data = np.append(denom_data/dx, denom_data[-1]/dx[-1])\n",
    "denom_bg = np.append(denom_bg/dx, denom_bg[-1]/dx[-1])\n",
    "numer_data = np.append(numer_data/dx, numer_data[-1]/dx[-1])\n",
    "numer_bg = np.append(numer_bg/dx, numer_bg[-1]/dx[-1])\n",
    "\n",
    "axes[0].plot(bins, denom_data, color='C0', drawstyle='steps-post') \n",
    "axes[0].plot(bins, numer_data, color='C0', linestyle='--', drawstyle='steps-post') \n",
    "axes[0].plot(bins, denom_bg, color='C1', drawstyle='steps-post')\n",
    "axes[0].plot(bins, numer_bg, linestyle='--', color='C1', drawstyle='steps-post')\n",
    "\n",
    "axes[0].set_ylabel('Entries / bin')\n",
    "axes[0].set_yscale('log')\n",
    "axes[0].set_ylim(5, 2.5*denom.max())\n",
    "axes[0].set_xlim(bins[0], bins[-1] - dx[-1])\n",
    "axes[0].legend(['data', r'data (Iso/$\\sf p_{T}$ < 0.15)', 'prompt MC', r'prompt MC (Iso/$\\sf p_{T}$ < 0.15)'])\n",
    "axes[0].grid()\n",
    "\n",
    "axes[1].plot(x, f)\n",
    "axes[1].fill_between(x, f+1.5*err, f-1.5*err, color='C0', alpha=0.5,)\n",
    "axes[1].plot(x, f_true, c='C4')\n",
    "axes[1].fill_between(x, f_true+1.5*err_true, f_true-1.5*err_true, color='C4', alpha=0.5,)\n",
    "axes[1].set_xlabel(r'probe muon $\\sf p_{T}$ [GeV]')\n",
    "axes[1].set_ylabel('fake rate')\n",
    "axes[1].set_xlim(bins[0], bins[-1] - dx[-1])\n",
    "axes[1].set_ylim(0., 0.25)\n",
    "axes[1].grid()\n",
    "axes[1].legend(['data', 'Z+jets'])\n",
    "\n",
    "plt.tight_layout()\n",
    "plt.savefig('plots/fake_rates.pdf')\n",
    "plt.show()"
   ]
  },
  {
   "cell_type": "code",
   "execution_count": null,
   "metadata": {},
   "outputs": [],
   "source": []
  }
 ],
 "metadata": {
  "hide_input": false,
  "kernelspec": {
   "display_name": "Python 3",
   "language": "python",
   "name": "python3"
  },
  "language_info": {
   "codemirror_mode": {
    "name": "ipython",
    "version": 3
   },
   "file_extension": ".py",
   "mimetype": "text/x-python",
   "name": "python",
   "nbconvert_exporter": "python",
   "pygments_lexer": "ipython3",
   "version": "3.6.4"
  },
  "latex_envs": {
   "LaTeX_envs_menu_present": true,
   "autoclose": false,
   "autocomplete": true,
   "bibliofile": "biblio.bib",
   "cite_by": "apalike",
   "current_citInitial": 1,
   "eqLabelWithNumbers": true,
   "eqNumInitial": 1,
   "hotkeys": {
    "equation": "Ctrl-E",
    "itemize": "Ctrl-I"
   },
   "labels_anchors": false,
   "latex_user_defs": false,
   "report_style_numbering": false,
   "user_envs_cfg": false
  },
  "toc": {
   "nav_menu": {},
   "number_sections": true,
   "sideBar": true,
   "skip_h1_title": false,
   "title_cell": "Table of Contents",
   "title_sidebar": "Contents",
   "toc_cell": false,
   "toc_position": {},
   "toc_section_display": true,
   "toc_window_display": false
  }
 },
 "nbformat": 4,
 "nbformat_minor": 2
}
