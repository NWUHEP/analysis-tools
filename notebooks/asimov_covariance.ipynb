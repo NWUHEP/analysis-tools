{
 "cells": [
  {
   "cell_type": "markdown",
   "metadata": {},
   "source": [
    "## baseline fit and covariance estimation\n",
    "\n",
    "To assess the impact of various sources of systematic, we will rely on an Asimov dataset."
   ]
  },
  {
   "cell_type": "code",
   "execution_count": 1,
   "metadata": {
    "ExecuteTime": {
     "end_time": "2019-10-13T04:23:09.742534Z",
     "start_time": "2019-10-13T04:23:09.497548Z"
    },
    "code_folding": [
     0
    ]
   },
   "outputs": [
    {
     "name": "stdout",
     "output_type": "stream",
     "text": [
      "/home/naodell/work/wbr/analysis\n",
      "{\n",
      "  \"shell_port\": 55707,\n",
      "  \"iopub_port\": 46711,\n",
      "  \"stdin_port\": 59437,\n",
      "  \"control_port\": 37429,\n",
      "  \"hb_port\": 44069,\n",
      "  \"ip\": \"127.0.0.1\",\n",
      "  \"key\": \"6716e453-1edb7548ac02587e73dafe8d\",\n",
      "  \"transport\": \"tcp\",\n",
      "  \"signature_scheme\": \"hmac-sha256\",\n",
      "  \"kernel_name\": \"\"\n",
      "}\n",
      "\n",
      "Paste the above JSON into a file, and connect with:\n",
      "    $> jupyter <app> --existing <file>\n",
      "or, if you are local, you can connect with just:\n",
      "    $> jupyter <app> --existing kernel-1c7ddba0-a4c4-4633-ad16-05ea10b210ca.json\n",
      "or even just:\n",
      "    $> jupyter <app> --existing\n",
      "if this is the most recent Jupyter kernel you have started.\n"
     ]
    }
   ],
   "source": [
    "## imports and configuration\n",
    "%cd '/home/naodell/work/wbr/analysis'\n",
    "#%load_ext autoreload\n",
    "\n",
    "from functools import partial\n",
    "import numpy as np\n",
    "import pandas as pd\n",
    "import matplotlib.pyplot as plt\n",
    "import matplotlib\n",
    "from scipy.optimize import minimize\n",
    "from tqdm import tqdm_notebook\n",
    "\n",
    "import scripts.plot_tools as pt\n",
    "import scripts.fit_helpers as fh\n",
    "from nllfit.nllfitter import ScanParameters\n",
    "\n",
    "np.set_printoptions(precision=3)\n",
    "rc_params = {\n",
    "             'figure.figsize': (10, 10),\n",
    "             'axes.labelsize': 20,\n",
    "             'axes.facecolor': 'white',\n",
    "             'axes.titlesize':'x-large',\n",
    "             'legend.fontsize': 20,\n",
    "             'xtick.labelsize':18,\n",
    "             'ytick.labelsize':18,\n",
    "             'font.size':18,\n",
    "             'font.sans-serif':['Arial', 'sans-serif'],\n",
    "             'mathtext.sf':'Arial',\n",
    "             'lines.markersize':8.,\n",
    "             'lines.linewidth':2.5,\n",
    "            }\n",
    "matplotlib.rcParams.update(rc_params)\n",
    "\n",
    "%connect_info"
   ]
  },
  {
   "cell_type": "code",
   "execution_count": 2,
   "metadata": {
    "ExecuteTime": {
     "end_time": "2019-10-13T04:23:15.395472Z",
     "start_time": "2019-10-13T04:23:09.743869Z"
    },
    "code_folding": [
     0
    ],
    "scrolled": false
   },
   "outputs": [],
   "source": [
    "# configure, get the input data, and do any additional processing that is needed\n",
    "processes = ['ttbar', 't', 'ww', 'wjets', 'zjets_alt', 'diboson', 'fakes'] \n",
    "selections = [\n",
    "              'ee',  'mumu',  \n",
    "              'emu', \n",
    "              'mutau', 'etau', \n",
    "              'mu4j', 'e4j'\n",
    "             ]\n",
    "plot_labels = fh.fancy_labels\n",
    "\n",
    "# initialize fit data\n",
    "input_dir  = f'local_data/templates/nominal/'\n",
    "fit_data = fh.FitData(input_dir, selections, processes, process_cut=0.01)"
   ]
  },
  {
   "cell_type": "code",
   "execution_count": 3,
   "metadata": {
    "ExecuteTime": {
     "end_time": "2019-10-13T04:23:15.433549Z",
     "start_time": "2019-10-13T04:23:15.397336Z"
    },
    "code_folding": [
     0
    ],
    "scrolled": true
   },
   "outputs": [],
   "source": [
    "# prepare Asimov dataset\n",
    "params = fit_data._parameters\n",
    "params_pre = fit_data.get_params_init().values\n",
    "asimov_data = dict()\n",
    "for category, model_data in fit_data._model_data.items():\n",
    "    # parse lepton selection and jet category\n",
    "    cat_split = category.split('_')\n",
    "    sel = cat_split[0]\n",
    "    jet_cat = '_'.join(cat_split[1:])\n",
    "    \n",
    "    # build prefit expectation from model_tensor\n",
    "    expected_pre, expected_var = fit_data.mixture_model(params_pre, category)\n",
    "    expected_test = fit_data.model_sums(sel, jet_cat) # for testing template removal\n",
    "    \n",
    "    asimov_data[category] = (expected_pre, np.sqrt(expected_pre))\n"
   ]
  },
  {
   "cell_type": "code",
   "execution_count": 4,
   "metadata": {
    "ExecuteTime": {
     "end_time": "2019-10-13T04:23:15.441690Z",
     "start_time": "2019-10-13T04:23:15.435413Z"
    },
    "code_folding": [
     0
    ]
   },
   "outputs": [],
   "source": [
    "# initialize veto list\n",
    "fit_data.veto_list = [\n",
    "    # baseline\n",
    "    #'ee_cat_gt2_eq1_b', 'ee_cat_gt2_gt2_b', \n",
    "    #'mumu_cat_gt2_eq1_b', 'mumu_cat_gt2_gt2_b', \n",
    "    #'emu_cat_gt2_eq1_a', 'emu_cat_gt2_gt2_a', \n",
    "    #'etau_cat_eq2_eq1', 'etau_cat_gt3_eq1', 'etau_cat_eq2_gt2', 'etau_cat_gt3_gt2', \n",
    "    #'mutau_cat_eq2_eq1', 'mutau_cat_gt3_eq1', 'mutau_cat_eq2_gt2', 'mutau_cat_gt3_gt2', \n",
    "    #'e4j_cat_gt4_eq1', 'e4j_cat_gt4_gt2'\n",
    "    #'mu4j_cat_gt4_eq1', 'mu4j_cat_gt4_gt2', \n",
    "    'e4j_cat_eq3_gt2', 'mu4j_cat_eq3_gt2',\n",
    "    \n",
    "    # e/mu DY CR\n",
    "    'ee_cat_gt2_eq0',  'mumu_cat_gt2_eq0', \n",
    "    \n",
    "    # e+mu additional ttbar\n",
    "    #'emu_cat_gt2_eq0', 'emu_cat_eq1_eq0_a', 'emu_cat_eq1_eq1_a', \n",
    "    \n",
    "    # e+mu WW\n",
    "    #'emu_cat_eq0_eq0_a', \n",
    "    \n",
    "    # e/mu+tau additional CR\n",
    "    #'mutau_cat_eq0_eq0', 'mutau_cat_eq1_eq0', \n",
    "    #'mutau_cat_gt2_eq0', 'mutau_cat_eq1_eq1', \n",
    "    #'etau_cat_eq0_eq0', 'etau_cat_eq1_eq0', \n",
    "    #'etau_cat_gt2_eq0', 'etau_cat_eq1_eq1', \n",
    "]"
   ]
  },
  {
   "cell_type": "code",
   "execution_count": 23,
   "metadata": {
    "ExecuteTime": {
     "end_time": "2019-10-13T04:44:06.270569Z",
     "start_time": "2019-10-13T04:44:06.266269Z"
    },
    "code_folding": []
   },
   "outputs": [],
   "source": [
    "# fit configuration #\n",
    "\n",
    "# minimizer options\n",
    "min_options = dict(#eps=1e-9, \n",
    "                   gtol = 1e-2,\n",
    "                   disp = True\n",
    "                  )\n",
    "\n",
    "# configure the objective\n",
    "mask = fit_data._pmask\n",
    "fobj = partial(fit_data.objective,\n",
    "               data = None,\n",
    "               do_bb_lite = True,\n",
    "               lu_test = 0\n",
    "              )\n",
    "\n",
    "fobj_jac = partial(fit_data.objective_jacobian,\n",
    "                   data = None,\n",
    "                   do_bb_lite = True,\n",
    "                   lu_test = 0\n",
    "                  )\n"
   ]
  },
  {
   "cell_type": "code",
   "execution_count": 17,
   "metadata": {
    "ExecuteTime": {
     "end_time": "2019-10-13T04:32:31.475733Z",
     "start_time": "2019-10-13T04:30:44.840799Z"
    },
    "code_folding": [],
    "scrolled": true
   },
   "outputs": [
    {
     "name": "stdout",
     "output_type": "stream",
     "text": [
      "Optimization terminated successfully.\n",
      "         Current function value: 768.797403\n",
      "         Iterations: 74\n",
      "         Function evaluations: 94\n",
      "         Gradient evaluations: 94\n",
      " null :  0 768.7974030677494 [10.731 10.73  10.731 67.808]\n"
     ]
    }
   ],
   "source": [
    "# carry out fit for null hypothesis\n",
    "result_null = minimize(fobj, params_pre[mask],\n",
    "                       jac = fobj_jac,\n",
    "                       method  = 'BFGS', \n",
    "                       options = min_options,\n",
    "                       args = ()\n",
    "                      )\n",
    "\n",
    "print(' null : ', result_null.status, result_null.fun, result_null.x[:4]*100)"
   ]
  },
  {
   "cell_type": "code",
   "execution_count": 18,
   "metadata": {
    "ExecuteTime": {
     "end_time": "2019-10-13T04:36:17.573356Z",
     "start_time": "2019-10-13T04:34:31.893396Z"
    },
    "code_folding": []
   },
   "outputs": [
    {
     "name": "stdout",
     "output_type": "stream",
     "text": [
      "Optimization terminated successfully.\n",
      "         Current function value: 748.269507\n",
      "         Iterations: 78\n",
      "         Function evaluations: 91\n",
      "         Gradient evaluations: 91\n",
      " alt. 1:  0 748.2695072995422 [10.637 10.637 11.626 67.1  ]\n"
     ]
    }
   ],
   "source": [
    "# carry out fit for alt 1\n",
    "fobj.keywords['lu_test'] = 1\n",
    "fobj_jac.keywords['lu_test'] = 1\n",
    "result_alt1 = minimize(fobj, params_pre[mask],\n",
    "                       jac     = fobj_jac,\n",
    "                       method  = 'BFGS', \n",
    "                       options = min_options,\n",
    "                       args = ()\n",
    "                      )\n",
    "        \n",
    "print(' alt. 1: ', result_alt1.status, result_alt1.fun, result_alt1.x[:4]*100)"
   ]
  },
  {
   "cell_type": "code",
   "execution_count": 19,
   "metadata": {
    "ExecuteTime": {
     "end_time": "2019-10-13T04:39:23.702998Z",
     "start_time": "2019-10-13T04:36:26.196357Z"
    },
    "code_folding": []
   },
   "outputs": [
    {
     "name": "stdout",
     "output_type": "stream",
     "text": [
      "Warning: Desired error not necessarily achieved due to precision loss.\n",
      "         Current function value: 746.725142\n",
      "         Iterations: 80\n",
      "         Function evaluations: 168\n",
      "         Gradient evaluations: 156\n",
      " alt. 2:  2 746.7251418558576 [10.52  10.67  11.588 67.223]\n"
     ]
    }
   ],
   "source": [
    "# carry out fit for alt 2\n",
    "fobj.keywords['lu_test'] = 2\n",
    "fobj_jac.keywords['lu_test'] = 2\n",
    "result_alt2 =  minimize(fobj, params_pre[mask],\n",
    "                        jac     = fobj_jac,\n",
    "                        method  = 'BFGS', \n",
    "                        options = min_options,\n",
    "                        #bounds  = bnds,\n",
    "                       )\n",
    "\n",
    "print(' alt. 2: ', result_alt2.status, result_alt2.fun, result_alt2.x[:4]*100)"
   ]
  },
  {
   "cell_type": "code",
   "execution_count": 20,
   "metadata": {
    "ExecuteTime": {
     "end_time": "2019-10-13T04:39:31.702552Z",
     "start_time": "2019-10-13T04:39:31.695259Z"
    },
    "code_folding": []
   },
   "outputs": [
    {
     "name": "stdout",
     "output_type": "stream",
     "text": [
      "  41.05579153641452 6.300916775336161 44.144522423783656 6.213248821428359\n"
     ]
    }
   ],
   "source": [
    "# Wilk's theorem\n",
    "from scipy.stats import chi2, norm\n",
    "q1 = 2*(result_null.fun - result_alt1.fun)\n",
    "z1 = -norm.ppf(chi2.sf(q1, 1))\n",
    "\n",
    "q2 = 2*(result_null.fun - result_alt2.fun)\n",
    "z2 = -norm.ppf(chi2.sf(q2, 2))\n",
    "\n",
    "print(' ', q1, z1, q2, z2)"
   ]
  },
  {
   "cell_type": "code",
   "execution_count": 21,
   "metadata": {
    "ExecuteTime": {
     "end_time": "2019-10-13T04:43:48.345170Z",
     "start_time": "2019-10-13T04:39:40.341792Z"
    },
    "code_folding": [],
    "scrolled": false
   },
   "outputs": [
    {
     "name": "stderr",
     "output_type": "stream",
     "text": [
      "/home/naodell/opt/anaconda3/lib/python3.7/site-packages/numdifftools/limits.py:182: FutureWarning: arrays to stack must be passed as a \"sequence\" type such as list or tuple. Support for non-sequence iterables such as generators is deprecated as of NumPy 1.16 and will raise an error in the future.\n",
      "  f_del = np.vstack(list(np.ravel(r)) for r in sequence)\n",
      "/home/naodell/opt/anaconda3/lib/python3.7/site-packages/numdifftools/limits.py:184: FutureWarning: arrays to stack must be passed as a \"sequence\" type such as list or tuple. Support for non-sequence iterables such as generators is deprecated as of NumPy 1.16 and will raise an error in the future.\n",
      "  for step in steps)\n"
     ]
    }
   ],
   "source": [
    "# calculate covariance matrix from the inverse of the Hessian of the NLL\n",
    "p_mle = result_alt2.x\n",
    "stderr, corr = fh.calculate_covariance(fobj, p_mle)"
   ]
  },
  {
   "cell_type": "code",
   "execution_count": 22,
   "metadata": {
    "ExecuteTime": {
     "end_time": "2019-10-13T04:43:57.218687Z",
     "start_time": "2019-10-13T04:43:56.974491Z"
    },
    "code_folding": [
     0
    ],
    "scrolled": false
   },
   "outputs": [
    {
     "data": {
      "text/html": [
       "<div>\n",
       "<style scoped>\n",
       "    .dataframe tbody tr th:only-of-type {\n",
       "        vertical-align: middle;\n",
       "    }\n",
       "\n",
       "    .dataframe tbody tr th {\n",
       "        vertical-align: top;\n",
       "    }\n",
       "\n",
       "    .dataframe thead th {\n",
       "        text-align: right;\n",
       "    }\n",
       "</style>\n",
       "<table border=\"1\" class=\"dataframe\">\n",
       "  <thead>\n",
       "    <tr style=\"text-align: right;\">\n",
       "      <th></th>\n",
       "      <th>val_init</th>\n",
       "      <th>err_init</th>\n",
       "      <th>val_fit</th>\n",
       "      <th>err_fit</th>\n",
       "    </tr>\n",
       "    <tr>\n",
       "      <th>name</th>\n",
       "      <th></th>\n",
       "      <th></th>\n",
       "      <th></th>\n",
       "      <th></th>\n",
       "    </tr>\n",
       "  </thead>\n",
       "  <tbody>\n",
       "    <tr>\n",
       "      <th>beta_e</th>\n",
       "      <td>0.108</td>\n",
       "      <td>100.000</td>\n",
       "      <td>0.105</td>\n",
       "      <td>0.786</td>\n",
       "    </tr>\n",
       "    <tr>\n",
       "      <th>beta_mu</th>\n",
       "      <td>0.108</td>\n",
       "      <td>100.000</td>\n",
       "      <td>0.107</td>\n",
       "      <td>0.519</td>\n",
       "    </tr>\n",
       "    <tr>\n",
       "      <th>beta_tau</th>\n",
       "      <td>0.108</td>\n",
       "      <td>100.000</td>\n",
       "      <td>0.116</td>\n",
       "      <td>1.425</td>\n",
       "    </tr>\n",
       "    <tr>\n",
       "      <th>beta_h</th>\n",
       "      <td>0.676</td>\n",
       "      <td>100.000</td>\n",
       "      <td>0.672</td>\n",
       "      <td>0.303</td>\n",
       "    </tr>\n",
       "    <tr>\n",
       "      <th>br_tau_e</th>\n",
       "      <td>0.178</td>\n",
       "      <td>0.224</td>\n",
       "      <td>0.179</td>\n",
       "      <td>0.224</td>\n",
       "    </tr>\n",
       "    <tr>\n",
       "      <th>br_tau_mu</th>\n",
       "      <td>0.174</td>\n",
       "      <td>0.230</td>\n",
       "      <td>0.174</td>\n",
       "      <td>0.230</td>\n",
       "    </tr>\n",
       "    <tr>\n",
       "      <th>br_tau_h</th>\n",
       "      <td>0.648</td>\n",
       "      <td>0.154</td>\n",
       "      <td>0.648</td>\n",
       "      <td>0.154</td>\n",
       "    </tr>\n",
       "    <tr>\n",
       "      <th>lumi</th>\n",
       "      <td>1.000</td>\n",
       "      <td>0.025</td>\n",
       "      <td>1.095</td>\n",
       "      <td>0.017</td>\n",
       "    </tr>\n",
       "    <tr>\n",
       "      <th>xs_diboson</th>\n",
       "      <td>1.000</td>\n",
       "      <td>0.100</td>\n",
       "      <td>1.033</td>\n",
       "      <td>0.098</td>\n",
       "    </tr>\n",
       "    <tr>\n",
       "      <th>xs_ww</th>\n",
       "      <td>1.000</td>\n",
       "      <td>0.100</td>\n",
       "      <td>0.943</td>\n",
       "      <td>0.033</td>\n",
       "    </tr>\n",
       "    <tr>\n",
       "      <th>xs_t</th>\n",
       "      <td>1.000</td>\n",
       "      <td>0.100</td>\n",
       "      <td>0.388</td>\n",
       "      <td>0.051</td>\n",
       "    </tr>\n",
       "    <tr>\n",
       "      <th>xs_wjets</th>\n",
       "      <td>1.000</td>\n",
       "      <td>0.100</td>\n",
       "      <td>1.045</td>\n",
       "      <td>0.031</td>\n",
       "    </tr>\n",
       "    <tr>\n",
       "      <th>e_fakes</th>\n",
       "      <td>1.000</td>\n",
       "      <td>0.100</td>\n",
       "      <td>1.576</td>\n",
       "      <td>0.073</td>\n",
       "    </tr>\n",
       "    <tr>\n",
       "      <th>mu_fakes</th>\n",
       "      <td>1.000</td>\n",
       "      <td>0.100</td>\n",
       "      <td>1.330</td>\n",
       "      <td>0.027</td>\n",
       "    </tr>\n",
       "    <tr>\n",
       "      <th>e_fakes_ss</th>\n",
       "      <td>1.000</td>\n",
       "      <td>0.100</td>\n",
       "      <td>0.980</td>\n",
       "      <td>0.028</td>\n",
       "    </tr>\n",
       "    <tr>\n",
       "      <th>mu_fakes_ss</th>\n",
       "      <td>1.000</td>\n",
       "      <td>0.100</td>\n",
       "      <td>1.094</td>\n",
       "      <td>0.038</td>\n",
       "    </tr>\n",
       "    <tr>\n",
       "      <th>trigger_e</th>\n",
       "      <td>1.000</td>\n",
       "      <td>0.010</td>\n",
       "      <td>1.010</td>\n",
       "      <td>0.006</td>\n",
       "    </tr>\n",
       "    <tr>\n",
       "      <th>trigger_mu</th>\n",
       "      <td>1.000</td>\n",
       "      <td>0.005</td>\n",
       "      <td>0.994</td>\n",
       "      <td>0.004</td>\n",
       "    </tr>\n",
       "    <tr>\n",
       "      <th>xs_zjets_alt_pdf</th>\n",
       "      <td>0.000</td>\n",
       "      <td>1.000</td>\n",
       "      <td>0.848</td>\n",
       "      <td>0.954</td>\n",
       "    </tr>\n",
       "    <tr>\n",
       "      <th>xs_zjets_alt_alpha_s</th>\n",
       "      <td>0.000</td>\n",
       "      <td>1.000</td>\n",
       "      <td>-0.865</td>\n",
       "      <td>0.830</td>\n",
       "    </tr>\n",
       "    <tr>\n",
       "      <th>xs_zjets_alt_qcd_scale_0</th>\n",
       "      <td>0.000</td>\n",
       "      <td>1.000</td>\n",
       "      <td>-1.942</td>\n",
       "      <td>0.217</td>\n",
       "    </tr>\n",
       "    <tr>\n",
       "      <th>xs_zjets_alt_qcd_scale_1</th>\n",
       "      <td>0.000</td>\n",
       "      <td>1.000</td>\n",
       "      <td>-0.816</td>\n",
       "      <td>0.258</td>\n",
       "    </tr>\n",
       "    <tr>\n",
       "      <th>xs_zjets_alt_qcd_scale_2</th>\n",
       "      <td>0.000</td>\n",
       "      <td>1.000</td>\n",
       "      <td>-0.391</td>\n",
       "      <td>0.162</td>\n",
       "    </tr>\n",
       "    <tr>\n",
       "      <th>xs_ttbar_pdf</th>\n",
       "      <td>0.000</td>\n",
       "      <td>1.000</td>\n",
       "      <td>0.603</td>\n",
       "      <td>1.010</td>\n",
       "    </tr>\n",
       "    <tr>\n",
       "      <th>xs_ttbar_alpha_s</th>\n",
       "      <td>0.000</td>\n",
       "      <td>1.000</td>\n",
       "      <td>-0.853</td>\n",
       "      <td>1.042</td>\n",
       "    </tr>\n",
       "    <tr>\n",
       "      <th>xs_ttbar_qcd_scale</th>\n",
       "      <td>0.000</td>\n",
       "      <td>1.000</td>\n",
       "      <td>-0.392</td>\n",
       "      <td>0.227</td>\n",
       "    </tr>\n",
       "    <tr>\n",
       "      <th>eff_tau_0</th>\n",
       "      <td>0.000</td>\n",
       "      <td>1.000</td>\n",
       "      <td>-2.373</td>\n",
       "      <td>0.316</td>\n",
       "    </tr>\n",
       "    <tr>\n",
       "      <th>eff_tau_1</th>\n",
       "      <td>0.000</td>\n",
       "      <td>1.000</td>\n",
       "      <td>-1.496</td>\n",
       "      <td>0.247</td>\n",
       "    </tr>\n",
       "    <tr>\n",
       "      <th>eff_tau_2</th>\n",
       "      <td>0.000</td>\n",
       "      <td>1.000</td>\n",
       "      <td>-1.271</td>\n",
       "      <td>0.200</td>\n",
       "    </tr>\n",
       "    <tr>\n",
       "      <th>eff_tau_3</th>\n",
       "      <td>0.000</td>\n",
       "      <td>1.000</td>\n",
       "      <td>-2.374</td>\n",
       "      <td>0.275</td>\n",
       "    </tr>\n",
       "    <tr>\n",
       "      <th>eff_tau_4</th>\n",
       "      <td>0.000</td>\n",
       "      <td>1.000</td>\n",
       "      <td>-2.215</td>\n",
       "      <td>0.401</td>\n",
       "    </tr>\n",
       "    <tr>\n",
       "      <th>eff_tau_5</th>\n",
       "      <td>0.000</td>\n",
       "      <td>1.000</td>\n",
       "      <td>-3.598</td>\n",
       "      <td>0.336</td>\n",
       "    </tr>\n",
       "    <tr>\n",
       "      <th>misid_tau_e</th>\n",
       "      <td>0.000</td>\n",
       "      <td>1.000</td>\n",
       "      <td>0.167</td>\n",
       "      <td>0.992</td>\n",
       "    </tr>\n",
       "    <tr>\n",
       "      <th>misid_tau_h</th>\n",
       "      <td>0.000</td>\n",
       "      <td>1.000</td>\n",
       "      <td>0.045</td>\n",
       "      <td>0.506</td>\n",
       "    </tr>\n",
       "    <tr>\n",
       "      <th>misid_tau_0</th>\n",
       "      <td>0.000</td>\n",
       "      <td>1.000</td>\n",
       "      <td>0.092</td>\n",
       "      <td>0.477</td>\n",
       "    </tr>\n",
       "    <tr>\n",
       "      <th>misid_tau_1</th>\n",
       "      <td>0.000</td>\n",
       "      <td>1.000</td>\n",
       "      <td>-0.031</td>\n",
       "      <td>0.581</td>\n",
       "    </tr>\n",
       "    <tr>\n",
       "      <th>misid_tau_2</th>\n",
       "      <td>0.000</td>\n",
       "      <td>1.000</td>\n",
       "      <td>-0.693</td>\n",
       "      <td>0.618</td>\n",
       "    </tr>\n",
       "    <tr>\n",
       "      <th>misid_tau_3</th>\n",
       "      <td>0.000</td>\n",
       "      <td>1.000</td>\n",
       "      <td>0.453</td>\n",
       "      <td>0.783</td>\n",
       "    </tr>\n",
       "    <tr>\n",
       "      <th>misid_tau_4</th>\n",
       "      <td>0.000</td>\n",
       "      <td>1.000</td>\n",
       "      <td>0.087</td>\n",
       "      <td>0.882</td>\n",
       "    </tr>\n",
       "    <tr>\n",
       "      <th>misid_tau_5</th>\n",
       "      <td>0.000</td>\n",
       "      <td>1.000</td>\n",
       "      <td>0.119</td>\n",
       "      <td>0.890</td>\n",
       "    </tr>\n",
       "    <tr>\n",
       "      <th>escale_tau_0</th>\n",
       "      <td>0.000</td>\n",
       "      <td>1.000</td>\n",
       "      <td>-0.564</td>\n",
       "      <td>0.338</td>\n",
       "    </tr>\n",
       "    <tr>\n",
       "      <th>escale_tau_1</th>\n",
       "      <td>0.000</td>\n",
       "      <td>1.000</td>\n",
       "      <td>-0.286</td>\n",
       "      <td>0.326</td>\n",
       "    </tr>\n",
       "    <tr>\n",
       "      <th>escale_tau_10</th>\n",
       "      <td>0.000</td>\n",
       "      <td>1.000</td>\n",
       "      <td>0.908</td>\n",
       "      <td>0.220</td>\n",
       "    </tr>\n",
       "    <tr>\n",
       "      <th>eff_reco_e</th>\n",
       "      <td>0.000</td>\n",
       "      <td>1.000</td>\n",
       "      <td>1.611</td>\n",
       "      <td>0.912</td>\n",
       "    </tr>\n",
       "    <tr>\n",
       "      <th>eff_id_e</th>\n",
       "      <td>0.000</td>\n",
       "      <td>1.000</td>\n",
       "      <td>-1.480</td>\n",
       "      <td>0.421</td>\n",
       "    </tr>\n",
       "    <tr>\n",
       "      <th>eff_e_0</th>\n",
       "      <td>0.000</td>\n",
       "      <td>1.000</td>\n",
       "      <td>-1.238</td>\n",
       "      <td>0.539</td>\n",
       "    </tr>\n",
       "    <tr>\n",
       "      <th>eff_e_1</th>\n",
       "      <td>0.000</td>\n",
       "      <td>1.000</td>\n",
       "      <td>0.217</td>\n",
       "      <td>0.717</td>\n",
       "    </tr>\n",
       "    <tr>\n",
       "      <th>eff_e_2</th>\n",
       "      <td>0.000</td>\n",
       "      <td>1.000</td>\n",
       "      <td>2.088</td>\n",
       "      <td>0.715</td>\n",
       "    </tr>\n",
       "    <tr>\n",
       "      <th>eff_e_3</th>\n",
       "      <td>0.000</td>\n",
       "      <td>1.000</td>\n",
       "      <td>0.548</td>\n",
       "      <td>0.856</td>\n",
       "    </tr>\n",
       "    <tr>\n",
       "      <th>eff_e_4</th>\n",
       "      <td>0.000</td>\n",
       "      <td>1.000</td>\n",
       "      <td>0.450</td>\n",
       "      <td>0.592</td>\n",
       "    </tr>\n",
       "    <tr>\n",
       "      <th>eff_e_5</th>\n",
       "      <td>0.000</td>\n",
       "      <td>1.000</td>\n",
       "      <td>-3.022</td>\n",
       "      <td>0.499</td>\n",
       "    </tr>\n",
       "    <tr>\n",
       "      <th>escale_e</th>\n",
       "      <td>0.000</td>\n",
       "      <td>1.000</td>\n",
       "      <td>-2.082</td>\n",
       "      <td>0.286</td>\n",
       "    </tr>\n",
       "    <tr>\n",
       "      <th>eff_iso_mu</th>\n",
       "      <td>0.000</td>\n",
       "      <td>1.000</td>\n",
       "      <td>0.095</td>\n",
       "      <td>0.966</td>\n",
       "    </tr>\n",
       "    <tr>\n",
       "      <th>eff_id_mu</th>\n",
       "      <td>0.000</td>\n",
       "      <td>1.000</td>\n",
       "      <td>-1.277</td>\n",
       "      <td>0.935</td>\n",
       "    </tr>\n",
       "    <tr>\n",
       "      <th>eff_mu_0</th>\n",
       "      <td>0.000</td>\n",
       "      <td>1.000</td>\n",
       "      <td>0.495</td>\n",
       "      <td>0.964</td>\n",
       "    </tr>\n",
       "    <tr>\n",
       "      <th>eff_mu_1</th>\n",
       "      <td>0.000</td>\n",
       "      <td>1.000</td>\n",
       "      <td>-0.419</td>\n",
       "      <td>0.973</td>\n",
       "    </tr>\n",
       "    <tr>\n",
       "      <th>eff_mu_2</th>\n",
       "      <td>0.000</td>\n",
       "      <td>1.000</td>\n",
       "      <td>0.259</td>\n",
       "      <td>0.972</td>\n",
       "    </tr>\n",
       "    <tr>\n",
       "      <th>eff_mu_3</th>\n",
       "      <td>0.000</td>\n",
       "      <td>1.000</td>\n",
       "      <td>1.146</td>\n",
       "      <td>0.775</td>\n",
       "    </tr>\n",
       "    <tr>\n",
       "      <th>eff_mu_4</th>\n",
       "      <td>0.000</td>\n",
       "      <td>1.000</td>\n",
       "      <td>0.056</td>\n",
       "      <td>0.924</td>\n",
       "    </tr>\n",
       "    <tr>\n",
       "      <th>eff_mu_5</th>\n",
       "      <td>0.000</td>\n",
       "      <td>1.000</td>\n",
       "      <td>0.262</td>\n",
       "      <td>0.998</td>\n",
       "    </tr>\n",
       "    <tr>\n",
       "      <th>eff_mu_6</th>\n",
       "      <td>0.000</td>\n",
       "      <td>1.000</td>\n",
       "      <td>0.537</td>\n",
       "      <td>0.985</td>\n",
       "    </tr>\n",
       "    <tr>\n",
       "      <th>eff_mu_7</th>\n",
       "      <td>0.000</td>\n",
       "      <td>1.000</td>\n",
       "      <td>-1.986</td>\n",
       "      <td>0.969</td>\n",
       "    </tr>\n",
       "    <tr>\n",
       "      <th>escale_mu</th>\n",
       "      <td>0.000</td>\n",
       "      <td>1.000</td>\n",
       "      <td>-2.293</td>\n",
       "      <td>0.172</td>\n",
       "    </tr>\n",
       "    <tr>\n",
       "      <th>pileup</th>\n",
       "      <td>0.000</td>\n",
       "      <td>1.000</td>\n",
       "      <td>-0.364</td>\n",
       "      <td>0.288</td>\n",
       "    </tr>\n",
       "    <tr>\n",
       "      <th>ww_scale</th>\n",
       "      <td>0.000</td>\n",
       "      <td>1.000</td>\n",
       "      <td>1.459</td>\n",
       "      <td>0.596</td>\n",
       "    </tr>\n",
       "    <tr>\n",
       "      <th>ww_resum</th>\n",
       "      <td>0.000</td>\n",
       "      <td>1.000</td>\n",
       "      <td>-0.074</td>\n",
       "      <td>0.797</td>\n",
       "    </tr>\n",
       "    <tr>\n",
       "      <th>btag_bfragmentation</th>\n",
       "      <td>0.000</td>\n",
       "      <td>1.000</td>\n",
       "      <td>-0.109</td>\n",
       "      <td>1.143</td>\n",
       "    </tr>\n",
       "    <tr>\n",
       "      <th>btag_btempcorr</th>\n",
       "      <td>0.000</td>\n",
       "      <td>1.000</td>\n",
       "      <td>0.429</td>\n",
       "      <td>1.714</td>\n",
       "    </tr>\n",
       "    <tr>\n",
       "      <th>btag_cb</th>\n",
       "      <td>0.000</td>\n",
       "      <td>1.000</td>\n",
       "      <td>-0.081</td>\n",
       "      <td>0.848</td>\n",
       "    </tr>\n",
       "    <tr>\n",
       "      <th>btag_cfragmentation</th>\n",
       "      <td>0.000</td>\n",
       "      <td>1.000</td>\n",
       "      <td>0.013</td>\n",
       "      <td>0.997</td>\n",
       "    </tr>\n",
       "    <tr>\n",
       "      <th>btag_dmux</th>\n",
       "      <td>0.000</td>\n",
       "      <td>1.000</td>\n",
       "      <td>-0.031</td>\n",
       "      <td>0.791</td>\n",
       "    </tr>\n",
       "    <tr>\n",
       "      <th>btag_gluonsplitting</th>\n",
       "      <td>0.000</td>\n",
       "      <td>1.000</td>\n",
       "      <td>-0.913</td>\n",
       "      <td>1.674</td>\n",
       "    </tr>\n",
       "    <tr>\n",
       "      <th>btag_jes</th>\n",
       "      <td>0.000</td>\n",
       "      <td>1.000</td>\n",
       "      <td>0.163</td>\n",
       "      <td>1.146</td>\n",
       "    </tr>\n",
       "    <tr>\n",
       "      <th>btag_jetaway</th>\n",
       "      <td>0.000</td>\n",
       "      <td>1.000</td>\n",
       "      <td>1.720</td>\n",
       "      <td>1.914</td>\n",
       "    </tr>\n",
       "    <tr>\n",
       "      <th>btag_ksl</th>\n",
       "      <td>0.000</td>\n",
       "      <td>1.000</td>\n",
       "      <td>0.033</td>\n",
       "      <td>1.000</td>\n",
       "    </tr>\n",
       "    <tr>\n",
       "      <th>btag_l2c</th>\n",
       "      <td>0.000</td>\n",
       "      <td>1.000</td>\n",
       "      <td>0.035</td>\n",
       "      <td>0.854</td>\n",
       "    </tr>\n",
       "    <tr>\n",
       "      <th>btag_ltothers</th>\n",
       "      <td>0.000</td>\n",
       "      <td>1.000</td>\n",
       "      <td>-0.018</td>\n",
       "      <td>0.877</td>\n",
       "    </tr>\n",
       "    <tr>\n",
       "      <th>btag_mudr</th>\n",
       "      <td>0.000</td>\n",
       "      <td>1.000</td>\n",
       "      <td>0.122</td>\n",
       "      <td>1.210</td>\n",
       "    </tr>\n",
       "    <tr>\n",
       "      <th>btag_mupt</th>\n",
       "      <td>0.000</td>\n",
       "      <td>1.000</td>\n",
       "      <td>0.112</td>\n",
       "      <td>0.977</td>\n",
       "    </tr>\n",
       "    <tr>\n",
       "      <th>btag_ptrel</th>\n",
       "      <td>0.000</td>\n",
       "      <td>1.000</td>\n",
       "      <td>0.069</td>\n",
       "      <td>0.860</td>\n",
       "    </tr>\n",
       "    <tr>\n",
       "      <th>btag_sampledependence</th>\n",
       "      <td>0.000</td>\n",
       "      <td>1.000</td>\n",
       "      <td>0.259</td>\n",
       "      <td>1.058</td>\n",
       "    </tr>\n",
       "    <tr>\n",
       "      <th>btag_pileup</th>\n",
       "      <td>0.000</td>\n",
       "      <td>1.000</td>\n",
       "      <td>0.137</td>\n",
       "      <td>0.924</td>\n",
       "    </tr>\n",
       "    <tr>\n",
       "      <th>btag_statistic</th>\n",
       "      <td>0.000</td>\n",
       "      <td>1.000</td>\n",
       "      <td>-0.141</td>\n",
       "      <td>0.996</td>\n",
       "    </tr>\n",
       "    <tr>\n",
       "      <th>ctag</th>\n",
       "      <td>0.000</td>\n",
       "      <td>1.000</td>\n",
       "      <td>-0.746</td>\n",
       "      <td>0.517</td>\n",
       "    </tr>\n",
       "    <tr>\n",
       "      <th>mistag</th>\n",
       "      <td>0.000</td>\n",
       "      <td>1.000</td>\n",
       "      <td>0.636</td>\n",
       "      <td>0.548</td>\n",
       "    </tr>\n",
       "    <tr>\n",
       "      <th>jer</th>\n",
       "      <td>0.000</td>\n",
       "      <td>1.000</td>\n",
       "      <td>0.149</td>\n",
       "      <td>0.437</td>\n",
       "    </tr>\n",
       "    <tr>\n",
       "      <th>jes_abs_scale</th>\n",
       "      <td>0.000</td>\n",
       "      <td>1.000</td>\n",
       "      <td>-0.810</td>\n",
       "      <td>1.313</td>\n",
       "    </tr>\n",
       "    <tr>\n",
       "      <th>jes_abs_stat</th>\n",
       "      <td>0.000</td>\n",
       "      <td>1.000</td>\n",
       "      <td>-2.326</td>\n",
       "      <td>0.941</td>\n",
       "    </tr>\n",
       "    <tr>\n",
       "      <th>jes_fragmentation</th>\n",
       "      <td>0.000</td>\n",
       "      <td>1.000</td>\n",
       "      <td>-0.932</td>\n",
       "      <td>0.911</td>\n",
       "    </tr>\n",
       "    <tr>\n",
       "      <th>jes_abs_mpf_bias</th>\n",
       "      <td>0.000</td>\n",
       "      <td>1.000</td>\n",
       "      <td>-0.911</td>\n",
       "      <td>0.899</td>\n",
       "    </tr>\n",
       "    <tr>\n",
       "      <th>jes_pileup_data_mc</th>\n",
       "      <td>0.000</td>\n",
       "      <td>1.000</td>\n",
       "      <td>-0.386</td>\n",
       "      <td>0.732</td>\n",
       "    </tr>\n",
       "    <tr>\n",
       "      <th>jes_pileup_pt_bb</th>\n",
       "      <td>0.000</td>\n",
       "      <td>1.000</td>\n",
       "      <td>-0.858</td>\n",
       "      <td>0.875</td>\n",
       "    </tr>\n",
       "    <tr>\n",
       "      <th>jes_pileup_pt_ec1</th>\n",
       "      <td>0.000</td>\n",
       "      <td>1.000</td>\n",
       "      <td>0.142</td>\n",
       "      <td>0.634</td>\n",
       "    </tr>\n",
       "    <tr>\n",
       "      <th>jes_pileup_pt_ref</th>\n",
       "      <td>0.000</td>\n",
       "      <td>1.000</td>\n",
       "      <td>-0.410</td>\n",
       "      <td>0.558</td>\n",
       "    </tr>\n",
       "    <tr>\n",
       "      <th>jes_relative_bal</th>\n",
       "      <td>0.000</td>\n",
       "      <td>1.000</td>\n",
       "      <td>-0.365</td>\n",
       "      <td>0.681</td>\n",
       "    </tr>\n",
       "    <tr>\n",
       "      <th>jes_relative_jer_ec1</th>\n",
       "      <td>0.000</td>\n",
       "      <td>1.000</td>\n",
       "      <td>-0.049</td>\n",
       "      <td>1.201</td>\n",
       "    </tr>\n",
       "    <tr>\n",
       "      <th>jes_relative_pt_bb</th>\n",
       "      <td>0.000</td>\n",
       "      <td>1.000</td>\n",
       "      <td>-2.574</td>\n",
       "      <td>1.173</td>\n",
       "    </tr>\n",
       "    <tr>\n",
       "      <th>jes_relative_pt_ec1</th>\n",
       "      <td>0.000</td>\n",
       "      <td>1.000</td>\n",
       "      <td>-0.203</td>\n",
       "      <td>0.671</td>\n",
       "    </tr>\n",
       "    <tr>\n",
       "      <th>jes_relative_stat_fsr</th>\n",
       "      <td>0.000</td>\n",
       "      <td>1.000</td>\n",
       "      <td>-0.212</td>\n",
       "      <td>1.310</td>\n",
       "    </tr>\n",
       "    <tr>\n",
       "      <th>jes_relative_stat_ec</th>\n",
       "      <td>0.000</td>\n",
       "      <td>1.000</td>\n",
       "      <td>-0.135</td>\n",
       "      <td>0.759</td>\n",
       "    </tr>\n",
       "    <tr>\n",
       "      <th>jes_single_pion_ecal</th>\n",
       "      <td>0.000</td>\n",
       "      <td>1.000</td>\n",
       "      <td>0.892</td>\n",
       "      <td>0.804</td>\n",
       "    </tr>\n",
       "    <tr>\n",
       "      <th>jes_single_pion_hcal</th>\n",
       "      <td>0.000</td>\n",
       "      <td>1.000</td>\n",
       "      <td>0.639</td>\n",
       "      <td>0.776</td>\n",
       "    </tr>\n",
       "    <tr>\n",
       "      <th>jes_time_pt_eta</th>\n",
       "      <td>0.000</td>\n",
       "      <td>1.000</td>\n",
       "      <td>0.160</td>\n",
       "      <td>0.836</td>\n",
       "    </tr>\n",
       "    <tr>\n",
       "      <th>jes_flavor_qcd</th>\n",
       "      <td>0.000</td>\n",
       "      <td>1.000</td>\n",
       "      <td>-0.144</td>\n",
       "      <td>0.444</td>\n",
       "    </tr>\n",
       "  </tbody>\n",
       "</table>\n",
       "</div>"
      ],
      "text/plain": [
       "                          val_init  err_init  val_fit  err_fit\n",
       "name                                                          \n",
       "beta_e                       0.108   100.000    0.105    0.786\n",
       "beta_mu                      0.108   100.000    0.107    0.519\n",
       "beta_tau                     0.108   100.000    0.116    1.425\n",
       "beta_h                       0.676   100.000    0.672    0.303\n",
       "br_tau_e                     0.178     0.224    0.179    0.224\n",
       "br_tau_mu                    0.174     0.230    0.174    0.230\n",
       "br_tau_h                     0.648     0.154    0.648    0.154\n",
       "lumi                         1.000     0.025    1.095    0.017\n",
       "xs_diboson                   1.000     0.100    1.033    0.098\n",
       "xs_ww                        1.000     0.100    0.943    0.033\n",
       "xs_t                         1.000     0.100    0.388    0.051\n",
       "xs_wjets                     1.000     0.100    1.045    0.031\n",
       "e_fakes                      1.000     0.100    1.576    0.073\n",
       "mu_fakes                     1.000     0.100    1.330    0.027\n",
       "e_fakes_ss                   1.000     0.100    0.980    0.028\n",
       "mu_fakes_ss                  1.000     0.100    1.094    0.038\n",
       "trigger_e                    1.000     0.010    1.010    0.006\n",
       "trigger_mu                   1.000     0.005    0.994    0.004\n",
       "xs_zjets_alt_pdf             0.000     1.000    0.848    0.954\n",
       "xs_zjets_alt_alpha_s         0.000     1.000   -0.865    0.830\n",
       "xs_zjets_alt_qcd_scale_0     0.000     1.000   -1.942    0.217\n",
       "xs_zjets_alt_qcd_scale_1     0.000     1.000   -0.816    0.258\n",
       "xs_zjets_alt_qcd_scale_2     0.000     1.000   -0.391    0.162\n",
       "xs_ttbar_pdf                 0.000     1.000    0.603    1.010\n",
       "xs_ttbar_alpha_s             0.000     1.000   -0.853    1.042\n",
       "xs_ttbar_qcd_scale           0.000     1.000   -0.392    0.227\n",
       "eff_tau_0                    0.000     1.000   -2.373    0.316\n",
       "eff_tau_1                    0.000     1.000   -1.496    0.247\n",
       "eff_tau_2                    0.000     1.000   -1.271    0.200\n",
       "eff_tau_3                    0.000     1.000   -2.374    0.275\n",
       "eff_tau_4                    0.000     1.000   -2.215    0.401\n",
       "eff_tau_5                    0.000     1.000   -3.598    0.336\n",
       "misid_tau_e                  0.000     1.000    0.167    0.992\n",
       "misid_tau_h                  0.000     1.000    0.045    0.506\n",
       "misid_tau_0                  0.000     1.000    0.092    0.477\n",
       "misid_tau_1                  0.000     1.000   -0.031    0.581\n",
       "misid_tau_2                  0.000     1.000   -0.693    0.618\n",
       "misid_tau_3                  0.000     1.000    0.453    0.783\n",
       "misid_tau_4                  0.000     1.000    0.087    0.882\n",
       "misid_tau_5                  0.000     1.000    0.119    0.890\n",
       "escale_tau_0                 0.000     1.000   -0.564    0.338\n",
       "escale_tau_1                 0.000     1.000   -0.286    0.326\n",
       "escale_tau_10                0.000     1.000    0.908    0.220\n",
       "eff_reco_e                   0.000     1.000    1.611    0.912\n",
       "eff_id_e                     0.000     1.000   -1.480    0.421\n",
       "eff_e_0                      0.000     1.000   -1.238    0.539\n",
       "eff_e_1                      0.000     1.000    0.217    0.717\n",
       "eff_e_2                      0.000     1.000    2.088    0.715\n",
       "eff_e_3                      0.000     1.000    0.548    0.856\n",
       "eff_e_4                      0.000     1.000    0.450    0.592\n",
       "eff_e_5                      0.000     1.000   -3.022    0.499\n",
       "escale_e                     0.000     1.000   -2.082    0.286\n",
       "eff_iso_mu                   0.000     1.000    0.095    0.966\n",
       "eff_id_mu                    0.000     1.000   -1.277    0.935\n",
       "eff_mu_0                     0.000     1.000    0.495    0.964\n",
       "eff_mu_1                     0.000     1.000   -0.419    0.973\n",
       "eff_mu_2                     0.000     1.000    0.259    0.972\n",
       "eff_mu_3                     0.000     1.000    1.146    0.775\n",
       "eff_mu_4                     0.000     1.000    0.056    0.924\n",
       "eff_mu_5                     0.000     1.000    0.262    0.998\n",
       "eff_mu_6                     0.000     1.000    0.537    0.985\n",
       "eff_mu_7                     0.000     1.000   -1.986    0.969\n",
       "escale_mu                    0.000     1.000   -2.293    0.172\n",
       "pileup                       0.000     1.000   -0.364    0.288\n",
       "ww_scale                     0.000     1.000    1.459    0.596\n",
       "ww_resum                     0.000     1.000   -0.074    0.797\n",
       "btag_bfragmentation          0.000     1.000   -0.109    1.143\n",
       "btag_btempcorr               0.000     1.000    0.429    1.714\n",
       "btag_cb                      0.000     1.000   -0.081    0.848\n",
       "btag_cfragmentation          0.000     1.000    0.013    0.997\n",
       "btag_dmux                    0.000     1.000   -0.031    0.791\n",
       "btag_gluonsplitting          0.000     1.000   -0.913    1.674\n",
       "btag_jes                     0.000     1.000    0.163    1.146\n",
       "btag_jetaway                 0.000     1.000    1.720    1.914\n",
       "btag_ksl                     0.000     1.000    0.033    1.000\n",
       "btag_l2c                     0.000     1.000    0.035    0.854\n",
       "btag_ltothers                0.000     1.000   -0.018    0.877\n",
       "btag_mudr                    0.000     1.000    0.122    1.210\n",
       "btag_mupt                    0.000     1.000    0.112    0.977\n",
       "btag_ptrel                   0.000     1.000    0.069    0.860\n",
       "btag_sampledependence        0.000     1.000    0.259    1.058\n",
       "btag_pileup                  0.000     1.000    0.137    0.924\n",
       "btag_statistic               0.000     1.000   -0.141    0.996\n",
       "ctag                         0.000     1.000   -0.746    0.517\n",
       "mistag                       0.000     1.000    0.636    0.548\n",
       "jer                          0.000     1.000    0.149    0.437\n",
       "jes_abs_scale                0.000     1.000   -0.810    1.313\n",
       "jes_abs_stat                 0.000     1.000   -2.326    0.941\n",
       "jes_fragmentation            0.000     1.000   -0.932    0.911\n",
       "jes_abs_mpf_bias             0.000     1.000   -0.911    0.899\n",
       "jes_pileup_data_mc           0.000     1.000   -0.386    0.732\n",
       "jes_pileup_pt_bb             0.000     1.000   -0.858    0.875\n",
       "jes_pileup_pt_ec1            0.000     1.000    0.142    0.634\n",
       "jes_pileup_pt_ref            0.000     1.000   -0.410    0.558\n",
       "jes_relative_bal             0.000     1.000   -0.365    0.681\n",
       "jes_relative_jer_ec1         0.000     1.000   -0.049    1.201\n",
       "jes_relative_pt_bb           0.000     1.000   -2.574    1.173\n",
       "jes_relative_pt_ec1          0.000     1.000   -0.203    0.671\n",
       "jes_relative_stat_fsr        0.000     1.000   -0.212    1.310\n",
       "jes_relative_stat_ec         0.000     1.000   -0.135    0.759\n",
       "jes_single_pion_ecal         0.000     1.000    0.892    0.804\n",
       "jes_single_pion_hcal         0.000     1.000    0.639    0.776\n",
       "jes_time_pt_eta              0.000     1.000    0.160    0.836\n",
       "jes_flavor_qcd               0.000     1.000   -0.144    0.444"
      ]
     },
     "execution_count": 22,
     "metadata": {},
     "output_type": "execute_result"
    }
   ],
   "source": [
    "# plot errors\n",
    "parameters = fit_data._parameters.copy()[mask]\n",
    "parameters['val_fit'] = result_alt2.x\n",
    "parameters['err_fit'] = stderr\n",
    "\n",
    "# scale branching fraction values\n",
    "param_mask = np.array(parameters.type == 'poi', dtype=bool)\n",
    "val_init = parameters.loc[param_mask, 'val_init']\n",
    "parameters.loc[param_mask, 'err_init'] *= 100/val_init\n",
    "parameters.loc[param_mask, 'err_fit'] *= 100/val_init\n",
    "\n",
    "parameters['ratio'] = parameters.err_fit/parameters.err_init\n",
    "\n",
    "# scale normalization values\n",
    "param_mask = np.array(parameters.type == 'norm', dtype=bool)\n",
    "#parameters.loc[param_mask, 'err_init'] *= 100\n",
    "#parameters.loc[param_mask, 'err_fit'] *= 100\n",
    "\n",
    "pd.set_option('display.float_format', lambda x: '%.3f' % x)\n",
    "pd.set_option('display.max_columns', parameters.shape[0])\n",
    "pd.set_option('display.max_rows', parameters.shape[0])\n",
    "\n",
    "# plot nuisance parameter errors and constraints\n",
    "parameters.set_index('label')\n",
    "parameters.to_csv('local_data/pulls.csv')\n",
    "\n",
    "parameters[['val_init', 'err_init', 'val_fit', 'err_fit']]\n",
    "#parameters[['err_init', 'err_fit', 'ratio']]#.head(4)\n"
   ]
  },
  {
   "cell_type": "code",
   "execution_count": 12,
   "metadata": {
    "ExecuteTime": {
     "end_time": "2019-10-13T04:29:41.535086Z",
     "start_time": "2019-10-13T04:29:41.407398Z"
    },
    "code_folding": [
     0
    ],
    "scrolled": true
   },
   "outputs": [],
   "source": [
    "# produce correlation matrix\n",
    "p_labels = list(params.index)\n",
    "p_labels_fancy = fit_data._parameters.label[mask]\n",
    "\n",
    "df_corr = pd.DataFrame(corr, columns=p_labels_fancy, index=p_labels_fancy)\n",
    "df_corr.to_latex('local_data/corr_table_full.tex')\n",
    "df_corr.to_csv('local_data/corr_table_full.csv')\n",
    "\n",
    "#import seaborn as sns\n",
    "#fig, ax = plt.subplots(1, 1, facecolor='white', figsize=(40, 32))\n",
    "#sns.heatmap(df_corr, cmap='Spectral', annot=False, fmt='.2f', ax=ax, cbar_kws={'label': r'correlation coefficient'})\n",
    "#plt.plot([4, df_corr.shape[0]], [4, 4], 'r--')\n",
    "#plt.plot([4, 4], [4, df_corr.shape[0]], 'r--')\n",
    "#ax.set_xlabel('')\n",
    "#ax.set_ylabel('')\n",
    "#ax.xaxis.tick_top()\n",
    "#plt.xticks(rotation=90)\n",
    "#\n",
    "#plt.tight_layout()\n",
    "#plt.subplots_adjust(top=0.9)\n",
    "#plt.savefig('plots/systematics/correlation_matrix.pdf')\n",
    "#plt.show()"
   ]
  },
  {
   "cell_type": "code",
   "execution_count": 13,
   "metadata": {
    "ExecuteTime": {
     "end_time": "2019-10-13T04:29:41.540648Z",
     "start_time": "2019-10-13T04:29:41.537195Z"
    },
    "code_folding": [
     0
    ]
   },
   "outputs": [],
   "source": [
    "## helper functions and imports\n",
    "from tqdm import tqdm_notebook, trange\n",
    "from multiprocessing import Pool\n",
    "\n",
    "def reduced_objective(p, mask, p_init, do_mc_stat=False):\n",
    "    masked_p = p_init.copy()\n",
    "    masked_p[mask] = p\n",
    "    return fit_data.objective(masked_p, data=asimov_data, do_mc_stat=do_mc_stat)\n"
   ]
  },
  {
   "cell_type": "code",
   "execution_count": 14,
   "metadata": {
    "ExecuteTime": {
     "end_time": "2019-10-13T04:29:41.730647Z",
     "start_time": "2019-10-13T04:29:41.542366Z"
    },
    "code_folding": [
     0
    ]
   },
   "outputs": [
    {
     "ename": "TypeError",
     "evalue": "objective() got an unexpected keyword argument 'do_mc_stat'",
     "output_type": "error",
     "traceback": [
      "\u001b[0;31m---------------------------------------------------------------------------\u001b[0m",
      "\u001b[0;31mTypeError\u001b[0m                                 Traceback (most recent call last)",
      "\u001b[0;32m<ipython-input-14-986df20408ad>\u001b[0m in \u001b[0;36m<module>\u001b[0;34m()\u001b[0m\n\u001b[1;32m      5\u001b[0m \u001b[0;34m\u001b[0m\u001b[0m\n\u001b[1;32m      6\u001b[0m \u001b[0mfobj\u001b[0m \u001b[0;34m=\u001b[0m \u001b[0mpartial\u001b[0m\u001b[0;34m(\u001b[0m\u001b[0mreduced_objective\u001b[0m\u001b[0;34m,\u001b[0m \u001b[0mmask\u001b[0m\u001b[0;34m=\u001b[0m\u001b[0mmask\u001b[0m\u001b[0;34m,\u001b[0m \u001b[0mp_init\u001b[0m\u001b[0;34m=\u001b[0m\u001b[0mparams_init\u001b[0m\u001b[0;34m,\u001b[0m \u001b[0mdo_mc_stat\u001b[0m\u001b[0;34m=\u001b[0m\u001b[0;32mFalse\u001b[0m\u001b[0;34m)\u001b[0m\u001b[0;34m\u001b[0m\u001b[0;34m\u001b[0m\u001b[0m\n\u001b[0;32m----> 7\u001b[0;31m \u001b[0merr_stat\u001b[0m\u001b[0;34m,\u001b[0m \u001b[0m_\u001b[0m \u001b[0;34m=\u001b[0m \u001b[0mfh\u001b[0m\u001b[0;34m.\u001b[0m\u001b[0mcalculate_covariance\u001b[0m\u001b[0;34m(\u001b[0m\u001b[0mfobj\u001b[0m\u001b[0;34m,\u001b[0m \u001b[0mparams_init\u001b[0m\u001b[0;34m[\u001b[0m\u001b[0;34m:\u001b[0m\u001b[0;36m4\u001b[0m\u001b[0;34m]\u001b[0m\u001b[0;34m)\u001b[0m\u001b[0;34m\u001b[0m\u001b[0;34m\u001b[0m\u001b[0m\n\u001b[0m\u001b[1;32m      8\u001b[0m \u001b[0merr_stat\u001b[0m \u001b[0;34m=\u001b[0m \u001b[0mnp\u001b[0m\u001b[0;34m.\u001b[0m\u001b[0mconcatenate\u001b[0m\u001b[0;34m(\u001b[0m\u001b[0;34m[\u001b[0m\u001b[0merr_stat\u001b[0m\u001b[0;34m,\u001b[0m \u001b[0mnp\u001b[0m\u001b[0;34m.\u001b[0m\u001b[0mzeros\u001b[0m\u001b[0;34m(\u001b[0m\u001b[0mparams_init\u001b[0m\u001b[0;34m[\u001b[0m\u001b[0;36m4\u001b[0m\u001b[0;34m:\u001b[0m\u001b[0;34m]\u001b[0m\u001b[0;34m.\u001b[0m\u001b[0msize\u001b[0m\u001b[0;34m)\u001b[0m\u001b[0;34m]\u001b[0m\u001b[0;34m)\u001b[0m\u001b[0;34m\u001b[0m\u001b[0;34m\u001b[0m\u001b[0m\n\u001b[1;32m      9\u001b[0m \u001b[0;34m\u001b[0m\u001b[0m\n",
      "\u001b[0;32m~/work/wbr/analysis/scripts/fit_helpers.py\u001b[0m in \u001b[0;36mcalculate_covariance\u001b[0;34m(f, x0)\u001b[0m\n\u001b[1;32m    140\u001b[0m                        )\n\u001b[1;32m    141\u001b[0m \u001b[0;34m\u001b[0m\u001b[0m\n\u001b[0;32m--> 142\u001b[0;31m     \u001b[0mhobj\u001b[0m \u001b[0;34m=\u001b[0m \u001b[0mhcalc\u001b[0m\u001b[0;34m(\u001b[0m\u001b[0mx0\u001b[0m\u001b[0;34m)\u001b[0m\u001b[0;34m[\u001b[0m\u001b[0;36m0\u001b[0m\u001b[0;34m]\u001b[0m\u001b[0;34m\u001b[0m\u001b[0;34m\u001b[0m\u001b[0m\n\u001b[0m\u001b[1;32m    143\u001b[0m     \u001b[0;32mif\u001b[0m \u001b[0mnp\u001b[0m\u001b[0;34m.\u001b[0m\u001b[0mlinalg\u001b[0m\u001b[0;34m.\u001b[0m\u001b[0mdet\u001b[0m\u001b[0;34m(\u001b[0m\u001b[0mhobj\u001b[0m\u001b[0;34m)\u001b[0m \u001b[0;34m!=\u001b[0m \u001b[0;36m0\u001b[0m\u001b[0;34m:\u001b[0m\u001b[0;34m\u001b[0m\u001b[0;34m\u001b[0m\u001b[0m\n\u001b[1;32m    144\u001b[0m         \u001b[0;31m# calculate the full covariance matrix in the case that the H\u001b[0m\u001b[0;34m\u001b[0m\u001b[0;34m\u001b[0m\u001b[0;34m\u001b[0m\u001b[0m\n",
      "\u001b[0;32m~/opt/anaconda3/lib/python3.7/site-packages/numdifftools/core.py\u001b[0m in \u001b[0;36m__call__\u001b[0;34m(self, x, *args, **kwds)\u001b[0m\n\u001b[1;32m    824\u001b[0m \u001b[0;34m\u001b[0m\u001b[0m\n\u001b[1;32m    825\u001b[0m     \u001b[0;32mdef\u001b[0m \u001b[0m__call__\u001b[0m\u001b[0;34m(\u001b[0m\u001b[0mself\u001b[0m\u001b[0;34m,\u001b[0m \u001b[0mx\u001b[0m\u001b[0;34m,\u001b[0m \u001b[0;34m*\u001b[0m\u001b[0margs\u001b[0m\u001b[0;34m,\u001b[0m \u001b[0;34m**\u001b[0m\u001b[0mkwds\u001b[0m\u001b[0;34m)\u001b[0m\u001b[0;34m:\u001b[0m\u001b[0;34m\u001b[0m\u001b[0;34m\u001b[0m\u001b[0m\n\u001b[0;32m--> 826\u001b[0;31m         \u001b[0;32mreturn\u001b[0m \u001b[0msuper\u001b[0m\u001b[0;34m(\u001b[0m\u001b[0mHessdiag\u001b[0m\u001b[0;34m,\u001b[0m \u001b[0mself\u001b[0m\u001b[0;34m)\u001b[0m\u001b[0;34m.\u001b[0m\u001b[0m__call__\u001b[0m\u001b[0;34m(\u001b[0m\u001b[0mnp\u001b[0m\u001b[0;34m.\u001b[0m\u001b[0matleast_1d\u001b[0m\u001b[0;34m(\u001b[0m\u001b[0mx\u001b[0m\u001b[0;34m)\u001b[0m\u001b[0;34m,\u001b[0m \u001b[0;34m*\u001b[0m\u001b[0margs\u001b[0m\u001b[0;34m,\u001b[0m \u001b[0;34m**\u001b[0m\u001b[0mkwds\u001b[0m\u001b[0;34m)\u001b[0m\u001b[0;34m\u001b[0m\u001b[0;34m\u001b[0m\u001b[0m\n\u001b[0m\u001b[1;32m    827\u001b[0m \u001b[0;34m\u001b[0m\u001b[0m\n\u001b[1;32m    828\u001b[0m \u001b[0;34m\u001b[0m\u001b[0m\n",
      "\u001b[0;32m~/opt/anaconda3/lib/python3.7/site-packages/numdifftools/core.py\u001b[0m in \u001b[0;36m__call__\u001b[0;34m(self, x, *args, **kwds)\u001b[0m\n\u001b[1;32m    295\u001b[0m     \u001b[0;32mdef\u001b[0m \u001b[0m__call__\u001b[0m\u001b[0;34m(\u001b[0m\u001b[0mself\u001b[0m\u001b[0;34m,\u001b[0m \u001b[0mx\u001b[0m\u001b[0;34m,\u001b[0m \u001b[0;34m*\u001b[0m\u001b[0margs\u001b[0m\u001b[0;34m,\u001b[0m \u001b[0;34m**\u001b[0m\u001b[0mkwds\u001b[0m\u001b[0;34m)\u001b[0m\u001b[0;34m:\u001b[0m\u001b[0;34m\u001b[0m\u001b[0;34m\u001b[0m\u001b[0m\n\u001b[1;32m    296\u001b[0m         \u001b[0mxi\u001b[0m \u001b[0;34m=\u001b[0m \u001b[0mnp\u001b[0m\u001b[0;34m.\u001b[0m\u001b[0masarray\u001b[0m\u001b[0;34m(\u001b[0m\u001b[0mx\u001b[0m\u001b[0;34m)\u001b[0m\u001b[0;34m\u001b[0m\u001b[0;34m\u001b[0m\u001b[0m\n\u001b[0;32m--> 297\u001b[0;31m         \u001b[0mresults\u001b[0m \u001b[0;34m=\u001b[0m \u001b[0mself\u001b[0m\u001b[0;34m.\u001b[0m\u001b[0m_derivative\u001b[0m\u001b[0;34m(\u001b[0m\u001b[0mxi\u001b[0m\u001b[0;34m,\u001b[0m \u001b[0margs\u001b[0m\u001b[0;34m,\u001b[0m \u001b[0mkwds\u001b[0m\u001b[0;34m)\u001b[0m\u001b[0;34m\u001b[0m\u001b[0;34m\u001b[0m\u001b[0m\n\u001b[0m\u001b[1;32m    298\u001b[0m         \u001b[0mderivative\u001b[0m\u001b[0;34m,\u001b[0m \u001b[0minfo\u001b[0m \u001b[0;34m=\u001b[0m \u001b[0mself\u001b[0m\u001b[0;34m.\u001b[0m\u001b[0m_extrapolate\u001b[0m\u001b[0;34m(\u001b[0m\u001b[0;34m*\u001b[0m\u001b[0mresults\u001b[0m\u001b[0;34m)\u001b[0m\u001b[0;34m\u001b[0m\u001b[0;34m\u001b[0m\u001b[0m\n\u001b[1;32m    299\u001b[0m         \u001b[0;32mif\u001b[0m \u001b[0mself\u001b[0m\u001b[0;34m.\u001b[0m\u001b[0mfull_output\u001b[0m\u001b[0;34m:\u001b[0m\u001b[0;34m\u001b[0m\u001b[0;34m\u001b[0m\u001b[0m\n",
      "\u001b[0;32m~/opt/anaconda3/lib/python3.7/site-packages/numdifftools/core.py\u001b[0m in \u001b[0;36m_derivative_nonzero_order\u001b[0;34m(self, xi, args, kwds)\u001b[0m\n\u001b[1;32m    186\u001b[0m         \u001b[0mdiff\u001b[0m\u001b[0;34m,\u001b[0m \u001b[0mf\u001b[0m \u001b[0;34m=\u001b[0m \u001b[0mself\u001b[0m\u001b[0;34m.\u001b[0m\u001b[0m_get_functions\u001b[0m\u001b[0;34m(\u001b[0m\u001b[0;34m)\u001b[0m\u001b[0;34m\u001b[0m\u001b[0;34m\u001b[0m\u001b[0m\n\u001b[1;32m    187\u001b[0m         \u001b[0msteps\u001b[0m\u001b[0;34m,\u001b[0m \u001b[0mstep_ratio\u001b[0m \u001b[0;34m=\u001b[0m \u001b[0mself\u001b[0m\u001b[0;34m.\u001b[0m\u001b[0m_get_steps\u001b[0m\u001b[0;34m(\u001b[0m\u001b[0mxi\u001b[0m\u001b[0;34m)\u001b[0m\u001b[0;34m\u001b[0m\u001b[0;34m\u001b[0m\u001b[0m\n\u001b[0;32m--> 188\u001b[0;31m         \u001b[0mfxi\u001b[0m \u001b[0;34m=\u001b[0m \u001b[0mself\u001b[0m\u001b[0;34m.\u001b[0m\u001b[0m_eval_first\u001b[0m\u001b[0;34m(\u001b[0m\u001b[0mf\u001b[0m\u001b[0;34m,\u001b[0m \u001b[0mxi\u001b[0m\u001b[0;34m,\u001b[0m \u001b[0;34m*\u001b[0m\u001b[0margs\u001b[0m\u001b[0;34m,\u001b[0m \u001b[0;34m**\u001b[0m\u001b[0mkwds\u001b[0m\u001b[0;34m)\u001b[0m\u001b[0;34m\u001b[0m\u001b[0;34m\u001b[0m\u001b[0m\n\u001b[0m\u001b[1;32m    189\u001b[0m         \u001b[0mresults\u001b[0m \u001b[0;34m=\u001b[0m \u001b[0;34m[\u001b[0m\u001b[0mdiff\u001b[0m\u001b[0;34m(\u001b[0m\u001b[0mf\u001b[0m\u001b[0;34m,\u001b[0m \u001b[0mfxi\u001b[0m\u001b[0;34m,\u001b[0m \u001b[0mxi\u001b[0m\u001b[0;34m,\u001b[0m \u001b[0mh\u001b[0m\u001b[0;34m,\u001b[0m \u001b[0;34m*\u001b[0m\u001b[0margs\u001b[0m\u001b[0;34m,\u001b[0m \u001b[0;34m**\u001b[0m\u001b[0mkwds\u001b[0m\u001b[0;34m)\u001b[0m \u001b[0;32mfor\u001b[0m \u001b[0mh\u001b[0m \u001b[0;32min\u001b[0m \u001b[0msteps\u001b[0m\u001b[0;34m]\u001b[0m\u001b[0;34m\u001b[0m\u001b[0;34m\u001b[0m\u001b[0m\n\u001b[1;32m    190\u001b[0m \u001b[0;34m\u001b[0m\u001b[0m\n",
      "\u001b[0;32m~/opt/anaconda3/lib/python3.7/site-packages/numdifftools/core.py\u001b[0m in \u001b[0;36m_eval_first\u001b[0;34m(self, f, x, *args, **kwds)\u001b[0m\n\u001b[1;32m    290\u001b[0m     \u001b[0;32mdef\u001b[0m \u001b[0m_eval_first\u001b[0m\u001b[0;34m(\u001b[0m\u001b[0mself\u001b[0m\u001b[0;34m,\u001b[0m \u001b[0mf\u001b[0m\u001b[0;34m,\u001b[0m \u001b[0mx\u001b[0m\u001b[0;34m,\u001b[0m \u001b[0;34m*\u001b[0m\u001b[0margs\u001b[0m\u001b[0;34m,\u001b[0m \u001b[0;34m**\u001b[0m\u001b[0mkwds\u001b[0m\u001b[0;34m)\u001b[0m\u001b[0;34m:\u001b[0m\u001b[0;34m\u001b[0m\u001b[0;34m\u001b[0m\u001b[0m\n\u001b[1;32m    291\u001b[0m         \u001b[0;32mif\u001b[0m \u001b[0mself\u001b[0m\u001b[0;34m.\u001b[0m\u001b[0m_eval_first_condition\u001b[0m\u001b[0;34m(\u001b[0m\u001b[0;34m)\u001b[0m\u001b[0;34m:\u001b[0m\u001b[0;34m\u001b[0m\u001b[0;34m\u001b[0m\u001b[0m\n\u001b[0;32m--> 292\u001b[0;31m             \u001b[0;32mreturn\u001b[0m \u001b[0mf\u001b[0m\u001b[0;34m(\u001b[0m\u001b[0mx\u001b[0m\u001b[0;34m,\u001b[0m \u001b[0;34m*\u001b[0m\u001b[0margs\u001b[0m\u001b[0;34m,\u001b[0m \u001b[0;34m**\u001b[0m\u001b[0mkwds\u001b[0m\u001b[0;34m)\u001b[0m\u001b[0;34m\u001b[0m\u001b[0;34m\u001b[0m\u001b[0m\n\u001b[0m\u001b[1;32m    293\u001b[0m         \u001b[0;32mreturn\u001b[0m \u001b[0;36m0.0\u001b[0m\u001b[0;34m\u001b[0m\u001b[0;34m\u001b[0m\u001b[0m\n\u001b[1;32m    294\u001b[0m \u001b[0;34m\u001b[0m\u001b[0m\n",
      "\u001b[0;32m<ipython-input-13-2cbbc2b3cb6f>\u001b[0m in \u001b[0;36mreduced_objective\u001b[0;34m(p, mask, p_init, do_mc_stat)\u001b[0m\n\u001b[1;32m      6\u001b[0m     \u001b[0mmasked_p\u001b[0m \u001b[0;34m=\u001b[0m \u001b[0mp_init\u001b[0m\u001b[0;34m.\u001b[0m\u001b[0mcopy\u001b[0m\u001b[0;34m(\u001b[0m\u001b[0;34m)\u001b[0m\u001b[0;34m\u001b[0m\u001b[0;34m\u001b[0m\u001b[0m\n\u001b[1;32m      7\u001b[0m     \u001b[0mmasked_p\u001b[0m\u001b[0;34m[\u001b[0m\u001b[0mmask\u001b[0m\u001b[0;34m]\u001b[0m \u001b[0;34m=\u001b[0m \u001b[0mp\u001b[0m\u001b[0;34m\u001b[0m\u001b[0;34m\u001b[0m\u001b[0m\n\u001b[0;32m----> 8\u001b[0;31m     \u001b[0;32mreturn\u001b[0m \u001b[0mfit_data\u001b[0m\u001b[0;34m.\u001b[0m\u001b[0mobjective\u001b[0m\u001b[0;34m(\u001b[0m\u001b[0mmasked_p\u001b[0m\u001b[0;34m,\u001b[0m \u001b[0mdata\u001b[0m\u001b[0;34m=\u001b[0m\u001b[0masimov_data\u001b[0m\u001b[0;34m,\u001b[0m \u001b[0mdo_mc_stat\u001b[0m\u001b[0;34m=\u001b[0m\u001b[0mdo_mc_stat\u001b[0m\u001b[0;34m)\u001b[0m\u001b[0;34m\u001b[0m\u001b[0;34m\u001b[0m\u001b[0m\n\u001b[0m",
      "\u001b[0;31mTypeError\u001b[0m: objective() got an unexpected keyword argument 'do_mc_stat'"
     ]
    }
   ],
   "source": [
    "# stat only\n",
    "params_init = params_pre\n",
    "mask = np.ones(len(params_init)).astype(bool)\n",
    "mask[4:] = False\n",
    "\n",
    "fobj = partial(reduced_objective, mask=mask, p_init=params_init, do_mc_stat=False)\n",
    "err_stat, _ = fh.calculate_covariance(fobj, params_init[:4])\n",
    "err_stat = np.concatenate([err_stat, np.zeros(params_init[4:].size)])\n",
    "\n",
    "fobj = partial(fit_data.objective, \n",
    "               data=asimov_data, \n",
    "               cost_type='poisson', \n",
    "               no_shape=False,\n",
    "               do_mc_stat=False\n",
    "              )\n",
    "err_no_bb, _ = fh.calculate_covariance(fobj, params_init)\n",
    "\n",
    "err_syst = np.sqrt(err_no_bb**2 - err_stat**2)"
   ]
  },
  {
   "cell_type": "markdown",
   "metadata": {},
   "source": [
    "## estimating individual systematic contributions\n",
    "\n",
    "The effect of any individual systematic uncertainty is somewhat complicated by it's mutual covariance with the POI (i.e., the W branching fractions) and any other systematic uncertainty.  To get a rough idea of the percent-wise contribution to the total uncertainty from each individual systematic, I use the following scheme:\n",
    "\n",
    "   * the fit is carried out as in the nominal case and $\\sigma_{0}$ is estimated\n",
    "   * the fit is carried out for for each of the $n$ nuisance parameters $\\sigma_{theta}$\n",
    "   * the difference between the nominal case and the ``$n-1$\" case is calculated,\n",
    "   * this quantity is normalized to $\\sum_{\\theta} \\sigma_{\\theta}^{2}$"
   ]
  },
  {
   "cell_type": "code",
   "execution_count": null,
   "metadata": {
    "ExecuteTime": {
     "end_time": "2019-10-13T04:29:41.731858Z",
     "start_time": "2019-10-13T04:23:09.517Z"
    },
    "code_folding": []
   },
   "outputs": [],
   "source": [
    "# n-1 systematics\n",
    "pool = Pool(processes=10)\n",
    "results = []\n",
    "for i in range(4, len(params_init)):\n",
    "    mask = np.ones(len(params_init)).astype(bool)\n",
    "    mask[i] = False\n",
    "    fobj = partial(reduced_objective, mask=mask, p_init=params_init, do_mc_stat=False)\n",
    "    #res = pool.apply_async(fh.calculate_covariance, args=(fobj, np.delete(params_init, i)))\n",
    "    #results.append(res)\n",
    "    \n",
    "pool.close()\n",
    "pool.join()\n",
    "\n",
    "output = [r.get() for r in results]"
   ]
  },
  {
   "cell_type": "code",
   "execution_count": null,
   "metadata": {
    "ExecuteTime": {
     "end_time": "2019-10-13T04:29:41.732972Z",
     "start_time": "2019-10-13T04:23:09.520Z"
    },
    "code_folding": [],
    "scrolled": false
   },
   "outputs": [],
   "source": [
    "# convert to errors\n",
    "sub_errs = [o[0] for o in output]\n",
    "errs = np.array([np.concatenate([sub_errs[i-4][:i], [0], sub_errs[i-4][i:]]) for i in range(4, params_init.size)])\n",
    "errs = err_no_bb**2 - errs**2\n",
    "errs[errs < 0] = 0\n",
    "\n",
    "errs = np.sqrt(errs)\n",
    "errs = np.vstack([errs, err_stat, stderr])\n",
    "\n",
    "errs = pd.DataFrame(errs, columns=p_labels, index=p_labels[4:] + ['stat', 'total'])\n",
    "beta_errs = errs.iloc[:,:4].multiply(100)/params_init[:4]"
   ]
  },
  {
   "cell_type": "code",
   "execution_count": null,
   "metadata": {
    "ExecuteTime": {
     "end_time": "2019-10-13T04:29:41.734005Z",
     "start_time": "2019-10-13T04:23:09.522Z"
    },
    "code_folding": [],
    "scrolled": false
   },
   "outputs": [],
   "source": [
    "# print table\n",
    "\n",
    "#beta_errs.divide(params_init[:4]/100, axis=1).to_latex('local_data/errors.tex')\n",
    "#beta_errs.divide(params_init[:4]/100, axis=1).to_csv('local_data/errors.csv')\n",
    "#beta_errs.divide(params_init[:4]/100, axis=1)\n",
    "beta_errs.to_latex('local_data/summary_errors.tex', escape=False)\n",
    "beta_errs"
   ]
  },
  {
   "cell_type": "code",
   "execution_count": null,
   "metadata": {
    "ExecuteTime": {
     "end_time": "2019-10-13T04:29:41.735042Z",
     "start_time": "2019-10-13T04:23:09.525Z"
    }
   },
   "outputs": [],
   "source": [
    "jes_mask = np.array([True if ('jes' in pname and 'btag' not in pname) else False for pname in beta_errs.index])\n",
    "btag_mask = np.array([True if 'btag' in pname else False for pname in beta_errs.index])\n",
    "tau_misid_mask = np.array([True if ('misid_tau' in pname and pname not in ['misid_tau_e', 'misid_tau_h']) else False for pname in beta_errs.index])\n",
    "\n",
    "btag_errs = beta_errs[btag_mask]\n",
    "jes_errs = beta_errs[jes_mask]\n",
    "tau_misid_errs = beta_errs[tau_misid_mask]\n",
    "\n",
    "summary_errs = beta_errs[~btag_mask&~jes_mask&~tau_misid_mask].copy()\n",
    "summary_errs.index = [fit_data._parameters.loc[p].label if p in fit_data._parameters.index else p for p in summary_errs.index]\n",
    "summary_errs.loc['b-tag',:] = np.sqrt(np.sum(btag_errs**2))\n",
    "summary_errs.loc['JES',:]  = np.sqrt(np.sum(jes_errs**2))\n",
    "summary_errs.loc[r'$\\sf jet\\rightarrow\\tau$',:]  = np.sqrt(np.sum(tau_misid_errs**2))\n",
    "\n",
    "summary_errs = summary_errs.divide(params_init[:4]/100, axis=1)\n",
    "summary_errs.to_latex('local_data/summary_errors.tex', escape=False)\n",
    "summary_errs.to_csv('local_data/summary_errors.csv')\n",
    "summary_errs"
   ]
  },
  {
   "cell_type": "code",
   "execution_count": null,
   "metadata": {},
   "outputs": [],
   "source": []
  }
 ],
 "metadata": {
  "hide_input": false,
  "kernelspec": {
   "display_name": "Python 3",
   "language": "python",
   "name": "python3"
  },
  "language_info": {
   "codemirror_mode": {
    "name": "ipython",
    "version": 3
   },
   "file_extension": ".py",
   "mimetype": "text/x-python",
   "name": "python",
   "nbconvert_exporter": "python",
   "pygments_lexer": "ipython3",
   "version": "3.7.2"
  },
  "latex_envs": {
   "LaTeX_envs_menu_present": true,
   "autoclose": false,
   "autocomplete": true,
   "bibliofile": "biblio.bib",
   "cite_by": "apalike",
   "current_citInitial": 1,
   "eqLabelWithNumbers": true,
   "eqNumInitial": 0,
   "hotkeys": {
    "equation": "Ctrl-E",
    "itemize": "Ctrl-I"
   },
   "labels_anchors": false,
   "latex_user_defs": false,
   "report_style_numbering": false,
   "user_envs_cfg": false
  },
  "toc": {
   "nav_menu": {
    "height": "29px",
    "width": "251px"
   },
   "number_sections": true,
   "sideBar": true,
   "skip_h1_title": false,
   "title_cell": "Table of Contents",
   "title_sidebar": "Contents",
   "toc_cell": false,
   "toc_position": {
    "height": "49px",
    "left": "0px",
    "right": "1493.87px",
    "top": "90.9965px",
    "width": "242px"
   },
   "toc_section_display": false,
   "toc_window_display": false
  },
  "varInspector": {
   "cols": {
    "lenName": 16,
    "lenType": 16,
    "lenVar": 40
   },
   "kernels_config": {
    "python": {
     "delete_cmd_postfix": "",
     "delete_cmd_prefix": "del ",
     "library": "var_list.py",
     "varRefreshCmd": "print(var_dic_list())"
    },
    "r": {
     "delete_cmd_postfix": ") ",
     "delete_cmd_prefix": "rm(",
     "library": "var_list.r",
     "varRefreshCmd": "cat(var_dic_list()) "
    }
   },
   "types_to_exclude": [
    "module",
    "function",
    "builtin_function_or_method",
    "instance",
    "_Feature"
   ],
   "window_display": false
  },
  "widgets": {
   "state": {
    "012f8bbe2fdb410dae6e2cde9d7fe5cb": {
     "views": []
    },
    "080556076f174648bddf64f17a54c523": {
     "views": []
    },
    "0ad83b5f67484ae5b8fd8dd43ccc39bd": {
     "views": []
    },
    "15acd81a9adc493683d9b63813f000bf": {
     "views": []
    },
    "1840cb6fded848b4ae95ec8d3db15ab2": {
     "views": []
    },
    "1dd83f822e074642ae4255b15ee661cf": {
     "views": []
    },
    "1e71a878e6474912a0efc497ecc5d65b": {
     "views": []
    },
    "2022ed83777b4963b630b5c46239e218": {
     "views": []
    },
    "21c4c57bfc48495194663e6a4fbac488": {
     "views": []
    },
    "22c45c75435348c0b9501d493d69fdca": {
     "views": []
    },
    "2635f668a1af4a9db2642e705d7c73ff": {
     "views": []
    },
    "2ad5ddd9347e451b9290e5b4179ab9a2": {
     "views": []
    },
    "2c062b5778024117984822b63b0593d7": {
     "views": []
    },
    "2f5eab2f6fb24192b76a5ffe99195d44": {
     "views": []
    },
    "31632517325046e8b0cb62e4f4ed2480": {
     "views": []
    },
    "3562b97192ed4d42bbab17f77c290f6b": {
     "views": []
    },
    "38a7cc053723492b921cf9f084ed243c": {
     "views": []
    },
    "3b5750b20e1745879ca0f965aad7b614": {
     "views": []
    },
    "3f1cbabbe2694a9dabe3f1c2e09d0ee2": {
     "views": []
    },
    "3fab6a26a70c4238a668a46d4dc88bf6": {
     "views": []
    },
    "3fb3c7a25e954a4888996976fa107737": {
     "views": []
    },
    "415db64fbc574daea8457ab600392f09": {
     "views": []
    },
    "4463de406b4645a4b562fe7917380ff9": {
     "views": []
    },
    "487e5450b5a24507932709f1fa8f59c1": {
     "views": []
    },
    "48aba73013e74e71927f71d42fb44d14": {
     "views": []
    },
    "4a19ad30f77e4fe6a2c84c8b62378a47": {
     "views": []
    },
    "4bc83ff5270d41679d76d26cdded8313": {
     "views": []
    },
    "4bdd9dd5c5c64646a27fa9096851458b": {
     "views": []
    },
    "5014cd42705f45178d5e6eeffd70f119": {
     "views": []
    },
    "5259b340b68e4fdb97fb4eaf9d98d954": {
     "views": []
    },
    "5986ef5b605a42aca10bc5834529ee06": {
     "views": []
    },
    "5c1aa44589a140eb9709734c843abde6": {
     "views": []
    },
    "600cd9ca4f4c46d4ad6fe57df107675a": {
     "views": [
      {
       "cell_index": 7
      }
     ]
    },
    "61fe369ebdd14eaa89de110f6186e6b7": {
     "views": []
    },
    "62ac836017ae47a38f8fde806c5ec9b7": {
     "views": []
    },
    "632ccbfabe91405aa1c5a77c9ea754db": {
     "views": []
    },
    "66175f618ea5472baac618f998d2c06c": {
     "views": []
    },
    "6647a620af034d26abcd327ae02364d4": {
     "views": []
    },
    "6752222d2cba43e18f344a8db7f99d24": {
     "views": []
    },
    "6b684ba1a7c24a35ba2df77016212904": {
     "views": []
    },
    "6cea898f4aca4f1e84601f843e337238": {
     "views": []
    },
    "6f8d1e87fd60462a89d693b2f3b5f007": {
     "views": []
    },
    "74078646a5eb4047b40370a0ab8b6b30": {
     "views": []
    },
    "745b0c79ff3040788ea952fce9c7d607": {
     "views": []
    },
    "757c9b805eb7445bac9a7f141f87e45f": {
     "views": []
    },
    "76ced68e19a742e8976dbfd4e8594a1a": {
     "views": []
    },
    "783bb5e7538d4d9d8315e2698024b353": {
     "views": []
    },
    "794993d66efe4ab29a8d35aad8cfe079": {
     "views": []
    },
    "8375e24bae7541528d7cdc0f379d1d4c": {
     "views": []
    },
    "8554945ec15041a7bf8004dbc3fc5f11": {
     "views": []
    },
    "878a34e26cce4f18bb8232a682ebe964": {
     "views": []
    },
    "8921a75116a549198eb7b7f4a24ab672": {
     "views": []
    },
    "909f4504f0b049bda8b641defa177062": {
     "views": []
    },
    "910b9d32a3fb45ec99da1f9df1add816": {
     "views": []
    },
    "9d15ce601cd34f0699b7a7a0ce1d17dc": {
     "views": []
    },
    "a26638c9fee247b3891aac027a0918cc": {
     "views": []
    },
    "a9d2bf44a3ad447bb3eecde71363c198": {
     "views": []
    },
    "ad366bf4c95f4cdba62d47ba9501efc9": {
     "views": []
    },
    "ad8e1842ec314a94b6ed4b62c4c0a450": {
     "views": []
    },
    "af525094db304d2a812ae1312b00889b": {
     "views": []
    },
    "b0697c4343da491f9a35bf02681dad8f": {
     "views": []
    },
    "b07ff307919e4268bc8bec8379c47a5d": {
     "views": []
    },
    "b0e85c726ca141079333afb27edc63d4": {
     "views": []
    },
    "bdcc1e5df7a8432b9f40d8249a46f90a": {
     "views": []
    },
    "be1065f37fa24e818d31c3bb075947a3": {
     "views": []
    },
    "c296c8df2f734e268c6c1204536e7142": {
     "views": []
    },
    "c4bfd3e447f0426da144b76abc202129": {
     "views": []
    },
    "cced93184d4445218a2b14567579333d": {
     "views": []
    },
    "d5bd2e4d5f85482e9345f3a7a69380d0": {
     "views": []
    },
    "d798fa64e8be4a7d9ec1cbeece3b1be9": {
     "views": []
    },
    "d7aec0d6d05f442b991ab40af944811d": {
     "views": []
    },
    "db469cea2c8e4180bf6890de80329c1d": {
     "views": []
    },
    "e671857510c54634b6f0fa55bf1fa228": {
     "views": []
    },
    "ebf52deafaf64b0c826533dafdf993c0": {
     "views": []
    },
    "ed1e5439da9c41199a7bbbda21b556f8": {
     "views": []
    },
    "f585cf5db5024280af5b567f0e4fd771": {
     "views": []
    },
    "f6ba8f8800af47adabed847063bda8db": {
     "views": []
    },
    "f9bae72f14e44705b5c38a3ddc69fee8": {
     "views": []
    }
   },
   "version": "1.1.2"
  }
 },
 "nbformat": 4,
 "nbformat_minor": 2
}
