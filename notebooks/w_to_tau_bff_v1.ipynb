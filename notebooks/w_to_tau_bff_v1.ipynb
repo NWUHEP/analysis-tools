{
 "cells": [
  {
   "cell_type": "markdown",
   "metadata": {},
   "source": [
    "## W to tau branching ratios\n",
    "\n",
    "To estimate the branching ratio $W\\rightarrow \\tau\\nu_{\\tau}$, a template will be performed to the data collected in 2016 by CMS.  The basic idea is select on events consistent with $t\\bar{t}$ production, form templates for the various decay modes and background processes, and then carry out a template fit to the data.  In general, a template fit can be thought of as an n-component mixture model such that,\n",
    "\n",
    "$$\n",
    "f(x) = \\sum_{i} \\alpha_{i}h_{i}(x),\n",
    "$$\n",
    "\n",
    "with the constraint that $\\sum_{i}\\alpha_{i} = 1$.  In our case the functional components are going to be histograms so that $h(x), f(x) \\rightarrow h_{j}, h_{j}$.  The optimal (MLE) of the parameters $\\alpha_{i}$ can be determined by minimizing the NLL give the data.  Because the dataset is large and the amount of data in each bin is large we will assume the data is distributed according to a Gaussian in each bin, i.e., the NLL will be the same as minimizing the $\\chi^{2}$,\n",
    "\n",
    "$$\n",
    "\\chi^{2} = \\sum_{j} \\frac{(y_{j} - f_{j})^{2}}{\\sigma_{j}^{2}},\n",
    "$$\n",
    "\n",
    "where $y_{j}$ is the number of data events in bin $j$ and $\\sigma_{j}^{2}$ corresponds to the variance.  The variance is the combination of the statistical error on the data ($\\sigma_{j}^{2} = N_{j}$) and the statistical plus systematic uncertainty on the data model prediction(\\textit{systematic uncertainties have not yet been considered for the data modelling, but will eventually be incorporated})\n",
    "\n",
    "For this particular measurement there are some important additional considerations; primary among them is the fact that the mixture components $\\alpha_{i}$ for the various decay components will be highly correlated.  This is because they will all have some dependencies on the underlying physical processes.  For example, one component that will be of interest will arise from the decay $t\\bar{t}\\rightarrow WbWb \\rightarrow \\mu\\mu bb$, and another will arise from the decay $t\\bar{t}\\rightarrow WbWb \\rightarrow \\mu\\tau_{\\mu} bb$ (here $\\tau_{\\mu}$ indicates that the $\\tau$ lepton subsequently decays to a muon).  The corresponding mixture amplitudes can be written,\n",
    "\n",
    "$$\n",
    "\\alpha_{\\mu\\mu} = \\frac{\\epsilon_{\\mu\\mu}\\beta_{\\mu}^{2}}{\\mathcal{A}},\n",
    "$$\n",
    "$$\n",
    "\\alpha_{\\mu\\mu_{\\tau}} = \\frac{2\\epsilon_{\\mu\\tau}b_{\\mu}\\beta_{\\mu}\\beta_{\\mu_{\\tau}}}{\\mathcal{A}}.\n",
    "$$\n",
    "\n",
    "This is the case for every mixture term associated with the signal decays.  For shorthand, I am writing the branching fraction of W to X as $\\beta_{X}$ and the branching fraction of $\\tau$ to X as $b_{X}$.  The $\\epsilon$ term represents the combined efficiency and acceptance for that particular decay mode.  Also, there is the normalization factor $\\mathcal{A}$ which is a sum over all signal processes.  (Technically, there is a factor of $\\sigma_{signal}$ and $\\mathcal{L}$ but these should cancel, I think).\n",
    "\n",
    "In total we have 21 possible decay modes for double W production (as in the case of $t\\bar{t}$) when we group together all hadronic final states and separate out the different $\\tau$ decay modes.  Of these decay modes, there are four underlying branching fractions, \n",
    "\n",
    "$$\n",
    "\\boldsymbol{\\beta} = \\{\\beta_{e}, \\beta_{\\mu}, \\beta_{\\tau}, \\beta_{h}\\},\n",
    "$$\n",
    "\n",
    "with a constraint that,\n",
    "\n",
    "$$\n",
    "\\sum_{p}\\beta_{p} = 1.\n",
    "$$\n",
    "Additionally there are three nuisance parameters for the decay of the $\\tau$, \n",
    "\n",
    "$$\n",
    "\\mathbf{b} = \\{b_{e}, b_{\\mu}, b_{h}\\}.\n",
    "$$\n",
    "\n",
    "These will be fixed to the PDG values and can at a later time be treated as nuisance parameters where we will marginalize over their uncertainties (which are small, ~0.1%)."
   ]
  },
  {
   "cell_type": "code",
   "execution_count": 160,
   "metadata": {
    "code_folding": [
     0
    ]
   },
   "outputs": [
    {
     "name": "stdout",
     "output_type": "stream",
     "text": [
      "/home/naodell/work/CMS/z_plus_jpsi\n"
     ]
    }
   ],
   "source": [
    "# imports and configuration\n",
    "%cd '/home/naodell/work/CMS/z_plus_jpsi'\n",
    "%matplotlib notebook\n",
    "\n",
    "from functools import partial\n",
    "import numpy as np\n",
    "import pandas as pd\n",
    "import matplotlib.pyplot as plt\n",
    "import matplotlib\n",
    "from scipy.optimize import minimize\n",
    "from scipy.stats import chi2, beta\n",
    "import numdifftools as nd\n",
    "\n",
    "import scripts.plot_tools as pt\n",
    "\n",
    "matplotlib.style.use('default')\n",
    "params = {'legend.fontsize': 20,\n",
    "          'axes.labelsize': 20,\n",
    "          'axes.titlesize':'x-large',\n",
    "          'xtick.labelsize':18,\n",
    "          'ytick.labelsize':18,\n",
    "         }\n",
    "matplotlib.rcParams.update(params)\n",
    "%matplotlib inline"
   ]
  },
  {
   "cell_type": "markdown",
   "metadata": {},
   "source": [
    "Before running this step, the templates must be generated using scripts/template_maker.py.  This will provide template histograms as well as efficiencies (estimated from MC) for the various decay modes of the WW pair."
   ]
  },
  {
   "cell_type": "code",
   "execution_count": 161,
   "metadata": {
    "code_folding": [
     0
    ],
    "collapsed": true
   },
   "outputs": [],
   "source": [
    "# configure, get the input data, and do any additional processing that is needed\n",
    "selection = 'mumu'\n",
    "target    =  'lepton1_pt'\n",
    "input_dir = f'data/templates/12162017/'\n",
    "\n",
    "# get our data\n",
    "decay_map    = pd.read_csv('data/decay_map.csv').set_index('id')['decay']\n",
    "df_sig_eff   = pd.read_csv(input_dir + f'{selection}_signal_eff.csv', skiprows=1, names=['decay_mode', 'eff']).set_index('decay_mode')\n",
    "df_templates = pd.read_csv(input_dir + f'{selection}_{target}_val.csv').set_index('bins')\n",
    "df_vars      = pd.read_csv(input_dir + f'{selection}_{target}_var.csv').set_index('bins')\n",
    "\n",
    "# calculate inital bg fraction and variance\n",
    "n_sig, n_bg = df_templates[decay_map.values].sum(), df_templates['bg'].sum()\n",
    "var_sig, var_bg = df_vars[decay_map.values].sum(), df_vars['bg'].sum()\n",
    "norm, var_norm = n_sig.sum() + n_bg, var_sig.sum() + var_bg\n",
    "alpha_bg = n_bg/norm\n",
    "#var_alpha_bg = alpha_bg*(1 - alpha_bg)*var_norm/norm**2 # got to think if this is right...\n",
    "var_alpha_bg = var_bg/norm**2 "
   ]
  },
  {
   "cell_type": "code",
   "execution_count": 162,
   "metadata": {
    "code_folding": [
     0
    ],
    "collapsed": true
   },
   "outputs": [],
   "source": [
    "# normalize the templates to unity and scale the errors\n",
    "norms = df_templates.sum(axis=0)\n",
    "df_templates /= norms\n",
    "#df_vars *= df_templates*(1-df_templates)/norms**2 # think about this too\n",
    "df_vars /= norms**2\n",
    "df_templates, df_vars = df_templates.fillna(0), df_vars.fillna(0)\n",
    "\n",
    "# split template dataframe into data, bg, and signal, and then convert to numpy arrays\n",
    "# (handled in the mixutre model class in the future)\n",
    "eff    = df_sig_eff['eff'].values\n",
    "data   = (df_templates['data'].values, df_vars['data'].values)\n",
    "bg     = (df_templates['bg'].values, df_vars['bg'].values)\n",
    "signal = (df_templates[decay_map.values].values, df_vars[decay_map.values].values)"
   ]
  },
  {
   "cell_type": "markdown",
   "metadata": {},
   "source": [
    "I'll define the signal and total mixture here.  The signal mixture has 21 terms and it's important that the ordering of all the various inputs match up.  The column ordering is specified in `df_decay_map`."
   ]
  },
  {
   "cell_type": "code",
   "execution_count": 163,
   "metadata": {
    "code_folding": [
     0
    ],
    "collapsed": true
   },
   "outputs": [],
   "source": [
    "# fit functions\n",
    "def signal_mixture_model(beta, br_tau, eff, h_temp):\n",
    "    '''\n",
    "    Mixture model for the ttbar/tW signal model.  The output will be an array corresponding \n",
    "    to a sum over the input template histograms scaled by their respective efficiencies\n",
    "    and branching fraction products.\n",
    "    \n",
    "    parameters:\n",
    "    ==========\n",
    "    beta : branching fractions for the W decay\n",
    "    br_tau : branching fractions for the tau decay\n",
    "    eff: array consisting of efficiencies for each of the W/tau decay modes\n",
    "    h_temp : a tuple with the template histograms and their errors\n",
    "    ''' \n",
    "    \n",
    "    amplitudes = np.array([beta[0]*beta[0], # e, e\n",
    "                           beta[1]*beta[1], # mu, mu\n",
    "                           2*beta[0]*beta[1], # e, mu\n",
    "                           beta[2]*beta[2]*br_tau[0]**2, # tau_e, tau_e\n",
    "                           beta[2]*beta[2]*br_tau[1]**2, # tau_mu, tau_mu\n",
    "                           2*beta[2]*beta[2]*br_tau[0]*br_tau[1], # tau_e, tau_mu\n",
    "                           2*beta[2]*beta[2]*br_tau[0]*br_tau[2], # tau_e, tau_h \n",
    "                           2*beta[2]*beta[2]*br_tau[1]*br_tau[2], # tau_mu, tau_h \n",
    "                           beta[2]*beta[2]*br_tau[2]*br_tau[2], # tau_h, tau_h \n",
    "                           2*beta[0]*beta[2]*br_tau[0], # e, tau_e\n",
    "                           2*beta[0]*beta[2]*br_tau[1], # e, tau_mu\n",
    "                           2*beta[0]*beta[2]*br_tau[2], # e, tau_h\n",
    "                           2*beta[1]*beta[2]*br_tau[0], # mu, tau_e\n",
    "                           2*beta[1]*beta[2]*br_tau[1], # mu, tau_mu\n",
    "                           2*beta[1]*beta[2]*br_tau[2], # mu, tau_h\n",
    "                           2*beta[0]*beta[3], # e, h\n",
    "                           2*beta[1]*beta[3], # mu, h\n",
    "                           2*beta[2]*beta[3]*br_tau[0], # tau_e, h\n",
    "                           2*beta[2]*beta[3]*br_tau[1], # tau_mu, h\n",
    "                           2*beta[2]*beta[3]*br_tau[2], # tau_h, h\n",
    "                           beta[3]*beta[3], # tau_h, h\n",
    "                          ])\n",
    "    mix_amps = eff*amplitudes\n",
    "    norm = mix_amps.sum()\n",
    "    f   = np.dot(h_temp[0], mix_amps/norm)\n",
    "    var = np.dot(h_temp[1], mix_amps**2/norm**2)\n",
    "    return f, var\n",
    "\n",
    "def mixture_cost(params, br_tau, eff, t_data, t_bg, t_signal, const_params):\n",
    "    '''\n",
    "    Cost functionfor full data model.  Consists of  components:\n",
    "    '''\n",
    "    alpha0 = params[0]\n",
    "    beta   = params[1:]\n",
    "    \n",
    "    f_bg, var_bg   = t_bg[0], t_bg[1]\n",
    "    f_sig, var_sig = signal_mixture_model(beta, br_tau, eff, t_signal)\n",
    "    f   = alpha0*f_bg + (1 - alpha0)*f_sig\n",
    "    var = alpha0**2*var_bg + (1 - alpha0)**2*var_sig\n",
    "    \n",
    "    chi2 = (t_data[0] - f)**2 / (t_data[1] + var)\n",
    "    chi2 = chi2[chi2 > 0]\n",
    "    \n",
    "    cost = np.sum(chi2) \n",
    "    \n",
    "    # Include parameter constraints in the objective\n",
    "    p_init = const_params['vals'] \n",
    "    v_init = const_params['var'] \n",
    "    lmult  = const_params['mask'] \n",
    "    \n",
    "    chi2 = (params - p_init)**2 / v_init\n",
    "    cost += np.sum(np.dot(chi2, lmult))\n",
    "    return cost\n",
    "\n",
    "def param_constraint_prior(p):\n",
    "    #p_init = [0.1065, 0.1059, 0.114, 0.676] # lep values\n",
    "    p_init = np.array([0.037, 0.108, 0.108, 0.108, 0.676]) \n",
    "    s_init = np.array([0.003, 0.0017, 0.0015, 0.0022, 0.0031])\n",
    "    lmult  = np.array([1, 1, 1, 0, 1])\n",
    "    \n",
    "    cost = np.dot(lmult, p_init - p)\n",
    "    return cost\n",
    "\n",
    "def param_constraint_unitary(p):\n",
    "    cost = np.abs(1 - np.sum(p[1:]))\n",
    "    return cost"
   ]
  },
  {
   "cell_type": "code",
   "execution_count": 164,
   "metadata": {
    "code_folding": []
   },
   "outputs": [
    {
     "data": {
      "text/html": [
       "<div>\n",
       "<style>\n",
       "    .dataframe thead tr:only-child th {\n",
       "        text-align: right;\n",
       "    }\n",
       "\n",
       "    .dataframe thead th {\n",
       "        text-align: left;\n",
       "    }\n",
       "\n",
       "    .dataframe tbody tr th {\n",
       "        vertical-align: top;\n",
       "    }\n",
       "</style>\n",
       "<table border=\"1\" class=\"dataframe\">\n",
       "  <thead>\n",
       "    <tr style=\"text-align: right;\">\n",
       "      <th></th>\n",
       "      <th>value</th>\n",
       "      <th>error</th>\n",
       "    </tr>\n",
       "    <tr>\n",
       "      <th>index</th>\n",
       "      <th></th>\n",
       "      <th></th>\n",
       "    </tr>\n",
       "  </thead>\n",
       "  <tbody>\n",
       "    <tr>\n",
       "      <th>alpha_bg</th>\n",
       "      <td>0.0415</td>\n",
       "      <td>0.0022</td>\n",
       "    </tr>\n",
       "    <tr>\n",
       "      <th>beta_e</th>\n",
       "      <td>0.1057</td>\n",
       "      <td>0.0012</td>\n",
       "    </tr>\n",
       "    <tr>\n",
       "      <th>beta_mu</th>\n",
       "      <td>0.1045</td>\n",
       "      <td>0.0011</td>\n",
       "    </tr>\n",
       "    <tr>\n",
       "      <th>beta_tau</th>\n",
       "      <td>0.1157</td>\n",
       "      <td>0.0081</td>\n",
       "    </tr>\n",
       "    <tr>\n",
       "      <th>beta_h</th>\n",
       "      <td>0.6740</td>\n",
       "      <td>0.0022</td>\n",
       "    </tr>\n",
       "  </tbody>\n",
       "</table>\n",
       "</div>"
      ],
      "text/plain": [
       "           value   error\n",
       "index                   \n",
       "alpha_bg  0.0415  0.0022\n",
       "beta_e    0.1057  0.0012\n",
       "beta_mu   0.1045  0.0011\n",
       "beta_tau  0.1157  0.0081\n",
       "beta_h    0.6740  0.0022"
      ]
     },
     "execution_count": 164,
     "metadata": {},
     "output_type": "execute_result"
    }
   ],
   "source": [
    "# initial values for W branching fraction (beta_e, beta_mu, beta_tau, beta_h)\n",
    "#beta_init = [0.108, 0.108, 0.108, 0.676] # lepton universality (lep averate)\n",
    "#var_beta  = [0.0009**2, 0.0009**2, 0.0009**2, 0.0031**2]\n",
    "beta_init =[0.1065, 0.1059, 0.114, 0.676]\n",
    "var_beta  = [0.0017**2, 0.0015**2, 0.0022**2, 0.0031**2]\n",
    "mask  = np.array([1, 1, 1, 0, 1])\n",
    "\n",
    "# initial values for tau branching fraction (b_e, b_mu, beta_h)\n",
    "br_tau = [0.1783, 0.1741, 0.6476]\n",
    "\n",
    "# first parameter is for the background component\n",
    "p_init = dict(vals = np.array([alpha_bg] + beta_init),\n",
    "              var  = np.array([var_alpha_bg] + var_beta),\n",
    "              mask = mask\n",
    "             )\n",
    "bounds = [(0., 1.), (0.104, 0.109), (0.10, 0.12), (0, 1), (0.674, 679)]\n",
    "\n",
    "constraints  = [\n",
    "                dict(type = 'eq', fun = param_constraint_unitary),\n",
    "                #dict(type = 'eq', fun = param_constraint_prior)\n",
    "               ]\n",
    "\n",
    "result = minimize(mixture_cost,\n",
    "                  p_init['vals'],\n",
    "                  method      = 'SLSQP',\n",
    "                  bounds      = bounds,\n",
    "                  constraints = constraints,\n",
    "                  args        = (br_tau, eff, data, bg, signal, p_init)\n",
    "                 ) \n",
    "f_cost = partial(mixture_cost, br_tau=br_tau, eff=eff, t_data=data, t_bg=bg, t_signal=signal, const_params=p_init)\n",
    "\n",
    "hcalc = nd.Hessian(f_cost,\n",
    "                   step        = 1e-2, #[5e-3*p for p in params],\n",
    "                   method      = 'central',\n",
    "                   full_output = True\n",
    "                  )\n",
    "\n",
    "hobj = hcalc(result.x)[0]\n",
    "if np.linalg.det(hobj) != 0:\n",
    "    # calculate the full covariance matrix in the case that the H\n",
    "    hinv        = np.linalg.pinv(hobj)\n",
    "    sig         = np.sqrt(hinv.diagonal())\n",
    "    corr_matrix = hinv/np.outer(sig, sig)\n",
    "\n",
    "np.set_printoptions(precision=4)\n",
    "pd.set_option('precision', 4)\n",
    "result_table = dict(\n",
    "                    index = ['alpha_bg', 'beta_e', 'beta_mu', 'beta_tau', 'beta_h'], \n",
    "                    value = result.x,\n",
    "                    error = sig\n",
    "                   )\n",
    "result_table = pd.DataFrame(result_table).set_index('index')\n",
    "result_table[['value', 'error']]"
   ]
  },
  {
   "cell_type": "code",
   "execution_count": 165,
   "metadata": {
    "code_folding": [
     0
    ]
   },
   "outputs": [
    {
     "data": {
      "text/html": [
       "<div>\n",
       "<style>\n",
       "    .dataframe thead tr:only-child th {\n",
       "        text-align: right;\n",
       "    }\n",
       "\n",
       "    .dataframe thead th {\n",
       "        text-align: left;\n",
       "    }\n",
       "\n",
       "    .dataframe tbody tr th {\n",
       "        vertical-align: top;\n",
       "    }\n",
       "</style>\n",
       "<table border=\"1\" class=\"dataframe\">\n",
       "  <thead>\n",
       "    <tr style=\"text-align: right;\">\n",
       "      <th></th>\n",
       "      <th>alpha_bg</th>\n",
       "      <th>beta_e</th>\n",
       "      <th>beta_mu</th>\n",
       "      <th>beta_tau</th>\n",
       "      <th>beta_h</th>\n",
       "    </tr>\n",
       "  </thead>\n",
       "  <tbody>\n",
       "    <tr>\n",
       "      <th>alpha_bg</th>\n",
       "      <td>1.0000e+00</td>\n",
       "      <td>-5.4429e-05</td>\n",
       "      <td>2.0541e-02</td>\n",
       "      <td>-0.5113</td>\n",
       "      <td>3.8963e-05</td>\n",
       "    </tr>\n",
       "    <tr>\n",
       "      <th>beta_e</th>\n",
       "      <td>-5.4429e-05</td>\n",
       "      <td>1.0000e+00</td>\n",
       "      <td>-6.2966e-06</td>\n",
       "      <td>-0.0008</td>\n",
       "      <td>-5.4702e-07</td>\n",
       "    </tr>\n",
       "    <tr>\n",
       "      <th>beta_mu</th>\n",
       "      <td>2.0541e-02</td>\n",
       "      <td>-6.2966e-06</td>\n",
       "      <td>1.0000e+00</td>\n",
       "      <td>0.1176</td>\n",
       "      <td>-1.1076e-05</td>\n",
       "    </tr>\n",
       "    <tr>\n",
       "      <th>beta_tau</th>\n",
       "      <td>-5.1131e-01</td>\n",
       "      <td>-7.9589e-04</td>\n",
       "      <td>1.1765e-01</td>\n",
       "      <td>1.0000</td>\n",
       "      <td>-3.6713e-03</td>\n",
       "    </tr>\n",
       "    <tr>\n",
       "      <th>beta_h</th>\n",
       "      <td>3.8963e-05</td>\n",
       "      <td>-5.4702e-07</td>\n",
       "      <td>-1.1076e-05</td>\n",
       "      <td>-0.0037</td>\n",
       "      <td>1.0000e+00</td>\n",
       "    </tr>\n",
       "  </tbody>\n",
       "</table>\n",
       "</div>"
      ],
      "text/plain": [
       "            alpha_bg      beta_e     beta_mu  beta_tau      beta_h\n",
       "alpha_bg  1.0000e+00 -5.4429e-05  2.0541e-02   -0.5113  3.8963e-05\n",
       "beta_e   -5.4429e-05  1.0000e+00 -6.2966e-06   -0.0008 -5.4702e-07\n",
       "beta_mu   2.0541e-02 -6.2966e-06  1.0000e+00    0.1176 -1.1076e-05\n",
       "beta_tau -5.1131e-01 -7.9589e-04  1.1765e-01    1.0000 -3.6713e-03\n",
       "beta_h    3.8963e-05 -5.4702e-07 -1.1076e-05   -0.0037  1.0000e+00"
      ]
     },
     "execution_count": 165,
     "metadata": {},
     "output_type": "execute_result"
    }
   ],
   "source": [
    "# print correlation matrix\n",
    "corr_matrix = pd.DataFrame(corr_matrix,\n",
    "                           columns=['alpha_bg', 'beta_e', 'beta_mu', 'beta_tau', 'beta_h'], \n",
    "                           index=['alpha_bg', 'beta_e', 'beta_mu', 'beta_tau', 'beta_h']\n",
    "                          )\n",
    "corr_matrix"
   ]
  },
  {
   "cell_type": "code",
   "execution_count": 171,
   "metadata": {},
   "outputs": [
    {
     "data": {
      "image/png": "[encoded data removed]",
      "text/plain": [
       "<matplotlib.figure.Figure at 0x7f0ee9205438>"
      ]
     },
     "metadata": {},
     "output_type": "display_data"
    }
   ],
   "source": [
    "# make some plots\n",
    "fig, axes = plt.subplots(2, 1, figsize=(10, 12), facecolor='white', sharex=True, gridspec_kw={'height_ratios':[3,1]})\n",
    "fig.subplots_adjust(hspace=0)\n",
    "#colors = [f'C{i}' for i in range(a_fit.size)]\n",
    "\n",
    "bins = df_templates.index.values\n",
    "xmin, xmax = bins.min(), bins.max()\n",
    "dx = (bins[1:] - bins[:-1])/2\n",
    "dx = np.append(dx, dx[-1])\n",
    "x = bins + dx\n",
    "\n",
    "# the data\n",
    "y_data, yerr_data = data[0], np.sqrt(data[1])\n",
    "axes[0].errorbar(x, y_data, yerr_data,\n",
    "                 fmt        = 'ko',\n",
    "                 capsize    = 0,\n",
    "                 elinewidth = 2\n",
    "                )\n",
    "\n",
    "# signal and bg (prefit)\n",
    "y_bg, yerr_bg = alpha_bg*bg[0], alpha_bg*np.sqrt(bg[1])\n",
    "axes[0].errorbar(x, y_bg, yerr_bg,\n",
    "                 fmt        = 'C0.',\n",
    "                 capsize    = 10,\n",
    "                 elinewidth = 20,\n",
    "                 alpha = 0.5\n",
    "                )\n",
    "\n",
    "y_bg, yerr_bg = result.x[0]*bg[0], result.x[0]*np.sqrt(bg[1])\n",
    "axes[0].errorbar(x, y_bg, yerr_bg,\n",
    "                 fmt        = 'C9.',\n",
    "                 capsize    = 10,\n",
    "                 elinewidth = 20,\n",
    "                 alpha = 0.5,\n",
    "                 label = '_nolegend_'\n",
    "                )\n",
    "\n",
    "y_sig, yvar_sig = signal_mixture_model(beta_init, br_tau, eff, signal)\n",
    "y_combined, yerr_combined = y_bg + (1 - alpha_bg)*y_sig, np.sqrt(yerr_bg**2 + (1 - alpha_bg)**2*yvar_sig)\n",
    "axes[0].errorbar(x, y_combined, yerr_combined,\n",
    "                 fmt        = 'C1.',\n",
    "                 capsize    = 10,\n",
    "                 elinewidth = 20,\n",
    "                 alpha = 0.5\n",
    "                )\n",
    "ratio_pre = y_data/y_combined\n",
    "ratio_pre_err = (1/y_combined**2)*np.sqrt(y_data**2*yerr_combined**2 + y_combined**2*yerr_data**2)\n",
    "\n",
    "y_sig, yvar_sig = signal_mixture_model(result.x[1:], br_tau, eff, signal)\n",
    "y_combined, yerr_combined = y_bg + (1 - result.x[0])*y_sig, np.sqrt(yerr_bg**2 + (1 - result.x[0])**2*yvar_sig)\n",
    "axes[0].errorbar(x, y_combined, yerr_combined,\n",
    "                 fmt        = 'C3.',\n",
    "                 capsize    = 10,\n",
    "                 elinewidth = 20,\n",
    "                 alpha = 0.5,\n",
    "                 label = '_nolegend_'\n",
    "                )\n",
    "ratio_post = y_data/y_combined\n",
    "ratio_post_err = (1/y_combined**2)*np.sqrt(y_data**2*yerr_combined**2 + y_combined**2*yerr_data**2)\n",
    "\n",
    "\n",
    "axes[0].grid()\n",
    "axes[0].set_ylabel(r'Entries / 2.5 GeV')\n",
    "axes[0].set_xlim(25, 255)\n",
    "axes[0].set_ylim(0., 1.2*np.max(y))\n",
    "axes[0].legend([\n",
    "                'Data',\n",
    "                r'BG',\n",
    "                r'$\\sf t\\bar{t}/tW$',\n",
    "                ])\n",
    "\n",
    "#axes[0].text(80, 2200, r'$\\alpha = $' + f' {result.x[0]:3.4} +/- {sig[0]:2.2}', {'size':20})\n",
    "\n",
    "### calculate ratios\n",
    "axes[1].errorbar(x, ratio_pre, ratio_pre_err,\n",
    "                 fmt        = 'C0o',\n",
    "                 ecolor     = 'C0',\n",
    "                 capsize    = 0,\n",
    "                 elinewidth = 3,\n",
    "                 alpha = 1.\n",
    "                )\n",
    "axes[1].errorbar(x, ratio_post, ratio_post_err,\n",
    "                 fmt        = 'C1o',\n",
    "                 ecolor     = 'C1',\n",
    "                 capsize    = 0,\n",
    "                 elinewidth = 3,\n",
    "                 alpha = 1.\n",
    "                )\n",
    "\n",
    "#ratio_post = y/h_post[-1]\n",
    "#ratio_err = np.sqrt(y/h_post[-1]**2 + (y*herr/h_post[-1]**2)**2)\n",
    "#axes[1].errorbar(x, ratio_post, ratio_err,\n",
    "#                 fmt        = 'C1o',\n",
    "#                 ecolor     = 'C1',\n",
    "#                 capsize    = 0,\n",
    "#                 elinewidth = 3,\n",
    "#                 alpha = 1.\n",
    "#                )\n",
    "#\n",
    "axes[1].grid()\n",
    "axes[1].set_xlabel(r'$\\sf p_{T}^{\\mu}$ [GeV]')\n",
    "axes[1].set_ylabel('Data / MC')\n",
    "axes[1].set_ylim(0.5, 1.49)\n",
    "#axes[1].legend(['prefit', 'postfit'], loc=1, fontsize=16)\n",
    "axes[1].plot([xmin, xmax], [1, 1], 'r--')\n",
    "\n",
    "\n",
    "plt.savefig('plots/fit_mumu_channel.pdf')\n",
    "plt.show()"
   ]
  },
  {
   "cell_type": "code",
   "execution_count": null,
   "metadata": {
    "collapsed": true
   },
   "outputs": [],
   "source": []
  }
 ],
 "metadata": {
  "hide_input": false,
  "kernelspec": {
   "display_name": "Python 3",
   "language": "python",
   "name": "python3"
  },
  "language_info": {
   "codemirror_mode": {
    "name": "ipython",
    "version": 3
   },
   "file_extension": ".py",
   "mimetype": "text/x-python",
   "name": "python",
   "nbconvert_exporter": "python",
   "pygments_lexer": "ipython3",
   "version": "3.6.1"
  },
  "latex_envs": {
   "bibliofile": "biblio.bib",
   "cite_by": "apalike",
   "current_citInitial": 1,
   "eqLabelWithNumbers": true,
   "eqNumInitial": 0
  },
  "toc": {
   "nav_menu": {
    "height": "29px",
    "width": "251px"
   },
   "navigate_menu": true,
   "number_sections": true,
   "sideBar": true,
   "threshold": 4,
   "toc_cell": false,
   "toc_section_display": "block",
   "toc_window_display": false
  },
  "widgets": {
   "state": {
    "012f8bbe2fdb410dae6e2cde9d7fe5cb": {
     "views": []
    },
    "080556076f174648bddf64f17a54c523": {
     "views": []
    },
    "0ad83b5f67484ae5b8fd8dd43ccc39bd": {
     "views": []
    },
    "15acd81a9adc493683d9b63813f000bf": {
     "views": []
    },
    "1840cb6fded848b4ae95ec8d3db15ab2": {
     "views": []
    },
    "1dd83f822e074642ae4255b15ee661cf": {
     "views": []
    },
    "1e71a878e6474912a0efc497ecc5d65b": {
     "views": []
    },
    "2022ed83777b4963b630b5c46239e218": {
     "views": []
    },
    "21c4c57bfc48495194663e6a4fbac488": {
     "views": []
    },
    "22c45c75435348c0b9501d493d69fdca": {
     "views": []
    },
    "2635f668a1af4a9db2642e705d7c73ff": {
     "views": []
    },
    "2ad5ddd9347e451b9290e5b4179ab9a2": {
     "views": []
    },
    "2c062b5778024117984822b63b0593d7": {
     "views": []
    },
    "2f5eab2f6fb24192b76a5ffe99195d44": {
     "views": []
    },
    "31632517325046e8b0cb62e4f4ed2480": {
     "views": []
    },
    "3562b97192ed4d42bbab17f77c290f6b": {
     "views": []
    },
    "38a7cc053723492b921cf9f084ed243c": {
     "views": []
    },
    "3b5750b20e1745879ca0f965aad7b614": {
     "views": []
    },
    "3f1cbabbe2694a9dabe3f1c2e09d0ee2": {
     "views": []
    },
    "3fab6a26a70c4238a668a46d4dc88bf6": {
     "views": []
    },
    "3fb3c7a25e954a4888996976fa107737": {
     "views": []
    },
    "415db64fbc574daea8457ab600392f09": {
     "views": []
    },
    "4463de406b4645a4b562fe7917380ff9": {
     "views": []
    },
    "487e5450b5a24507932709f1fa8f59c1": {
     "views": []
    },
    "48aba73013e74e71927f71d42fb44d14": {
     "views": []
    },
    "4a19ad30f77e4fe6a2c84c8b62378a47": {
     "views": []
    },
    "4bc83ff5270d41679d76d26cdded8313": {
     "views": []
    },
    "4bdd9dd5c5c64646a27fa9096851458b": {
     "views": []
    },
    "5014cd42705f45178d5e6eeffd70f119": {
     "views": []
    },
    "5259b340b68e4fdb97fb4eaf9d98d954": {
     "views": []
    },
    "5986ef5b605a42aca10bc5834529ee06": {
     "views": []
    },
    "5c1aa44589a140eb9709734c843abde6": {
     "views": []
    },
    "600cd9ca4f4c46d4ad6fe57df107675a": {
     "views": [
      {
       "cell_index": 7
      }
     ]
    },
    "61fe369ebdd14eaa89de110f6186e6b7": {
     "views": []
    },
    "62ac836017ae47a38f8fde806c5ec9b7": {
     "views": []
    },
    "632ccbfabe91405aa1c5a77c9ea754db": {
     "views": []
    },
    "66175f618ea5472baac618f998d2c06c": {
     "views": []
    },
    "6647a620af034d26abcd327ae02364d4": {
     "views": []
    },
    "6752222d2cba43e18f344a8db7f99d24": {
     "views": []
    },
    "6b684ba1a7c24a35ba2df77016212904": {
     "views": []
    },
    "6cea898f4aca4f1e84601f843e337238": {
     "views": []
    },
    "6f8d1e87fd60462a89d693b2f3b5f007": {
     "views": []
    },
    "74078646a5eb4047b40370a0ab8b6b30": {
     "views": []
    },
    "745b0c79ff3040788ea952fce9c7d607": {
     "views": []
    },
    "757c9b805eb7445bac9a7f141f87e45f": {
     "views": []
    },
    "76ced68e19a742e8976dbfd4e8594a1a": {
     "views": []
    },
    "783bb5e7538d4d9d8315e2698024b353": {
     "views": []
    },
    "794993d66efe4ab29a8d35aad8cfe079": {
     "views": []
    },
    "8375e24bae7541528d7cdc0f379d1d4c": {
     "views": []
    },
    "8554945ec15041a7bf8004dbc3fc5f11": {
     "views": []
    },
    "878a34e26cce4f18bb8232a682ebe964": {
     "views": []
    },
    "8921a75116a549198eb7b7f4a24ab672": {
     "views": []
    },
    "909f4504f0b049bda8b641defa177062": {
     "views": []
    },
    "910b9d32a3fb45ec99da1f9df1add816": {
     "views": []
    },
    "9d15ce601cd34f0699b7a7a0ce1d17dc": {
     "views": []
    },
    "a26638c9fee247b3891aac027a0918cc": {
     "views": []
    },
    "a9d2bf44a3ad447bb3eecde71363c198": {
     "views": []
    },
    "ad366bf4c95f4cdba62d47ba9501efc9": {
     "views": []
    },
    "ad8e1842ec314a94b6ed4b62c4c0a450": {
     "views": []
    },
    "af525094db304d2a812ae1312b00889b": {
     "views": []
    },
    "b0697c4343da491f9a35bf02681dad8f": {
     "views": []
    },
    "b07ff307919e4268bc8bec8379c47a5d": {
     "views": []
    },
    "b0e85c726ca141079333afb27edc63d4": {
     "views": []
    },
    "bdcc1e5df7a8432b9f40d8249a46f90a": {
     "views": []
    },
    "be1065f37fa24e818d31c3bb075947a3": {
     "views": []
    },
    "c296c8df2f734e268c6c1204536e7142": {
     "views": []
    },
    "c4bfd3e447f0426da144b76abc202129": {
     "views": []
    },
    "cced93184d4445218a2b14567579333d": {
     "views": []
    },
    "d5bd2e4d5f85482e9345f3a7a69380d0": {
     "views": []
    },
    "d798fa64e8be4a7d9ec1cbeece3b1be9": {
     "views": []
    },
    "d7aec0d6d05f442b991ab40af944811d": {
     "views": []
    },
    "db469cea2c8e4180bf6890de80329c1d": {
     "views": []
    },
    "e671857510c54634b6f0fa55bf1fa228": {
     "views": []
    },
    "ebf52deafaf64b0c826533dafdf993c0": {
     "views": []
    },
    "ed1e5439da9c41199a7bbbda21b556f8": {
     "views": []
    },
    "f585cf5db5024280af5b567f0e4fd771": {
     "views": []
    },
    "f6ba8f8800af47adabed847063bda8db": {
     "views": []
    },
    "f9bae72f14e44705b5c38a3ddc69fee8": {
     "views": []
    }
   },
   "version": "1.1.2"
  }
 },
 "nbformat": 4,
 "nbformat_minor": 1
}
