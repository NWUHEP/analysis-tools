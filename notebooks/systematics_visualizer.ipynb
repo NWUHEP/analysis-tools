{
 "cells": [
  {
   "cell_type": "markdown",
   "metadata": {},
   "source": [
    "# systematics with the Asimov dataset\n",
    "\n",
    "To assess the impact of various sources of systematic, we will rely on an Asimov dataset."
   ]
  },
  {
   "cell_type": "code",
   "execution_count": 1,
   "metadata": {
    "ExecuteTime": {
     "end_time": "2020-05-14T20:09:05.668421Z",
     "start_time": "2020-05-14T20:09:05.515003Z"
    },
    "code_folding": [
     0
    ]
   },
   "outputs": [
    {
     "name": "stdout",
     "output_type": "stream",
     "text": [
      "/home/naodell/work/wbr/analysis\n",
      "{\n",
      "  \"shell_port\": 57479,\n",
      "  \"iopub_port\": 40491,\n",
      "  \"stdin_port\": 53057,\n",
      "  \"control_port\": 41955,\n",
      "  \"hb_port\": 44713,\n",
      "  \"ip\": \"127.0.0.1\",\n",
      "  \"key\": \"0a13d2d5-dc8fb36ac3a6ed6d58daf2d1\",\n",
      "  \"transport\": \"tcp\",\n",
      "  \"signature_scheme\": \"hmac-sha256\",\n",
      "  \"kernel_name\": \"\"\n",
      "}\n",
      "\n",
      "Paste the above JSON into a file, and connect with:\n",
      "    $> jupyter <app> --existing <file>\n",
      "or, if you are local, you can connect with just:\n",
      "    $> jupyter <app> --existing kernel-a9b69f6e-397d-44dc-83b6-8128cbf455d6.json\n",
      "or even just:\n",
      "    $> jupyter <app> --existing\n",
      "if this is the most recent Jupyter kernel you have started.\n"
     ]
    }
   ],
   "source": [
    "## imports and configuration\n",
    "%cd '/home/naodell/work/wbr/analysis'\n",
    "\n",
    "from functools import partial\n",
    "import numpy as np\n",
    "import pandas as pd\n",
    "import matplotlib\n",
    "import matplotlib.pyplot as plt\n",
    "import matplotlib.gridspec as gridspec\n",
    "from scipy.optimize import minimize\n",
    "from tqdm.notebook import tqdm\n",
    "\n",
    "import scripts.plot_tools as pt\n",
    "import scripts.fit_helpers as fh\n",
    "from nllfit.nllfitter import ScanParameters\n",
    "\n",
    "np.set_printoptions(precision=3)\n",
    "matplotlib.style.use('default')\n",
    "params = {'legend.fontsize': 20,\n",
    "          'axes.labelsize': 20,\n",
    "          'figure.figsize': (8, 8),\n",
    "          'axes.facecolor': 'white',\n",
    "          'axes.titlesize':'x-large',\n",
    "          'xtick.labelsize':18,\n",
    "          'ytick.labelsize':18,\n",
    "         }\n",
    "matplotlib.rcParams.update(params)\n",
    "%matplotlib inline\n",
    "%connect_info"
   ]
  },
  {
   "cell_type": "code",
   "execution_count": 2,
   "metadata": {
    "ExecuteTime": {
     "end_time": "2020-05-14T20:09:12.499893Z",
     "start_time": "2020-05-14T20:09:05.669701Z"
    },
    "code_folding": [],
    "scrolled": true
   },
   "outputs": [],
   "source": [
    "# configure, get the input data, and do any additional processing that is needed\n",
    "processes = ['ttbar', 't', 'ww', 'wjets', 'zjets_alt', 'diboson', 'fakes'] \n",
    "selections = [\n",
    "              'ee', \n",
    "              'mumu',\n",
    "              'emu',\n",
    "              'mutau', 'etau',\n",
    "              'mujet', 'ejet'\n",
    "             ]\n",
    "\n",
    "# initialize fit data\n",
    "input_dir  = f'local_data/templates/test_08242020/'\n",
    "fit_data   = fh.FitData(input_dir, selections, processes, param_file='data/model_parameters_alt.csv', process_cut = 0.)\n",
    "model_data = fit_data._model_data\n",
    "parameters = fit_data._parameters\n",
    "param_init = parameters['val_init'].values.copy()"
   ]
  },
  {
   "cell_type": "code",
   "execution_count": 3,
   "metadata": {
    "ExecuteTime": {
     "end_time": "2020-05-14T20:21:27.055192Z",
     "start_time": "2020-05-14T20:09:12.501272Z"
    },
    "code_folding": [
     0
    ]
   },
   "outputs": [
    {
     "data": {
      "application/vnd.jupyter.widget-view+json": {
       "model_id": "",
       "version_major": 2,
       "version_minor": 0
      },
      "text/plain": [
       "HBox(children=(FloatProgress(value=0.0, max=32.0), HTML(value='')))"
      ]
     },
     "metadata": {},
     "output_type": "display_data"
    },
    {
     "data": {
      "application/vnd.jupyter.widget-view+json": {
       "model_id": "",
       "version_major": 2,
       "version_minor": 0
      },
      "text/plain": [
       "HBox(children=(FloatProgress(value=0.0, description='ee_cat_gt2_eq1_b', max=103.0, style=ProgressStyle(descrip…"
      ]
     },
     "metadata": {},
     "output_type": "display_data"
    },
    {
     "data": {
      "application/vnd.jupyter.widget-view+json": {
       "model_id": "",
       "version_major": 2,
       "version_minor": 0
      },
      "text/plain": [
       "HBox(children=(FloatProgress(value=0.0, description='ee_cat_gt2_gt2_b', max=103.0, style=ProgressStyle(descrip…"
      ]
     },
     "metadata": {},
     "output_type": "display_data"
    },
    {
     "data": {
      "application/vnd.jupyter.widget-view+json": {
       "model_id": "",
       "version_major": 2,
       "version_minor": 0
      },
      "text/plain": [
       "HBox(children=(FloatProgress(value=0.0, description='mumu_cat_gt2_eq1_b', max=103.0, style=ProgressStyle(descr…"
      ]
     },
     "metadata": {},
     "output_type": "display_data"
    },
    {
     "data": {
      "application/vnd.jupyter.widget-view+json": {
       "model_id": "",
       "version_major": 2,
       "version_minor": 0
      },
      "text/plain": [
       "HBox(children=(FloatProgress(value=0.0, description='mumu_cat_gt2_gt2_b', max=103.0, style=ProgressStyle(descr…"
      ]
     },
     "metadata": {},
     "output_type": "display_data"
    },
    {
     "data": {
      "application/vnd.jupyter.widget-view+json": {
       "model_id": "",
       "version_major": 2,
       "version_minor": 0
      },
      "text/plain": [
       "HBox(children=(FloatProgress(value=0.0, description='emu_cat_gt2_eq0', max=103.0, style=ProgressStyle(descript…"
      ]
     },
     "metadata": {},
     "output_type": "display_data"
    },
    {
     "data": {
      "application/vnd.jupyter.widget-view+json": {
       "model_id": "",
       "version_major": 2,
       "version_minor": 0
      },
      "text/plain": [
       "HBox(children=(FloatProgress(value=0.0, description='emu_cat_eq0_eq0_a', max=103.0, style=ProgressStyle(descri…"
      ]
     },
     "metadata": {},
     "output_type": "display_data"
    },
    {
     "data": {
      "application/vnd.jupyter.widget-view+json": {
       "model_id": "",
       "version_major": 2,
       "version_minor": 0
      },
      "text/plain": [
       "HBox(children=(FloatProgress(value=0.0, description='emu_cat_eq1_eq0_a', max=103.0, style=ProgressStyle(descri…"
      ]
     },
     "metadata": {},
     "output_type": "display_data"
    },
    {
     "data": {
      "application/vnd.jupyter.widget-view+json": {
       "model_id": "",
       "version_major": 2,
       "version_minor": 0
      },
      "text/plain": [
       "HBox(children=(FloatProgress(value=0.0, description='emu_cat_eq1_eq1_a', max=103.0, style=ProgressStyle(descri…"
      ]
     },
     "metadata": {},
     "output_type": "display_data"
    },
    {
     "data": {
      "application/vnd.jupyter.widget-view+json": {
       "model_id": "",
       "version_major": 2,
       "version_minor": 0
      },
      "text/plain": [
       "HBox(children=(FloatProgress(value=0.0, description='emu_cat_gt2_eq1_a', max=103.0, style=ProgressStyle(descri…"
      ]
     },
     "metadata": {},
     "output_type": "display_data"
    },
    {
     "data": {
      "application/vnd.jupyter.widget-view+json": {
       "model_id": "",
       "version_major": 2,
       "version_minor": 0
      },
      "text/plain": [
       "HBox(children=(FloatProgress(value=0.0, description='emu_cat_gt2_gt2_a', max=103.0, style=ProgressStyle(descri…"
      ]
     },
     "metadata": {},
     "output_type": "display_data"
    },
    {
     "data": {
      "application/vnd.jupyter.widget-view+json": {
       "model_id": "",
       "version_major": 2,
       "version_minor": 0
      },
      "text/plain": [
       "HBox(children=(FloatProgress(value=0.0, description='mutau_cat_gt2_eq0', max=103.0, style=ProgressStyle(descri…"
      ]
     },
     "metadata": {},
     "output_type": "display_data"
    },
    {
     "data": {
      "application/vnd.jupyter.widget-view+json": {
       "model_id": "",
       "version_major": 2,
       "version_minor": 0
      },
      "text/plain": [
       "HBox(children=(FloatProgress(value=0.0, description='mutau_cat_eq0_eq0', max=103.0, style=ProgressStyle(descri…"
      ]
     },
     "metadata": {},
     "output_type": "display_data"
    },
    {
     "data": {
      "application/vnd.jupyter.widget-view+json": {
       "model_id": "",
       "version_major": 2,
       "version_minor": 0
      },
      "text/plain": [
       "HBox(children=(FloatProgress(value=0.0, description='mutau_cat_eq1_eq0', max=103.0, style=ProgressStyle(descri…"
      ]
     },
     "metadata": {},
     "output_type": "display_data"
    },
    {
     "data": {
      "application/vnd.jupyter.widget-view+json": {
       "model_id": "",
       "version_major": 2,
       "version_minor": 0
      },
      "text/plain": [
       "HBox(children=(FloatProgress(value=0.0, description='mutau_cat_eq1_eq1', max=103.0, style=ProgressStyle(descri…"
      ]
     },
     "metadata": {},
     "output_type": "display_data"
    },
    {
     "data": {
      "application/vnd.jupyter.widget-view+json": {
       "model_id": "",
       "version_major": 2,
       "version_minor": 0
      },
      "text/plain": [
       "HBox(children=(FloatProgress(value=0.0, description='mutau_cat_eq2_eq1', max=103.0, style=ProgressStyle(descri…"
      ]
     },
     "metadata": {},
     "output_type": "display_data"
    },
    {
     "data": {
      "application/vnd.jupyter.widget-view+json": {
       "model_id": "",
       "version_major": 2,
       "version_minor": 0
      },
      "text/plain": [
       "HBox(children=(FloatProgress(value=0.0, description='mutau_cat_eq2_eq2', max=103.0, style=ProgressStyle(descri…"
      ]
     },
     "metadata": {},
     "output_type": "display_data"
    },
    {
     "data": {
      "application/vnd.jupyter.widget-view+json": {
       "model_id": "",
       "version_major": 2,
       "version_minor": 0
      },
      "text/plain": [
       "HBox(children=(FloatProgress(value=0.0, description='mutau_cat_gt3_eq1', max=103.0, style=ProgressStyle(descri…"
      ]
     },
     "metadata": {},
     "output_type": "display_data"
    },
    {
     "data": {
      "application/vnd.jupyter.widget-view+json": {
       "model_id": "",
       "version_major": 2,
       "version_minor": 0
      },
      "text/plain": [
       "HBox(children=(FloatProgress(value=0.0, description='mutau_cat_gt3_gt2', max=103.0, style=ProgressStyle(descri…"
      ]
     },
     "metadata": {},
     "output_type": "display_data"
    },
    {
     "data": {
      "application/vnd.jupyter.widget-view+json": {
       "model_id": "",
       "version_major": 2,
       "version_minor": 0
      },
      "text/plain": [
       "HBox(children=(FloatProgress(value=0.0, description='etau_cat_gt2_eq0', max=103.0, style=ProgressStyle(descrip…"
      ]
     },
     "metadata": {},
     "output_type": "display_data"
    },
    {
     "data": {
      "application/vnd.jupyter.widget-view+json": {
       "model_id": "",
       "version_major": 2,
       "version_minor": 0
      },
      "text/plain": [
       "HBox(children=(FloatProgress(value=0.0, description='etau_cat_eq0_eq0', max=103.0, style=ProgressStyle(descrip…"
      ]
     },
     "metadata": {},
     "output_type": "display_data"
    },
    {
     "data": {
      "application/vnd.jupyter.widget-view+json": {
       "model_id": "",
       "version_major": 2,
       "version_minor": 0
      },
      "text/plain": [
       "HBox(children=(FloatProgress(value=0.0, description='etau_cat_eq1_eq0', max=103.0, style=ProgressStyle(descrip…"
      ]
     },
     "metadata": {},
     "output_type": "display_data"
    },
    {
     "data": {
      "application/vnd.jupyter.widget-view+json": {
       "model_id": "",
       "version_major": 2,
       "version_minor": 0
      },
      "text/plain": [
       "HBox(children=(FloatProgress(value=0.0, description='etau_cat_eq1_eq1', max=103.0, style=ProgressStyle(descrip…"
      ]
     },
     "metadata": {},
     "output_type": "display_data"
    },
    {
     "data": {
      "application/vnd.jupyter.widget-view+json": {
       "model_id": "",
       "version_major": 2,
       "version_minor": 0
      },
      "text/plain": [
       "HBox(children=(FloatProgress(value=0.0, description='etau_cat_eq2_eq1', max=103.0, style=ProgressStyle(descrip…"
      ]
     },
     "metadata": {},
     "output_type": "display_data"
    },
    {
     "data": {
      "application/vnd.jupyter.widget-view+json": {
       "model_id": "",
       "version_major": 2,
       "version_minor": 0
      },
      "text/plain": [
       "HBox(children=(FloatProgress(value=0.0, description='etau_cat_eq2_eq2', max=103.0, style=ProgressStyle(descrip…"
      ]
     },
     "metadata": {},
     "output_type": "display_data"
    },
    {
     "data": {
      "application/vnd.jupyter.widget-view+json": {
       "model_id": "",
       "version_major": 2,
       "version_minor": 0
      },
      "text/plain": [
       "HBox(children=(FloatProgress(value=0.0, description='etau_cat_gt3_eq1', max=103.0, style=ProgressStyle(descrip…"
      ]
     },
     "metadata": {},
     "output_type": "display_data"
    },
    {
     "data": {
      "application/vnd.jupyter.widget-view+json": {
       "model_id": "",
       "version_major": 2,
       "version_minor": 0
      },
      "text/plain": [
       "HBox(children=(FloatProgress(value=0.0, description='etau_cat_gt3_gt2', max=103.0, style=ProgressStyle(descrip…"
      ]
     },
     "metadata": {},
     "output_type": "display_data"
    },
    {
     "data": {
      "application/vnd.jupyter.widget-view+json": {
       "model_id": "",
       "version_major": 2,
       "version_minor": 0
      },
      "text/plain": [
       "HBox(children=(FloatProgress(value=0.0, description='mujet_cat_gt4_eq1', max=103.0, style=ProgressStyle(descri…"
      ]
     },
     "metadata": {},
     "output_type": "display_data"
    },
    {
     "data": {
      "application/vnd.jupyter.widget-view+json": {
       "model_id": "",
       "version_major": 2,
       "version_minor": 0
      },
      "text/plain": [
       "HBox(children=(FloatProgress(value=0.0, description='mujet_cat_gt4_gt2', max=103.0, style=ProgressStyle(descri…"
      ]
     },
     "metadata": {},
     "output_type": "display_data"
    },
    {
     "data": {
      "application/vnd.jupyter.widget-view+json": {
       "model_id": "",
       "version_major": 2,
       "version_minor": 0
      },
      "text/plain": [
       "HBox(children=(FloatProgress(value=0.0, description='mujet_cat_eq3_gt2', max=103.0, style=ProgressStyle(descri…"
      ]
     },
     "metadata": {},
     "output_type": "display_data"
    },
    {
     "data": {
      "application/vnd.jupyter.widget-view+json": {
       "model_id": "",
       "version_major": 2,
       "version_minor": 0
      },
      "text/plain": [
       "HBox(children=(FloatProgress(value=0.0, description='ejet_cat_gt4_eq1', max=103.0, style=ProgressStyle(descrip…"
      ]
     },
     "metadata": {},
     "output_type": "display_data"
    },
    {
     "data": {
      "application/vnd.jupyter.widget-view+json": {
       "model_id": "",
       "version_major": 2,
       "version_minor": 0
      },
      "text/plain": [
       "HBox(children=(FloatProgress(value=0.0, description='ejet_cat_gt4_gt2', max=103.0, style=ProgressStyle(descrip…"
      ]
     },
     "metadata": {},
     "output_type": "display_data"
    },
    {
     "data": {
      "application/vnd.jupyter.widget-view+json": {
       "model_id": "",
       "version_major": 2,
       "version_minor": 0
      },
      "text/plain": [
       "HBox(children=(FloatProgress(value=0.0, description='ejet_cat_eq3_gt2', max=103.0, style=ProgressStyle(descrip…"
      ]
     },
     "metadata": {},
     "output_type": "display_data"
    }
   ],
   "source": [
    "# plot uncertainties\n",
    "plot_labels = fh.fancy_labels\n",
    "categories = list(model_data.keys())\n",
    "summary_data = {pname:dict() for pname in parameters.index}\n",
    "\n",
    "for category in tqdm(categories, leave=False):\n",
    "    #print(category)\n",
    "    lep_category, jet_category = category.split('_', 1) \n",
    "    if jet_category not in pt.categories.keys():\n",
    "        continue\n",
    "        \n",
    "    # get the data for the selection/category\n",
    "    sdata = fit_data.get_selection_data(lep_category)\n",
    "    bins = sdata[jet_category]['bins']\n",
    "    \n",
    "    template_nominal = fit_data.mixture_model(param_init, category)\n",
    "    template_nominal_alt = fit_data.model_sums(lep_category, jet_category)\n",
    "    #print(template_nominal[0], template_nominal_alt, sep='\\n')\n",
    "    #print((template_nominal[0] - template_nominal_alt)/np.sqrt(template_nominal_alt), end='\\n')\n",
    "    \n",
    "    #print(category)\n",
    "    #print(np.sqrt(template_nominal[0]))\n",
    "    #print(1./np.sqrt(template_nominal[0].sum()))\n",
    "    #\n",
    "    #print(np.sqrt(template_nominal[1]))\n",
    "    #print(np.sqrt(template_nominal[1].sum())/template_nominal[0].sum())\n",
    "    #print('-----------')\n",
    "    \n",
    "    # loop over parameters to get varitations\n",
    "    for ix, (pname, pdata) in tqdm(enumerate(parameters.iterrows()), \n",
    "                                   desc = category,\n",
    "                                   leave=False, \n",
    "                                   total=parameters.shape[0]\n",
    "                                  ):\n",
    "        #print(pname, pdata.val_init, pdata.err_init)\n",
    "        #if not pdata[lep_category] or ix < 4:\n",
    "        if not pdata[lep_category] or not pdata.active:\n",
    "            continue\n",
    "            \n",
    "        # prior uncertainties\n",
    "        pval = param_init.copy()\n",
    "        err_pre = pdata['err_init'] if 'beta' not in pname else 0.01*pdata['err_init']\n",
    "        pval[ix] = param_init[ix] + err_pre\n",
    "        template_up = fit_data.mixture_model(pval, category)\n",
    "        pval[ix] = param_init[ix] - err_pre\n",
    "        template_down = fit_data.mixture_model(pval, category)\n",
    "        var_pre_up = (template_up[0] - template_nominal[0])/template_nominal[0]\n",
    "        var_pre_down = (template_down[0] - template_nominal[0])/template_nominal[0]\n",
    "        #print(pval)\n",
    "        #print(var_pre_up, var_pre_down, sep='\\n')\n",
    "        \n",
    "        # post-fit uncertainties\n",
    "        err_post = pdata['err_init']\n",
    "        pval[ix] = param_init[ix] + err_post\n",
    "        template_up = fit_data.mixture_model(pval, category)\n",
    "        pval[ix] = param_init[ix] - err_post\n",
    "        template_down = fit_data.mixture_model(pval, category)\n",
    "        \n",
    "        var_post_up = (template_up[0] - template_nominal[0])/template_nominal[0]\n",
    "        var_post_down = (template_down[0] - template_nominal[0])/template_nominal[0]\n",
    "        \n",
    "        # save up/down variations\n",
    "        summary_data[pname][category] = (template_nominal[0].sum(), template_nominal[1].sum(), template_up[0].sum(), template_down[0].sum())\n",
    "        \n",
    "        # statistical uncertainties\n",
    "        err_stat_mc = np.sqrt(template_nominal[1])/template_nominal[0]\n",
    "        err_stat_data = 1./np.sqrt(template_nominal[0])\n",
    "        \n",
    "        # setting axis limits\n",
    "        ymin = np.min([var_pre_up.min(), var_pre_down.min(), var_post_up.min(), var_post_down.min()])\n",
    "        ymax = np.max([var_pre_up.max(), var_pre_down.max(), var_post_up.max(), var_post_down.max()])\n",
    "        ylim = np.max(np.abs([ymin, ymax])) \n",
    "        \n",
    "        # make the plots\n",
    "        fig, ax = plt.subplots(1, 1, figsize=(14, 5), facecolor='white')\n",
    "        x = bins[:-1]\n",
    "        dx = bins[1:] - bins[:-1]\n",
    "        ax.fill_between(x, -err_stat_mc, err_stat_mc, edgecolor='r', facecolor='none', step='post', hatch='\\\\', alpha=0.5, label=r'$\\sigma_{stat. MC}$')\n",
    "        ax.fill_between(x, -err_stat_data, err_stat_data, edgecolor='r', facecolor='none', step='post', hatch='/', alpha=0.5, label=r'$\\sigma_{stat. data}$')\n",
    "        \n",
    "        ax.plot(x, var_pre_up, drawstyle='steps-post', c='C0', linestyle='--', linewidth=2., label=r'$\\sigma_{\\theta}$ (pre-fit)')\n",
    "        ax.plot(x + dx/2, var_pre_up, c='C0', marker='^', markersize=8, linestyle='None', label='_nolegend_')\n",
    "        ax.plot(x, var_pre_down, drawstyle='steps-post', c='C0', linestyle='--', linewidth=2., label='_nolegend_')\n",
    "        ax.plot(x + dx/2, var_pre_down, c='C0', marker='v', markersize=8, linestyle='None', label='_nolegend_')\n",
    "        \n",
    "        #ax.plot(x, var_post_up, drawstyle='steps-post', c='C1', linestyle='--', linewidth=2., label=r'$\\sigma_{\\theta}$ (post-fit)')\n",
    "        #ax.plot(x + dx/2, var_post_up, c='C1', marker='^', markersize=8, linestyle='None', label='_nolegend_')\n",
    "        #ax.plot(x, var_post_down, drawstyle='steps-post', c='C1', linestyle='--', linewidth=2., label='_nolegend_')\n",
    "        #ax.plot(x + dx/2, var_post_down, c='C1', marker='v', markersize=8, linestyle='None', label='_nolegend_')\n",
    "        \n",
    "        ax.set_xlabel(f'{plot_labels[lep_category][0]}', fontsize=20)\n",
    "        ax.set_ylabel(r'$\\frac{\\delta N}{N}$')\n",
    "        ax.set_xlim(x[0], x[-1])\n",
    "        if ylim > 0.:\n",
    "            ax.set_ylim(-1.25*ylim, 1.25*ylim)\n",
    "        ax.set_title(pdata['label'], fontsize=24)\n",
    "        ax.grid()\n",
    "        \n",
    "        txt = ax.text(0.2, 0.9, f'{plot_labels[lep_category][1]}, {pt.categories[jet_category].label}', \n",
    "                      horizontalalignment='center', \n",
    "                      verticalalignment='center', \n",
    "                      transform=ax.transAxes, \n",
    "                      fontsize=22\n",
    "                     )\n",
    "        txt.set_bbox(dict(facecolor='white', alpha=0.8, edgecolor='red'))\n",
    "        \n",
    "        ax.legend(loc='center left', bbox_to_anchor=(1, 0.5), fontsize=14)\n",
    "        plt.tight_layout(rect=[0, 0, 0.98, 0.96])\n",
    "        \n",
    "        #plt.tight_layout()\n",
    "        outdir = f'plots/systematics/sources/{lep_category}/{jet_category}'\n",
    "        pt.make_directory(outdir, clear=False)\n",
    "        plt.savefig(f'{outdir}/{pname}.png')\n",
    "        plt.close()\n",
    "    "
   ]
  },
  {
   "cell_type": "code",
   "execution_count": 4,
   "metadata": {
    "ExecuteTime": {
     "end_time": "2020-05-14T20:21:27.417647Z",
     "start_time": "2020-05-14T20:21:27.056712Z"
    },
    "code_folding": [
     0
    ]
   },
   "outputs": [
    {
     "data": {
      "application/vnd.jupyter.widget-view+json": {
       "model_id": "73cd03c59895468aaef4bd3975878c16",
       "version_major": 2,
       "version_minor": 0
      },
      "text/plain": [
       "HBox(children=(FloatProgress(value=0.0, max=103.0), HTML(value='')))"
      ]
     },
     "metadata": {},
     "output_type": "display_data"
    },
    {
     "name": "stdout",
     "output_type": "stream",
     "text": [
      "\n"
     ]
    },
    {
     "ename": "KeyError",
     "evalue": "'mu4j'",
     "output_type": "error",
     "traceback": [
      "\u001b[0;31m---------------------------------------------------------------------------\u001b[0m",
      "\u001b[0;31mKeyError\u001b[0m                                  Traceback (most recent call last)",
      "\u001b[0;32m<ipython-input-4-4fe628737540>\u001b[0m in \u001b[0;36m<module>\u001b[0;34m\u001b[0m\n\u001b[1;32m     54\u001b[0m     \u001b[0;32mfor\u001b[0m \u001b[0mcat\u001b[0m\u001b[0;34m,\u001b[0m \u001b[0mxcoord\u001b[0m \u001b[0;32min\u001b[0m \u001b[0mformat_dict\u001b[0m\u001b[0;34m.\u001b[0m\u001b[0mitems\u001b[0m\u001b[0;34m(\u001b[0m\u001b[0;34m)\u001b[0m\u001b[0;34m:\u001b[0m\u001b[0;34m\u001b[0m\u001b[0;34m\u001b[0m\u001b[0m\n\u001b[1;32m     55\u001b[0m         \u001b[0max\u001b[0m\u001b[0;34m.\u001b[0m\u001b[0mplot\u001b[0m\u001b[0;34m(\u001b[0m\u001b[0;34m[\u001b[0m\u001b[0mxcoord\u001b[0m\u001b[0;34m-\u001b[0m\u001b[0;36m0.5\u001b[0m\u001b[0;34m,\u001b[0m \u001b[0mxcoord\u001b[0m\u001b[0;34m-\u001b[0m\u001b[0;36m0.5\u001b[0m\u001b[0;34m]\u001b[0m\u001b[0;34m,\u001b[0m \u001b[0;34m[\u001b[0m\u001b[0;36m1.5\u001b[0m\u001b[0;34m*\u001b[0m\u001b[0mymin\u001b[0m\u001b[0;34m,\u001b[0m \u001b[0;36m1.5\u001b[0m\u001b[0;34m*\u001b[0m\u001b[0mymax\u001b[0m\u001b[0;34m]\u001b[0m\u001b[0;34m,\u001b[0m \u001b[0;34m'r:'\u001b[0m\u001b[0;34m)\u001b[0m\u001b[0;34m\u001b[0m\u001b[0;34m\u001b[0m\u001b[0m\n\u001b[0;32m---> 56\u001b[0;31m         ax.text(0.015 + xcoord/33, 0.95, plot_labels[cat][1], \n\u001b[0m\u001b[1;32m     57\u001b[0m                 \u001b[0mcolor\u001b[0m\u001b[0;34m=\u001b[0m\u001b[0;34m'r'\u001b[0m\u001b[0;34m,\u001b[0m\u001b[0;34m\u001b[0m\u001b[0;34m\u001b[0m\u001b[0m\n\u001b[1;32m     58\u001b[0m                 \u001b[0mhorizontalalignment\u001b[0m\u001b[0;34m=\u001b[0m\u001b[0;34m'center'\u001b[0m\u001b[0;34m,\u001b[0m\u001b[0;34m\u001b[0m\u001b[0;34m\u001b[0m\u001b[0m\n",
      "\u001b[0;31mKeyError\u001b[0m: 'mu4j'"
     ]
    },
    {
     "data": {
      "image/png": "[encoded data removed]",
      "text/plain": [
       "<Figure size 1728x576 with 1 Axes>"
      ]
     },
     "metadata": {},
     "output_type": "display_data"
    }
   ],
   "source": [
    "# category migration\n",
    "format_dict = dict(ee=1, mumu=4, emu=7, mutau=13, etau=21, mu4j=29, e4j=31)\n",
    "\n",
    "for pname, pdata in tqdm(summary_data.items(),  total=parameters.shape[0]):\n",
    "    if 'beta' in pname:\n",
    "        continue\n",
    "    \n",
    "    fig, ax = plt.subplots(1, 1, figsize=(24, 8), facecolor='white')\n",
    "    y_nominal = np.array([pdata[cat][0] if cat in pdata.keys() else 0.for cat in categories])\n",
    "    y_err = np.array([np.sqrt(pdata[cat][1]) if cat in pdata.keys() else 0.for cat in categories])\n",
    "    y_up = np.array([pdata[cat][2] if cat in pdata.keys() else 0. for cat in categories])\n",
    "    y_down = np.array([pdata[cat][3] if cat in pdata.keys() else 0. for cat in categories])\n",
    "    \n",
    "    #print(pname, y_err, np.sqrt(y_nominal), '---', sep='\\n')\n",
    "    \n",
    "    x = np.arange(1, y_nominal.size+1, 1)\n",
    "    nan_mask = y_nominal == 0\n",
    "    d_up = (y_up - y_nominal)/y_nominal\n",
    "    d_down = (y_down - y_nominal)/y_nominal\n",
    "    d_up[nan_mask], d_down[nan_mask] = 0., 0.\n",
    "    ax.bar(x, d_up, color='C0', alpha=0.75, label='up')\n",
    "    ax.bar(x, d_down, color='C1', alpha=0.75, label='down')\n",
    "    \n",
    "    # MC stats\n",
    "    x = np.append(x, 33)\n",
    "    d_err_down, d_err_up = -y_err/y_nominal, y_err/y_nominal\n",
    "    d_err_up[nan_mask], d_err_down[nan_mask] = 0., 0.\n",
    "    d_err_down, d_err_up = np.append(d_err_down, d_err_down[-1]), np.append(d_err_up, d_err_up[-1])\n",
    "    ax.fill_between(x-0.5, d_err_down, d_err_up, linewidth=2, edgecolor='k', facecolor='none', hatch='\\\\', step='post', alpha=0.5, label='MC stat.')\n",
    "    \n",
    "    # data stats\n",
    "    d_err_down, d_err_up = -1/np.sqrt(y_nominal), 1/np.sqrt(y_nominal)\n",
    "    d_err_up[nan_mask], d_err_down[nan_mask] = 0., 0.\n",
    "    d_err_down, d_err_up = np.append(d_err_down, d_err_down[-1]), np.append(d_err_up, d_err_up[-1])\n",
    "    ax.fill_between(x-0.5, d_err_down, d_err_up, linewidth=2, edgecolor='k', facecolor='none', hatch='/', step='post', alpha=0.5, label='Data stat.')\n",
    "    \n",
    "    ax.plot([0, 33], [0, 0], 'k:')\n",
    "    ax.set_title(pname)\n",
    "    ax.grid(axis='y')\n",
    "    ax.set_xlim(0, 33)\n",
    "    \n",
    "    ymax, ymin = np.max([d_down.max(), d_up.max(), d_err_up.max()]), np.min([d_down.min(), d_up.min(), d_err_down.min()])\n",
    "    ax.set_ylim(1.5*ymin, 1.5*ymax)\n",
    "    \n",
    "    ax.set_ylabel(r'$\\frac{\\delta N}{N}$', size=22)\n",
    "    ax.set_xlabel('category')\n",
    "    ax.set_xticks(x[:-1])\n",
    "    xlabels = [pt.categories[cat.split('_', 1)[1]].label for cat in categories] \n",
    "    ax.set_xticklabels(xlabels)\n",
    "    plt.setp(ax.xaxis.get_majorticklabels(), rotation=90)\n",
    "    \n",
    "    ax.legend(loc='center left', bbox_to_anchor=(1, 0.5), fontsize=14)\n",
    "    \n",
    "    for cat, xcoord in format_dict.items():\n",
    "        ax.plot([xcoord-0.5, xcoord-0.5], [1.5*ymin, 1.5*ymax], 'r:')\n",
    "        ax.text(0.015 + xcoord/33, 0.95, plot_labels[cat][1], \n",
    "                color='r',\n",
    "                horizontalalignment='center', \n",
    "                verticalalignment='center', \n",
    "                transform=ax.transAxes, \n",
    "                fontsize=18\n",
    "               )\n",
    "    ax.plot([32.5, 32.5], [1.5*ymin, 1.5*ymax], 'r:')\n",
    "        \n",
    "    outdir = f'plots/systematics/sources/summary'\n",
    "    pt.make_directory(outdir, clear=False)\n",
    "    plt.tight_layout(rect=[0, 0, 0.98, 0.96])\n",
    "    plt.savefig(f'{outdir}/{pname}_summary.png')\n",
    "    plt.close()"
   ]
  },
  {
   "cell_type": "code",
   "execution_count": null,
   "metadata": {},
   "outputs": [],
   "source": []
  }
 ],
 "metadata": {
  "hide_input": false,
  "kernelspec": {
   "display_name": "Python 3",
   "language": "python",
   "name": "python3"
  },
  "language_info": {
   "codemirror_mode": {
    "name": "ipython",
    "version": 3
   },
   "file_extension": ".py",
   "mimetype": "text/x-python",
   "name": "python",
   "nbconvert_exporter": "python",
   "pygments_lexer": "ipython3",
   "version": "3.7.6"
  },
  "latex_envs": {
   "LaTeX_envs_menu_present": true,
   "autoclose": false,
   "autocomplete": true,
   "bibliofile": "biblio.bib",
   "cite_by": "apalike",
   "current_citInitial": 1,
   "eqLabelWithNumbers": true,
   "eqNumInitial": 0,
   "hotkeys": {
    "equation": "Ctrl-E",
    "itemize": "Ctrl-I"
   },
   "labels_anchors": false,
   "latex_user_defs": false,
   "report_style_numbering": false,
   "user_envs_cfg": false
  },
  "toc": {
   "nav_menu": {
    "height": "29px",
    "width": "251px"
   },
   "number_sections": true,
   "sideBar": true,
   "skip_h1_title": false,
   "title_cell": "Table of Contents",
   "title_sidebar": "Contents",
   "toc_cell": false,
   "toc_position": {
    "height": "49px",
    "left": "0px",
    "right": "1493.87px",
    "top": "90.9965px",
    "width": "242px"
   },
   "toc_section_display": false,
   "toc_window_display": false
  },
  "varInspector": {
   "cols": {
    "lenName": 16,
    "lenType": 16,
    "lenVar": 40
   },
   "kernels_config": {
    "python": {
     "delete_cmd_postfix": "",
     "delete_cmd_prefix": "del ",
     "library": "var_list.py",
     "varRefreshCmd": "print(var_dic_list())"
    },
    "r": {
     "delete_cmd_postfix": ") ",
     "delete_cmd_prefix": "rm(",
     "library": "var_list.r",
     "varRefreshCmd": "cat(var_dic_list()) "
    }
   },
   "types_to_exclude": [
    "module",
    "function",
    "builtin_function_or_method",
    "instance",
    "_Feature"
   ],
   "window_display": false
  },
  "widgets": {
   "state": {
    "012f8bbe2fdb410dae6e2cde9d7fe5cb": {
     "views": []
    },
    "080556076f174648bddf64f17a54c523": {
     "views": []
    },
    "0ad83b5f67484ae5b8fd8dd43ccc39bd": {
     "views": []
    },
    "15acd81a9adc493683d9b63813f000bf": {
     "views": []
    },
    "1840cb6fded848b4ae95ec8d3db15ab2": {
     "views": []
    },
    "1dd83f822e074642ae4255b15ee661cf": {
     "views": []
    },
    "1e71a878e6474912a0efc497ecc5d65b": {
     "views": []
    },
    "2022ed83777b4963b630b5c46239e218": {
     "views": []
    },
    "21c4c57bfc48495194663e6a4fbac488": {
     "views": []
    },
    "22c45c75435348c0b9501d493d69fdca": {
     "views": []
    },
    "2635f668a1af4a9db2642e705d7c73ff": {
     "views": []
    },
    "2ad5ddd9347e451b9290e5b4179ab9a2": {
     "views": []
    },
    "2c062b5778024117984822b63b0593d7": {
     "views": []
    },
    "2f5eab2f6fb24192b76a5ffe99195d44": {
     "views": []
    },
    "31632517325046e8b0cb62e4f4ed2480": {
     "views": []
    },
    "3562b97192ed4d42bbab17f77c290f6b": {
     "views": []
    },
    "38a7cc053723492b921cf9f084ed243c": {
     "views": []
    },
    "3b5750b20e1745879ca0f965aad7b614": {
     "views": []
    },
    "3f1cbabbe2694a9dabe3f1c2e09d0ee2": {
     "views": []
    },
    "3fab6a26a70c4238a668a46d4dc88bf6": {
     "views": []
    },
    "3fb3c7a25e954a4888996976fa107737": {
     "views": []
    },
    "415db64fbc574daea8457ab600392f09": {
     "views": []
    },
    "4463de406b4645a4b562fe7917380ff9": {
     "views": []
    },
    "487e5450b5a24507932709f1fa8f59c1": {
     "views": []
    },
    "48aba73013e74e71927f71d42fb44d14": {
     "views": []
    },
    "4a19ad30f77e4fe6a2c84c8b62378a47": {
     "views": []
    },
    "4bc83ff5270d41679d76d26cdded8313": {
     "views": []
    },
    "4bdd9dd5c5c64646a27fa9096851458b": {
     "views": []
    },
    "5014cd42705f45178d5e6eeffd70f119": {
     "views": []
    },
    "5259b340b68e4fdb97fb4eaf9d98d954": {
     "views": []
    },
    "5986ef5b605a42aca10bc5834529ee06": {
     "views": []
    },
    "5c1aa44589a140eb9709734c843abde6": {
     "views": []
    },
    "600cd9ca4f4c46d4ad6fe57df107675a": {
     "views": [
      {
       "cell_index": 7
      }
     ]
    },
    "61fe369ebdd14eaa89de110f6186e6b7": {
     "views": []
    },
    "62ac836017ae47a38f8fde806c5ec9b7": {
     "views": []
    },
    "632ccbfabe91405aa1c5a77c9ea754db": {
     "views": []
    },
    "66175f618ea5472baac618f998d2c06c": {
     "views": []
    },
    "6647a620af034d26abcd327ae02364d4": {
     "views": []
    },
    "6752222d2cba43e18f344a8db7f99d24": {
     "views": []
    },
    "6b684ba1a7c24a35ba2df77016212904": {
     "views": []
    },
    "6cea898f4aca4f1e84601f843e337238": {
     "views": []
    },
    "6f8d1e87fd60462a89d693b2f3b5f007": {
     "views": []
    },
    "74078646a5eb4047b40370a0ab8b6b30": {
     "views": []
    },
    "745b0c79ff3040788ea952fce9c7d607": {
     "views": []
    },
    "757c9b805eb7445bac9a7f141f87e45f": {
     "views": []
    },
    "76ced68e19a742e8976dbfd4e8594a1a": {
     "views": []
    },
    "783bb5e7538d4d9d8315e2698024b353": {
     "views": []
    },
    "794993d66efe4ab29a8d35aad8cfe079": {
     "views": []
    },
    "8375e24bae7541528d7cdc0f379d1d4c": {
     "views": []
    },
    "8554945ec15041a7bf8004dbc3fc5f11": {
     "views": []
    },
    "878a34e26cce4f18bb8232a682ebe964": {
     "views": []
    },
    "8921a75116a549198eb7b7f4a24ab672": {
     "views": []
    },
    "909f4504f0b049bda8b641defa177062": {
     "views": []
    },
    "910b9d32a3fb45ec99da1f9df1add816": {
     "views": []
    },
    "9d15ce601cd34f0699b7a7a0ce1d17dc": {
     "views": []
    },
    "a26638c9fee247b3891aac027a0918cc": {
     "views": []
    },
    "a9d2bf44a3ad447bb3eecde71363c198": {
     "views": []
    },
    "ad366bf4c95f4cdba62d47ba9501efc9": {
     "views": []
    },
    "ad8e1842ec314a94b6ed4b62c4c0a450": {
     "views": []
    },
    "af525094db304d2a812ae1312b00889b": {
     "views": []
    },
    "b0697c4343da491f9a35bf02681dad8f": {
     "views": []
    },
    "b07ff307919e4268bc8bec8379c47a5d": {
     "views": []
    },
    "b0e85c726ca141079333afb27edc63d4": {
     "views": []
    },
    "bdcc1e5df7a8432b9f40d8249a46f90a": {
     "views": []
    },
    "be1065f37fa24e818d31c3bb075947a3": {
     "views": []
    },
    "c296c8df2f734e268c6c1204536e7142": {
     "views": []
    },
    "c4bfd3e447f0426da144b76abc202129": {
     "views": []
    },
    "cced93184d4445218a2b14567579333d": {
     "views": []
    },
    "d5bd2e4d5f85482e9345f3a7a69380d0": {
     "views": []
    },
    "d798fa64e8be4a7d9ec1cbeece3b1be9": {
     "views": []
    },
    "d7aec0d6d05f442b991ab40af944811d": {
     "views": []
    },
    "db469cea2c8e4180bf6890de80329c1d": {
     "views": []
    },
    "e671857510c54634b6f0fa55bf1fa228": {
     "views": []
    },
    "ebf52deafaf64b0c826533dafdf993c0": {
     "views": []
    },
    "ed1e5439da9c41199a7bbbda21b556f8": {
     "views": []
    },
    "f585cf5db5024280af5b567f0e4fd771": {
     "views": []
    },
    "f6ba8f8800af47adabed847063bda8db": {
     "views": []
    },
    "f9bae72f14e44705b5c38a3ddc69fee8": {
     "views": []
    }
   },
   "version": "1.1.2"
  }
 },
 "nbformat": 4,
 "nbformat_minor": 4
}
