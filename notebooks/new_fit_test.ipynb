{
 "cells": [
  {
   "cell_type": "markdown",
   "metadata": {},
   "source": [
    "# bias studies with full systematics\n",
    "\n",
    "To assess the impact of various sources of systematic, we will rely on an Asimov dataset."
   ]
  },
  {
   "cell_type": "code",
   "execution_count": 1,
   "metadata": {
    "code_folding": []
   },
   "outputs": [
    {
     "name": "stdout",
     "output_type": "stream",
     "text": [
      "/home/naodell/work/wbr/analysis\n",
      "{\n",
      "  \"shell_port\": 45519,\n",
      "  \"iopub_port\": 56113,\n",
      "  \"stdin_port\": 50249,\n",
      "  \"control_port\": 51515,\n",
      "  \"hb_port\": 38001,\n",
      "  \"ip\": \"127.0.0.1\",\n",
      "  \"key\": \"95c8a836-df4ab95f8a8207d15d723404\",\n",
      "  \"transport\": \"tcp\",\n",
      "  \"signature_scheme\": \"hmac-sha256\",\n",
      "  \"kernel_name\": \"\"\n",
      "}\n",
      "\n",
      "Paste the above JSON into a file, and connect with:\n",
      "    $> jupyter <app> --existing <file>\n",
      "or, if you are local, you can connect with just:\n",
      "    $> jupyter <app> --existing kernel-50158135-2276-4fcb-92a3-68e495d1cbba.json\n",
      "or even just:\n",
      "    $> jupyter <app> --existing\n",
      "if this is the most recent Jupyter kernel you have started.\n"
     ]
    }
   ],
   "source": [
    "## imports and configuration\n",
    "%cd '/home/naodell/work/wbr/analysis'\n",
    "%load_ext autoreload\n",
    "\n",
    "from functools import partial\n",
    "import numpy as np\n",
    "import pandas as pd\n",
    "import matplotlib.pyplot as plt\n",
    "import matplotlib\n",
    "from scipy.optimize import minimize\n",
    "from tqdm import tqdm_notebook\n",
    "\n",
    "import scripts.plot_tools as pt\n",
    "import scripts.fit_helpers as fh\n",
    "from nllfit.nllfitter import ScanParameters\n",
    "\n",
    "np.set_printoptions(precision=3)\n",
    "params = {\n",
    "          'figure.figsize': (10, 10),\n",
    "          'axes.labelsize': 20,\n",
    "          'axes.facecolor': 'white',\n",
    "          'axes.titlesize':'x-large',\n",
    "          'legend.fontsize': 20,\n",
    "          'xtick.labelsize':18,\n",
    "          'ytick.labelsize':18,\n",
    "          'font.size':18,\n",
    "          'font.sans-serif':['Arial', 'sans-serif'],\n",
    "          'mathtext.sf':'Arial',\n",
    "          'lines.markersize':8.,\n",
    "          'lines.linewidth':2.5,\n",
    "         }\n",
    "matplotlib.rcParams.update(params)\n",
    "\n",
    "%connect_info"
   ]
  },
  {
   "cell_type": "code",
   "execution_count": 2,
   "metadata": {
    "code_folding": [
     0
    ]
   },
   "outputs": [],
   "source": [
    "# configure, get the input data, and do any additional processing that is needed\n",
    "input_dir  = f'local_data/templates/test_new/'\n",
    "selections = [\n",
    "              'ee', 'emu', 'mumu',  \n",
    "              'mutau', 'etau', \n",
    "              'mu4j', 'e4j'\n",
    "             ]\n",
    "processes = ['ttbar', 't', 'ww', 'wjets', 'zjets_alt', 'diboson', 'fakes'] \n",
    "n_selection = len(selections)\n",
    "plot_labels = dict(\n",
    "                   mumu  = [r'$\\sf p_{T, \\mu}$', r'$\\mu\\mu$'],\n",
    "                   ee    = [r'$\\sf p_{T, e}$', r'$ee$'],\n",
    "                   emu   = [r'$\\sf p_{T, \\ell}$', r'$e\\mu$'],\n",
    "                   mutau = [r'$\\sf p_{T, \\tau}$', r'$\\mu\\tau$'],\n",
    "                   etau  = [r'$\\sf p_{T, \\tau}$', r'$e\\tau$'],\n",
    "                   mu4j  = [r'$\\sf p_{T, \\mu}$', r'$\\mu$ + jets'],\n",
    "                   e4j   = [r'$\\sf p_{T, e}$', r'$e$ + jets']\n",
    "                  )\n",
    "\n",
    "# initial values for W branching fraction (beta_e, beta_mu, beta_tau, beta_h) and tau branching fraction (b_e, b_mu, b_h)\n",
    "br_tau_init = np.array([0.1783, 0.1741, 0.6476])\n",
    "beta_init = np.array([0.108, 0.108, 0.108, 1 - 3*0.108]) \n",
    "var_beta  = [0.0009**2, 0.0009**2, 0.0009**2, 0.0031**2]"
   ]
  },
  {
   "cell_type": "code",
   "execution_count": 3,
   "metadata": {
    "code_folding": [
     0
    ],
    "scrolled": false
   },
   "outputs": [],
   "source": [
    "# initialize fit data\n",
    "fit_data = fh.FitData(input_dir, selections, processes)\n",
    "\n",
    "# build the process array\n",
    "w_amp_init  = fh.signal_amplitudes(beta_init, br_tau_init, single_w=True)\n",
    "ww_amp_init = fh.signal_amplitudes(beta_init, br_tau_init, single_w=False)\n",
    "process_amplitudes = []\n",
    "for process in processes:\n",
    "    if process in ['zjets_alt', 'fakes', 'diboson']:\n",
    "        process_amplitudes.append(1)\n",
    "    elif process in ['ttbar', 't', 'ww']:\n",
    "        process_amplitudes.extend(fh.signal_amplitudes(beta_init, br_tau_init)/ww_amp_init)\n",
    "    elif process == 'wjets':\n",
    "        process_amplitudes.extend(fh.signal_amplitudes(beta_init, br_tau_init, single_w=True)/w_amp_init)\n",
    "        \n",
    "process_amplitudes = np.array(process_amplitudes) "
   ]
  },
  {
   "cell_type": "code",
   "execution_count": 4,
   "metadata": {
    "code_folding": []
   },
   "outputs": [],
   "source": [
    "# test the mixture\n",
    "sel = 'mumu'\n",
    "cat = 'cat_gt2_eq1_b'\n",
    "\n",
    "# get the input data\n",
    "model_data = fit_data.get_model_data(f'{sel}_{cat}')\n",
    "model_tensor = model_data['model']\n",
    "\n",
    "# build parameter array \n",
    "params = fit_data.get_params_init().values\n",
    "\n",
    "# normalization params\n",
    "norm_params = params[fit_data._npoi:fit_data._npoi + fit_data._nnorm]\n",
    "norm_params = model_data['norm_matrix']*norm_params\n",
    "norm_params[norm_params == 0] = 1\n",
    "\n",
    "# shape params\n",
    "shape_params_masked = params[fit_data._npoi + fit_data._nnorm:]\n",
    "shape_params_masked = shape_params_masked[model_data['shape_param_mask']]\n",
    "shape_params_masked = np.concatenate([[1, 0], 0.5*shape_params_masked**2, 0.5*shape_params_masked])\n",
    "\n",
    "# mask amplitudes and propagate normalization n.p.\n",
    "process_amplitudes_masked = process_amplitudes[model_data['process_mask']]\n",
    "process_amplitudes_masked = norm_params.T*process_amplitudes_masked\n",
    "process_amplitudes_masked = np.product(process_amplitudes_masked, axis=0)\n",
    "\n",
    "# build expectation from model_tensor\n",
    "expected_pre = np.tensordot(model_tensor[:,:,0].T, process_amplitudes_masked, axes=1) # mixture model\n",
    "expected_var = np.tensordot(model_tensor[:,:,1].T, process_amplitudes_masked, axes=1) # mixture model\n",
    "\n",
    "#expected_post = np.tensordot(model_tensor, shape_params_masked, axes=1) # n.p. modification\n",
    "#expected_post = np.tensordot(expected_post.T, process_amplitudes_masked, axes=1) \n",
    "params = fit_data.get_params_init().copy()\n",
    "#params['lumi'] -= 0.025\n",
    "#params['trigger_e'] -= 0.01\n",
    "#params['trigger_mu'] -= 0.005\n",
    "params['top_pt'] += 1.\n",
    "params = params.values\n",
    "expected_post, _ = fit_data.mixture_model(params, f'{sel}_{cat}')\n",
    "\n",
    "# get the data and binning\n",
    "template_data = fit_data.get_selection_data(sel)[cat]\n",
    "data_val, data_var = template_data['templates']['data']['val'], template_data['templates']['data']['var']\n",
    "bins = template_data['bins'][:-1]\n",
    "dx = (bins[1:] - bins[:-1])\n",
    "dx = np.append(dx, dx[-1]) \n",
    "x  = bins + dx/2         "
   ]
  },
  {
   "cell_type": "code",
   "execution_count": 5,
   "metadata": {
    "code_folding": []
   },
   "outputs": [
    {
     "data": {
      "image/png": "[encoded data removed]",
      "text/plain": [
       "<Figure size 720x720 with 2 Axes>"
      ]
     },
     "metadata": {},
     "output_type": "display_data"
    }
   ],
   "source": [
    "# overlay expectation with target values\n",
    "\n",
    "fig, axes = plt.subplots(2, 1, figsize=(10, 10), facecolor='white', sharex=True, gridspec_kw={'height_ratios':[2,1]})\n",
    "#fig.subplots_adjust(hspace=0) # doesn't work with tight layout\n",
    "\n",
    "ax = axes[0]\n",
    "ax.errorbar(x, data_val/dx, np.sqrt(data_val)/dx, fmt='ko', capsize=0, elinewidth=2, label='data')\n",
    "ax.plot(bins, expected_pre/dx, drawstyle='steps-post', c='C0', linestyle='-', label='expected (prefit)')\n",
    "ax.plot(bins, expected_post/dx, drawstyle='steps-post', c='C1', linestyle='--', label='expected (postfit)')\n",
    "ax.fill_between(bins, (expected_pre - np.sqrt(expected_var))/dx, (expected_pre + np.sqrt(expected_var))/dx, color='k', step='post', hatch='/', alpha=0.2, label=r'$\\sigma_{\\sf stat. exp.}$')\n",
    "ax.set_ylim(np.min(data_val/dx), 5.*np.max(data_val/dx))\n",
    "ax.set_yscale('log')\n",
    "ax.set_ylabel('Events / GeV')\n",
    "ax.set_title(f'{plot_labels[sel][1]}: {pt.categories[cat].label}', fontsize=16, loc='left', color='red')\n",
    "pt.add_lumi_text(ax, 35.9)\n",
    "ax.legend()\n",
    "ax.grid()\n",
    "\n",
    "ax = axes[1]\n",
    "ax.plot(bins[[0,-1]], [1, 1], 'k:')\n",
    "\n",
    "ax.errorbar(x*(1-0.01), data_val/expected_pre, np.sqrt(data_val)/expected_pre, fmt='C0o', capsize=0, elinewidth=2, label='prefit')\n",
    "ax.errorbar(x*(1+0.01), data_val/expected_post, np.sqrt(data_val)/expected_post, fmt='C1o', capsize=0, elinewidth=2, label='postfit')\n",
    "ax.plot(bins, expected_pre/expected_post, drawstyle='steps-post', c='C0', linestyle='--', label='prefit/postfit')\n",
    "\n",
    "ax.fill_between(bins, 1-np.sqrt(expected_var)/expected_pre, 1+np.sqrt(expected_var)/expected_pre, color='k', step='post', hatch='/', alpha=0.2, label='expected_var')\n",
    "ax.set_xlim(x[0]-dx[0]/2, x[-2]+dx[-2]/2)\n",
    "ax.set_ylim(0.8, 1.2)\n",
    "ax.set_ylabel('Obs./Exp.')\n",
    "ax.set_xlabel(plot_labels[sel][0])\n",
    "#ax.legend()\n",
    "ax.grid()\n",
    "\n",
    "plt.tight_layout(h_pad=0., rect=[0., 0., 1., 0.95])\n",
    "plt.savefig(f'plots/fits/{sel}_{cat}.png')\n",
    "plt.show()"
   ]
  },
  {
   "cell_type": "code",
   "execution_count": null,
   "metadata": {},
   "outputs": [],
   "source": []
  }
 ],
 "metadata": {
  "hide_input": false,
  "kernelspec": {
   "display_name": "Python 3",
   "language": "python",
   "name": "python3"
  },
  "language_info": {
   "codemirror_mode": {
    "name": "ipython",
    "version": 3
   },
   "file_extension": ".py",
   "mimetype": "text/x-python",
   "name": "python",
   "nbconvert_exporter": "python",
   "pygments_lexer": "ipython3",
   "version": "3.7.2"
  },
  "latex_envs": {
   "LaTeX_envs_menu_present": true,
   "autoclose": false,
   "autocomplete": true,
   "bibliofile": "biblio.bib",
   "cite_by": "apalike",
   "current_citInitial": 1,
   "eqLabelWithNumbers": true,
   "eqNumInitial": 0,
   "hotkeys": {
    "equation": "Ctrl-E",
    "itemize": "Ctrl-I"
   },
   "labels_anchors": false,
   "latex_user_defs": false,
   "report_style_numbering": false,
   "user_envs_cfg": false
  },
  "toc": {
   "nav_menu": {
    "height": "29px",
    "width": "251px"
   },
   "number_sections": true,
   "sideBar": true,
   "skip_h1_title": false,
   "title_cell": "Table of Contents",
   "title_sidebar": "Contents",
   "toc_cell": false,
   "toc_position": {
    "height": "49px",
    "left": "0px",
    "right": "1493.87px",
    "top": "90.9965px",
    "width": "242px"
   },
   "toc_section_display": false,
   "toc_window_display": false
  },
  "widgets": {
   "state": {
    "012f8bbe2fdb410dae6e2cde9d7fe5cb": {
     "views": []
    },
    "080556076f174648bddf64f17a54c523": {
     "views": []
    },
    "0ad83b5f67484ae5b8fd8dd43ccc39bd": {
     "views": []
    },
    "15acd81a9adc493683d9b63813f000bf": {
     "views": []
    },
    "1840cb6fded848b4ae95ec8d3db15ab2": {
     "views": []
    },
    "1dd83f822e074642ae4255b15ee661cf": {
     "views": []
    },
    "1e71a878e6474912a0efc497ecc5d65b": {
     "views": []
    },
    "2022ed83777b4963b630b5c46239e218": {
     "views": []
    },
    "21c4c57bfc48495194663e6a4fbac488": {
     "views": []
    },
    "22c45c75435348c0b9501d493d69fdca": {
     "views": []
    },
    "2635f668a1af4a9db2642e705d7c73ff": {
     "views": []
    },
    "2ad5ddd9347e451b9290e5b4179ab9a2": {
     "views": []
    },
    "2c062b5778024117984822b63b0593d7": {
     "views": []
    },
    "2f5eab2f6fb24192b76a5ffe99195d44": {
     "views": []
    },
    "31632517325046e8b0cb62e4f4ed2480": {
     "views": []
    },
    "3562b97192ed4d42bbab17f77c290f6b": {
     "views": []
    },
    "38a7cc053723492b921cf9f084ed243c": {
     "views": []
    },
    "3b5750b20e1745879ca0f965aad7b614": {
     "views": []
    },
    "3f1cbabbe2694a9dabe3f1c2e09d0ee2": {
     "views": []
    },
    "3fab6a26a70c4238a668a46d4dc88bf6": {
     "views": []
    },
    "3fb3c7a25e954a4888996976fa107737": {
     "views": []
    },
    "415db64fbc574daea8457ab600392f09": {
     "views": []
    },
    "4463de406b4645a4b562fe7917380ff9": {
     "views": []
    },
    "487e5450b5a24507932709f1fa8f59c1": {
     "views": []
    },
    "48aba73013e74e71927f71d42fb44d14": {
     "views": []
    },
    "4a19ad30f77e4fe6a2c84c8b62378a47": {
     "views": []
    },
    "4bc83ff5270d41679d76d26cdded8313": {
     "views": []
    },
    "4bdd9dd5c5c64646a27fa9096851458b": {
     "views": []
    },
    "5014cd42705f45178d5e6eeffd70f119": {
     "views": []
    },
    "5259b340b68e4fdb97fb4eaf9d98d954": {
     "views": []
    },
    "5986ef5b605a42aca10bc5834529ee06": {
     "views": []
    },
    "5c1aa44589a140eb9709734c843abde6": {
     "views": []
    },
    "600cd9ca4f4c46d4ad6fe57df107675a": {
     "views": [
      {
       "cell_index": 7
      }
     ]
    },
    "61fe369ebdd14eaa89de110f6186e6b7": {
     "views": []
    },
    "62ac836017ae47a38f8fde806c5ec9b7": {
     "views": []
    },
    "632ccbfabe91405aa1c5a77c9ea754db": {
     "views": []
    },
    "66175f618ea5472baac618f998d2c06c": {
     "views": []
    },
    "6647a620af034d26abcd327ae02364d4": {
     "views": []
    },
    "6752222d2cba43e18f344a8db7f99d24": {
     "views": []
    },
    "6b684ba1a7c24a35ba2df77016212904": {
     "views": []
    },
    "6cea898f4aca4f1e84601f843e337238": {
     "views": []
    },
    "6f8d1e87fd60462a89d693b2f3b5f007": {
     "views": []
    },
    "74078646a5eb4047b40370a0ab8b6b30": {
     "views": []
    },
    "745b0c79ff3040788ea952fce9c7d607": {
     "views": []
    },
    "757c9b805eb7445bac9a7f141f87e45f": {
     "views": []
    },
    "76ced68e19a742e8976dbfd4e8594a1a": {
     "views": []
    },
    "783bb5e7538d4d9d8315e2698024b353": {
     "views": []
    },
    "794993d66efe4ab29a8d35aad8cfe079": {
     "views": []
    },
    "8375e24bae7541528d7cdc0f379d1d4c": {
     "views": []
    },
    "8554945ec15041a7bf8004dbc3fc5f11": {
     "views": []
    },
    "878a34e26cce4f18bb8232a682ebe964": {
     "views": []
    },
    "8921a75116a549198eb7b7f4a24ab672": {
     "views": []
    },
    "909f4504f0b049bda8b641defa177062": {
     "views": []
    },
    "910b9d32a3fb45ec99da1f9df1add816": {
     "views": []
    },
    "9d15ce601cd34f0699b7a7a0ce1d17dc": {
     "views": []
    },
    "a26638c9fee247b3891aac027a0918cc": {
     "views": []
    },
    "a9d2bf44a3ad447bb3eecde71363c198": {
     "views": []
    },
    "ad366bf4c95f4cdba62d47ba9501efc9": {
     "views": []
    },
    "ad8e1842ec314a94b6ed4b62c4c0a450": {
     "views": []
    },
    "af525094db304d2a812ae1312b00889b": {
     "views": []
    },
    "b0697c4343da491f9a35bf02681dad8f": {
     "views": []
    },
    "b07ff307919e4268bc8bec8379c47a5d": {
     "views": []
    },
    "b0e85c726ca141079333afb27edc63d4": {
     "views": []
    },
    "bdcc1e5df7a8432b9f40d8249a46f90a": {
     "views": []
    },
    "be1065f37fa24e818d31c3bb075947a3": {
     "views": []
    },
    "c296c8df2f734e268c6c1204536e7142": {
     "views": []
    },
    "c4bfd3e447f0426da144b76abc202129": {
     "views": []
    },
    "cced93184d4445218a2b14567579333d": {
     "views": []
    },
    "d5bd2e4d5f85482e9345f3a7a69380d0": {
     "views": []
    },
    "d798fa64e8be4a7d9ec1cbeece3b1be9": {
     "views": []
    },
    "d7aec0d6d05f442b991ab40af944811d": {
     "views": []
    },
    "db469cea2c8e4180bf6890de80329c1d": {
     "views": []
    },
    "e671857510c54634b6f0fa55bf1fa228": {
     "views": []
    },
    "ebf52deafaf64b0c826533dafdf993c0": {
     "views": []
    },
    "ed1e5439da9c41199a7bbbda21b556f8": {
     "views": []
    },
    "f585cf5db5024280af5b567f0e4fd771": {
     "views": []
    },
    "f6ba8f8800af47adabed847063bda8db": {
     "views": []
    },
    "f9bae72f14e44705b5c38a3ddc69fee8": {
     "views": []
    }
   },
   "version": "1.1.2"
  }
 },
 "nbformat": 4,
 "nbformat_minor": 2
}
