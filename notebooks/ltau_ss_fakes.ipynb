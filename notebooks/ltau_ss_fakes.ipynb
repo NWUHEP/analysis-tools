{
 "cells": [
  {
   "cell_type": "markdown",
   "metadata": {},
   "source": [
    "# QCD estimate from isolation inverted region for muon/electron+jet events\n",
    "\n",
    "The QCD contamination for lepton plus jet events is estimated based on a sideband region where the the isolation of the lepton has been inverted.  To determine the normalization of the sideband region should be when mapping into the signal region, fake rates are estimated in another sideband region.  Here we carry out a validation of this procedure."
   ]
  },
  {
   "cell_type": "code",
   "execution_count": 1,
   "metadata": {
    "ExecuteTime": {
     "end_time": "2020-04-10T19:10:28.874748Z",
     "start_time": "2020-04-10T19:10:28.603686Z"
    },
    "code_folding": [
     0
    ]
   },
   "outputs": [
    {
     "name": "stdout",
     "output_type": "stream",
     "text": [
      "/home/naodell/work/wbr/analysis\n",
      "{\n",
      "  \"shell_port\": 46539,\n",
      "  \"iopub_port\": 41477,\n",
      "  \"stdin_port\": 48799,\n",
      "  \"control_port\": 34537,\n",
      "  \"hb_port\": 35437,\n",
      "  \"ip\": \"127.0.0.1\",\n",
      "  \"key\": \"83980041-5311a5a8419b48be73f83bc0\",\n",
      "  \"transport\": \"tcp\",\n",
      "  \"signature_scheme\": \"hmac-sha256\",\n",
      "  \"kernel_name\": \"\"\n",
      "}\n",
      "\n",
      "Paste the above JSON into a file, and connect with:\n",
      "    $> jupyter <app> --existing <file>\n",
      "or, if you are local, you can connect with just:\n",
      "    $> jupyter <app> --existing kernel-1d42f8b4-7c30-42cc-96f2-38c7057d81dd.json\n",
      "or even just:\n",
      "    $> jupyter <app> --existing\n",
      "if this is the most recent Jupyter kernel you have started.\n"
     ]
    }
   ],
   "source": [
    "# import and global set up\n",
    "%cd '/home/naodell/work/wbr/analysis'\n",
    "%matplotlib notebook\n",
    "%pwd\n",
    "\n",
    "import numpy as np\n",
    "import pandas as pd\n",
    "import matplotlib as mpl\n",
    "import matplotlib.pyplot as plt\n",
    "\n",
    "import scripts.plot_tools as pt\n",
    "pt.set_default_style()\n",
    "\n",
    "%matplotlib inline\n",
    "%connect_info"
   ]
  },
  {
   "cell_type": "code",
   "execution_count": 12,
   "metadata": {
    "ExecuteTime": {
     "end_time": "2020-04-10T19:17:12.911428Z",
     "start_time": "2020-04-10T19:17:12.908120Z"
    }
   },
   "outputs": [],
   "source": [
    "# some initial configuration\n",
    "selection = 'mutau'\n",
    "cuts = 'lepton1_pt > 20 and trigger_status == 1'# and n_jets < 2 and n_bjets == 0'\n",
    "var = 'lepton1_pt'\n",
    "bins = np.arange(20, 200, 5)"
   ]
  },
  {
   "cell_type": "markdown",
   "metadata": {
    "code_folding": []
   },
   "source": [
    "## correction factor from isolation inverted region"
   ]
  },
  {
   "cell_type": "code",
   "execution_count": 13,
   "metadata": {
    "ExecuteTime": {
     "end_time": "2020-04-10T19:17:17.502146Z",
     "start_time": "2020-04-10T19:17:14.672263Z"
    },
    "code_folding": []
   },
   "outputs": [
    {
     "name": "stderr",
     "output_type": "stream",
     "text": [
      "                                                                           \r"
     ]
    }
   ],
   "source": [
    "# get the anti-iso data\n",
    "if selection == 'mutau':\n",
    "    datasets = [\n",
    "        'muon_2016B_fakes', 'muon_2016C_fakes', 'muon_2016D_fakes',\n",
    "        'muon_2016E_fakes', 'muon_2016F_fakes', 'muon_2016G_fakes',\n",
    "        'muon_2016H_fakes'\n",
    "    ]\n",
    "elif selection == 'etau':\n",
    "    datasets = [\n",
    "        'electron_2016B_fakes', 'electron_2016C_fakes', 'electron_2016D_fakes',\n",
    "        'electron_2016E_fakes', 'electron_2016F_fakes', 'electron_2016G_fakes',\n",
    "        'electron_2016H_fakes'\n",
    "    ]\n",
    "        \n",
    "# add MC files for prompt contamination subtraction\n",
    "datasets += [\n",
    "    'ttbar_inclusive_fakes',  \n",
    "    't_tw_fakes', 'tbar_tw_fakes',\n",
    "    'zjets_m-10to50_alt_fakes', 'zjets_m-50_alt_fakes', \n",
    "    'w1jets_fakes', 'w2jets_fakes', 'w3jets_fakes', 'w4jets_fakes'\n",
    "]\n",
    "\n",
    "dm = pt.DataManager(input_dir     = f'local_data/flatuples/new_nominal/{selection}_2016',\n",
    "                    dataset_names = datasets,\n",
    "                    selection     = selection,\n",
    "                    period        = 2016,\n",
    "                    scale         = 35.9e3,\n",
    "                    cuts          = f'{cuts}'\n",
    "                   )\n",
    "\n",
    "df_data  = dm.get_dataframe('fakes')\n",
    "df_ttbar = dm.get_dataframe('ttbar_fakes')\n",
    "df_top   = dm.get_dataframe('t_fakes')\n",
    "df_z     = dm.get_dataframe('zjets_fakes')\n",
    "df_w     = dm.get_dataframe('wjets_fakes')\n"
   ]
  },
  {
   "cell_type": "code",
   "execution_count": 14,
   "metadata": {
    "ExecuteTime": {
     "end_time": "2020-04-10T19:17:22.842790Z",
     "start_time": "2020-04-10T19:17:22.071078Z"
    },
    "code_folding": [
     0
    ]
   },
   "outputs": [
    {
     "ename": "NameError",
     "evalue": "name 'df_data_os' is not defined",
     "output_type": "error",
     "traceback": [
      "\u001b[0;31m---------------------------------------------------------------------------\u001b[0m",
      "\u001b[0;31mNameError\u001b[0m                                 Traceback (most recent call last)",
      "\u001b[0;32m<ipython-input-14-26334c98e164>\u001b[0m in \u001b[0;36m<module>\u001b[0;34m()\u001b[0m\n\u001b[1;32m      4\u001b[0m \u001b[0;34m\u001b[0m\u001b[0m\n\u001b[1;32m      5\u001b[0m \u001b[0max\u001b[0m \u001b[0;34m=\u001b[0m \u001b[0maxes\u001b[0m\u001b[0;34m[\u001b[0m\u001b[0;36m0\u001b[0m\u001b[0;34m]\u001b[0m\u001b[0;34m[\u001b[0m\u001b[0;36m0\u001b[0m\u001b[0;34m]\u001b[0m\u001b[0;34m\u001b[0m\u001b[0;34m\u001b[0m\u001b[0m\n\u001b[0;32m----> 6\u001b[0;31m \u001b[0mx\u001b[0m\u001b[0;34m,\u001b[0m \u001b[0my\u001b[0m\u001b[0;34m,\u001b[0m \u001b[0myerr\u001b[0m \u001b[0;34m=\u001b[0m \u001b[0mpt\u001b[0m\u001b[0;34m.\u001b[0m\u001b[0mhist_to_errorbar\u001b[0m\u001b[0;34m(\u001b[0m\u001b[0mdf_data_os\u001b[0m\u001b[0;34m[\u001b[0m\u001b[0mvar\u001b[0m\u001b[0;34m]\u001b[0m\u001b[0;34m,\u001b[0m \u001b[0mbins\u001b[0m \u001b[0;34m=\u001b[0m \u001b[0mbins\u001b[0m\u001b[0;34m)\u001b[0m\u001b[0;34m\u001b[0m\u001b[0;34m\u001b[0m\u001b[0m\n\u001b[0m\u001b[1;32m      7\u001b[0m \u001b[0max\u001b[0m\u001b[0;34m.\u001b[0m\u001b[0merrorbar\u001b[0m\u001b[0;34m(\u001b[0m\u001b[0mx\u001b[0m\u001b[0;34m,\u001b[0m \u001b[0my\u001b[0m\u001b[0;34m,\u001b[0m \u001b[0myerr\u001b[0m\u001b[0;34m,\u001b[0m \u001b[0mfmt\u001b[0m\u001b[0;34m=\u001b[0m\u001b[0;34m'ko'\u001b[0m\u001b[0;34m,\u001b[0m \u001b[0mcapsize\u001b[0m\u001b[0;34m=\u001b[0m\u001b[0;36m0\u001b[0m\u001b[0;34m,\u001b[0m \u001b[0melinewidth\u001b[0m\u001b[0;34m=\u001b[0m\u001b[0;36m2\u001b[0m\u001b[0;34m)\u001b[0m\u001b[0;34m\u001b[0m\u001b[0;34m\u001b[0m\u001b[0m\n\u001b[1;32m      8\u001b[0m h_mc, _, _ = ax.hist([df_top_os[var], df_ttbar_os[var], df_w_os[var], df_z_os[var]], \n",
      "\u001b[0;31mNameError\u001b[0m: name 'df_data_os' is not defined"
     ]
    },
    {
     "data": {
      "image/png": "[encoded data removed]",
      "text/plain": [
       "<Figure size 1152x720 with 4 Axes>"
      ]
     },
     "metadata": {},
     "output_type": "display_data"
    }
   ],
   "source": [
    "# compare the OS and SS control regions\n",
    "fig, axes = plt.subplots(2, 2, figsize=(16, 10), facecolor='white', gridspec_kw={'height_ratios':[3,2]}, sharex='col', sharey='row')\n",
    "fig.subplots_adjust(hspace=0)\n",
    "\n",
    "ax = axes[0][0]\n",
    "x, y, yerr = pt.hist_to_errorbar(df_data_os[var], bins = bins)\n",
    "ax.errorbar(x, y, yerr, fmt='ko', capsize=0, elinewidth=2)\n",
    "h_mc, _, _ = ax.hist([df_top_os[var], df_ttbar_os[var], df_w_os[var], df_z_os[var]], \n",
    "                     bins=bins, \n",
    "                     histtype='stepfilled', \n",
    "                     alpha=0.8, \n",
    "                     weights=[df_top_os['weight'], df_ttbar_os['weight'], df_w_os['weight'], df_z_os['weight']], \n",
    "                     stacked=True)\n",
    "var_mc, _ = np.histogram(np.concatenate([df_top_os[var], df_ttbar_os[var], df_w_os[var], df_z_os[var]]), \n",
    "                     bins=bins, \n",
    "                     weights=np.concatenate([df_top_os['weight']**2, df_ttbar_os['weight']**2, df_w_os['weight']**2, df_z_os['weight']**2]), \n",
    "                     )\n",
    "err_data, err_mc = np.sqrt(np.sum(yerr**2)), np.sqrt(var_mc.sum())\n",
    "err_total = np.sqrt(err_data**2 + err_mc**2)\n",
    "print(err_data, err_mc, err_total)\n",
    "\n",
    "ax.grid()\n",
    "ax.set_ylabel('Entries / 2 GeV')\n",
    "ax.set_xlim(bins.min(), bins.max())\n",
    "if selection == 'mutau':\n",
    "    ax.set_title(r'$\\mu^{\\pm}\\tau^{\\mp}_{h}$', fontsize=20)\n",
    "elif selection == 'etau':\n",
    "    ax.set_title(r'$e^{\\pm}\\tau^{\\mp}_{h}$')\n",
    "    \n",
    "\n",
    "ax = axes[1][0]\n",
    "h_data, _ = np.histogram(df_data_os[var], bins=bins)\n",
    "diff = y - h_mc[-1]\n",
    "diff_os_antiiso = np.append(diff, diff[-1])\n",
    "ax.plot(bins, diff_os_antiiso, drawstyle='steps-post')\n",
    "ax.text(0.6, 0.8, r'$\\sum =$' + f'{diff.sum():.0f} +/- {err_total:.0f}', size = 16, transform = ax.transAxes)\n",
    "ax.set_ylabel('data-MC')\n",
    "#ax.set_ylim(0, None)\n",
    "ax.grid()\n",
    "\n",
    "ax.set_xlabel(r'$p_{T,\\tau}$')\n",
    "#if selection == 'mutau':\n",
    "#    ax.set_xlabel('$M_{\\mu\\tau}$')\n",
    "#elif selection == 'etau':\n",
    "#    ax.set_xlabel('$M_{e\\tau}$')\n",
    "\n",
    "ax = axes[0][1]\n",
    "x, y, yerr = pt.hist_to_errorbar(df_data_ss[var], bins = bins)\n",
    "eb = ax.errorbar(x, y, yerr, fmt='ko', capsize=0, elinewidth=2)\n",
    "h_mc, _, _ = ax.hist([df_top_ss[var], df_ttbar_ss[var], df_w_ss[var], df_z_ss[var]], \n",
    "                     bins=bins, \n",
    "                     histtype='stepfilled', \n",
    "                     alpha=0.8, \n",
    "                     weights=[df_top_ss['weight'], df_ttbar_ss['weight'], df_w_ss['weight'], df_z_ss['weight']], \n",
    "                     stacked=True\n",
    "                    )\n",
    "\n",
    "var_mc, _ = np.histogram(np.concatenate([df_top_ss[var], df_ttbar_ss[var], df_w_ss[var], df_z_ss[var]]), \n",
    "                     bins=bins, \n",
    "                     weights=np.concatenate([df_top_ss['weight']**2, df_ttbar_ss['weight']**2, df_w_ss['weight']**2, df_z_ss['weight']**2]), \n",
    "                     )\n",
    "err_data, err_mc = np.sqrt(np.sum(yerr**2)), np.sqrt(var_mc.sum())\n",
    "err_total = np.sqrt(err_data**2 + err_mc**2)\n",
    "print(err_data, err_mc, err_total)\n",
    "\n",
    "ax.grid()\n",
    "ax.set_xlim(bins.min(), bins.max())\n",
    "ax.legend(['z', 'w', 'ttbar', 't', 'data'])\n",
    "if selection == 'mutau':\n",
    "    ax.set_title(r'$\\mu^{\\pm}\\tau^{\\pm}_{h}$', fontsize=20)\n",
    "elif selection == 'etau':\n",
    "    ax.set_title(r'$e^{\\pm}\\tau^{\\pm}_{h}$')\n",
    "\n",
    "ax = axes[1][1]\n",
    "diff = y - h_mc[-1]\n",
    "diff_ss_antiiso = np.append(diff, diff[-1])\n",
    "ax.plot(bins, diff_ss_antiiso, drawstyle='steps-post')\n",
    "ax.text(0.6, 0.8, r'$\\sum =$' + f'{diff.sum():.0f} +/- {err_total:.0f}', size = 16, transform = ax.transAxes)\n",
    "ax.set_ylim(0, 1.25*diff.max())\n",
    "ax.grid()\n",
    "\n",
    "ax.set_xlabel(r'$p_{T,\\tau}$')\n",
    "#if selection == 'mutau':\n",
    "#    ax.set_xlabel(r'$M_{\\mu\\tau}$')\n",
    "#elif selection == 'etau':\n",
    "#    ax.set_xlabel(r'$M_{e\\tau}$')\n",
    "\n",
    "#plt.tight_layout()\n",
    "plt.savefig(f'plots/ltau_fakes/{selection}_cr_antiiso.pdf')\n",
    "plt.show()"
   ]
  },
  {
   "cell_type": "markdown",
   "metadata": {},
   "source": [
    "### Calculating the fake background\n",
    "\n",
    "The mapping from the same-sign control region to the same-sign signal region is done as follows,\n",
    "\n",
    "$$\n",
    "N_{OS} = k(N_{SS,data} - N_{SS,bkg})\n",
    "$$\n",
    "\n",
    "where $k$ is some scale factor for normalizing the SS data to OS.  The processes that are take from simulation are subtracted from the SS region to avoid double counting."
   ]
  },
  {
   "cell_type": "code",
   "execution_count": null,
   "metadata": {
    "ExecuteTime": {
     "end_time": "2020-04-10T19:10:29.814297Z",
     "start_time": "2020-04-10T19:10:28.611Z"
    },
    "code_folding": []
   },
   "outputs": [],
   "source": [
    "# N.B.: RUNNING THIS PANEL REPEATEDLY WITHOUT RELOADING THE DATA WILL FUCK SHIT UP YO\n",
    "# first multiply the weights for the simulated processes by -1\n",
    "df_ttbar_ss.loc[:,'weight'] *= -1  \n",
    "df_top_ss.loc[:,'weight'] *= -1  \n",
    "df_z_ss.loc[:,'weight'] *= -1    \n",
    "df_w_ss.loc[:,'weight'] *= -1    \n",
    "#df_vv_ss.loc[:,'weight'] *= -1    \n",
    "\n",
    "# multiply by k and combine the same-sign data and MC (this should be calculated from the isolation inverted control region)\n",
    "df_qcd = pd.concat([df_data_ss, df_w_ss, df_ttbar_ss, df_top_ss, df_z_ss], sort=False)\n",
    "k = diff_os_antiiso.sum()/diff_ss_antiiso.sum()\n",
    "#df_qcd.loc[:,'weight'] *= k\n",
    "\n",
    "# relabel fakes\n",
    "df_qcd['label'] = 'fakes'"
   ]
  },
  {
   "cell_type": "markdown",
   "metadata": {},
   "source": [
    "## Apply to the isolated signal region"
   ]
  },
  {
   "cell_type": "code",
   "execution_count": null,
   "metadata": {
    "ExecuteTime": {
     "end_time": "2020-04-10T19:10:29.815307Z",
     "start_time": "2020-04-10T19:10:28.613Z"
    },
    "code_folding": []
   },
   "outputs": [],
   "source": [
    "# get the data\n",
    "# set up and get the data\n",
    "if selection == 'mutau':\n",
    "    labels = ['muon']\n",
    "    cuts = cuts + ' and lepton1_pt > 25'\n",
    "elif selection == 'etau':\n",
    "    labels = ['electron']\n",
    "    cuts = cuts + ' and lepton1_pt > 30'\n",
    "labels += ['t', 'ttbar', 'wjets', 'zjets_alt']#, 'diboson']\n",
    "\n",
    "dm = pt.DataManager(input_dir     = f'local_data/flatuples/test/{selection}_2016',\n",
    "                    dataset_names = [d for l in labels for d in pt.dataset_dict[l]],\n",
    "                    selection     = selection,\n",
    "                    period        = 2016,\n",
    "                    scale         = 35.9e3,\n",
    "                    cuts          = f'{cuts}'#' and n_bjets == 0  and n_jets < 2'\n",
    "                                     #and p_miss_zeta - 0.85*p_vis_zeta > -25 \\\n",
    "                                     #and 40 < dilepton1_mass < 100'\n",
    "                                     #and lepton1_mt < 40 \\\n",
    "                   )\n",
    "df_data_os  = dm.get_dataframe('data').query('lepton1_q != lepton2_q')\n",
    "df_ttbar_os = dm.get_dataframe('ttbar').query('lepton1_q != lepton2_q')\n",
    "df_top_os   = dm.get_dataframe('t').query('lepton1_q != lepton2_q')\n",
    "df_z_os     = dm.get_dataframe('zjets_alt').query('lepton1_q != lepton2_q')\n",
    "df_w_os     = dm.get_dataframe('wjets').query('lepton1_q != lepton2_q')\n",
    "#df_vv_os    = dm.get_dataframe('diboson').query('lepton1_q != lepton2_q')\n",
    "\n",
    "df_data_ss  = dm.get_dataframe('data').query('lepton1_q == lepton2_q').copy()\n",
    "df_ttbar_ss = dm.get_dataframe('ttbar').query('lepton1_q == lepton2_q').copy()\n",
    "df_top_ss   = dm.get_dataframe('t').query('lepton1_q == lepton2_q').copy()\n",
    "df_z_ss     = dm.get_dataframe('zjets_alt').query('lepton1_q == lepton2_q').copy()\n",
    "df_w_ss     = dm.get_dataframe('wjets').query('lepton1_q == lepton2_q').copy()\n",
    "#df_vv_ss    = dm.get_dataframe('diboson').query('lepton1_q == lepton2_q').copy()"
   ]
  },
  {
   "cell_type": "code",
   "execution_count": null,
   "metadata": {
    "ExecuteTime": {
     "end_time": "2020-04-10T19:10:29.816326Z",
     "start_time": "2020-04-10T19:10:28.615Z"
    },
    "code_folding": [
     0
    ]
   },
   "outputs": [],
   "source": [
    "# compare the OS and SS control regions\n",
    "fig, axes = plt.subplots(2, 2, figsize=(16, 10), facecolor='white', gridspec_kw={'height_ratios':[3,2]}, sharex='col', sharey='row')\n",
    "fig.subplots_adjust(hspace=0)\n",
    "\n",
    "ax = axes[0][0]\n",
    "x, y, yerr = pt.hist_to_errorbar(df_data_os[var], bins = bins)\n",
    "ax.errorbar(x, y, yerr, fmt='ko', capsize=0, elinewidth=2)\n",
    "h_mc, _, _ = ax.hist([df_top_os[var], df_ttbar_os[var], df_w_os[var], df_z_os[var]], \n",
    "                     bins=bins, \n",
    "                     histtype='stepfilled', \n",
    "                     alpha=0.8, \n",
    "                     weights=[df_top_os['weight'], df_ttbar_os['weight'], df_w_os['weight'], df_z_os['weight']], \n",
    "                     stacked=True \n",
    "                    )\n",
    "\n",
    "var_mc, _ = np.histogram(np.concatenate([df_top_os[var], df_ttbar_os[var], df_w_os[var], df_z_os[var]]), \n",
    "                     bins=bins, \n",
    "                     weights=np.concatenate([df_top_os['weight']**2, df_ttbar_os['weight']**2, df_w_os['weight']**2, df_z_os['weight']**2]), \n",
    "                     )\n",
    "err_data, err_mc = np.sqrt(np.sum(yerr**2)), np.sqrt(var_mc.sum())\n",
    "err_total = np.sqrt(err_data**2 + err_mc**2)\n",
    "print(err_data, err_mc, err_total)\n",
    "\n",
    "ax.grid()\n",
    "ax.set_ylabel('Entries / 2 GeV')\n",
    "ax.set_xlim(bins.min(), bins.max())\n",
    "if selection == 'mutau':\n",
    "    ax.set_title(r'$\\mu^{\\pm}\\tau^{\\mp}_{h}$', fontsize = 20)\n",
    "elif selection == 'etau':\n",
    "    ax.set_title(r'$e^{\\pm}\\tau^{\\mp}_{h}$', fontsize = 20)\n",
    "    \n",
    "\n",
    "ax = axes[1][0]\n",
    "h_data, _ = np.histogram(df_data_os[var], bins=bins)\n",
    "diff = y - h_mc[-1]\n",
    "diff_os_iso = np.append(diff, diff[-1])\n",
    "ax.plot(bins, diff_os_iso, drawstyle='steps-post')\n",
    "ax.text(0.6, 0.8, r'$\\sum =$' + f'{diff.sum():.0f} +/- {err_total:.0f}', size = 16, transform = ax.transAxes)\n",
    "ax.set_ylabel('data-MC')\n",
    "#ax.set_ylim(0, None)\n",
    "ax.grid()\n",
    "\n",
    "ax.set_xlabel(r'$p_{T,\\tau}$')\n",
    "#if selection == 'mutau':\n",
    "#    ax.set_xlabel('$M_{\\mu\\mu}$')\n",
    "#elif selection == 'etau':\n",
    "#    ax.set_xlabel('$M_{ee}$')\n",
    "\n",
    "ax = axes[0][1]\n",
    "x, y, yerr = pt.hist_to_errorbar(df_data_ss[var], bins = bins)\n",
    "eb = ax.errorbar(x, y, yerr, fmt='ko', capsize=0, elinewidth=2)\n",
    "h_mc, _, _ = ax.hist([df_top_ss[var], df_ttbar_ss[var], df_w_ss[var], df_z_ss[var]], \n",
    "                     bins=bins, \n",
    "                     histtype='stepfilled', \n",
    "                     alpha=0.8, \n",
    "                     weights=[df_top_ss['weight'], df_ttbar_ss['weight'], df_w_ss['weight'], df_z_ss['weight']], \n",
    "                     stacked=True\n",
    "                    )\n",
    "\n",
    "var_mc, _ = np.histogram(np.concatenate([df_top_ss[var], df_ttbar_ss[var], df_w_ss[var], df_z_ss[var]]), \n",
    "                     bins=bins, \n",
    "                     weights=np.concatenate([df_top_ss['weight']**2, df_ttbar_ss['weight']**2, df_w_ss['weight']**2, df_z_ss['weight']**2]), \n",
    "                     )\n",
    "err_data, err_mc = np.sqrt(np.sum(yerr**2)), np.sqrt(var_mc.sum())\n",
    "err_total = np.sqrt(err_data**2 + err_mc**2)\n",
    "print(err_data, err_mc, err_total)\n",
    "\n",
    "ax.grid()\n",
    "ax.set_xlim(bins.min(), bins.max())\n",
    "ax.legend(['z', 'w', 'ttbar', 't', 'data'])\n",
    "if selection == 'mutau':\n",
    "    ax.set_title(r'$\\mu^{\\pm}\\tau^{\\pm}_{h}$', fontsize = 20)\n",
    "    #ax.set_xlabel('$M_{\\mu\\mu}$')\n",
    "elif selection == 'etau':\n",
    "    ax.set_title(r'$e^{\\pm}\\tau^{\\pm}_{h}$', fontsize = 20)\n",
    "    #ax.set_xlabel('$M_{ee}$')\n",
    "ax.set_xlabel(r'$p_{T,\\tau}$')\n",
    "\n",
    "ax = axes[1][1]\n",
    "diff = y - h_mc[-1]\n",
    "diff_ss_iso = np.append(diff, diff[-1])\n",
    "ax.plot(bins, diff_ss_iso, drawstyle='steps-post')\n",
    "ax.text(0.6, 0.8, r'$\\sum =$' + f'{diff.sum():.0f} +/- {err_total:.0f}', size = 16, transform = ax.transAxes)\n",
    "ax.set_ylim(0, 1.25*diff.max())\n",
    "ax.grid()\n",
    "\n",
    "ax.set_xlabel(r'$p_{T,\\tau}$')\n",
    "#if selection == 'mutau':\n",
    "#    ax.set_xlabel('$M_{\\mu\\tau}$')\n",
    "#elif selection == 'etau':\n",
    "#    ax.set_xlabel('$M_{e\\tau}$')\n",
    "\n",
    "#plt.tight_layout()\n",
    "plt.savefig(f'plots/ltau_fakes/{selection}_cr_iso.pdf')\n",
    "plt.show()"
   ]
  },
  {
   "cell_type": "markdown",
   "metadata": {},
   "source": [
    "## Testing the prediction"
   ]
  },
  {
   "cell_type": "code",
   "execution_count": null,
   "metadata": {
    "ExecuteTime": {
     "end_time": "2020-04-10T19:10:29.817305Z",
     "start_time": "2020-04-10T19:10:28.617Z"
    },
    "code_folding": []
   },
   "outputs": [],
   "source": [
    "# N.B.: RUNNING THIS PANEL REPEATEDLY WITHOUT RELOADING THE DATA WILL FUCK SHIT UP YO\n",
    "# first multiply the weights for the simulated processes by -1\n",
    "df_ttbar_ss.loc[:,'weight'] *= -1  \n",
    "df_top_ss.loc[:,'weight'] *= -1  \n",
    "df_z_ss.loc[:,'weight'] *= -1    \n",
    "df_w_ss.loc[:,'weight'] *= -1    \n",
    "#df_vv_ss.loc[:,'weight'] *= -1    \n",
    "\n",
    "# multiply by k and combine the same-sign data and MC (this should be calculated from the isolation inverted control region)\n",
    "df_qcd = pd.concat([df_data_ss, df_w_ss, df_ttbar_ss, df_top_ss, df_z_ss], sort=False)\n",
    "df_qcd.loc[:,'weight'] *= k\n",
    "\n",
    "# relabel fakes\n",
    "df_qcd['label'] = 'fakes'"
   ]
  },
  {
   "cell_type": "code",
   "execution_count": null,
   "metadata": {
    "ExecuteTime": {
     "end_time": "2020-04-10T19:10:29.818306Z",
     "start_time": "2020-04-10T19:10:28.620Z"
    },
    "code_folding": []
   },
   "outputs": [],
   "source": [
    "# test the QCD estimate\n",
    "fig, axes = plt.subplots(2, 1, figsize=(10, 10), facecolor='white', gridspec_kw={'height_ratios':[3,1]}, sharex=True)\n",
    "\n",
    "ax = axes[0]\n",
    "x, y, yerr = pt.hist_to_errorbar(df_data_os[var], bins=bins)\n",
    "eb = ax.errorbar(x, y, yerr, fmt='ko', capsize=0, elinewidth=2)\n",
    "h_mc, _, _ = ax.hist([df_top_os[var], df_ttbar_os[var], df_qcd[var], df_w_os[var], df_z_os[var]], \n",
    "                     bins=bins,\n",
    "                     histtype='stepfilled', \n",
    "                     alpha=0.8, \n",
    "                     stacked=True,\n",
    "                     weights=[df_top_os['weight'], df_ttbar_os['weight'], df_qcd['weight'], df_w_os['weight'], df_z_os['weight']])\n",
    "\n",
    "ax.legend(['z', 'w', 'qcd', 'ttbar', 't', 'data'])\n",
    "ax.text(0.05, 0.9, f'k = {k:.2f}', transform = ax.transAxes, fontsize=20)\n",
    "ax.grid()\n",
    "ax.set_ylim(0, 1.4*y.max())\n",
    "ax.set_ylabel(f'Entries / bin')\n",
    "ax.set_yscale('linear')\n",
    "\n",
    "ax = axes[1]\n",
    "r = y/h_mc[-1]\n",
    "ax.scatter(x, r, marker='o', c='k')\n",
    "ax.grid()\n",
    "ax.set_xlim(bins[0], bins[-1])\n",
    "ax.set_ylim(0.8, 1.19)\n",
    "#ax.set_xlabel(r'$\\sf p_{T,\\tau_{h}}$ [GeV]')\n",
    "if selection == 'mutau':\n",
    "    ax.set_xlabel(r'$\\sf m_{\\mu\\tau_{h}}$ [GeV]')\n",
    "elif selection == 'etau':\n",
    "    ax.set_xlabel(r'$\\sf m_{e\\tau_{h}}$ [GeV]')\n",
    "ax.set_ylabel('data/MC')\n",
    "\n",
    "plt.tight_layout(h_pad=0.)\n",
    "plt.savefig(f'plots/{selection}_{var}_iso.pdf')\n",
    "plt.show()"
   ]
  },
  {
   "cell_type": "code",
   "execution_count": null,
   "metadata": {
    "ExecuteTime": {
     "end_time": "2020-04-10T19:10:29.819313Z",
     "start_time": "2020-04-10T19:10:28.624Z"
    }
   },
   "outputs": [],
   "source": [
    "# overlay predictions from OS and SS regions\n",
    "\n",
    "fig, axes = plt.subplots(2, 2, facecolor='white', figsize=(16, 10), sharex=True)\n",
    "\n",
    "ax = axes[0][0]\n",
    "ax.plot(bins, diff_os_iso, drawstyle='steps-post', color='C0', label='OS iso')\n",
    "ax.plot(bins, diff_ss_iso, drawstyle='steps-post', color='C1', label='SS iso')\n",
    "ax.plot(bins, diff_os_antiiso, drawstyle='steps-post', color='C0', linestyle=':', label='OS anti-iso')\n",
    "ax.plot(bins, diff_ss_antiiso, drawstyle='steps-post', color='C1', linestyle=':', label='SS anti-iso')\n",
    "\n",
    "ax.set_xlim(bins[0], bins[-1])\n",
    "ax.set_ylabel('entries')\n",
    "ax.set_ylim(0, 1.05*np.max([diff_os_iso.max(), diff_ss_iso.max(), diff_os_antiiso.max(), diff_ss_antiiso.max()]))\n",
    "ax.grid()\n",
    "\n",
    "ax.set_xlabel(r'$p_{T,\\tau}$')\n",
    "#if selection == 'mutau':\n",
    "#    ax.set_xlabel(r'$M_{\\mu\\tau}$')\n",
    "#elif selection == 'etau':\n",
    "#    ax.set_xlabel(r'$M_{e\\tau}$')\n",
    "\n",
    "ax = axes[1][0]\n",
    "ax.plot([bins[0], bins[-1]], [1, 1], 'k:', label='_nolegend_')\n",
    "ax.plot(bins, diff_ss_iso/diff_os_iso, drawstyle='steps-post', color='C0', label='OS iso')\n",
    "ax.plot(bins, diff_ss_antiiso/diff_os_antiiso, drawstyle='steps-post', color='C0', linestyle=':', label='OS anti-iso')\n",
    "\n",
    "ax.set_xlim(bins[0], bins[-1])\n",
    "ax.set_ylabel('entries')\n",
    "ax.set_xlabel(r'$p_{T,\\tau}$')\n",
    "ax.grid()\n",
    "\n",
    "ax = axes[0][1]\n",
    "ax.plot(bins, diff_os_iso/diff_os_iso.sum(), drawstyle='steps-post', color='C0', label='OS iso')\n",
    "ax.plot(bins, diff_ss_iso/diff_ss_iso.sum(), drawstyle='steps-post', color='C1', label='SS iso')\n",
    "ax.plot(bins, diff_os_antiiso/diff_os_antiiso.sum(), drawstyle='steps-post', color='C0', linestyle=':', label='OS anti-iso')\n",
    "ax.plot(bins, diff_ss_antiiso/diff_ss_antiiso.sum(), drawstyle='steps-post', color='C1', linestyle=':', label='SS anti-iso')\n",
    "ax.set_ylim(0, None)\n",
    "ax.legend()\n",
    "ax.grid()\n",
    "\n",
    "ax = axes[1][1]\n",
    "ax.plot([bins[0], bins[-1]], [1, 1], 'k:', label='_nolegend_')\n",
    "ax.plot(bins, diff_ss_iso/diff_os_iso, drawstyle='steps-post', color='C0', label='iso')\n",
    "ax.plot(bins, diff_ss_antiiso/diff_os_antiiso, drawstyle='steps-post', color='C0', linestyle=':', label='anti-iso')\n",
    "\n",
    "ax.set_xlim(bins[0], bins[-1])\n",
    "ax.set_ylabel('entries')\n",
    "ax.set_xlabel(r'$p_{T,\\tau}$')\n",
    "ax.grid()\n",
    "\n",
    "ax.set_xlabel(r'$p_{T,\\tau}$')\n",
    "#if selection == 'mutau':\n",
    "#    ax.set_xlabel(r'$M_{\\mu\\tau}$')\n",
    "#elif selection == 'etau':\n",
    "#    ax.set_xlabel(r'$M_{e\\tau}$')\n",
    "\n",
    "#plt.tight_layout()\n",
    "plt.savefig(f'plots/ltau_fakes/{selection}_fake_comparison.pdf')\n",
    "plt.show()"
   ]
  },
  {
   "cell_type": "code",
   "execution_count": null,
   "metadata": {
    "ExecuteTime": {
     "end_time": "2020-04-10T19:10:29.820288Z",
     "start_time": "2020-04-10T19:10:28.626Z"
    },
    "code_folding": []
   },
   "outputs": [],
   "source": [
    "# N.B.: RUNNING THIS PANEL REPEATEDLY WITHOUT RELOADING THE DATA WILL FUCK SHIT UP YO\n",
    "# first multiply the weights for the simulated processes by -1\n",
    "df_ttbar_ss.loc[:,'weight'] *= -1  \n",
    "df_top_ss.loc[:,'weight'] *= -1  \n",
    "df_z_ss.loc[:,'weight'] *= -1    \n",
    "df_w_ss.loc[:,'weight'] *= -1    \n",
    "#df_vv_ss.loc[:,'weight'] *= -1    \n",
    "\n",
    "# multiply by k and combine the same-sign data and MC (this should be calculated from the isolation inverted control region)\n",
    "k = diff_os_iso.sum()/diff_ss_iso.sum()\n",
    "df_qcd = pd.concat([df_data_ss, df_w_ss, df_ttbar_ss, df_top_ss, df_z_ss], sort=False)\n",
    "#df_qcd.loc[:,'weight'] *= k\n",
    "\n",
    "# relabel fakes\n",
    "df_qcd['label'] = 'fakes'"
   ]
  },
  {
   "cell_type": "code",
   "execution_count": null,
   "metadata": {},
   "outputs": [],
   "source": []
  }
 ],
 "metadata": {
  "hide_input": false,
  "kernelspec": {
   "display_name": "Python 3",
   "language": "python",
   "name": "python3"
  },
  "language_info": {
   "codemirror_mode": {
    "name": "ipython",
    "version": 3
   },
   "file_extension": ".py",
   "mimetype": "text/x-python",
   "name": "python",
   "nbconvert_exporter": "python",
   "pygments_lexer": "ipython3",
   "version": "3.7.2"
  },
  "latex_envs": {
   "LaTeX_envs_menu_present": true,
   "autocomplete": true,
   "bibliofile": "biblio.bib",
   "cite_by": "apalike",
   "current_citInitial": 1,
   "eqLabelWithNumbers": true,
   "eqNumInitial": 0,
   "hotkeys": {
    "equation": "Ctrl-E",
    "itemize": "Ctrl-I"
   },
   "labels_anchors": false,
   "latex_user_defs": false,
   "report_style_numbering": false,
   "user_envs_cfg": false
  },
  "toc": {
   "colors": {
    "hover_highlight": "#DAA520",
    "navigate_num": "#000000",
    "navigate_text": "#333333",
    "running_highlight": "#FF0000",
    "selected_highlight": "#FFD700",
    "sidebar_border": "#EEEEEE",
    "wrapper_background": "#FFFFFF"
   },
   "moveMenuLeft": true,
   "nav_menu": {
    "height": "29px",
    "width": "254px"
   },
   "navigate_menu": true,
   "number_sections": true,
   "sideBar": true,
   "threshold": 4,
   "toc_cell": false,
   "toc_section_display": "block",
   "toc_window_display": false,
   "widenNotebook": false
  },
  "varInspector": {
   "cols": {
    "lenName": 16,
    "lenType": 16,
    "lenVar": 40
   },
   "kernels_config": {
    "python": {
     "delete_cmd_postfix": "",
     "delete_cmd_prefix": "del ",
     "library": "var_list.py",
     "varRefreshCmd": "print(var_dic_list())"
    },
    "r": {
     "delete_cmd_postfix": ") ",
     "delete_cmd_prefix": "rm(",
     "library": "var_list.r",
     "varRefreshCmd": "cat(var_dic_list()) "
    }
   },
   "types_to_exclude": [
    "module",
    "function",
    "builtin_function_or_method",
    "instance",
    "_Feature"
   ],
   "window_display": false
  }
 },
 "nbformat": 4,
 "nbformat_minor": 2
}
