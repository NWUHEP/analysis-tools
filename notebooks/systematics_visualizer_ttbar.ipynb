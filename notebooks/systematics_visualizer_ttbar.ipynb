{
 "cells": [
  {
   "cell_type": "markdown",
   "metadata": {},
   "source": [
    "# ttbar systematics with the Asimov dataset\n",
    "\n",
    "To assess the impact of various sources of systematic, we will rely on an Asimov dataset."
   ]
  },
  {
   "cell_type": "code",
   "execution_count": 1,
   "metadata": {
    "ExecuteTime": {
     "end_time": "2020-03-02T21:27:14.094164Z",
     "start_time": "2020-03-02T21:27:13.664864Z"
    },
    "code_folding": [
     0
    ]
   },
   "outputs": [
    {
     "name": "stdout",
     "output_type": "stream",
     "text": [
      "/home/naodell/work/wbr/analysis\n",
      "{\n",
      "  \"shell_port\": 51421,\n",
      "  \"iopub_port\": 55919,\n",
      "  \"stdin_port\": 41243,\n",
      "  \"control_port\": 57193,\n",
      "  \"hb_port\": 40425,\n",
      "  \"ip\": \"127.0.0.1\",\n",
      "  \"key\": \"c6207323-a1fd9c179caaf11f54b4f794\",\n",
      "  \"transport\": \"tcp\",\n",
      "  \"signature_scheme\": \"hmac-sha256\",\n",
      "  \"kernel_name\": \"\"\n",
      "}\n",
      "\n",
      "Paste the above JSON into a file, and connect with:\n",
      "    $> jupyter <app> --existing <file>\n",
      "or, if you are local, you can connect with just:\n",
      "    $> jupyter <app> --existing kernel-6c68bf69-e384-469e-991f-beabd497af4a.json\n",
      "or even just:\n",
      "    $> jupyter <app> --existing\n",
      "if this is the most recent Jupyter kernel you have started.\n"
     ]
    }
   ],
   "source": [
    "## imports and configuration\n",
    "%cd '/home/naodell/work/wbr/analysis'\n",
    "\n",
    "from functools import partial\n",
    "import numpy as np\n",
    "import pandas as pd\n",
    "import matplotlib\n",
    "import matplotlib.pyplot as plt\n",
    "import matplotlib.gridspec as gridspec\n",
    "from scipy.optimize import minimize\n",
    "from tqdm.notebook import tqdm\n",
    "import statsmodels.api as sm    \n",
    "lowess = sm.nonparametric.lowess\n",
    "\n",
    "import scripts.plot_tools as pt\n",
    "import scripts.fit_helpers as fh\n",
    "from nllfit.nllfitter import ScanParameters\n",
    "\n",
    "np.set_printoptions(precision=3)\n",
    "matplotlib.style.use('default')\n",
    "params = {'legend.fontsize': 20,\n",
    "          'axes.labelsize': 20,\n",
    "          'figure.figsize': (8, 8),\n",
    "          'axes.facecolor': 'white',\n",
    "          'axes.titlesize':'x-large',\n",
    "          'xtick.labelsize':18,\n",
    "          'ytick.labelsize':18,\n",
    "         }\n",
    "matplotlib.rcParams.update(params)\n",
    "%matplotlib inline\n",
    "%connect_info"
   ]
  },
  {
   "cell_type": "code",
   "execution_count": 2,
   "metadata": {
    "ExecuteTime": {
     "end_time": "2020-03-02T21:27:20.749903Z",
     "start_time": "2020-03-02T21:27:14.095617Z"
    },
    "code_folding": [],
    "scrolled": false
   },
   "outputs": [],
   "source": [
    "# configure, get the input data, and do any additional processing that is needed\n",
    "input_dir  = f'local_data/templates/nominal_nosmooth/'\n",
    "selections = [\n",
    "              'ee', 'mumu',\n",
    "              'emu',\n",
    "              'mutau', 'etau',\n",
    "              'mu4j', 'e4j'\n",
    "             ]\n",
    "processes = ['ttbar', 't', 'ww', 'wjets', 'zjets_alt', 'diboson', 'fakes'] \n",
    "n_selection = len(selections)\n",
    "plot_labels = dict(\n",
    "                   mumu  = [r'$\\sf p_{T, \\mu}$', r'$\\mu\\mu$'],\n",
    "                   ee    = [r'$\\sf p_{T, e}$', r'$ee$'],\n",
    "                   emu   = [r'$\\sf p_{T, \\ell}$', r'$e\\mu$'],\n",
    "                   mutau = [r'$\\sf p_{T, \\tau}$', r'$\\mu\\tau$'],\n",
    "                   etau  = [r'$\\sf p_{T, \\tau}$', r'$e\\tau$'],\n",
    "                   mu4j  = [r'$\\sf p_{T, \\mu}$', r'$\\mu$ + jets'],\n",
    "                   e4j   = [r'$\\sf p_{T, e}$', r'$e$ + jets']\n",
    "                  )\n",
    "\n",
    "# initialize fit data\n",
    "fit_data   = fh.FitData(input_dir, selections, processes)\n",
    "model_data = fit_data._model_data\n",
    "#parameters = fit_data._parameters\n",
    "\n",
    "# get post fit uncertainties\n",
    "parameters = pd.read_csv('data/model_parameters_asimov.csv', index_col='name')\n",
    "#parameters.loc[parameters.type == 'norm', 'err_init'] /= 100\n",
    "#parameters.loc[parameters.type == 'norm', 'err_fit'] /= 100\n",
    "parameters.loc[['br_tau_e', 'br_tau_mu', 'br_tau_h'], 'err_init'] *= parameters.loc[['br_tau_e', 'br_tau_mu', 'br_tau_h'], 'err_init']/100\n",
    "parameters.loc[['br_tau_e', 'br_tau_mu', 'br_tau_h'], 'err_fit'] *= parameters.loc[['br_tau_e', 'br_tau_mu', 'br_tau_h'], 'err_fit']/100"
   ]
  },
  {
   "cell_type": "code",
   "execution_count": 7,
   "metadata": {
    "ExecuteTime": {
     "end_time": "2020-03-02T21:34:20.777758Z",
     "start_time": "2020-03-02T21:34:01.299093Z"
    },
    "scrolled": true
   },
   "outputs": [
    {
     "data": {
      "application/vnd.jupyter.widget-view+json": {
       "model_id": "342add40b0734658b13c8713b5c44e17",
       "version_major": 2,
       "version_minor": 0
      },
      "text/plain": [
       "HBox(children=(FloatProgress(value=0.0, max=7.0), HTML(value='')))"
      ]
     },
     "metadata": {},
     "output_type": "display_data"
    },
    {
     "name": "stdout",
     "output_type": "stream",
     "text": [
      "\n"
     ]
    }
   ],
   "source": [
    "# per template breakdown\n",
    "\n",
    "decay_map = fit_data._decay_map\n",
    "for channel in tqdm(selections):\n",
    "    sdata = fit_data.get_selection_data(channel)\n",
    "    for category, cdata in sdata.items():\n",
    "        templates = cdata['templates']['ttbar']\n",
    "        data = sdata[category]['templates']['data']['val']\n",
    "        bins = sdata[category]['bins']\n",
    "        #print(0.1*np.sqrt(data))\n",
    "\n",
    "        fig, axes = plt.subplots(2, 4, figsize=(24, 10), facecolor='white', sharey=False, sharex='col')\n",
    "        fig.suptitle(f'{plot_labels[channel][1]}: {pt.categories[category].label}', fontsize=22)\n",
    "        for ix, syst_type in enumerate(['isr', 'fsr', 'hdamp', 'tune']):\n",
    "\n",
    "            color = 0\n",
    "            count = 0\n",
    "            do_plot = False\n",
    "            for dm, dmdata in templates.items():\n",
    "                if np.all(dmdata['val'].values < 0.5*np.sqrt(data)) or dm not in decay_map.query(f'{channel} == 1').decay.values:\n",
    "                    continue\n",
    "                    \n",
    "                count += 1\n",
    "                label = decay_map[decay_map.decay == dm]['alt_label'].values[0]\n",
    "\n",
    "                ax = axes[0][ix]\n",
    "                x = (bins[:-1] + bins[1:])/2\n",
    "                #diff_up = (dmdata[f'{syst_type}_up'].values - dmdata['val'].values)/dmdata['val'].values\n",
    "                diff_up = (dmdata[f'{syst_type}_up'].values - dmdata['val'].values)\n",
    "                diff_up_smooth = lowess(diff_up, x, frac=0.6, return_sorted=False)\n",
    "                ax.plot(bins[:-1], diff_up, f'C{color}--', alpha=1., drawstyle='steps-post', label=f'{label}')\n",
    "                ax.plot(x, diff_up, c=f'C{color}', marker='^', markersize=10, linestyle='None', label='_nolegend_')\n",
    "\n",
    "                #diff_down = (dmdata[f'{syst_type}_down'].values - dmdata['val'].values)/dmdata['val'].values\n",
    "                diff_down = (dmdata[f'{syst_type}_down'].values - dmdata['val'].values)\n",
    "                ax.plot(bins[:-1], diff_down, f'C{color}--', alpha=1., drawstyle='steps-post', label='_nolegend_')\n",
    "                ax.plot(x, diff_down, c=f'C{color}', marker='v', markersize=10, linestyle='None', label='_nolegend_')\n",
    "\n",
    "                ax = axes[1][ix]\n",
    "                diff_up_smooth = lowess(diff_up, x, frac=0.5, return_sorted=False)\n",
    "                ax.plot(x, diff_up_smooth, c=f'C{color}', marker='^', markersize=10, linestyle=':', label='_nolegend_')\n",
    "\n",
    "                diff_down_smooth = lowess(diff_down, x, frac=0.5, return_sorted=False)\n",
    "                ax.plot(x, diff_down_smooth, c=f'C{color}', marker='v', markersize=10, linestyle=':', label='_nolegend_')\n",
    "\n",
    "                color += 1\n",
    "\n",
    "            if count == 0:\n",
    "                plt.close()\n",
    "                continue\n",
    "            else:\n",
    "                do_plot = True\n",
    "\n",
    "            axes[0][ix].plot(bins[[0, -1]], [0, 0], 'k-')\n",
    "            axes[0][ix].fill_between(bins[:-1], -np.sqrt(data), np.sqrt(data), hatch='/', facecolor='none', edgecolor='r', alpha=0.3, step='post', label='data error')\n",
    "            axes[0][ix].set_title(f'{syst_type}', fontsize=20)\n",
    "            #axes[0][ix].grid()\n",
    "\n",
    "            axes[1][ix].plot(bins[[0, -1]], [0, 0], 'k-')\n",
    "            axes[1][ix].fill_between(bins[:-1], -np.sqrt(data), np.sqrt(data), hatch='/', facecolor='none', edgecolor='r', alpha=0.3, step='post', label='data error')\n",
    "            axes[1][ix].set_xlabel(r'$p_{T}$')\n",
    "            axes[1][ix].set_xlim(bins[0], bins[-2])\n",
    "\n",
    "            if ix == 3:\n",
    "                axes[0][ix].legend()\n",
    "\n",
    "        if not do_plot:\n",
    "            continue\n",
    "\n",
    "        outdir = f'plots/systematics/ttbar_generator/{channel}'\n",
    "        pt.make_directory(outdir, clear=False)\n",
    "\n",
    "        plt.tight_layout(h_pad=0., w_pad=0., rect=[0, 0.03, 1, 0.95])\n",
    "        plt.savefig(f'{outdir}/{category}.png')\n",
    "        plt.close()\n",
    "        #plt.show()"
   ]
  },
  {
   "cell_type": "code",
   "execution_count": null,
   "metadata": {},
   "outputs": [],
   "source": []
  }
 ],
 "metadata": {
  "hide_input": false,
  "kernelspec": {
   "display_name": "Python 3",
   "language": "python",
   "name": "python3"
  },
  "language_info": {
   "codemirror_mode": {
    "name": "ipython",
    "version": 3
   },
   "file_extension": ".py",
   "mimetype": "text/x-python",
   "name": "python",
   "nbconvert_exporter": "python",
   "pygments_lexer": "ipython3",
   "version": "3.7.2"
  },
  "latex_envs": {
   "LaTeX_envs_menu_present": true,
   "autoclose": false,
   "autocomplete": true,
   "bibliofile": "biblio.bib",
   "cite_by": "apalike",
   "current_citInitial": 1,
   "eqLabelWithNumbers": true,
   "eqNumInitial": 0,
   "hotkeys": {
    "equation": "Ctrl-E",
    "itemize": "Ctrl-I"
   },
   "labels_anchors": false,
   "latex_user_defs": false,
   "report_style_numbering": false,
   "user_envs_cfg": false
  },
  "toc": {
   "nav_menu": {
    "height": "29px",
    "width": "251px"
   },
   "number_sections": true,
   "sideBar": true,
   "skip_h1_title": false,
   "title_cell": "Table of Contents",
   "title_sidebar": "Contents",
   "toc_cell": false,
   "toc_position": {
    "height": "49px",
    "left": "0px",
    "right": "1493.87px",
    "top": "90.9965px",
    "width": "242px"
   },
   "toc_section_display": false,
   "toc_window_display": false
  },
  "varInspector": {
   "cols": {
    "lenName": 16,
    "lenType": 16,
    "lenVar": 40
   },
   "kernels_config": {
    "python": {
     "delete_cmd_postfix": "",
     "delete_cmd_prefix": "del ",
     "library": "var_list.py",
     "varRefreshCmd": "print(var_dic_list())"
    },
    "r": {
     "delete_cmd_postfix": ") ",
     "delete_cmd_prefix": "rm(",
     "library": "var_list.r",
     "varRefreshCmd": "cat(var_dic_list()) "
    }
   },
   "types_to_exclude": [
    "module",
    "function",
    "builtin_function_or_method",
    "instance",
    "_Feature"
   ],
   "window_display": false
  },
  "widgets": {
   "state": {
    "012f8bbe2fdb410dae6e2cde9d7fe5cb": {
     "views": []
    },
    "080556076f174648bddf64f17a54c523": {
     "views": []
    },
    "0ad83b5f67484ae5b8fd8dd43ccc39bd": {
     "views": []
    },
    "15acd81a9adc493683d9b63813f000bf": {
     "views": []
    },
    "1840cb6fded848b4ae95ec8d3db15ab2": {
     "views": []
    },
    "1dd83f822e074642ae4255b15ee661cf": {
     "views": []
    },
    "1e71a878e6474912a0efc497ecc5d65b": {
     "views": []
    },
    "2022ed83777b4963b630b5c46239e218": {
     "views": []
    },
    "21c4c57bfc48495194663e6a4fbac488": {
     "views": []
    },
    "22c45c75435348c0b9501d493d69fdca": {
     "views": []
    },
    "2635f668a1af4a9db2642e705d7c73ff": {
     "views": []
    },
    "2ad5ddd9347e451b9290e5b4179ab9a2": {
     "views": []
    },
    "2c062b5778024117984822b63b0593d7": {
     "views": []
    },
    "2f5eab2f6fb24192b76a5ffe99195d44": {
     "views": []
    },
    "31632517325046e8b0cb62e4f4ed2480": {
     "views": []
    },
    "3562b97192ed4d42bbab17f77c290f6b": {
     "views": []
    },
    "38a7cc053723492b921cf9f084ed243c": {
     "views": []
    },
    "3b5750b20e1745879ca0f965aad7b614": {
     "views": []
    },
    "3f1cbabbe2694a9dabe3f1c2e09d0ee2": {
     "views": []
    },
    "3fab6a26a70c4238a668a46d4dc88bf6": {
     "views": []
    },
    "3fb3c7a25e954a4888996976fa107737": {
     "views": []
    },
    "415db64fbc574daea8457ab600392f09": {
     "views": []
    },
    "4463de406b4645a4b562fe7917380ff9": {
     "views": []
    },
    "487e5450b5a24507932709f1fa8f59c1": {
     "views": []
    },
    "48aba73013e74e71927f71d42fb44d14": {
     "views": []
    },
    "4a19ad30f77e4fe6a2c84c8b62378a47": {
     "views": []
    },
    "4bc83ff5270d41679d76d26cdded8313": {
     "views": []
    },
    "4bdd9dd5c5c64646a27fa9096851458b": {
     "views": []
    },
    "5014cd42705f45178d5e6eeffd70f119": {
     "views": []
    },
    "5259b340b68e4fdb97fb4eaf9d98d954": {
     "views": []
    },
    "5986ef5b605a42aca10bc5834529ee06": {
     "views": []
    },
    "5c1aa44589a140eb9709734c843abde6": {
     "views": []
    },
    "600cd9ca4f4c46d4ad6fe57df107675a": {
     "views": [
      {
       "cell_index": 7
      }
     ]
    },
    "61fe369ebdd14eaa89de110f6186e6b7": {
     "views": []
    },
    "62ac836017ae47a38f8fde806c5ec9b7": {
     "views": []
    },
    "632ccbfabe91405aa1c5a77c9ea754db": {
     "views": []
    },
    "66175f618ea5472baac618f998d2c06c": {
     "views": []
    },
    "6647a620af034d26abcd327ae02364d4": {
     "views": []
    },
    "6752222d2cba43e18f344a8db7f99d24": {
     "views": []
    },
    "6b684ba1a7c24a35ba2df77016212904": {
     "views": []
    },
    "6cea898f4aca4f1e84601f843e337238": {
     "views": []
    },
    "6f8d1e87fd60462a89d693b2f3b5f007": {
     "views": []
    },
    "74078646a5eb4047b40370a0ab8b6b30": {
     "views": []
    },
    "745b0c79ff3040788ea952fce9c7d607": {
     "views": []
    },
    "757c9b805eb7445bac9a7f141f87e45f": {
     "views": []
    },
    "76ced68e19a742e8976dbfd4e8594a1a": {
     "views": []
    },
    "783bb5e7538d4d9d8315e2698024b353": {
     "views": []
    },
    "794993d66efe4ab29a8d35aad8cfe079": {
     "views": []
    },
    "8375e24bae7541528d7cdc0f379d1d4c": {
     "views": []
    },
    "8554945ec15041a7bf8004dbc3fc5f11": {
     "views": []
    },
    "878a34e26cce4f18bb8232a682ebe964": {
     "views": []
    },
    "8921a75116a549198eb7b7f4a24ab672": {
     "views": []
    },
    "909f4504f0b049bda8b641defa177062": {
     "views": []
    },
    "910b9d32a3fb45ec99da1f9df1add816": {
     "views": []
    },
    "9d15ce601cd34f0699b7a7a0ce1d17dc": {
     "views": []
    },
    "a26638c9fee247b3891aac027a0918cc": {
     "views": []
    },
    "a9d2bf44a3ad447bb3eecde71363c198": {
     "views": []
    },
    "ad366bf4c95f4cdba62d47ba9501efc9": {
     "views": []
    },
    "ad8e1842ec314a94b6ed4b62c4c0a450": {
     "views": []
    },
    "af525094db304d2a812ae1312b00889b": {
     "views": []
    },
    "b0697c4343da491f9a35bf02681dad8f": {
     "views": []
    },
    "b07ff307919e4268bc8bec8379c47a5d": {
     "views": []
    },
    "b0e85c726ca141079333afb27edc63d4": {
     "views": []
    },
    "bdcc1e5df7a8432b9f40d8249a46f90a": {
     "views": []
    },
    "be1065f37fa24e818d31c3bb075947a3": {
     "views": []
    },
    "c296c8df2f734e268c6c1204536e7142": {
     "views": []
    },
    "c4bfd3e447f0426da144b76abc202129": {
     "views": []
    },
    "cced93184d4445218a2b14567579333d": {
     "views": []
    },
    "d5bd2e4d5f85482e9345f3a7a69380d0": {
     "views": []
    },
    "d798fa64e8be4a7d9ec1cbeece3b1be9": {
     "views": []
    },
    "d7aec0d6d05f442b991ab40af944811d": {
     "views": []
    },
    "db469cea2c8e4180bf6890de80329c1d": {
     "views": []
    },
    "e671857510c54634b6f0fa55bf1fa228": {
     "views": []
    },
    "ebf52deafaf64b0c826533dafdf993c0": {
     "views": []
    },
    "ed1e5439da9c41199a7bbbda21b556f8": {
     "views": []
    },
    "f585cf5db5024280af5b567f0e4fd771": {
     "views": []
    },
    "f6ba8f8800af47adabed847063bda8db": {
     "views": []
    },
    "f9bae72f14e44705b5c38a3ddc69fee8": {
     "views": []
    }
   },
   "version": "1.1.2"
  }
 },
 "nbformat": 4,
 "nbformat_minor": 2
}
