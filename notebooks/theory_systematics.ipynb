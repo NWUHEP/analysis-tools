{
 "cells": [
  {
   "cell_type": "markdown",
   "metadata": {},
   "source": [
    "# top generator systematics\n"
   ]
  },
  {
   "cell_type": "code",
   "execution_count": 1,
   "metadata": {
    "code_folding": [
     0
    ]
   },
   "outputs": [
    {
     "name": "stdout",
     "output_type": "stream",
     "text": [
      "/home/naodell/work/wbr/analysis\n"
     ]
    }
   ],
   "source": [
    "# imports and configuration\n",
    "%cd /home/naodell/work/wbr/analysis\n",
    "\n",
    "import pickle\n",
    "import numpy as np\n",
    "import pandas as pd\n",
    "import matplotlib.pyplot as plt\n",
    "import matplotlib\n",
    "#matplotlib.style.use('default')\n",
    "from tqdm import tqdm_notebook\n",
    "\n",
    "import scripts.plot_tools as pt\n",
    "import scripts.systematic_tools as st\n",
    "\n",
    "np.set_printoptions(precision=3)\n",
    "matplotlib.style.use('default')\n",
    "params = {'legend.fontsize': 14,\n",
    "          'axes.labelsize': 14,\n",
    "          'figure.figsize': (8, 8),\n",
    "          'axes.facecolor': 'white',\n",
    "          'axes.titlesize':'x-large',\n",
    "          'xtick.labelsize':12,\n",
    "          'ytick.labelsize':12,\n",
    "         }\n",
    "matplotlib.rcParams.update(params)\n"
   ]
  },
  {
   "cell_type": "code",
   "execution_count": 3,
   "metadata": {
    "code_folding": [],
    "scrolled": true
   },
   "outputs": [
    {
     "data": {
      "application/vnd.jupyter.widget-view+json": {
       "model_id": "33053164cf49408c993e48b777d9f7b2",
       "version_major": 2,
       "version_minor": 0
      },
      "text/html": [
       "<p>Failed to display Jupyter Widget of type <code>HBox</code>.</p>\n",
       "<p>\n",
       "  If you're reading this message in the Jupyter Notebook or JupyterLab Notebook, it may mean\n",
       "  that the widgets JavaScript is still loading. If this message persists, it\n",
       "  likely means that the widgets JavaScript library is either not installed or\n",
       "  not enabled. See the <a href=\"https://ipywidgets.readthedocs.io/en/stable/user_install.html\">Jupyter\n",
       "  Widgets Documentation</a> for setup instructions.\n",
       "</p>\n",
       "<p>\n",
       "  If you're reading this message in another frontend (for example, a static\n",
       "  rendering on GitHub or <a href=\"https://nbviewer.jupyter.org/\">NBViewer</a>),\n",
       "  it may mean that your frontend doesn't currently support widgets.\n",
       "</p>\n"
      ],
      "text/plain": [
       "HBox(children=(IntProgress(value=0, max=9), HTML(value='')))"
      ]
     },
     "metadata": {},
     "output_type": "display_data"
    },
    {
     "name": "stdout",
     "output_type": "stream",
     "text": [
      "\n"
     ]
    }
   ],
   "source": [
    "# Get the data \n",
    "selection = 'mumu'\n",
    "indir = f'data/flatuples/single_lepton_ttbar_syst/{selection}_2016'\n",
    "dataset_names = ['ttbar_inclusive',\n",
    "                 'ttbar_inclusive_isrup', 'ttbar_inclusive_isrdown',    \n",
    "                 'ttbar_inclusive_fsrup', 'ttbar_inclusive_fsrdown',    \n",
    "                 'ttbar_inclusive_hdampup', 'ttbar_inclusive_hdampdown',\n",
    "                 'ttbar_inclusive_tuneup', 'ttbar_inclusive_tunedown',\n",
    "                 ]\n",
    "targets    = dict(\n",
    "                  mumu  = 'lepton2_pt', \n",
    "                  ee    = 'lepton2_pt', \n",
    "                  emu   = 'trailing_lepton_pt', #'dilepton1_pt_asym', \n",
    "                  mutau = 'lepton2_pt', \n",
    "                  etau  = 'lepton2_pt', \n",
    "                  mu4j  = 'lepton1_pt',\n",
    "                  e4j   = 'lepton1_pt'\n",
    "                 )\n",
    "\n",
    "dataframes = dict()\n",
    "for dn in tqdm_notebook(dataset_names):\n",
    "    if dn == 'ttbar_inclusive':\n",
    "        dataframes[dn] = pd.read_pickle(f'data/flatuples/single_lepton/{selection}_2016/ntuple_{dn}.pkl')\n",
    "        ecounts = pd.read_csv(f'data/flatuples/single_lepton/{selection}_2016/event_counts.csv')\n",
    "    else:\n",
    "        dataframes[dn] = pd.read_pickle(f'{indir}/ntuple_{dn}.pkl')\n",
    "        ecounts = pd.read_csv(f'{indir}/event_counts.csv')\n",
    "        \n",
    "    dataframes[dn].loc[:,'weight'] *= 832*35.9e3/ecounts[dn][0]\n",
    "    #print(ecounts[dn][0])\n",
    "    \n",
    "df_nominal = dataframes['ttbar_inclusive']"
   ]
  },
  {
   "cell_type": "code",
   "execution_count": null,
   "metadata": {
    "code_folding": []
   },
   "outputs": [],
   "source": [
    "# Variations from dedicated samples\n",
    "\n",
    "fig, axes = plt.subplots(2, 4, figsize=(24, 8), facecolor='white', sharex='col', gridspec_kw={'height_ratios':[3,1]})\n",
    "fig.subplots_adjust(hspace=0)\n",
    "\n",
    "bins = np.arange(10, 180, 2)\n",
    "feature = targets[selection]\n",
    "\n",
    "ax = axes[0][0]\n",
    "df_up = dataframes['ttbar_inclusive_isrup']\n",
    "df_down = dataframes['ttbar_inclusive_isrdown']\n",
    "h_nominal, b, _ = ax.hist(df_nominal[feature], color='C1', bins=bins, linestyle='-', histtype='step', weights=df_nominal.weight)\n",
    "h_plus, _, _   = ax.hist(df_up[feature], color='C0', bins=bins, linestyle='--', histtype='step', weights=df_up.weight)\n",
    "h_minus, _, _ = ax.hist(df_down[feature], color='C2', bins=bins, linestyle='--', histtype='step', weights=df_down.weight)\n",
    "ax.set_title('ISR')\n",
    "ax.set_ylabel('a.u.')\n",
    "ax.set_xlim([bins[0], bins[-1]])\n",
    "ax.legend(['nominal', r'$+\\sigma_{ISR}$', r'$-\\sigma_{ISR}$'])\n",
    "ax.grid()\n",
    "\n",
    "ax = axes[1][0]\n",
    "dx = (b[1:] - b[:-1])/2\n",
    "x = b[:-1] + dx\n",
    "y_up = h_plus/h_nominal\n",
    "y_down = h_minus/h_nominal\n",
    "ax.plot(x, y_up, 'C0')\n",
    "ax.plot(x, y_down, 'C2')\n",
    "ax.fill_between(x, y_up, y_down, color = 'C1', alpha=0.5)\n",
    "ax.plot((bins[0], bins[-1]), [1, 1], 'r--')\n",
    "ax.grid()\n",
    "\n",
    "ax = axes[0][1]\n",
    "df_up = dataframes['ttbar_inclusive_fsrup']\n",
    "df_down = dataframes['ttbar_inclusive_fsrdown']\n",
    "h_nominal, b, _ = ax.hist(df_nominal[feature], color='C1', bins=bins, linestyle='-', histtype='step', weights=df_nominal.weight)\n",
    "h_plus, _, _   = ax.hist(df_up[feature], color='C0', bins=bins, linestyle='--', histtype='step', weights=df_up.weight)\n",
    "h_minus, _, _ = ax.hist(df_down[feature], color='C2', bins=bins, linestyle='--', histtype='step', weights=df_down.weight)\n",
    "ax.set_title('FSR')\n",
    "ax.set_ylabel('a.u.')\n",
    "ax.set_xlim([bins[0], bins[-1]])\n",
    "ax.legend(['nominal', r'$+\\sigma_{FSR}$', r'$-\\sigma_{FSR}$'])\n",
    "ax.grid()\n",
    "\n",
    "ax = axes[1][1]\n",
    "dx = (b[1:] - b[:-1])/2\n",
    "x = b[:-1] + dx\n",
    "y_up = h_plus/h_nominal\n",
    "y_down = h_minus/h_nominal\n",
    "ax.plot(x, y_up, 'C0')\n",
    "ax.plot(x, y_down, 'C2')\n",
    "ax.fill_between(x, y_up, y_down, color = 'C1', alpha=0.5)\n",
    "ax.plot((bins[0], bins[-1]), [1, 1], 'r--')\n",
    "ax.grid()\n",
    "\n",
    "ax = axes[0][2]\n",
    "df_up = dataframes['ttbar_inclusive_hdampup']\n",
    "df_down = dataframes['ttbar_inclusive_hdampdown']\n",
    "h_nominal, b, _ = ax.hist(df_nominal[feature], color='C1', bins=bins, linestyle='-', histtype='step', weights=df_nominal.weight)\n",
    "h_plus, _, _   = ax.hist(df_up[feature], color='C0', bins=bins, linestyle='--', histtype='step', weights=df_up.weight)\n",
    "h_minus, _, _ = ax.hist(df_down[feature], color='C2', bins=bins, linestyle='--', histtype='step', weights=df_down.weight)\n",
    "ax.set_title('ME-PS')\n",
    "ax.set_ylabel('a.u.')\n",
    "ax.set_xlim([bins[0], bins[-1]])\n",
    "ax.legend(['nominal', r'$+\\sigma_{hdamp}$', r'$-\\sigma_{hdamp}$'])\n",
    "ax.grid()\n",
    "\n",
    "ax = axes[1][2]\n",
    "dx = (b[1:] - b[:-1])/2\n",
    "x = b[:-1] + dx\n",
    "y_up = h_plus/h_nominal\n",
    "y_down = h_minus/h_nominal\n",
    "ax.plot(x, y_up, 'C0')\n",
    "ax.plot(x, y_down, 'C2')\n",
    "ax.fill_between(x, y_up, y_down, color = 'C1', alpha=0.5)\n",
    "ax.plot((bins[0], bins[-1]), [1, 1], 'r--')\n",
    "ax.grid()\n",
    "\n",
    "ax = axes[0][3]\n",
    "df_up = dataframes['ttbar_inclusive_tuneup']\n",
    "df_down = dataframes['ttbar_inclusive_tunedown']\n",
    "h_nominal, b, _ = ax.hist(df_nominal[feature], color='C1', bins=bins, linestyle='-', histtype='step', weights=df_nominal.weight)\n",
    "h_plus, _, _   = ax.hist(df_up[feature], color='C0', bins=bins, linestyle='--', histtype='step', weights=df_up.weight)\n",
    "h_minus, _, _ = ax.hist(df_down[feature], color='C2', bins=bins, linestyle='--', histtype='step', weights=df_down.weight)\n",
    "ax.set_title('UE tune')\n",
    "ax.set_ylabel('a.u.')\n",
    "ax.set_xlim([bins[0], bins[-1]])\n",
    "ax.legend(['nominal', r'$+\\sigma_{tune}$', r'$-\\sigma_{tune}$'])\n",
    "ax.grid()\n",
    "\n",
    "ax = axes[1][3]\n",
    "dx = (b[1:] - b[:-1])/2\n",
    "x = b[:-1] + dx\n",
    "y_up = h_plus/h_nominal\n",
    "y_down = h_minus/h_nominal\n",
    "ax.plot(x, y_up, 'C0')\n",
    "ax.plot(x, y_down, 'C2')\n",
    "ax.fill_between(x, y_up, y_down, color = 'C1', alpha=0.5)\n",
    "ax.plot((bins[0], bins[-1]), [1, 1], 'r--')\n",
    "ax.grid()\n",
    "\n",
    "#fig.suptitle(f'{selection} channel', fontsize=20)\n",
    "plt.tight_layout(rect=[0, 0.03, 1, 0.95])\n",
    "plt.savefig(f'plots/systematics/{selection}_generator_scale.pdf')\n",
    "plt.show()"
   ]
  },
  {
   "cell_type": "code",
   "execution_count": null,
   "metadata": {
    "code_folding": [
     0
    ]
   },
   "outputs": [],
   "source": [
    "# variations based on event weights (QCD scale, PDF, alpha_s)\n",
    "\n",
    "fig, axes = plt.subplots(2, 1, figsize=(8, 8), facecolor='white', sharex='col', gridspec_kw={'height_ratios':[3,1]})\n",
    "fig.subplots_adjust(hspace=0)\n",
    "\n",
    "ax = axes[0]\n",
    "h_nominal, b, _ = ax.hist(df_nominal[feature], color='k', bins=bins, linestyle='-', histtype='step', weights=df_nominal.weight)\n",
    "h_nom_up, _, _   = ax.hist(df_nominal[feature], color='C0', bins=bins, linestyle='-', histtype='step', weights=df_nominal.weight*df_nominal.qcd_weight_nom_up)\n",
    "h_nom_down, _, _ = ax.hist(df_nominal[feature], color='C0', bins=bins, linestyle='-', histtype='step', weights=df_nominal.weight*df_nominal.qcd_weight_nom_down, label='_nolegend_')\n",
    "h_up_nom, _, _   = ax.hist(df_nominal[feature], color='C1', bins=bins, linestyle='-', histtype='step', weights=df_nominal.weight*df_nominal.qcd_weight_up_nom)\n",
    "h_down_nom, _, _ = ax.hist(df_nominal[feature], color='C1', bins=bins, linestyle='-', histtype='step', weights=df_nominal.weight*df_nominal.qcd_weight_down_nom, label='_nolegend_')\n",
    "h_up_up, _, _   = ax.hist(df_nominal[feature], color='C2', bins=bins, linestyle='-', histtype='step', weights=df_nominal.weight*df_nominal.qcd_weight_up_up)\n",
    "h_down_down, _, _ = ax.hist(df_nominal[feature], color='C2', bins=bins, linestyle='-', histtype='step', weights=df_nominal.weight*df_nominal.qcd_weight_down_down, label='_nolegend_')\n",
    "ax.set_title(r'QCD scale ($\\sf t\\bar{t}$)')\n",
    "ax.set_ylabel(r'$\\sf N_{entries}$')\n",
    "ax.set_xlim([bins[0], bins[-1]])\n",
    "ax.legend(['nominal', r'$\\mu_{F} \\pm$', r'$\\mu_{R} \\pm$', r'$\\mu_{R}\\pm,\\mu_{F}\\pm$'])\n",
    "ax.grid()\n",
    "\n",
    "ax = axes[1]\n",
    "dx = (b[1:] - b[:-1])/2\n",
    "x = b[:-1] + dx\n",
    "y_nom_up = h_nom_up/h_nominal\n",
    "y_nom_down = h_nom_down/h_nominal\n",
    "y_up_nom = h_up_nom/h_nominal\n",
    "y_down_nom = h_down_nom/h_nominal\n",
    "y_up_up = h_up_up/h_nominal\n",
    "y_down_down = h_down_down/h_nominal\n",
    "ax.plot(x, y_nom_up, '-C0')\n",
    "ax.plot(x, y_nom_down, '-C0')\n",
    "ax.plot(x, y_up_nom, '-C1')\n",
    "ax.plot(x, y_down_nom, '-C1')\n",
    "ax.plot(x, y_up_up, '-C2')\n",
    "ax.plot(x, y_down_down, '-C2')\n",
    "#ax.fill_between(x, y_up, y_down, color = 'C1', alpha=0.5)\n",
    "ax.plot((bins[0], bins[-1]), [1, 1], 'k-')\n",
    "ax.set_ylabel(r'$\\sf \\frac{N_{\\pm}}{N_{0}}$')\n",
    "ax.set_xlabel(feature)\n",
    "ax.grid()\n",
    "\n",
    "plt.tight_layout(rect=[0, 0.03, 1, 0.95])\n",
    "plt.savefig(f'plots/systematics/{selection}_QCD_scale.pdf')\n",
    "plt.show()"
   ]
  },
  {
   "cell_type": "code",
   "execution_count": null,
   "metadata": {
    "code_folding": [
     0
    ]
   },
   "outputs": [],
   "source": [
    "# variations based on event weights (QCD scale, PDF)\n",
    "\n",
    "fig, axes = plt.subplots(2, 1, figsize=(8, 8), facecolor='white', sharex='col', gridspec_kw={'height_ratios':[3,1]})\n",
    "fig.subplots_adjust(hspace=0)\n",
    "\n",
    "ax = axes[0]\n",
    "h_nominal, b, _ = ax.hist(df_nominal[feature], color='k', bins=bins, linestyle='-', histtype='step', weights=df_nominal.weight)\n",
    "h_up, _, _   = ax.hist(df_nominal[feature], color='C0', bins=bins, linestyle='--', histtype='step', weights=df_nominal.weight*(1 + np.sqrt(df_nominal.pdf_var)/np.sqrt(99)))\n",
    "h_down, _, _ = ax.hist(df_nominal[feature], color='C1', bins=bins, linestyle='--', histtype='step', weights=df_nominal.weight*(1 - np.sqrt(df_nominal.pdf_var)/np.sqrt(99)))\n",
    "ax.set_title(r'PDF variation ($\\sf t\\bar{t}$)')\n",
    "ax.set_ylabel(r'$\\sf N_{entries}$')\n",
    "ax.set_xlim([bins[0], bins[-1]])\n",
    "ax.legend(['nominal', r'$+\\sigma_{PDF}$', r'$-\\sigma_{PDF}$'])\n",
    "ax.grid()\n",
    "\n",
    "ax = axes[1]\n",
    "dx = (b[1:] - b[:-1])/2\n",
    "x = b[:-1] + dx\n",
    "y_up = h_up/h_nominal\n",
    "y_down = h_down/h_nominal\n",
    "ax.plot(x, y_up, '--C0')\n",
    "ax.plot(x, y_down, '--C1')\n",
    "#ax.fill_between(x, y_up, y_down, color = 'C1', alpha=0.5)\n",
    "ax.plot((bins[0], bins[-1]), [1, 1], 'k-')\n",
    "ax.set_ylabel(r'$\\sf \\frac{N_{\\pm}}{N_{0}}$')\n",
    "ax.set_xlabel(feature)\n",
    "ax.grid()\n",
    "\n",
    "plt.tight_layout()\n",
    "plt.savefig(f'plots/systematics/{selection}_PDF.pdf')\n",
    "plt.show()"
   ]
  }
 ],
 "metadata": {
  "hide_input": false,
  "kernelspec": {
   "display_name": "Python 3",
   "language": "python",
   "name": "python3"
  },
  "language_info": {
   "codemirror_mode": {
    "name": "ipython",
    "version": 3
   },
   "file_extension": ".py",
   "mimetype": "text/x-python",
   "name": "python",
   "nbconvert_exporter": "python",
   "pygments_lexer": "ipython3",
   "version": "3.6.4"
  },
  "latex_envs": {
   "LaTeX_envs_menu_present": true,
   "autoclose": false,
   "autocomplete": true,
   "bibliofile": "biblio.bib",
   "cite_by": "apalike",
   "current_citInitial": 1,
   "eqLabelWithNumbers": true,
   "eqNumInitial": 1,
   "hotkeys": {
    "equation": "Ctrl-E",
    "itemize": "Ctrl-I"
   },
   "labels_anchors": false,
   "latex_user_defs": false,
   "report_style_numbering": false,
   "user_envs_cfg": false
  },
  "toc": {
   "nav_menu": {},
   "number_sections": true,
   "sideBar": true,
   "skip_h1_title": false,
   "title_cell": "Table of Contents",
   "title_sidebar": "Contents",
   "toc_cell": false,
   "toc_position": {},
   "toc_section_display": true,
   "toc_window_display": false
  }
 },
 "nbformat": 4,
 "nbformat_minor": 2
}
