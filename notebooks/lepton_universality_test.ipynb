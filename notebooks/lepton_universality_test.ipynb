{
 "cells": [
  {
   "cell_type": "markdown",
   "metadata": {},
   "source": [
    "# Testing lepton universality\n",
    "\n",
    "We are interested in quantifying the probability for the data to support several hypothesis:\n",
    "\n",
    "   * _null_: this is the assumption of lepton universality, i.e., $B(W\\rightarrow e) = B(W\\rightarrow \\mu) = B(W\\rightarrow \\tau)$\n",
    "   * _alt 1_: in this case, lepton universality is violated only for third generation leptons, i.e., $B(W\\rightarrow e) = B(W\\rightarrow \\mu) \\neq B(W\\rightarrow \\tau)$\n",
    "   * _alt 2_: in this case, none of the branching fractions are the same and lepton universality completly breaks down, i.e., $B(W\\rightarrow e) \\neq B(W\\rightarrow \\mu) \\neq B(W\\rightarrow \\tau)$\n",
    "   \n",
    "To do this, we carry out the fit to data with the various assumptions and construct the likelihood ratios, $q$ so that we can determine $P(q|data)$.  To determine the p values we will need to first determine the correct pdf for $q$ which can be done by evaluating the fit on toy data constructed assuming the null hypothesis.  Assuming the usual asymptotic approximation applies, Wilk's theorem, the pdf for $q$ will be a $\\chi^{2}_{n}$ distribution with $k=1(2)$ for alternative hypothesis 1(2)."
   ]
  },
  {
   "cell_type": "code",
   "execution_count": 1,
   "metadata": {
    "code_folding": [
     0
    ]
   },
   "outputs": [
    {
     "name": "stdout",
     "output_type": "stream",
     "text": [
      "/home/naodell/work/wbr/analysis\n",
      "{\n",
      "  \"shell_port\": 39921,\n",
      "  \"iopub_port\": 57669,\n",
      "  \"stdin_port\": 36433,\n",
      "  \"control_port\": 59913,\n",
      "  \"hb_port\": 59477,\n",
      "  \"ip\": \"127.0.0.1\",\n",
      "  \"key\": \"bb1c6485-378f2cb8a379ec0660b1fe25\",\n",
      "  \"transport\": \"tcp\",\n",
      "  \"signature_scheme\": \"hmac-sha256\",\n",
      "  \"kernel_name\": \"\"\n",
      "}\n",
      "\n",
      "Paste the above JSON into a file, and connect with:\n",
      "    $> jupyter <app> --existing <file>\n",
      "or, if you are local, you can connect with just:\n",
      "    $> jupyter <app> --existing kernel-896cf9d2-f244-4617-91a5-b22b6a160380.json\n",
      "or even just:\n",
      "    $> jupyter <app> --existing\n",
      "if this is the most recent Jupyter kernel you have started.\n"
     ]
    }
   ],
   "source": [
    "## imports and configuration\n",
    "%cd '/home/naodell/work/wbr/analysis'\n",
    "#%load_ext autoreload\n",
    "\n",
    "from functools import partial\n",
    "import numpy as np\n",
    "import pandas as pd\n",
    "import matplotlib.pyplot as plt\n",
    "import matplotlib\n",
    "from scipy.optimize import minimize\n",
    "from tqdm import tqdm_notebook\n",
    "\n",
    "import scripts.plot_tools as pt\n",
    "import scripts.fit_helpers as fh\n",
    "from nllfit.nllfitter import ScanParameters\n",
    "\n",
    "np.set_printoptions(precision=3)\n",
    "rc_params = {\n",
    "             'figure.figsize': (10, 10),\n",
    "             'axes.labelsize': 20,\n",
    "             'axes.facecolor': 'white',\n",
    "             'axes.titlesize':'x-large',\n",
    "             'legend.fontsize': 20,\n",
    "             'xtick.labelsize':18,\n",
    "             'ytick.labelsize':18,\n",
    "             'font.size':18,\n",
    "             'font.sans-serif':['Arial', 'sans-serif'],\n",
    "             'mathtext.sf':'Arial',\n",
    "             'lines.markersize':8.,\n",
    "             'lines.linewidth':2.5,\n",
    "            }\n",
    "matplotlib.rcParams.update(rc_params)\n",
    "\n",
    "%connect_info"
   ]
  },
  {
   "cell_type": "code",
   "execution_count": 2,
   "metadata": {
    "code_folding": [],
    "scrolled": false
   },
   "outputs": [],
   "source": [
    "# configure, get the input data, and do any additional processing that is needed\n",
    "input_dir  = f'local_data/templates/nominal/'\n",
    "processes = ['ttbar', 't', 'ww', 'wjets', 'zjets_alt', 'diboson', 'fakes'] \n",
    "selections = [\n",
    "              'ee', 'emu', 'mumu',  \n",
    "              'mutau', 'etau', \n",
    "              'mu4j', 'e4j'\n",
    "             ]\n",
    "\n",
    "# initialize fit data\n",
    "fit_data = fh.FitData(input_dir, selections, processes, process_cut=0.1)\n",
    "params = fit_data._parameters\n",
    "params_pre = fit_data.get_params_init().values.copy()\n",
    "sample = {cat:fit_data.mixture_model(params_pre, cat) for cat in fit_data._model_data.keys()}"
   ]
  },
  {
   "cell_type": "code",
   "execution_count": 7,
   "metadata": {},
   "outputs": [],
   "source": [
    "# set up fit configuration\n",
    "# bounds\n",
    "bounds = [(0.1, 0.12), (0.1, 0.12), (0.1, 0.12), (0.64, 0.7)]\n",
    "bounds += [(0.16, 0.18), (0.16, 0.18), (0.64, 0.66)]\n",
    "bounds += fit_data._nnorm*[(0.2, 1.5), ]\n",
    "bounds += fit_data._nshape*[(-2, 2), ]\n",
    "\n",
    "# minimizer options\n",
    "step_sizes = 0.001*params['err_init']\n",
    "step_sizes[:4] = 4*[1e-6,]\n",
    "min_options = dict(#eps=1e-9, \n",
    "                   #xtol=1e-3, \n",
    "                   #ftol=1e-9, \n",
    "                   #stepmx=0.1, \n",
    "                   #maxCGit=50, \n",
    "                   #accuracy=1e-10,\n",
    "                   maxfun=5e4,\n",
    "                   disp=None\n",
    "                  )\n",
    "# configure the objective\n",
    "mask = params['active'].values.astype(bool)\n",
    "fobj = partial(fh.reduced_objective,\n",
    "               params_fixed = params_pre,\n",
    "               mask = mask.copy(),\n",
    "               objective=fit_data.objective,\n",
    "               do_mc_stat = False,\n",
    "               data = None #asimov_data\n",
    "              )\n"
   ]
  },
  {
   "cell_type": "code",
   "execution_count": null,
   "metadata": {
    "scrolled": true
   },
   "outputs": [
    {
     "data": {
      "application/vnd.jupyter.widget-view+json": {
       "model_id": "bc0d803e09fe4db999862b0bbce88346",
       "version_major": 2,
       "version_minor": 0
      },
      "text/plain": [
       "HBox(children=(IntProgress(value=0), HTML(value='')))"
      ]
     },
     "metadata": {},
     "output_type": "display_data"
    },
    {
     "name": "stdout",
     "output_type": "stream",
     "text": [
      " null :  198.8606713458696 10.754034556352753\n",
      " alt. 1:  193.33485364207021 [10.696 10.853]\n",
      " alt. 2:  193.25005328757936 [10.69  10.692 10.858 67.761]\n",
      " null :  222.7112423897991 10.740182067907385\n",
      " alt. 1:  215.30353209685097 [10.757 10.702]\n",
      " alt. 2:  215.05900574904064 [10.759 10.772 10.695 67.773]\n",
      " null :  220.64217574807344 10.805702135630055\n",
      " alt. 1:  216.96192139657867 [10.808 10.798]\n",
      " alt. 2:  216.69684044328295 [10.795 10.823 10.8   67.582]\n",
      " null :  193.02717504788217 10.819889719237139\n",
      " alt. 1:  187.85685074968842 [10.823 10.954]\n",
      " alt. 2:  187.68526558896875 [10.817 10.817 10.96  67.406]\n",
      " null :  268.7261970702531 10.772570723686155\n",
      " alt. 1:  260.7098349173255 [10.775 10.676]\n",
      " alt. 2:  260.48234991965876 [10.766 10.772 10.666 67.796]\n",
      " null :  186.3332002057566 10.775168184174987\n",
      " alt. 1:  184.9524984440072 [10.763 10.808]\n",
      " alt. 2:  184.94567477080903 [10.763 10.763 10.808 67.667]\n",
      " null :  250.1818375485719 10.823149375080266\n",
      " alt. 1:  246.96331138710025 [10.81  10.785]\n",
      " alt. 2:  246.92783234128666 [10.815 10.814 10.781 67.589]\n",
      " null :  228.17532612404105 10.755955553481058\n",
      " alt. 1:  223.03540062078187 [10.75  10.707]\n",
      " alt. 2:  221.61328309399457 [10.78  10.734 10.738 67.749]\n",
      " null :  267.1259105547242 10.770766259555804\n",
      " alt. 1:  260.8957078968424 [10.781 10.729]\n",
      " alt. 2:  260.49998509694274 [10.768 10.792 10.728 67.712]\n",
      " null :  300.02296970785204 10.792821766389002\n"
     ]
    }
   ],
   "source": [
    "# carry out fit for n trials with random offsets for templates\n",
    "ntrials = 10\n",
    "results = dict(null=[], alt1=[], alt2=[])\n",
    "cost = dict(null=[], alt1=[], alt2=[])\n",
    "for _ in tqdm_notebook(range(ntrials)):\n",
    "    \n",
    "    # generate toy dataset\n",
    "    for category, rnums in fit_data._rnum_cache.items():\n",
    "        fit_data._rnum_cache[category]= np.random.randn(rnums.size)\n",
    "        sample[category] = fit_data.mixture_model(params_pre, category, randomize=True)\n",
    "    \n",
    "    # copy initial parameter values\n",
    "    pinit = params_pre[mask].copy()\n",
    "        \n",
    "    # carry out fit for null hypothesis (lepton universality)\n",
    "    fobj_null = partial(fh.objective_lu, objective = fobj, test_type=1)\n",
    "    mask = np.ones(params_pre.size).astype(bool)\n",
    "    mask[1:4] = False\n",
    "    result_null = minimize(fobj_null, pinit[mask],\n",
    "                           method  = 'L-BFGS-B', \n",
    "                           options = min_options,\n",
    "                           bounds  = bounds[0:1] + bounds[4:],\n",
    "                           args = (sample)\n",
    "                          )\n",
    "\n",
    "    print(' null : ', result_null.fun, result_null.x[0]*100)\n",
    "    if result_null.success or result_null.status == 1:\n",
    "        results['null'].append(result_null.x)\n",
    "        cost['null'].append(result_null.fun)\n",
    "    else:\n",
    "        print(result_null)\n",
    "        results['null'].append(np.nan)\n",
    "        cost['null'].append(np.nan)\n",
    "    \n",
    "    # carry out fit for alt1\n",
    "    fobj_alt = partial(fh.objective_lu, objective = fobj, test_type=2)\n",
    "    mask[1] = True\n",
    "    pinit[0:3] = result_null.x[0]\n",
    "    pinit[3] = 1 - 3*result_null.x[0]\n",
    "    pinit[4:] = result_null.x[1:]\n",
    "    result_alt1 = minimize(fobj_alt, pinit[mask],\n",
    "                           method  = 'L-BFGS-B', \n",
    "                           options = min_options,\n",
    "                           bounds  = bounds[0:2] + bounds[4:],\n",
    "                           args = (sample)\n",
    "                          )\n",
    "\n",
    "    print(' alt. 1: ', result_alt1.fun, result_alt1.x[:2]*100)\n",
    "    if result_alt1.success or result_alt1.status == 1:\n",
    "        results['alt1'].append(result_alt1.x)\n",
    "        cost['alt1'].append(result_alt1.fun)\n",
    "    else:\n",
    "        print(result_alt1)\n",
    "        results['alt1'].append(np.nan)\n",
    "        cost['alt1'].append(np.nan)\n",
    "        \n",
    "    # carry out fit for alt2\n",
    "    pinit[0:2] = result_alt1.x[0]\n",
    "    pinit[2] = result_alt1.x[1]\n",
    "    pinit[3] = 1 - pinit[:3].sum()\n",
    "    pinit[4:] = result_alt1.x[2:]\n",
    "    result_alt2 =  minimize(fobj, pinit,\n",
    "                            method = 'L-BFGS-B', \n",
    "                            options = min_options,\n",
    "                            bounds = bounds,\n",
    "                            args   = (sample)\n",
    "                           )\n",
    "\n",
    "    print(' alt. 2: ', result_alt2.fun, result_alt2.x[:4]*100)\n",
    "    if result_alt2.success or result_alt2.status == 1:\n",
    "        results['alt2'].append(result_alt2.x)\n",
    "        cost['alt2'].append(result_alt2.fun)\n",
    "    else:\n",
    "        results['alt2'].append(np.nan)\n",
    "        cost['alt2'].append(np.nan)\n",
    "        print(result)"
   ]
  },
  {
   "cell_type": "code",
   "execution_count": 6,
   "metadata": {
    "scrolled": false
   },
   "outputs": [
    {
     "data": {
      "image/png": "[encoded data removed]",
      "text/plain": [
       "<Figure size 864x576 with 2 Axes>"
      ]
     },
     "metadata": {},
     "output_type": "display_data"
    }
   ],
   "source": [
    "# plot costs\n",
    "\n",
    "fig, axes = plt.subplots(1, 2, figsize=(12, 8), facecolor='white')\n",
    "\n",
    "nll_null = np.array(cost['null'])\n",
    "nll_alt1 = np.array(cost['alt1'])\n",
    "nll_alt2 = np.array(cost['alt2'])\n",
    "\n",
    "ax = axes[0]\n",
    "bins = np.linspace(200, 300, 20)\n",
    "ax.hist(cost['null'], bins, histtype='step', linewidth=2)\n",
    "ax.hist(cost['alt1'], bins, histtype='step', linewidth=2)\n",
    "ax.hist(cost['alt2'], bins, histtype='step', linewidth=2)\n",
    "\n",
    "ax = axes[1]\n",
    "bins = np.linspace(0, 40, 20)\n",
    "q1 = 2*(nll_null - nll_alt1)\n",
    "ax.hist(q1, bins, histtype='step', linewidth=2)\n",
    "q2 = 2*(nll_null - nll_alt2)\n",
    "ax.hist(q2, bins, histtype='step', linewidth=2)\n",
    "\n",
    "plt.tight_layout()\n",
    "plt.show()"
   ]
  },
  {
   "cell_type": "code",
   "execution_count": null,
   "metadata": {},
   "outputs": [],
   "source": []
  }
 ],
 "metadata": {
  "hide_input": false,
  "kernelspec": {
   "display_name": "Python 3",
   "language": "python",
   "name": "python3"
  },
  "language_info": {
   "codemirror_mode": {
    "name": "ipython",
    "version": 3
   },
   "file_extension": ".py",
   "mimetype": "text/x-python",
   "name": "python",
   "nbconvert_exporter": "python",
   "pygments_lexer": "ipython3",
   "version": "3.7.2"
  },
  "latex_envs": {
   "LaTeX_envs_menu_present": true,
   "autoclose": false,
   "autocomplete": true,
   "bibliofile": "biblio.bib",
   "cite_by": "apalike",
   "current_citInitial": 1,
   "eqLabelWithNumbers": true,
   "eqNumInitial": 0,
   "hotkeys": {
    "equation": "Ctrl-E",
    "itemize": "Ctrl-I"
   },
   "labels_anchors": false,
   "latex_user_defs": false,
   "report_style_numbering": false,
   "user_envs_cfg": false
  },
  "toc": {
   "nav_menu": {
    "height": "29px",
    "width": "251px"
   },
   "number_sections": true,
   "sideBar": true,
   "skip_h1_title": false,
   "title_cell": "Table of Contents",
   "title_sidebar": "Contents",
   "toc_cell": false,
   "toc_position": {
    "height": "49px",
    "left": "0px",
    "right": "1493.87px",
    "top": "90.9965px",
    "width": "242px"
   },
   "toc_section_display": false,
   "toc_window_display": false
  },
  "widgets": {
   "state": {
    "012f8bbe2fdb410dae6e2cde9d7fe5cb": {
     "views": []
    },
    "080556076f174648bddf64f17a54c523": {
     "views": []
    },
    "0ad83b5f67484ae5b8fd8dd43ccc39bd": {
     "views": []
    },
    "15acd81a9adc493683d9b63813f000bf": {
     "views": []
    },
    "1840cb6fded848b4ae95ec8d3db15ab2": {
     "views": []
    },
    "1dd83f822e074642ae4255b15ee661cf": {
     "views": []
    },
    "1e71a878e6474912a0efc497ecc5d65b": {
     "views": []
    },
    "2022ed83777b4963b630b5c46239e218": {
     "views": []
    },
    "21c4c57bfc48495194663e6a4fbac488": {
     "views": []
    },
    "22c45c75435348c0b9501d493d69fdca": {
     "views": []
    },
    "2635f668a1af4a9db2642e705d7c73ff": {
     "views": []
    },
    "2ad5ddd9347e451b9290e5b4179ab9a2": {
     "views": []
    },
    "2c062b5778024117984822b63b0593d7": {
     "views": []
    },
    "2f5eab2f6fb24192b76a5ffe99195d44": {
     "views": []
    },
    "31632517325046e8b0cb62e4f4ed2480": {
     "views": []
    },
    "3562b97192ed4d42bbab17f77c290f6b": {
     "views": []
    },
    "38a7cc053723492b921cf9f084ed243c": {
     "views": []
    },
    "3b5750b20e1745879ca0f965aad7b614": {
     "views": []
    },
    "3f1cbabbe2694a9dabe3f1c2e09d0ee2": {
     "views": []
    },
    "3fab6a26a70c4238a668a46d4dc88bf6": {
     "views": []
    },
    "3fb3c7a25e954a4888996976fa107737": {
     "views": []
    },
    "415db64fbc574daea8457ab600392f09": {
     "views": []
    },
    "4463de406b4645a4b562fe7917380ff9": {
     "views": []
    },
    "487e5450b5a24507932709f1fa8f59c1": {
     "views": []
    },
    "48aba73013e74e71927f71d42fb44d14": {
     "views": []
    },
    "4a19ad30f77e4fe6a2c84c8b62378a47": {
     "views": []
    },
    "4bc83ff5270d41679d76d26cdded8313": {
     "views": []
    },
    "4bdd9dd5c5c64646a27fa9096851458b": {
     "views": []
    },
    "5014cd42705f45178d5e6eeffd70f119": {
     "views": []
    },
    "5259b340b68e4fdb97fb4eaf9d98d954": {
     "views": []
    },
    "5986ef5b605a42aca10bc5834529ee06": {
     "views": []
    },
    "5c1aa44589a140eb9709734c843abde6": {
     "views": []
    },
    "600cd9ca4f4c46d4ad6fe57df107675a": {
     "views": [
      {
       "cell_index": 7
      }
     ]
    },
    "61fe369ebdd14eaa89de110f6186e6b7": {
     "views": []
    },
    "62ac836017ae47a38f8fde806c5ec9b7": {
     "views": []
    },
    "632ccbfabe91405aa1c5a77c9ea754db": {
     "views": []
    },
    "66175f618ea5472baac618f998d2c06c": {
     "views": []
    },
    "6647a620af034d26abcd327ae02364d4": {
     "views": []
    },
    "6752222d2cba43e18f344a8db7f99d24": {
     "views": []
    },
    "6b684ba1a7c24a35ba2df77016212904": {
     "views": []
    },
    "6cea898f4aca4f1e84601f843e337238": {
     "views": []
    },
    "6f8d1e87fd60462a89d693b2f3b5f007": {
     "views": []
    },
    "74078646a5eb4047b40370a0ab8b6b30": {
     "views": []
    },
    "745b0c79ff3040788ea952fce9c7d607": {
     "views": []
    },
    "757c9b805eb7445bac9a7f141f87e45f": {
     "views": []
    },
    "76ced68e19a742e8976dbfd4e8594a1a": {
     "views": []
    },
    "783bb5e7538d4d9d8315e2698024b353": {
     "views": []
    },
    "794993d66efe4ab29a8d35aad8cfe079": {
     "views": []
    },
    "8375e24bae7541528d7cdc0f379d1d4c": {
     "views": []
    },
    "8554945ec15041a7bf8004dbc3fc5f11": {
     "views": []
    },
    "878a34e26cce4f18bb8232a682ebe964": {
     "views": []
    },
    "8921a75116a549198eb7b7f4a24ab672": {
     "views": []
    },
    "909f4504f0b049bda8b641defa177062": {
     "views": []
    },
    "910b9d32a3fb45ec99da1f9df1add816": {
     "views": []
    },
    "9d15ce601cd34f0699b7a7a0ce1d17dc": {
     "views": []
    },
    "a26638c9fee247b3891aac027a0918cc": {
     "views": []
    },
    "a9d2bf44a3ad447bb3eecde71363c198": {
     "views": []
    },
    "ad366bf4c95f4cdba62d47ba9501efc9": {
     "views": []
    },
    "ad8e1842ec314a94b6ed4b62c4c0a450": {
     "views": []
    },
    "af525094db304d2a812ae1312b00889b": {
     "views": []
    },
    "b0697c4343da491f9a35bf02681dad8f": {
     "views": []
    },
    "b07ff307919e4268bc8bec8379c47a5d": {
     "views": []
    },
    "b0e85c726ca141079333afb27edc63d4": {
     "views": []
    },
    "bdcc1e5df7a8432b9f40d8249a46f90a": {
     "views": []
    },
    "be1065f37fa24e818d31c3bb075947a3": {
     "views": []
    },
    "c296c8df2f734e268c6c1204536e7142": {
     "views": []
    },
    "c4bfd3e447f0426da144b76abc202129": {
     "views": []
    },
    "cced93184d4445218a2b14567579333d": {
     "views": []
    },
    "d5bd2e4d5f85482e9345f3a7a69380d0": {
     "views": []
    },
    "d798fa64e8be4a7d9ec1cbeece3b1be9": {
     "views": []
    },
    "d7aec0d6d05f442b991ab40af944811d": {
     "views": []
    },
    "db469cea2c8e4180bf6890de80329c1d": {
     "views": []
    },
    "e671857510c54634b6f0fa55bf1fa228": {
     "views": []
    },
    "ebf52deafaf64b0c826533dafdf993c0": {
     "views": []
    },
    "ed1e5439da9c41199a7bbbda21b556f8": {
     "views": []
    },
    "f585cf5db5024280af5b567f0e4fd771": {
     "views": []
    },
    "f6ba8f8800af47adabed847063bda8db": {
     "views": []
    },
    "f9bae72f14e44705b5c38a3ddc69fee8": {
     "views": []
    }
   },
   "version": "1.1.2"
  }
 },
 "nbformat": 4,
 "nbformat_minor": 2
}
