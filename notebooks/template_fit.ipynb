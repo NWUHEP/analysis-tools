{
 "cells": [
  {
   "cell_type": "markdown",
   "metadata": {},
   "source": [
    "# W to tau branching ratios"
   ]
  },
  {
   "cell_type": "code",
   "execution_count": 28,
   "metadata": {},
   "outputs": [
    {
     "name": "stdout",
     "output_type": "stream",
     "text": [
      "/home/naodell/work/CMS/z_plus_jpsi\n"
     ]
    }
   ],
   "source": [
    "%cd '/home/naodell/work/CMS/z_plus_jpsi'\n",
    "%matplotlib notebook\n",
    "\n",
    "from itertools import product\n",
    "from functools import partial\n",
    "\n",
    "import numpy as np\n",
    "import pandas as pd\n",
    "import matplotlib.pyplot as plt\n",
    "from matplotlib.colors import LogNorm\n",
    "from scipy.optimize import minimize\n",
    "from scipy.stats import chi2, beta\n",
    "from tqdm import tqdm_notebook\n",
    "\n",
    "import scripts.plot_tools as pt\n",
    "\n",
    "import matplotlib\n",
    "matplotlib.style.use('default')\n",
    "params = {'legend.fontsize': 20,\n",
    "          'axes.labelsize': 20,\n",
    "          'axes.titlesize':'x-large',\n",
    "          'xtick.labelsize':18,\n",
    "          'ytick.labelsize':18,\n",
    "         }\n",
    "matplotlib.rcParams.update(params)\n",
    "%matplotlib inline"
   ]
  },
  {
   "cell_type": "markdown",
   "metadata": {},
   "source": [
    "Carry out some initial configuration."
   ]
  },
  {
   "cell_type": "code",
   "execution_count": 29,
   "metadata": {
    "collapsed": true
   },
   "outputs": [],
   "source": [
    "ntuple_dir  = 'data/flatuples/emu_baseline_2016'\n",
    "lumi        = 0.945*36.4e3\n",
    "selection   = ('emu', 'ttbar')\n",
    "period      = 2016\n",
    "output_path = 'plots/fits/{0}_{1}'.format('_'.join(selection), period)"
   ]
  },
  {
   "cell_type": "markdown",
   "metadata": {},
   "source": [
    "The goal here is to determine the fraction of $e\\mu$ events, enriched in $t\\bar{t}$ and $tW$, that originate from $W\\rightarrow e/\\mu$ decays or $W\\rightarrow \\tau \\rightarrow e/\\mu$.  Using generator level information, the simulated samples can be split into categories based on the decay process and histogram templates can be generated from these events."
   ]
  },
  {
   "cell_type": "code",
   "execution_count": 30,
   "metadata": {},
   "outputs": [
    {
     "name": "stderr",
     "output_type": "stream",
     "text": [
      "Loading dataframes: 100%|███████████████| 12.0/12.0 [00:03<00:00, 2.89it/s]\n"
     ]
    }
   ],
   "source": [
    "datasets    = [\n",
    "               #'muon_2016B', 'muon_2016C', 'muon_2016D',\n",
    "               #'muon_2016E', 'muon_2016F', 'muon_2016G', 'muon_2016H',\n",
    "               'mueg_2016B', 'mueg_2016C', 'mueg_2016D',\n",
    "               'mueg_2016E', 'mueg_2016F', 'mueg_2016G', 'mueg_2016H',\n",
    "\n",
    "               'ttbar_lep', 't_tw', 'tbar_tw',             \n",
    "               'zjets_m-50',  'zjets_m-10to50',  \n",
    "              ]\n",
    "features = [\n",
    "            'lepton1_pt',  'lepton2_pt', \n",
    "           ]\n",
    "\n",
    "cuts     = 'lepton1_pt > 10 and abs(lepton1_eta) < 2.4 \\\n",
    "            and lepton2_pt > 15 and abs(lepton2_eta) < 2.4 \\\n",
    "            and lepton1_reliso < 0.15 \\\n",
    "            and lepton2_reliso < 0.15 \\\n",
    "            and lepton1_q != lepton2_q \\\n",
    "            and 12 < dilepton1_mass \\\n",
    "            and n_bjets >= 1'\n",
    "\n",
    "dm = pt.DataManager(input_dir     = ntuple_dir,\n",
    "                    dataset_names = datasets,\n",
    "                    selection     = selection[0],\n",
    "                    period        = period,\n",
    "                    scale         = lumi,\n",
    "                    cuts          = cuts\n",
    "                   )\n",
    "\n",
    "data_condition = 'abs(trailing_lepton_flavor) == 11'\n",
    "mc_conditions = [                                                                           \n",
    "                 #'abs(trailing_lepton_mother) == 15 and abs(trailing_lepton_flavor) == 13',\n",
    "                 #'abs(trailing_lepton_mother) == 24 and abs(trailing_lepton_flavor) == 13',\n",
    "                 'abs(trailing_lepton_mother) == 15 and abs(trailing_lepton_flavor) == 11',\n",
    "                 'abs(trailing_lepton_mother) == 24 and abs(trailing_lepton_flavor) == 11',\n",
    "                ]\n",
    "\n",
    "df_combined = dm.get_dataframes(['ttbar'], concat=True)\n",
    "df_split    = [df_combined.query(c) for c in mc_conditions]  \n",
    "df_data     = dm.get_dataframe('data').query(data_condition)"
   ]
  },
  {
   "cell_type": "markdown",
   "metadata": {},
   "source": [
    "First thing will be to get a list of histograms."
   ]
  },
  {
   "cell_type": "code",
   "execution_count": 31,
   "metadata": {},
   "outputs": [
    {
     "data": {
      "application/vnd.jupyter.widget-view+json": {
       "model_id": "fdbbc52dfcc24463ac2a9bec5972e394"
      }
     },
     "metadata": {},
     "output_type": "display_data"
    },
    {
     "name": "stdout",
     "output_type": "stream",
     "text": [
      "\n"
     ]
    }
   ],
   "source": [
    "labels     = ['ttbar', 't']\n",
    "mc_hists   = {}\n",
    "data_hists = {}\n",
    "bins = {}\n",
    "for feature in tqdm_notebook(features):\n",
    "    hist_lut = dm._lut_features.loc[feature]\n",
    "    \n",
    "    ### Get MC histograms\n",
    "    hists = []\n",
    "    for df in df_split:\n",
    "        x = df[feature].values\n",
    "        \n",
    "        # get the binned data\n",
    "        h, _ = np.histogram(x, \n",
    "                            bins    = hist_lut.n_bins, \n",
    "                            range   = (hist_lut.xmin, hist_lut.xmax), \n",
    "                            weights = df['weight']\n",
    "                           )\n",
    "        \n",
    "        # get the bin errors\n",
    "        var, _ = np.histogram(x, \n",
    "                              bins    = hist_lut.n_bins, \n",
    "                              range   = (hist_lut.xmin, hist_lut.xmax), \n",
    "                              weights = df['weight']**2\n",
    "                             )\n",
    "        norm = h.sum()\n",
    "        hists.append([h/norm, var/norm])\n",
    "    mc_hists[feature] = hists\n",
    "    \n",
    "    ### Get data histograms\n",
    "    x = df_data[feature].values\n",
    "    h, b = np.histogram(x, \n",
    "                        bins  = hist_lut.n_bins, \n",
    "                        range = (hist_lut.xmin, hist_lut.xmax), \n",
    "                       )\n",
    "    data_hists[feature] = h\n",
    "    bins[feature] = b"
   ]
  },
  {
   "cell_type": "code",
   "execution_count": 32,
   "metadata": {
    "collapsed": true
   },
   "outputs": [],
   "source": [
    "def objective_chi2(params, templates, target):\n",
    "    hists  = np.array([h[0] for h in templates])\n",
    "    hvar   = np.array([h[1] for h in templates])\n",
    "    y_mc   = np.dot(hists.transpose(), params)\n",
    "    y_var  = np.dot(hvar.transpose(), np.ones(np.size(params)))\n",
    "    y_data = target\n",
    "\n",
    "    y_mc, y_data, y_var = y_mc[y_var > 0], y_data[y_var > 0], y_var[y_var > 0],\n",
    "    a_chi2 = (y_mc - y_data)**2/y_var\n",
    "    cost = np.sum(a_chi2)\n",
    "    return cost\n",
    "\n",
    "def objective_nll(params, templates, data):\n",
    "    f = params[0]*templates[0][data] + (1 - params[0])*templates[1][data]\n",
    "    cost = -np.sum(np.log(f))\n",
    "    return cost\n",
    "\n",
    "def constraint(params):\n",
    "    return 1 - np.sum(params)"
   ]
  },
  {
   "cell_type": "code",
   "execution_count": 33,
   "metadata": {},
   "outputs": [
    {
     "name": "stdout",
     "output_type": "stream",
     "text": [
      "     fun: 174036.69385100587\n",
      "     jac: array([ 0.11914062])\n",
      " message: 'Optimization terminated successfully.'\n",
      "    nfev: 9\n",
      "     nit: 2\n",
      "    njev: 2\n",
      "  status: 0\n",
      " success: True\n",
      "       x: array([ 0.10255058])\n"
     ]
    }
   ],
   "source": [
    "digi_data = np.digitize(df_data['lepton2_pt'].values, bins['lepton2_pt'][:-1]) - 1\n",
    "templates = [h[0] for h in mc_hists['lepton2_pt']]\n",
    "result = minimize(objective_nll, [0.1],                                  \n",
    "                  method      = 'SLSQP',                       \n",
    "                  bounds      = [(0,1),],            \n",
    "                  #constraints = dict(type='eq', fun=constraint),\n",
    "                  args        = (templates, digi_data)\n",
    "                 ) \n",
    "print(result)"
   ]
  },
  {
   "cell_type": "code",
   "execution_count": 36,
   "metadata": {
    "code_folding": []
   },
   "outputs": [
    {
     "data": {
      "image/png": "[encoded data removed]",
      "text/plain": [
       "<matplotlib.figure.Figure at 0x7f3ada44aac8>"
      ]
     },
     "metadata": {},
     "output_type": "display_data"
    }
   ],
   "source": [
    "# scan the objective\n",
    "xx = np.linspace(0.05, 0.15, 1000)\n",
    "dx = (xx[1:] - xx[:-1])\n",
    "nll_scan   = np.array([objective_nll([p], templates, digi_data) for p in xx]) - result.fun\n",
    "dnll_scan  = (nll_scan[1:] - nll_scan[:-1])/dx\n",
    "d2nll_scan = (dnll_scan[1:] - dnll_scan[:-1])/dx[:-1]\n",
    "sig = np.sqrt(1/d2nll_scan[np.argmin(nll_scan)])\n",
    "\n",
    "plt.figure(figsize=(8, 8), facecolor='white')\n",
    "plt.plot(xx, nll_scan)\n",
    "plt.grid()\n",
    "plt.ylim(-5e-3, nll_scan.max())\n",
    "plt.xlabel(r'$\\alpha$')\n",
    "plt.ylabel(r'$\\sf NLL - NLL_{min}$')\n",
    "plt.show()"
   ]
  },
  {
   "cell_type": "code",
   "execution_count": 37,
   "metadata": {
    "code_folding": []
   },
   "outputs": [
    {
     "data": {
      "image/png": "[encoded data removed]",
      "text/plain": [
       "<matplotlib.figure.Figure at 0x7f3adb0849b0>"
      ]
     },
     "metadata": {},
     "output_type": "display_data"
    }
   ],
   "source": [
    "# make the plots\n",
    "fig, axes = plt.subplots(2, 1, figsize=(10, 12), facecolor='white', sharex=True, gridspec_kw={'height_ratios':[3,1]})\n",
    "fig.subplots_adjust(hspace=0)\n",
    "x, y, yerr = pt.hist_to_errorbar(df_data['lepton2_pt'], hist_lut.n_bins, (hist_lut.xmin, hist_lut.xmax))\n",
    "axes[0].errorbar(x, y, yerr,\n",
    "                 fmt        = 'ko',\n",
    "                 capsize    = 0,\n",
    "                 elinewidth = 2\n",
    "                )\n",
    "\n",
    "hdata  = [df['lepton2_pt'].values for df in df_split]\n",
    "h_pre, b, _ = axes[0].hist(hdata, \n",
    "                           bins=hist_lut.n_bins, \n",
    "                           range=(hist_lut.xmin, hist_lut.xmax), \n",
    "                           linewidth=2,\n",
    "                           color=['C9', 'C0'], \n",
    "                           histtype='step', \n",
    "                           stacked=True, \n",
    "                           weights=[df['weight'] for df in df_split]\n",
    "                          )\n",
    "\n",
    "# calculate default mixture and error\n",
    "num = h_pre[0].sum()\n",
    "den = h_pre[-1].sum()\n",
    "alpha0 = num/den\n",
    "alpha0_err = [np.abs(alpha0 - beta.ppf(0.16, num, den - num + 1)), \n",
    "              np.abs(alpha0 - beta.ppf(0.84, num + 1, den - num))]\n",
    "h_post, b, _ = axes[0].hist(hdata, \n",
    "                            bins=hist_lut.n_bins, \n",
    "                            range=(hist_lut.xmin, hist_lut.xmax), \n",
    "                            linewidth=2,\n",
    "                            color=['C3', 'C1'], \n",
    "                            histtype='step', \n",
    "                            linestyle='dashed',\n",
    "                            stacked=True, \n",
    "                            weights=[(result.x[0]/alpha0)*df_split[0]['weight'], (1 - result.x[0])/(1 - alpha0)*df_split[1]['weight']]\n",
    "                           )\n",
    "## calculate ratios\n",
    "herr = np.sqrt(mc_hists['lepton2_pt'][0][1] + mc_hists['lepton2_pt'][1][1]) \n",
    "ratio_pre = y/h_pre[-1]\n",
    "ratio_err = np.sqrt(y/h_pre[-1]**2 + (y*herr/h_pre[-1]**2)**2)\n",
    "axes[1].errorbar(x, ratio_pre, ratio_err,\n",
    "                 fmt        = 'C0o',\n",
    "                 ecolor     = 'C0',\n",
    "                 capsize    = 0,\n",
    "                 elinewidth = 3,\n",
    "                 alpha = 1.\n",
    "                )\n",
    "\n",
    "ratio_post = y/h_post[-1]\n",
    "ratio_err = np.sqrt(y/h_post[-1]**2 + (y*herr/h_post[-1]**2)**2)\n",
    "axes[1].errorbar(x, ratio_post, ratio_err,\n",
    "                 fmt        = 'C1o',\n",
    "                 ecolor     = 'C1',\n",
    "                 capsize    = 0,\n",
    "                 elinewidth = 3,\n",
    "                 alpha = 1.\n",
    "                )\n",
    "\n",
    "axes[1].grid()\n",
    "axes[1].set_xlabel(r'$\\sf p_{T}^{e}$ [GeV]')\n",
    "axes[1].set_ylabel('Data / MC')\n",
    "axes[1].set_ylim(0.5, 1.5)\n",
    "axes[1].legend(['prefit', 'postfit'], loc=1, fontsize=16)\n",
    "axes[1].plot([hist_lut.xmin, hist_lut.xmax], [1, 1], 'r--')\n",
    "\n",
    "axes[0].grid()\n",
    "axes[0].set_ylabel(r'Entries / 5 GeV')\n",
    "axes[0].set_xlim(10, 150)\n",
    "axes[0].legend([r'$W\\rightarrow e$ (prefit)', r'$W\\rightarrow\\tau\\rightarrow e$ (prefit)', \n",
    "                r'$W\\rightarrow e$ (postfit)', r'$W\\rightarrow\\tau\\rightarrow e$ (postfit)', 'data'])\n",
    "\n",
    "axes[0].text(85, 1800, r'$\\alpha_{postfit} = $' + f' {result.x[0]:3.4} +/- {sig:2.2}', {'size':18})\n",
    "axes[0].text(85, 1600, r'$\\alpha_{prefit} = $' + f' {alpha0:3.4} +/- {np.mean(alpha0_err):2.2}', {'size':18})\n",
    "\n",
    "plt.savefig('plots/fit_el_channel.png')\n",
    "plt.show()"
   ]
  },
  {
   "cell_type": "code",
   "execution_count": null,
   "metadata": {
    "collapsed": true
   },
   "outputs": [],
   "source": []
  },
  {
   "cell_type": "code",
   "execution_count": null,
   "metadata": {
    "collapsed": true
   },
   "outputs": [],
   "source": []
  }
 ],
 "metadata": {
  "hide_input": false,
  "kernelspec": {
   "display_name": "Python 3",
   "language": "python",
   "name": "python3"
  },
  "language_info": {
   "codemirror_mode": {
    "name": "ipython",
    "version": 3
   },
   "file_extension": ".py",
   "mimetype": "text/x-python",
   "name": "python",
   "nbconvert_exporter": "python",
   "pygments_lexer": "ipython3",
   "version": "3.6.1"
  },
  "latex_envs": {
   "bibliofile": "biblio.bib",
   "cite_by": "apalike",
   "current_citInitial": 1,
   "eqLabelWithNumbers": true,
   "eqNumInitial": 0
  },
  "toc": {
   "nav_menu": {
    "height": "29px",
    "width": "251px"
   },
   "navigate_menu": true,
   "number_sections": true,
   "sideBar": true,
   "threshold": 4,
   "toc_cell": false,
   "toc_section_display": "block",
   "toc_window_display": false
  },
  "widgets": {
   "state": {
    "012f8bbe2fdb410dae6e2cde9d7fe5cb": {
     "views": []
    },
    "080556076f174648bddf64f17a54c523": {
     "views": []
    },
    "0ad83b5f67484ae5b8fd8dd43ccc39bd": {
     "views": []
    },
    "15acd81a9adc493683d9b63813f000bf": {
     "views": []
    },
    "1840cb6fded848b4ae95ec8d3db15ab2": {
     "views": []
    },
    "1dd83f822e074642ae4255b15ee661cf": {
     "views": []
    },
    "1e71a878e6474912a0efc497ecc5d65b": {
     "views": []
    },
    "2022ed83777b4963b630b5c46239e218": {
     "views": []
    },
    "21c4c57bfc48495194663e6a4fbac488": {
     "views": []
    },
    "22c45c75435348c0b9501d493d69fdca": {
     "views": []
    },
    "2635f668a1af4a9db2642e705d7c73ff": {
     "views": []
    },
    "2ad5ddd9347e451b9290e5b4179ab9a2": {
     "views": []
    },
    "2c062b5778024117984822b63b0593d7": {
     "views": []
    },
    "2f5eab2f6fb24192b76a5ffe99195d44": {
     "views": []
    },
    "31632517325046e8b0cb62e4f4ed2480": {
     "views": []
    },
    "3562b97192ed4d42bbab17f77c290f6b": {
     "views": []
    },
    "38a7cc053723492b921cf9f084ed243c": {
     "views": []
    },
    "3b5750b20e1745879ca0f965aad7b614": {
     "views": []
    },
    "3f1cbabbe2694a9dabe3f1c2e09d0ee2": {
     "views": []
    },
    "3fab6a26a70c4238a668a46d4dc88bf6": {
     "views": []
    },
    "3fb3c7a25e954a4888996976fa107737": {
     "views": []
    },
    "415db64fbc574daea8457ab600392f09": {
     "views": []
    },
    "4463de406b4645a4b562fe7917380ff9": {
     "views": []
    },
    "487e5450b5a24507932709f1fa8f59c1": {
     "views": []
    },
    "48aba73013e74e71927f71d42fb44d14": {
     "views": []
    },
    "4a19ad30f77e4fe6a2c84c8b62378a47": {
     "views": []
    },
    "4bc83ff5270d41679d76d26cdded8313": {
     "views": []
    },
    "4bdd9dd5c5c64646a27fa9096851458b": {
     "views": []
    },
    "5014cd42705f45178d5e6eeffd70f119": {
     "views": []
    },
    "5259b340b68e4fdb97fb4eaf9d98d954": {
     "views": []
    },
    "5986ef5b605a42aca10bc5834529ee06": {
     "views": []
    },
    "5c1aa44589a140eb9709734c843abde6": {
     "views": []
    },
    "600cd9ca4f4c46d4ad6fe57df107675a": {
     "views": [
      {
       "cell_index": 7
      }
     ]
    },
    "61fe369ebdd14eaa89de110f6186e6b7": {
     "views": []
    },
    "62ac836017ae47a38f8fde806c5ec9b7": {
     "views": []
    },
    "632ccbfabe91405aa1c5a77c9ea754db": {
     "views": []
    },
    "66175f618ea5472baac618f998d2c06c": {
     "views": []
    },
    "6647a620af034d26abcd327ae02364d4": {
     "views": []
    },
    "6752222d2cba43e18f344a8db7f99d24": {
     "views": []
    },
    "6b684ba1a7c24a35ba2df77016212904": {
     "views": []
    },
    "6cea898f4aca4f1e84601f843e337238": {
     "views": []
    },
    "6f8d1e87fd60462a89d693b2f3b5f007": {
     "views": []
    },
    "74078646a5eb4047b40370a0ab8b6b30": {
     "views": []
    },
    "745b0c79ff3040788ea952fce9c7d607": {
     "views": []
    },
    "757c9b805eb7445bac9a7f141f87e45f": {
     "views": []
    },
    "76ced68e19a742e8976dbfd4e8594a1a": {
     "views": []
    },
    "783bb5e7538d4d9d8315e2698024b353": {
     "views": []
    },
    "794993d66efe4ab29a8d35aad8cfe079": {
     "views": []
    },
    "8375e24bae7541528d7cdc0f379d1d4c": {
     "views": []
    },
    "8554945ec15041a7bf8004dbc3fc5f11": {
     "views": []
    },
    "878a34e26cce4f18bb8232a682ebe964": {
     "views": []
    },
    "8921a75116a549198eb7b7f4a24ab672": {
     "views": []
    },
    "909f4504f0b049bda8b641defa177062": {
     "views": []
    },
    "910b9d32a3fb45ec99da1f9df1add816": {
     "views": []
    },
    "9d15ce601cd34f0699b7a7a0ce1d17dc": {
     "views": []
    },
    "a26638c9fee247b3891aac027a0918cc": {
     "views": []
    },
    "a9d2bf44a3ad447bb3eecde71363c198": {
     "views": []
    },
    "ad366bf4c95f4cdba62d47ba9501efc9": {
     "views": []
    },
    "ad8e1842ec314a94b6ed4b62c4c0a450": {
     "views": []
    },
    "af525094db304d2a812ae1312b00889b": {
     "views": []
    },
    "b0697c4343da491f9a35bf02681dad8f": {
     "views": []
    },
    "b07ff307919e4268bc8bec8379c47a5d": {
     "views": []
    },
    "b0e85c726ca141079333afb27edc63d4": {
     "views": []
    },
    "bdcc1e5df7a8432b9f40d8249a46f90a": {
     "views": []
    },
    "be1065f37fa24e818d31c3bb075947a3": {
     "views": []
    },
    "c296c8df2f734e268c6c1204536e7142": {
     "views": []
    },
    "c4bfd3e447f0426da144b76abc202129": {
     "views": []
    },
    "cced93184d4445218a2b14567579333d": {
     "views": []
    },
    "d5bd2e4d5f85482e9345f3a7a69380d0": {
     "views": []
    },
    "d798fa64e8be4a7d9ec1cbeece3b1be9": {
     "views": []
    },
    "d7aec0d6d05f442b991ab40af944811d": {
     "views": []
    },
    "db469cea2c8e4180bf6890de80329c1d": {
     "views": []
    },
    "e671857510c54634b6f0fa55bf1fa228": {
     "views": []
    },
    "ebf52deafaf64b0c826533dafdf993c0": {
     "views": []
    },
    "ed1e5439da9c41199a7bbbda21b556f8": {
     "views": []
    },
    "f585cf5db5024280af5b567f0e4fd771": {
     "views": []
    },
    "f6ba8f8800af47adabed847063bda8db": {
     "views": []
    },
    "f9bae72f14e44705b5c38a3ddc69fee8": {
     "views": []
    }
   },
   "version": "1.1.2"
  }
 },
 "nbformat": 4,
 "nbformat_minor": 1
}
