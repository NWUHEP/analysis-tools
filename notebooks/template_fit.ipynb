{
 "cells": [
  {
   "cell_type": "markdown",
   "metadata": {},
   "source": [
    "# 2016 MC cross-section corrections"
   ]
  },
  {
   "cell_type": "code",
   "execution_count": 12,
   "metadata": {
    "collapsed": false
   },
   "outputs": [
    {
     "name": "stdout",
     "output_type": "stream",
     "text": [
      "/home/naodell/work/CMS/amumu\n"
     ]
    }
   ],
   "source": [
    "%cd '/home/naodell/work/CMS/amumu'\n",
    "%matplotlib notebook\n",
    "\n",
    "from itertools import product\n",
    "\n",
    "import numpy as np\n",
    "import pandas as pd\n",
    "import matplotlib.pyplot as plt\n",
    "\n",
    "import nllfitter.plot_tools as pt"
   ]
  },
  {
   "cell_type": "markdown",
   "metadata": {},
   "source": [
    "Carry out some initial configuration."
   ]
  },
  {
   "cell_type": "code",
   "execution_count": 13,
   "metadata": {
    "collapsed": true
   },
   "outputs": [],
   "source": [
    "ntuple_dir  = 'data/flatuples/mumu_2016'\n",
    "lumi        = 36.4e3\n",
    "selection   = ('mumu', 'combined')\n",
    "period      = 2016\n",
    "output_path = 'plots/fits/{0}_{1}'.format('_'.join(selection), period)"
   ]
  },
  {
   "cell_type": "markdown",
   "metadata": {},
   "source": [
    "The predominant samples are ttbar and Drell-Yan.  The Drell-Yan sample should be split into $10 < M < 50$ and $M > 50$.  If it makes sense, I will also apply corrections based on jet multiplicity."
   ]
  },
  {
   "cell_type": "code",
   "execution_count": 14,
   "metadata": {
    "collapsed": true
   },
   "outputs": [],
   "source": [
    "datasets    = [\n",
    "               'ttbar_lep',                      \n",
    "               'zjets_m-50',  'zjets_m-10to50',  \n",
    "               'z1jets_m-50', 'z1jets_m-10to50', \n",
    "               'z2jets_m-50', 'z2jets_m-10to50', \n",
    "               'z3jets_m-50', 'z3jets_m-10to50', \n",
    "               'z4jets_m-50', 'z4jets_m-10to50', \n",
    "              ]"
   ]
  },
  {
   "cell_type": "markdown",
   "metadata": {},
   "source": [
    "The template fit will be carried out over several 1D histograms which are specified here."
   ]
  },
  {
   "cell_type": "code",
   "execution_count": 15,
   "metadata": {
    "collapsed": true
   },
   "outputs": [],
   "source": [
    "features = [\n",
    "            'lepton1_pt', 'lepton1_eta', 'lepton1_phi',\n",
    "            'lepton2_pt', 'lepton2_eta', 'lepton2_phi',\n",
    "            'lepton_delta_eta', 'lepton_delta_phi', 'lepton_delta_r',\n",
    "            'dilepton_mass', 'dilepton_pt', 'dilepton_eta', 'dilepton_phi',\n",
    "\n",
    "            'met_mag',\n",
    "            'n_jets', 'n_fwdjets', 'n_bjets', \n",
    "            #'bjet_pt', 'bjet_eta', 'bjet_phi', 'bjet_d0',\n",
    "            #'jet_pt', 'jet_eta', 'jet_phi', 'jet_d0', \n",
    "            #'dijet_mass', 'dijet_pt', 'dijet_eta', 'dijet_phi', \n",
    "            #'dijet_pt_over_m',\n",
    "\n",
    "            #'lepton1_b_mass', 'lepton1_b_pt', \n",
    "            #'lepton1_b_delta_eta', 'lepton1_b_delta_phi', 'lepton1_b_delta_r',\n",
    "            #'lepton2_b_mass', 'lepton2_b_pt', \n",
    "            #'lepton2_b_delta_eta', 'lepton2_b_delta_phi', 'lepton2_b_delta_r',\n",
    "\n",
    "            #'dilepton_j_mass', 'dilepton_j_pt', \n",
    "            #'dilepton_j_delta_eta', 'dilepton_j_delta_phi', 'dilepton_j_delta_r',\n",
    "            #'dilepton_b_mass', 'dilepton_b_pt', \n",
    "            #'dilepton_b_delta_eta', 'dilepton_b_delta_phi', 'dilepton_b_delta_r',\n",
    "            #'four_body_mass',\n",
    "            #'four_body_delta_phi', 'four_body_delta_eta', 'four_body_delta_r',\n",
    "\n",
    "            #'t_xj', 't_xb', 't_bj'\n",
    "           ]"
   ]
  },
  {
   "cell_type": "markdown",
   "metadata": {},
   "source": [
    "It's important to distinguish between continuously valued and nominal variables since they will need to be preprocessed differently.  A few preselection cuts will be required,"
   ]
  },
  {
   "cell_type": "code",
   "execution_count": 16,
   "metadata": {
    "collapsed": true
   },
   "outputs": [],
   "source": [
    "cuts     = 'lepton1_pt > 25 and abs(lepton1_eta) < 2.1 \\\n",
    "            and lepton2_pt > 25 and abs(lepton2_eta) < 2.1 \\\n",
    "            and lepton1_q != lepton2_q and 12 < dilepton_mass < 70'"
   ]
  },
  {
   "cell_type": "markdown",
   "metadata": {},
   "source": [
    "Now we'll load the data that is saved in flat ntuples using a DataManager class,"
   ]
  },
  {
   "cell_type": "code",
   "execution_count": 17,
   "metadata": {
    "collapsed": false
   },
   "outputs": [
    {
     "name": "stderr",
     "output_type": "stream",
     "text": [
      "Loading dataframes: 100%|███████████████| 11.0/11.0 [00:02<00:00, 3.55it/s]\n"
     ]
    }
   ],
   "source": [
    "data_manager = pt.DataManager(input_dir     = ntuple_dir,\n",
    "                              dataset_names = datasets,\n",
    "                              selection     = selection[0],\n",
    "                              period        = period,\n",
    "                              scale         = lumi,\n",
    "                              cuts          = cuts\n",
    "                             )"
   ]
  },
  {
   "cell_type": "code",
   "execution_count": null,
   "metadata": {
    "collapsed": true
   },
   "outputs": [],
   "source": []
  }
 ],
 "metadata": {
  "hide_input": false,
  "kernelspec": {
   "display_name": "Python 2",
   "language": "python",
   "name": "python2"
  },
  "language_info": {
   "codemirror_mode": {
    "name": "ipython",
    "version": 2
   },
   "file_extension": ".py",
   "mimetype": "text/x-python",
   "name": "python",
   "nbconvert_exporter": "python",
   "pygments_lexer": "ipython2",
   "version": "2.7.12"
  },
  "latex_envs": {
   "bibliofile": "biblio.bib",
   "cite_by": "apalike",
   "current_citInitial": 1,
   "eqLabelWithNumbers": true,
   "eqNumInitial": 0
  },
  "toc": {
   "nav_menu": {
    "height": "29px",
    "width": "251px"
   },
   "navigate_menu": true,
   "number_sections": true,
   "sideBar": true,
   "threshold": 4,
   "toc_cell": false,
   "toc_section_display": "block",
   "toc_window_display": false
  }
 },
 "nbformat": 4,
 "nbformat_minor": 0
}
