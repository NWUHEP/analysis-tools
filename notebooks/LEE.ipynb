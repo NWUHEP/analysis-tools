{
 "cells": [
  {
   "cell_type": "markdown",
   "metadata": {},
   "source": [
    "# Look Elsewhere Effect (Gross-Vitells)"
   ]
  },
  {
   "cell_type": "markdown",
   "metadata": {},
   "source": [
    "When searching for new physics, there are typically a number of search parameters for which the values are not known a priori.  This leads to considering a range of possible values for the parameters that will increase the probability of observing a large statistical fluctuation.  A method proposed by Gross and Vitells ([arXiv:1105.4355](https://arxiv.org/abs/1105.4355)) allows the estimation of how the likelihood ratio distribution changes with increasing search dimensions.\n",
    "\n",
    "As a prerequisite to this notebook, review this [notebook](https://github.com/naodell/amumu/blob/master/notebooks/hgg_fit_example.ipynb) which goes through the steps of fitting toy data.  We can use this example as a starting point.\n",
    "\n",
    "Let's set up the environment:"
   ]
  },
  {
   "cell_type": "code",
   "execution_count": 3,
   "metadata": {
    "collapsed": true
   },
   "outputs": [],
   "source": [
    "import numpy as np\n",
    "from nllfitter import Parameters, ScanParameters, Model, NLLFitter\n",
    "import nllfitter.fit_tools as ft\n",
    "import nllfitter.lookee as lee\n",
    "%matplotlib inline"
   ]
  },
  {
   "cell_type": "markdown",
   "metadata": {},
   "source": [
    "The first step is to fit to the data so we can generate simulated data and calculate our local significance.  "
   ]
  },
  {
   "cell_type": "code",
   "execution_count": 8,
   "metadata": {
    "collapsed": true
   },
   "outputs": [],
   "source": [
    "xlimits    = (100., 180.)\n",
    "data, n_total = ft.get_data('../data/toy_hgammagamma.txt', 'diphoton_mass', xlimits)\n",
    "\n",
    "bg_params = Parameters()\n",
    "bg_params.add_many(\n",
    "                   ('a1', 0., True, None, None, None),\n",
    "                   ('a2', 0., True, None, None, None),\n",
    "                   ('a3', 0., True, None, None, None)\n",
    "\n",
    "                  )\n",
    "\n",
    "bg_model  = Model(ft.bg_pdf, bg_params)\n",
    "bg_fitter = NLLFitter(bg_model, verbose=False)\n",
    "bg_result = bg_fitter.fit(data)\n",
    "\n",
    "sig_params = Parameters()\n",
    "sig_params.add_many(\n",
    "                    ('A'     , 0.01  , True , 0.0 , 1.   , None),\n",
    "                    ('mu'    , -0.5 , True , -0.8 , 0.8  , None),\n",
    "                    ('sigma' , 0.03 , True , 0.02 , 1.   , None)\n",
    "                   )\n",
    "sig_params += bg_params.copy()\n",
    "\n",
    "sig_model  = Model(ft.sig_pdf, sig_params)\n",
    "sig_fitter = NLLFitter(sig_model, verbose=False)\n",
    "sig_result = sig_fitter.fit(data)\n",
    "\n",
    "qmax = 2*(bg_model.calc_nll(data) - sig_model.calc_nll(data))"
   ]
  },
  {
   "cell_type": "markdown",
   "metadata": {},
   "source": [
    "The local significance (assuming [Wilk's Theorem](https://en.wikipedia.org/wiki/Likelihood-ratio_test#Distribution:_Wilks.E2.80.99_theorem) holds) is given by $z_{0} = \\sqrt{\\hat{q}}$ which is,"
   ]
  },
  {
   "cell_type": "code",
   "execution_count": 9,
   "metadata": {
    "collapsed": false
   },
   "outputs": [
    {
     "name": "stdout",
     "output_type": "stream",
     "text": [
      "4.01872677279\n"
     ]
    }
   ],
   "source": [
    "print np.sqrt(qmax)"
   ]
  },
  {
   "cell_type": "code",
   "execution_count": null,
   "metadata": {
    "collapsed": true
   },
   "outputs": [],
   "source": []
  }
 ],
 "metadata": {
  "kernelspec": {
   "display_name": "Python 2",
   "language": "python",
   "name": "python2"
  },
  "language_info": {
   "codemirror_mode": {
    "name": "ipython",
    "version": 2
   },
   "file_extension": ".py",
   "mimetype": "text/x-python",
   "name": "python",
   "nbconvert_exporter": "python",
   "pygments_lexer": "ipython2",
   "version": "2.7.11"
  }
 },
 "nbformat": 4,
 "nbformat_minor": 0
}
