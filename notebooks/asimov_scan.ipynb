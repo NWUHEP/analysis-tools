{
 "cells": [
  {
   "cell_type": "markdown",
   "metadata": {},
   "source": [
    "# bias studies with full systematics\n",
    "\n",
    "To assess the impact of various sources of systematic, we will rely on an Asimov dataset."
   ]
  },
  {
   "cell_type": "code",
   "execution_count": 1,
   "metadata": {
    "ExecuteTime": {
     "end_time": "2020-01-09T22:40:49.316152Z",
     "start_time": "2020-01-09T22:40:49.075642Z"
    },
    "code_folding": [
     0
    ],
    "scrolled": false
   },
   "outputs": [
    {
     "name": "stdout",
     "output_type": "stream",
     "text": [
      "/home/naodell/work/wbr/analysis\n",
      "{\n",
      "  \"shell_port\": 34637,\n",
      "  \"iopub_port\": 42685,\n",
      "  \"stdin_port\": 38799,\n",
      "  \"control_port\": 55721,\n",
      "  \"hb_port\": 49051,\n",
      "  \"ip\": \"127.0.0.1\",\n",
      "  \"key\": \"9ec83b2f-03e6cf090f8d5ea9bbe91867\",\n",
      "  \"transport\": \"tcp\",\n",
      "  \"signature_scheme\": \"hmac-sha256\",\n",
      "  \"kernel_name\": \"\"\n",
      "}\n",
      "\n",
      "Paste the above JSON into a file, and connect with:\n",
      "    $> jupyter <app> --existing <file>\n",
      "or, if you are local, you can connect with just:\n",
      "    $> jupyter <app> --existing kernel-07a9a759-cd42-4667-bbc7-5bcac74c2757.json\n",
      "or even just:\n",
      "    $> jupyter <app> --existing\n",
      "if this is the most recent Jupyter kernel you have started.\n"
     ]
    }
   ],
   "source": [
    "## imports and configuration\n",
    "%cd '/home/naodell/work/wbr/analysis'\n",
    "#%load_ext autoreload\n",
    "\n",
    "from functools import partial\n",
    "import numpy as np\n",
    "import pandas as pd\n",
    "import matplotlib.pyplot as plt\n",
    "import matplotlib\n",
    "from scipy.optimize import minimize, basinhopping\n",
    "from scipy.stats import norm\n",
    "from tqdm import tqdm_notebook\n",
    "\n",
    "import scripts.plot_tools as pt\n",
    "import scripts.fit_helpers as fh\n",
    "from nllfit.nllfitter import ScanParameters\n",
    "\n",
    "np.set_printoptions(precision=4)\n",
    "rc_params = {\n",
    "             'figure.figsize': (10, 10),\n",
    "             'axes.labelsize': 20,\n",
    "             'axes.facecolor': 'white',\n",
    "             'axes.titlesize':'x-large',\n",
    "             'legend.fontsize': 20,\n",
    "             'xtick.labelsize':20,\n",
    "             'ytick.labelsize':20,\n",
    "             'font.size':18,\n",
    "             'font.sans-serif':['Arial', 'sans-serif'],\n",
    "             'mathtext.sf':'Arial',\n",
    "             'lines.markersize':8.,\n",
    "             'lines.linewidth':2.5,\n",
    "            }\n",
    "matplotlib.rcParams.update(rc_params)\n",
    "\n",
    "%connect_info"
   ]
  },
  {
   "cell_type": "code",
   "execution_count": 2,
   "metadata": {
    "ExecuteTime": {
     "end_time": "2020-01-09T22:40:55.403323Z",
     "start_time": "2020-01-09T22:40:49.317491Z"
    },
    "code_folding": [],
    "scrolled": false
   },
   "outputs": [],
   "source": [
    "# configure, get the input data, and do any additional processing that is needed\n",
    "input_dir  = f'local_data/templates/updated_e_sf/'\n",
    "processes = ['ttbar', 't', 'ww', 'wjets', 'zjets_alt', 'diboson', 'fakes'] \n",
    "selections = [\n",
    "              'ee', 'mumu',  \n",
    "              'emu', \n",
    "              'mutau', 'etau', \n",
    "              'mu4j', 'e4j'\n",
    "             ]\n",
    "plot_labels = fh.fancy_labels\n",
    "\n",
    "# initialize fit data\n",
    "fit_data = fh.FitData(input_dir, selections, processes, process_cut=0.01)\n",
    "params = fit_data._parameters\n",
    "params_pre = fit_data.get_params_init().values.copy()"
   ]
  },
  {
   "cell_type": "code",
   "execution_count": 3,
   "metadata": {
    "ExecuteTime": {
     "end_time": "2020-01-09T22:40:55.408163Z",
     "start_time": "2020-01-09T22:40:55.405070Z"
    },
    "code_folding": []
   },
   "outputs": [],
   "source": [
    "# generate scan points\n",
    "beta_scan_vals = ScanParameters(['beta_e', 'beta_mu', 'beta_tau'], \n",
    "                                [(0.104, 0.118), (0.104, 0.118), (0.104, 0.118)], \n",
    "                                [5, 5, 5]\n",
    "                                )\n",
    "scan_vals = np.array(beta_scan_vals.get_scan_vals()[0])\n",
    "beta_h = np.transpose([1 - np.sum(scan_vals, axis=1)])\n",
    "scan_vals = np.hstack((scan_vals, beta_h, np.outer(np.ones(scan_vals.shape[0]), params_pre[4:])))"
   ]
  },
  {
   "cell_type": "code",
   "execution_count": null,
   "metadata": {
    "ExecuteTime": {
     "start_time": "2020-01-09T22:40:49.121Z"
    },
    "code_folding": [],
    "scrolled": true
   },
   "outputs": [
    {
     "data": {
      "application/vnd.jupyter.widget-view+json": {
       "model_id": "de986e43866f4552ac42bbb377c4a292",
       "version_major": 2,
       "version_minor": 0
      },
      "text/plain": [
       "HBox(children=(IntProgress(value=0, max=125), HTML(value='')))"
      ]
     },
     "metadata": {},
     "output_type": "display_data"
    },
    {
     "name": "stdout",
     "output_type": "stream",
     "text": [
      "Warning: Desired error not necessarily achieved due to precision loss.\n",
      "         Current function value: 967.446425\n",
      "         Iterations: 3\n",
      "         Function evaluations: 102\n",
      "         Gradient evaluations: 91\n",
      "  False 2346.5852124301464 2762.465131912174 967.4464250984739\n",
      " scan vals:  [0.104 0.104 0.104 0.688]\n",
      " fit vals: [0.1075 0.1076 0.1084 0.6765]\n",
      "\n",
      "Warning: Desired error not necessarily achieved due to precision loss.\n",
      "         Current function value: 388.558345\n",
      "         Iterations: 3\n",
      "         Function evaluations: 70\n",
      "         Gradient evaluations: 61\n",
      "  False 2346.5852124301464 2663.047667597568 388.5583450262343\n",
      " scan vals:  [0.104  0.104  0.1075 0.6845]\n",
      " fit vals: [0.1055 0.1069 0.1096 0.678 ]\n",
      "\n",
      "Warning: Desired error not necessarily achieved due to precision loss.\n",
      "         Current function value: 765.399963\n",
      "         Iterations: 7\n",
      "         Function evaluations: 226\n",
      "         Gradient evaluations: 205\n",
      "  False 2346.5852124301464 2590.7084557400462 765.3999627656359\n",
      " scan vals:  [0.104 0.104 0.111 0.681]\n",
      " fit vals: [0.106  0.1077 0.1082 0.6781]\n",
      "\n",
      "Warning: Desired error not necessarily achieved due to precision loss.\n",
      "         Current function value: 731.447938\n",
      "         Iterations: 9\n",
      "         Function evaluations: 98\n",
      "         Gradient evaluations: 84\n",
      "  False 2346.5852124301464 2544.9677998589004 731.4479377141527\n",
      " scan vals:  [0.104  0.104  0.1145 0.6775]\n",
      " fit vals: [0.1059 0.1073 0.1115 0.6753]\n",
      "\n"
     ]
    }
   ],
   "source": [
    "# carry out the scan #\n",
    "\n",
    "# minimizer options\n",
    "min_options = dict(\n",
    "                   #eps=1e-10,\n",
    "                   #gtol=1e-2, \n",
    "                   disp=True\n",
    "                  )\n",
    "\n",
    "results = []\n",
    "cost = []\n",
    "sv_accept = []\n",
    "mask = fit_data._pmask.copy()\n",
    "pinit = params_pre[mask]\n",
    "for sv in tqdm_notebook(scan_vals):\n",
    "    \n",
    "    # randomize n.p.\n",
    "    #mask[:4] = False\n",
    "    #np_random = params_pre[mask] + fit_data._perr_init[mask]*np.random.randn(mask.sum())\n",
    "    #fit_data._pval_init[mask] = np_random\n",
    "    ##sv[mask] = np_random\n",
    "    #mask[:4] = True\n",
    "    \n",
    "    # generate data from scan values w/ statistical variation\n",
    "    sample = dict()\n",
    "    for category in fit_data._categories:\n",
    "        val, var = fit_data.mixture_model(sv, category)\n",
    "        #sample[category] = [np.random.poisson(val), val]\n",
    "        sample[category] = [val, val]\n",
    "\n",
    "    # carry out minimization\n",
    "    result = minimize(fit_data.objective, pinit,\n",
    "                      method  = 'BFGS', \n",
    "                      options = min_options,\n",
    "                      jac     = fit_data.objective_jacobian,\n",
    "                      args    = (sample)\n",
    "                     )\n",
    "    print(' ', result.success, fit_data.objective(pinit), fit_data.objective(sv[mask]), result.fun)\n",
    "    #print(' jacobian: ', result.jac)\n",
    "    #print(' init vals: ', pinit)\n",
    "    #print(' nps: ', np_random)\n",
    "    print(' scan vals: ', sv[:4])\n",
    "    print(' fit vals:', result.x[:4], end='\\n\\n')\n",
    "\n",
    "    results.append(result.x)\n",
    "    cost.append(result.fun)\n",
    "    sv_accept.append(sv[mask])\n",
    "    "
   ]
  },
  {
   "cell_type": "code",
   "execution_count": null,
   "metadata": {
    "ExecuteTime": {
     "start_time": "2020-01-09T22:40:49.134Z"
    },
    "code_folding": [
     0
    ]
   },
   "outputs": [],
   "source": [
    "#calculate biases\n",
    "results = np.array(results)\n",
    "sv_accept = np.array(sv_accept)\n",
    "cost = np.array(cost)\n",
    "\n",
    "diff = (results - sv_accept)\n",
    "diff[:,:4] /= 0.01*pinit[:4]\n",
    "#diff[:,:4] /= 0.01*sv_accept[:,:4]\n",
    "diff[:,4:diff.shape[1]] /= params['err_init'][4:diff.shape[1]].values\n",
    "\n",
    "#diff = np.array([d for d in diff if np.all((d > -10) & (d < 10))])"
   ]
  },
  {
   "cell_type": "code",
   "execution_count": null,
   "metadata": {
    "ExecuteTime": {
     "start_time": "2020-01-09T22:40:49.144Z"
    },
    "code_folding": [
     0
    ]
   },
   "outputs": [],
   "source": [
    "# plot the cost\n",
    "fig, ax = plt.subplots(1, 1, figsize=(10, 10), facecolor='white')\n",
    "\n",
    "cost = cost[cost<600]\n",
    "cost_mean, cost_err = cost.mean(), cost.std()\n",
    "ax.hist(cost, bins=np.linspace(np.max([0, cost_mean - 5*cost_err]), cost_mean + 5*cost_err, 25), histtype='stepfilled')\n",
    "ax.set_xlabel(r'$NLL_{fit}$')\n",
    "ax.set_ylabel('Entries')\n",
    "\n",
    "plt.show()"
   ]
  },
  {
   "cell_type": "code",
   "execution_count": null,
   "metadata": {
    "ExecuteTime": {
     "start_time": "2020-01-09T22:40:49.158Z"
    },
    "code_folding": [
     0
    ]
   },
   "outputs": [],
   "source": [
    "# branching fraction scans\n",
    "fig, axes = plt.subplots(2, 2, figsize=(10, 10), facecolor='white', sharex=False, sharey=False)\n",
    "\n",
    "beta_val = sv_accept[:,:4]\n",
    "beta_obs = results[:,:4]\n",
    "\n",
    "ax = axes[0][0]\n",
    "ax.plot(beta_val[:,0], beta_obs[:,0], 'C0o', alpha=0.1)\n",
    "ax.plot([0.1, 0.12], [0.1, 0.12], 'r:')\n",
    "ax.set_xlim(0.102, 0.12)\n",
    "ax.set_ylim(0.102, 0.12)\n",
    "ax.set_ylabel(r'$B_{obs.}$')\n",
    "ax.set_title(r'$W\\rightarrow e$', size=20)\n",
    "\n",
    "ax = axes[0][1]\n",
    "ax.plot(beta_val[:,1], beta_obs[:,1], 'C0o', alpha=0.1)\n",
    "ax.plot([0.1, 0.12], [0.1, 0.12], 'r:')\n",
    "ax.set_xlim(0.102, 0.12)\n",
    "ax.set_ylim(0.102, 0.12)\n",
    "ax.set_title(r'$W\\rightarrow\\mu$', size=20)\n",
    "\n",
    "ax = axes[1][0]\n",
    "ax.plot(beta_val[:,2], beta_obs[:,2], 'C0o', alpha=0.1)\n",
    "ax.plot([0.1, 0.12], [0.1, 0.12], 'r:')\n",
    "ax.set_xlim(0.102, 0.12)\n",
    "ax.set_ylim(0.102, 0.12)\n",
    "ax.set_ylabel(r'$B_{obs.}$')\n",
    "ax.set_xlabel(r'$B_{true}$')\n",
    "ax.set_title(r'$W\\rightarrow\\tau$', size=20)\n",
    "\n",
    "ax = axes[1][1]\n",
    "ax.plot(beta_val[:,3], beta_obs[:,3], 'C0o', alpha=0.1)\n",
    "ax.plot([0.64, 0.72], [0.64, 0.72], 'r:')\n",
    "ax.set_xlim(0.64, 0.695)\n",
    "ax.set_ylim(0.64, 0.695)\n",
    "ax.set_xlabel(r'$B_{true}$')\n",
    "ax.set_title(r'$W\\rightarrow h$', size=20)\n",
    "\n",
    "plt.tight_layout()\n",
    "plt.savefig('plots/systematics/bias_tests/beta_scan.pdf')\n",
    "plt.show()"
   ]
  },
  {
   "cell_type": "code",
   "execution_count": null,
   "metadata": {
    "ExecuteTime": {
     "start_time": "2020-01-09T22:40:49.170Z"
    },
    "code_folding": [
     0
    ]
   },
   "outputs": [],
   "source": [
    "# branching fraction scans\n",
    "fig, axes = plt.subplots(2, 2, figsize=(10, 10), facecolor='white', sharex=True, sharey=False)\n",
    "bins = np.linspace(-5, 5, 80)\n",
    "\n",
    "ax = axes[0][0]\n",
    "dbeta = 100*(beta_obs[:,0] - beta_val[:,0])/beta_val[:,0]\n",
    "ax.hist(dbeta, bins[::2], alpha=0.9, density=True)\n",
    "ax.plot(bins, norm.pdf(bins, loc=dbeta.mean(), scale=dbeta.std()))\n",
    "ax.text(0.1, 0.9, r'$\\mu =$' + f'{dbeta.mean():.3f}', transform=ax.transAxes)\n",
    "ax.text(0.1, 0.8, r'$\\sigma =$' + f'{dbeta.std():.3f}', transform=ax.transAxes)\n",
    "ax.set_xlim(-5., 5.)\n",
    "ax.set_ylim(0., None)\n",
    "ax.set_ylabel('trial')\n",
    "ax.set_title(r'$W\\rightarrow e$', size=20)\n",
    "\n",
    "ax = axes[0][1]\n",
    "dbeta = 100*(beta_obs[:,1] - beta_val[:,1])/beta_val[:,1]\n",
    "ax.hist(dbeta, bins[::2], alpha=0.9, density=True)\n",
    "ax.plot(bins, norm.pdf(bins, loc=dbeta.mean(), scale=dbeta.std()))\n",
    "ax.text(0.1, 0.9, r'$\\mu =$' + f'{dbeta.mean():.3f}', transform=ax.transAxes)\n",
    "ax.text(0.1, 0.8, r'$\\sigma =$' + f'{dbeta.std():.3f}', transform=ax.transAxes)\n",
    "ax.set_title(r'$W\\rightarrow\\mu$', size=20)\n",
    "\n",
    "ax = axes[1][0]\n",
    "dbeta = 100*(beta_obs[:,2] - beta_val[:,2])/beta_val[:,2]\n",
    "ax.hist(dbeta, bins[::2], alpha=0.9, density=True)\n",
    "ax.plot(bins, norm.pdf(bins, loc=dbeta.mean(), scale=dbeta.std()))\n",
    "ax.text(0.1, 0.9, r'$\\mu =$' + f'{dbeta.mean():.3f}', transform=ax.transAxes)\n",
    "ax.text(0.1, 0.8, r'$\\sigma =$' + f'{dbeta.std():.3f}', transform=ax.transAxes)\n",
    "ax.set_ylabel('trial')\n",
    "ax.set_xlabel(r'$\\frac{B_{obs} - B_{true}}{B_{true}}$ (%)')\n",
    "ax.set_title(r'$W\\rightarrow\\tau$', size=20)\n",
    "\n",
    "ax = axes[1][1]\n",
    "dbeta = 100*(beta_obs[:,3] - beta_val[:,3])/beta_val[:,3]\n",
    "ax.hist(dbeta, bins[::2], alpha=0.9, density=True)\n",
    "ax.plot(bins, norm.pdf(bins, loc=dbeta.mean(), scale=dbeta.std()))\n",
    "ax.text(0.1, 0.9, r'$\\mu =$' + f'{dbeta.mean():.3f}', transform=ax.transAxes)\n",
    "ax.text(0.1, 0.8, r'$\\sigma =$' + f'{dbeta.std():.3f}', transform=ax.transAxes)\n",
    "ax.set_xlabel(r'$\\frac{B_{obs} - B_{true}}{B_{true}}$ (%)')\n",
    "ax.set_title(r'$W\\rightarrow h$', size=20)\n",
    "\n",
    "plt.tight_layout()\n",
    "plt.savefig('plots/systematics/bias_tests/beta_bias.pdf')\n",
    "plt.show()"
   ]
  },
  {
   "cell_type": "code",
   "execution_count": null,
   "metadata": {
    "ExecuteTime": {
     "start_time": "2020-01-09T22:40:49.181Z"
    },
    "code_folding": [
     0
    ],
    "scrolled": false
   },
   "outputs": [],
   "source": [
    "#plotting the results\n",
    "fig, axes = plt.subplots(2, 1, figsize=(30, 15), facecolor='white', sharex=True, gridspec_kw={'height_ratios':[3,1]})\n",
    "\n",
    "df_pulls = pd.read_csv('local_data/pulls.csv').query('active == True')\n",
    "df_pulls.loc[:3, 'ratio'] *= 100\n",
    "df_pulls = df_pulls.set_index('name')\n",
    "#df_pulls = df_pulls.drop('top_pt')\n",
    "pull_post = (df_pulls['val_fit'] - df_pulls['val_init'])/df_pulls['err_init']\n",
    "\n",
    "nparams = params[mask].shape[0]\n",
    "xticks = np.outer(np.arange(nparams), np.ones(diff.shape[0])).T\n",
    "ax = axes[0]\n",
    "ax.plot(xticks+1,  diff, 'ko', alpha=0.1, markersize=4, )\n",
    "ax.errorbar(xticks[0]+1,  diff.mean(axis=0), diff.std(axis=0), fmt='C0o', capsize=10, elinewidth=5)\n",
    "ax.errorbar(xticks[0]+1,  pull_post.values, df_pulls['ratio'], fmt='C1o', capsize=10, elinewidth=5)\n",
    "ax.fill_between([-0.5, nparams+0.5], [-1, -1], [1, 1], color='C0', alpha=0.25)\n",
    "#ax.boxplot(diff)\n",
    "\n",
    "# extra dressing\n",
    "ax.set_ylabel(r'$\\delta\\theta_{post}/\\delta\\theta_{pre}$')\n",
    "ax.set_xlim(3.5, nparams+0.5)\n",
    "ax.set_ylim(-2.5, 2.5)\n",
    "ax.grid(linestyle='--', axis='y')\n",
    "\n",
    "ax = axes[1]\n",
    "err_ratio = diff.std(axis=0)/df_pulls['ratio'].values\n",
    "ax.plot(xticks[0]+1,  err_ratio, 'ko', alpha=0.9, markersize=10)\n",
    "#ax.errorbar(xticks[0]+1,  diff.mean(axis=0), , fmt='C0o', capsize=10, elinewidth=5)\n",
    "\n",
    "ax.set_xticks(xticks[0]+1)\n",
    "ax.set_xticklabels(params[mask].label, size=24)\n",
    "plt.setp(ax.xaxis.get_majorticklabels(), rotation=90)\n",
    "\n",
    "ax.set_ylabel(r'toys/$\\mathcal{H}_{NLL}$')\n",
    "ax.set_ylim(0.25, 1.75)\n",
    "ax.grid(linestyle='--', axis='y')\n",
    "\n",
    "plt.tight_layout()\n",
    "plt.savefig('plots/new_pulls.pdf')\n",
    "plt.show()"
   ]
  },
  {
   "cell_type": "code",
   "execution_count": null,
   "metadata": {
    "ExecuteTime": {
     "start_time": "2020-01-09T22:40:49.192Z"
    },
    "code_folding": [
     0
    ]
   },
   "outputs": [],
   "source": [
    "#plotting the results\n",
    "fig, ax = plt.subplots(1, 1, figsize=(10, 10), facecolor='white')\n",
    "\n",
    "xticks = np.outer(np.arange(4), np.ones(diff.shape[0])).T\n",
    "ax.plot(xticks+1,  diff[:,:4], 'ko', alpha=0.1, markersize=4)\n",
    "#ax.boxplot(diff)\n",
    "ax.errorbar(xticks[0,:4]+1,  diff[:,:4].mean(axis=0), diff[:,:4].std(axis=0), fmt='C0o', capsize=10, elinewidth=5)\n",
    "ax.fill_between([-0.5, nparams+0.5], [-1, -1], [1, 1], color='C0', alpha=0.25)\n",
    "\n",
    "print(diff[:,:4].std(axis=0))\n",
    "\n",
    "# extra dressing\n",
    "ax.set_xticks(xticks[0,:4]+1)\n",
    "ax.set_xticklabels(params.label[:4], size=24)\n",
    "plt.setp(ax.xaxis.get_majorticklabels(), rotation=90)\n",
    "\n",
    "ax.set_ylabel(r'$\\delta\\theta/\\theta$ (%)')\n",
    "ax.set_xlim(0.5, nparams+0.5)\n",
    "ax.set_xlim(0.5, 4.5)\n",
    "ax.set_ylim(-2.5, 2.5)\n",
    "ax.grid(linestyle='--', axis='y')\n",
    "\n",
    "plt.tight_layout()\n",
    "plt.savefig('plots/systematics/bias_tests/beta.pdf')\n",
    "plt.show()"
   ]
  },
  {
   "cell_type": "code",
   "execution_count": null,
   "metadata": {
    "ExecuteTime": {
     "start_time": "2020-01-09T22:40:49.203Z"
    },
    "code_folding": [
     0
    ]
   },
   "outputs": [],
   "source": [
    "#plotting the results\n",
    "fig, ax = plt.subplots(1, 1, figsize=(15, 10), facecolor='white')\n",
    "\n",
    "ip_low, ip_high = 4, 7 + fit_data._nnorm\n",
    "xticks = np.outer(np.arange(ip_high-ip_low), np.ones(diff.shape[0])).T\n",
    "diff_trim = diff[:, ip_low:ip_high]\n",
    "ax.plot(xticks+1,  diff_trim, 'ko', alpha=0.1, markersize=4, )\n",
    "ax.errorbar(xticks[0]+1,  diff_trim.mean(axis=0), diff_trim.std(axis=0), fmt='C0o', capsize=10, elinewidth=5)\n",
    "\n",
    "# extra dressing\n",
    "ax.fill_between([0.5, ip_high - ip_low + 0.5], [-1, -1], [1, 1], color='C0', alpha=0.25)\n",
    "\n",
    "ax.set_xticks(xticks[0]+1)\n",
    "ax.set_xticklabels(params.label[ip_low:ip_high], size=24)\n",
    "plt.setp(ax.xaxis.get_majorticklabels(), rotation=90)\n",
    "\n",
    "ax.set_ylabel(r'$\\sigma_{toys}/\\sigma_{pre}$')\n",
    "ax.set_xlim(0.5, ip_high - ip_low + 0.5)\n",
    "ax.set_ylim(-2.5, 2.5)\n",
    "ax.grid(linestyle='--', axis='y')\n",
    "\n",
    "plt.tight_layout()\n",
    "plt.savefig('plots/systematics/bias_tests/norm_params.pdf')\n",
    "plt.show()"
   ]
  },
  {
   "cell_type": "code",
   "execution_count": null,
   "metadata": {
    "ExecuteTime": {
     "start_time": "2020-01-09T22:40:49.211Z"
    },
    "code_folding": [
     0
    ]
   },
   "outputs": [],
   "source": [
    "#plotting the results\n",
    "fig, ax = plt.subplots(1, 1, figsize=(20, 10), facecolor='white')\n",
    "\n",
    "ip_low, ip_high = 18, 46\n",
    "xticks = np.outer(np.arange(ip_high-ip_low), np.ones(diff.shape[0])).T\n",
    "diff_trim = diff[:, ip_low:ip_high]\n",
    "ax.plot(xticks+1,  diff_trim, 'ko', alpha=0.1, markersize=4, )\n",
    "ax.errorbar(xticks[0]+1,  diff_trim.mean(axis=0), diff_trim.std(axis=0), fmt='C0o', capsize=10, elinewidth=5)\n",
    "\n",
    "# extra dressing\n",
    "ax.fill_between([0.5, ip_high - ip_low + 0.5], [-1, -1], [1, 1], color='C0', alpha=0.25)\n",
    "\n",
    "ax.set_xticks(xticks[0]+1)\n",
    "ax.set_xticklabels(params.label[ip_low:ip_high], size=24)\n",
    "plt.setp(ax.xaxis.get_majorticklabels(), rotation=90)\n",
    "\n",
    "ax.set_ylabel(r'$\\sigma_{toys}/\\sigma_{pre}$')\n",
    "ax.set_xlim(0.5, ip_high - ip_low + 0.5)\n",
    "ax.set_ylim(-2.5, 2.5)\n",
    "ax.grid(linestyle='--', axis='y')\n",
    "\n",
    "plt.tight_layout()\n",
    "plt.savefig('plots/systematics/bias_tests/shape_reco_params.pdf')\n",
    "plt.show()"
   ]
  },
  {
   "cell_type": "code",
   "execution_count": null,
   "metadata": {
    "ExecuteTime": {
     "start_time": "2020-01-09T22:40:49.220Z"
    },
    "code_folding": []
   },
   "outputs": [],
   "source": [
    "#plotting the results\n",
    "fig, ax = plt.subplots(1, 1, figsize=(20, 10), facecolor='white')\n",
    "\n",
    "ip_low, ip_high = 47, 65\n",
    "xticks = np.outer(np.arange(ip_high-ip_low), np.ones(diff.shape[0])).T\n",
    "diff_trim = diff[:, ip_low:ip_high]\n",
    "ax.plot(xticks+1,  diff_trim, 'ko', alpha=0.1, markersize=4, )\n",
    "ax.errorbar(xticks[0]+1,  diff_trim.mean(axis=0), diff_trim.std(axis=0), fmt='C0o', capsize=10, elinewidth=5)\n",
    "\n",
    "# extra dressing\n",
    "ax.fill_between([0.5, ip_high - ip_low + 0.5], [-1, -1], [1, 1], color='C0', alpha=0.25)\n",
    "\n",
    "ax.set_xticks(xticks[0]+1)\n",
    "ax.set_xticklabels(params.label[ip_low:ip_high], size=24)\n",
    "plt.setp(ax.xaxis.get_majorticklabels(), rotation=90)\n",
    "\n",
    "ax.set_ylabel(r'$\\sigma_{toys}/\\sigma_{pre}$')\n",
    "ax.set_xlim(0.5, ip_high - ip_low + 0.5)\n",
    "ax.set_ylim(-2.5, 2.5)\n",
    "ax.grid(linestyle='--', axis='y')\n",
    "\n",
    "plt.tight_layout()\n",
    "plt.savefig('plots/systematics/bias_tests/shape_btag_params.pdf')\n",
    "plt.show()"
   ]
  },
  {
   "cell_type": "code",
   "execution_count": null,
   "metadata": {
    "ExecuteTime": {
     "start_time": "2020-01-09T22:40:49.229Z"
    },
    "code_folding": [
     0
    ]
   },
   "outputs": [],
   "source": [
    "#plotting the results\n",
    "fig, ax = plt.subplots(1, 1, figsize=(20, 10), facecolor='white')\n",
    "\n",
    "ip_low, ip_high = 65, 84\n",
    "xticks = np.outer(np.arange(ip_high-ip_low), np.ones(diff.shape[0])).T\n",
    "diff_trim = diff[:, ip_low:ip_high]\n",
    "ax.plot(xticks+1,  diff_trim, 'ko', alpha=0.1, markersize=4, )\n",
    "ax.errorbar(xticks[0]+1,  diff_trim.mean(axis=0), diff_trim.std(axis=0), fmt='C0o', capsize=10, elinewidth=5)\n",
    "\n",
    "# extra dressing\n",
    "ax.fill_between([0.5, ip_high - ip_low + 0.5], [-1, -1], [1, 1], color='C0', alpha=0.25)\n",
    "\n",
    "ax.set_xticks(xticks[0]+1)\n",
    "ax.set_xticklabels(params.label[ip_low:ip_high], size=24)\n",
    "plt.setp(ax.xaxis.get_majorticklabels(), rotation=90)\n",
    "\n",
    "ax.set_ylabel(r'$\\sigma_{toys}/\\sigma_{pre}$')\n",
    "ax.set_xlim(0.5, ip_high - ip_low + 0.5)\n",
    "ax.set_ylim(-2.5, 2.5)\n",
    "ax.grid(linestyle='--', axis='y')\n",
    "\n",
    "plt.tight_layout()\n",
    "plt.savefig('plots/systematics/bias_tests/shape_jes_params.pdf')\n",
    "plt.show()"
   ]
  },
  {
   "cell_type": "code",
   "execution_count": null,
   "metadata": {},
   "outputs": [],
   "source": []
  }
 ],
 "metadata": {
  "hide_input": false,
  "kernelspec": {
   "display_name": "Python 3",
   "language": "python",
   "name": "python3"
  },
  "language_info": {
   "codemirror_mode": {
    "name": "ipython",
    "version": 3
   },
   "file_extension": ".py",
   "mimetype": "text/x-python",
   "name": "python",
   "nbconvert_exporter": "python",
   "pygments_lexer": "ipython3",
   "version": "3.7.2"
  },
  "latex_envs": {
   "LaTeX_envs_menu_present": true,
   "autoclose": false,
   "autocomplete": true,
   "bibliofile": "biblio.bib",
   "cite_by": "apalike",
   "current_citInitial": 1,
   "eqLabelWithNumbers": true,
   "eqNumInitial": 0,
   "hotkeys": {
    "equation": "Ctrl-E",
    "itemize": "Ctrl-I"
   },
   "labels_anchors": false,
   "latex_user_defs": false,
   "report_style_numbering": false,
   "user_envs_cfg": false
  },
  "toc": {
   "nav_menu": {
    "height": "29px",
    "width": "251px"
   },
   "number_sections": true,
   "sideBar": true,
   "skip_h1_title": false,
   "title_cell": "Table of Contents",
   "title_sidebar": "Contents",
   "toc_cell": false,
   "toc_position": {
    "height": "49px",
    "left": "0px",
    "right": "1493.87px",
    "top": "90.9965px",
    "width": "242px"
   },
   "toc_section_display": false,
   "toc_window_display": false
  },
  "varInspector": {
   "cols": {
    "lenName": 16,
    "lenType": 16,
    "lenVar": 40
   },
   "kernels_config": {
    "python": {
     "delete_cmd_postfix": "",
     "delete_cmd_prefix": "del ",
     "library": "var_list.py",
     "varRefreshCmd": "print(var_dic_list())"
    },
    "r": {
     "delete_cmd_postfix": ") ",
     "delete_cmd_prefix": "rm(",
     "library": "var_list.r",
     "varRefreshCmd": "cat(var_dic_list()) "
    }
   },
   "position": {
    "height": "677.85px",
    "left": "1071px",
    "right": "20px",
    "top": "170px",
    "width": "659px"
   },
   "types_to_exclude": [
    "module",
    "function",
    "builtin_function_or_method",
    "instance",
    "_Feature"
   ],
   "window_display": false
  },
  "widgets": {
   "state": {
    "012f8bbe2fdb410dae6e2cde9d7fe5cb": {
     "views": []
    },
    "080556076f174648bddf64f17a54c523": {
     "views": []
    },
    "0ad83b5f67484ae5b8fd8dd43ccc39bd": {
     "views": []
    },
    "15acd81a9adc493683d9b63813f000bf": {
     "views": []
    },
    "1840cb6fded848b4ae95ec8d3db15ab2": {
     "views": []
    },
    "1dd83f822e074642ae4255b15ee661cf": {
     "views": []
    },
    "1e71a878e6474912a0efc497ecc5d65b": {
     "views": []
    },
    "2022ed83777b4963b630b5c46239e218": {
     "views": []
    },
    "21c4c57bfc48495194663e6a4fbac488": {
     "views": []
    },
    "22c45c75435348c0b9501d493d69fdca": {
     "views": []
    },
    "2635f668a1af4a9db2642e705d7c73ff": {
     "views": []
    },
    "2ad5ddd9347e451b9290e5b4179ab9a2": {
     "views": []
    },
    "2c062b5778024117984822b63b0593d7": {
     "views": []
    },
    "2f5eab2f6fb24192b76a5ffe99195d44": {
     "views": []
    },
    "31632517325046e8b0cb62e4f4ed2480": {
     "views": []
    },
    "3562b97192ed4d42bbab17f77c290f6b": {
     "views": []
    },
    "38a7cc053723492b921cf9f084ed243c": {
     "views": []
    },
    "3b5750b20e1745879ca0f965aad7b614": {
     "views": []
    },
    "3f1cbabbe2694a9dabe3f1c2e09d0ee2": {
     "views": []
    },
    "3fab6a26a70c4238a668a46d4dc88bf6": {
     "views": []
    },
    "3fb3c7a25e954a4888996976fa107737": {
     "views": []
    },
    "415db64fbc574daea8457ab600392f09": {
     "views": []
    },
    "4463de406b4645a4b562fe7917380ff9": {
     "views": []
    },
    "487e5450b5a24507932709f1fa8f59c1": {
     "views": []
    },
    "48aba73013e74e71927f71d42fb44d14": {
     "views": []
    },
    "4a19ad30f77e4fe6a2c84c8b62378a47": {
     "views": []
    },
    "4bc83ff5270d41679d76d26cdded8313": {
     "views": []
    },
    "4bdd9dd5c5c64646a27fa9096851458b": {
     "views": []
    },
    "5014cd42705f45178d5e6eeffd70f119": {
     "views": []
    },
    "5259b340b68e4fdb97fb4eaf9d98d954": {
     "views": []
    },
    "5986ef5b605a42aca10bc5834529ee06": {
     "views": []
    },
    "5c1aa44589a140eb9709734c843abde6": {
     "views": []
    },
    "600cd9ca4f4c46d4ad6fe57df107675a": {
     "views": [
      {
       "cell_index": 7
      }
     ]
    },
    "61fe369ebdd14eaa89de110f6186e6b7": {
     "views": []
    },
    "62ac836017ae47a38f8fde806c5ec9b7": {
     "views": []
    },
    "632ccbfabe91405aa1c5a77c9ea754db": {
     "views": []
    },
    "66175f618ea5472baac618f998d2c06c": {
     "views": []
    },
    "6647a620af034d26abcd327ae02364d4": {
     "views": []
    },
    "6752222d2cba43e18f344a8db7f99d24": {
     "views": []
    },
    "6b684ba1a7c24a35ba2df77016212904": {
     "views": []
    },
    "6cea898f4aca4f1e84601f843e337238": {
     "views": []
    },
    "6f8d1e87fd60462a89d693b2f3b5f007": {
     "views": []
    },
    "74078646a5eb4047b40370a0ab8b6b30": {
     "views": []
    },
    "745b0c79ff3040788ea952fce9c7d607": {
     "views": []
    },
    "757c9b805eb7445bac9a7f141f87e45f": {
     "views": []
    },
    "76ced68e19a742e8976dbfd4e8594a1a": {
     "views": []
    },
    "783bb5e7538d4d9d8315e2698024b353": {
     "views": []
    },
    "794993d66efe4ab29a8d35aad8cfe079": {
     "views": []
    },
    "8375e24bae7541528d7cdc0f379d1d4c": {
     "views": []
    },
    "8554945ec15041a7bf8004dbc3fc5f11": {
     "views": []
    },
    "878a34e26cce4f18bb8232a682ebe964": {
     "views": []
    },
    "8921a75116a549198eb7b7f4a24ab672": {
     "views": []
    },
    "909f4504f0b049bda8b641defa177062": {
     "views": []
    },
    "910b9d32a3fb45ec99da1f9df1add816": {
     "views": []
    },
    "9d15ce601cd34f0699b7a7a0ce1d17dc": {
     "views": []
    },
    "a26638c9fee247b3891aac027a0918cc": {
     "views": []
    },
    "a9d2bf44a3ad447bb3eecde71363c198": {
     "views": []
    },
    "ad366bf4c95f4cdba62d47ba9501efc9": {
     "views": []
    },
    "ad8e1842ec314a94b6ed4b62c4c0a450": {
     "views": []
    },
    "af525094db304d2a812ae1312b00889b": {
     "views": []
    },
    "b0697c4343da491f9a35bf02681dad8f": {
     "views": []
    },
    "b07ff307919e4268bc8bec8379c47a5d": {
     "views": []
    },
    "b0e85c726ca141079333afb27edc63d4": {
     "views": []
    },
    "bdcc1e5df7a8432b9f40d8249a46f90a": {
     "views": []
    },
    "be1065f37fa24e818d31c3bb075947a3": {
     "views": []
    },
    "c296c8df2f734e268c6c1204536e7142": {
     "views": []
    },
    "c4bfd3e447f0426da144b76abc202129": {
     "views": []
    },
    "cced93184d4445218a2b14567579333d": {
     "views": []
    },
    "d5bd2e4d5f85482e9345f3a7a69380d0": {
     "views": []
    },
    "d798fa64e8be4a7d9ec1cbeece3b1be9": {
     "views": []
    },
    "d7aec0d6d05f442b991ab40af944811d": {
     "views": []
    },
    "db469cea2c8e4180bf6890de80329c1d": {
     "views": []
    },
    "e671857510c54634b6f0fa55bf1fa228": {
     "views": []
    },
    "ebf52deafaf64b0c826533dafdf993c0": {
     "views": []
    },
    "ed1e5439da9c41199a7bbbda21b556f8": {
     "views": []
    },
    "f585cf5db5024280af5b567f0e4fd771": {
     "views": []
    },
    "f6ba8f8800af47adabed847063bda8db": {
     "views": []
    },
    "f9bae72f14e44705b5c38a3ddc69fee8": {
     "views": []
    }
   },
   "version": "1.1.2"
  }
 },
 "nbformat": 4,
 "nbformat_minor": 2
}
