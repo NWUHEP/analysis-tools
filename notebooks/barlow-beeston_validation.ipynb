{
 "cells": [
  {
   "cell_type": "markdown",
   "metadata": {},
   "source": [
    "# Barlow-Beeston method for MC stats in the likelihood\n",
    "\n",
    "Here I'm going to test out the method laid out in section 5 of Conway (arXiv:1103.0354).  The section describes a method for accounting for statistical uncertainty on MC templates in a binned MLE fit.  The idea is that there is a nuisance parameter assigned to each bin ($\\beta_{i}$) that can be solved for within the likelihood using the relation,\n",
    "\n",
    "$$\n",
    "\\beta^{2} + (\\mu\\sigma_{\\beta}^{2} - 1) - n\\sigma_{\\beta}^{2} = 0.\n",
    "$$\n",
    "\n",
    "That is, while other n.p. and parameters of interest are determined using a numerical gradient descent, the additional n.p. corresponding to statistical uncertainty can be solved analytically (assuming a Gaussian constraint)."
   ]
  },
  {
   "cell_type": "code",
   "execution_count": 1,
   "metadata": {
    "ExecuteTime": {
     "end_time": "2019-10-22T03:25:05.303156Z",
     "start_time": "2019-10-22T03:25:05.057830Z"
    },
    "code_folding": [
     0
    ]
   },
   "outputs": [
    {
     "name": "stdout",
     "output_type": "stream",
     "text": [
      "/home/naodell/work/wbr/analysis\n",
      "{\n",
      "  \"shell_port\": 53597,\n",
      "  \"iopub_port\": 50841,\n",
      "  \"stdin_port\": 40101,\n",
      "  \"control_port\": 35779,\n",
      "  \"hb_port\": 51587,\n",
      "  \"ip\": \"127.0.0.1\",\n",
      "  \"key\": \"a116da4c-e36b57168b4e8bfe0e3c30e5\",\n",
      "  \"transport\": \"tcp\",\n",
      "  \"signature_scheme\": \"hmac-sha256\",\n",
      "  \"kernel_name\": \"\"\n",
      "}\n",
      "\n",
      "Paste the above JSON into a file, and connect with:\n",
      "    $> jupyter <app> --existing <file>\n",
      "or, if you are local, you can connect with just:\n",
      "    $> jupyter <app> --existing kernel-44ff29aa-8dc1-4a8c-b33e-ea08141ae527.json\n",
      "or even just:\n",
      "    $> jupyter <app> --existing\n",
      "if this is the most recent Jupyter kernel you have started.\n"
     ]
    }
   ],
   "source": [
    "## imports and configuration\n",
    "%cd '/home/naodell/work/wbr/analysis'\n",
    "#%load_ext autoreload\n",
    "\n",
    "from functools import partial\n",
    "import numpy as np\n",
    "import pandas as pd\n",
    "import matplotlib.pyplot as plt\n",
    "import matplotlib\n",
    "from scipy.optimize import minimize\n",
    "from tqdm import tqdm_notebook\n",
    "\n",
    "import scripts.plot_tools as pt\n",
    "import scripts.fit_helpers as fh\n",
    "from nllfit.nllfitter import ScanParameters\n",
    "\n",
    "np.set_printoptions(precision=3)\n",
    "rc_params = {\n",
    "             'figure.figsize': (10, 10),\n",
    "             'axes.labelsize': 20,\n",
    "             'axes.facecolor': 'white',\n",
    "             'axes.titlesize':'x-large',\n",
    "             'legend.fontsize': 20,\n",
    "             'xtick.labelsize':18,\n",
    "             'ytick.labelsize':18,\n",
    "             'font.size':18,\n",
    "             'font.sans-serif':['Arial', 'sans-serif'],\n",
    "             'mathtext.sf':'Arial',\n",
    "             'lines.markersize':8.,\n",
    "             'lines.linewidth':2.5,\n",
    "            }\n",
    "matplotlib.rcParams.update(rc_params)\n",
    "\n",
    "%connect_info"
   ]
  },
  {
   "cell_type": "code",
   "execution_count": 14,
   "metadata": {
    "ExecuteTime": {
     "end_time": "2019-10-22T07:19:13.712387Z",
     "start_time": "2019-10-22T07:19:00.973022Z"
    },
    "code_folding": [],
    "scrolled": false
   },
   "outputs": [],
   "source": [
    "# configure, get the input data, and do any additional processing that is needed\n",
    "input_dir  = f'local_data/templates/updated_e_sf/'\n",
    "processes = ['ttbar', 't', 'ww', 'wjets', 'zjets_alt', 'diboson', 'fakes'] \n",
    "selections = [\n",
    "              'ee', 'emu', 'mumu',  \n",
    "              'mutau', 'etau', \n",
    "              'mu4j', 'e4j'\n",
    "             ]\n",
    "\n",
    "# initialize fit data\n",
    "fit_data = fh.FitData(input_dir, selections, processes, process_cut=0.01)\n",
    "params = fit_data._parameters\n",
    "params_pre = fit_data.get_params_init().values.copy()"
   ]
  },
  {
   "cell_type": "code",
   "execution_count": 3,
   "metadata": {
    "ExecuteTime": {
     "end_time": "2019-10-22T03:25:10.789327Z",
     "start_time": "2019-10-22T03:25:10.774969Z"
    }
   },
   "outputs": [],
   "source": [
    "# set up fit configuration\n",
    "# minimizer options\n",
    "min_options = dict(#eps=1e-9, \n",
    "                   gtol = 1e-2,\n",
    "                   disp = True\n",
    "                  )\n",
    "\n",
    "# configure the objective\n",
    "fit_data._pmask[4:] = False\n",
    "mask = fit_data._pmask.copy()\n",
    "sample = {cat:fit_data.mixture_model(params_pre, cat) for cat in fit_data._model_data.keys()}\n",
    "fobj = partial(fit_data.objective,\n",
    "               data = sample,\n",
    "               do_bb_lite = False,\n",
    "              )\n",
    "\n",
    "fobj_jac = partial(fit_data.objective_jacobian,\n",
    "                   data = sample,\n",
    "                   do_bb_lite = False,\n",
    "                  )"
   ]
  },
  {
   "cell_type": "code",
   "execution_count": 4,
   "metadata": {
    "ExecuteTime": {
     "end_time": "2019-10-22T03:25:11.724133Z",
     "start_time": "2019-10-22T03:25:10.791384Z"
    }
   },
   "outputs": [
    {
     "name": "stdout",
     "output_type": "stream",
     "text": [
      "Optimization terminated successfully.\n",
      "         Current function value: -0.000000\n",
      "         Iterations: 0\n",
      "         Function evaluations: 1\n",
      "         Gradient evaluations: 1\n",
      "[10.8 10.8 10.8 67.6] [0.109 0.093 0.517 0.078]\n"
     ]
    },
    {
     "name": "stderr",
     "output_type": "stream",
     "text": [
      "/home/naodell/opt/anaconda3/lib/python3.7/site-packages/numdifftools/limits.py:182: FutureWarning: arrays to stack must be passed as a \"sequence\" type such as list or tuple. Support for non-sequence iterables such as generators is deprecated as of NumPy 1.16 and will raise an error in the future.\n",
      "  f_del = np.vstack(list(np.ravel(r)) for r in sequence)\n",
      "/home/naodell/opt/anaconda3/lib/python3.7/site-packages/numdifftools/limits.py:184: FutureWarning: arrays to stack must be passed as a \"sequence\" type such as list or tuple. Support for non-sequence iterables such as generators is deprecated as of NumPy 1.16 and will raise an error in the future.\n",
      "  for step in steps)\n"
     ]
    }
   ],
   "source": [
    "# Asimov dataset and stats only fit\n",
    "result_stat = minimize(fobj, params_pre[:4],\n",
    "                       jac = fobj_jac,\n",
    "                       method = 'BFGS', \n",
    "                       options = min_options,\n",
    "                      )\n",
    "\n",
    "# calculate covariance matrix from the inverse of the Hessian of the NLL\n",
    "stderr_stat, _ = fh.calculate_covariance(fobj, params_pre[:4])\n",
    "print(result_stat.x*100, stderr_stat*100/params_pre[:4])"
   ]
  },
  {
   "cell_type": "code",
   "execution_count": 5,
   "metadata": {
    "ExecuteTime": {
     "end_time": "2019-10-22T03:25:12.678469Z",
     "start_time": "2019-10-22T03:25:11.725844Z"
    }
   },
   "outputs": [
    {
     "name": "stdout",
     "output_type": "stream",
     "text": [
      "Optimization terminated successfully.\n",
      "         Current function value: -0.000000\n",
      "         Iterations: 0\n",
      "         Function evaluations: 1\n",
      "         Gradient evaluations: 1\n",
      "[10.8 10.8 10.8 67.6] [0.076 0.065 0.438 0.068]\n"
     ]
    },
    {
     "name": "stderr",
     "output_type": "stream",
     "text": [
      "/home/naodell/opt/anaconda3/lib/python3.7/site-packages/numdifftools/limits.py:182: FutureWarning: arrays to stack must be passed as a \"sequence\" type such as list or tuple. Support for non-sequence iterables such as generators is deprecated as of NumPy 1.16 and will raise an error in the future.\n",
      "  f_del = np.vstack(list(np.ravel(r)) for r in sequence)\n",
      "/home/naodell/opt/anaconda3/lib/python3.7/site-packages/numdifftools/limits.py:184: FutureWarning: arrays to stack must be passed as a \"sequence\" type such as list or tuple. Support for non-sequence iterables such as generators is deprecated as of NumPy 1.16 and will raise an error in the future.\n",
      "  for step in steps)\n"
     ]
    }
   ],
   "source": [
    "# carry out the fit with bb\n",
    "fobj.keywords['do_bb_lite'] = True\n",
    "fobj_jac.keywords['do_bb_lite'] = True\n",
    "result_stat_mc = minimize(fobj, params_pre[:4],\n",
    "                          jac = fobj_jac,\n",
    "                          method = 'BFGS', \n",
    "                          options = min_options,\n",
    "                         )\n",
    "\n",
    "# calculate covariance matrix from the inverse of the Hessian of the NLL\n",
    "stderr_mc_stat, _ = fh.calculate_covariance(fobj, params_pre[:4])\n",
    "print(result_stat_mc.x*100, np.sqrt(stderr_mc_stat**2 - stderr_stat**2)*100/params_pre[:4])"
   ]
  },
  {
   "cell_type": "code",
   "execution_count": 9,
   "metadata": {
    "ExecuteTime": {
     "end_time": "2019-10-22T04:28:16.871795Z",
     "start_time": "2019-10-22T04:14:09.686530Z"
    },
    "scrolled": true
   },
   "outputs": [
    {
     "data": {
      "application/vnd.jupyter.widget-view+json": {
       "model_id": "abe45284c4bf4167a97db492280adcac",
       "version_major": 2,
       "version_minor": 0
      },
      "text/plain": [
       "HBox(children=(IntProgress(value=0, max=50), HTML(value='')))"
      ]
     },
     "metadata": {},
     "output_type": "display_data"
    },
    {
     "name": "stdout",
     "output_type": "stream",
     "text": [
      "Optimization terminated successfully.\n",
      "         Current function value: 255.821321\n",
      "         Iterations: 8\n",
      "         Function evaluations: 14\n",
      "         Gradient evaluations: 14\n",
      "256.172814589012 255.82132115337154 [0.108 0.108 0.108 0.676]\n",
      "Optimization terminated successfully.\n",
      "         Current function value: 217.105614\n",
      "         Iterations: 7\n",
      "         Function evaluations: 12\n",
      "         Gradient evaluations: 12\n",
      "218.32101880107737 217.10561426708347 [0.108 0.108 0.109 0.675]\n",
      "Optimization terminated successfully.\n",
      "         Current function value: 280.024728\n",
      "         Iterations: 7\n",
      "         Function evaluations: 13\n",
      "         Gradient evaluations: 13\n",
      "280.7049464706269 280.0247283207761 [0.108 0.108 0.108 0.676]\n",
      "Optimization terminated successfully.\n",
      "         Current function value: 288.853319\n",
      "         Iterations: 7\n",
      "         Function evaluations: 13\n",
      "         Gradient evaluations: 13\n",
      "289.9769165143251 288.853319063352 [0.108 0.108 0.109 0.675]\n",
      "Optimization terminated successfully.\n",
      "         Current function value: 262.587488\n",
      "         Iterations: 8\n",
      "         Function evaluations: 12\n",
      "         Gradient evaluations: 12\n",
      "263.36704871878493 262.5874877712898 [0.108 0.108 0.109 0.675]\n",
      "Optimization terminated successfully.\n",
      "         Current function value: 291.882787\n",
      "         Iterations: 8\n",
      "         Function evaluations: 16\n",
      "         Gradient evaluations: 16\n",
      "292.26363089022965 291.8827868778035 [0.108 0.108 0.108 0.676]\n",
      "Warning: Desired error not necessarily achieved due to precision loss.\n",
      "         Current function value: 229.667278\n",
      "         Iterations: 8\n",
      "         Function evaluations: 132\n",
      "         Gradient evaluations: 119\n",
      "229.71404609667616 229.66727794527958 [0.108 0.108 0.108 0.676]\n",
      "      fun: 229.66727794527958\n",
      " hess_inv: array([[ 1.396e-08, -1.939e-10, -1.334e-08, -4.289e-10],\n",
      "       [-1.939e-10,  1.005e-08, -1.443e-08,  4.575e-09],\n",
      "       [-1.334e-08, -1.443e-08,  3.096e-07, -2.818e-07],\n",
      "       [-4.289e-10,  4.575e-09, -2.818e-07,  2.777e-07]])\n",
      "      jac: array([-0.041, -0.063, -0.024, -0.001])\n",
      "  message: 'Desired error not necessarily achieved due to precision loss.'\n",
      "     nfev: 132\n",
      "      nit: 8\n",
      "     njev: 119\n",
      "   status: 2\n",
      "  success: False\n",
      "        x: array([0.108, 0.108, 0.108, 0.676])\n",
      "Optimization terminated successfully.\n",
      "         Current function value: 244.247173\n",
      "         Iterations: 7\n",
      "         Function evaluations: 11\n",
      "         Gradient evaluations: 11\n",
      "245.27256691012172 244.2471725587177 [0.108 0.108 0.107 0.677]\n",
      "Optimization terminated successfully.\n",
      "         Current function value: 261.330168\n",
      "         Iterations: 8\n",
      "         Function evaluations: 14\n",
      "         Gradient evaluations: 14\n",
      "262.80200704727224 261.3301675812551 [0.108 0.108 0.109 0.675]\n",
      "Warning: Desired error not necessarily achieved due to precision loss.\n",
      "         Current function value: 215.147271\n",
      "         Iterations: 8\n",
      "         Function evaluations: 122\n",
      "         Gradient evaluations: 108\n",
      "216.5549252838471 215.14727142187883 [0.108 0.108 0.108 0.676]\n",
      "      fun: 215.14727142187883\n",
      " hess_inv: array([[ 1.396e-08, -1.952e-10, -1.327e-08, -4.921e-10],\n",
      "       [-1.952e-10,  1.006e-08, -1.450e-08,  4.630e-09],\n",
      "       [-1.327e-08, -1.450e-08,  3.095e-07, -2.817e-07],\n",
      "       [-4.920e-10,  4.629e-09, -2.817e-07,  2.776e-07]])\n",
      "      jac: array([-3.181e-02, -3.673e-02, -8.494e-05,  7.347e-03])\n",
      "  message: 'Desired error not necessarily achieved due to precision loss.'\n",
      "     nfev: 122\n",
      "      nit: 8\n",
      "     njev: 108\n",
      "   status: 2\n",
      "  success: False\n",
      "        x: array([0.108, 0.108, 0.108, 0.676])\n",
      "Optimization terminated successfully.\n",
      "         Current function value: 244.776595\n",
      "         Iterations: 8\n",
      "         Function evaluations: 15\n",
      "         Gradient evaluations: 15\n",
      "245.83888494121538 244.7765954473006 [0.108 0.108 0.108 0.676]\n",
      "Optimization terminated successfully.\n",
      "         Current function value: 298.865177\n",
      "         Iterations: 8\n",
      "         Function evaluations: 17\n",
      "         Gradient evaluations: 17\n",
      "300.9501272048154 298.86517705818227 [0.108 0.108 0.108 0.676]\n",
      "Optimization terminated successfully.\n",
      "         Current function value: 265.409930\n",
      "         Iterations: 8\n",
      "         Function evaluations: 16\n",
      "         Gradient evaluations: 16\n",
      "265.81439920973565 265.4099295861419 [0.108 0.108 0.108 0.676]\n",
      "Optimization terminated successfully.\n",
      "         Current function value: 265.652054\n",
      "         Iterations: 8\n",
      "         Function evaluations: 14\n",
      "         Gradient evaluations: 14\n",
      "267.0464932500847 265.65205444661 [0.108 0.108 0.109 0.675]\n",
      "Optimization terminated successfully.\n",
      "         Current function value: 270.653638\n",
      "         Iterations: 8\n",
      "         Function evaluations: 13\n",
      "         Gradient evaluations: 13\n",
      "271.3987484915901 270.6536379753097 [0.108 0.108 0.108 0.676]\n",
      "Warning: Desired error not necessarily achieved due to precision loss.\n",
      "         Current function value: 194.102724\n",
      "         Iterations: 7\n",
      "         Function evaluations: 81\n",
      "         Gradient evaluations: 69\n",
      "197.9254747865499 194.10272409655977 [0.108 0.108 0.11  0.675]\n",
      "      fun: 194.10272409655977\n",
      " hess_inv: array([[ 1.397e-08, -1.866e-10, -1.349e-08, -2.945e-10],\n",
      "       [-1.866e-10,  1.006e-08, -1.457e-08,  4.694e-09],\n",
      "       [-1.349e-08, -1.457e-08,  3.113e-07, -2.832e-07],\n",
      "       [-2.945e-10,  4.694e-09, -2.832e-07,  2.789e-07]])\n",
      "      jac: array([-0.005, -0.009, -0.033, -0.006])\n",
      "  message: 'Desired error not necessarily achieved due to precision loss.'\n",
      "     nfev: 81\n",
      "      nit: 7\n",
      "     njev: 69\n",
      "   status: 2\n",
      "  success: False\n",
      "        x: array([0.108, 0.108, 0.11 , 0.675])\n",
      "Optimization terminated successfully.\n",
      "         Current function value: 290.404725\n",
      "         Iterations: 7\n",
      "         Function evaluations: 13\n",
      "         Gradient evaluations: 13\n",
      "290.5222691685645 290.40472538778135 [0.108 0.108 0.108 0.676]\n",
      "Optimization terminated successfully.\n",
      "         Current function value: 269.549383\n",
      "         Iterations: 8\n",
      "         Function evaluations: 15\n",
      "         Gradient evaluations: 15\n",
      "271.546243985669 269.5493827400862 [0.108 0.108 0.109 0.675]\n",
      "Optimization terminated successfully.\n",
      "         Current function value: 314.066482\n",
      "         Iterations: 8\n",
      "         Function evaluations: 14\n",
      "         Gradient evaluations: 14\n",
      "314.19934640522104 314.06648154831095 [0.108 0.108 0.108 0.676]\n",
      "Optimization terminated successfully.\n",
      "         Current function value: 330.140670\n",
      "         Iterations: 8\n",
      "         Function evaluations: 13\n",
      "         Gradient evaluations: 13\n",
      "330.80714726266615 330.14066959029253 [0.108 0.108 0.109 0.675]\n",
      "Optimization terminated successfully.\n",
      "         Current function value: 246.286409\n",
      "         Iterations: 7\n",
      "         Function evaluations: 13\n",
      "         Gradient evaluations: 13\n",
      "247.1996907335543 246.2864093306412 [0.108 0.108 0.107 0.676]\n",
      "Optimization terminated successfully.\n",
      "         Current function value: 291.199685\n",
      "         Iterations: 8\n",
      "         Function evaluations: 14\n",
      "         Gradient evaluations: 14\n",
      "291.77387384683993 291.1996853688434 [0.108 0.108 0.108 0.676]\n",
      "Optimization terminated successfully.\n",
      "         Current function value: 302.690705\n",
      "         Iterations: 7\n",
      "         Function evaluations: 13\n",
      "         Gradient evaluations: 13\n",
      "303.3433733833818 302.6907046354434 [0.108 0.108 0.109 0.676]\n",
      "Optimization terminated successfully.\n",
      "         Current function value: 254.575414\n",
      "         Iterations: 8\n",
      "         Function evaluations: 11\n",
      "         Gradient evaluations: 11\n",
      "255.94754532840602 254.57541380637488 [0.108 0.108 0.109 0.675]\n",
      "Optimization terminated successfully.\n",
      "         Current function value: 299.860937\n",
      "         Iterations: 7\n",
      "         Function evaluations: 11\n",
      "         Gradient evaluations: 11\n",
      "299.92039321187804 299.86093656055306 [0.108 0.108 0.108 0.676]\n",
      "Optimization terminated successfully.\n",
      "         Current function value: 297.970871\n",
      "         Iterations: 7\n",
      "         Function evaluations: 13\n",
      "         Gradient evaluations: 13\n",
      "299.5500212713983 297.97087145237447 [0.108 0.108 0.109 0.675]\n",
      "Optimization terminated successfully.\n",
      "         Current function value: 263.248191\n",
      "         Iterations: 7\n",
      "         Function evaluations: 13\n",
      "         Gradient evaluations: 13\n",
      "264.9645120161913 263.24819119151925 [0.108 0.108 0.109 0.675]\n",
      "Optimization terminated successfully.\n",
      "         Current function value: 220.707350\n",
      "         Iterations: 7\n",
      "         Function evaluations: 13\n",
      "         Gradient evaluations: 13\n",
      "221.43719375345782 220.70734990491607 [0.108 0.108 0.108 0.676]\n"
     ]
    },
    {
     "name": "stdout",
     "output_type": "stream",
     "text": [
      "Warning: Desired error not necessarily achieved due to precision loss.\n",
      "         Current function value: 270.062486\n",
      "         Iterations: 8\n",
      "         Function evaluations: 108\n",
      "         Gradient evaluations: 93\n",
      "270.49744986973485 270.0624864424205 [0.108 0.108 0.108 0.676]\n",
      "      fun: 270.0624864424205\n",
      " hess_inv: array([[ 1.396e-08, -1.949e-10, -1.334e-08, -4.320e-10],\n",
      "       [-1.949e-10,  1.005e-08, -1.446e-08,  4.608e-09],\n",
      "       [-1.334e-08, -1.446e-08,  3.101e-07, -2.823e-07],\n",
      "       [-4.317e-10,  4.608e-09, -2.823e-07,  2.782e-07]])\n",
      "      jac: array([-0.018, -0.034, -0.004, -0.   ])\n",
      "  message: 'Desired error not necessarily achieved due to precision loss.'\n",
      "     nfev: 108\n",
      "      nit: 8\n",
      "     njev: 93\n",
      "   status: 2\n",
      "  success: False\n",
      "        x: array([0.108, 0.108, 0.108, 0.676])\n",
      "Optimization terminated successfully.\n",
      "         Current function value: 262.732903\n",
      "         Iterations: 8\n",
      "         Function evaluations: 14\n",
      "         Gradient evaluations: 14\n",
      "263.6476404114626 262.7329028043554 [0.108 0.108 0.108 0.676]\n",
      "Optimization terminated successfully.\n",
      "         Current function value: 236.554291\n",
      "         Iterations: 8\n",
      "         Function evaluations: 12\n",
      "         Gradient evaluations: 12\n",
      "236.59507426467508 236.55429053672287 [0.108 0.108 0.108 0.676]\n",
      "Optimization terminated successfully.\n",
      "         Current function value: 320.799473\n",
      "         Iterations: 8\n",
      "         Function evaluations: 15\n",
      "         Gradient evaluations: 15\n",
      "321.4228696139664 320.7994725841993 [0.108 0.108 0.108 0.676]\n",
      "Optimization terminated successfully.\n",
      "         Current function value: 297.535567\n",
      "         Iterations: 8\n",
      "         Function evaluations: 13\n",
      "         Gradient evaluations: 13\n",
      "301.25958724809215 297.5355672474299 [0.108 0.108 0.109 0.675]\n",
      "Optimization terminated successfully.\n",
      "         Current function value: 259.701937\n",
      "         Iterations: 9\n",
      "         Function evaluations: 15\n",
      "         Gradient evaluations: 15\n",
      "260.70358439715636 259.7019374314486 [0.108 0.108 0.108 0.676]\n",
      "Optimization terminated successfully.\n",
      "         Current function value: 188.661123\n",
      "         Iterations: 6\n",
      "         Function evaluations: 11\n",
      "         Gradient evaluations: 11\n",
      "190.19034196726287 188.6611232504533 [0.108 0.108 0.108 0.676]\n",
      "Optimization terminated successfully.\n",
      "         Current function value: 249.495038\n",
      "         Iterations: 7\n",
      "         Function evaluations: 15\n",
      "         Gradient evaluations: 15\n",
      "249.90656826656172 249.49503848039254 [0.108 0.108 0.108 0.676]\n",
      "Optimization terminated successfully.\n",
      "         Current function value: 304.760400\n",
      "         Iterations: 8\n",
      "         Function evaluations: 20\n",
      "         Gradient evaluations: 20\n",
      "305.27197120879146 304.760399762198 [0.108 0.108 0.108 0.676]\n",
      "Warning: Desired error not necessarily achieved due to precision loss.\n",
      "         Current function value: 264.611988\n",
      "         Iterations: 8\n",
      "         Function evaluations: 53\n",
      "         Gradient evaluations: 41\n",
      "267.9518954543933 264.61198801346217 [0.108 0.108 0.109 0.675]\n",
      "      fun: 264.61198801346217\n",
      " hess_inv: array([[ 1.396e-08, -1.993e-10, -1.343e-08, -3.374e-10],\n",
      "       [-1.993e-10,  1.003e-08, -1.449e-08,  4.653e-09],\n",
      "       [-1.343e-08, -1.449e-08,  3.114e-07, -2.834e-07],\n",
      "       [-3.374e-10,  4.653e-09, -2.834e-07,  2.792e-07]])\n",
      "      jac: array([-0.015, -0.007, -0.018, -0.014])\n",
      "  message: 'Desired error not necessarily achieved due to precision loss.'\n",
      "     nfev: 53\n",
      "      nit: 8\n",
      "     njev: 41\n",
      "   status: 2\n",
      "  success: False\n",
      "        x: array([0.108, 0.108, 0.109, 0.675])\n",
      "Optimization terminated successfully.\n",
      "         Current function value: 237.407788\n",
      "         Iterations: 8\n",
      "         Function evaluations: 12\n",
      "         Gradient evaluations: 12\n",
      "238.79154635357577 237.40778823378025 [0.108 0.108 0.109 0.675]\n",
      "Optimization terminated successfully.\n",
      "         Current function value: 244.878893\n",
      "         Iterations: 7\n",
      "         Function evaluations: 16\n",
      "         Gradient evaluations: 16\n",
      "245.7225852249169 244.87889296737623 [0.108 0.108 0.108 0.676]\n",
      "Optimization terminated successfully.\n",
      "         Current function value: 231.024927\n",
      "         Iterations: 7\n",
      "         Function evaluations: 14\n",
      "         Gradient evaluations: 14\n",
      "232.2991196610215 231.02492695351876 [0.108 0.108 0.109 0.675]\n",
      "Optimization terminated successfully.\n",
      "         Current function value: 221.518025\n",
      "         Iterations: 8\n",
      "         Function evaluations: 14\n",
      "         Gradient evaluations: 14\n",
      "223.01414305827174 221.5180248041795 [0.108 0.108 0.109 0.675]\n",
      "Warning: Desired error not necessarily achieved due to precision loss.\n",
      "         Current function value: 343.004928\n",
      "         Iterations: 7\n",
      "         Function evaluations: 102\n",
      "         Gradient evaluations: 91\n",
      "346.0826674837388 343.00492761650116 [0.108 0.108 0.108 0.676]\n",
      "      fun: 343.00492761650116\n",
      " hess_inv: array([[ 1.394e-08, -1.910e-10, -1.337e-08, -3.833e-10],\n",
      "       [-1.910e-10,  1.005e-08, -1.449e-08,  4.630e-09],\n",
      "       [-1.337e-08, -1.449e-08,  3.110e-07, -2.831e-07],\n",
      "       [-3.833e-10,  4.630e-09, -2.831e-07,  2.789e-07]])\n",
      "      jac: array([ 0.003, -0.014, -0.001, -0.001])\n",
      "  message: 'Desired error not necessarily achieved due to precision loss.'\n",
      "     nfev: 102\n",
      "      nit: 7\n",
      "     njev: 91\n",
      "   status: 2\n",
      "  success: False\n",
      "        x: array([0.108, 0.108, 0.108, 0.676])\n",
      "Optimization terminated successfully.\n",
      "         Current function value: 336.727135\n",
      "         Iterations: 8\n",
      "         Function evaluations: 13\n",
      "         Gradient evaluations: 13\n",
      "337.53766171913503 336.72713461544936 [0.108 0.108 0.109 0.676]\n",
      "Optimization terminated successfully.\n",
      "         Current function value: 257.102558\n",
      "         Iterations: 7\n",
      "         Function evaluations: 13\n",
      "         Gradient evaluations: 13\n",
      "257.6357487169604 257.1025583125947 [0.108 0.108 0.108 0.676]\n",
      "Optimization terminated successfully.\n",
      "         Current function value: 260.506902\n",
      "         Iterations: 8\n",
      "         Function evaluations: 12\n",
      "         Gradient evaluations: 12\n",
      "260.8557667822398 260.5069022557461 [0.108 0.108 0.108 0.676]\n",
      "Optimization terminated successfully.\n",
      "         Current function value: 288.996254\n",
      "         Iterations: 8\n",
      "         Function evaluations: 13\n",
      "         Gradient evaluations: 13\n",
      "291.652990427498 288.99625398327805 [0.108 0.108 0.109 0.675]\n",
      "Optimization terminated successfully.\n",
      "         Current function value: 266.606726\n",
      "         Iterations: 8\n",
      "         Function evaluations: 14\n",
      "         Gradient evaluations: 14\n",
      "273.38325939318935 266.6067264256729 [0.108 0.108 0.109 0.674]\n",
      "Optimization terminated successfully.\n",
      "         Current function value: 261.880027\n",
      "         Iterations: 8\n",
      "         Function evaluations: 13\n",
      "         Gradient evaluations: 13\n",
      "263.4592955357843 261.88002680621327 [0.108 0.108 0.109 0.675]\n",
      "Optimization terminated successfully.\n",
      "         Current function value: 315.307255\n",
      "         Iterations: 7\n",
      "         Function evaluations: 13\n",
      "         Gradient evaluations: 13\n",
      "317.0912707244562 315.3072550029882 [0.108 0.108 0.107 0.677]\n",
      "\n"
     ]
    }
   ],
   "source": [
    "# carry out fit for n trials with random offsets for templates\n",
    "fobj.keywords['do_bb_lite'] = False\n",
    "fobj_jac.keywords['do_bb_lite'] = False\n",
    "fobj.keywords['randomize_templates'] = True\n",
    "fobj_jac.keywords['randomize_templates'] = True\n",
    "\n",
    "ntrials = 50\n",
    "results = []\n",
    "cost = []\n",
    "sv_accept = []\n",
    "for _ in tqdm_notebook(range(ntrials)):\n",
    "    \n",
    "    # update random offsets\n",
    "    for category, rnums in fit_data._rnum_cache.items():\n",
    "        fit_data._rnum_cache[category] = np.random.randn(rnums.size)\n",
    "        \n",
    "    # carry out fit\n",
    "    result = minimize(fobj, params_pre[:4],\n",
    "                      jac = fobj_jac,\n",
    "                      method = 'BFGS', \n",
    "                      options = min_options,\n",
    "                     )\n",
    "        \n",
    "    print(fobj(params_pre[:4]), result.fun, result.x[:4])\n",
    "    if result.success:\n",
    "        results.append(result.x)\n",
    "        cost.append(result.fun)\n",
    "    else:\n",
    "        print(result)\n",
    "\n",
    "results = np.array(results)"
   ]
  },
  {
   "cell_type": "code",
   "execution_count": 10,
   "metadata": {
    "ExecuteTime": {
     "end_time": "2019-10-22T04:28:17.114227Z",
     "start_time": "2019-10-22T04:28:17.111460Z"
    }
   },
   "outputs": [
    {
     "name": "stdout",
     "output_type": "stream",
     "text": [
      "[8.596e-05 6.804e-05 5.036e-04 5.238e-04]\n",
      "[8.175e-05 7.024e-05 4.729e-04 4.575e-04]\n"
     ]
    }
   ],
   "source": [
    "bb_errs_toys = np.std(results - params_pre[:4], axis=0)\n",
    "bb_errs_hess = np.sqrt(stderr_mc_stat**2 - stderr_stat**2)\n",
    "\n",
    "print(bb_errs_toys, bb_errs_hess, sep='\\n')"
   ]
  },
  {
   "cell_type": "code",
   "execution_count": 11,
   "metadata": {
    "ExecuteTime": {
     "end_time": "2019-10-22T04:28:17.963731Z",
     "start_time": "2019-10-22T04:28:17.314500Z"
    },
    "scrolled": false
   },
   "outputs": [
    {
     "name": "stderr",
     "output_type": "stream",
     "text": [
      "/home/naodell/opt/anaconda3/lib/python3.7/site-packages/matplotlib/font_manager.py:1331: UserWarning: findfont: Font family ['cursive'] not found. Falling back to DejaVu Sans\n",
      "  (prop.get_family(), self.defaultFamily[fontext]))\n"
     ]
    },
    {
     "data": {
      "image/png": "[encoded data removed]",
      "text/plain": [
       "<Figure size 864x864 with 4 Axes>"
      ]
     },
     "metadata": {},
     "output_type": "display_data"
    }
   ],
   "source": [
    "# produce plot for the note\n",
    "fig, axes = plt.subplots(2, 2, figsize=(12, 12), facecolor='white')\n",
    "nbins = 40\n",
    "labels = [r'$W\\rightarrow e$', r'$W\\rightarrow \\mu$', r'$W\\rightarrow \\tau$', r'$W\\rightarrow h$']\n",
    "for i in range(4):\n",
    "    ax = axes[i//2][i%2]\n",
    "    h, _, _ = ax.hist(results[:,i], bins=nbins, alpha=0.5, label='toy trial')\n",
    "    bb_mean = results[:,i].mean()\n",
    "    ax.plot([bb_mean, bb_mean], [0, 1.5*h.max()], color='gray', linestyle='--', alpha=0.5, label='_nolegend_')\n",
    "    ax.fill_betweenx([0, 1.5*h.max()], bb_mean - bb_errs_toys[i],  bb_mean + bb_errs_toys[i], color='grey', hatch='/', alpha=0.15, label=r'$\\pm 1\\sigma_{trials}$')\n",
    "    \n",
    "    ax.plot([params_pre[i], params_pre[i]], [0, 1.5*h.max()], color='k', linestyle='--', alpha=0.5, label='_nolegend_')\n",
    "    ax.fill_betweenx([0, 1.5*h.max()], params_pre[i] - bb_errs_hess[i],  params_pre[i] + bb_errs_hess[i], color='k', hatch='-', alpha=0.15, label=r'$\\pm 1\\sigma_{NLL}$')\n",
    "    \n",
    "    ax.text(0.05, 0.9, f'trials: {100*bb_mean:.2f} +- {100*bb_errs_toys[i]:.3f}', fontsize=14, transform=ax.transAxes)\n",
    "    ax.text(0.05, 0.85, f'BB: {100*params_pre[i]:.2f} +- {100*bb_errs_hess[i]:.3f}', fontsize=14, transform=ax.transAxes)\n",
    "    \n",
    "    ax.set_xbound(params_pre[i] - 5*bb_errs_hess[i], params_pre[i] + 5*bb_errs_hess[i])\n",
    "    ax.set_ybound(0., 1.4*h.max())\n",
    "    ax.set_xlabel(labels[i])\n",
    "    \n",
    "    if i%2 == 0:\n",
    "        ax.set_ylabel('Entries')\n",
    "        \n",
    "    if i == 3:\n",
    "       plt.legend() \n",
    "\n",
    "plt.tight_layout()\n",
    "plt.savefig('plots/systematics/bb_lite_validation.pdf')\n",
    "plt.show()"
   ]
  },
  {
   "cell_type": "code",
   "execution_count": null,
   "metadata": {},
   "outputs": [],
   "source": []
  }
 ],
 "metadata": {
  "hide_input": false,
  "kernelspec": {
   "display_name": "Python 3",
   "language": "python",
   "name": "python3"
  },
  "language_info": {
   "codemirror_mode": {
    "name": "ipython",
    "version": 3
   },
   "file_extension": ".py",
   "mimetype": "text/x-python",
   "name": "python",
   "nbconvert_exporter": "python",
   "pygments_lexer": "ipython3",
   "version": "3.7.2"
  },
  "latex_envs": {
   "LaTeX_envs_menu_present": true,
   "autoclose": false,
   "autocomplete": true,
   "bibliofile": "biblio.bib",
   "cite_by": "apalike",
   "current_citInitial": 1,
   "eqLabelWithNumbers": true,
   "eqNumInitial": 0,
   "hotkeys": {
    "equation": "Ctrl-E",
    "itemize": "Ctrl-I"
   },
   "labels_anchors": false,
   "latex_user_defs": false,
   "report_style_numbering": false,
   "user_envs_cfg": false
  },
  "toc": {
   "nav_menu": {
    "height": "29px",
    "width": "251px"
   },
   "number_sections": true,
   "sideBar": true,
   "skip_h1_title": false,
   "title_cell": "Table of Contents",
   "title_sidebar": "Contents",
   "toc_cell": false,
   "toc_position": {
    "height": "49px",
    "left": "0px",
    "right": "1493.87px",
    "top": "90.9965px",
    "width": "242px"
   },
   "toc_section_display": false,
   "toc_window_display": false
  },
  "varInspector": {
   "cols": {
    "lenName": 16,
    "lenType": 16,
    "lenVar": 40
   },
   "kernels_config": {
    "python": {
     "delete_cmd_postfix": "",
     "delete_cmd_prefix": "del ",
     "library": "var_list.py",
     "varRefreshCmd": "print(var_dic_list())"
    },
    "r": {
     "delete_cmd_postfix": ") ",
     "delete_cmd_prefix": "rm(",
     "library": "var_list.r",
     "varRefreshCmd": "cat(var_dic_list()) "
    }
   },
   "types_to_exclude": [
    "module",
    "function",
    "builtin_function_or_method",
    "instance",
    "_Feature"
   ],
   "window_display": false
  },
  "widgets": {
   "state": {
    "012f8bbe2fdb410dae6e2cde9d7fe5cb": {
     "views": []
    },
    "080556076f174648bddf64f17a54c523": {
     "views": []
    },
    "0ad83b5f67484ae5b8fd8dd43ccc39bd": {
     "views": []
    },
    "15acd81a9adc493683d9b63813f000bf": {
     "views": []
    },
    "1840cb6fded848b4ae95ec8d3db15ab2": {
     "views": []
    },
    "1dd83f822e074642ae4255b15ee661cf": {
     "views": []
    },
    "1e71a878e6474912a0efc497ecc5d65b": {
     "views": []
    },
    "2022ed83777b4963b630b5c46239e218": {
     "views": []
    },
    "21c4c57bfc48495194663e6a4fbac488": {
     "views": []
    },
    "22c45c75435348c0b9501d493d69fdca": {
     "views": []
    },
    "2635f668a1af4a9db2642e705d7c73ff": {
     "views": []
    },
    "2ad5ddd9347e451b9290e5b4179ab9a2": {
     "views": []
    },
    "2c062b5778024117984822b63b0593d7": {
     "views": []
    },
    "2f5eab2f6fb24192b76a5ffe99195d44": {
     "views": []
    },
    "31632517325046e8b0cb62e4f4ed2480": {
     "views": []
    },
    "3562b97192ed4d42bbab17f77c290f6b": {
     "views": []
    },
    "38a7cc053723492b921cf9f084ed243c": {
     "views": []
    },
    "3b5750b20e1745879ca0f965aad7b614": {
     "views": []
    },
    "3f1cbabbe2694a9dabe3f1c2e09d0ee2": {
     "views": []
    },
    "3fab6a26a70c4238a668a46d4dc88bf6": {
     "views": []
    },
    "3fb3c7a25e954a4888996976fa107737": {
     "views": []
    },
    "415db64fbc574daea8457ab600392f09": {
     "views": []
    },
    "4463de406b4645a4b562fe7917380ff9": {
     "views": []
    },
    "487e5450b5a24507932709f1fa8f59c1": {
     "views": []
    },
    "48aba73013e74e71927f71d42fb44d14": {
     "views": []
    },
    "4a19ad30f77e4fe6a2c84c8b62378a47": {
     "views": []
    },
    "4bc83ff5270d41679d76d26cdded8313": {
     "views": []
    },
    "4bdd9dd5c5c64646a27fa9096851458b": {
     "views": []
    },
    "5014cd42705f45178d5e6eeffd70f119": {
     "views": []
    },
    "5259b340b68e4fdb97fb4eaf9d98d954": {
     "views": []
    },
    "5986ef5b605a42aca10bc5834529ee06": {
     "views": []
    },
    "5c1aa44589a140eb9709734c843abde6": {
     "views": []
    },
    "600cd9ca4f4c46d4ad6fe57df107675a": {
     "views": [
      {
       "cell_index": 7
      }
     ]
    },
    "61fe369ebdd14eaa89de110f6186e6b7": {
     "views": []
    },
    "62ac836017ae47a38f8fde806c5ec9b7": {
     "views": []
    },
    "632ccbfabe91405aa1c5a77c9ea754db": {
     "views": []
    },
    "66175f618ea5472baac618f998d2c06c": {
     "views": []
    },
    "6647a620af034d26abcd327ae02364d4": {
     "views": []
    },
    "6752222d2cba43e18f344a8db7f99d24": {
     "views": []
    },
    "6b684ba1a7c24a35ba2df77016212904": {
     "views": []
    },
    "6cea898f4aca4f1e84601f843e337238": {
     "views": []
    },
    "6f8d1e87fd60462a89d693b2f3b5f007": {
     "views": []
    },
    "74078646a5eb4047b40370a0ab8b6b30": {
     "views": []
    },
    "745b0c79ff3040788ea952fce9c7d607": {
     "views": []
    },
    "757c9b805eb7445bac9a7f141f87e45f": {
     "views": []
    },
    "76ced68e19a742e8976dbfd4e8594a1a": {
     "views": []
    },
    "783bb5e7538d4d9d8315e2698024b353": {
     "views": []
    },
    "794993d66efe4ab29a8d35aad8cfe079": {
     "views": []
    },
    "8375e24bae7541528d7cdc0f379d1d4c": {
     "views": []
    },
    "8554945ec15041a7bf8004dbc3fc5f11": {
     "views": []
    },
    "878a34e26cce4f18bb8232a682ebe964": {
     "views": []
    },
    "8921a75116a549198eb7b7f4a24ab672": {
     "views": []
    },
    "909f4504f0b049bda8b641defa177062": {
     "views": []
    },
    "910b9d32a3fb45ec99da1f9df1add816": {
     "views": []
    },
    "9d15ce601cd34f0699b7a7a0ce1d17dc": {
     "views": []
    },
    "a26638c9fee247b3891aac027a0918cc": {
     "views": []
    },
    "a9d2bf44a3ad447bb3eecde71363c198": {
     "views": []
    },
    "ad366bf4c95f4cdba62d47ba9501efc9": {
     "views": []
    },
    "ad8e1842ec314a94b6ed4b62c4c0a450": {
     "views": []
    },
    "af525094db304d2a812ae1312b00889b": {
     "views": []
    },
    "b0697c4343da491f9a35bf02681dad8f": {
     "views": []
    },
    "b07ff307919e4268bc8bec8379c47a5d": {
     "views": []
    },
    "b0e85c726ca141079333afb27edc63d4": {
     "views": []
    },
    "bdcc1e5df7a8432b9f40d8249a46f90a": {
     "views": []
    },
    "be1065f37fa24e818d31c3bb075947a3": {
     "views": []
    },
    "c296c8df2f734e268c6c1204536e7142": {
     "views": []
    },
    "c4bfd3e447f0426da144b76abc202129": {
     "views": []
    },
    "cced93184d4445218a2b14567579333d": {
     "views": []
    },
    "d5bd2e4d5f85482e9345f3a7a69380d0": {
     "views": []
    },
    "d798fa64e8be4a7d9ec1cbeece3b1be9": {
     "views": []
    },
    "d7aec0d6d05f442b991ab40af944811d": {
     "views": []
    },
    "db469cea2c8e4180bf6890de80329c1d": {
     "views": []
    },
    "e671857510c54634b6f0fa55bf1fa228": {
     "views": []
    },
    "ebf52deafaf64b0c826533dafdf993c0": {
     "views": []
    },
    "ed1e5439da9c41199a7bbbda21b556f8": {
     "views": []
    },
    "f585cf5db5024280af5b567f0e4fd771": {
     "views": []
    },
    "f6ba8f8800af47adabed847063bda8db": {
     "views": []
    },
    "f9bae72f14e44705b5c38a3ddc69fee8": {
     "views": []
    }
   },
   "version": "1.1.2"
  }
 },
 "nbformat": 4,
 "nbformat_minor": 2
}
