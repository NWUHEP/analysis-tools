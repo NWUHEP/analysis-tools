{
 "cells": [
  {
   "cell_type": "markdown",
   "metadata": {},
   "source": [
    "# profile likelihood scans on the Asimov dataset\n",
    "\n",
    "In this notebook we will:\n",
    "\n",
    "   * generate the Asimov dataset\n",
    "   * carry out likelihood scans for a number of nuisance parameters while minimizing the NLL w.r.t. all other nuisance parameters\n",
    "   \n",
    "This first part is based of `w_br_asimov.ipynb`."
   ]
  },
  {
   "cell_type": "code",
   "execution_count": 96,
   "metadata": {
    "code_folding": [
     0
    ]
   },
   "outputs": [
    {
     "name": "stdout",
     "output_type": "stream",
     "text": [
      "/home/naodell/work/wbr/analysis\n",
      "{\n",
      "  \"shell_port\": 47775,\n",
      "  \"iopub_port\": 34627,\n",
      "  \"stdin_port\": 37207,\n",
      "  \"control_port\": 51197,\n",
      "  \"hb_port\": 52649,\n",
      "  \"ip\": \"127.0.0.1\",\n",
      "  \"key\": \"3d83209e-c4bbc3cda1dd9ffc718b4530\",\n",
      "  \"transport\": \"tcp\",\n",
      "  \"signature_scheme\": \"hmac-sha256\",\n",
      "  \"kernel_name\": \"\"\n",
      "}\n",
      "\n",
      "Paste the above JSON into a file, and connect with:\n",
      "    $> jupyter <app> --existing <file>\n",
      "or, if you are local, you can connect with just:\n",
      "    $> jupyter <app> --existing kernel-83b2660f-a13a-4a00-a4e4-d8368a97addf.json\n",
      "or even just:\n",
      "    $> jupyter <app> --existing\n",
      "if this is the most recent Jupyter kernel you have started.\n"
     ]
    }
   ],
   "source": [
    "## imports and configuration\n",
    "%cd '/home/naodell/work/wbr/analysis'\n",
    "\n",
    "from functools import partial\n",
    "import numpy as np\n",
    "import pandas as pd\n",
    "import matplotlib.pyplot as plt\n",
    "import matplotlib\n",
    "from scipy.optimize import minimize\n",
    "from tqdm import tqdm_notebook\n",
    "\n",
    "import scripts.plot_tools as pt\n",
    "import scripts.fit_helpers as fh\n",
    "from nllfit.nllfitter import ScanParameters\n",
    "\n",
    "np.set_printoptions(precision=5)\n",
    "matplotlib.style.use('default')\n",
    "params = {'legend.fontsize': 20,\n",
    "          'axes.labelsize': 20,\n",
    "          'figure.figsize': (8, 8),\n",
    "          'axes.facecolor': 'white',\n",
    "          'axes.titlesize':'x-large',\n",
    "          'xtick.labelsize':18,\n",
    "          'ytick.labelsize':18,\n",
    "         }\n",
    "matplotlib.rcParams.update(params)\n",
    "%matplotlib inline\n",
    "%connect_info"
   ]
  },
  {
   "cell_type": "code",
   "execution_count": 97,
   "metadata": {
    "code_folding": [
     0
    ],
    "scrolled": false
   },
   "outputs": [],
   "source": [
    "# configure, get the input data, and do any additional processing that is needed\n",
    "input_dir  = f'local_data/templates/btag_fix/'\n",
    "selections = [\n",
    "              'emu', \n",
    "              'mumu',  'mutau',  'mu4j',\n",
    "              'ee',  'etau', 'e4j'\n",
    "             ]\n",
    "n_selection = len(selections)\n",
    "targets    = dict(\n",
    "                  mumu  = 'lepton2_pt', \n",
    "                  ee    = 'lepton2_pt', \n",
    "                  emu   = 'trailing_lepton_pt', \n",
    "                  mutau = 'lepton2_pt', \n",
    "                  etau  = 'lepton2_pt', \n",
    "                  mu4j  = 'lepton1_pt',\n",
    "                  e4j   = 'lepton1_pt'\n",
    "                 )\n",
    "plot_labels = dict(\n",
    "                   mumu  = [r'$\\sf p_{T, \\mu}$', r'$\\mu\\mu$'],\n",
    "                   ee    = [r'$\\sf p_{T, e}$', r'$ee$'],\n",
    "                   emu   = [r'$\\sf p_{T, \\ell}$', r'$e\\mu$'],\n",
    "                   mutau = [r'$\\sf p_{T, \\tau}$', r'$\\mu\\tau$'],\n",
    "                   etau  = [r'$\\sf p_{T, \\tau}$', r'$e\\tau$'],\n",
    "                   mu4j  = [r'$\\sf p_{T, \\mu}$', r'$\\mu$ + jets'],\n",
    "                   e4j   = [r'$\\sf p_{T, e}$', r'$e$ + jets']\n",
    "                  )\n",
    "\n",
    "# initial values for W branching fraction (beta_e, beta_mu, beta_tau, beta_h) and tau branching fraction (b_e, b_mu, b_h)\n",
    "br_tau    = [0.1783, 0.1741, 0.6476]\n",
    "beta_init = [0.108, 0.108, 0.108, 1 - 3*0.108] \n",
    "var_beta  = [0.0009**2, 0.0009**2, 0.0009**2, 0.0031**2]\n",
    "\n",
    "# initialize fit data\n",
    "fit_data = fh.FitData(input_dir, selections, targets)\n",
    "\n",
    "# pull data\n",
    "pull_data  = pd.read_csv('local_data/pulls.csv', index_col=0)\n",
    "param_data = pd.read_csv('data/model_parameters_partial.csv').set_index('name')\n",
    "jes_mask = np.array([True if 'jes' in pname else False for pname in pull_data.index])"
   ]
  },
  {
   "cell_type": "code",
   "execution_count": 98,
   "metadata": {
    "code_folding": [
     0
    ]
   },
   "outputs": [
    {
     "name": "stderr",
     "output_type": "stream",
     "text": [
      "/home/naodell/opt/anaconda3/lib/python3.7/site-packages/ipykernel_launcher.py:13: FutureWarning: from_items is deprecated. Please use DataFrame.from_dict(dict(items), ...) instead. DataFrame.from_dict(OrderedDict(items)) may be used to preserve the key order.\n",
      "  del sys.path[0]\n"
     ]
    }
   ],
   "source": [
    "# generate Asimov dataset\n",
    "toy_data = dict()\n",
    "for selection in selections:\n",
    "    toy_data[selection] = dict()\n",
    "    sdata = fit_data.get_selection_data(selection)\n",
    "    for category, bdata in sdata.items():\n",
    "        \n",
    "        templates = bdata['templates']\n",
    "        # signal component\n",
    "        toy_data[selection][category] = np.zeros(bdata['bins'].size - 1)\n",
    "        for dataset, template in templates.items():\n",
    "            if dataset in['ttbar', 't', 'wjets']: \n",
    "                signal_template = pd.DataFrame.from_items((dm, t['val']) for dm, t in template.items())\n",
    "                signal = fh.signal_mixture_model(beta_init, br_tau, signal_template, sample=False, single_w=(dataset == 'wjets'))\n",
    "                toy_data[selection][category] += signal\n",
    "            elif dataset != 'data':\n",
    "                toy_data[selection][category] += template['val']"
   ]
  },
  {
   "cell_type": "code",
   "execution_count": 99,
   "metadata": {
    "code_folding": [
     0
    ]
   },
   "outputs": [],
   "source": [
    "# Handy functions\n",
    "def reduced_objective(params, data, obj, mask, p_init):\n",
    "    '''\n",
    "    Fixes parameters specified by (p, mask) and minimizes objective w.r.t. remaining parameters.\n",
    "    '''\n",
    "    masked_params = p_init.copy()\n",
    "    masked_params[~mask] = params\n",
    "    return obj(masked_params, data)\n",
    "\n",
    "def obj_callback(params, objective, data, cache, verbose=False):\n",
    "    cache['params'].append(params)\n",
    "    cache['cost'].append(objective(params, data))\n",
    "    \n",
    "    if verbose:\n",
    "        print(objective(params, data))"
   ]
  },
  {
   "cell_type": "code",
   "execution_count": 100,
   "metadata": {
    "code_folding": []
   },
   "outputs": [],
   "source": [
    "# configure likelihood scan parameters\n",
    "param_name = 'beta_h'\n",
    "nscan_points = 25\n",
    "\n",
    "# get parameter data\n",
    "params_init = fit_data.get_params_init(as_array=True)\n",
    "err_init = fit_data.get_errs_init(as_array=True)\n",
    "param = fit_data._parameters.loc[param_name]\n",
    "ix = list(fit_data._parameters.index).index(param_name)\n",
    "\n",
    "# remove constant offset from likelihood\n",
    "fit_data._cost_init = 0\n",
    "fit_data._cost_init = fit_data.objective(params_init, toy_data)\n",
    "\n",
    "# generate scan points between +/- 2 sigma\n",
    "if param_name in ['beta_e', 'beta_mu', 'beta_tau']:\n",
    "    pmin, pmax = 0.1, 0.12\n",
    "elif param_name == 'beta_h':\n",
    "    pmin, pmax = 0.65, 0.7\n",
    "else:\n",
    "    pmin, pmax = param.val_init - 2*param.err_init, param.val_init + 2*param.err_init\n",
    "scan_points = np.linspace(pmin, pmax, nscan_points)\n",
    "\n",
    "mask = np.zeros(len(params_init)).astype(bool)\n",
    "mask[ix] = True"
   ]
  },
  {
   "cell_type": "code",
   "execution_count": 101,
   "metadata": {
    "code_folding": [
     0
    ]
   },
   "outputs": [
    {
     "name": "stdout",
     "output_type": "stream",
     "text": [
      "Warning: Desired error not necessarily achieved due to precision loss.\n",
      "         Current function value: 43.347715\n",
      "         Iterations: 419\n",
      "         Function evaluations: 30536\n",
      "         Gradient evaluations: 587\n",
      "338722.98751492053\n",
      "-43.34697509953785\n"
     ]
    }
   ],
   "source": [
    "# evaluate at one point\n",
    "\n",
    "p = params_init.copy()\n",
    "p[ix] = scan_points[0]\n",
    "\n",
    "#step_size = 1e-8*np.delete(err_init, ix)\n",
    "#step_size[:4] = 1e-8\n",
    "step_size = 1e-8\n",
    "\n",
    "fobj = partial(reduced_objective, obj=fit_data.objective, mask=mask, p_init=p)\n",
    "nll_cache = dict(params = [], cost = [])\n",
    "res_reduced = minimize(fobj, np.delete(params_init, ix), \n",
    "                       method = 'BFGS', \n",
    "                       #jac = True, \n",
    "                       #hess = True, \n",
    "                       args = (toy_data),\n",
    "                       #iprint = 5,\n",
    "                       options = {'disp':True},#, 'eps':step_size, 'ftol':1e-8, 'gtol':1e-6},\n",
    "                       callback = partial(obj_callback, objective=fobj, data=toy_data, cache=nll_cache),\n",
    "                      )\n",
    "\n",
    "nll_nominal = fit_data.objective(p, toy_data)\n",
    "nll_min = fit_data.objective(params_init, toy_data)\n",
    "nll_prior = 0.5*(params_init[ix] - p[ix])**2/param.err_init**2\n",
    "\n",
    "print(nll_nominal - res_reduced.fun)\n",
    "print(nll_prior - (res_reduced.fun - nll_min))"
   ]
  },
  {
   "cell_type": "code",
   "execution_count": 102,
   "metadata": {
    "code_folding": [
     0
    ]
   },
   "outputs": [
    {
     "name": "stdout",
     "output_type": "stream",
     "text": [
      "All done!!!\n"
     ]
    }
   ],
   "source": [
    "# carry out one-dimensional profile likelihood scans\n",
    "from multiprocessing import Pool\n",
    "pool = Pool(processes=12)\n",
    "results = []\n",
    "nll_scan = []\n",
    "for sp in scan_points:\n",
    "    p = params_init.copy()\n",
    "    p[ix] = sp\n",
    "    fobj = partial(reduced_objective, obj=fit_data.objective, mask=mask, p_init=p)\n",
    "    nll_scan.append(fobj(np.delete(p, ix), toy_data))\n",
    "    res = pool.apply_async(minimize, args=(fobj, np.delete(p, ix)), \n",
    "                           kwds={'args':(toy_data), \n",
    "                                 'method':'BFGS', \n",
    "                                 #'options': {'eps':step_size, 'ftol':1e-11}\n",
    "                                }\n",
    "                          )\n",
    "    #res = pool.apply_async(minimize, args=(fit_data.objective, p), \n",
    "    #                       kwds={'args':(toy_data), \n",
    "    #                             'method':'BFGS', \n",
    "    #                             #'options': {'eps':step_size, 'gtol':1e-6}\n",
    "    #                            }\n",
    "    #                      )\n",
    "    results.append(res)\n",
    "    \n",
    "pool.close()\n",
    "pool.join()\n",
    "\n",
    "print('All done!!!')\n",
    "\n",
    "results = [r.get() for r in results]\n",
    "nll_profile_scan = [r.fun for r in results]"
   ]
  },
  {
   "cell_type": "code",
   "execution_count": 105,
   "metadata": {
    "code_folding": [
     0
    ]
   },
   "outputs": [
    {
     "name": "stderr",
     "output_type": "stream",
     "text": [
      "/home/naodell/opt/anaconda3/lib/python3.7/site-packages/pandas/core/generic.py:4405: SettingWithCopyWarning: \n",
      "A value is trying to be set on a copy of a slice from a DataFrame\n",
      "\n",
      "See the caveats in the documentation: http://pandas.pydata.org/pandas-docs/stable/indexing.html#indexing-view-versus-copy\n",
      "  self[name] = value\n"
     ]
    },
    {
     "data": {
      "image/png": "[encoded data removed]",
      "text/plain": [
       "<Figure size 720x720 with 1 Axes>"
      ]
     },
     "metadata": {},
     "output_type": "display_data"
    }
   ],
   "source": [
    "# money plot\n",
    "fig, ax = plt.subplots(1, 1, figsize=(10, 10), facecolor='white', sharey=False)\n",
    "\n",
    "if param_name in ['beta_e', 'beta_mu']:\n",
    "    sigma_fisher = 0.0009\n",
    "    param.err_init = 0.01\n",
    "elif param_name == 'beta_tau':\n",
    "    sigma_fisher = 0.0015\n",
    "    param.err_init = 0.01\n",
    "elif param_name == 'beta_h':\n",
    "    sigma_fisher = 0.00274\n",
    "    param.err_init = 0.05\n",
    "else:\n",
    "    sigma_fisher = pull_data.loc[param_name]['stderr_post (%)']/100\n",
    "    \n",
    "\n",
    "nll_min = np.min(nll_profile_scan)\n",
    "nll_coeff = np.polyfit(scan_points, (nll_profile_scan - nll_min), deg=2, w=np.exp(-0.5*(params_init[ix] - scan_points)**2/sigma_fisher**2))\n",
    "nll_poly = np.poly1d(nll_coeff)\n",
    "d_nll_poly = np.polyder(nll_poly, m=2)\n",
    "sigma_post = 1/np.sqrt(d_nll_poly(0))\n",
    "\n",
    "ax.plot(scan_points, 0.5*(params_init[ix] - scan_points)**2/param.err_init**2, 'k--', linewidth=1.5)\n",
    "#ax.plot(scan_points, (nll_scan - np.min(nll_scan))/2, 'C1o:', linewidth=1.5)\n",
    "ax.plot(scan_points, (nll_profile_scan - nll_min), 'C0o-', linewidth=1.5)\n",
    "#ax.plot(scan_points, nll_poly(scan_points), 'r:', linewidth=1.5)\n",
    "ax.plot(scan_points, 0.5*(params_init[ix] - scan_points)**2/sigma_fisher**2, 'C4-', linewidth=1.5)\n",
    "ax.plot([scan_points[0], scan_points[-1]], [0, 0], 'r-', linewidth=1.5, label='_nolegend_')\n",
    "\n",
    "ax.set_xlim(0.04, 0.2)\n",
    "ax.set_xlim(scan_points[0], scan_points[-1])\n",
    "#ax.set_ylim(-0.1, np.max(nll_profile_scan - nll_min))\n",
    "ax.set_ylim(-0.1, 10)\n",
    "ax.set_xlabel(param.label)\n",
    "ax.set_ylabel('$\\sf NLL - NLL_{min}$')\n",
    "ax.grid()\n",
    "\n",
    "ax.legend(['pre-fit', 'NLL scan w/ profiling', 'Fisher Information'], loc=1)\n",
    "ax.text(0.6, 0.65, \n",
    "        r'$\\sigma_{pre}$' + f' = {param.err_init:.2%} \\n' \n",
    "        + r'$\\sigma_{scan}$' + f' = {sigma_post:.2%} \\n' \n",
    "        + r'$\\sigma_{FI}$' + f' = {sigma_fisher:.2%}', \n",
    "        transform=ax.transAxes,\n",
    "        fontsize=18,\n",
    "        bbox=dict(boxstyle='round', facecolor='white', alpha=0.9)\n",
    "       )\n",
    "\n",
    "plt.tight_layout()\n",
    "plt.savefig(f'plots/systematics/nll_scan_{param_name}.pdf')\n",
    "plt.show()"
   ]
  }
 ],
 "metadata": {
  "hide_input": false,
  "kernelspec": {
   "display_name": "Python 3",
   "language": "python",
   "name": "python3"
  },
  "language_info": {
   "codemirror_mode": {
    "name": "ipython",
    "version": 3
   },
   "file_extension": ".py",
   "mimetype": "text/x-python",
   "name": "python",
   "nbconvert_exporter": "python",
   "pygments_lexer": "ipython3",
   "version": "3.7.0"
  },
  "latex_envs": {
   "LaTeX_envs_menu_present": true,
   "autoclose": false,
   "autocomplete": true,
   "bibliofile": "biblio.bib",
   "cite_by": "apalike",
   "current_citInitial": 1,
   "eqLabelWithNumbers": true,
   "eqNumInitial": 0,
   "hotkeys": {
    "equation": "Ctrl-E",
    "itemize": "Ctrl-I"
   },
   "labels_anchors": false,
   "latex_user_defs": false,
   "report_style_numbering": false,
   "user_envs_cfg": false
  },
  "toc": {
   "nav_menu": {
    "height": "29px",
    "width": "251px"
   },
   "number_sections": true,
   "sideBar": true,
   "skip_h1_title": false,
   "title_cell": "Table of Contents",
   "title_sidebar": "Contents",
   "toc_cell": false,
   "toc_position": {
    "height": "49px",
    "left": "0px",
    "right": "1493.87px",
    "top": "90.9965px",
    "width": "242px"
   },
   "toc_section_display": false,
   "toc_window_display": false
  },
  "widgets": {
   "state": {
    "012f8bbe2fdb410dae6e2cde9d7fe5cb": {
     "views": []
    },
    "080556076f174648bddf64f17a54c523": {
     "views": []
    },
    "0ad83b5f67484ae5b8fd8dd43ccc39bd": {
     "views": []
    },
    "15acd81a9adc493683d9b63813f000bf": {
     "views": []
    },
    "1840cb6fded848b4ae95ec8d3db15ab2": {
     "views": []
    },
    "1dd83f822e074642ae4255b15ee661cf": {
     "views": []
    },
    "1e71a878e6474912a0efc497ecc5d65b": {
     "views": []
    },
    "2022ed83777b4963b630b5c46239e218": {
     "views": []
    },
    "21c4c57bfc48495194663e6a4fbac488": {
     "views": []
    },
    "22c45c75435348c0b9501d493d69fdca": {
     "views": []
    },
    "2635f668a1af4a9db2642e705d7c73ff": {
     "views": []
    },
    "2ad5ddd9347e451b9290e5b4179ab9a2": {
     "views": []
    },
    "2c062b5778024117984822b63b0593d7": {
     "views": []
    },
    "2f5eab2f6fb24192b76a5ffe99195d44": {
     "views": []
    },
    "31632517325046e8b0cb62e4f4ed2480": {
     "views": []
    },
    "3562b97192ed4d42bbab17f77c290f6b": {
     "views": []
    },
    "38a7cc053723492b921cf9f084ed243c": {
     "views": []
    },
    "3b5750b20e1745879ca0f965aad7b614": {
     "views": []
    },
    "3f1cbabbe2694a9dabe3f1c2e09d0ee2": {
     "views": []
    },
    "3fab6a26a70c4238a668a46d4dc88bf6": {
     "views": []
    },
    "3fb3c7a25e954a4888996976fa107737": {
     "views": []
    },
    "415db64fbc574daea8457ab600392f09": {
     "views": []
    },
    "4463de406b4645a4b562fe7917380ff9": {
     "views": []
    },
    "487e5450b5a24507932709f1fa8f59c1": {
     "views": []
    },
    "48aba73013e74e71927f71d42fb44d14": {
     "views": []
    },
    "4a19ad30f77e4fe6a2c84c8b62378a47": {
     "views": []
    },
    "4bc83ff5270d41679d76d26cdded8313": {
     "views": []
    },
    "4bdd9dd5c5c64646a27fa9096851458b": {
     "views": []
    },
    "5014cd42705f45178d5e6eeffd70f119": {
     "views": []
    },
    "5259b340b68e4fdb97fb4eaf9d98d954": {
     "views": []
    },
    "5986ef5b605a42aca10bc5834529ee06": {
     "views": []
    },
    "5c1aa44589a140eb9709734c843abde6": {
     "views": []
    },
    "600cd9ca4f4c46d4ad6fe57df107675a": {
     "views": [
      {
       "cell_index": 7
      }
     ]
    },
    "61fe369ebdd14eaa89de110f6186e6b7": {
     "views": []
    },
    "62ac836017ae47a38f8fde806c5ec9b7": {
     "views": []
    },
    "632ccbfabe91405aa1c5a77c9ea754db": {
     "views": []
    },
    "66175f618ea5472baac618f998d2c06c": {
     "views": []
    },
    "6647a620af034d26abcd327ae02364d4": {
     "views": []
    },
    "6752222d2cba43e18f344a8db7f99d24": {
     "views": []
    },
    "6b684ba1a7c24a35ba2df77016212904": {
     "views": []
    },
    "6cea898f4aca4f1e84601f843e337238": {
     "views": []
    },
    "6f8d1e87fd60462a89d693b2f3b5f007": {
     "views": []
    },
    "74078646a5eb4047b40370a0ab8b6b30": {
     "views": []
    },
    "745b0c79ff3040788ea952fce9c7d607": {
     "views": []
    },
    "757c9b805eb7445bac9a7f141f87e45f": {
     "views": []
    },
    "76ced68e19a742e8976dbfd4e8594a1a": {
     "views": []
    },
    "783bb5e7538d4d9d8315e2698024b353": {
     "views": []
    },
    "794993d66efe4ab29a8d35aad8cfe079": {
     "views": []
    },
    "8375e24bae7541528d7cdc0f379d1d4c": {
     "views": []
    },
    "8554945ec15041a7bf8004dbc3fc5f11": {
     "views": []
    },
    "878a34e26cce4f18bb8232a682ebe964": {
     "views": []
    },
    "8921a75116a549198eb7b7f4a24ab672": {
     "views": []
    },
    "909f4504f0b049bda8b641defa177062": {
     "views": []
    },
    "910b9d32a3fb45ec99da1f9df1add816": {
     "views": []
    },
    "9d15ce601cd34f0699b7a7a0ce1d17dc": {
     "views": []
    },
    "a26638c9fee247b3891aac027a0918cc": {
     "views": []
    },
    "a9d2bf44a3ad447bb3eecde71363c198": {
     "views": []
    },
    "ad366bf4c95f4cdba62d47ba9501efc9": {
     "views": []
    },
    "ad8e1842ec314a94b6ed4b62c4c0a450": {
     "views": []
    },
    "af525094db304d2a812ae1312b00889b": {
     "views": []
    },
    "b0697c4343da491f9a35bf02681dad8f": {
     "views": []
    },
    "b07ff307919e4268bc8bec8379c47a5d": {
     "views": []
    },
    "b0e85c726ca141079333afb27edc63d4": {
     "views": []
    },
    "bdcc1e5df7a8432b9f40d8249a46f90a": {
     "views": []
    },
    "be1065f37fa24e818d31c3bb075947a3": {
     "views": []
    },
    "c296c8df2f734e268c6c1204536e7142": {
     "views": []
    },
    "c4bfd3e447f0426da144b76abc202129": {
     "views": []
    },
    "cced93184d4445218a2b14567579333d": {
     "views": []
    },
    "d5bd2e4d5f85482e9345f3a7a69380d0": {
     "views": []
    },
    "d798fa64e8be4a7d9ec1cbeece3b1be9": {
     "views": []
    },
    "d7aec0d6d05f442b991ab40af944811d": {
     "views": []
    },
    "db469cea2c8e4180bf6890de80329c1d": {
     "views": []
    },
    "e671857510c54634b6f0fa55bf1fa228": {
     "views": []
    },
    "ebf52deafaf64b0c826533dafdf993c0": {
     "views": []
    },
    "ed1e5439da9c41199a7bbbda21b556f8": {
     "views": []
    },
    "f585cf5db5024280af5b567f0e4fd771": {
     "views": []
    },
    "f6ba8f8800af47adabed847063bda8db": {
     "views": []
    },
    "f9bae72f14e44705b5c38a3ddc69fee8": {
     "views": []
    }
   },
   "version": "1.1.2"
  }
 },
 "nbformat": 4,
 "nbformat_minor": 2
}
