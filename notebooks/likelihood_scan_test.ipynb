{
 "cells": [
  {
   "cell_type": "markdown",
   "metadata": {},
   "source": [
    "# bias studies with full systematics\n",
    "\n",
    "To assess the impact of various sources of systematic, we will rely on an Asimov dataset."
   ]
  },
  {
   "cell_type": "code",
   "execution_count": 5,
   "metadata": {
    "ExecuteTime": {
     "end_time": "2020-03-01T21:56:38.821335Z",
     "start_time": "2020-03-01T21:56:38.808415Z"
    },
    "code_folding": [
     0
    ],
    "scrolled": false
   },
   "outputs": [
    {
     "name": "stdout",
     "output_type": "stream",
     "text": [
      "/home/naodell/work/wbr/analysis\n",
      "{\n",
      "  \"shell_port\": 38701,\n",
      "  \"iopub_port\": 53475,\n",
      "  \"stdin_port\": 33855,\n",
      "  \"control_port\": 44205,\n",
      "  \"hb_port\": 33361,\n",
      "  \"ip\": \"127.0.0.1\",\n",
      "  \"key\": \"783fa222-81fdb0c0db1ebfdb71db3b60\",\n",
      "  \"transport\": \"tcp\",\n",
      "  \"signature_scheme\": \"hmac-sha256\",\n",
      "  \"kernel_name\": \"\"\n",
      "}\n",
      "\n",
      "Paste the above JSON into a file, and connect with:\n",
      "    $> jupyter <app> --existing <file>\n",
      "or, if you are local, you can connect with just:\n",
      "    $> jupyter <app> --existing kernel-a0b8eade-4e3d-418b-bdd7-e0f83b5b13bf.json\n",
      "or even just:\n",
      "    $> jupyter <app> --existing\n",
      "if this is the most recent Jupyter kernel you have started.\n"
     ]
    }
   ],
   "source": [
    "## imports and configuration\n",
    "%cd '/home/naodell/work/wbr/analysis'\n",
    "#%load_ext autoreload\n",
    "\n",
    "from functools import partial\n",
    "import numpy as np\n",
    "import pandas as pd\n",
    "import matplotlib.pyplot as plt\n",
    "import matplotlib\n",
    "from scipy.optimize import minimize, basinhopping\n",
    "from tqdm.notebook import tqdm\n",
    "\n",
    "import scripts.plot_tools as pt\n",
    "import scripts.fit_helpers as fh\n",
    "from nllfit.nllfitter import ScanParameters\n",
    "\n",
    "np.set_printoptions(precision=4)\n",
    "rc_params = {\n",
    "             'figure.figsize': (10, 10),\n",
    "             'axes.labelsize': 20,\n",
    "             'axes.facecolor': 'white',\n",
    "             'axes.titlesize':'x-large',\n",
    "             'legend.fontsize': 20,\n",
    "             'xtick.labelsize':20,\n",
    "             'ytick.labelsize':20,\n",
    "             'font.size':18,\n",
    "             'font.sans-serif':['Arial', 'sans-serif'],\n",
    "             'mathtext.sf':'Arial',\n",
    "             'lines.markersize':8.,\n",
    "             'lines.linewidth':2.5,\n",
    "            }\n",
    "matplotlib.rcParams.update(rc_params)\n",
    "\n",
    "%connect_info"
   ]
  },
  {
   "cell_type": "code",
   "execution_count": 6,
   "metadata": {
    "ExecuteTime": {
     "end_time": "2020-03-01T21:56:44.215681Z",
     "start_time": "2020-03-01T21:56:38.824236Z"
    },
    "code_folding": [],
    "scrolled": false
   },
   "outputs": [],
   "source": [
    "# configure, get the input data, and do any additional processing that is needed\n",
    "input_dir  = f'local_data/templates/test_nosmooth/'\n",
    "processes = ['ttbar', 't', 'ww', 'wjets', 'zjets_alt', 'diboson', 'fakes'] \n",
    "selections = [\n",
    "              'ee', 'mumu',  \n",
    "              'emu', \n",
    "              'mutau', 'etau', \n",
    "              'mu4j', 'e4j'\n",
    "             ]\n",
    "plot_labels = fh.fancy_labels\n",
    "\n",
    "# initialize fit data\n",
    "fit_data = fh.FitData(input_dir, selections, processes, process_cut=0.05)\n",
    "params = fit_data._parameters\n",
    "params_pre = fit_data.get_params_init().values.copy()\n",
    "sample = {cat:fit_data.mixture_model(params_pre, cat) for cat in fit_data._model_data.keys()}"
   ]
  },
  {
   "cell_type": "code",
   "execution_count": 7,
   "metadata": {
    "ExecuteTime": {
     "end_time": "2020-03-01T21:56:44.282102Z",
     "start_time": "2020-03-01T21:56:44.217877Z"
    },
    "code_folding": [
     0
    ]
   },
   "outputs": [],
   "source": [
    "# configure fit\n",
    "\n",
    "# minimizer options\n",
    "min_options = dict(#eps=1e-9, \n",
    "                   #xtol=1e-3, \n",
    "                   #ftol=1e-9, \n",
    "                   #stepmx=0.1, \n",
    "                   #maxCGit=50, \n",
    "                   #accuracy=1e-10,\n",
    "                   disp=None\n",
    "                  )\n",
    "\n",
    "# configure the objective\n",
    "mask = fit_data._pmask\n",
    "fobj = partial(fit_data.objective,\n",
    "               data = sample,\n",
    "               do_bb_lite = True,\n",
    "               lu_test = 2\n",
    "              )\n",
    "\n",
    "fobj_jac = partial(fit_data.objective_jacobian,\n",
    "                   data = sample,\n",
    "                   do_bb_lite = True,\n",
    "                   lu_test = 2\n",
    "                  )\n",
    "\n"
   ]
  },
  {
   "cell_type": "code",
   "execution_count": 9,
   "metadata": {
    "ExecuteTime": {
     "end_time": "2020-03-01T21:58:57.988698Z",
     "start_time": "2020-03-01T21:57:34.940539Z"
    },
    "code_folding": [],
    "scrolled": true
   },
   "outputs": [],
   "source": [
    "# prepare scan data\n",
    "pname = 'lumi'\n",
    "iparam = list(params.index).index(pname)\n",
    "if iparam <= 3:\n",
    "    scan_vals = np.linspace(bounds[iparam][0], bounds[iparam][1], 7)\n",
    "else:\n",
    "    scan_vals = np.linspace(params_pre[iparam] - 2*params.err_init[iparam], params_pre[iparam] + 2*params.err_init[iparam], 7)\n",
    "sample = {cat:fit_data.mixture_model(params_pre, cat) for cat in fit_data._model_data.keys()}\n",
    "\n",
    "# carry out scan and save results\n",
    "results = []\n",
    "cost = []\n",
    "sv_accept = []\n",
    "cost_cache = []\n",
    "for sv in tqdm(scan_vals):\n",
    "    # randomize n.p.\n",
    "    #fit_data._pval_init[4:] = params_pre[4:] + fit_data._perr_init[4:]*np.random.randn(params_pre[4:].size)\n",
    "    \n",
    "    # produce sample with statistical randomization\n",
    "    #sample = {cat:fit_data.mixture_model(params_pre, cat, randomize=True) for cat in fit_data._model_data.keys()}\n",
    "    \n",
    "    # set scan value and carry out minimization\n",
    "    fit_data._pval_fit[iparam] = sv\n",
    "    pinit = fit_data._pval_init[mask]\n",
    "    result = minimize(fobj, pinit,\n",
    "                      jac = fobj_jac,\n",
    "                      method = 'BFGS', \n",
    "                      options = min_options,\n",
    "                     )\n",
    "    \n",
    "    sv_accept.append(sv)\n",
    "    results.append(result.x)\n",
    "    cost.append(result.fun)\n",
    "    \n",
    "    print(fobj(pinit), result.fun, sv)\n",
    "    #if result.success or result.status == 1:\n",
    "    #    sv_accept.append(sv)\n",
    "    #    results.append(result.x)\n",
    "    #    cost.append(result.fun)\n",
    "    #    \n",
    "    #    # unpack cost cache\n",
    "    #    #new_cache = []\n",
    "    #    #for cat, cache in fit_data._cache.items():\n",
    "    #    #    new_cache.extend(cache['cost'])\n",
    "    #    #cost_cache.append(new_cache)\n",
    "    #    \n",
    "    #    #print(fit_data._cache['ee_cat_gt2_eq0']['cost'])\n",
    "    #else:\n",
    "    #    print(result)\n",
    "    #    print(sv)\n",
    "        "
   ]
  },
  {
   "cell_type": "code",
   "execution_count": null,
   "metadata": {
    "ExecuteTime": {
     "end_time": "2020-03-01T21:57:14.873521Z",
     "start_time": "2020-03-01T21:56:38.821Z"
    },
    "code_folding": []
   },
   "outputs": [],
   "source": [
    "# fit scan data with a parabola and calculate curvature\n",
    "results = np.array(results)\n",
    "cost = np.array(cost)\n",
    "sv_accept = np.array(sv_accept)\n",
    "#cost_cache = np.array(cost_cache)\n",
    "\n",
    "mask = cost >= 0 \n",
    "nll_coeff = np.polyfit(sv_accept[mask], cost[mask], deg=2)#, w=np.exp(-0.5*(params_init[ix] - scan_points)**2/sigma_fisher**2))\n",
    "nll_poly = np.poly1d(nll_coeff)\n",
    "d_nll_poly = np.polyder(nll_poly, m=2)\n",
    "sigma_post = 1/np.sqrt(d_nll_poly(0))\n",
    "\n",
    "if params_pre[iparam] != 0:\n",
    "    err = sigma_post*100/params_pre[iparam]\n",
    "else:\n",
    "    err = sigma_post*100\n",
    "print(err)"
   ]
  },
  {
   "cell_type": "code",
   "execution_count": null,
   "metadata": {
    "ExecuteTime": {
     "end_time": "2020-03-01T21:57:14.874340Z",
     "start_time": "2020-03-01T21:56:38.825Z"
    },
    "scrolled": false
   },
   "outputs": [],
   "source": [
    "fig, ax = plt.subplots(1, 1, figsize=(8,8), facecolor='white')\n",
    "\n",
    "ax.plot(sv_accept, cost, 'ko')\n",
    "ax.plot(scan_vals, nll_poly(scan_vals), 'r--')\n",
    "ax.grid()\n",
    "ax.set_xlabel(params.loc[pname].label)\n",
    "ax.set_ylabel('NLL')\n",
    "ax.text(sv_accept[1], 0.95*np.max(cost), r'$\\hat{\\theta} = $' + f'{sv_accept[np.argmin(cost)]:.3f}')\n",
    "ax.text(sv_accept[1], 0.89*np.max(cost), r'$\\sigma_{\\theta} = $' + f'{err:.2f}')\n",
    "\n",
    "#ax.set_ylim(0, 10)\n",
    "\n",
    "plt.savefig(f'plots/nll_scans/{pname}.png')\n",
    "plt.show()"
   ]
  },
  {
   "cell_type": "code",
   "execution_count": null,
   "metadata": {
    "ExecuteTime": {
     "end_time": "2020-03-01T21:57:14.875139Z",
     "start_time": "2020-03-01T21:56:38.827Z"
    },
    "code_folding": [],
    "scrolled": false
   },
   "outputs": [],
   "source": [
    "# unpack cached data\n",
    "\n",
    "err = []\n",
    "for i in range(cost_cache.shape[1]):\n",
    "    #ax.plot(sv_accept, cost_cache[:,i], 'o')\n",
    "    \n",
    "    nll_coeff = np.polyfit(sv_accept, cost_cache[:,i], deg=2)#, w=np.exp(-0.5*(params_init[ix] - scan_points)**2/sigma_fisher**2))\n",
    "    nll_poly = np.poly1d(nll_coeff)\n",
    "    d_nll_poly = np.polyder(nll_poly, m=2)\n",
    "    sigma = 1/np.sqrt(d_nll_poly(0))\n",
    "    err.append((sigma**2)/(sigma_post**2))\n",
    "    \n",
    "err = np.array(err)\n",
    "err[np.isnan(err)] = np.inf\n",
    "\n",
    "fig, axes = plt.subplots(5, 1, facecolor='white', figsize=(20, 16))\n",
    "selections = ['ll', 'emu', 'mutau', 'etau', 'lh']\n",
    "for ix, selection in enumerate(selections):\n",
    "    ax = axes[ix]\n",
    "    if selection == 'll':\n",
    "        ax.set_title(r'$ee/\\mu\\mu$', fontsize=16)\n",
    "        imin, imax = 0, 90 # ee, mumu\n",
    "    elif selection == 'emu':\n",
    "        ax.set_title(r'$e\\mu$', fontsize=16)\n",
    "        imin, imax = 90, 178 # emu\n",
    "    elif selection == 'mutau':\n",
    "        ax.set_title(r'$\\mu\\tau$', fontsize=16)\n",
    "        imin, imax = 178, 265 # mutau\n",
    "    elif selection == 'etau':\n",
    "        ax.set_title(r'$e\\tau$', fontsize=16)\n",
    "        imin, imax = 265, 345 # etau\n",
    "    elif selection == 'lh':\n",
    "        ax.set_title(r'$e/\\mu+h$', fontsize=16)\n",
    "        imin, imax = 345, 401 # e4j, mu4j\n",
    "\n",
    "    # get bins per category\n",
    "    ibin = 0\n",
    "    err_max = np.max(1/err[imin:imax])\n",
    "    for cat, data in fit_data._model_data.items():\n",
    "\n",
    "        nbins = data['data'][0].size\n",
    "        ibin += nbins\n",
    "        if ibin <= imin or ibin > imax: \n",
    "            continue\n",
    "\n",
    "        jet_cat = '_'.join(cat.split('_')[1:])\n",
    "        jet_cat = pt.categories[jet_cat].label \n",
    "        ax.text(ibin-nbins+1, 1.05*err_max, jet_cat, rotation=0, fontsize=14)\n",
    "        ax.plot([ibin, ibin], [0, 1.5*err_max], 'r:')\n",
    "\n",
    "    #ax.bar(np.arange(cost_cache.shape[1]), 1/err)\n",
    "    ax.bar(np.arange(imin, imax), 1/err[imin:imax], align='edge')\n",
    "\n",
    "    ax.grid(axis='Y')\n",
    "    ax.set_xlim(imin, imax)\n",
    "    ax.set_ylim(0, 1.2*err_max)\n",
    "    ax.set_xlabel('bin')\n",
    "    if ix == 2:\n",
    "        ax.set_ylabel(r'$\\partial^{2}NLL_{bin}/\\partial^{2}NLL_{total}$')\n",
    "\n",
    "plt.tight_layout()\n",
    "plt.savefig(f'plots/nll_scans/{pname}_scan_bins_{selection}.png')\n",
    "plt.show()"
   ]
  },
  {
   "cell_type": "code",
   "execution_count": null,
   "metadata": {},
   "outputs": [],
   "source": []
  }
 ],
 "metadata": {
  "hide_input": false,
  "kernelspec": {
   "display_name": "Python 3",
   "language": "python",
   "name": "python3"
  },
  "language_info": {
   "codemirror_mode": {
    "name": "ipython",
    "version": 3
   },
   "file_extension": ".py",
   "mimetype": "text/x-python",
   "name": "python",
   "nbconvert_exporter": "python",
   "pygments_lexer": "ipython3",
   "version": "3.7.2"
  },
  "latex_envs": {
   "LaTeX_envs_menu_present": true,
   "autoclose": false,
   "autocomplete": true,
   "bibliofile": "biblio.bib",
   "cite_by": "apalike",
   "current_citInitial": 1,
   "eqLabelWithNumbers": true,
   "eqNumInitial": 0,
   "hotkeys": {
    "equation": "Ctrl-E",
    "itemize": "Ctrl-I"
   },
   "labels_anchors": false,
   "latex_user_defs": false,
   "report_style_numbering": false,
   "user_envs_cfg": false
  },
  "toc": {
   "nav_menu": {
    "height": "29px",
    "width": "251px"
   },
   "number_sections": true,
   "sideBar": true,
   "skip_h1_title": false,
   "title_cell": "Table of Contents",
   "title_sidebar": "Contents",
   "toc_cell": false,
   "toc_position": {
    "height": "49px",
    "left": "0px",
    "right": "1493.87px",
    "top": "90.9965px",
    "width": "242px"
   },
   "toc_section_display": false,
   "toc_window_display": false
  },
  "varInspector": {
   "cols": {
    "lenName": 16,
    "lenType": 16,
    "lenVar": 40
   },
   "kernels_config": {
    "python": {
     "delete_cmd_postfix": "",
     "delete_cmd_prefix": "del ",
     "library": "var_list.py",
     "varRefreshCmd": "print(var_dic_list())"
    },
    "r": {
     "delete_cmd_postfix": ") ",
     "delete_cmd_prefix": "rm(",
     "library": "var_list.r",
     "varRefreshCmd": "cat(var_dic_list()) "
    }
   },
   "types_to_exclude": [
    "module",
    "function",
    "builtin_function_or_method",
    "instance",
    "_Feature"
   ],
   "window_display": false
  },
  "widgets": {
   "state": {
    "012f8bbe2fdb410dae6e2cde9d7fe5cb": {
     "views": []
    },
    "080556076f174648bddf64f17a54c523": {
     "views": []
    },
    "0ad83b5f67484ae5b8fd8dd43ccc39bd": {
     "views": []
    },
    "15acd81a9adc493683d9b63813f000bf": {
     "views": []
    },
    "1840cb6fded848b4ae95ec8d3db15ab2": {
     "views": []
    },
    "1dd83f822e074642ae4255b15ee661cf": {
     "views": []
    },
    "1e71a878e6474912a0efc497ecc5d65b": {
     "views": []
    },
    "2022ed83777b4963b630b5c46239e218": {
     "views": []
    },
    "21c4c57bfc48495194663e6a4fbac488": {
     "views": []
    },
    "22c45c75435348c0b9501d493d69fdca": {
     "views": []
    },
    "2635f668a1af4a9db2642e705d7c73ff": {
     "views": []
    },
    "2ad5ddd9347e451b9290e5b4179ab9a2": {
     "views": []
    },
    "2c062b5778024117984822b63b0593d7": {
     "views": []
    },
    "2f5eab2f6fb24192b76a5ffe99195d44": {
     "views": []
    },
    "31632517325046e8b0cb62e4f4ed2480": {
     "views": []
    },
    "3562b97192ed4d42bbab17f77c290f6b": {
     "views": []
    },
    "38a7cc053723492b921cf9f084ed243c": {
     "views": []
    },
    "3b5750b20e1745879ca0f965aad7b614": {
     "views": []
    },
    "3f1cbabbe2694a9dabe3f1c2e09d0ee2": {
     "views": []
    },
    "3fab6a26a70c4238a668a46d4dc88bf6": {
     "views": []
    },
    "3fb3c7a25e954a4888996976fa107737": {
     "views": []
    },
    "415db64fbc574daea8457ab600392f09": {
     "views": []
    },
    "4463de406b4645a4b562fe7917380ff9": {
     "views": []
    },
    "487e5450b5a24507932709f1fa8f59c1": {
     "views": []
    },
    "48aba73013e74e71927f71d42fb44d14": {
     "views": []
    },
    "4a19ad30f77e4fe6a2c84c8b62378a47": {
     "views": []
    },
    "4bc83ff5270d41679d76d26cdded8313": {
     "views": []
    },
    "4bdd9dd5c5c64646a27fa9096851458b": {
     "views": []
    },
    "5014cd42705f45178d5e6eeffd70f119": {
     "views": []
    },
    "5259b340b68e4fdb97fb4eaf9d98d954": {
     "views": []
    },
    "5986ef5b605a42aca10bc5834529ee06": {
     "views": []
    },
    "5c1aa44589a140eb9709734c843abde6": {
     "views": []
    },
    "600cd9ca4f4c46d4ad6fe57df107675a": {
     "views": [
      {
       "cell_index": 7
      }
     ]
    },
    "61fe369ebdd14eaa89de110f6186e6b7": {
     "views": []
    },
    "62ac836017ae47a38f8fde806c5ec9b7": {
     "views": []
    },
    "632ccbfabe91405aa1c5a77c9ea754db": {
     "views": []
    },
    "66175f618ea5472baac618f998d2c06c": {
     "views": []
    },
    "6647a620af034d26abcd327ae02364d4": {
     "views": []
    },
    "6752222d2cba43e18f344a8db7f99d24": {
     "views": []
    },
    "6b684ba1a7c24a35ba2df77016212904": {
     "views": []
    },
    "6cea898f4aca4f1e84601f843e337238": {
     "views": []
    },
    "6f8d1e87fd60462a89d693b2f3b5f007": {
     "views": []
    },
    "74078646a5eb4047b40370a0ab8b6b30": {
     "views": []
    },
    "745b0c79ff3040788ea952fce9c7d607": {
     "views": []
    },
    "757c9b805eb7445bac9a7f141f87e45f": {
     "views": []
    },
    "76ced68e19a742e8976dbfd4e8594a1a": {
     "views": []
    },
    "783bb5e7538d4d9d8315e2698024b353": {
     "views": []
    },
    "794993d66efe4ab29a8d35aad8cfe079": {
     "views": []
    },
    "8375e24bae7541528d7cdc0f379d1d4c": {
     "views": []
    },
    "8554945ec15041a7bf8004dbc3fc5f11": {
     "views": []
    },
    "878a34e26cce4f18bb8232a682ebe964": {
     "views": []
    },
    "8921a75116a549198eb7b7f4a24ab672": {
     "views": []
    },
    "909f4504f0b049bda8b641defa177062": {
     "views": []
    },
    "910b9d32a3fb45ec99da1f9df1add816": {
     "views": []
    },
    "9d15ce601cd34f0699b7a7a0ce1d17dc": {
     "views": []
    },
    "a26638c9fee247b3891aac027a0918cc": {
     "views": []
    },
    "a9d2bf44a3ad447bb3eecde71363c198": {
     "views": []
    },
    "ad366bf4c95f4cdba62d47ba9501efc9": {
     "views": []
    },
    "ad8e1842ec314a94b6ed4b62c4c0a450": {
     "views": []
    },
    "af525094db304d2a812ae1312b00889b": {
     "views": []
    },
    "b0697c4343da491f9a35bf02681dad8f": {
     "views": []
    },
    "b07ff307919e4268bc8bec8379c47a5d": {
     "views": []
    },
    "b0e85c726ca141079333afb27edc63d4": {
     "views": []
    },
    "bdcc1e5df7a8432b9f40d8249a46f90a": {
     "views": []
    },
    "be1065f37fa24e818d31c3bb075947a3": {
     "views": []
    },
    "c296c8df2f734e268c6c1204536e7142": {
     "views": []
    },
    "c4bfd3e447f0426da144b76abc202129": {
     "views": []
    },
    "cced93184d4445218a2b14567579333d": {
     "views": []
    },
    "d5bd2e4d5f85482e9345f3a7a69380d0": {
     "views": []
    },
    "d798fa64e8be4a7d9ec1cbeece3b1be9": {
     "views": []
    },
    "d7aec0d6d05f442b991ab40af944811d": {
     "views": []
    },
    "db469cea2c8e4180bf6890de80329c1d": {
     "views": []
    },
    "e671857510c54634b6f0fa55bf1fa228": {
     "views": []
    },
    "ebf52deafaf64b0c826533dafdf993c0": {
     "views": []
    },
    "ed1e5439da9c41199a7bbbda21b556f8": {
     "views": []
    },
    "f585cf5db5024280af5b567f0e4fd771": {
     "views": []
    },
    "f6ba8f8800af47adabed847063bda8db": {
     "views": []
    },
    "f9bae72f14e44705b5c38a3ddc69fee8": {
     "views": []
    }
   },
   "version": "1.1.2"
  }
 },
 "nbformat": 4,
 "nbformat_minor": 2
}
