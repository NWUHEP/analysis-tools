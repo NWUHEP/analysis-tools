{
 "cells": [
  {
   "cell_type": "markdown",
   "metadata": {},
   "source": [
    "# MC mixer\n",
    "\n",
    "Looking at data is a serious taboo at CMS so we try to build MC to look like the data.  Several MC samples are used to model the ttbar and Drell-Yan backgrounds and must be sampled in proportion to their cross-section for the sake of making data-like mixtures.\n"
   ]
  },
  {
   "cell_type": "code",
   "execution_count": 1,
   "metadata": {
    "code_folding": [],
    "collapsed": false
   },
   "outputs": [
    {
     "name": "stdout",
     "output_type": "stream",
     "text": [
      "/home/naodell/work/CMS/amumu\n"
     ]
    }
   ],
   "source": [
    "#imports\n",
    "%cd '/home/naodell/work/CMS/amumu'\n",
    "%matplotlib notebook\n",
    "\n",
    "import os, sys\n",
    "from timeit import default_timer as timer\n",
    "\n",
    "import numpy as np\n",
    "import pandas as pd\n",
    "import matplotlib.pyplot as plt\n",
    "import matplotlib\n",
    "from tqdm import tqdm_notebook\n",
    "\n",
    "import nllfitter.plot_tools as pt\n",
    "\n",
    "pt.set_new_tdr()\n",
    "matplotlib.rcParams['figure.figsize'] = (8,8)"
   ]
  },
  {
   "cell_type": "code",
   "execution_count": 2,
   "metadata": {
    "code_folding": [],
    "collapsed": false
   },
   "outputs": [
    {
     "name": "stderr",
     "output_type": "stream",
     "text": [
      "Loading dataframes: 100%|███████████████| 14.0/14.0 [00:05<00:00, 2.38it/s]\n",
      "Loading dataframes: 100%|███████████████| 4.00/4.00 [00:04<00:00, 1.16s/it]\n"
     ]
    }
   ],
   "source": [
    "#configuration and data retrieval\n",
    "datasets = [\n",
    "            'ttbar_lep', 'ttbar_semilep', \n",
    "            'zjets_m-50',  'z1jets_m-50', 'z2jets_m-50', \n",
    "            'z3jets_m-50', 'z4jets_m-50', \n",
    "            'zjets_m-10to50', 'z1jets_m-10to50', 'z2jets_m-10to50',\n",
    "            'z3jets_m-10to50', 'z4jets_m-10to50',\n",
    "            #'bprime_t-channel'\n",
    "            'fcnc_s-channel', 'fcnc_tt_semilep'\n",
    "            ]\n",
    "preselection = '(lepton1_pt > 25 and abs(lepton1_eta) < 2.1 \\\n",
    "                and lepton2_pt > 25 and abs(lepton2_eta) < 2.1 \\\n",
    "                and lepton1_q != lepton2_q \\\n",
    "                and 12 < dilepton_mass < 70) \\\n",
    "                and n_bjets >= 1 \\\n",
    "                and ((n_bjets == 1 and n_jets == 0 and n_fwdjets == 1) \\\n",
    "                or (n_bjets >= 1 and n_bjets + n_jets == 2 and n_fwdjets == 0 \\\n",
    "                and met_mag < 40 and four_body_delta_phi > 2.5))'\n",
    "\n",
    "dm_mc = pt.DataManager(input_dir     = 'data/flatuples/mumu_2012',\n",
    "                       dataset_names = datasets,                       \n",
    "                       selection     = 'mumu',\n",
    "                       period        = 2012,\n",
    "                       scale         = 19.8e3,\n",
    "                       cuts          = preselection,\n",
    "                       combine       = False\n",
    "                    )\n",
    "\n",
    "dm_data = pt.DataManager(input_dir     = 'data/flatuples/mumu_2012',\n",
    "                         dataset_names = ['muon_2012A', 'muon_2012B', 'muon_2012C', 'muon_2012D'],                       \n",
    "                         selection     = 'mumu',\n",
    "                         period        = 2012,\n",
    "                         scale         = 19.8e3,\n",
    "                         cuts          = preselection,\n",
    "                         combine       = True\n",
    "                        )"
   ]
  },
  {
   "cell_type": "markdown",
   "metadata": {},
   "source": [
    "In order to prepare a sample from that datasets we have available, it will be important to know the contribution from each of those datasets taking into account their cross sections.  "
   ]
  },
  {
   "cell_type": "code",
   "execution_count": 3,
   "metadata": {
    "code_folding": [],
    "collapsed": false,
    "scrolled": false
   },
   "outputs": [
    {
     "data": {
      "text/html": [
       "<div>\n",
       "<table border=\"1\" class=\"dataframe\">\n",
       "  <thead>\n",
       "    <tr style=\"text-align: right;\">\n",
       "      <th></th>\n",
       "      <th>raw</th>\n",
       "      <th>scaled</th>\n",
       "      <th>scaling</th>\n",
       "    </tr>\n",
       "  </thead>\n",
       "  <tbody>\n",
       "    <tr>\n",
       "      <th>ttbar_lep</th>\n",
       "      <td>9731.0</td>\n",
       "      <td>416.454560</td>\n",
       "      <td>23.366295</td>\n",
       "    </tr>\n",
       "    <tr>\n",
       "      <th>ttbar_semilep</th>\n",
       "      <td>65.0</td>\n",
       "      <td>5.386560</td>\n",
       "      <td>12.067070</td>\n",
       "    </tr>\n",
       "    <tr>\n",
       "      <th>zjets_m-50</th>\n",
       "      <td>64.0</td>\n",
       "      <td>5.118264</td>\n",
       "      <td>12.504241</td>\n",
       "    </tr>\n",
       "    <tr>\n",
       "      <th>z1jets_m-50</th>\n",
       "      <td>36.0</td>\n",
       "      <td>19.263143</td>\n",
       "      <td>1.868854</td>\n",
       "    </tr>\n",
       "    <tr>\n",
       "      <th>z2jets_m-50</th>\n",
       "      <td>374.0</td>\n",
       "      <td>74.933413</td>\n",
       "      <td>4.991098</td>\n",
       "    </tr>\n",
       "    <tr>\n",
       "      <th>z3jets_m-50</th>\n",
       "      <td>300.0</td>\n",
       "      <td>33.816154</td>\n",
       "      <td>8.871500</td>\n",
       "    </tr>\n",
       "    <tr>\n",
       "      <th>z4jets_m-50</th>\n",
       "      <td>143.0</td>\n",
       "      <td>11.790590</td>\n",
       "      <td>12.128315</td>\n",
       "    </tr>\n",
       "    <tr>\n",
       "      <th>zjets_m-10to50</th>\n",
       "      <td>15.0</td>\n",
       "      <td>0.000000</td>\n",
       "      <td>inf</td>\n",
       "    </tr>\n",
       "    <tr>\n",
       "      <th>z1jets_m-10to50</th>\n",
       "      <td>6.0</td>\n",
       "      <td>3.795238</td>\n",
       "      <td>1.580928</td>\n",
       "    </tr>\n",
       "    <tr>\n",
       "      <th>z2jets_m-10to50</th>\n",
       "      <td>304.0</td>\n",
       "      <td>74.366694</td>\n",
       "      <td>4.087851</td>\n",
       "    </tr>\n",
       "    <tr>\n",
       "      <th>z3jets_m-10to50</th>\n",
       "      <td>79.0</td>\n",
       "      <td>56.378798</td>\n",
       "      <td>1.401236</td>\n",
       "    </tr>\n",
       "    <tr>\n",
       "      <th>z4jets_m-10to50</th>\n",
       "      <td>41.0</td>\n",
       "      <td>30.646348</td>\n",
       "      <td>1.337843</td>\n",
       "    </tr>\n",
       "    <tr>\n",
       "      <th>fcnc_s-channel</th>\n",
       "      <td>288.0</td>\n",
       "      <td>2.091243</td>\n",
       "      <td>137.717158</td>\n",
       "    </tr>\n",
       "    <tr>\n",
       "      <th>fcnc_tt_semilep</th>\n",
       "      <td>206.0</td>\n",
       "      <td>40.777166</td>\n",
       "      <td>5.051847</td>\n",
       "    </tr>\n",
       "    <tr>\n",
       "      <th>background</th>\n",
       "      <td>11652.0</td>\n",
       "      <td>774.818171</td>\n",
       "      <td>15.038367</td>\n",
       "    </tr>\n",
       "  </tbody>\n",
       "</table>\n",
       "</div>"
      ],
      "text/plain": [
       "                     raw      scaled     scaling\n",
       "ttbar_lep         9731.0  416.454560   23.366295\n",
       "ttbar_semilep       65.0    5.386560   12.067070\n",
       "zjets_m-50          64.0    5.118264   12.504241\n",
       "z1jets_m-50         36.0   19.263143    1.868854\n",
       "z2jets_m-50        374.0   74.933413    4.991098\n",
       "z3jets_m-50        300.0   33.816154    8.871500\n",
       "z4jets_m-50        143.0   11.790590   12.128315\n",
       "zjets_m-10to50      15.0    0.000000         inf\n",
       "z1jets_m-10to50      6.0    3.795238    1.580928\n",
       "z2jets_m-10to50    304.0   74.366694    4.087851\n",
       "z3jets_m-10to50     79.0   56.378798    1.401236\n",
       "z4jets_m-10to50     41.0   30.646348    1.337843\n",
       "fcnc_s-channel     288.0    2.091243  137.717158\n",
       "fcnc_tt_semilep    206.0   40.777166    5.051847\n",
       "background       11652.0  774.818171   15.038367"
      ]
     },
     "execution_count": 3,
     "metadata": {},
     "output_type": "execute_result"
    }
   ],
   "source": [
    "# calculate proportions from each dataset\n",
    "conditions    = ['preselection']\n",
    "table_raw = dm_mc.print_yields(datasets, \n",
    "                               conditions = conditions, \n",
    "                               do_string  = False,\n",
    "                               mc_scale   = False\n",
    "                              )\n",
    "table_scaled = dm_mc.print_yields(datasets, \n",
    "                                  conditions = conditions, \n",
    "                                  do_string  = False,\n",
    "                                  mc_scale   = True\n",
    "                                 )\n",
    "table = pd.concat([table_raw, table_scaled], axis=1)\n",
    "table.columns = ['raw', 'scaled']\n",
    "table['scaling'] = table.raw/table.scaled\n",
    "table"
   ]
  },
  {
   "cell_type": "markdown",
   "metadata": {},
   "source": [
    "Based on the proportion in the *scaled* column, I prepare an admixture of the different background components.  For the signal I fix the scaling so that the yields agree with the nominal selection (so roughly 45 events).  I probably will refine this so that the the significance agrees with the nominal selection, but these things should really be the same."
   ]
  },
  {
   "cell_type": "code",
   "execution_count": 21,
   "metadata": {
    "collapsed": false
   },
   "outputs": [
    {
     "name": "stdout",
     "output_type": "stream",
     "text": [
      "\n"
     ]
    },
    {
     "ename": "ValueError",
     "evalue": "Invalid weights: weights sum to zero",
     "output_type": "error",
     "traceback": [
      "\u001b[1;31m---------------------------------------------------------------------------\u001b[0m",
      "\u001b[1;31mValueError\u001b[0m                                Traceback (most recent call last)",
      "\u001b[1;32m<ipython-input-21-174c9c8e499d>\u001b[0m in \u001b[0;36m<module>\u001b[1;34m()\u001b[0m\n\u001b[0;32m     21\u001b[0m             \u001b[1;32mcontinue\u001b[0m\u001b[1;33m\u001b[0m\u001b[0m\n\u001b[0;32m     22\u001b[0m \u001b[1;33m\u001b[0m\u001b[0m\n\u001b[1;32m---> 23\u001b[1;33m         \u001b[0mdata\u001b[0m \u001b[1;33m=\u001b[0m \u001b[0mdf\u001b[0m\u001b[1;33m.\u001b[0m\u001b[0msample\u001b[0m\u001b[1;33m(\u001b[0m\u001b[0mn\u001b[0m\u001b[1;33m=\u001b[0m\u001b[0mn_events\u001b[0m\u001b[1;33m,\u001b[0m \u001b[0mweights\u001b[0m\u001b[1;33m=\u001b[0m\u001b[1;34m'weight'\u001b[0m\u001b[1;33m,\u001b[0m \u001b[0maxis\u001b[0m\u001b[1;33m=\u001b[0m\u001b[1;36m0\u001b[0m\u001b[1;33m)\u001b[0m\u001b[1;33m[\u001b[0m\u001b[0mfeatures\u001b[0m\u001b[1;33m]\u001b[0m\u001b[1;33m\u001b[0m\u001b[0m\n\u001b[0m\u001b[0;32m     24\u001b[0m         \u001b[0mdata\u001b[0m\u001b[1;33m[\u001b[0m\u001b[1;34m'sample_type'\u001b[0m\u001b[1;33m]\u001b[0m \u001b[1;33m=\u001b[0m \u001b[0mdm_mc\u001b[0m\u001b[1;33m.\u001b[0m\u001b[0m_lut_datasets\u001b[0m\u001b[1;33m.\u001b[0m\u001b[0mloc\u001b[0m\u001b[1;33m[\u001b[0m\u001b[0mdataset\u001b[0m\u001b[1;33m]\u001b[0m\u001b[1;33m.\u001b[0m\u001b[0mlabel\u001b[0m\u001b[1;33m\u001b[0m\u001b[0m\n\u001b[0;32m     25\u001b[0m         \u001b[0mmc\u001b[0m\u001b[1;33m.\u001b[0m\u001b[0mappend\u001b[0m\u001b[1;33m(\u001b[0m\u001b[0mdata\u001b[0m\u001b[1;33m)\u001b[0m\u001b[1;33m\u001b[0m\u001b[0m\n",
      "\u001b[1;32m/usr/local/lib/python2.7/dist-packages/pandas/core/generic.pyc\u001b[0m in \u001b[0;36msample\u001b[1;34m(self, n, frac, replace, weights, random_state, axis)\u001b[0m\n\u001b[0;32m   2550\u001b[0m                     \u001b[0mweights\u001b[0m \u001b[1;33m=\u001b[0m \u001b[0mweights\u001b[0m \u001b[1;33m/\u001b[0m \u001b[0mweights\u001b[0m\u001b[1;33m.\u001b[0m\u001b[0msum\u001b[0m\u001b[1;33m(\u001b[0m\u001b[1;33m)\u001b[0m\u001b[1;33m\u001b[0m\u001b[0m\n\u001b[0;32m   2551\u001b[0m                 \u001b[1;32melse\u001b[0m\u001b[1;33m:\u001b[0m\u001b[1;33m\u001b[0m\u001b[0m\n\u001b[1;32m-> 2552\u001b[1;33m                     \u001b[1;32mraise\u001b[0m \u001b[0mValueError\u001b[0m\u001b[1;33m(\u001b[0m\u001b[1;34m\"Invalid weights: weights sum to zero\"\u001b[0m\u001b[1;33m)\u001b[0m\u001b[1;33m\u001b[0m\u001b[0m\n\u001b[0m\u001b[0;32m   2553\u001b[0m \u001b[1;33m\u001b[0m\u001b[0m\n\u001b[0;32m   2554\u001b[0m             \u001b[0mweights\u001b[0m \u001b[1;33m=\u001b[0m \u001b[0mweights\u001b[0m\u001b[1;33m.\u001b[0m\u001b[0mvalues\u001b[0m\u001b[1;33m\u001b[0m\u001b[0m\n",
      "\u001b[1;31mValueError\u001b[0m: Invalid weights: weights sum to zero"
     ]
    }
   ],
   "source": [
    "table.loc['background', 'scaled']\n",
    "features = ['lepton1_pt', 'lepton1_eta', 'lepton1_q', \n",
    "            'lepton2_pt', 'lepton2_eta', 'lepton2_q',\n",
    "            'dilepton_mass', 'dilepton_pt', \n",
    "            'dilepton_pt_over_m', 'dilepton_b_mass', 'dilepton_j_mass', \n",
    "            'dijet_mass', 'met_mag', 'four_body_delta_phi',\n",
    "            'n_bjets', 'n_jets', 'n_fwdjets']\n",
    " \n",
    "nsims = 100\n",
    "for i in tqdm_notebook(range(nsims),\n",
    "                   desc       = 'scanning',\n",
    "                   unit_scale = True,\n",
    "                   #ncols      = 75,\n",
    "                   total      = nsims\n",
    "                  ):\n",
    "    mc = []\n",
    "    for dataset in datasets:\n",
    "        n_events = int(table.loc[dataset, 'scaled'])\n",
    "        df = dm_mc.get_dataframe(dataset)\n",
    "        if df.weight[df.weight != 0].shape[0] < n_events:\n",
    "            continue\n",
    "            \n",
    "        data = df.sample(n=n_events, weights='weight', axis=0)[features]\n",
    "        data['sample_type'] = dm_mc._lut_datasets.loc[dataset].label\n",
    "        mc.append(data)\n",
    "\n",
    "    mc = pd.concat(mc)\n",
    "    mc.to_csv('data/mc_mixes_bprime/dimuon_{0}.csv'.format(i), index=False, sep=' ')\n",
    "\n",
    "# background = mc.query('sample_type != \"bprime_t-channel\"')\n",
    "# signal = mc.query('sample_type == \"bprime_t-channel\"')\n",
    "background = mc.query('sample_type != \"fcnc\"')\n",
    "signal = mc.query('sample_type == \"fcnc\"')"
   ]
  },
  {
   "cell_type": "markdown",
   "metadata": {},
   "source": [
    "To make sure the mixture is done properly, I compare the background and background plus signal mixtures to the data."
   ]
  },
  {
   "cell_type": "code",
   "execution_count": null,
   "metadata": {
    "collapsed": false,
    "scrolled": false
   },
   "outputs": [],
   "source": [
    "# Get data for validation and MC for mixing\n",
    "data = dm_data.get_dataframe('data')['dilepton_mass'].values\n",
    "bg   = background['dilepton_mass'].values\n",
    "sig  = signal['dilepton_mass'].values\n",
    "\n",
    "# convert data to histogram with errorbars\n",
    "x, y, yerr = pt.hist_to_errorbar(data,\n",
    "                                 nbins = 29,\n",
    "                                 xlim  = (12, 70)\n",
    "                                ) \n",
    "\n",
    "# overlays\n",
    "fig, (ax1, ax2) = plt.subplots(2, sharex=True)\n",
    "h_bg, b, _   = ax1.hist(bg, bins=29, range=(12, 70), histtype='step', linestyle='--', color='b')\n",
    "h_sig, b, _  = ax1.hist(sig, bins=29, range=(12, 70), histtype='step', bottom=h_bg, color='r')\n",
    "eb           = ax1.errorbar(x, y, yerr, fmt='ko', capsize=0, elinewidth=2)\n",
    "\n",
    "ax1.legend(['bg', 'bg+signal', 'data'], loc=2, fontsize='small')\n",
    "ax1.set_ylabel(r'Entries')\n",
    "ax1.set_ylim(0, 2*np.max(h_bg))\n",
    "ax1.set_xlim(12, 70)\n",
    "ax1.grid()\n",
    "\n",
    "# ratio\n",
    "ratio = y/(h_bg+h_sig)\n",
    "ratio_err = pt.ratio_errors(y, h_bg+h_sig)\n",
    "ax2.errorbar(x, ratio, ratio_err, fmt='ko', capsize=0, elinewidth=2)\n",
    "ax2.plot([12, 70], [1, 1], 'r--')\n",
    "ax2.set_xlabel(r'$\\sf M_{\\mu\\mu}$')\n",
    "ax2.set_ylim(0., 2.)\n",
    "ax2.grid()\n",
    "ax2.set_ylabel(r'Data/MC')\n",
    "\n",
    "fig.savefig('plots/mc_mix_validate.pdf')\n",
    "plt.show()"
   ]
  },
  {
   "cell_type": "markdown",
   "metadata": {},
   "source": [
    "Hopefully the agreement looks good..."
   ]
  }
 ],
 "metadata": {
  "hide_input": false,
  "kernelspec": {
   "display_name": "Python 2",
   "language": "python",
   "name": "python2"
  },
  "language_info": {
   "codemirror_mode": {
    "name": "ipython",
    "version": 2
   },
   "file_extension": ".py",
   "mimetype": "text/x-python",
   "name": "python",
   "nbconvert_exporter": "python",
   "pygments_lexer": "ipython2",
   "version": "2.7.12"
  },
  "latex_envs": {
   "bibliofile": "biblio.bib",
   "cite_by": "apalike",
   "current_citInitial": 1,
   "eqLabelWithNumbers": true,
   "eqNumInitial": 0
  },
  "toc": {
   "nav_menu": {
    "height": "141px",
    "width": "252px"
   },
   "navigate_menu": true,
   "number_sections": true,
   "sideBar": true,
   "threshold": 4,
   "toc_cell": false,
   "toc_section_display": "block",
   "toc_window_display": false
  },
  "widgets": {
   "state": {
    "05817136285a47c7ad45ee1b542dc4c6": {
     "views": []
    },
    "0666bb81ef6f4cf1bef423218d129f55": {
     "views": []
    },
    "153827fefca445d2a011537507791c12": {
     "views": []
    },
    "213e8317e60f42e4a2d6e3c37412e808": {
     "views": []
    },
    "22a19b78352741609dad31e8920c19c5": {
     "views": []
    },
    "3847d39f7ba942e6b204a3f8ce6fa45f": {
     "views": []
    },
    "49b96165bc28468ea04d267c13fecf73": {
     "views": []
    },
    "4c73b9be189d4c2f904dfb81878e6463": {
     "views": []
    },
    "5cbe9b7ed23a49598690106303d31dd0": {
     "views": []
    },
    "6d2774e1d4264c5996f550fcf59ec520": {
     "views": []
    },
    "8352e57dabe54a929b4cb3cc2605efa2": {
     "views": []
    },
    "880c025f05434c83b0a4137388aea4be": {
     "views": []
    },
    "900b15b79ee8440493e63d350ad74fd6": {
     "views": []
    },
    "95a3aeb9f90a44fc87de5f717087f12a": {
     "views": []
    },
    "9dc21a0591424d0ba554cab5ed8a4afc": {
     "views": []
    },
    "a13d0523ea68435d9fda16d299b8393a": {
     "views": []
    },
    "aeafdb31ccbb4279b49690a0b6f5c748": {
     "views": [
      {
       "cell_index": 6
      }
     ]
    },
    "afe4a5d2c414451f86bcd52027133866": {
     "views": []
    },
    "b55b393a2c8a4fbba891b0400e74346e": {
     "views": []
    },
    "d52c22fc6ce24e408a58d532ed015557": {
     "views": []
    },
    "d6c0dc32c09348caabf01edffe46e383": {
     "views": []
    },
    "dd4f4398cd4d45a59560572c711a7073": {
     "views": []
    },
    "dfb468ce449e434e91516db12f33d16b": {
     "views": []
    },
    "e18e54b021b94524bcb5cdd9b2cde80f": {
     "views": []
    }
   },
   "version": "1.1.2"
  }
 },
 "nbformat": 4,
 "nbformat_minor": 0
}
