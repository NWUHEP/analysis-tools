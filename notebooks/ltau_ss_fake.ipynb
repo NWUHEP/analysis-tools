{
 "cells": [
  {
   "cell_type": "markdown",
   "metadata": {},
   "source": [
    "# QCD estimate from same-sign muon/electron+tau events\n",
    "\n",
    "It is useful to construct a same-sign region for estimating the background due to multijet QCD in the $\\mu+\\tau_{h}$ channel.  We estimate this background using the fake rate method so this can be used as a cross-check or a replacement.  This method is used in the measurement of the $\\tau_{h}$ efficiencies which I would like to recreate so that the measurement can be carried out _in situ_ and the uncertainty sources are not double counted."
   ]
  },
  {
   "cell_type": "code",
   "execution_count": 1,
   "metadata": {
    "code_folding": [
     0
    ]
   },
   "outputs": [
    {
     "name": "stdout",
     "output_type": "stream",
     "text": [
      "/home/naodell/work/wbr/analysis\n"
     ]
    }
   ],
   "source": [
    "# import and global set up\n",
    "%cd '/home/naodell/work/wbr/analysis'\n",
    "%matplotlib notebook\n",
    "%pwd\n",
    "\n",
    "import numpy as np\n",
    "import pandas as pd\n",
    "import matplotlib as mpl\n",
    "import matplotlib.pyplot as plt\n",
    "\n",
    "import scripts.plot_tools as pt\n",
    "\n",
    "mpl.style.use('default')\n",
    "params = {'legend.fontsize': 20,\n",
    "          'axes.labelsize': 20,\n",
    "          'axes.titlesize':'x-large',\n",
    "          'xtick.labelsize':18,\n",
    "          'ytick.labelsize':18,\n",
    "         }\n",
    "mpl.rcParams.update(params)\n",
    "%matplotlib inline"
   ]
  },
  {
   "cell_type": "code",
   "execution_count": 2,
   "metadata": {
    "code_folding": []
   },
   "outputs": [
    {
     "name": "stderr",
     "output_type": "stream",
     "text": [
      "Loading dataframes: 100%|███████████████| 28.0/28.0 [00:02<00:00, 12.4it/s]\n"
     ]
    },
    {
     "ename": "KeyError",
     "evalue": "'data'",
     "output_type": "error",
     "traceback": [
      "\u001b[0;31m---------------------------------------------------------------------------\u001b[0m",
      "\u001b[0;31mKeyError\u001b[0m                                  Traceback (most recent call last)",
      "\u001b[0;32m<ipython-input-2-83115d74efeb>\u001b[0m in \u001b[0;36m<module>\u001b[0;34m()\u001b[0m\n\u001b[1;32m     18\u001b[0m                                      \u001b[0;31m#and lepton1_mt < 40 \\\u001b[0m\u001b[0;34m\u001b[0m\u001b[0;34m\u001b[0m\u001b[0m\n\u001b[1;32m     19\u001b[0m                    )\n\u001b[0;32m---> 20\u001b[0;31m \u001b[0mdf_data_os\u001b[0m  \u001b[0;34m=\u001b[0m \u001b[0mdm\u001b[0m\u001b[0;34m.\u001b[0m\u001b[0mget_dataframe\u001b[0m\u001b[0;34m(\u001b[0m\u001b[0;34m'data'\u001b[0m\u001b[0;34m)\u001b[0m\u001b[0;34m.\u001b[0m\u001b[0mquery\u001b[0m\u001b[0;34m(\u001b[0m\u001b[0;34m'lepton1_q != lepton2_q'\u001b[0m\u001b[0;34m)\u001b[0m\u001b[0;34m\u001b[0m\u001b[0m\n\u001b[0m\u001b[1;32m     21\u001b[0m \u001b[0mdf_ttbar_os\u001b[0m \u001b[0;34m=\u001b[0m \u001b[0mdm\u001b[0m\u001b[0;34m.\u001b[0m\u001b[0mget_dataframe\u001b[0m\u001b[0;34m(\u001b[0m\u001b[0;34m'ttbar'\u001b[0m\u001b[0;34m)\u001b[0m\u001b[0;34m.\u001b[0m\u001b[0mquery\u001b[0m\u001b[0;34m(\u001b[0m\u001b[0;34m'lepton1_q != lepton2_q'\u001b[0m\u001b[0;34m)\u001b[0m\u001b[0;34m\u001b[0m\u001b[0m\n\u001b[1;32m     22\u001b[0m \u001b[0mdf_top_os\u001b[0m   \u001b[0;34m=\u001b[0m \u001b[0mdm\u001b[0m\u001b[0;34m.\u001b[0m\u001b[0mget_dataframe\u001b[0m\u001b[0;34m(\u001b[0m\u001b[0;34m't'\u001b[0m\u001b[0;34m)\u001b[0m\u001b[0;34m.\u001b[0m\u001b[0mquery\u001b[0m\u001b[0;34m(\u001b[0m\u001b[0;34m'lepton1_q != lepton2_q'\u001b[0m\u001b[0;34m)\u001b[0m\u001b[0;34m\u001b[0m\u001b[0m\n",
      "\u001b[0;32m~/work/wbr/analysis/scripts/plot_tools.py\u001b[0m in \u001b[0;36mget_dataframe\u001b[0;34m(self, dataset_name, condition)\u001b[0m\n\u001b[1;32m    324\u001b[0m \u001b[0;34m\u001b[0m\u001b[0m\n\u001b[1;32m    325\u001b[0m     \u001b[0;32mdef\u001b[0m \u001b[0mget_dataframe\u001b[0m\u001b[0;34m(\u001b[0m\u001b[0mself\u001b[0m\u001b[0;34m,\u001b[0m \u001b[0mdataset_name\u001b[0m\u001b[0;34m,\u001b[0m \u001b[0mcondition\u001b[0m\u001b[0;34m=\u001b[0m\u001b[0;34m''\u001b[0m\u001b[0;34m)\u001b[0m\u001b[0;34m:\u001b[0m\u001b[0;34m\u001b[0m\u001b[0m\n\u001b[0;32m--> 326\u001b[0;31m         \u001b[0mdf\u001b[0m \u001b[0;34m=\u001b[0m \u001b[0mself\u001b[0m\u001b[0;34m.\u001b[0m\u001b[0m_dataframes\u001b[0m\u001b[0;34m[\u001b[0m\u001b[0mdataset_name\u001b[0m\u001b[0;34m]\u001b[0m\u001b[0;34m\u001b[0m\u001b[0m\n\u001b[0m\u001b[1;32m    327\u001b[0m         \u001b[0;32mif\u001b[0m \u001b[0mcondition\u001b[0m \u001b[0;34m!=\u001b[0m \u001b[0;34m''\u001b[0m\u001b[0;34m:\u001b[0m\u001b[0;34m\u001b[0m\u001b[0m\n\u001b[1;32m    328\u001b[0m             \u001b[0;32mreturn\u001b[0m \u001b[0mdf\u001b[0m\u001b[0;34m.\u001b[0m\u001b[0mquery\u001b[0m\u001b[0;34m(\u001b[0m\u001b[0mcondition\u001b[0m\u001b[0;34m)\u001b[0m\u001b[0;34m\u001b[0m\u001b[0m\n",
      "\u001b[0;31mKeyError\u001b[0m: 'data'"
     ]
    }
   ],
   "source": [
    "# get the data\n",
    "# set up and get the data\n",
    "selection = 'etau'\n",
    "if selection == 'mutau':\n",
    "    labels = ['muon']\n",
    "elif selection == 'etau':\n",
    "    labels = ['electron']\n",
    "labels += ['t', 'ttbar', 'wjets', 'zjets', 'diboson']\n",
    "\n",
    "dm = pt.DataManager(input_dir     = f'data/flatuples/single_lepton_test/{selection}_2016',\n",
    "                    dataset_names = [d for l in labels for d in pt.dataset_dict[l]],\n",
    "                    selection     = selection,\n",
    "                    period        = 2016,\n",
    "                    scale         = 35.9e3,\n",
    "                    cuts          = ''#n_bjets == 0  and n_jets < 2'\n",
    "                                     #and p_miss_zeta - 0.85*p_vis_zeta > -25 \\\n",
    "                                     #and 40 < dilepton1_mass < 100'\n",
    "                                     #and lepton1_mt < 40 \\\n",
    "                   )\n",
    "df_data_os  = dm.get_dataframe('data').query('lepton1_q != lepton2_q')\n",
    "df_ttbar_os = dm.get_dataframe('ttbar').query('lepton1_q != lepton2_q')\n",
    "df_top_os   = dm.get_dataframe('t').query('lepton1_q != lepton2_q')\n",
    "df_z_os     = dm.get_dataframe('zjets').query('lepton1_q != lepton2_q')\n",
    "df_w_os     = dm.get_dataframe('wjets').query('lepton1_q != lepton2_q')\n",
    "df_vv_os    = dm.get_dataframe('diboson').query('lepton1_q != lepton2_q')\n",
    "\n",
    "df_data_ss  = dm.get_dataframe('data').query('lepton1_q == lepton2_q').copy()\n",
    "df_ttbar_ss = dm.get_dataframe('ttbar').query('lepton1_q == lepton2_q').copy()\n",
    "df_top_ss   = dm.get_dataframe('t').query('lepton1_q == lepton2_q').copy()\n",
    "df_z_ss     = dm.get_dataframe('zjets').query('lepton1_q == lepton2_q').copy()\n",
    "df_w_ss     = dm.get_dataframe('wjets').query('lepton1_q == lepton2_q').copy()\n",
    "df_vv_ss    = dm.get_dataframe('diboson').query('lepton1_q == lepton2_q').copy()"
   ]
  },
  {
   "cell_type": "code",
   "execution_count": null,
   "metadata": {
    "code_folding": []
   },
   "outputs": [],
   "source": [
    "# compare the OS and SS control regions\n",
    "fig, axes = plt.subplots(2, 2, figsize=(16, 10), facecolor='white', gridspec_kw={'height_ratios':[3,1]}, sharex='col', sharey='row')\n",
    "fig.subplots_adjust(hspace=0)\n",
    "\n",
    "var = 'dilepton1_mass'\n",
    "bins = np.arange(20, 122, 2)\n",
    "ax = axes[0][0]\n",
    "x, y, yerr = pt.hist_to_errorbar(df_data_os[var], nbins=bins.size-1, xlim=(bins.min(), bins.max()))\n",
    "ax.errorbar(x, y, yerr, fmt='ko', capsize=0, elinewidth=2)\n",
    "h_mc, _, _ = ax.hist([df_vv_os[var], df_top_os[var], df_ttbar_os[var], df_w_os[var], df_z_os[var]], \n",
    "                     bins=bins, \n",
    "                     histtype='stepfilled', \n",
    "                     alpha=0.8, \n",
    "                     weights=[df_vv_os['weight'], df_top_os['weight'], df_ttbar_os['weight'], df_w_os['weight'], df_z_os['weight']], \n",
    "                     stacked=True)\n",
    "ax.grid()\n",
    "ax.set_ylabel('Entries / 2 GeV')\n",
    "ax.set_xlim(bins.min(), bins.max())\n",
    "ax.set_title(r'$\\mu^{\\pm}\\tau^{\\mp}_{h}$')\n",
    "\n",
    "ax = axes[1][0]\n",
    "h_data, _ = np.histogram(df_data_os[var], bins=bins)\n",
    "diff = y - h_mc[-1]\n",
    "diff_os = np.append(diff, diff[-1])\n",
    "ax.plot(bins, diff_os, drawstyle='steps-post')\n",
    "ax.text(0.8, 0.6, r'$\\sum =$' + f'{diff.sum():.0f}', transform = ax.transAxes)\n",
    "ax.set_ylabel('data-MC')\n",
    "ax.grid()\n",
    "\n",
    "ax = axes[0][1]\n",
    "x, y, yerr = pt.hist_to_errorbar(df_data_ss[var], nbins=bins.size-1, xlim=(bins.min(), bins.max()))\n",
    "eb = ax.errorbar(x, y, yerr, fmt='ko', capsize=0, elinewidth=2)\n",
    "h_mc, _, _ = ax.hist([df_vv_ss[var], df_top_ss[var], df_ttbar_ss[var], df_w_ss[var], df_z_ss[var]], \n",
    "                     bins=bins, \n",
    "                     histtype='stepfilled', \n",
    "                     alpha=0.8, \n",
    "                     weights=[df_vv_ss['weight'], df_top_ss['weight'], df_ttbar_ss['weight'], df_w_ss['weight'], df_z_ss['weight']], \n",
    "                     stacked=True\n",
    "                    )\n",
    "ax.grid()\n",
    "ax.set_xlim(bins.min(), bins.max())\n",
    "ax.legend(['z', 'w', 'ttbar', 't', 'diboson', 'data'])\n",
    "ax.set_title(r'$\\mu^{\\pm}\\tau^{\\pm}_{h}$')\n",
    "\n",
    "ax = axes[1][1]\n",
    "diff = y - h_mc[-1]\n",
    "diff_ss = np.append(diff, diff[-1])\n",
    "ax.plot(bins, diff_ss, drawstyle='steps-post')\n",
    "ax.text(0.8, 0.6, r'$\\sum =$' + f'{diff.sum():.0f}', transform = ax.transAxes)\n",
    "ax.grid()\n",
    "\n",
    "plt.tight_layout()\n",
    "plt.savefig(f'plots/{selection}_cr.pdf')\n",
    "plt.show()"
   ]
  },
  {
   "cell_type": "markdown",
   "metadata": {},
   "source": [
    "### Calculating the fake background\n",
    "\n",
    "The mapping from the same-sign control region to the same-sign signal region is done as follows,\n",
    "\n",
    "$$\n",
    "N_{OS} = k(N_{SS,data} - N_{SS,bkg})\n",
    "$$\n",
    "\n",
    "where $k$ is some scale factor for normalizing the SS data to OS.  The processes that are take from simulation are subtracted from the SS region to avoid double counting."
   ]
  },
  {
   "cell_type": "code",
   "execution_count": null,
   "metadata": {
    "code_folding": []
   },
   "outputs": [],
   "source": [
    "# N.B.: RUNNING THIS PANEL REPEATEDLY WITHOUT RELOADING THE DATA WILL FUCK SHIT UP YO\n",
    "# first multiply the weights for the simulated processes by -1\n",
    "df_ttbar_ss.loc[:,'weight'] *= -1  \n",
    "df_top_ss.loc[:,'weight'] *= -1  \n",
    "df_z_ss.loc[:,'weight'] *= -1    \n",
    "df_w_ss.loc[:,'weight'] *= -1    \n",
    "df_vv_ss.loc[:,'weight'] *= -1    \n",
    "\n",
    "# multiply by k and combine the same-sign data and MC (this should be calculated from the isolation inverted control region)\n",
    "k = diff_os.sum()/diff_ss.sum()\n",
    "df_qcd = pd.concat([df_data_ss, df_w_ss, df_ttbar_ss, df_top_ss, df_z_ss, df_vv_ss])\n",
    "df_qcd.loc[:,'weight'] *= k\n",
    "\n",
    "# relabel fakes\n",
    "df_qcd['label'] = 'fakes'"
   ]
  },
  {
   "cell_type": "code",
   "execution_count": null,
   "metadata": {
    "code_folding": []
   },
   "outputs": [],
   "source": [
    "# test the QCD estimate\n",
    "fig, axes = plt.subplots(2, 1, figsize=(10, 10), facecolor='white', gridspec_kw={'height_ratios':[3,1]}, sharex=True)\n",
    "fig.subplots_adjust(hspace=0)\n",
    "\n",
    "var = 'dilepton1_mass'\n",
    "nbins = 70\n",
    "bin_range = (10, 150)\n",
    "\n",
    "ax = axes[0]\n",
    "x, y, yerr = pt.hist_to_errorbar(df_data_os[var], nbins=nbins, xlim=bin_range)\n",
    "eb = ax.errorbar(x, y, yerr, fmt='ko', capsize=0, elinewidth=2)\n",
    "h_mc, _, _ = ax.hist([df_vv_os[var], df_top_os[var], df_ttbar_os[var], df_qcd[var], df_w_os[var], df_z_os[var]], \n",
    "                     bins=nbins, range=bin_range, \n",
    "                     histtype='stepfilled', \n",
    "                     alpha=0.8, \n",
    "                     stacked=True,\n",
    "                     weights=[df_vv_os['weight'], df_top_os['weight'], df_ttbar_os['weight'], df_qcd['weight'], df_w_os['weight'], df_z_os['weight']])\n",
    "\n",
    "ax.legend(['z', 'w', 'qcd', 'ttbar', 't', 'diboson', 'data'])\n",
    "ax.text(0.8, 0.6, f'k = {k}', transform = ax.transAxes)\n",
    "ax.grid()\n",
    "ax.set_ylim(0, 1.4*y.max())\n",
    "ax.set_ylabel(f'Entries / {(bin_range[1]-bin_range[0])/nbins:.0f} GeV')\n",
    "ax.set_yscale('linear')\n",
    "\n",
    "ax = axes[1]\n",
    "r = y-h_mc[-1]\n",
    "ax.scatter(x, r, marker='o', c='k')\n",
    "ax.grid()\n",
    "ax.set_xlim(bin_range)\n",
    "#ax.set_ylim(0.75, 1.49)\n",
    "#ax.set_xlabel(r'$\\sf p_{T,\\tau_{h}}$ [GeV]')\n",
    "ax.set_xlabel(r'$\\sf m_{\\mu\\tau_{h}}$ [GeV]')\n",
    "ax.set_ylabel('data/MC')\n",
    "\n",
    "plt.savefig(f'plots/{selection}_{var}.pdf')\n",
    "plt.show()"
   ]
  },
  {
   "cell_type": "code",
   "execution_count": null,
   "metadata": {
    "code_folding": []
   },
   "outputs": [],
   "source": [
    "# save the dataframes for some possible NN discriminator action \n",
    "#df_data_os.to_pickle(f'data/flatuples/{selection}_cr/data.pkl') \n",
    "#df_ttbar_os.to_pickle(f'data/flatuples/{selection}_cr/ttbar.pkl') \n",
    "#df_top_os.to_pickle(f'data/flatuples/{selection}_cr/tW.pkl')   \n",
    "#df_z_os.to_pickle(f'data/flatuples/{selection}_cr/zjets.pkl')     \n",
    "#df_w_os.to_pickle(f'data/flatuples/{selection}_cr/wjets.pkl')     \n",
    "#df_vv_os.to_pickle(f'data/flatuples/{selection}_cr/diboson.pkl')    \n",
    "#df_qcd.to_pickle(f'data/flatuples/{selection}_cr/qcd.pkl')    "
   ]
  }
 ],
 "metadata": {
  "hide_input": false,
  "kernelspec": {
   "display_name": "Python 3",
   "language": "python",
   "name": "python3"
  },
  "language_info": {
   "codemirror_mode": {
    "name": "ipython",
    "version": 3
   },
   "file_extension": ".py",
   "mimetype": "text/x-python",
   "name": "python",
   "nbconvert_exporter": "python",
   "pygments_lexer": "ipython3",
   "version": "3.6.4"
  },
  "latex_envs": {
   "LaTeX_envs_menu_present": true,
   "autocomplete": true,
   "bibliofile": "biblio.bib",
   "cite_by": "apalike",
   "current_citInitial": 1,
   "eqLabelWithNumbers": true,
   "eqNumInitial": 0,
   "hotkeys": {
    "equation": "Ctrl-E",
    "itemize": "Ctrl-I"
   },
   "labels_anchors": false,
   "latex_user_defs": false,
   "report_style_numbering": false,
   "user_envs_cfg": false
  },
  "toc": {
   "colors": {
    "hover_highlight": "#DAA520",
    "navigate_num": "#000000",
    "navigate_text": "#333333",
    "running_highlight": "#FF0000",
    "selected_highlight": "#FFD700",
    "sidebar_border": "#EEEEEE",
    "wrapper_background": "#FFFFFF"
   },
   "moveMenuLeft": true,
   "nav_menu": {
    "height": "29px",
    "width": "254px"
   },
   "navigate_menu": true,
   "number_sections": true,
   "sideBar": true,
   "threshold": 4,
   "toc_cell": false,
   "toc_section_display": "block",
   "toc_window_display": false,
   "widenNotebook": false
  }
 },
 "nbformat": 4,
 "nbformat_minor": 2
}
