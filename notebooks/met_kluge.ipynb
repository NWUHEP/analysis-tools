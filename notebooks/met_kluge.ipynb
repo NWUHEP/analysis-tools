{
 "cells": [
  {
   "cell_type": "code",
   "execution_count": null,
   "metadata": {
    "collapsed": false
   },
   "outputs": [],
   "source": [
    "%cd '/home/naodell/work/CMS/amumu'\n",
    "%matplotlib notebook\n",
    "\n",
    "import sys                       \n",
    "                                 \n",
    "import numpy as np               \n",
    "import pandas as pd              \n",
    "import matplotlib.pyplot as plt  \n",
    "import seaborn as sns\n",
    "from tqdm import tqdm            \n",
    "import nllfitter.plot_tools as pt\n"
   ]
  },
  {
   "cell_type": "markdown",
   "metadata": {},
   "source": [
    "# Met (kluge) corrections\n",
    "The bacon production 12 had a bug in the MET corrections.  This was addressed for data, but not for MC.  To account for this, I will compare events that overlap between the old and new data ntuples and correct the MC samples accordingly."
   ]
  },
  {
   "cell_type": "code",
   "execution_count": null,
   "metadata": {
    "collapsed": false
   },
   "outputs": [],
   "source": [
    "\n",
    "datasets    = [                                                      \n",
    "               'muon_2016B', 'muon_2016C', 'muon_2016D',            \n",
    "               'muon_2016E', 'muon_2016F', 'muon_2016G', 'muon_2016H'\n",
    "              ]        \n",
    "\n",
    "dm = pt.DataManager(input_dir     = 'data/flatuples/mumu_2016',   \n",
    "                    dataset_names = datasets,\n",
    "                    period        = 2016,  \n",
    "                    selection     = 'mumu'   \n",
    "                   )       \n",
    "df1 = dm.get_dataframe('data')\n",
    "dm = pt.DataManager(input_dir     = 'data/flatuples/mumu_rereco_2016',   \n",
    "                    dataset_names = datasets,\n",
    "                    period        = 2016,  \n",
    "                    selection     = 'mumu'   \n",
    "                   )                         \n",
    "df2 = dm.get_dataframe('data')"
   ]
  },
  {
   "cell_type": "markdown",
   "metadata": {},
   "source": [
    "Now let's prepare the overlap."
   ]
  },
  {
   "cell_type": "code",
   "execution_count": null,
   "metadata": {
    "collapsed": false
   },
   "outputs": [],
   "source": [
    "df1 = df1.set_index(['run_number', 'event_number'])\n",
    "df2 = df2.set_index(['run_number', 'event_number'])\n",
    "\n",
    "mask = df1.index.intersection(df2.index)\n",
    "df1 = df1.loc[mask]\n",
    "df2 = df2.loc[mask]"
   ]
  },
  {
   "cell_type": "markdown",
   "metadata": {},
   "source": [
    "The correction factor will be:\n",
    "\n",
    "$$\n",
    "k = \\frac{MET_{data,new}}{MET_{data,old}}MET_{MC}\n",
    "$$"
   ]
  },
  {
   "cell_type": "code",
   "execution_count": null,
   "metadata": {
    "collapsed": false
   },
   "outputs": [],
   "source": [
    "h, bins, _ = plt.hist([df2.met_mag, df1.met_mag], bins='fd', range=(0., 200.), histtype='step')\n",
    "plt.yscale('log')\n",
    "plt.show()"
   ]
  },
  {
   "cell_type": "code",
   "execution_count": null,
   "metadata": {
    "collapsed": false,
    "scrolled": false
   },
   "outputs": [],
   "source": [
    "met_ratio = df1.met_mag.values/df2.met_mag.values\n",
    "df_corr = pd.DataFrame({'k':met_ratio, 'met':df2.met_mag.values})\n",
    "df_corr = df_corr[df_corr.met < 500]\n",
    "\n",
    "bins = np.array([0., 10., 20., 25., 30., 35., 40., 45., 50., 75., 100., 250., 500.])\n",
    "df_corr['bins'] = np.digitize(df_corr.met, bins=bins)\n",
    "g_corr = df_corr.groupby('bins')\n",
    "res_corr = g_corr['k'].agg(['mean', 'sem'])\n",
    "res_corr['x'] = (bins[:-1] + bins[1:])/2.\n",
    "res_corr['xlow'] = bins[:-1]\n",
    "res_corr['xhigh'] = bins[1:]\n",
    "res_corr.to_csv('data/met_kluge.csv', index=False)\n",
    "\n",
    "res_corr.plot('x', 'mean', yerr='sem', marker='o')\n",
    "plt.xlim(0, 400)\n",
    "plt.show()"
   ]
  },
  {
   "cell_type": "code",
   "execution_count": null,
   "metadata": {
    "collapsed": false
   },
   "outputs": [],
   "source": [
    "res_corr"
   ]
  },
  {
   "cell_type": "markdown",
   "metadata": {},
   "source": [
    "Let's do a closure test..."
   ]
  },
  {
   "cell_type": "code",
   "execution_count": null,
   "metadata": {
    "collapsed": false
   },
   "outputs": [],
   "source": [
    "%qtconsole\n",
    "def met_kluge(met):\n",
    "    xi = np.digitize(met, bins)[0]\n",
    "    return met*res_corr['mean']\n",
    "\n",
    "df1.met_mag.apply(met_kluge)"
   ]
  }
 ],
 "metadata": {
  "hide_input": false,
  "kernelspec": {
   "display_name": "Python 2",
   "language": "python",
   "name": "python2"
  },
  "language_info": {
   "codemirror_mode": {
    "name": "ipython",
    "version": 2
   },
   "file_extension": ".py",
   "mimetype": "text/x-python",
   "name": "python",
   "nbconvert_exporter": "python",
   "pygments_lexer": "ipython2",
   "version": "2.7.12"
  },
  "latex_envs": {
   "bibliofile": "biblio.bib",
   "cite_by": "apalike",
   "current_citInitial": 1,
   "eqLabelWithNumbers": true,
   "eqNumInitial": 0
  },
  "toc": {
   "nav_menu": {
    "height": "11px",
    "width": "251px"
   },
   "navigate_menu": true,
   "number_sections": true,
   "sideBar": true,
   "threshold": 4,
   "toc_cell": false,
   "toc_section_display": "block",
   "toc_window_display": false
  }
 },
 "nbformat": 4,
 "nbformat_minor": 2
}
