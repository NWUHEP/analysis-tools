{
 "cells": [
  {
   "cell_type": "markdown",
   "metadata": {},
   "source": [
    "# b jet efficiencies\n",
    "\n",
    "To account for differences in modelling of b tagging algorithms in data vs. MC, it is important to correct the MC to the data.  The b tag POG provides data/MC scale factors, but it is necessary for analyzers to calculate their own b tag efficiencies in MC since they will depend on both the composition of the sample under consideration and the selection that is applied.\n",
    "\n",
    "For this study we'll be using the summer 2016, 13 TeV MC production.  The samples considered here will be $t\\bar{t}$ and Drell-Yan.  The selection requirement is basically a semileptonic ttbar selection:\n",
    "\n",
    "* the IsoMu24/IsoTkMu24 trigger must have fired\n",
    "* there must be at least one good PV\n",
    "* at least one tight ID, tight PF isolated muons\n",
    "* lead muon $p_{T} > 25$ and $|\\eta| < 2.4$\n",
    "* four PF jets\n",
    "\n",
    "The jet that is used for measuring the efficiencies is reconstructed using the anti-$k_{T}$ algorithm and clustering particle-flow objects within a cone of size dR=0.4.  The jet flavor is determined by matching a reconstructed PF jet to a jet that has been reconstructed by clustering generator level partons ([CMS flavor matching scheme](https://twiki.cern.ch/twiki/bin/view/CMSPublic/SWGuideBTagMCTools#Hadron_parton_based_jet_flavour)).  \n",
    "\n",
    "The definition for our denominator object is:\n",
    "\n",
    "* PF jet with $p_{T} > 30$ and $|\\eta| < 2.4$\n",
    "* MC flavor is 5 or -5 (PDG ID for a b quark)\n",
    "\n",
    "The numerator object is a denominator object with the additional requirement that:\n",
    "\n",
    "* b tag > 0.9432 (tight b tag POG WP for the bMVA discriminator)\n",
    "\n",
    "The measurement is carried out on both a Z+jet and ttbar sample.  Both the leading and trailing b tagged jets will be considered.  It will be of interest to measure the efficiency as both a function of $p_{T}$ and $\\eta$."
   ]
  },
  {
   "cell_type": "code",
   "execution_count": 1,
   "metadata": {
    "code_folding": [
     0
    ]
   },
   "outputs": [
    {
     "name": "stdout",
     "output_type": "stream",
     "text": [
      "/home/naodell/work/wbr/analysis\n"
     ]
    }
   ],
   "source": [
    "# imports and initial configuration\n",
    "%cd '/home/naodell/work/wbr/analysis'\n",
    "%matplotlib inline\n",
    "\n",
    "import numpy as np\n",
    "import pandas as pd\n",
    "import matplotlib\n",
    "import matplotlib.pyplot as plt\n",
    "from scipy.stats import beta\n",
    "\n",
    "import scripts.plot_tools as pt\n",
    "from skhep.modeling import bayesian_blocks\n",
    "\n",
    "matplotlib.style.use('default')\n",
    "params = {'legend.fontsize': 20,\n",
    "          'figure.figsize': (8, 8),\n",
    "          'axes.facecolor': 'white',\n",
    "          'axes.labelsize': 20,\n",
    "          'axes.titlesize':'x-large',\n",
    "          'xtick.labelsize':18,\n",
    "          'ytick.labelsize':18,\n",
    "         }\n",
    "matplotlib.rcParams.update(params)\n",
    "%matplotlib inline"
   ]
  },
  {
   "cell_type": "code",
   "execution_count": 2,
   "metadata": {
    "code_folding": []
   },
   "outputs": [
    {
     "ename": "FileNotFoundError",
     "evalue": "File b'data/flatuples/btag_eff/mu4j_2016/event_counts.csv' does not exist",
     "output_type": "error",
     "traceback": [
      "\u001b[0;31m-------------------------------------------------------\u001b[0m",
      "\u001b[0;31mFileNotFoundError\u001b[0m     Traceback (most recent call last)",
      "\u001b[0;32m<ipython-input-2-11dae0e96615>\u001b[0m in \u001b[0;36m<module>\u001b[0;34m()\u001b[0m\n\u001b[1;32m     28\u001b[0m                               \u001b[0mperiod\u001b[0m        \u001b[0;34m=\u001b[0m \u001b[0;36m2016\u001b[0m\u001b[0;34m,\u001b[0m\u001b[0;34m\u001b[0m\u001b[0m\n\u001b[1;32m     29\u001b[0m                               \u001b[0mcuts\u001b[0m          \u001b[0;34m=\u001b[0m \u001b[0mcuts\u001b[0m\u001b[0;34m,\u001b[0m\u001b[0;34m\u001b[0m\u001b[0m\n\u001b[0;32m---> 30\u001b[0;31m                               \u001b[0mfeatures\u001b[0m      \u001b[0;34m=\u001b[0m \u001b[0mfeatures\u001b[0m\u001b[0;34m\u001b[0m\u001b[0m\n\u001b[0m\u001b[1;32m     31\u001b[0m                              )\n",
      "\u001b[0;32m~/work/wbr/analysis/scripts/plot_tools.py\u001b[0m in \u001b[0;36m__init__\u001b[0;34m(self, input_dir, dataset_names, selection, period, scale, cuts, combine, features)\u001b[0m\n\u001b[1;32m    266\u001b[0m         \u001b[0mself\u001b[0m\u001b[0;34m.\u001b[0m\u001b[0m_combine\u001b[0m       \u001b[0;34m=\u001b[0m \u001b[0mcombine\u001b[0m\u001b[0;34m\u001b[0m\u001b[0m\n\u001b[1;32m    267\u001b[0m         \u001b[0mself\u001b[0m\u001b[0;34m.\u001b[0m\u001b[0m_features\u001b[0m      \u001b[0;34m=\u001b[0m \u001b[0mfeatures\u001b[0m\u001b[0;34m\u001b[0m\u001b[0m\n\u001b[0;32m--> 268\u001b[0;31m         \u001b[0mself\u001b[0m\u001b[0;34m.\u001b[0m\u001b[0m_load_luts\u001b[0m\u001b[0;34m(\u001b[0m\u001b[0;34m)\u001b[0m\u001b[0;34m\u001b[0m\u001b[0m\n\u001b[0m\u001b[1;32m    269\u001b[0m         \u001b[0mself\u001b[0m\u001b[0;34m.\u001b[0m\u001b[0m_load_dataframes\u001b[0m\u001b[0;34m(\u001b[0m\u001b[0;34m)\u001b[0m\u001b[0;34m\u001b[0m\u001b[0m\n\u001b[1;32m    270\u001b[0m \u001b[0;34m\u001b[0m\u001b[0m\n",
      "\u001b[0;32m~/work/wbr/analysis/scripts/plot_tools.py\u001b[0m in \u001b[0;36m_load_luts\u001b[0;34m(self)\u001b[0m\n\u001b[1;32m    273\u001b[0m         \u001b[0mRetrieve\u001b[0m \u001b[0mlook\u001b[0m\u001b[0;34m-\u001b[0m\u001b[0mup\u001b[0m \u001b[0mtables\u001b[0m \u001b[0;32mfor\u001b[0m \u001b[0mdatasets\u001b[0m \u001b[0;32mand\u001b[0m \u001b[0mvariables\u001b[0m\u001b[0;34m\u001b[0m\u001b[0m\n\u001b[1;32m    274\u001b[0m         '''\n\u001b[0;32m--> 275\u001b[0;31m         \u001b[0mself\u001b[0m\u001b[0;34m.\u001b[0m\u001b[0m_event_counts\u001b[0m \u001b[0;34m=\u001b[0m \u001b[0mpd\u001b[0m\u001b[0;34m.\u001b[0m\u001b[0mread_csv\u001b[0m\u001b[0;34m(\u001b[0m\u001b[0;34m'{0}/event_counts.csv'\u001b[0m\u001b[0;34m.\u001b[0m\u001b[0mformat\u001b[0m\u001b[0;34m(\u001b[0m\u001b[0mself\u001b[0m\u001b[0;34m.\u001b[0m\u001b[0m_input_dir\u001b[0m\u001b[0;34m,\u001b[0m \u001b[0mself\u001b[0m\u001b[0;34m.\u001b[0m\u001b[0m_selection\u001b[0m\u001b[0;34m)\u001b[0m\u001b[0;34m)\u001b[0m\u001b[0;34m\u001b[0m\u001b[0m\n\u001b[0m\u001b[1;32m    276\u001b[0m         self._lut_datasets = pd.read_excel('data/plotting_lut.xlsx',\n\u001b[1;32m    277\u001b[0m                                            \u001b[0msheet_name\u001b[0m\u001b[0;34m=\u001b[0m\u001b[0;34m'datasets_{0}'\u001b[0m\u001b[0;34m.\u001b[0m\u001b[0mformat\u001b[0m\u001b[0;34m(\u001b[0m\u001b[0mself\u001b[0m\u001b[0;34m.\u001b[0m\u001b[0m_period\u001b[0m\u001b[0;34m)\u001b[0m\u001b[0;34m,\u001b[0m\u001b[0;34m\u001b[0m\u001b[0m\n",
      "\u001b[0;32m~/opt/anaconda3/lib/python3.7/site-packages/pandas/io/parsers.py\u001b[0m in \u001b[0;36mparser_f\u001b[0;34m(filepath_or_buffer, sep, delimiter, header, names, index_col, usecols, squeeze, prefix, mangle_dupe_cols, dtype, engine, converters, true_values, false_values, skipinitialspace, skiprows, nrows, na_values, keep_default_na, na_filter, verbose, skip_blank_lines, parse_dates, infer_datetime_format, keep_date_col, date_parser, dayfirst, iterator, chunksize, compression, thousands, decimal, lineterminator, quotechar, quoting, escapechar, comment, encoding, dialect, tupleize_cols, error_bad_lines, warn_bad_lines, skipfooter, doublequote, delim_whitespace, low_memory, memory_map, float_precision)\u001b[0m\n\u001b[1;32m    676\u001b[0m                     skip_blank_lines=skip_blank_lines)\n\u001b[1;32m    677\u001b[0m \u001b[0;34m\u001b[0m\u001b[0m\n\u001b[0;32m--> 678\u001b[0;31m         \u001b[0;32mreturn\u001b[0m \u001b[0m_read\u001b[0m\u001b[0;34m(\u001b[0m\u001b[0mfilepath_or_buffer\u001b[0m\u001b[0;34m,\u001b[0m \u001b[0mkwds\u001b[0m\u001b[0;34m)\u001b[0m\u001b[0;34m\u001b[0m\u001b[0m\n\u001b[0m\u001b[1;32m    679\u001b[0m \u001b[0;34m\u001b[0m\u001b[0m\n\u001b[1;32m    680\u001b[0m     \u001b[0mparser_f\u001b[0m\u001b[0;34m.\u001b[0m\u001b[0m__name__\u001b[0m \u001b[0;34m=\u001b[0m \u001b[0mname\u001b[0m\u001b[0;34m\u001b[0m\u001b[0m\n",
      "\u001b[0;32m~/opt/anaconda3/lib/python3.7/site-packages/pandas/io/parsers.py\u001b[0m in \u001b[0;36m_read\u001b[0;34m(filepath_or_buffer, kwds)\u001b[0m\n\u001b[1;32m    438\u001b[0m \u001b[0;34m\u001b[0m\u001b[0m\n\u001b[1;32m    439\u001b[0m     \u001b[0;31m# Create the parser.\u001b[0m\u001b[0;34m\u001b[0m\u001b[0;34m\u001b[0m\u001b[0m\n\u001b[0;32m--> 440\u001b[0;31m     \u001b[0mparser\u001b[0m \u001b[0;34m=\u001b[0m \u001b[0mTextFileReader\u001b[0m\u001b[0;34m(\u001b[0m\u001b[0mfilepath_or_buffer\u001b[0m\u001b[0;34m,\u001b[0m \u001b[0;34m**\u001b[0m\u001b[0mkwds\u001b[0m\u001b[0;34m)\u001b[0m\u001b[0;34m\u001b[0m\u001b[0m\n\u001b[0m\u001b[1;32m    441\u001b[0m \u001b[0;34m\u001b[0m\u001b[0m\n\u001b[1;32m    442\u001b[0m     \u001b[0;32mif\u001b[0m \u001b[0mchunksize\u001b[0m \u001b[0;32mor\u001b[0m \u001b[0miterator\u001b[0m\u001b[0;34m:\u001b[0m\u001b[0;34m\u001b[0m\u001b[0m\n",
      "\u001b[0;32m~/opt/anaconda3/lib/python3.7/site-packages/pandas/io/parsers.py\u001b[0m in \u001b[0;36m__init__\u001b[0;34m(self, f, engine, **kwds)\u001b[0m\n\u001b[1;32m    785\u001b[0m             \u001b[0mself\u001b[0m\u001b[0;34m.\u001b[0m\u001b[0moptions\u001b[0m\u001b[0;34m[\u001b[0m\u001b[0;34m'has_index_names'\u001b[0m\u001b[0;34m]\u001b[0m \u001b[0;34m=\u001b[0m \u001b[0mkwds\u001b[0m\u001b[0;34m[\u001b[0m\u001b[0;34m'has_index_names'\u001b[0m\u001b[0;34m]\u001b[0m\u001b[0;34m\u001b[0m\u001b[0m\n\u001b[1;32m    786\u001b[0m \u001b[0;34m\u001b[0m\u001b[0m\n\u001b[0;32m--> 787\u001b[0;31m         \u001b[0mself\u001b[0m\u001b[0;34m.\u001b[0m\u001b[0m_make_engine\u001b[0m\u001b[0;34m(\u001b[0m\u001b[0mself\u001b[0m\u001b[0;34m.\u001b[0m\u001b[0mengine\u001b[0m\u001b[0;34m)\u001b[0m\u001b[0;34m\u001b[0m\u001b[0m\n\u001b[0m\u001b[1;32m    788\u001b[0m \u001b[0;34m\u001b[0m\u001b[0m\n\u001b[1;32m    789\u001b[0m     \u001b[0;32mdef\u001b[0m \u001b[0mclose\u001b[0m\u001b[0;34m(\u001b[0m\u001b[0mself\u001b[0m\u001b[0;34m)\u001b[0m\u001b[0;34m:\u001b[0m\u001b[0;34m\u001b[0m\u001b[0m\n",
      "\u001b[0;32m~/opt/anaconda3/lib/python3.7/site-packages/pandas/io/parsers.py\u001b[0m in \u001b[0;36m_make_engine\u001b[0;34m(self, engine)\u001b[0m\n\u001b[1;32m   1012\u001b[0m     \u001b[0;32mdef\u001b[0m \u001b[0m_make_engine\u001b[0m\u001b[0;34m(\u001b[0m\u001b[0mself\u001b[0m\u001b[0;34m,\u001b[0m \u001b[0mengine\u001b[0m\u001b[0;34m=\u001b[0m\u001b[0;34m'c'\u001b[0m\u001b[0;34m)\u001b[0m\u001b[0;34m:\u001b[0m\u001b[0;34m\u001b[0m\u001b[0m\n\u001b[1;32m   1013\u001b[0m         \u001b[0;32mif\u001b[0m \u001b[0mengine\u001b[0m \u001b[0;34m==\u001b[0m \u001b[0;34m'c'\u001b[0m\u001b[0;34m:\u001b[0m\u001b[0;34m\u001b[0m\u001b[0m\n\u001b[0;32m-> 1014\u001b[0;31m             \u001b[0mself\u001b[0m\u001b[0;34m.\u001b[0m\u001b[0m_engine\u001b[0m \u001b[0;34m=\u001b[0m \u001b[0mCParserWrapper\u001b[0m\u001b[0;34m(\u001b[0m\u001b[0mself\u001b[0m\u001b[0;34m.\u001b[0m\u001b[0mf\u001b[0m\u001b[0;34m,\u001b[0m \u001b[0;34m**\u001b[0m\u001b[0mself\u001b[0m\u001b[0;34m.\u001b[0m\u001b[0moptions\u001b[0m\u001b[0;34m)\u001b[0m\u001b[0;34m\u001b[0m\u001b[0m\n\u001b[0m\u001b[1;32m   1015\u001b[0m         \u001b[0;32melse\u001b[0m\u001b[0;34m:\u001b[0m\u001b[0;34m\u001b[0m\u001b[0m\n\u001b[1;32m   1016\u001b[0m             \u001b[0;32mif\u001b[0m \u001b[0mengine\u001b[0m \u001b[0;34m==\u001b[0m \u001b[0;34m'python'\u001b[0m\u001b[0;34m:\u001b[0m\u001b[0;34m\u001b[0m\u001b[0m\n",
      "\u001b[0;32m~/opt/anaconda3/lib/python3.7/site-packages/pandas/io/parsers.py\u001b[0m in \u001b[0;36m__init__\u001b[0;34m(self, src, **kwds)\u001b[0m\n\u001b[1;32m   1706\u001b[0m         \u001b[0mkwds\u001b[0m\u001b[0;34m[\u001b[0m\u001b[0;34m'usecols'\u001b[0m\u001b[0;34m]\u001b[0m \u001b[0;34m=\u001b[0m \u001b[0mself\u001b[0m\u001b[0;34m.\u001b[0m\u001b[0musecols\u001b[0m\u001b[0;34m\u001b[0m\u001b[0m\n\u001b[1;32m   1707\u001b[0m \u001b[0;34m\u001b[0m\u001b[0m\n\u001b[0;32m-> 1708\u001b[0;31m         \u001b[0mself\u001b[0m\u001b[0;34m.\u001b[0m\u001b[0m_reader\u001b[0m \u001b[0;34m=\u001b[0m \u001b[0mparsers\u001b[0m\u001b[0;34m.\u001b[0m\u001b[0mTextReader\u001b[0m\u001b[0;34m(\u001b[0m\u001b[0msrc\u001b[0m\u001b[0;34m,\u001b[0m \u001b[0;34m**\u001b[0m\u001b[0mkwds\u001b[0m\u001b[0;34m)\u001b[0m\u001b[0;34m\u001b[0m\u001b[0m\n\u001b[0m\u001b[1;32m   1709\u001b[0m \u001b[0;34m\u001b[0m\u001b[0m\n\u001b[1;32m   1710\u001b[0m         \u001b[0mpassed_names\u001b[0m \u001b[0;34m=\u001b[0m \u001b[0mself\u001b[0m\u001b[0;34m.\u001b[0m\u001b[0mnames\u001b[0m \u001b[0;32mis\u001b[0m \u001b[0;32mNone\u001b[0m\u001b[0;34m\u001b[0m\u001b[0m\n",
      "\u001b[0;32mpandas/_libs/parsers.pyx\u001b[0m in \u001b[0;36mpandas._libs.parsers.TextReader.__cinit__\u001b[0;34m()\u001b[0m\n",
      "\u001b[0;32mpandas/_libs/parsers.pyx\u001b[0m in \u001b[0;36mpandas._libs.parsers.TextReader._setup_parser_source\u001b[0;34m()\u001b[0m\n",
      "\u001b[0;31mFileNotFoundError\u001b[0m: File b'data/flatuples/btag_eff/mu4j_2016/event_counts.csv' does not exist"
     ]
    }
   ],
   "source": [
    "# get the datasets\n",
    "ntuple_dir  = 'data/flatuples/btag_eff/mu4j_2016'\n",
    "datasets    = [\n",
    "               'ttbar_inclusive',\n",
    "               'zjets_m-50', 'zjets_m-10to50',\n",
    "               'z1jets_m-50', 'z1jets_m-10to50',\n",
    "               'z2jets_m-50', 'z2jets_m-10to50',\n",
    "               'z3jets_m-50', 'z3jets_m-10to50',\n",
    "               'z4jets_m-50', 'z4jets_m-10to50',\n",
    "              ]\n",
    "features = [\n",
    "            'jet1_pt', 'jet1_eta', 'jet1_flavor', 'jet1_tag',\n",
    "            'jet2_pt', 'jet2_eta', 'jet2_flavor', 'jet2_tag',\n",
    "            'jet3_pt', 'jet3_eta', 'jet3_flavor', 'jet3_tag',\n",
    "            'jet4_pt', 'jet4_eta', 'jet4_flavor', 'jet4_tag',\n",
    "           ]\n",
    "cuts        = 'lepton1_pt > 25 and abs(lepton1_eta) < 2.4'\n",
    "#cuts        = 'lepton1_pt > 25 and abs(lepton1_eta) < 2.4 \\\n",
    "#               and lepton2_pt > 10 and abs(lepton2_eta) < 2.4 \\\n",
    "#               and lepton1_q != lepton2_q'\n",
    "\n",
    "btag_cut = 0.9432\n",
    "labels = ['ttbar', 'zjets']\n",
    "fmts   = {'ttbar': 'C0o', 'zjets': 'C1o'}\n",
    "data_manager = pt.DataManager(input_dir     = ntuple_dir,\n",
    "                              dataset_names = datasets,\n",
    "                              selection     = 'mumu',\n",
    "                              period        = 2016,\n",
    "                              cuts          = cuts,\n",
    "                              features      = features\n",
    "                             )"
   ]
  },
  {
   "cell_type": "code",
   "execution_count": null,
   "metadata": {
    "code_folding": [
     0
    ]
   },
   "outputs": [],
   "source": [
    "# b tag values for different jet flavors\n",
    "df = data_manager.get_dataframes(['ttbar', 'zjets'], concat=True)\n",
    "\n",
    "cnames = ['jet_pt', 'jet_eta', 'jet_tag', 'jet_flavor', 'label']\n",
    "data = pd.DataFrame(columns=cnames)\n",
    "for i in range(1,5):\n",
    "    jet_data = df[[f'jet{i}_pt', f'jet{i}_eta', f'jet{i}_tag', f'jet{i}_flavor', 'label']]\n",
    "    jet_data.columns = cnames\n",
    "    data = data.append(jet_data, ignore_index=True)\n",
    "    "
   ]
  },
  {
   "cell_type": "markdown",
   "metadata": {},
   "source": [
    "Let's take a look at the b tag values:"
   ]
  },
  {
   "cell_type": "code",
   "execution_count": null,
   "metadata": {
    "code_folding": [
     0
    ],
    "scrolled": false
   },
   "outputs": [],
   "source": [
    "# plot the b tag discriminator\n",
    "fig, ax = plt.subplots(1, 1, figsize=(9,8), facecolor='white')\n",
    "h1, b, _ = ax.hist(data.query('label == \"ttbar\" and jet_flavor == 5').jet_tag, bins=50, range=(0, 1), histtype='step', linewidth=1.5, normed=True, label='b')\n",
    "h4, b, _ = ax.hist(data.query('label == \"zjets\" and jet_flavor == 5').jet_tag, bins=50, range=(0, 1), histtype='step', linewidth=1.5, normed=True, label='b')\n",
    "\n",
    "h2, b, _ = ax.hist(data.query('label == \"ttbar\" and jet_flavor == 4').jet_tag, bins=50, range=(0, 1), histtype='step', linewidth=1.5, normed=True, label='c')\n",
    "h5, b, _ = ax.hist(data.query('label == \"zjets\" and jet_flavor == 4').jet_tag, bins=50, range=(0, 1), histtype='step', linewidth=1.5, normed=True, label='c')\n",
    "\n",
    "h3, b, _ = ax.hist(data.query('label == \"ttbar\" and jet_flavor == 0').jet_tag, bins=50, range=(0, 1), histtype='step', linewidth=1.5, normed=True, label='usdg')\n",
    "h6, b, _ = ax.hist(data.query('label == \"zjets\" and jet_flavor == 0').jet_tag, bins=50, range=(0, 1), histtype='step', linewidth=1.5, normed=True, label='usdg')\n",
    "\n",
    "ymax = 1.3*np.max(h1)\n",
    "ax.plot([btag_cut, btag_cut], [0, ymax], 'k--', label='_nolegend_')\n",
    "ax.set_ylim([0, ymax])\n",
    "ax.set_xlim([-0.05, 1])\n",
    "ax.set_xlabel('b tag')\n",
    "ax.set_ylabel('normed entries / bin')\n",
    "ax.grid()\n",
    "\n",
    "handles, l = ax.get_legend_handles_labels()\n",
    "ph = [plt.plot([], marker='', ls='')[0]]*2\n",
    "handles = ph + handles\n",
    "l = ['Z+jets:', r'$\\sf t\\bar{t}$:'] + l\n",
    "ax.legend(handles, l, ncol=4, bbox_to_anchor=(0., 1.02, 1., 1.02), loc=3, borderaxespad=0.)\n",
    "\n",
    "plt.savefig('plots/bmva_mc.pdf')\n",
    "plt.show()"
   ]
  },
  {
   "cell_type": "markdown",
   "metadata": {},
   "source": [
    "This distribution looks pretty reasonable.  Keep in mind every event that goes into the above hisogram does have a b quark in the generator process.  Now let's measure the efficiencies.  We'll want a function that will bin the data and calculate the efficiencies, and one that will plot the result.\n",
    "\n",
    "It's important to handle the errors on the efficiency correctly.  I have adopted the [Clopper-Pearson](https://en.wikipedia.org/wiki/Binomial_proportion_confidence_interval#Clopper-Pearson_interval) interval construction and will be using the 68% CL interval for my error bars."
   ]
  },
  {
   "cell_type": "code",
   "execution_count": null,
   "metadata": {
    "code_folding": []
   },
   "outputs": [],
   "source": [
    "# helper functions\n",
    "def efficiency_plot(data, var, labels, bins, fmts, cut):\n",
    "    '''\n",
    "    Produces efficiency plots\n",
    "    '''\n",
    "    label_dict = {'jet_pt':r'$\\sf p_{T}$',\n",
    "                  'jet_eta':r'$\\sf \\eta$',\n",
    "                 }\n",
    "    fig, ax = plt.subplots(1, 1, figsize=(8,8), facecolor='white')\n",
    "    num_total, den_total = [], []\n",
    "    eff_max = 0.\n",
    "    for l in labels:\n",
    "        df    = data.query(f'label == \"{l}\"')\n",
    "        numer = df.query(f'jet_tag > {cut}')[var]\n",
    "        denom = df[var]\n",
    "        num_total = np.append(num_total, numer.values)\n",
    "        den_total = np.append(den_total, denom.values)\n",
    "        \n",
    "        x, eff, x_err, y_err = pt.calculate_efficiency(numer.values, denom.values, bins=bins)\n",
    "        ax.errorbar(x, eff, yerr=y_err, xerr=x_err,\n",
    "                    fmt=fmts[l],\n",
    "                    capsize=0,\n",
    "                    markersize=8.,\n",
    "                    elinewidth=2\n",
    "                   )\n",
    "        if eff.max() > eff_max:\n",
    "            eff_max = eff.max() \n",
    "            \n",
    "    # calculate efficiency averaged over samples\n",
    "    #x, eff, x_err, y_err = pt.calculate_efficiency(num_total, \n",
    "    #                                               den_total, \n",
    "    #                                               bins=bins\n",
    "    #                                              )\n",
    "    #ax.errorbar(x, eff, yerr=y_err, xerr=x_err,\n",
    "    #            fmt='k.-',\n",
    "    #            capsize=0,\n",
    "    #            markersize=8.,\n",
    "    #            elinewidth=2\n",
    "    #           )\n",
    "        \n",
    "    ax.set_xlim([bins[0], bins[-1]])\n",
    "    ax.set_ylim(0., min(1.5*eff_max, 1.1))\n",
    "    ax.set_xlabel(label_dict[var])\n",
    "    ax.set_ylabel(r'$\\sf \\epsilon_{b\\,tag}$')\n",
    "\n",
    "    ax.legend(labels)\n",
    "    ax.grid()\n",
    "    \n",
    "    return eff"
   ]
  },
  {
   "cell_type": "markdown",
   "metadata": {},
   "source": [
    "## b tag efficiencies"
   ]
  },
  {
   "cell_type": "code",
   "execution_count": null,
   "metadata": {
    "code_folding": []
   },
   "outputs": [],
   "source": [
    "# efficiencies vs. pt\n",
    "var = 'jet_pt'\n",
    "pt_bins = [30, 40, 50, 70, 100, 150, 210, 300]\n",
    "eff = efficiency_plot(data.query('jet_flavor == 5'), var, labels, pt_bins, fmts, btag_cut)\n",
    "\n",
    "#print(pt_bins, eff, sep='\\n')\n",
    "plt.savefig('plots/bmva_mceff_vs_pt_b.pdf')\n",
    "plt.show()"
   ]
  },
  {
   "cell_type": "code",
   "execution_count": null,
   "metadata": {},
   "outputs": [],
   "source": [
    "# efficiencies vs. eta\n",
    "var = 'jet_eta'\n",
    "eta_bins = [-2.5, -1.5, -1., -0.5, 0., 0.5, 1.0, 1.5, 2.5]\n",
    "_ = efficiency_plot(data.query('jet_flavor == 5'), var, labels, eta_bins, fmts, btag_cut)\n",
    "\n",
    "plt.savefig('plots/bmva_mceff_vs_eta_b.pdf')\n",
    "plt.show()"
   ]
  },
  {
   "cell_type": "markdown",
   "metadata": {
    "collapsed": true
   },
   "source": [
    "## c jet efficiencies"
   ]
  },
  {
   "cell_type": "code",
   "execution_count": null,
   "metadata": {},
   "outputs": [],
   "source": [
    "# efficiencies vs. pt\n",
    "var = 'jet_pt'\n",
    "eff = efficiency_plot(data.query('jet_flavor == 4'), var, labels, pt_bins, fmts, btag_cut)\n",
    "\n",
    "#print(pt_bins, eff, sep='\\n')\n",
    "plt.savefig('plots/bmva_mceff_vs_pt_c.pdf')\n",
    "plt.show()"
   ]
  },
  {
   "cell_type": "code",
   "execution_count": null,
   "metadata": {},
   "outputs": [],
   "source": [
    "# efficiencies vs. eta\n",
    "var = 'jet_eta'\n",
    "_ = efficiency_plot(data.query('jet_flavor == 4'), var, labels, eta_bins, fmts, btag_cut)\n",
    "plt.savefig('plots/bmva_mceff_vs_eta_c.pdf')\n",
    "plt.show()"
   ]
  },
  {
   "cell_type": "markdown",
   "metadata": {},
   "source": [
    "## usdg efficiencies"
   ]
  },
  {
   "cell_type": "code",
   "execution_count": null,
   "metadata": {},
   "outputs": [],
   "source": [
    "# efficiencies vs. pt\n",
    "var = 'jet_pt'\n",
    "eff = efficiency_plot(data.query('jet_flavor == 0'), var, labels, pt_bins, fmts, btag_cut)\n",
    "\n",
    "#print(pt_bins, eff, sep='\\n')\n",
    "plt.savefig('plots/bmva_mceff_vs_pt_usdg.pdf')\n",
    "plt.show()"
   ]
  },
  {
   "cell_type": "code",
   "execution_count": null,
   "metadata": {},
   "outputs": [],
   "source": [
    "# efficiencies vs. eta\n",
    "var = 'jet_eta'\n",
    "efficiency_plot(data.query('jet_flavor == 0'), var, labels, eta_bins, fmts, btag_cut)\n",
    "plt.savefig('plots/bmva_mceff_vs_eta_usdg.pdf')\n",
    "plt.show()"
   ]
  },
  {
   "cell_type": "code",
   "execution_count": null,
   "metadata": {},
   "outputs": [],
   "source": []
  }
 ],
 "metadata": {
  "hide_input": false,
  "kernelspec": {
   "display_name": "Python 3",
   "language": "python",
   "name": "python3"
  },
  "language_info": {
   "codemirror_mode": {
    "name": "ipython",
    "version": 3
   },
   "file_extension": ".py",
   "mimetype": "text/x-python",
   "name": "python",
   "nbconvert_exporter": "python",
   "pygments_lexer": "ipython3",
   "version": "3.7.0"
  },
  "latex_envs": {
   "LaTeX_envs_menu_present": true,
   "autoclose": false,
   "autocomplete": true,
   "bibliofile": "biblio.bib",
   "cite_by": "apalike",
   "current_citInitial": 1,
   "eqLabelWithNumbers": true,
   "eqNumInitial": 0,
   "hotkeys": {
    "equation": "Ctrl-E",
    "itemize": "Ctrl-I"
   },
   "labels_anchors": false,
   "latex_user_defs": false,
   "report_style_numbering": false,
   "user_envs_cfg": false
  },
  "toc": {
   "nav_menu": {
    "height": "116px",
    "width": "252px"
   },
   "navigate_menu": true,
   "number_sections": true,
   "sideBar": true,
   "threshold": 4,
   "toc_cell": false,
   "toc_section_display": "block",
   "toc_window_display": false
  },
  "widgets": {
   "state": {},
   "version": "1.1.2"
  }
 },
 "nbformat": 4,
 "nbformat_minor": 1
}
