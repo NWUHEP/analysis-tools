{
 "cells": [
  {
   "cell_type": "code",
   "execution_count": 2,
   "metadata": {
    "code_folding": [],
    "collapsed": false
   },
   "outputs": [
    {
     "name": "stdout",
     "output_type": "stream",
     "text": [
      "/home/naodell/work/CMS/amumu\n"
     ]
    }
   ],
   "source": [
    "#imports and config\n",
    "%cd '/home/naodell/work/CMS/amumu'\n",
    "%matplotlib notebook\n",
    "\n",
    "from __future__ import division\n",
    "\n",
    "import os, sys\n",
    "from timeit import default_timer as timer\n",
    "\n",
    "import numpy as np\n",
    "from numpy.polynomial.legendre import legval\n",
    "import pandas as pd\n",
    "import matplotlib.pyplot as plt\n",
    "import matplotlib\n",
    "from scipy.stats import norm, chi2\n",
    "from scipy import integrate\n",
    "from lmfit import Parameter, Parameters\n",
    "from tqdm import tqdm_notebook\n",
    "\n",
    "from nllfitter import Model, NLLFitter\n",
    "import nllfitter.fit_tools as ft\n",
    "import nllfitter.plot_tools as pt\n",
    "\n",
    "pt.set_new_tdr()\n",
    "matplotlib.rcParams['figure.figsize'] = (8,8)"
   ]
  },
  {
   "cell_type": "code",
   "execution_count": 3,
   "metadata": {
    "code_folding": [],
    "collapsed": false
   },
   "outputs": [
    {
     "name": "stderr",
     "output_type": "stream",
     "text": [
      "Loading dataframes: 100%|███████████████| 4.00/4.00 [00:02<00:00, 1.52it/s]\n"
     ]
    }
   ],
   "source": [
    "# get the data and configuration\n",
    "do_data     = False\n",
    "ntuple_dir  = 'data/flatuples/mumu_2012'\n",
    "output_path = 'plots/fits/mumu_2012'\n",
    "datasets    = ['muon_2012A', 'muon_2012B', 'muon_2012C', 'muon_2012D']\n",
    "signal      = 'bprime'\n",
    "feature     = 'dilepton_mass'\n",
    "scan_cut    = 'met_mag > {0}'\n",
    "scan_points = np.linspace(0., 50., 50)\n",
    "cuts        = '(lepton1_pt > 25 and abs(lepton1_eta) < 2.1 \\\n",
    "               and lepton2_pt > 25 and abs(lepton2_eta) < 2.1 \\\n",
    "               and lepton1_q != lepton2_q \\\n",
    "               and 12 < dilepton_mass < 70) \\\n",
    "               and ((n_bjets == 1 and n_fwdjets > 0 and n_jets == 0) or \\\n",
    "               (n_bjets > 0 and n_fwdjets == 0 and (n_bjets + n_jets) == 2))'# \\\n",
    "               #and four_body_delta_phi > 2.5 and met_mag < 40))'\n",
    "\n",
    "\n",
    "data_manager = pt.DataManager(input_dir     = ntuple_dir,\n",
    "                              dataset_names = datasets,\n",
    "                              selection     = 'mumu',\n",
    "                              period        = 2012,\n",
    "                              cuts          = cuts\n",
    "                             )\n",
    "df_data = data_manager.get_dataframe('data')"
   ]
  },
  {
   "cell_type": "code",
   "execution_count": 4,
   "metadata": {
    "code_folding": [],
    "collapsed": false
   },
   "outputs": [
    {
     "name": "stdout",
     "output_type": "stream",
     "text": [
      "\n"
     ]
    }
   ],
   "source": [
    "# set up fitters for data\n",
    "bg_params = Parameters()\n",
    "bg_params.add_many(\n",
    "                   ('a1', 0., True, None, None, None),\n",
    "                   ('a2', 0., True, None, None, None)\n",
    "                  )\n",
    "bg_model  = Model(ft.bg_pdf, bg_params)\n",
    "bg_fitter = NLLFitter(bg_model, verbose=False)\n",
    "\n",
    "#\n",
    "sig_params = Parameters()\n",
    "sig_params.add_many(\n",
    "                    ('A'     , 0.01 , True , 0.0 , 1.  , None) ,\n",
    "                    ('mu'    , 29.  , True , 20. , 50. , None) ,\n",
    "                    ('gamma' , 1.9  , True , 0.1 , 3.  , None)\n",
    "                   )\n",
    "sig_params += bg_params.copy()\n",
    "sig_model  = Model(ft.sig_pdf_alt, sig_params)\n",
    "sig_fitter = NLLFitter(sig_model, verbose=False)\n",
    "\n",
    "z_scores_data = []\n",
    "for x in tqdm_notebook(scan_points,\n",
    "                       desc       = 'scanning',\n",
    "                       unit_scale = True,\n",
    "                       total      = len(scan_points)\n",
    "                      ):\n",
    "\n",
    "    # get z scores from data\n",
    "    data       = df_data.query(scan_cut.format(x))\n",
    "    data       = data[feature].values\n",
    "    bg_result  = bg_fitter.fit(data, calculate_corr=False)\n",
    "    sig_result = sig_fitter.fit(data, calculate_corr=False)\n",
    "    q = 2*(bg_model.calc_nll(data) - sig_model.calc_nll(data))\n",
    "    z_scores_data.append(q)\n"
   ]
  },
  {
   "cell_type": "code",
   "execution_count": 5,
   "metadata": {
    "collapsed": false
   },
   "outputs": [
    {
     "name": "stdout",
     "output_type": "stream",
     "text": [
      "\n"
     ]
    }
   ],
   "source": [
    "### Get the ensemble of MC (generated in mc_mixture.ipynb)\n",
    "input_dir = 'data/mc_mixes_{0}/'.format(signal)\n",
    "mc_mixtures = []\n",
    "for f in tqdm_notebook(os.listdir(input_dir)):\n",
    "    df_mc   = pd.read_csv('{0}/{1}'.format(input_dir, f), sep=' ')\n",
    "    df_mc   = df_mc.query(cuts)\n",
    "    mc_mixtures.append(df_mc)"
   ]
  },
  {
   "cell_type": "code",
   "execution_count": 6,
   "metadata": {
    "collapsed": false
   },
   "outputs": [
    {
     "name": "stdout",
     "output_type": "stream",
     "text": [
      "\n"
     ]
    }
   ],
   "source": [
    "# set up fitters for mc (I would just recycle them but I was getting some strange slow-down and it is easier to just re-initialize them)\n",
    "\n",
    "q_mc = []\n",
    "for df_mc in tqdm_notebook(mc_mixtures[:50]):\n",
    "\n",
    "    bg_params = Parameters()\n",
    "    bg_params.add_many(\n",
    "                       ('a1', 0., True, None, None, None),\n",
    "                       ('a2', 0., True, None, None, None)\n",
    "                      )\n",
    "    bg_model  = Model(ft.bg_pdf, bg_params)\n",
    "    bg_fitter = NLLFitter(bg_model, verbose=False)\n",
    "\n",
    "    #\n",
    "    sig_params = Parameters()\n",
    "    sig_params.add_many(\n",
    "                        ('A'     , 0.01 , True , 0.0 , 1.  , None) ,\n",
    "                        ('mu'    , 29.  , True , 20. , 50. , None) ,\n",
    "                        ('gamma' , 1.9  , True , 0.1 , 3.  , None)\n",
    "                       )\n",
    "    sig_params += bg_params.copy()\n",
    "    sig_model  = Model(ft.sig_pdf_alt, sig_params)\n",
    "    sig_fitter = NLLFitter(sig_model, verbose=False)\n",
    "    \n",
    "    q = [] \n",
    "    m_notebook(scan_points,\n",
    "                           desc       = 'scanning cuts',\n",
    "                           unit_scale = True,\n",
    "                           leave      = False,\n",
    "                           #ncols      = 75,\n",
    "                           total      = len(scan_points)\n",
    "                      ):\n",
    "\n",
    "        # get z scores from mc\n",
    "        df_mc      = df_mc.query(scan_cut.format(x))\n",
    "        mass       = df_mc[feature].values\n",
    "        bg_result  = bg_fitter.fit(mass, calculate_corr=False)\n",
    "        sig_result = sig_fitter.fit(mass, calculate_corr=False)\n",
    "        q0 = 2*(bg_model.calc_nll(mass) - sig_model.calc_nll(mass))\n",
    "        q.append(q0)\n",
    "    q_mc.append(q)\n",
    "q_mc = np.array(q_mc)"
   ]
  },
  {
   "cell_type": "code",
   "execution_count": 7,
   "metadata": {
    "collapsed": true
   },
   "outputs": [],
   "source": [
    "# remove scans that result in nan or negative numbers\n",
    "\n",
    "q_mc = q_mc[~np.isnan(q_mc).any(axis=1)]\n",
    "q_mc[q_mc < 0.] = 0.\n",
    "\n",
    "# calculate mean and std\n",
    "z_scores_mc   = np.sqrt(q_mc)\n",
    "z_scores_mean = np.mean(z_scores_mc, axis=0)\n",
    "z_scores_std  = np.std(z_scores_mc, axis=0)"
   ]
  },
  {
   "cell_type": "code",
   "execution_count": 10,
   "metadata": {
    "collapsed": false,
    "scrolled": false
   },
   "outputs": [
    {
     "data": {
      "application/javascript": [
       "/* Put everything inside the global mpl namespace */\n",
       "window.mpl = {};\n",
       "\n",
       "mpl.get_websocket_type = function() {\n",
       "    if (typeof(WebSocket) !== 'undefined') {\n",
       "        return WebSocket;\n",
       "    } else if (typeof(MozWebSocket) !== 'undefined') {\n",
       "        return MozWebSocket;\n",
       "    } else {\n",
       "        alert('Your browser does not have WebSocket support.' +\n",
       "              'Please try Chrome, Safari or Firefox ≥ 6. ' +\n",
       "              'Firefox 4 and 5 are also supported but you ' +\n",
       "              'have to enable WebSockets in about:config.');\n",
       "    };\n",
       "}\n",
       "\n",
       "mpl.figure = function(figure_id, websocket, ondownload, parent_element) {\n",
       "    this.id = figure_id;\n",
       "\n",
       "    this.ws = websocket;\n",
       "\n",
       "    this.supports_binary = (this.ws.binaryType != undefined);\n",
       "\n",
       "    if (!this.supports_binary) {\n",
       "        var warnings = document.getElementById(\"mpl-warnings\");\n",
       "        if (warnings) {\n",
       "            warnings.style.display = 'block';\n",
       "            warnings.textContent = (\n",
       "                \"This browser does not support binary websocket messages. \" +\n",
       "                    \"Performance may be slow.\");\n",
       "        }\n",
       "    }\n",
       "\n",
       "    this.imageObj = new Image();\n",
       "\n",
       "    this.context = undefined;\n",
       "    this.message = undefined;\n",
       "    this.canvas = undefined;\n",
       "    this.rubberband_canvas = undefined;\n",
       "    this.rubberband_context = undefined;\n",
       "    this.format_dropdown = undefined;\n",
       "\n",
       "    this.image_mode = 'full';\n",
       "\n",
       "    this.root = $('<div/>');\n",
       "    this._root_extra_style(this.root)\n",
       "    this.root.attr('style', 'display: inline-block');\n",
       "\n",
       "    $(parent_element).append(this.root);\n",
       "\n",
       "    this._init_header(this);\n",
       "    this._init_canvas(this);\n",
       "    this._init_toolbar(this);\n",
       "\n",
       "    var fig = this;\n",
       "\n",
       "    this.waiting = false;\n",
       "\n",
       "    this.ws.onopen =  function () {\n",
       "            fig.send_message(\"supports_binary\", {value: fig.supports_binary});\n",
       "            fig.send_message(\"send_image_mode\", {});\n",
       "            fig.send_message(\"refresh\", {});\n",
       "        }\n",
       "\n",
       "    this.imageObj.onload = function() {\n",
       "            if (fig.image_mode == 'full') {\n",
       "                // Full images could contain transparency (where diff images\n",
       "                // almost always do), so we need to clear the canvas so that\n",
       "                // there is no ghosting.\n",
       "                fig.context.clearRect(0, 0, fig.canvas.width, fig.canvas.height);\n",
       "            }\n",
       "            fig.context.drawImage(fig.imageObj, 0, 0);\n",
       "        };\n",
       "\n",
       "    this.imageObj.onunload = function() {\n",
       "        this.ws.close();\n",
       "    }\n",
       "\n",
       "    this.ws.onmessage = this._make_on_message_function(this);\n",
       "\n",
       "    this.ondownload = ondownload;\n",
       "}\n",
       "\n",
       "mpl.figure.prototype._init_header = function() {\n",
       "    var titlebar = $(\n",
       "        '<div class=\"ui-dialog-titlebar ui-widget-header ui-corner-all ' +\n",
       "        'ui-helper-clearfix\"/>');\n",
       "    var titletext = $(\n",
       "        '<div class=\"ui-dialog-title\" style=\"width: 100%; ' +\n",
       "        'text-align: center; padding: 3px;\"/>');\n",
       "    titlebar.append(titletext)\n",
       "    this.root.append(titlebar);\n",
       "    this.header = titletext[0];\n",
       "}\n",
       "\n",
       "\n",
       "\n",
       "mpl.figure.prototype._canvas_extra_style = function(canvas_div) {\n",
       "\n",
       "}\n",
       "\n",
       "\n",
       "mpl.figure.prototype._root_extra_style = function(canvas_div) {\n",
       "\n",
       "}\n",
       "\n",
       "mpl.figure.prototype._init_canvas = function() {\n",
       "    var fig = this;\n",
       "\n",
       "    var canvas_div = $('<div/>');\n",
       "\n",
       "    canvas_div.attr('style', 'position: relative; clear: both; outline: 0');\n",
       "\n",
       "    function canvas_keyboard_event(event) {\n",
       "        return fig.key_event(event, event['data']);\n",
       "    }\n",
       "\n",
       "    canvas_div.keydown('key_press', canvas_keyboard_event);\n",
       "    canvas_div.keyup('key_release', canvas_keyboard_event);\n",
       "    this.canvas_div = canvas_div\n",
       "    this._canvas_extra_style(canvas_div)\n",
       "    this.root.append(canvas_div);\n",
       "\n",
       "    var canvas = $('<canvas/>');\n",
       "    canvas.addClass('mpl-canvas');\n",
       "    canvas.attr('style', \"left: 0; top: 0; z-index: 0; outline: 0\")\n",
       "\n",
       "    this.canvas = canvas[0];\n",
       "    this.context = canvas[0].getContext(\"2d\");\n",
       "\n",
       "    var rubberband = $('<canvas/>');\n",
       "    rubberband.attr('style', \"position: absolute; left: 0; top: 0; z-index: 1;\")\n",
       "\n",
       "    var pass_mouse_events = true;\n",
       "\n",
       "    canvas_div.resizable({\n",
       "        start: function(event, ui) {\n",
       "            pass_mouse_events = false;\n",
       "        },\n",
       "        resize: function(event, ui) {\n",
       "            fig.request_resize(ui.size.width, ui.size.height);\n",
       "        },\n",
       "        stop: function(event, ui) {\n",
       "            pass_mouse_events = true;\n",
       "            fig.request_resize(ui.size.width, ui.size.height);\n",
       "        },\n",
       "    });\n",
       "\n",
       "    function mouse_event_fn(event) {\n",
       "        if (pass_mouse_events)\n",
       "            return fig.mouse_event(event, event['data']);\n",
       "    }\n",
       "\n",
       "    rubberband.mousedown('button_press', mouse_event_fn);\n",
       "    rubberband.mouseup('button_release', mouse_event_fn);\n",
       "    // Throttle sequential mouse events to 1 every 20ms.\n",
       "    rubberband.mousemove('motion_notify', mouse_event_fn);\n",
       "\n",
       "    rubberband.mouseenter('figure_enter', mouse_event_fn);\n",
       "    rubberband.mouseleave('figure_leave', mouse_event_fn);\n",
       "\n",
       "    canvas_div.on(\"wheel\", function (event) {\n",
       "        event = event.originalEvent;\n",
       "        event['data'] = 'scroll'\n",
       "        if (event.deltaY < 0) {\n",
       "            event.step = 1;\n",
       "        } else {\n",
       "            event.step = -1;\n",
       "        }\n",
       "        mouse_event_fn(event);\n",
       "    });\n",
       "\n",
       "    canvas_div.append(canvas);\n",
       "    canvas_div.append(rubberband);\n",
       "\n",
       "    this.rubberband = rubberband;\n",
       "    this.rubberband_canvas = rubberband[0];\n",
       "    this.rubberband_context = rubberband[0].getContext(\"2d\");\n",
       "    this.rubberband_context.strokeStyle = \"#000000\";\n",
       "\n",
       "    this._resize_canvas = function(width, height) {\n",
       "        // Keep the size of the canvas, canvas container, and rubber band\n",
       "        // canvas in synch.\n",
       "        canvas_div.css('width', width)\n",
       "        canvas_div.css('height', height)\n",
       "\n",
       "        canvas.attr('width', width);\n",
       "        canvas.attr('height', height);\n",
       "\n",
       "        rubberband.attr('width', width);\n",
       "        rubberband.attr('height', height);\n",
       "    }\n",
       "\n",
       "    // Set the figure to an initial 600x600px, this will subsequently be updated\n",
       "    // upon first draw.\n",
       "    this._resize_canvas(600, 600);\n",
       "\n",
       "    // Disable right mouse context menu.\n",
       "    $(this.rubberband_canvas).bind(\"contextmenu\",function(e){\n",
       "        return false;\n",
       "    });\n",
       "\n",
       "    function set_focus () {\n",
       "        canvas.focus();\n",
       "        canvas_div.focus();\n",
       "    }\n",
       "\n",
       "    window.setTimeout(set_focus, 100);\n",
       "}\n",
       "\n",
       "mpl.figure.prototype._init_toolbar = function() {\n",
       "    var fig = this;\n",
       "\n",
       "    var nav_element = $('<div/>')\n",
       "    nav_element.attr('style', 'width: 100%');\n",
       "    this.root.append(nav_element);\n",
       "\n",
       "    // Define a callback function for later on.\n",
       "    function toolbar_event(event) {\n",
       "        return fig.toolbar_button_onclick(event['data']);\n",
       "    }\n",
       "    function toolbar_mouse_event(event) {\n",
       "        return fig.toolbar_button_onmouseover(event['data']);\n",
       "    }\n",
       "\n",
       "    for(var toolbar_ind in mpl.toolbar_items) {\n",
       "        var name = mpl.toolbar_items[toolbar_ind][0];\n",
       "        var tooltip = mpl.toolbar_items[toolbar_ind][1];\n",
       "        var image = mpl.toolbar_items[toolbar_ind][2];\n",
       "        var method_name = mpl.toolbar_items[toolbar_ind][3];\n",
       "\n",
       "        if (!name) {\n",
       "            // put a spacer in here.\n",
       "            continue;\n",
       "        }\n",
       "        var button = $('<button/>');\n",
       "        button.addClass('ui-button ui-widget ui-state-default ui-corner-all ' +\n",
       "                        'ui-button-icon-only');\n",
       "        button.attr('role', 'button');\n",
       "        button.attr('aria-disabled', 'false');\n",
       "        button.click(method_name, toolbar_event);\n",
       "        button.mouseover(tooltip, toolbar_mouse_event);\n",
       "\n",
       "        var icon_img = $('<span/>');\n",
       "        icon_img.addClass('ui-button-icon-primary ui-icon');\n",
       "        icon_img.addClass(image);\n",
       "        icon_img.addClass('ui-corner-all');\n",
       "\n",
       "        var tooltip_span = $('<span/>');\n",
       "        tooltip_span.addClass('ui-button-text');\n",
       "        tooltip_span.html(tooltip);\n",
       "\n",
       "        button.append(icon_img);\n",
       "        button.append(tooltip_span);\n",
       "\n",
       "        nav_element.append(button);\n",
       "    }\n",
       "\n",
       "    var fmt_picker_span = $('<span/>');\n",
       "\n",
       "    var fmt_picker = $('<select/>');\n",
       "    fmt_picker.addClass('mpl-toolbar-option ui-widget ui-widget-content');\n",
       "    fmt_picker_span.append(fmt_picker);\n",
       "    nav_element.append(fmt_picker_span);\n",
       "    this.format_dropdown = fmt_picker[0];\n",
       "\n",
       "    for (var ind in mpl.extensions) {\n",
       "        var fmt = mpl.extensions[ind];\n",
       "        var option = $(\n",
       "            '<option/>', {selected: fmt === mpl.default_extension}).html(fmt);\n",
       "        fmt_picker.append(option)\n",
       "    }\n",
       "\n",
       "    // Add hover states to the ui-buttons\n",
       "    $( \".ui-button\" ).hover(\n",
       "        function() { $(this).addClass(\"ui-state-hover\");},\n",
       "        function() { $(this).removeClass(\"ui-state-hover\");}\n",
       "    );\n",
       "\n",
       "    var status_bar = $('<span class=\"mpl-message\"/>');\n",
       "    nav_element.append(status_bar);\n",
       "    this.message = status_bar[0];\n",
       "}\n",
       "\n",
       "mpl.figure.prototype.request_resize = function(x_pixels, y_pixels) {\n",
       "    // Request matplotlib to resize the figure. Matplotlib will then trigger a resize in the client,\n",
       "    // which will in turn request a refresh of the image.\n",
       "    this.send_message('resize', {'width': x_pixels, 'height': y_pixels});\n",
       "}\n",
       "\n",
       "mpl.figure.prototype.send_message = function(type, properties) {\n",
       "    properties['type'] = type;\n",
       "    properties['figure_id'] = this.id;\n",
       "    this.ws.send(JSON.stringify(properties));\n",
       "}\n",
       "\n",
       "mpl.figure.prototype.send_draw_message = function() {\n",
       "    if (!this.waiting) {\n",
       "        this.waiting = true;\n",
       "        this.ws.send(JSON.stringify({type: \"draw\", figure_id: this.id}));\n",
       "    }\n",
       "}\n",
       "\n",
       "\n",
       "mpl.figure.prototype.handle_save = function(fig, msg) {\n",
       "    var format_dropdown = fig.format_dropdown;\n",
       "    var format = format_dropdown.options[format_dropdown.selectedIndex].value;\n",
       "    fig.ondownload(fig, format);\n",
       "}\n",
       "\n",
       "\n",
       "mpl.figure.prototype.handle_resize = function(fig, msg) {\n",
       "    var size = msg['size'];\n",
       "    if (size[0] != fig.canvas.width || size[1] != fig.canvas.height) {\n",
       "        fig._resize_canvas(size[0], size[1]);\n",
       "        fig.send_message(\"refresh\", {});\n",
       "    };\n",
       "}\n",
       "\n",
       "mpl.figure.prototype.handle_rubberband = function(fig, msg) {\n",
       "    var x0 = msg['x0'];\n",
       "    var y0 = fig.canvas.height - msg['y0'];\n",
       "    var x1 = msg['x1'];\n",
       "    var y1 = fig.canvas.height - msg['y1'];\n",
       "    x0 = Math.floor(x0) + 0.5;\n",
       "    y0 = Math.floor(y0) + 0.5;\n",
       "    x1 = Math.floor(x1) + 0.5;\n",
       "    y1 = Math.floor(y1) + 0.5;\n",
       "    var min_x = Math.min(x0, x1);\n",
       "    var min_y = Math.min(y0, y1);\n",
       "    var width = Math.abs(x1 - x0);\n",
       "    var height = Math.abs(y1 - y0);\n",
       "\n",
       "    fig.rubberband_context.clearRect(\n",
       "        0, 0, fig.canvas.width, fig.canvas.height);\n",
       "\n",
       "    fig.rubberband_context.strokeRect(min_x, min_y, width, height);\n",
       "}\n",
       "\n",
       "mpl.figure.prototype.handle_figure_label = function(fig, msg) {\n",
       "    // Updates the figure title.\n",
       "    fig.header.textContent = msg['label'];\n",
       "}\n",
       "\n",
       "mpl.figure.prototype.handle_cursor = function(fig, msg) {\n",
       "    var cursor = msg['cursor'];\n",
       "    switch(cursor)\n",
       "    {\n",
       "    case 0:\n",
       "        cursor = 'pointer';\n",
       "        break;\n",
       "    case 1:\n",
       "        cursor = 'default';\n",
       "        break;\n",
       "    case 2:\n",
       "        cursor = 'crosshair';\n",
       "        break;\n",
       "    case 3:\n",
       "        cursor = 'move';\n",
       "        break;\n",
       "    }\n",
       "    fig.rubberband_canvas.style.cursor = cursor;\n",
       "}\n",
       "\n",
       "mpl.figure.prototype.handle_message = function(fig, msg) {\n",
       "    fig.message.textContent = msg['message'];\n",
       "}\n",
       "\n",
       "mpl.figure.prototype.handle_draw = function(fig, msg) {\n",
       "    // Request the server to send over a new figure.\n",
       "    fig.send_draw_message();\n",
       "}\n",
       "\n",
       "mpl.figure.prototype.handle_image_mode = function(fig, msg) {\n",
       "    fig.image_mode = msg['mode'];\n",
       "}\n",
       "\n",
       "mpl.figure.prototype.updated_canvas_event = function() {\n",
       "    // Called whenever the canvas gets updated.\n",
       "    this.send_message(\"ack\", {});\n",
       "}\n",
       "\n",
       "// A function to construct a web socket function for onmessage handling.\n",
       "// Called in the figure constructor.\n",
       "mpl.figure.prototype._make_on_message_function = function(fig) {\n",
       "    return function socket_on_message(evt) {\n",
       "        if (evt.data instanceof Blob) {\n",
       "            /* FIXME: We get \"Resource interpreted as Image but\n",
       "             * transferred with MIME type text/plain:\" errors on\n",
       "             * Chrome.  But how to set the MIME type?  It doesn't seem\n",
       "             * to be part of the websocket stream */\n",
       "            evt.data.type = \"image/png\";\n",
       "\n",
       "            /* Free the memory for the previous frames */\n",
       "            if (fig.imageObj.src) {\n",
       "                (window.URL || window.webkitURL).revokeObjectURL(\n",
       "                    fig.imageObj.src);\n",
       "            }\n",
       "\n",
       "            fig.imageObj.src = (window.URL || window.webkitURL).createObjectURL(\n",
       "                evt.data);\n",
       "            fig.updated_canvas_event();\n",
       "            fig.waiting = false;\n",
       "            return;\n",
       "        }\n",
       "        else if (typeof evt.data === 'string' && evt.data.slice(0, 21) == \"data:image/png;base64\") {\n",
       "            fig.imageObj.src = evt.data;\n",
       "            fig.updated_canvas_event();\n",
       "            fig.waiting = false;\n",
       "            return;\n",
       "        }\n",
       "\n",
       "        var msg = JSON.parse(evt.data);\n",
       "        var msg_type = msg['type'];\n",
       "\n",
       "        // Call the  \"handle_{type}\" callback, which takes\n",
       "        // the figure and JSON message as its only arguments.\n",
       "        try {\n",
       "            var callback = fig[\"handle_\" + msg_type];\n",
       "        } catch (e) {\n",
       "            console.log(\"No handler for the '\" + msg_type + \"' message type: \", msg);\n",
       "            return;\n",
       "        }\n",
       "\n",
       "        if (callback) {\n",
       "            try {\n",
       "                // console.log(\"Handling '\" + msg_type + \"' message: \", msg);\n",
       "                callback(fig, msg);\n",
       "            } catch (e) {\n",
       "                console.log(\"Exception inside the 'handler_\" + msg_type + \"' callback:\", e, e.stack, msg);\n",
       "            }\n",
       "        }\n",
       "    };\n",
       "}\n",
       "\n",
       "// from http://stackoverflow.com/questions/1114465/getting-mouse-location-in-canvas\n",
       "mpl.findpos = function(e) {\n",
       "    //this section is from http://www.quirksmode.org/js/events_properties.html\n",
       "    var targ;\n",
       "    if (!e)\n",
       "        e = window.event;\n",
       "    if (e.target)\n",
       "        targ = e.target;\n",
       "    else if (e.srcElement)\n",
       "        targ = e.srcElement;\n",
       "    if (targ.nodeType == 3) // defeat Safari bug\n",
       "        targ = targ.parentNode;\n",
       "\n",
       "    // jQuery normalizes the pageX and pageY\n",
       "    // pageX,Y are the mouse positions relative to the document\n",
       "    // offset() returns the position of the element relative to the document\n",
       "    var x = e.pageX - $(targ).offset().left;\n",
       "    var y = e.pageY - $(targ).offset().top;\n",
       "\n",
       "    return {\"x\": x, \"y\": y};\n",
       "};\n",
       "\n",
       "/*\n",
       " * return a copy of an object with only non-object keys\n",
       " * we need this to avoid circular references\n",
       " * http://stackoverflow.com/a/24161582/3208463\n",
       " */\n",
       "function simpleKeys (original) {\n",
       "  return Object.keys(original).reduce(function (obj, key) {\n",
       "    if (typeof original[key] !== 'object')\n",
       "        obj[key] = original[key]\n",
       "    return obj;\n",
       "  }, {});\n",
       "}\n",
       "\n",
       "mpl.figure.prototype.mouse_event = function(event, name) {\n",
       "    var canvas_pos = mpl.findpos(event)\n",
       "\n",
       "    if (name === 'button_press')\n",
       "    {\n",
       "        this.canvas.focus();\n",
       "        this.canvas_div.focus();\n",
       "    }\n",
       "\n",
       "    var x = canvas_pos.x;\n",
       "    var y = canvas_pos.y;\n",
       "\n",
       "    this.send_message(name, {x: x, y: y, button: event.button,\n",
       "                             step: event.step,\n",
       "                             guiEvent: simpleKeys(event)});\n",
       "\n",
       "    /* This prevents the web browser from automatically changing to\n",
       "     * the text insertion cursor when the button is pressed.  We want\n",
       "     * to control all of the cursor setting manually through the\n",
       "     * 'cursor' event from matplotlib */\n",
       "    event.preventDefault();\n",
       "    return false;\n",
       "}\n",
       "\n",
       "mpl.figure.prototype._key_event_extra = function(event, name) {\n",
       "    // Handle any extra behaviour associated with a key event\n",
       "}\n",
       "\n",
       "mpl.figure.prototype.key_event = function(event, name) {\n",
       "\n",
       "    // Prevent repeat events\n",
       "    if (name == 'key_press')\n",
       "    {\n",
       "        if (event.which === this._key)\n",
       "            return;\n",
       "        else\n",
       "            this._key = event.which;\n",
       "    }\n",
       "    if (name == 'key_release')\n",
       "        this._key = null;\n",
       "\n",
       "    var value = '';\n",
       "    if (event.ctrlKey && event.which != 17)\n",
       "        value += \"ctrl+\";\n",
       "    if (event.altKey && event.which != 18)\n",
       "        value += \"alt+\";\n",
       "    if (event.shiftKey && event.which != 16)\n",
       "        value += \"shift+\";\n",
       "\n",
       "    value += 'k';\n",
       "    value += event.which.toString();\n",
       "\n",
       "    this._key_event_extra(event, name);\n",
       "\n",
       "    this.send_message(name, {key: value,\n",
       "                             guiEvent: simpleKeys(event)});\n",
       "    return false;\n",
       "}\n",
       "\n",
       "mpl.figure.prototype.toolbar_button_onclick = function(name) {\n",
       "    if (name == 'download') {\n",
       "        this.handle_save(this, null);\n",
       "    } else {\n",
       "        this.send_message(\"toolbar_button\", {name: name});\n",
       "    }\n",
       "};\n",
       "\n",
       "mpl.figure.prototype.toolbar_button_onmouseover = function(tooltip) {\n",
       "    this.message.textContent = tooltip;\n",
       "};\n",
       "mpl.toolbar_items = [[\"Home\", \"Reset original view\", \"fa fa-home icon-home\", \"home\"], [\"Back\", \"Back to  previous view\", \"fa fa-arrow-left icon-arrow-left\", \"back\"], [\"Forward\", \"Forward to next view\", \"fa fa-arrow-right icon-arrow-right\", \"forward\"], [\"\", \"\", \"\", \"\"], [\"Pan\", \"Pan axes with left mouse, zoom with right\", \"fa fa-arrows icon-move\", \"pan\"], [\"Zoom\", \"Zoom to rectangle\", \"fa fa-square-o icon-check-empty\", \"zoom\"], [\"\", \"\", \"\", \"\"], [\"Download\", \"Download plot\", \"fa fa-floppy-o icon-save\", \"download\"]];\n",
       "\n",
       "mpl.extensions = [\"eps\", \"jpeg\", \"pdf\", \"png\", \"ps\", \"raw\", \"svg\", \"tif\"];\n",
       "\n",
       "mpl.default_extension = \"png\";var comm_websocket_adapter = function(comm) {\n",
       "    // Create a \"websocket\"-like object which calls the given IPython comm\n",
       "    // object with the appropriate methods. Currently this is a non binary\n",
       "    // socket, so there is still some room for performance tuning.\n",
       "    var ws = {};\n",
       "\n",
       "    ws.close = function() {\n",
       "        comm.close()\n",
       "    };\n",
       "    ws.send = function(m) {\n",
       "        //console.log('sending', m);\n",
       "        comm.send(m);\n",
       "    };\n",
       "    // Register the callback with on_msg.\n",
       "    comm.on_msg(function(msg) {\n",
       "        //console.log('receiving', msg['content']['data'], msg);\n",
       "        // Pass the mpl event to the overriden (by mpl) onmessage function.\n",
       "        ws.onmessage(msg['content']['data'])\n",
       "    });\n",
       "    return ws;\n",
       "}\n",
       "\n",
       "mpl.mpl_figure_comm = function(comm, msg) {\n",
       "    // This is the function which gets called when the mpl process\n",
       "    // starts-up an IPython Comm through the \"matplotlib\" channel.\n",
       "\n",
       "    var id = msg.content.data.id;\n",
       "    // Get hold of the div created by the display call when the Comm\n",
       "    // socket was opened in Python.\n",
       "    var element = $(\"#\" + id);\n",
       "    var ws_proxy = comm_websocket_adapter(comm)\n",
       "\n",
       "    function ondownload(figure, format) {\n",
       "        window.open(figure.imageObj.src);\n",
       "    }\n",
       "\n",
       "    var fig = new mpl.figure(id, ws_proxy,\n",
       "                           ondownload,\n",
       "                           element.get(0));\n",
       "\n",
       "    // Call onopen now - mpl needs it, as it is assuming we've passed it a real\n",
       "    // web socket which is closed, not our websocket->open comm proxy.\n",
       "    ws_proxy.onopen();\n",
       "\n",
       "    fig.parent_element = element.get(0);\n",
       "    fig.cell_info = mpl.find_output_cell(\"<div id='\" + id + \"'></div>\");\n",
       "    if (!fig.cell_info) {\n",
       "        console.error(\"Failed to find cell for figure\", id, fig);\n",
       "        return;\n",
       "    }\n",
       "\n",
       "    var output_index = fig.cell_info[2]\n",
       "    var cell = fig.cell_info[0];\n",
       "\n",
       "};\n",
       "\n",
       "mpl.figure.prototype.handle_close = function(fig, msg) {\n",
       "    fig.root.unbind('remove')\n",
       "\n",
       "    // Update the output cell to use the data from the current canvas.\n",
       "    fig.push_to_output();\n",
       "    var dataURL = fig.canvas.toDataURL();\n",
       "    // Re-enable the keyboard manager in IPython - without this line, in FF,\n",
       "    // the notebook keyboard shortcuts fail.\n",
       "    IPython.keyboard_manager.enable()\n",
       "    $(fig.parent_element).html('<img src=\"' + dataURL + '\">');\n",
       "    fig.close_ws(fig, msg);\n",
       "}\n",
       "\n",
       "mpl.figure.prototype.close_ws = function(fig, msg){\n",
       "    fig.send_message('closing', msg);\n",
       "    // fig.ws.close()\n",
       "}\n",
       "\n",
       "mpl.figure.prototype.push_to_output = function(remove_interactive) {\n",
       "    // Turn the data on the canvas into data in the output cell.\n",
       "    var dataURL = this.canvas.toDataURL();\n",
       "    this.cell_info[1]['text/html'] = '<img src=\"' + dataURL + '\">';\n",
       "}\n",
       "\n",
       "mpl.figure.prototype.updated_canvas_event = function() {\n",
       "    // Tell IPython that the notebook contents must change.\n",
       "    IPython.notebook.set_dirty(true);\n",
       "    this.send_message(\"ack\", {});\n",
       "    var fig = this;\n",
       "    // Wait a second, then push the new image to the DOM so\n",
       "    // that it is saved nicely (might be nice to debounce this).\n",
       "    setTimeout(function () { fig.push_to_output() }, 1000);\n",
       "}\n",
       "\n",
       "mpl.figure.prototype._init_toolbar = function() {\n",
       "    var fig = this;\n",
       "\n",
       "    var nav_element = $('<div/>')\n",
       "    nav_element.attr('style', 'width: 100%');\n",
       "    this.root.append(nav_element);\n",
       "\n",
       "    // Define a callback function for later on.\n",
       "    function toolbar_event(event) {\n",
       "        return fig.toolbar_button_onclick(event['data']);\n",
       "    }\n",
       "    function toolbar_mouse_event(event) {\n",
       "        return fig.toolbar_button_onmouseover(event['data']);\n",
       "    }\n",
       "\n",
       "    for(var toolbar_ind in mpl.toolbar_items){\n",
       "        var name = mpl.toolbar_items[toolbar_ind][0];\n",
       "        var tooltip = mpl.toolbar_items[toolbar_ind][1];\n",
       "        var image = mpl.toolbar_items[toolbar_ind][2];\n",
       "        var method_name = mpl.toolbar_items[toolbar_ind][3];\n",
       "\n",
       "        if (!name) { continue; };\n",
       "\n",
       "        var button = $('<button class=\"btn btn-default\" href=\"#\" title=\"' + name + '\"><i class=\"fa ' + image + ' fa-lg\"></i></button>');\n",
       "        button.click(method_name, toolbar_event);\n",
       "        button.mouseover(tooltip, toolbar_mouse_event);\n",
       "        nav_element.append(button);\n",
       "    }\n",
       "\n",
       "    // Add the status bar.\n",
       "    var status_bar = $('<span class=\"mpl-message\" style=\"text-align:right; float: right;\"/>');\n",
       "    nav_element.append(status_bar);\n",
       "    this.message = status_bar[0];\n",
       "\n",
       "    // Add the close button to the window.\n",
       "    var buttongrp = $('<div class=\"btn-group inline pull-right\"></div>');\n",
       "    var button = $('<button class=\"btn btn-mini btn-primary\" href=\"#\" title=\"Stop Interaction\"><i class=\"fa fa-power-off icon-remove icon-large\"></i></button>');\n",
       "    button.click(function (evt) { fig.handle_close(fig, {}); } );\n",
       "    button.mouseover('Stop Interaction', toolbar_mouse_event);\n",
       "    buttongrp.append(button);\n",
       "    var titlebar = this.root.find($('.ui-dialog-titlebar'));\n",
       "    titlebar.prepend(buttongrp);\n",
       "}\n",
       "\n",
       "mpl.figure.prototype._root_extra_style = function(el){\n",
       "    var fig = this\n",
       "    el.on(\"remove\", function(){\n",
       "\tfig.close_ws(fig, {});\n",
       "    });\n",
       "}\n",
       "\n",
       "mpl.figure.prototype._canvas_extra_style = function(el){\n",
       "    // this is important to make the div 'focusable\n",
       "    el.attr('tabindex', 0)\n",
       "    // reach out to IPython and tell the keyboard manager to turn it's self\n",
       "    // off when our div gets focus\n",
       "\n",
       "    // location in version 3\n",
       "    if (IPython.notebook.keyboard_manager) {\n",
       "        IPython.notebook.keyboard_manager.register_events(el);\n",
       "    }\n",
       "    else {\n",
       "        // location in version 2\n",
       "        IPython.keyboard_manager.register_events(el);\n",
       "    }\n",
       "\n",
       "}\n",
       "\n",
       "mpl.figure.prototype._key_event_extra = function(event, name) {\n",
       "    var manager = IPython.notebook.keyboard_manager;\n",
       "    if (!manager)\n",
       "        manager = IPython.keyboard_manager;\n",
       "\n",
       "    // Check for shift+enter\n",
       "    if (event.shiftKey && event.which == 13) {\n",
       "        this.canvas_div.blur();\n",
       "        event.shiftKey = false;\n",
       "        // Send a \"J\" for go to next cell\n",
       "        event.which = 74;\n",
       "        event.keyCode = 74;\n",
       "        manager.command_mode();\n",
       "        manager.handle_keydown(event);\n",
       "    }\n",
       "}\n",
       "\n",
       "mpl.figure.prototype.handle_save = function(fig, msg) {\n",
       "    fig.ondownload(fig, null);\n",
       "}\n",
       "\n",
       "\n",
       "mpl.find_output_cell = function(html_output) {\n",
       "    // Return the cell and output element which can be found *uniquely* in the notebook.\n",
       "    // Note - this is a bit hacky, but it is done because the \"notebook_saving.Notebook\"\n",
       "    // IPython event is triggered only after the cells have been serialised, which for\n",
       "    // our purposes (turning an active figure into a static one), is too late.\n",
       "    var cells = IPython.notebook.get_cells();\n",
       "    var ncells = cells.length;\n",
       "    for (var i=0; i<ncells; i++) {\n",
       "        var cell = cells[i];\n",
       "        if (cell.cell_type === 'code'){\n",
       "            for (var j=0; j<cell.output_area.outputs.length; j++) {\n",
       "                var data = cell.output_area.outputs[j];\n",
       "                if (data.data) {\n",
       "                    // IPython >= 3 moved mimebundle to data attribute of output\n",
       "                    data = data.data;\n",
       "                }\n",
       "                if (data['text/html'] == html_output) {\n",
       "                    return [cell, data, j];\n",
       "                }\n",
       "            }\n",
       "        }\n",
       "    }\n",
       "}\n",
       "\n",
       "// Register the function which deals with the matplotlib target/channel.\n",
       "// The kernel may be null if the page has been refreshed.\n",
       "if (IPython.notebook.kernel != null) {\n",
       "    IPython.notebook.kernel.comm_manager.register_target('matplotlib', mpl.mpl_figure_comm);\n",
       "}\n"
      ],
      "text/plain": [
       "<IPython.core.display.Javascript object>"
      ]
     },
     "metadata": {},
     "output_type": "display_data"
    },
    {
     "data": {
      "text/html": [
       "<img src=\"data:image/png;base64,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\">"
      ],
      "text/plain": [
       "<IPython.core.display.HTML object>"
      ]
     },
     "metadata": {},
     "output_type": "display_data"
    }
   ],
   "source": [
    "plt.plot(scan_points, np.sqrt(z_scores_data), 'b-', linewidth=2.)\n",
    "plt.plot(scan_points, z_scores_mean, 'r-', linewidth=2.)\n",
    "plt.fill_between(scan_points, z_scores_mean+z_scores_std, z_scores_mean-z_scores_std,\n",
    "                 color='m',\n",
    "                 alpha=0.25,\n",
    "                 interpolate=True\n",
    "                )\n",
    "\n",
    "plt.legend(['data', 'simulation', r'$\\sf \\pm \\sigma$'], loc=2)\n",
    "\n",
    "plt.xlabel(r'MET')\n",
    "#plt.xlabel(r'$\\sf p_{T}/M_{\\mu\\mu}$')\n",
    "#plt.xlabel(r'$\\sf p_{T,\\,\\mu2}$')\n",
    "plt.ylabel(r'$\\sf z_{0}$')\n",
    "plt.grid()\n",
    "plt.savefig('plots/pt_over_m_significance_{0}.pdf'.format(signal))\n",
    "plt.show()"
   ]
  },
  {
   "cell_type": "code",
   "execution_count": null,
   "metadata": {
    "collapsed": false,
    "scrolled": false
   },
   "outputs": [],
   "source": [
    "# Consider the correlations of the z score at the nominal cut versus the max\n",
    "z0 = z_scores_mc[:,0]\n",
    "z_max = z_scores_mc[:,40]\n",
    "plt.hist(np.abs(z0 - z_max), bins=20, histtype='step', normed=True)\n",
    "plt.xlabel(r'$\\sf |z_{0} - z_{max}|$')\n",
    "plt.grid()\n",
    "plt.savefig('plots/z_diff_validate.pdf')\n",
    "plt.show()"
   ]
  }
 ],
 "metadata": {
  "hide_input": false,
  "kernelspec": {
   "display_name": "Python 2",
   "language": "python",
   "name": "python2"
  },
  "language_info": {
   "codemirror_mode": {
    "name": "ipython",
    "version": 2
   },
   "file_extension": ".py",
   "mimetype": "text/x-python",
   "name": "python",
   "nbconvert_exporter": "python",
   "pygments_lexer": "ipython2",
   "version": "2.7.12"
  },
  "latex_envs": {
   "bibliofile": "biblio.bib",
   "cite_by": "apalike",
   "current_citInitial": 1,
   "eqLabelWithNumbers": true,
   "eqNumInitial": 0
  },
  "toc": {
   "nav_menu": {
    "height": "12px",
    "width": "252px"
   },
   "navigate_menu": true,
   "number_sections": true,
   "sideBar": true,
   "threshold": 4,
   "toc_cell": false,
   "toc_section_display": "block",
   "toc_window_display": false
  },
  "widgets": {
   "state": {
    "0013cb81011e413e81deb03d28b64215": {
     "views": [
      {
       "cell_index": 4
      }
     ]
    },
    "0131cc30972f4f869ab5b8387c9ab24d": {
     "views": [
      {
       "cell_index": 4
      }
     ]
    },
    "0167a8e0d9b349a096a6292b659ff61d": {
     "views": []
    },
    "018110a8a91d41b0ac2ba271baa10cb5": {
     "views": []
    },
    "01b2d94088194ee5bdd50d7b52572578": {
     "views": []
    },
    "036271abc56f477284403fe2afde2f2a": {
     "views": []
    },
    "050b0f17808c44739b9786c0d86342d7": {
     "views": []
    },
    "0646488e88424355bf4e18b76ac61551": {
     "views": []
    },
    "06c8e0fdad4e40ee92e469fd0c879f8d": {
     "views": []
    },
    "07401a96d88f42759aa967896431c0be": {
     "views": []
    },
    "077ababc8aba45089079600df8738d9a": {
     "views": []
    },
    "07bf99e266b04f698421eb6fe8bb58cb": {
     "views": []
    },
    "0835aab2d8724d13aed48486e05c4e8a": {
     "views": []
    },
    "093469700da34dfe87bb95859ac8afa0": {
     "views": []
    },
    "099d0b7c06ce476c831682bbe7bdd315": {
     "views": [
      {
       "cell_index": 4
      }
     ]
    },
    "09e0b055191e4965b3832f4e654ae7da": {
     "views": []
    },
    "0a2350c40a7648f9a8a25680abc41d97": {
     "views": []
    },
    "0bcf8a59f492478baf1e3cbf612d2352": {
     "views": []
    },
    "0c8bdd5025a44a7d84dabd15b0ca9934": {
     "views": []
    },
    "0ce50785668d4951a6ae7714030e49f2": {
     "views": []
    },
    "0eb630dcceb648b69455e0c33926ff6d": {
     "views": []
    },
    "0edb3553ed334d399d54d9f5d4000b89": {
     "views": [
      {
       "cell_index": 4
      }
     ]
    },
    "10346487c39f43a698b91dc37c707e18": {
     "views": []
    },
    "1180de03b47049a7b75c5d57ff373519": {
     "views": []
    },
    "11b09b8420ff43f98f81629fdc7d2142": {
     "views": []
    },
    "128207bb08704ddc898d05f966ab99a8": {
     "views": []
    },
    "12863e954fbc414aa4b8656e14418a75": {
     "views": []
    },
    "13b2f2c343184d0c897a19f66e1db943": {
     "views": []
    },
    "157c562fe0b94655bc54fe20cccd26ae": {
     "views": []
    },
    "15935d1c85e248438c331fa5529283ea": {
     "views": []
    },
    "16261bb2bd9a4e3f8eb44dd3876bbbf5": {
     "views": []
    },
    "168d9e2cdd474fa18d31a346abbe05ac": {
     "views": []
    },
    "16f99ca203ba4cb89c8627afac297545": {
     "views": []
    },
    "179e6f2153df46558e4d8c9a7cf83cd0": {
     "views": []
    },
    "17ce9a4601714c28ba485b8aac7d8734": {
     "views": []
    },
    "184d3e6634d44d69ab8263979f3e9049": {
     "views": []
    },
    "1897822b29fc48e9afa3a45499b444fd": {
     "views": []
    },
    "1b2b7a9e1b5a4bac93016dc524203f3e": {
     "views": []
    },
    "1b7f317599d54309b946a0500cbd7d93": {
     "views": [
      {
       "cell_index": 4
      }
     ]
    },
    "1b86075d5ea643f6b7a3e58e155cbe75": {
     "views": []
    },
    "1bb78fca3bd8492c87f571a6d61adada": {
     "views": []
    },
    "1c1c88d6ecc04089b79189a5eaefa483": {
     "views": []
    },
    "1ded7e30479b4fdc866bea652d3889d4": {
     "views": []
    },
    "1f9ff7f74af047ca8dfd2ee28f370ffb": {
     "views": [
      {
       "cell_index": 4
      }
     ]
    },
    "21c4a7a918a24d1eb3d6b4f71873bb6a": {
     "views": []
    },
    "22cbaeff695f49e8bc0466f7dc5b01ff": {
     "views": []
    },
    "2310d535f37044358098139be038cdd7": {
     "views": []
    },
    "2437053b87084d1f84c85f2e1963073b": {
     "views": []
    },
    "24989caa67e0408c9fd71460801f28fd": {
     "views": []
    },
    "24c4d5ec81dd4196be4dfde2b58a1792": {
     "views": [
      {
       "cell_index": 4
      }
     ]
    },
    "255a7c7709d644e6949bf2115cf64f20": {
     "views": []
    },
    "270199286689450e9676645a88224331": {
     "views": []
    },
    "2745b99b6f364829a89a56ae66d161f6": {
     "views": []
    },
    "2800291d539c43deb4f6efabf56b2c83": {
     "views": []
    },
    "283406ea5b5f43f8af1c647a5ea49253": {
     "views": []
    },
    "2886c2426f46465184592804fc673c81": {
     "views": []
    },
    "28e3f7a32fe24a65ae1f7f66500b28fb": {
     "views": []
    },
    "29d111371ae64d1bbb683afb2c430188": {
     "views": []
    },
    "2b2afa2be5f14eb883103660e3d125aa": {
     "views": []
    },
    "2d95b3fd6b334e378e80eb64faf9c9e1": {
     "views": []
    },
    "2dd57f9decfa4a9f8649d2cf8b5f676a": {
     "views": []
    },
    "2edbecb03cb9413a8f3202af3cbdbbfe": {
     "views": []
    },
    "2f9ebea0258b4c35abcabb2a907c6e29": {
     "views": []
    },
    "2fb61d061e77477e9d0dea5c983b8965": {
     "views": []
    },
    "2fe7b7cca47a4f8d91e09bbc68cbb2ab": {
     "views": []
    },
    "3039656557db4da39ab36dcc6a4ab425": {
     "views": []
    },
    "30be0c75f36e40aca7c39eabd7859759": {
     "views": []
    },
    "30d84ea4b5724bbda2d3084fe4674dd1": {
     "views": []
    },
    "333bee57aae24b9da581fcdeac15a2ae": {
     "views": []
    },
    "344479a74c0348b5b2df7bd1f57c3438": {
     "views": []
    },
    "34f3d11058fd4bf99f770e3cd6bd740e": {
     "views": []
    },
    "351fa45905e249a5a1d69958c1d06e87": {
     "views": []
    },
    "353685ee950c406f9cf0ee5fea0b28e4": {
     "views": []
    },
    "354faa707fd849aeaa68f99d00d37525": {
     "views": []
    },
    "359d0e805d4b40898684baa25f53f5a2": {
     "views": []
    },
    "360bf33caaf34e37b0f1eb2c3f85dec9": {
     "views": []
    },
    "37103d25c37a4fe283652d8dc7776421": {
     "views": []
    },
    "37487c1cadaa4815bedf13aeb3b0d780": {
     "views": []
    },
    "39e41ef11ddf4d66b4d49be9f1d25456": {
     "views": []
    },
    "3a2ad746e68f40168ae9bcfd08336bd6": {
     "views": [
      {
       "cell_index": 4
      }
     ]
    },
    "3a9fd95efb9c441ebed49dfedf229397": {
     "views": []
    },
    "3c6d4375cbaf46c8a71fd66d9defdd91": {
     "views": []
    },
    "3cb8386d63d542c4b2079c38e340d684": {
     "views": []
    },
    "3cdee112e3b84a8aa1bef48db2c7d9f2": {
     "views": []
    },
    "4067b31d8ce14dc087613dd878b8dd42": {
     "views": []
    },
    "41bb1f204c46425897b6a7de40f23391": {
     "views": []
    },
    "41eb456386c248df84d9ec8b207f5d09": {
     "views": []
    },
    "431fc803c6df477d8ca5e9f10a69a28d": {
     "views": []
    },
    "4377ed94198f4fc496ed16d46b9825f5": {
     "views": []
    },
    "43c3dc29a8a74715bc724f7936ac37a6": {
     "views": []
    },
    "43ec4e237b2341fe965bd0b654be71a2": {
     "views": []
    },
    "4459849e44c141799750a6022006e1f9": {
     "views": [
      {
       "cell_index": 4
      }
     ]
    },
    "4524a125fa2c41fa93e3a184ba874dbb": {
     "views": [
      {
       "cell_index": 4
      }
     ]
    },
    "4663e349cd9f486e8d0e5ec0e191ec38": {
     "views": []
    },
    "47d17e8720f04ea8ba6e37797992a1e3": {
     "views": []
    },
    "480bb41fe9f74bdfa06fa0ec6dbfa42b": {
     "views": []
    },
    "4a540b9cd06b46d7b02a5b4430c1876c": {
     "views": [
      {
       "cell_index": 4
      }
     ]
    },
    "4afc51f1d7ee4afbaf1299d9c90d5b9d": {
     "views": []
    },
    "4bbbd37bd044412f862580e75ab02bbc": {
     "views": [
      {
       "cell_index": 4
      }
     ]
    },
    "4d3a3d5ead2347938d3b83489b5f6186": {
     "views": []
    },
    "4dfdb458a7794f51ab701a1761361206": {
     "views": [
      {
       "cell_index": 4
      }
     ]
    },
    "4e5ca9f8bee2433a92fdf706d88cd4b9": {
     "views": []
    },
    "4ed44d5b97a4428d91dc4ec2554d4689": {
     "views": []
    },
    "5041ab9e51f941799901105a818e3040": {
     "views": []
    },
    "50b0e5081bae48ac97551d50f250e7ce": {
     "views": []
    },
    "50e4d0d20623494783fbedff1174ab09": {
     "views": []
    },
    "5198440cb2a9460aa20c0aa6e110be13": {
     "views": []
    },
    "52fe1041d0fa4fc5918df4fada4deac1": {
     "views": []
    },
    "531bfce33c1e41b6af8ea122f5789166": {
     "views": []
    },
    "5332975618444fbf8b03b9be503afa0b": {
     "views": [
      {
       "cell_index": 4
      }
     ]
    },
    "533b005139cf4353aa847e50dd990493": {
     "views": []
    },
    "535402424e484c909ec548c8f8dc25f1": {
     "views": []
    },
    "5362a66279c04992bffebd153c8099de": {
     "views": []
    },
    "53bda81820634ad18ff588bc8269d306": {
     "views": []
    },
    "547087e6de374b23936c7ebf9aedef87": {
     "views": []
    },
    "54a8a7bf7f6e42c0a1808c87be2d48fb": {
     "views": []
    },
    "54e6b24c2938478f93d0274181a829c7": {
     "views": []
    },
    "5565af731d8e46a097b32d5249376728": {
     "views": []
    },
    "558bc642e91048198c6af4780bb062f1": {
     "views": []
    },
    "559f605c642e466684ca3e8e0f03773b": {
     "views": [
      {
       "cell_index": 4
      }
     ]
    },
    "57a5ec043b0947c88d23ff0d5efc6aa5": {
     "views": [
      {
       "cell_index": 4
      }
     ]
    },
    "585b2db5d63f4905ac246ded131f5e51": {
     "views": []
    },
    "58a22c676bad41bdb0d684abad7b8dd3": {
     "views": []
    },
    "5c55229b357049ca93c4c2a42a6e0826": {
     "views": []
    },
    "5ca45e44040f4731b8faac66779fe001": {
     "views": [
      {
       "cell_index": 4
      }
     ]
    },
    "5cffb4955a2b421994745c9dce72d72b": {
     "views": []
    },
    "5e15790eada4441895747c236da88cff": {
     "views": [
      {
       "cell_index": 4
      }
     ]
    },
    "5f1f6dd186f0486ab2ff6509bb81e872": {
     "views": [
      {
       "cell_index": 4
      }
     ]
    },
    "5f3d472dde9943f5833bc53a1b40d731": {
     "views": [
      {
       "cell_index": 4
      }
     ]
    },
    "5f911d069c24482c96910072f834fb67": {
     "views": []
    },
    "6077686f21e143718ae111b95269b0b6": {
     "views": []
    },
    "643e717e296543928fff57c52c52b9c2": {
     "views": []
    },
    "645debecd9a74462970343fb7b04badb": {
     "views": []
    },
    "675b3329aa314e9eb16c308c8c463802": {
     "views": []
    },
    "6762c1d96185448f94f7271546a646c0": {
     "views": [
      {
       "cell_index": 4
      }
     ]
    },
    "67d8fd2d23274b008630ef19402b6ed2": {
     "views": []
    },
    "6a0993535e434d54a072fc401f316e91": {
     "views": []
    },
    "6ab104965bcd4275afd17a5364d8b13c": {
     "views": []
    },
    "6b60a00ee38b4e3c8c90adcc800ee016": {
     "views": []
    },
    "6ba792f437fe4806a804ff29ed004f99": {
     "views": []
    },
    "6bb175944d7d4393ace0ba48d5b1d247": {
     "views": []
    },
    "6bdbc20226b64789ac30b08837a5c1df": {
     "views": []
    },
    "6c00403b6dea4e3881802d9595f340ca": {
     "views": [
      {
       "cell_index": 4
      }
     ]
    },
    "6c19f3c3c9e647dc852fd6e4da993e62": {
     "views": []
    },
    "6ca30c35e460468aaec22e852088d3ec": {
     "views": [
      {
       "cell_index": 4
      }
     ]
    },
    "6ca9d89c8d6c47db9ee8b3f09b45a25f": {
     "views": [
      {
       "cell_index": 4
      }
     ]
    },
    "6e5b3d4ac36b4dd6a89953243ecb68a7": {
     "views": []
    },
    "6f67195d3a7f47709b894d3abd51c89c": {
     "views": []
    },
    "7282aa1f83de4bb9824b6a2feb9704b7": {
     "views": []
    },
    "72e447233e334a97870bfead6ef6c5d0": {
     "views": []
    },
    "739f4dabe764402ca1261f37cd824d63": {
     "views": []
    },
    "73a69ccaa35b4f8cb7bc1044050d9655": {
     "views": []
    },
    "744b70fcde204eb8a9ebec7996f4dba3": {
     "views": []
    },
    "7652683775e94856a12855b083d8e009": {
     "views": []
    },
    "78564482dca44b28ae2dfe330ea766b8": {
     "views": []
    },
    "788df2cf8cf04967b51c70c6f43b66ea": {
     "views": []
    },
    "78efbb46242c4544a7038eb43f69e5c2": {
     "views": []
    },
    "793da1613c66419894c662b0593df8e9": {
     "views": []
    },
    "7a10fd5239cb4933a4bd9c2490808285": {
     "views": []
    },
    "7b538e140946419b81312699f8d73c1b": {
     "views": []
    },
    "7c3e2d9d5b0942aaa3c25398f496d525": {
     "views": [
      {
       "cell_index": 4
      }
     ]
    },
    "7ee03033f3484e28b405b0f31b86ef76": {
     "views": []
    },
    "7f3e840421024ea49610e8dce77e9a07": {
     "views": [
      {
       "cell_index": 4
      }
     ]
    },
    "80c7923698b84f9f97a77756c1a7b059": {
     "views": []
    },
    "81a1cf1aea7a431197afc35de25dbe2b": {
     "views": []
    },
    "81d7a1b5e75c402abc9eb3acf750f15d": {
     "views": [
      {
       "cell_index": 4
      }
     ]
    },
    "8375b12ceaa04848bd60938938c6c044": {
     "views": []
    },
    "839652e860064a8894fabbd3e970c6d9": {
     "views": [
      {
       "cell_index": 4
      }
     ]
    },
    "83fd28dc42474747b270eddf8e6e7a65": {
     "views": []
    },
    "84e6c56d3cce41848583155ff7347e76": {
     "views": []
    },
    "8520d2fe456b40219a9acbe4af13a14b": {
     "views": []
    },
    "872d1263877a46c899ab97f142871241": {
     "views": []
    },
    "87fefc48cb1a45989633510c906fbb2a": {
     "views": []
    },
    "881cb5e9186e4cd7b110ace9d11edb08": {
     "views": [
      {
       "cell_index": 4
      }
     ]
    },
    "88961e701a7b4baf8c16ad529ceb4420": {
     "views": []
    },
    "8a9a63db0af044ef93b041dbc09c455f": {
     "views": []
    },
    "8ab11ae285184922abce25565b0bd954": {
     "views": []
    },
    "8ad1bb12f5db497f98ad6d0ef5e19bc6": {
     "views": []
    },
    "8baeff57afe34178886b4979d08261a1": {
     "views": []
    },
    "8ce892582ce648acb83989d331306c04": {
     "views": []
    },
    "8d15c63b49ae49e799dd86abf60f9c50": {
     "views": [
      {
       "cell_index": 4
      }
     ]
    },
    "8d741aa339594aefa831c88fd3f8c3e5": {
     "views": []
    },
    "902cf645780b415f8980438ee55c3d3e": {
     "views": []
    },
    "90ac152e39f648799aa2253f805852e7": {
     "views": []
    },
    "93e09e2318af48ef82b6c88725dfeeb6": {
     "views": []
    },
    "940263c3814b440c8718e66f0441201b": {
     "views": []
    },
    "95411a5a76de489e898c01dbfcef3270": {
     "views": []
    },
    "9a3ede1841d44e17b0852d2788392cc7": {
     "views": []
    },
    "9aadb73cecff46c1996df5fa90296ef8": {
     "views": []
    },
    "9ac8297f464b49b3b96fb3c76d393a3e": {
     "views": []
    },
    "9af415047ca446218888a6f0122614e2": {
     "views": []
    },
    "9af8cdfd351f4b1188014b91be82333f": {
     "views": []
    },
    "9ca9499a30984501b7e12c9db569d1d0": {
     "views": [
      {
       "cell_index": 4
      }
     ]
    },
    "9e603aaaf12141dab641978e60ab278c": {
     "views": []
    },
    "a022d11923e94e3bb10258b8174460d0": {
     "views": [
      {
       "cell_index": 4
      }
     ]
    },
    "a06a54b1faa249e3864866c0721cd0bd": {
     "views": []
    },
    "a4224ce68a874795b6107634da56abfe": {
     "views": []
    },
    "a436c0cfb1d547e8a06f4e976c52868f": {
     "views": [
      {
       "cell_index": 4
      }
     ]
    },
    "a5da182375d84496afef07c6151cb8b7": {
     "views": []
    },
    "a6e25e303d544fa28210b6a219f727c9": {
     "views": []
    },
    "a754955fce614a7a83e023b7bff7dcbb": {
     "views": []
    },
    "a767a0b2f3124b52a31c9b1672b3389b": {
     "views": []
    },
    "a7822c24d09b49dc9a5091b71a962728": {
     "views": []
    },
    "a93f4b0436d545778adea5c1b69525d2": {
     "views": []
    },
    "a950b6e461fd473e8c93dac860566058": {
     "views": []
    },
    "ab1faf05b2f945aaae52d95601a7f2f3": {
     "views": []
    },
    "ab5fc871adb64115978304f9c684339f": {
     "views": []
    },
    "abb96f4c6d374355ade3a4d3d731b70a": {
     "views": []
    },
    "ad6e7a7aadef43d99335775217e3bcef": {
     "views": [
      {
       "cell_index": 4
      }
     ]
    },
    "ad9f0a0f3c5248338719a63d884a47ac": {
     "views": []
    },
    "addb88251255490c9b43bfe307bc865a": {
     "views": []
    },
    "af9a29fdbb7a45479f8e09ea65d52d17": {
     "views": []
    },
    "afa60d22c2624e3d81ea79284259574c": {
     "views": []
    },
    "affeca2f6a654eb98df6495ce468ee51": {
     "views": [
      {
       "cell_index": 4
      }
     ]
    },
    "b09e0b596c694c9c80f6cb6f0951958c": {
     "views": []
    },
    "b0cd4feacbae4ce08ee3b02cbaf67988": {
     "views": []
    },
    "b0e6b73288da4fea85ad5b1a3515b2db": {
     "views": []
    },
    "b1d783218d474392b869998f14a2f28f": {
     "views": []
    },
    "b258976223784c0cb894bb6424f0548a": {
     "views": []
    },
    "b29d27cb08d74270baeea0ab435c91ac": {
     "views": []
    },
    "b2c78779753749c18fda73d979e92995": {
     "views": [
      {
       "cell_index": 4
      }
     ]
    },
    "b2fc9b8f32a94e419dceb3f8849b779a": {
     "views": []
    },
    "b3013bb90f3b4759bef451e9275170ec": {
     "views": []
    },
    "b31d7669d8454bcab935be8d4dcd197e": {
     "views": []
    },
    "b332e0f13a0e472f96919d9032586aa8": {
     "views": []
    },
    "b371f50dd2104eddb2241bdc09449920": {
     "views": []
    },
    "b6898d6e891c4f3880595d17150d3ba1": {
     "views": []
    },
    "b6c78bca0d4d4d6cbe5f3d2f0dcd2aa5": {
     "views": []
    },
    "b73973f04bb844e0925e6249690db331": {
     "views": []
    },
    "b7dc742cae1e48a09bef264fd6482120": {
     "views": []
    },
    "b87c97d602af45589ba5fa84985577d9": {
     "views": []
    },
    "b9becd123be64931bafb64761881f11e": {
     "views": []
    },
    "bbce7be9d23240da8c400f36eeb5d0c8": {
     "views": []
    },
    "bc8059d5bdf24bbf89833b87a0b92419": {
     "views": []
    },
    "bca51a90c7184618a3054092dedcfe88": {
     "views": []
    },
    "be1d21a5564847b3947cb9fe73cada27": {
     "views": []
    },
    "c1a0868855f9469c8c02f4b14fe8a5ce": {
     "views": []
    },
    "c1b8a66a822b4ecb8fb3bb9044c29678": {
     "views": []
    },
    "c2e26494e17140e3a9e458604fc3189e": {
     "views": [
      {
       "cell_index": 4
      }
     ]
    },
    "c49413bf8ef44d9fa6279c65fa1a169b": {
     "views": [
      {
       "cell_index": 4
      }
     ]
    },
    "c59b5a22eea5478389ec9c6aac8413e2": {
     "views": []
    },
    "c62b0927112e42b1a8cf8ed8b58c653e": {
     "views": []
    },
    "c6cf187e98c642eba5641d0d2d527fd3": {
     "views": []
    },
    "c78bf8f6b0e942be80cdca4a5da26fb1": {
     "views": []
    },
    "c7d2005237734bc6a33ad2b350b7d4fb": {
     "views": []
    },
    "c7d3b37136d341019a265651016c815e": {
     "views": []
    },
    "c81c0c66ed8e4dec8ee525bd2e888a0d": {
     "views": []
    },
    "c82d76a672fa498892155c4c77c53245": {
     "views": []
    },
    "c8fdbbc5064c46e383613ee714335d44": {
     "views": []
    },
    "c935300b1b6d49a2a07aaf641c9d4586": {
     "views": []
    },
    "ca3896befaef4ad593ea66671f715646": {
     "views": [
      {
       "cell_index": 4
      }
     ]
    },
    "cb8fabe6bce04d2094ca4331a61514e8": {
     "views": []
    },
    "cc470d3d61df46d49b5b53e07398d3eb": {
     "views": [
      {
       "cell_index": 4
      }
     ]
    },
    "ccec6b27a4d741ac9db6692617d13304": {
     "views": []
    },
    "cd3766b05f7f434fb4157fe1bdc2c41c": {
     "views": []
    },
    "ce6e70ad536449bd8289527285b30c4e": {
     "views": []
    },
    "cec5d3999fc04b1da2730db3aaff38df": {
     "views": []
    },
    "cef94aeed88d441b9337dc92e03e2448": {
     "views": []
    },
    "cf14139da9ba4024bfa0d3299b0c9e95": {
     "views": [
      {
       "cell_index": 4
      }
     ]
    },
    "cfb414b9492644bf8111467abcad2bef": {
     "views": []
    },
    "cfbdbe39d21e4ebaa77ebade3e94906f": {
     "views": []
    },
    "d11dac7b808844f595e0cd2652fa2f7a": {
     "views": []
    },
    "d2a997ef22c7411f9330af8e5b4d1a6b": {
     "views": []
    },
    "d32fc3fe98184658bc227cca5529108e": {
     "views": []
    },
    "d408dfa4ad564d94896d9e88598440f4": {
     "views": []
    },
    "d41f5336529f4d288e4a7649253e2e38": {
     "views": []
    },
    "d73adc5d3d4547babbe5839736513503": {
     "views": []
    },
    "d8db94898b4243d5b35a973f1b98500a": {
     "views": []
    },
    "d9129419f151443284d2c8445da7e329": {
     "views": []
    },
    "d919c08153994b88917425a79c4ddea1": {
     "views": []
    },
    "d9a4e3ed998340c1b33b15e87ed2b3ea": {
     "views": []
    },
    "daaa094712f247b68da66023af431b7b": {
     "views": []
    },
    "dac1e3ab789b49aca81189c4528f2208": {
     "views": [
      {
       "cell_index": 4
      }
     ]
    },
    "dbba15cd8c754cd4a409aab5e561395c": {
     "views": [
      {
       "cell_index": 4
      }
     ]
    },
    "de92b88f70cf478db76459970fb011e6": {
     "views": []
    },
    "dea32dc9407146769f59300853666cf7": {
     "views": []
    },
    "deda446e471240d4b3c167b29e53a4e7": {
     "views": []
    },
    "df18bf38b32845dea03202761589bd50": {
     "views": []
    },
    "df3d762c06e94595b792c2aa020c1f08": {
     "views": []
    },
    "df47054665d44bf08c5945c54c7126ae": {
     "views": []
    },
    "df5688838f7d40a3a1d8f97723742ff3": {
     "views": []
    },
    "df666c43fbec404ba53abe79fc5b4ef6": {
     "views": []
    },
    "dfbd39eac469471387612e918efbb738": {
     "views": []
    },
    "e05e815825ba4d1c818ef726ac810cad": {
     "views": [
      {
       "cell_index": 2
      }
     ]
    },
    "e36496271fd0428996bff161fc1e7f95": {
     "views": []
    },
    "e37bf4769ee84d62817157c035e5e60d": {
     "views": []
    },
    "e42043f58c7d46a0ad3eedd147a82080": {
     "views": []
    },
    "e4b18dde24ad4355bd31ed6bd596211c": {
     "views": []
    },
    "e5cadebeccda4f24ae79d203467aa539": {
     "views": []
    },
    "e7e9dc3de2d948c885de14178f42cfe0": {
     "views": [
      {
       "cell_index": 4
      }
     ]
    },
    "e87ce6a220aa47e8afb4b2f673522159": {
     "views": []
    },
    "e8bbbf3cfc9b46c690db52ea3bbd223b": {
     "views": []
    },
    "e8eb54a1b8894dd59a8e5cbcd8d1a509": {
     "views": []
    },
    "e987f8de51ad4c58bfb3a869e77648dc": {
     "views": [
      {
       "cell_index": 4
      }
     ]
    },
    "ea415c4e7672409db7d85101433a1b00": {
     "views": [
      {
       "cell_index": 3
      }
     ]
    },
    "eaccef3171a84b6e9e6cf63afb535107": {
     "views": [
      {
       "cell_index": 4
      }
     ]
    },
    "ead6983ebd044c66ad62db1499487918": {
     "views": [
      {
       "cell_index": 4
      }
     ]
    },
    "eb55c36f54d446a9b358364cce14e149": {
     "views": [
      {
       "cell_index": 4
      }
     ]
    },
    "eb99e0e3bea2405a96222e11f2f523a2": {
     "views": []
    },
    "eb9b4210d2d74df28715b18ff30302cb": {
     "views": []
    },
    "ebd4176a664849aab83ef2a69b863ec9": {
     "views": []
    },
    "ec361d18b9474691b772f4edeb5a5fe6": {
     "views": [
      {
       "cell_index": 4
      }
     ]
    },
    "ecf9d4cae44c453eb5bd3979d3c3dccc": {
     "views": [
      {
       "cell_index": 4
      }
     ]
    },
    "ed4ba73e5a844d3d8b1c2fcb34c8a465": {
     "views": []
    },
    "edeb60ff842f4df4a27e6ece0f4ac14c": {
     "views": []
    },
    "ee0143555f3342469afd898237872d4f": {
     "views": []
    },
    "eea9321393e244b3880665e2b06884b4": {
     "views": []
    },
    "f09bb6720f8e4767b0d51aaa15cbbacc": {
     "views": []
    },
    "f0fb64b461c1498b84c7fdfca272fe83": {
     "views": []
    },
    "f22f568bcafa4f6588081bd61ae9ebd5": {
     "views": []
    },
    "f3724d5bfff44242aae53492b01d1402": {
     "views": [
      {
       "cell_index": 4
      }
     ]
    },
    "f3975ed40fef486fac4852d60bd8de09": {
     "views": []
    },
    "f5bb5c48747643d9aa1aa861e6b24650": {
     "views": []
    },
    "fb61b1c95c3f4409b4671c6e34c94661": {
     "views": []
    },
    "fd8a73668c0e47a5af17182005b02d01": {
     "views": []
    },
    "fdd8a3b393fa449ab31efe48491907ca": {
     "views": []
    },
    "fe869ce79d0d4f64939819204827b377": {
     "views": []
    },
    "fff5b699e9434a329f10d3e46d44c8ce": {
     "views": []
    }
   },
   "version": "1.1.2"
  }
 },
 "nbformat": 4,
 "nbformat_minor": 0
}
