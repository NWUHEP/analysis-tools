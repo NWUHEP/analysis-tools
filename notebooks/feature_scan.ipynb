{
 "cells": [
  {
   "cell_type": "code",
   "execution_count": 1,
   "metadata": {
    "code_folding": [],
    "collapsed": false
   },
   "outputs": [
    {
     "name": "stdout",
     "output_type": "stream",
     "text": [
      "/home/naodell/work/CMS/amumu\n"
     ]
    }
   ],
   "source": [
    "#imports and config\n",
    "%cd '/home/naodell/work/CMS/amumu'\n",
    "%matplotlib notebook\n",
    "\n",
    "from __future__ import division\n",
    "\n",
    "import os, sys\n",
    "from timeit import default_timer as timer\n",
    "\n",
    "import numpy as np\n",
    "from numpy.polynomial.legendre import legval\n",
    "import pandas as pd\n",
    "import matplotlib.pyplot as plt\n",
    "import matplotlib\n",
    "from scipy.stats import norm, chi2\n",
    "from scipy import integrate\n",
    "from lmfit import Parameter, Parameters\n",
    "from tqdm import tqdm_notebook\n",
    "\n",
    "from nllfitter import Model, NLLFitter\n",
    "import nllfitter.fit_tools as ft\n",
    "import nllfitter.plot_tools as pt\n",
    "\n",
    "pt.set_new_tdr()\n",
    "matplotlib.rcParams['figure.figsize'] = (8,8)"
   ]
  },
  {
   "cell_type": "code",
   "execution_count": 2,
   "metadata": {
    "code_folding": [],
    "collapsed": false
   },
   "outputs": [
    {
     "name": "stderr",
     "output_type": "stream",
     "text": [
      "Loading dataframes: 100%|███████████████| 4.00/4.00 [00:04<00:00, 1.10s/it]\n"
     ]
    }
   ],
   "source": [
    "# get the data\n",
    "do_data     = False\n",
    "ntuple_dir  = 'data/flatuples/mumu_2012'\n",
    "output_path = 'plots/fits/mumu_2012'\n",
    "datasets    = ['muon_2012A', 'muon_2012B', 'muon_2012C', 'muon_2012D']\n",
    "features    = ['dilepton_mass', 'dilepton_pt_over_m']\n",
    "cuts        = '(lepton1_pt > 25 and abs(lepton1_eta) < 2.1 \\\n",
    "               and lepton2_pt > 25 and abs(lepton2_eta) < 2.1 \\\n",
    "               and lepton1_q != lepton2_q \\\n",
    "               and 12 < dilepton_mass < 70) \\\n",
    "               and ((n_bjets == 1 and n_fwdjets > 0 and n_jets == 0) or \\\n",
    "               (n_bjets > 0 and n_fwdjets == 0 and (n_bjets + n_jets) == 2))'# \\\n",
    "               #and four_body_delta_phi > 2.5 and met_mag < 40))'\n",
    "\n",
    "\n",
    "data_manager = pt.DataManager(input_dir     = ntuple_dir,\n",
    "                              dataset_names = datasets,\n",
    "                              selection     = 'mumu',\n",
    "                              period        = 2012,\n",
    "                              cuts          = cuts\n",
    "                             )\n",
    "df_data = data_manager.get_dataframe('data')"
   ]
  },
  {
   "cell_type": "code",
   "execution_count": 3,
   "metadata": {
    "code_folding": [],
    "collapsed": false
   },
   "outputs": [
    {
     "name": "stdout",
     "output_type": "stream",
     "text": [
      "\n"
     ]
    }
   ],
   "source": [
    "# set up fitters for data\n",
    "bg_params = Parameters()\n",
    "bg_params.add_many(\n",
    "                   ('a1', 0., True, None, None, None),\n",
    "                   ('a2', 0., True, None, None, None)\n",
    "                  )\n",
    "bg_model  = Model(ft.bg_pdf, bg_params)\n",
    "bg_fitter = NLLFitter(bg_model, verbose=False)\n",
    "\n",
    "#\n",
    "sig_params = Parameters()\n",
    "sig_params.add_many(\n",
    "                    ('A'     , 0.01 , True , 0.0 , 1.  , None) ,\n",
    "                    ('mu'    , 29.  , True , 20. , 50. , None) ,\n",
    "                    ('gamma' , 1.9  , True , 0.1 , 3.  , None)\n",
    "                   )\n",
    "sig_params += bg_params.copy()\n",
    "sig_model  = Model(ft.sig_pdf_alt, sig_params)\n",
    "sig_fitter = NLLFitter(sig_model, verbose=False)\n",
    "\n",
    "scan_var = np.linspace(0., 3., 100)\n",
    "z_scores_data = []\n",
    "for x in tqdm_notebook(scan_var,\n",
    "                       desc       = 'scanning',\n",
    "                       unit_scale = True,\n",
    "                       #ncols      = 75,\n",
    "                       total      = len(scan_var)\n",
    "                      ):\n",
    "\n",
    "    # get z scores from data\n",
    "    data       = df_data.query('dilepton_pt_over_m > {0}'.format(x))['dilepton_mass']\n",
    "    data       = data.values\n",
    "    bg_result  = bg_fitter.fit(data, calculate_corr=False)\n",
    "    sig_result = sig_fitter.fit(data, calculate_corr=False)\n",
    "    q = 2*(bg_model.calc_nll(data) - sig_model.calc_nll(data))\n",
    "    z_scores_data.append(q)\n"
   ]
  },
  {
   "cell_type": "code",
   "execution_count": 4,
   "metadata": {
    "collapsed": false
   },
   "outputs": [
    {
     "name": "stdout",
     "output_type": "stream",
     "text": [
      "\n"
     ]
    }
   ],
   "source": [
    "### Get the ensemble of MC (generated in mc_mixture.ipynb)\n",
    "input_dir = 'data/mc_mixes/'\n",
    "mc_mixtures = []\n",
    "for f in tqdm_notebook(os.listdir(input_dir)):\n",
    "    df_mc   = pd.read_csv('{0}/{1}'.format(input_dir, f), sep=' ')\n",
    "    df_mc   = df_mc.query(cuts)\n",
    "    mc_mixtures.append(df_mc)"
   ]
  },
  {
   "cell_type": "code",
   "execution_count": 27,
   "metadata": {
    "collapsed": false
   },
   "outputs": [
    {
     "name": "stdout",
     "output_type": "stream",
     "text": [
      "\n"
     ]
    }
   ],
   "source": [
    "# set up fitters for mc (I would just recycle them but I was getting some strange slow-down and it is easier to just re-initialize them)\n",
    "\n",
    "z_scores_mc = []\n",
    "for df_mc in tqdm_notebook(mc_mixtures[:100]):\n",
    "\n",
    "    bg_params = Parameters()\n",
    "    bg_params.add_many(\n",
    "                       ('a1', 0., True, None, None, None),\n",
    "                       ('a2', 0., True, None, None, None)\n",
    "                      )\n",
    "    bg_model  = Model(ft.bg_pdf, bg_params)\n",
    "    bg_fitter = NLLFitter(bg_model, verbose=False)\n",
    "\n",
    "    #\n",
    "    sig_params = Parameters()\n",
    "    sig_params.add_many(\n",
    "                        ('A'     , 0.01 , True , 0.0 , 1.  , None) ,\n",
    "                        ('mu'    , 29.  , True , 20. , 50. , None) ,\n",
    "                        ('gamma' , 1.9  , True , 0.1 , 3.  , None)\n",
    "                       )\n",
    "    sig_params += bg_params.copy()\n",
    "    sig_model  = Model(ft.sig_pdf_alt, sig_params)\n",
    "    sig_fitter = NLLFitter(sig_model, verbose=False)\n",
    "    \n",
    "    z_scores = [] \n",
    "    for x in tqdm_notebook(scan_var,\n",
    "                           desc       = 'scanning cuts',\n",
    "                           unit_scale = True,\n",
    "                           leave      = False,\n",
    "                           #ncols      = 75,\n",
    "                           total      = len(scan_var)\n",
    "                      ):\n",
    "\n",
    "        # get z scores from mc\n",
    "        df_mc      = df_mc.query('dilepton_pt_over_m > {0}'.format(x))\n",
    "        mass       = df_mc['dilepton_mass'].values\n",
    "        bg_result  = bg_fitter.fit(mass, calculate_corr=False)\n",
    "        sig_result = sig_fitter.fit(mass, calculate_corr=False)\n",
    "        q = 2*(bg_model.calc_nll(mass) - sig_model.calc_nll(mass))\n",
    "        z_scores.append(q)\n",
    "    z_scores_mc.append(z_scores)"
   ]
  },
  {
   "cell_type": "code",
   "execution_count": 28,
   "metadata": {
    "collapsed": true
   },
   "outputs": [],
   "source": [
    "z_scores_mc   = np.sqrt(np.array(z_scores_mc))\n",
    "z_scores_mean = np.mean(z_scores_mc, axis=0)\n",
    "z_scores_std  = np.std(z_scores_mc, axis=0)"
   ]
  },
  {
   "cell_type": "code",
   "execution_count": 29,
   "metadata": {
    "collapsed": false,
    "scrolled": false
   },
   "outputs": [
    {
     "data": {
      "application/javascript": [
       "/* Put everything inside the global mpl namespace */\n",
       "window.mpl = {};\n",
       "\n",
       "mpl.get_websocket_type = function() {\n",
       "    if (typeof(WebSocket) !== 'undefined') {\n",
       "        return WebSocket;\n",
       "    } else if (typeof(MozWebSocket) !== 'undefined') {\n",
       "        return MozWebSocket;\n",
       "    } else {\n",
       "        alert('Your browser does not have WebSocket support.' +\n",
       "              'Please try Chrome, Safari or Firefox ≥ 6. ' +\n",
       "              'Firefox 4 and 5 are also supported but you ' +\n",
       "              'have to enable WebSockets in about:config.');\n",
       "    };\n",
       "}\n",
       "\n",
       "mpl.figure = function(figure_id, websocket, ondownload, parent_element) {\n",
       "    this.id = figure_id;\n",
       "\n",
       "    this.ws = websocket;\n",
       "\n",
       "    this.supports_binary = (this.ws.binaryType != undefined);\n",
       "\n",
       "    if (!this.supports_binary) {\n",
       "        var warnings = document.getElementById(\"mpl-warnings\");\n",
       "        if (warnings) {\n",
       "            warnings.style.display = 'block';\n",
       "            warnings.textContent = (\n",
       "                \"This browser does not support binary websocket messages. \" +\n",
       "                    \"Performance may be slow.\");\n",
       "        }\n",
       "    }\n",
       "\n",
       "    this.imageObj = new Image();\n",
       "\n",
       "    this.context = undefined;\n",
       "    this.message = undefined;\n",
       "    this.canvas = undefined;\n",
       "    this.rubberband_canvas = undefined;\n",
       "    this.rubberband_context = undefined;\n",
       "    this.format_dropdown = undefined;\n",
       "\n",
       "    this.image_mode = 'full';\n",
       "\n",
       "    this.root = $('<div/>');\n",
       "    this._root_extra_style(this.root)\n",
       "    this.root.attr('style', 'display: inline-block');\n",
       "\n",
       "    $(parent_element).append(this.root);\n",
       "\n",
       "    this._init_header(this);\n",
       "    this._init_canvas(this);\n",
       "    this._init_toolbar(this);\n",
       "\n",
       "    var fig = this;\n",
       "\n",
       "    this.waiting = false;\n",
       "\n",
       "    this.ws.onopen =  function () {\n",
       "            fig.send_message(\"supports_binary\", {value: fig.supports_binary});\n",
       "            fig.send_message(\"send_image_mode\", {});\n",
       "            fig.send_message(\"refresh\", {});\n",
       "        }\n",
       "\n",
       "    this.imageObj.onload = function() {\n",
       "            if (fig.image_mode == 'full') {\n",
       "                // Full images could contain transparency (where diff images\n",
       "                // almost always do), so we need to clear the canvas so that\n",
       "                // there is no ghosting.\n",
       "                fig.context.clearRect(0, 0, fig.canvas.width, fig.canvas.height);\n",
       "            }\n",
       "            fig.context.drawImage(fig.imageObj, 0, 0);\n",
       "        };\n",
       "\n",
       "    this.imageObj.onunload = function() {\n",
       "        this.ws.close();\n",
       "    }\n",
       "\n",
       "    this.ws.onmessage = this._make_on_message_function(this);\n",
       "\n",
       "    this.ondownload = ondownload;\n",
       "}\n",
       "\n",
       "mpl.figure.prototype._init_header = function() {\n",
       "    var titlebar = $(\n",
       "        '<div class=\"ui-dialog-titlebar ui-widget-header ui-corner-all ' +\n",
       "        'ui-helper-clearfix\"/>');\n",
       "    var titletext = $(\n",
       "        '<div class=\"ui-dialog-title\" style=\"width: 100%; ' +\n",
       "        'text-align: center; padding: 3px;\"/>');\n",
       "    titlebar.append(titletext)\n",
       "    this.root.append(titlebar);\n",
       "    this.header = titletext[0];\n",
       "}\n",
       "\n",
       "\n",
       "\n",
       "mpl.figure.prototype._canvas_extra_style = function(canvas_div) {\n",
       "\n",
       "}\n",
       "\n",
       "\n",
       "mpl.figure.prototype._root_extra_style = function(canvas_div) {\n",
       "\n",
       "}\n",
       "\n",
       "mpl.figure.prototype._init_canvas = function() {\n",
       "    var fig = this;\n",
       "\n",
       "    var canvas_div = $('<div/>');\n",
       "\n",
       "    canvas_div.attr('style', 'position: relative; clear: both; outline: 0');\n",
       "\n",
       "    function canvas_keyboard_event(event) {\n",
       "        return fig.key_event(event, event['data']);\n",
       "    }\n",
       "\n",
       "    canvas_div.keydown('key_press', canvas_keyboard_event);\n",
       "    canvas_div.keyup('key_release', canvas_keyboard_event);\n",
       "    this.canvas_div = canvas_div\n",
       "    this._canvas_extra_style(canvas_div)\n",
       "    this.root.append(canvas_div);\n",
       "\n",
       "    var canvas = $('<canvas/>');\n",
       "    canvas.addClass('mpl-canvas');\n",
       "    canvas.attr('style', \"left: 0; top: 0; z-index: 0; outline: 0\")\n",
       "\n",
       "    this.canvas = canvas[0];\n",
       "    this.context = canvas[0].getContext(\"2d\");\n",
       "\n",
       "    var rubberband = $('<canvas/>');\n",
       "    rubberband.attr('style', \"position: absolute; left: 0; top: 0; z-index: 1;\")\n",
       "\n",
       "    var pass_mouse_events = true;\n",
       "\n",
       "    canvas_div.resizable({\n",
       "        start: function(event, ui) {\n",
       "            pass_mouse_events = false;\n",
       "        },\n",
       "        resize: function(event, ui) {\n",
       "            fig.request_resize(ui.size.width, ui.size.height);\n",
       "        },\n",
       "        stop: function(event, ui) {\n",
       "            pass_mouse_events = true;\n",
       "            fig.request_resize(ui.size.width, ui.size.height);\n",
       "        },\n",
       "    });\n",
       "\n",
       "    function mouse_event_fn(event) {\n",
       "        if (pass_mouse_events)\n",
       "            return fig.mouse_event(event, event['data']);\n",
       "    }\n",
       "\n",
       "    rubberband.mousedown('button_press', mouse_event_fn);\n",
       "    rubberband.mouseup('button_release', mouse_event_fn);\n",
       "    // Throttle sequential mouse events to 1 every 20ms.\n",
       "    rubberband.mousemove('motion_notify', mouse_event_fn);\n",
       "\n",
       "    rubberband.mouseenter('figure_enter', mouse_event_fn);\n",
       "    rubberband.mouseleave('figure_leave', mouse_event_fn);\n",
       "\n",
       "    canvas_div.on(\"wheel\", function (event) {\n",
       "        event = event.originalEvent;\n",
       "        event['data'] = 'scroll'\n",
       "        if (event.deltaY < 0) {\n",
       "            event.step = 1;\n",
       "        } else {\n",
       "            event.step = -1;\n",
       "        }\n",
       "        mouse_event_fn(event);\n",
       "    });\n",
       "\n",
       "    canvas_div.append(canvas);\n",
       "    canvas_div.append(rubberband);\n",
       "\n",
       "    this.rubberband = rubberband;\n",
       "    this.rubberband_canvas = rubberband[0];\n",
       "    this.rubberband_context = rubberband[0].getContext(\"2d\");\n",
       "    this.rubberband_context.strokeStyle = \"#000000\";\n",
       "\n",
       "    this._resize_canvas = function(width, height) {\n",
       "        // Keep the size of the canvas, canvas container, and rubber band\n",
       "        // canvas in synch.\n",
       "        canvas_div.css('width', width)\n",
       "        canvas_div.css('height', height)\n",
       "\n",
       "        canvas.attr('width', width);\n",
       "        canvas.attr('height', height);\n",
       "\n",
       "        rubberband.attr('width', width);\n",
       "        rubberband.attr('height', height);\n",
       "    }\n",
       "\n",
       "    // Set the figure to an initial 600x600px, this will subsequently be updated\n",
       "    // upon first draw.\n",
       "    this._resize_canvas(600, 600);\n",
       "\n",
       "    // Disable right mouse context menu.\n",
       "    $(this.rubberband_canvas).bind(\"contextmenu\",function(e){\n",
       "        return false;\n",
       "    });\n",
       "\n",
       "    function set_focus () {\n",
       "        canvas.focus();\n",
       "        canvas_div.focus();\n",
       "    }\n",
       "\n",
       "    window.setTimeout(set_focus, 100);\n",
       "}\n",
       "\n",
       "mpl.figure.prototype._init_toolbar = function() {\n",
       "    var fig = this;\n",
       "\n",
       "    var nav_element = $('<div/>')\n",
       "    nav_element.attr('style', 'width: 100%');\n",
       "    this.root.append(nav_element);\n",
       "\n",
       "    // Define a callback function for later on.\n",
       "    function toolbar_event(event) {\n",
       "        return fig.toolbar_button_onclick(event['data']);\n",
       "    }\n",
       "    function toolbar_mouse_event(event) {\n",
       "        return fig.toolbar_button_onmouseover(event['data']);\n",
       "    }\n",
       "\n",
       "    for(var toolbar_ind in mpl.toolbar_items) {\n",
       "        var name = mpl.toolbar_items[toolbar_ind][0];\n",
       "        var tooltip = mpl.toolbar_items[toolbar_ind][1];\n",
       "        var image = mpl.toolbar_items[toolbar_ind][2];\n",
       "        var method_name = mpl.toolbar_items[toolbar_ind][3];\n",
       "\n",
       "        if (!name) {\n",
       "            // put a spacer in here.\n",
       "            continue;\n",
       "        }\n",
       "        var button = $('<button/>');\n",
       "        button.addClass('ui-button ui-widget ui-state-default ui-corner-all ' +\n",
       "                        'ui-button-icon-only');\n",
       "        button.attr('role', 'button');\n",
       "        button.attr('aria-disabled', 'false');\n",
       "        button.click(method_name, toolbar_event);\n",
       "        button.mouseover(tooltip, toolbar_mouse_event);\n",
       "\n",
       "        var icon_img = $('<span/>');\n",
       "        icon_img.addClass('ui-button-icon-primary ui-icon');\n",
       "        icon_img.addClass(image);\n",
       "        icon_img.addClass('ui-corner-all');\n",
       "\n",
       "        var tooltip_span = $('<span/>');\n",
       "        tooltip_span.addClass('ui-button-text');\n",
       "        tooltip_span.html(tooltip);\n",
       "\n",
       "        button.append(icon_img);\n",
       "        button.append(tooltip_span);\n",
       "\n",
       "        nav_element.append(button);\n",
       "    }\n",
       "\n",
       "    var fmt_picker_span = $('<span/>');\n",
       "\n",
       "    var fmt_picker = $('<select/>');\n",
       "    fmt_picker.addClass('mpl-toolbar-option ui-widget ui-widget-content');\n",
       "    fmt_picker_span.append(fmt_picker);\n",
       "    nav_element.append(fmt_picker_span);\n",
       "    this.format_dropdown = fmt_picker[0];\n",
       "\n",
       "    for (var ind in mpl.extensions) {\n",
       "        var fmt = mpl.extensions[ind];\n",
       "        var option = $(\n",
       "            '<option/>', {selected: fmt === mpl.default_extension}).html(fmt);\n",
       "        fmt_picker.append(option)\n",
       "    }\n",
       "\n",
       "    // Add hover states to the ui-buttons\n",
       "    $( \".ui-button\" ).hover(\n",
       "        function() { $(this).addClass(\"ui-state-hover\");},\n",
       "        function() { $(this).removeClass(\"ui-state-hover\");}\n",
       "    );\n",
       "\n",
       "    var status_bar = $('<span class=\"mpl-message\"/>');\n",
       "    nav_element.append(status_bar);\n",
       "    this.message = status_bar[0];\n",
       "}\n",
       "\n",
       "mpl.figure.prototype.request_resize = function(x_pixels, y_pixels) {\n",
       "    // Request matplotlib to resize the figure. Matplotlib will then trigger a resize in the client,\n",
       "    // which will in turn request a refresh of the image.\n",
       "    this.send_message('resize', {'width': x_pixels, 'height': y_pixels});\n",
       "}\n",
       "\n",
       "mpl.figure.prototype.send_message = function(type, properties) {\n",
       "    properties['type'] = type;\n",
       "    properties['figure_id'] = this.id;\n",
       "    this.ws.send(JSON.stringify(properties));\n",
       "}\n",
       "\n",
       "mpl.figure.prototype.send_draw_message = function() {\n",
       "    if (!this.waiting) {\n",
       "        this.waiting = true;\n",
       "        this.ws.send(JSON.stringify({type: \"draw\", figure_id: this.id}));\n",
       "    }\n",
       "}\n",
       "\n",
       "\n",
       "mpl.figure.prototype.handle_save = function(fig, msg) {\n",
       "    var format_dropdown = fig.format_dropdown;\n",
       "    var format = format_dropdown.options[format_dropdown.selectedIndex].value;\n",
       "    fig.ondownload(fig, format);\n",
       "}\n",
       "\n",
       "\n",
       "mpl.figure.prototype.handle_resize = function(fig, msg) {\n",
       "    var size = msg['size'];\n",
       "    if (size[0] != fig.canvas.width || size[1] != fig.canvas.height) {\n",
       "        fig._resize_canvas(size[0], size[1]);\n",
       "        fig.send_message(\"refresh\", {});\n",
       "    };\n",
       "}\n",
       "\n",
       "mpl.figure.prototype.handle_rubberband = function(fig, msg) {\n",
       "    var x0 = msg['x0'];\n",
       "    var y0 = fig.canvas.height - msg['y0'];\n",
       "    var x1 = msg['x1'];\n",
       "    var y1 = fig.canvas.height - msg['y1'];\n",
       "    x0 = Math.floor(x0) + 0.5;\n",
       "    y0 = Math.floor(y0) + 0.5;\n",
       "    x1 = Math.floor(x1) + 0.5;\n",
       "    y1 = Math.floor(y1) + 0.5;\n",
       "    var min_x = Math.min(x0, x1);\n",
       "    var min_y = Math.min(y0, y1);\n",
       "    var width = Math.abs(x1 - x0);\n",
       "    var height = Math.abs(y1 - y0);\n",
       "\n",
       "    fig.rubberband_context.clearRect(\n",
       "        0, 0, fig.canvas.width, fig.canvas.height);\n",
       "\n",
       "    fig.rubberband_context.strokeRect(min_x, min_y, width, height);\n",
       "}\n",
       "\n",
       "mpl.figure.prototype.handle_figure_label = function(fig, msg) {\n",
       "    // Updates the figure title.\n",
       "    fig.header.textContent = msg['label'];\n",
       "}\n",
       "\n",
       "mpl.figure.prototype.handle_cursor = function(fig, msg) {\n",
       "    var cursor = msg['cursor'];\n",
       "    switch(cursor)\n",
       "    {\n",
       "    case 0:\n",
       "        cursor = 'pointer';\n",
       "        break;\n",
       "    case 1:\n",
       "        cursor = 'default';\n",
       "        break;\n",
       "    case 2:\n",
       "        cursor = 'crosshair';\n",
       "        break;\n",
       "    case 3:\n",
       "        cursor = 'move';\n",
       "        break;\n",
       "    }\n",
       "    fig.rubberband_canvas.style.cursor = cursor;\n",
       "}\n",
       "\n",
       "mpl.figure.prototype.handle_message = function(fig, msg) {\n",
       "    fig.message.textContent = msg['message'];\n",
       "}\n",
       "\n",
       "mpl.figure.prototype.handle_draw = function(fig, msg) {\n",
       "    // Request the server to send over a new figure.\n",
       "    fig.send_draw_message();\n",
       "}\n",
       "\n",
       "mpl.figure.prototype.handle_image_mode = function(fig, msg) {\n",
       "    fig.image_mode = msg['mode'];\n",
       "}\n",
       "\n",
       "mpl.figure.prototype.updated_canvas_event = function() {\n",
       "    // Called whenever the canvas gets updated.\n",
       "    this.send_message(\"ack\", {});\n",
       "}\n",
       "\n",
       "// A function to construct a web socket function for onmessage handling.\n",
       "// Called in the figure constructor.\n",
       "mpl.figure.prototype._make_on_message_function = function(fig) {\n",
       "    return function socket_on_message(evt) {\n",
       "        if (evt.data instanceof Blob) {\n",
       "            /* FIXME: We get \"Resource interpreted as Image but\n",
       "             * transferred with MIME type text/plain:\" errors on\n",
       "             * Chrome.  But how to set the MIME type?  It doesn't seem\n",
       "             * to be part of the websocket stream */\n",
       "            evt.data.type = \"image/png\";\n",
       "\n",
       "            /* Free the memory for the previous frames */\n",
       "            if (fig.imageObj.src) {\n",
       "                (window.URL || window.webkitURL).revokeObjectURL(\n",
       "                    fig.imageObj.src);\n",
       "            }\n",
       "\n",
       "            fig.imageObj.src = (window.URL || window.webkitURL).createObjectURL(\n",
       "                evt.data);\n",
       "            fig.updated_canvas_event();\n",
       "            fig.waiting = false;\n",
       "            return;\n",
       "        }\n",
       "        else if (typeof evt.data === 'string' && evt.data.slice(0, 21) == \"data:image/png;base64\") {\n",
       "            fig.imageObj.src = evt.data;\n",
       "            fig.updated_canvas_event();\n",
       "            fig.waiting = false;\n",
       "            return;\n",
       "        }\n",
       "\n",
       "        var msg = JSON.parse(evt.data);\n",
       "        var msg_type = msg['type'];\n",
       "\n",
       "        // Call the  \"handle_{type}\" callback, which takes\n",
       "        // the figure and JSON message as its only arguments.\n",
       "        try {\n",
       "            var callback = fig[\"handle_\" + msg_type];\n",
       "        } catch (e) {\n",
       "            console.log(\"No handler for the '\" + msg_type + \"' message type: \", msg);\n",
       "            return;\n",
       "        }\n",
       "\n",
       "        if (callback) {\n",
       "            try {\n",
       "                // console.log(\"Handling '\" + msg_type + \"' message: \", msg);\n",
       "                callback(fig, msg);\n",
       "            } catch (e) {\n",
       "                console.log(\"Exception inside the 'handler_\" + msg_type + \"' callback:\", e, e.stack, msg);\n",
       "            }\n",
       "        }\n",
       "    };\n",
       "}\n",
       "\n",
       "// from http://stackoverflow.com/questions/1114465/getting-mouse-location-in-canvas\n",
       "mpl.findpos = function(e) {\n",
       "    //this section is from http://www.quirksmode.org/js/events_properties.html\n",
       "    var targ;\n",
       "    if (!e)\n",
       "        e = window.event;\n",
       "    if (e.target)\n",
       "        targ = e.target;\n",
       "    else if (e.srcElement)\n",
       "        targ = e.srcElement;\n",
       "    if (targ.nodeType == 3) // defeat Safari bug\n",
       "        targ = targ.parentNode;\n",
       "\n",
       "    // jQuery normalizes the pageX and pageY\n",
       "    // pageX,Y are the mouse positions relative to the document\n",
       "    // offset() returns the position of the element relative to the document\n",
       "    var x = e.pageX - $(targ).offset().left;\n",
       "    var y = e.pageY - $(targ).offset().top;\n",
       "\n",
       "    return {\"x\": x, \"y\": y};\n",
       "};\n",
       "\n",
       "/*\n",
       " * return a copy of an object with only non-object keys\n",
       " * we need this to avoid circular references\n",
       " * http://stackoverflow.com/a/24161582/3208463\n",
       " */\n",
       "function simpleKeys (original) {\n",
       "  return Object.keys(original).reduce(function (obj, key) {\n",
       "    if (typeof original[key] !== 'object')\n",
       "        obj[key] = original[key]\n",
       "    return obj;\n",
       "  }, {});\n",
       "}\n",
       "\n",
       "mpl.figure.prototype.mouse_event = function(event, name) {\n",
       "    var canvas_pos = mpl.findpos(event)\n",
       "\n",
       "    if (name === 'button_press')\n",
       "    {\n",
       "        this.canvas.focus();\n",
       "        this.canvas_div.focus();\n",
       "    }\n",
       "\n",
       "    var x = canvas_pos.x;\n",
       "    var y = canvas_pos.y;\n",
       "\n",
       "    this.send_message(name, {x: x, y: y, button: event.button,\n",
       "                             step: event.step,\n",
       "                             guiEvent: simpleKeys(event)});\n",
       "\n",
       "    /* This prevents the web browser from automatically changing to\n",
       "     * the text insertion cursor when the button is pressed.  We want\n",
       "     * to control all of the cursor setting manually through the\n",
       "     * 'cursor' event from matplotlib */\n",
       "    event.preventDefault();\n",
       "    return false;\n",
       "}\n",
       "\n",
       "mpl.figure.prototype._key_event_extra = function(event, name) {\n",
       "    // Handle any extra behaviour associated with a key event\n",
       "}\n",
       "\n",
       "mpl.figure.prototype.key_event = function(event, name) {\n",
       "\n",
       "    // Prevent repeat events\n",
       "    if (name == 'key_press')\n",
       "    {\n",
       "        if (event.which === this._key)\n",
       "            return;\n",
       "        else\n",
       "            this._key = event.which;\n",
       "    }\n",
       "    if (name == 'key_release')\n",
       "        this._key = null;\n",
       "\n",
       "    var value = '';\n",
       "    if (event.ctrlKey && event.which != 17)\n",
       "        value += \"ctrl+\";\n",
       "    if (event.altKey && event.which != 18)\n",
       "        value += \"alt+\";\n",
       "    if (event.shiftKey && event.which != 16)\n",
       "        value += \"shift+\";\n",
       "\n",
       "    value += 'k';\n",
       "    value += event.which.toString();\n",
       "\n",
       "    this._key_event_extra(event, name);\n",
       "\n",
       "    this.send_message(name, {key: value,\n",
       "                             guiEvent: simpleKeys(event)});\n",
       "    return false;\n",
       "}\n",
       "\n",
       "mpl.figure.prototype.toolbar_button_onclick = function(name) {\n",
       "    if (name == 'download') {\n",
       "        this.handle_save(this, null);\n",
       "    } else {\n",
       "        this.send_message(\"toolbar_button\", {name: name});\n",
       "    }\n",
       "};\n",
       "\n",
       "mpl.figure.prototype.toolbar_button_onmouseover = function(tooltip) {\n",
       "    this.message.textContent = tooltip;\n",
       "};\n",
       "mpl.toolbar_items = [[\"Home\", \"Reset original view\", \"fa fa-home icon-home\", \"home\"], [\"Back\", \"Back to  previous view\", \"fa fa-arrow-left icon-arrow-left\", \"back\"], [\"Forward\", \"Forward to next view\", \"fa fa-arrow-right icon-arrow-right\", \"forward\"], [\"\", \"\", \"\", \"\"], [\"Pan\", \"Pan axes with left mouse, zoom with right\", \"fa fa-arrows icon-move\", \"pan\"], [\"Zoom\", \"Zoom to rectangle\", \"fa fa-square-o icon-check-empty\", \"zoom\"], [\"\", \"\", \"\", \"\"], [\"Download\", \"Download plot\", \"fa fa-floppy-o icon-save\", \"download\"]];\n",
       "\n",
       "mpl.extensions = [\"eps\", \"jpeg\", \"pdf\", \"png\", \"ps\", \"raw\", \"svg\", \"tif\"];\n",
       "\n",
       "mpl.default_extension = \"png\";var comm_websocket_adapter = function(comm) {\n",
       "    // Create a \"websocket\"-like object which calls the given IPython comm\n",
       "    // object with the appropriate methods. Currently this is a non binary\n",
       "    // socket, so there is still some room for performance tuning.\n",
       "    var ws = {};\n",
       "\n",
       "    ws.close = function() {\n",
       "        comm.close()\n",
       "    };\n",
       "    ws.send = function(m) {\n",
       "        //console.log('sending', m);\n",
       "        comm.send(m);\n",
       "    };\n",
       "    // Register the callback with on_msg.\n",
       "    comm.on_msg(function(msg) {\n",
       "        //console.log('receiving', msg['content']['data'], msg);\n",
       "        // Pass the mpl event to the overriden (by mpl) onmessage function.\n",
       "        ws.onmessage(msg['content']['data'])\n",
       "    });\n",
       "    return ws;\n",
       "}\n",
       "\n",
       "mpl.mpl_figure_comm = function(comm, msg) {\n",
       "    // This is the function which gets called when the mpl process\n",
       "    // starts-up an IPython Comm through the \"matplotlib\" channel.\n",
       "\n",
       "    var id = msg.content.data.id;\n",
       "    // Get hold of the div created by the display call when the Comm\n",
       "    // socket was opened in Python.\n",
       "    var element = $(\"#\" + id);\n",
       "    var ws_proxy = comm_websocket_adapter(comm)\n",
       "\n",
       "    function ondownload(figure, format) {\n",
       "        window.open(figure.imageObj.src);\n",
       "    }\n",
       "\n",
       "    var fig = new mpl.figure(id, ws_proxy,\n",
       "                           ondownload,\n",
       "                           element.get(0));\n",
       "\n",
       "    // Call onopen now - mpl needs it, as it is assuming we've passed it a real\n",
       "    // web socket which is closed, not our websocket->open comm proxy.\n",
       "    ws_proxy.onopen();\n",
       "\n",
       "    fig.parent_element = element.get(0);\n",
       "    fig.cell_info = mpl.find_output_cell(\"<div id='\" + id + \"'></div>\");\n",
       "    if (!fig.cell_info) {\n",
       "        console.error(\"Failed to find cell for figure\", id, fig);\n",
       "        return;\n",
       "    }\n",
       "\n",
       "    var output_index = fig.cell_info[2]\n",
       "    var cell = fig.cell_info[0];\n",
       "\n",
       "};\n",
       "\n",
       "mpl.figure.prototype.handle_close = function(fig, msg) {\n",
       "    fig.root.unbind('remove')\n",
       "\n",
       "    // Update the output cell to use the data from the current canvas.\n",
       "    fig.push_to_output();\n",
       "    var dataURL = fig.canvas.toDataURL();\n",
       "    // Re-enable the keyboard manager in IPython - without this line, in FF,\n",
       "    // the notebook keyboard shortcuts fail.\n",
       "    IPython.keyboard_manager.enable()\n",
       "    $(fig.parent_element).html('<img src=\"' + dataURL + '\">');\n",
       "    fig.close_ws(fig, msg);\n",
       "}\n",
       "\n",
       "mpl.figure.prototype.close_ws = function(fig, msg){\n",
       "    fig.send_message('closing', msg);\n",
       "    // fig.ws.close()\n",
       "}\n",
       "\n",
       "mpl.figure.prototype.push_to_output = function(remove_interactive) {\n",
       "    // Turn the data on the canvas into data in the output cell.\n",
       "    var dataURL = this.canvas.toDataURL();\n",
       "    this.cell_info[1]['text/html'] = '<img src=\"' + dataURL + '\">';\n",
       "}\n",
       "\n",
       "mpl.figure.prototype.updated_canvas_event = function() {\n",
       "    // Tell IPython that the notebook contents must change.\n",
       "    IPython.notebook.set_dirty(true);\n",
       "    this.send_message(\"ack\", {});\n",
       "    var fig = this;\n",
       "    // Wait a second, then push the new image to the DOM so\n",
       "    // that it is saved nicely (might be nice to debounce this).\n",
       "    setTimeout(function () { fig.push_to_output() }, 1000);\n",
       "}\n",
       "\n",
       "mpl.figure.prototype._init_toolbar = function() {\n",
       "    var fig = this;\n",
       "\n",
       "    var nav_element = $('<div/>')\n",
       "    nav_element.attr('style', 'width: 100%');\n",
       "    this.root.append(nav_element);\n",
       "\n",
       "    // Define a callback function for later on.\n",
       "    function toolbar_event(event) {\n",
       "        return fig.toolbar_button_onclick(event['data']);\n",
       "    }\n",
       "    function toolbar_mouse_event(event) {\n",
       "        return fig.toolbar_button_onmouseover(event['data']);\n",
       "    }\n",
       "\n",
       "    for(var toolbar_ind in mpl.toolbar_items){\n",
       "        var name = mpl.toolbar_items[toolbar_ind][0];\n",
       "        var tooltip = mpl.toolbar_items[toolbar_ind][1];\n",
       "        var image = mpl.toolbar_items[toolbar_ind][2];\n",
       "        var method_name = mpl.toolbar_items[toolbar_ind][3];\n",
       "\n",
       "        if (!name) { continue; };\n",
       "\n",
       "        var button = $('<button class=\"btn btn-default\" href=\"#\" title=\"' + name + '\"><i class=\"fa ' + image + ' fa-lg\"></i></button>');\n",
       "        button.click(method_name, toolbar_event);\n",
       "        button.mouseover(tooltip, toolbar_mouse_event);\n",
       "        nav_element.append(button);\n",
       "    }\n",
       "\n",
       "    // Add the status bar.\n",
       "    var status_bar = $('<span class=\"mpl-message\" style=\"text-align:right; float: right;\"/>');\n",
       "    nav_element.append(status_bar);\n",
       "    this.message = status_bar[0];\n",
       "\n",
       "    // Add the close button to the window.\n",
       "    var buttongrp = $('<div class=\"btn-group inline pull-right\"></div>');\n",
       "    var button = $('<button class=\"btn btn-mini btn-primary\" href=\"#\" title=\"Stop Interaction\"><i class=\"fa fa-power-off icon-remove icon-large\"></i></button>');\n",
       "    button.click(function (evt) { fig.handle_close(fig, {}); } );\n",
       "    button.mouseover('Stop Interaction', toolbar_mouse_event);\n",
       "    buttongrp.append(button);\n",
       "    var titlebar = this.root.find($('.ui-dialog-titlebar'));\n",
       "    titlebar.prepend(buttongrp);\n",
       "}\n",
       "\n",
       "mpl.figure.prototype._root_extra_style = function(el){\n",
       "    var fig = this\n",
       "    el.on(\"remove\", function(){\n",
       "\tfig.close_ws(fig, {});\n",
       "    });\n",
       "}\n",
       "\n",
       "mpl.figure.prototype._canvas_extra_style = function(el){\n",
       "    // this is important to make the div 'focusable\n",
       "    el.attr('tabindex', 0)\n",
       "    // reach out to IPython and tell the keyboard manager to turn it's self\n",
       "    // off when our div gets focus\n",
       "\n",
       "    // location in version 3\n",
       "    if (IPython.notebook.keyboard_manager) {\n",
       "        IPython.notebook.keyboard_manager.register_events(el);\n",
       "    }\n",
       "    else {\n",
       "        // location in version 2\n",
       "        IPython.keyboard_manager.register_events(el);\n",
       "    }\n",
       "\n",
       "}\n",
       "\n",
       "mpl.figure.prototype._key_event_extra = function(event, name) {\n",
       "    var manager = IPython.notebook.keyboard_manager;\n",
       "    if (!manager)\n",
       "        manager = IPython.keyboard_manager;\n",
       "\n",
       "    // Check for shift+enter\n",
       "    if (event.shiftKey && event.which == 13) {\n",
       "        this.canvas_div.blur();\n",
       "        event.shiftKey = false;\n",
       "        // Send a \"J\" for go to next cell\n",
       "        event.which = 74;\n",
       "        event.keyCode = 74;\n",
       "        manager.command_mode();\n",
       "        manager.handle_keydown(event);\n",
       "    }\n",
       "}\n",
       "\n",
       "mpl.figure.prototype.handle_save = function(fig, msg) {\n",
       "    fig.ondownload(fig, null);\n",
       "}\n",
       "\n",
       "\n",
       "mpl.find_output_cell = function(html_output) {\n",
       "    // Return the cell and output element which can be found *uniquely* in the notebook.\n",
       "    // Note - this is a bit hacky, but it is done because the \"notebook_saving.Notebook\"\n",
       "    // IPython event is triggered only after the cells have been serialised, which for\n",
       "    // our purposes (turning an active figure into a static one), is too late.\n",
       "    var cells = IPython.notebook.get_cells();\n",
       "    var ncells = cells.length;\n",
       "    for (var i=0; i<ncells; i++) {\n",
       "        var cell = cells[i];\n",
       "        if (cell.cell_type === 'code'){\n",
       "            for (var j=0; j<cell.output_area.outputs.length; j++) {\n",
       "                var data = cell.output_area.outputs[j];\n",
       "                if (data.data) {\n",
       "                    // IPython >= 3 moved mimebundle to data attribute of output\n",
       "                    data = data.data;\n",
       "                }\n",
       "                if (data['text/html'] == html_output) {\n",
       "                    return [cell, data, j];\n",
       "                }\n",
       "            }\n",
       "        }\n",
       "    }\n",
       "}\n",
       "\n",
       "// Register the function which deals with the matplotlib target/channel.\n",
       "// The kernel may be null if the page has been refreshed.\n",
       "if (IPython.notebook.kernel != null) {\n",
       "    IPython.notebook.kernel.comm_manager.register_target('matplotlib', mpl.mpl_figure_comm);\n",
       "}\n"
      ],
      "text/plain": [
       "<IPython.core.display.Javascript object>"
      ]
     },
     "metadata": {},
     "output_type": "display_data"
    },
    {
     "data": {
      "text/html": [
       "<img src=\"data:image/png;base64,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\">"
      ],
      "text/plain": [
       "<IPython.core.display.HTML object>"
      ]
     },
     "metadata": {},
     "output_type": "display_data"
    }
   ],
   "source": [
    "plt.plot(scan_var, np.sqrt(z_scores_data), 'b-', linewidth=2.)\n",
    "plt.plot(scan_var, z_scores_mean, 'r-', linewidth=2.)\n",
    "plt.fill_between(scan_var, z_scores_mean+z_scores_std, z_scores_mean-z_scores_std,\n",
    "                 color='m',\n",
    "                 alpha=0.25,\n",
    "                 interpolate=True\n",
    "                )\n",
    "\n",
    "plt.legend(['data', 'simulation'], loc=2)\n",
    "\n",
    "plt.xlabel(r'$\\sf p_{T}/M_{\\mu\\mu}$')\n",
    "#plt.xlabel(r'$\\sf p_{T,\\,\\mu2}$')\n",
    "plt.ylabel(r'$\\sf z_{0}$')\n",
    "plt.grid()\n",
    "plt.savefig('plots/pt_over_m_signficance.pdf')\n",
    "plt.show()\n"
   ]
  }
 ],
 "metadata": {
  "hide_input": false,
  "kernelspec": {
   "display_name": "Python 2",
   "language": "python",
   "name": "python2"
  },
  "language_info": {
   "codemirror_mode": {
    "name": "ipython",
    "version": 2
   },
   "file_extension": ".py",
   "mimetype": "text/x-python",
   "name": "python",
   "nbconvert_exporter": "python",
   "pygments_lexer": "ipython2",
   "version": "2.7.12"
  },
  "latex_envs": {
   "bibliofile": "biblio.bib",
   "cite_by": "apalike",
   "current_citInitial": 1,
   "eqLabelWithNumbers": true,
   "eqNumInitial": 0
  },
  "toc": {
   "nav_menu": {
    "height": "12px",
    "width": "252px"
   },
   "navigate_menu": true,
   "number_sections": true,
   "sideBar": true,
   "threshold": 4,
   "toc_cell": false,
   "toc_section_display": "block",
   "toc_window_display": false
  },
  "widgets": {
   "state": {
    "000a29210caf4e5fa9a8449e8166b687": {
     "views": []
    },
    "0019f5a87f78456bae4cd3e7413a7e6e": {
     "views": []
    },
    "00401ced34fe4c5585f2af0d0f0f9d7c": {
     "views": []
    },
    "0043935668924c9da1dd9ff9a77d039e": {
     "views": []
    },
    "0061df011c044ca0bbee5dab7d5fe7aa": {
     "views": []
    },
    "00632e13a11c458eab4ebd84885b8e92": {
     "views": []
    },
    "00bbfda749ac4d5ebd1c6eb37f3a4393": {
     "views": []
    },
    "00c7f4282f474fdc954be0c08b7ce2d3": {
     "views": []
    },
    "017f44b9d11744d29f2b7f72462079be": {
     "views": []
    },
    "020fd1c814914ae6994b22d217795ef4": {
     "views": [
      {
       "cell_index": 4
      }
     ]
    },
    "023cf382426347a5b089287a16418c29": {
     "views": []
    },
    "024efc92690f4591ad0bec12bedb5250": {
     "views": []
    },
    "027e88def358473da5d2ee0c1a241ff0": {
     "views": []
    },
    "02b3759b713d4c28b081aa68a6343b48": {
     "views": []
    },
    "02e76d1336b449a093cb9f48307c6caa": {
     "views": []
    },
    "02fd9cc56efd49ba8e1f1ab2fadca0ea": {
     "views": []
    },
    "0366e757e4fd4262bbf9df931c908929": {
     "views": []
    },
    "03c5c84491a740098d1e6d5d1088c25f": {
     "views": []
    },
    "0413a47fee3b4cc0ad5b9806ad3cab6a": {
     "views": []
    },
    "041be323c95e49099893341d803efddc": {
     "views": []
    },
    "0474d1ffdc1448c9b24418e150b1aa5e": {
     "views": []
    },
    "04780ff494ed42398f75086e2cb42fc4": {
     "views": []
    },
    "04987869c1754fb4ab7b1e5cb0d98d85": {
     "views": []
    },
    "050aca667f794d2d95eaee7fcb55c06b": {
     "views": []
    },
    "0535a5f355cd4168a956c5481463b28f": {
     "views": [
      {
       "cell_index": 4
      }
     ]
    },
    "05c3c821d0df494abf75a48a9f5deb5e": {
     "views": []
    },
    "05cf76f71d154fbeb00de6b01142edde": {
     "views": []
    },
    "06084520812043d5b139f912675c4990": {
     "views": []
    },
    "068541bd45ac4b34b0d0fb698fe26857": {
     "views": []
    },
    "070055377e114f2389445244d3ba1aa6": {
     "views": [
      {
       "cell_index": 4
      }
     ]
    },
    "074c1c95d0d74d26b459244a138ee3a2": {
     "views": []
    },
    "078d1c47f8944a59a1c59ec74244c3c4": {
     "views": []
    },
    "08269484df6741d09dfa423aca37399c": {
     "views": [
      {
       "cell_index": 4
      }
     ]
    },
    "091ba1d61079426eb436589170eba18d": {
     "views": []
    },
    "092691a7125444fd811522b9d19f7c31": {
     "views": [
      {
       "cell_index": 4
      }
     ]
    },
    "098fea4749c3448aa11b45acc7084e69": {
     "views": [
      {
       "cell_index": 4
      }
     ]
    },
    "09aa4487ec4644afbfcdd13ed4712846": {
     "views": []
    },
    "09c92c87a912491193c240c86b738388": {
     "views": []
    },
    "0a465b5b97c3462abc1ceea3de5a8860": {
     "views": []
    },
    "0a57e27fc08b4706a493731e66cb4ff1": {
     "views": []
    },
    "0a7d7068a0f1443881b61f5f00a76c96": {
     "views": []
    },
    "0ab5f41dd9a64bc98d39085afe7fa89d": {
     "views": []
    },
    "0abc33c9c2164b05b0b73a67894a7416": {
     "views": []
    },
    "0ae6e8fe5fe54064b11c95824547136e": {
     "views": []
    },
    "0bafe9ffe47c4ee988a4eb61d623893f": {
     "views": [
      {
       "cell_index": 4
      }
     ]
    },
    "0be02cfccfa44926aa58760e872cc854": {
     "views": []
    },
    "0c136d57cfba433ea2714373f79463b2": {
     "views": []
    },
    "0c583a86b7c04c0eba1923e151a373d4": {
     "views": []
    },
    "0cd67e3c84e14d2799e1e417c47e0cd2": {
     "views": [
      {
       "cell_index": 4
      }
     ]
    },
    "0d89fede982f4a9b80e0a5921965c4f4": {
     "views": []
    },
    "0dc2b90f6a3c434ca26b937af5cbd814": {
     "views": []
    },
    "0dd5dc1b3d7443418bca2efedf8d2ebd": {
     "views": []
    },
    "0e22360d180f48bfaaa22bcfe83067dd": {
     "views": []
    },
    "0e3494a73e454da39c51e248f1e7df38": {
     "views": []
    },
    "0e8b60850a0f4d2084691281ffe5210f": {
     "views": []
    },
    "0e98a5b8b0aa4dffb9ea2991e14a0fdb": {
     "views": []
    },
    "0eee53a1da974bcd95cbf0c804310af5": {
     "views": []
    },
    "0f049a5d7b984d938bdfe3ae63bbbda8": {
     "views": [
      {
       "cell_index": 4
      }
     ]
    },
    "0f104084697d46c59da08b356dd3e395": {
     "views": []
    },
    "0f1b32b1063f4035af7d34e02563e3fc": {
     "views": []
    },
    "0f7997c52b744e2eb54ce1cd177cf282": {
     "views": []
    },
    "0fb55ee111a34869b28707f843224da3": {
     "views": []
    },
    "0fdffe9552b04c779bf5d172d6dcabcc": {
     "views": []
    },
    "0feada742def470784df9912e8f15c4e": {
     "views": []
    },
    "10726cac3c0e43e58dc1f229b473956d": {
     "views": []
    },
    "11b56c0396144cac8176d81af7b534f2": {
     "views": []
    },
    "127eb913a47d4227afd0c5c9aaf4da35": {
     "views": []
    },
    "1282e7a6597048de94f9dceba863af9a": {
     "views": []
    },
    "1283a50d04c04e5387201784e4f4a710": {
     "views": []
    },
    "129c00c03a684b0b9d24c8dc87c54844": {
     "views": []
    },
    "12b5df210ec84981b839440db65ea82c": {
     "views": []
    },
    "12db9f5d52894f7497910e00af1326e9": {
     "views": []
    },
    "137d8850543345969d802a89f65be72b": {
     "views": []
    },
    "1419d43873dc489080616d43765c93ef": {
     "views": [
      {
       "cell_index": 4
      }
     ]
    },
    "1431b97d1a174442942bc3aa1c89129c": {
     "views": [
      {
       "cell_index": 4
      }
     ]
    },
    "145e6491a390488aa0472261192ffba4": {
     "views": []
    },
    "14682513ed4842babe455001cfd3d56b": {
     "views": []
    },
    "1484342222804573a49fa8b69725cadd": {
     "views": []
    },
    "14adf85351b1438d935fa0f0191f727d": {
     "views": []
    },
    "14be5b88d02a4fbbb08f8e90c5faac40": {
     "views": []
    },
    "1559f2f083f54835a4abca60b83f1fe6": {
     "views": []
    },
    "15caf26769a74a80a0a77a2130b25ffb": {
     "views": [
      {
       "cell_index": 4
      }
     ]
    },
    "15fb59f176f94e9ca98435226f8fd9ec": {
     "views": []
    },
    "1652209297534adaa04af8c5f36b612c": {
     "views": []
    },
    "168da55dd6ba441f91d71b1aff23ba84": {
     "views": []
    },
    "16f5926d30934577900ef67efc53dc55": {
     "views": []
    },
    "16f6a577707e40768ed2ce309fd693b0": {
     "views": []
    },
    "16ff1d1f6c6440fea43b324bed744623": {
     "views": []
    },
    "16ffce22d1134351b2128e9ae1a004db": {
     "views": []
    },
    "16ffd226091d4eff982d76bc58ff22f6": {
     "views": []
    },
    "171a3b949f8741258d2098df3e3889f1": {
     "views": [
      {
       "cell_index": 4
      }
     ]
    },
    "175194801a0d4487b6dd976d8bffb34c": {
     "views": []
    },
    "17704e51940946ab8169e3b282d759c7": {
     "views": [
      {
       "cell_index": 4
      }
     ]
    },
    "17bdd9f3baa4426a8843ccb4db20fd54": {
     "views": []
    },
    "17d9c18830d54b4c9dc2ab77c23ba218": {
     "views": [
      {
       "cell_index": 4
      }
     ]
    },
    "1845916448b04191aa2d5d6ee6fbe291": {
     "views": []
    },
    "18a019b6b6c34307b59f02c872351fd4": {
     "views": []
    },
    "18a37db9a15a41e6b667068b5187e993": {
     "views": []
    },
    "191a0d9f51a140fa8fcb04ab10b0091f": {
     "views": []
    },
    "1957464ee40f493c83df2024dd09a192": {
     "views": []
    },
    "1979e6ce4aaf4a399374b3c6098f2468": {
     "views": []
    },
    "197daf2398494cc695b999ec1404ca98": {
     "views": []
    },
    "197f9eb420fe4efe85d29eb0a3dc23c1": {
     "views": []
    },
    "198c5b5efaf34a66b0f4699a430043b1": {
     "views": []
    },
    "19ff492e76054df19f43fb05d04fb3e6": {
     "views": []
    },
    "1a02bd62868641b49a4ffce91d5693b4": {
     "views": []
    },
    "1a2b3727cfd74cd18a31936cff79bec7": {
     "views": []
    },
    "1a6436bbf122425289d5370bf0452ecc": {
     "views": []
    },
    "1a6b13ba009845d6bf9e17667249c22f": {
     "views": []
    },
    "1a9a34d3fe07423c8077c158b23f1c4a": {
     "views": []
    },
    "1b14f9fd590b427c827a2a14afbb9a7a": {
     "views": []
    },
    "1b15e3361afc4535ab51982c9d3432a1": {
     "views": []
    },
    "1b3e201ad9c94780830f73ccf99830a1": {
     "views": []
    },
    "1b495817b5874d708fb1da2e0e469053": {
     "views": []
    },
    "1c3257b677cf41a6a3d7fd47ed47d548": {
     "views": []
    },
    "1c8537f63eac48eb90d1dcddf7351642": {
     "views": []
    },
    "1c962303a20e4f7ca8caa72720d7f781": {
     "views": []
    },
    "1d647627af494ca6a25cd2432e55458e": {
     "views": []
    },
    "1d6e6bd3678e49bd812917ea9b481066": {
     "views": []
    },
    "1da1e7bdc4494ba8ab23f623bf247348": {
     "views": []
    },
    "1db1c752e85a49419281b8868c091971": {
     "views": []
    },
    "1dd0cec71b7446acb101d60e8aab0550": {
     "views": []
    },
    "1de5e508dda74e1fb1003e9ef2301d9c": {
     "views": []
    },
    "1e173d63e5534e92aaa1b3166efe4fea": {
     "views": [
      {
       "cell_index": 4
      }
     ]
    },
    "1e398a22c2ba40dba1ee77f3537589c9": {
     "views": []
    },
    "1eaede50a8364c0e843ae1c79ca02b24": {
     "views": []
    },
    "1ed024feaa184efda3b0e5014bc4c32e": {
     "views": []
    },
    "1f0fe9fd7fb840399704f5b2d2cc7e21": {
     "views": []
    },
    "1fe8bf23b7a44c03b958e4771360e03b": {
     "views": []
    },
    "2036ce9ccc2b45c2b03c52e40f8baa69": {
     "views": []
    },
    "2059c212bd2541b9ad04cdf087587f80": {
     "views": []
    },
    "207f25cad02344ef8a7b59ff6c2fb352": {
     "views": []
    },
    "209afb094d494ab8b8b7d75eb17015b2": {
     "views": []
    },
    "20aa8ace2c754dca865568c3d55d4331": {
     "views": []
    },
    "211bb25dfaf04b7c80a01dd3bcf5313e": {
     "views": []
    },
    "2132691a24ee44f6aaedec2bd69f5bac": {
     "views": []
    },
    "218770ea4403473d966df0d24446f8dd": {
     "views": []
    },
    "219019fd99a142b89ae7436f0b8bfba4": {
     "views": []
    },
    "21f1bc14190c4872bc43bceddd936b60": {
     "views": []
    },
    "224f77cdf5b44b3283d8a88f8b2937dd": {
     "views": []
    },
    "22731084564040b28f4d4e86457a1b90": {
     "views": []
    },
    "22984c305df24b11b64796f6af36f5d9": {
     "views": []
    },
    "229aa2d7937943f6af076dce0d9c90ea": {
     "views": []
    },
    "22b2aa3d8f664135a8c3cc4db28263c7": {
     "views": []
    },
    "231267b710b44b519972569e7b5ad5b6": {
     "views": []
    },
    "2378af7136264c8786c9d70aefb41aee": {
     "views": []
    },
    "239d40aa0f6b4171b09011f713849dd9": {
     "views": []
    },
    "24254e0dc44840acba26edc0192fff49": {
     "views": []
    },
    "2447c96d15c94f9b880bb1b440c5ca00": {
     "views": [
      {
       "cell_index": 4
      }
     ]
    },
    "245390b2c9834954b96d371545a8345e": {
     "views": []
    },
    "245f92a2d1b34f90a97ef03b910548d8": {
     "views": []
    },
    "2478cd349e244071bf89d13da36ea220": {
     "views": []
    },
    "249810aa17984fd299eae11d49dd2410": {
     "views": []
    },
    "24c80331282147fcb16d4b37e994bd8f": {
     "views": []
    },
    "25180a507a3d432486cc81a0201d2609": {
     "views": []
    },
    "266f55edaf394651b1e117360b4b6e0c": {
     "views": []
    },
    "2671e2ef7a2f4450ad07f2ae86ecd557": {
     "views": []
    },
    "26d31eda255b440d9ca525b5328705c8": {
     "views": []
    },
    "275a60d68c1546d1bff51ecd401ff9ca": {
     "views": [
      {
       "cell_index": 4
      }
     ]
    },
    "27a2392d5ac840c0a8aead98d767c7e6": {
     "views": []
    },
    "27b98e5507d64af6abf5d241e8e814cc": {
     "views": [
      {
       "cell_index": 4
      }
     ]
    },
    "27f3241e6f404f4d82c5a00470007678": {
     "views": []
    },
    "27f4c784f4924c428b19b299560cea39": {
     "views": []
    },
    "281e934016744d4a89b758ee2e91bd6e": {
     "views": []
    },
    "2841533bc87b46999736222005119d5f": {
     "views": []
    },
    "286729b9ef964b78a137d9cf25c6f372": {
     "views": []
    },
    "289bd8908b964b0e9ea241212b20b73e": {
     "views": []
    },
    "29021a8468e1491fae255845644e4c39": {
     "views": []
    },
    "29b2f4e7eaff4eee985c8892d680e1c6": {
     "views": []
    },
    "29ea8c4075154bb5a26fd31db0b5eb65": {
     "views": [
      {
       "cell_index": 4
      }
     ]
    },
    "2a485a3f93b642e1977cf13ec016b443": {
     "views": []
    },
    "2a6ac3444d0948e084ee25ce72d3e062": {
     "views": []
    },
    "2a6d6b3d2d1e48acbd096859fb9aea48": {
     "views": []
    },
    "2ac83006d6ee49b8b7f8f91c46027e7d": {
     "views": []
    },
    "2ae6897b321c4b3e9125e54da3d883d6": {
     "views": []
    },
    "2b247ea863d047bea1afb2b44d00e08d": {
     "views": []
    },
    "2b562b8f14f84ca09382536fba590c8f": {
     "views": []
    },
    "2be17e23976d4243a28b9faeb5f6e9ac": {
     "views": []
    },
    "2c4d3dc458b449d490da468c978e9339": {
     "views": []
    },
    "2c766748859a42a3b6bc13693ce9939e": {
     "views": [
      {
       "cell_index": 4
      }
     ]
    },
    "2c825505fab14f27ac58ba7d70184a66": {
     "views": []
    },
    "2c95601a2ed3422ea1498fb87aa7815b": {
     "views": []
    },
    "2d348d26305e46d49eaf65b97a33f75b": {
     "views": [
      {
       "cell_index": 4
      }
     ]
    },
    "2dcb07fa9a254181ab7e2b927abdda95": {
     "views": [
      {
       "cell_index": 4
      }
     ]
    },
    "2deaaccca66046209a1e2664d061e298": {
     "views": []
    },
    "2df6ff06009b4cb8a88ab209cb219e4f": {
     "views": []
    },
    "2e2c930df4754db8b284c5d2e70756fc": {
     "views": []
    },
    "2eaf00f9e7d446f69a3a1dd36dc0317e": {
     "views": []
    },
    "2f546df404b840f3921f0e89719ae912": {
     "views": []
    },
    "2f6ef06d2c7a4c4590f47fd1896f4f1d": {
     "views": []
    },
    "2f8c25f6066a4f2ca2df30cc7988adf0": {
     "views": []
    },
    "2fbf19e418bb45e8a91e9374879d9bba": {
     "views": []
    },
    "306fb13b59c34cf29f008a93eece5f4c": {
     "views": []
    },
    "307698cf3da74252a40eee29865f08f6": {
     "views": []
    },
    "3087064043bb4185a507d23f3ad9b1c1": {
     "views": []
    },
    "30a81b54831a431c983774538c60c448": {
     "views": []
    },
    "31e0764197294b4dad08f3b969c7be17": {
     "views": []
    },
    "31f3ec866fc44ef79746073750a1e928": {
     "views": []
    },
    "3252d2a9cbf244d3949aa83915c22533": {
     "views": []
    },
    "3256c9a0a3164a56a088ad70737b7794": {
     "views": []
    },
    "32c4654e3a6141f8981bb3f2ea3b3d53": {
     "views": []
    },
    "32e048ca2f6f4bf2bf99e0d7d0b927ea": {
     "views": []
    },
    "33424e4399a24e1cbf596b6ef1675d10": {
     "views": []
    },
    "33922e29ca2648d4b0876f93d684e4ff": {
     "views": []
    },
    "33ba219433714c9e8dc4f45afdb71bf5": {
     "views": []
    },
    "33c5258ee2d444e080de193053b592ea": {
     "views": []
    },
    "344325bb2f854a698e323f3263f02ab8": {
     "views": []
    },
    "34a89d46099c4e378b7a9b890f0d4f60": {
     "views": [
      {
       "cell_index": 4
      }
     ]
    },
    "34afbcf024b44000a17759ac4eb8e90d": {
     "views": []
    },
    "34bbe015f02f49df9dd39f332117f74a": {
     "views": []
    },
    "34edf522d45847d6a0acab1b7be861bc": {
     "views": [
      {
       "cell_index": 4
      }
     ]
    },
    "34f23c32d3b442ecb2f93b3235f57a9a": {
     "views": []
    },
    "36277a1609214c6697b2a93eed69f3af": {
     "views": []
    },
    "36d8a9a03e0044baafc5a7a15d4861fc": {
     "views": [
      {
       "cell_index": 4
      }
     ]
    },
    "36e48dabe4ec44efaa0531364d555596": {
     "views": []
    },
    "370c99a98c4e465eac7b9dfa450a5c92": {
     "views": []
    },
    "3716f541cd4b4fe1a3302ed3778d24d8": {
     "views": []
    },
    "37329e3b3d8d42afac342a3d6a29c22a": {
     "views": []
    },
    "375eb02aeea648bdadaebebc8e2a797c": {
     "views": []
    },
    "3765fb8112f740369d97393ab0ac8b4e": {
     "views": [
      {
       "cell_index": 4
      }
     ]
    },
    "3767c5855cf646d3939bf0207b33a050": {
     "views": []
    },
    "37f5bac94ddd417a8fefebb7bcff4cf0": {
     "views": []
    },
    "380b08fa0c014f048d58e70b8149e143": {
     "views": []
    },
    "38253d3c9e4a4b34babdcaa91e69be14": {
     "views": []
    },
    "384c9b6a41754ae8a82f4211eb842f91": {
     "views": [
      {
       "cell_index": 4
      }
     ]
    },
    "387bbf2ecdd94212a6357877d4d8cad2": {
     "views": []
    },
    "38ffd850870f4d048ac8cd396e59959c": {
     "views": []
    },
    "398f92cc8f004381beb6124e97f554cd": {
     "views": []
    },
    "39b3fb438d474ff88112b8f546cbb3ff": {
     "views": []
    },
    "39ec698f6f1d444498641e25d5f64812": {
     "views": []
    },
    "3a27d5e1d19944058713395b9fc044c4": {
     "views": []
    },
    "3a298f6c49df49cba6eb97828601d882": {
     "views": []
    },
    "3accdafa9a3848e4aa49bba91ae9c4e2": {
     "views": []
    },
    "3bb5968c07c14b6c9ae6f5ce1680620c": {
     "views": []
    },
    "3bd20bc3da24462f8f3e7a2345f5d045": {
     "views": []
    },
    "3be7c16dd8c948828f097b54bd5915bb": {
     "views": []
    },
    "3cb87482e69f45d29e1370296c7aa444": {
     "views": []
    },
    "3ce6ef0716994dc3a2e9d41659f92c84": {
     "views": [
      {
       "cell_index": 4
      }
     ]
    },
    "3db516c499c04e8ead126a3a9f231194": {
     "views": []
    },
    "3e385a9628eb47f08b6a1aa8bc72e7e6": {
     "views": []
    },
    "3f2d9d037edb4b52897ad44eb93b54fc": {
     "views": []
    },
    "3f3433f2aaba4e07ba86a4ea6bb463c5": {
     "views": []
    },
    "3f38c48e563d4fab98e4bee98316282e": {
     "views": []
    },
    "3f601adcd48b493a823c625ab633ced8": {
     "views": [
      {
       "cell_index": 2
      }
     ]
    },
    "3fa14bb22f624dde9e6140b675c465d7": {
     "views": []
    },
    "3fc8a1c368544c65891c18c1b15ece0a": {
     "views": []
    },
    "400db71c59fd4277a4e1155ce2290967": {
     "views": [
      {
       "cell_index": 4
      }
     ]
    },
    "402f05616748438d83ad4080674b1ee7": {
     "views": []
    },
    "40487f6605ef46839783b66080c95a09": {
     "views": []
    },
    "40785327ab4848a781f62e71b8ba0ab0": {
     "views": [
      {
       "cell_index": 4
      }
     ]
    },
    "40eaa06d227140f7b4c1baea86965351": {
     "views": []
    },
    "40fa7929884e4392975d9a85e948caf5": {
     "views": []
    },
    "41580e48adf94b2ca406860bdc216f9d": {
     "views": []
    },
    "418789da56f6426c99eff17dff5efcd8": {
     "views": []
    },
    "41aeee000d5a490cae5c3ccc9ee0f9c8": {
     "views": []
    },
    "41c7177ce8b14f119cc9792969303be0": {
     "views": []
    },
    "41f645eb748744db858fa9c1e2278c03": {
     "views": []
    },
    "43cfc71b392446f6a864c26382b32a99": {
     "views": []
    },
    "43ebef92b8b645b6b914621dd32bd5eb": {
     "views": []
    },
    "443412f9eb6e4ca0af49bd0123b944be": {
     "views": []
    },
    "444d81ab5e8e405c921c193fc112d700": {
     "views": []
    },
    "445694714c3b4469a3a8a4e9273e95b0": {
     "views": []
    },
    "447ff1f21d3646ba8bb31be903530340": {
     "views": []
    },
    "449b9b89d5d34f33a06c7937f9b985c3": {
     "views": []
    },
    "44db26ddb9d0480ea59f04a1d15ead7e": {
     "views": [
      {
       "cell_index": 4
      }
     ]
    },
    "44fee8afaac34d8ca464704f73165b4a": {
     "views": []
    },
    "450572b2b54644878c2fe8aaa22b9e73": {
     "views": []
    },
    "45146aa51fa24c91a1e2a6ab315a6d11": {
     "views": []
    },
    "463c8cf88c664f70a42fb823226eadb4": {
     "views": []
    },
    "464201a7ea7e4fae9d9dfdcb78691d3f": {
     "views": []
    },
    "4655ad92eaff400da45a81d5cfe013e4": {
     "views": []
    },
    "468be886d5fb4528b719fdd870f1e03b": {
     "views": []
    },
    "46a016de0928420eb10ab6721d327f40": {
     "views": []
    },
    "46af931468c04452bd3b6a0a3d94f8ea": {
     "views": []
    },
    "46b12b048e16474e985f4730e2d1bda0": {
     "views": []
    },
    "46ca090cd61f458f9ac194a4614946bd": {
     "views": []
    },
    "46f9c26de59a4e7f9f97f05799e025e0": {
     "views": []
    },
    "47328afcc6534a24a5113f924c63e618": {
     "views": []
    },
    "474e90321cc24c9b9d8aa93fde5cf593": {
     "views": []
    },
    "478382d277304260b8742627cd78e3ec": {
     "views": []
    },
    "4794efa9b42344c191041a0953f6983f": {
     "views": []
    },
    "47ac3b5448194d54b4c5596ed415ce97": {
     "views": [
      {
       "cell_index": 4
      }
     ]
    },
    "47b79cd3efa04a9a8c4659ec567066b2": {
     "views": []
    },
    "4808c01998c04797b0ad5de4a6ac4324": {
     "views": []
    },
    "480dab0662ba4a1eaf1bd54207b83519": {
     "views": []
    },
    "485fece57d784cbd8c54b87de7cec58b": {
     "views": []
    },
    "48773b30a87f47c8b13dce5b75466d89": {
     "views": []
    },
    "489a4091596649e3a8efab99b84a5051": {
     "views": []
    },
    "48fd6638f51645bbafb67c65511d802a": {
     "views": []
    },
    "49099e01b7a24d85a83f52318cd36a60": {
     "views": []
    },
    "49162bf509e34492baaddf6acfc8fdf4": {
     "views": [
      {
       "cell_index": 4
      }
     ]
    },
    "49f899303e1c46d3971b941565d26cbc": {
     "views": [
      {
       "cell_index": 4
      }
     ]
    },
    "4a21731b8e26436ab6ff809ca83ca24a": {
     "views": []
    },
    "4a50c2e579e141118f165555a04901c7": {
     "views": []
    },
    "4a587c8374f241739ab8567b8cf29055": {
     "views": []
    },
    "4aa6e471f6c141a79dd152973770cf7b": {
     "views": []
    },
    "4ac76c3a91cb4003a466a7b582534cd7": {
     "views": []
    },
    "4adba3dac99646ffa3f8860089fd65d1": {
     "views": []
    },
    "4b415e0a40c74fdcb403040dc4c3fdda": {
     "views": []
    },
    "4b4a3ef06fea4bca81280754ae5958f7": {
     "views": []
    },
    "4b54838636f04d98bd5a1fd5e4f36348": {
     "views": [
      {
       "cell_index": 4
      }
     ]
    },
    "4b8a8882b9634fd28ccb30992f4a516c": {
     "views": []
    },
    "4baea97288c1443f99cedd0010e7ec4c": {
     "views": [
      {
       "cell_index": 4
      }
     ]
    },
    "4baf43939ce949e3a059f0317287cd33": {
     "views": []
    },
    "4c27ac6b1d59454c9a06ceaee0be6ee0": {
     "views": []
    },
    "4c94afe8db164efba7cb89653396b9f2": {
     "views": []
    },
    "4ca3800e9ceb4c99ae4d8821e970542e": {
     "views": [
      {
       "cell_index": 4
      }
     ]
    },
    "4cf3bcc8a53d45e59f3500ac70b5784e": {
     "views": []
    },
    "4d2614ef6c3b479cbd7144622a06fd7a": {
     "views": []
    },
    "4db36073d58e489e96677e112369619c": {
     "views": []
    },
    "4dd08c030550414f88deb856b1720f62": {
     "views": []
    },
    "4dded579e10f4a86bce770cb0ff531ef": {
     "views": []
    },
    "4e2f94f504f643a3a232f0cfb3b9bb15": {
     "views": []
    },
    "4e9aa400104641ecb752e40debd4b378": {
     "views": []
    },
    "4e9c17c2d54540248d1b87cef98034a7": {
     "views": [
      {
       "cell_index": 4
      }
     ]
    },
    "4ef343dcb8a94d2fa82abd223ebb49ed": {
     "views": []
    },
    "4f502abcb2f64e65827c99d0d4cd5cc9": {
     "views": []
    },
    "4f750cd805d8494484aa4ef1dcc49386": {
     "views": []
    },
    "50134bdf268645f18a21a576d6cdfe87": {
     "views": []
    },
    "50177612de254203bb45ccd124a80ac1": {
     "views": []
    },
    "50818c7add944779ab05e30b03194065": {
     "views": [
      {
       "cell_index": 4
      }
     ]
    },
    "50be54e9905f45e19d08ba341eeeb918": {
     "views": []
    },
    "50e931ed533744bf9f65e2872b8ac4cb": {
     "views": []
    },
    "513db65019e843439f7bce0d166ebd66": {
     "views": []
    },
    "5197ad85b22c4aa2b2bfd47fec3b2b10": {
     "views": [
      {
       "cell_index": 3
      }
     ]
    },
    "51ab5b3b8f6242628822268d5423b134": {
     "views": []
    },
    "522f129d8e3444199b2632a356cb28c0": {
     "views": [
      {
       "cell_index": 4
      }
     ]
    },
    "5255817330604544b00643a8d56c5e87": {
     "views": []
    },
    "52809c1449c44b95aeb340000cd00df4": {
     "views": []
    },
    "52c0d1b0003d432eb2435cd93ac4f606": {
     "views": []
    },
    "52df500a5080484db820425b06959e9f": {
     "views": [
      {
       "cell_index": 4
      }
     ]
    },
    "533c46626bdd45a8bc2b9fbcefa3f024": {
     "views": []
    },
    "53a7a9c9862844be97bdb6e94bf31241": {
     "views": []
    },
    "53f8662d836d4994a683a30710f4abab": {
     "views": []
    },
    "541c9649f2d846969c9147a07a4c2e4d": {
     "views": []
    },
    "54c24ece69b8486cb5a6eef53be4d0f3": {
     "views": [
      {
       "cell_index": 4
      }
     ]
    },
    "55362d33167a47f8b4d2ce599054f2cf": {
     "views": [
      {
       "cell_index": 4
      }
     ]
    },
    "55517090ae354761850d5ddd82576313": {
     "views": []
    },
    "557076e07f1c44a18a1a6f6cc677aaf3": {
     "views": []
    },
    "55ac10ee94df4f778d4698d17e5def6a": {
     "views": []
    },
    "55b03f07c1f846159603cec232542c6a": {
     "views": []
    },
    "56042e7404984e8ca2369f0fea3dbbf6": {
     "views": []
    },
    "5683c873f57b466ebbce78d1b9e463a9": {
     "views": []
    },
    "56af46451f534d87bbab236739885427": {
     "views": []
    },
    "570d4c69c08c4880bfa70fc6a9396682": {
     "views": []
    },
    "57301597010f4e94ac638885f984f29b": {
     "views": [
      {
       "cell_index": 4
      }
     ]
    },
    "573d571e11a94efab2b40a45f25d370f": {
     "views": []
    },
    "575dd6ec74ca420c8688e60713810509": {
     "views": []
    },
    "5781793bd6204e679576db8e9c0bbf19": {
     "views": []
    },
    "5790ff344ecd48c3812457e79d873905": {
     "views": []
    },
    "57a4cd58dc8448a0b262b825a551894f": {
     "views": []
    },
    "585d05057183486387069a1c5d673934": {
     "views": []
    },
    "586cdcbefc234fa78cb885ed8fb0f50b": {
     "views": [
      {
       "cell_index": 4
      }
     ]
    },
    "587e545fefc0475aa4be0e7cef38c9a4": {
     "views": []
    },
    "59145fcd8ce2426fb64f16514fd95bd3": {
     "views": []
    },
    "5918b4422629406ab1bd77992ccff484": {
     "views": [
      {
       "cell_index": 4
      }
     ]
    },
    "5937f21c498844b692a9a085a0725774": {
     "views": []
    },
    "5966cdf316a14cc99fe8eb7dc87972f7": {
     "views": []
    },
    "59692ffb2a634567a2d8f1ba3a1c29f8": {
     "views": [
      {
       "cell_index": 4
      }
     ]
    },
    "5971f4f2cc33496bb0b256ece388d431": {
     "views": []
    },
    "59c4699af54049aeae43cac40da06ac9": {
     "views": [
      {
       "cell_index": 4
      }
     ]
    },
    "59caf38f0ba64067a21cf22f3cc82e55": {
     "views": []
    },
    "5a576d088b714e88ba6781981b12f06a": {
     "views": [
      {
       "cell_index": 4
      }
     ]
    },
    "5a9d67bf23c548c092de297e89d42026": {
     "views": []
    },
    "5aab0c7edfa748b1bc41052acc890f73": {
     "views": []
    },
    "5b1501c2618e44efb69d2086103c7cf2": {
     "views": []
    },
    "5b3bb0ffd5cc4eb59a6a61ac583bf9ae": {
     "views": []
    },
    "5c4018aa772f4d5797ba39107b31e871": {
     "views": []
    },
    "5c4f960cf38f4aefbc0896afe962b6df": {
     "views": []
    },
    "5ca6ab56bfd8450987ba5eae80caa3b3": {
     "views": []
    },
    "5cc8502793404fa39c9d832e75a02a4a": {
     "views": []
    },
    "5cea4affc8164bd4bd1525308d087564": {
     "views": []
    },
    "5d0ec0eea7704d748e4a527646036d01": {
     "views": []
    },
    "5d213de8f8a64961adc868604dcca8fa": {
     "views": []
    },
    "5dd806fcc1634843a0976d6e0ccc25d4": {
     "views": []
    },
    "5ddd30ebb8d341a29d888a4edbf268f0": {
     "views": []
    },
    "5e051543a13a4b36bd2c7ad403c71dc5": {
     "views": []
    },
    "5e90f1afb6f44f569109763a6fd38285": {
     "views": [
      {
       "cell_index": 4
      }
     ]
    },
    "5eb84070c68a4e2d906fac7e563a3693": {
     "views": []
    },
    "5f2a38593cb84b1a9248e0fe7fbc5765": {
     "views": []
    },
    "5f81b7177bb744feb6d9f3a51985655c": {
     "views": []
    },
    "5f8404c2cb584093bcf55410d69f84c4": {
     "views": []
    },
    "5f94d96334b64fd598360c4423140063": {
     "views": []
    },
    "5fc39457e66541f381b7acff011c4b68": {
     "views": [
      {
       "cell_index": 4
      }
     ]
    },
    "5ff2ed0fcd804d8ca4e4abf9bfb146ae": {
     "views": []
    },
    "61ab0aa4fbf74f84a42cc7b4ddff6272": {
     "views": []
    },
    "620468907c3346b59b78e04e5a6d67ba": {
     "views": []
    },
    "624bfee7b9af4bb1a83712855c1acb99": {
     "views": []
    },
    "6298d3b77fb441f1bf38db7c3f1e8016": {
     "views": []
    },
    "6366ef6e89364b14a144189ea9b83403": {
     "views": []
    },
    "63edc417ba0a4aaa8da83d40557da1b4": {
     "views": []
    },
    "6497989d141147a7aebd69d285e96370": {
     "views": [
      {
       "cell_index": 4
      }
     ]
    },
    "64f5736dda9f49a7ab4681955dd5f424": {
     "views": []
    },
    "65cc9ca2464446c1956838168c28cc46": {
     "views": [
      {
       "cell_index": 4
      }
     ]
    },
    "65def57218e74a1587bde686168639b3": {
     "views": []
    },
    "66211d435b9848a4b9877e6ebd5316fc": {
     "views": []
    },
    "665ccd2241bb4ee9aa55b62b7002157f": {
     "views": []
    },
    "66667e663d054238bf98a54889fa1347": {
     "views": []
    },
    "66b5c5a25a204706b4b7426c4c78ccb6": {
     "views": []
    },
    "66f258f9c76d4807ad6f24a62fe48e2e": {
     "views": []
    },
    "680dbf08bcd64d6a8868d3b88e9ca3dc": {
     "views": []
    },
    "683892dda0c84480a667ae2418ffbeb2": {
     "views": []
    },
    "68783eb9f71c4c29bd4ca3563a399172": {
     "views": []
    },
    "688a004e6ef7407080a403631a5c98b6": {
     "views": [
      {
       "cell_index": 4
      }
     ]
    },
    "68964c5465024249bb11ab904097e69e": {
     "views": []
    },
    "68993fb26d5d403090208a285a3841a9": {
     "views": []
    },
    "692f14e6dfdb4b36846f00fe1005ad82": {
     "views": []
    },
    "69349af3002f4b868d8de4b4a12cdbf3": {
     "views": []
    },
    "69d9f44a5fb34544bdb2392f739d139b": {
     "views": [
      {
       "cell_index": 4
      }
     ]
    },
    "69e96c4d26ff4b02a37118f692f40c6a": {
     "views": []
    },
    "69f1abacdacf4dfe8fc0aaeb1a9abce7": {
     "views": []
    },
    "6a9cdef8fe2046c7b5abdca9f44acb94": {
     "views": []
    },
    "6aa173948197476880db341e60369fc3": {
     "views": []
    },
    "6aabb6791f6942b09749a0f593ed39a6": {
     "views": []
    },
    "6adf0ee85ccc4aa99c2c5af2b9bdacac": {
     "views": []
    },
    "6ae77708658c4e938b7edf4f0dbbd7a5": {
     "views": [
      {
       "cell_index": 4
      }
     ]
    },
    "6b0bc14cb4f1471cb55cac2a0564a740": {
     "views": []
    },
    "6b560d85b08740829844d2397af7426d": {
     "views": []
    },
    "6b7681ccdbce43f6b6113e2488dc952c": {
     "views": [
      {
       "cell_index": 4
      }
     ]
    },
    "6b88da2735f24fa180e51f0bc2acff8a": {
     "views": []
    },
    "6c27dfe7e9cf492c80320def36a9234c": {
     "views": []
    },
    "6c3b9e30a2804b6990aa596ace7bb676": {
     "views": []
    },
    "6c3f3bfc3e674135a64625c474f215f0": {
     "views": []
    },
    "6c6ab3a44cf84306b8711a1c67b6e1ee": {
     "views": []
    },
    "6c90277be7814431a1acb345f8f3cce8": {
     "views": []
    },
    "6c92cf6d9b5444b680066f058c0d7b0c": {
     "views": []
    },
    "6cabd19cb24f47ee8706176471307e45": {
     "views": []
    },
    "6d0899b5878e46af83de85666cd379f0": {
     "views": []
    },
    "6d09f278314a4625bafcbee585690894": {
     "views": [
      {
       "cell_index": 4
      }
     ]
    },
    "6dbebe7e4ae2447eb77bf01ca7b578d1": {
     "views": []
    },
    "6edafb413af0447ba669695b6899efb2": {
     "views": []
    },
    "6f4a1152fa2944e5bbebd960050ce8c0": {
     "views": [
      {
       "cell_index": 4
      }
     ]
    },
    "6f6592264f8f47daa3422246b16626d5": {
     "views": []
    },
    "6f7633a64b314db8b392e441522dd174": {
     "views": []
    },
    "6f817326e2174af6a27e195638694863": {
     "views": []
    },
    "70b1f91850114a8aac71e1fb8c77a675": {
     "views": []
    },
    "710d99be1ab44f5685a7f9cce674b9af": {
     "views": []
    },
    "7148c8fba13b485ca05abc46a0c7b417": {
     "views": []
    },
    "717599121a3d4263a653181fcf83caf0": {
     "views": []
    },
    "7192d134d7df4bbbbf4b8b22fd1d5c89": {
     "views": []
    },
    "71c88009e1f640d8917d3464de8d738f": {
     "views": []
    },
    "71eda3e11f234f6fbb629abf9c22a1e3": {
     "views": []
    },
    "72364dbf9a3040819deb2d546676e1c2": {
     "views": []
    },
    "7280c589fbbd4499a42eeffc1e944469": {
     "views": []
    },
    "72a2ee45ee5f4486a9dedd4f035f9f65": {
     "views": []
    },
    "72c17c7410544d74bf5a4d8fbaa3f556": {
     "views": []
    },
    "74078e637f7f4afb8d3622e94fe77109": {
     "views": []
    },
    "7443111643194ab5b2074e11a4587650": {
     "views": []
    },
    "7485ea18c9c1475b945a8226887f704c": {
     "views": []
    },
    "74cb6794326b451e9130ec86556b887f": {
     "views": []
    },
    "74cc5e7367fd43beba536db78b1884b8": {
     "views": []
    },
    "74f37ec978ee4bdf86e1a0e38ee101e0": {
     "views": []
    },
    "75b30a87bf474a6da449ee9af2af1e63": {
     "views": []
    },
    "75c58d546992473e9bfd57eef21f5fbe": {
     "views": []
    },
    "75ec064677bf473c9635c309ed96542f": {
     "views": []
    },
    "76bb39c8e6ba417c8910c85d1cb9afa3": {
     "views": []
    },
    "7707b13b4b9a4cb78baa38d42a35c9aa": {
     "views": []
    },
    "7784c96451594bd8926eb64d276f0f07": {
     "views": []
    },
    "77a4d8fc17c940e78fe8ab6b6d0237e2": {
     "views": []
    },
    "781ca03d2a4547a6872578f509ad0820": {
     "views": []
    },
    "78bfae665650452593c9fdd24263049a": {
     "views": []
    },
    "7961ed39305f4c1b80dff8b3eed84331": {
     "views": []
    },
    "796bb186b74649b68f70e80ef5d5d52c": {
     "views": []
    },
    "799154c44dba47e08b53d608cc7747a8": {
     "views": []
    },
    "79e62d0854a74e23842ed2f363931b73": {
     "views": []
    },
    "7ab5443817744e12aa532a259ff2e64c": {
     "views": []
    },
    "7cf4f299b94f4e9984ac4f422a4e8395": {
     "views": []
    },
    "7d5bdc3af5924b05a82ea29b51ea22d5": {
     "views": []
    },
    "7db8c3d0c9b4426ca92aa0117f4d7582": {
     "views": []
    },
    "7eaa160f4e814fe4b1a1742ff7941b02": {
     "views": []
    },
    "7f10ca3a3f494b4fae52c088dc87b2dd": {
     "views": []
    },
    "7fefa3ff2e9040d7bb2ccfc4098ded5e": {
     "views": []
    },
    "80602e5f59e149bd9024c4c68df693ab": {
     "views": []
    },
    "81287f51446f4c64af167837f3500793": {
     "views": []
    },
    "814b7be222ec43d9aec3fe63afadce47": {
     "views": []
    },
    "821a232845dd4b56a3c18452618067bf": {
     "views": []
    },
    "822a8a3812854d9b87fcf219b89cffb9": {
     "views": []
    },
    "8236a31285184e138edd1e12cf0e1182": {
     "views": []
    },
    "827497355cf34366bd23b189bcc071c8": {
     "views": []
    },
    "828d368adada472aa387ee6f06105dae": {
     "views": []
    },
    "8298be249e424f14ac74225b03b80b04": {
     "views": []
    },
    "83539ab64c14430299f7e7e11efc9e27": {
     "views": []
    },
    "83b81db130e543b2b410e3abd79079b8": {
     "views": [
      {
       "cell_index": 4
      }
     ]
    },
    "84a9d390186644abbed2a18f22929ecd": {
     "views": [
      {
       "cell_index": 4
      }
     ]
    },
    "84d4b423886447b6ad41ee19aba82029": {
     "views": []
    },
    "85125db2ee4a4c70ae87f661c7e7492c": {
     "views": []
    },
    "852f1e3ed57a44bd91755d63b9207d72": {
     "views": []
    },
    "8530de5bb69f40858599770d3db6c7f9": {
     "views": [
      {
       "cell_index": 4
      }
     ]
    },
    "85c09873dc2845169d59f3486c5d5868": {
     "views": []
    },
    "85d46e8478a247ab99dc6ebfbecd9809": {
     "views": []
    },
    "864e3efb6eb547af813374080fe209eb": {
     "views": [
      {
       "cell_index": 4
      }
     ]
    },
    "86df706f976945df8088d72b3a0eb34a": {
     "views": []
    },
    "86dffe6d2c674595b01223a30d0d6706": {
     "views": []
    },
    "86fd0e6bd9924501aa52804de5f225a9": {
     "views": [
      {
       "cell_index": 4
      }
     ]
    },
    "8762db34544f4c2ca38d6dcfb15d3891": {
     "views": []
    },
    "87a5b6dd12d948fea98972c1a7519337": {
     "views": []
    },
    "88269832675547128e1283201f428b2f": {
     "views": []
    },
    "8832d252cd434a838ab9f9a52d5bc33a": {
     "views": []
    },
    "8853e7f0213a456bb7718db90120b1c9": {
     "views": []
    },
    "885950ea162441f984ccff8828c28573": {
     "views": []
    },
    "888957cc77824874ac003de7bb7437ed": {
     "views": [
      {
       "cell_index": 4
      }
     ]
    },
    "8899f3819d034f01baa1943ab54eb291": {
     "views": []
    },
    "88aab2c5d449445f8e01e1c992bcaa52": {
     "views": []
    },
    "88aecb2055ca429eb4c3bcedc31d0610": {
     "views": []
    },
    "88d402213ca6442ba73613ee462399f2": {
     "views": []
    },
    "88dfdce7db994000b4d38c1bd2dc5b89": {
     "views": []
    },
    "89a369b1692d4cbc829056312c66e27a": {
     "views": []
    },
    "89f32c7eebaa463bb6779455a39e4495": {
     "views": []
    },
    "89f69efc9b20486c82dc48b97df22576": {
     "views": []
    },
    "8a116241b67d4076951c095d8d34112a": {
     "views": []
    },
    "8a28f9c963d548289ca1c920ba84458a": {
     "views": []
    },
    "8a4691929de2427f9d2c5d099a3043f0": {
     "views": [
      {
       "cell_index": 4
      }
     ]
    },
    "8a75c11f4ec145658765917ec99976f6": {
     "views": []
    },
    "8a8c82145f604eb681a83042093889cb": {
     "views": []
    },
    "8b31cb3ff66648a9bca0e961a93a423b": {
     "views": []
    },
    "8b72d5abdc3c4de7bcb63447a5eaeb92": {
     "views": []
    },
    "8bcc2c4b209840f5b6211e91221a9a8c": {
     "views": []
    },
    "8c0bb9fb37a0437a95c4ed2816504e7a": {
     "views": []
    },
    "8c3aa0ecd5984e1da8db7e4ce32313c7": {
     "views": [
      {
       "cell_index": 4
      }
     ]
    },
    "8c44bd3984164ef499c874b1c12d50ca": {
     "views": []
    },
    "8ca2e5a14f4444aaacc7d857a6be82c8": {
     "views": []
    },
    "8ce9099dfc7c4e559aa96faa00321bed": {
     "views": []
    },
    "8d167a0d23bb41999d224be907473565": {
     "views": []
    },
    "8d3658ef54a44e99aead9fe096f413ae": {
     "views": []
    },
    "8d57b62794e54a6f8ee83626d8a0df54": {
     "views": []
    },
    "8dc1123b95ce49a29471da18810bdd29": {
     "views": []
    },
    "8deb23a0478c4baab8a87e31573646b0": {
     "views": []
    },
    "8dfeb4a52886424abaec893e0ec393b0": {
     "views": []
    },
    "8ec80fce676d45bb8c8d06efb14dd442": {
     "views": []
    },
    "8f4246ee09794ca3ad7026bcd96c66ab": {
     "views": []
    },
    "8f7a09c666ec4998b75d8e4df3a23005": {
     "views": []
    },
    "8fd6a969b36b44d4aa7301b6283ac1fe": {
     "views": [
      {
       "cell_index": 4
      }
     ]
    },
    "9086d1e42ff24de48b632806143d15e4": {
     "views": []
    },
    "91072c12bbc44448a190aa876aa77b91": {
     "views": []
    },
    "91747f99d01f465280fd66183616064e": {
     "views": []
    },
    "921442916fc24699960ca68062f65064": {
     "views": []
    },
    "92e14c4d62cc4fae8bd943342bf0c357": {
     "views": []
    },
    "9344093c55c6410197cee14a98dea738": {
     "views": []
    },
    "937320c7ffbf47c0b2e92620ff8aab31": {
     "views": [
      {
       "cell_index": 4
      }
     ]
    },
    "93c5c182d68c4dddaba2b6e3337d7b68": {
     "views": []
    },
    "93f65f64cfe94cb29388f6b076839c73": {
     "views": [
      {
       "cell_index": 4
      }
     ]
    },
    "94824fce4ec0498ab7405cca4f5f736b": {
     "views": []
    },
    "9487aa84c8ec45d89e585cae63345dbe": {
     "views": []
    },
    "948b2c73f251468e87d38ac6d16e6cd9": {
     "views": [
      {
       "cell_index": 4
      }
     ]
    },
    "94b570764c754f93beeb09f4096d2a21": {
     "views": []
    },
    "95000ac12d1a45368b0206ee47050bbc": {
     "views": []
    },
    "9564634fbffa41aea203a705cf5ed08d": {
     "views": []
    },
    "958504e1cdc6486d8ebffaf7efeea089": {
     "views": []
    },
    "95acb26a8da4437ebb6747b5d5dc0d55": {
     "views": []
    },
    "95bfc0ea329a46f28aaaede947182e9d": {
     "views": [
      {
       "cell_index": 4
      }
     ]
    },
    "95e93f1cc98c4f2092b5c56e4770f66b": {
     "views": [
      {
       "cell_index": 4
      }
     ]
    },
    "96300391012741e3a6528c775d24c24b": {
     "views": []
    },
    "96339762e2ee4c48a6a9d74d249ec234": {
     "views": []
    },
    "967d6cf7d7f744779194f6662fcff90d": {
     "views": []
    },
    "96c83435f101402ca736ef76e6fee647": {
     "views": []
    },
    "96e0b435bc9e4a05a3076193e17b30e3": {
     "views": []
    },
    "9724420c33394f3da6d9a0c9d4e8d3c7": {
     "views": []
    },
    "9775fd64456d48d7947911da97d0de3f": {
     "views": [
      {
       "cell_index": 4
      }
     ]
    },
    "97a7da4731184b648b94ccc169f1eda6": {
     "views": []
    },
    "97b4d3f6c05d48cdbb9de35370ebbaaa": {
     "views": []
    },
    "97d9605ae77a45a29de3910842878373": {
     "views": []
    },
    "97f3ae4e011b42d1bf9f86ea364d5d0e": {
     "views": []
    },
    "97ff740efd2a4af6bfdafa2efeac4e62": {
     "views": []
    },
    "982c4cdf18d147c4bf07c9a3e43d30cd": {
     "views": []
    },
    "9855ba6cf94e42c19cd8480c70812184": {
     "views": []
    },
    "9856b6ebed4f400b9ae896c0424f4c0a": {
     "views": []
    },
    "98d317671a8749a99093d9f71cc5a216": {
     "views": []
    },
    "98dfc0b3e2b44ba8ab2215b5ce073297": {
     "views": []
    },
    "98fe00c3f45c40e7956e678403da04b2": {
     "views": []
    },
    "99073a2dc0ca4c55b60877dad6db0fc5": {
     "views": []
    },
    "999743c1844549009143dfdf2434c4e4": {
     "views": []
    },
    "99f09c9ca29b474982460a4767d14ea5": {
     "views": []
    },
    "9a5a0d8a64f6470bb2c7528bdf1abb11": {
     "views": []
    },
    "9a967ba965ac4bf5838aa49a25d8eec0": {
     "views": []
    },
    "9ab399a2ab3f4cd2a152929bfd863f6d": {
     "views": []
    },
    "9acf3e4f71bd407caef0c71fc6e92586": {
     "views": []
    },
    "9b20bdc2b714426392875f45aaf6d7dc": {
     "views": [
      {
       "cell_index": 4
      }
     ]
    },
    "9b30f18ec4d5436d8989752a48a4f325": {
     "views": []
    },
    "9b42f94fb8f840c98017ddf3c1aefc8b": {
     "views": []
    },
    "9bb29f73051349c8bcb2a5b8dae61e11": {
     "views": [
      {
       "cell_index": 4
      }
     ]
    },
    "9bd5bd8b8cf64ea5954ef84f321c5cba": {
     "views": []
    },
    "9c0e1e5d73b74ac290b1d28676a70bf7": {
     "views": []
    },
    "9c1fe0ab98934abc8bc08e2cfd7f5db1": {
     "views": [
      {
       "cell_index": 4
      }
     ]
    },
    "9c55b64256924504860e5caeb056e00f": {
     "views": []
    },
    "9c840bda977846d5b6126f4970f39246": {
     "views": []
    },
    "9c84cddedbec428597e3d45a209e234c": {
     "views": []
    },
    "9e2152ce7d104aa18ab200cc70751b57": {
     "views": []
    },
    "9e357a5607614ce7b6f61bda4f5a58c8": {
     "views": []
    },
    "9e7e0ec8caba46eaafee90f643c714f3": {
     "views": []
    },
    "9ea864cd7ad747ac95f2830b8ebe4d0e": {
     "views": []
    },
    "9ea8f43dac4b43c18d4b537d64cc3e73": {
     "views": []
    },
    "9eb6a52725404e7f877cea8b134325db": {
     "views": []
    },
    "9ebf2e4f72024a5aa746ebdd3e4a2201": {
     "views": []
    },
    "9ef6a9a14c4648e49dfaac773240d554": {
     "views": []
    },
    "9f116e3efdd54de9825db2a1ebaae369": {
     "views": []
    },
    "9f1d613b54c84c4ca027696f6ef4ba63": {
     "views": [
      {
       "cell_index": 4
      }
     ]
    },
    "a03c1ef47ed347ea8cc635681bc52216": {
     "views": []
    },
    "a09229724ee34a98babb1a76eec38c70": {
     "views": []
    },
    "a0ace3bc48df448a89fa785e3525b059": {
     "views": []
    },
    "a0bf1803596a4da6a1a0fac9dda6fc06": {
     "views": []
    },
    "a0c68a830acd41fb83e08c751d0ffc38": {
     "views": [
      {
       "cell_index": 4
      }
     ]
    },
    "a0cb6bc19fd94d92bb6626cce0cb61c0": {
     "views": []
    },
    "a10b4640aef6410bba3e3532503bf67e": {
     "views": []
    },
    "a164de6baf5a47adae1bcae7ea3c02f6": {
     "views": []
    },
    "a1e8ff12fbfe49e0b695e675c32c2356": {
     "views": []
    },
    "a20887577d7c4b6d832c1fbbf797646f": {
     "views": []
    },
    "a220e78b6ee544b69758c778a8bb5838": {
     "views": []
    },
    "a27ad7cfc8cc4fcabe30de1928f93cb6": {
     "views": []
    },
    "a2a2b1724a6b4ceab7290b0265289678": {
     "views": []
    },
    "a2e9b10077d0426f83bf55baea15cf70": {
     "views": []
    },
    "a2eb5bd167fd4703bf1fd08201302003": {
     "views": []
    },
    "a31e6c35b3a940268c02d77327581f29": {
     "views": [
      {
       "cell_index": 4
      }
     ]
    },
    "a358b194be2f4f30b050d0a58dffb675": {
     "views": []
    },
    "a3d2a558591f4a999697add7d9b23702": {
     "views": []
    },
    "a3ee3694934149ec98074cea26d68297": {
     "views": [
      {
       "cell_index": 4
      }
     ]
    },
    "a400d2d1079d472596356b1567ac0e96": {
     "views": []
    },
    "a47d9206a3d3496f80af86e0ae6444d4": {
     "views": []
    },
    "a4c435809ed14a288210b976905a0d96": {
     "views": []
    },
    "a57365012d97468496c185fab5d8144a": {
     "views": []
    },
    "a587640696b640ab843ddd09cb9d28e6": {
     "views": []
    },
    "a59008da4bc24905adc3833f2074331d": {
     "views": []
    },
    "a61ecb7178914815836b2be088ca0eaf": {
     "views": []
    },
    "a6537e8f45814c06a15eb0ac2b328035": {
     "views": []
    },
    "a6796fa5f9f9417f927caf32c1967c09": {
     "views": [
      {
       "cell_index": 4
      }
     ]
    },
    "a682c2cac0224b35a0c630597a0a4f05": {
     "views": []
    },
    "a692e398acfa46569e14f768bc52604f": {
     "views": []
    },
    "a6def8d28b9d4ee48d2048f98445cd10": {
     "views": []
    },
    "a6fee1000b094eae9171c5cc4f664293": {
     "views": []
    },
    "a711899787c74da28bbd59a374025705": {
     "views": []
    },
    "a74c97c2442049da84454d14fed9fb3c": {
     "views": []
    },
    "a767fe9093c14949a49d3e448f6a222c": {
     "views": []
    },
    "a7a104f7c4ec44c2ba7fb5f3ed1aea4e": {
     "views": []
    },
    "a80a46ef82a64e8ba331ab0393fdad73": {
     "views": []
    },
    "a82523dc371e464da405b0e032873099": {
     "views": []
    },
    "a93895fe91714ed89cc068d1f2149257": {
     "views": []
    },
    "a94fe63aa6ac40f09e167b9addaa6684": {
     "views": []
    },
    "a990f90111c64097b11849b01eb6c775": {
     "views": []
    },
    "aaba28ac5b43492486db96ec96193f94": {
     "views": []
    },
    "aad21e2ca8934bd0b0beda62758d4108": {
     "views": []
    },
    "ab3caaa0b11542d5b53ff25edac811a2": {
     "views": []
    },
    "ab4dfc11af404ee98aa0b6654146d2a9": {
     "views": [
      {
       "cell_index": 4
      }
     ]
    },
    "ab5613e347a142618d104c21a3f4b8f5": {
     "views": []
    },
    "ab819ef532274c25af38d1da8affb192": {
     "views": []
    },
    "ab8325341ea348378b2caedbae1e77e4": {
     "views": [
      {
       "cell_index": 4
      }
     ]
    },
    "ababb8a23acd4726bb8b01d67beb0706": {
     "views": []
    },
    "abadc6bac4db4e7a9bf9701247bd3005": {
     "views": []
    },
    "abbc6e47df2243f2bb24370c1b4f8120": {
     "views": [
      {
       "cell_index": 4
      }
     ]
    },
    "ac0a91da2d0a4f9084fe97fe33de810d": {
     "views": []
    },
    "ac19854b19c74bff83877a8cdbfb46e7": {
     "views": []
    },
    "ac50b0883d454a5c9a7e48e94031d3b7": {
     "views": []
    },
    "ac746dafafd847b9ade97bc0367a6b56": {
     "views": []
    },
    "acc1906e48ee4486a81b2004d1952272": {
     "views": []
    },
    "ad4390dca8a9434d8c7d9b5bcd6bb1be": {
     "views": []
    },
    "ad807bc6ba07462783c3b7fa9a08c064": {
     "views": [
      {
       "cell_index": 4
      }
     ]
    },
    "ade93df5567a4b38b91d511ec009f005": {
     "views": []
    },
    "adeb83a3dd93435aad6990b3c0dde311": {
     "views": []
    },
    "ae096d25c4ca417fbff6c32839f21c54": {
     "views": [
      {
       "cell_index": 4
      }
     ]
    },
    "ae28496a098e467992c40c5f8773f369": {
     "views": []
    },
    "aea50d7e953d491cb8c52c52a765b75f": {
     "views": []
    },
    "b088ada8b7144c1eb9848ed515f63202": {
     "views": []
    },
    "b0c34b3436664c85bca11ddcdcfa4fb1": {
     "views": [
      {
       "cell_index": 4
      }
     ]
    },
    "b0cbdf3a2a644456879b600fca97bfb1": {
     "views": []
    },
    "b0fe7b64dd37479d9ccc2327b3b92d28": {
     "views": []
    },
    "b100ff08b3db4af4998d1b74b9ef6574": {
     "views": []
    },
    "b132582cb60644018355169a9c0874ca": {
     "views": []
    },
    "b236a026010047e984fed1e72f539ad5": {
     "views": []
    },
    "b2735b62d58e479ca399bb87b6f22495": {
     "views": []
    },
    "b27c21c0cf47423b8106c9f31c3f071c": {
     "views": []
    },
    "b2d7f7f76f8046df8dc9c6845eafbd79": {
     "views": []
    },
    "b320212375ae4e1597d772135249ba36": {
     "views": []
    },
    "b32035ae402b41f2bedf2970c445ee04": {
     "views": []
    },
    "b3b58d55c8634cdd9020bfcc7365d1d4": {
     "views": []
    },
    "b44d2f3c11e048c9a16bd62b0b1aaea9": {
     "views": []
    },
    "b4c9b42b1bc84e519257af56ebba37ae": {
     "views": []
    },
    "b4fd89456cd940ac8f2cb6a772f615a4": {
     "views": []
    },
    "b58f502747d94674adda0dad4b932e9b": {
     "views": []
    },
    "b592c4f1e3774386ab68ef8b6db02942": {
     "views": []
    },
    "b5b69fb70efa4901885cf0af271b6b41": {
     "views": []
    },
    "b5e5396404e9450ca6f0c0e4bc4e2e23": {
     "views": []
    },
    "b603bf9553bd458b9ba9852bfbf50e6d": {
     "views": []
    },
    "b637c792552841e583ffb42a2439dd0b": {
     "views": []
    },
    "b6b42f1678044214a5e0cbd19ea3e83a": {
     "views": []
    },
    "b730cf2a44ad4fccad5941ba4a0d0c92": {
     "views": []
    },
    "b77808de35fe492fbcc8561f708698a7": {
     "views": []
    },
    "b7832d10ff0e4a29b60d43775a10ed7b": {
     "views": []
    },
    "b7bbb50e674d47e59ae0dc1ae29f5630": {
     "views": []
    },
    "b8303975d00447b49b7154d05080ae94": {
     "views": []
    },
    "b85f9a40c1224289b232158436f41f68": {
     "views": []
    },
    "b8639073a274489f96ee9df3a55132b8": {
     "views": []
    },
    "b9376077288c4617bfa339cc24a17d22": {
     "views": []
    },
    "b94d729de8c449daac6719684a1e0b69": {
     "views": []
    },
    "b98c32c6cd684ccda93ce7f89defd7cf": {
     "views": []
    },
    "b9e06ccfcd6f44be9cd5df6323a4cd0d": {
     "views": []
    },
    "ba331c6245a54b10b3497c9b02b0e6a9": {
     "views": []
    },
    "bad17169e71d4f93982c1a130bb7a87a": {
     "views": []
    },
    "bb4f28bed8dc4ad78d6c2af2c0ea920b": {
     "views": [
      {
       "cell_index": 4
      }
     ]
    },
    "bb937a79b8ac4efcaf5f27f753520c6c": {
     "views": [
      {
       "cell_index": 4
      }
     ]
    },
    "bba7678dbf284b7980307b9a56e18b65": {
     "views": []
    },
    "bbffc0c581c446368421f8a16fdb2bd8": {
     "views": []
    },
    "bc2ea83e1412444683ffb479b0745b35": {
     "views": []
    },
    "bc7dac22cab64c0ba5266be06e47b8a5": {
     "views": []
    },
    "bcaa1700533540849169ce8bf306f6fd": {
     "views": []
    },
    "bcb59ec9d2d34ba09e56a8e74162c264": {
     "views": []
    },
    "bcce94c9f3d14f73bb046cacfe1ceccb": {
     "views": []
    },
    "bd12612eed64429aa6a5bd1d93a49229": {
     "views": [
      {
       "cell_index": 4
      }
     ]
    },
    "bd15661eb06247589b9894faf21f0328": {
     "views": []
    },
    "bde59291404743c78701d6a66c0ec3a0": {
     "views": []
    },
    "be210f7991304fc58ed4039dee32978f": {
     "views": []
    },
    "bebc24ed759d43cfa0338fa87c2d3c3e": {
     "views": []
    },
    "bf14f28bd4644904afe7e01eb9a086dc": {
     "views": []
    },
    "bf3c20186bf94c4ab926c0fe9f944834": {
     "views": [
      {
       "cell_index": 4
      }
     ]
    },
    "c01ca2f248e44a1090c97940c2862747": {
     "views": []
    },
    "c0c2b653712a43f6b19cd78d5bcdf6bb": {
     "views": []
    },
    "c18d600ea3124252a8496b76cd9d25a8": {
     "views": []
    },
    "c1a758cb859c4503a7104aa21d89a5c6": {
     "views": []
    },
    "c29c3a13f9e644b4af93364df45bea6f": {
     "views": []
    },
    "c30dd2916fa040748a81fc0b8c0d4cf3": {
     "views": []
    },
    "c32cfe793cc54328a0cf52579a304fda": {
     "views": []
    },
    "c32f8b9901664520a8e2b0f3e9b7ad9d": {
     "views": []
    },
    "c33e48abe7624a37b27c692ce3a822e6": {
     "views": []
    },
    "c34f9da58b0a4164999973b0d5eba48a": {
     "views": [
      {
       "cell_index": 4
      }
     ]
    },
    "c39fa14fdcbb4355b04d9d321b97ab9b": {
     "views": []
    },
    "c417927e47324f17850c210700168bbb": {
     "views": []
    },
    "c47e19f0f8994ae0b9cb3690f9286daa": {
     "views": [
      {
       "cell_index": 4
      }
     ]
    },
    "c53c3e370c2c4f439e232923d06548ee": {
     "views": [
      {
       "cell_index": 4
      }
     ]
    },
    "c5ede33f53ee488094f417706ec370ab": {
     "views": []
    },
    "c62bea5a7a6d45e693b1735f66603078": {
     "views": []
    },
    "c644ca66aff14021a287e5b13487c47c": {
     "views": []
    },
    "c64b778d6e954304b2372c57ab9cf6ef": {
     "views": []
    },
    "c6518525928849ca9af74292d2c4f9c9": {
     "views": []
    },
    "c6558694303b41c6a93aa95fb73f98b0": {
     "views": []
    },
    "c6d237a8d45d4d568629a05a3d38bb65": {
     "views": []
    },
    "c6f2efe41b3c45228564bb0b7efb0573": {
     "views": []
    },
    "c72e0026f4064f03ae37067de9edf87a": {
     "views": []
    },
    "c757a804e8944c4f8002c3225303900a": {
     "views": []
    },
    "c76e6595d9d1458395dc96b1a9cbf7bd": {
     "views": []
    },
    "c77e61400d74436a8cecff854528cbdd": {
     "views": [
      {
       "cell_index": 4
      }
     ]
    },
    "c77f6f2584a34d5e9fab28df458f7ec0": {
     "views": [
      {
       "cell_index": 4
      }
     ]
    },
    "c829ae25c8b048d1a9a5e77fd37131d0": {
     "views": []
    },
    "c840cbc728994ca1bb74a4438f6f9d1c": {
     "views": []
    },
    "c88bed19771c4e67b4afe075d85e6c13": {
     "views": []
    },
    "c8e76cb3496a4c43a1a1dcc596ad33bc": {
     "views": []
    },
    "c961e241da2e4f9f8f90241f15214414": {
     "views": []
    },
    "c9db8006230c4186bee289480a1f4cf6": {
     "views": []
    },
    "c9df16b87076439fada55f94d031ffdf": {
     "views": []
    },
    "ca627885dac14a2d9cf330fed2063318": {
     "views": []
    },
    "ca873d0c7955467995e698f9534f4734": {
     "views": []
    },
    "ca9c850d5aa445098d92c96aea9a424b": {
     "views": []
    },
    "cb13d74f495b4a50b25dfbde9e69f983": {
     "views": []
    },
    "cb29266758ab40b29350f8273a4a15ed": {
     "views": []
    },
    "cb475a3b962f446f9d4cb579946d96d2": {
     "views": []
    },
    "cb9a1e122b4a46e2a3d14f340438d3c6": {
     "views": [
      {
       "cell_index": 4
      }
     ]
    },
    "cbe0fda86d4549b998d1702a2666eeaf": {
     "views": []
    },
    "cc46db5886314ba988235f87eff95f62": {
     "views": []
    },
    "cd5e09fead8b4a4e87c49a2856df4838": {
     "views": []
    },
    "cd6733661e364dad81e4d21fd65b5474": {
     "views": []
    },
    "cd759820cd834ef69f5ff711c4ecee33": {
     "views": []
    },
    "cd9bb7a46963440081915d36c5e6cf3e": {
     "views": [
      {
       "cell_index": 4
      }
     ]
    },
    "cda293c485c042aba9c1b42988ef2bc3": {
     "views": []
    },
    "cdbfee0452f243529fff1f4309cab9a4": {
     "views": []
    },
    "cddb1b518fbb47b4913ba65420ec507c": {
     "views": []
    },
    "ce158d65af184debacbb0af94386b9c7": {
     "views": []
    },
    "ce4ec8798b8d4f5dbcea4c30bfea8721": {
     "views": []
    },
    "ce4ee841e7f9418fbc690d0697b4a7e3": {
     "views": []
    },
    "ced37f2cf5704e548dc2c8096eea854d": {
     "views": []
    },
    "cf869053e0e84306922adf3c9ad62538": {
     "views": []
    },
    "cfe442cfb89c40c591e9f0f88fa1b7c0": {
     "views": []
    },
    "d108e86da4994cd7952e58fb9b9f7d5d": {
     "views": []
    },
    "d134f84dfa6d4fa7945778fef6214b4e": {
     "views": []
    },
    "d135f0f442614db990e78eedcbcbae32": {
     "views": []
    },
    "d160304c199946f1b1dc793fdf53b5aa": {
     "views": []
    },
    "d16afd0125a74b2c829afba0ca1d4174": {
     "views": []
    },
    "d18392268680459b924bcbcd2d786c31": {
     "views": []
    },
    "d1b7a5493feb40c8b957e05714a48f3d": {
     "views": []
    },
    "d1d9b91132374378a491ac5b764ff190": {
     "views": []
    },
    "d2369e9128174e5c96e32161d37cbdeb": {
     "views": []
    },
    "d28264d0d7eb489d986bfabd21261da9": {
     "views": []
    },
    "d35feeb5ac5f4d9c9a3bf45de002e5f6": {
     "views": []
    },
    "d3c2eb1269b04cd6b72ef06511d92a67": {
     "views": []
    },
    "d3dc14fac26d4ec9979d730845e07a3e": {
     "views": []
    },
    "d416c836ee404fae8cc9800f34272f65": {
     "views": []
    },
    "d4438d3af6004683880455f90d3f1dfc": {
     "views": []
    },
    "d47673806a2346ed8fc8e7eea6519197": {
     "views": []
    },
    "d4951979006543b0892d7a03201102ad": {
     "views": []
    },
    "d505958cc7a841a2a80f96b8d5402c27": {
     "views": []
    },
    "d55a7bfbca0c404385d722feb4db38c5": {
     "views": []
    },
    "d58756316ba24fe180cb93b6f63a9aab": {
     "views": []
    },
    "d5da76fefe8c4309a0f4172204dbd943": {
     "views": []
    },
    "d67e74fdd50c477fa0f830d77188c0bc": {
     "views": []
    },
    "d683590d7e9d47889c35ff9ab1c99b5c": {
     "views": []
    },
    "d69f13c107454a1297bb0e3b8d61c665": {
     "views": []
    },
    "d6d88b00daf9489e86feeded915f01d8": {
     "views": []
    },
    "d71f17fa5b4c433ea70be840da83aa5b": {
     "views": []
    },
    "d75bf00cb598400eb9462b48ad35616f": {
     "views": []
    },
    "d77ab99b91234e6caf59b754254d0305": {
     "views": []
    },
    "d79c193c495046d689f9fb648e9ab1af": {
     "views": []
    },
    "d843f134f13c4a0ba28924b08e294fec": {
     "views": []
    },
    "d84a7064f51745749e65ae52b02362dc": {
     "views": []
    },
    "d892e569753146d4bc1d5e011194ad28": {
     "views": []
    },
    "d8d916e3f89440bf829d64510a7612ea": {
     "views": []
    },
    "d91d6e37ac2f4bf187cc59baff1a0290": {
     "views": []
    },
    "d923131d20564db9867e211eaec3b3ce": {
     "views": [
      {
       "cell_index": 4
      }
     ]
    },
    "d947c3bb34484978b231bd181fffd94b": {
     "views": []
    },
    "d94dc29c8c6545a9baf94439ce85c364": {
     "views": []
    },
    "d966483646ef4c2e90926ba0f312dad3": {
     "views": []
    },
    "d97c11cbdb934078817d3a6d43741d13": {
     "views": []
    },
    "d9b2be0e684d46ce8222088a3c90c771": {
     "views": []
    },
    "d9e72097903a41bfae63d18133ba21ea": {
     "views": []
    },
    "daadf73f7c3d444dbe6376d427ec1e81": {
     "views": [
      {
       "cell_index": 4
      }
     ]
    },
    "dab468985f984d64bfaae8fbecb8fed1": {
     "views": [
      {
       "cell_index": 4
      }
     ]
    },
    "dab58227d6d7414bb3a4d0bc78693298": {
     "views": []
    },
    "dae59e6937564f81a1d8f062df51b37a": {
     "views": []
    },
    "db1b967317a847ae856b8ec4b203b481": {
     "views": []
    },
    "db1cc2e7268e4900b05e796f905c54cb": {
     "views": []
    },
    "db6166f8590d4199b8aeee32e4f383eb": {
     "views": []
    },
    "db728cb9f5284bdc9f31a699749f2a47": {
     "views": []
    },
    "db8bdb677d7a40eb8b943164977c3878": {
     "views": []
    },
    "dbbe6f50557145148eac361b170d4bbb": {
     "views": []
    },
    "dc5dee28a7b04711804cccabf23c9500": {
     "views": []
    },
    "dd56c75d292a4aa88ccf5c88249d3671": {
     "views": []
    },
    "dd704b6c450f48f984a1d4358c104e80": {
     "views": []
    },
    "dd894b1eff3941b28dedcbe05b1b6941": {
     "views": [
      {
       "cell_index": 4
      }
     ]
    },
    "dd8a78e4ffe641e786a22039cff6d43c": {
     "views": []
    },
    "ddd4f77d9c7942d2ac8c3fe119f048a5": {
     "views": []
    },
    "ddf3a7d433e54a16a0d9d98c7d6ef593": {
     "views": []
    },
    "de82c986728f4342a6ee7c4a5311caba": {
     "views": []
    },
    "dea99addcba44239ba4198c0545313bc": {
     "views": []
    },
    "dec9d41f08f94b90b5b9763ad53f48c3": {
     "views": []
    },
    "deeefc71627542f1995e5af307d1d9b6": {
     "views": []
    },
    "dfaf5db182b449c8b47f146350847aef": {
     "views": []
    },
    "dfc63399d34f4ee9be5986a6ec2ee7a7": {
     "views": []
    },
    "dfd36d9ff9e4421d906931a57a871193": {
     "views": []
    },
    "dfd3723a933e4ae09c1aa8b404fb1394": {
     "views": []
    },
    "e0512254b2c948a193baa4dab4fa63a4": {
     "views": []
    },
    "e0e292607e814f83b657a5156159f29f": {
     "views": []
    },
    "e128c399d81e496a984f7e4bfbcbedad": {
     "views": []
    },
    "e169fd7055ef4466937cdaa6c8aef105": {
     "views": [
      {
       "cell_index": 4
      }
     ]
    },
    "e2198d55caff48479ec32deea6e38ea2": {
     "views": []
    },
    "e293c21587ad4b58a19a2da3b6007f04": {
     "views": [
      {
       "cell_index": 4
      }
     ]
    },
    "e299fb8b52bb4896a4f82ed1923a8133": {
     "views": []
    },
    "e2f72b2bf30449f8a0983dc0016a0557": {
     "views": [
      {
       "cell_index": 4
      }
     ]
    },
    "e4034b3b094f44628ba8cde201becc01": {
     "views": []
    },
    "e443a635400d415db73eda0a3958d4e5": {
     "views": [
      {
       "cell_index": 4
      }
     ]
    },
    "e4b7da985e864d588056aaacc18cd1d0": {
     "views": [
      {
       "cell_index": 4
      }
     ]
    },
    "e4de0d5e0e00448694449f5a5d27204b": {
     "views": []
    },
    "e51f28e9bc2a4a2181f9ef56bd297982": {
     "views": []
    },
    "e52cc059c04048aa990c918bd7fbc53e": {
     "views": []
    },
    "e56ac8192bc74a32823d983d3ed02aa2": {
     "views": []
    },
    "e5d5bb6e312e46f9a987a43e7519da29": {
     "views": []
    },
    "e5d7e04aacb84a149d073f27c2de8920": {
     "views": []
    },
    "e639aab49b8f4c7889199933708a4978": {
     "views": []
    },
    "e63d7424debf4f9ebb6d25892a4c3d3a": {
     "views": [
      {
       "cell_index": 4
      }
     ]
    },
    "e6b0bcd357364af78b0a174510b5f0f2": {
     "views": []
    },
    "e6c357ebecd14533b79416c2949b85c2": {
     "views": []
    },
    "e709f7c1d36448c7b685c67fa382f72e": {
     "views": []
    },
    "e72906e376a7410fb7943597162845e6": {
     "views": []
    },
    "e7cc5124ac1042108e15a6b413b7b7b4": {
     "views": []
    },
    "e7d831a76eda4b84a6fdfa419038f4d1": {
     "views": []
    },
    "e7e5402a8d8148e98467f9642a8dfab0": {
     "views": []
    },
    "e895a20f0e0d4220b540ed8ce3e4c87b": {
     "views": []
    },
    "e90e28b2629a4b3b9558b14979f432de": {
     "views": []
    },
    "e9159b9b05bd42ac9f02b533259ddc4b": {
     "views": []
    },
    "e928f9ddab5546b4838cdcb05360319c": {
     "views": []
    },
    "e9da2f4471684dcb9872b959ce9ac175": {
     "views": []
    },
    "e9dfb84c45084abf8c59ef816f4af80c": {
     "views": []
    },
    "e9e14c1afb304325affaa863d55607d3": {
     "views": []
    },
    "e9ebaa4844364297a6821e9138932ba4": {
     "views": []
    },
    "ea0c073b223b4416a9ed903c6d0e6a60": {
     "views": []
    },
    "ea2c5b5f280e41fd894013a579448d10": {
     "views": []
    },
    "ea442eb49cf140319933e8f8073633d9": {
     "views": []
    },
    "ea59f19c2a184fe39f514b02daf577be": {
     "views": []
    },
    "ea6cb0052a49406fb20aa5b7b78c7aef": {
     "views": []
    },
    "ead327b7cc0e465cbd76c797af8085e7": {
     "views": []
    },
    "eb57c36a55234b35be8bb624d19b21c7": {
     "views": []
    },
    "ec0620a3676e46028dbe664caac41655": {
     "views": [
      {
       "cell_index": 4
      }
     ]
    },
    "ec1be8ac244a4c22917c7f7e18a79025": {
     "views": []
    },
    "ec4e63d8847348b1961431a8b82f8a4b": {
     "views": []
    },
    "ec926d00645b423b8b6a4400285075d7": {
     "views": []
    },
    "ecd9c7b1c40642b39c124ee37fe60b2e": {
     "views": []
    },
    "ece21c5f3a9f469aa638b3928483495f": {
     "views": []
    },
    "ed221ee78aee4970aaa2b6a4543018d2": {
     "views": []
    },
    "ed2cabfc3276471e874d7d77b124f6a5": {
     "views": []
    },
    "ed4ebd11136544d7b27d439a1592283d": {
     "views": []
    },
    "ed976f2dbae5400485c8b8503ffe11a9": {
     "views": [
      {
       "cell_index": 4
      }
     ]
    },
    "edac073323424ed49bd4a769ea21c379": {
     "views": []
    },
    "ee091051011b4f4bbece98ce7af84518": {
     "views": []
    },
    "ee09de7e4208432c85c5900846aaa8fe": {
     "views": []
    },
    "ee3b9461f87645a982e78c57cc04bbf2": {
     "views": []
    },
    "ee572c09d2cb4401b5b231a6b5c7ab48": {
     "views": []
    },
    "eeb80eb0b66248aeb835fef8799c4b73": {
     "views": []
    },
    "ef2aaf6cb6bb41118d8b19538d484466": {
     "views": []
    },
    "ef4ab8032e614195a8a58370cdb71beb": {
     "views": []
    },
    "ef87f9042a0a438599915e82abe04c42": {
     "views": [
      {
       "cell_index": 4
      }
     ]
    },
    "eff88cd5f8884abaa672775b378805f9": {
     "views": []
    },
    "f040d46386204d589b4ea79eee69deae": {
     "views": []
    },
    "f0e6ea9ce51443b483c288f918235e12": {
     "views": []
    },
    "f0eed040bf4246a7a027d507d4fe6a00": {
     "views": []
    },
    "f126c0a623404230927d01dc07c379b0": {
     "views": []
    },
    "f213d819aa1f47ea8ccba064199d4aa0": {
     "views": []
    },
    "f25903d674f148038e4d3dd6532b62e4": {
     "views": []
    },
    "f36a31803b794b169d2ccda02bc31809": {
     "views": []
    },
    "f38f0ee0ba644774b3a07fde0a305011": {
     "views": []
    },
    "f4f7d54b899349639840f81045d239f5": {
     "views": [
      {
       "cell_index": 4
      }
     ]
    },
    "f535025ac92141188de5e478abd74ca3": {
     "views": []
    },
    "f578720379af4298be42844bab01ea2e": {
     "views": []
    },
    "f597eef18ac94a6cbb9ec1a7ba167801": {
     "views": []
    },
    "f63148121b1d445e8b2bfddb9978eab9": {
     "views": []
    },
    "f68c9005d3d141e9aa610603716a6690": {
     "views": []
    },
    "f6954a7006cd450ca24a813254b4e051": {
     "views": []
    },
    "f6cd366d44454f77bf8abd35555c6b9a": {
     "views": []
    },
    "f715e7555bca49bab85fc91d17db0bd2": {
     "views": [
      {
       "cell_index": 4
      }
     ]
    },
    "f773955baf70489ebe060c8fa356388f": {
     "views": []
    },
    "f85eca5784464770880e0d79b3a07ed4": {
     "views": []
    },
    "f9aa9197fc344e20935ed098371d882f": {
     "views": []
    },
    "f9b8b39742f04d0f9fe37095a1334be1": {
     "views": []
    },
    "fa746b774c33489ab7079e94d9309b38": {
     "views": []
    },
    "fa782d7c489f4812845620cf9e763c9c": {
     "views": []
    },
    "fa7d2f22488e4e48aae7ecabad7ee06b": {
     "views": []
    },
    "fa865eb543bf4611adc4e593fdb5285b": {
     "views": []
    },
    "fabab98acb254efda24e4cdb57615073": {
     "views": []
    },
    "fadf59585d0d4ffb8e9da21e0bf38192": {
     "views": []
    },
    "faf0411da45e4674a3d1105d2e5ed4a4": {
     "views": []
    },
    "fb0bab46b6c04d279db82e8d8aa4cd6e": {
     "views": []
    },
    "fb123a12c170475eb783590783184747": {
     "views": []
    },
    "fb1244f5caf64baa931fdd148cb879ba": {
     "views": [
      {
       "cell_index": 4
      }
     ]
    },
    "fbc174aaa17b495daa61bb6077d3e968": {
     "views": []
    },
    "fc371705c6974655b32e6db5068974e6": {
     "views": []
    },
    "fc6316ba70994e65859443cf427eab5a": {
     "views": []
    },
    "fc666b39293d48c78d2dd43d90f752e9": {
     "views": []
    },
    "fc987e58aef940d7a6a485d9912cc04d": {
     "views": []
    },
    "fcc347567d164ae4927ee669f2402c15": {
     "views": []
    },
    "fcf4b5fe2ab34c6a8f0f5d2426de7ddd": {
     "views": []
    },
    "fe6ec24a0b214ed380717496a0f2124b": {
     "views": []
    },
    "fef120da5893451fbb33470e12cad03c": {
     "views": [
      {
       "cell_index": 4
      }
     ]
    },
    "ff30fe0472ef4832aef60cd338b2aac1": {
     "views": []
    },
    "ff49854e65974c0e86d30d60d955de4a": {
     "views": []
    },
    "ff5881e7fec84cc5b98c1c2444e8248f": {
     "views": [
      {
       "cell_index": 4
      }
     ]
    },
    "ff6931ebe8f14c2d82127de9df034b73": {
     "views": [
      {
       "cell_index": 4
      }
     ]
    },
    "ff97d15afb224680b56b10e7bc865f69": {
     "views": []
    },
    "ffbd04c40063496f9fc09a914e1b2980": {
     "views": []
    },
    "ffc5891e1a774775a6d79529290455b6": {
     "views": []
    },
    "ffd0a1617b4c4a9d83aa8b200d265b66": {
     "views": []
    }
   },
   "version": "1.1.2"
  }
 },
 "nbformat": 4,
 "nbformat_minor": 0
}
