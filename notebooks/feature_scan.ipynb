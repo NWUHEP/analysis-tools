{
 "cells": [
  {
   "cell_type": "code",
   "execution_count": 4,
   "metadata": {
    "code_folding": [],
    "collapsed": false
   },
   "outputs": [
    {
     "name": "stdout",
     "output_type": "stream",
     "text": [
      "/home/naodell/work/CMS/amumu\n"
     ]
    }
   ],
   "source": [
    "#imports and config\n",
    "%cd '/home/naodell/work/CMS/amumu'\n",
    "%matplotlib notebook\n",
    "\n",
    "from __future__ import division\n",
    "\n",
    "import os, sys\n",
    "from timeit import default_timer as timer\n",
    "\n",
    "import numpy as np\n",
    "from numpy.polynomial.legendre import legval\n",
    "import pandas as pd\n",
    "import matplotlib.pyplot as plt\n",
    "import matplotlib\n",
    "from scipy.stats import norm, chi2\n",
    "from scipy import integrate\n",
    "from lmfit import Parameter, Parameters\n",
    "from tqdm import tqdm_notebook\n",
    "\n",
    "from nllfitter import Model, NLLFitter\n",
    "import nllfitter.fit_tools as ft\n",
    "import nllfitter.plot_tools as pt\n",
    "\n",
    "pt.set_new_tdr()\n",
    "matplotlib.rcParams['figure.figsize'] = (8,8)"
   ]
  },
  {
   "cell_type": "code",
   "execution_count": 5,
   "metadata": {
    "code_folding": [],
    "collapsed": false
   },
   "outputs": [
    {
     "name": "stderr",
     "output_type": "stream",
     "text": [
      "Loading dataframes: 100%|███████████████| 4.00/4.00 [00:02<00:00, 1.40it/s]\n"
     ]
    }
   ],
   "source": [
    "# get the data and configuration\n",
    "do_data     = False\n",
    "ntuple_dir  = 'data/flatuples/mumu_2012'\n",
    "output_path = 'plots/fits/mumu_2012'\n",
    "datasets    = ['muon_2012A', 'muon_2012B', 'muon_2012C', 'muon_2012D']\n",
    "signal      = 'bprime'\n",
    "feature     = 'dilepton_mass'\n",
    "scan_cut    = 'met_mag > {0}'\n",
    "scan_points = np.linspace(0., 50., 50)\n",
    "cuts        = '(lepton1_pt > 25 and abs(lepton1_eta) < 2.1 \\\n",
    "               and lepton2_pt > 25 and abs(lepton2_eta) < 2.1 \\\n",
    "               and lepton1_q != lepton2_q \\\n",
    "               and 12 < dilepton_mass < 70) \\\n",
    "               and n_bjets > 0 and n_fwdjets == 0 \\\n",
    "               and (n_bjets + n_jets) == 2'\n",
    "\n",
    "               #and ((n_bjets == 1 and n_fwdjets > 0 and n_jets == 0) or \\\n",
    "               #(n_bjets > 0 and n_fwdjets == 0 and (n_bjets + n_jets) == 2))'# \\\n",
    "               #and four_body_delta_phi > 2.5 and met_mag < 40))'\n",
    "\n",
    "\n",
    "data_manager = pt.DataManager(input_dir     = ntuple_dir,\n",
    "                              dataset_names = datasets,\n",
    "                              selection     = 'mumu',\n",
    "                              period        = 2012,\n",
    "                              cuts          = cuts\n",
    "                             )\n",
    "df_data = data_manager.get_dataframe('data')"
   ]
  },
  {
   "cell_type": "code",
   "execution_count": 6,
   "metadata": {
    "code_folding": [],
    "collapsed": false
   },
   "outputs": [
    {
     "name": "stdout",
     "output_type": "stream",
     "text": [
      "\n"
     ]
    }
   ],
   "source": [
    "# set up fitters for data\n",
    "bg_params = Parameters()\n",
    "bg_params.add_many(\n",
    "                   ('a1', 0., True, None, None, None),\n",
    "                   ('a2', 0., True, None, None, None)\n",
    "                  )\n",
    "bg_model  = Model(ft.bg_pdf, bg_params)\n",
    "bg_fitter = NLLFitter(bg_model, verbose=False)\n",
    "\n",
    "#\n",
    "sig_params = Parameters()\n",
    "sig_params.add_many(\n",
    "                    ('A'     , 0.01 , True , 0.0 , 1.  , None) ,\n",
    "                    ('mu'    , 29.  , True , 20. , 50. , None) ,\n",
    "                    ('gamma' , 1.9  , True , 0.1 , 3.  , None)\n",
    "                   )\n",
    "sig_params += bg_params.copy()\n",
    "sig_model  = Model(ft.sig_pdf_alt, sig_params)\n",
    "sig_fitter = NLLFitter(sig_model, verbose=False)\n",
    "\n",
    "z_scores_data = []\n",
    "for x in tqdm_notebook(scan_points,\n",
    "                       desc       = 'scanning',\n",
    "                       unit_scale = True,\n",
    "                       total      = len(scan_points)\n",
    "                      ):\n",
    "\n",
    "    # get z scores from data\n",
    "    data       = df_data.query(scan_cut.format(x))\n",
    "    data       = data[feature].values\n",
    "    bg_result  = bg_fitter.fit(data, calculate_corr=False)\n",
    "    sig_result = sig_fitter.fit(data, calculate_corr=False)\n",
    "    q = 2*(bg_model.calc_nll(data) - sig_model.calc_nll(data))\n",
    "    z_scores_data.append(q)\n"
   ]
  },
  {
   "cell_type": "code",
   "execution_count": 7,
   "metadata": {
    "collapsed": false
   },
   "outputs": [
    {
     "name": "stdout",
     "output_type": "stream",
     "text": [
      "\n"
     ]
    }
   ],
   "source": [
    "### Get the ensemble of MC (generated in mc_mixture.ipynb)\n",
    "input_dir = 'data/mc_mixes_{0}/'.format(signal)\n",
    "mc_mixtures = []\n",
    "for f in tqdm_notebook(os.listdir(input_dir)):\n",
    "    df_mc   = pd.read_csv('{0}/{1}'.format(input_dir, f), sep=' ')\n",
    "    df_mc   = df_mc.query(cuts)\n",
    "    mc_mixtures.append(df_mc)"
   ]
  },
  {
   "cell_type": "code",
   "execution_count": 8,
   "metadata": {
    "collapsed": false
   },
   "outputs": [
    {
     "ename": "SyntaxError",
     "evalue": "invalid syntax (<ipython-input-8-7ef11288b820>, line 32)",
     "output_type": "error",
     "traceback": [
      "\u001b[1;36m  File \u001b[1;32m\"<ipython-input-8-7ef11288b820>\"\u001b[1;36m, line \u001b[1;32m32\u001b[0m\n\u001b[1;33m    ):\u001b[0m\n\u001b[1;37m     ^\u001b[0m\n\u001b[1;31mSyntaxError\u001b[0m\u001b[1;31m:\u001b[0m invalid syntax\n"
     ]
    }
   ],
   "source": [
    "# set up fitters for mc (I would just recycle them but I was getting some strange slow-down and it is easier to just re-initialize them)\n",
    "\n",
    "q_mc = []\n",
    "for df_mc in tqdm_notebook(mc_mixtures[:50]):\n",
    "\n",
    "    bg_params = Parameters()\n",
    "    bg_params.add_many(\n",
    "                       ('a1', 0., True, None, None, None),\n",
    "                       ('a2', 0., True, None, None, None)\n",
    "                      )\n",
    "    bg_model  = Model(ft.bg_pdf, bg_params)\n",
    "    bg_fitter = NLLFitter(bg_model, verbose=False)\n",
    "\n",
    "    #\n",
    "    sig_params = Parameters()\n",
    "    sig_params.add_many(\n",
    "                        ('A'     , 0.01 , True , 0.0 , 1.  , None) ,\n",
    "                        ('mu'    , 29.  , True , 20. , 50. , None) ,\n",
    "                        ('gamma' , 1.9  , True , 0.1 , 3.  , None)\n",
    "                       )\n",
    "    sig_params += bg_params.copy()\n",
    "    sig_model  = Model(ft.sig_pdf_alt, sig_params)\n",
    "    sig_fitter = NLLFitter(sig_model, verbose=False)\n",
    "    \n",
    "    q = [] \n",
    "    m_notebook(scan_points,\n",
    "                           desc       = 'scanning cuts',\n",
    "                           unit_scale = True,\n",
    "                           leave      = False,\n",
    "                           #ncols      = 75,\n",
    "                           total      = len(scan_points)\n",
    "                      ):\n",
    "\n",
    "        # get z scores from mc\n",
    "        df_mc      = df_mc.query(scan_cut.format(x))\n",
    "        mass       = df_mc[feature].values\n",
    "        bg_result  = bg_fitter.fit(mass, calculate_corr=False)\n",
    "        sig_result = sig_fitter.fit(mass, calculate_corr=False)\n",
    "        q0 = 2*(bg_model.calc_nll(mass) - sig_model.calc_nll(mass))\n",
    "        q.append(q0)\n",
    "    q_mc.append(q)\n",
    "q_mc = np.array(q_mc)"
   ]
  },
  {
   "cell_type": "code",
   "execution_count": null,
   "metadata": {
    "collapsed": true
   },
   "outputs": [],
   "source": [
    "# remove scans that result in nan or negative numbers\n",
    "\n",
    "q_mc = q_mc[~np.isnan(q_mc).any(axis=1)]\n",
    "q_mc[q_mc < 0.] = 0.\n",
    "\n",
    "# calculate mean and std\n",
    "z_scores_mc   = np.sqrt(q_mc)\n",
    "z_scores_mean = np.mean(z_scores_mc, axis=0)\n",
    "z_scores_std  = np.std(z_scores_mc, axis=0)"
   ]
  },
  {
   "cell_type": "code",
   "execution_count": null,
   "metadata": {
    "collapsed": false,
    "scrolled": false
   },
   "outputs": [],
   "source": [
    "plt.plot(scan_points, np.sqrt(z_scores_data), 'b-', linewidth=2.)\n",
    "plt.plot(scan_points, z_scores_mean, 'r-', linewidth=2.)\n",
    "plt.fill_between(scan_points, z_scores_mean+z_scores_std, z_scores_mean-z_scores_std,\n",
    "                 color='m',\n",
    "                 alpha=0.25,\n",
    "                 interpolate=True\n",
    "                )\n",
    "\n",
    "plt.legend(['data', 'simulation', r'$\\sf \\pm \\sigma$'], loc=2)\n",
    "\n",
    "plt.xlabel(r'MET')\n",
    "#plt.xlabel(r'$\\sf p_{T}/M_{\\mu\\mu}$')\n",
    "#plt.xlabel(r'$\\sf p_{T,\\,\\mu2}$')\n",
    "plt.ylabel(r'$\\sf z_{0}$')\n",
    "plt.grid()\n",
    "plt.savefig('plots/pt_over_m_significance_{0}.pdf'.format(signal))\n",
    "plt.show()"
   ]
  },
  {
   "cell_type": "code",
   "execution_count": null,
   "metadata": {
    "collapsed": false,
    "scrolled": false
   },
   "outputs": [],
   "source": [
    "# Consider the correlations of the z score at the nominal cut versus the max\n",
    "z0 = z_scores_mc[:,0]\n",
    "z_max = z_scores_mc[:,40]\n",
    "plt.hist(np.abs(z0 - z_max), bins=20, histtype='step', normed=True)\n",
    "plt.xlabel(r'$\\sf |z_{0} - z_{max}|$')\n",
    "plt.grid()\n",
    "plt.savefig('plots/z_diff_validate.pdf')\n",
    "plt.show()"
   ]
  }
 ],
 "metadata": {
  "hide_input": false,
  "kernelspec": {
   "display_name": "Python 2",
   "language": "python",
   "name": "python2"
  },
  "language_info": {
   "codemirror_mode": {
    "name": "ipython",
    "version": 2
   },
   "file_extension": ".py",
   "mimetype": "text/x-python",
   "name": "python",
   "nbconvert_exporter": "python",
   "pygments_lexer": "ipython2",
   "version": "2.7.12"
  },
  "latex_envs": {
   "bibliofile": "biblio.bib",
   "cite_by": "apalike",
   "current_citInitial": 1,
   "eqLabelWithNumbers": true,
   "eqNumInitial": 0
  },
  "toc": {
   "nav_menu": {
    "height": "12px",
    "width": "252px"
   },
   "navigate_menu": true,
   "number_sections": true,
   "sideBar": true,
   "threshold": 4,
   "toc_cell": false,
   "toc_section_display": "block",
   "toc_window_display": false
  },
  "widgets": {
   "state": {
    "2258dc3f58c847f7a1f60641190cc104": {
     "views": []
    },
    "549c256daac142f6bc42f38316c5e893": {
     "views": []
    },
    "699d0cbf279b4182bd985c2a9b518cb0": {
     "views": [
      {
       "cell_index": 3
      }
     ]
    },
    "78f417500b9946f693f725121301ba72": {
     "views": []
    },
    "82788cc0862344e490648e2c1adf70e4": {
     "views": []
    },
    "83a4c92d36a240138ddc9ff6e514f59f": {
     "views": []
    },
    "b50d2439fe4a4efbbc48ff89b3446ba2": {
     "views": [
      {
       "cell_index": 2
      }
     ]
    },
    "b746e29a7bb04a5180f3c52a9a4b5376": {
     "views": []
    },
    "e4e712cd26f340669994d125b0ced1eb": {
     "views": []
    },
    "f220cf7da57d4cdb80e72d9c8e9f14a1": {
     "views": []
    },
    "f996bd49db1a4f1c831102474bda6df0": {
     "views": []
    },
    "fbd1808d53b24d648a03b5b11aca45b2": {
     "views": []
    }
   },
   "version": "1.1.2"
  }
 },
 "nbformat": 4,
 "nbformat_minor": 0
}
