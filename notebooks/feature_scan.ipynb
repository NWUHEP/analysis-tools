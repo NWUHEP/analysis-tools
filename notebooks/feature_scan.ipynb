{
 "cells": [
  {
   "cell_type": "code",
   "execution_count": 9,
   "metadata": {
    "code_folding": [],
    "collapsed": false
   },
   "outputs": [
    {
     "name": "stdout",
     "output_type": "stream",
     "text": [
      "/home/naodell/work/CMS/amumu\n"
     ]
    }
   ],
   "source": [
    "#imports and config\n",
    "%cd '/home/naodell/work/CMS/amumu'\n",
    "%matplotlib notebook\n",
    "\n",
    "from __future__ import division\n",
    "\n",
    "import os, sys\n",
    "from timeit import default_timer as timer\n",
    "\n",
    "import numpy as np\n",
    "from numpy.polynomial.legendre import legval\n",
    "import pandas as pd\n",
    "import matplotlib.pyplot as plt\n",
    "import matplotlib\n",
    "from scipy.stats import norm, chi2\n",
    "from scipy import integrate\n",
    "from lmfit import Parameter, Parameters\n",
    "from tqdm import tqdm_notebook\n",
    "\n",
    "from nllfitter import Model, NLLFitter\n",
    "import nllfitter.fit_tools as ft\n",
    "import nllfitter.plot_tools as pt\n",
    "\n",
    "pt.set_new_tdr()\n",
    "matplotlib.rcParams['figure.figsize'] = (8,8)"
   ]
  },
  {
   "cell_type": "code",
   "execution_count": 2,
   "metadata": {
    "code_folding": [],
    "collapsed": false
   },
   "outputs": [
    {
     "name": "stderr",
     "output_type": "stream",
     "text": [
      "Loading dataframes: 100%|███████████████| 7.00/7.00 [00:04<00:00, 1.52it/s]\n"
     ]
    }
   ],
   "source": [
    "# get the data and configuration\n",
    "do_data     = False\n",
    "period      = 2016\n",
    "ntuple_dir  = 'data/flatuples/mumu_{0}'.format(period)\n",
    "output_path = 'plots/fits/mumu_{0}'.format(period)\n",
    "\n",
    "if period == 2012:\n",
    "    datasets    = ['muon_2012A', 'muon_2012B', 'muon_2012C', 'muon_2012D']\n",
    "elif period == 2016:\n",
    "    datasets = [\n",
    "                'muon_2016B', 'muon_2016C', 'muon_2016D', \n",
    "                'muon_2016E', 'muon_2016F', 'muon_2016G', \n",
    "                'muon_2016H'\n",
    "               ]\n",
    "signal      = 'bprime'\n",
    "feature     = 'dilepton_pt_over_m'\n",
    "scan_cut    = 'dilepton_pt_over_m > {0}'\n",
    "scan_points = np.linspace(0., 3., 50)\n",
    "cuts        = '(lepton1_pt > 25 and abs(lepton1_eta) < 2.1 \\\n",
    "               and lepton2_pt > 25 and abs(lepton2_eta) < 2.1 \\\n",
    "               and lepton1_q != lepton2_q \\\n",
    "               and 12 < dilepton_mass < 70) \\\n",
    "               and ((n_bjets == 1 and n_fwdjets > 0 and n_jets == 0) or \\\n",
    "               (n_bjets > 0 and n_fwdjets == 0 and (n_bjets + n_jets) == 2 \\\n",
    "               and four_body_delta_phi > 2.5 and met_mag < 40))'\n",
    "\n",
    "\n",
    "data_manager = pt.DataManager(input_dir     = ntuple_dir,\n",
    "                              dataset_names = datasets,\n",
    "                              selection     = 'mumu',\n",
    "                              period        = period,\n",
    "                              cuts          = cuts\n",
    "                             )\n",
    "df_data = data_manager.get_dataframe('data')"
   ]
  },
  {
   "cell_type": "code",
   "execution_count": 3,
   "metadata": {
    "code_folding": [],
    "collapsed": false
   },
   "outputs": [
    {
     "name": "stdout",
     "output_type": "stream",
     "text": [
      "\n"
     ]
    }
   ],
   "source": [
    "# set up fitters for data\n",
    "bg_params = Parameters()\n",
    "bg_params.add_many(\n",
    "                   ('a1', 0., True, None, None, None),\n",
    "                   ('a2', 0., True, None, None, None)\n",
    "                  )\n",
    "bg_model  = Model(ft.bg_pdf, bg_params)\n",
    "bg_fitter = NLLFitter(bg_model, verbose=False)\n",
    "\n",
    "#\n",
    "sig_params = Parameters()\n",
    "sig_params.add_many(\n",
    "                    ('A'     , 0.01 , True , 0.0 , 1.  , None) ,\n",
    "                    ('mu'    , 29.  , True , 20. , 50. , None) ,\n",
    "                    ('gamma' , 1.9  , False , 0.1 , 3.  , None)\n",
    "                   )\n",
    "sig_params += bg_params.copy()\n",
    "sig_model  = Model(ft.sig_pdf_alt, sig_params)\n",
    "sig_fitter = NLLFitter(sig_model, verbose=False)\n",
    "\n",
    "z_scores_data = []\n",
    "for x in tqdm_notebook(scan_points,\n",
    "                       desc       = 'scanning',\n",
    "                       unit_scale = True,\n",
    "                       total      = len(scan_points)\n",
    "                      ):\n",
    "    # get z scores from data\n",
    "    data       = df_data.query(scan_cut.format(x))\n",
    "    data       = data[feature].values\n",
    "    bg_result  = bg_fitter.fit(data, calculate_corr=False)\n",
    "    sig_result = sig_fitter.fit(data, calculate_corr=False)\n",
    "    q = 2*(bg_model.calc_nll(data) - sig_model.calc_nll(data))\n",
    "    z_scores_data.append(q)\n"
   ]
  },
  {
   "cell_type": "code",
   "execution_count": 4,
   "metadata": {
    "collapsed": false,
    "scrolled": false
   },
   "outputs": [
    {
     "name": "stdout",
     "output_type": "stream",
     "text": [
      "\n"
     ]
    }
   ],
   "source": [
    "### Get the ensemble of MC (generated in mc_mixture.ipynb)\n",
    "input_dir = 'data/mc_mixes_{0}/'.format(signal)\n",
    "mc_mixtures = []\n",
    "for f in tqdm_notebook(os.listdir(input_dir)):\n",
    "    df_mc   = pd.read_csv('{0}/{1}'.format(input_dir, f), sep=' ')\n",
    "    df_mc   = df_mc.query(cuts)\n",
    "    mc_mixtures.append(df_mc)"
   ]
  },
  {
   "cell_type": "code",
   "execution_count": 5,
   "metadata": {
    "collapsed": false
   },
   "outputs": [
    {
     "name": "stdout",
     "output_type": "stream",
     "text": [
      "\n"
     ]
    }
   ],
   "source": [
    "# set up fitters for mc (I would just recycle them but I was getting some strange slow-down and it is easier to just re-initialize them)\n",
    "\n",
    "q_mc = []\n",
    "for df_mc in tqdm_notebook(mc_mixtures[:50]):\n",
    "\n",
    "    bg_params = Parameters()\n",
    "    bg_params.add_many(\n",
    "                       ('a1', 0., True, None, None, None),\n",
    "                       ('a2', 0., True, None, None, None)\n",
    "                      )\n",
    "    bg_model  = Model(ft.bg_pdf, bg_params)\n",
    "    bg_fitter = NLLFitter(bg_model, verbose=False)\n",
    "\n",
    "    #\n",
    "    sig_params = Parameters()\n",
    "    sig_params.add_many(\n",
    "                        ('A'     , 0.01 , True , 0.0 , 1.  , None) ,\n",
    "                        ('mu'    , 29.  , True , 20. , 50. , None) ,\n",
    "                        ('gamma' , 1.9  , False , 0.1 , 3.  , None)\n",
    "                       )\n",
    "    sig_params += bg_params.copy()\n",
    "    sig_model  = Model(ft.sig_pdf_alt, sig_params)\n",
    "    sig_fitter = NLLFitter(sig_model, verbose=False)\n",
    "    \n",
    "    q = [] \n",
    "    for x in tqdm_notebook(scan_points,\n",
    "                           desc       = 'scanning cuts',\n",
    "                           unit_scale = True,\n",
    "                           leave      = False,\n",
    "                           #ncols      = 75,\n",
    "                           total      = len(scan_points)\n",
    "                      ):\n",
    "\n",
    "        # get z scores from mc\n",
    "        df_mc      = df_mc.query(scan_cut.format(x))\n",
    "        mass       = df_mc[feature].values\n",
    "        bg_result  = bg_fitter.fit(mass, calculate_corr=False)\n",
    "        sig_result = sig_fitter.fit(mass, calculate_corr=False)\n",
    "        q0 = 2*(bg_model.calc_nll(mass) - sig_model.calc_nll(mass))\n",
    "        q.append(q0)\n",
    "    q_mc.append(q)\n",
    "q_mc = np.array(q_mc)"
   ]
  },
  {
   "cell_type": "code",
   "execution_count": 6,
   "metadata": {
    "collapsed": true
   },
   "outputs": [],
   "source": [
    "# remove scans that result in nan or negative numbers\n",
    "\n",
    "q_mc = q_mc[~np.isnan(q_mc).any(axis=1)]\n",
    "q_mc[q_mc < 0.] = 0.\n",
    "\n",
    "# calculate mean and std\n",
    "z_scores_mc   = np.sqrt(q_mc)\n",
    "z_scores_mean = np.mean(z_scores_mc, axis=0)\n",
    "z_scores_std  = np.std(z_scores_mc, axis=0)"
   ]
  },
  {
   "cell_type": "code",
   "execution_count": 7,
   "metadata": {
    "collapsed": false,
    "scrolled": false
   },
   "outputs": [
    {
     "data": {
      "application/javascript": [
       "/* Put everything inside the global mpl namespace */\n",
       "window.mpl = {};\n",
       "\n",
       "mpl.get_websocket_type = function() {\n",
       "    if (typeof(WebSocket) !== 'undefined') {\n",
       "        return WebSocket;\n",
       "    } else if (typeof(MozWebSocket) !== 'undefined') {\n",
       "        return MozWebSocket;\n",
       "    } else {\n",
       "        alert('Your browser does not have WebSocket support.' +\n",
       "              'Please try Chrome, Safari or Firefox ≥ 6. ' +\n",
       "              'Firefox 4 and 5 are also supported but you ' +\n",
       "              'have to enable WebSockets in about:config.');\n",
       "    };\n",
       "}\n",
       "\n",
       "mpl.figure = function(figure_id, websocket, ondownload, parent_element) {\n",
       "    this.id = figure_id;\n",
       "\n",
       "    this.ws = websocket;\n",
       "\n",
       "    this.supports_binary = (this.ws.binaryType != undefined);\n",
       "\n",
       "    if (!this.supports_binary) {\n",
       "        var warnings = document.getElementById(\"mpl-warnings\");\n",
       "        if (warnings) {\n",
       "            warnings.style.display = 'block';\n",
       "            warnings.textContent = (\n",
       "                \"This browser does not support binary websocket messages. \" +\n",
       "                    \"Performance may be slow.\");\n",
       "        }\n",
       "    }\n",
       "\n",
       "    this.imageObj = new Image();\n",
       "\n",
       "    this.context = undefined;\n",
       "    this.message = undefined;\n",
       "    this.canvas = undefined;\n",
       "    this.rubberband_canvas = undefined;\n",
       "    this.rubberband_context = undefined;\n",
       "    this.format_dropdown = undefined;\n",
       "\n",
       "    this.image_mode = 'full';\n",
       "\n",
       "    this.root = $('<div/>');\n",
       "    this._root_extra_style(this.root)\n",
       "    this.root.attr('style', 'display: inline-block');\n",
       "\n",
       "    $(parent_element).append(this.root);\n",
       "\n",
       "    this._init_header(this);\n",
       "    this._init_canvas(this);\n",
       "    this._init_toolbar(this);\n",
       "\n",
       "    var fig = this;\n",
       "\n",
       "    this.waiting = false;\n",
       "\n",
       "    this.ws.onopen =  function () {\n",
       "            fig.send_message(\"supports_binary\", {value: fig.supports_binary});\n",
       "            fig.send_message(\"send_image_mode\", {});\n",
       "            fig.send_message(\"refresh\", {});\n",
       "        }\n",
       "\n",
       "    this.imageObj.onload = function() {\n",
       "            if (fig.image_mode == 'full') {\n",
       "                // Full images could contain transparency (where diff images\n",
       "                // almost always do), so we need to clear the canvas so that\n",
       "                // there is no ghosting.\n",
       "                fig.context.clearRect(0, 0, fig.canvas.width, fig.canvas.height);\n",
       "            }\n",
       "            fig.context.drawImage(fig.imageObj, 0, 0);\n",
       "        };\n",
       "\n",
       "    this.imageObj.onunload = function() {\n",
       "        this.ws.close();\n",
       "    }\n",
       "\n",
       "    this.ws.onmessage = this._make_on_message_function(this);\n",
       "\n",
       "    this.ondownload = ondownload;\n",
       "}\n",
       "\n",
       "mpl.figure.prototype._init_header = function() {\n",
       "    var titlebar = $(\n",
       "        '<div class=\"ui-dialog-titlebar ui-widget-header ui-corner-all ' +\n",
       "        'ui-helper-clearfix\"/>');\n",
       "    var titletext = $(\n",
       "        '<div class=\"ui-dialog-title\" style=\"width: 100%; ' +\n",
       "        'text-align: center; padding: 3px;\"/>');\n",
       "    titlebar.append(titletext)\n",
       "    this.root.append(titlebar);\n",
       "    this.header = titletext[0];\n",
       "}\n",
       "\n",
       "\n",
       "\n",
       "mpl.figure.prototype._canvas_extra_style = function(canvas_div) {\n",
       "\n",
       "}\n",
       "\n",
       "\n",
       "mpl.figure.prototype._root_extra_style = function(canvas_div) {\n",
       "\n",
       "}\n",
       "\n",
       "mpl.figure.prototype._init_canvas = function() {\n",
       "    var fig = this;\n",
       "\n",
       "    var canvas_div = $('<div/>');\n",
       "\n",
       "    canvas_div.attr('style', 'position: relative; clear: both; outline: 0');\n",
       "\n",
       "    function canvas_keyboard_event(event) {\n",
       "        return fig.key_event(event, event['data']);\n",
       "    }\n",
       "\n",
       "    canvas_div.keydown('key_press', canvas_keyboard_event);\n",
       "    canvas_div.keyup('key_release', canvas_keyboard_event);\n",
       "    this.canvas_div = canvas_div\n",
       "    this._canvas_extra_style(canvas_div)\n",
       "    this.root.append(canvas_div);\n",
       "\n",
       "    var canvas = $('<canvas/>');\n",
       "    canvas.addClass('mpl-canvas');\n",
       "    canvas.attr('style', \"left: 0; top: 0; z-index: 0; outline: 0\")\n",
       "\n",
       "    this.canvas = canvas[0];\n",
       "    this.context = canvas[0].getContext(\"2d\");\n",
       "\n",
       "    var rubberband = $('<canvas/>');\n",
       "    rubberband.attr('style', \"position: absolute; left: 0; top: 0; z-index: 1;\")\n",
       "\n",
       "    var pass_mouse_events = true;\n",
       "\n",
       "    canvas_div.resizable({\n",
       "        start: function(event, ui) {\n",
       "            pass_mouse_events = false;\n",
       "        },\n",
       "        resize: function(event, ui) {\n",
       "            fig.request_resize(ui.size.width, ui.size.height);\n",
       "        },\n",
       "        stop: function(event, ui) {\n",
       "            pass_mouse_events = true;\n",
       "            fig.request_resize(ui.size.width, ui.size.height);\n",
       "        },\n",
       "    });\n",
       "\n",
       "    function mouse_event_fn(event) {\n",
       "        if (pass_mouse_events)\n",
       "            return fig.mouse_event(event, event['data']);\n",
       "    }\n",
       "\n",
       "    rubberband.mousedown('button_press', mouse_event_fn);\n",
       "    rubberband.mouseup('button_release', mouse_event_fn);\n",
       "    // Throttle sequential mouse events to 1 every 20ms.\n",
       "    rubberband.mousemove('motion_notify', mouse_event_fn);\n",
       "\n",
       "    rubberband.mouseenter('figure_enter', mouse_event_fn);\n",
       "    rubberband.mouseleave('figure_leave', mouse_event_fn);\n",
       "\n",
       "    canvas_div.on(\"wheel\", function (event) {\n",
       "        event = event.originalEvent;\n",
       "        event['data'] = 'scroll'\n",
       "        if (event.deltaY < 0) {\n",
       "            event.step = 1;\n",
       "        } else {\n",
       "            event.step = -1;\n",
       "        }\n",
       "        mouse_event_fn(event);\n",
       "    });\n",
       "\n",
       "    canvas_div.append(canvas);\n",
       "    canvas_div.append(rubberband);\n",
       "\n",
       "    this.rubberband = rubberband;\n",
       "    this.rubberband_canvas = rubberband[0];\n",
       "    this.rubberband_context = rubberband[0].getContext(\"2d\");\n",
       "    this.rubberband_context.strokeStyle = \"#000000\";\n",
       "\n",
       "    this._resize_canvas = function(width, height) {\n",
       "        // Keep the size of the canvas, canvas container, and rubber band\n",
       "        // canvas in synch.\n",
       "        canvas_div.css('width', width)\n",
       "        canvas_div.css('height', height)\n",
       "\n",
       "        canvas.attr('width', width);\n",
       "        canvas.attr('height', height);\n",
       "\n",
       "        rubberband.attr('width', width);\n",
       "        rubberband.attr('height', height);\n",
       "    }\n",
       "\n",
       "    // Set the figure to an initial 600x600px, this will subsequently be updated\n",
       "    // upon first draw.\n",
       "    this._resize_canvas(600, 600);\n",
       "\n",
       "    // Disable right mouse context menu.\n",
       "    $(this.rubberband_canvas).bind(\"contextmenu\",function(e){\n",
       "        return false;\n",
       "    });\n",
       "\n",
       "    function set_focus () {\n",
       "        canvas.focus();\n",
       "        canvas_div.focus();\n",
       "    }\n",
       "\n",
       "    window.setTimeout(set_focus, 100);\n",
       "}\n",
       "\n",
       "mpl.figure.prototype._init_toolbar = function() {\n",
       "    var fig = this;\n",
       "\n",
       "    var nav_element = $('<div/>')\n",
       "    nav_element.attr('style', 'width: 100%');\n",
       "    this.root.append(nav_element);\n",
       "\n",
       "    // Define a callback function for later on.\n",
       "    function toolbar_event(event) {\n",
       "        return fig.toolbar_button_onclick(event['data']);\n",
       "    }\n",
       "    function toolbar_mouse_event(event) {\n",
       "        return fig.toolbar_button_onmouseover(event['data']);\n",
       "    }\n",
       "\n",
       "    for(var toolbar_ind in mpl.toolbar_items) {\n",
       "        var name = mpl.toolbar_items[toolbar_ind][0];\n",
       "        var tooltip = mpl.toolbar_items[toolbar_ind][1];\n",
       "        var image = mpl.toolbar_items[toolbar_ind][2];\n",
       "        var method_name = mpl.toolbar_items[toolbar_ind][3];\n",
       "\n",
       "        if (!name) {\n",
       "            // put a spacer in here.\n",
       "            continue;\n",
       "        }\n",
       "        var button = $('<button/>');\n",
       "        button.addClass('ui-button ui-widget ui-state-default ui-corner-all ' +\n",
       "                        'ui-button-icon-only');\n",
       "        button.attr('role', 'button');\n",
       "        button.attr('aria-disabled', 'false');\n",
       "        button.click(method_name, toolbar_event);\n",
       "        button.mouseover(tooltip, toolbar_mouse_event);\n",
       "\n",
       "        var icon_img = $('<span/>');\n",
       "        icon_img.addClass('ui-button-icon-primary ui-icon');\n",
       "        icon_img.addClass(image);\n",
       "        icon_img.addClass('ui-corner-all');\n",
       "\n",
       "        var tooltip_span = $('<span/>');\n",
       "        tooltip_span.addClass('ui-button-text');\n",
       "        tooltip_span.html(tooltip);\n",
       "\n",
       "        button.append(icon_img);\n",
       "        button.append(tooltip_span);\n",
       "\n",
       "        nav_element.append(button);\n",
       "    }\n",
       "\n",
       "    var fmt_picker_span = $('<span/>');\n",
       "\n",
       "    var fmt_picker = $('<select/>');\n",
       "    fmt_picker.addClass('mpl-toolbar-option ui-widget ui-widget-content');\n",
       "    fmt_picker_span.append(fmt_picker);\n",
       "    nav_element.append(fmt_picker_span);\n",
       "    this.format_dropdown = fmt_picker[0];\n",
       "\n",
       "    for (var ind in mpl.extensions) {\n",
       "        var fmt = mpl.extensions[ind];\n",
       "        var option = $(\n",
       "            '<option/>', {selected: fmt === mpl.default_extension}).html(fmt);\n",
       "        fmt_picker.append(option)\n",
       "    }\n",
       "\n",
       "    // Add hover states to the ui-buttons\n",
       "    $( \".ui-button\" ).hover(\n",
       "        function() { $(this).addClass(\"ui-state-hover\");},\n",
       "        function() { $(this).removeClass(\"ui-state-hover\");}\n",
       "    );\n",
       "\n",
       "    var status_bar = $('<span class=\"mpl-message\"/>');\n",
       "    nav_element.append(status_bar);\n",
       "    this.message = status_bar[0];\n",
       "}\n",
       "\n",
       "mpl.figure.prototype.request_resize = function(x_pixels, y_pixels) {\n",
       "    // Request matplotlib to resize the figure. Matplotlib will then trigger a resize in the client,\n",
       "    // which will in turn request a refresh of the image.\n",
       "    this.send_message('resize', {'width': x_pixels, 'height': y_pixels});\n",
       "}\n",
       "\n",
       "mpl.figure.prototype.send_message = function(type, properties) {\n",
       "    properties['type'] = type;\n",
       "    properties['figure_id'] = this.id;\n",
       "    this.ws.send(JSON.stringify(properties));\n",
       "}\n",
       "\n",
       "mpl.figure.prototype.send_draw_message = function() {\n",
       "    if (!this.waiting) {\n",
       "        this.waiting = true;\n",
       "        this.ws.send(JSON.stringify({type: \"draw\", figure_id: this.id}));\n",
       "    }\n",
       "}\n",
       "\n",
       "\n",
       "mpl.figure.prototype.handle_save = function(fig, msg) {\n",
       "    var format_dropdown = fig.format_dropdown;\n",
       "    var format = format_dropdown.options[format_dropdown.selectedIndex].value;\n",
       "    fig.ondownload(fig, format);\n",
       "}\n",
       "\n",
       "\n",
       "mpl.figure.prototype.handle_resize = function(fig, msg) {\n",
       "    var size = msg['size'];\n",
       "    if (size[0] != fig.canvas.width || size[1] != fig.canvas.height) {\n",
       "        fig._resize_canvas(size[0], size[1]);\n",
       "        fig.send_message(\"refresh\", {});\n",
       "    };\n",
       "}\n",
       "\n",
       "mpl.figure.prototype.handle_rubberband = function(fig, msg) {\n",
       "    var x0 = msg['x0'];\n",
       "    var y0 = fig.canvas.height - msg['y0'];\n",
       "    var x1 = msg['x1'];\n",
       "    var y1 = fig.canvas.height - msg['y1'];\n",
       "    x0 = Math.floor(x0) + 0.5;\n",
       "    y0 = Math.floor(y0) + 0.5;\n",
       "    x1 = Math.floor(x1) + 0.5;\n",
       "    y1 = Math.floor(y1) + 0.5;\n",
       "    var min_x = Math.min(x0, x1);\n",
       "    var min_y = Math.min(y0, y1);\n",
       "    var width = Math.abs(x1 - x0);\n",
       "    var height = Math.abs(y1 - y0);\n",
       "\n",
       "    fig.rubberband_context.clearRect(\n",
       "        0, 0, fig.canvas.width, fig.canvas.height);\n",
       "\n",
       "    fig.rubberband_context.strokeRect(min_x, min_y, width, height);\n",
       "}\n",
       "\n",
       "mpl.figure.prototype.handle_figure_label = function(fig, msg) {\n",
       "    // Updates the figure title.\n",
       "    fig.header.textContent = msg['label'];\n",
       "}\n",
       "\n",
       "mpl.figure.prototype.handle_cursor = function(fig, msg) {\n",
       "    var cursor = msg['cursor'];\n",
       "    switch(cursor)\n",
       "    {\n",
       "    case 0:\n",
       "        cursor = 'pointer';\n",
       "        break;\n",
       "    case 1:\n",
       "        cursor = 'default';\n",
       "        break;\n",
       "    case 2:\n",
       "        cursor = 'crosshair';\n",
       "        break;\n",
       "    case 3:\n",
       "        cursor = 'move';\n",
       "        break;\n",
       "    }\n",
       "    fig.rubberband_canvas.style.cursor = cursor;\n",
       "}\n",
       "\n",
       "mpl.figure.prototype.handle_message = function(fig, msg) {\n",
       "    fig.message.textContent = msg['message'];\n",
       "}\n",
       "\n",
       "mpl.figure.prototype.handle_draw = function(fig, msg) {\n",
       "    // Request the server to send over a new figure.\n",
       "    fig.send_draw_message();\n",
       "}\n",
       "\n",
       "mpl.figure.prototype.handle_image_mode = function(fig, msg) {\n",
       "    fig.image_mode = msg['mode'];\n",
       "}\n",
       "\n",
       "mpl.figure.prototype.updated_canvas_event = function() {\n",
       "    // Called whenever the canvas gets updated.\n",
       "    this.send_message(\"ack\", {});\n",
       "}\n",
       "\n",
       "// A function to construct a web socket function for onmessage handling.\n",
       "// Called in the figure constructor.\n",
       "mpl.figure.prototype._make_on_message_function = function(fig) {\n",
       "    return function socket_on_message(evt) {\n",
       "        if (evt.data instanceof Blob) {\n",
       "            /* FIXME: We get \"Resource interpreted as Image but\n",
       "             * transferred with MIME type text/plain:\" errors on\n",
       "             * Chrome.  But how to set the MIME type?  It doesn't seem\n",
       "             * to be part of the websocket stream */\n",
       "            evt.data.type = \"image/png\";\n",
       "\n",
       "            /* Free the memory for the previous frames */\n",
       "            if (fig.imageObj.src) {\n",
       "                (window.URL || window.webkitURL).revokeObjectURL(\n",
       "                    fig.imageObj.src);\n",
       "            }\n",
       "\n",
       "            fig.imageObj.src = (window.URL || window.webkitURL).createObjectURL(\n",
       "                evt.data);\n",
       "            fig.updated_canvas_event();\n",
       "            fig.waiting = false;\n",
       "            return;\n",
       "        }\n",
       "        else if (typeof evt.data === 'string' && evt.data.slice(0, 21) == \"data:image/png;base64\") {\n",
       "            fig.imageObj.src = evt.data;\n",
       "            fig.updated_canvas_event();\n",
       "            fig.waiting = false;\n",
       "            return;\n",
       "        }\n",
       "\n",
       "        var msg = JSON.parse(evt.data);\n",
       "        var msg_type = msg['type'];\n",
       "\n",
       "        // Call the  \"handle_{type}\" callback, which takes\n",
       "        // the figure and JSON message as its only arguments.\n",
       "        try {\n",
       "            var callback = fig[\"handle_\" + msg_type];\n",
       "        } catch (e) {\n",
       "            console.log(\"No handler for the '\" + msg_type + \"' message type: \", msg);\n",
       "            return;\n",
       "        }\n",
       "\n",
       "        if (callback) {\n",
       "            try {\n",
       "                // console.log(\"Handling '\" + msg_type + \"' message: \", msg);\n",
       "                callback(fig, msg);\n",
       "            } catch (e) {\n",
       "                console.log(\"Exception inside the 'handler_\" + msg_type + \"' callback:\", e, e.stack, msg);\n",
       "            }\n",
       "        }\n",
       "    };\n",
       "}\n",
       "\n",
       "// from http://stackoverflow.com/questions/1114465/getting-mouse-location-in-canvas\n",
       "mpl.findpos = function(e) {\n",
       "    //this section is from http://www.quirksmode.org/js/events_properties.html\n",
       "    var targ;\n",
       "    if (!e)\n",
       "        e = window.event;\n",
       "    if (e.target)\n",
       "        targ = e.target;\n",
       "    else if (e.srcElement)\n",
       "        targ = e.srcElement;\n",
       "    if (targ.nodeType == 3) // defeat Safari bug\n",
       "        targ = targ.parentNode;\n",
       "\n",
       "    // jQuery normalizes the pageX and pageY\n",
       "    // pageX,Y are the mouse positions relative to the document\n",
       "    // offset() returns the position of the element relative to the document\n",
       "    var x = e.pageX - $(targ).offset().left;\n",
       "    var y = e.pageY - $(targ).offset().top;\n",
       "\n",
       "    return {\"x\": x, \"y\": y};\n",
       "};\n",
       "\n",
       "/*\n",
       " * return a copy of an object with only non-object keys\n",
       " * we need this to avoid circular references\n",
       " * http://stackoverflow.com/a/24161582/3208463\n",
       " */\n",
       "function simpleKeys (original) {\n",
       "  return Object.keys(original).reduce(function (obj, key) {\n",
       "    if (typeof original[key] !== 'object')\n",
       "        obj[key] = original[key]\n",
       "    return obj;\n",
       "  }, {});\n",
       "}\n",
       "\n",
       "mpl.figure.prototype.mouse_event = function(event, name) {\n",
       "    var canvas_pos = mpl.findpos(event)\n",
       "\n",
       "    if (name === 'button_press')\n",
       "    {\n",
       "        this.canvas.focus();\n",
       "        this.canvas_div.focus();\n",
       "    }\n",
       "\n",
       "    var x = canvas_pos.x;\n",
       "    var y = canvas_pos.y;\n",
       "\n",
       "    this.send_message(name, {x: x, y: y, button: event.button,\n",
       "                             step: event.step,\n",
       "                             guiEvent: simpleKeys(event)});\n",
       "\n",
       "    /* This prevents the web browser from automatically changing to\n",
       "     * the text insertion cursor when the button is pressed.  We want\n",
       "     * to control all of the cursor setting manually through the\n",
       "     * 'cursor' event from matplotlib */\n",
       "    event.preventDefault();\n",
       "    return false;\n",
       "}\n",
       "\n",
       "mpl.figure.prototype._key_event_extra = function(event, name) {\n",
       "    // Handle any extra behaviour associated with a key event\n",
       "}\n",
       "\n",
       "mpl.figure.prototype.key_event = function(event, name) {\n",
       "\n",
       "    // Prevent repeat events\n",
       "    if (name == 'key_press')\n",
       "    {\n",
       "        if (event.which === this._key)\n",
       "            return;\n",
       "        else\n",
       "            this._key = event.which;\n",
       "    }\n",
       "    if (name == 'key_release')\n",
       "        this._key = null;\n",
       "\n",
       "    var value = '';\n",
       "    if (event.ctrlKey && event.which != 17)\n",
       "        value += \"ctrl+\";\n",
       "    if (event.altKey && event.which != 18)\n",
       "        value += \"alt+\";\n",
       "    if (event.shiftKey && event.which != 16)\n",
       "        value += \"shift+\";\n",
       "\n",
       "    value += 'k';\n",
       "    value += event.which.toString();\n",
       "\n",
       "    this._key_event_extra(event, name);\n",
       "\n",
       "    this.send_message(name, {key: value,\n",
       "                             guiEvent: simpleKeys(event)});\n",
       "    return false;\n",
       "}\n",
       "\n",
       "mpl.figure.prototype.toolbar_button_onclick = function(name) {\n",
       "    if (name == 'download') {\n",
       "        this.handle_save(this, null);\n",
       "    } else {\n",
       "        this.send_message(\"toolbar_button\", {name: name});\n",
       "    }\n",
       "};\n",
       "\n",
       "mpl.figure.prototype.toolbar_button_onmouseover = function(tooltip) {\n",
       "    this.message.textContent = tooltip;\n",
       "};\n",
       "mpl.toolbar_items = [[\"Home\", \"Reset original view\", \"fa fa-home icon-home\", \"home\"], [\"Back\", \"Back to  previous view\", \"fa fa-arrow-left icon-arrow-left\", \"back\"], [\"Forward\", \"Forward to next view\", \"fa fa-arrow-right icon-arrow-right\", \"forward\"], [\"\", \"\", \"\", \"\"], [\"Pan\", \"Pan axes with left mouse, zoom with right\", \"fa fa-arrows icon-move\", \"pan\"], [\"Zoom\", \"Zoom to rectangle\", \"fa fa-square-o icon-check-empty\", \"zoom\"], [\"\", \"\", \"\", \"\"], [\"Download\", \"Download plot\", \"fa fa-floppy-o icon-save\", \"download\"]];\n",
       "\n",
       "mpl.extensions = [\"eps\", \"jpeg\", \"pdf\", \"png\", \"ps\", \"raw\", \"svg\", \"tif\"];\n",
       "\n",
       "mpl.default_extension = \"png\";var comm_websocket_adapter = function(comm) {\n",
       "    // Create a \"websocket\"-like object which calls the given IPython comm\n",
       "    // object with the appropriate methods. Currently this is a non binary\n",
       "    // socket, so there is still some room for performance tuning.\n",
       "    var ws = {};\n",
       "\n",
       "    ws.close = function() {\n",
       "        comm.close()\n",
       "    };\n",
       "    ws.send = function(m) {\n",
       "        //console.log('sending', m);\n",
       "        comm.send(m);\n",
       "    };\n",
       "    // Register the callback with on_msg.\n",
       "    comm.on_msg(function(msg) {\n",
       "        //console.log('receiving', msg['content']['data'], msg);\n",
       "        // Pass the mpl event to the overriden (by mpl) onmessage function.\n",
       "        ws.onmessage(msg['content']['data'])\n",
       "    });\n",
       "    return ws;\n",
       "}\n",
       "\n",
       "mpl.mpl_figure_comm = function(comm, msg) {\n",
       "    // This is the function which gets called when the mpl process\n",
       "    // starts-up an IPython Comm through the \"matplotlib\" channel.\n",
       "\n",
       "    var id = msg.content.data.id;\n",
       "    // Get hold of the div created by the display call when the Comm\n",
       "    // socket was opened in Python.\n",
       "    var element = $(\"#\" + id);\n",
       "    var ws_proxy = comm_websocket_adapter(comm)\n",
       "\n",
       "    function ondownload(figure, format) {\n",
       "        window.open(figure.imageObj.src);\n",
       "    }\n",
       "\n",
       "    var fig = new mpl.figure(id, ws_proxy,\n",
       "                           ondownload,\n",
       "                           element.get(0));\n",
       "\n",
       "    // Call onopen now - mpl needs it, as it is assuming we've passed it a real\n",
       "    // web socket which is closed, not our websocket->open comm proxy.\n",
       "    ws_proxy.onopen();\n",
       "\n",
       "    fig.parent_element = element.get(0);\n",
       "    fig.cell_info = mpl.find_output_cell(\"<div id='\" + id + \"'></div>\");\n",
       "    if (!fig.cell_info) {\n",
       "        console.error(\"Failed to find cell for figure\", id, fig);\n",
       "        return;\n",
       "    }\n",
       "\n",
       "    var output_index = fig.cell_info[2]\n",
       "    var cell = fig.cell_info[0];\n",
       "\n",
       "};\n",
       "\n",
       "mpl.figure.prototype.handle_close = function(fig, msg) {\n",
       "    fig.root.unbind('remove')\n",
       "\n",
       "    // Update the output cell to use the data from the current canvas.\n",
       "    fig.push_to_output();\n",
       "    var dataURL = fig.canvas.toDataURL();\n",
       "    // Re-enable the keyboard manager in IPython - without this line, in FF,\n",
       "    // the notebook keyboard shortcuts fail.\n",
       "    IPython.keyboard_manager.enable()\n",
       "    $(fig.parent_element).html('<img src=\"' + dataURL + '\">');\n",
       "    fig.close_ws(fig, msg);\n",
       "}\n",
       "\n",
       "mpl.figure.prototype.close_ws = function(fig, msg){\n",
       "    fig.send_message('closing', msg);\n",
       "    // fig.ws.close()\n",
       "}\n",
       "\n",
       "mpl.figure.prototype.push_to_output = function(remove_interactive) {\n",
       "    // Turn the data on the canvas into data in the output cell.\n",
       "    var dataURL = this.canvas.toDataURL();\n",
       "    this.cell_info[1]['text/html'] = '<img src=\"' + dataURL + '\">';\n",
       "}\n",
       "\n",
       "mpl.figure.prototype.updated_canvas_event = function() {\n",
       "    // Tell IPython that the notebook contents must change.\n",
       "    IPython.notebook.set_dirty(true);\n",
       "    this.send_message(\"ack\", {});\n",
       "    var fig = this;\n",
       "    // Wait a second, then push the new image to the DOM so\n",
       "    // that it is saved nicely (might be nice to debounce this).\n",
       "    setTimeout(function () { fig.push_to_output() }, 1000);\n",
       "}\n",
       "\n",
       "mpl.figure.prototype._init_toolbar = function() {\n",
       "    var fig = this;\n",
       "\n",
       "    var nav_element = $('<div/>')\n",
       "    nav_element.attr('style', 'width: 100%');\n",
       "    this.root.append(nav_element);\n",
       "\n",
       "    // Define a callback function for later on.\n",
       "    function toolbar_event(event) {\n",
       "        return fig.toolbar_button_onclick(event['data']);\n",
       "    }\n",
       "    function toolbar_mouse_event(event) {\n",
       "        return fig.toolbar_button_onmouseover(event['data']);\n",
       "    }\n",
       "\n",
       "    for(var toolbar_ind in mpl.toolbar_items){\n",
       "        var name = mpl.toolbar_items[toolbar_ind][0];\n",
       "        var tooltip = mpl.toolbar_items[toolbar_ind][1];\n",
       "        var image = mpl.toolbar_items[toolbar_ind][2];\n",
       "        var method_name = mpl.toolbar_items[toolbar_ind][3];\n",
       "\n",
       "        if (!name) { continue; };\n",
       "\n",
       "        var button = $('<button class=\"btn btn-default\" href=\"#\" title=\"' + name + '\"><i class=\"fa ' + image + ' fa-lg\"></i></button>');\n",
       "        button.click(method_name, toolbar_event);\n",
       "        button.mouseover(tooltip, toolbar_mouse_event);\n",
       "        nav_element.append(button);\n",
       "    }\n",
       "\n",
       "    // Add the status bar.\n",
       "    var status_bar = $('<span class=\"mpl-message\" style=\"text-align:right; float: right;\"/>');\n",
       "    nav_element.append(status_bar);\n",
       "    this.message = status_bar[0];\n",
       "\n",
       "    // Add the close button to the window.\n",
       "    var buttongrp = $('<div class=\"btn-group inline pull-right\"></div>');\n",
       "    var button = $('<button class=\"btn btn-mini btn-primary\" href=\"#\" title=\"Stop Interaction\"><i class=\"fa fa-power-off icon-remove icon-large\"></i></button>');\n",
       "    button.click(function (evt) { fig.handle_close(fig, {}); } );\n",
       "    button.mouseover('Stop Interaction', toolbar_mouse_event);\n",
       "    buttongrp.append(button);\n",
       "    var titlebar = this.root.find($('.ui-dialog-titlebar'));\n",
       "    titlebar.prepend(buttongrp);\n",
       "}\n",
       "\n",
       "mpl.figure.prototype._root_extra_style = function(el){\n",
       "    var fig = this\n",
       "    el.on(\"remove\", function(){\n",
       "\tfig.close_ws(fig, {});\n",
       "    });\n",
       "}\n",
       "\n",
       "mpl.figure.prototype._canvas_extra_style = function(el){\n",
       "    // this is important to make the div 'focusable\n",
       "    el.attr('tabindex', 0)\n",
       "    // reach out to IPython and tell the keyboard manager to turn it's self\n",
       "    // off when our div gets focus\n",
       "\n",
       "    // location in version 3\n",
       "    if (IPython.notebook.keyboard_manager) {\n",
       "        IPython.notebook.keyboard_manager.register_events(el);\n",
       "    }\n",
       "    else {\n",
       "        // location in version 2\n",
       "        IPython.keyboard_manager.register_events(el);\n",
       "    }\n",
       "\n",
       "}\n",
       "\n",
       "mpl.figure.prototype._key_event_extra = function(event, name) {\n",
       "    var manager = IPython.notebook.keyboard_manager;\n",
       "    if (!manager)\n",
       "        manager = IPython.keyboard_manager;\n",
       "\n",
       "    // Check for shift+enter\n",
       "    if (event.shiftKey && event.which == 13) {\n",
       "        this.canvas_div.blur();\n",
       "        event.shiftKey = false;\n",
       "        // Send a \"J\" for go to next cell\n",
       "        event.which = 74;\n",
       "        event.keyCode = 74;\n",
       "        manager.command_mode();\n",
       "        manager.handle_keydown(event);\n",
       "    }\n",
       "}\n",
       "\n",
       "mpl.figure.prototype.handle_save = function(fig, msg) {\n",
       "    fig.ondownload(fig, null);\n",
       "}\n",
       "\n",
       "\n",
       "mpl.find_output_cell = function(html_output) {\n",
       "    // Return the cell and output element which can be found *uniquely* in the notebook.\n",
       "    // Note - this is a bit hacky, but it is done because the \"notebook_saving.Notebook\"\n",
       "    // IPython event is triggered only after the cells have been serialised, which for\n",
       "    // our purposes (turning an active figure into a static one), is too late.\n",
       "    var cells = IPython.notebook.get_cells();\n",
       "    var ncells = cells.length;\n",
       "    for (var i=0; i<ncells; i++) {\n",
       "        var cell = cells[i];\n",
       "        if (cell.cell_type === 'code'){\n",
       "            for (var j=0; j<cell.output_area.outputs.length; j++) {\n",
       "                var data = cell.output_area.outputs[j];\n",
       "                if (data.data) {\n",
       "                    // IPython >= 3 moved mimebundle to data attribute of output\n",
       "                    data = data.data;\n",
       "                }\n",
       "                if (data['text/html'] == html_output) {\n",
       "                    return [cell, data, j];\n",
       "                }\n",
       "            }\n",
       "        }\n",
       "    }\n",
       "}\n",
       "\n",
       "// Register the function which deals with the matplotlib target/channel.\n",
       "// The kernel may be null if the page has been refreshed.\n",
       "if (IPython.notebook.kernel != null) {\n",
       "    IPython.notebook.kernel.comm_manager.register_target('matplotlib', mpl.mpl_figure_comm);\n",
       "}\n"
      ],
      "text/plain": [
       "<IPython.core.display.Javascript object>"
      ]
     },
     "metadata": {},
     "output_type": "display_data"
    },
    {
     "data": {
      "text/html": [
       "<img src=\"data:image/png;base64,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\">"
      ],
      "text/plain": [
       "<IPython.core.display.HTML object>"
      ]
     },
     "metadata": {},
     "output_type": "display_data"
    }
   ],
   "source": [
    "plt.plot(scan_points, np.sqrt(z_scores_data), 'b-', linewidth=2.)\n",
    "plt.plot(scan_points, z_scores_mean, 'r-', linewidth=2.)\n",
    "plt.fill_between(scan_points, z_scores_mean+z_scores_std, z_scores_mean-z_scores_std,\n",
    "                 color='m',\n",
    "                 alpha=0.25,\n",
    "                 interpolate=True\n",
    "                )\n",
    "\n",
    "plt.legend(['data', 'simulation', r'$\\sf \\pm \\sigma$'], loc=2)\n",
    "\n",
    "#plt.xlabel(r'MET')\n",
    "plt.xlabel(r'$\\sf p_{T}/M_{\\mu\\mu}$')\n",
    "#plt.xlabel(r'$\\sf p_{T,\\,\\mu2}$')\n",
    "plt.ylabel(r'$\\sf z_{0}$')\n",
    "plt.grid()\n",
    "plt.savefig('plots/pt_over_m_significance_{0}.pdf'.format(signal))\n",
    "plt.show()"
   ]
  },
  {
   "cell_type": "code",
   "execution_count": 8,
   "metadata": {
    "collapsed": false,
    "scrolled": false
   },
   "outputs": [],
   "source": [
    "# Consider the correlations of the z score at the nominal cut versus the max\n",
    "z0 = z_scores_mc[:,0]\n",
    "z_max = z_scores_mc[:,40]\n",
    "plt.hist(np.abs(z0 - z_max), bins=20, histtype='step', normed=True)\n",
    "plt.xlabel(r'$\\sf |z_{0} - z_{max}|$')\n",
    "plt.grid()\n",
    "plt.savefig('plots/z_diff_validate.pdf')\n",
    "plt.show()"
   ]
  }
 ],
 "metadata": {
  "hide_input": false,
  "kernelspec": {
   "display_name": "Python 2",
   "language": "python",
   "name": "python2"
  },
  "language_info": {
   "codemirror_mode": {
    "name": "ipython",
    "version": 2
   },
   "file_extension": ".py",
   "mimetype": "text/x-python",
   "name": "python",
   "nbconvert_exporter": "python",
   "pygments_lexer": "ipython2",
   "version": "2.7.12"
  },
  "latex_envs": {
   "bibliofile": "biblio.bib",
   "cite_by": "apalike",
   "current_citInitial": 1,
   "eqLabelWithNumbers": true,
   "eqNumInitial": 0
  },
  "toc": {
   "nav_menu": {
    "height": "12px",
    "width": "252px"
   },
   "navigate_menu": true,
   "number_sections": true,
   "sideBar": true,
   "threshold": 4,
   "toc_cell": false,
   "toc_section_display": "block",
   "toc_window_display": false
  },
  "widgets": {
   "state": {
    "008b558515c04bae8d936f67e7041a69": {
     "views": []
    },
    "00d6bd26e86f4e088ba7a7a33051e1a0": {
     "views": [
      {
       "cell_index": 4
      }
     ]
    },
    "017a718a731645b4acf0f5212c38abe7": {
     "views": [
      {
       "cell_index": 4
      }
     ]
    },
    "0255c0f518304ebcaa6779d40ff86271": {
     "views": [
      {
       "cell_index": 4
      }
     ]
    },
    "034ce9652d1b4e75bf9fd3e71fbb771c": {
     "views": []
    },
    "0503d039d08d4c43af0956ef074896cd": {
     "views": []
    },
    "065eaa2fccdc4ea4ac2be4e91a6a4e26": {
     "views": []
    },
    "06af83458b2f4852b2d0c4a4c229ffc7": {
     "views": [
      {
       "cell_index": 4
      }
     ]
    },
    "08c2be08f8614d9dab46a8b6d7d2ee3d": {
     "views": [
      {
       "cell_index": 4
      }
     ]
    },
    "08c94f1fb4e640529781266133f217b7": {
     "views": []
    },
    "0aa305f0a94f42ea8d85d6479005e378": {
     "views": []
    },
    "0cedb61c38814dc3ad55aae7219a01a3": {
     "views": [
      {
       "cell_index": 4
      }
     ]
    },
    "0d16245a1dbd40e79d81be55a0f6ab73": {
     "views": []
    },
    "0dd4b8a80cfc466884ac0de7c7b9038a": {
     "views": [
      {
       "cell_index": 4
      }
     ]
    },
    "0e222f35c4fb44df8c140d304098c34c": {
     "views": []
    },
    "0eb1194e42fb47868ebd14e038bb3d7e": {
     "views": []
    },
    "0f2f53175e68446f81dfa9c4af8648a0": {
     "views": [
      {
       "cell_index": 4
      }
     ]
    },
    "119469060cdd46beade46fc23c8d221d": {
     "views": []
    },
    "11deac9703634e77a1dd9a57d91ad5c4": {
     "views": []
    },
    "11e887fcfa10465eabfd4682826344bc": {
     "views": [
      {
       "cell_index": 4
      }
     ]
    },
    "1360e83180be43f0a1654231ee6f646b": {
     "views": []
    },
    "13d4b7b7908b4db69520d5f90a1e3725": {
     "views": []
    },
    "13e4fc0c92c74065a678a39aa1fb8772": {
     "views": []
    },
    "14de286d4cc349ddafe603d179b6ba57": {
     "views": []
    },
    "15bdac49251c4695ae6bafc5c53bba9c": {
     "views": []
    },
    "161b2e02cab948ddbd32e8d98f88840f": {
     "views": []
    },
    "175b941c301e44abaa8ae044aead7251": {
     "views": []
    },
    "1836539fbb1248bf8d69fcf8d0d63dec": {
     "views": []
    },
    "18907f241995470cb77cc4e5caa7f548": {
     "views": []
    },
    "18b0f705eec9484eb82d2c239fe058be": {
     "views": []
    },
    "18d4dedb09ee46e39a1637a779a8901b": {
     "views": [
      {
       "cell_index": 4
      }
     ]
    },
    "19593e4bd6704b709693ba95395b9d41": {
     "views": []
    },
    "1ab94f9aa5b04e9bac57a6850e8707fc": {
     "views": []
    },
    "1b202da7187a4d9ab02905caaa8a3d0b": {
     "views": [
      {
       "cell_index": 4
      }
     ]
    },
    "1ce6480650be4b27bc1e30516a51199f": {
     "views": []
    },
    "1fc1cd5995774a098399b33d4bf1b2c6": {
     "views": []
    },
    "204df39a72c845f497daec9d9238999b": {
     "views": []
    },
    "206da68727ae4f90bb0ce69792d7b9f6": {
     "views": []
    },
    "20aeafd0ea3d41e5b458717904ac5d8e": {
     "views": []
    },
    "20b1f36ac1d3403da595285a2a70047a": {
     "views": []
    },
    "20cc15d1806e4db9854adead92981e0a": {
     "views": []
    },
    "21926b691a2d4abb9f64982a8de74414": {
     "views": []
    },
    "22502d340b2b44789029bea87274246e": {
     "views": []
    },
    "22ab94ebb8844c61876bbba9fad30060": {
     "views": []
    },
    "251c1938f5a14080b788c0733276288d": {
     "views": []
    },
    "26b490c5263e4b9ebc19b9370bc2497c": {
     "views": []
    },
    "26e9df0a6f004e2fbe075759d4529c44": {
     "views": []
    },
    "284c6c9149164a8293fb20d7ef0a8fbc": {
     "views": [
      {
       "cell_index": 4
      }
     ]
    },
    "29b0be70721544709534b6e3d1732dac": {
     "views": [
      {
       "cell_index": 4
      }
     ]
    },
    "2a0ee0d8c2634356883902827c38852a": {
     "views": [
      {
       "cell_index": 4
      }
     ]
    },
    "2b1b03bcef034a1783e982d0f78e801a": {
     "views": []
    },
    "2b5f0a684602439f862ea8be0ec26388": {
     "views": []
    },
    "2b9a5825a75748a2a54a7abbbcf99ed6": {
     "views": []
    },
    "2bd217ae2d1044c6a0726dc7cd7bf137": {
     "views": [
      {
       "cell_index": 4
      }
     ]
    },
    "2d332b02010f4cc1b3b4aeb648fa60e8": {
     "views": []
    },
    "2eb0e45bf896406ca9dd1023c6e8baac": {
     "views": []
    },
    "30b2d0eb51b849069e49f4dd6031eb6f": {
     "views": []
    },
    "30fbd81db4064c8aa5f54d3caf137d71": {
     "views": []
    },
    "321638818f85454f90f2dd9ee5b1cf81": {
     "views": []
    },
    "36a3f6ca5c9d48819c79b4cc3ad652a3": {
     "views": []
    },
    "37a4ade2edb64ce780e514d16deca595": {
     "views": [
      {
       "cell_index": 4
      }
     ]
    },
    "394b1f58a12348a780ab3ff3351bac91": {
     "views": []
    },
    "395bb113d56844a29c503f8ca6bee783": {
     "views": []
    },
    "39bfab8f2db24f0e8104823015572a5a": {
     "views": []
    },
    "39f96cb468374528a5af90faee298f6c": {
     "views": []
    },
    "3ac54f2b26f4443bb875cb8854336503": {
     "views": []
    },
    "3afb00b1558d43eb8324235bfda601e1": {
     "views": []
    },
    "3ca02a4afdb0453998576b0ea67e2db5": {
     "views": []
    },
    "3d3cfa1e036b4c49a50019d8b96369d7": {
     "views": []
    },
    "3d4be9363f36464e99af1bd60e2b3eda": {
     "views": []
    },
    "3f3605cdd74c4fab96c7a0eb208ca2a4": {
     "views": []
    },
    "3fc76532c2184f209ae7df6ba5d0fc5e": {
     "views": []
    },
    "3fed32f5522b4cceb8ec092b8d95aa26": {
     "views": [
      {
       "cell_index": 4
      }
     ]
    },
    "3ff33215403a4e9db9abcf91dfdc75e4": {
     "views": []
    },
    "421b98b91d2142e2ba602aecb49741bb": {
     "views": [
      {
       "cell_index": 4
      }
     ]
    },
    "4229416da9034be394a624ccbb78a4d2": {
     "views": []
    },
    "43686ca5e4cb4cfe82f1bbc7b2a5cdf8": {
     "views": []
    },
    "44d5e491d9d94ce18d21a9523bee5b0f": {
     "views": []
    },
    "45adc4af120440f1827d92d68ec8c7cc": {
     "views": []
    },
    "485989171b494b12b079af921488780d": {
     "views": []
    },
    "4a2324bfeba14bf1b289053f96bd8108": {
     "views": []
    },
    "4a6a0d655dc04e1e85fcb5394574b7a2": {
     "views": []
    },
    "4aea17f0dc9e4884ad61a96271a56553": {
     "views": []
    },
    "4bac448c970d4fecad04d60c10d6c0a6": {
     "views": []
    },
    "4bd4397952664c2288144b07c5c21b69": {
     "views": []
    },
    "4c4d770ef33449ce9dac2a1b1660ae40": {
     "views": [
      {
       "cell_index": 4
      }
     ]
    },
    "4c6bba9ebf764ea29cbe30a30d630766": {
     "views": [
      {
       "cell_index": 4
      }
     ]
    },
    "4c788098608645fd9fece929c2cff646": {
     "views": []
    },
    "4d341600bd094367aa852f3f32606cab": {
     "views": []
    },
    "51540ef9e23a4beabd17781c2b9dcc37": {
     "views": []
    },
    "5161c6a8c4ad472a8b48dfca688c2797": {
     "views": [
      {
       "cell_index": 4
      }
     ]
    },
    "527158c98e654089a1816993462a9f43": {
     "views": []
    },
    "5296986edf9e43ae828d19cc2ca02a35": {
     "views": []
    },
    "5380a2ba020140ec938b53692210b054": {
     "views": []
    },
    "538da47c59ab4056bb079d23baa5899f": {
     "views": []
    },
    "54d185c2a68e4a82bcb4a42444fed2f8": {
     "views": []
    },
    "55748c51bb484d3cae28912638727c3d": {
     "views": [
      {
       "cell_index": 4
      }
     ]
    },
    "55ae6bf419ce4fe18a2ab7db8ec9edaf": {
     "views": []
    },
    "565a15b925884345acd42a09fcac05ab": {
     "views": []
    },
    "56d8f1f0ea5f49b29ac80a39917c0b9d": {
     "views": []
    },
    "5916fe101c7b4f4a8ed88036e174265c": {
     "views": []
    },
    "5b501f7422f64c67a3d76ca5d5f84694": {
     "views": []
    },
    "5c500dd05b4c487ea55a7e5e9ae87c3c": {
     "views": []
    },
    "5d27dc553113461e978840d6fbd50b93": {
     "views": []
    },
    "5dfa23517bfd4faba2444ccb6e5090c5": {
     "views": [
      {
       "cell_index": 4
      }
     ]
    },
    "5e82d8205d684d968104faffde18475c": {
     "views": []
    },
    "60c00577dfeb4df1b4b6afebc5bbcc30": {
     "views": []
    },
    "6144959b663748879b1d5b80223ca426": {
     "views": []
    },
    "62a38959757b4f3eb73b2737646a672d": {
     "views": []
    },
    "62d8983283c24cf7865ba5e898a034e4": {
     "views": []
    },
    "633514784ae64c31a4b091743c9bc3e8": {
     "views": []
    },
    "6347fe2b69d34707b9cbab40b39379ef": {
     "views": []
    },
    "6400598366fc4a24a6885cd3ce1b3cc2": {
     "views": []
    },
    "64a0d811c85b435f9684a57b5dfbf27d": {
     "views": []
    },
    "64d432a643004b089558e5a722d10451": {
     "views": [
      {
       "cell_index": 4
      }
     ]
    },
    "65ee5689c5264d7b97ca7ff412d61d39": {
     "views": []
    },
    "66d3b430a89b4a199b20c6b34b433b0e": {
     "views": []
    },
    "67375c0866644341a1cc8e65ede0bab9": {
     "views": []
    },
    "6770b4878b0b46c587e4bba43f3168ca": {
     "views": []
    },
    "677daadb5bd94087acd5a680ec05ff66": {
     "views": []
    },
    "6792834f419645d1aec3cd1eea47aab0": {
     "views": []
    },
    "6799898405ec46278cb71ffd425effb4": {
     "views": []
    },
    "682cabfd7ab246eda4d3564c11c7e1f1": {
     "views": []
    },
    "6961b43c72144ec2a1c5ac61f49824cb": {
     "views": [
      {
       "cell_index": 4
      }
     ]
    },
    "69af85a68df3402b873c39c8ce0a6788": {
     "views": []
    },
    "6b34bae4ff464f65b1696d64f15f4c40": {
     "views": []
    },
    "6b6c2b5297664ab0bea9f2947434864c": {
     "views": []
    },
    "6bd4964e90d94ca8a5209bcedb956a2c": {
     "views": []
    },
    "6cb322c5f9004869973edaa1682cff8a": {
     "views": []
    },
    "6e6ed462c3db4f2caf395d36eb07afe2": {
     "views": []
    },
    "6ec4b3d2ad2a443097b0757f59619a30": {
     "views": []
    },
    "6f538ccbf9a04cbabf4517a4566f1ed2": {
     "views": []
    },
    "6f9bb15876f94f0985406e85d3098f1f": {
     "views": []
    },
    "715684b953794307a096ec3b18d5043a": {
     "views": []
    },
    "717f164c9ed04d99a947bf79a9b6eead": {
     "views": []
    },
    "724c383be97d49af9e373afbf86235bf": {
     "views": []
    },
    "727996b1f241450c92e7644e7e3f7e47": {
     "views": []
    },
    "728450c2ab11411186185fe561e2b187": {
     "views": []
    },
    "7432d52aa4b04aa0ad67a28780bc74b2": {
     "views": [
      {
       "cell_index": 4
      }
     ]
    },
    "745af3c1e8c84b7ca8b93ded5e1e6f7c": {
     "views": []
    },
    "74b046c26b834a5ea44ea8a0b5dc5f5a": {
     "views": []
    },
    "75063180736449da8a222a4d7f0a8cce": {
     "views": []
    },
    "750f1305a6ed4ba3aecbbeb32e4c9865": {
     "views": []
    },
    "7573c67ec6424669a27f1e4e573fd507": {
     "views": []
    },
    "7641afefa28f4b90b93a08dbb469a2cb": {
     "views": []
    },
    "7668b7c092844512931583445c5e0374": {
     "views": []
    },
    "789d442ab1c5431180e2ba51a69b082c": {
     "views": []
    },
    "798e397d18d14d33bd92487c46823196": {
     "views": []
    },
    "7a4184fd1fee4b86825485ca35083983": {
     "views": [
      {
       "cell_index": 4
      }
     ]
    },
    "7b10159ca919454c96f9a60d626a5ef7": {
     "views": []
    },
    "7e011ceed7734d14b742b02c041c56d2": {
     "views": []
    },
    "7e2bea397c604beb86c065f52bdaceaa": {
     "views": []
    },
    "7f1c0b055a5c460aa2e68656ee89adac": {
     "views": []
    },
    "7fa13c4bd0eb4a4b8c70d1f0434b68c9": {
     "views": []
    },
    "821a0cf21f6d4125a9f4fe7dce6f104e": {
     "views": []
    },
    "82b0ee3bb52b4b839db71c7310b7ca77": {
     "views": []
    },
    "82bcbd3faaa54bfaa15233eccb832994": {
     "views": []
    },
    "82e8c65646e0431683b9e6c9a0c5110c": {
     "views": []
    },
    "83c7b4c82a844428afca7ec0ee04e1a9": {
     "views": []
    },
    "83cf998a8ffa4dc6983e7b5ce2ff7a3b": {
     "views": []
    },
    "8411b3a8424942bdae02129c8bdd67bb": {
     "views": []
    },
    "8422982cdb9b468b82e7fda1cd0ee7cd": {
     "views": []
    },
    "85da883c5dc74fc5adf35335f3591d0f": {
     "views": []
    },
    "860e50db1a9049fc8f71417d9f14533e": {
     "views": []
    },
    "8692694adb8e4ffe839ab59a1024321b": {
     "views": [
      {
       "cell_index": 4
      }
     ]
    },
    "87765e1d753a4ec7bbb328869a3a9f57": {
     "views": []
    },
    "87880ca99c044533856c5cdef067efca": {
     "views": []
    },
    "89e303d9c3aa4059a06ed6ef8972b853": {
     "views": [
      {
       "cell_index": 4
      }
     ]
    },
    "8a3f8a607f81497ab0cdf89719abc9c9": {
     "views": []
    },
    "8ac3cf64f13f49358ef501f89d102f71": {
     "views": [
      {
       "cell_index": 4
      }
     ]
    },
    "8afd963d647447f9b78892e8b80be35c": {
     "views": []
    },
    "8bf2f868f45f41a4a5d2c0c22d77f521": {
     "views": []
    },
    "8c7a257142ac4380a2d6fb5ce8394687": {
     "views": []
    },
    "8d3d54563f2d44b58cfd13f98dc4a353": {
     "views": []
    },
    "8e25337cab4443b3a0b162d1b8301fa5": {
     "views": []
    },
    "8f629c50ac9c4591a0dbc772e93ee9ab": {
     "views": []
    },
    "8fa6306822394f55bd2036eee29264a8": {
     "views": []
    },
    "8fbaeaf5dbd4495b8eefaa5467c53c46": {
     "views": []
    },
    "8fdd4fe52ec5471fa6593b28fd0b92ec": {
     "views": []
    },
    "90db299e80e64cda99e4da99f961f093": {
     "views": []
    },
    "90f0456c41ca471e841559b4ecc68f9e": {
     "views": []
    },
    "9361d3b3f3aa4266be3a22738b3afe59": {
     "views": [
      {
       "cell_index": 4
      }
     ]
    },
    "939d476aa8a14315b9904fde259d54fe": {
     "views": []
    },
    "93ad5d8b42bb4e6b9a7662fb6bd073a2": {
     "views": []
    },
    "941cd6bf69d043218bae8d82c53892b4": {
     "views": []
    },
    "947dcdd2d9a0412591dd3ddde637e830": {
     "views": []
    },
    "95c9d5d10da34e889419a1e920f38a3d": {
     "views": []
    },
    "96cc8caed3f649e9b22f917e4a661ae8": {
     "views": []
    },
    "98c352fda8b340b2bde0d6e7fad80eec": {
     "views": []
    },
    "9a441a888aab40dba07c8125811422cc": {
     "views": []
    },
    "9ae9134e4a884418b396bcfca2d101e2": {
     "views": [
      {
       "cell_index": 2
      }
     ]
    },
    "9d72b88adcf4468883feda6b6b1407c8": {
     "views": []
    },
    "9ef9d64bdb3441c9aecdc4e783b22ca4": {
     "views": []
    },
    "9f53314d0a6b433688650651017b6b89": {
     "views": [
      {
       "cell_index": 4
      }
     ]
    },
    "9f668540fa6248aaaad9382929d0393d": {
     "views": []
    },
    "a01b89e617cd4fa18706b9a882f8ac43": {
     "views": []
    },
    "a0a1194069bb40b489bd65199838093b": {
     "views": []
    },
    "a15ff57c768f4c75a132c137a54e647c": {
     "views": []
    },
    "a208b0ca298c4b4790eb3dff99c948cc": {
     "views": [
      {
       "cell_index": 4
      }
     ]
    },
    "a2a052925e31404d8ecbf0216eeba970": {
     "views": []
    },
    "a3ec03e2e5134c62a6d6f98ba2272734": {
     "views": [
      {
       "cell_index": 4
      }
     ]
    },
    "a511aefb5a2b4cdaae4eb9fd055efdbb": {
     "views": []
    },
    "a52c117cb4aa4d5fb686894dbed1ccbc": {
     "views": []
    },
    "a68d40d021fb4dad8e5c04a795205f3a": {
     "views": []
    },
    "a6a3d6bddcac4b6285f52cfcd14b6554": {
     "views": []
    },
    "ad72fc22ecca442a894f705fb528e9fd": {
     "views": []
    },
    "ae1ff89449894284b805957f91a89c7c": {
     "views": []
    },
    "b05b1ab9026242f2a767c6deac5911fc": {
     "views": []
    },
    "b21e6fc0551c4827b0472bc56654d9c7": {
     "views": []
    },
    "b2dbf6ae5a8746fdbe55547c509ab715": {
     "views": []
    },
    "b3f7c09bb37b4266812db344f0ff3bf0": {
     "views": []
    },
    "b4793323e80341ec98a57cdb088adda6": {
     "views": []
    },
    "b5bafdf62fe745559bcc0a0ea038aec8": {
     "views": []
    },
    "b64e48e34e1c48058bc883b7435a7be1": {
     "views": []
    },
    "b6aa41eaeb41447991df6ea9c4832e86": {
     "views": [
      {
       "cell_index": 4
      }
     ]
    },
    "b6d972056de64d84970d334d6656a4ca": {
     "views": []
    },
    "b7377043b6a34bffb8139a3cdf98c922": {
     "views": []
    },
    "b8209cdd62d14c4394f5175575a32979": {
     "views": []
    },
    "b8c994b95a804aaeb3bd5d9fdac66544": {
     "views": []
    },
    "b95e89b1350e43dd963b5311a4b0ec43": {
     "views": []
    },
    "b977f5a6ace04ba7b050c8f950014690": {
     "views": []
    },
    "ba00b00a110a4f8891f60dba54c1088a": {
     "views": []
    },
    "ba48d2d28bc5454381a494a7883dec11": {
     "views": []
    },
    "bab98706eb714302aa5882c91b08c0f0": {
     "views": []
    },
    "bc82c835c7034ff1be0c1edffdb5d25a": {
     "views": [
      {
       "cell_index": 4
      }
     ]
    },
    "bd119b044c5b41888fe9be519584830e": {
     "views": []
    },
    "bd346829e1564fd2a25cdeac3616ec00": {
     "views": []
    },
    "bf476582d42342f5a738fdcfc6b71598": {
     "views": []
    },
    "bf52ce8ade4e4f0f9942dfab488393f8": {
     "views": []
    },
    "c0f0aa6212a84d66bc91043f1b95b001": {
     "views": []
    },
    "c3013d8af8514e29af62f9ce249244f7": {
     "views": []
    },
    "c302db4cb82f4691984866042f9c3172": {
     "views": []
    },
    "c374f589019645e1b3d02d71dea110be": {
     "views": [
      {
       "cell_index": 4
      }
     ]
    },
    "c3cc799d17bf4960821fce289f51f356": {
     "views": [
      {
       "cell_index": 4
      }
     ]
    },
    "c473eec900a34ef69197bbbcfc31db77": {
     "views": []
    },
    "c5f358a5d0cd445fa0836510aa471219": {
     "views": []
    },
    "c62db2a61d58457a976d094e55b55660": {
     "views": []
    },
    "c6ceb8ee58bf4ed19a3d9c75d58a6a65": {
     "views": []
    },
    "c86930a1034c43d0b88a272b76b139c3": {
     "views": []
    },
    "ca0162640d064e9f85be9c828841a0b0": {
     "views": []
    },
    "ca0ef2e7f5d24a70ac71129d865618dd": {
     "views": [
      {
       "cell_index": 4
      }
     ]
    },
    "cae4e3a9b9594d219192dd1355b3740b": {
     "views": []
    },
    "cba9614aec2f4e5fbecb5282f7c004a6": {
     "views": [
      {
       "cell_index": 4
      }
     ]
    },
    "cc1b11200402449aa17b49e549defd60": {
     "views": []
    },
    "cd9857fc03c4429da6350c06bf80a5ff": {
     "views": []
    },
    "ce50839590b24e92a995841a32aec847": {
     "views": []
    },
    "cfaf39a1dd7d42b589ac68d7212763b5": {
     "views": []
    },
    "d03cf6b7ff1846a3b0e343d69e0e3dc2": {
     "views": []
    },
    "d1fecdac7f1c4023946ca1451e55b3a1": {
     "views": [
      {
       "cell_index": 4
      }
     ]
    },
    "d2730c763f874847b82621f66cfee781": {
     "views": []
    },
    "d3392b759c794385b4ca9ac2b7825eaa": {
     "views": []
    },
    "d3bfdc86522546f9a72986fffdbdf5c6": {
     "views": []
    },
    "d3d42b141f74489186ded11383939181": {
     "views": []
    },
    "d3f4c6db47cd4bb891e22845230cadb9": {
     "views": []
    },
    "d4de9b4045c94486be4bfee4df7720d2": {
     "views": []
    },
    "d53075646f2d4ffab8d7d9810711c7c5": {
     "views": []
    },
    "d5831d2097cf4181a34ee1e34792f46b": {
     "views": []
    },
    "d5babc3a2a004a2d9e1f8f183289db5d": {
     "views": []
    },
    "d5feb75ab4254cfd9d9aafce22d3b00e": {
     "views": []
    },
    "d6a3c382d68c4ae9b1d8fe51c4e827e3": {
     "views": []
    },
    "d98901c7364343399dcc4844fc2c113e": {
     "views": []
    },
    "da1a4de0ab7c4deaa94ee4ac72650361": {
     "views": []
    },
    "da6bd608490f41af8bb9bbc1d260c5ce": {
     "views": [
      {
       "cell_index": 4
      }
     ]
    },
    "da7280dda4c14c159e1d8c1fbb78b26f": {
     "views": []
    },
    "dafe6d3c7d374108a95484aa8b9c19df": {
     "views": []
    },
    "dbe575594062476b8dd0d9bd30627a12": {
     "views": []
    },
    "dc17ee5e8c8a45a19930ec58f1a3afb2": {
     "views": []
    },
    "dd005cf096c14bd7a5a4aad84674047e": {
     "views": []
    },
    "deea1fbf3c314a15a7a5386f33ddc11a": {
     "views": []
    },
    "e0c40725b10f461aaa22208c96923859": {
     "views": []
    },
    "e0ddb109af30445681025ce171f241ae": {
     "views": []
    },
    "e0f2f76e03394132bdd44db94952ef9e": {
     "views": []
    },
    "e1de29f7631f4f9d908b60e50dd3e67a": {
     "views": []
    },
    "e1f0742f778847a885f09df7a6f0c358": {
     "views": []
    },
    "e282f6954f7144f88e479d5ae150677a": {
     "views": []
    },
    "e44ca190750d4c408f987f871eeb6a25": {
     "views": []
    },
    "e455e239835448caa914c8903c7efe0b": {
     "views": []
    },
    "e539ef05cd714370a0a4a8d298ce37c5": {
     "views": []
    },
    "e6220b0dab9b4db6a88bcf0f5f4ceae4": {
     "views": []
    },
    "e6fd772b3f134be0a8875f773eb92932": {
     "views": []
    },
    "e884190d37184c7a8d6e8bfa31bc39c5": {
     "views": []
    },
    "e91e17ee5bed410180cbbc00afca107c": {
     "views": []
    },
    "e95ff132acbe4a6c816a171ac750a50a": {
     "views": []
    },
    "e98c1b8ba75c445e9c33ee77f933a2fb": {
     "views": [
      {
       "cell_index": 4
      }
     ]
    },
    "e9e7dc6fef5341b0b448209ca97ee704": {
     "views": []
    },
    "e9ff0cad87fa4b8fbfb8a4eb90371898": {
     "views": []
    },
    "ea5901493314482f8a5bfda0e2dd2fd9": {
     "views": []
    },
    "ec3b0a54df8e455ab5805f9b97928a2f": {
     "views": []
    },
    "ec7cde82ef0e4b8e862ffb48a9d72f9a": {
     "views": [
      {
       "cell_index": 4
      }
     ]
    },
    "ec8fa97abd734a789153cf052900fac6": {
     "views": []
    },
    "edad62af4e0f421ca014769b564c903b": {
     "views": []
    },
    "f0e5520d1d0a4f15ac2a0fe7b0f3b308": {
     "views": []
    },
    "f1292ce49c0f4caba49e59978ada4931": {
     "views": []
    },
    "f1f674b496104b76931140f5d679fabc": {
     "views": []
    },
    "f2f0860abf034b3b932e6f5750ebca74": {
     "views": [
      {
       "cell_index": 4
      }
     ]
    },
    "f32ac8590b544ec2953cb8a1d83bb4b6": {
     "views": []
    },
    "f34564dd50774c1399fb01db81a44e0e": {
     "views": []
    },
    "f350cd3d290f45acbf2e78ce5ec36390": {
     "views": []
    },
    "f37dda0ea646470385272d0631b4b9d1": {
     "views": [
      {
       "cell_index": 4
      }
     ]
    },
    "f3a155593172446288fbf677195af18d": {
     "views": []
    },
    "f43912e4f9b84861946f9695e86cd1a4": {
     "views": [
      {
       "cell_index": 4
      }
     ]
    },
    "f4c9dff1c6ff466a8fad4961aad44d5c": {
     "views": []
    },
    "f4e011fac99e4ed084a5e8f26512ef25": {
     "views": [
      {
       "cell_index": 4
      }
     ]
    },
    "f4e1104a7bdd4410a927ef39c8a91b44": {
     "views": []
    },
    "f4fb431648904c1fa0fcd08092ea1768": {
     "views": [
      {
       "cell_index": 3
      }
     ]
    },
    "f90885e3518746b1ab09713f6122179d": {
     "views": [
      {
       "cell_index": 4
      }
     ]
    },
    "f9ddef94195c41d3b4b73a8d51c5fa93": {
     "views": []
    },
    "fa5dd5b3f47848d789be3978f779475a": {
     "views": []
    },
    "fa831e7bc5164a9eb41cb25256677c1e": {
     "views": []
    },
    "fb038d9fa40644acaff94b7c88f1f5a5": {
     "views": []
    },
    "fb1698812d9049bbbc7b58c759cc20cd": {
     "views": []
    },
    "fce3f50f5da5454aa9fd161976c8205e": {
     "views": [
      {
       "cell_index": 4
      }
     ]
    },
    "fd7baa040cd945579b139a3e3de3e630": {
     "views": [
      {
       "cell_index": 4
      }
     ]
    },
    "fde684d937674efe9d117eb886ea8f1c": {
     "views": []
    },
    "fe5bd219981e4743bf2d2abd1a807260": {
     "views": []
    },
    "fe7e8a432d904738bb84e68334d73749": {
     "views": []
    },
    "fee0600991004541905f9cdb65df2b50": {
     "views": []
    },
    "ffda3d9870d24c00afb28548b84dc457": {
     "views": []
    }
   },
   "version": "1.1.2"
  }
 },
 "nbformat": 4,
 "nbformat_minor": 0
}
