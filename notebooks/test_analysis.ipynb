{
 "cells": [
  {
   "cell_type": "markdown",
   "metadata": {},
   "source": [
    "# Softmax regression with tensorflow"
   ]
  },
  {
   "cell_type": "markdown",
   "metadata": {},
   "source": [
    "This is a first attempt at using tensorflow to do categorization of two common processes: $\\rm t\\bar{t}$ and Drell-Yan production.  Begin with imported modules."
   ]
  },
  {
   "cell_type": "code",
   "execution_count": 1,
   "metadata": {
    "collapsed": false
   },
   "outputs": [
    {
     "ename": "ImportError",
     "evalue": "No module named tensorflow",
     "output_type": "error",
     "traceback": [
      "\u001b[0;31m---------------------------------------------------------------------------\u001b[0m",
      "\u001b[0;31mImportError\u001b[0m                               Traceback (most recent call last)",
      "\u001b[0;32m<ipython-input-1-27aa1a544d90>\u001b[0m in \u001b[0;36m<module>\u001b[0;34m()\u001b[0m\n\u001b[1;32m      6\u001b[0m \u001b[0;32mimport\u001b[0m \u001b[0mmatplotlib\u001b[0m\u001b[0;34m.\u001b[0m\u001b[0mpyplot\u001b[0m \u001b[0;32mas\u001b[0m \u001b[0mplt\u001b[0m\u001b[0;34m\u001b[0m\u001b[0m\n\u001b[1;32m      7\u001b[0m \u001b[0;32mimport\u001b[0m \u001b[0mseaborn\u001b[0m \u001b[0;32mas\u001b[0m \u001b[0msns\u001b[0m\u001b[0;34m\u001b[0m\u001b[0m\n\u001b[0;32m----> 8\u001b[0;31m \u001b[0;32mimport\u001b[0m \u001b[0mtensorflow\u001b[0m \u001b[0;32mas\u001b[0m \u001b[0mtf\u001b[0m\u001b[0;34m\u001b[0m\u001b[0m\n\u001b[0m\u001b[1;32m      9\u001b[0m \u001b[0;32mfrom\u001b[0m \u001b[0mtqdm\u001b[0m \u001b[0;32mimport\u001b[0m \u001b[0mtqdm\u001b[0m\u001b[0;34m\u001b[0m\u001b[0m\n\u001b[1;32m     10\u001b[0m \u001b[0;34m\u001b[0m\u001b[0m\n",
      "\u001b[0;31mImportError\u001b[0m: No module named tensorflow"
     ]
    }
   ],
   "source": [
    "import sys\n",
    "from itertools import product\n",
    "\n",
    "import numpy as np\n",
    "import pandas as pd\n",
    "import matplotlib.pyplot as plt\n",
    "import seaborn as sns\n",
    "import tensorflow as tf\n",
    "from tqdm import tqdm\n",
    "\n",
    "sys.path.append('/home/naodell/work/CMS/amumu')\n",
    "import nllfitter.plot_tools as pt"
   ]
  },
  {
   "cell_type": "markdown",
   "metadata": {},
   "source": [
    "Carry out some initial configuration."
   ]
  },
  {
   "cell_type": "code",
   "execution_count": null,
   "metadata": {
    "collapsed": true
   },
   "outputs": [],
   "source": [
    "ntuple_dir  = 'data/flatuples/mumu_2012'\n",
    "lumi        = 19.8e3\n",
    "selection   = ('mumu', 'combined')\n",
    "period      = 2012\n",
    "output_path = 'plots/fits/{0}_{1}'.format('_'.join(selection), period)"
   ]
  },
  {
   "cell_type": "markdown",
   "metadata": {},
   "source": [
    "We will be discriminating ttbar and Drell-Yan which will use a few datasets,"
   ]
  },
  {
   "cell_type": "code",
   "execution_count": null,
   "metadata": {
    "collapsed": true
   },
   "outputs": [],
   "source": [
    "datasets    = ['ttbar_lep', 'ttbar_semilep', 'zjets_m-50', 'zjets_m-10to50']"
   ]
  },
  {
   "cell_type": "markdown",
   "metadata": {},
   "source": [
    "Now we'll define a set of features that could be helpful in discriminating the two processes,"
   ]
  },
  {
   "cell_type": "code",
   "execution_count": null,
   "metadata": {
    "collapsed": true
   },
   "outputs": [],
   "source": [
    "cont_features = [\n",
    "            'lepton1_pt', 'lepton1_eta', 'lepton1_phi',\n",
    "            #'lepton1_iso', 'lepton1_q', 'lepton1_flavor', 'lepton1_trigger',\n",
    "            'lepton2_pt', 'lepton2_eta', 'lepton2_phi',\n",
    "            #'lepton2_iso', 'lepton2_q', 'lepton2_flavor', 'lepton2_trigger',\n",
    "            #'lepton_delta_eta', 'lepton_delta_phi', 'lepton_delta_r',\n",
    "            'dilepton_mass', 'dilepton_pt', 'dilepton_eta', 'dilepton_phi',\n",
    "            #'dilepton_pt_over_m',\n",
    "\n",
    "            'met_mag', 'met_phi',\n",
    "            #'bjet_pt', 'bjet_eta', 'bjet_phi', 'bjet_d0',\n",
    "            #'jet_pt', 'jet_eta', 'jet_phi', 'jet_d0', \n",
    "            #'dijet_mass', 'dijet_pt', 'dijet_eta', 'dijet_phi', \n",
    "            #'dijet_pt_over_m',\n",
    "\n",
    "            #'lepton1_b_mass', 'lepton1_b_pt', \n",
    "            #'lepton1_b_delta_eta', 'lepton1_b_delta_phi', 'lepton1_b_delta_r',\n",
    "            #'lepton2_b_mass', 'lepton2_b_pt', \n",
    "            #'lepton2_b_delta_eta', 'lepton2_b_delta_phi', 'lepton2_b_delta_r',\n",
    "\n",
    "            #'dilepton_j_mass', 'dilepton_j_pt', \n",
    "            #'dilepton_j_delta_eta', 'dilepton_j_delta_phi', 'dilepton_j_delta_r',\n",
    "            #'dilepton_b_mass', 'dilepton_b_pt', \n",
    "            #'dilepton_b_delta_eta', 'dilepton_b_delta_phi', 'dilepton_b_delta_r',\n",
    "            #'four_body_mass',\n",
    "            #'four_body_delta_phi', 'four_body_delta_eta', 'four_body_delta_r',\n",
    "\n",
    "            #'t_xj', 't_xb', 't_bj'\n",
    "           ]\n",
    "disc_features = ['n_jets', 'n_fwdjets', 'n_bjets', \n",
    "                 'lepton1_flavor', 'lepton2_flavor'\n",
    "                 'lepton1_q', 'lepton2_q'\n",
    "                ]"
   ]
  },
  {
   "cell_type": "markdown",
   "metadata": {},
   "source": [
    "It's important to distinguish between continuously valued and nominal variables since they will need to be preprocessed differently.  A few preselection cuts will be required,"
   ]
  },
  {
   "cell_type": "code",
   "execution_count": null,
   "metadata": {
    "collapsed": true
   },
   "outputs": [],
   "source": [
    "cuts     = 'lepton1_pt > 25 and abs(lepton1_eta) < 2.1 \\\n",
    "            and lepton2_pt > 25 and abs(lepton2_eta) < 2.1 \\\n",
    "            and lepton1_q != lepton2_q and 12 < dilepton_mass < 70'"
   ]
  },
  {
   "cell_type": "markdown",
   "metadata": {},
   "source": [
    "Now we'll load the data that is saved in flat ntuples using a DataManager class,"
   ]
  },
  {
   "cell_type": "code",
   "execution_count": null,
   "metadata": {
    "collapsed": false
   },
   "outputs": [],
   "source": [
    "data_manager = pt.DataManager(input_dir     = ntuple_dir,\n",
    "                              dataset_names = datasets,\n",
    "                              selection     = selection[0],\n",
    "                              period        = period,\n",
    "                              scale         = lumi,\n",
    "                              cuts          = cuts\n",
    "                             )"
   ]
  },
  {
   "cell_type": "code",
   "execution_count": null,
   "metadata": {
    "collapsed": false
   },
   "outputs": [],
   "source": []
  },
  {
   "cell_type": "code",
   "execution_count": null,
   "metadata": {
    "collapsed": true
   },
   "outputs": [],
   "source": []
  }
 ],
 "metadata": {
  "hide_input": false,
  "kernelspec": {
   "display_name": "Python 2",
   "language": "python",
   "name": "python2"
  },
  "language_info": {
   "codemirror_mode": {
    "name": "ipython",
    "version": 2
   },
   "file_extension": ".py",
   "mimetype": "text/x-python",
   "name": "python",
   "nbconvert_exporter": "python",
   "pygments_lexer": "ipython2",
   "version": "2.7.12"
  },
  "latex_envs": {
   "bibliofile": "biblio.bib",
   "cite_by": "apalike",
   "current_citInitial": 1,
   "eqLabelWithNumbers": true,
   "eqNumInitial": 0
  },
  "toc": {
   "nav_menu": {
    "height": "29px",
    "width": "251px"
   },
   "navigate_menu": true,
   "number_sections": true,
   "sideBar": true,
   "threshold": 4,
   "toc_cell": false,
   "toc_section_display": "block",
   "toc_window_display": false
  }
 },
 "nbformat": 4,
 "nbformat_minor": 0
}
