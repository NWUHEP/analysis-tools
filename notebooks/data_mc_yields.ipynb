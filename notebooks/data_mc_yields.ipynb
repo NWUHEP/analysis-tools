{
 "cells": [
  {
   "cell_type": "markdown",
   "metadata": {},
   "source": [
    "# 8 TeV"
   ]
  },
  {
   "cell_type": "code",
   "execution_count": 1,
   "metadata": {
    "code_folding": [
     0
    ],
    "collapsed": false
   },
   "outputs": [
    {
     "name": "stdout",
     "output_type": "stream",
     "text": [
      "/home/naodell/work/CMS/amumu\n"
     ]
    }
   ],
   "source": [
    "#imports\n",
    "%cd '/home/naodell/work/CMS/amumu'\n",
    "%matplotlib notebook\n",
    "\n",
    "import os, sys\n",
    "from timeit import default_timer as timer\n",
    "\n",
    "import numpy as np\n",
    "import pandas as pd\n",
    "import matplotlib.pyplot as plt\n",
    "\n",
    "import nllfitter.plot_tools as pt\n",
    "\n",
    "from IPython.display import display"
   ]
  },
  {
   "cell_type": "code",
   "execution_count": 2,
   "metadata": {
    "code_folding": [],
    "collapsed": false
   },
   "outputs": [
    {
     "name": "stderr",
     "output_type": "stream",
     "text": [
      "Loading dataframes: 100%|███████████████| 29.0/29.0 [00:06<00:00, 4.54it/s]\n"
     ]
    }
   ],
   "source": [
    "#configuration and data retrieval\n",
    "datasets = [\n",
    "            'muon_2012A', 'muon_2012B', 'muon_2012C', 'muon_2012D', \n",
    "            'ttbar_lep', 'ttbar_semilep',\n",
    "            'zjets_m-50', 'zjets_m-10to50',\n",
    "            'z1jets_m-50', 'z1jets_m-10to50',\n",
    "            'z2jets_m-50', 'z2jets_m-10to50',\n",
    "            'z3jets_m-50', 'z3jets_m-10to50',\n",
    "            'z4jets_m-50', 'z4jets_m-10to50',\n",
    "            't_s', 't_t', 't_tw', 'tbar_s', 'tbar_t', 'tbar_tw',\n",
    "            'ww', 'wz_2l2q', 'wz_3lnu', 'zz_2l2q', 'zz_2l2nu',\n",
    "            'bprime_t-channel', 'bprime_bb_semilep'\n",
    "            ]\n",
    "preselection = '(lepton1_pt > 25 and abs(lepton1_eta) < 2.1 \\\n",
    "                and lepton2_pt > 25 and abs(lepton2_eta) < 2.1 \\\n",
    "                and lepton1_q != lepton2_q and 12 < dilepton_mass < 70)'\n",
    "\n",
    "data_manager = pt.DataManager(input_dir     = 'data/flatuples/mumu_2012',\n",
    "                              dataset_names = datasets,\n",
    "                              selection     = 'mumu',\n",
    "                              period        = 2012,\n",
    "                              scale         = 0.75*19.8e3,\n",
    "                              cuts          = preselection\n",
    "                             )"
   ]
  },
  {
   "cell_type": "markdown",
   "metadata": {},
   "source": [
    "## 1b1f "
   ]
  },
  {
   "cell_type": "code",
   "execution_count": 3,
   "metadata": {
    "collapsed": false
   },
   "outputs": [
    {
     "data": {
      "text/html": [
       "<div>\n",
       "<table border=\"1\" class=\"dataframe\">\n",
       "  <thead>\n",
       "    <tr style=\"text-align: right;\">\n",
       "      <th></th>\n",
       "      <th>preselection</th>\n",
       "      <th>n_bjets == 1</th>\n",
       "      <th>n_fwdjets &gt; 0</th>\n",
       "      <th>n_jets == 0</th>\n",
       "    </tr>\n",
       "  </thead>\n",
       "  <tbody>\n",
       "    <tr>\n",
       "      <th>t</th>\n",
       "      <td>$445.3 \\pm 12.9$</td>\n",
       "      <td>$178.0 \\pm 8.2$</td>\n",
       "      <td>$25.2 \\pm 3.0$</td>\n",
       "      <td>$13.8 \\pm 2.2$</td>\n",
       "    </tr>\n",
       "    <tr>\n",
       "      <th>Diboson</th>\n",
       "      <td>$1147.9 \\pm 8.7$</td>\n",
       "      <td>$22.5 \\pm 0.9$</td>\n",
       "      <td>$3.1 \\pm 0.3$</td>\n",
       "      <td>$1.3 \\pm 0.2$</td>\n",
       "    </tr>\n",
       "    <tr>\n",
       "      <th>$\\sf t\\bar{t}$</th>\n",
       "      <td>$4926.6 \\pm 13.6$</td>\n",
       "      <td>$2272.2 \\pm 9.2$</td>\n",
       "      <td>$431.7 \\pm 4.0$</td>\n",
       "      <td>$104.1 \\pm 2.0$</td>\n",
       "    </tr>\n",
       "    <tr>\n",
       "      <th>Z+jets</th>\n",
       "      <td>$121754.6 \\pm 410.0$</td>\n",
       "      <td>$904.2 \\pm 19.0$</td>\n",
       "      <td>$92.7 \\pm 6.1$</td>\n",
       "      <td>$55.3 \\pm 4.8$</td>\n",
       "    </tr>\n",
       "    <tr>\n",
       "      <th>$\\sf B’\\rightarrow Xb$</th>\n",
       "      <td>$182.0 \\pm 2.5$</td>\n",
       "      <td>$68.9 \\pm 1.5$</td>\n",
       "      <td>$23.5 \\pm 0.9$</td>\n",
       "      <td>$17.3 \\pm 0.7$</td>\n",
       "    </tr>\n",
       "    <tr>\n",
       "      <th>Data</th>\n",
       "      <td>$173513$</td>\n",
       "      <td>$3843$</td>\n",
       "      <td>$633$</td>\n",
       "      <td>$189$</td>\n",
       "    </tr>\n",
       "    <tr>\n",
       "      <th>background</th>\n",
       "      <td>$128274.3 \\pm 410.5$</td>\n",
       "      <td>$3376.9 \\pm 22.7$</td>\n",
       "      <td>$552.7 \\pm 7.9$</td>\n",
       "      <td>$174.5 \\pm 5.7$</td>\n",
       "    </tr>\n",
       "  </tbody>\n",
       "</table>\n",
       "</div>"
      ],
      "text/plain": [
       "                                preselection       n_bjets == 1  \\\n",
       "t                           $445.3 \\pm 12.9$    $178.0 \\pm 8.2$   \n",
       "Diboson                     $1147.9 \\pm 8.7$     $22.5 \\pm 0.9$   \n",
       "$\\sf t\\bar{t}$             $4926.6 \\pm 13.6$   $2272.2 \\pm 9.2$   \n",
       "Z+jets                  $121754.6 \\pm 410.0$   $904.2 \\pm 19.0$   \n",
       "$\\sf B’\\rightarrow Xb$       $182.0 \\pm 2.5$     $68.9 \\pm 1.5$   \n",
       "Data                                $173513$             $3843$   \n",
       "background              $128274.3 \\pm 410.5$  $3376.9 \\pm 22.7$   \n",
       "\n",
       "                          n_fwdjets > 0      n_jets == 0  \n",
       "t                        $25.2 \\pm 3.0$   $13.8 \\pm 2.2$  \n",
       "Diboson                   $3.1 \\pm 0.3$    $1.3 \\pm 0.2$  \n",
       "$\\sf t\\bar{t}$          $431.7 \\pm 4.0$  $104.1 \\pm 2.0$  \n",
       "Z+jets                   $92.7 \\pm 6.1$   $55.3 \\pm 4.8$  \n",
       "$\\sf B’\\rightarrow Xb$   $23.5 \\pm 0.9$   $17.3 \\pm 0.7$  \n",
       "Data                              $633$            $189$  \n",
       "background              $552.7 \\pm 7.9$  $174.5 \\pm 5.7$  "
      ]
     },
     "execution_count": 3,
     "metadata": {},
     "output_type": "execute_result"
    }
   ],
   "source": [
    "dataset_names = ['t', 'diboson', 'ttbar', 'zjets', \n",
    "                 'bprime_t-channel', \n",
    "                 'data']\n",
    "conditions    = ['preselection', 'n_bjets == 1', 'n_fwdjets > 0', 'n_jets == 0']\n",
    "table = data_manager.print_yields(dataset_names, \n",
    "                                  exclude    = ['bprime_t-channel', 'fcnc', 'bprime_bb_semilep'],\n",
    "                                  conditions = conditions\n",
    "                                 )\n",
    "table"
   ]
  },
  {
   "cell_type": "markdown",
   "metadata": {},
   "source": [
    "## 1b1c "
   ]
  },
  {
   "cell_type": "code",
   "execution_count": 4,
   "metadata": {
    "collapsed": false,
    "scrolled": false
   },
   "outputs": [
    {
     "data": {
      "text/html": [
       "<div>\n",
       "<table border=\"1\" class=\"dataframe\">\n",
       "  <thead>\n",
       "    <tr style=\"text-align: right;\">\n",
       "      <th></th>\n",
       "      <th>preselection</th>\n",
       "      <th>n_bjets &gt;= 1</th>\n",
       "      <th>n_jets + n_bjets == 2</th>\n",
       "      <th>n_fwdjets == 0</th>\n",
       "      <th>met_mag &lt; 40</th>\n",
       "      <th>four_body_delta_phi &gt; 2.5</th>\n",
       "    </tr>\n",
       "  </thead>\n",
       "  <tbody>\n",
       "    <tr>\n",
       "      <th>t</th>\n",
       "      <td>$445.3 \\pm 12.9$</td>\n",
       "      <td>$190.6 \\pm 8.5$</td>\n",
       "      <td>$59.5 \\pm 4.7$</td>\n",
       "      <td>$51.2 \\pm 4.3$</td>\n",
       "      <td>$12.7 \\pm 2.2$</td>\n",
       "      <td>$10.9 \\pm 2.0$</td>\n",
       "    </tr>\n",
       "    <tr>\n",
       "      <th>Diboson</th>\n",
       "      <td>$1147.9 \\pm 8.7$</td>\n",
       "      <td>$24.2 \\pm 0.9$</td>\n",
       "      <td>$8.2 \\pm 0.5$</td>\n",
       "      <td>$7.2 \\pm 0.5$</td>\n",
       "      <td>$5.6 \\pm 0.4$</td>\n",
       "      <td>$4.8 \\pm 0.3$</td>\n",
       "    </tr>\n",
       "    <tr>\n",
       "      <th>$\\sf t\\bar{t}$</th>\n",
       "      <td>$4926.6 \\pm 13.6$</td>\n",
       "      <td>$2917.6 \\pm 10.4$</td>\n",
       "      <td>$1424.1 \\pm 7.2$</td>\n",
       "      <td>$1188.5 \\pm 6.6$</td>\n",
       "      <td>$275.2 \\pm 3.2$</td>\n",
       "      <td>$223.9 \\pm 2.9$</td>\n",
       "    </tr>\n",
       "    <tr>\n",
       "      <th>Z+jets</th>\n",
       "      <td>$121754.6 \\pm 410.0$</td>\n",
       "      <td>$934.2 \\pm 19.5$</td>\n",
       "      <td>$266.5 \\pm 9.4$</td>\n",
       "      <td>$240.9 \\pm 8.9$</td>\n",
       "      <td>$205.2 \\pm 8.1$</td>\n",
       "      <td>$181.1 \\pm 7.6$</td>\n",
       "    </tr>\n",
       "    <tr>\n",
       "      <th>$\\sf B’\\rightarrow Xb$</th>\n",
       "      <td>$182.0 \\pm 2.5$</td>\n",
       "      <td>$69.6 \\pm 1.5$</td>\n",
       "      <td>$28.5 \\pm 1.0$</td>\n",
       "      <td>$23.4 \\pm 0.9$</td>\n",
       "      <td>$20.6 \\pm 0.8$</td>\n",
       "      <td>$20.0 \\pm 0.8$</td>\n",
       "    </tr>\n",
       "    <tr>\n",
       "      <th>Data</th>\n",
       "      <td>$173513$</td>\n",
       "      <td>$4555$</td>\n",
       "      <td>$2032$</td>\n",
       "      <td>$1724$</td>\n",
       "      <td>$545$</td>\n",
       "      <td>$462$</td>\n",
       "    </tr>\n",
       "    <tr>\n",
       "      <th>background</th>\n",
       "      <td>$128274.3 \\pm 410.5$</td>\n",
       "      <td>$4066.7 \\pm 23.7$</td>\n",
       "      <td>$1758.2 \\pm 12.8$</td>\n",
       "      <td>$1487.9 \\pm 11.9$</td>\n",
       "      <td>$498.6 \\pm 9.0$</td>\n",
       "      <td>$420.7 \\pm 8.4$</td>\n",
       "    </tr>\n",
       "  </tbody>\n",
       "</table>\n",
       "</div>"
      ],
      "text/plain": [
       "                                preselection       n_bjets >= 1  \\\n",
       "t                           $445.3 \\pm 12.9$    $190.6 \\pm 8.5$   \n",
       "Diboson                     $1147.9 \\pm 8.7$     $24.2 \\pm 0.9$   \n",
       "$\\sf t\\bar{t}$             $4926.6 \\pm 13.6$  $2917.6 \\pm 10.4$   \n",
       "Z+jets                  $121754.6 \\pm 410.0$   $934.2 \\pm 19.5$   \n",
       "$\\sf B’\\rightarrow Xb$       $182.0 \\pm 2.5$     $69.6 \\pm 1.5$   \n",
       "Data                                $173513$             $4555$   \n",
       "background              $128274.3 \\pm 410.5$  $4066.7 \\pm 23.7$   \n",
       "\n",
       "                       n_jets + n_bjets == 2     n_fwdjets == 0  \\\n",
       "t                             $59.5 \\pm 4.7$     $51.2 \\pm 4.3$   \n",
       "Diboson                        $8.2 \\pm 0.5$      $7.2 \\pm 0.5$   \n",
       "$\\sf t\\bar{t}$              $1424.1 \\pm 7.2$   $1188.5 \\pm 6.6$   \n",
       "Z+jets                       $266.5 \\pm 9.4$    $240.9 \\pm 8.9$   \n",
       "$\\sf B’\\rightarrow Xb$        $28.5 \\pm 1.0$     $23.4 \\pm 0.9$   \n",
       "Data                                  $2032$             $1724$   \n",
       "background                 $1758.2 \\pm 12.8$  $1487.9 \\pm 11.9$   \n",
       "\n",
       "                           met_mag < 40 four_body_delta_phi > 2.5  \n",
       "t                        $12.7 \\pm 2.2$            $10.9 \\pm 2.0$  \n",
       "Diboson                   $5.6 \\pm 0.4$             $4.8 \\pm 0.3$  \n",
       "$\\sf t\\bar{t}$          $275.2 \\pm 3.2$           $223.9 \\pm 2.9$  \n",
       "Z+jets                  $205.2 \\pm 8.1$           $181.1 \\pm 7.6$  \n",
       "$\\sf B’\\rightarrow Xb$   $20.6 \\pm 0.8$            $20.0 \\pm 0.8$  \n",
       "Data                              $545$                     $462$  \n",
       "background              $498.6 \\pm 9.0$           $420.7 \\pm 8.4$  "
      ]
     },
     "execution_count": 4,
     "metadata": {},
     "output_type": "execute_result"
    }
   ],
   "source": [
    "conditions = ['preselection', 'n_bjets >= 1', 'n_jets + n_bjets == 2', 'n_fwdjets == 0', 'met_mag < 40', 'four_body_delta_phi > 2.5']\n",
    "table = data_manager.print_yields(dataset_names, \n",
    "                                  exclude    = ['bprime_t-channel', 'fcnc', 'bprime_bb_semilep'],\n",
    "                                  conditions = conditions\n",
    "                                 )\n",
    "table"
   ]
  },
  {
   "cell_type": "markdown",
   "metadata": {},
   "source": [
    "## combined"
   ]
  },
  {
   "cell_type": "code",
   "execution_count": 5,
   "metadata": {
    "collapsed": false
   },
   "outputs": [
    {
     "data": {
      "text/html": [
       "<div>\n",
       "<table border=\"1\" class=\"dataframe\">\n",
       "  <thead>\n",
       "    <tr style=\"text-align: right;\">\n",
       "      <th></th>\n",
       "      <th>preselection</th>\n",
       "      <th>1b1f+1b1c</th>\n",
       "    </tr>\n",
       "  </thead>\n",
       "  <tbody>\n",
       "    <tr>\n",
       "      <th>t</th>\n",
       "      <td>$445.3 \\pm 12.9$</td>\n",
       "      <td>$24.7 \\pm 3.0$</td>\n",
       "    </tr>\n",
       "    <tr>\n",
       "      <th>Diboson</th>\n",
       "      <td>$1147.9 \\pm 8.7$</td>\n",
       "      <td>$6.1 \\pm 0.4$</td>\n",
       "    </tr>\n",
       "    <tr>\n",
       "      <th>$\\sf t\\bar{t}$</th>\n",
       "      <td>$4926.6 \\pm 13.6$</td>\n",
       "      <td>$328.1 \\pm 3.5$</td>\n",
       "    </tr>\n",
       "    <tr>\n",
       "      <th>Z+jets</th>\n",
       "      <td>$121754.6 \\pm 410.0$</td>\n",
       "      <td>$236.4 \\pm 9.0$</td>\n",
       "    </tr>\n",
       "    <tr>\n",
       "      <th>$\\sf B’\\rightarrow Xb$</th>\n",
       "      <td>$182.0 \\pm 2.5$</td>\n",
       "      <td>$37.3 \\pm 1.1$</td>\n",
       "    </tr>\n",
       "    <tr>\n",
       "      <th>Data</th>\n",
       "      <td>$173513$</td>\n",
       "      <td>$651$</td>\n",
       "    </tr>\n",
       "    <tr>\n",
       "      <th>background</th>\n",
       "      <td>$128274.3 \\pm 410.5$</td>\n",
       "      <td>$595.3 \\pm 10.1$</td>\n",
       "    </tr>\n",
       "  </tbody>\n",
       "</table>\n",
       "</div>"
      ],
      "text/plain": [
       "                                preselection         1b1f+1b1c\n",
       "t                           $445.3 \\pm 12.9$    $24.7 \\pm 3.0$\n",
       "Diboson                     $1147.9 \\pm 8.7$     $6.1 \\pm 0.4$\n",
       "$\\sf t\\bar{t}$             $4926.6 \\pm 13.6$   $328.1 \\pm 3.5$\n",
       "Z+jets                  $121754.6 \\pm 410.0$   $236.4 \\pm 9.0$\n",
       "$\\sf B’\\rightarrow Xb$       $182.0 \\pm 2.5$    $37.3 \\pm 1.1$\n",
       "Data                                $173513$             $651$\n",
       "background              $128274.3 \\pm 410.5$  $595.3 \\pm 10.1$"
      ]
     },
     "execution_count": 5,
     "metadata": {},
     "output_type": "execute_result"
    }
   ],
   "source": [
    "conditions    = ['preselection', \n",
    "                 '((n_bjets == 1 and n_jets == 0 and n_fwdjets > 0) \\\n",
    "                  or (n_bjets >= 1 and n_jets + n_bjets == 2 \\\n",
    "                  and n_fwdjets == 0 and met_mag < 40 and \\\n",
    "                  four_body_delta_phi > 2.5))'\n",
    "                ]\n",
    "table = data_manager.print_yields(dataset_names, \n",
    "                                  exclude    = ['bprime_t-channel', 'fcnc', 'bprime_bb_semilep'],\n",
    "                                  conditions = conditions,\n",
    "                                  mc_scale   = True\n",
    "                                 )\n",
    "table.columns = ['preselection', '1b1f+1b1c']\n",
    "table"
   ]
  },
  {
   "cell_type": "markdown",
   "metadata": {},
   "source": [
    "# 13 TeV"
   ]
  },
  {
   "cell_type": "code",
   "execution_count": 6,
   "metadata": {
    "code_folding": [],
    "collapsed": false
   },
   "outputs": [
    {
     "name": "stderr",
     "output_type": "stream",
     "text": [
      "Loading dataframes: 100%|███████████████| 24.0/24.0 [00:24<00:00, 2.32it/s]\n"
     ]
    }
   ],
   "source": [
    "# 13 TeV configuration and data retrieval\n",
    "datasets = [\n",
    "            'muon_2016B', 'muon_2016C', 'muon_2016D',                \n",
    "            #'muon_2016E', 'muon_2016F', 'muon_2016G', 'muon_2016H', \n",
    "            'ttbar_lep', 'ttbar_semilep',                            \n",
    "            'zjets_m-50', 'zjets_m-10to50',                         \n",
    "            'z1jets_m-50', 'z1jets_m-10to50',                        \n",
    "            'z2jets_m-50', 'z2jets_m-10to50',                        \n",
    "            'z3jets_m-50', 'z3jets_m-10to50',                        \n",
    "            'z4jets_m-50', 'z4jets_m-10to50',                       \n",
    "            't_s', 't_t', 't_tw', 'tbar_tw',                         \n",
    "            'ww', 'wz_2l2q', 'wz_3lnu', 'zz_2l2q', 'zz_2l2nu',       \n",
    "            ]\n",
    "\n",
    "signal_mask = '(dilepton_mass < 26 or dilepton_mass > 32)' # blind signal region\n",
    "data_manager = pt.DataManager(input_dir     = 'data/flatuples/mumu_2016',\n",
    "                              dataset_names = datasets,\n",
    "                              selection     = 'mumu',\n",
    "                              period        = 2016,\n",
    "                              scale         = 12e3,\n",
    "                              cuts          = preselection# + ' and ' + signal_mask\n",
    "                             )\n",
    "dataset_names = ['diboson', 't', 'ttbar', 'zjets', 'data']"
   ]
  },
  {
   "cell_type": "markdown",
   "metadata": {},
   "source": [
    "## 1b1f"
   ]
  },
  {
   "cell_type": "code",
   "execution_count": 7,
   "metadata": {
    "collapsed": false
   },
   "outputs": [
    {
     "data": {
      "text/html": [
       "<div>\n",
       "<table border=\"1\" class=\"dataframe\">\n",
       "  <thead>\n",
       "    <tr style=\"text-align: right;\">\n",
       "      <th></th>\n",
       "      <th>preselection</th>\n",
       "      <th>n_bjets == 1</th>\n",
       "      <th>n_fwdjets &gt; 0</th>\n",
       "      <th>n_jets == 0</th>\n",
       "    </tr>\n",
       "  </thead>\n",
       "  <tbody>\n",
       "    <tr>\n",
       "      <th>t</th>\n",
       "      <td>$1958.5 \\pm 12.7$</td>\n",
       "      <td>$676.3 \\pm 7.5$</td>\n",
       "      <td>$130.3 \\pm 3.3$</td>\n",
       "      <td>$57.7 \\pm 2.2$</td>\n",
       "    </tr>\n",
       "    <tr>\n",
       "      <th>Diboson</th>\n",
       "      <td>$5542.0 \\pm 42.7$</td>\n",
       "      <td>$35.0 \\pm 2.7$</td>\n",
       "      <td>$5.1 \\pm 0.8$</td>\n",
       "      <td>$1.4 \\pm 0.5$</td>\n",
       "    </tr>\n",
       "    <tr>\n",
       "      <th>$\\sf t\\bar{t}$</th>\n",
       "      <td>$11569.5 \\pm 17.0$</td>\n",
       "      <td>$4998.0 \\pm 11.2$</td>\n",
       "      <td>$1279.3 \\pm 5.7$</td>\n",
       "      <td>$282.0 \\pm 2.7$</td>\n",
       "    </tr>\n",
       "    <tr>\n",
       "      <th>Z+jets</th>\n",
       "      <td>$163534.6 \\pm 356.1$</td>\n",
       "      <td>$1221.9 \\pm 18.3$</td>\n",
       "      <td>$167.9 \\pm 6.8$</td>\n",
       "      <td>$87.7 \\pm 5.3$</td>\n",
       "    </tr>\n",
       "    <tr>\n",
       "      <th>Data (ICHEP)</th>\n",
       "      <td>$187344$</td>\n",
       "      <td>$6908$</td>\n",
       "      <td>$1488$</td>\n",
       "      <td>$388$</td>\n",
       "    </tr>\n",
       "    <tr>\n",
       "      <th>background</th>\n",
       "      <td>$182604.6 \\pm 359.3$</td>\n",
       "      <td>$6931.2 \\pm 22.9$</td>\n",
       "      <td>$1582.5 \\pm 9.5$</td>\n",
       "      <td>$428.8 \\pm 6.3$</td>\n",
       "    </tr>\n",
       "  </tbody>\n",
       "</table>\n",
       "</div>"
      ],
      "text/plain": [
       "                        preselection       n_bjets == 1     n_fwdjets > 0  \\\n",
       "t                  $1958.5 \\pm 12.7$    $676.3 \\pm 7.5$   $130.3 \\pm 3.3$   \n",
       "Diboson            $5542.0 \\pm 42.7$     $35.0 \\pm 2.7$     $5.1 \\pm 0.8$   \n",
       "$\\sf t\\bar{t}$    $11569.5 \\pm 17.0$  $4998.0 \\pm 11.2$  $1279.3 \\pm 5.7$   \n",
       "Z+jets          $163534.6 \\pm 356.1$  $1221.9 \\pm 18.3$   $167.9 \\pm 6.8$   \n",
       "Data (ICHEP)                $187344$             $6908$            $1488$   \n",
       "background      $182604.6 \\pm 359.3$  $6931.2 \\pm 22.9$  $1582.5 \\pm 9.5$   \n",
       "\n",
       "                    n_jets == 0  \n",
       "t                $57.7 \\pm 2.2$  \n",
       "Diboson           $1.4 \\pm 0.5$  \n",
       "$\\sf t\\bar{t}$  $282.0 \\pm 2.7$  \n",
       "Z+jets           $87.7 \\pm 5.3$  \n",
       "Data (ICHEP)              $388$  \n",
       "background      $428.8 \\pm 6.3$  "
      ]
     },
     "execution_count": 7,
     "metadata": {},
     "output_type": "execute_result"
    }
   ],
   "source": [
    "dataset_names = ['t', 'diboson', 'ttbar', 'zjets', 'data']\n",
    "conditions    = ['preselection', 'n_bjets == 1', 'n_fwdjets > 0', 'n_jets == 0']\n",
    "table = data_manager.print_yields(dataset_names, \n",
    "                                  #exclude    = ['signal'],\n",
    "                                  conditions = conditions\n",
    "                                 )\n",
    "table"
   ]
  },
  {
   "cell_type": "markdown",
   "metadata": {},
   "source": [
    "## 1b1c"
   ]
  },
  {
   "cell_type": "code",
   "execution_count": 8,
   "metadata": {
    "collapsed": false
   },
   "outputs": [
    {
     "data": {
      "text/html": [
       "<div>\n",
       "<table border=\"1\" class=\"dataframe\">\n",
       "  <thead>\n",
       "    <tr style=\"text-align: right;\">\n",
       "      <th></th>\n",
       "      <th>preselection</th>\n",
       "      <th>n_bjets &gt;= 1</th>\n",
       "      <th>n_jets + n_bjets == 2</th>\n",
       "      <th>n_fwdjets == 0</th>\n",
       "      <th>met_mag &lt; 40</th>\n",
       "      <th>four_body_delta_phi &gt; 2.5</th>\n",
       "    </tr>\n",
       "  </thead>\n",
       "  <tbody>\n",
       "    <tr>\n",
       "      <th>t</th>\n",
       "      <td>$1958.5 \\pm 12.7$</td>\n",
       "      <td>$729.4 \\pm 7.7$</td>\n",
       "      <td>$228.5 \\pm 4.3$</td>\n",
       "      <td>$179.1 \\pm 3.8$</td>\n",
       "      <td>$40.1 \\pm 1.8$</td>\n",
       "      <td>$31.7 \\pm 1.6$</td>\n",
       "    </tr>\n",
       "    <tr>\n",
       "      <th>Diboson</th>\n",
       "      <td>$5542.0 \\pm 42.7$</td>\n",
       "      <td>$36.8 \\pm 2.8$</td>\n",
       "      <td>$13.0 \\pm 1.6$</td>\n",
       "      <td>$11.4 \\pm 1.6$</td>\n",
       "      <td>$5.6 \\pm 0.9$</td>\n",
       "      <td>$4.5 \\pm 0.8$</td>\n",
       "    </tr>\n",
       "    <tr>\n",
       "      <th>$\\sf t\\bar{t}$</th>\n",
       "      <td>$11569.5 \\pm 17.0$</td>\n",
       "      <td>$6165.0 \\pm 12.4$</td>\n",
       "      <td>$2832.0 \\pm 8.4$</td>\n",
       "      <td>$2222.0 \\pm 7.5$</td>\n",
       "      <td>$512.2 \\pm 3.6$</td>\n",
       "      <td>$401.3 \\pm 3.2$</td>\n",
       "    </tr>\n",
       "    <tr>\n",
       "      <th>Z+jets</th>\n",
       "      <td>$163534.6 \\pm 356.1$</td>\n",
       "      <td>$1256.3 \\pm 18.5$</td>\n",
       "      <td>$358.9 \\pm 10.0$</td>\n",
       "      <td>$310.2 \\pm 9.3$</td>\n",
       "      <td>$247.2 \\pm 8.4$</td>\n",
       "      <td>$209.4 \\pm 7.6$</td>\n",
       "    </tr>\n",
       "    <tr>\n",
       "      <th>Data (ICHEP)</th>\n",
       "      <td>$187344$</td>\n",
       "      <td>$8144$</td>\n",
       "      <td>$3432$</td>\n",
       "      <td>$2731$</td>\n",
       "      <td>$853$</td>\n",
       "      <td>$703$</td>\n",
       "    </tr>\n",
       "    <tr>\n",
       "      <th>background</th>\n",
       "      <td>$182604.6 \\pm 359.3$</td>\n",
       "      <td>$8187.5 \\pm 23.8$</td>\n",
       "      <td>$3432.4 \\pm 13.8$</td>\n",
       "      <td>$2722.7 \\pm 12.6$</td>\n",
       "      <td>$805.2 \\pm 9.3$</td>\n",
       "      <td>$647.0 \\pm 8.5$</td>\n",
       "    </tr>\n",
       "  </tbody>\n",
       "</table>\n",
       "</div>"
      ],
      "text/plain": [
       "                        preselection       n_bjets >= 1 n_jets + n_bjets == 2  \\\n",
       "t                  $1958.5 \\pm 12.7$    $729.4 \\pm 7.7$       $228.5 \\pm 4.3$   \n",
       "Diboson            $5542.0 \\pm 42.7$     $36.8 \\pm 2.8$        $13.0 \\pm 1.6$   \n",
       "$\\sf t\\bar{t}$    $11569.5 \\pm 17.0$  $6165.0 \\pm 12.4$      $2832.0 \\pm 8.4$   \n",
       "Z+jets          $163534.6 \\pm 356.1$  $1256.3 \\pm 18.5$      $358.9 \\pm 10.0$   \n",
       "Data (ICHEP)                $187344$             $8144$                $3432$   \n",
       "background      $182604.6 \\pm 359.3$  $8187.5 \\pm 23.8$     $3432.4 \\pm 13.8$   \n",
       "\n",
       "                   n_fwdjets == 0     met_mag < 40 four_body_delta_phi > 2.5  \n",
       "t                 $179.1 \\pm 3.8$   $40.1 \\pm 1.8$            $31.7 \\pm 1.6$  \n",
       "Diboson            $11.4 \\pm 1.6$    $5.6 \\pm 0.9$             $4.5 \\pm 0.8$  \n",
       "$\\sf t\\bar{t}$   $2222.0 \\pm 7.5$  $512.2 \\pm 3.6$           $401.3 \\pm 3.2$  \n",
       "Z+jets            $310.2 \\pm 9.3$  $247.2 \\pm 8.4$           $209.4 \\pm 7.6$  \n",
       "Data (ICHEP)               $2731$            $853$                     $703$  \n",
       "background      $2722.7 \\pm 12.6$  $805.2 \\pm 9.3$           $647.0 \\pm 8.5$  "
      ]
     },
     "execution_count": 8,
     "metadata": {},
     "output_type": "execute_result"
    }
   ],
   "source": [
    "conditions = ['preselection', 'n_bjets >= 1', 'n_jets + n_bjets == 2', 'n_fwdjets == 0', 'met_mag < 40', 'four_body_delta_phi > 2.5']\n",
    "table = data_manager.print_yields(dataset_names, \n",
    "                                  exclude    = ['bprime_xb', 'fcnc', 'bprime_xbxb_semilep'],\n",
    "                                  conditions = conditions\n",
    "                                 )\n",
    "table"
   ]
  },
  {
   "cell_type": "code",
   "execution_count": 9,
   "metadata": {
    "collapsed": false
   },
   "outputs": [
    {
     "data": {
      "text/html": [
       "<div>\n",
       "<table border=\"1\" class=\"dataframe\">\n",
       "  <thead>\n",
       "    <tr style=\"text-align: right;\">\n",
       "      <th></th>\n",
       "      <th>preselection</th>\n",
       "      <th>1b1f+1b1c</th>\n",
       "    </tr>\n",
       "  </thead>\n",
       "  <tbody>\n",
       "    <tr>\n",
       "      <th>t</th>\n",
       "      <td>$1958.5 \\pm 12.7$</td>\n",
       "      <td>$89.4 \\pm 2.7$</td>\n",
       "    </tr>\n",
       "    <tr>\n",
       "      <th>Diboson</th>\n",
       "      <td>$5542.0 \\pm 42.7$</td>\n",
       "      <td>$5.9 \\pm 1.0$</td>\n",
       "    </tr>\n",
       "    <tr>\n",
       "      <th>$\\sf t\\bar{t}$</th>\n",
       "      <td>$11569.5 \\pm 17.0$</td>\n",
       "      <td>$683.3 \\pm 4.1$</td>\n",
       "    </tr>\n",
       "    <tr>\n",
       "      <th>Z+jets</th>\n",
       "      <td>$163534.6 \\pm 356.1$</td>\n",
       "      <td>$297.1 \\pm 9.3$</td>\n",
       "    </tr>\n",
       "    <tr>\n",
       "      <th>Data (ICHEP)</th>\n",
       "      <td>$187344$</td>\n",
       "      <td>$1091$</td>\n",
       "    </tr>\n",
       "    <tr>\n",
       "      <th>background</th>\n",
       "      <td>$182604.6 \\pm 359.3$</td>\n",
       "      <td>$1075.8 \\pm 10.5$</td>\n",
       "    </tr>\n",
       "  </tbody>\n",
       "</table>\n",
       "</div>"
      ],
      "text/plain": [
       "                        preselection          1b1f+1b1c\n",
       "t                  $1958.5 \\pm 12.7$     $89.4 \\pm 2.7$\n",
       "Diboson            $5542.0 \\pm 42.7$      $5.9 \\pm 1.0$\n",
       "$\\sf t\\bar{t}$    $11569.5 \\pm 17.0$    $683.3 \\pm 4.1$\n",
       "Z+jets          $163534.6 \\pm 356.1$    $297.1 \\pm 9.3$\n",
       "Data (ICHEP)                $187344$             $1091$\n",
       "background      $182604.6 \\pm 359.3$  $1075.8 \\pm 10.5$"
      ]
     },
     "execution_count": 9,
     "metadata": {},
     "output_type": "execute_result"
    }
   ],
   "source": [
    "conditions    = ['preselection', \n",
    "                 '((n_bjets == 1 and n_jets == 0 and n_fwdjets > 0) \\\n",
    "                  or (n_bjets >= 1 and n_jets + n_bjets == 2 \\\n",
    "                  and n_fwdjets == 0 and met_mag < 40 and \\\n",
    "                  four_body_delta_phi > 2.5))'\n",
    "                ]\n",
    "table = data_manager.print_yields(dataset_names, \n",
    "                                  #exclude    = ['bprime_xb', 'fcnc', 'bprime_xbxb_semilep'],\n",
    "                                  conditions = conditions,\n",
    "                                  mc_scale=True\n",
    "                                 )\n",
    "table.columns = ['preselection', '1b1f+1b1c']\n",
    "table"
   ]
  }
 ],
 "metadata": {
  "hide_input": false,
  "kernelspec": {
   "display_name": "Python 2",
   "language": "python",
   "name": "python2"
  },
  "language_info": {
   "codemirror_mode": {
    "name": "ipython",
    "version": 2
   },
   "file_extension": ".py",
   "mimetype": "text/x-python",
   "name": "python",
   "nbconvert_exporter": "python",
   "pygments_lexer": "ipython2",
   "version": "2.7.12"
  },
  "latex_envs": {
   "bibliofile": "biblio.bib",
   "cite_by": "apalike",
   "current_citInitial": 1,
   "eqLabelWithNumbers": true,
   "eqNumInitial": 0
  },
  "toc": {
   "nav_menu": {
    "height": "141px",
    "width": "252px"
   },
   "navigate_menu": true,
   "number_sections": true,
   "sideBar": true,
   "threshold": 4,
   "toc_cell": false,
   "toc_section_display": "block",
   "toc_window_display": false
  },
  "widgets": {
   "state": {},
   "version": "1.1.2"
  }
 },
 "nbformat": 4,
 "nbformat_minor": 0
}
