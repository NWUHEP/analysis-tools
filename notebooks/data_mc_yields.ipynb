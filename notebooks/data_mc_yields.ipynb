{
 "cells": [
  {
   "cell_type": "markdown",
   "metadata": {},
   "source": [
    "# Data/MC yields\n",
    "\n",
    "## 8 TeV"
   ]
  },
  {
   "cell_type": "code",
   "execution_count": 1,
   "metadata": {
    "code_folding": [
     0
    ],
    "collapsed": false
   },
   "outputs": [
    {
     "name": "stdout",
     "output_type": "stream",
     "text": [
      "/home/naodell/work/CMS/amumu\n"
     ]
    }
   ],
   "source": [
    "#imports\n",
    "%cd '/home/naodell/work/CMS/amumu'\n",
    "%matplotlib notebook\n",
    "\n",
    "import os, sys\n",
    "from timeit import default_timer as timer\n",
    "\n",
    "import numpy as np\n",
    "import pandas as pd\n",
    "import matplotlib.pyplot as plt\n",
    "\n",
    "import nllfitter.plot_tools as pt\n",
    "\n",
    "from IPython.display import display"
   ]
  },
  {
   "cell_type": "code",
   "execution_count": 2,
   "metadata": {
    "code_folding": [],
    "collapsed": false
   },
   "outputs": [
    {
     "name": "stderr",
     "output_type": "stream",
     "text": [
      "Loading dataframes: 100%|███████████████| 30.0/30.0 [00:15<00:00, 8.59it/s]\n"
     ]
    }
   ],
   "source": [
    "#configuration and data retrieval\n",
    "datasets = [\n",
    "            'muon_2012A', 'muon_2012B', 'muon_2012C', 'muon_2012D', \n",
    "            'ttbar_lep', 'ttbar_semilep',\n",
    "            'zjets_m-50', 'zjets_m-10to50',\n",
    "            'z1jets_m-50', 'z1jets_m-10to50',\n",
    "            'z2jets_m-50', 'z2jets_m-10to50',\n",
    "            'z3jets_m-50', 'z3jets_m-10to50',\n",
    "            'z4jets_m-50', 'z4jets_m-10to50',\n",
    "            't_s', 't_t', 't_tw', 'tbar_s', 'tbar_t', 'tbar_tw',\n",
    "            'ww', 'wz_2l2q', 'wz_3lnu', 'zz_2l2q', 'zz_2l2nu',\n",
    "            'bprime_xb', 'bprime_xbxb_semilep', 'fcnc'\n",
    "            ]\n",
    "preselection = '(lepton1_pt > 25 and abs(lepton1_eta) < 2.1 \\\n",
    "                and lepton2_pt > 25 and abs(lepton2_eta) < 2.1 \\\n",
    "                and lepton1_q != lepton2_q and 12 < dilepton_mass < 70)'\n",
    "\n",
    "data_manager = pt.DataManager(input_dir     = 'data/flatuples/mumu_2012',\n",
    "                              dataset_names = datasets,\n",
    "                              selection     = 'mumu',\n",
    "                              period        = 2012,\n",
    "                              scale         = 19.8e3,\n",
    "                              cuts          = preselection\n",
    "                             )"
   ]
  },
  {
   "cell_type": "markdown",
   "metadata": {},
   "source": [
    "### 1b1f "
   ]
  },
  {
   "cell_type": "code",
   "execution_count": 7,
   "metadata": {
    "collapsed": false
   },
   "outputs": [
    {
     "data": {
      "text/html": [
       "<div>\n",
       "<table border=\"1\" class=\"dataframe\">\n",
       "  <thead>\n",
       "    <tr style=\"text-align: right;\">\n",
       "      <th></th>\n",
       "      <th>preselection</th>\n",
       "      <th>n_bjets == 1</th>\n",
       "      <th>n_fwdjets &gt; 0</th>\n",
       "      <th>n_jets == 0</th>\n",
       "    </tr>\n",
       "  </thead>\n",
       "  <tbody>\n",
       "    <tr>\n",
       "      <th>t</th>\n",
       "      <td>$593.8 \\pm 17.2$</td>\n",
       "      <td>$237.3 \\pm 10.9$</td>\n",
       "      <td>$33.6 \\pm 4.0$</td>\n",
       "      <td>$18.4 \\pm 3.0$</td>\n",
       "    </tr>\n",
       "    <tr>\n",
       "      <th>Diboson</th>\n",
       "      <td>$1530.5 \\pm 11.6$</td>\n",
       "      <td>$30.0 \\pm 1.2$</td>\n",
       "      <td>$4.1 \\pm 0.4$</td>\n",
       "      <td>$1.7 \\pm 0.3$</td>\n",
       "    </tr>\n",
       "    <tr>\n",
       "      <th>$\\sf t\\bar{t}$</th>\n",
       "      <td>$6568.7 \\pm 18.1$</td>\n",
       "      <td>$3029.6 \\pm 12.2$</td>\n",
       "      <td>$575.6 \\pm 5.3$</td>\n",
       "      <td>$138.9 \\pm 2.6$</td>\n",
       "    </tr>\n",
       "    <tr>\n",
       "      <th>Z+jets</th>\n",
       "      <td>$162338.4 \\pm 546.6$</td>\n",
       "      <td>$1205.5 \\pm 25.4$</td>\n",
       "      <td>$123.6 \\pm 8.1$</td>\n",
       "      <td>$73.7 \\pm 6.4$</td>\n",
       "    </tr>\n",
       "    <tr>\n",
       "      <th>$\\sf B’\\rightarrow Xb$</th>\n",
       "      <td>$202.2 \\pm 2.7$</td>\n",
       "      <td>$76.5 \\pm 1.7$</td>\n",
       "      <td>$26.1 \\pm 1.0$</td>\n",
       "      <td>$19.2 \\pm 0.8$</td>\n",
       "    </tr>\n",
       "    <tr>\n",
       "      <th>$\\sf t\\rightarrow hc$</th>\n",
       "      <td>$185.8 \\pm 2.6$</td>\n",
       "      <td>$59.6 \\pm 1.5$</td>\n",
       "      <td>$7.4 \\pm 0.5$</td>\n",
       "      <td>$2.8 \\pm 0.3$</td>\n",
       "    </tr>\n",
       "    <tr>\n",
       "      <th>$\\sf B’B’\\rightarrow XbXb$</th>\n",
       "      <td>$240.0 \\pm 2.0$</td>\n",
       "      <td>$108.1 \\pm 1.4$</td>\n",
       "      <td>$28.3 \\pm 0.7$</td>\n",
       "      <td>$1.1 \\pm 0.1$</td>\n",
       "    </tr>\n",
       "    <tr>\n",
       "      <th>Data</th>\n",
       "      <td>$180310$</td>\n",
       "      <td>$4613$</td>\n",
       "      <td>$718$</td>\n",
       "      <td>$0$</td>\n",
       "    </tr>\n",
       "    <tr>\n",
       "      <th>background</th>\n",
       "      <td>$171031.4 \\pm 547.3$</td>\n",
       "      <td>$4502.5 \\pm 30.2$</td>\n",
       "      <td>$736.9 \\pm 10.5$</td>\n",
       "      <td>$232.7 \\pm 7.5$</td>\n",
       "    </tr>\n",
       "  </tbody>\n",
       "</table>\n",
       "</div>"
      ],
      "text/plain": [
       "                                    preselection       n_bjets == 1  \\\n",
       "t                               $593.8 \\pm 17.2$   $237.3 \\pm 10.9$   \n",
       "Diboson                        $1530.5 \\pm 11.6$     $30.0 \\pm 1.2$   \n",
       "$\\sf t\\bar{t}$                 $6568.7 \\pm 18.1$  $3029.6 \\pm 12.2$   \n",
       "Z+jets                      $162338.4 \\pm 546.6$  $1205.5 \\pm 25.4$   \n",
       "$\\sf B’\\rightarrow Xb$           $202.2 \\pm 2.7$     $76.5 \\pm 1.7$   \n",
       "$\\sf t\\rightarrow hc$            $185.8 \\pm 2.6$     $59.6 \\pm 1.5$   \n",
       "$\\sf B’B’\\rightarrow XbXb$       $240.0 \\pm 2.0$    $108.1 \\pm 1.4$   \n",
       "Data                                    $180310$             $4613$   \n",
       "background                  $171031.4 \\pm 547.3$  $4502.5 \\pm 30.2$   \n",
       "\n",
       "                               n_fwdjets > 0      n_jets == 0  \n",
       "t                             $33.6 \\pm 4.0$   $18.4 \\pm 3.0$  \n",
       "Diboson                        $4.1 \\pm 0.4$    $1.7 \\pm 0.3$  \n",
       "$\\sf t\\bar{t}$               $575.6 \\pm 5.3$  $138.9 \\pm 2.6$  \n",
       "Z+jets                       $123.6 \\pm 8.1$   $73.7 \\pm 6.4$  \n",
       "$\\sf B’\\rightarrow Xb$        $26.1 \\pm 1.0$   $19.2 \\pm 0.8$  \n",
       "$\\sf t\\rightarrow hc$          $7.4 \\pm 0.5$    $2.8 \\pm 0.3$  \n",
       "$\\sf B’B’\\rightarrow XbXb$    $28.3 \\pm 0.7$    $1.1 \\pm 0.1$  \n",
       "Data                                   $718$              $0$  \n",
       "background                  $736.9 \\pm 10.5$  $232.7 \\pm 7.5$  "
      ]
     },
     "execution_count": 7,
     "metadata": {},
     "output_type": "execute_result"
    }
   ],
   "source": [
    "dataset_names = ['t', 'diboson', 'ttbar', 'zjets', \n",
    "                 'bprime_xb', 'fcnc', 'bprime_xbxb_semilep', \n",
    "                 'data']\n",
    "conditions    = ['preselection', 'n_bjets == 1', 'n_fwdjets > 0', 'n_jets == 0']\n",
    "table = data_manager.print_yields(dataset_names, \n",
    "                                  exclude    = ['bprime_xb', 'fcnc', 'bprime_xbxb_semilep'],\n",
    "                                  conditions = conditions\n",
    "                                 )\n",
    "table"
   ]
  },
  {
   "cell_type": "markdown",
   "metadata": {},
   "source": [
    "### 1b1c "
   ]
  },
  {
   "cell_type": "code",
   "execution_count": null,
   "metadata": {
    "collapsed": false,
    "scrolled": false
   },
   "outputs": [],
   "source": [
    "conditions = ['preselection', 'n_bjets >= 1', 'n_jets + n_bjets == 2', 'n_fwdjets == 0', 'met_mag < 40', 'four_body_delta_phi > 2.5']\n",
    "table = data_manager.print_yields(dataset_names, \n",
    "                                  exclude    = ['bprime_xb', 'fcnc', 'bprime_xbxb_semilep'],\n",
    "                                  conditions = conditions\n",
    "                                 )\n",
    "table"
   ]
  },
  {
   "cell_type": "markdown",
   "metadata": {},
   "source": [
    "### combined"
   ]
  },
  {
   "cell_type": "code",
   "execution_count": 10,
   "metadata": {
    "collapsed": false
   },
   "outputs": [
    {
     "data": {
      "text/html": [
       "<div>\n",
       "<table border=\"1\" class=\"dataframe\">\n",
       "  <thead>\n",
       "    <tr style=\"text-align: right;\">\n",
       "      <th></th>\n",
       "      <th>preselection</th>\n",
       "      <th>1b1f+1b1c</th>\n",
       "    </tr>\n",
       "  </thead>\n",
       "  <tbody>\n",
       "    <tr>\n",
       "      <th>t</th>\n",
       "      <td>$593.8 \\pm 17.2$</td>\n",
       "      <td>$32.9 \\pm 4.0$</td>\n",
       "    </tr>\n",
       "    <tr>\n",
       "      <th>Diboson</th>\n",
       "      <td>$1530.5 \\pm 11.6$</td>\n",
       "      <td>$8.1 \\pm 0.5$</td>\n",
       "    </tr>\n",
       "    <tr>\n",
       "      <th>$\\sf t\\bar{t}$</th>\n",
       "      <td>$6568.7 \\pm 18.1$</td>\n",
       "      <td>$437.4 \\pm 4.6$</td>\n",
       "    </tr>\n",
       "    <tr>\n",
       "      <th>Z+jets</th>\n",
       "      <td>$162338.4 \\pm 546.6$</td>\n",
       "      <td>$315.2 \\pm 12.0$</td>\n",
       "    </tr>\n",
       "    <tr>\n",
       "      <th>$\\sf B’\\rightarrow Xb$</th>\n",
       "      <td>$202.2 \\pm 2.7$</td>\n",
       "      <td>$41.5 \\pm 1.2$</td>\n",
       "    </tr>\n",
       "    <tr>\n",
       "      <th>$\\sf t\\rightarrow hc$</th>\n",
       "      <td>$185.8 \\pm 2.6$</td>\n",
       "      <td>$27.2 \\pm 1.0$</td>\n",
       "    </tr>\n",
       "    <tr>\n",
       "      <th>$\\sf B’B’\\rightarrow XbXb$</th>\n",
       "      <td>$240.0 \\pm 2.0$</td>\n",
       "      <td>$12.7 \\pm 0.5$</td>\n",
       "    </tr>\n",
       "    <tr>\n",
       "      <th>Data</th>\n",
       "      <td>$180310$</td>\n",
       "      <td>$623$</td>\n",
       "    </tr>\n",
       "    <tr>\n",
       "      <th>background</th>\n",
       "      <td>$171031.4 \\pm 547.3$</td>\n",
       "      <td>$793.7 \\pm 13.5$</td>\n",
       "    </tr>\n",
       "  </tbody>\n",
       "</table>\n",
       "</div>"
      ],
      "text/plain": [
       "                                    preselection         1b1f+1b1c\n",
       "t                               $593.8 \\pm 17.2$    $32.9 \\pm 4.0$\n",
       "Diboson                        $1530.5 \\pm 11.6$     $8.1 \\pm 0.5$\n",
       "$\\sf t\\bar{t}$                 $6568.7 \\pm 18.1$   $437.4 \\pm 4.6$\n",
       "Z+jets                      $162338.4 \\pm 546.6$  $315.2 \\pm 12.0$\n",
       "$\\sf B’\\rightarrow Xb$           $202.2 \\pm 2.7$    $41.5 \\pm 1.2$\n",
       "$\\sf t\\rightarrow hc$            $185.8 \\pm 2.6$    $27.2 \\pm 1.0$\n",
       "$\\sf B’B’\\rightarrow XbXb$       $240.0 \\pm 2.0$    $12.7 \\pm 0.5$\n",
       "Data                                    $180310$             $623$\n",
       "background                  $171031.4 \\pm 547.3$  $793.7 \\pm 13.5$"
      ]
     },
     "execution_count": 10,
     "metadata": {},
     "output_type": "execute_result"
    }
   ],
   "source": [
    "conditions    = ['preselection', \n",
    "                 '((n_bjets == 1 and n_jets == 0 and n_fwdjets > 0) \\\n",
    "                  or (n_bjets >= 1 and n_jets + n_bjets == 2 \\\n",
    "                  and n_fwdjets == 0 and met_mag < 40 and \\\n",
    "                  four_body_delta_phi > 2.5))'\n",
    "                ]\n",
    "table = data_manager.print_yields(dataset_names, \n",
    "                                  exclude    = ['bprime_xb', 'fcnc', 'bprime_xbxb_semilep'],\n",
    "                                  conditions = conditions,\n",
    "                                  mc_scale   = True\n",
    "                                 )\n",
    "table.columns = ['preselection', '1b1f+1b1c']\n",
    "table"
   ]
  },
  {
   "cell_type": "markdown",
   "metadata": {},
   "source": [
    "## 13 TeV"
   ]
  },
  {
   "cell_type": "code",
   "execution_count": null,
   "metadata": {
    "code_folding": [
     0
    ],
    "collapsed": false
   },
   "outputs": [],
   "source": [
    "# 13 TeV configuration and data retrieval\n",
    "datasets = [\n",
    "            'muon_2016B', 'muon_2016C', 'muon_2016D',\n",
    "            'ttjets',\n",
    "            't_t', 't_tw', 'tbar_t', 'tbar_tw',\n",
    "            'zjets_m-50', 'zjets_m-10to50',\n",
    "            ]\n",
    "\n",
    "signal_mask = '(dilepton_mass < 24 or dilepton_mass > 34)' # blind signal region\n",
    "data_manager = pt.DataManager(input_dir     = 'data/flatuples/mumu_2016',\n",
    "                              dataset_names = datasets,\n",
    "                              selection     = 'mumu',\n",
    "                              period        = 2016,\n",
    "                              scale         = 12e3,\n",
    "                              cuts          = preselection + ' and ' + signal_mask\n",
    "                             )\n",
    "dataset_names = ['t', 'ttbar', 'zjets', 'data']"
   ]
  },
  {
   "cell_type": "markdown",
   "metadata": {},
   "source": [
    "### 1b1f"
   ]
  },
  {
   "cell_type": "code",
   "execution_count": null,
   "metadata": {
    "collapsed": false
   },
   "outputs": [],
   "source": [
    "conditions    = ['preselection', 'n_bjets == 1', 'n_fwdjets > 0', 'n_jets == 0']\n",
    "table_string = data_manager.print_yields(dataset_names, conditions)\n",
    "#print table_string # I need to print the string and then paste into the following markdown cell; need to find a way around this..."
   ]
  },
  {
   "cell_type": "markdown",
   "metadata": {},
   "source": [
    "| | t | $\\sf t\\bar{t}$ | Z+jets | Data | background | \n",
    "|-|-|-|-|-|-|-|\n",
    "| preselection  | 1050.8 $\\pm$ 20.7 | 10957.2 $\\pm$ 52.6 | 145884.8 $\\pm$ 739.6 | 176538  | 157892.7 $\\pm$ 741.8 | \n",
    "| n_bjets == 1  | 342.8 $\\pm$ 11.9 | 4605.7 $\\pm$ 34.1 | 1830.6 $\\pm$ 86.0 | 5985  | 6779.2 $\\pm$ 93.3 | \n",
    "| n_fwdjets > 0  | 67.9 $\\pm$ 5.3 | 1598.5 $\\pm$ 20.1 | 339.1 $\\pm$ 37.2 | 1285  | 2005.5 $\\pm$ 42.6 | \n",
    "| n_jets == 0  | 28.2 $\\pm$ 3.5 | 284.7 $\\pm$ 8.5 | 173.3 $\\pm$ 25.8 | 348  | 486.2 $\\pm$ 27.4 | "
   ]
  },
  {
   "cell_type": "markdown",
   "metadata": {},
   "source": [
    "### 1b1c"
   ]
  },
  {
   "cell_type": "code",
   "execution_count": null,
   "metadata": {
    "collapsed": false
   },
   "outputs": [],
   "source": [
    "conditions    = ['preselection', 'n_bjets == 1', 'n_jets == 1', 'n_fwdjets == 0', 'met_mag < 40', 'four_body_delta_phi > 2.5']\n",
    "table_string = data_manager.print_yields(dataset_names, conditions)\n",
    "#print table_string # I need to print the string and then paste into the following markdown cell; need to find a way around this..."
   ]
  },
  {
   "cell_type": "markdown",
   "metadata": {},
   "source": [
    "| | t | $\\sf t\\bar{t}$ | Z+jets | Data | background | \n",
    "|-|-|-|-|-|-|-|\n",
    "| preselection  | 1050.8 $\\pm$ 20.7 | 10957.2 $\\pm$ 52.6 | 145884.8 $\\pm$ 739.6 | 176538  | 157892.7 $\\pm$ 741.8 | \n",
    "| n_bjets == 1  | 342.8 $\\pm$ 11.9 | 4605.7 $\\pm$ 34.1 | 1830.6 $\\pm$ 86.0 | 5985  | 6779.2 $\\pm$ 93.3 | \n",
    "| n_jets == 1  | 108.4 $\\pm$ 6.7 | 1700.7 $\\pm$ 20.7 | 619.6 $\\pm$ 50.2 | 2441  | 2428.7 $\\pm$ 54.7 | \n",
    "| n_fwdjets == 0  | 85.2 $\\pm$ 5.9 | 1079.9 $\\pm$ 16.5 | 509.7 $\\pm$ 45.2 | 1937  | 1674.7 $\\pm$ 48.5 | \n",
    "| met_mag < 40  | 22.5 $\\pm$ 3.0 | 268.8 $\\pm$ 8.2 | 408.4 $\\pm$ 40.7 | 650  | 699.7 $\\pm$ 41.6 | \n",
    "| four_body_delta_phi > 2.5  | 19.9 $\\pm$ 2.9 | 208.0 $\\pm$ 7.2 | 359.0 $\\pm$ 38.6 | 524  | 587.0 $\\pm$ 39.4 | \n",
    "\n"
   ]
  }
 ],
 "metadata": {
  "hide_input": false,
  "kernelspec": {
   "display_name": "Python 2",
   "language": "python",
   "name": "python2"
  },
  "language_info": {
   "codemirror_mode": {
    "name": "ipython",
    "version": 2
   },
   "file_extension": ".py",
   "mimetype": "text/x-python",
   "name": "python",
   "nbconvert_exporter": "python",
   "pygments_lexer": "ipython2",
   "version": "2.7.12"
  },
  "latex_envs": {
   "bibliofile": "biblio.bib",
   "cite_by": "apalike",
   "current_citInitial": 1,
   "eqLabelWithNumbers": true,
   "eqNumInitial": 0
  },
  "toc": {
   "nav_menu": {
    "height": "141px",
    "width": "252px"
   },
   "navigate_menu": true,
   "number_sections": true,
   "sideBar": true,
   "threshold": 4,
   "toc_cell": false,
   "toc_section_display": "block",
   "toc_window_display": false
  },
  "widgets": {
   "state": {},
   "version": "1.1.2"
  }
 },
 "nbformat": 4,
 "nbformat_minor": 0
}
