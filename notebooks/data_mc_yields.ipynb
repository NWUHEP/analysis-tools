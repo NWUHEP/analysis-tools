{
 "cells": [
  {
   "cell_type": "markdown",
   "metadata": {},
   "source": [
    "# Data/MC yields\n",
    "\n",
    "## 8 TeV"
   ]
  },
  {
   "cell_type": "code",
   "execution_count": 1,
   "metadata": {
    "code_folding": [
     0
    ],
    "collapsed": false
   },
   "outputs": [
    {
     "name": "stdout",
     "output_type": "stream",
     "text": [
      "/home/naodell/work/CMS/amumu\n"
     ]
    }
   ],
   "source": [
    "#imports\n",
    "%cd '/home/naodell/work/CMS/amumu'\n",
    "%matplotlib notebook\n",
    "\n",
    "import os, sys\n",
    "from timeit import default_timer as timer\n",
    "\n",
    "import numpy as np\n",
    "import pandas as pd\n",
    "import matplotlib.pyplot as plt\n",
    "\n",
    "import nllfitter.plot_tools as pt\n",
    "\n",
    "from IPython.display import display"
   ]
  },
  {
   "cell_type": "code",
   "execution_count": 2,
   "metadata": {
    "code_folding": [],
    "collapsed": false
   },
   "outputs": [
    {
     "name": "stderr",
     "output_type": "stream",
     "text": [
      "Loading dataframes: 100%|███████████████| 29.0/29.0 [00:09<00:00, 3.08it/s]\n"
     ]
    }
   ],
   "source": [
    "#configuration and data retrieval\n",
    "datasets = [\n",
    "            'muon_2012A', 'muon_2012B', 'muon_2012C', 'muon_2012D', \n",
    "            'ttbar_lep', 'ttbar_semilep',\n",
    "            'zjets_m-50', 'zjets_m-10to50',\n",
    "            'z1jets_m-50', 'z1jets_m-10to50',\n",
    "            'z2jets_m-50', 'z2jets_m-10to50',\n",
    "            'z3jets_m-50', 'z3jets_m-10to50',\n",
    "            'z4jets_m-50', 'z4jets_m-10to50',\n",
    "            't_s', 't_t', 't_tw', 'tbar_s', 'tbar_t', 'tbar_tw',\n",
    "            'ww', 'wz_2l2q', 'wz_3lnu', 'zz_2l2q', 'zz_2l2nu',\n",
    "            'bprime_t-channel', 'bprime_bb_semilep'\n",
    "            ]\n",
    "preselection = '(lepton1_pt > 25 and abs(lepton1_eta) < 2.1 \\\n",
    "                and lepton2_pt > 25 and abs(lepton2_eta) < 2.1 \\\n",
    "                and lepton1_q != lepton2_q and 12 < dilepton_mass < 70)'\n",
    "\n",
    "data_manager = pt.DataManager(input_dir     = 'data/flatuples/mumu_2012',\n",
    "                              dataset_names = datasets,\n",
    "                              selection     = 'mumu',\n",
    "                              period        = 2012,\n",
    "                              scale         = 19.8e3,\n",
    "                              cuts          = preselection\n",
    "                             )"
   ]
  },
  {
   "cell_type": "markdown",
   "metadata": {},
   "source": [
    "### 1b1f "
   ]
  },
  {
   "cell_type": "code",
   "execution_count": 3,
   "metadata": {
    "collapsed": false
   },
   "outputs": [
    {
     "data": {
      "text/html": [
       "<div>\n",
       "<table border=\"1\" class=\"dataframe\">\n",
       "  <thead>\n",
       "    <tr style=\"text-align: right;\">\n",
       "      <th></th>\n",
       "      <th>preselection</th>\n",
       "      <th>n_bjets == 1</th>\n",
       "      <th>n_fwdjets &gt; 0</th>\n",
       "      <th>n_jets == 0</th>\n",
       "    </tr>\n",
       "  </thead>\n",
       "  <tbody>\n",
       "    <tr>\n",
       "      <th>t</th>\n",
       "      <td>$593.8 \\pm 17.2$</td>\n",
       "      <td>$237.3 \\pm 10.9$</td>\n",
       "      <td>$33.6 \\pm 4.0$</td>\n",
       "      <td>$18.4 \\pm 3.0$</td>\n",
       "    </tr>\n",
       "    <tr>\n",
       "      <th>Diboson</th>\n",
       "      <td>$1530.5 \\pm 11.6$</td>\n",
       "      <td>$30.0 \\pm 1.2$</td>\n",
       "      <td>$4.1 \\pm 0.4$</td>\n",
       "      <td>$1.7 \\pm 0.3$</td>\n",
       "    </tr>\n",
       "    <tr>\n",
       "      <th>$\\sf t\\bar{t}$</th>\n",
       "      <td>$6568.7 \\pm 18.1$</td>\n",
       "      <td>$3029.6 \\pm 12.2$</td>\n",
       "      <td>$575.6 \\pm 5.3$</td>\n",
       "      <td>$138.9 \\pm 2.6$</td>\n",
       "    </tr>\n",
       "    <tr>\n",
       "      <th>Z+jets</th>\n",
       "      <td>$162339.4 \\pm 546.6$</td>\n",
       "      <td>$1205.5 \\pm 25.4$</td>\n",
       "      <td>$123.6 \\pm 8.1$</td>\n",
       "      <td>$73.7 \\pm 6.4$</td>\n",
       "    </tr>\n",
       "    <tr>\n",
       "      <th>$\\sf B’\\rightarrow Xb$</th>\n",
       "      <td>$202.2 \\pm 2.7$</td>\n",
       "      <td>$76.5 \\pm 1.7$</td>\n",
       "      <td>$26.1 \\pm 1.0$</td>\n",
       "      <td>$19.2 \\pm 0.8$</td>\n",
       "    </tr>\n",
       "    <tr>\n",
       "      <th>Data</th>\n",
       "      <td>$180310$</td>\n",
       "      <td>$4613$</td>\n",
       "      <td>$718$</td>\n",
       "      <td>$234$</td>\n",
       "    </tr>\n",
       "    <tr>\n",
       "      <th>background</th>\n",
       "      <td>$171234.6 \\pm 547.3$</td>\n",
       "      <td>$4579.0 \\pm 30.3$</td>\n",
       "      <td>$763.0 \\pm 10.6$</td>\n",
       "      <td>$251.9 \\pm 7.6$</td>\n",
       "    </tr>\n",
       "  </tbody>\n",
       "</table>\n",
       "</div>"
      ],
      "text/plain": [
       "                                preselection       n_bjets == 1  \\\n",
       "t                           $593.8 \\pm 17.2$   $237.3 \\pm 10.9$   \n",
       "Diboson                    $1530.5 \\pm 11.6$     $30.0 \\pm 1.2$   \n",
       "$\\sf t\\bar{t}$             $6568.7 \\pm 18.1$  $3029.6 \\pm 12.2$   \n",
       "Z+jets                  $162339.4 \\pm 546.6$  $1205.5 \\pm 25.4$   \n",
       "$\\sf B’\\rightarrow Xb$       $202.2 \\pm 2.7$     $76.5 \\pm 1.7$   \n",
       "Data                                $180310$             $4613$   \n",
       "background              $171234.6 \\pm 547.3$  $4579.0 \\pm 30.3$   \n",
       "\n",
       "                           n_fwdjets > 0      n_jets == 0  \n",
       "t                         $33.6 \\pm 4.0$   $18.4 \\pm 3.0$  \n",
       "Diboson                    $4.1 \\pm 0.4$    $1.7 \\pm 0.3$  \n",
       "$\\sf t\\bar{t}$           $575.6 \\pm 5.3$  $138.9 \\pm 2.6$  \n",
       "Z+jets                   $123.6 \\pm 8.1$   $73.7 \\pm 6.4$  \n",
       "$\\sf B’\\rightarrow Xb$    $26.1 \\pm 1.0$   $19.2 \\pm 0.8$  \n",
       "Data                               $718$            $234$  \n",
       "background              $763.0 \\pm 10.6$  $251.9 \\pm 7.6$  "
      ]
     },
     "execution_count": 3,
     "metadata": {},
     "output_type": "execute_result"
    }
   ],
   "source": [
    "dataset_names = ['t', 'diboson', 'ttbar', 'zjets', \n",
    "                 'bprime_t-channel', \n",
    "                 'data']\n",
    "conditions    = ['preselection', 'n_bjets == 1', 'n_fwdjets > 0', 'n_jets == 0']\n",
    "table = data_manager.print_yields(dataset_names, \n",
    "                                  exclude    = ['bprime_xb', 'fcnc', 'bprime_xbxb_semilep'],\n",
    "                                  conditions = conditions\n",
    "                                 )\n",
    "table"
   ]
  },
  {
   "cell_type": "markdown",
   "metadata": {},
   "source": [
    "### 1b1c "
   ]
  },
  {
   "cell_type": "code",
   "execution_count": 4,
   "metadata": {
    "collapsed": false,
    "scrolled": false
   },
   "outputs": [
    {
     "data": {
      "text/html": [
       "<div>\n",
       "<table border=\"1\" class=\"dataframe\">\n",
       "  <thead>\n",
       "    <tr style=\"text-align: right;\">\n",
       "      <th></th>\n",
       "      <th>preselection</th>\n",
       "      <th>n_bjets &gt;= 1</th>\n",
       "      <th>n_jets + n_bjets == 2</th>\n",
       "      <th>n_fwdjets == 0</th>\n",
       "      <th>met_mag &lt; 40</th>\n",
       "      <th>four_body_delta_phi &gt; 2.5</th>\n",
       "    </tr>\n",
       "  </thead>\n",
       "  <tbody>\n",
       "    <tr>\n",
       "      <th>t</th>\n",
       "      <td>$593.8 \\pm 17.2$</td>\n",
       "      <td>$254.1 \\pm 11.3$</td>\n",
       "      <td>$79.3 \\pm 6.2$</td>\n",
       "      <td>$68.3 \\pm 5.8$</td>\n",
       "      <td>$16.9 \\pm 2.9$</td>\n",
       "      <td>$14.5 \\pm 2.7$</td>\n",
       "    </tr>\n",
       "    <tr>\n",
       "      <th>Diboson</th>\n",
       "      <td>$1530.5 \\pm 11.6$</td>\n",
       "      <td>$32.3 \\pm 1.2$</td>\n",
       "      <td>$10.9 \\pm 0.7$</td>\n",
       "      <td>$9.6 \\pm 0.6$</td>\n",
       "      <td>$7.4 \\pm 0.5$</td>\n",
       "      <td>$6.4 \\pm 0.4$</td>\n",
       "    </tr>\n",
       "    <tr>\n",
       "      <th>$\\sf t\\bar{t}$</th>\n",
       "      <td>$6568.7 \\pm 18.1$</td>\n",
       "      <td>$3890.1 \\pm 13.9$</td>\n",
       "      <td>$1898.8 \\pm 9.7$</td>\n",
       "      <td>$1584.7 \\pm 8.8$</td>\n",
       "      <td>$366.9 \\pm 4.3$</td>\n",
       "      <td>$298.6 \\pm 3.8$</td>\n",
       "    </tr>\n",
       "    <tr>\n",
       "      <th>Z+jets</th>\n",
       "      <td>$162339.4 \\pm 546.6$</td>\n",
       "      <td>$1245.7 \\pm 26.0$</td>\n",
       "      <td>$355.3 \\pm 12.6$</td>\n",
       "      <td>$321.2 \\pm 11.8$</td>\n",
       "      <td>$273.6 \\pm 10.9$</td>\n",
       "      <td>$241.5 \\pm 10.2$</td>\n",
       "    </tr>\n",
       "    <tr>\n",
       "      <th>$\\sf B’\\rightarrow Xb$</th>\n",
       "      <td>$202.2 \\pm 2.7$</td>\n",
       "      <td>$77.3 \\pm 1.7$</td>\n",
       "      <td>$31.6 \\pm 1.1$</td>\n",
       "      <td>$26.0 \\pm 1.0$</td>\n",
       "      <td>$22.9 \\pm 0.9$</td>\n",
       "      <td>$22.3 \\pm 0.9$</td>\n",
       "    </tr>\n",
       "    <tr>\n",
       "      <th>Data</th>\n",
       "      <td>$180310$</td>\n",
       "      <td>$5546$</td>\n",
       "      <td>$2420$</td>\n",
       "      <td>$2059$</td>\n",
       "      <td>$717$</td>\n",
       "      <td>$605$</td>\n",
       "    </tr>\n",
       "    <tr>\n",
       "      <th>background</th>\n",
       "      <td>$171234.6 \\pm 547.3$</td>\n",
       "      <td>$5499.5 \\pm 31.6$</td>\n",
       "      <td>$2375.9 \\pm 17.1$</td>\n",
       "      <td>$2009.8 \\pm 15.9$</td>\n",
       "      <td>$687.7 \\pm 12.1$</td>\n",
       "      <td>$583.3 \\pm 11.2$</td>\n",
       "    </tr>\n",
       "  </tbody>\n",
       "</table>\n",
       "</div>"
      ],
      "text/plain": [
       "                                preselection       n_bjets >= 1  \\\n",
       "t                           $593.8 \\pm 17.2$   $254.1 \\pm 11.3$   \n",
       "Diboson                    $1530.5 \\pm 11.6$     $32.3 \\pm 1.2$   \n",
       "$\\sf t\\bar{t}$             $6568.7 \\pm 18.1$  $3890.1 \\pm 13.9$   \n",
       "Z+jets                  $162339.4 \\pm 546.6$  $1245.7 \\pm 26.0$   \n",
       "$\\sf B’\\rightarrow Xb$       $202.2 \\pm 2.7$     $77.3 \\pm 1.7$   \n",
       "Data                                $180310$             $5546$   \n",
       "background              $171234.6 \\pm 547.3$  $5499.5 \\pm 31.6$   \n",
       "\n",
       "                       n_jets + n_bjets == 2     n_fwdjets == 0  \\\n",
       "t                             $79.3 \\pm 6.2$     $68.3 \\pm 5.8$   \n",
       "Diboson                       $10.9 \\pm 0.7$      $9.6 \\pm 0.6$   \n",
       "$\\sf t\\bar{t}$              $1898.8 \\pm 9.7$   $1584.7 \\pm 8.8$   \n",
       "Z+jets                      $355.3 \\pm 12.6$   $321.2 \\pm 11.8$   \n",
       "$\\sf B’\\rightarrow Xb$        $31.6 \\pm 1.1$     $26.0 \\pm 1.0$   \n",
       "Data                                  $2420$             $2059$   \n",
       "background                 $2375.9 \\pm 17.1$  $2009.8 \\pm 15.9$   \n",
       "\n",
       "                            met_mag < 40 four_body_delta_phi > 2.5  \n",
       "t                         $16.9 \\pm 2.9$            $14.5 \\pm 2.7$  \n",
       "Diboson                    $7.4 \\pm 0.5$             $6.4 \\pm 0.4$  \n",
       "$\\sf t\\bar{t}$           $366.9 \\pm 4.3$           $298.6 \\pm 3.8$  \n",
       "Z+jets                  $273.6 \\pm 10.9$          $241.5 \\pm 10.2$  \n",
       "$\\sf B’\\rightarrow Xb$    $22.9 \\pm 0.9$            $22.3 \\pm 0.9$  \n",
       "Data                               $717$                     $605$  \n",
       "background              $687.7 \\pm 12.1$          $583.3 \\pm 11.2$  "
      ]
     },
     "execution_count": 4,
     "metadata": {},
     "output_type": "execute_result"
    }
   ],
   "source": [
    "conditions = ['preselection', 'n_bjets >= 1', 'n_jets + n_bjets == 2', 'n_fwdjets == 0', 'met_mag < 40', 'four_body_delta_phi > 2.5']\n",
    "table = data_manager.print_yields(dataset_names, \n",
    "                                  exclude    = ['bprime_xb', 'fcnc', 'bprime_xbxb_semilep'],\n",
    "                                  conditions = conditions\n",
    "                                 )\n",
    "table"
   ]
  },
  {
   "cell_type": "markdown",
   "metadata": {},
   "source": [
    "### combined"
   ]
  },
  {
   "cell_type": "code",
   "execution_count": 5,
   "metadata": {
    "collapsed": false
   },
   "outputs": [
    {
     "data": {
      "text/html": [
       "<div>\n",
       "<table border=\"1\" class=\"dataframe\">\n",
       "  <thead>\n",
       "    <tr style=\"text-align: right;\">\n",
       "      <th></th>\n",
       "      <th>preselection</th>\n",
       "      <th>1b1f+1b1c</th>\n",
       "    </tr>\n",
       "  </thead>\n",
       "  <tbody>\n",
       "    <tr>\n",
       "      <th>t</th>\n",
       "      <td>$593.8 \\pm 17.2$</td>\n",
       "      <td>$32.9 \\pm 4.0$</td>\n",
       "    </tr>\n",
       "    <tr>\n",
       "      <th>Diboson</th>\n",
       "      <td>$1530.5 \\pm 11.6$</td>\n",
       "      <td>$8.1 \\pm 0.5$</td>\n",
       "    </tr>\n",
       "    <tr>\n",
       "      <th>$\\sf t\\bar{t}$</th>\n",
       "      <td>$6568.7 \\pm 18.1$</td>\n",
       "      <td>$437.4 \\pm 4.6$</td>\n",
       "    </tr>\n",
       "    <tr>\n",
       "      <th>Z+jets</th>\n",
       "      <td>$162339.4 \\pm 546.6$</td>\n",
       "      <td>$315.2 \\pm 12.0$</td>\n",
       "    </tr>\n",
       "    <tr>\n",
       "      <th>$\\sf B’\\rightarrow Xb$</th>\n",
       "      <td>$202.2 \\pm 2.7$</td>\n",
       "      <td>$41.5 \\pm 1.2$</td>\n",
       "    </tr>\n",
       "    <tr>\n",
       "      <th>Data</th>\n",
       "      <td>$180310$</td>\n",
       "      <td>$839$</td>\n",
       "    </tr>\n",
       "    <tr>\n",
       "      <th>background</th>\n",
       "      <td>$171234.6 \\pm 547.3$</td>\n",
       "      <td>$835.1 \\pm 13.6$</td>\n",
       "    </tr>\n",
       "  </tbody>\n",
       "</table>\n",
       "</div>"
      ],
      "text/plain": [
       "                                preselection         1b1f+1b1c\n",
       "t                           $593.8 \\pm 17.2$    $32.9 \\pm 4.0$\n",
       "Diboson                    $1530.5 \\pm 11.6$     $8.1 \\pm 0.5$\n",
       "$\\sf t\\bar{t}$             $6568.7 \\pm 18.1$   $437.4 \\pm 4.6$\n",
       "Z+jets                  $162339.4 \\pm 546.6$  $315.2 \\pm 12.0$\n",
       "$\\sf B’\\rightarrow Xb$       $202.2 \\pm 2.7$    $41.5 \\pm 1.2$\n",
       "Data                                $180310$             $839$\n",
       "background              $171234.6 \\pm 547.3$  $835.1 \\pm 13.6$"
      ]
     },
     "execution_count": 5,
     "metadata": {},
     "output_type": "execute_result"
    }
   ],
   "source": [
    "conditions    = ['preselection', \n",
    "                 '((n_bjets == 1 and n_jets == 0 and n_fwdjets > 0) \\\n",
    "                  or (n_bjets >= 1 and n_jets + n_bjets == 2 \\\n",
    "                  and n_fwdjets == 0 and met_mag < 40 and \\\n",
    "                  four_body_delta_phi > 2.5))'\n",
    "                ]\n",
    "table = data_manager.print_yields(dataset_names, \n",
    "                                  exclude    = ['bprime_xb', 'fcnc', 'bprime_xbxb_semilep'],\n",
    "                                  conditions = conditions,\n",
    "                                  mc_scale   = True\n",
    "                                 )\n",
    "table.columns = ['preselection', '1b1f+1b1c']\n",
    "table"
   ]
  },
  {
   "cell_type": "markdown",
   "metadata": {},
   "source": [
    "## 13 TeV"
   ]
  },
  {
   "cell_type": "code",
   "execution_count": 6,
   "metadata": {
    "code_folding": [],
    "collapsed": false
   },
   "outputs": [
    {
     "name": "stderr",
     "output_type": "stream",
     "text": [
      "Loading dataframes: 100%|███████████████| 21.0/21.0 [00:06<00:00, 4.03it/s]\n"
     ]
    }
   ],
   "source": [
    "# 13 TeV configuration and data retrieval\n",
    "datasets = [\n",
    "            'muon_2016B', 'muon_2016C', 'muon_2016D',                \n",
    "            #'muon_2016E', 'muon_2016F', 'muon_2016G', 'muon_2016H', \n",
    "            'ttbar_lep', 'ttbar_semilep',                            \n",
    "            #'zjets_m-50', 'zjets_m-10to50',                         \n",
    "            'z1jets_m-50', 'z1jets_m-10to50',                        \n",
    "            'z2jets_m-50', 'z2jets_m-10to50',                        \n",
    "            'z3jets_m-50', 'z3jets_m-10to50',                        \n",
    "            'z4jets_m-50', #'z4jets_m-10to50',                       \n",
    "            't_s', 't_t', 't_tw', 'tbar_tw',                         \n",
    "            'ww', 'wz_2l2q', 'wz_3lnu', 'zz_2l2q', 'zz_2l2nu',       \n",
    "            ]\n",
    "\n",
    "signal_mask = '(dilepton_mass < 26 or dilepton_mass > 32)' # blind signal region\n",
    "data_manager = pt.DataManager(input_dir     = 'data/flatuples/mumu_2016',\n",
    "                              dataset_names = datasets,\n",
    "                              selection     = 'mumu',\n",
    "                              period        = 2016,\n",
    "                              scale         = 12e3,\n",
    "                              cuts          = preselection + ' and ' + signal_mask\n",
    "                             )\n",
    "dataset_names = ['t', 'ttbar', 'zjets', 'data']"
   ]
  },
  {
   "cell_type": "markdown",
   "metadata": {},
   "source": [
    "### 1b1f"
   ]
  },
  {
   "cell_type": "code",
   "execution_count": 7,
   "metadata": {
    "collapsed": false
   },
   "outputs": [
    {
     "data": {
      "text/html": [
       "<div>\n",
       "<table border=\"1\" class=\"dataframe\">\n",
       "  <thead>\n",
       "    <tr style=\"text-align: right;\">\n",
       "      <th></th>\n",
       "      <th>preselection</th>\n",
       "      <th>n_bjets == 1</th>\n",
       "      <th>n_fwdjets &gt; 0</th>\n",
       "      <th>n_jets == 0</th>\n",
       "    </tr>\n",
       "  </thead>\n",
       "  <tbody>\n",
       "    <tr>\n",
       "      <th>t</th>\n",
       "      <td>$1924.8 \\pm 13.0$</td>\n",
       "      <td>$628.4 \\pm 7.3$</td>\n",
       "      <td>$111.4 \\pm 3.1$</td>\n",
       "      <td>$52.7 \\pm 2.1$</td>\n",
       "    </tr>\n",
       "    <tr>\n",
       "      <th>Diboson</th>\n",
       "      <td>$5241.0 \\pm 41.5$</td>\n",
       "      <td>$33.3 \\pm 2.7$</td>\n",
       "      <td>$4.2 \\pm 0.8$</td>\n",
       "      <td>$1.0 \\pm 0.4$</td>\n",
       "    </tr>\n",
       "    <tr>\n",
       "      <th>$\\sf t\\bar{t}$</th>\n",
       "      <td>$10947.6 \\pm 17.0$</td>\n",
       "      <td>$4658.5 \\pm 11.1$</td>\n",
       "      <td>$1056.5 \\pm 5.3$</td>\n",
       "      <td>$259.6 \\pm 2.6$</td>\n",
       "    </tr>\n",
       "    <tr>\n",
       "      <th>Z+jets</th>\n",
       "      <td>$59174.9 \\pm 123.4$</td>\n",
       "      <td>$948.6 \\pm 15.7$</td>\n",
       "      <td>$75.6 \\pm 4.4$</td>\n",
       "      <td>$50.7 \\pm 3.7$</td>\n",
       "    </tr>\n",
       "    <tr>\n",
       "      <th>Data</th>\n",
       "      <td>$181160$</td>\n",
       "      <td>$6213$</td>\n",
       "      <td>$1165$</td>\n",
       "      <td>$353$</td>\n",
       "    </tr>\n",
       "    <tr>\n",
       "      <th>background</th>\n",
       "      <td>$77288.4 \\pm 132.0$</td>\n",
       "      <td>$6268.8 \\pm 20.7$</td>\n",
       "      <td>$1247.7 \\pm 7.6$</td>\n",
       "      <td>$364.0 \\pm 5.0$</td>\n",
       "    </tr>\n",
       "  </tbody>\n",
       "</table>\n",
       "</div>"
      ],
      "text/plain": [
       "                       preselection       n_bjets == 1     n_fwdjets > 0  \\\n",
       "t                 $1924.8 \\pm 13.0$    $628.4 \\pm 7.3$   $111.4 \\pm 3.1$   \n",
       "Diboson           $5241.0 \\pm 41.5$     $33.3 \\pm 2.7$     $4.2 \\pm 0.8$   \n",
       "$\\sf t\\bar{t}$   $10947.6 \\pm 17.0$  $4658.5 \\pm 11.1$  $1056.5 \\pm 5.3$   \n",
       "Z+jets          $59174.9 \\pm 123.4$   $948.6 \\pm 15.7$    $75.6 \\pm 4.4$   \n",
       "Data                       $181160$             $6213$            $1165$   \n",
       "background      $77288.4 \\pm 132.0$  $6268.8 \\pm 20.7$  $1247.7 \\pm 7.6$   \n",
       "\n",
       "                    n_jets == 0  \n",
       "t                $52.7 \\pm 2.1$  \n",
       "Diboson           $1.0 \\pm 0.4$  \n",
       "$\\sf t\\bar{t}$  $259.6 \\pm 2.6$  \n",
       "Z+jets           $50.7 \\pm 3.7$  \n",
       "Data                      $353$  \n",
       "background      $364.0 \\pm 5.0$  "
      ]
     },
     "execution_count": 7,
     "metadata": {},
     "output_type": "execute_result"
    }
   ],
   "source": [
    "dataset_names = ['t', 'diboson', 'ttbar', 'zjets', 'data']\n",
    "conditions    = ['preselection', 'n_bjets == 1', 'n_fwdjets > 0', 'n_jets == 0']\n",
    "table = data_manager.print_yields(dataset_names, \n",
    "                                  #exclude    = ['signal'],\n",
    "                                  conditions = conditions\n",
    "                                 )\n",
    "table"
   ]
  },
  {
   "cell_type": "markdown",
   "metadata": {},
   "source": [
    "### 1b1c"
   ]
  },
  {
   "cell_type": "code",
   "execution_count": 8,
   "metadata": {
    "collapsed": false
   },
   "outputs": [
    {
     "data": {
      "text/html": [
       "<div>\n",
       "<table border=\"1\" class=\"dataframe\">\n",
       "  <thead>\n",
       "    <tr style=\"text-align: right;\">\n",
       "      <th></th>\n",
       "      <th>preselection</th>\n",
       "      <th>n_bjets &gt;= 1</th>\n",
       "      <th>n_jets + n_bjets == 2</th>\n",
       "      <th>n_fwdjets == 0</th>\n",
       "      <th>met_mag &lt; 40</th>\n",
       "      <th>four_body_delta_phi &gt; 2.5</th>\n",
       "    </tr>\n",
       "  </thead>\n",
       "  <tbody>\n",
       "    <tr>\n",
       "      <th>t</th>\n",
       "      <td>$1924.8 \\pm 13.0$</td>\n",
       "      <td>$672.6 \\pm 7.5$</td>\n",
       "      <td>$205.3 \\pm 4.2$</td>\n",
       "      <td>$164.3 \\pm 3.7$</td>\n",
       "      <td>$37.4 \\pm 1.8$</td>\n",
       "      <td>$30.2 \\pm 1.6$</td>\n",
       "    </tr>\n",
       "    <tr>\n",
       "      <th>Diboson</th>\n",
       "      <td>$5241.0 \\pm 41.5$</td>\n",
       "      <td>$34.9 \\pm 2.7$</td>\n",
       "      <td>$12.0 \\pm 1.6$</td>\n",
       "      <td>$10.3 \\pm 1.5$</td>\n",
       "      <td>$4.7 \\pm 0.8$</td>\n",
       "      <td>$3.7 \\pm 0.6$</td>\n",
       "    </tr>\n",
       "    <tr>\n",
       "      <th>$\\sf t\\bar{t}$</th>\n",
       "      <td>$10947.6 \\pm 17.0$</td>\n",
       "      <td>$5692.5 \\pm 12.3$</td>\n",
       "      <td>$2638.3 \\pm 8.4$</td>\n",
       "      <td>$2127.8 \\pm 7.5$</td>\n",
       "      <td>$491.9 \\pm 3.6$</td>\n",
       "      <td>$378.9 \\pm 3.2$</td>\n",
       "    </tr>\n",
       "    <tr>\n",
       "      <th>Z+jets</th>\n",
       "      <td>$59174.9 \\pm 123.4$</td>\n",
       "      <td>$969.9 \\pm 15.9$</td>\n",
       "      <td>$252.0 \\pm 8.2$</td>\n",
       "      <td>$233.5 \\pm 7.9$</td>\n",
       "      <td>$184.6 \\pm 7.1$</td>\n",
       "      <td>$160.8 \\pm 6.7$</td>\n",
       "    </tr>\n",
       "    <tr>\n",
       "      <th>Data</th>\n",
       "      <td>$181160$</td>\n",
       "      <td>$7278$</td>\n",
       "      <td>$3093$</td>\n",
       "      <td>$2555$</td>\n",
       "      <td>$776$</td>\n",
       "      <td>$622$</td>\n",
       "    </tr>\n",
       "    <tr>\n",
       "      <th>background</th>\n",
       "      <td>$77288.4 \\pm 132.0$</td>\n",
       "      <td>$7369.9 \\pm 21.6$</td>\n",
       "      <td>$3107.6 \\pm 12.5$</td>\n",
       "      <td>$2535.9 \\pm 11.6$</td>\n",
       "      <td>$718.6 \\pm 8.2$</td>\n",
       "      <td>$573.6 \\pm 7.6$</td>\n",
       "    </tr>\n",
       "  </tbody>\n",
       "</table>\n",
       "</div>"
      ],
      "text/plain": [
       "                       preselection       n_bjets >= 1 n_jets + n_bjets == 2  \\\n",
       "t                 $1924.8 \\pm 13.0$    $672.6 \\pm 7.5$       $205.3 \\pm 4.2$   \n",
       "Diboson           $5241.0 \\pm 41.5$     $34.9 \\pm 2.7$        $12.0 \\pm 1.6$   \n",
       "$\\sf t\\bar{t}$   $10947.6 \\pm 17.0$  $5692.5 \\pm 12.3$      $2638.3 \\pm 8.4$   \n",
       "Z+jets          $59174.9 \\pm 123.4$   $969.9 \\pm 15.9$       $252.0 \\pm 8.2$   \n",
       "Data                       $181160$             $7278$                $3093$   \n",
       "background      $77288.4 \\pm 132.0$  $7369.9 \\pm 21.6$     $3107.6 \\pm 12.5$   \n",
       "\n",
       "                   n_fwdjets == 0     met_mag < 40 four_body_delta_phi > 2.5  \n",
       "t                 $164.3 \\pm 3.7$   $37.4 \\pm 1.8$            $30.2 \\pm 1.6$  \n",
       "Diboson            $10.3 \\pm 1.5$    $4.7 \\pm 0.8$             $3.7 \\pm 0.6$  \n",
       "$\\sf t\\bar{t}$   $2127.8 \\pm 7.5$  $491.9 \\pm 3.6$           $378.9 \\pm 3.2$  \n",
       "Z+jets            $233.5 \\pm 7.9$  $184.6 \\pm 7.1$           $160.8 \\pm 6.7$  \n",
       "Data                       $2555$            $776$                     $622$  \n",
       "background      $2535.9 \\pm 11.6$  $718.6 \\pm 8.2$           $573.6 \\pm 7.6$  "
      ]
     },
     "execution_count": 8,
     "metadata": {},
     "output_type": "execute_result"
    }
   ],
   "source": [
    "conditions = ['preselection', 'n_bjets >= 1', 'n_jets + n_bjets == 2', 'n_fwdjets == 0', 'met_mag < 40', 'four_body_delta_phi > 2.5']\n",
    "table = data_manager.print_yields(dataset_names, \n",
    "                                  exclude    = ['bprime_xb', 'fcnc', 'bprime_xbxb_semilep'],\n",
    "                                  conditions = conditions\n",
    "                                 )\n",
    "table"
   ]
  },
  {
   "cell_type": "code",
   "execution_count": 10,
   "metadata": {
    "collapsed": false
   },
   "outputs": [
    {
     "data": {
      "text/html": [
       "<div>\n",
       "<table border=\"1\" class=\"dataframe\">\n",
       "  <thead>\n",
       "    <tr style=\"text-align: right;\">\n",
       "      <th></th>\n",
       "      <th>preselection</th>\n",
       "      <th>1b1f+1b1c</th>\n",
       "    </tr>\n",
       "  </thead>\n",
       "  <tbody>\n",
       "    <tr>\n",
       "      <th>t</th>\n",
       "      <td>$1924.8 \\pm 13.0$</td>\n",
       "      <td>$82.9 \\pm 2.7$</td>\n",
       "    </tr>\n",
       "    <tr>\n",
       "      <th>Diboson</th>\n",
       "      <td>$5241.0 \\pm 41.5$</td>\n",
       "      <td>$4.7 \\pm 0.7$</td>\n",
       "    </tr>\n",
       "    <tr>\n",
       "      <th>$\\sf t\\bar{t}$</th>\n",
       "      <td>$10947.6 \\pm 17.0$</td>\n",
       "      <td>$638.5 \\pm 4.1$</td>\n",
       "    </tr>\n",
       "    <tr>\n",
       "      <th>Z+jets</th>\n",
       "      <td>$59174.9 \\pm 123.4$</td>\n",
       "      <td>$211.4 \\pm 7.6$</td>\n",
       "    </tr>\n",
       "    <tr>\n",
       "      <th>Data</th>\n",
       "      <td>$181160$</td>\n",
       "      <td>$975$</td>\n",
       "    </tr>\n",
       "    <tr>\n",
       "      <th>background</th>\n",
       "      <td>$77288.4 \\pm 132.0$</td>\n",
       "      <td>$937.5 \\pm 9.1$</td>\n",
       "    </tr>\n",
       "  </tbody>\n",
       "</table>\n",
       "</div>"
      ],
      "text/plain": [
       "                       preselection        1b1f+1b1c\n",
       "t                 $1924.8 \\pm 13.0$   $82.9 \\pm 2.7$\n",
       "Diboson           $5241.0 \\pm 41.5$    $4.7 \\pm 0.7$\n",
       "$\\sf t\\bar{t}$   $10947.6 \\pm 17.0$  $638.5 \\pm 4.1$\n",
       "Z+jets          $59174.9 \\pm 123.4$  $211.4 \\pm 7.6$\n",
       "Data                       $181160$            $975$\n",
       "background      $77288.4 \\pm 132.0$  $937.5 \\pm 9.1$"
      ]
     },
     "execution_count": 10,
     "metadata": {},
     "output_type": "execute_result"
    }
   ],
   "source": [
    "conditions    = ['preselection', \n",
    "                 '((n_bjets == 1 and n_jets == 0 and n_fwdjets > 0) \\\n",
    "                  or (n_bjets >= 1 and n_jets + n_bjets == 2 \\\n",
    "                  and n_fwdjets == 0 and met_mag < 40 and \\\n",
    "                  four_body_delta_phi > 2.5))'\n",
    "                ]\n",
    "table = data_manager.print_yields(dataset_names, \n",
    "                                  #exclude    = ['bprime_xb', 'fcnc', 'bprime_xbxb_semilep'],\n",
    "                                  conditions = conditions,\n",
    "                                  mc_scale=True\n",
    "                                 )\n",
    "table.columns = ['preselection', '1b1f+1b1c']\n",
    "table"
   ]
  }
 ],
 "metadata": {
  "hide_input": false,
  "kernelspec": {
   "display_name": "Python 2",
   "language": "python",
   "name": "python2"
  },
  "language_info": {
   "codemirror_mode": {
    "name": "ipython",
    "version": 2
   },
   "file_extension": ".py",
   "mimetype": "text/x-python",
   "name": "python",
   "nbconvert_exporter": "python",
   "pygments_lexer": "ipython2",
   "version": "2.7.12"
  },
  "latex_envs": {
   "bibliofile": "biblio.bib",
   "cite_by": "apalike",
   "current_citInitial": 1,
   "eqLabelWithNumbers": true,
   "eqNumInitial": 0
  },
  "toc": {
   "nav_menu": {
    "height": "141px",
    "width": "252px"
   },
   "navigate_menu": true,
   "number_sections": true,
   "sideBar": true,
   "threshold": 4,
   "toc_cell": false,
   "toc_section_display": "block",
   "toc_window_display": false
  },
  "widgets": {
   "state": {},
   "version": "1.1.2"
  }
 },
 "nbformat": 4,
 "nbformat_minor": 0
}
