{
 "cells": [
  {
   "cell_type": "markdown",
   "metadata": {},
   "source": [
    "# bias studies with full systematics\n",
    "\n",
    "To assess the impact of various sources of systematic, we will rely on an Asimov dataset."
   ]
  },
  {
   "cell_type": "code",
   "execution_count": 1,
   "metadata": {
    "code_folding": [
     0
    ]
   },
   "outputs": [
    {
     "name": "stdout",
     "output_type": "stream",
     "text": [
      "/home/naodell/work/wbr/analysis\n",
      "{\n",
      "  \"shell_port\": 47169,\n",
      "  \"iopub_port\": 51513,\n",
      "  \"stdin_port\": 42617,\n",
      "  \"control_port\": 55895,\n",
      "  \"hb_port\": 47297,\n",
      "  \"ip\": \"127.0.0.1\",\n",
      "  \"key\": \"cd538a38-50f5d6c7fae30b40152fa7ab\",\n",
      "  \"transport\": \"tcp\",\n",
      "  \"signature_scheme\": \"hmac-sha256\",\n",
      "  \"kernel_name\": \"\"\n",
      "}\n",
      "\n",
      "Paste the above JSON into a file, and connect with:\n",
      "    $> jupyter <app> --existing <file>\n",
      "or, if you are local, you can connect with just:\n",
      "    $> jupyter <app> --existing kernel-f68371f0-c567-45ec-8e39-f30f63edebf1.json\n",
      "or even just:\n",
      "    $> jupyter <app> --existing\n",
      "if this is the most recent Jupyter kernel you have started.\n"
     ]
    }
   ],
   "source": [
    "## imports and configuration\n",
    "%cd '/home/naodell/work/wbr/analysis'\n",
    "#%load_ext autoreload\n",
    "\n",
    "from functools import partial\n",
    "import numpy as np\n",
    "import pandas as pd\n",
    "import matplotlib.pyplot as plt\n",
    "import matplotlib\n",
    "from scipy.optimize import minimize\n",
    "from tqdm import tqdm_notebook\n",
    "\n",
    "import scripts.plot_tools as pt\n",
    "import scripts.fit_helpers as fh\n",
    "from nllfit.nllfitter import ScanParameters\n",
    "\n",
    "np.set_printoptions(precision=3)\n",
    "rc_params = {\n",
    "             'figure.figsize': (10, 10),\n",
    "             'axes.labelsize': 20,\n",
    "             'axes.facecolor': 'white',\n",
    "             'axes.titlesize':'x-large',\n",
    "             'legend.fontsize': 20,\n",
    "             'xtick.labelsize':18,\n",
    "             'ytick.labelsize':18,\n",
    "             'font.size':18,\n",
    "             'font.sans-serif':['Arial', 'sans-serif'],\n",
    "             'mathtext.sf':'Arial',\n",
    "             'lines.markersize':8.,\n",
    "             'lines.linewidth':2.5,\n",
    "            }\n",
    "matplotlib.rcParams.update(rc_params)\n",
    "\n",
    "%connect_info"
   ]
  },
  {
   "cell_type": "code",
   "execution_count": 2,
   "metadata": {
    "code_folding": [
     0
    ],
    "scrolled": false
   },
   "outputs": [],
   "source": [
    "# configure, get the input data, and do any additional processing that is needed\n",
    "input_dir  = f'local_data/templates/test_new/'\n",
    "processes = ['ttbar', 't', 'ww', 'wjets', 'zjets_alt', 'diboson', 'fakes'] \n",
    "selections = [\n",
    "              'ee', 'emu', 'mumu',  \n",
    "              'mutau', 'etau', \n",
    "              'mu4j', 'e4j'\n",
    "             ]\n",
    "plot_labels = fh.fancy_labels\n",
    "\n",
    "# initialize fit data\n",
    "fit_data = fh.FitData(input_dir, selections, processes, process_cut=0.1)"
   ]
  },
  {
   "cell_type": "code",
   "execution_count": 6,
   "metadata": {
    "code_folding": [],
    "scrolled": false
   },
   "outputs": [
    {
     "data": {
      "application/vnd.jupyter.widget-view+json": {
       "model_id": "b33509d6319247e5bd892253f6e4f433",
       "version_major": 2,
       "version_minor": 0
      },
      "text/plain": [
       "HBox(children=(IntProgress(value=0, max=10), HTML(value='')))"
      ]
     },
     "metadata": {},
     "output_type": "display_data"
    },
    {
     "name": "stdout",
     "output_type": "stream",
     "text": [
      "     fun: 4131864.465639755\n",
      "     jac: array([19062.683,  7496.029,  2352.148, 17008.93 ,  -583.008,  4426.762,\n",
      "        -755.489])\n",
      " message: 'Converged (|x_n-x_(n-1)| ~= 0)'\n",
      "    nfev: 610\n",
      "     nit: 98\n",
      "  status: 2\n",
      " success: True\n",
      "       x: array([0.095, 0.092, 0.126, 0.687, 0.177, 0.173, 0.634])\n",
      "     fun: 4644501.668120172\n",
      "     jac: array([ -4264.712,  28592.348, -14345.348,  12364.611,   2595.782,\n",
      "         1448.02 ,   -213.459])\n",
      " message: 'Converged (|x_n-x_(n-1)| ~= 0)'\n",
      "    nfev: 577\n",
      "     nit: 76\n",
      "  status: 2\n",
      " success: True\n",
      "       x: array([0.089, 0.091, 0.122, 0.698, 0.178, 0.173, 0.64 ])\n",
      "     fun: 471534.59458579496\n",
      "     jac: array([13102.591, -3187.358, 31820.685,    83.074,  -425.056,  -640.75 ,\n",
      "         255.927])\n",
      " message: 'Converged (|x_n-x_(n-1)| ~= 0)'\n",
      "    nfev: 142\n",
      "     nit: 28\n",
      "  status: 2\n",
      " success: True\n",
      "       x: array([0.107, 0.11 , 0.105, 0.678, 0.178, 0.175, 0.642])\n",
      "     fun: -999098.0817910619\n",
      "     jac: array([-22438.914,  -1358.986,  21440.908,  34283.474, -10395.05 ,\n",
      "       -14682.487,  -6705.895])\n",
      " message: 'Linear search failed'\n",
      "    nfev: 260\n",
      "     nit: 42\n",
      "  status: 4\n",
      " success: False\n",
      "       x: array([0.111, 0.113, 0.106, 0.67 , 0.178, 0.173, 0.649])\n",
      "     fun: -476244.1685219854\n",
      "     jac: array([3705.546, 5510.449, 8025.393, 2102.926, -171.736,  102.818,\n",
      "        -61.84 ])\n",
      " message: 'Converged (|x_n-x_(n-1)| ~= 0)'\n",
      "    nfev: 342\n",
      "     nit: 37\n",
      "  status: 2\n",
      " success: True\n",
      "       x: array([0.114, 0.112, 0.105, 0.669, 0.179, 0.174, 0.652])\n",
      "     fun: -972932.8762688152\n",
      "     jac: array([  8248.91 ,  11119.246,  36590.919,  44733.286,   9587.407,\n",
      "       -11707.842,  -6994.233])\n",
      " message: 'Linear search failed'\n",
      "    nfev: 155\n",
      "     nit: 27\n",
      "  status: 4\n",
      " success: False\n",
      "       x: array([0.111, 0.114, 0.105, 0.669, 0.181, 0.173, 0.648])\n",
      "     fun: 3111089.866661586\n",
      "     jac: array([-27329.847,   1033.768, -42345.375, -10652.095,   -132.993,\n",
      "         -362.471,    220.91 ])\n",
      " message: 'Linear search failed'\n",
      "    nfev: 472\n",
      "     nit: 41\n",
      "  status: 4\n",
      " success: False\n",
      "       x: array([0.095, 0.098, 0.117, 0.69 , 0.178, 0.174, 0.643])\n",
      "     fun: 1989401.8170191236\n",
      "     jac: array([14057.383, 20322.949,  1219.66 ,  7696.822,   120.327,   294.298,\n",
      "        -520.796])\n",
      " message: 'Converged (|x_n-x_(n-1)| ~= 0)'\n",
      "    nfev: 305\n",
      "     nit: 41\n",
      "  status: 2\n",
      " success: True\n",
      "       x: array([0.101, 0.103, 0.111, 0.685, 0.178, 0.174, 0.641])\n",
      "     fun: 1040188.587097317\n",
      "     jac: array([23113.191, -1197.681, -4795.566, 14409.795,  -251.085,  -762.194,\n",
      "        -152.364])\n",
      " message: 'Converged (|x_n-x_(n-1)| ~= 0)'\n",
      "    nfev: 588\n",
      "     nit: 79\n",
      "  status: 2\n",
      " success: True\n",
      "       x: array([0.109, 0.107, 0.117, 0.667, 0.177, 0.173, 0.644])\n",
      "     fun: 235129.71081914008\n",
      "     jac: array([ 16656.891, -10872.632,   7568.3  , -13121.59 ,  -3378.093,\n",
      "         1067.296,   -331.551])\n",
      " message: 'Converged (|f_n-f_(n-1)| ~= 0)'\n",
      "    nfev: 74\n",
      "     nit: 15\n",
      "  status: 1\n",
      " success: True\n",
      "       x: array([0.106, 0.11 , 0.108, 0.677, 0.178, 0.175, 0.65 ])\n",
      "\n"
     ]
    }
   ],
   "source": [
    "# make some control plots \n",
    "params = fit_data._parameters\n",
    "params_pre = fit_data.get_params_init().values\n",
    "\n",
    "# test systematic uncertainties\n",
    "ntoys = 1000\n",
    "pval, perr = params['val_init'].values, params['err_init'].values\n",
    "perr[:4] = [0.001, 0.001, 0.001, 0.007]\n",
    "prand = pval[:7] + np.random.randn(pval.size, ntoys).T*perr \n",
    "prand = np.concatenate([np.outer(np.ones(ntoys), fit_data._beta_init), prand], axis=1)\n",
    "toy_data = [{category: fit_data.mixture_model(p, category) for category in fit_data._model_data.keys()} for p in prand] \n",
    "\n",
    "br_tau = [0.1783, 0.1741, 0.6476]\n",
    "beta_scan_vals = ScanParameters(['beta_e', 'beta_mu', 'beta_tau'], \n",
    "                                [(0.104, 0.112), (0.104, 0.112), (0.104, 0.112)], \n",
    "                                [20, 20, 20]\n",
    "                                )\n",
    "sv = np.array(beta_scan_vals.get_scan_vals()[0])\n",
    "beta_h = np.transpose([1 - np.sum(sv, axis=1)])\n",
    "sv = np.hstack((sv, beta_h))\n",
    "\n",
    "\n",
    "def simplified_objective(p, data, plen):\n",
    "    p = np.concatenate([p[:plen], params_pre[plen:]])\n",
    "    return fit_data.objective(p, data, subtract_cost_init=True)\n",
    "\n",
    "# calculate covari ance matrix from the inverse of the Hessian of the NLL\n",
    "results = []\n",
    "for sample in tqdm_notebook(toy_data[:10]):\n",
    "    result = minimize(simplified_objective, params_pre[:7], \n",
    "                      method = 'TNC', \n",
    "                      options = dict(maxiter = 5000),\n",
    "                      args = (sample, 7)\n",
    "                     )\n",
    "    results.append(result.x)\n",
    "    print(result)\n",
    "    #dchi2.append(fit_data.objective(p_init, sample) - result.fun)\n",
    "    #fobj = partial(fit_data.objective, data=sample, cost_type='poisson')\n",
    "    #cov.append(fh.calculate_covariance(fobj, result.x))\n",
    "    \n",
    "results = np.array(results)\n",
    "#results = prand"
   ]
  },
  {
   "cell_type": "code",
   "execution_count": 7,
   "metadata": {},
   "outputs": [
    {
     "ename": "ValueError",
     "evalue": "operands could not be broadcast together with shapes (10,3) (81,) ",
     "output_type": "error",
     "traceback": [
      "\u001b[0;31m------------------------------------------\u001b[0m",
      "\u001b[0;31mValueError\u001b[0mTraceback (most recent call last)",
      "\u001b[0;32m<ipython-input-7-526c525951fd>\u001b[0m in \u001b[0;36m<module>\u001b[0;34m()\u001b[0m\n\u001b[1;32m      4\u001b[0m \u001b[0;31m#ax.boxplot((results[:,4:] - pval)/perr)\u001b[0m\u001b[0;34m\u001b[0m\u001b[0;34m\u001b[0m\u001b[0;34m\u001b[0m\u001b[0m\n\u001b[1;32m      5\u001b[0m \u001b[0mdiff_pre\u001b[0m \u001b[0;34m=\u001b[0m \u001b[0;34m(\u001b[0m\u001b[0mprand\u001b[0m\u001b[0;34m[\u001b[0m\u001b[0;34m:\u001b[0m\u001b[0;34m,\u001b[0m\u001b[0;36m4\u001b[0m\u001b[0;34m:\u001b[0m\u001b[0;34m]\u001b[0m \u001b[0;34m-\u001b[0m \u001b[0mpval\u001b[0m\u001b[0;34m)\u001b[0m\u001b[0;34m/\u001b[0m\u001b[0mperr\u001b[0m\u001b[0;34m\u001b[0m\u001b[0;34m\u001b[0m\u001b[0m\n\u001b[0;32m----> 6\u001b[0;31m \u001b[0mdiff_post\u001b[0m \u001b[0;34m=\u001b[0m \u001b[0;34m(\u001b[0m\u001b[0mresults\u001b[0m\u001b[0;34m[\u001b[0m\u001b[0;34m:\u001b[0m\u001b[0;34m,\u001b[0m\u001b[0;36m4\u001b[0m\u001b[0;34m:\u001b[0m\u001b[0;34m]\u001b[0m \u001b[0;34m-\u001b[0m \u001b[0mpval\u001b[0m\u001b[0;34m)\u001b[0m\u001b[0;34m/\u001b[0m\u001b[0mperr\u001b[0m\u001b[0;34m\u001b[0m\u001b[0;34m\u001b[0m\u001b[0m\n\u001b[0m\u001b[1;32m      7\u001b[0m \u001b[0mxticks\u001b[0m \u001b[0;34m=\u001b[0m \u001b[0mnp\u001b[0m\u001b[0;34m.\u001b[0m\u001b[0marange\u001b[0m\u001b[0;34m(\u001b[0m\u001b[0;36m1\u001b[0m\u001b[0;34m,\u001b[0m \u001b[0;36m82\u001b[0m\u001b[0;34m)\u001b[0m\u001b[0;34m\u001b[0m\u001b[0;34m\u001b[0m\u001b[0m\n\u001b[1;32m      8\u001b[0m \u001b[0max\u001b[0m\u001b[0;34m.\u001b[0m\u001b[0merrorbar\u001b[0m\u001b[0;34m(\u001b[0m\u001b[0mxticks\u001b[0m\u001b[0;34m,\u001b[0m \u001b[0mdiff_pre\u001b[0m\u001b[0;34m.\u001b[0m\u001b[0mmean\u001b[0m\u001b[0;34m(\u001b[0m\u001b[0maxis\u001b[0m\u001b[0;34m=\u001b[0m\u001b[0;36m0\u001b[0m\u001b[0;34m)\u001b[0m\u001b[0;34m,\u001b[0m \u001b[0mdiff_pre\u001b[0m\u001b[0;34m.\u001b[0m\u001b[0mstd\u001b[0m\u001b[0;34m(\u001b[0m\u001b[0maxis\u001b[0m\u001b[0;34m=\u001b[0m\u001b[0;36m0\u001b[0m\u001b[0;34m)\u001b[0m\u001b[0;34m,\u001b[0m \u001b[0mfmt\u001b[0m\u001b[0;34m=\u001b[0m\u001b[0;34m'C0o'\u001b[0m\u001b[0;34m,\u001b[0m \u001b[0mcapsize\u001b[0m\u001b[0;34m=\u001b[0m\u001b[0;36m4\u001b[0m\u001b[0;34m)\u001b[0m\u001b[0;34m\u001b[0m\u001b[0;34m\u001b[0m\u001b[0m\n",
      "\u001b[0;31mValueError\u001b[0m: operands could not be broadcast together with shapes (10,3) (81,) "
     ]
    },
    {
     "data": {
      "image/png": "[encoded data removed]",
      "text/plain": [
       "<Figure size 2520x720 with 1 Axes>"
      ]
     },
     "metadata": {},
     "output_type": "display_data"
    }
   ],
   "source": [
    "fig, ax = plt.subplots(1, 1, figsize=(35, 10), facecolor='white')\n",
    "\n",
    "#ax.boxplot((prand[:,4:] - pval)/perr)\n",
    "#ax.boxplot((results[:,4:] - pval)/perr)\n",
    "diff_pre = (prand[:,4:] - pval)/perr\n",
    "diff_post = (results[:,4:] - pval)/perr\n",
    "xticks = np.arange(1, 82)\n",
    "ax.errorbar(xticks, diff_pre.mean(axis=0), diff_pre.std(axis=0), fmt='C0o', capsize=4)\n",
    "ax.errorbar(xticks,  diff_post.mean(axis=0), diff_post.std(axis=0), fmt='C1o', capsize=4)\n",
    "ax.fill_between([-0.5, 82.5], [-1, -1], [1, 1], color='C0', alpha=0.2)\n",
    "ax.set_xticks(xticks)\n",
    "ax.set_xticklabels(params.label[4:])\n",
    "ax.set_xlim(0.5, 81.5)\n",
    "ax.grid(linestyle='--', axis='y')\n",
    "\n",
    "plt.setp(ax.xaxis.get_majorticklabels(), rotation=90)\n",
    "\n",
    "plt.show()"
   ]
  },
  {
   "cell_type": "code",
   "execution_count": null,
   "metadata": {},
   "outputs": [],
   "source": []
  }
 ],
 "metadata": {
  "hide_input": false,
  "kernelspec": {
   "display_name": "Python 3",
   "language": "python",
   "name": "python3"
  },
  "language_info": {
   "codemirror_mode": {
    "name": "ipython",
    "version": 3
   },
   "file_extension": ".py",
   "mimetype": "text/x-python",
   "name": "python",
   "nbconvert_exporter": "python",
   "pygments_lexer": "ipython3",
   "version": "3.7.2"
  },
  "latex_envs": {
   "LaTeX_envs_menu_present": true,
   "autoclose": false,
   "autocomplete": true,
   "bibliofile": "biblio.bib",
   "cite_by": "apalike",
   "current_citInitial": 1,
   "eqLabelWithNumbers": true,
   "eqNumInitial": 0,
   "hotkeys": {
    "equation": "Ctrl-E",
    "itemize": "Ctrl-I"
   },
   "labels_anchors": false,
   "latex_user_defs": false,
   "report_style_numbering": false,
   "user_envs_cfg": false
  },
  "toc": {
   "nav_menu": {
    "height": "29px",
    "width": "251px"
   },
   "number_sections": true,
   "sideBar": true,
   "skip_h1_title": false,
   "title_cell": "Table of Contents",
   "title_sidebar": "Contents",
   "toc_cell": false,
   "toc_position": {
    "height": "49px",
    "left": "0px",
    "right": "1493.87px",
    "top": "90.9965px",
    "width": "242px"
   },
   "toc_section_display": false,
   "toc_window_display": false
  },
  "widgets": {
   "state": {
    "012f8bbe2fdb410dae6e2cde9d7fe5cb": {
     "views": []
    },
    "080556076f174648bddf64f17a54c523": {
     "views": []
    },
    "0ad83b5f67484ae5b8fd8dd43ccc39bd": {
     "views": []
    },
    "15acd81a9adc493683d9b63813f000bf": {
     "views": []
    },
    "1840cb6fded848b4ae95ec8d3db15ab2": {
     "views": []
    },
    "1dd83f822e074642ae4255b15ee661cf": {
     "views": []
    },
    "1e71a878e6474912a0efc497ecc5d65b": {
     "views": []
    },
    "2022ed83777b4963b630b5c46239e218": {
     "views": []
    },
    "21c4c57bfc48495194663e6a4fbac488": {
     "views": []
    },
    "22c45c75435348c0b9501d493d69fdca": {
     "views": []
    },
    "2635f668a1af4a9db2642e705d7c73ff": {
     "views": []
    },
    "2ad5ddd9347e451b9290e5b4179ab9a2": {
     "views": []
    },
    "2c062b5778024117984822b63b0593d7": {
     "views": []
    },
    "2f5eab2f6fb24192b76a5ffe99195d44": {
     "views": []
    },
    "31632517325046e8b0cb62e4f4ed2480": {
     "views": []
    },
    "3562b97192ed4d42bbab17f77c290f6b": {
     "views": []
    },
    "38a7cc053723492b921cf9f084ed243c": {
     "views": []
    },
    "3b5750b20e1745879ca0f965aad7b614": {
     "views": []
    },
    "3f1cbabbe2694a9dabe3f1c2e09d0ee2": {
     "views": []
    },
    "3fab6a26a70c4238a668a46d4dc88bf6": {
     "views": []
    },
    "3fb3c7a25e954a4888996976fa107737": {
     "views": []
    },
    "415db64fbc574daea8457ab600392f09": {
     "views": []
    },
    "4463de406b4645a4b562fe7917380ff9": {
     "views": []
    },
    "487e5450b5a24507932709f1fa8f59c1": {
     "views": []
    },
    "48aba73013e74e71927f71d42fb44d14": {
     "views": []
    },
    "4a19ad30f77e4fe6a2c84c8b62378a47": {
     "views": []
    },
    "4bc83ff5270d41679d76d26cdded8313": {
     "views": []
    },
    "4bdd9dd5c5c64646a27fa9096851458b": {
     "views": []
    },
    "5014cd42705f45178d5e6eeffd70f119": {
     "views": []
    },
    "5259b340b68e4fdb97fb4eaf9d98d954": {
     "views": []
    },
    "5986ef5b605a42aca10bc5834529ee06": {
     "views": []
    },
    "5c1aa44589a140eb9709734c843abde6": {
     "views": []
    },
    "600cd9ca4f4c46d4ad6fe57df107675a": {
     "views": [
      {
       "cell_index": 7
      }
     ]
    },
    "61fe369ebdd14eaa89de110f6186e6b7": {
     "views": []
    },
    "62ac836017ae47a38f8fde806c5ec9b7": {
     "views": []
    },
    "632ccbfabe91405aa1c5a77c9ea754db": {
     "views": []
    },
    "66175f618ea5472baac618f998d2c06c": {
     "views": []
    },
    "6647a620af034d26abcd327ae02364d4": {
     "views": []
    },
    "6752222d2cba43e18f344a8db7f99d24": {
     "views": []
    },
    "6b684ba1a7c24a35ba2df77016212904": {
     "views": []
    },
    "6cea898f4aca4f1e84601f843e337238": {
     "views": []
    },
    "6f8d1e87fd60462a89d693b2f3b5f007": {
     "views": []
    },
    "74078646a5eb4047b40370a0ab8b6b30": {
     "views": []
    },
    "745b0c79ff3040788ea952fce9c7d607": {
     "views": []
    },
    "757c9b805eb7445bac9a7f141f87e45f": {
     "views": []
    },
    "76ced68e19a742e8976dbfd4e8594a1a": {
     "views": []
    },
    "783bb5e7538d4d9d8315e2698024b353": {
     "views": []
    },
    "794993d66efe4ab29a8d35aad8cfe079": {
     "views": []
    },
    "8375e24bae7541528d7cdc0f379d1d4c": {
     "views": []
    },
    "8554945ec15041a7bf8004dbc3fc5f11": {
     "views": []
    },
    "878a34e26cce4f18bb8232a682ebe964": {
     "views": []
    },
    "8921a75116a549198eb7b7f4a24ab672": {
     "views": []
    },
    "909f4504f0b049bda8b641defa177062": {
     "views": []
    },
    "910b9d32a3fb45ec99da1f9df1add816": {
     "views": []
    },
    "9d15ce601cd34f0699b7a7a0ce1d17dc": {
     "views": []
    },
    "a26638c9fee247b3891aac027a0918cc": {
     "views": []
    },
    "a9d2bf44a3ad447bb3eecde71363c198": {
     "views": []
    },
    "ad366bf4c95f4cdba62d47ba9501efc9": {
     "views": []
    },
    "ad8e1842ec314a94b6ed4b62c4c0a450": {
     "views": []
    },
    "af525094db304d2a812ae1312b00889b": {
     "views": []
    },
    "b0697c4343da491f9a35bf02681dad8f": {
     "views": []
    },
    "b07ff307919e4268bc8bec8379c47a5d": {
     "views": []
    },
    "b0e85c726ca141079333afb27edc63d4": {
     "views": []
    },
    "bdcc1e5df7a8432b9f40d8249a46f90a": {
     "views": []
    },
    "be1065f37fa24e818d31c3bb075947a3": {
     "views": []
    },
    "c296c8df2f734e268c6c1204536e7142": {
     "views": []
    },
    "c4bfd3e447f0426da144b76abc202129": {
     "views": []
    },
    "cced93184d4445218a2b14567579333d": {
     "views": []
    },
    "d5bd2e4d5f85482e9345f3a7a69380d0": {
     "views": []
    },
    "d798fa64e8be4a7d9ec1cbeece3b1be9": {
     "views": []
    },
    "d7aec0d6d05f442b991ab40af944811d": {
     "views": []
    },
    "db469cea2c8e4180bf6890de80329c1d": {
     "views": []
    },
    "e671857510c54634b6f0fa55bf1fa228": {
     "views": []
    },
    "ebf52deafaf64b0c826533dafdf993c0": {
     "views": []
    },
    "ed1e5439da9c41199a7bbbda21b556f8": {
     "views": []
    },
    "f585cf5db5024280af5b567f0e4fd771": {
     "views": []
    },
    "f6ba8f8800af47adabed847063bda8db": {
     "views": []
    },
    "f9bae72f14e44705b5c38a3ddc69fee8": {
     "views": []
    }
   },
   "version": "1.1.2"
  }
 },
 "nbformat": 4,
 "nbformat_minor": 2
}
