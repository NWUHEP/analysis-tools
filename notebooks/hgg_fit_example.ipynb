{
 "cells": [
  {
   "cell_type": "markdown",
   "metadata": {},
   "source": [
    "# Unbinned log likelihood fitting with nllfitter\n"
   ]
  },
  {
   "cell_type": "markdown",
   "metadata": {
    "collapsed": false
   },
   "source": [
    "This is an example of estimating model parameters of a probability distribution function by minimizing the negative log likelihood (nll).  This will be carried out on dataset that was generated to simulate the discovery of the Higgs boson in the diphoton decay channel.  This can all be run via the script (test/hgg_fit.py).  Let's first import all the necessary modules:"
   ]
  },
  {
   "cell_type": "code",
   "execution_count": 1,
   "metadata": {
    "collapsed": false
   },
   "outputs": [
    {
     "name": "stdout",
     "output_type": "stream",
     "text": [
      "/home/naodell/work/CMS/amumu\n"
     ]
    }
   ],
   "source": [
    "#imports and config\n",
    "%cd '/home/naodell/work/CMS/amumu'\n",
    "%matplotlib notebook\n",
    "\n",
    "import numpy as np\n",
    "import pandas as pd\n",
    "from scipy.stats import norm\n",
    "from numpy.polynomial.legendre import legval\n",
    "from lmfit import Parameters\n",
    "\n",
    "from nllfitter import NLLFitter, Model\n",
    "from nllfitter.fit_tools import get_data, fit_plot_1D, scale_data\n",
    "%matplotlib inline"
   ]
  },
  {
   "cell_type": "markdown",
   "metadata": {},
   "source": [
    "Now we'll need get the data that we will be modelling.  Given that the Higgs boson is known to have a mass of 125 GeV, we will only consider datapoints lying between 100 and 180 GeV.  The get_data function will scale the data to lie in the range [-1, 1].  This is motivated by the fact that we will be using Legendre polynomials to model the background."
   ]
  },
  {
   "cell_type": "code",
   "execution_count": 2,
   "metadata": {
    "collapsed": false
   },
   "outputs": [],
   "source": [
    "xlimits = (100., 180.)\n",
    "data = pd.read_csv('data/toy_hgammagamma.txt')\n",
    "data = data.diphoton_mass.values\n",
    "n_total = data.size"
   ]
  },
  {
   "cell_type": "markdown",
   "metadata": {},
   "source": [
    "Let's define the background pdf and background plus signal datasets."
   ]
  },
  {
   "cell_type": "code",
   "execution_count": 6,
   "metadata": {
    "collapsed": true
   },
   "outputs": [],
   "source": [
    "def bg_pdf(x, a):\n",
    "    '''\n",
    "    Second order Legendre Polynomial with constant term set to 0.5.\n",
    "\n",
    "    Parameters:\n",
    "    ===========\n",
    "    x: data\n",
    "    a: model parameters (a1 and a2)\n",
    "    '''\n",
    "    z   = scale_data(x, xmin=100, xmax=180)\n",
    "    fx  = legval(z, [0.5, a[0], a[1], a[2]])*2/(100 - 180)\n",
    "    return fx\n",
    "\n",
    "def sig_pdf(x, a):\n",
    "    '''\n",
    "    Third order Legendre Polynomial (normalized to unity) plus a Gaussian.\n",
    "\n",
    "    Parameters:\n",
    "    ===========\n",
    "    x: data\n",
    "    a: model parameters (a1, a2, mu, and sigma)\n",
    "    '''\n",
    "    return (1 - a[0])*bg_pdf(x, a[3:6]) + a[0]*norm.pdf(x, a[1], a[2])\n"
   ]
  },
  {
   "cell_type": "markdown",
   "metadata": {},
   "source": [
    "For the background model (null hypothesis) we will use a third order Legendre polynomial normalized to unity (this is satisfied by requiring the coefficient for the constand term be 0.5).  The background plus signal model (alternative model) will include an additional Gaussian term.  The mean of the Gaussian should correspond to the Higgs boson mass.\n",
    "\n",
    "Let's set up the background only fit,"
   ]
  },
  {
   "cell_type": "code",
   "execution_count": 7,
   "metadata": {
    "collapsed": true
   },
   "outputs": [],
   "source": [
    "bg_params = Parameters()\n",
    "bg_params.add_many(\n",
    "                   ('a1', 0., True, None, None, None),\n",
    "                   ('a2', 0., True, None, None, None),\n",
    "                   ('a3', 0., True, None, None, None)\n",
    "                  )\n",
    "\n",
    "bg_model  = Model(bg_pdf, bg_params)\n",
    "bg_fitter = NLLFitter(bg_model)"
   ]
  },
  {
   "cell_type": "markdown",
   "metadata": {},
   "source": [
    "The NLLFitter framework uses the lmfit Parameters class.  The usage is described [here](https://lmfit.github.io/lmfit-py/parameters.html).  The Model class holds the functional form of the pdf and the parameters.  The NLLFitter is initialized with bg_model which will be used to fit to the data as follows, "
   ]
  },
  {
   "cell_type": "code",
   "execution_count": 8,
   "metadata": {
    "collapsed": false
   },
   "outputs": [
    {
     "name": "stdout",
     "output_type": "stream",
     "text": [
      "Fit finished with status: 9\n"
     ]
    }
   ],
   "source": [
    "bg_result = bg_fitter.fit(data)"
   ]
  },
  {
   "cell_type": "markdown",
   "metadata": {},
   "source": [
    "That's all there is to it.  (N.B. the parameters are correct for the range [-1, 1], but in general won't be for the true range.  This will be addressed in iterations in the near future).  Let's do the same for the background plus signal model,"
   ]
  },
  {
   "cell_type": "code",
   "execution_count": 9,
   "metadata": {
    "collapsed": false
   },
   "outputs": [
    {
     "name": "stdout",
     "output_type": "stream",
     "text": [
      "Fit finished with status: 9\n"
     ]
    }
   ],
   "source": [
    "sig_params = Parameters()\n",
    "sig_params.add_many(\n",
    "                    ('A'     , 0.01 , True , 0.   , 1.   , None),\n",
    "                    ('mu'    , -0.3 , True , -0.8 , 0.8  , None),\n",
    "                    ('sigma' , 0.01 , True , 0.01 , 1.   , None),\n",
    "                   )\n",
    "sig_params += bg_params.copy()\n",
    "sig_model  = Model(sig_pdf, sig_params)\n",
    "sig_fitter = NLLFitter(sig_model)\n",
    "sig_result = sig_fitter.fit(data)"
   ]
  },
  {
   "cell_type": "markdown",
   "metadata": {},
   "source": [
    "Note that I was able to just add a copy of the background parameters to the signal parameters.  Be careful to pass a copy, though, or otherwise the values in bg_params will be different after carrying out the fit of sig_model to the data.  Let's see how our fits look,"
   ]
  },
  {
   "cell_type": "code",
   "execution_count": null,
   "metadata": {
    "collapsed": false
   },
   "outputs": [],
   "source": [
    "fit_plot(data, xlimits, sig_model, bg_model, 'hgg', show=True)"
   ]
  },
  {
   "cell_type": "markdown",
   "metadata": {},
   "source": [
    "Thats' a damn fine fit there.  By eye it looks pretty clear that the background plus signal fits to the data better.  The standard figure of merit for quantizing this model comparison is the likelihood ratio vis-a-vis Wilk's theorem,"
   ]
  },
  {
   "cell_type": "code",
   "execution_count": null,
   "metadata": {
    "collapsed": false
   },
   "outputs": [],
   "source": [
    "q = 2*(bg_model.calc_nll(data) - sig_model.calc_nll(data))\n",
    "print 'z = {0}'.format(np.sqrt(q))"
   ]
  },
  {
   "cell_type": "markdown",
   "metadata": {
    "collapsed": true
   },
   "source": [
    "Given the pseudodata was generated by injecting $\\sim 5\\sigma$ signal, this result is to be expected."
   ]
  }
 ],
 "metadata": {
  "hide_input": false,
  "kernelspec": {
   "display_name": "Python 2",
   "language": "python",
   "name": "python2"
  },
  "language_info": {
   "codemirror_mode": {
    "name": "ipython",
    "version": 2
   },
   "file_extension": ".py",
   "mimetype": "text/x-python",
   "name": "python",
   "nbconvert_exporter": "python",
   "pygments_lexer": "ipython2",
   "version": "2.7.12"
  },
  "latex_envs": {
   "bibliofile": "biblio.bib",
   "cite_by": "apalike",
   "current_citInitial": 1,
   "eqLabelWithNumbers": true,
   "eqNumInitial": 0
  },
  "toc": {
   "nav_menu": {
    "height": "42px",
    "width": "252px"
   },
   "navigate_menu": true,
   "number_sections": true,
   "sideBar": true,
   "threshold": 4,
   "toc_cell": false,
   "toc_section_display": "block",
   "toc_window_display": false
  },
  "widgets": {
   "state": {},
   "version": "1.1.2"
  }
 },
 "nbformat": 4,
 "nbformat_minor": 0
}
