{
 "cells": [
  {
   "cell_type": "markdown",
   "metadata": {},
   "source": [
    "# Unbinned log likelihood fitting with nllfitter\n"
   ]
  },
  {
   "cell_type": "markdown",
   "metadata": {
    "collapsed": false
   },
   "source": [
    "This is an example of estimating model parameters of a probability distribution function by minimizing the negative log likelihood (nll).  This will be carried out on dataset that was generated to simulate the discovery of the Higgs boson in the diphoton decay channel.  This can all be run via the script (test/hgg_fit.py).  Let's first import all the necessary modules:"
   ]
  },
  {
   "cell_type": "code",
   "execution_count": 1,
   "metadata": {
    "collapsed": false
   },
   "outputs": [],
   "source": [
    "import numpy as np\n",
    "from scipy.stats import norm\n",
    "from lmfit import Parameters\n",
    "\n",
    "from nllfitter import NLLFitter, Model\n",
    "from nllfitter.fit_tools import get_data, fit_plot, scale_data\n",
    "%matplotlib inline"
   ]
  },
  {
   "cell_type": "markdown",
   "metadata": {},
   "source": [
    "Now we'll need get the data that we will be modelling.  Given that the Higgs boson is known to have a mass of 125 GeV, we will only consider datapoints lying between 100 and 180 GeV.  The get_data function will scale the data to lie in the range [-1, 1].  This is motivated by the fact that we will be using Legendre polynomials to model the background."
   ]
  },
  {
   "cell_type": "code",
   "execution_count": 2,
   "metadata": {
    "collapsed": false
   },
   "outputs": [],
   "source": [
    "xlimits = (100., 180.)\n",
    "data, n_total = get_data('../data/toy_hgammagamma.txt', 'diphoton_mass', xlimits)"
   ]
  },
  {
   "cell_type": "markdown",
   "metadata": {},
   "source": [
    "Let's define the background pdf and background plus signal datasets."
   ]
  },
  {
   "cell_type": "code",
   "execution_count": 3,
   "metadata": {
    "collapsed": true
   },
   "outputs": [],
   "source": [
    "def bg_pdf(x, a):\n",
    "    '''\n",
    "    Third order Legendre Polynomial with constant term set to 0.5.\n",
    "\n",
    "    Parameters:\n",
    "    ===========\n",
    "    x: data\n",
    "    a: model parameters (a1 and a2)\n",
    "    '''\n",
    "    return 0.5 + a[0]*x + 0.5*a[1]*(3*x**2 - 1) + 0.5*a[2]*(5*x**3 - 3*x)\n",
    "\n",
    "def sig_pdf(x, a):\n",
    "    '''\n",
    "    Third order Legendre Polynomial (normalized to unity) plus a Gaussian.\n",
    "\n",
    "    Parameters:\n",
    "    ===========\n",
    "    x: data\n",
    "    a: model parameters (a1, a2, mu, and sigma)\n",
    "    '''\n",
    "    return (1 - a[0])*bg_pdf(x, a[3:6]) + a[0]*norm.pdf(x, a[1], a[2])\n"
   ]
  },
  {
   "cell_type": "markdown",
   "metadata": {},
   "source": [
    "For the background model (null hypothesis) we will use a third order Legendre polynomial normalized to unity (this is satisfied by requiring the coefficient for the constand term be 0.5).  The background plus signal model (alternative model) will include an additional Gaussian term.  The mean of the Gaussian should correspond to the Higgs boson mass.\n",
    "\n",
    "Let's set up the background only fit,"
   ]
  },
  {
   "cell_type": "code",
   "execution_count": 4,
   "metadata": {
    "collapsed": true
   },
   "outputs": [],
   "source": [
    "bg_params = Parameters()\n",
    "bg_params.add_many(\n",
    "                   ('a1', 0., True, None, None, None),\n",
    "                   ('a2', 0., True, None, None, None),\n",
    "                   ('a3', 0., True, None, None, None)\n",
    "                  )\n",
    "\n",
    "bg_model  = Model(bg_pdf, bg_params)\n",
    "bg_fitter = NLLFitter(bg_model)"
   ]
  },
  {
   "cell_type": "markdown",
   "metadata": {},
   "source": [
    "The NLLFitter framework uses the lmfit Parameters class.  The usage is described [here](https://lmfit.github.io/lmfit-py/parameters.html).  The Model class holds the functional form of the pdf and the parameters.  The NLLFitter is initialized with bg_model which will be used to fit to the data as follows, "
   ]
  },
  {
   "cell_type": "code",
   "execution_count": 5,
   "metadata": {
    "collapsed": false
   },
   "outputs": [
    {
     "name": "stdout",
     "output_type": "stream",
     "text": [
      "Fit finished with status: 0\n",
      "[[Variables]]\n",
      "    a1:  -0.48120178 +/- 0.007830 (1.63%) (init= 0)\n",
      "    a2:   0.18260829 +/- 0.011468 (6.28%) (init= 0)\n",
      "    a3:  -0.04508985 +/- 0.012017 (26.65%) (init= 0)\n",
      "\n",
      "[[Correlation matrix]]\n",
      "[[ 1.    -0.463  0.147]\n",
      " [-0.463  1.    -0.462]\n",
      " [ 0.147 -0.462  1.   ]] \n",
      "\n"
     ]
    }
   ],
   "source": [
    "bg_result = bg_fitter.fit(data)"
   ]
  },
  {
   "cell_type": "markdown",
   "metadata": {},
   "source": [
    "That's all there is to it.  (N.B. the parameters are correct for the range [-1, 1], but in general won't be for the true range.  This will be addressed in iterations in the near future).  Let's do the same for the background plus signal model,"
   ]
  },
  {
   "cell_type": "code",
   "execution_count": 6,
   "metadata": {
    "collapsed": false
   },
   "outputs": [
    {
     "name": "stdout",
     "output_type": "stream",
     "text": [
      "Fit finished with status: 0\n",
      "[[Variables]]\n",
      "    A:       0.02673810 +/- 0.006351 (23.76%) (init= 0.01)\n",
      "    mu:     -0.36592351 +/- 0.015114 (4.13%) (init=-0.3)\n",
      "    sigma:   0.06514098 +/- 0.014425 (22.14%) (init= 0.01)\n",
      "    a1:     -0.47894778 +/- 0.008085 (1.69%) (init= 0)\n",
      "    a2:      0.20645574 +/- 0.012726 (6.16%) (init= 0)\n",
      "    a3:     -0.08015350 +/- 0.014607 (18.22%) (init= 0)\n",
      "\n",
      "[[Correlation matrix]]\n",
      "[[ 1.    -0.344  0.67   0.102  0.385 -0.526]\n",
      " [-0.344  1.    -0.467 -0.107 -0.042  0.148]\n",
      " [ 0.67  -0.467  1.     0.091  0.243 -0.353]\n",
      " [ 0.102 -0.107  0.091  1.    -0.381  0.046]\n",
      " [ 0.385 -0.042  0.243 -0.381  1.    -0.582]\n",
      " [-0.526  0.148 -0.353  0.046 -0.582  1.   ]] \n",
      "\n"
     ]
    }
   ],
   "source": [
    "sig_params = Parameters()\n",
    "sig_params.add_many(\n",
    "                    ('A'     , 0.01 , True , 0.   , 1.   , None),\n",
    "                    ('mu'    , -0.3 , True , -0.8 , 0.8  , None),\n",
    "                    ('sigma' , 0.01 , True , 0.01 , 1.   , None),\n",
    "                   )\n",
    "sig_params += bg_params.copy()\n",
    "sig_model  = Model(sig_pdf, sig_params)\n",
    "sig_fitter = NLLFitter(sig_model)\n",
    "sig_result = sig_fitter.fit(data)"
   ]
  },
  {
   "cell_type": "markdown",
   "metadata": {},
   "source": [
    "Note that I was able to just add a copy of the background parameters to the signal parameters.  Be careful to pass a copy, though, or otherwise the values in bg_params will be different after carrying out the fit of sig_model to the data.  Let's see how our fits look,"
   ]
  },
  {
   "cell_type": "code",
   "execution_count": 7,
   "metadata": {
    "collapsed": false
   },
   "outputs": [
    {
     "name": "stderr",
     "output_type": "stream",
     "text": [
      "/home/naodell/intel/intelpython27/lib/python2.7/site-packages/matplotlib/collections.py:590: FutureWarning: elementwise comparison failed; returning scalar instead, but in the future will perform elementwise comparison\n",
      "  if self._edgecolors == str('face'):\n"
     ]
    },
    {
     "data": {
      "image/png": "[encoded data removed]",
      "text/plain": [
       "<matplotlib.figure.Figure at 0x7f7dc43e5810>"
      ]
     },
     "metadata": {},
     "output_type": "display_data"
    }
   ],
   "source": [
    "fit_plot(data, xlimits, sig_model, bg_model, 'hgg', show=True)"
   ]
  },
  {
   "cell_type": "markdown",
   "metadata": {},
   "source": [
    "Thats' a damn fine fit there.  By eye it looks pretty clear that the background plus signal fits to the data better.  The standard figure of merit for quantizing this model comparison is the likelihood ratio vis-a-vis Wilk's theorem,"
   ]
  },
  {
   "cell_type": "code",
   "execution_count": 10,
   "metadata": {
    "collapsed": false
   },
   "outputs": [
    {
     "name": "stdout",
     "output_type": "stream",
     "text": [
      "z = 5.86698539059\n"
     ]
    }
   ],
   "source": [
    "q = 2*(bg_model.calc_nll(data) - sig_model.calc_nll(data))\n",
    "print 'z = {0}'.format(np.sqrt(q))"
   ]
  },
  {
   "cell_type": "markdown",
   "metadata": {
    "collapsed": true
   },
   "source": [
    "Given the pseudodata was generated by injecting $\\sim 5\\sigma$ signal, this result is to be expected."
   ]
  },
  {
   "cell_type": "code",
   "execution_count": null,
   "metadata": {
    "collapsed": true
   },
   "outputs": [],
   "source": []
  }
 ],
 "metadata": {
  "kernelspec": {
   "display_name": "Python 2",
   "language": "python",
   "name": "python2"
  },
  "language_info": {
   "codemirror_mode": {
    "name": "ipython",
    "version": 2
   },
   "file_extension": ".py",
   "mimetype": "text/x-python",
   "name": "python",
   "nbconvert_exporter": "python",
   "pygments_lexer": "ipython2",
   "version": "2.7.11"
  }
 },
 "nbformat": 4,
 "nbformat_minor": 0
}
