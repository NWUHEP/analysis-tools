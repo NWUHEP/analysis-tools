{
 "cells": [
  {
   "cell_type": "markdown",
   "metadata": {},
   "source": [
    "## baseline fit and covariance estimation\n",
    "\n",
    "To assess the impact of various sources of systematic, we will rely on an Asimov dataset."
   ]
  },
  {
   "cell_type": "code",
   "execution_count": null,
   "metadata": {
    "ExecuteTime": {
     "start_time": "2020-03-17T17:04:16.960Z"
    },
    "code_folding": [
     0
    ]
   },
   "outputs": [],
   "source": [
    "## imports and configuration\n",
    "%cd '/home/naodell/work/wbr/analysis'\n",
    "#%load_ext autoreload\n",
    "\n",
    "from multiprocessing import Pool\n",
    "from functools import partial\n",
    "import numpy as np\n",
    "import pandas as pd\n",
    "import matplotlib.pyplot as plt\n",
    "import matplotlib\n",
    "from scipy.optimize import minimize\n",
    "from tqdm import tqdm_notebook, trange\n",
    "\n",
    "import scripts.plot_tools as pt\n",
    "import scripts.fit_helpers as fh\n",
    "\n",
    "np.set_printoptions(precision=3)\n",
    "rc_params = {\n",
    "             'figure.figsize': (10, 10),\n",
    "             'axes.labelsize': 20,\n",
    "             'axes.facecolor': 'white',\n",
    "             'axes.titlesize':'x-large',\n",
    "             'legend.fontsize': 20,\n",
    "             'xtick.labelsize':18,\n",
    "             'ytick.labelsize':18,\n",
    "             'font.size':18,\n",
    "             'font.sans-serif':['Arial', 'sans-serif'],\n",
    "             'mathtext.sf':'Arial',\n",
    "             'lines.markersize':8.,\n",
    "             'lines.linewidth':2.5,\n",
    "            }\n",
    "matplotlib.rcParams.update(rc_params)\n",
    "\n",
    "%connect_info"
   ]
  },
  {
   "cell_type": "code",
   "execution_count": null,
   "metadata": {
    "ExecuteTime": {
     "start_time": "2020-03-17T17:04:16.969Z"
    },
    "code_folding": [],
    "scrolled": false
   },
   "outputs": [],
   "source": [
    "# configure, get the input data, and do any additional processing that is needed\n",
    "processes = ['ttbar', 't', 'ww', 'wjets', 'zjets_alt', 'diboson', 'fakes'] \n",
    "selections = [\n",
    "              'ee',  'mumu',  \n",
    "              'emu', \n",
    "              #'mutau', 'etau', \n",
    "              #'mu4j', 'e4j'\n",
    "             ]\n",
    "plot_labels = fh.fancy_labels\n",
    "\n",
    "# initialize fit data\n",
    "input_dir  = f'local_data/templates/nominal_smooth/'\n",
    "fit_data = fh.FitData(input_dir, selections, processes, \n",
    "                      param_file = 'data/model_parameters_default.csv',\n",
    "                      use_prefit = False,\n",
    "                      process_cut = 0.05\n",
    "                     )"
   ]
  },
  {
   "cell_type": "code",
   "execution_count": null,
   "metadata": {
    "ExecuteTime": {
     "start_time": "2020-03-17T17:04:16.972Z"
    },
    "code_folding": [],
    "scrolled": true
   },
   "outputs": [],
   "source": [
    "# prepare Asimov dataset\n",
    "parameters = fit_data._parameters\n",
    "params_pre = parameters['val_init'].values\n",
    "asimov_data = {cat:fit_data.mixture_model(parameters.val_init.values, cat) for cat in fit_data._model_data.keys()}"
   ]
  },
  {
   "cell_type": "code",
   "execution_count": null,
   "metadata": {
    "ExecuteTime": {
     "start_time": "2020-03-17T17:04:16.976Z"
    },
    "code_folding": [
     0
    ]
   },
   "outputs": [],
   "source": [
    "# initialize veto list\n",
    "fit_data.veto_list = [\n",
    "    # baseline\n",
    "    #'ee_cat_gt2_eq1_b', 'ee_cat_gt2_gt2_b', \n",
    "    #'mumu_cat_gt2_eq1_b', 'mumu_cat_gt2_gt2_b', \n",
    "    #'emu_cat_gt2_eq1_a', 'emu_cat_gt2_gt2_a', \n",
    "    #'etau_cat_eq2_eq1', 'etau_cat_gt3_eq1', 'etau_cat_eq2_gt2', 'etau_cat_gt3_gt2', \n",
    "    #'mutau_cat_eq2_eq1', 'mutau_cat_gt3_eq1', 'mutau_cat_eq2_gt2', 'mutau_cat_gt3_gt2', \n",
    "    #'e4j_cat_gt4_eq1', 'e4j_cat_gt4_gt2',\n",
    "    #'mu4j_cat_gt4_eq1', 'mu4j_cat_gt4_gt2', \n",
    "    'e4j_cat_eq3_gt2', 'mu4j_cat_eq3_gt2',\n",
    "    \n",
    "    # e/mu DY CR\n",
    "    'ee_cat_gt2_eq0',  'mumu_cat_gt2_eq0', \n",
    "    \n",
    "    # e+mu additional ttbar\n",
    "    #'emu_cat_gt2_eq0', 'emu_cat_eq1_eq0_a', 'emu_cat_eq1_eq1_a', \n",
    "    \n",
    "    # e+mu WW\n",
    "    #'emu_cat_eq0_eq0_a', \n",
    "    \n",
    "    # e/mu+tau additional CR\n",
    "    #'mutau_cat_eq0_eq0', 'mutau_cat_eq1_eq0', \n",
    "    #'mutau_cat_gt2_eq0', 'mutau_cat_eq1_eq1', \n",
    "    #'etau_cat_eq0_eq0', 'etau_cat_eq1_eq0', \n",
    "    #'etau_cat_gt2_eq0', 'etau_cat_eq1_eq1', \n",
    "]"
   ]
  },
  {
   "cell_type": "code",
   "execution_count": null,
   "metadata": {
    "ExecuteTime": {
     "start_time": "2020-03-17T17:04:16.979Z"
    },
    "code_folding": []
   },
   "outputs": [],
   "source": [
    "# fit configuration #\n",
    "scenario = 'unblinded'\n",
    "\n",
    "# minimizer options\n",
    "min_options = dict(#eps=1e-9, \n",
    "                   gtol = 1e-3,\n",
    "                   disp = True\n",
    "                  )\n",
    "\n",
    "# configure the objective\n",
    "#fit_data._pmask[4:] = False\n",
    "mask = fit_data._pmask.copy()\n",
    "if scenario == 'unblinded':\n",
    "    sample = None\n",
    "else:\n",
    "    sample = asimov_data\n",
    "fobj = partial(fit_data.objective,\n",
    "               data = sample,\n",
    "               do_bb_lite = True,\n",
    "               no_shape = False,\n",
    "               lu_test = 0\n",
    "              )\n",
    "\n",
    "fobj_jac = partial(fit_data.objective_jacobian,\n",
    "                   data = sample,\n",
    "                   do_bb_lite = True,\n",
    "                   no_shape = False,\n",
    "                   lu_test = 0\n",
    "                  )\n"
   ]
  },
  {
   "cell_type": "code",
   "execution_count": null,
   "metadata": {
    "ExecuteTime": {
     "start_time": "2020-03-17T17:04:16.981Z"
    },
    "code_folding": [
     0
    ],
    "scrolled": true
   },
   "outputs": [],
   "source": [
    "# carry out fit for null hypothesis\n",
    "result_null = minimize(fobj, params_pre[mask],\n",
    "                       jac = fobj_jac,\n",
    "                       method  = 'BFGS', \n",
    "                       options = min_options,\n",
    "                       args = ()\n",
    "                      )\n",
    "\n",
    "print(' null : ', result_null.status, result_null.fun, result_null.x[:4]*100)"
   ]
  },
  {
   "cell_type": "code",
   "execution_count": null,
   "metadata": {
    "ExecuteTime": {
     "start_time": "2020-03-17T17:04:16.985Z"
    },
    "code_folding": [
     0
    ],
    "scrolled": false
   },
   "outputs": [],
   "source": [
    "# carry out fit for null hypothesis\n",
    "#result_null = minimize(fobj, params_pre[mask],\n",
    "#                       jac = fobj_jac,\n",
    "#                       hess = '2-point',\n",
    "#                       method  = 'trust-constr', \n",
    "#                       #method  = 'BFGS', \n",
    "#                       options = {'verbose': 2, 'gtol':1.},\n",
    "#                       args = ()\n",
    "#                      )\n",
    "#\n",
    "#print(' null : ', result_null.status, result_null.fun, result_null.x[:4]*100)"
   ]
  },
  {
   "cell_type": "code",
   "execution_count": null,
   "metadata": {
    "ExecuteTime": {
     "start_time": "2020-03-17T17:04:16.989Z"
    },
    "code_folding": [
     0
    ]
   },
   "outputs": [],
   "source": [
    "# carry out fit for alt 1\n",
    "fobj.keywords['lu_test'] = 1\n",
    "fobj_jac.keywords['lu_test'] = 1\n",
    "result_alt1 = minimize(fobj, params_pre[mask],\n",
    "                       jac     = fobj_jac,\n",
    "                       method  = 'BFGS', \n",
    "                       options = min_options,\n",
    "                       args = ()\n",
    "                      )\n",
    "        \n",
    "print(' alt. 1: ', result_alt1.status, result_alt1.fun, result_alt1.x[:4]*100)"
   ]
  },
  {
   "cell_type": "code",
   "execution_count": null,
   "metadata": {
    "ExecuteTime": {
     "start_time": "2020-03-17T17:04:16.992Z"
    },
    "code_folding": [
     0
    ],
    "scrolled": false
   },
   "outputs": [],
   "source": [
    "# carry out fit for alt hypothesis\n",
    "#fobj.keywords['lu_test'] = 1\n",
    "#fobj_jac.keywords['lu_test'] = 1\n",
    "#pinit = result_null.x.copy()\n",
    "#result_alt1 = minimize(fobj, pinit,\n",
    "#                       jac = fobj_jac,\n",
    "#                       hess = '2-point',\n",
    "#                       method  = 'trust-constr', \n",
    "#                       #method  = 'BFGS', \n",
    "#                       options = {'verbose': 2, 'gtol':0.1},\n",
    "#                       args = ()\n",
    "#                      )\n",
    "#\n",
    "#print('alt. 1: ', result_alt1.status, result_alt1.fun, result_alt1.x[:4]*100)"
   ]
  },
  {
   "cell_type": "code",
   "execution_count": null,
   "metadata": {
    "ExecuteTime": {
     "start_time": "2020-03-17T17:04:16.995Z"
    },
    "code_folding": [
     0
    ]
   },
   "outputs": [],
   "source": [
    "# carry out fit for alt 2\n",
    "fobj.keywords['lu_test'] = 2\n",
    "fobj_jac.keywords['lu_test'] = 2\n",
    "result_alt2 =  minimize(fobj, params_pre[mask],\n",
    "                        jac     = fobj_jac,\n",
    "                        method  = 'BFGS', \n",
    "                        options = min_options,\n",
    "                        #bounds  = bnds,\n",
    "                       )\n",
    "\n",
    "print(' alt. 2: ', result_alt2.status, result_alt2.fun, result_alt2.x[:4]*100)"
   ]
  },
  {
   "cell_type": "code",
   "execution_count": null,
   "metadata": {
    "ExecuteTime": {
     "start_time": "2020-03-17T17:04:16.998Z"
    },
    "code_folding": [
     0
    ]
   },
   "outputs": [],
   "source": [
    "# Wilk's theorem\n",
    "from scipy.stats import chi2, norm\n",
    "q1 = 2*(result_null.fun - result_alt1.fun)\n",
    "z1 = -norm.ppf(chi2.sf(q1, 1))\n",
    "\n",
    "q2 = 2*(result_null.fun - result_alt2.fun)\n",
    "z2 = -norm.ppf(chi2.sf(q2, 2))\n",
    "\n",
    "print(f' test hypothesis 1: q = {q1:.1f}, z = {z1:.1f}')\n",
    "print(f' test hypothesis 2: q = {q2:.1f}, z = {z2:.1f}')"
   ]
  },
  {
   "cell_type": "code",
   "execution_count": null,
   "metadata": {
    "ExecuteTime": {
     "start_time": "2020-03-17T17:04:17.001Z"
    },
    "code_folding": [
     0
    ],
    "scrolled": false
   },
   "outputs": [],
   "source": [
    "# calculate covariance matrix from the inverse of the Hessian of the NLL\n",
    "print('Calculating full covariance...')\n",
    "p_mle = result_alt2.x\n",
    "stderr, corr = fh.calculate_covariance(fobj, p_mle)\n",
    "\n",
    "# no MC stat\n",
    "print('Calculating covariance without MC stats nuisance parameters...')\n",
    "fit_data._pmask = parameters['active'].values.astype(bool)\n",
    "mask = fit_data._pmask.copy()\n",
    "fobj.keywords['do_bb_lite'] = False\n",
    "fobj_jac.keywords['do_bb_lite'] = False\n",
    "result_no_bb =  minimize(fobj, params_pre[mask],\n",
    "                    jac     = fobj_jac,\n",
    "                    method  = 'BFGS', \n",
    "                    options = min_options,\n",
    "                    #bounds  = bnds,\n",
    "                    )\n",
    "p_no_bb = result_no_bb.x\n",
    "err_no_bb, _ = fh.calculate_covariance(fobj, p_no_bb)\n",
    "\n",
    "# stat only\n",
    "print('Calculating covariance without any nuisance parameters...')\n",
    "fit_data._pmask[4:] = False\n",
    "result_stat =  minimize(fobj, params_pre[:4],\n",
    "                    jac     = fobj_jac,\n",
    "                    method  = 'BFGS', \n",
    "                    options = min_options,\n",
    "                    #bounds  = bnds,\n",
    "                    )\n",
    "p_stat = result_stat.x\n",
    "err_stat, _ = fh.calculate_covariance(fobj, p_stat)\n",
    "err_stat = np.concatenate([err_stat, np.zeros(p_mle.size - 4)])\n",
    "\n",
    "# w/ MC stat, but no systematics\n",
    "#print('Calculating covariance with only MC stat nuisance parameters...')\n",
    "fobj.keywords['do_bb_lite'] = True\n",
    "fobj_jac.keywords['do_bb_lite'] = True\n",
    "#err_mc_stat_alt, _ = fh.calculate_covariance(fobj, p_mle[:4])\n",
    "#err_mc_stat_alt = np.concatenate([err_mc_stat_alt, np.zeros(p_mle.size - 4)])\n",
    "mask = parameters['active'].values.astype(bool)\n",
    "\n",
    "# combine components\n",
    "err_syst = np.sqrt(err_no_bb**2 - err_stat**2)\n",
    "err_mc_stat = np.sqrt(stderr**2 - err_no_bb**2)\n",
    "#err_mc_stat_alt = np.sqrt(err_mc_stat_alt**2 - err_stat**2)"
   ]
  },
  {
   "cell_type": "code",
   "execution_count": null,
   "metadata": {
    "ExecuteTime": {
     "start_time": "2020-03-17T17:04:17.017Z"
    },
    "code_folding": [],
    "scrolled": false
   },
   "outputs": [],
   "source": [
    "# plot errors\n",
    "parameters = fit_data._parameters\n",
    "parameters['val_fit'] = parameters['val_init'].copy()\n",
    "parameters['err_fit'] = parameters['err_init'].copy()\n",
    "parameters.loc[mask, 'val_fit'] = result_alt2.x\n",
    "parameters.loc[mask, 'err_fit'] = stderr\n",
    "parameters['ratio'] = parameters.err_fit/parameters.err_init\n",
    "\n",
    "parameters['val_no_bb'] = parameters['val_init'].copy()\n",
    "parameters['err_no_bb'] = parameters['err_init'].copy()\n",
    "parameters.loc[mask, 'val_no_bb'] = p_no_bb\n",
    "parameters.loc[mask, 'err_no_bb'] = err_no_bb\n",
    "\n",
    "parameters['val_stat'] = parameters['val_init'].copy()\n",
    "parameters['err_stat'] = parameters['err_init'].copy()\n",
    "mask[4:] = False\n",
    "parameters.loc[mask, 'val_stat'] = p_stat\n",
    "parameters.loc[mask, 'err_stat'] = err_stat[:4]\n",
    "mask = parameters['active'].values.astype(bool)\n",
    "\n",
    "# scale branching fraction values\n",
    "#param_mask = np.array(parameters.type == 'poi', dtype=bool)\n",
    "#val_init = parameters.loc[param_mask, 'val_init']\n",
    "#parameters.loc[param_mask, 'err_init'] *= 100/val_init\n",
    "#parameters.loc[param_mask, 'err_fit'] *= 100/val_init\n",
    "\n",
    "pd.set_option('display.float_format', lambda x: '%.4f' % x)\n",
    "pd.set_option('display.max_columns', parameters.shape[0])\n",
    "pd.set_option('display.max_rows', parameters.shape[0])\n",
    "\n",
    "# plot nuisance parameter errors and constraints\n",
    "parameters.set_index('label')\n",
    "parameters.to_csv(f'data/model_parameters_{scenario}.csv')\n",
    "\n",
    "# save fit data as input to full fit\n",
    "outfile = open(f'local_data/fit_data_{scenario}.pkl', 'wb')\n",
    "fit_data._pmask = parameters['active'].values.astype(bool)\n",
    "pickle.dump(fit_data, outfile)\n",
    "outfile.close()\n",
    "###\n",
    "\n",
    "df = parameters.query('active == 1')[['val_init', 'err_init', 'val_stat', 'err_stat', 'val_no_bb', 'err_no_bb', 'val_fit', 'err_fit', 'ratio']]\n",
    "df = df.astype('float64')\n",
    "#df\n",
    "df.style.bar(subset=['ratio'], align='mid', color=['#d65f5f', '#5fba7d']).set_precision(2)\n",
    "#parameters[['err_init', 'err_fit', 'ratio']]#.head(4)"
   ]
  },
  {
   "cell_type": "code",
   "execution_count": null,
   "metadata": {
    "ExecuteTime": {
     "start_time": "2020-03-17T17:04:17.020Z"
    },
    "code_folding": [],
    "scrolled": false
   },
   "outputs": [],
   "source": [
    "# produce correlation matrix\n",
    "p_labels = list(parameters.index)\n",
    "p_labels_fancy = fit_data._parameters.label[mask]\n",
    "\n",
    "df_corr = pd.DataFrame(corr, columns=p_labels_fancy, index=p_labels_fancy)\n",
    "df_corr.iloc[4:,4:].to_latex(f'local_data/corr_table_full_{scenario}.tex')\n",
    "df_corr.iloc[4:,4:].to_csv(f'local_data/corr_table_full_{scenario}.csv')\n",
    "\n",
    "import seaborn as sns\n",
    "fig, ax = plt.subplots(1, 1, facecolor='white', figsize=(40, 40))\n",
    "sns.heatmap(df_corr, cmap='Spectral', annot=False, fmt='.2f', ax=ax, cbar_kws={'label': r'correlation coefficient'})\n",
    "plt.plot([4, df_corr.shape[0]], [4, 4], 'r--')\n",
    "plt.plot([4, 4], [4, df_corr.shape[0]], 'r--')\n",
    "ax.set_xlabel('')\n",
    "ax.set_ylabel('')\n",
    "ax.xaxis.tick_top()\n",
    "ax.grid()\n",
    "#ax.xaxis.set_ticks(np.arange(0, df_corr.shape[0], 1))\n",
    "plt.xticks(rotation=90)\n",
    "\n",
    "plt.tight_layout()\n",
    "plt.subplots_adjust(top=0.9)\n",
    "plt.savefig(f'plots/systematics/correlation_matrix_{scenario}.pdf')\n",
    "plt.show()"
   ]
  },
  {
   "cell_type": "code",
   "execution_count": null,
   "metadata": {},
   "outputs": [],
   "source": []
  }
 ],
 "metadata": {
  "hide_input": false,
  "kernelspec": {
   "display_name": "Python 3",
   "language": "python",
   "name": "python3"
  },
  "language_info": {
   "codemirror_mode": {
    "name": "ipython",
    "version": 3
   },
   "file_extension": ".py",
   "mimetype": "text/x-python",
   "name": "python",
   "nbconvert_exporter": "python",
   "pygments_lexer": "ipython3",
   "version": "3.7.2"
  },
  "latex_envs": {
   "LaTeX_envs_menu_present": true,
   "autoclose": false,
   "autocomplete": true,
   "bibliofile": "biblio.bib",
   "cite_by": "apalike",
   "current_citInitial": 1,
   "eqLabelWithNumbers": true,
   "eqNumInitial": 0,
   "hotkeys": {
    "equation": "Ctrl-E",
    "itemize": "Ctrl-I"
   },
   "labels_anchors": false,
   "latex_user_defs": false,
   "report_style_numbering": false,
   "user_envs_cfg": false
  },
  "toc": {
   "nav_menu": {
    "height": "29px",
    "width": "251px"
   },
   "number_sections": true,
   "sideBar": true,
   "skip_h1_title": false,
   "title_cell": "Table of Contents",
   "title_sidebar": "Contents",
   "toc_cell": false,
   "toc_position": {
    "height": "49px",
    "left": "0px",
    "right": "1493.87px",
    "top": "90.9965px",
    "width": "242px"
   },
   "toc_section_display": false,
   "toc_window_display": false
  },
  "varInspector": {
   "cols": {
    "lenName": 16,
    "lenType": 16,
    "lenVar": 40
   },
   "kernels_config": {
    "python": {
     "delete_cmd_postfix": "",
     "delete_cmd_prefix": "del ",
     "library": "var_list.py",
     "varRefreshCmd": "print(var_dic_list())"
    },
    "r": {
     "delete_cmd_postfix": ") ",
     "delete_cmd_prefix": "rm(",
     "library": "var_list.r",
     "varRefreshCmd": "cat(var_dic_list()) "
    }
   },
   "oldHeight": 744.85,
   "position": {
    "height": "40px",
    "left": "919px",
    "right": "20px",
    "top": "59px",
    "width": "678px"
   },
   "types_to_exclude": [
    "module",
    "function",
    "builtin_function_or_method",
    "instance",
    "_Feature"
   ],
   "varInspector_section_display": "none",
   "window_display": false
  },
  "widgets": {
   "state": {
    "012f8bbe2fdb410dae6e2cde9d7fe5cb": {
     "views": []
    },
    "080556076f174648bddf64f17a54c523": {
     "views": []
    },
    "0ad83b5f67484ae5b8fd8dd43ccc39bd": {
     "views": []
    },
    "15acd81a9adc493683d9b63813f000bf": {
     "views": []
    },
    "1840cb6fded848b4ae95ec8d3db15ab2": {
     "views": []
    },
    "1dd83f822e074642ae4255b15ee661cf": {
     "views": []
    },
    "1e71a878e6474912a0efc497ecc5d65b": {
     "views": []
    },
    "2022ed83777b4963b630b5c46239e218": {
     "views": []
    },
    "21c4c57bfc48495194663e6a4fbac488": {
     "views": []
    },
    "22c45c75435348c0b9501d493d69fdca": {
     "views": []
    },
    "2635f668a1af4a9db2642e705d7c73ff": {
     "views": []
    },
    "2ad5ddd9347e451b9290e5b4179ab9a2": {
     "views": []
    },
    "2c062b5778024117984822b63b0593d7": {
     "views": []
    },
    "2f5eab2f6fb24192b76a5ffe99195d44": {
     "views": []
    },
    "31632517325046e8b0cb62e4f4ed2480": {
     "views": []
    },
    "3562b97192ed4d42bbab17f77c290f6b": {
     "views": []
    },
    "38a7cc053723492b921cf9f084ed243c": {
     "views": []
    },
    "3b5750b20e1745879ca0f965aad7b614": {
     "views": []
    },
    "3f1cbabbe2694a9dabe3f1c2e09d0ee2": {
     "views": []
    },
    "3fab6a26a70c4238a668a46d4dc88bf6": {
     "views": []
    },
    "3fb3c7a25e954a4888996976fa107737": {
     "views": []
    },
    "415db64fbc574daea8457ab600392f09": {
     "views": []
    },
    "4463de406b4645a4b562fe7917380ff9": {
     "views": []
    },
    "487e5450b5a24507932709f1fa8f59c1": {
     "views": []
    },
    "48aba73013e74e71927f71d42fb44d14": {
     "views": []
    },
    "4a19ad30f77e4fe6a2c84c8b62378a47": {
     "views": []
    },
    "4bc83ff5270d41679d76d26cdded8313": {
     "views": []
    },
    "4bdd9dd5c5c64646a27fa9096851458b": {
     "views": []
    },
    "5014cd42705f45178d5e6eeffd70f119": {
     "views": []
    },
    "5259b340b68e4fdb97fb4eaf9d98d954": {
     "views": []
    },
    "5986ef5b605a42aca10bc5834529ee06": {
     "views": []
    },
    "5c1aa44589a140eb9709734c843abde6": {
     "views": []
    },
    "600cd9ca4f4c46d4ad6fe57df107675a": {
     "views": [
      {
       "cell_index": 7
      }
     ]
    },
    "61fe369ebdd14eaa89de110f6186e6b7": {
     "views": []
    },
    "62ac836017ae47a38f8fde806c5ec9b7": {
     "views": []
    },
    "632ccbfabe91405aa1c5a77c9ea754db": {
     "views": []
    },
    "66175f618ea5472baac618f998d2c06c": {
     "views": []
    },
    "6647a620af034d26abcd327ae02364d4": {
     "views": []
    },
    "6752222d2cba43e18f344a8db7f99d24": {
     "views": []
    },
    "6b684ba1a7c24a35ba2df77016212904": {
     "views": []
    },
    "6cea898f4aca4f1e84601f843e337238": {
     "views": []
    },
    "6f8d1e87fd60462a89d693b2f3b5f007": {
     "views": []
    },
    "74078646a5eb4047b40370a0ab8b6b30": {
     "views": []
    },
    "745b0c79ff3040788ea952fce9c7d607": {
     "views": []
    },
    "757c9b805eb7445bac9a7f141f87e45f": {
     "views": []
    },
    "76ced68e19a742e8976dbfd4e8594a1a": {
     "views": []
    },
    "783bb5e7538d4d9d8315e2698024b353": {
     "views": []
    },
    "794993d66efe4ab29a8d35aad8cfe079": {
     "views": []
    },
    "8375e24bae7541528d7cdc0f379d1d4c": {
     "views": []
    },
    "8554945ec15041a7bf8004dbc3fc5f11": {
     "views": []
    },
    "878a34e26cce4f18bb8232a682ebe964": {
     "views": []
    },
    "8921a75116a549198eb7b7f4a24ab672": {
     "views": []
    },
    "909f4504f0b049bda8b641defa177062": {
     "views": []
    },
    "910b9d32a3fb45ec99da1f9df1add816": {
     "views": []
    },
    "9d15ce601cd34f0699b7a7a0ce1d17dc": {
     "views": []
    },
    "a26638c9fee247b3891aac027a0918cc": {
     "views": []
    },
    "a9d2bf44a3ad447bb3eecde71363c198": {
     "views": []
    },
    "ad366bf4c95f4cdba62d47ba9501efc9": {
     "views": []
    },
    "ad8e1842ec314a94b6ed4b62c4c0a450": {
     "views": []
    },
    "af525094db304d2a812ae1312b00889b": {
     "views": []
    },
    "b0697c4343da491f9a35bf02681dad8f": {
     "views": []
    },
    "b07ff307919e4268bc8bec8379c47a5d": {
     "views": []
    },
    "b0e85c726ca141079333afb27edc63d4": {
     "views": []
    },
    "bdcc1e5df7a8432b9f40d8249a46f90a": {
     "views": []
    },
    "be1065f37fa24e818d31c3bb075947a3": {
     "views": []
    },
    "c296c8df2f734e268c6c1204536e7142": {
     "views": []
    },
    "c4bfd3e447f0426da144b76abc202129": {
     "views": []
    },
    "cced93184d4445218a2b14567579333d": {
     "views": []
    },
    "d5bd2e4d5f85482e9345f3a7a69380d0": {
     "views": []
    },
    "d798fa64e8be4a7d9ec1cbeece3b1be9": {
     "views": []
    },
    "d7aec0d6d05f442b991ab40af944811d": {
     "views": []
    },
    "db469cea2c8e4180bf6890de80329c1d": {
     "views": []
    },
    "e671857510c54634b6f0fa55bf1fa228": {
     "views": []
    },
    "ebf52deafaf64b0c826533dafdf993c0": {
     "views": []
    },
    "ed1e5439da9c41199a7bbbda21b556f8": {
     "views": []
    },
    "f585cf5db5024280af5b567f0e4fd771": {
     "views": []
    },
    "f6ba8f8800af47adabed847063bda8db": {
     "views": []
    },
    "f9bae72f14e44705b5c38a3ddc69fee8": {
     "views": []
    }
   },
   "version": "1.1.2"
  }
 },
 "nbformat": 4,
 "nbformat_minor": 2
}
