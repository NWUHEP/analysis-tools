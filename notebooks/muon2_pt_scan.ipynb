{
 "cells": [
  {
   "cell_type": "markdown",
   "metadata": {},
   "source": [
    "# scanning second muon pt"
   ]
  },
  {
   "cell_type": "code",
   "execution_count": 2,
   "metadata": {
    "code_folding": [],
    "collapsed": false
   },
   "outputs": [
    {
     "name": "stdout",
     "output_type": "stream",
     "text": [
      "/home/naodell/work/CMS/amumu\n"
     ]
    }
   ],
   "source": [
    "#imports\n",
    "%cd '/home/naodell/work/CMS/amumu'\n",
    "%matplotlib notebook\n",
    "\n",
    "import os, sys\n",
    "from timeit import default_timer as timer\n",
    "\n",
    "import numpy as np\n",
    "import pandas as pd\n",
    "import matplotlib.pyplot as plt\n",
    "\n",
    "import nllfitter.plot_tools as pt\n",
    "\n",
    "import matplotlib\n",
    "pt.set_new_tdr()\n",
    "matplotlib.rcParams['figure.figsize'] = (8,8)"
   ]
  },
  {
   "cell_type": "code",
   "execution_count": 12,
   "metadata": {
    "code_folding": [],
    "collapsed": false
   },
   "outputs": [
    {
     "name": "stderr",
     "output_type": "stream",
     "text": [
      "Loading dataframes: 100%|███████████████| 24.0/24.0 [00:06<00:00, 3.85it/s]\n"
     ]
    }
   ],
   "source": [
    "#configuration and data retrieval\n",
    "datasets = [\n",
    "            'ttbar_lep', 'ttbar_semilep', \n",
    "            'zjets_m-50',  'z1jets_m-50', 'z2jets_m-50', \n",
    "            'z3jets_m-50', 'z4jets_m-50', \n",
    "            'zjets_m-10to50', 'z1jets_m-10to50', 'z2jets_m-10to50',\n",
    "            'z3jets_m-10to50', 'z4jets_m-10to50',\n",
    "            't_s', 't_t', 't_tw', 'tbar_s', 'tbar_t', 'tbar_tw',\n",
    "            'ww', 'wz_2l2q', 'wz_3lnu', 'zz_2l2q', 'zz_2l2nu',\n",
    "            'bprime_xb',\n",
    "\n",
    "            ]\n",
    "preselection = '(lepton1_pt > 25 and abs(lepton1_eta) < 2.1 \\\n",
    "                and lepton2_pt > 5 and abs(lepton2_eta) < 2.1 \\\n",
    "                and lepton1_q != lepton2_q \\\n",
    "                and 25 < dilepton_mass < 33) \\\n",
    "                and dilepton_pt_over_m > 2. \\\n",
    "                and ((n_bjets == 1 and n_jets == 0 and n_fwdjets == 1) \\\n",
    "                or (n_bjets >= 1 and n_bjets + n_jets == 2 and n_fwdjets == 0 \\\n",
    "                and met_mag < 40 and four_body_delta_phi > 2.5))'\n",
    "\n",
    "dm_bg = pt.DataManager(input_dir     = 'data/flatuples/mumu_2012',\n",
    "                       dataset_names = datasets,                       \n",
    "                       selection     = 'mumu',\n",
    "                       period        = 2012,\n",
    "                       scale         = 19.8e3,\n",
    "                       cuts          = preselection,\n",
    "                       combine       = True\n",
    "                    )\n"
   ]
  },
  {
   "cell_type": "code",
   "execution_count": 19,
   "metadata": {
    "code_folding": [],
    "collapsed": false
   },
   "outputs": [
    {
     "data": {
      "text/html": [
       "<div>\n",
       "<table border=\"1\" class=\"dataframe\">\n",
       "  <thead>\n",
       "    <tr style=\"text-align: right;\">\n",
       "      <th></th>\n",
       "      <th>Diboson</th>\n",
       "      <th>t</th>\n",
       "      <th>$\\sf t\\bar{t}$</th>\n",
       "      <th>Z+jets</th>\n",
       "      <th>$\\sf B’\\rightarrow Xb$</th>\n",
       "      <th>background</th>\n",
       "    </tr>\n",
       "  </thead>\n",
       "  <tbody>\n",
       "    <tr>\n",
       "      <th>lepton2_pt &gt; 5.00</th>\n",
       "      <td>$1.4 \\pm 0.2$</td>\n",
       "      <td>$6.7 \\pm 1.8$</td>\n",
       "      <td>$71.0 \\pm 1.9$</td>\n",
       "      <td>$72.3 \\pm 6.6$</td>\n",
       "      <td>$69.6 \\pm 1.7$</td>\n",
       "      <td>$151.5 \\pm 7.1$</td>\n",
       "    </tr>\n",
       "    <tr>\n",
       "      <th>lepton2_pt &gt; 7.22</th>\n",
       "      <td>$1.3 \\pm 0.2$</td>\n",
       "      <td>$6.4 \\pm 1.7$</td>\n",
       "      <td>$67.5 \\pm 1.8$</td>\n",
       "      <td>$67.7 \\pm 6.4$</td>\n",
       "      <td>$66.1 \\pm 1.6$</td>\n",
       "      <td>$143.0 \\pm 6.9$</td>\n",
       "    </tr>\n",
       "    <tr>\n",
       "      <th>lepton2_pt &gt; 9.44</th>\n",
       "      <td>$1.2 \\pm 0.2$</td>\n",
       "      <td>$6.4 \\pm 1.7$</td>\n",
       "      <td>$64.4 \\pm 1.8$</td>\n",
       "      <td>$63.6 \\pm 6.3$</td>\n",
       "      <td>$63.1 \\pm 1.6$</td>\n",
       "      <td>$135.6 \\pm 6.7$</td>\n",
       "    </tr>\n",
       "    <tr>\n",
       "      <th>lepton2_pt &gt; 11.67</th>\n",
       "      <td>$1.0 \\pm 0.2$</td>\n",
       "      <td>$6.3 \\pm 1.7$</td>\n",
       "      <td>$61.9 \\pm 1.7$</td>\n",
       "      <td>$59.6 \\pm 6.1$</td>\n",
       "      <td>$59.2 \\pm 1.5$</td>\n",
       "      <td>$128.8 \\pm 6.6$</td>\n",
       "    </tr>\n",
       "    <tr>\n",
       "      <th>lepton2_pt &gt; 13.89</th>\n",
       "      <td>$0.9 \\pm 0.2$</td>\n",
       "      <td>$6.3 \\pm 1.7$</td>\n",
       "      <td>$59.5 \\pm 1.7$</td>\n",
       "      <td>$52.7 \\pm 5.7$</td>\n",
       "      <td>$55.3 \\pm 1.5$</td>\n",
       "      <td>$119.4 \\pm 6.2$</td>\n",
       "    </tr>\n",
       "    <tr>\n",
       "      <th>lepton2_pt &gt; 16.11</th>\n",
       "      <td>$0.8 \\pm 0.2$</td>\n",
       "      <td>$4.9 \\pm 1.5$</td>\n",
       "      <td>$56.7 \\pm 1.7$</td>\n",
       "      <td>$50.5 \\pm 5.6$</td>\n",
       "      <td>$51.3 \\pm 1.4$</td>\n",
       "      <td>$112.9 \\pm 6.0$</td>\n",
       "    </tr>\n",
       "    <tr>\n",
       "      <th>lepton2_pt &gt; 18.33</th>\n",
       "      <td>$0.7 \\pm 0.2$</td>\n",
       "      <td>$4.4 \\pm 1.4$</td>\n",
       "      <td>$52.9 \\pm 1.6$</td>\n",
       "      <td>$46.4 \\pm 5.4$</td>\n",
       "      <td>$47.7 \\pm 1.4$</td>\n",
       "      <td>$104.5 \\pm 5.8$</td>\n",
       "    </tr>\n",
       "    <tr>\n",
       "      <th>lepton2_pt &gt; 20.56</th>\n",
       "      <td>$0.7 \\pm 0.2$</td>\n",
       "      <td>$4.4 \\pm 1.4$</td>\n",
       "      <td>$48.8 \\pm 1.6$</td>\n",
       "      <td>$41.8 \\pm 5.2$</td>\n",
       "      <td>$43.8 \\pm 1.3$</td>\n",
       "      <td>$95.6 \\pm 5.6$</td>\n",
       "    </tr>\n",
       "    <tr>\n",
       "      <th>lepton2_pt &gt; 22.78</th>\n",
       "      <td>$0.6 \\pm 0.2$</td>\n",
       "      <td>$4.4 \\pm 1.4$</td>\n",
       "      <td>$44.2 \\pm 1.5$</td>\n",
       "      <td>$34.5 \\pm 4.8$</td>\n",
       "      <td>$39.8 \\pm 1.2$</td>\n",
       "      <td>$83.7 \\pm 5.2$</td>\n",
       "    </tr>\n",
       "    <tr>\n",
       "      <th>lepton2_pt &gt; 25.00</th>\n",
       "      <td>$0.5 \\pm 0.2$</td>\n",
       "      <td>$4.4 \\pm 1.4$</td>\n",
       "      <td>$39.2 \\pm 1.4$</td>\n",
       "      <td>$30.4 \\pm 4.5$</td>\n",
       "      <td>$35.7 \\pm 1.2$</td>\n",
       "      <td>$74.5 \\pm 4.9$</td>\n",
       "    </tr>\n",
       "  </tbody>\n",
       "</table>\n",
       "</div>"
      ],
      "text/plain": [
       "                          Diboson              t  $\\sf t\\bar{t}$  \\\n",
       "lepton2_pt > 5.00   $1.4 \\pm 0.2$  $6.7 \\pm 1.8$  $71.0 \\pm 1.9$   \n",
       "lepton2_pt > 7.22   $1.3 \\pm 0.2$  $6.4 \\pm 1.7$  $67.5 \\pm 1.8$   \n",
       "lepton2_pt > 9.44   $1.2 \\pm 0.2$  $6.4 \\pm 1.7$  $64.4 \\pm 1.8$   \n",
       "lepton2_pt > 11.67  $1.0 \\pm 0.2$  $6.3 \\pm 1.7$  $61.9 \\pm 1.7$   \n",
       "lepton2_pt > 13.89  $0.9 \\pm 0.2$  $6.3 \\pm 1.7$  $59.5 \\pm 1.7$   \n",
       "lepton2_pt > 16.11  $0.8 \\pm 0.2$  $4.9 \\pm 1.5$  $56.7 \\pm 1.7$   \n",
       "lepton2_pt > 18.33  $0.7 \\pm 0.2$  $4.4 \\pm 1.4$  $52.9 \\pm 1.6$   \n",
       "lepton2_pt > 20.56  $0.7 \\pm 0.2$  $4.4 \\pm 1.4$  $48.8 \\pm 1.6$   \n",
       "lepton2_pt > 22.78  $0.6 \\pm 0.2$  $4.4 \\pm 1.4$  $44.2 \\pm 1.5$   \n",
       "lepton2_pt > 25.00  $0.5 \\pm 0.2$  $4.4 \\pm 1.4$  $39.2 \\pm 1.4$   \n",
       "\n",
       "                            Z+jets $\\sf B’\\rightarrow Xb$       background  \n",
       "lepton2_pt > 5.00   $72.3 \\pm 6.6$         $69.6 \\pm 1.7$  $151.5 \\pm 7.1$  \n",
       "lepton2_pt > 7.22   $67.7 \\pm 6.4$         $66.1 \\pm 1.6$  $143.0 \\pm 6.9$  \n",
       "lepton2_pt > 9.44   $63.6 \\pm 6.3$         $63.1 \\pm 1.6$  $135.6 \\pm 6.7$  \n",
       "lepton2_pt > 11.67  $59.6 \\pm 6.1$         $59.2 \\pm 1.5$  $128.8 \\pm 6.6$  \n",
       "lepton2_pt > 13.89  $52.7 \\pm 5.7$         $55.3 \\pm 1.5$  $119.4 \\pm 6.2$  \n",
       "lepton2_pt > 16.11  $50.5 \\pm 5.6$         $51.3 \\pm 1.4$  $112.9 \\pm 6.0$  \n",
       "lepton2_pt > 18.33  $46.4 \\pm 5.4$         $47.7 \\pm 1.4$  $104.5 \\pm 5.8$  \n",
       "lepton2_pt > 20.56  $41.8 \\pm 5.2$         $43.8 \\pm 1.3$   $95.6 \\pm 5.6$  \n",
       "lepton2_pt > 22.78  $34.5 \\pm 4.8$         $39.8 \\pm 1.2$   $83.7 \\pm 5.2$  \n",
       "lepton2_pt > 25.00  $30.4 \\pm 4.5$         $35.7 \\pm 1.2$   $74.5 \\pm 4.9$  "
      ]
     },
     "execution_count": 19,
     "metadata": {},
     "output_type": "execute_result"
    }
   ],
   "source": [
    "#scan over pt values of the second muon\n",
    "tables = []\n",
    "for x in np.linspace(5., 25., 10):\n",
    "    cut = 'lepton2_pt > {0:.2f}'.format(x)\n",
    "    tables.append(dm_bg.print_yields(['diboson', 't', 'ttbar', 'zjets', 'bprime_xb'], \n",
    "                                     exclude    = ['bprime_xb'],\n",
    "                                     conditions = [cut], \n",
    "                                     do_string  = True,\n",
    "                                     mc_scale   = True\n",
    "                                    )\n",
    "                                    )\n",
    "                  \n",
    "table = pd.concat(tables, axis=1)\n",
    "# table.columns = ['raw', 'scaled']\n",
    "# table['scaling'] = table.raw/table.scaled\n",
    "table.transpose()"
   ]
  }
 ],
 "metadata": {
  "hide_input": false,
  "kernelspec": {
   "display_name": "Python 2",
   "language": "python",
   "name": "python2"
  },
  "language_info": {
   "codemirror_mode": {
    "name": "ipython",
    "version": 2
   },
   "file_extension": ".py",
   "mimetype": "text/x-python",
   "name": "python",
   "nbconvert_exporter": "python",
   "pygments_lexer": "ipython2",
   "version": "2.7.12"
  },
  "latex_envs": {
   "bibliofile": "biblio.bib",
   "cite_by": "apalike",
   "current_citInitial": 1,
   "eqLabelWithNumbers": true,
   "eqNumInitial": 0
  },
  "toc": {
   "nav_menu": {
    "height": "141px",
    "width": "252px"
   },
   "navigate_menu": true,
   "number_sections": true,
   "sideBar": true,
   "threshold": 4,
   "toc_cell": false,
   "toc_section_display": "block",
   "toc_window_display": false
  },
  "widgets": {
   "state": {},
   "version": "1.1.2"
  }
 },
 "nbformat": 4,
 "nbformat_minor": 0
}
