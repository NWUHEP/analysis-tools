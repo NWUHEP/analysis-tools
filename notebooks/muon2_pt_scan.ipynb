{
 "cells": [
  {
   "cell_type": "markdown",
   "metadata": {},
   "source": [
    "# scanning second muon pt"
   ]
  },
  {
   "cell_type": "code",
   "execution_count": 2,
   "metadata": {
    "code_folding": [],
    "collapsed": false
   },
   "outputs": [
    {
     "name": "stdout",
     "output_type": "stream",
     "text": [
      "/home/naodell/work/CMS/amumu\n"
     ]
    }
   ],
   "source": [
    "#imports\n",
    "%cd '/home/naodell/work/CMS/amumu'\n",
    "%matplotlib notebook\n",
    "\n",
    "import os, sys\n",
    "from timeit import default_timer as timer\n",
    "\n",
    "import numpy as np\n",
    "import pandas as pd\n",
    "import matplotlib.pyplot as plt\n",
    "\n",
    "import nllfitter.plot_tools as pt\n",
    "\n",
    "import matplotlib\n",
    "pt.set_new_tdr()\n",
    "matplotlib.rcParams['figure.figsize'] = (8,8)"
   ]
  },
  {
   "cell_type": "code",
   "execution_count": 8,
   "metadata": {
    "code_folding": [],
    "collapsed": false
   },
   "outputs": [
    {
     "name": "stderr",
     "output_type": "stream",
     "text": [
      "Loading dataframes: 100%|███████████████| 24.0/24.0 [00:06<00:00, 3.85it/s]\n"
     ]
    }
   ],
   "source": [
    "#configuration and data retrieval\n",
    "datasets = [\n",
    "            'ttbar_lep', 'ttbar_semilep', \n",
    "            'zjets_m-50',  'z1jets_m-50', 'z2jets_m-50', \n",
    "            'z3jets_m-50', 'z4jets_m-50', \n",
    "            'zjets_m-10to50', 'z1jets_m-10to50', 'z2jets_m-10to50',\n",
    "            'z3jets_m-10to50', 'z4jets_m-10to50',\n",
    "            't_s', 't_t', 't_tw', 'tbar_s', 'tbar_t', 'tbar_tw',\n",
    "            'ww', 'wz_2l2q', 'wz_3lnu', 'zz_2l2q', 'zz_2l2nu',\n",
    "            'bprime_xb',\n",
    "\n",
    "            ]\n",
    "preselection = '(lepton1_pt > 25 and abs(lepton1_eta) < 2.1 \\\n",
    "                and lepton2_pt > 5 and abs(lepton2_eta) < 2.1 \\\n",
    "                and lepton1_q != lepton2_q \\\n",
    "                and 25 < dilepton_mass < 33) \\\n",
    "                and dilepton_pt_over_m > 2.'\n",
    "\n",
    "cut_1b1f    =  'n_bjets == 1 and n_jets == 0 and n_fwdjets == 1'\n",
    "cut_1b1c    =  'n_bjets >= 1 and n_bjets + n_jets == 2 and n_fwdjets == 0 \\\n",
    "                and met_mag < 40 and four_body_delta_phi > 2.5'\n",
    "\n",
    "dm_bg = pt.DataManager(input_dir     = 'data/flatuples/mumu_2012',\n",
    "                       dataset_names = datasets,                       \n",
    "                       selection     = 'mumu',\n",
    "                       period        = 2012,\n",
    "                       scale         = 19.8e3,\n",
    "                       cuts          = preselection + 'and ' + cut_1b1f,\n",
    "                       combine       = True\n",
    "                    )\n"
   ]
  },
  {
   "cell_type": "code",
   "execution_count": 9,
   "metadata": {
    "code_folding": [],
    "collapsed": false
   },
   "outputs": [
    {
     "data": {
      "text/html": [
       "<div>\n",
       "<table border=\"1\" class=\"dataframe\">\n",
       "  <thead>\n",
       "    <tr style=\"text-align: right;\">\n",
       "      <th></th>\n",
       "      <th>Diboson</th>\n",
       "      <th>t</th>\n",
       "      <th>$\\sf t\\bar{t}$</th>\n",
       "      <th>Z+jets</th>\n",
       "      <th>$\\sf B’\\rightarrow Xb$</th>\n",
       "      <th>background</th>\n",
       "    </tr>\n",
       "  </thead>\n",
       "  <tbody>\n",
       "    <tr>\n",
       "      <th>lepton2_pt &gt; 5.00</th>\n",
       "      <td>$0.4 \\pm 0.2$</td>\n",
       "      <td>$2.6 \\pm 1.1$</td>\n",
       "      <td>$21.3 \\pm 1.0$</td>\n",
       "      <td>$14.0 \\pm 3.2$</td>\n",
       "      <td>$32.8 \\pm 1.1$</td>\n",
       "      <td>$38.4 \\pm 3.5$</td>\n",
       "    </tr>\n",
       "    <tr>\n",
       "      <th>lepton2_pt &gt; 7.22</th>\n",
       "      <td>$0.4 \\pm 0.2$</td>\n",
       "      <td>$2.6 \\pm 1.1$</td>\n",
       "      <td>$20.4 \\pm 1.0$</td>\n",
       "      <td>$14.0 \\pm 3.2$</td>\n",
       "      <td>$30.8 \\pm 1.1$</td>\n",
       "      <td>$37.4 \\pm 3.5$</td>\n",
       "    </tr>\n",
       "    <tr>\n",
       "      <th>lepton2_pt &gt; 9.44</th>\n",
       "      <td>$0.4 \\pm 0.2$</td>\n",
       "      <td>$2.6 \\pm 1.1$</td>\n",
       "      <td>$19.7 \\pm 1.0$</td>\n",
       "      <td>$13.3 \\pm 3.1$</td>\n",
       "      <td>$29.2 \\pm 1.1$</td>\n",
       "      <td>$35.9 \\pm 3.4$</td>\n",
       "    </tr>\n",
       "    <tr>\n",
       "      <th>lepton2_pt &gt; 11.67</th>\n",
       "      <td>$0.3 \\pm 0.1$</td>\n",
       "      <td>$2.4 \\pm 1.1$</td>\n",
       "      <td>$18.5 \\pm 0.9$</td>\n",
       "      <td>$12.6 \\pm 3.1$</td>\n",
       "      <td>$27.3 \\pm 1.0$</td>\n",
       "      <td>$33.9 \\pm 3.4$</td>\n",
       "    </tr>\n",
       "    <tr>\n",
       "      <th>lepton2_pt &gt; 13.89</th>\n",
       "      <td>$0.3 \\pm 0.1$</td>\n",
       "      <td>$2.4 \\pm 1.1$</td>\n",
       "      <td>$17.7 \\pm 0.9$</td>\n",
       "      <td>$11.4 \\pm 2.9$</td>\n",
       "      <td>$25.4 \\pm 1.0$</td>\n",
       "      <td>$31.8 \\pm 3.3$</td>\n",
       "    </tr>\n",
       "    <tr>\n",
       "      <th>lepton2_pt &gt; 16.11</th>\n",
       "      <td>$0.3 \\pm 0.1$</td>\n",
       "      <td>$1.5 \\pm 0.8$</td>\n",
       "      <td>$16.3 \\pm 0.9$</td>\n",
       "      <td>$10.8 \\pm 2.9$</td>\n",
       "      <td>$23.2 \\pm 0.9$</td>\n",
       "      <td>$28.8 \\pm 3.1$</td>\n",
       "    </tr>\n",
       "    <tr>\n",
       "      <th>lepton2_pt &gt; 18.33</th>\n",
       "      <td>$0.3 \\pm 0.1$</td>\n",
       "      <td>$1.5 \\pm 0.8$</td>\n",
       "      <td>$14.6 \\pm 0.8$</td>\n",
       "      <td>$10.0 \\pm 2.8$</td>\n",
       "      <td>$21.6 \\pm 0.9$</td>\n",
       "      <td>$26.3 \\pm 3.0$</td>\n",
       "    </tr>\n",
       "    <tr>\n",
       "      <th>lepton2_pt &gt; 20.56</th>\n",
       "      <td>$0.3 \\pm 0.1$</td>\n",
       "      <td>$1.5 \\pm 0.8$</td>\n",
       "      <td>$13.2 \\pm 0.8$</td>\n",
       "      <td>$10.0 \\pm 2.8$</td>\n",
       "      <td>$19.7 \\pm 0.9$</td>\n",
       "      <td>$24.9 \\pm 3.0$</td>\n",
       "    </tr>\n",
       "    <tr>\n",
       "      <th>lepton2_pt &gt; 22.78</th>\n",
       "      <td>$0.2 \\pm 0.1$</td>\n",
       "      <td>$1.5 \\pm 0.8$</td>\n",
       "      <td>$11.8 \\pm 0.8$</td>\n",
       "      <td>$8.1 \\pm 2.5$</td>\n",
       "      <td>$17.9 \\pm 0.8$</td>\n",
       "      <td>$21.6 \\pm 2.8$</td>\n",
       "    </tr>\n",
       "    <tr>\n",
       "      <th>lepton2_pt &gt; 25.00</th>\n",
       "      <td>$0.2 \\pm 0.1$</td>\n",
       "      <td>$1.5 \\pm 0.8$</td>\n",
       "      <td>$9.8 \\pm 0.7$</td>\n",
       "      <td>$8.1 \\pm 2.5$</td>\n",
       "      <td>$15.9 \\pm 0.8$</td>\n",
       "      <td>$19.5 \\pm 2.7$</td>\n",
       "    </tr>\n",
       "  </tbody>\n",
       "</table>\n",
       "</div>"
      ],
      "text/plain": [
       "                          Diboson              t  $\\sf t\\bar{t}$  \\\n",
       "lepton2_pt > 5.00   $0.4 \\pm 0.2$  $2.6 \\pm 1.1$  $21.3 \\pm 1.0$   \n",
       "lepton2_pt > 7.22   $0.4 \\pm 0.2$  $2.6 \\pm 1.1$  $20.4 \\pm 1.0$   \n",
       "lepton2_pt > 9.44   $0.4 \\pm 0.2$  $2.6 \\pm 1.1$  $19.7 \\pm 1.0$   \n",
       "lepton2_pt > 11.67  $0.3 \\pm 0.1$  $2.4 \\pm 1.1$  $18.5 \\pm 0.9$   \n",
       "lepton2_pt > 13.89  $0.3 \\pm 0.1$  $2.4 \\pm 1.1$  $17.7 \\pm 0.9$   \n",
       "lepton2_pt > 16.11  $0.3 \\pm 0.1$  $1.5 \\pm 0.8$  $16.3 \\pm 0.9$   \n",
       "lepton2_pt > 18.33  $0.3 \\pm 0.1$  $1.5 \\pm 0.8$  $14.6 \\pm 0.8$   \n",
       "lepton2_pt > 20.56  $0.3 \\pm 0.1$  $1.5 \\pm 0.8$  $13.2 \\pm 0.8$   \n",
       "lepton2_pt > 22.78  $0.2 \\pm 0.1$  $1.5 \\pm 0.8$  $11.8 \\pm 0.8$   \n",
       "lepton2_pt > 25.00  $0.2 \\pm 0.1$  $1.5 \\pm 0.8$   $9.8 \\pm 0.7$   \n",
       "\n",
       "                            Z+jets $\\sf B’\\rightarrow Xb$      background  \n",
       "lepton2_pt > 5.00   $14.0 \\pm 3.2$         $32.8 \\pm 1.1$  $38.4 \\pm 3.5$  \n",
       "lepton2_pt > 7.22   $14.0 \\pm 3.2$         $30.8 \\pm 1.1$  $37.4 \\pm 3.5$  \n",
       "lepton2_pt > 9.44   $13.3 \\pm 3.1$         $29.2 \\pm 1.1$  $35.9 \\pm 3.4$  \n",
       "lepton2_pt > 11.67  $12.6 \\pm 3.1$         $27.3 \\pm 1.0$  $33.9 \\pm 3.4$  \n",
       "lepton2_pt > 13.89  $11.4 \\pm 2.9$         $25.4 \\pm 1.0$  $31.8 \\pm 3.3$  \n",
       "lepton2_pt > 16.11  $10.8 \\pm 2.9$         $23.2 \\pm 0.9$  $28.8 \\pm 3.1$  \n",
       "lepton2_pt > 18.33  $10.0 \\pm 2.8$         $21.6 \\pm 0.9$  $26.3 \\pm 3.0$  \n",
       "lepton2_pt > 20.56  $10.0 \\pm 2.8$         $19.7 \\pm 0.9$  $24.9 \\pm 3.0$  \n",
       "lepton2_pt > 22.78   $8.1 \\pm 2.5$         $17.9 \\pm 0.8$  $21.6 \\pm 2.8$  \n",
       "lepton2_pt > 25.00   $8.1 \\pm 2.5$         $15.9 \\pm 0.8$  $19.5 \\pm 2.7$  "
      ]
     },
     "execution_count": 9,
     "metadata": {},
     "output_type": "execute_result"
    }
   ],
   "source": [
    "#scan over pt values of the second muon\n",
    "tables = []\n",
    "for x in np.linspace(5., 25., 10):\n",
    "    cut = 'lepton2_pt > {0:.2f}'.format(x)\n",
    "    tables.append(dm_bg.print_yields(['diboson', 't', 'ttbar', 'zjets', 'bprime_xb'], \n",
    "                                     exclude    = ['bprime_xb'],\n",
    "                                     conditions = [cut], \n",
    "                                     do_string  = True,\n",
    "                                     mc_scale   = True\n",
    "                                    )\n",
    "                                    )\n",
    "\n",
    "# table.columns = ['raw', 'scaled']\n",
    "# table['scaling'] = table.raw/table.scaled\n",
    "table = pd.concat(tables, axis=1)\n",
    "table.transpose()"
   ]
  }
 ],
 "metadata": {
  "hide_input": false,
  "kernelspec": {
   "display_name": "Python 2",
   "language": "python",
   "name": "python2"
  },
  "language_info": {
   "codemirror_mode": {
    "name": "ipython",
    "version": 2
   },
   "file_extension": ".py",
   "mimetype": "text/x-python",
   "name": "python",
   "nbconvert_exporter": "python",
   "pygments_lexer": "ipython2",
   "version": "2.7.12"
  },
  "latex_envs": {
   "bibliofile": "biblio.bib",
   "cite_by": "apalike",
   "current_citInitial": 1,
   "eqLabelWithNumbers": true,
   "eqNumInitial": 0
  },
  "toc": {
   "nav_menu": {
    "height": "141px",
    "width": "252px"
   },
   "navigate_menu": true,
   "number_sections": true,
   "sideBar": true,
   "threshold": 4,
   "toc_cell": false,
   "toc_section_display": "block",
   "toc_window_display": false
  },
  "widgets": {
   "state": {},
   "version": "1.1.2"
  }
 },
 "nbformat": 4,
 "nbformat_minor": 0
}
